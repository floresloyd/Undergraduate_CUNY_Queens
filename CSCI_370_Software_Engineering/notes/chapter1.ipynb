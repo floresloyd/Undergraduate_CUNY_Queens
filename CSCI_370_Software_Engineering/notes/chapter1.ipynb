{
 "cells": [
  {
   "cell_type": "markdown",
   "metadata": {},
   "source": [
    "# Lecture 1 - 1/25/2024 (Thursday)"
   ]
  },
  {
   "cell_type": "markdown",
   "metadata": {},
   "source": [
    "## Summary\n",
    "1. What is a SWE\n",
    "2. What makes software good?"
   ]
  },
  {
   "cell_type": "markdown",
   "metadata": {},
   "source": [
    "# What is a SWE?"
   ]
  },
  {
   "cell_type": "markdown",
   "metadata": {},
   "source": [
    "`Software engineer` - Manages all software (not hardware) aspects of a project. \n",
    "\n",
    "`Steps in building software`\n",
    "1. `Feasibility`\n",
    "    - a : Can the client afford\n",
    "    - b : do i have the skills to do it? \n",
    "2. `Requirement/Specification` - Know what you want to do\n",
    "3. `Design`\n",
    "4. `Develop` / Implementation / Code \n",
    "5. `Testing` / Quality Assurance / Validation / Verification\n",
    "6. `Deployment` / Release\n",
    "7. `Documentation` (\"But not too much, because code changes fast\" - Robert Martin)\n",
    "8. `Maintenance` / Software evolution : New version of software, features, bug fixes\n"
   ]
  },
  {
   "cell_type": "markdown",
   "metadata": {},
   "source": [
    "## What makes software good?"
   ]
  },
  {
   "cell_type": "markdown",
   "metadata": {},
   "source": [
    "1. `Usability` - Intiutive for users to use (UI/UX)\n",
    "2. `Reliable`  - Little downtime, few defects\n",
    "3. `Functional` - Does what the client needs\n",
    "4. `Scalability` - Ability to grow with demand \n",
    "5. `Maintanable` - Easy to make changes "
   ]
  },
  {
   "cell_type": "markdown",
   "metadata": {},
   "source": [
    "## OOP CONCEPTS"
   ]
  },
  {
   "cell_type": "markdown",
   "metadata": {},
   "source": [
    "- `Abstraction` - The user doesn't need to know how a function works they just need to know how to use it\n",
    "- `Polymorphism` - A function responds differently to the same function call. Ex : print()\n",
    "- `Inheritance` - Objects can inherit attributes from where they were implemented from \n",
    "- `Encapsulation` - Limiting of direct access to some of that data, such as an object's components/Attributes Can only set through getters and setters."
   ]
  }
 ],
 "metadata": {
  "language_info": {
   "name": "python"
  }
 },
 "nbformat": 4,
 "nbformat_minor": 2
}
