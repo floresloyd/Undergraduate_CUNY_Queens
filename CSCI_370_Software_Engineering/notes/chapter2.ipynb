{
 "cells": [
  {
   "cell_type": "markdown",
   "metadata": {},
   "source": [
    "# Chapter 2 - Software Process Models"
   ]
  },
  {
   "cell_type": "markdown",
   "metadata": {},
   "source": [
    "- `Waterfall` process – similar to architect\n",
    "- `Incremental` process – develop in chunks (increments)\n",
    "- `Re-Use`  Don’t write when you can pay or find existing code\n"
   ]
  },
  {
   "cell_type": "markdown",
   "metadata": {},
   "source": [
    "## Waterfall method\n",
    "`Steps in building software`\n",
    "1. `Feasibility`\n",
    "    - a : Can the client afford\n",
    "    - b : do i have the skills to do it? \n",
    "2. `Requirement/Specification` - Know what you want to do\n",
    "3. `Design`\n",
    "4. `Develop` / Implementation / Code \n",
    "5. `Testing` / Quality Assurance / Validation / Verification\n",
    "6. `Deployment` / Release\n",
    "7. `Documentation` (\"But not too much, because code changes fast\" - Robert Martin)\n",
    "8. `Maintenance` / Software evolution : New version of software, features, bug fixes "
   ]
  },
  {
   "cell_type": "markdown",
   "metadata": {},
   "source": [
    "# Benefits of Waterfall\n",
    "- `Contractually` - Client knows what they will receive their money\n",
    "- Large projects with many groups cannot be omdified by only one team w/out affecting everything else\n",
    "\n",
    "### Con \n",
    "- Difficult to plan a whole project before actually doing work\n",
    "- DIfficult to estimate how long project will take\n",
    "- Modifications are difficult\n",
    "- Difficult to Schedule"
   ]
  },
  {
   "cell_type": "markdown",
   "metadata": {},
   "source": [
    "# Incremental\n",
    "1. Easy to modify\n",
    "2. Easy to estimate project development time "
   ]
  }
 ],
 "metadata": {
  "kernelspec": {
   "display_name": "Python 3",
   "language": "python",
   "name": "python3"
  },
  "language_info": {
   "codemirror_mode": {
    "name": "ipython",
    "version": 3
   },
   "file_extension": ".py",
   "mimetype": "text/x-python",
   "name": "python",
   "nbconvert_exporter": "python",
   "pygments_lexer": "ipython3",
   "version": "3.11.1"
  }
 },
 "nbformat": 4,
 "nbformat_minor": 2
}
