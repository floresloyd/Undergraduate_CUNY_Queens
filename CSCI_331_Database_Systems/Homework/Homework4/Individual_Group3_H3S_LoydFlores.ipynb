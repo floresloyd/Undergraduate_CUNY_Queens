{
    "metadata": {
        "kernelspec": {
            "name": "SQL",
            "display_name": "SQL",
            "language": "sql"
        },
        "language_info": {
            "name": "sql",
            "version": ""
        }
    },
    "nbformat_minor": 2,
    "nbformat": 4,
    "cells": [
        {
            "cell_type": "markdown",
            "source": [
                "<span style=\"color: rgb(0, 128, 0);\">-- 1</span>\n",
                "\n",
                "<span style=\"color: rgb(0, 128, 0);\">-- Explain the difference between the UNION ALL and UNION operators</span>\n",
                "\n",
                "<span style=\"color: rgb(0, 128, 0);\">-- In what cases are they equivalent?</span>\n",
                "\n",
                "<span style=\"color: rgb(0, 128, 0);\">-- When they are equivalent, which one should you use?</span>"
            ],
            "metadata": {
                "azdata_cell_guid": "b11d0817-8029-4f52-bd10-9cb760ea6b0b"
            },
            "attachments": {}
        },
        {
            "cell_type": "markdown",
            "source": [
                "<span style=\"font-size: 16px; white-space: pre-wrap;\">The UNION ALL operator combines two query result sets without removing duplicates, while the UNION operator removes duplicates from the result. When duplicates are not possible, they have the same meaning, such as when combining disjoint sets. To avoid unnecessary performance overhead when duplicates are not present, it's best to use UNION ALL by default.</span>"
            ],
            "metadata": {
                "azdata_cell_guid": "1a77125b-eaff-43cd-afd1-1b6bddaca698"
            },
            "attachments": {}
        },
        {
            "cell_type": "markdown",
            "source": [
                "<span style=\"color: #008000;\">-- 2</span>\n",
                "\n",
                "<span style=\"color: #008000;\">-- Write a query that generates a virtual auxiliary table of 10 numbers</span>\n",
                "\n",
                "<span style=\"color: #008000;\">-- in the range 1 through 10</span>\n",
                "\n",
                "<span style=\"color: #008000;\">-- Tables involved: no table</span>"
            ],
            "metadata": {
                "azdata_cell_guid": "5b5093be-63c1-43d4-b771-57ec1901f2b3"
            },
            "attachments": {}
        },
        {
            "cell_type": "code",
            "source": [
                "Use Northwinds2022TSQLV7\r\n",
                "\r\n",
                "SELECT 1 as n \r\n",
                "UNION ALL SELECT 2\r\n",
                "UNION ALL SELECT 3\r\n",
                "UNION ALL SELECT 4  \r\n",
                "UNION ALL SELECT 5 \r\n",
                "UNION ALL SELECT 6 \r\n",
                "UNION ALL SELECT 7 \r\n",
                "UNION ALL SELECT 8 \r\n",
                "UNION ALL SELECT 9\r\n",
                "UNION ALL SELECT 10"
            ],
            "metadata": {
                "azdata_cell_guid": "3e840353-5682-47ff-bba4-6566a069fb98",
                "language": "sql"
            },
            "outputs": [
                {
                    "output_type": "display_data",
                    "data": {
                        "text/html": "(10 rows affected)"
                    },
                    "metadata": {}
                },
                {
                    "output_type": "display_data",
                    "data": {
                        "text/html": "Total execution time: 00:00:00.008"
                    },
                    "metadata": {}
                },
                {
                    "output_type": "execute_result",
                    "metadata": {},
                    "execution_count": 1,
                    "data": {
                        "application/vnd.dataresource+json": {
                            "schema": {
                                "fields": [
                                    {
                                        "name": "n"
                                    }
                                ]
                            },
                            "data": [
                                {
                                    "n": "1"
                                },
                                {
                                    "n": "2"
                                },
                                {
                                    "n": "3"
                                },
                                {
                                    "n": "4"
                                },
                                {
                                    "n": "5"
                                },
                                {
                                    "n": "6"
                                },
                                {
                                    "n": "7"
                                },
                                {
                                    "n": "8"
                                },
                                {
                                    "n": "9"
                                },
                                {
                                    "n": "10"
                                }
                            ]
                        },
                        "text/html": [
                            "<table>",
                            "<tr><th>n</th></tr>",
                            "<tr><td>1</td></tr>",
                            "<tr><td>2</td></tr>",
                            "<tr><td>3</td></tr>",
                            "<tr><td>4</td></tr>",
                            "<tr><td>5</td></tr>",
                            "<tr><td>6</td></tr>",
                            "<tr><td>7</td></tr>",
                            "<tr><td>8</td></tr>",
                            "<tr><td>9</td></tr>",
                            "<tr><td>10</td></tr>",
                            "</table>"
                        ]
                    }
                }
            ],
            "execution_count": 1
        },
        {
            "cell_type": "markdown",
            "source": [
                "```\n",
                "-- 3\n",
                "-- Write a query that returns customer and employee pairs \n",
                "-- that had order activity in January 2016 but not in February 2016\n",
                "-- Tables involved: TSQLV4 database, Orders table\n",
                "```"
            ],
            "metadata": {
                "language": "sql",
                "azdata_cell_guid": "0c9899fb-8733-4f90-8f76-6afa38c3ca69"
            },
            "attachments": {}
        },
        {
            "cell_type": "code",
            "source": [
                "USE Northwinds2022TSQLV7\r\n",
                "\r\n",
                "SELECT CustomerId, EmployeeId\r\n",
                "FROM Sales.[Order]\r\n",
                "WHERE orderdate >= '20160101' AND ORDERDATE < '20160201'\r\n",
                "\r\n",
                "EXCEPT \r\n",
                "\r\n",
                "SELECT CustomerId, EmployeeId \r\n",
                "FROM Sales.[Order]\r\n",
                "WHERE orderdate >= '20160201' AND orderdate < '20160301'"
            ],
            "metadata": {
                "language": "sql",
                "azdata_cell_guid": "980dce54-b005-47b2-8a1a-71e266e689a3"
            },
            "outputs": [
                {
                    "output_type": "display_data",
                    "data": {
                        "text/html": "(50 rows affected)"
                    },
                    "metadata": {}
                },
                {
                    "output_type": "display_data",
                    "data": {
                        "text/html": "Total execution time: 00:00:00.020"
                    },
                    "metadata": {}
                },
                {
                    "output_type": "execute_result",
                    "metadata": {},
                    "execution_count": 2,
                    "data": {
                        "application/vnd.dataresource+json": {
                            "schema": {
                                "fields": [
                                    {
                                        "name": "CustomerId"
                                    },
                                    {
                                        "name": "EmployeeId"
                                    }
                                ]
                            },
                            "data": [
                                {
                                    "CustomerId": "1",
                                    "EmployeeId": "1"
                                },
                                {
                                    "CustomerId": "3",
                                    "EmployeeId": "3"
                                },
                                {
                                    "CustomerId": "5",
                                    "EmployeeId": "8"
                                },
                                {
                                    "CustomerId": "5",
                                    "EmployeeId": "9"
                                },
                                {
                                    "CustomerId": "6",
                                    "EmployeeId": "9"
                                },
                                {
                                    "CustomerId": "7",
                                    "EmployeeId": "6"
                                },
                                {
                                    "CustomerId": "9",
                                    "EmployeeId": "1"
                                },
                                {
                                    "CustomerId": "12",
                                    "EmployeeId": "2"
                                },
                                {
                                    "CustomerId": "16",
                                    "EmployeeId": "7"
                                },
                                {
                                    "CustomerId": "17",
                                    "EmployeeId": "1"
                                },
                                {
                                    "CustomerId": "20",
                                    "EmployeeId": "7"
                                },
                                {
                                    "CustomerId": "24",
                                    "EmployeeId": "8"
                                },
                                {
                                    "CustomerId": "25",
                                    "EmployeeId": "1"
                                },
                                {
                                    "CustomerId": "26",
                                    "EmployeeId": "3"
                                },
                                {
                                    "CustomerId": "32",
                                    "EmployeeId": "4"
                                },
                                {
                                    "CustomerId": "38",
                                    "EmployeeId": "9"
                                },
                                {
                                    "CustomerId": "39",
                                    "EmployeeId": "3"
                                },
                                {
                                    "CustomerId": "40",
                                    "EmployeeId": "2"
                                },
                                {
                                    "CustomerId": "41",
                                    "EmployeeId": "2"
                                },
                                {
                                    "CustomerId": "42",
                                    "EmployeeId": "2"
                                },
                                {
                                    "CustomerId": "44",
                                    "EmployeeId": "8"
                                },
                                {
                                    "CustomerId": "47",
                                    "EmployeeId": "3"
                                },
                                {
                                    "CustomerId": "47",
                                    "EmployeeId": "4"
                                },
                                {
                                    "CustomerId": "47",
                                    "EmployeeId": "8"
                                },
                                {
                                    "CustomerId": "49",
                                    "EmployeeId": "7"
                                },
                                {
                                    "CustomerId": "55",
                                    "EmployeeId": "2"
                                },
                                {
                                    "CustomerId": "55",
                                    "EmployeeId": "3"
                                },
                                {
                                    "CustomerId": "56",
                                    "EmployeeId": "6"
                                },
                                {
                                    "CustomerId": "59",
                                    "EmployeeId": "8"
                                },
                                {
                                    "CustomerId": "63",
                                    "EmployeeId": "8"
                                },
                                {
                                    "CustomerId": "64",
                                    "EmployeeId": "9"
                                },
                                {
                                    "CustomerId": "65",
                                    "EmployeeId": "3"
                                },
                                {
                                    "CustomerId": "65",
                                    "EmployeeId": "8"
                                },
                                {
                                    "CustomerId": "66",
                                    "EmployeeId": "5"
                                },
                                {
                                    "CustomerId": "67",
                                    "EmployeeId": "5"
                                },
                                {
                                    "CustomerId": "70",
                                    "EmployeeId": "3"
                                },
                                {
                                    "CustomerId": "71",
                                    "EmployeeId": "2"
                                },
                                {
                                    "CustomerId": "75",
                                    "EmployeeId": "1"
                                },
                                {
                                    "CustomerId": "76",
                                    "EmployeeId": "2"
                                },
                                {
                                    "CustomerId": "76",
                                    "EmployeeId": "5"
                                },
                                {
                                    "CustomerId": "80",
                                    "EmployeeId": "1"
                                },
                                {
                                    "CustomerId": "81",
                                    "EmployeeId": "1"
                                },
                                {
                                    "CustomerId": "81",
                                    "EmployeeId": "3"
                                },
                                {
                                    "CustomerId": "81",
                                    "EmployeeId": "4"
                                },
                                {
                                    "CustomerId": "82",
                                    "EmployeeId": "6"
                                },
                                {
                                    "CustomerId": "84",
                                    "EmployeeId": "1"
                                },
                                {
                                    "CustomerId": "84",
                                    "EmployeeId": "3"
                                },
                                {
                                    "CustomerId": "84",
                                    "EmployeeId": "4"
                                },
                                {
                                    "CustomerId": "88",
                                    "EmployeeId": "7"
                                },
                                {
                                    "CustomerId": "89",
                                    "EmployeeId": "4"
                                }
                            ]
                        },
                        "text/html": [
                            "<table>",
                            "<tr><th>CustomerId</th><th>EmployeeId</th></tr>",
                            "<tr><td>1</td><td>1</td></tr>",
                            "<tr><td>3</td><td>3</td></tr>",
                            "<tr><td>5</td><td>8</td></tr>",
                            "<tr><td>5</td><td>9</td></tr>",
                            "<tr><td>6</td><td>9</td></tr>",
                            "<tr><td>7</td><td>6</td></tr>",
                            "<tr><td>9</td><td>1</td></tr>",
                            "<tr><td>12</td><td>2</td></tr>",
                            "<tr><td>16</td><td>7</td></tr>",
                            "<tr><td>17</td><td>1</td></tr>",
                            "<tr><td>20</td><td>7</td></tr>",
                            "<tr><td>24</td><td>8</td></tr>",
                            "<tr><td>25</td><td>1</td></tr>",
                            "<tr><td>26</td><td>3</td></tr>",
                            "<tr><td>32</td><td>4</td></tr>",
                            "<tr><td>38</td><td>9</td></tr>",
                            "<tr><td>39</td><td>3</td></tr>",
                            "<tr><td>40</td><td>2</td></tr>",
                            "<tr><td>41</td><td>2</td></tr>",
                            "<tr><td>42</td><td>2</td></tr>",
                            "<tr><td>44</td><td>8</td></tr>",
                            "<tr><td>47</td><td>3</td></tr>",
                            "<tr><td>47</td><td>4</td></tr>",
                            "<tr><td>47</td><td>8</td></tr>",
                            "<tr><td>49</td><td>7</td></tr>",
                            "<tr><td>55</td><td>2</td></tr>",
                            "<tr><td>55</td><td>3</td></tr>",
                            "<tr><td>56</td><td>6</td></tr>",
                            "<tr><td>59</td><td>8</td></tr>",
                            "<tr><td>63</td><td>8</td></tr>",
                            "<tr><td>64</td><td>9</td></tr>",
                            "<tr><td>65</td><td>3</td></tr>",
                            "<tr><td>65</td><td>8</td></tr>",
                            "<tr><td>66</td><td>5</td></tr>",
                            "<tr><td>67</td><td>5</td></tr>",
                            "<tr><td>70</td><td>3</td></tr>",
                            "<tr><td>71</td><td>2</td></tr>",
                            "<tr><td>75</td><td>1</td></tr>",
                            "<tr><td>76</td><td>2</td></tr>",
                            "<tr><td>76</td><td>5</td></tr>",
                            "<tr><td>80</td><td>1</td></tr>",
                            "<tr><td>81</td><td>1</td></tr>",
                            "<tr><td>81</td><td>3</td></tr>",
                            "<tr><td>81</td><td>4</td></tr>",
                            "<tr><td>82</td><td>6</td></tr>",
                            "<tr><td>84</td><td>1</td></tr>",
                            "<tr><td>84</td><td>3</td></tr>",
                            "<tr><td>84</td><td>4</td></tr>",
                            "<tr><td>88</td><td>7</td></tr>",
                            "<tr><td>89</td><td>4</td></tr>",
                            "</table>"
                        ]
                    }
                }
            ],
            "execution_count": 2
        },
        {
            "cell_type": "markdown",
            "source": [
                "```\n",
                "-- 4\n",
                "-- Write a query that returns customer and employee pairs \n",
                "-- that had order activity in both January 2016 and February 2016\n",
                "-- Tables involved: TSQLV4 database, Orders table\n",
                "```"
            ],
            "metadata": {
                "azdata_cell_guid": "93a979c4-f590-47ae-9d8d-9e9626da31ae"
            },
            "attachments": {}
        },
        {
            "cell_type": "code",
            "source": [
                "USE Northwinds2022TSQLV7\r\n",
                "\r\n",
                "SELECT CustomerId, employeeId\r\n",
                "FROM sales.[Order]\r\n",
                "WHERE orderdate >= '20160101' AND orderdate < '20160201'\r\n",
                "\r\n",
                "INTERSECT \r\n",
                "\r\n",
                "SELECT CustomerId, employeeId\r\n",
                "FROM sales.[Order]\r\n",
                "WHERE orderdate >= '20160201' AND orderdate < '20160301'"
            ],
            "metadata": {
                "azdata_cell_guid": "1e3517eb-dbde-497f-be3c-53d32c759842",
                "language": "sql",
                "tags": []
            },
            "outputs": [
                {
                    "output_type": "display_data",
                    "data": {
                        "text/html": "(5 rows affected)"
                    },
                    "metadata": {}
                },
                {
                    "output_type": "display_data",
                    "data": {
                        "text/html": "Total execution time: 00:00:00.025"
                    },
                    "metadata": {}
                },
                {
                    "output_type": "execute_result",
                    "metadata": {},
                    "execution_count": 5,
                    "data": {
                        "application/vnd.dataresource+json": {
                            "schema": {
                                "fields": [
                                    {
                                        "name": "CustomerId"
                                    },
                                    {
                                        "name": "employeeId"
                                    }
                                ]
                            },
                            "data": [
                                {
                                    "CustomerId": "20",
                                    "employeeId": "3"
                                },
                                {
                                    "CustomerId": "39",
                                    "employeeId": "9"
                                },
                                {
                                    "CustomerId": "46",
                                    "employeeId": "5"
                                },
                                {
                                    "CustomerId": "67",
                                    "employeeId": "1"
                                },
                                {
                                    "CustomerId": "71",
                                    "employeeId": "4"
                                }
                            ]
                        },
                        "text/html": [
                            "<table>",
                            "<tr><th>CustomerId</th><th>employeeId</th></tr>",
                            "<tr><td>20</td><td>3</td></tr>",
                            "<tr><td>39</td><td>9</td></tr>",
                            "<tr><td>46</td><td>5</td></tr>",
                            "<tr><td>67</td><td>1</td></tr>",
                            "<tr><td>71</td><td>4</td></tr>",
                            "</table>"
                        ]
                    }
                }
            ],
            "execution_count": 5
        },
        {
            "cell_type": "markdown",
            "source": [
                "```\n",
                "-- 5\n",
                "-- Write a query that returns customer and employee pairs \n",
                "-- that had order activity in both January 2016 and February 2016\n",
                "-- but not in 2015\n",
                "-- Tables involved: TSQLV4 database, Orders table\n",
                "```"
            ],
            "metadata": {
                "azdata_cell_guid": "41b4bdf9-3819-4d6c-bf9a-6586a4c9e158"
            },
            "attachments": {}
        },
        {
            "cell_type": "code",
            "source": [
                "USE Northwinds2022TSQLV7\r\n",
                "\r\n",
                "SELECT CustomerId, EmployeeId \r\n",
                "FROM sales.[order]\r\n",
                "WHERE orderdate >= '20160101' and orderdate < '20160201'\r\n",
                "\r\n",
                "INTERSECT \r\n",
                "\r\n",
                "SELECT CustomerId, EmployeeId \r\n",
                "FROM sales.[Order]\r\n",
                "WHERE orderdate >= '20160201' and orderdate < '20160301'\r\n",
                "\r\n",
                "EXCEPT \r\n",
                "\r\n",
                "SELECT CustomerId, EmployeeId \r\n",
                "FROM Sales.[Order]\r\n",
                "WHERE orderdate >= '20150101' and orderdate < '20160101'\r\n",
                ""
            ],
            "metadata": {
                "azdata_cell_guid": "42d47f34-5002-46c3-b423-2eeaf39c3781",
                "language": "sql"
            },
            "outputs": [
                {
                    "output_type": "display_data",
                    "data": {
                        "text/html": "(2 rows affected)"
                    },
                    "metadata": {}
                },
                {
                    "output_type": "display_data",
                    "data": {
                        "text/html": "Total execution time: 00:00:00.033"
                    },
                    "metadata": {}
                },
                {
                    "output_type": "execute_result",
                    "metadata": {},
                    "execution_count": 6,
                    "data": {
                        "application/vnd.dataresource+json": {
                            "schema": {
                                "fields": [
                                    {
                                        "name": "CustomerId"
                                    },
                                    {
                                        "name": "EmployeeId"
                                    }
                                ]
                            },
                            "data": [
                                {
                                    "CustomerId": "67",
                                    "EmployeeId": "1"
                                },
                                {
                                    "CustomerId": "46",
                                    "EmployeeId": "5"
                                }
                            ]
                        },
                        "text/html": [
                            "<table>",
                            "<tr><th>CustomerId</th><th>EmployeeId</th></tr>",
                            "<tr><td>67</td><td>1</td></tr>",
                            "<tr><td>46</td><td>5</td></tr>",
                            "</table>"
                        ]
                    }
                }
            ],
            "execution_count": 6
        },
        {
            "cell_type": "markdown",
            "source": [
                "```\n",
                "-- 6 (Optional, Advanced)\n",
                "-- You are given the following query:\n",
                "```"
            ],
            "metadata": {
                "azdata_cell_guid": "284bd848-424a-4773-87fa-f19ebd14f048"
            },
            "attachments": {}
        },
        {
            "cell_type": "code",
            "source": [
                "USE Northwinds2022TSQLV7\r\n",
                "\r\n",
                "SELECT EmployeeCountry, EmployeeRegion, EmployeeCity\r\n",
                "FROM HumanResources.Employee\r\n",
                "\r\n",
                "UNION ALL\r\n",
                "\r\n",
                "SELECT SupplierCountry, SupplierRegion, SupplierCity\r\n",
                "FROM Production.Supplier\r\n",
                "ORDER BY EmployeeCountry, EmployeeRegion, EmployeeCity;"
            ],
            "metadata": {
                "azdata_cell_guid": "107d5d55-8808-4b72-be3c-57a5ea75da7f",
                "language": "sql"
            },
            "outputs": [
                {
                    "output_type": "display_data",
                    "data": {
                        "text/html": "(38 rows affected)"
                    },
                    "metadata": {}
                },
                {
                    "output_type": "display_data",
                    "data": {
                        "text/html": "Total execution time: 00:00:00.019"
                    },
                    "metadata": {}
                },
                {
                    "output_type": "execute_result",
                    "metadata": {},
                    "execution_count": 7,
                    "data": {
                        "application/vnd.dataresource+json": {
                            "schema": {
                                "fields": [
                                    {
                                        "name": "EmployeeCountry"
                                    },
                                    {
                                        "name": "EmployeeRegion"
                                    },
                                    {
                                        "name": "EmployeeCity"
                                    }
                                ]
                            },
                            "data": [
                                {
                                    "EmployeeCountry": "Australia",
                                    "EmployeeRegion": "NSW",
                                    "EmployeeCity": "Sydney"
                                },
                                {
                                    "EmployeeCountry": "Australia",
                                    "EmployeeRegion": "Victoria",
                                    "EmployeeCity": "Melbourne"
                                },
                                {
                                    "EmployeeCountry": "Brazil",
                                    "EmployeeRegion": "NULL",
                                    "EmployeeCity": "Sao Paulo"
                                },
                                {
                                    "EmployeeCountry": "Canada",
                                    "EmployeeRegion": "Québec",
                                    "EmployeeCity": "Montréal"
                                },
                                {
                                    "EmployeeCountry": "Canada",
                                    "EmployeeRegion": "Québec",
                                    "EmployeeCity": "Ste-Hyacinthe"
                                },
                                {
                                    "EmployeeCountry": "Denmark",
                                    "EmployeeRegion": "NULL",
                                    "EmployeeCity": "Lyngby"
                                },
                                {
                                    "EmployeeCountry": "Finland",
                                    "EmployeeRegion": "NULL",
                                    "EmployeeCity": "Lappeenranta"
                                },
                                {
                                    "EmployeeCountry": "France",
                                    "EmployeeRegion": "NULL",
                                    "EmployeeCity": "Annecy"
                                },
                                {
                                    "EmployeeCountry": "France",
                                    "EmployeeRegion": "NULL",
                                    "EmployeeCity": "Montceau"
                                },
                                {
                                    "EmployeeCountry": "France",
                                    "EmployeeRegion": "NULL",
                                    "EmployeeCity": "Paris"
                                },
                                {
                                    "EmployeeCountry": "Germany",
                                    "EmployeeRegion": "NULL",
                                    "EmployeeCity": "Berlin"
                                },
                                {
                                    "EmployeeCountry": "Germany",
                                    "EmployeeRegion": "NULL",
                                    "EmployeeCity": "Cuxhaven"
                                },
                                {
                                    "EmployeeCountry": "Germany",
                                    "EmployeeRegion": "NULL",
                                    "EmployeeCity": "Frankfurt"
                                },
                                {
                                    "EmployeeCountry": "Italy",
                                    "EmployeeRegion": "NULL",
                                    "EmployeeCity": "Ravenna"
                                },
                                {
                                    "EmployeeCountry": "Italy",
                                    "EmployeeRegion": "NULL",
                                    "EmployeeCity": "Salerno"
                                },
                                {
                                    "EmployeeCountry": "Japan",
                                    "EmployeeRegion": "NULL",
                                    "EmployeeCity": "Osaka"
                                },
                                {
                                    "EmployeeCountry": "Japan",
                                    "EmployeeRegion": "NULL",
                                    "EmployeeCity": "Tokyo"
                                },
                                {
                                    "EmployeeCountry": "Netherlands",
                                    "EmployeeRegion": "NULL",
                                    "EmployeeCity": "Zaandam"
                                },
                                {
                                    "EmployeeCountry": "Norway",
                                    "EmployeeRegion": "NULL",
                                    "EmployeeCity": "Sandvika"
                                },
                                {
                                    "EmployeeCountry": "Singapore",
                                    "EmployeeRegion": "NULL",
                                    "EmployeeCity": "Singapore"
                                },
                                {
                                    "EmployeeCountry": "Spain",
                                    "EmployeeRegion": "Asturias",
                                    "EmployeeCity": "Oviedo"
                                },
                                {
                                    "EmployeeCountry": "Sweden",
                                    "EmployeeRegion": "NULL",
                                    "EmployeeCity": "Göteborg"
                                },
                                {
                                    "EmployeeCountry": "Sweden",
                                    "EmployeeRegion": "NULL",
                                    "EmployeeCity": "Stockholm"
                                },
                                {
                                    "EmployeeCountry": "UK",
                                    "EmployeeRegion": "NULL",
                                    "EmployeeCity": "London"
                                },
                                {
                                    "EmployeeCountry": "UK",
                                    "EmployeeRegion": "NULL",
                                    "EmployeeCity": "London"
                                },
                                {
                                    "EmployeeCountry": "UK",
                                    "EmployeeRegion": "NULL",
                                    "EmployeeCity": "London"
                                },
                                {
                                    "EmployeeCountry": "UK",
                                    "EmployeeRegion": "NULL",
                                    "EmployeeCity": "London"
                                },
                                {
                                    "EmployeeCountry": "UK",
                                    "EmployeeRegion": "NULL",
                                    "EmployeeCity": "London"
                                },
                                {
                                    "EmployeeCountry": "UK",
                                    "EmployeeRegion": "NULL",
                                    "EmployeeCity": "Manchester"
                                },
                                {
                                    "EmployeeCountry": "USA",
                                    "EmployeeRegion": "LA",
                                    "EmployeeCity": "New Orleans"
                                },
                                {
                                    "EmployeeCountry": "USA",
                                    "EmployeeRegion": "MA",
                                    "EmployeeCity": "Boston"
                                },
                                {
                                    "EmployeeCountry": "USA",
                                    "EmployeeRegion": "MI",
                                    "EmployeeCity": "Ann Arbor"
                                },
                                {
                                    "EmployeeCountry": "USA",
                                    "EmployeeRegion": "OR",
                                    "EmployeeCity": "Bend"
                                },
                                {
                                    "EmployeeCountry": "USA",
                                    "EmployeeRegion": "WA",
                                    "EmployeeCity": "Kirkland"
                                },
                                {
                                    "EmployeeCountry": "USA",
                                    "EmployeeRegion": "WA",
                                    "EmployeeCity": "Redmond"
                                },
                                {
                                    "EmployeeCountry": "USA",
                                    "EmployeeRegion": "WA",
                                    "EmployeeCity": "Seattle"
                                },
                                {
                                    "EmployeeCountry": "USA",
                                    "EmployeeRegion": "WA",
                                    "EmployeeCity": "Seattle"
                                },
                                {
                                    "EmployeeCountry": "USA",
                                    "EmployeeRegion": "WA",
                                    "EmployeeCity": "Tacoma"
                                }
                            ]
                        },
                        "text/html": [
                            "<table>",
                            "<tr><th>EmployeeCountry</th><th>EmployeeRegion</th><th>EmployeeCity</th></tr>",
                            "<tr><td>Australia</td><td>NSW</td><td>Sydney</td></tr>",
                            "<tr><td>Australia</td><td>Victoria</td><td>Melbourne</td></tr>",
                            "<tr><td>Brazil</td><td>NULL</td><td>Sao Paulo</td></tr>",
                            "<tr><td>Canada</td><td>Québec</td><td>Montréal</td></tr>",
                            "<tr><td>Canada</td><td>Québec</td><td>Ste-Hyacinthe</td></tr>",
                            "<tr><td>Denmark</td><td>NULL</td><td>Lyngby</td></tr>",
                            "<tr><td>Finland</td><td>NULL</td><td>Lappeenranta</td></tr>",
                            "<tr><td>France</td><td>NULL</td><td>Annecy</td></tr>",
                            "<tr><td>France</td><td>NULL</td><td>Montceau</td></tr>",
                            "<tr><td>France</td><td>NULL</td><td>Paris</td></tr>",
                            "<tr><td>Germany</td><td>NULL</td><td>Berlin</td></tr>",
                            "<tr><td>Germany</td><td>NULL</td><td>Cuxhaven</td></tr>",
                            "<tr><td>Germany</td><td>NULL</td><td>Frankfurt</td></tr>",
                            "<tr><td>Italy</td><td>NULL</td><td>Ravenna</td></tr>",
                            "<tr><td>Italy</td><td>NULL</td><td>Salerno</td></tr>",
                            "<tr><td>Japan</td><td>NULL</td><td>Osaka</td></tr>",
                            "<tr><td>Japan</td><td>NULL</td><td>Tokyo</td></tr>",
                            "<tr><td>Netherlands</td><td>NULL</td><td>Zaandam</td></tr>",
                            "<tr><td>Norway</td><td>NULL</td><td>Sandvika</td></tr>",
                            "<tr><td>Singapore</td><td>NULL</td><td>Singapore</td></tr>",
                            "<tr><td>Spain</td><td>Asturias</td><td>Oviedo</td></tr>",
                            "<tr><td>Sweden</td><td>NULL</td><td>Göteborg</td></tr>",
                            "<tr><td>Sweden</td><td>NULL</td><td>Stockholm</td></tr>",
                            "<tr><td>UK</td><td>NULL</td><td>London</td></tr>",
                            "<tr><td>UK</td><td>NULL</td><td>London</td></tr>",
                            "<tr><td>UK</td><td>NULL</td><td>London</td></tr>",
                            "<tr><td>UK</td><td>NULL</td><td>London</td></tr>",
                            "<tr><td>UK</td><td>NULL</td><td>London</td></tr>",
                            "<tr><td>UK</td><td>NULL</td><td>Manchester</td></tr>",
                            "<tr><td>USA</td><td>LA</td><td>New Orleans</td></tr>",
                            "<tr><td>USA</td><td>MA</td><td>Boston</td></tr>",
                            "<tr><td>USA</td><td>MI</td><td>Ann Arbor</td></tr>",
                            "<tr><td>USA</td><td>OR</td><td>Bend</td></tr>",
                            "<tr><td>USA</td><td>WA</td><td>Kirkland</td></tr>",
                            "<tr><td>USA</td><td>WA</td><td>Redmond</td></tr>",
                            "<tr><td>USA</td><td>WA</td><td>Seattle</td></tr>",
                            "<tr><td>USA</td><td>WA</td><td>Seattle</td></tr>",
                            "<tr><td>USA</td><td>WA</td><td>Tacoma</td></tr>",
                            "</table>"
                        ]
                    }
                }
            ],
            "execution_count": 7
        }
    ]
}