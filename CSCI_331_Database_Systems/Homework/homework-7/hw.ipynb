{
    "metadata": {
        "kernelspec": {
            "name": "SQL",
            "display_name": "SQL",
            "language": "sql"
        },
        "language_info": {
            "name": "sql",
            "version": ""
        }
    },
    "nbformat_minor": 2,
    "nbformat": 4,
    "cells": [
        {
            "cell_type": "markdown",
            "source": [
                "```\n",
                "Pre requesite steps :\n",
                "We have to Populate the dbo.Orders table using a CREATE statement.\n",
                "\n",
                "```\n",
                "```\n",
                "1. Drop Foreign kerys - dbo.Orders has a foreign key \"PK_Orders\", we get this error : \n",
                "\n",
                "\" Msg 3726, Level 16, State 1, Line 3 \"\n",
                "\n",
                "```\n",
                "```\n",
                "Could not drop object 'dbo.Orders' because it is referenced by a FOREIGN KEY constraint.\n",
                "This error means that the script attempted to drop (delete) the dbo.Orders table, but it couldn't because this table is referenced by a foreign key constraint in another table. In a database, if a table has a foreign key that references it, you cannot drop the table without first removing the foreign key constraint or dropping the table that holds the foreign key.\n",
                "\n",
                "```"
            ],
            "metadata": {
                "azdata_cell_guid": "cca983a1-c708-46fb-b100-626abe82f098"
            },
            "attachments": {}
        },
        {
            "cell_type": "code",
            "source": [
                "ALTER TABLE OrderDetails\r\n",
                "DROP CONSTRAINT FK_OrderDetails_Orders;\r\n",
                "\r\n",
                "ALTER TABLE dbo.Orders\r\n",
                "DROP CONSTRAINT PK_Orders;"
            ],
            "metadata": {
                "azdata_cell_guid": "f159e10b-6eb0-46fa-811d-6da7f29974b8",
                "language": "sql",
                "tags": [
                    "hide_input"
                ]
            },
            "outputs": [
                {
                    "output_type": "display_data",
                    "data": {
                        "text/html": "Commands completed successfully."
                    },
                    "metadata": {}
                },
                {
                    "output_type": "display_data",
                    "data": {
                        "text/html": "Total execution time: 00:00:00.099"
                    },
                    "metadata": {}
                }
            ],
            "execution_count": 6
        },
        {
            "cell_type": "markdown",
            "source": [
                "```\n",
                "2. Create the dbo.Orders Table\n",
                "```"
            ],
            "metadata": {
                "language": "sql",
                "azdata_cell_guid": "248db5c6-f119-4fdc-9b04-c78a83d01667"
            },
            "attachments": {}
        },
        {
            "cell_type": "code",
            "source": [
                "USE Northwinds2022TSQLV7;\r\n",
                "\r\n",
                "DROP TABLE IF EXISTS dbo.Orders;\r\n",
                "\r\n",
                "CREATE TABLE dbo.Orders\r\n",
                "(\r\n",
                "  orderid INT NOT NULL,\r\n",
                "  orderdate DATE NOT NULL,\r\n",
                "  empid INT NOT NULL,\r\n",
                "  custid VARCHAR(5) NOT NULL,\r\n",
                "  qty INT NOT NULL,\r\n",
                "  CONSTRAINT PK_Orders PRIMARY KEY(orderid)\r\n",
                ");\r\n",
                "\r\n",
                "INSERT INTO dbo.Orders(orderid, orderdate, empid, custid, qty)\r\n",
                "VALUES\r\n",
                "(30001, '20140802', 3, 'A', 10),\r\n",
                "(10001, '20141224', 2, 'A', 12),\r\n",
                "(10005, '20141224', 1, 'B', 20),\r\n",
                "(40001, '20150109', 2, 'A', 40),\r\n",
                "(10006, '20150118', 1, 'C', 14),\r\n",
                "(20001, '20150212', 2, 'B', 12),\r\n",
                "(40005, '20160212', 3, 'A', 10),\r\n",
                "(20002, '20160216', 1, 'C', 20),\r\n",
                "(30003, '20160418', 2, 'B', 15),\r\n",
                "(30004, '20140418', 3, 'C', 22),\r\n",
                "(30007, '20160907', 3, 'D', 30);\r\n",
                "\r\n",
                ""
            ],
            "metadata": {
                "azdata_cell_guid": "04cb0a54-02cc-4301-a2ef-283c0189382d",
                "language": "sql"
            },
            "outputs": [
                {
                    "output_type": "display_data",
                    "data": {
                        "text/html": "(11 rows affected)"
                    },
                    "metadata": {}
                },
                {
                    "output_type": "display_data",
                    "data": {
                        "text/html": "Total execution time: 00:00:00.057"
                    },
                    "metadata": {}
                }
            ],
            "execution_count": 13
        },
        {
            "cell_type": "code",
            "source": [
                "USE Northwinds2022TSQLV7;\r\n",
                "SELECT * \r\n",
                "FROM dbo.Orders"
            ],
            "metadata": {
                "language": "sql",
                "azdata_cell_guid": "a452c7fa-c082-4582-b99b-83053516288e"
            },
            "outputs": [
                {
                    "output_type": "display_data",
                    "data": {
                        "text/html": "(11 rows affected)"
                    },
                    "metadata": {}
                },
                {
                    "output_type": "display_data",
                    "data": {
                        "text/html": "Total execution time: 00:00:00.030"
                    },
                    "metadata": {}
                },
                {
                    "output_type": "execute_result",
                    "execution_count": 9,
                    "data": {
                        "application/vnd.dataresource+json": {
                            "schema": {
                                "fields": [
                                    {
                                        "name": "orderid"
                                    },
                                    {
                                        "name": "orderdate"
                                    },
                                    {
                                        "name": "empid"
                                    },
                                    {
                                        "name": "custid"
                                    },
                                    {
                                        "name": "qty"
                                    }
                                ]
                            },
                            "data": [
                                {
                                    "orderid": "10001",
                                    "orderdate": "2014-12-24",
                                    "empid": "2",
                                    "custid": "A",
                                    "qty": "12"
                                },
                                {
                                    "orderid": "10005",
                                    "orderdate": "2014-12-24",
                                    "empid": "1",
                                    "custid": "B",
                                    "qty": "20"
                                },
                                {
                                    "orderid": "10006",
                                    "orderdate": "2015-01-18",
                                    "empid": "1",
                                    "custid": "C",
                                    "qty": "14"
                                },
                                {
                                    "orderid": "20001",
                                    "orderdate": "2015-02-12",
                                    "empid": "2",
                                    "custid": "B",
                                    "qty": "12"
                                },
                                {
                                    "orderid": "20002",
                                    "orderdate": "2016-02-16",
                                    "empid": "1",
                                    "custid": "C",
                                    "qty": "20"
                                },
                                {
                                    "orderid": "30001",
                                    "orderdate": "2014-08-02",
                                    "empid": "3",
                                    "custid": "A",
                                    "qty": "10"
                                },
                                {
                                    "orderid": "30003",
                                    "orderdate": "2016-04-18",
                                    "empid": "2",
                                    "custid": "B",
                                    "qty": "15"
                                },
                                {
                                    "orderid": "30004",
                                    "orderdate": "2014-04-18",
                                    "empid": "3",
                                    "custid": "C",
                                    "qty": "22"
                                },
                                {
                                    "orderid": "30007",
                                    "orderdate": "2016-09-07",
                                    "empid": "3",
                                    "custid": "D",
                                    "qty": "30"
                                },
                                {
                                    "orderid": "40001",
                                    "orderdate": "2015-01-09",
                                    "empid": "2",
                                    "custid": "A",
                                    "qty": "40"
                                },
                                {
                                    "orderid": "40005",
                                    "orderdate": "2016-02-12",
                                    "empid": "3",
                                    "custid": "A",
                                    "qty": "10"
                                }
                            ]
                        },
                        "text/html": "<table><tr><th>orderid</th><th>orderdate</th><th>empid</th><th>custid</th><th>qty</th></tr><tr><td>10001</td><td>2014-12-24</td><td>2</td><td>A</td><td>12</td></tr><tr><td>10005</td><td>2014-12-24</td><td>1</td><td>B</td><td>20</td></tr><tr><td>10006</td><td>2015-01-18</td><td>1</td><td>C</td><td>14</td></tr><tr><td>20001</td><td>2015-02-12</td><td>2</td><td>B</td><td>12</td></tr><tr><td>20002</td><td>2016-02-16</td><td>1</td><td>C</td><td>20</td></tr><tr><td>30001</td><td>2014-08-02</td><td>3</td><td>A</td><td>10</td></tr><tr><td>30003</td><td>2016-04-18</td><td>2</td><td>B</td><td>15</td></tr><tr><td>30004</td><td>2014-04-18</td><td>3</td><td>C</td><td>22</td></tr><tr><td>30007</td><td>2016-09-07</td><td>3</td><td>D</td><td>30</td></tr><tr><td>40001</td><td>2015-01-09</td><td>2</td><td>A</td><td>40</td></tr><tr><td>40005</td><td>2016-02-12</td><td>3</td><td>A</td><td>10</td></tr></table>"
                    },
                    "metadata": {}
                }
            ],
            "execution_count": 9
        },
        {
            "cell_type": "markdown",
            "source": [
                "**\\=========================================================================================**"
            ],
            "metadata": {
                "azdata_cell_guid": "e5d6fbc2-ef68-4912-b1ce-ee081850e5ee"
            },
            "attachments": {}
        },
        {
            "cell_type": "markdown",
            "source": [
                "\\-- 1\n",
                "\n",
                "\\-- Write a query against the dbo.Orders table that computes for each\n",
                "\n",
                "\\-- customer order, both a rank and a dense rank,\n",
                "\n",
                "\\-- partitioned by custid, ordered by qty"
            ],
            "metadata": {
                "azdata_cell_guid": "9dd96bfd-7acd-4380-8e73-d3fea3f43b91"
            },
            "attachments": {}
        },
        {
            "cell_type": "code",
            "source": [
                "USE Northwinds2022TSQLV7;\r\n",
                "\r\n",
                "-- Selects the customer ID, order ID, and quantity from the dbo.Orders table.\r\n",
                "-- Additionally, two ranking functions are applied to the selected data:\r\n",
                "SELECT \r\n",
                "    custid,         -- The ID of the customer making the order\r\n",
                "    orderid,        -- The unique identifier of the order\r\n",
                "    qty,            -- The quantity of items in the order\r\n",
                "    -- RANK() is a window function that assigns a unique rank to each row within the partition of a result set.\r\n",
                "    -- The rank of a row is one plus the number of ranks that come before the row in question.\r\n",
                "    RANK() OVER(\r\n",
                "        PARTITION BY custid   -- PARTITION BY groups the result-set by custid. Each group will have its own rank sequence.\r\n",
                "        ORDER BY qty DESC     -- ORDER BY determines the order of the rank within each partition. Here it's by qty in descending order.\r\n",
                "    ) as rank,                -- The result is assigned to a column named 'rank'\r\n",
                "    -- DENSE_RANK() is similar to RANK(), but it assigns consecutive ranks within each partition.\r\n",
                "    DENSE_RANK() OVER(\r\n",
                "        PARTITION BY custid   -- PARTITION BY groups the result-set by custid. Each group will have its own dense rank sequence.\r\n",
                "        ORDER BY qty DESC     -- ORDER BY determines the order of the dense rank within each partition. Here it's by qty in descending order.\r\n",
                "    ) as dense_rank          -- The result is assigned to a column named 'dense_rank'\r\n",
                "FROM dbo.Orders        \r\n",
                ""
            ],
            "metadata": {
                "azdata_cell_guid": "90346981-9185-4916-a967-a7b4b6db6c77",
                "language": "sql",
                "tags": []
            },
            "outputs": [
                {
                    "output_type": "display_data",
                    "data": {
                        "text/html": "(11 rows affected)"
                    },
                    "metadata": {}
                },
                {
                    "output_type": "display_data",
                    "data": {
                        "text/html": "Total execution time: 00:00:00.014"
                    },
                    "metadata": {}
                },
                {
                    "output_type": "execute_result",
                    "execution_count": 17,
                    "data": {
                        "application/vnd.dataresource+json": {
                            "schema": {
                                "fields": [
                                    {
                                        "name": "custid"
                                    },
                                    {
                                        "name": "orderid"
                                    },
                                    {
                                        "name": "qty"
                                    },
                                    {
                                        "name": "rank"
                                    },
                                    {
                                        "name": "dense_rank"
                                    }
                                ]
                            },
                            "data": [
                                {
                                    "custid": "A",
                                    "orderid": "40001",
                                    "qty": "40",
                                    "rank": "1",
                                    "dense_rank": "1"
                                },
                                {
                                    "custid": "A",
                                    "orderid": "10001",
                                    "qty": "12",
                                    "rank": "2",
                                    "dense_rank": "2"
                                },
                                {
                                    "custid": "A",
                                    "orderid": "30001",
                                    "qty": "10",
                                    "rank": "3",
                                    "dense_rank": "3"
                                },
                                {
                                    "custid": "A",
                                    "orderid": "40005",
                                    "qty": "10",
                                    "rank": "3",
                                    "dense_rank": "3"
                                },
                                {
                                    "custid": "B",
                                    "orderid": "10005",
                                    "qty": "20",
                                    "rank": "1",
                                    "dense_rank": "1"
                                },
                                {
                                    "custid": "B",
                                    "orderid": "30003",
                                    "qty": "15",
                                    "rank": "2",
                                    "dense_rank": "2"
                                },
                                {
                                    "custid": "B",
                                    "orderid": "20001",
                                    "qty": "12",
                                    "rank": "3",
                                    "dense_rank": "3"
                                },
                                {
                                    "custid": "C",
                                    "orderid": "30004",
                                    "qty": "22",
                                    "rank": "1",
                                    "dense_rank": "1"
                                },
                                {
                                    "custid": "C",
                                    "orderid": "20002",
                                    "qty": "20",
                                    "rank": "2",
                                    "dense_rank": "2"
                                },
                                {
                                    "custid": "C",
                                    "orderid": "10006",
                                    "qty": "14",
                                    "rank": "3",
                                    "dense_rank": "3"
                                },
                                {
                                    "custid": "D",
                                    "orderid": "30007",
                                    "qty": "30",
                                    "rank": "1",
                                    "dense_rank": "1"
                                }
                            ]
                        },
                        "text/html": "<table><tr><th>custid</th><th>orderid</th><th>qty</th><th>rank</th><th>dense_rank</th></tr><tr><td>A</td><td>40001</td><td>40</td><td>1</td><td>1</td></tr><tr><td>A</td><td>10001</td><td>12</td><td>2</td><td>2</td></tr><tr><td>A</td><td>30001</td><td>10</td><td>3</td><td>3</td></tr><tr><td>A</td><td>40005</td><td>10</td><td>3</td><td>3</td></tr><tr><td>B</td><td>10005</td><td>20</td><td>1</td><td>1</td></tr><tr><td>B</td><td>30003</td><td>15</td><td>2</td><td>2</td></tr><tr><td>B</td><td>20001</td><td>12</td><td>3</td><td>3</td></tr><tr><td>C</td><td>30004</td><td>22</td><td>1</td><td>1</td></tr><tr><td>C</td><td>20002</td><td>20</td><td>2</td><td>2</td></tr><tr><td>C</td><td>10006</td><td>14</td><td>3</td><td>3</td></tr><tr><td>D</td><td>30007</td><td>30</td><td>1</td><td>1</td></tr></table>"
                    },
                    "metadata": {}
                }
            ],
            "execution_count": 17
        },
        {
            "cell_type": "markdown",
            "source": [
                "```\n",
                "-- 2\n",
                "-- The following query against the Sales.OrderValues view returns\n",
                "-- distinct values and their associated row numbers\n",
                "USE TSQLV4;\n",
                "\n",
                "SELECT val, ROW_NUMBER() OVER(ORDER BY val) AS rownum\n",
                "FROM Sales.OrderValues\n",
                "GROUP BY val;\n",
                "\n",
                "-- Can you think of an alternative way to achieve the same task?\n",
                "-- Tables involved: TSQLV4 database, Sales.OrderValues view\n",
                "\n",
                "```"
            ],
            "metadata": {
                "azdata_cell_guid": "e8aa8699-1a68-4ab4-a075-5bf4370cc941"
            },
            "attachments": {}
        },
        {
            "cell_type": "code",
            "source": [
                "USE Northwinds2022TSQLV7;\r\n",
                "\r\n",
                "SELECT Freight, ROW_NUMBER() OVER(ORDER BY Freight) AS rownum\r\n",
                "FROM Sales.[Order]\r\n",
                "GROUP BY Freight"
            ],
            "metadata": {
                "azdata_cell_guid": "023ea2eb-f3dc-41c1-a946-af6a4c5ba849",
                "language": "sql"
            },
            "outputs": [
                {
                    "output_type": "display_data",
                    "data": {
                        "text/html": "(799 rows affected)"
                    },
                    "metadata": {}
                },
                {
                    "output_type": "display_data",
                    "data": {
                        "text/html": "Total execution time: 00:00:00.056"
                    },
                    "metadata": {}
                },
                {
                    "output_type": "execute_result",
                    "execution_count": 25,
                    "data": {
                        "application/vnd.dataresource+json": {
                            "schema": {
                                "fields": [
                                    {
                                        "name": "Freight"
                                    },
                                    {
                                        "name": "rownum"
                                    }
                                ]
                            },
                            "data": [
                                {
                                    "Freight": "0.02",
                                    "rownum": "1"
                                },
                                {
                                    "Freight": "0.12",
                                    "rownum": "2"
                                },
                                {
                                    "Freight": "0.14",
                                    "rownum": "3"
                                },
                                {
                                    "Freight": "0.15",
                                    "rownum": "4"
                                },
                                {
                                    "Freight": "0.17",
                                    "rownum": "5"
                                },
                                {
                                    "Freight": "0.20",
                                    "rownum": "6"
                                },
                                {
                                    "Freight": "0.21",
                                    "rownum": "7"
                                },
                                {
                                    "Freight": "0.33",
                                    "rownum": "8"
                                },
                                {
                                    "Freight": "0.40",
                                    "rownum": "9"
                                },
                                {
                                    "Freight": "0.45",
                                    "rownum": "10"
                                },
                                {
                                    "Freight": "0.48",
                                    "rownum": "11"
                                },
                                {
                                    "Freight": "0.53",
                                    "rownum": "12"
                                },
                                {
                                    "Freight": "0.56",
                                    "rownum": "13"
                                },
                                {
                                    "Freight": "0.58",
                                    "rownum": "14"
                                },
                                {
                                    "Freight": "0.59",
                                    "rownum": "15"
                                },
                                {
                                    "Freight": "0.75",
                                    "rownum": "16"
                                },
                                {
                                    "Freight": "0.78",
                                    "rownum": "17"
                                },
                                {
                                    "Freight": "0.82",
                                    "rownum": "18"
                                },
                                {
                                    "Freight": "0.87",
                                    "rownum": "19"
                                },
                                {
                                    "Freight": "0.90",
                                    "rownum": "20"
                                },
                                {
                                    "Freight": "0.93",
                                    "rownum": "21"
                                },
                                {
                                    "Freight": "0.94",
                                    "rownum": "22"
                                },
                                {
                                    "Freight": "1.10",
                                    "rownum": "23"
                                },
                                {
                                    "Freight": "1.12",
                                    "rownum": "24"
                                },
                                {
                                    "Freight": "1.15",
                                    "rownum": "25"
                                },
                                {
                                    "Freight": "1.17",
                                    "rownum": "26"
                                },
                                {
                                    "Freight": "1.21",
                                    "rownum": "27"
                                },
                                {
                                    "Freight": "1.23",
                                    "rownum": "28"
                                },
                                {
                                    "Freight": "1.25",
                                    "rownum": "29"
                                },
                                {
                                    "Freight": "1.26",
                                    "rownum": "30"
                                },
                                {
                                    "Freight": "1.27",
                                    "rownum": "31"
                                },
                                {
                                    "Freight": "1.28",
                                    "rownum": "32"
                                },
                                {
                                    "Freight": "1.30",
                                    "rownum": "33"
                                },
                                {
                                    "Freight": "1.35",
                                    "rownum": "34"
                                },
                                {
                                    "Freight": "1.36",
                                    "rownum": "35"
                                },
                                {
                                    "Freight": "1.39",
                                    "rownum": "36"
                                },
                                {
                                    "Freight": "1.43",
                                    "rownum": "37"
                                },
                                {
                                    "Freight": "1.51",
                                    "rownum": "38"
                                },
                                {
                                    "Freight": "1.59",
                                    "rownum": "39"
                                },
                                {
                                    "Freight": "1.61",
                                    "rownum": "40"
                                },
                                {
                                    "Freight": "1.63",
                                    "rownum": "41"
                                },
                                {
                                    "Freight": "1.66",
                                    "rownum": "42"
                                },
                                {
                                    "Freight": "1.85",
                                    "rownum": "43"
                                },
                                {
                                    "Freight": "1.93",
                                    "rownum": "44"
                                },
                                {
                                    "Freight": "1.96",
                                    "rownum": "45"
                                },
                                {
                                    "Freight": "2.01",
                                    "rownum": "46"
                                },
                                {
                                    "Freight": "2.08",
                                    "rownum": "47"
                                },
                                {
                                    "Freight": "2.17",
                                    "rownum": "48"
                                },
                                {
                                    "Freight": "2.27",
                                    "rownum": "49"
                                },
                                {
                                    "Freight": "2.33",
                                    "rownum": "50"
                                },
                                {
                                    "Freight": "2.38",
                                    "rownum": "51"
                                },
                                {
                                    "Freight": "2.40",
                                    "rownum": "52"
                                },
                                {
                                    "Freight": "2.50",
                                    "rownum": "53"
                                },
                                {
                                    "Freight": "2.70",
                                    "rownum": "54"
                                },
                                {
                                    "Freight": "2.71",
                                    "rownum": "55"
                                },
                                {
                                    "Freight": "2.74",
                                    "rownum": "56"
                                },
                                {
                                    "Freight": "2.79",
                                    "rownum": "57"
                                },
                                {
                                    "Freight": "2.84",
                                    "rownum": "58"
                                },
                                {
                                    "Freight": "2.91",
                                    "rownum": "59"
                                },
                                {
                                    "Freight": "2.92",
                                    "rownum": "60"
                                },
                                {
                                    "Freight": "2.94",
                                    "rownum": "61"
                                },
                                {
                                    "Freight": "2.96",
                                    "rownum": "62"
                                },
                                {
                                    "Freight": "3.01",
                                    "rownum": "63"
                                },
                                {
                                    "Freight": "3.02",
                                    "rownum": "64"
                                },
                                {
                                    "Freight": "3.04",
                                    "rownum": "65"
                                },
                                {
                                    "Freight": "3.05",
                                    "rownum": "66"
                                },
                                {
                                    "Freight": "3.10",
                                    "rownum": "67"
                                },
                                {
                                    "Freight": "3.17",
                                    "rownum": "68"
                                },
                                {
                                    "Freight": "3.20",
                                    "rownum": "69"
                                },
                                {
                                    "Freight": "3.25",
                                    "rownum": "70"
                                },
                                {
                                    "Freight": "3.26",
                                    "rownum": "71"
                                },
                                {
                                    "Freight": "3.35",
                                    "rownum": "72"
                                },
                                {
                                    "Freight": "3.43",
                                    "rownum": "73"
                                },
                                {
                                    "Freight": "3.50",
                                    "rownum": "74"
                                },
                                {
                                    "Freight": "3.51",
                                    "rownum": "75"
                                },
                                {
                                    "Freight": "3.52",
                                    "rownum": "76"
                                },
                                {
                                    "Freight": "3.53",
                                    "rownum": "77"
                                },
                                {
                                    "Freight": "3.67",
                                    "rownum": "78"
                                },
                                {
                                    "Freight": "3.77",
                                    "rownum": "79"
                                },
                                {
                                    "Freight": "3.94",
                                    "rownum": "80"
                                },
                                {
                                    "Freight": "4.03",
                                    "rownum": "81"
                                },
                                {
                                    "Freight": "4.07",
                                    "rownum": "82"
                                },
                                {
                                    "Freight": "4.13",
                                    "rownum": "83"
                                },
                                {
                                    "Freight": "4.20",
                                    "rownum": "84"
                                },
                                {
                                    "Freight": "4.27",
                                    "rownum": "85"
                                },
                                {
                                    "Freight": "4.32",
                                    "rownum": "86"
                                },
                                {
                                    "Freight": "4.33",
                                    "rownum": "87"
                                },
                                {
                                    "Freight": "4.34",
                                    "rownum": "88"
                                },
                                {
                                    "Freight": "4.40",
                                    "rownum": "89"
                                },
                                {
                                    "Freight": "4.41",
                                    "rownum": "90"
                                },
                                {
                                    "Freight": "4.42",
                                    "rownum": "91"
                                },
                                {
                                    "Freight": "4.52",
                                    "rownum": "92"
                                },
                                {
                                    "Freight": "4.54",
                                    "rownum": "93"
                                },
                                {
                                    "Freight": "4.56",
                                    "rownum": "94"
                                },
                                {
                                    "Freight": "4.62",
                                    "rownum": "95"
                                },
                                {
                                    "Freight": "4.65",
                                    "rownum": "96"
                                },
                                {
                                    "Freight": "4.73",
                                    "rownum": "97"
                                },
                                {
                                    "Freight": "4.78",
                                    "rownum": "98"
                                },
                                {
                                    "Freight": "4.81",
                                    "rownum": "99"
                                },
                                {
                                    "Freight": "4.87",
                                    "rownum": "100"
                                },
                                {
                                    "Freight": "4.88",
                                    "rownum": "101"
                                },
                                {
                                    "Freight": "4.93",
                                    "rownum": "102"
                                },
                                {
                                    "Freight": "4.98",
                                    "rownum": "103"
                                },
                                {
                                    "Freight": "4.99",
                                    "rownum": "104"
                                },
                                {
                                    "Freight": "5.24",
                                    "rownum": "105"
                                },
                                {
                                    "Freight": "5.29",
                                    "rownum": "106"
                                },
                                {
                                    "Freight": "5.32",
                                    "rownum": "107"
                                },
                                {
                                    "Freight": "5.44",
                                    "rownum": "108"
                                },
                                {
                                    "Freight": "5.45",
                                    "rownum": "109"
                                },
                                {
                                    "Freight": "5.64",
                                    "rownum": "110"
                                },
                                {
                                    "Freight": "5.74",
                                    "rownum": "111"
                                },
                                {
                                    "Freight": "6.01",
                                    "rownum": "112"
                                },
                                {
                                    "Freight": "6.17",
                                    "rownum": "113"
                                },
                                {
                                    "Freight": "6.19",
                                    "rownum": "114"
                                },
                                {
                                    "Freight": "6.20",
                                    "rownum": "115"
                                },
                                {
                                    "Freight": "6.27",
                                    "rownum": "116"
                                },
                                {
                                    "Freight": "6.40",
                                    "rownum": "117"
                                },
                                {
                                    "Freight": "6.54",
                                    "rownum": "118"
                                },
                                {
                                    "Freight": "6.79",
                                    "rownum": "119"
                                },
                                {
                                    "Freight": "6.88",
                                    "rownum": "120"
                                },
                                {
                                    "Freight": "7.00",
                                    "rownum": "121"
                                },
                                {
                                    "Freight": "7.09",
                                    "rownum": "122"
                                },
                                {
                                    "Freight": "7.13",
                                    "rownum": "123"
                                },
                                {
                                    "Freight": "7.14",
                                    "rownum": "124"
                                },
                                {
                                    "Freight": "7.15",
                                    "rownum": "125"
                                },
                                {
                                    "Freight": "7.23",
                                    "rownum": "126"
                                },
                                {
                                    "Freight": "7.28",
                                    "rownum": "127"
                                },
                                {
                                    "Freight": "7.45",
                                    "rownum": "128"
                                },
                                {
                                    "Freight": "7.46",
                                    "rownum": "129"
                                },
                                {
                                    "Freight": "7.48",
                                    "rownum": "130"
                                },
                                {
                                    "Freight": "7.56",
                                    "rownum": "131"
                                },
                                {
                                    "Freight": "7.70",
                                    "rownum": "132"
                                },
                                {
                                    "Freight": "7.79",
                                    "rownum": "133"
                                },
                                {
                                    "Freight": "7.93",
                                    "rownum": "134"
                                },
                                {
                                    "Freight": "7.98",
                                    "rownum": "135"
                                },
                                {
                                    "Freight": "7.99",
                                    "rownum": "136"
                                },
                                {
                                    "Freight": "8.05",
                                    "rownum": "137"
                                },
                                {
                                    "Freight": "8.11",
                                    "rownum": "138"
                                },
                                {
                                    "Freight": "8.12",
                                    "rownum": "139"
                                },
                                {
                                    "Freight": "8.19",
                                    "rownum": "140"
                                },
                                {
                                    "Freight": "8.24",
                                    "rownum": "141"
                                },
                                {
                                    "Freight": "8.29",
                                    "rownum": "142"
                                },
                                {
                                    "Freight": "8.34",
                                    "rownum": "143"
                                },
                                {
                                    "Freight": "8.50",
                                    "rownum": "144"
                                },
                                {
                                    "Freight": "8.53",
                                    "rownum": "145"
                                },
                                {
                                    "Freight": "8.56",
                                    "rownum": "146"
                                },
                                {
                                    "Freight": "8.63",
                                    "rownum": "147"
                                },
                                {
                                    "Freight": "8.72",
                                    "rownum": "148"
                                },
                                {
                                    "Freight": "8.80",
                                    "rownum": "149"
                                },
                                {
                                    "Freight": "8.81",
                                    "rownum": "150"
                                },
                                {
                                    "Freight": "8.85",
                                    "rownum": "151"
                                },
                                {
                                    "Freight": "8.98",
                                    "rownum": "152"
                                },
                                {
                                    "Freight": "9.19",
                                    "rownum": "153"
                                },
                                {
                                    "Freight": "9.21",
                                    "rownum": "154"
                                },
                                {
                                    "Freight": "9.26",
                                    "rownum": "155"
                                },
                                {
                                    "Freight": "9.30",
                                    "rownum": "156"
                                },
                                {
                                    "Freight": "9.53",
                                    "rownum": "157"
                                },
                                {
                                    "Freight": "9.80",
                                    "rownum": "158"
                                },
                                {
                                    "Freight": "10.14",
                                    "rownum": "159"
                                },
                                {
                                    "Freight": "10.19",
                                    "rownum": "160"
                                },
                                {
                                    "Freight": "10.22",
                                    "rownum": "161"
                                },
                                {
                                    "Freight": "10.64",
                                    "rownum": "162"
                                },
                                {
                                    "Freight": "10.83",
                                    "rownum": "163"
                                },
                                {
                                    "Freight": "10.95",
                                    "rownum": "164"
                                },
                                {
                                    "Freight": "10.96",
                                    "rownum": "165"
                                },
                                {
                                    "Freight": "10.98",
                                    "rownum": "166"
                                },
                                {
                                    "Freight": "11.06",
                                    "rownum": "167"
                                },
                                {
                                    "Freight": "11.08",
                                    "rownum": "168"
                                },
                                {
                                    "Freight": "11.09",
                                    "rownum": "169"
                                },
                                {
                                    "Freight": "11.19",
                                    "rownum": "170"
                                },
                                {
                                    "Freight": "11.26",
                                    "rownum": "171"
                                },
                                {
                                    "Freight": "11.57",
                                    "rownum": "172"
                                },
                                {
                                    "Freight": "11.61",
                                    "rownum": "173"
                                },
                                {
                                    "Freight": "11.65",
                                    "rownum": "174"
                                },
                                {
                                    "Freight": "11.92",
                                    "rownum": "175"
                                },
                                {
                                    "Freight": "11.93",
                                    "rownum": "176"
                                },
                                {
                                    "Freight": "11.99",
                                    "rownum": "177"
                                },
                                {
                                    "Freight": "12.04",
                                    "rownum": "178"
                                },
                                {
                                    "Freight": "12.36",
                                    "rownum": "179"
                                },
                                {
                                    "Freight": "12.41",
                                    "rownum": "180"
                                },
                                {
                                    "Freight": "12.51",
                                    "rownum": "181"
                                },
                                {
                                    "Freight": "12.69",
                                    "rownum": "182"
                                },
                                {
                                    "Freight": "12.75",
                                    "rownum": "183"
                                },
                                {
                                    "Freight": "12.76",
                                    "rownum": "184"
                                },
                                {
                                    "Freight": "12.91",
                                    "rownum": "185"
                                },
                                {
                                    "Freight": "12.96",
                                    "rownum": "186"
                                },
                                {
                                    "Freight": "13.02",
                                    "rownum": "187"
                                },
                                {
                                    "Freight": "13.32",
                                    "rownum": "188"
                                },
                                {
                                    "Freight": "13.37",
                                    "rownum": "189"
                                },
                                {
                                    "Freight": "13.41",
                                    "rownum": "190"
                                },
                                {
                                    "Freight": "13.42",
                                    "rownum": "191"
                                },
                                {
                                    "Freight": "13.55",
                                    "rownum": "192"
                                },
                                {
                                    "Freight": "13.60",
                                    "rownum": "193"
                                },
                                {
                                    "Freight": "13.72",
                                    "rownum": "194"
                                },
                                {
                                    "Freight": "13.73",
                                    "rownum": "195"
                                },
                                {
                                    "Freight": "13.75",
                                    "rownum": "196"
                                },
                                {
                                    "Freight": "13.84",
                                    "rownum": "197"
                                },
                                {
                                    "Freight": "13.95",
                                    "rownum": "198"
                                },
                                {
                                    "Freight": "13.97",
                                    "rownum": "199"
                                },
                                {
                                    "Freight": "13.99",
                                    "rownum": "200"
                                },
                                {
                                    "Freight": "14.01",
                                    "rownum": "201"
                                },
                                {
                                    "Freight": "14.25",
                                    "rownum": "202"
                                },
                                {
                                    "Freight": "14.62",
                                    "rownum": "203"
                                },
                                {
                                    "Freight": "14.68",
                                    "rownum": "204"
                                },
                                {
                                    "Freight": "14.78",
                                    "rownum": "205"
                                },
                                {
                                    "Freight": "14.91",
                                    "rownum": "206"
                                },
                                {
                                    "Freight": "14.93",
                                    "rownum": "207"
                                },
                                {
                                    "Freight": "15.17",
                                    "rownum": "208"
                                },
                                {
                                    "Freight": "15.28",
                                    "rownum": "209"
                                },
                                {
                                    "Freight": "15.51",
                                    "rownum": "210"
                                },
                                {
                                    "Freight": "15.55",
                                    "rownum": "211"
                                },
                                {
                                    "Freight": "15.64",
                                    "rownum": "212"
                                },
                                {
                                    "Freight": "15.66",
                                    "rownum": "213"
                                },
                                {
                                    "Freight": "15.67",
                                    "rownum": "214"
                                },
                                {
                                    "Freight": "15.80",
                                    "rownum": "215"
                                },
                                {
                                    "Freight": "16.16",
                                    "rownum": "216"
                                },
                                {
                                    "Freight": "16.27",
                                    "rownum": "217"
                                },
                                {
                                    "Freight": "16.34",
                                    "rownum": "218"
                                },
                                {
                                    "Freight": "16.37",
                                    "rownum": "219"
                                },
                                {
                                    "Freight": "16.56",
                                    "rownum": "220"
                                },
                                {
                                    "Freight": "16.71",
                                    "rownum": "221"
                                },
                                {
                                    "Freight": "16.72",
                                    "rownum": "222"
                                },
                                {
                                    "Freight": "16.74",
                                    "rownum": "223"
                                },
                                {
                                    "Freight": "16.85",
                                    "rownum": "224"
                                },
                                {
                                    "Freight": "16.96",
                                    "rownum": "225"
                                },
                                {
                                    "Freight": "16.97",
                                    "rownum": "226"
                                },
                                {
                                    "Freight": "17.22",
                                    "rownum": "227"
                                },
                                {
                                    "Freight": "17.52",
                                    "rownum": "228"
                                },
                                {
                                    "Freight": "17.55",
                                    "rownum": "229"
                                },
                                {
                                    "Freight": "17.68",
                                    "rownum": "230"
                                },
                                {
                                    "Freight": "17.92",
                                    "rownum": "231"
                                },
                                {
                                    "Freight": "17.95",
                                    "rownum": "232"
                                },
                                {
                                    "Freight": "18.44",
                                    "rownum": "233"
                                },
                                {
                                    "Freight": "18.53",
                                    "rownum": "234"
                                },
                                {
                                    "Freight": "18.56",
                                    "rownum": "235"
                                },
                                {
                                    "Freight": "18.66",
                                    "rownum": "236"
                                },
                                {
                                    "Freight": "18.69",
                                    "rownum": "237"
                                },
                                {
                                    "Freight": "18.84",
                                    "rownum": "238"
                                },
                                {
                                    "Freight": "19.26",
                                    "rownum": "239"
                                },
                                {
                                    "Freight": "19.58",
                                    "rownum": "240"
                                },
                                {
                                    "Freight": "19.64",
                                    "rownum": "241"
                                },
                                {
                                    "Freight": "19.76",
                                    "rownum": "242"
                                },
                                {
                                    "Freight": "19.77",
                                    "rownum": "243"
                                },
                                {
                                    "Freight": "19.79",
                                    "rownum": "244"
                                },
                                {
                                    "Freight": "19.80",
                                    "rownum": "245"
                                },
                                {
                                    "Freight": "19.97",
                                    "rownum": "246"
                                },
                                {
                                    "Freight": "20.12",
                                    "rownum": "247"
                                },
                                {
                                    "Freight": "20.25",
                                    "rownum": "248"
                                },
                                {
                                    "Freight": "20.31",
                                    "rownum": "249"
                                },
                                {
                                    "Freight": "20.37",
                                    "rownum": "250"
                                },
                                {
                                    "Freight": "20.39",
                                    "rownum": "251"
                                },
                                {
                                    "Freight": "20.60",
                                    "rownum": "252"
                                },
                                {
                                    "Freight": "21.18",
                                    "rownum": "253"
                                },
                                {
                                    "Freight": "21.19",
                                    "rownum": "254"
                                },
                                {
                                    "Freight": "21.48",
                                    "rownum": "255"
                                },
                                {
                                    "Freight": "21.49",
                                    "rownum": "256"
                                },
                                {
                                    "Freight": "21.72",
                                    "rownum": "257"
                                },
                                {
                                    "Freight": "21.74",
                                    "rownum": "258"
                                },
                                {
                                    "Freight": "22.00",
                                    "rownum": "259"
                                },
                                {
                                    "Freight": "22.11",
                                    "rownum": "260"
                                },
                                {
                                    "Freight": "22.21",
                                    "rownum": "261"
                                },
                                {
                                    "Freight": "22.57",
                                    "rownum": "262"
                                },
                                {
                                    "Freight": "22.72",
                                    "rownum": "263"
                                },
                                {
                                    "Freight": "22.76",
                                    "rownum": "264"
                                },
                                {
                                    "Freight": "22.77",
                                    "rownum": "265"
                                },
                                {
                                    "Freight": "22.95",
                                    "rownum": "266"
                                },
                                {
                                    "Freight": "22.98",
                                    "rownum": "267"
                                },
                                {
                                    "Freight": "23.10",
                                    "rownum": "268"
                                },
                                {
                                    "Freight": "23.29",
                                    "rownum": "269"
                                },
                                {
                                    "Freight": "23.39",
                                    "rownum": "270"
                                },
                                {
                                    "Freight": "23.55",
                                    "rownum": "271"
                                },
                                {
                                    "Freight": "23.60",
                                    "rownum": "272"
                                },
                                {
                                    "Freight": "23.65",
                                    "rownum": "273"
                                },
                                {
                                    "Freight": "23.72",
                                    "rownum": "274"
                                },
                                {
                                    "Freight": "23.73",
                                    "rownum": "275"
                                },
                                {
                                    "Freight": "23.79",
                                    "rownum": "276"
                                },
                                {
                                    "Freight": "23.94",
                                    "rownum": "277"
                                },
                                {
                                    "Freight": "24.12",
                                    "rownum": "278"
                                },
                                {
                                    "Freight": "24.39",
                                    "rownum": "279"
                                },
                                {
                                    "Freight": "24.49",
                                    "rownum": "280"
                                },
                                {
                                    "Freight": "24.50",
                                    "rownum": "281"
                                },
                                {
                                    "Freight": "24.69",
                                    "rownum": "282"
                                },
                                {
                                    "Freight": "24.91",
                                    "rownum": "283"
                                },
                                {
                                    "Freight": "24.95",
                                    "rownum": "284"
                                },
                                {
                                    "Freight": "25.09",
                                    "rownum": "285"
                                },
                                {
                                    "Freight": "25.19",
                                    "rownum": "286"
                                },
                                {
                                    "Freight": "25.22",
                                    "rownum": "287"
                                },
                                {
                                    "Freight": "25.36",
                                    "rownum": "288"
                                },
                                {
                                    "Freight": "25.41",
                                    "rownum": "289"
                                },
                                {
                                    "Freight": "25.73",
                                    "rownum": "290"
                                },
                                {
                                    "Freight": "25.83",
                                    "rownum": "291"
                                },
                                {
                                    "Freight": "26.06",
                                    "rownum": "292"
                                },
                                {
                                    "Freight": "26.29",
                                    "rownum": "293"
                                },
                                {
                                    "Freight": "26.31",
                                    "rownum": "294"
                                },
                                {
                                    "Freight": "26.52",
                                    "rownum": "295"
                                },
                                {
                                    "Freight": "26.61",
                                    "rownum": "296"
                                },
                                {
                                    "Freight": "26.78",
                                    "rownum": "297"
                                },
                                {
                                    "Freight": "26.93",
                                    "rownum": "298"
                                },
                                {
                                    "Freight": "27.19",
                                    "rownum": "299"
                                },
                                {
                                    "Freight": "27.20",
                                    "rownum": "300"
                                },
                                {
                                    "Freight": "27.33",
                                    "rownum": "301"
                                },
                                {
                                    "Freight": "27.36",
                                    "rownum": "302"
                                },
                                {
                                    "Freight": "27.71",
                                    "rownum": "303"
                                },
                                {
                                    "Freight": "27.79",
                                    "rownum": "304"
                                },
                                {
                                    "Freight": "27.91",
                                    "rownum": "305"
                                },
                                {
                                    "Freight": "27.94",
                                    "rownum": "306"
                                },
                                {
                                    "Freight": "28.23",
                                    "rownum": "307"
                                },
                                {
                                    "Freight": "28.71",
                                    "rownum": "308"
                                },
                                {
                                    "Freight": "29.17",
                                    "rownum": "309"
                                },
                                {
                                    "Freight": "29.46",
                                    "rownum": "310"
                                },
                                {
                                    "Freight": "29.59",
                                    "rownum": "311"
                                },
                                {
                                    "Freight": "29.60",
                                    "rownum": "312"
                                },
                                {
                                    "Freight": "29.61",
                                    "rownum": "313"
                                },
                                {
                                    "Freight": "29.75",
                                    "rownum": "314"
                                },
                                {
                                    "Freight": "29.76",
                                    "rownum": "315"
                                },
                                {
                                    "Freight": "29.78",
                                    "rownum": "316"
                                },
                                {
                                    "Freight": "29.83",
                                    "rownum": "317"
                                },
                                {
                                    "Freight": "29.93",
                                    "rownum": "318"
                                },
                                {
                                    "Freight": "29.98",
                                    "rownum": "319"
                                },
                                {
                                    "Freight": "29.99",
                                    "rownum": "320"
                                },
                                {
                                    "Freight": "30.09",
                                    "rownum": "321"
                                },
                                {
                                    "Freight": "30.26",
                                    "rownum": "322"
                                },
                                {
                                    "Freight": "30.34",
                                    "rownum": "323"
                                },
                                {
                                    "Freight": "30.36",
                                    "rownum": "324"
                                },
                                {
                                    "Freight": "30.53",
                                    "rownum": "325"
                                },
                                {
                                    "Freight": "30.54",
                                    "rownum": "326"
                                },
                                {
                                    "Freight": "30.76",
                                    "rownum": "327"
                                },
                                {
                                    "Freight": "30.85",
                                    "rownum": "328"
                                },
                                {
                                    "Freight": "30.96",
                                    "rownum": "329"
                                },
                                {
                                    "Freight": "31.14",
                                    "rownum": "330"
                                },
                                {
                                    "Freight": "31.22",
                                    "rownum": "331"
                                },
                                {
                                    "Freight": "31.29",
                                    "rownum": "332"
                                },
                                {
                                    "Freight": "31.43",
                                    "rownum": "333"
                                },
                                {
                                    "Freight": "31.51",
                                    "rownum": "334"
                                },
                                {
                                    "Freight": "31.85",
                                    "rownum": "335"
                                },
                                {
                                    "Freight": "31.89",
                                    "rownum": "336"
                                },
                                {
                                    "Freight": "32.01",
                                    "rownum": "337"
                                },
                                {
                                    "Freight": "32.07",
                                    "rownum": "338"
                                },
                                {
                                    "Freight": "32.10",
                                    "rownum": "339"
                                },
                                {
                                    "Freight": "32.27",
                                    "rownum": "340"
                                },
                                {
                                    "Freight": "32.35",
                                    "rownum": "341"
                                },
                                {
                                    "Freight": "32.37",
                                    "rownum": "342"
                                },
                                {
                                    "Freight": "32.38",
                                    "rownum": "343"
                                },
                                {
                                    "Freight": "32.45",
                                    "rownum": "344"
                                },
                                {
                                    "Freight": "32.76",
                                    "rownum": "345"
                                },
                                {
                                    "Freight": "32.82",
                                    "rownum": "346"
                                },
                                {
                                    "Freight": "32.96",
                                    "rownum": "347"
                                },
                                {
                                    "Freight": "32.99",
                                    "rownum": "348"
                                },
                                {
                                    "Freight": "33.05",
                                    "rownum": "349"
                                },
                                {
                                    "Freight": "33.35",
                                    "rownum": "350"
                                },
                                {
                                    "Freight": "33.68",
                                    "rownum": "351"
                                },
                                {
                                    "Freight": "33.75",
                                    "rownum": "352"
                                },
                                {
                                    "Freight": "33.80",
                                    "rownum": "353"
                                },
                                {
                                    "Freight": "33.93",
                                    "rownum": "354"
                                },
                                {
                                    "Freight": "33.97",
                                    "rownum": "355"
                                },
                                {
                                    "Freight": "34.24",
                                    "rownum": "356"
                                },
                                {
                                    "Freight": "34.57",
                                    "rownum": "357"
                                },
                                {
                                    "Freight": "34.76",
                                    "rownum": "358"
                                },
                                {
                                    "Freight": "34.82",
                                    "rownum": "359"
                                },
                                {
                                    "Freight": "34.86",
                                    "rownum": "360"
                                },
                                {
                                    "Freight": "34.88",
                                    "rownum": "361"
                                },
                                {
                                    "Freight": "35.03",
                                    "rownum": "362"
                                },
                                {
                                    "Freight": "35.12",
                                    "rownum": "363"
                                },
                                {
                                    "Freight": "35.43",
                                    "rownum": "364"
                                },
                                {
                                    "Freight": "36.13",
                                    "rownum": "365"
                                },
                                {
                                    "Freight": "36.21",
                                    "rownum": "366"
                                },
                                {
                                    "Freight": "36.65",
                                    "rownum": "367"
                                },
                                {
                                    "Freight": "36.68",
                                    "rownum": "368"
                                },
                                {
                                    "Freight": "36.71",
                                    "rownum": "369"
                                },
                                {
                                    "Freight": "37.35",
                                    "rownum": "370"
                                },
                                {
                                    "Freight": "37.52",
                                    "rownum": "371"
                                },
                                {
                                    "Freight": "37.60",
                                    "rownum": "372"
                                },
                                {
                                    "Freight": "37.97",
                                    "rownum": "373"
                                },
                                {
                                    "Freight": "38.06",
                                    "rownum": "374"
                                },
                                {
                                    "Freight": "38.11",
                                    "rownum": "375"
                                },
                                {
                                    "Freight": "38.19",
                                    "rownum": "376"
                                },
                                {
                                    "Freight": "38.24",
                                    "rownum": "377"
                                },
                                {
                                    "Freight": "38.28",
                                    "rownum": "378"
                                },
                                {
                                    "Freight": "38.51",
                                    "rownum": "379"
                                },
                                {
                                    "Freight": "38.64",
                                    "rownum": "380"
                                },
                                {
                                    "Freight": "38.82",
                                    "rownum": "381"
                                },
                                {
                                    "Freight": "39.92",
                                    "rownum": "382"
                                },
                                {
                                    "Freight": "40.26",
                                    "rownum": "383"
                                },
                                {
                                    "Freight": "40.32",
                                    "rownum": "384"
                                },
                                {
                                    "Freight": "40.42",
                                    "rownum": "385"
                                },
                                {
                                    "Freight": "41.34",
                                    "rownum": "386"
                                },
                                {
                                    "Freight": "41.38",
                                    "rownum": "387"
                                },
                                {
                                    "Freight": "41.76",
                                    "rownum": "388"
                                },
                                {
                                    "Freight": "41.89",
                                    "rownum": "389"
                                },
                                {
                                    "Freight": "41.90",
                                    "rownum": "390"
                                },
                                {
                                    "Freight": "41.95",
                                    "rownum": "391"
                                },
                                {
                                    "Freight": "42.11",
                                    "rownum": "392"
                                },
                                {
                                    "Freight": "42.13",
                                    "rownum": "393"
                                },
                                {
                                    "Freight": "42.68",
                                    "rownum": "394"
                                },
                                {
                                    "Freight": "42.70",
                                    "rownum": "395"
                                },
                                {
                                    "Freight": "42.74",
                                    "rownum": "396"
                                },
                                {
                                    "Freight": "43.26",
                                    "rownum": "397"
                                },
                                {
                                    "Freight": "43.30",
                                    "rownum": "398"
                                },
                                {
                                    "Freight": "43.90",
                                    "rownum": "399"
                                },
                                {
                                    "Freight": "44.10",
                                    "rownum": "400"
                                },
                                {
                                    "Freight": "44.12",
                                    "rownum": "401"
                                },
                                {
                                    "Freight": "44.15",
                                    "rownum": "402"
                                },
                                {
                                    "Freight": "44.17",
                                    "rownum": "403"
                                },
                                {
                                    "Freight": "44.42",
                                    "rownum": "404"
                                },
                                {
                                    "Freight": "44.65",
                                    "rownum": "405"
                                },
                                {
                                    "Freight": "44.72",
                                    "rownum": "406"
                                },
                                {
                                    "Freight": "44.77",
                                    "rownum": "407"
                                },
                                {
                                    "Freight": "44.84",
                                    "rownum": "408"
                                },
                                {
                                    "Freight": "45.03",
                                    "rownum": "409"
                                },
                                {
                                    "Freight": "45.08",
                                    "rownum": "410"
                                },
                                {
                                    "Freight": "45.13",
                                    "rownum": "411"
                                },
                                {
                                    "Freight": "45.33",
                                    "rownum": "412"
                                },
                                {
                                    "Freight": "45.52",
                                    "rownum": "413"
                                },
                                {
                                    "Freight": "45.53",
                                    "rownum": "414"
                                },
                                {
                                    "Freight": "45.54",
                                    "rownum": "415"
                                },
                                {
                                    "Freight": "45.59",
                                    "rownum": "416"
                                },
                                {
                                    "Freight": "45.97",
                                    "rownum": "417"
                                },
                                {
                                    "Freight": "46.00",
                                    "rownum": "418"
                                },
                                {
                                    "Freight": "46.62",
                                    "rownum": "419"
                                },
                                {
                                    "Freight": "46.69",
                                    "rownum": "420"
                                },
                                {
                                    "Freight": "46.77",
                                    "rownum": "421"
                                },
                                {
                                    "Freight": "47.09",
                                    "rownum": "422"
                                },
                                {
                                    "Freight": "47.22",
                                    "rownum": "423"
                                },
                                {
                                    "Freight": "47.30",
                                    "rownum": "424"
                                },
                                {
                                    "Freight": "47.38",
                                    "rownum": "425"
                                },
                                {
                                    "Freight": "47.42",
                                    "rownum": "426"
                                },
                                {
                                    "Freight": "47.45",
                                    "rownum": "427"
                                },
                                {
                                    "Freight": "47.46",
                                    "rownum": "428"
                                },
                                {
                                    "Freight": "47.59",
                                    "rownum": "429"
                                },
                                {
                                    "Freight": "47.84",
                                    "rownum": "430"
                                },
                                {
                                    "Freight": "47.94",
                                    "rownum": "431"
                                },
                                {
                                    "Freight": "48.17",
                                    "rownum": "432"
                                },
                                {
                                    "Freight": "48.20",
                                    "rownum": "433"
                                },
                                {
                                    "Freight": "48.22",
                                    "rownum": "434"
                                },
                                {
                                    "Freight": "48.29",
                                    "rownum": "435"
                                },
                                {
                                    "Freight": "48.77",
                                    "rownum": "436"
                                },
                                {
                                    "Freight": "48.83",
                                    "rownum": "437"
                                },
                                {
                                    "Freight": "48.92",
                                    "rownum": "438"
                                },
                                {
                                    "Freight": "49.19",
                                    "rownum": "439"
                                },
                                {
                                    "Freight": "49.56",
                                    "rownum": "440"
                                },
                                {
                                    "Freight": "50.97",
                                    "rownum": "441"
                                },
                                {
                                    "Freight": "51.30",
                                    "rownum": "442"
                                },
                                {
                                    "Freight": "51.44",
                                    "rownum": "443"
                                },
                                {
                                    "Freight": "51.87",
                                    "rownum": "444"
                                },
                                {
                                    "Freight": "52.41",
                                    "rownum": "445"
                                },
                                {
                                    "Freight": "52.51",
                                    "rownum": "446"
                                },
                                {
                                    "Freight": "52.52",
                                    "rownum": "447"
                                },
                                {
                                    "Freight": "52.84",
                                    "rownum": "448"
                                },
                                {
                                    "Freight": "52.92",
                                    "rownum": "449"
                                },
                                {
                                    "Freight": "53.05",
                                    "rownum": "450"
                                },
                                {
                                    "Freight": "53.23",
                                    "rownum": "451"
                                },
                                {
                                    "Freight": "53.30",
                                    "rownum": "452"
                                },
                                {
                                    "Freight": "53.80",
                                    "rownum": "453"
                                },
                                {
                                    "Freight": "53.83",
                                    "rownum": "454"
                                },
                                {
                                    "Freight": "54.15",
                                    "rownum": "455"
                                },
                                {
                                    "Freight": "54.42",
                                    "rownum": "456"
                                },
                                {
                                    "Freight": "54.83",
                                    "rownum": "457"
                                },
                                {
                                    "Freight": "55.09",
                                    "rownum": "458"
                                },
                                {
                                    "Freight": "55.12",
                                    "rownum": "459"
                                },
                                {
                                    "Freight": "55.23",
                                    "rownum": "460"
                                },
                                {
                                    "Freight": "55.26",
                                    "rownum": "461"
                                },
                                {
                                    "Freight": "55.28",
                                    "rownum": "462"
                                },
                                {
                                    "Freight": "55.92",
                                    "rownum": "463"
                                },
                                {
                                    "Freight": "56.46",
                                    "rownum": "464"
                                },
                                {
                                    "Freight": "56.63",
                                    "rownum": "465"
                                },
                                {
                                    "Freight": "57.15",
                                    "rownum": "466"
                                },
                                {
                                    "Freight": "57.75",
                                    "rownum": "467"
                                },
                                {
                                    "Freight": "58.13",
                                    "rownum": "468"
                                },
                                {
                                    "Freight": "58.17",
                                    "rownum": "469"
                                },
                                {
                                    "Freight": "58.30",
                                    "rownum": "470"
                                },
                                {
                                    "Freight": "58.33",
                                    "rownum": "471"
                                },
                                {
                                    "Freight": "58.43",
                                    "rownum": "472"
                                },
                                {
                                    "Freight": "58.59",
                                    "rownum": "473"
                                },
                                {
                                    "Freight": "58.88",
                                    "rownum": "474"
                                },
                                {
                                    "Freight": "58.98",
                                    "rownum": "475"
                                },
                                {
                                    "Freight": "59.11",
                                    "rownum": "476"
                                },
                                {
                                    "Freight": "59.13",
                                    "rownum": "477"
                                },
                                {
                                    "Freight": "59.14",
                                    "rownum": "478"
                                },
                                {
                                    "Freight": "59.25",
                                    "rownum": "479"
                                },
                                {
                                    "Freight": "59.28",
                                    "rownum": "480"
                                },
                                {
                                    "Freight": "59.41",
                                    "rownum": "481"
                                },
                                {
                                    "Freight": "59.78",
                                    "rownum": "482"
                                },
                                {
                                    "Freight": "60.18",
                                    "rownum": "483"
                                },
                                {
                                    "Freight": "60.26",
                                    "rownum": "484"
                                },
                                {
                                    "Freight": "60.42",
                                    "rownum": "485"
                                },
                                {
                                    "Freight": "60.43",
                                    "rownum": "486"
                                },
                                {
                                    "Freight": "61.02",
                                    "rownum": "487"
                                },
                                {
                                    "Freight": "61.14",
                                    "rownum": "488"
                                },
                                {
                                    "Freight": "61.53",
                                    "rownum": "489"
                                },
                                {
                                    "Freight": "62.09",
                                    "rownum": "490"
                                },
                                {
                                    "Freight": "62.22",
                                    "rownum": "491"
                                },
                                {
                                    "Freight": "62.52",
                                    "rownum": "492"
                                },
                                {
                                    "Freight": "62.74",
                                    "rownum": "493"
                                },
                                {
                                    "Freight": "62.78",
                                    "rownum": "494"
                                },
                                {
                                    "Freight": "62.89",
                                    "rownum": "495"
                                },
                                {
                                    "Freight": "63.20",
                                    "rownum": "496"
                                },
                                {
                                    "Freight": "63.36",
                                    "rownum": "497"
                                },
                                {
                                    "Freight": "63.54",
                                    "rownum": "498"
                                },
                                {
                                    "Freight": "63.77",
                                    "rownum": "499"
                                },
                                {
                                    "Freight": "63.79",
                                    "rownum": "500"
                                },
                                {
                                    "Freight": "64.19",
                                    "rownum": "501"
                                },
                                {
                                    "Freight": "64.33",
                                    "rownum": "502"
                                },
                                {
                                    "Freight": "64.45",
                                    "rownum": "503"
                                },
                                {
                                    "Freight": "64.50",
                                    "rownum": "504"
                                },
                                {
                                    "Freight": "64.56",
                                    "rownum": "505"
                                },
                                {
                                    "Freight": "64.86",
                                    "rownum": "506"
                                },
                                {
                                    "Freight": "65.00",
                                    "rownum": "507"
                                },
                                {
                                    "Freight": "65.06",
                                    "rownum": "508"
                                },
                                {
                                    "Freight": "65.10",
                                    "rownum": "509"
                                },
                                {
                                    "Freight": "65.48",
                                    "rownum": "510"
                                },
                                {
                                    "Freight": "65.53",
                                    "rownum": "511"
                                },
                                {
                                    "Freight": "65.83",
                                    "rownum": "512"
                                },
                                {
                                    "Freight": "65.99",
                                    "rownum": "513"
                                },
                                {
                                    "Freight": "66.29",
                                    "rownum": "514"
                                },
                                {
                                    "Freight": "66.69",
                                    "rownum": "515"
                                },
                                {
                                    "Freight": "67.26",
                                    "rownum": "516"
                                },
                                {
                                    "Freight": "67.88",
                                    "rownum": "517"
                                },
                                {
                                    "Freight": "68.26",
                                    "rownum": "518"
                                },
                                {
                                    "Freight": "68.52",
                                    "rownum": "519"
                                },
                                {
                                    "Freight": "68.65",
                                    "rownum": "520"
                                },
                                {
                                    "Freight": "68.66",
                                    "rownum": "521"
                                },
                                {
                                    "Freight": "69.19",
                                    "rownum": "522"
                                },
                                {
                                    "Freight": "69.32",
                                    "rownum": "523"
                                },
                                {
                                    "Freight": "69.53",
                                    "rownum": "524"
                                },
                                {
                                    "Freight": "70.09",
                                    "rownum": "525"
                                },
                                {
                                    "Freight": "70.29",
                                    "rownum": "526"
                                },
                                {
                                    "Freight": "70.58",
                                    "rownum": "527"
                                },
                                {
                                    "Freight": "71.07",
                                    "rownum": "528"
                                },
                                {
                                    "Freight": "71.49",
                                    "rownum": "529"
                                },
                                {
                                    "Freight": "71.64",
                                    "rownum": "530"
                                },
                                {
                                    "Freight": "71.97",
                                    "rownum": "531"
                                },
                                {
                                    "Freight": "72.19",
                                    "rownum": "532"
                                },
                                {
                                    "Freight": "72.95",
                                    "rownum": "533"
                                },
                                {
                                    "Freight": "72.97",
                                    "rownum": "534"
                                },
                                {
                                    "Freight": "73.02",
                                    "rownum": "535"
                                },
                                {
                                    "Freight": "73.16",
                                    "rownum": "536"
                                },
                                {
                                    "Freight": "73.21",
                                    "rownum": "537"
                                },
                                {
                                    "Freight": "73.79",
                                    "rownum": "538"
                                },
                                {
                                    "Freight": "73.83",
                                    "rownum": "539"
                                },
                                {
                                    "Freight": "73.91",
                                    "rownum": "540"
                                },
                                {
                                    "Freight": "74.16",
                                    "rownum": "541"
                                },
                                {
                                    "Freight": "74.36",
                                    "rownum": "542"
                                },
                                {
                                    "Freight": "74.44",
                                    "rownum": "543"
                                },
                                {
                                    "Freight": "74.46",
                                    "rownum": "544"
                                },
                                {
                                    "Freight": "74.58",
                                    "rownum": "545"
                                },
                                {
                                    "Freight": "74.60",
                                    "rownum": "546"
                                },
                                {
                                    "Freight": "75.89",
                                    "rownum": "547"
                                },
                                {
                                    "Freight": "76.07",
                                    "rownum": "548"
                                },
                                {
                                    "Freight": "76.10",
                                    "rownum": "549"
                                },
                                {
                                    "Freight": "76.13",
                                    "rownum": "550"
                                },
                                {
                                    "Freight": "76.33",
                                    "rownum": "551"
                                },
                                {
                                    "Freight": "76.56",
                                    "rownum": "552"
                                },
                                {
                                    "Freight": "76.83",
                                    "rownum": "553"
                                },
                                {
                                    "Freight": "77.63",
                                    "rownum": "554"
                                },
                                {
                                    "Freight": "77.78",
                                    "rownum": "555"
                                },
                                {
                                    "Freight": "77.92",
                                    "rownum": "556"
                                },
                                {
                                    "Freight": "78.09",
                                    "rownum": "557"
                                },
                                {
                                    "Freight": "78.85",
                                    "rownum": "558"
                                },
                                {
                                    "Freight": "79.25",
                                    "rownum": "559"
                                },
                                {
                                    "Freight": "79.30",
                                    "rownum": "560"
                                },
                                {
                                    "Freight": "79.40",
                                    "rownum": "561"
                                },
                                {
                                    "Freight": "79.46",
                                    "rownum": "562"
                                },
                                {
                                    "Freight": "79.70",
                                    "rownum": "563"
                                },
                                {
                                    "Freight": "80.65",
                                    "rownum": "564"
                                },
                                {
                                    "Freight": "81.73",
                                    "rownum": "565"
                                },
                                {
                                    "Freight": "81.75",
                                    "rownum": "566"
                                },
                                {
                                    "Freight": "81.83",
                                    "rownum": "567"
                                },
                                {
                                    "Freight": "81.88",
                                    "rownum": "568"
                                },
                                {
                                    "Freight": "81.91",
                                    "rownum": "569"
                                },
                                {
                                    "Freight": "83.22",
                                    "rownum": "570"
                                },
                                {
                                    "Freight": "83.49",
                                    "rownum": "571"
                                },
                                {
                                    "Freight": "83.93",
                                    "rownum": "572"
                                },
                                {
                                    "Freight": "84.21",
                                    "rownum": "573"
                                },
                                {
                                    "Freight": "84.74",
                                    "rownum": "574"
                                },
                                {
                                    "Freight": "84.81",
                                    "rownum": "575"
                                },
                                {
                                    "Freight": "84.84",
                                    "rownum": "576"
                                },
                                {
                                    "Freight": "85.46",
                                    "rownum": "577"
                                },
                                {
                                    "Freight": "85.80",
                                    "rownum": "578"
                                },
                                {
                                    "Freight": "86.53",
                                    "rownum": "579"
                                },
                                {
                                    "Freight": "87.03",
                                    "rownum": "580"
                                },
                                {
                                    "Freight": "87.38",
                                    "rownum": "581"
                                },
                                {
                                    "Freight": "88.01",
                                    "rownum": "582"
                                },
                                {
                                    "Freight": "88.40",
                                    "rownum": "583"
                                },
                                {
                                    "Freight": "89.00",
                                    "rownum": "584"
                                },
                                {
                                    "Freight": "89.16",
                                    "rownum": "585"
                                },
                                {
                                    "Freight": "89.90",
                                    "rownum": "586"
                                },
                                {
                                    "Freight": "89.93",
                                    "rownum": "587"
                                },
                                {
                                    "Freight": "90.85",
                                    "rownum": "588"
                                },
                                {
                                    "Freight": "90.97",
                                    "rownum": "589"
                                },
                                {
                                    "Freight": "91.05",
                                    "rownum": "590"
                                },
                                {
                                    "Freight": "91.28",
                                    "rownum": "591"
                                },
                                {
                                    "Freight": "91.48",
                                    "rownum": "592"
                                },
                                {
                                    "Freight": "91.51",
                                    "rownum": "593"
                                },
                                {
                                    "Freight": "91.76",
                                    "rownum": "594"
                                },
                                {
                                    "Freight": "92.69",
                                    "rownum": "595"
                                },
                                {
                                    "Freight": "93.25",
                                    "rownum": "596"
                                },
                                {
                                    "Freight": "93.63",
                                    "rownum": "597"
                                },
                                {
                                    "Freight": "94.77",
                                    "rownum": "598"
                                },
                                {
                                    "Freight": "94.80",
                                    "rownum": "599"
                                },
                                {
                                    "Freight": "95.66",
                                    "rownum": "600"
                                },
                                {
                                    "Freight": "95.75",
                                    "rownum": "601"
                                },
                                {
                                    "Freight": "96.04",
                                    "rownum": "602"
                                },
                                {
                                    "Freight": "96.35",
                                    "rownum": "603"
                                },
                                {
                                    "Freight": "96.43",
                                    "rownum": "604"
                                },
                                {
                                    "Freight": "96.50",
                                    "rownum": "605"
                                },
                                {
                                    "Freight": "96.65",
                                    "rownum": "606"
                                },
                                {
                                    "Freight": "96.72",
                                    "rownum": "607"
                                },
                                {
                                    "Freight": "96.78",
                                    "rownum": "608"
                                },
                                {
                                    "Freight": "97.09",
                                    "rownum": "609"
                                },
                                {
                                    "Freight": "97.18",
                                    "rownum": "610"
                                },
                                {
                                    "Freight": "98.03",
                                    "rownum": "611"
                                },
                                {
                                    "Freight": "99.23",
                                    "rownum": "612"
                                },
                                {
                                    "Freight": "100.22",
                                    "rownum": "613"
                                },
                                {
                                    "Freight": "100.60",
                                    "rownum": "614"
                                },
                                {
                                    "Freight": "101.95",
                                    "rownum": "615"
                                },
                                {
                                    "Freight": "102.02",
                                    "rownum": "616"
                                },
                                {
                                    "Freight": "102.55",
                                    "rownum": "617"
                                },
                                {
                                    "Freight": "104.47",
                                    "rownum": "618"
                                },
                                {
                                    "Freight": "105.36",
                                    "rownum": "619"
                                },
                                {
                                    "Freight": "105.65",
                                    "rownum": "620"
                                },
                                {
                                    "Freight": "105.81",
                                    "rownum": "621"
                                },
                                {
                                    "Freight": "107.46",
                                    "rownum": "622"
                                },
                                {
                                    "Freight": "107.83",
                                    "rownum": "623"
                                },
                                {
                                    "Freight": "108.04",
                                    "rownum": "624"
                                },
                                {
                                    "Freight": "108.26",
                                    "rownum": "625"
                                },
                                {
                                    "Freight": "109.11",
                                    "rownum": "626"
                                },
                                {
                                    "Freight": "110.11",
                                    "rownum": "627"
                                },
                                {
                                    "Freight": "110.37",
                                    "rownum": "628"
                                },
                                {
                                    "Freight": "110.87",
                                    "rownum": "629"
                                },
                                {
                                    "Freight": "111.29",
                                    "rownum": "630"
                                },
                                {
                                    "Freight": "112.27",
                                    "rownum": "631"
                                },
                                {
                                    "Freight": "113.15",
                                    "rownum": "632"
                                },
                                {
                                    "Freight": "116.13",
                                    "rownum": "633"
                                },
                                {
                                    "Freight": "116.43",
                                    "rownum": "634"
                                },
                                {
                                    "Freight": "116.53",
                                    "rownum": "635"
                                },
                                {
                                    "Freight": "117.33",
                                    "rownum": "636"
                                },
                                {
                                    "Freight": "117.61",
                                    "rownum": "637"
                                },
                                {
                                    "Freight": "120.27",
                                    "rownum": "638"
                                },
                                {
                                    "Freight": "120.92",
                                    "rownum": "639"
                                },
                                {
                                    "Freight": "120.97",
                                    "rownum": "640"
                                },
                                {
                                    "Freight": "121.82",
                                    "rownum": "641"
                                },
                                {
                                    "Freight": "122.46",
                                    "rownum": "642"
                                },
                                {
                                    "Freight": "123.83",
                                    "rownum": "643"
                                },
                                {
                                    "Freight": "124.12",
                                    "rownum": "644"
                                },
                                {
                                    "Freight": "124.98",
                                    "rownum": "645"
                                },
                                {
                                    "Freight": "125.77",
                                    "rownum": "646"
                                },
                                {
                                    "Freight": "126.38",
                                    "rownum": "647"
                                },
                                {
                                    "Freight": "126.56",
                                    "rownum": "648"
                                },
                                {
                                    "Freight": "126.66",
                                    "rownum": "649"
                                },
                                {
                                    "Freight": "127.34",
                                    "rownum": "650"
                                },
                                {
                                    "Freight": "130.79",
                                    "rownum": "651"
                                },
                                {
                                    "Freight": "130.94",
                                    "rownum": "652"
                                },
                                {
                                    "Freight": "131.70",
                                    "rownum": "653"
                                },
                                {
                                    "Freight": "134.64",
                                    "rownum": "654"
                                },
                                {
                                    "Freight": "135.35",
                                    "rownum": "655"
                                },
                                {
                                    "Freight": "135.63",
                                    "rownum": "656"
                                },
                                {
                                    "Freight": "136.00",
                                    "rownum": "657"
                                },
                                {
                                    "Freight": "136.54",
                                    "rownum": "658"
                                },
                                {
                                    "Freight": "137.35",
                                    "rownum": "659"
                                },
                                {
                                    "Freight": "137.44",
                                    "rownum": "660"
                                },
                                {
                                    "Freight": "138.17",
                                    "rownum": "661"
                                },
                                {
                                    "Freight": "138.69",
                                    "rownum": "662"
                                },
                                {
                                    "Freight": "139.34",
                                    "rownum": "663"
                                },
                                {
                                    "Freight": "140.26",
                                    "rownum": "664"
                                },
                                {
                                    "Freight": "140.51",
                                    "rownum": "665"
                                },
                                {
                                    "Freight": "141.06",
                                    "rownum": "666"
                                },
                                {
                                    "Freight": "141.16",
                                    "rownum": "667"
                                },
                                {
                                    "Freight": "142.08",
                                    "rownum": "668"
                                },
                                {
                                    "Freight": "142.33",
                                    "rownum": "669"
                                },
                                {
                                    "Freight": "143.28",
                                    "rownum": "670"
                                },
                                {
                                    "Freight": "144.38",
                                    "rownum": "671"
                                },
                                {
                                    "Freight": "145.04",
                                    "rownum": "672"
                                },
                                {
                                    "Freight": "145.45",
                                    "rownum": "673"
                                },
                                {
                                    "Freight": "145.63",
                                    "rownum": "674"
                                },
                                {
                                    "Freight": "146.06",
                                    "rownum": "675"
                                },
                                {
                                    "Freight": "146.32",
                                    "rownum": "676"
                                },
                                {
                                    "Freight": "147.06",
                                    "rownum": "677"
                                },
                                {
                                    "Freight": "147.26",
                                    "rownum": "678"
                                },
                                {
                                    "Freight": "148.33",
                                    "rownum": "679"
                                },
                                {
                                    "Freight": "148.61",
                                    "rownum": "680"
                                },
                                {
                                    "Freight": "149.47",
                                    "rownum": "681"
                                },
                                {
                                    "Freight": "149.49",
                                    "rownum": "682"
                                },
                                {
                                    "Freight": "150.15",
                                    "rownum": "683"
                                },
                                {
                                    "Freight": "151.52",
                                    "rownum": "684"
                                },
                                {
                                    "Freight": "152.30",
                                    "rownum": "685"
                                },
                                {
                                    "Freight": "154.68",
                                    "rownum": "686"
                                },
                                {
                                    "Freight": "154.72",
                                    "rownum": "687"
                                },
                                {
                                    "Freight": "155.64",
                                    "rownum": "688"
                                },
                                {
                                    "Freight": "155.97",
                                    "rownum": "689"
                                },
                                {
                                    "Freight": "156.66",
                                    "rownum": "690"
                                },
                                {
                                    "Freight": "157.55",
                                    "rownum": "691"
                                },
                                {
                                    "Freight": "158.44",
                                    "rownum": "692"
                                },
                                {
                                    "Freight": "160.55",
                                    "rownum": "693"
                                },
                                {
                                    "Freight": "162.33",
                                    "rownum": "694"
                                },
                                {
                                    "Freight": "162.75",
                                    "rownum": "695"
                                },
                                {
                                    "Freight": "162.95",
                                    "rownum": "696"
                                },
                                {
                                    "Freight": "163.97",
                                    "rownum": "697"
                                },
                                {
                                    "Freight": "166.31",
                                    "rownum": "698"
                                },
                                {
                                    "Freight": "167.05",
                                    "rownum": "699"
                                },
                                {
                                    "Freight": "168.22",
                                    "rownum": "700"
                                },
                                {
                                    "Freight": "168.64",
                                    "rownum": "701"
                                },
                                {
                                    "Freight": "170.88",
                                    "rownum": "702"
                                },
                                {
                                    "Freight": "170.97",
                                    "rownum": "703"
                                },
                                {
                                    "Freight": "171.24",
                                    "rownum": "704"
                                },
                                {
                                    "Freight": "174.05",
                                    "rownum": "705"
                                },
                                {
                                    "Freight": "174.20",
                                    "rownum": "706"
                                },
                                {
                                    "Freight": "175.32",
                                    "rownum": "707"
                                },
                                {
                                    "Freight": "176.48",
                                    "rownum": "708"
                                },
                                {
                                    "Freight": "176.81",
                                    "rownum": "709"
                                },
                                {
                                    "Freight": "178.43",
                                    "rownum": "710"
                                },
                                {
                                    "Freight": "179.61",
                                    "rownum": "711"
                                },
                                {
                                    "Freight": "180.45",
                                    "rownum": "712"
                                },
                                {
                                    "Freight": "183.17",
                                    "rownum": "713"
                                },
                                {
                                    "Freight": "184.41",
                                    "rownum": "714"
                                },
                                {
                                    "Freight": "185.48",
                                    "rownum": "715"
                                },
                                {
                                    "Freight": "188.04",
                                    "rownum": "716"
                                },
                                {
                                    "Freight": "188.85",
                                    "rownum": "717"
                                },
                                {
                                    "Freight": "188.99",
                                    "rownum": "718"
                                },
                                {
                                    "Freight": "189.09",
                                    "rownum": "719"
                                },
                                {
                                    "Freight": "191.27",
                                    "rownum": "720"
                                },
                                {
                                    "Freight": "191.67",
                                    "rownum": "721"
                                },
                                {
                                    "Freight": "193.37",
                                    "rownum": "722"
                                },
                                {
                                    "Freight": "194.67",
                                    "rownum": "723"
                                },
                                {
                                    "Freight": "194.72",
                                    "rownum": "724"
                                },
                                {
                                    "Freight": "195.68",
                                    "rownum": "725"
                                },
                                {
                                    "Freight": "197.30",
                                    "rownum": "726"
                                },
                                {
                                    "Freight": "200.24",
                                    "rownum": "727"
                                },
                                {
                                    "Freight": "201.29",
                                    "rownum": "728"
                                },
                                {
                                    "Freight": "202.24",
                                    "rownum": "729"
                                },
                                {
                                    "Freight": "203.48",
                                    "rownum": "730"
                                },
                                {
                                    "Freight": "204.47",
                                    "rownum": "731"
                                },
                                {
                                    "Freight": "208.50",
                                    "rownum": "732"
                                },
                                {
                                    "Freight": "208.58",
                                    "rownum": "733"
                                },
                                {
                                    "Freight": "210.19",
                                    "rownum": "734"
                                },
                                {
                                    "Freight": "210.80",
                                    "rownum": "735"
                                },
                                {
                                    "Freight": "211.22",
                                    "rownum": "736"
                                },
                                {
                                    "Freight": "212.98",
                                    "rownum": "737"
                                },
                                {
                                    "Freight": "214.27",
                                    "rownum": "738"
                                },
                                {
                                    "Freight": "217.86",
                                    "rownum": "739"
                                },
                                {
                                    "Freight": "218.15",
                                    "rownum": "740"
                                },
                                {
                                    "Freight": "220.31",
                                    "rownum": "741"
                                },
                                {
                                    "Freight": "227.22",
                                    "rownum": "742"
                                },
                                {
                                    "Freight": "229.24",
                                    "rownum": "743"
                                },
                                {
                                    "Freight": "232.42",
                                    "rownum": "744"
                                },
                                {
                                    "Freight": "232.55",
                                    "rownum": "745"
                                },
                                {
                                    "Freight": "237.34",
                                    "rownum": "746"
                                },
                                {
                                    "Freight": "242.21",
                                    "rownum": "747"
                                },
                                {
                                    "Freight": "242.95",
                                    "rownum": "748"
                                },
                                {
                                    "Freight": "243.73",
                                    "rownum": "749"
                                },
                                {
                                    "Freight": "244.79",
                                    "rownum": "750"
                                },
                                {
                                    "Freight": "249.06",
                                    "rownum": "751"
                                },
                                {
                                    "Freight": "249.93",
                                    "rownum": "752"
                                },
                                {
                                    "Freight": "252.49",
                                    "rownum": "753"
                                },
                                {
                                    "Freight": "257.26",
                                    "rownum": "754"
                                },
                                {
                                    "Freight": "257.62",
                                    "rownum": "755"
                                },
                                {
                                    "Freight": "258.64",
                                    "rownum": "756"
                                },
                                {
                                    "Freight": "272.47",
                                    "rownum": "757"
                                },
                                {
                                    "Freight": "275.79",
                                    "rownum": "758"
                                },
                                {
                                    "Freight": "278.96",
                                    "rownum": "759"
                                },
                                {
                                    "Freight": "280.61",
                                    "rownum": "760"
                                },
                                {
                                    "Freight": "288.43",
                                    "rownum": "761"
                                },
                                {
                                    "Freight": "296.43",
                                    "rownum": "762"
                                },
                                {
                                    "Freight": "297.18",
                                    "rownum": "763"
                                },
                                {
                                    "Freight": "299.09",
                                    "rownum": "764"
                                },
                                {
                                    "Freight": "306.07",
                                    "rownum": "765"
                                },
                                {
                                    "Freight": "328.74",
                                    "rownum": "766"
                                },
                                {
                                    "Freight": "339.22",
                                    "rownum": "767"
                                },
                                {
                                    "Freight": "348.14",
                                    "rownum": "768"
                                },
                                {
                                    "Freight": "350.64",
                                    "rownum": "769"
                                },
                                {
                                    "Freight": "351.53",
                                    "rownum": "770"
                                },
                                {
                                    "Freight": "352.69",
                                    "rownum": "771"
                                },
                                {
                                    "Freight": "353.07",
                                    "rownum": "772"
                                },
                                {
                                    "Freight": "360.63",
                                    "rownum": "773"
                                },
                                {
                                    "Freight": "364.15",
                                    "rownum": "774"
                                },
                                {
                                    "Freight": "367.63",
                                    "rownum": "775"
                                },
                                {
                                    "Freight": "370.61",
                                    "rownum": "776"
                                },
                                {
                                    "Freight": "379.13",
                                    "rownum": "777"
                                },
                                {
                                    "Freight": "388.98",
                                    "rownum": "778"
                                },
                                {
                                    "Freight": "398.36",
                                    "rownum": "779"
                                },
                                {
                                    "Freight": "400.81",
                                    "rownum": "780"
                                },
                                {
                                    "Freight": "411.88",
                                    "rownum": "781"
                                },
                                {
                                    "Freight": "424.30",
                                    "rownum": "782"
                                },
                                {
                                    "Freight": "458.78",
                                    "rownum": "783"
                                },
                                {
                                    "Freight": "477.90",
                                    "rownum": "784"
                                },
                                {
                                    "Freight": "487.38",
                                    "rownum": "785"
                                },
                                {
                                    "Freight": "487.57",
                                    "rownum": "786"
                                },
                                {
                                    "Freight": "544.08",
                                    "rownum": "787"
                                },
                                {
                                    "Freight": "580.91",
                                    "rownum": "788"
                                },
                                {
                                    "Freight": "603.54",
                                    "rownum": "789"
                                },
                                {
                                    "Freight": "606.19",
                                    "rownum": "790"
                                },
                                {
                                    "Freight": "657.54",
                                    "rownum": "791"
                                },
                                {
                                    "Freight": "708.95",
                                    "rownum": "792"
                                },
                                {
                                    "Freight": "719.78",
                                    "rownum": "793"
                                },
                                {
                                    "Freight": "754.26",
                                    "rownum": "794"
                                },
                                {
                                    "Freight": "789.95",
                                    "rownum": "795"
                                },
                                {
                                    "Freight": "810.05",
                                    "rownum": "796"
                                },
                                {
                                    "Freight": "830.75",
                                    "rownum": "797"
                                },
                                {
                                    "Freight": "890.78",
                                    "rownum": "798"
                                },
                                {
                                    "Freight": "1007.64",
                                    "rownum": "799"
                                }
                            ]
                        },
                        "text/html": "<table><tr><th>Freight</th><th>rownum</th></tr><tr><td>0.02</td><td>1</td></tr><tr><td>0.12</td><td>2</td></tr><tr><td>0.14</td><td>3</td></tr><tr><td>0.15</td><td>4</td></tr><tr><td>0.17</td><td>5</td></tr><tr><td>0.20</td><td>6</td></tr><tr><td>0.21</td><td>7</td></tr><tr><td>0.33</td><td>8</td></tr><tr><td>0.40</td><td>9</td></tr><tr><td>0.45</td><td>10</td></tr><tr><td>0.48</td><td>11</td></tr><tr><td>0.53</td><td>12</td></tr><tr><td>0.56</td><td>13</td></tr><tr><td>0.58</td><td>14</td></tr><tr><td>0.59</td><td>15</td></tr><tr><td>0.75</td><td>16</td></tr><tr><td>0.78</td><td>17</td></tr><tr><td>0.82</td><td>18</td></tr><tr><td>0.87</td><td>19</td></tr><tr><td>0.90</td><td>20</td></tr><tr><td>0.93</td><td>21</td></tr><tr><td>0.94</td><td>22</td></tr><tr><td>1.10</td><td>23</td></tr><tr><td>1.12</td><td>24</td></tr><tr><td>1.15</td><td>25</td></tr><tr><td>1.17</td><td>26</td></tr><tr><td>1.21</td><td>27</td></tr><tr><td>1.23</td><td>28</td></tr><tr><td>1.25</td><td>29</td></tr><tr><td>1.26</td><td>30</td></tr><tr><td>1.27</td><td>31</td></tr><tr><td>1.28</td><td>32</td></tr><tr><td>1.30</td><td>33</td></tr><tr><td>1.35</td><td>34</td></tr><tr><td>1.36</td><td>35</td></tr><tr><td>1.39</td><td>36</td></tr><tr><td>1.43</td><td>37</td></tr><tr><td>1.51</td><td>38</td></tr><tr><td>1.59</td><td>39</td></tr><tr><td>1.61</td><td>40</td></tr><tr><td>1.63</td><td>41</td></tr><tr><td>1.66</td><td>42</td></tr><tr><td>1.85</td><td>43</td></tr><tr><td>1.93</td><td>44</td></tr><tr><td>1.96</td><td>45</td></tr><tr><td>2.01</td><td>46</td></tr><tr><td>2.08</td><td>47</td></tr><tr><td>2.17</td><td>48</td></tr><tr><td>2.27</td><td>49</td></tr><tr><td>2.33</td><td>50</td></tr><tr><td>2.38</td><td>51</td></tr><tr><td>2.40</td><td>52</td></tr><tr><td>2.50</td><td>53</td></tr><tr><td>2.70</td><td>54</td></tr><tr><td>2.71</td><td>55</td></tr><tr><td>2.74</td><td>56</td></tr><tr><td>2.79</td><td>57</td></tr><tr><td>2.84</td><td>58</td></tr><tr><td>2.91</td><td>59</td></tr><tr><td>2.92</td><td>60</td></tr><tr><td>2.94</td><td>61</td></tr><tr><td>2.96</td><td>62</td></tr><tr><td>3.01</td><td>63</td></tr><tr><td>3.02</td><td>64</td></tr><tr><td>3.04</td><td>65</td></tr><tr><td>3.05</td><td>66</td></tr><tr><td>3.10</td><td>67</td></tr><tr><td>3.17</td><td>68</td></tr><tr><td>3.20</td><td>69</td></tr><tr><td>3.25</td><td>70</td></tr><tr><td>3.26</td><td>71</td></tr><tr><td>3.35</td><td>72</td></tr><tr><td>3.43</td><td>73</td></tr><tr><td>3.50</td><td>74</td></tr><tr><td>3.51</td><td>75</td></tr><tr><td>3.52</td><td>76</td></tr><tr><td>3.53</td><td>77</td></tr><tr><td>3.67</td><td>78</td></tr><tr><td>3.77</td><td>79</td></tr><tr><td>3.94</td><td>80</td></tr><tr><td>4.03</td><td>81</td></tr><tr><td>4.07</td><td>82</td></tr><tr><td>4.13</td><td>83</td></tr><tr><td>4.20</td><td>84</td></tr><tr><td>4.27</td><td>85</td></tr><tr><td>4.32</td><td>86</td></tr><tr><td>4.33</td><td>87</td></tr><tr><td>4.34</td><td>88</td></tr><tr><td>4.40</td><td>89</td></tr><tr><td>4.41</td><td>90</td></tr><tr><td>4.42</td><td>91</td></tr><tr><td>4.52</td><td>92</td></tr><tr><td>4.54</td><td>93</td></tr><tr><td>4.56</td><td>94</td></tr><tr><td>4.62</td><td>95</td></tr><tr><td>4.65</td><td>96</td></tr><tr><td>4.73</td><td>97</td></tr><tr><td>4.78</td><td>98</td></tr><tr><td>4.81</td><td>99</td></tr><tr><td>4.87</td><td>100</td></tr><tr><td>4.88</td><td>101</td></tr><tr><td>4.93</td><td>102</td></tr><tr><td>4.98</td><td>103</td></tr><tr><td>4.99</td><td>104</td></tr><tr><td>5.24</td><td>105</td></tr><tr><td>5.29</td><td>106</td></tr><tr><td>5.32</td><td>107</td></tr><tr><td>5.44</td><td>108</td></tr><tr><td>5.45</td><td>109</td></tr><tr><td>5.64</td><td>110</td></tr><tr><td>5.74</td><td>111</td></tr><tr><td>6.01</td><td>112</td></tr><tr><td>6.17</td><td>113</td></tr><tr><td>6.19</td><td>114</td></tr><tr><td>6.20</td><td>115</td></tr><tr><td>6.27</td><td>116</td></tr><tr><td>6.40</td><td>117</td></tr><tr><td>6.54</td><td>118</td></tr><tr><td>6.79</td><td>119</td></tr><tr><td>6.88</td><td>120</td></tr><tr><td>7.00</td><td>121</td></tr><tr><td>7.09</td><td>122</td></tr><tr><td>7.13</td><td>123</td></tr><tr><td>7.14</td><td>124</td></tr><tr><td>7.15</td><td>125</td></tr><tr><td>7.23</td><td>126</td></tr><tr><td>7.28</td><td>127</td></tr><tr><td>7.45</td><td>128</td></tr><tr><td>7.46</td><td>129</td></tr><tr><td>7.48</td><td>130</td></tr><tr><td>7.56</td><td>131</td></tr><tr><td>7.70</td><td>132</td></tr><tr><td>7.79</td><td>133</td></tr><tr><td>7.93</td><td>134</td></tr><tr><td>7.98</td><td>135</td></tr><tr><td>7.99</td><td>136</td></tr><tr><td>8.05</td><td>137</td></tr><tr><td>8.11</td><td>138</td></tr><tr><td>8.12</td><td>139</td></tr><tr><td>8.19</td><td>140</td></tr><tr><td>8.24</td><td>141</td></tr><tr><td>8.29</td><td>142</td></tr><tr><td>8.34</td><td>143</td></tr><tr><td>8.50</td><td>144</td></tr><tr><td>8.53</td><td>145</td></tr><tr><td>8.56</td><td>146</td></tr><tr><td>8.63</td><td>147</td></tr><tr><td>8.72</td><td>148</td></tr><tr><td>8.80</td><td>149</td></tr><tr><td>8.81</td><td>150</td></tr><tr><td>8.85</td><td>151</td></tr><tr><td>8.98</td><td>152</td></tr><tr><td>9.19</td><td>153</td></tr><tr><td>9.21</td><td>154</td></tr><tr><td>9.26</td><td>155</td></tr><tr><td>9.30</td><td>156</td></tr><tr><td>9.53</td><td>157</td></tr><tr><td>9.80</td><td>158</td></tr><tr><td>10.14</td><td>159</td></tr><tr><td>10.19</td><td>160</td></tr><tr><td>10.22</td><td>161</td></tr><tr><td>10.64</td><td>162</td></tr><tr><td>10.83</td><td>163</td></tr><tr><td>10.95</td><td>164</td></tr><tr><td>10.96</td><td>165</td></tr><tr><td>10.98</td><td>166</td></tr><tr><td>11.06</td><td>167</td></tr><tr><td>11.08</td><td>168</td></tr><tr><td>11.09</td><td>169</td></tr><tr><td>11.19</td><td>170</td></tr><tr><td>11.26</td><td>171</td></tr><tr><td>11.57</td><td>172</td></tr><tr><td>11.61</td><td>173</td></tr><tr><td>11.65</td><td>174</td></tr><tr><td>11.92</td><td>175</td></tr><tr><td>11.93</td><td>176</td></tr><tr><td>11.99</td><td>177</td></tr><tr><td>12.04</td><td>178</td></tr><tr><td>12.36</td><td>179</td></tr><tr><td>12.41</td><td>180</td></tr><tr><td>12.51</td><td>181</td></tr><tr><td>12.69</td><td>182</td></tr><tr><td>12.75</td><td>183</td></tr><tr><td>12.76</td><td>184</td></tr><tr><td>12.91</td><td>185</td></tr><tr><td>12.96</td><td>186</td></tr><tr><td>13.02</td><td>187</td></tr><tr><td>13.32</td><td>188</td></tr><tr><td>13.37</td><td>189</td></tr><tr><td>13.41</td><td>190</td></tr><tr><td>13.42</td><td>191</td></tr><tr><td>13.55</td><td>192</td></tr><tr><td>13.60</td><td>193</td></tr><tr><td>13.72</td><td>194</td></tr><tr><td>13.73</td><td>195</td></tr><tr><td>13.75</td><td>196</td></tr><tr><td>13.84</td><td>197</td></tr><tr><td>13.95</td><td>198</td></tr><tr><td>13.97</td><td>199</td></tr><tr><td>13.99</td><td>200</td></tr><tr><td>14.01</td><td>201</td></tr><tr><td>14.25</td><td>202</td></tr><tr><td>14.62</td><td>203</td></tr><tr><td>14.68</td><td>204</td></tr><tr><td>14.78</td><td>205</td></tr><tr><td>14.91</td><td>206</td></tr><tr><td>14.93</td><td>207</td></tr><tr><td>15.17</td><td>208</td></tr><tr><td>15.28</td><td>209</td></tr><tr><td>15.51</td><td>210</td></tr><tr><td>15.55</td><td>211</td></tr><tr><td>15.64</td><td>212</td></tr><tr><td>15.66</td><td>213</td></tr><tr><td>15.67</td><td>214</td></tr><tr><td>15.80</td><td>215</td></tr><tr><td>16.16</td><td>216</td></tr><tr><td>16.27</td><td>217</td></tr><tr><td>16.34</td><td>218</td></tr><tr><td>16.37</td><td>219</td></tr><tr><td>16.56</td><td>220</td></tr><tr><td>16.71</td><td>221</td></tr><tr><td>16.72</td><td>222</td></tr><tr><td>16.74</td><td>223</td></tr><tr><td>16.85</td><td>224</td></tr><tr><td>16.96</td><td>225</td></tr><tr><td>16.97</td><td>226</td></tr><tr><td>17.22</td><td>227</td></tr><tr><td>17.52</td><td>228</td></tr><tr><td>17.55</td><td>229</td></tr><tr><td>17.68</td><td>230</td></tr><tr><td>17.92</td><td>231</td></tr><tr><td>17.95</td><td>232</td></tr><tr><td>18.44</td><td>233</td></tr><tr><td>18.53</td><td>234</td></tr><tr><td>18.56</td><td>235</td></tr><tr><td>18.66</td><td>236</td></tr><tr><td>18.69</td><td>237</td></tr><tr><td>18.84</td><td>238</td></tr><tr><td>19.26</td><td>239</td></tr><tr><td>19.58</td><td>240</td></tr><tr><td>19.64</td><td>241</td></tr><tr><td>19.76</td><td>242</td></tr><tr><td>19.77</td><td>243</td></tr><tr><td>19.79</td><td>244</td></tr><tr><td>19.80</td><td>245</td></tr><tr><td>19.97</td><td>246</td></tr><tr><td>20.12</td><td>247</td></tr><tr><td>20.25</td><td>248</td></tr><tr><td>20.31</td><td>249</td></tr><tr><td>20.37</td><td>250</td></tr><tr><td>20.39</td><td>251</td></tr><tr><td>20.60</td><td>252</td></tr><tr><td>21.18</td><td>253</td></tr><tr><td>21.19</td><td>254</td></tr><tr><td>21.48</td><td>255</td></tr><tr><td>21.49</td><td>256</td></tr><tr><td>21.72</td><td>257</td></tr><tr><td>21.74</td><td>258</td></tr><tr><td>22.00</td><td>259</td></tr><tr><td>22.11</td><td>260</td></tr><tr><td>22.21</td><td>261</td></tr><tr><td>22.57</td><td>262</td></tr><tr><td>22.72</td><td>263</td></tr><tr><td>22.76</td><td>264</td></tr><tr><td>22.77</td><td>265</td></tr><tr><td>22.95</td><td>266</td></tr><tr><td>22.98</td><td>267</td></tr><tr><td>23.10</td><td>268</td></tr><tr><td>23.29</td><td>269</td></tr><tr><td>23.39</td><td>270</td></tr><tr><td>23.55</td><td>271</td></tr><tr><td>23.60</td><td>272</td></tr><tr><td>23.65</td><td>273</td></tr><tr><td>23.72</td><td>274</td></tr><tr><td>23.73</td><td>275</td></tr><tr><td>23.79</td><td>276</td></tr><tr><td>23.94</td><td>277</td></tr><tr><td>24.12</td><td>278</td></tr><tr><td>24.39</td><td>279</td></tr><tr><td>24.49</td><td>280</td></tr><tr><td>24.50</td><td>281</td></tr><tr><td>24.69</td><td>282</td></tr><tr><td>24.91</td><td>283</td></tr><tr><td>24.95</td><td>284</td></tr><tr><td>25.09</td><td>285</td></tr><tr><td>25.19</td><td>286</td></tr><tr><td>25.22</td><td>287</td></tr><tr><td>25.36</td><td>288</td></tr><tr><td>25.41</td><td>289</td></tr><tr><td>25.73</td><td>290</td></tr><tr><td>25.83</td><td>291</td></tr><tr><td>26.06</td><td>292</td></tr><tr><td>26.29</td><td>293</td></tr><tr><td>26.31</td><td>294</td></tr><tr><td>26.52</td><td>295</td></tr><tr><td>26.61</td><td>296</td></tr><tr><td>26.78</td><td>297</td></tr><tr><td>26.93</td><td>298</td></tr><tr><td>27.19</td><td>299</td></tr><tr><td>27.20</td><td>300</td></tr><tr><td>27.33</td><td>301</td></tr><tr><td>27.36</td><td>302</td></tr><tr><td>27.71</td><td>303</td></tr><tr><td>27.79</td><td>304</td></tr><tr><td>27.91</td><td>305</td></tr><tr><td>27.94</td><td>306</td></tr><tr><td>28.23</td><td>307</td></tr><tr><td>28.71</td><td>308</td></tr><tr><td>29.17</td><td>309</td></tr><tr><td>29.46</td><td>310</td></tr><tr><td>29.59</td><td>311</td></tr><tr><td>29.60</td><td>312</td></tr><tr><td>29.61</td><td>313</td></tr><tr><td>29.75</td><td>314</td></tr><tr><td>29.76</td><td>315</td></tr><tr><td>29.78</td><td>316</td></tr><tr><td>29.83</td><td>317</td></tr><tr><td>29.93</td><td>318</td></tr><tr><td>29.98</td><td>319</td></tr><tr><td>29.99</td><td>320</td></tr><tr><td>30.09</td><td>321</td></tr><tr><td>30.26</td><td>322</td></tr><tr><td>30.34</td><td>323</td></tr><tr><td>30.36</td><td>324</td></tr><tr><td>30.53</td><td>325</td></tr><tr><td>30.54</td><td>326</td></tr><tr><td>30.76</td><td>327</td></tr><tr><td>30.85</td><td>328</td></tr><tr><td>30.96</td><td>329</td></tr><tr><td>31.14</td><td>330</td></tr><tr><td>31.22</td><td>331</td></tr><tr><td>31.29</td><td>332</td></tr><tr><td>31.43</td><td>333</td></tr><tr><td>31.51</td><td>334</td></tr><tr><td>31.85</td><td>335</td></tr><tr><td>31.89</td><td>336</td></tr><tr><td>32.01</td><td>337</td></tr><tr><td>32.07</td><td>338</td></tr><tr><td>32.10</td><td>339</td></tr><tr><td>32.27</td><td>340</td></tr><tr><td>32.35</td><td>341</td></tr><tr><td>32.37</td><td>342</td></tr><tr><td>32.38</td><td>343</td></tr><tr><td>32.45</td><td>344</td></tr><tr><td>32.76</td><td>345</td></tr><tr><td>32.82</td><td>346</td></tr><tr><td>32.96</td><td>347</td></tr><tr><td>32.99</td><td>348</td></tr><tr><td>33.05</td><td>349</td></tr><tr><td>33.35</td><td>350</td></tr><tr><td>33.68</td><td>351</td></tr><tr><td>33.75</td><td>352</td></tr><tr><td>33.80</td><td>353</td></tr><tr><td>33.93</td><td>354</td></tr><tr><td>33.97</td><td>355</td></tr><tr><td>34.24</td><td>356</td></tr><tr><td>34.57</td><td>357</td></tr><tr><td>34.76</td><td>358</td></tr><tr><td>34.82</td><td>359</td></tr><tr><td>34.86</td><td>360</td></tr><tr><td>34.88</td><td>361</td></tr><tr><td>35.03</td><td>362</td></tr><tr><td>35.12</td><td>363</td></tr><tr><td>35.43</td><td>364</td></tr><tr><td>36.13</td><td>365</td></tr><tr><td>36.21</td><td>366</td></tr><tr><td>36.65</td><td>367</td></tr><tr><td>36.68</td><td>368</td></tr><tr><td>36.71</td><td>369</td></tr><tr><td>37.35</td><td>370</td></tr><tr><td>37.52</td><td>371</td></tr><tr><td>37.60</td><td>372</td></tr><tr><td>37.97</td><td>373</td></tr><tr><td>38.06</td><td>374</td></tr><tr><td>38.11</td><td>375</td></tr><tr><td>38.19</td><td>376</td></tr><tr><td>38.24</td><td>377</td></tr><tr><td>38.28</td><td>378</td></tr><tr><td>38.51</td><td>379</td></tr><tr><td>38.64</td><td>380</td></tr><tr><td>38.82</td><td>381</td></tr><tr><td>39.92</td><td>382</td></tr><tr><td>40.26</td><td>383</td></tr><tr><td>40.32</td><td>384</td></tr><tr><td>40.42</td><td>385</td></tr><tr><td>41.34</td><td>386</td></tr><tr><td>41.38</td><td>387</td></tr><tr><td>41.76</td><td>388</td></tr><tr><td>41.89</td><td>389</td></tr><tr><td>41.90</td><td>390</td></tr><tr><td>41.95</td><td>391</td></tr><tr><td>42.11</td><td>392</td></tr><tr><td>42.13</td><td>393</td></tr><tr><td>42.68</td><td>394</td></tr><tr><td>42.70</td><td>395</td></tr><tr><td>42.74</td><td>396</td></tr><tr><td>43.26</td><td>397</td></tr><tr><td>43.30</td><td>398</td></tr><tr><td>43.90</td><td>399</td></tr><tr><td>44.10</td><td>400</td></tr><tr><td>44.12</td><td>401</td></tr><tr><td>44.15</td><td>402</td></tr><tr><td>44.17</td><td>403</td></tr><tr><td>44.42</td><td>404</td></tr><tr><td>44.65</td><td>405</td></tr><tr><td>44.72</td><td>406</td></tr><tr><td>44.77</td><td>407</td></tr><tr><td>44.84</td><td>408</td></tr><tr><td>45.03</td><td>409</td></tr><tr><td>45.08</td><td>410</td></tr><tr><td>45.13</td><td>411</td></tr><tr><td>45.33</td><td>412</td></tr><tr><td>45.52</td><td>413</td></tr><tr><td>45.53</td><td>414</td></tr><tr><td>45.54</td><td>415</td></tr><tr><td>45.59</td><td>416</td></tr><tr><td>45.97</td><td>417</td></tr><tr><td>46.00</td><td>418</td></tr><tr><td>46.62</td><td>419</td></tr><tr><td>46.69</td><td>420</td></tr><tr><td>46.77</td><td>421</td></tr><tr><td>47.09</td><td>422</td></tr><tr><td>47.22</td><td>423</td></tr><tr><td>47.30</td><td>424</td></tr><tr><td>47.38</td><td>425</td></tr><tr><td>47.42</td><td>426</td></tr><tr><td>47.45</td><td>427</td></tr><tr><td>47.46</td><td>428</td></tr><tr><td>47.59</td><td>429</td></tr><tr><td>47.84</td><td>430</td></tr><tr><td>47.94</td><td>431</td></tr><tr><td>48.17</td><td>432</td></tr><tr><td>48.20</td><td>433</td></tr><tr><td>48.22</td><td>434</td></tr><tr><td>48.29</td><td>435</td></tr><tr><td>48.77</td><td>436</td></tr><tr><td>48.83</td><td>437</td></tr><tr><td>48.92</td><td>438</td></tr><tr><td>49.19</td><td>439</td></tr><tr><td>49.56</td><td>440</td></tr><tr><td>50.97</td><td>441</td></tr><tr><td>51.30</td><td>442</td></tr><tr><td>51.44</td><td>443</td></tr><tr><td>51.87</td><td>444</td></tr><tr><td>52.41</td><td>445</td></tr><tr><td>52.51</td><td>446</td></tr><tr><td>52.52</td><td>447</td></tr><tr><td>52.84</td><td>448</td></tr><tr><td>52.92</td><td>449</td></tr><tr><td>53.05</td><td>450</td></tr><tr><td>53.23</td><td>451</td></tr><tr><td>53.30</td><td>452</td></tr><tr><td>53.80</td><td>453</td></tr><tr><td>53.83</td><td>454</td></tr><tr><td>54.15</td><td>455</td></tr><tr><td>54.42</td><td>456</td></tr><tr><td>54.83</td><td>457</td></tr><tr><td>55.09</td><td>458</td></tr><tr><td>55.12</td><td>459</td></tr><tr><td>55.23</td><td>460</td></tr><tr><td>55.26</td><td>461</td></tr><tr><td>55.28</td><td>462</td></tr><tr><td>55.92</td><td>463</td></tr><tr><td>56.46</td><td>464</td></tr><tr><td>56.63</td><td>465</td></tr><tr><td>57.15</td><td>466</td></tr><tr><td>57.75</td><td>467</td></tr><tr><td>58.13</td><td>468</td></tr><tr><td>58.17</td><td>469</td></tr><tr><td>58.30</td><td>470</td></tr><tr><td>58.33</td><td>471</td></tr><tr><td>58.43</td><td>472</td></tr><tr><td>58.59</td><td>473</td></tr><tr><td>58.88</td><td>474</td></tr><tr><td>58.98</td><td>475</td></tr><tr><td>59.11</td><td>476</td></tr><tr><td>59.13</td><td>477</td></tr><tr><td>59.14</td><td>478</td></tr><tr><td>59.25</td><td>479</td></tr><tr><td>59.28</td><td>480</td></tr><tr><td>59.41</td><td>481</td></tr><tr><td>59.78</td><td>482</td></tr><tr><td>60.18</td><td>483</td></tr><tr><td>60.26</td><td>484</td></tr><tr><td>60.42</td><td>485</td></tr><tr><td>60.43</td><td>486</td></tr><tr><td>61.02</td><td>487</td></tr><tr><td>61.14</td><td>488</td></tr><tr><td>61.53</td><td>489</td></tr><tr><td>62.09</td><td>490</td></tr><tr><td>62.22</td><td>491</td></tr><tr><td>62.52</td><td>492</td></tr><tr><td>62.74</td><td>493</td></tr><tr><td>62.78</td><td>494</td></tr><tr><td>62.89</td><td>495</td></tr><tr><td>63.20</td><td>496</td></tr><tr><td>63.36</td><td>497</td></tr><tr><td>63.54</td><td>498</td></tr><tr><td>63.77</td><td>499</td></tr><tr><td>63.79</td><td>500</td></tr><tr><td>64.19</td><td>501</td></tr><tr><td>64.33</td><td>502</td></tr><tr><td>64.45</td><td>503</td></tr><tr><td>64.50</td><td>504</td></tr><tr><td>64.56</td><td>505</td></tr><tr><td>64.86</td><td>506</td></tr><tr><td>65.00</td><td>507</td></tr><tr><td>65.06</td><td>508</td></tr><tr><td>65.10</td><td>509</td></tr><tr><td>65.48</td><td>510</td></tr><tr><td>65.53</td><td>511</td></tr><tr><td>65.83</td><td>512</td></tr><tr><td>65.99</td><td>513</td></tr><tr><td>66.29</td><td>514</td></tr><tr><td>66.69</td><td>515</td></tr><tr><td>67.26</td><td>516</td></tr><tr><td>67.88</td><td>517</td></tr><tr><td>68.26</td><td>518</td></tr><tr><td>68.52</td><td>519</td></tr><tr><td>68.65</td><td>520</td></tr><tr><td>68.66</td><td>521</td></tr><tr><td>69.19</td><td>522</td></tr><tr><td>69.32</td><td>523</td></tr><tr><td>69.53</td><td>524</td></tr><tr><td>70.09</td><td>525</td></tr><tr><td>70.29</td><td>526</td></tr><tr><td>70.58</td><td>527</td></tr><tr><td>71.07</td><td>528</td></tr><tr><td>71.49</td><td>529</td></tr><tr><td>71.64</td><td>530</td></tr><tr><td>71.97</td><td>531</td></tr><tr><td>72.19</td><td>532</td></tr><tr><td>72.95</td><td>533</td></tr><tr><td>72.97</td><td>534</td></tr><tr><td>73.02</td><td>535</td></tr><tr><td>73.16</td><td>536</td></tr><tr><td>73.21</td><td>537</td></tr><tr><td>73.79</td><td>538</td></tr><tr><td>73.83</td><td>539</td></tr><tr><td>73.91</td><td>540</td></tr><tr><td>74.16</td><td>541</td></tr><tr><td>74.36</td><td>542</td></tr><tr><td>74.44</td><td>543</td></tr><tr><td>74.46</td><td>544</td></tr><tr><td>74.58</td><td>545</td></tr><tr><td>74.60</td><td>546</td></tr><tr><td>75.89</td><td>547</td></tr><tr><td>76.07</td><td>548</td></tr><tr><td>76.10</td><td>549</td></tr><tr><td>76.13</td><td>550</td></tr><tr><td>76.33</td><td>551</td></tr><tr><td>76.56</td><td>552</td></tr><tr><td>76.83</td><td>553</td></tr><tr><td>77.63</td><td>554</td></tr><tr><td>77.78</td><td>555</td></tr><tr><td>77.92</td><td>556</td></tr><tr><td>78.09</td><td>557</td></tr><tr><td>78.85</td><td>558</td></tr><tr><td>79.25</td><td>559</td></tr><tr><td>79.30</td><td>560</td></tr><tr><td>79.40</td><td>561</td></tr><tr><td>79.46</td><td>562</td></tr><tr><td>79.70</td><td>563</td></tr><tr><td>80.65</td><td>564</td></tr><tr><td>81.73</td><td>565</td></tr><tr><td>81.75</td><td>566</td></tr><tr><td>81.83</td><td>567</td></tr><tr><td>81.88</td><td>568</td></tr><tr><td>81.91</td><td>569</td></tr><tr><td>83.22</td><td>570</td></tr><tr><td>83.49</td><td>571</td></tr><tr><td>83.93</td><td>572</td></tr><tr><td>84.21</td><td>573</td></tr><tr><td>84.74</td><td>574</td></tr><tr><td>84.81</td><td>575</td></tr><tr><td>84.84</td><td>576</td></tr><tr><td>85.46</td><td>577</td></tr><tr><td>85.80</td><td>578</td></tr><tr><td>86.53</td><td>579</td></tr><tr><td>87.03</td><td>580</td></tr><tr><td>87.38</td><td>581</td></tr><tr><td>88.01</td><td>582</td></tr><tr><td>88.40</td><td>583</td></tr><tr><td>89.00</td><td>584</td></tr><tr><td>89.16</td><td>585</td></tr><tr><td>89.90</td><td>586</td></tr><tr><td>89.93</td><td>587</td></tr><tr><td>90.85</td><td>588</td></tr><tr><td>90.97</td><td>589</td></tr><tr><td>91.05</td><td>590</td></tr><tr><td>91.28</td><td>591</td></tr><tr><td>91.48</td><td>592</td></tr><tr><td>91.51</td><td>593</td></tr><tr><td>91.76</td><td>594</td></tr><tr><td>92.69</td><td>595</td></tr><tr><td>93.25</td><td>596</td></tr><tr><td>93.63</td><td>597</td></tr><tr><td>94.77</td><td>598</td></tr><tr><td>94.80</td><td>599</td></tr><tr><td>95.66</td><td>600</td></tr><tr><td>95.75</td><td>601</td></tr><tr><td>96.04</td><td>602</td></tr><tr><td>96.35</td><td>603</td></tr><tr><td>96.43</td><td>604</td></tr><tr><td>96.50</td><td>605</td></tr><tr><td>96.65</td><td>606</td></tr><tr><td>96.72</td><td>607</td></tr><tr><td>96.78</td><td>608</td></tr><tr><td>97.09</td><td>609</td></tr><tr><td>97.18</td><td>610</td></tr><tr><td>98.03</td><td>611</td></tr><tr><td>99.23</td><td>612</td></tr><tr><td>100.22</td><td>613</td></tr><tr><td>100.60</td><td>614</td></tr><tr><td>101.95</td><td>615</td></tr><tr><td>102.02</td><td>616</td></tr><tr><td>102.55</td><td>617</td></tr><tr><td>104.47</td><td>618</td></tr><tr><td>105.36</td><td>619</td></tr><tr><td>105.65</td><td>620</td></tr><tr><td>105.81</td><td>621</td></tr><tr><td>107.46</td><td>622</td></tr><tr><td>107.83</td><td>623</td></tr><tr><td>108.04</td><td>624</td></tr><tr><td>108.26</td><td>625</td></tr><tr><td>109.11</td><td>626</td></tr><tr><td>110.11</td><td>627</td></tr><tr><td>110.37</td><td>628</td></tr><tr><td>110.87</td><td>629</td></tr><tr><td>111.29</td><td>630</td></tr><tr><td>112.27</td><td>631</td></tr><tr><td>113.15</td><td>632</td></tr><tr><td>116.13</td><td>633</td></tr><tr><td>116.43</td><td>634</td></tr><tr><td>116.53</td><td>635</td></tr><tr><td>117.33</td><td>636</td></tr><tr><td>117.61</td><td>637</td></tr><tr><td>120.27</td><td>638</td></tr><tr><td>120.92</td><td>639</td></tr><tr><td>120.97</td><td>640</td></tr><tr><td>121.82</td><td>641</td></tr><tr><td>122.46</td><td>642</td></tr><tr><td>123.83</td><td>643</td></tr><tr><td>124.12</td><td>644</td></tr><tr><td>124.98</td><td>645</td></tr><tr><td>125.77</td><td>646</td></tr><tr><td>126.38</td><td>647</td></tr><tr><td>126.56</td><td>648</td></tr><tr><td>126.66</td><td>649</td></tr><tr><td>127.34</td><td>650</td></tr><tr><td>130.79</td><td>651</td></tr><tr><td>130.94</td><td>652</td></tr><tr><td>131.70</td><td>653</td></tr><tr><td>134.64</td><td>654</td></tr><tr><td>135.35</td><td>655</td></tr><tr><td>135.63</td><td>656</td></tr><tr><td>136.00</td><td>657</td></tr><tr><td>136.54</td><td>658</td></tr><tr><td>137.35</td><td>659</td></tr><tr><td>137.44</td><td>660</td></tr><tr><td>138.17</td><td>661</td></tr><tr><td>138.69</td><td>662</td></tr><tr><td>139.34</td><td>663</td></tr><tr><td>140.26</td><td>664</td></tr><tr><td>140.51</td><td>665</td></tr><tr><td>141.06</td><td>666</td></tr><tr><td>141.16</td><td>667</td></tr><tr><td>142.08</td><td>668</td></tr><tr><td>142.33</td><td>669</td></tr><tr><td>143.28</td><td>670</td></tr><tr><td>144.38</td><td>671</td></tr><tr><td>145.04</td><td>672</td></tr><tr><td>145.45</td><td>673</td></tr><tr><td>145.63</td><td>674</td></tr><tr><td>146.06</td><td>675</td></tr><tr><td>146.32</td><td>676</td></tr><tr><td>147.06</td><td>677</td></tr><tr><td>147.26</td><td>678</td></tr><tr><td>148.33</td><td>679</td></tr><tr><td>148.61</td><td>680</td></tr><tr><td>149.47</td><td>681</td></tr><tr><td>149.49</td><td>682</td></tr><tr><td>150.15</td><td>683</td></tr><tr><td>151.52</td><td>684</td></tr><tr><td>152.30</td><td>685</td></tr><tr><td>154.68</td><td>686</td></tr><tr><td>154.72</td><td>687</td></tr><tr><td>155.64</td><td>688</td></tr><tr><td>155.97</td><td>689</td></tr><tr><td>156.66</td><td>690</td></tr><tr><td>157.55</td><td>691</td></tr><tr><td>158.44</td><td>692</td></tr><tr><td>160.55</td><td>693</td></tr><tr><td>162.33</td><td>694</td></tr><tr><td>162.75</td><td>695</td></tr><tr><td>162.95</td><td>696</td></tr><tr><td>163.97</td><td>697</td></tr><tr><td>166.31</td><td>698</td></tr><tr><td>167.05</td><td>699</td></tr><tr><td>168.22</td><td>700</td></tr><tr><td>168.64</td><td>701</td></tr><tr><td>170.88</td><td>702</td></tr><tr><td>170.97</td><td>703</td></tr><tr><td>171.24</td><td>704</td></tr><tr><td>174.05</td><td>705</td></tr><tr><td>174.20</td><td>706</td></tr><tr><td>175.32</td><td>707</td></tr><tr><td>176.48</td><td>708</td></tr><tr><td>176.81</td><td>709</td></tr><tr><td>178.43</td><td>710</td></tr><tr><td>179.61</td><td>711</td></tr><tr><td>180.45</td><td>712</td></tr><tr><td>183.17</td><td>713</td></tr><tr><td>184.41</td><td>714</td></tr><tr><td>185.48</td><td>715</td></tr><tr><td>188.04</td><td>716</td></tr><tr><td>188.85</td><td>717</td></tr><tr><td>188.99</td><td>718</td></tr><tr><td>189.09</td><td>719</td></tr><tr><td>191.27</td><td>720</td></tr><tr><td>191.67</td><td>721</td></tr><tr><td>193.37</td><td>722</td></tr><tr><td>194.67</td><td>723</td></tr><tr><td>194.72</td><td>724</td></tr><tr><td>195.68</td><td>725</td></tr><tr><td>197.30</td><td>726</td></tr><tr><td>200.24</td><td>727</td></tr><tr><td>201.29</td><td>728</td></tr><tr><td>202.24</td><td>729</td></tr><tr><td>203.48</td><td>730</td></tr><tr><td>204.47</td><td>731</td></tr><tr><td>208.50</td><td>732</td></tr><tr><td>208.58</td><td>733</td></tr><tr><td>210.19</td><td>734</td></tr><tr><td>210.80</td><td>735</td></tr><tr><td>211.22</td><td>736</td></tr><tr><td>212.98</td><td>737</td></tr><tr><td>214.27</td><td>738</td></tr><tr><td>217.86</td><td>739</td></tr><tr><td>218.15</td><td>740</td></tr><tr><td>220.31</td><td>741</td></tr><tr><td>227.22</td><td>742</td></tr><tr><td>229.24</td><td>743</td></tr><tr><td>232.42</td><td>744</td></tr><tr><td>232.55</td><td>745</td></tr><tr><td>237.34</td><td>746</td></tr><tr><td>242.21</td><td>747</td></tr><tr><td>242.95</td><td>748</td></tr><tr><td>243.73</td><td>749</td></tr><tr><td>244.79</td><td>750</td></tr><tr><td>249.06</td><td>751</td></tr><tr><td>249.93</td><td>752</td></tr><tr><td>252.49</td><td>753</td></tr><tr><td>257.26</td><td>754</td></tr><tr><td>257.62</td><td>755</td></tr><tr><td>258.64</td><td>756</td></tr><tr><td>272.47</td><td>757</td></tr><tr><td>275.79</td><td>758</td></tr><tr><td>278.96</td><td>759</td></tr><tr><td>280.61</td><td>760</td></tr><tr><td>288.43</td><td>761</td></tr><tr><td>296.43</td><td>762</td></tr><tr><td>297.18</td><td>763</td></tr><tr><td>299.09</td><td>764</td></tr><tr><td>306.07</td><td>765</td></tr><tr><td>328.74</td><td>766</td></tr><tr><td>339.22</td><td>767</td></tr><tr><td>348.14</td><td>768</td></tr><tr><td>350.64</td><td>769</td></tr><tr><td>351.53</td><td>770</td></tr><tr><td>352.69</td><td>771</td></tr><tr><td>353.07</td><td>772</td></tr><tr><td>360.63</td><td>773</td></tr><tr><td>364.15</td><td>774</td></tr><tr><td>367.63</td><td>775</td></tr><tr><td>370.61</td><td>776</td></tr><tr><td>379.13</td><td>777</td></tr><tr><td>388.98</td><td>778</td></tr><tr><td>398.36</td><td>779</td></tr><tr><td>400.81</td><td>780</td></tr><tr><td>411.88</td><td>781</td></tr><tr><td>424.30</td><td>782</td></tr><tr><td>458.78</td><td>783</td></tr><tr><td>477.90</td><td>784</td></tr><tr><td>487.38</td><td>785</td></tr><tr><td>487.57</td><td>786</td></tr><tr><td>544.08</td><td>787</td></tr><tr><td>580.91</td><td>788</td></tr><tr><td>603.54</td><td>789</td></tr><tr><td>606.19</td><td>790</td></tr><tr><td>657.54</td><td>791</td></tr><tr><td>708.95</td><td>792</td></tr><tr><td>719.78</td><td>793</td></tr><tr><td>754.26</td><td>794</td></tr><tr><td>789.95</td><td>795</td></tr><tr><td>810.05</td><td>796</td></tr><tr><td>830.75</td><td>797</td></tr><tr><td>890.78</td><td>798</td></tr><tr><td>1007.64</td><td>799</td></tr></table>"
                    },
                    "metadata": {}
                }
            ],
            "execution_count": 25
        },
        {
            "cell_type": "code",
            "source": [
                "-- Define a Common Table Expression (CTE) named 'C'\r\n",
                "WITH C AS \r\n",
                "(\r\n",
                "    -- Select the unique freight values from the Sales.[Order] table\r\n",
                "    SELECT DISTINCT freight   -- DISTINCT ensures that only unique (non-duplicate) freight values are selected\r\n",
                "    FROM Sales.[Order]        -- Specifies the table from which to select the data, which is 'Order' under the 'Sales' schema\r\n",
                ") \r\n",
                "\r\n",
                "-- After defining the CTE, we perform a query on it\r\n",
                "SELECT \r\n",
                "    Freight,                 -- Select the freight value from the CTE\r\n",
                "    -- ROW_NUMBER() is a window function that generates a sequential integer to each row within the result set\r\n",
                "    ROW_NUMBER() OVER(\r\n",
                "        ORDER BY Freight     -- ORDER BY determines the order in which the row numbers are assigned, here it's by the Freight value\r\n",
                "    ) AS rownum             -- The resulting row number is assigned to a column named 'rownum'\r\n",
                "FROM C                       -- Specifies that we're selecting from the CTE we defined earlier\r\n",
                ""
            ],
            "metadata": {
                "language": "sql",
                "azdata_cell_guid": "fe6f3295-40a4-4794-b341-a1eb797b0280",
                "tags": []
            },
            "outputs": [
                {
                    "output_type": "display_data",
                    "data": {
                        "text/html": "(799 rows affected)"
                    },
                    "metadata": {}
                },
                {
                    "output_type": "display_data",
                    "data": {
                        "text/html": "Total execution time: 00:00:00.022"
                    },
                    "metadata": {}
                },
                {
                    "output_type": "execute_result",
                    "execution_count": 28,
                    "data": {
                        "application/vnd.dataresource+json": {
                            "schema": {
                                "fields": [
                                    {
                                        "name": "Freight"
                                    },
                                    {
                                        "name": "rownum"
                                    }
                                ]
                            },
                            "data": [
                                {
                                    "Freight": "0.02",
                                    "rownum": "1"
                                },
                                {
                                    "Freight": "0.12",
                                    "rownum": "2"
                                },
                                {
                                    "Freight": "0.14",
                                    "rownum": "3"
                                },
                                {
                                    "Freight": "0.15",
                                    "rownum": "4"
                                },
                                {
                                    "Freight": "0.17",
                                    "rownum": "5"
                                },
                                {
                                    "Freight": "0.20",
                                    "rownum": "6"
                                },
                                {
                                    "Freight": "0.21",
                                    "rownum": "7"
                                },
                                {
                                    "Freight": "0.33",
                                    "rownum": "8"
                                },
                                {
                                    "Freight": "0.40",
                                    "rownum": "9"
                                },
                                {
                                    "Freight": "0.45",
                                    "rownum": "10"
                                },
                                {
                                    "Freight": "0.48",
                                    "rownum": "11"
                                },
                                {
                                    "Freight": "0.53",
                                    "rownum": "12"
                                },
                                {
                                    "Freight": "0.56",
                                    "rownum": "13"
                                },
                                {
                                    "Freight": "0.58",
                                    "rownum": "14"
                                },
                                {
                                    "Freight": "0.59",
                                    "rownum": "15"
                                },
                                {
                                    "Freight": "0.75",
                                    "rownum": "16"
                                },
                                {
                                    "Freight": "0.78",
                                    "rownum": "17"
                                },
                                {
                                    "Freight": "0.82",
                                    "rownum": "18"
                                },
                                {
                                    "Freight": "0.87",
                                    "rownum": "19"
                                },
                                {
                                    "Freight": "0.90",
                                    "rownum": "20"
                                },
                                {
                                    "Freight": "0.93",
                                    "rownum": "21"
                                },
                                {
                                    "Freight": "0.94",
                                    "rownum": "22"
                                },
                                {
                                    "Freight": "1.10",
                                    "rownum": "23"
                                },
                                {
                                    "Freight": "1.12",
                                    "rownum": "24"
                                },
                                {
                                    "Freight": "1.15",
                                    "rownum": "25"
                                },
                                {
                                    "Freight": "1.17",
                                    "rownum": "26"
                                },
                                {
                                    "Freight": "1.21",
                                    "rownum": "27"
                                },
                                {
                                    "Freight": "1.23",
                                    "rownum": "28"
                                },
                                {
                                    "Freight": "1.25",
                                    "rownum": "29"
                                },
                                {
                                    "Freight": "1.26",
                                    "rownum": "30"
                                },
                                {
                                    "Freight": "1.27",
                                    "rownum": "31"
                                },
                                {
                                    "Freight": "1.28",
                                    "rownum": "32"
                                },
                                {
                                    "Freight": "1.30",
                                    "rownum": "33"
                                },
                                {
                                    "Freight": "1.35",
                                    "rownum": "34"
                                },
                                {
                                    "Freight": "1.36",
                                    "rownum": "35"
                                },
                                {
                                    "Freight": "1.39",
                                    "rownum": "36"
                                },
                                {
                                    "Freight": "1.43",
                                    "rownum": "37"
                                },
                                {
                                    "Freight": "1.51",
                                    "rownum": "38"
                                },
                                {
                                    "Freight": "1.59",
                                    "rownum": "39"
                                },
                                {
                                    "Freight": "1.61",
                                    "rownum": "40"
                                },
                                {
                                    "Freight": "1.63",
                                    "rownum": "41"
                                },
                                {
                                    "Freight": "1.66",
                                    "rownum": "42"
                                },
                                {
                                    "Freight": "1.85",
                                    "rownum": "43"
                                },
                                {
                                    "Freight": "1.93",
                                    "rownum": "44"
                                },
                                {
                                    "Freight": "1.96",
                                    "rownum": "45"
                                },
                                {
                                    "Freight": "2.01",
                                    "rownum": "46"
                                },
                                {
                                    "Freight": "2.08",
                                    "rownum": "47"
                                },
                                {
                                    "Freight": "2.17",
                                    "rownum": "48"
                                },
                                {
                                    "Freight": "2.27",
                                    "rownum": "49"
                                },
                                {
                                    "Freight": "2.33",
                                    "rownum": "50"
                                },
                                {
                                    "Freight": "2.38",
                                    "rownum": "51"
                                },
                                {
                                    "Freight": "2.40",
                                    "rownum": "52"
                                },
                                {
                                    "Freight": "2.50",
                                    "rownum": "53"
                                },
                                {
                                    "Freight": "2.70",
                                    "rownum": "54"
                                },
                                {
                                    "Freight": "2.71",
                                    "rownum": "55"
                                },
                                {
                                    "Freight": "2.74",
                                    "rownum": "56"
                                },
                                {
                                    "Freight": "2.79",
                                    "rownum": "57"
                                },
                                {
                                    "Freight": "2.84",
                                    "rownum": "58"
                                },
                                {
                                    "Freight": "2.91",
                                    "rownum": "59"
                                },
                                {
                                    "Freight": "2.92",
                                    "rownum": "60"
                                },
                                {
                                    "Freight": "2.94",
                                    "rownum": "61"
                                },
                                {
                                    "Freight": "2.96",
                                    "rownum": "62"
                                },
                                {
                                    "Freight": "3.01",
                                    "rownum": "63"
                                },
                                {
                                    "Freight": "3.02",
                                    "rownum": "64"
                                },
                                {
                                    "Freight": "3.04",
                                    "rownum": "65"
                                },
                                {
                                    "Freight": "3.05",
                                    "rownum": "66"
                                },
                                {
                                    "Freight": "3.10",
                                    "rownum": "67"
                                },
                                {
                                    "Freight": "3.17",
                                    "rownum": "68"
                                },
                                {
                                    "Freight": "3.20",
                                    "rownum": "69"
                                },
                                {
                                    "Freight": "3.25",
                                    "rownum": "70"
                                },
                                {
                                    "Freight": "3.26",
                                    "rownum": "71"
                                },
                                {
                                    "Freight": "3.35",
                                    "rownum": "72"
                                },
                                {
                                    "Freight": "3.43",
                                    "rownum": "73"
                                },
                                {
                                    "Freight": "3.50",
                                    "rownum": "74"
                                },
                                {
                                    "Freight": "3.51",
                                    "rownum": "75"
                                },
                                {
                                    "Freight": "3.52",
                                    "rownum": "76"
                                },
                                {
                                    "Freight": "3.53",
                                    "rownum": "77"
                                },
                                {
                                    "Freight": "3.67",
                                    "rownum": "78"
                                },
                                {
                                    "Freight": "3.77",
                                    "rownum": "79"
                                },
                                {
                                    "Freight": "3.94",
                                    "rownum": "80"
                                },
                                {
                                    "Freight": "4.03",
                                    "rownum": "81"
                                },
                                {
                                    "Freight": "4.07",
                                    "rownum": "82"
                                },
                                {
                                    "Freight": "4.13",
                                    "rownum": "83"
                                },
                                {
                                    "Freight": "4.20",
                                    "rownum": "84"
                                },
                                {
                                    "Freight": "4.27",
                                    "rownum": "85"
                                },
                                {
                                    "Freight": "4.32",
                                    "rownum": "86"
                                },
                                {
                                    "Freight": "4.33",
                                    "rownum": "87"
                                },
                                {
                                    "Freight": "4.34",
                                    "rownum": "88"
                                },
                                {
                                    "Freight": "4.40",
                                    "rownum": "89"
                                },
                                {
                                    "Freight": "4.41",
                                    "rownum": "90"
                                },
                                {
                                    "Freight": "4.42",
                                    "rownum": "91"
                                },
                                {
                                    "Freight": "4.52",
                                    "rownum": "92"
                                },
                                {
                                    "Freight": "4.54",
                                    "rownum": "93"
                                },
                                {
                                    "Freight": "4.56",
                                    "rownum": "94"
                                },
                                {
                                    "Freight": "4.62",
                                    "rownum": "95"
                                },
                                {
                                    "Freight": "4.65",
                                    "rownum": "96"
                                },
                                {
                                    "Freight": "4.73",
                                    "rownum": "97"
                                },
                                {
                                    "Freight": "4.78",
                                    "rownum": "98"
                                },
                                {
                                    "Freight": "4.81",
                                    "rownum": "99"
                                },
                                {
                                    "Freight": "4.87",
                                    "rownum": "100"
                                },
                                {
                                    "Freight": "4.88",
                                    "rownum": "101"
                                },
                                {
                                    "Freight": "4.93",
                                    "rownum": "102"
                                },
                                {
                                    "Freight": "4.98",
                                    "rownum": "103"
                                },
                                {
                                    "Freight": "4.99",
                                    "rownum": "104"
                                },
                                {
                                    "Freight": "5.24",
                                    "rownum": "105"
                                },
                                {
                                    "Freight": "5.29",
                                    "rownum": "106"
                                },
                                {
                                    "Freight": "5.32",
                                    "rownum": "107"
                                },
                                {
                                    "Freight": "5.44",
                                    "rownum": "108"
                                },
                                {
                                    "Freight": "5.45",
                                    "rownum": "109"
                                },
                                {
                                    "Freight": "5.64",
                                    "rownum": "110"
                                },
                                {
                                    "Freight": "5.74",
                                    "rownum": "111"
                                },
                                {
                                    "Freight": "6.01",
                                    "rownum": "112"
                                },
                                {
                                    "Freight": "6.17",
                                    "rownum": "113"
                                },
                                {
                                    "Freight": "6.19",
                                    "rownum": "114"
                                },
                                {
                                    "Freight": "6.20",
                                    "rownum": "115"
                                },
                                {
                                    "Freight": "6.27",
                                    "rownum": "116"
                                },
                                {
                                    "Freight": "6.40",
                                    "rownum": "117"
                                },
                                {
                                    "Freight": "6.54",
                                    "rownum": "118"
                                },
                                {
                                    "Freight": "6.79",
                                    "rownum": "119"
                                },
                                {
                                    "Freight": "6.88",
                                    "rownum": "120"
                                },
                                {
                                    "Freight": "7.00",
                                    "rownum": "121"
                                },
                                {
                                    "Freight": "7.09",
                                    "rownum": "122"
                                },
                                {
                                    "Freight": "7.13",
                                    "rownum": "123"
                                },
                                {
                                    "Freight": "7.14",
                                    "rownum": "124"
                                },
                                {
                                    "Freight": "7.15",
                                    "rownum": "125"
                                },
                                {
                                    "Freight": "7.23",
                                    "rownum": "126"
                                },
                                {
                                    "Freight": "7.28",
                                    "rownum": "127"
                                },
                                {
                                    "Freight": "7.45",
                                    "rownum": "128"
                                },
                                {
                                    "Freight": "7.46",
                                    "rownum": "129"
                                },
                                {
                                    "Freight": "7.48",
                                    "rownum": "130"
                                },
                                {
                                    "Freight": "7.56",
                                    "rownum": "131"
                                },
                                {
                                    "Freight": "7.70",
                                    "rownum": "132"
                                },
                                {
                                    "Freight": "7.79",
                                    "rownum": "133"
                                },
                                {
                                    "Freight": "7.93",
                                    "rownum": "134"
                                },
                                {
                                    "Freight": "7.98",
                                    "rownum": "135"
                                },
                                {
                                    "Freight": "7.99",
                                    "rownum": "136"
                                },
                                {
                                    "Freight": "8.05",
                                    "rownum": "137"
                                },
                                {
                                    "Freight": "8.11",
                                    "rownum": "138"
                                },
                                {
                                    "Freight": "8.12",
                                    "rownum": "139"
                                },
                                {
                                    "Freight": "8.19",
                                    "rownum": "140"
                                },
                                {
                                    "Freight": "8.24",
                                    "rownum": "141"
                                },
                                {
                                    "Freight": "8.29",
                                    "rownum": "142"
                                },
                                {
                                    "Freight": "8.34",
                                    "rownum": "143"
                                },
                                {
                                    "Freight": "8.50",
                                    "rownum": "144"
                                },
                                {
                                    "Freight": "8.53",
                                    "rownum": "145"
                                },
                                {
                                    "Freight": "8.56",
                                    "rownum": "146"
                                },
                                {
                                    "Freight": "8.63",
                                    "rownum": "147"
                                },
                                {
                                    "Freight": "8.72",
                                    "rownum": "148"
                                },
                                {
                                    "Freight": "8.80",
                                    "rownum": "149"
                                },
                                {
                                    "Freight": "8.81",
                                    "rownum": "150"
                                },
                                {
                                    "Freight": "8.85",
                                    "rownum": "151"
                                },
                                {
                                    "Freight": "8.98",
                                    "rownum": "152"
                                },
                                {
                                    "Freight": "9.19",
                                    "rownum": "153"
                                },
                                {
                                    "Freight": "9.21",
                                    "rownum": "154"
                                },
                                {
                                    "Freight": "9.26",
                                    "rownum": "155"
                                },
                                {
                                    "Freight": "9.30",
                                    "rownum": "156"
                                },
                                {
                                    "Freight": "9.53",
                                    "rownum": "157"
                                },
                                {
                                    "Freight": "9.80",
                                    "rownum": "158"
                                },
                                {
                                    "Freight": "10.14",
                                    "rownum": "159"
                                },
                                {
                                    "Freight": "10.19",
                                    "rownum": "160"
                                },
                                {
                                    "Freight": "10.22",
                                    "rownum": "161"
                                },
                                {
                                    "Freight": "10.64",
                                    "rownum": "162"
                                },
                                {
                                    "Freight": "10.83",
                                    "rownum": "163"
                                },
                                {
                                    "Freight": "10.95",
                                    "rownum": "164"
                                },
                                {
                                    "Freight": "10.96",
                                    "rownum": "165"
                                },
                                {
                                    "Freight": "10.98",
                                    "rownum": "166"
                                },
                                {
                                    "Freight": "11.06",
                                    "rownum": "167"
                                },
                                {
                                    "Freight": "11.08",
                                    "rownum": "168"
                                },
                                {
                                    "Freight": "11.09",
                                    "rownum": "169"
                                },
                                {
                                    "Freight": "11.19",
                                    "rownum": "170"
                                },
                                {
                                    "Freight": "11.26",
                                    "rownum": "171"
                                },
                                {
                                    "Freight": "11.57",
                                    "rownum": "172"
                                },
                                {
                                    "Freight": "11.61",
                                    "rownum": "173"
                                },
                                {
                                    "Freight": "11.65",
                                    "rownum": "174"
                                },
                                {
                                    "Freight": "11.92",
                                    "rownum": "175"
                                },
                                {
                                    "Freight": "11.93",
                                    "rownum": "176"
                                },
                                {
                                    "Freight": "11.99",
                                    "rownum": "177"
                                },
                                {
                                    "Freight": "12.04",
                                    "rownum": "178"
                                },
                                {
                                    "Freight": "12.36",
                                    "rownum": "179"
                                },
                                {
                                    "Freight": "12.41",
                                    "rownum": "180"
                                },
                                {
                                    "Freight": "12.51",
                                    "rownum": "181"
                                },
                                {
                                    "Freight": "12.69",
                                    "rownum": "182"
                                },
                                {
                                    "Freight": "12.75",
                                    "rownum": "183"
                                },
                                {
                                    "Freight": "12.76",
                                    "rownum": "184"
                                },
                                {
                                    "Freight": "12.91",
                                    "rownum": "185"
                                },
                                {
                                    "Freight": "12.96",
                                    "rownum": "186"
                                },
                                {
                                    "Freight": "13.02",
                                    "rownum": "187"
                                },
                                {
                                    "Freight": "13.32",
                                    "rownum": "188"
                                },
                                {
                                    "Freight": "13.37",
                                    "rownum": "189"
                                },
                                {
                                    "Freight": "13.41",
                                    "rownum": "190"
                                },
                                {
                                    "Freight": "13.42",
                                    "rownum": "191"
                                },
                                {
                                    "Freight": "13.55",
                                    "rownum": "192"
                                },
                                {
                                    "Freight": "13.60",
                                    "rownum": "193"
                                },
                                {
                                    "Freight": "13.72",
                                    "rownum": "194"
                                },
                                {
                                    "Freight": "13.73",
                                    "rownum": "195"
                                },
                                {
                                    "Freight": "13.75",
                                    "rownum": "196"
                                },
                                {
                                    "Freight": "13.84",
                                    "rownum": "197"
                                },
                                {
                                    "Freight": "13.95",
                                    "rownum": "198"
                                },
                                {
                                    "Freight": "13.97",
                                    "rownum": "199"
                                },
                                {
                                    "Freight": "13.99",
                                    "rownum": "200"
                                },
                                {
                                    "Freight": "14.01",
                                    "rownum": "201"
                                },
                                {
                                    "Freight": "14.25",
                                    "rownum": "202"
                                },
                                {
                                    "Freight": "14.62",
                                    "rownum": "203"
                                },
                                {
                                    "Freight": "14.68",
                                    "rownum": "204"
                                },
                                {
                                    "Freight": "14.78",
                                    "rownum": "205"
                                },
                                {
                                    "Freight": "14.91",
                                    "rownum": "206"
                                },
                                {
                                    "Freight": "14.93",
                                    "rownum": "207"
                                },
                                {
                                    "Freight": "15.17",
                                    "rownum": "208"
                                },
                                {
                                    "Freight": "15.28",
                                    "rownum": "209"
                                },
                                {
                                    "Freight": "15.51",
                                    "rownum": "210"
                                },
                                {
                                    "Freight": "15.55",
                                    "rownum": "211"
                                },
                                {
                                    "Freight": "15.64",
                                    "rownum": "212"
                                },
                                {
                                    "Freight": "15.66",
                                    "rownum": "213"
                                },
                                {
                                    "Freight": "15.67",
                                    "rownum": "214"
                                },
                                {
                                    "Freight": "15.80",
                                    "rownum": "215"
                                },
                                {
                                    "Freight": "16.16",
                                    "rownum": "216"
                                },
                                {
                                    "Freight": "16.27",
                                    "rownum": "217"
                                },
                                {
                                    "Freight": "16.34",
                                    "rownum": "218"
                                },
                                {
                                    "Freight": "16.37",
                                    "rownum": "219"
                                },
                                {
                                    "Freight": "16.56",
                                    "rownum": "220"
                                },
                                {
                                    "Freight": "16.71",
                                    "rownum": "221"
                                },
                                {
                                    "Freight": "16.72",
                                    "rownum": "222"
                                },
                                {
                                    "Freight": "16.74",
                                    "rownum": "223"
                                },
                                {
                                    "Freight": "16.85",
                                    "rownum": "224"
                                },
                                {
                                    "Freight": "16.96",
                                    "rownum": "225"
                                },
                                {
                                    "Freight": "16.97",
                                    "rownum": "226"
                                },
                                {
                                    "Freight": "17.22",
                                    "rownum": "227"
                                },
                                {
                                    "Freight": "17.52",
                                    "rownum": "228"
                                },
                                {
                                    "Freight": "17.55",
                                    "rownum": "229"
                                },
                                {
                                    "Freight": "17.68",
                                    "rownum": "230"
                                },
                                {
                                    "Freight": "17.92",
                                    "rownum": "231"
                                },
                                {
                                    "Freight": "17.95",
                                    "rownum": "232"
                                },
                                {
                                    "Freight": "18.44",
                                    "rownum": "233"
                                },
                                {
                                    "Freight": "18.53",
                                    "rownum": "234"
                                },
                                {
                                    "Freight": "18.56",
                                    "rownum": "235"
                                },
                                {
                                    "Freight": "18.66",
                                    "rownum": "236"
                                },
                                {
                                    "Freight": "18.69",
                                    "rownum": "237"
                                },
                                {
                                    "Freight": "18.84",
                                    "rownum": "238"
                                },
                                {
                                    "Freight": "19.26",
                                    "rownum": "239"
                                },
                                {
                                    "Freight": "19.58",
                                    "rownum": "240"
                                },
                                {
                                    "Freight": "19.64",
                                    "rownum": "241"
                                },
                                {
                                    "Freight": "19.76",
                                    "rownum": "242"
                                },
                                {
                                    "Freight": "19.77",
                                    "rownum": "243"
                                },
                                {
                                    "Freight": "19.79",
                                    "rownum": "244"
                                },
                                {
                                    "Freight": "19.80",
                                    "rownum": "245"
                                },
                                {
                                    "Freight": "19.97",
                                    "rownum": "246"
                                },
                                {
                                    "Freight": "20.12",
                                    "rownum": "247"
                                },
                                {
                                    "Freight": "20.25",
                                    "rownum": "248"
                                },
                                {
                                    "Freight": "20.31",
                                    "rownum": "249"
                                },
                                {
                                    "Freight": "20.37",
                                    "rownum": "250"
                                },
                                {
                                    "Freight": "20.39",
                                    "rownum": "251"
                                },
                                {
                                    "Freight": "20.60",
                                    "rownum": "252"
                                },
                                {
                                    "Freight": "21.18",
                                    "rownum": "253"
                                },
                                {
                                    "Freight": "21.19",
                                    "rownum": "254"
                                },
                                {
                                    "Freight": "21.48",
                                    "rownum": "255"
                                },
                                {
                                    "Freight": "21.49",
                                    "rownum": "256"
                                },
                                {
                                    "Freight": "21.72",
                                    "rownum": "257"
                                },
                                {
                                    "Freight": "21.74",
                                    "rownum": "258"
                                },
                                {
                                    "Freight": "22.00",
                                    "rownum": "259"
                                },
                                {
                                    "Freight": "22.11",
                                    "rownum": "260"
                                },
                                {
                                    "Freight": "22.21",
                                    "rownum": "261"
                                },
                                {
                                    "Freight": "22.57",
                                    "rownum": "262"
                                },
                                {
                                    "Freight": "22.72",
                                    "rownum": "263"
                                },
                                {
                                    "Freight": "22.76",
                                    "rownum": "264"
                                },
                                {
                                    "Freight": "22.77",
                                    "rownum": "265"
                                },
                                {
                                    "Freight": "22.95",
                                    "rownum": "266"
                                },
                                {
                                    "Freight": "22.98",
                                    "rownum": "267"
                                },
                                {
                                    "Freight": "23.10",
                                    "rownum": "268"
                                },
                                {
                                    "Freight": "23.29",
                                    "rownum": "269"
                                },
                                {
                                    "Freight": "23.39",
                                    "rownum": "270"
                                },
                                {
                                    "Freight": "23.55",
                                    "rownum": "271"
                                },
                                {
                                    "Freight": "23.60",
                                    "rownum": "272"
                                },
                                {
                                    "Freight": "23.65",
                                    "rownum": "273"
                                },
                                {
                                    "Freight": "23.72",
                                    "rownum": "274"
                                },
                                {
                                    "Freight": "23.73",
                                    "rownum": "275"
                                },
                                {
                                    "Freight": "23.79",
                                    "rownum": "276"
                                },
                                {
                                    "Freight": "23.94",
                                    "rownum": "277"
                                },
                                {
                                    "Freight": "24.12",
                                    "rownum": "278"
                                },
                                {
                                    "Freight": "24.39",
                                    "rownum": "279"
                                },
                                {
                                    "Freight": "24.49",
                                    "rownum": "280"
                                },
                                {
                                    "Freight": "24.50",
                                    "rownum": "281"
                                },
                                {
                                    "Freight": "24.69",
                                    "rownum": "282"
                                },
                                {
                                    "Freight": "24.91",
                                    "rownum": "283"
                                },
                                {
                                    "Freight": "24.95",
                                    "rownum": "284"
                                },
                                {
                                    "Freight": "25.09",
                                    "rownum": "285"
                                },
                                {
                                    "Freight": "25.19",
                                    "rownum": "286"
                                },
                                {
                                    "Freight": "25.22",
                                    "rownum": "287"
                                },
                                {
                                    "Freight": "25.36",
                                    "rownum": "288"
                                },
                                {
                                    "Freight": "25.41",
                                    "rownum": "289"
                                },
                                {
                                    "Freight": "25.73",
                                    "rownum": "290"
                                },
                                {
                                    "Freight": "25.83",
                                    "rownum": "291"
                                },
                                {
                                    "Freight": "26.06",
                                    "rownum": "292"
                                },
                                {
                                    "Freight": "26.29",
                                    "rownum": "293"
                                },
                                {
                                    "Freight": "26.31",
                                    "rownum": "294"
                                },
                                {
                                    "Freight": "26.52",
                                    "rownum": "295"
                                },
                                {
                                    "Freight": "26.61",
                                    "rownum": "296"
                                },
                                {
                                    "Freight": "26.78",
                                    "rownum": "297"
                                },
                                {
                                    "Freight": "26.93",
                                    "rownum": "298"
                                },
                                {
                                    "Freight": "27.19",
                                    "rownum": "299"
                                },
                                {
                                    "Freight": "27.20",
                                    "rownum": "300"
                                },
                                {
                                    "Freight": "27.33",
                                    "rownum": "301"
                                },
                                {
                                    "Freight": "27.36",
                                    "rownum": "302"
                                },
                                {
                                    "Freight": "27.71",
                                    "rownum": "303"
                                },
                                {
                                    "Freight": "27.79",
                                    "rownum": "304"
                                },
                                {
                                    "Freight": "27.91",
                                    "rownum": "305"
                                },
                                {
                                    "Freight": "27.94",
                                    "rownum": "306"
                                },
                                {
                                    "Freight": "28.23",
                                    "rownum": "307"
                                },
                                {
                                    "Freight": "28.71",
                                    "rownum": "308"
                                },
                                {
                                    "Freight": "29.17",
                                    "rownum": "309"
                                },
                                {
                                    "Freight": "29.46",
                                    "rownum": "310"
                                },
                                {
                                    "Freight": "29.59",
                                    "rownum": "311"
                                },
                                {
                                    "Freight": "29.60",
                                    "rownum": "312"
                                },
                                {
                                    "Freight": "29.61",
                                    "rownum": "313"
                                },
                                {
                                    "Freight": "29.75",
                                    "rownum": "314"
                                },
                                {
                                    "Freight": "29.76",
                                    "rownum": "315"
                                },
                                {
                                    "Freight": "29.78",
                                    "rownum": "316"
                                },
                                {
                                    "Freight": "29.83",
                                    "rownum": "317"
                                },
                                {
                                    "Freight": "29.93",
                                    "rownum": "318"
                                },
                                {
                                    "Freight": "29.98",
                                    "rownum": "319"
                                },
                                {
                                    "Freight": "29.99",
                                    "rownum": "320"
                                },
                                {
                                    "Freight": "30.09",
                                    "rownum": "321"
                                },
                                {
                                    "Freight": "30.26",
                                    "rownum": "322"
                                },
                                {
                                    "Freight": "30.34",
                                    "rownum": "323"
                                },
                                {
                                    "Freight": "30.36",
                                    "rownum": "324"
                                },
                                {
                                    "Freight": "30.53",
                                    "rownum": "325"
                                },
                                {
                                    "Freight": "30.54",
                                    "rownum": "326"
                                },
                                {
                                    "Freight": "30.76",
                                    "rownum": "327"
                                },
                                {
                                    "Freight": "30.85",
                                    "rownum": "328"
                                },
                                {
                                    "Freight": "30.96",
                                    "rownum": "329"
                                },
                                {
                                    "Freight": "31.14",
                                    "rownum": "330"
                                },
                                {
                                    "Freight": "31.22",
                                    "rownum": "331"
                                },
                                {
                                    "Freight": "31.29",
                                    "rownum": "332"
                                },
                                {
                                    "Freight": "31.43",
                                    "rownum": "333"
                                },
                                {
                                    "Freight": "31.51",
                                    "rownum": "334"
                                },
                                {
                                    "Freight": "31.85",
                                    "rownum": "335"
                                },
                                {
                                    "Freight": "31.89",
                                    "rownum": "336"
                                },
                                {
                                    "Freight": "32.01",
                                    "rownum": "337"
                                },
                                {
                                    "Freight": "32.07",
                                    "rownum": "338"
                                },
                                {
                                    "Freight": "32.10",
                                    "rownum": "339"
                                },
                                {
                                    "Freight": "32.27",
                                    "rownum": "340"
                                },
                                {
                                    "Freight": "32.35",
                                    "rownum": "341"
                                },
                                {
                                    "Freight": "32.37",
                                    "rownum": "342"
                                },
                                {
                                    "Freight": "32.38",
                                    "rownum": "343"
                                },
                                {
                                    "Freight": "32.45",
                                    "rownum": "344"
                                },
                                {
                                    "Freight": "32.76",
                                    "rownum": "345"
                                },
                                {
                                    "Freight": "32.82",
                                    "rownum": "346"
                                },
                                {
                                    "Freight": "32.96",
                                    "rownum": "347"
                                },
                                {
                                    "Freight": "32.99",
                                    "rownum": "348"
                                },
                                {
                                    "Freight": "33.05",
                                    "rownum": "349"
                                },
                                {
                                    "Freight": "33.35",
                                    "rownum": "350"
                                },
                                {
                                    "Freight": "33.68",
                                    "rownum": "351"
                                },
                                {
                                    "Freight": "33.75",
                                    "rownum": "352"
                                },
                                {
                                    "Freight": "33.80",
                                    "rownum": "353"
                                },
                                {
                                    "Freight": "33.93",
                                    "rownum": "354"
                                },
                                {
                                    "Freight": "33.97",
                                    "rownum": "355"
                                },
                                {
                                    "Freight": "34.24",
                                    "rownum": "356"
                                },
                                {
                                    "Freight": "34.57",
                                    "rownum": "357"
                                },
                                {
                                    "Freight": "34.76",
                                    "rownum": "358"
                                },
                                {
                                    "Freight": "34.82",
                                    "rownum": "359"
                                },
                                {
                                    "Freight": "34.86",
                                    "rownum": "360"
                                },
                                {
                                    "Freight": "34.88",
                                    "rownum": "361"
                                },
                                {
                                    "Freight": "35.03",
                                    "rownum": "362"
                                },
                                {
                                    "Freight": "35.12",
                                    "rownum": "363"
                                },
                                {
                                    "Freight": "35.43",
                                    "rownum": "364"
                                },
                                {
                                    "Freight": "36.13",
                                    "rownum": "365"
                                },
                                {
                                    "Freight": "36.21",
                                    "rownum": "366"
                                },
                                {
                                    "Freight": "36.65",
                                    "rownum": "367"
                                },
                                {
                                    "Freight": "36.68",
                                    "rownum": "368"
                                },
                                {
                                    "Freight": "36.71",
                                    "rownum": "369"
                                },
                                {
                                    "Freight": "37.35",
                                    "rownum": "370"
                                },
                                {
                                    "Freight": "37.52",
                                    "rownum": "371"
                                },
                                {
                                    "Freight": "37.60",
                                    "rownum": "372"
                                },
                                {
                                    "Freight": "37.97",
                                    "rownum": "373"
                                },
                                {
                                    "Freight": "38.06",
                                    "rownum": "374"
                                },
                                {
                                    "Freight": "38.11",
                                    "rownum": "375"
                                },
                                {
                                    "Freight": "38.19",
                                    "rownum": "376"
                                },
                                {
                                    "Freight": "38.24",
                                    "rownum": "377"
                                },
                                {
                                    "Freight": "38.28",
                                    "rownum": "378"
                                },
                                {
                                    "Freight": "38.51",
                                    "rownum": "379"
                                },
                                {
                                    "Freight": "38.64",
                                    "rownum": "380"
                                },
                                {
                                    "Freight": "38.82",
                                    "rownum": "381"
                                },
                                {
                                    "Freight": "39.92",
                                    "rownum": "382"
                                },
                                {
                                    "Freight": "40.26",
                                    "rownum": "383"
                                },
                                {
                                    "Freight": "40.32",
                                    "rownum": "384"
                                },
                                {
                                    "Freight": "40.42",
                                    "rownum": "385"
                                },
                                {
                                    "Freight": "41.34",
                                    "rownum": "386"
                                },
                                {
                                    "Freight": "41.38",
                                    "rownum": "387"
                                },
                                {
                                    "Freight": "41.76",
                                    "rownum": "388"
                                },
                                {
                                    "Freight": "41.89",
                                    "rownum": "389"
                                },
                                {
                                    "Freight": "41.90",
                                    "rownum": "390"
                                },
                                {
                                    "Freight": "41.95",
                                    "rownum": "391"
                                },
                                {
                                    "Freight": "42.11",
                                    "rownum": "392"
                                },
                                {
                                    "Freight": "42.13",
                                    "rownum": "393"
                                },
                                {
                                    "Freight": "42.68",
                                    "rownum": "394"
                                },
                                {
                                    "Freight": "42.70",
                                    "rownum": "395"
                                },
                                {
                                    "Freight": "42.74",
                                    "rownum": "396"
                                },
                                {
                                    "Freight": "43.26",
                                    "rownum": "397"
                                },
                                {
                                    "Freight": "43.30",
                                    "rownum": "398"
                                },
                                {
                                    "Freight": "43.90",
                                    "rownum": "399"
                                },
                                {
                                    "Freight": "44.10",
                                    "rownum": "400"
                                },
                                {
                                    "Freight": "44.12",
                                    "rownum": "401"
                                },
                                {
                                    "Freight": "44.15",
                                    "rownum": "402"
                                },
                                {
                                    "Freight": "44.17",
                                    "rownum": "403"
                                },
                                {
                                    "Freight": "44.42",
                                    "rownum": "404"
                                },
                                {
                                    "Freight": "44.65",
                                    "rownum": "405"
                                },
                                {
                                    "Freight": "44.72",
                                    "rownum": "406"
                                },
                                {
                                    "Freight": "44.77",
                                    "rownum": "407"
                                },
                                {
                                    "Freight": "44.84",
                                    "rownum": "408"
                                },
                                {
                                    "Freight": "45.03",
                                    "rownum": "409"
                                },
                                {
                                    "Freight": "45.08",
                                    "rownum": "410"
                                },
                                {
                                    "Freight": "45.13",
                                    "rownum": "411"
                                },
                                {
                                    "Freight": "45.33",
                                    "rownum": "412"
                                },
                                {
                                    "Freight": "45.52",
                                    "rownum": "413"
                                },
                                {
                                    "Freight": "45.53",
                                    "rownum": "414"
                                },
                                {
                                    "Freight": "45.54",
                                    "rownum": "415"
                                },
                                {
                                    "Freight": "45.59",
                                    "rownum": "416"
                                },
                                {
                                    "Freight": "45.97",
                                    "rownum": "417"
                                },
                                {
                                    "Freight": "46.00",
                                    "rownum": "418"
                                },
                                {
                                    "Freight": "46.62",
                                    "rownum": "419"
                                },
                                {
                                    "Freight": "46.69",
                                    "rownum": "420"
                                },
                                {
                                    "Freight": "46.77",
                                    "rownum": "421"
                                },
                                {
                                    "Freight": "47.09",
                                    "rownum": "422"
                                },
                                {
                                    "Freight": "47.22",
                                    "rownum": "423"
                                },
                                {
                                    "Freight": "47.30",
                                    "rownum": "424"
                                },
                                {
                                    "Freight": "47.38",
                                    "rownum": "425"
                                },
                                {
                                    "Freight": "47.42",
                                    "rownum": "426"
                                },
                                {
                                    "Freight": "47.45",
                                    "rownum": "427"
                                },
                                {
                                    "Freight": "47.46",
                                    "rownum": "428"
                                },
                                {
                                    "Freight": "47.59",
                                    "rownum": "429"
                                },
                                {
                                    "Freight": "47.84",
                                    "rownum": "430"
                                },
                                {
                                    "Freight": "47.94",
                                    "rownum": "431"
                                },
                                {
                                    "Freight": "48.17",
                                    "rownum": "432"
                                },
                                {
                                    "Freight": "48.20",
                                    "rownum": "433"
                                },
                                {
                                    "Freight": "48.22",
                                    "rownum": "434"
                                },
                                {
                                    "Freight": "48.29",
                                    "rownum": "435"
                                },
                                {
                                    "Freight": "48.77",
                                    "rownum": "436"
                                },
                                {
                                    "Freight": "48.83",
                                    "rownum": "437"
                                },
                                {
                                    "Freight": "48.92",
                                    "rownum": "438"
                                },
                                {
                                    "Freight": "49.19",
                                    "rownum": "439"
                                },
                                {
                                    "Freight": "49.56",
                                    "rownum": "440"
                                },
                                {
                                    "Freight": "50.97",
                                    "rownum": "441"
                                },
                                {
                                    "Freight": "51.30",
                                    "rownum": "442"
                                },
                                {
                                    "Freight": "51.44",
                                    "rownum": "443"
                                },
                                {
                                    "Freight": "51.87",
                                    "rownum": "444"
                                },
                                {
                                    "Freight": "52.41",
                                    "rownum": "445"
                                },
                                {
                                    "Freight": "52.51",
                                    "rownum": "446"
                                },
                                {
                                    "Freight": "52.52",
                                    "rownum": "447"
                                },
                                {
                                    "Freight": "52.84",
                                    "rownum": "448"
                                },
                                {
                                    "Freight": "52.92",
                                    "rownum": "449"
                                },
                                {
                                    "Freight": "53.05",
                                    "rownum": "450"
                                },
                                {
                                    "Freight": "53.23",
                                    "rownum": "451"
                                },
                                {
                                    "Freight": "53.30",
                                    "rownum": "452"
                                },
                                {
                                    "Freight": "53.80",
                                    "rownum": "453"
                                },
                                {
                                    "Freight": "53.83",
                                    "rownum": "454"
                                },
                                {
                                    "Freight": "54.15",
                                    "rownum": "455"
                                },
                                {
                                    "Freight": "54.42",
                                    "rownum": "456"
                                },
                                {
                                    "Freight": "54.83",
                                    "rownum": "457"
                                },
                                {
                                    "Freight": "55.09",
                                    "rownum": "458"
                                },
                                {
                                    "Freight": "55.12",
                                    "rownum": "459"
                                },
                                {
                                    "Freight": "55.23",
                                    "rownum": "460"
                                },
                                {
                                    "Freight": "55.26",
                                    "rownum": "461"
                                },
                                {
                                    "Freight": "55.28",
                                    "rownum": "462"
                                },
                                {
                                    "Freight": "55.92",
                                    "rownum": "463"
                                },
                                {
                                    "Freight": "56.46",
                                    "rownum": "464"
                                },
                                {
                                    "Freight": "56.63",
                                    "rownum": "465"
                                },
                                {
                                    "Freight": "57.15",
                                    "rownum": "466"
                                },
                                {
                                    "Freight": "57.75",
                                    "rownum": "467"
                                },
                                {
                                    "Freight": "58.13",
                                    "rownum": "468"
                                },
                                {
                                    "Freight": "58.17",
                                    "rownum": "469"
                                },
                                {
                                    "Freight": "58.30",
                                    "rownum": "470"
                                },
                                {
                                    "Freight": "58.33",
                                    "rownum": "471"
                                },
                                {
                                    "Freight": "58.43",
                                    "rownum": "472"
                                },
                                {
                                    "Freight": "58.59",
                                    "rownum": "473"
                                },
                                {
                                    "Freight": "58.88",
                                    "rownum": "474"
                                },
                                {
                                    "Freight": "58.98",
                                    "rownum": "475"
                                },
                                {
                                    "Freight": "59.11",
                                    "rownum": "476"
                                },
                                {
                                    "Freight": "59.13",
                                    "rownum": "477"
                                },
                                {
                                    "Freight": "59.14",
                                    "rownum": "478"
                                },
                                {
                                    "Freight": "59.25",
                                    "rownum": "479"
                                },
                                {
                                    "Freight": "59.28",
                                    "rownum": "480"
                                },
                                {
                                    "Freight": "59.41",
                                    "rownum": "481"
                                },
                                {
                                    "Freight": "59.78",
                                    "rownum": "482"
                                },
                                {
                                    "Freight": "60.18",
                                    "rownum": "483"
                                },
                                {
                                    "Freight": "60.26",
                                    "rownum": "484"
                                },
                                {
                                    "Freight": "60.42",
                                    "rownum": "485"
                                },
                                {
                                    "Freight": "60.43",
                                    "rownum": "486"
                                },
                                {
                                    "Freight": "61.02",
                                    "rownum": "487"
                                },
                                {
                                    "Freight": "61.14",
                                    "rownum": "488"
                                },
                                {
                                    "Freight": "61.53",
                                    "rownum": "489"
                                },
                                {
                                    "Freight": "62.09",
                                    "rownum": "490"
                                },
                                {
                                    "Freight": "62.22",
                                    "rownum": "491"
                                },
                                {
                                    "Freight": "62.52",
                                    "rownum": "492"
                                },
                                {
                                    "Freight": "62.74",
                                    "rownum": "493"
                                },
                                {
                                    "Freight": "62.78",
                                    "rownum": "494"
                                },
                                {
                                    "Freight": "62.89",
                                    "rownum": "495"
                                },
                                {
                                    "Freight": "63.20",
                                    "rownum": "496"
                                },
                                {
                                    "Freight": "63.36",
                                    "rownum": "497"
                                },
                                {
                                    "Freight": "63.54",
                                    "rownum": "498"
                                },
                                {
                                    "Freight": "63.77",
                                    "rownum": "499"
                                },
                                {
                                    "Freight": "63.79",
                                    "rownum": "500"
                                },
                                {
                                    "Freight": "64.19",
                                    "rownum": "501"
                                },
                                {
                                    "Freight": "64.33",
                                    "rownum": "502"
                                },
                                {
                                    "Freight": "64.45",
                                    "rownum": "503"
                                },
                                {
                                    "Freight": "64.50",
                                    "rownum": "504"
                                },
                                {
                                    "Freight": "64.56",
                                    "rownum": "505"
                                },
                                {
                                    "Freight": "64.86",
                                    "rownum": "506"
                                },
                                {
                                    "Freight": "65.00",
                                    "rownum": "507"
                                },
                                {
                                    "Freight": "65.06",
                                    "rownum": "508"
                                },
                                {
                                    "Freight": "65.10",
                                    "rownum": "509"
                                },
                                {
                                    "Freight": "65.48",
                                    "rownum": "510"
                                },
                                {
                                    "Freight": "65.53",
                                    "rownum": "511"
                                },
                                {
                                    "Freight": "65.83",
                                    "rownum": "512"
                                },
                                {
                                    "Freight": "65.99",
                                    "rownum": "513"
                                },
                                {
                                    "Freight": "66.29",
                                    "rownum": "514"
                                },
                                {
                                    "Freight": "66.69",
                                    "rownum": "515"
                                },
                                {
                                    "Freight": "67.26",
                                    "rownum": "516"
                                },
                                {
                                    "Freight": "67.88",
                                    "rownum": "517"
                                },
                                {
                                    "Freight": "68.26",
                                    "rownum": "518"
                                },
                                {
                                    "Freight": "68.52",
                                    "rownum": "519"
                                },
                                {
                                    "Freight": "68.65",
                                    "rownum": "520"
                                },
                                {
                                    "Freight": "68.66",
                                    "rownum": "521"
                                },
                                {
                                    "Freight": "69.19",
                                    "rownum": "522"
                                },
                                {
                                    "Freight": "69.32",
                                    "rownum": "523"
                                },
                                {
                                    "Freight": "69.53",
                                    "rownum": "524"
                                },
                                {
                                    "Freight": "70.09",
                                    "rownum": "525"
                                },
                                {
                                    "Freight": "70.29",
                                    "rownum": "526"
                                },
                                {
                                    "Freight": "70.58",
                                    "rownum": "527"
                                },
                                {
                                    "Freight": "71.07",
                                    "rownum": "528"
                                },
                                {
                                    "Freight": "71.49",
                                    "rownum": "529"
                                },
                                {
                                    "Freight": "71.64",
                                    "rownum": "530"
                                },
                                {
                                    "Freight": "71.97",
                                    "rownum": "531"
                                },
                                {
                                    "Freight": "72.19",
                                    "rownum": "532"
                                },
                                {
                                    "Freight": "72.95",
                                    "rownum": "533"
                                },
                                {
                                    "Freight": "72.97",
                                    "rownum": "534"
                                },
                                {
                                    "Freight": "73.02",
                                    "rownum": "535"
                                },
                                {
                                    "Freight": "73.16",
                                    "rownum": "536"
                                },
                                {
                                    "Freight": "73.21",
                                    "rownum": "537"
                                },
                                {
                                    "Freight": "73.79",
                                    "rownum": "538"
                                },
                                {
                                    "Freight": "73.83",
                                    "rownum": "539"
                                },
                                {
                                    "Freight": "73.91",
                                    "rownum": "540"
                                },
                                {
                                    "Freight": "74.16",
                                    "rownum": "541"
                                },
                                {
                                    "Freight": "74.36",
                                    "rownum": "542"
                                },
                                {
                                    "Freight": "74.44",
                                    "rownum": "543"
                                },
                                {
                                    "Freight": "74.46",
                                    "rownum": "544"
                                },
                                {
                                    "Freight": "74.58",
                                    "rownum": "545"
                                },
                                {
                                    "Freight": "74.60",
                                    "rownum": "546"
                                },
                                {
                                    "Freight": "75.89",
                                    "rownum": "547"
                                },
                                {
                                    "Freight": "76.07",
                                    "rownum": "548"
                                },
                                {
                                    "Freight": "76.10",
                                    "rownum": "549"
                                },
                                {
                                    "Freight": "76.13",
                                    "rownum": "550"
                                },
                                {
                                    "Freight": "76.33",
                                    "rownum": "551"
                                },
                                {
                                    "Freight": "76.56",
                                    "rownum": "552"
                                },
                                {
                                    "Freight": "76.83",
                                    "rownum": "553"
                                },
                                {
                                    "Freight": "77.63",
                                    "rownum": "554"
                                },
                                {
                                    "Freight": "77.78",
                                    "rownum": "555"
                                },
                                {
                                    "Freight": "77.92",
                                    "rownum": "556"
                                },
                                {
                                    "Freight": "78.09",
                                    "rownum": "557"
                                },
                                {
                                    "Freight": "78.85",
                                    "rownum": "558"
                                },
                                {
                                    "Freight": "79.25",
                                    "rownum": "559"
                                },
                                {
                                    "Freight": "79.30",
                                    "rownum": "560"
                                },
                                {
                                    "Freight": "79.40",
                                    "rownum": "561"
                                },
                                {
                                    "Freight": "79.46",
                                    "rownum": "562"
                                },
                                {
                                    "Freight": "79.70",
                                    "rownum": "563"
                                },
                                {
                                    "Freight": "80.65",
                                    "rownum": "564"
                                },
                                {
                                    "Freight": "81.73",
                                    "rownum": "565"
                                },
                                {
                                    "Freight": "81.75",
                                    "rownum": "566"
                                },
                                {
                                    "Freight": "81.83",
                                    "rownum": "567"
                                },
                                {
                                    "Freight": "81.88",
                                    "rownum": "568"
                                },
                                {
                                    "Freight": "81.91",
                                    "rownum": "569"
                                },
                                {
                                    "Freight": "83.22",
                                    "rownum": "570"
                                },
                                {
                                    "Freight": "83.49",
                                    "rownum": "571"
                                },
                                {
                                    "Freight": "83.93",
                                    "rownum": "572"
                                },
                                {
                                    "Freight": "84.21",
                                    "rownum": "573"
                                },
                                {
                                    "Freight": "84.74",
                                    "rownum": "574"
                                },
                                {
                                    "Freight": "84.81",
                                    "rownum": "575"
                                },
                                {
                                    "Freight": "84.84",
                                    "rownum": "576"
                                },
                                {
                                    "Freight": "85.46",
                                    "rownum": "577"
                                },
                                {
                                    "Freight": "85.80",
                                    "rownum": "578"
                                },
                                {
                                    "Freight": "86.53",
                                    "rownum": "579"
                                },
                                {
                                    "Freight": "87.03",
                                    "rownum": "580"
                                },
                                {
                                    "Freight": "87.38",
                                    "rownum": "581"
                                },
                                {
                                    "Freight": "88.01",
                                    "rownum": "582"
                                },
                                {
                                    "Freight": "88.40",
                                    "rownum": "583"
                                },
                                {
                                    "Freight": "89.00",
                                    "rownum": "584"
                                },
                                {
                                    "Freight": "89.16",
                                    "rownum": "585"
                                },
                                {
                                    "Freight": "89.90",
                                    "rownum": "586"
                                },
                                {
                                    "Freight": "89.93",
                                    "rownum": "587"
                                },
                                {
                                    "Freight": "90.85",
                                    "rownum": "588"
                                },
                                {
                                    "Freight": "90.97",
                                    "rownum": "589"
                                },
                                {
                                    "Freight": "91.05",
                                    "rownum": "590"
                                },
                                {
                                    "Freight": "91.28",
                                    "rownum": "591"
                                },
                                {
                                    "Freight": "91.48",
                                    "rownum": "592"
                                },
                                {
                                    "Freight": "91.51",
                                    "rownum": "593"
                                },
                                {
                                    "Freight": "91.76",
                                    "rownum": "594"
                                },
                                {
                                    "Freight": "92.69",
                                    "rownum": "595"
                                },
                                {
                                    "Freight": "93.25",
                                    "rownum": "596"
                                },
                                {
                                    "Freight": "93.63",
                                    "rownum": "597"
                                },
                                {
                                    "Freight": "94.77",
                                    "rownum": "598"
                                },
                                {
                                    "Freight": "94.80",
                                    "rownum": "599"
                                },
                                {
                                    "Freight": "95.66",
                                    "rownum": "600"
                                },
                                {
                                    "Freight": "95.75",
                                    "rownum": "601"
                                },
                                {
                                    "Freight": "96.04",
                                    "rownum": "602"
                                },
                                {
                                    "Freight": "96.35",
                                    "rownum": "603"
                                },
                                {
                                    "Freight": "96.43",
                                    "rownum": "604"
                                },
                                {
                                    "Freight": "96.50",
                                    "rownum": "605"
                                },
                                {
                                    "Freight": "96.65",
                                    "rownum": "606"
                                },
                                {
                                    "Freight": "96.72",
                                    "rownum": "607"
                                },
                                {
                                    "Freight": "96.78",
                                    "rownum": "608"
                                },
                                {
                                    "Freight": "97.09",
                                    "rownum": "609"
                                },
                                {
                                    "Freight": "97.18",
                                    "rownum": "610"
                                },
                                {
                                    "Freight": "98.03",
                                    "rownum": "611"
                                },
                                {
                                    "Freight": "99.23",
                                    "rownum": "612"
                                },
                                {
                                    "Freight": "100.22",
                                    "rownum": "613"
                                },
                                {
                                    "Freight": "100.60",
                                    "rownum": "614"
                                },
                                {
                                    "Freight": "101.95",
                                    "rownum": "615"
                                },
                                {
                                    "Freight": "102.02",
                                    "rownum": "616"
                                },
                                {
                                    "Freight": "102.55",
                                    "rownum": "617"
                                },
                                {
                                    "Freight": "104.47",
                                    "rownum": "618"
                                },
                                {
                                    "Freight": "105.36",
                                    "rownum": "619"
                                },
                                {
                                    "Freight": "105.65",
                                    "rownum": "620"
                                },
                                {
                                    "Freight": "105.81",
                                    "rownum": "621"
                                },
                                {
                                    "Freight": "107.46",
                                    "rownum": "622"
                                },
                                {
                                    "Freight": "107.83",
                                    "rownum": "623"
                                },
                                {
                                    "Freight": "108.04",
                                    "rownum": "624"
                                },
                                {
                                    "Freight": "108.26",
                                    "rownum": "625"
                                },
                                {
                                    "Freight": "109.11",
                                    "rownum": "626"
                                },
                                {
                                    "Freight": "110.11",
                                    "rownum": "627"
                                },
                                {
                                    "Freight": "110.37",
                                    "rownum": "628"
                                },
                                {
                                    "Freight": "110.87",
                                    "rownum": "629"
                                },
                                {
                                    "Freight": "111.29",
                                    "rownum": "630"
                                },
                                {
                                    "Freight": "112.27",
                                    "rownum": "631"
                                },
                                {
                                    "Freight": "113.15",
                                    "rownum": "632"
                                },
                                {
                                    "Freight": "116.13",
                                    "rownum": "633"
                                },
                                {
                                    "Freight": "116.43",
                                    "rownum": "634"
                                },
                                {
                                    "Freight": "116.53",
                                    "rownum": "635"
                                },
                                {
                                    "Freight": "117.33",
                                    "rownum": "636"
                                },
                                {
                                    "Freight": "117.61",
                                    "rownum": "637"
                                },
                                {
                                    "Freight": "120.27",
                                    "rownum": "638"
                                },
                                {
                                    "Freight": "120.92",
                                    "rownum": "639"
                                },
                                {
                                    "Freight": "120.97",
                                    "rownum": "640"
                                },
                                {
                                    "Freight": "121.82",
                                    "rownum": "641"
                                },
                                {
                                    "Freight": "122.46",
                                    "rownum": "642"
                                },
                                {
                                    "Freight": "123.83",
                                    "rownum": "643"
                                },
                                {
                                    "Freight": "124.12",
                                    "rownum": "644"
                                },
                                {
                                    "Freight": "124.98",
                                    "rownum": "645"
                                },
                                {
                                    "Freight": "125.77",
                                    "rownum": "646"
                                },
                                {
                                    "Freight": "126.38",
                                    "rownum": "647"
                                },
                                {
                                    "Freight": "126.56",
                                    "rownum": "648"
                                },
                                {
                                    "Freight": "126.66",
                                    "rownum": "649"
                                },
                                {
                                    "Freight": "127.34",
                                    "rownum": "650"
                                },
                                {
                                    "Freight": "130.79",
                                    "rownum": "651"
                                },
                                {
                                    "Freight": "130.94",
                                    "rownum": "652"
                                },
                                {
                                    "Freight": "131.70",
                                    "rownum": "653"
                                },
                                {
                                    "Freight": "134.64",
                                    "rownum": "654"
                                },
                                {
                                    "Freight": "135.35",
                                    "rownum": "655"
                                },
                                {
                                    "Freight": "135.63",
                                    "rownum": "656"
                                },
                                {
                                    "Freight": "136.00",
                                    "rownum": "657"
                                },
                                {
                                    "Freight": "136.54",
                                    "rownum": "658"
                                },
                                {
                                    "Freight": "137.35",
                                    "rownum": "659"
                                },
                                {
                                    "Freight": "137.44",
                                    "rownum": "660"
                                },
                                {
                                    "Freight": "138.17",
                                    "rownum": "661"
                                },
                                {
                                    "Freight": "138.69",
                                    "rownum": "662"
                                },
                                {
                                    "Freight": "139.34",
                                    "rownum": "663"
                                },
                                {
                                    "Freight": "140.26",
                                    "rownum": "664"
                                },
                                {
                                    "Freight": "140.51",
                                    "rownum": "665"
                                },
                                {
                                    "Freight": "141.06",
                                    "rownum": "666"
                                },
                                {
                                    "Freight": "141.16",
                                    "rownum": "667"
                                },
                                {
                                    "Freight": "142.08",
                                    "rownum": "668"
                                },
                                {
                                    "Freight": "142.33",
                                    "rownum": "669"
                                },
                                {
                                    "Freight": "143.28",
                                    "rownum": "670"
                                },
                                {
                                    "Freight": "144.38",
                                    "rownum": "671"
                                },
                                {
                                    "Freight": "145.04",
                                    "rownum": "672"
                                },
                                {
                                    "Freight": "145.45",
                                    "rownum": "673"
                                },
                                {
                                    "Freight": "145.63",
                                    "rownum": "674"
                                },
                                {
                                    "Freight": "146.06",
                                    "rownum": "675"
                                },
                                {
                                    "Freight": "146.32",
                                    "rownum": "676"
                                },
                                {
                                    "Freight": "147.06",
                                    "rownum": "677"
                                },
                                {
                                    "Freight": "147.26",
                                    "rownum": "678"
                                },
                                {
                                    "Freight": "148.33",
                                    "rownum": "679"
                                },
                                {
                                    "Freight": "148.61",
                                    "rownum": "680"
                                },
                                {
                                    "Freight": "149.47",
                                    "rownum": "681"
                                },
                                {
                                    "Freight": "149.49",
                                    "rownum": "682"
                                },
                                {
                                    "Freight": "150.15",
                                    "rownum": "683"
                                },
                                {
                                    "Freight": "151.52",
                                    "rownum": "684"
                                },
                                {
                                    "Freight": "152.30",
                                    "rownum": "685"
                                },
                                {
                                    "Freight": "154.68",
                                    "rownum": "686"
                                },
                                {
                                    "Freight": "154.72",
                                    "rownum": "687"
                                },
                                {
                                    "Freight": "155.64",
                                    "rownum": "688"
                                },
                                {
                                    "Freight": "155.97",
                                    "rownum": "689"
                                },
                                {
                                    "Freight": "156.66",
                                    "rownum": "690"
                                },
                                {
                                    "Freight": "157.55",
                                    "rownum": "691"
                                },
                                {
                                    "Freight": "158.44",
                                    "rownum": "692"
                                },
                                {
                                    "Freight": "160.55",
                                    "rownum": "693"
                                },
                                {
                                    "Freight": "162.33",
                                    "rownum": "694"
                                },
                                {
                                    "Freight": "162.75",
                                    "rownum": "695"
                                },
                                {
                                    "Freight": "162.95",
                                    "rownum": "696"
                                },
                                {
                                    "Freight": "163.97",
                                    "rownum": "697"
                                },
                                {
                                    "Freight": "166.31",
                                    "rownum": "698"
                                },
                                {
                                    "Freight": "167.05",
                                    "rownum": "699"
                                },
                                {
                                    "Freight": "168.22",
                                    "rownum": "700"
                                },
                                {
                                    "Freight": "168.64",
                                    "rownum": "701"
                                },
                                {
                                    "Freight": "170.88",
                                    "rownum": "702"
                                },
                                {
                                    "Freight": "170.97",
                                    "rownum": "703"
                                },
                                {
                                    "Freight": "171.24",
                                    "rownum": "704"
                                },
                                {
                                    "Freight": "174.05",
                                    "rownum": "705"
                                },
                                {
                                    "Freight": "174.20",
                                    "rownum": "706"
                                },
                                {
                                    "Freight": "175.32",
                                    "rownum": "707"
                                },
                                {
                                    "Freight": "176.48",
                                    "rownum": "708"
                                },
                                {
                                    "Freight": "176.81",
                                    "rownum": "709"
                                },
                                {
                                    "Freight": "178.43",
                                    "rownum": "710"
                                },
                                {
                                    "Freight": "179.61",
                                    "rownum": "711"
                                },
                                {
                                    "Freight": "180.45",
                                    "rownum": "712"
                                },
                                {
                                    "Freight": "183.17",
                                    "rownum": "713"
                                },
                                {
                                    "Freight": "184.41",
                                    "rownum": "714"
                                },
                                {
                                    "Freight": "185.48",
                                    "rownum": "715"
                                },
                                {
                                    "Freight": "188.04",
                                    "rownum": "716"
                                },
                                {
                                    "Freight": "188.85",
                                    "rownum": "717"
                                },
                                {
                                    "Freight": "188.99",
                                    "rownum": "718"
                                },
                                {
                                    "Freight": "189.09",
                                    "rownum": "719"
                                },
                                {
                                    "Freight": "191.27",
                                    "rownum": "720"
                                },
                                {
                                    "Freight": "191.67",
                                    "rownum": "721"
                                },
                                {
                                    "Freight": "193.37",
                                    "rownum": "722"
                                },
                                {
                                    "Freight": "194.67",
                                    "rownum": "723"
                                },
                                {
                                    "Freight": "194.72",
                                    "rownum": "724"
                                },
                                {
                                    "Freight": "195.68",
                                    "rownum": "725"
                                },
                                {
                                    "Freight": "197.30",
                                    "rownum": "726"
                                },
                                {
                                    "Freight": "200.24",
                                    "rownum": "727"
                                },
                                {
                                    "Freight": "201.29",
                                    "rownum": "728"
                                },
                                {
                                    "Freight": "202.24",
                                    "rownum": "729"
                                },
                                {
                                    "Freight": "203.48",
                                    "rownum": "730"
                                },
                                {
                                    "Freight": "204.47",
                                    "rownum": "731"
                                },
                                {
                                    "Freight": "208.50",
                                    "rownum": "732"
                                },
                                {
                                    "Freight": "208.58",
                                    "rownum": "733"
                                },
                                {
                                    "Freight": "210.19",
                                    "rownum": "734"
                                },
                                {
                                    "Freight": "210.80",
                                    "rownum": "735"
                                },
                                {
                                    "Freight": "211.22",
                                    "rownum": "736"
                                },
                                {
                                    "Freight": "212.98",
                                    "rownum": "737"
                                },
                                {
                                    "Freight": "214.27",
                                    "rownum": "738"
                                },
                                {
                                    "Freight": "217.86",
                                    "rownum": "739"
                                },
                                {
                                    "Freight": "218.15",
                                    "rownum": "740"
                                },
                                {
                                    "Freight": "220.31",
                                    "rownum": "741"
                                },
                                {
                                    "Freight": "227.22",
                                    "rownum": "742"
                                },
                                {
                                    "Freight": "229.24",
                                    "rownum": "743"
                                },
                                {
                                    "Freight": "232.42",
                                    "rownum": "744"
                                },
                                {
                                    "Freight": "232.55",
                                    "rownum": "745"
                                },
                                {
                                    "Freight": "237.34",
                                    "rownum": "746"
                                },
                                {
                                    "Freight": "242.21",
                                    "rownum": "747"
                                },
                                {
                                    "Freight": "242.95",
                                    "rownum": "748"
                                },
                                {
                                    "Freight": "243.73",
                                    "rownum": "749"
                                },
                                {
                                    "Freight": "244.79",
                                    "rownum": "750"
                                },
                                {
                                    "Freight": "249.06",
                                    "rownum": "751"
                                },
                                {
                                    "Freight": "249.93",
                                    "rownum": "752"
                                },
                                {
                                    "Freight": "252.49",
                                    "rownum": "753"
                                },
                                {
                                    "Freight": "257.26",
                                    "rownum": "754"
                                },
                                {
                                    "Freight": "257.62",
                                    "rownum": "755"
                                },
                                {
                                    "Freight": "258.64",
                                    "rownum": "756"
                                },
                                {
                                    "Freight": "272.47",
                                    "rownum": "757"
                                },
                                {
                                    "Freight": "275.79",
                                    "rownum": "758"
                                },
                                {
                                    "Freight": "278.96",
                                    "rownum": "759"
                                },
                                {
                                    "Freight": "280.61",
                                    "rownum": "760"
                                },
                                {
                                    "Freight": "288.43",
                                    "rownum": "761"
                                },
                                {
                                    "Freight": "296.43",
                                    "rownum": "762"
                                },
                                {
                                    "Freight": "297.18",
                                    "rownum": "763"
                                },
                                {
                                    "Freight": "299.09",
                                    "rownum": "764"
                                },
                                {
                                    "Freight": "306.07",
                                    "rownum": "765"
                                },
                                {
                                    "Freight": "328.74",
                                    "rownum": "766"
                                },
                                {
                                    "Freight": "339.22",
                                    "rownum": "767"
                                },
                                {
                                    "Freight": "348.14",
                                    "rownum": "768"
                                },
                                {
                                    "Freight": "350.64",
                                    "rownum": "769"
                                },
                                {
                                    "Freight": "351.53",
                                    "rownum": "770"
                                },
                                {
                                    "Freight": "352.69",
                                    "rownum": "771"
                                },
                                {
                                    "Freight": "353.07",
                                    "rownum": "772"
                                },
                                {
                                    "Freight": "360.63",
                                    "rownum": "773"
                                },
                                {
                                    "Freight": "364.15",
                                    "rownum": "774"
                                },
                                {
                                    "Freight": "367.63",
                                    "rownum": "775"
                                },
                                {
                                    "Freight": "370.61",
                                    "rownum": "776"
                                },
                                {
                                    "Freight": "379.13",
                                    "rownum": "777"
                                },
                                {
                                    "Freight": "388.98",
                                    "rownum": "778"
                                },
                                {
                                    "Freight": "398.36",
                                    "rownum": "779"
                                },
                                {
                                    "Freight": "400.81",
                                    "rownum": "780"
                                },
                                {
                                    "Freight": "411.88",
                                    "rownum": "781"
                                },
                                {
                                    "Freight": "424.30",
                                    "rownum": "782"
                                },
                                {
                                    "Freight": "458.78",
                                    "rownum": "783"
                                },
                                {
                                    "Freight": "477.90",
                                    "rownum": "784"
                                },
                                {
                                    "Freight": "487.38",
                                    "rownum": "785"
                                },
                                {
                                    "Freight": "487.57",
                                    "rownum": "786"
                                },
                                {
                                    "Freight": "544.08",
                                    "rownum": "787"
                                },
                                {
                                    "Freight": "580.91",
                                    "rownum": "788"
                                },
                                {
                                    "Freight": "603.54",
                                    "rownum": "789"
                                },
                                {
                                    "Freight": "606.19",
                                    "rownum": "790"
                                },
                                {
                                    "Freight": "657.54",
                                    "rownum": "791"
                                },
                                {
                                    "Freight": "708.95",
                                    "rownum": "792"
                                },
                                {
                                    "Freight": "719.78",
                                    "rownum": "793"
                                },
                                {
                                    "Freight": "754.26",
                                    "rownum": "794"
                                },
                                {
                                    "Freight": "789.95",
                                    "rownum": "795"
                                },
                                {
                                    "Freight": "810.05",
                                    "rownum": "796"
                                },
                                {
                                    "Freight": "830.75",
                                    "rownum": "797"
                                },
                                {
                                    "Freight": "890.78",
                                    "rownum": "798"
                                },
                                {
                                    "Freight": "1007.64",
                                    "rownum": "799"
                                }
                            ]
                        },
                        "text/html": "<table><tr><th>Freight</th><th>rownum</th></tr><tr><td>0.02</td><td>1</td></tr><tr><td>0.12</td><td>2</td></tr><tr><td>0.14</td><td>3</td></tr><tr><td>0.15</td><td>4</td></tr><tr><td>0.17</td><td>5</td></tr><tr><td>0.20</td><td>6</td></tr><tr><td>0.21</td><td>7</td></tr><tr><td>0.33</td><td>8</td></tr><tr><td>0.40</td><td>9</td></tr><tr><td>0.45</td><td>10</td></tr><tr><td>0.48</td><td>11</td></tr><tr><td>0.53</td><td>12</td></tr><tr><td>0.56</td><td>13</td></tr><tr><td>0.58</td><td>14</td></tr><tr><td>0.59</td><td>15</td></tr><tr><td>0.75</td><td>16</td></tr><tr><td>0.78</td><td>17</td></tr><tr><td>0.82</td><td>18</td></tr><tr><td>0.87</td><td>19</td></tr><tr><td>0.90</td><td>20</td></tr><tr><td>0.93</td><td>21</td></tr><tr><td>0.94</td><td>22</td></tr><tr><td>1.10</td><td>23</td></tr><tr><td>1.12</td><td>24</td></tr><tr><td>1.15</td><td>25</td></tr><tr><td>1.17</td><td>26</td></tr><tr><td>1.21</td><td>27</td></tr><tr><td>1.23</td><td>28</td></tr><tr><td>1.25</td><td>29</td></tr><tr><td>1.26</td><td>30</td></tr><tr><td>1.27</td><td>31</td></tr><tr><td>1.28</td><td>32</td></tr><tr><td>1.30</td><td>33</td></tr><tr><td>1.35</td><td>34</td></tr><tr><td>1.36</td><td>35</td></tr><tr><td>1.39</td><td>36</td></tr><tr><td>1.43</td><td>37</td></tr><tr><td>1.51</td><td>38</td></tr><tr><td>1.59</td><td>39</td></tr><tr><td>1.61</td><td>40</td></tr><tr><td>1.63</td><td>41</td></tr><tr><td>1.66</td><td>42</td></tr><tr><td>1.85</td><td>43</td></tr><tr><td>1.93</td><td>44</td></tr><tr><td>1.96</td><td>45</td></tr><tr><td>2.01</td><td>46</td></tr><tr><td>2.08</td><td>47</td></tr><tr><td>2.17</td><td>48</td></tr><tr><td>2.27</td><td>49</td></tr><tr><td>2.33</td><td>50</td></tr><tr><td>2.38</td><td>51</td></tr><tr><td>2.40</td><td>52</td></tr><tr><td>2.50</td><td>53</td></tr><tr><td>2.70</td><td>54</td></tr><tr><td>2.71</td><td>55</td></tr><tr><td>2.74</td><td>56</td></tr><tr><td>2.79</td><td>57</td></tr><tr><td>2.84</td><td>58</td></tr><tr><td>2.91</td><td>59</td></tr><tr><td>2.92</td><td>60</td></tr><tr><td>2.94</td><td>61</td></tr><tr><td>2.96</td><td>62</td></tr><tr><td>3.01</td><td>63</td></tr><tr><td>3.02</td><td>64</td></tr><tr><td>3.04</td><td>65</td></tr><tr><td>3.05</td><td>66</td></tr><tr><td>3.10</td><td>67</td></tr><tr><td>3.17</td><td>68</td></tr><tr><td>3.20</td><td>69</td></tr><tr><td>3.25</td><td>70</td></tr><tr><td>3.26</td><td>71</td></tr><tr><td>3.35</td><td>72</td></tr><tr><td>3.43</td><td>73</td></tr><tr><td>3.50</td><td>74</td></tr><tr><td>3.51</td><td>75</td></tr><tr><td>3.52</td><td>76</td></tr><tr><td>3.53</td><td>77</td></tr><tr><td>3.67</td><td>78</td></tr><tr><td>3.77</td><td>79</td></tr><tr><td>3.94</td><td>80</td></tr><tr><td>4.03</td><td>81</td></tr><tr><td>4.07</td><td>82</td></tr><tr><td>4.13</td><td>83</td></tr><tr><td>4.20</td><td>84</td></tr><tr><td>4.27</td><td>85</td></tr><tr><td>4.32</td><td>86</td></tr><tr><td>4.33</td><td>87</td></tr><tr><td>4.34</td><td>88</td></tr><tr><td>4.40</td><td>89</td></tr><tr><td>4.41</td><td>90</td></tr><tr><td>4.42</td><td>91</td></tr><tr><td>4.52</td><td>92</td></tr><tr><td>4.54</td><td>93</td></tr><tr><td>4.56</td><td>94</td></tr><tr><td>4.62</td><td>95</td></tr><tr><td>4.65</td><td>96</td></tr><tr><td>4.73</td><td>97</td></tr><tr><td>4.78</td><td>98</td></tr><tr><td>4.81</td><td>99</td></tr><tr><td>4.87</td><td>100</td></tr><tr><td>4.88</td><td>101</td></tr><tr><td>4.93</td><td>102</td></tr><tr><td>4.98</td><td>103</td></tr><tr><td>4.99</td><td>104</td></tr><tr><td>5.24</td><td>105</td></tr><tr><td>5.29</td><td>106</td></tr><tr><td>5.32</td><td>107</td></tr><tr><td>5.44</td><td>108</td></tr><tr><td>5.45</td><td>109</td></tr><tr><td>5.64</td><td>110</td></tr><tr><td>5.74</td><td>111</td></tr><tr><td>6.01</td><td>112</td></tr><tr><td>6.17</td><td>113</td></tr><tr><td>6.19</td><td>114</td></tr><tr><td>6.20</td><td>115</td></tr><tr><td>6.27</td><td>116</td></tr><tr><td>6.40</td><td>117</td></tr><tr><td>6.54</td><td>118</td></tr><tr><td>6.79</td><td>119</td></tr><tr><td>6.88</td><td>120</td></tr><tr><td>7.00</td><td>121</td></tr><tr><td>7.09</td><td>122</td></tr><tr><td>7.13</td><td>123</td></tr><tr><td>7.14</td><td>124</td></tr><tr><td>7.15</td><td>125</td></tr><tr><td>7.23</td><td>126</td></tr><tr><td>7.28</td><td>127</td></tr><tr><td>7.45</td><td>128</td></tr><tr><td>7.46</td><td>129</td></tr><tr><td>7.48</td><td>130</td></tr><tr><td>7.56</td><td>131</td></tr><tr><td>7.70</td><td>132</td></tr><tr><td>7.79</td><td>133</td></tr><tr><td>7.93</td><td>134</td></tr><tr><td>7.98</td><td>135</td></tr><tr><td>7.99</td><td>136</td></tr><tr><td>8.05</td><td>137</td></tr><tr><td>8.11</td><td>138</td></tr><tr><td>8.12</td><td>139</td></tr><tr><td>8.19</td><td>140</td></tr><tr><td>8.24</td><td>141</td></tr><tr><td>8.29</td><td>142</td></tr><tr><td>8.34</td><td>143</td></tr><tr><td>8.50</td><td>144</td></tr><tr><td>8.53</td><td>145</td></tr><tr><td>8.56</td><td>146</td></tr><tr><td>8.63</td><td>147</td></tr><tr><td>8.72</td><td>148</td></tr><tr><td>8.80</td><td>149</td></tr><tr><td>8.81</td><td>150</td></tr><tr><td>8.85</td><td>151</td></tr><tr><td>8.98</td><td>152</td></tr><tr><td>9.19</td><td>153</td></tr><tr><td>9.21</td><td>154</td></tr><tr><td>9.26</td><td>155</td></tr><tr><td>9.30</td><td>156</td></tr><tr><td>9.53</td><td>157</td></tr><tr><td>9.80</td><td>158</td></tr><tr><td>10.14</td><td>159</td></tr><tr><td>10.19</td><td>160</td></tr><tr><td>10.22</td><td>161</td></tr><tr><td>10.64</td><td>162</td></tr><tr><td>10.83</td><td>163</td></tr><tr><td>10.95</td><td>164</td></tr><tr><td>10.96</td><td>165</td></tr><tr><td>10.98</td><td>166</td></tr><tr><td>11.06</td><td>167</td></tr><tr><td>11.08</td><td>168</td></tr><tr><td>11.09</td><td>169</td></tr><tr><td>11.19</td><td>170</td></tr><tr><td>11.26</td><td>171</td></tr><tr><td>11.57</td><td>172</td></tr><tr><td>11.61</td><td>173</td></tr><tr><td>11.65</td><td>174</td></tr><tr><td>11.92</td><td>175</td></tr><tr><td>11.93</td><td>176</td></tr><tr><td>11.99</td><td>177</td></tr><tr><td>12.04</td><td>178</td></tr><tr><td>12.36</td><td>179</td></tr><tr><td>12.41</td><td>180</td></tr><tr><td>12.51</td><td>181</td></tr><tr><td>12.69</td><td>182</td></tr><tr><td>12.75</td><td>183</td></tr><tr><td>12.76</td><td>184</td></tr><tr><td>12.91</td><td>185</td></tr><tr><td>12.96</td><td>186</td></tr><tr><td>13.02</td><td>187</td></tr><tr><td>13.32</td><td>188</td></tr><tr><td>13.37</td><td>189</td></tr><tr><td>13.41</td><td>190</td></tr><tr><td>13.42</td><td>191</td></tr><tr><td>13.55</td><td>192</td></tr><tr><td>13.60</td><td>193</td></tr><tr><td>13.72</td><td>194</td></tr><tr><td>13.73</td><td>195</td></tr><tr><td>13.75</td><td>196</td></tr><tr><td>13.84</td><td>197</td></tr><tr><td>13.95</td><td>198</td></tr><tr><td>13.97</td><td>199</td></tr><tr><td>13.99</td><td>200</td></tr><tr><td>14.01</td><td>201</td></tr><tr><td>14.25</td><td>202</td></tr><tr><td>14.62</td><td>203</td></tr><tr><td>14.68</td><td>204</td></tr><tr><td>14.78</td><td>205</td></tr><tr><td>14.91</td><td>206</td></tr><tr><td>14.93</td><td>207</td></tr><tr><td>15.17</td><td>208</td></tr><tr><td>15.28</td><td>209</td></tr><tr><td>15.51</td><td>210</td></tr><tr><td>15.55</td><td>211</td></tr><tr><td>15.64</td><td>212</td></tr><tr><td>15.66</td><td>213</td></tr><tr><td>15.67</td><td>214</td></tr><tr><td>15.80</td><td>215</td></tr><tr><td>16.16</td><td>216</td></tr><tr><td>16.27</td><td>217</td></tr><tr><td>16.34</td><td>218</td></tr><tr><td>16.37</td><td>219</td></tr><tr><td>16.56</td><td>220</td></tr><tr><td>16.71</td><td>221</td></tr><tr><td>16.72</td><td>222</td></tr><tr><td>16.74</td><td>223</td></tr><tr><td>16.85</td><td>224</td></tr><tr><td>16.96</td><td>225</td></tr><tr><td>16.97</td><td>226</td></tr><tr><td>17.22</td><td>227</td></tr><tr><td>17.52</td><td>228</td></tr><tr><td>17.55</td><td>229</td></tr><tr><td>17.68</td><td>230</td></tr><tr><td>17.92</td><td>231</td></tr><tr><td>17.95</td><td>232</td></tr><tr><td>18.44</td><td>233</td></tr><tr><td>18.53</td><td>234</td></tr><tr><td>18.56</td><td>235</td></tr><tr><td>18.66</td><td>236</td></tr><tr><td>18.69</td><td>237</td></tr><tr><td>18.84</td><td>238</td></tr><tr><td>19.26</td><td>239</td></tr><tr><td>19.58</td><td>240</td></tr><tr><td>19.64</td><td>241</td></tr><tr><td>19.76</td><td>242</td></tr><tr><td>19.77</td><td>243</td></tr><tr><td>19.79</td><td>244</td></tr><tr><td>19.80</td><td>245</td></tr><tr><td>19.97</td><td>246</td></tr><tr><td>20.12</td><td>247</td></tr><tr><td>20.25</td><td>248</td></tr><tr><td>20.31</td><td>249</td></tr><tr><td>20.37</td><td>250</td></tr><tr><td>20.39</td><td>251</td></tr><tr><td>20.60</td><td>252</td></tr><tr><td>21.18</td><td>253</td></tr><tr><td>21.19</td><td>254</td></tr><tr><td>21.48</td><td>255</td></tr><tr><td>21.49</td><td>256</td></tr><tr><td>21.72</td><td>257</td></tr><tr><td>21.74</td><td>258</td></tr><tr><td>22.00</td><td>259</td></tr><tr><td>22.11</td><td>260</td></tr><tr><td>22.21</td><td>261</td></tr><tr><td>22.57</td><td>262</td></tr><tr><td>22.72</td><td>263</td></tr><tr><td>22.76</td><td>264</td></tr><tr><td>22.77</td><td>265</td></tr><tr><td>22.95</td><td>266</td></tr><tr><td>22.98</td><td>267</td></tr><tr><td>23.10</td><td>268</td></tr><tr><td>23.29</td><td>269</td></tr><tr><td>23.39</td><td>270</td></tr><tr><td>23.55</td><td>271</td></tr><tr><td>23.60</td><td>272</td></tr><tr><td>23.65</td><td>273</td></tr><tr><td>23.72</td><td>274</td></tr><tr><td>23.73</td><td>275</td></tr><tr><td>23.79</td><td>276</td></tr><tr><td>23.94</td><td>277</td></tr><tr><td>24.12</td><td>278</td></tr><tr><td>24.39</td><td>279</td></tr><tr><td>24.49</td><td>280</td></tr><tr><td>24.50</td><td>281</td></tr><tr><td>24.69</td><td>282</td></tr><tr><td>24.91</td><td>283</td></tr><tr><td>24.95</td><td>284</td></tr><tr><td>25.09</td><td>285</td></tr><tr><td>25.19</td><td>286</td></tr><tr><td>25.22</td><td>287</td></tr><tr><td>25.36</td><td>288</td></tr><tr><td>25.41</td><td>289</td></tr><tr><td>25.73</td><td>290</td></tr><tr><td>25.83</td><td>291</td></tr><tr><td>26.06</td><td>292</td></tr><tr><td>26.29</td><td>293</td></tr><tr><td>26.31</td><td>294</td></tr><tr><td>26.52</td><td>295</td></tr><tr><td>26.61</td><td>296</td></tr><tr><td>26.78</td><td>297</td></tr><tr><td>26.93</td><td>298</td></tr><tr><td>27.19</td><td>299</td></tr><tr><td>27.20</td><td>300</td></tr><tr><td>27.33</td><td>301</td></tr><tr><td>27.36</td><td>302</td></tr><tr><td>27.71</td><td>303</td></tr><tr><td>27.79</td><td>304</td></tr><tr><td>27.91</td><td>305</td></tr><tr><td>27.94</td><td>306</td></tr><tr><td>28.23</td><td>307</td></tr><tr><td>28.71</td><td>308</td></tr><tr><td>29.17</td><td>309</td></tr><tr><td>29.46</td><td>310</td></tr><tr><td>29.59</td><td>311</td></tr><tr><td>29.60</td><td>312</td></tr><tr><td>29.61</td><td>313</td></tr><tr><td>29.75</td><td>314</td></tr><tr><td>29.76</td><td>315</td></tr><tr><td>29.78</td><td>316</td></tr><tr><td>29.83</td><td>317</td></tr><tr><td>29.93</td><td>318</td></tr><tr><td>29.98</td><td>319</td></tr><tr><td>29.99</td><td>320</td></tr><tr><td>30.09</td><td>321</td></tr><tr><td>30.26</td><td>322</td></tr><tr><td>30.34</td><td>323</td></tr><tr><td>30.36</td><td>324</td></tr><tr><td>30.53</td><td>325</td></tr><tr><td>30.54</td><td>326</td></tr><tr><td>30.76</td><td>327</td></tr><tr><td>30.85</td><td>328</td></tr><tr><td>30.96</td><td>329</td></tr><tr><td>31.14</td><td>330</td></tr><tr><td>31.22</td><td>331</td></tr><tr><td>31.29</td><td>332</td></tr><tr><td>31.43</td><td>333</td></tr><tr><td>31.51</td><td>334</td></tr><tr><td>31.85</td><td>335</td></tr><tr><td>31.89</td><td>336</td></tr><tr><td>32.01</td><td>337</td></tr><tr><td>32.07</td><td>338</td></tr><tr><td>32.10</td><td>339</td></tr><tr><td>32.27</td><td>340</td></tr><tr><td>32.35</td><td>341</td></tr><tr><td>32.37</td><td>342</td></tr><tr><td>32.38</td><td>343</td></tr><tr><td>32.45</td><td>344</td></tr><tr><td>32.76</td><td>345</td></tr><tr><td>32.82</td><td>346</td></tr><tr><td>32.96</td><td>347</td></tr><tr><td>32.99</td><td>348</td></tr><tr><td>33.05</td><td>349</td></tr><tr><td>33.35</td><td>350</td></tr><tr><td>33.68</td><td>351</td></tr><tr><td>33.75</td><td>352</td></tr><tr><td>33.80</td><td>353</td></tr><tr><td>33.93</td><td>354</td></tr><tr><td>33.97</td><td>355</td></tr><tr><td>34.24</td><td>356</td></tr><tr><td>34.57</td><td>357</td></tr><tr><td>34.76</td><td>358</td></tr><tr><td>34.82</td><td>359</td></tr><tr><td>34.86</td><td>360</td></tr><tr><td>34.88</td><td>361</td></tr><tr><td>35.03</td><td>362</td></tr><tr><td>35.12</td><td>363</td></tr><tr><td>35.43</td><td>364</td></tr><tr><td>36.13</td><td>365</td></tr><tr><td>36.21</td><td>366</td></tr><tr><td>36.65</td><td>367</td></tr><tr><td>36.68</td><td>368</td></tr><tr><td>36.71</td><td>369</td></tr><tr><td>37.35</td><td>370</td></tr><tr><td>37.52</td><td>371</td></tr><tr><td>37.60</td><td>372</td></tr><tr><td>37.97</td><td>373</td></tr><tr><td>38.06</td><td>374</td></tr><tr><td>38.11</td><td>375</td></tr><tr><td>38.19</td><td>376</td></tr><tr><td>38.24</td><td>377</td></tr><tr><td>38.28</td><td>378</td></tr><tr><td>38.51</td><td>379</td></tr><tr><td>38.64</td><td>380</td></tr><tr><td>38.82</td><td>381</td></tr><tr><td>39.92</td><td>382</td></tr><tr><td>40.26</td><td>383</td></tr><tr><td>40.32</td><td>384</td></tr><tr><td>40.42</td><td>385</td></tr><tr><td>41.34</td><td>386</td></tr><tr><td>41.38</td><td>387</td></tr><tr><td>41.76</td><td>388</td></tr><tr><td>41.89</td><td>389</td></tr><tr><td>41.90</td><td>390</td></tr><tr><td>41.95</td><td>391</td></tr><tr><td>42.11</td><td>392</td></tr><tr><td>42.13</td><td>393</td></tr><tr><td>42.68</td><td>394</td></tr><tr><td>42.70</td><td>395</td></tr><tr><td>42.74</td><td>396</td></tr><tr><td>43.26</td><td>397</td></tr><tr><td>43.30</td><td>398</td></tr><tr><td>43.90</td><td>399</td></tr><tr><td>44.10</td><td>400</td></tr><tr><td>44.12</td><td>401</td></tr><tr><td>44.15</td><td>402</td></tr><tr><td>44.17</td><td>403</td></tr><tr><td>44.42</td><td>404</td></tr><tr><td>44.65</td><td>405</td></tr><tr><td>44.72</td><td>406</td></tr><tr><td>44.77</td><td>407</td></tr><tr><td>44.84</td><td>408</td></tr><tr><td>45.03</td><td>409</td></tr><tr><td>45.08</td><td>410</td></tr><tr><td>45.13</td><td>411</td></tr><tr><td>45.33</td><td>412</td></tr><tr><td>45.52</td><td>413</td></tr><tr><td>45.53</td><td>414</td></tr><tr><td>45.54</td><td>415</td></tr><tr><td>45.59</td><td>416</td></tr><tr><td>45.97</td><td>417</td></tr><tr><td>46.00</td><td>418</td></tr><tr><td>46.62</td><td>419</td></tr><tr><td>46.69</td><td>420</td></tr><tr><td>46.77</td><td>421</td></tr><tr><td>47.09</td><td>422</td></tr><tr><td>47.22</td><td>423</td></tr><tr><td>47.30</td><td>424</td></tr><tr><td>47.38</td><td>425</td></tr><tr><td>47.42</td><td>426</td></tr><tr><td>47.45</td><td>427</td></tr><tr><td>47.46</td><td>428</td></tr><tr><td>47.59</td><td>429</td></tr><tr><td>47.84</td><td>430</td></tr><tr><td>47.94</td><td>431</td></tr><tr><td>48.17</td><td>432</td></tr><tr><td>48.20</td><td>433</td></tr><tr><td>48.22</td><td>434</td></tr><tr><td>48.29</td><td>435</td></tr><tr><td>48.77</td><td>436</td></tr><tr><td>48.83</td><td>437</td></tr><tr><td>48.92</td><td>438</td></tr><tr><td>49.19</td><td>439</td></tr><tr><td>49.56</td><td>440</td></tr><tr><td>50.97</td><td>441</td></tr><tr><td>51.30</td><td>442</td></tr><tr><td>51.44</td><td>443</td></tr><tr><td>51.87</td><td>444</td></tr><tr><td>52.41</td><td>445</td></tr><tr><td>52.51</td><td>446</td></tr><tr><td>52.52</td><td>447</td></tr><tr><td>52.84</td><td>448</td></tr><tr><td>52.92</td><td>449</td></tr><tr><td>53.05</td><td>450</td></tr><tr><td>53.23</td><td>451</td></tr><tr><td>53.30</td><td>452</td></tr><tr><td>53.80</td><td>453</td></tr><tr><td>53.83</td><td>454</td></tr><tr><td>54.15</td><td>455</td></tr><tr><td>54.42</td><td>456</td></tr><tr><td>54.83</td><td>457</td></tr><tr><td>55.09</td><td>458</td></tr><tr><td>55.12</td><td>459</td></tr><tr><td>55.23</td><td>460</td></tr><tr><td>55.26</td><td>461</td></tr><tr><td>55.28</td><td>462</td></tr><tr><td>55.92</td><td>463</td></tr><tr><td>56.46</td><td>464</td></tr><tr><td>56.63</td><td>465</td></tr><tr><td>57.15</td><td>466</td></tr><tr><td>57.75</td><td>467</td></tr><tr><td>58.13</td><td>468</td></tr><tr><td>58.17</td><td>469</td></tr><tr><td>58.30</td><td>470</td></tr><tr><td>58.33</td><td>471</td></tr><tr><td>58.43</td><td>472</td></tr><tr><td>58.59</td><td>473</td></tr><tr><td>58.88</td><td>474</td></tr><tr><td>58.98</td><td>475</td></tr><tr><td>59.11</td><td>476</td></tr><tr><td>59.13</td><td>477</td></tr><tr><td>59.14</td><td>478</td></tr><tr><td>59.25</td><td>479</td></tr><tr><td>59.28</td><td>480</td></tr><tr><td>59.41</td><td>481</td></tr><tr><td>59.78</td><td>482</td></tr><tr><td>60.18</td><td>483</td></tr><tr><td>60.26</td><td>484</td></tr><tr><td>60.42</td><td>485</td></tr><tr><td>60.43</td><td>486</td></tr><tr><td>61.02</td><td>487</td></tr><tr><td>61.14</td><td>488</td></tr><tr><td>61.53</td><td>489</td></tr><tr><td>62.09</td><td>490</td></tr><tr><td>62.22</td><td>491</td></tr><tr><td>62.52</td><td>492</td></tr><tr><td>62.74</td><td>493</td></tr><tr><td>62.78</td><td>494</td></tr><tr><td>62.89</td><td>495</td></tr><tr><td>63.20</td><td>496</td></tr><tr><td>63.36</td><td>497</td></tr><tr><td>63.54</td><td>498</td></tr><tr><td>63.77</td><td>499</td></tr><tr><td>63.79</td><td>500</td></tr><tr><td>64.19</td><td>501</td></tr><tr><td>64.33</td><td>502</td></tr><tr><td>64.45</td><td>503</td></tr><tr><td>64.50</td><td>504</td></tr><tr><td>64.56</td><td>505</td></tr><tr><td>64.86</td><td>506</td></tr><tr><td>65.00</td><td>507</td></tr><tr><td>65.06</td><td>508</td></tr><tr><td>65.10</td><td>509</td></tr><tr><td>65.48</td><td>510</td></tr><tr><td>65.53</td><td>511</td></tr><tr><td>65.83</td><td>512</td></tr><tr><td>65.99</td><td>513</td></tr><tr><td>66.29</td><td>514</td></tr><tr><td>66.69</td><td>515</td></tr><tr><td>67.26</td><td>516</td></tr><tr><td>67.88</td><td>517</td></tr><tr><td>68.26</td><td>518</td></tr><tr><td>68.52</td><td>519</td></tr><tr><td>68.65</td><td>520</td></tr><tr><td>68.66</td><td>521</td></tr><tr><td>69.19</td><td>522</td></tr><tr><td>69.32</td><td>523</td></tr><tr><td>69.53</td><td>524</td></tr><tr><td>70.09</td><td>525</td></tr><tr><td>70.29</td><td>526</td></tr><tr><td>70.58</td><td>527</td></tr><tr><td>71.07</td><td>528</td></tr><tr><td>71.49</td><td>529</td></tr><tr><td>71.64</td><td>530</td></tr><tr><td>71.97</td><td>531</td></tr><tr><td>72.19</td><td>532</td></tr><tr><td>72.95</td><td>533</td></tr><tr><td>72.97</td><td>534</td></tr><tr><td>73.02</td><td>535</td></tr><tr><td>73.16</td><td>536</td></tr><tr><td>73.21</td><td>537</td></tr><tr><td>73.79</td><td>538</td></tr><tr><td>73.83</td><td>539</td></tr><tr><td>73.91</td><td>540</td></tr><tr><td>74.16</td><td>541</td></tr><tr><td>74.36</td><td>542</td></tr><tr><td>74.44</td><td>543</td></tr><tr><td>74.46</td><td>544</td></tr><tr><td>74.58</td><td>545</td></tr><tr><td>74.60</td><td>546</td></tr><tr><td>75.89</td><td>547</td></tr><tr><td>76.07</td><td>548</td></tr><tr><td>76.10</td><td>549</td></tr><tr><td>76.13</td><td>550</td></tr><tr><td>76.33</td><td>551</td></tr><tr><td>76.56</td><td>552</td></tr><tr><td>76.83</td><td>553</td></tr><tr><td>77.63</td><td>554</td></tr><tr><td>77.78</td><td>555</td></tr><tr><td>77.92</td><td>556</td></tr><tr><td>78.09</td><td>557</td></tr><tr><td>78.85</td><td>558</td></tr><tr><td>79.25</td><td>559</td></tr><tr><td>79.30</td><td>560</td></tr><tr><td>79.40</td><td>561</td></tr><tr><td>79.46</td><td>562</td></tr><tr><td>79.70</td><td>563</td></tr><tr><td>80.65</td><td>564</td></tr><tr><td>81.73</td><td>565</td></tr><tr><td>81.75</td><td>566</td></tr><tr><td>81.83</td><td>567</td></tr><tr><td>81.88</td><td>568</td></tr><tr><td>81.91</td><td>569</td></tr><tr><td>83.22</td><td>570</td></tr><tr><td>83.49</td><td>571</td></tr><tr><td>83.93</td><td>572</td></tr><tr><td>84.21</td><td>573</td></tr><tr><td>84.74</td><td>574</td></tr><tr><td>84.81</td><td>575</td></tr><tr><td>84.84</td><td>576</td></tr><tr><td>85.46</td><td>577</td></tr><tr><td>85.80</td><td>578</td></tr><tr><td>86.53</td><td>579</td></tr><tr><td>87.03</td><td>580</td></tr><tr><td>87.38</td><td>581</td></tr><tr><td>88.01</td><td>582</td></tr><tr><td>88.40</td><td>583</td></tr><tr><td>89.00</td><td>584</td></tr><tr><td>89.16</td><td>585</td></tr><tr><td>89.90</td><td>586</td></tr><tr><td>89.93</td><td>587</td></tr><tr><td>90.85</td><td>588</td></tr><tr><td>90.97</td><td>589</td></tr><tr><td>91.05</td><td>590</td></tr><tr><td>91.28</td><td>591</td></tr><tr><td>91.48</td><td>592</td></tr><tr><td>91.51</td><td>593</td></tr><tr><td>91.76</td><td>594</td></tr><tr><td>92.69</td><td>595</td></tr><tr><td>93.25</td><td>596</td></tr><tr><td>93.63</td><td>597</td></tr><tr><td>94.77</td><td>598</td></tr><tr><td>94.80</td><td>599</td></tr><tr><td>95.66</td><td>600</td></tr><tr><td>95.75</td><td>601</td></tr><tr><td>96.04</td><td>602</td></tr><tr><td>96.35</td><td>603</td></tr><tr><td>96.43</td><td>604</td></tr><tr><td>96.50</td><td>605</td></tr><tr><td>96.65</td><td>606</td></tr><tr><td>96.72</td><td>607</td></tr><tr><td>96.78</td><td>608</td></tr><tr><td>97.09</td><td>609</td></tr><tr><td>97.18</td><td>610</td></tr><tr><td>98.03</td><td>611</td></tr><tr><td>99.23</td><td>612</td></tr><tr><td>100.22</td><td>613</td></tr><tr><td>100.60</td><td>614</td></tr><tr><td>101.95</td><td>615</td></tr><tr><td>102.02</td><td>616</td></tr><tr><td>102.55</td><td>617</td></tr><tr><td>104.47</td><td>618</td></tr><tr><td>105.36</td><td>619</td></tr><tr><td>105.65</td><td>620</td></tr><tr><td>105.81</td><td>621</td></tr><tr><td>107.46</td><td>622</td></tr><tr><td>107.83</td><td>623</td></tr><tr><td>108.04</td><td>624</td></tr><tr><td>108.26</td><td>625</td></tr><tr><td>109.11</td><td>626</td></tr><tr><td>110.11</td><td>627</td></tr><tr><td>110.37</td><td>628</td></tr><tr><td>110.87</td><td>629</td></tr><tr><td>111.29</td><td>630</td></tr><tr><td>112.27</td><td>631</td></tr><tr><td>113.15</td><td>632</td></tr><tr><td>116.13</td><td>633</td></tr><tr><td>116.43</td><td>634</td></tr><tr><td>116.53</td><td>635</td></tr><tr><td>117.33</td><td>636</td></tr><tr><td>117.61</td><td>637</td></tr><tr><td>120.27</td><td>638</td></tr><tr><td>120.92</td><td>639</td></tr><tr><td>120.97</td><td>640</td></tr><tr><td>121.82</td><td>641</td></tr><tr><td>122.46</td><td>642</td></tr><tr><td>123.83</td><td>643</td></tr><tr><td>124.12</td><td>644</td></tr><tr><td>124.98</td><td>645</td></tr><tr><td>125.77</td><td>646</td></tr><tr><td>126.38</td><td>647</td></tr><tr><td>126.56</td><td>648</td></tr><tr><td>126.66</td><td>649</td></tr><tr><td>127.34</td><td>650</td></tr><tr><td>130.79</td><td>651</td></tr><tr><td>130.94</td><td>652</td></tr><tr><td>131.70</td><td>653</td></tr><tr><td>134.64</td><td>654</td></tr><tr><td>135.35</td><td>655</td></tr><tr><td>135.63</td><td>656</td></tr><tr><td>136.00</td><td>657</td></tr><tr><td>136.54</td><td>658</td></tr><tr><td>137.35</td><td>659</td></tr><tr><td>137.44</td><td>660</td></tr><tr><td>138.17</td><td>661</td></tr><tr><td>138.69</td><td>662</td></tr><tr><td>139.34</td><td>663</td></tr><tr><td>140.26</td><td>664</td></tr><tr><td>140.51</td><td>665</td></tr><tr><td>141.06</td><td>666</td></tr><tr><td>141.16</td><td>667</td></tr><tr><td>142.08</td><td>668</td></tr><tr><td>142.33</td><td>669</td></tr><tr><td>143.28</td><td>670</td></tr><tr><td>144.38</td><td>671</td></tr><tr><td>145.04</td><td>672</td></tr><tr><td>145.45</td><td>673</td></tr><tr><td>145.63</td><td>674</td></tr><tr><td>146.06</td><td>675</td></tr><tr><td>146.32</td><td>676</td></tr><tr><td>147.06</td><td>677</td></tr><tr><td>147.26</td><td>678</td></tr><tr><td>148.33</td><td>679</td></tr><tr><td>148.61</td><td>680</td></tr><tr><td>149.47</td><td>681</td></tr><tr><td>149.49</td><td>682</td></tr><tr><td>150.15</td><td>683</td></tr><tr><td>151.52</td><td>684</td></tr><tr><td>152.30</td><td>685</td></tr><tr><td>154.68</td><td>686</td></tr><tr><td>154.72</td><td>687</td></tr><tr><td>155.64</td><td>688</td></tr><tr><td>155.97</td><td>689</td></tr><tr><td>156.66</td><td>690</td></tr><tr><td>157.55</td><td>691</td></tr><tr><td>158.44</td><td>692</td></tr><tr><td>160.55</td><td>693</td></tr><tr><td>162.33</td><td>694</td></tr><tr><td>162.75</td><td>695</td></tr><tr><td>162.95</td><td>696</td></tr><tr><td>163.97</td><td>697</td></tr><tr><td>166.31</td><td>698</td></tr><tr><td>167.05</td><td>699</td></tr><tr><td>168.22</td><td>700</td></tr><tr><td>168.64</td><td>701</td></tr><tr><td>170.88</td><td>702</td></tr><tr><td>170.97</td><td>703</td></tr><tr><td>171.24</td><td>704</td></tr><tr><td>174.05</td><td>705</td></tr><tr><td>174.20</td><td>706</td></tr><tr><td>175.32</td><td>707</td></tr><tr><td>176.48</td><td>708</td></tr><tr><td>176.81</td><td>709</td></tr><tr><td>178.43</td><td>710</td></tr><tr><td>179.61</td><td>711</td></tr><tr><td>180.45</td><td>712</td></tr><tr><td>183.17</td><td>713</td></tr><tr><td>184.41</td><td>714</td></tr><tr><td>185.48</td><td>715</td></tr><tr><td>188.04</td><td>716</td></tr><tr><td>188.85</td><td>717</td></tr><tr><td>188.99</td><td>718</td></tr><tr><td>189.09</td><td>719</td></tr><tr><td>191.27</td><td>720</td></tr><tr><td>191.67</td><td>721</td></tr><tr><td>193.37</td><td>722</td></tr><tr><td>194.67</td><td>723</td></tr><tr><td>194.72</td><td>724</td></tr><tr><td>195.68</td><td>725</td></tr><tr><td>197.30</td><td>726</td></tr><tr><td>200.24</td><td>727</td></tr><tr><td>201.29</td><td>728</td></tr><tr><td>202.24</td><td>729</td></tr><tr><td>203.48</td><td>730</td></tr><tr><td>204.47</td><td>731</td></tr><tr><td>208.50</td><td>732</td></tr><tr><td>208.58</td><td>733</td></tr><tr><td>210.19</td><td>734</td></tr><tr><td>210.80</td><td>735</td></tr><tr><td>211.22</td><td>736</td></tr><tr><td>212.98</td><td>737</td></tr><tr><td>214.27</td><td>738</td></tr><tr><td>217.86</td><td>739</td></tr><tr><td>218.15</td><td>740</td></tr><tr><td>220.31</td><td>741</td></tr><tr><td>227.22</td><td>742</td></tr><tr><td>229.24</td><td>743</td></tr><tr><td>232.42</td><td>744</td></tr><tr><td>232.55</td><td>745</td></tr><tr><td>237.34</td><td>746</td></tr><tr><td>242.21</td><td>747</td></tr><tr><td>242.95</td><td>748</td></tr><tr><td>243.73</td><td>749</td></tr><tr><td>244.79</td><td>750</td></tr><tr><td>249.06</td><td>751</td></tr><tr><td>249.93</td><td>752</td></tr><tr><td>252.49</td><td>753</td></tr><tr><td>257.26</td><td>754</td></tr><tr><td>257.62</td><td>755</td></tr><tr><td>258.64</td><td>756</td></tr><tr><td>272.47</td><td>757</td></tr><tr><td>275.79</td><td>758</td></tr><tr><td>278.96</td><td>759</td></tr><tr><td>280.61</td><td>760</td></tr><tr><td>288.43</td><td>761</td></tr><tr><td>296.43</td><td>762</td></tr><tr><td>297.18</td><td>763</td></tr><tr><td>299.09</td><td>764</td></tr><tr><td>306.07</td><td>765</td></tr><tr><td>328.74</td><td>766</td></tr><tr><td>339.22</td><td>767</td></tr><tr><td>348.14</td><td>768</td></tr><tr><td>350.64</td><td>769</td></tr><tr><td>351.53</td><td>770</td></tr><tr><td>352.69</td><td>771</td></tr><tr><td>353.07</td><td>772</td></tr><tr><td>360.63</td><td>773</td></tr><tr><td>364.15</td><td>774</td></tr><tr><td>367.63</td><td>775</td></tr><tr><td>370.61</td><td>776</td></tr><tr><td>379.13</td><td>777</td></tr><tr><td>388.98</td><td>778</td></tr><tr><td>398.36</td><td>779</td></tr><tr><td>400.81</td><td>780</td></tr><tr><td>411.88</td><td>781</td></tr><tr><td>424.30</td><td>782</td></tr><tr><td>458.78</td><td>783</td></tr><tr><td>477.90</td><td>784</td></tr><tr><td>487.38</td><td>785</td></tr><tr><td>487.57</td><td>786</td></tr><tr><td>544.08</td><td>787</td></tr><tr><td>580.91</td><td>788</td></tr><tr><td>603.54</td><td>789</td></tr><tr><td>606.19</td><td>790</td></tr><tr><td>657.54</td><td>791</td></tr><tr><td>708.95</td><td>792</td></tr><tr><td>719.78</td><td>793</td></tr><tr><td>754.26</td><td>794</td></tr><tr><td>789.95</td><td>795</td></tr><tr><td>810.05</td><td>796</td></tr><tr><td>830.75</td><td>797</td></tr><tr><td>890.78</td><td>798</td></tr><tr><td>1007.64</td><td>799</td></tr></table>"
                    },
                    "metadata": {}
                }
            ],
            "execution_count": 28
        },
        {
            "cell_type": "markdown",
            "source": [
                "\\-- 3\n",
                "\n",
                "\\-- Write a query against the dbo.Orders table that computes for each\n",
                "\n",
                "\\-- customer order:\n",
                "\n",
                "\\-- \\* the difference between the current order quantity\n",
                "\n",
                "\\--   and the customer's previous order quantity\n",
                "\n",
                "\\-- \\* the difference between the current order quantity\n",
                "\n",
                "\\--   and the customer's next order quantity."
            ],
            "metadata": {
                "language": "sql",
                "azdata_cell_guid": "cdd45106-1a2f-4720-8a53-b46526c10cd9"
            },
            "attachments": {}
        },
        {
            "cell_type": "code",
            "source": [
                "USE Northwinds2022TSQLV7;\r\n",
                "\r\n",
                "-- The LAG window function is used to access the quantity (qty) from the previous row within the same result set, partitioned by custid and ordered by orderdate and orderid. The result shows the difference in quantity from the previous order for the same customer and is aliased as diffprev.\r\n",
                "-- The LEAD window function is used to access the quantity (qty) from the subsequent row within the same result set, again partitioned by custid and ordered by orderdate and orderid. The result shows the difference in quantity to the next order for the same customer and is aliased as diffnext.\r\n",
                "-- The PARTITION BY custid clause ensures comparisons for LAG and LEAD are within groups of the same customer ID.\r\n",
                "-- The ORDER BY orderdate, orderid within the window functions determines the sequence in which the LAG and LEAD values are accessed.\r\n",
                "-- If LAG or LEAD functions encounter the first or last row in a partition, respectively, they return NULL because there is no previous or next row to compare to, resulting in NULL for the calculated diffprev or diffnext.\r\n",
                "SELECT custid, orderid, qty,\r\n",
                "qty - LAG(qty) OVER(PARTITION BY custid ORDER BY orderdate, orderid) as diffprev,\r\n",
                "qty - LEAD(qty) OVER(PARTITION BY custid ORDER BY orderdate, orderid) as diffnext\r\n",
                "FROM dbo.Orders;\r\n",
                "\r\n",
                "\r\n",
                ""
            ],
            "metadata": {
                "language": "sql",
                "azdata_cell_guid": "82783eac-c0a0-497f-9e55-373794a36c81",
                "tags": []
            },
            "outputs": [
                {
                    "output_type": "display_data",
                    "data": {
                        "text/html": "(11 rows affected)"
                    },
                    "metadata": {}
                },
                {
                    "output_type": "display_data",
                    "data": {
                        "text/html": "Total execution time: 00:00:00.011"
                    },
                    "metadata": {}
                },
                {
                    "output_type": "execute_result",
                    "execution_count": 31,
                    "data": {
                        "application/vnd.dataresource+json": {
                            "schema": {
                                "fields": [
                                    {
                                        "name": "custid"
                                    },
                                    {
                                        "name": "orderid"
                                    },
                                    {
                                        "name": "qty"
                                    },
                                    {
                                        "name": "diffprev"
                                    },
                                    {
                                        "name": "diffnext"
                                    }
                                ]
                            },
                            "data": [
                                {
                                    "custid": "A",
                                    "orderid": "30001",
                                    "qty": "10",
                                    "diffprev": "NULL",
                                    "diffnext": "-2"
                                },
                                {
                                    "custid": "A",
                                    "orderid": "10001",
                                    "qty": "12",
                                    "diffprev": "2",
                                    "diffnext": "-28"
                                },
                                {
                                    "custid": "A",
                                    "orderid": "40001",
                                    "qty": "40",
                                    "diffprev": "28",
                                    "diffnext": "30"
                                },
                                {
                                    "custid": "A",
                                    "orderid": "40005",
                                    "qty": "10",
                                    "diffprev": "-30",
                                    "diffnext": "NULL"
                                },
                                {
                                    "custid": "B",
                                    "orderid": "10005",
                                    "qty": "20",
                                    "diffprev": "NULL",
                                    "diffnext": "8"
                                },
                                {
                                    "custid": "B",
                                    "orderid": "20001",
                                    "qty": "12",
                                    "diffprev": "-8",
                                    "diffnext": "-3"
                                },
                                {
                                    "custid": "B",
                                    "orderid": "30003",
                                    "qty": "15",
                                    "diffprev": "3",
                                    "diffnext": "NULL"
                                },
                                {
                                    "custid": "C",
                                    "orderid": "30004",
                                    "qty": "22",
                                    "diffprev": "NULL",
                                    "diffnext": "8"
                                },
                                {
                                    "custid": "C",
                                    "orderid": "10006",
                                    "qty": "14",
                                    "diffprev": "-8",
                                    "diffnext": "-6"
                                },
                                {
                                    "custid": "C",
                                    "orderid": "20002",
                                    "qty": "20",
                                    "diffprev": "6",
                                    "diffnext": "NULL"
                                },
                                {
                                    "custid": "D",
                                    "orderid": "30007",
                                    "qty": "30",
                                    "diffprev": "NULL",
                                    "diffnext": "NULL"
                                }
                            ]
                        },
                        "text/html": "<table><tr><th>custid</th><th>orderid</th><th>qty</th><th>diffprev</th><th>diffnext</th></tr><tr><td>A</td><td>30001</td><td>10</td><td>NULL</td><td>-2</td></tr><tr><td>A</td><td>10001</td><td>12</td><td>2</td><td>-28</td></tr><tr><td>A</td><td>40001</td><td>40</td><td>28</td><td>30</td></tr><tr><td>A</td><td>40005</td><td>10</td><td>-30</td><td>NULL</td></tr><tr><td>B</td><td>10005</td><td>20</td><td>NULL</td><td>8</td></tr><tr><td>B</td><td>20001</td><td>12</td><td>-8</td><td>-3</td></tr><tr><td>B</td><td>30003</td><td>15</td><td>3</td><td>NULL</td></tr><tr><td>C</td><td>30004</td><td>22</td><td>NULL</td><td>8</td></tr><tr><td>C</td><td>10006</td><td>14</td><td>-8</td><td>-6</td></tr><tr><td>C</td><td>20002</td><td>20</td><td>6</td><td>NULL</td></tr><tr><td>D</td><td>30007</td><td>30</td><td>NULL</td><td>NULL</td></tr></table>"
                    },
                    "metadata": {}
                }
            ],
            "execution_count": 31
        },
        {
            "cell_type": "markdown",
            "source": [
                "```\n",
                "-- 4\n",
                "-- Write a query against the dbo.Orders table that returns a row for each\n",
                "-- employee, a column for each order year, and the count of orders\n",
                "-- for each employee and order year\n",
                "-- Tables involved: TSQLV4 database, dbo.Orders table\n",
                "\n",
                "```"
            ],
            "metadata": {
                "azdata_cell_guid": "6be1d9fa-b86d-4b8b-9d80-796321f18716"
            },
            "attachments": {}
        },
        {
            "cell_type": "code",
            "source": [
                "USE Northwinds2022TSQLV7;\r\n",
                "\r\n",
                "-- empid is the ID of the employee who processed the order.\r\n",
                "-- The COUNT(CASE WHEN ...) function is used to count orders for each year specified within the CASE statement.\r\n",
                "-- The subquery aliased as O selects the empid and the year of the order date, orderyear, from the dbo.Orders table.\r\n",
                "-- The GROUP BY empid clause groups the result set by employee ID so that the COUNT aggregates operate within each group.\r\n",
                "SELECT empid, \r\n",
                "    -- COUNT with CASE is used to only count the rows where orderyear equals 2014.\r\n",
                "    COUNT(CASE WHEN orderyear = 2014 THEN orderyear END) AS cnt2014,\r\n",
                "    -- COUNT with CASE is used to only count the rows where orderyear equals 2015.\r\n",
                "    COUNT(CASE WHEN orderyear = 2015 THEN orderyear END) AS cnt2015,\r\n",
                "    -- COUNT with CASE is used to only count the rows where orderyear equals 2016.\r\n",
                "    COUNT(CASE WHEN orderyear = 2016 THEN orderyear END) AS cnt2016\r\n",
                "FROM (\r\n",
                "    -- The subquery O is calculating the YEAR from orderdate to facilitate the counts in the outer query.\r\n",
                "    SELECT empid, YEAR(orderdate) as orderyear\r\n",
                "    FROM dbo.Orders \r\n",
                ") AS O \r\n",
                "-- Final grouping is done by empid to get the counts per employee.\r\n",
                "GROUP BY empid;\r\n",
                ""
            ],
            "metadata": {
                "azdata_cell_guid": "9cb1bf9d-763d-43bb-b4f3-2832c040c698",
                "language": "sql"
            },
            "outputs": [
                {
                    "output_type": "display_data",
                    "data": {
                        "text/html": "Warning: Null value is eliminated by an aggregate or other SET operation."
                    },
                    "metadata": {}
                },
                {
                    "output_type": "display_data",
                    "data": {
                        "text/html": "(3 rows affected)"
                    },
                    "metadata": {}
                },
                {
                    "output_type": "display_data",
                    "data": {
                        "text/html": "Total execution time: 00:00:00.031"
                    },
                    "metadata": {}
                },
                {
                    "output_type": "execute_result",
                    "execution_count": 33,
                    "data": {
                        "application/vnd.dataresource+json": {
                            "schema": {
                                "fields": [
                                    {
                                        "name": "empid"
                                    },
                                    {
                                        "name": "cnt2014"
                                    },
                                    {
                                        "name": "cnt2015"
                                    },
                                    {
                                        "name": "cnt2016"
                                    }
                                ]
                            },
                            "data": [
                                {
                                    "empid": "1",
                                    "cnt2014": "1",
                                    "cnt2015": "1",
                                    "cnt2016": "1"
                                },
                                {
                                    "empid": "2",
                                    "cnt2014": "1",
                                    "cnt2015": "2",
                                    "cnt2016": "1"
                                },
                                {
                                    "empid": "3",
                                    "cnt2014": "2",
                                    "cnt2015": "0",
                                    "cnt2016": "2"
                                }
                            ]
                        },
                        "text/html": "<table><tr><th>empid</th><th>cnt2014</th><th>cnt2015</th><th>cnt2016</th></tr><tr><td>1</td><td>1</td><td>1</td><td>1</td></tr><tr><td>2</td><td>1</td><td>2</td><td>1</td></tr><tr><td>3</td><td>2</td><td>0</td><td>2</td></tr></table>"
                    },
                    "metadata": {}
                }
            ],
            "execution_count": 33
        },
        {
            "cell_type": "code",
            "source": [
                "-- 5\r\n",
                "-- Run the following code to create and populate the EmpYearOrders table:\r\n",
                "USE Northwinds2022TSQLV7;\r\n",
                "\r\n",
                "DROP TABLE IF EXISTS dbo.EmpYearOrders;\r\n",
                "\r\n",
                "CREATE TABLE dbo.EmpYearOrders\r\n",
                "(\r\n",
                "  empid INT NOT NULL\r\n",
                "    CONSTRAINT PK_EmpYearOrders PRIMARY KEY,\r\n",
                "  cnt2014 INT NULL,\r\n",
                "  cnt2015 INT NULL,\r\n",
                "  cnt2016 INT NULL\r\n",
                ");\r\n",
                "\r\n",
                "INSERT INTO dbo.EmpYearOrders(empid, cnt2014, cnt2015, cnt2016)\r\n",
                "  SELECT empid, [2014] AS cnt2014, [2015] AS cnt2015, [2016] AS cnt2016\r\n",
                "  FROM (SELECT empid, YEAR(orderdate) AS orderyear\r\n",
                "        FROM dbo.Orders) AS D\r\n",
                "    PIVOT(COUNT(orderyear)\r\n",
                "          FOR orderyear IN([2014], [2015], [2016])) AS P;\r\n",
                ""
            ],
            "metadata": {
                "azdata_cell_guid": "a7f856db-71c9-4aa7-854b-947680128634",
                "language": "sql"
            },
            "outputs": [
                {
                    "output_type": "display_data",
                    "data": {
                        "text/html": "(3 rows affected)"
                    },
                    "metadata": {}
                },
                {
                    "output_type": "display_data",
                    "data": {
                        "text/html": "Total execution time: 00:00:00.112"
                    },
                    "metadata": {}
                }
            ],
            "execution_count": 37
        },
        {
            "cell_type": "code",
            "source": [
                "SELECT * FROM dbo.EmpYearOrders;\r\n",
                "\r\n",
                "-- Write a query against the EmpYearOrders table that unpivots\r\n",
                "-- the data, returning a row for each employee and order year\r\n",
                "-- with the number of orders\r\n",
                "-- Exclude rows where the number of orders is 0\r\n",
                "-- (in our example, employee 3 in year 2016)"
            ],
            "metadata": {
                "azdata_cell_guid": "66c79626-6de5-4835-b233-5c96cdbaab35",
                "language": "sql"
            },
            "outputs": [
                {
                    "output_type": "display_data",
                    "data": {
                        "text/html": "(3 rows affected)"
                    },
                    "metadata": {}
                },
                {
                    "output_type": "display_data",
                    "data": {
                        "text/html": "Total execution time: 00:00:00.007"
                    },
                    "metadata": {}
                },
                {
                    "output_type": "execute_result",
                    "execution_count": 42,
                    "data": {
                        "application/vnd.dataresource+json": {
                            "schema": {
                                "fields": [
                                    {
                                        "name": "empid"
                                    },
                                    {
                                        "name": "cnt2014"
                                    },
                                    {
                                        "name": "cnt2015"
                                    },
                                    {
                                        "name": "cnt2016"
                                    }
                                ]
                            },
                            "data": [
                                {
                                    "empid": "1",
                                    "cnt2014": "1",
                                    "cnt2015": "1",
                                    "cnt2016": "1"
                                },
                                {
                                    "empid": "2",
                                    "cnt2014": "1",
                                    "cnt2015": "2",
                                    "cnt2016": "1"
                                },
                                {
                                    "empid": "3",
                                    "cnt2014": "2",
                                    "cnt2015": "0",
                                    "cnt2016": "2"
                                }
                            ]
                        },
                        "text/html": "<table><tr><th>empid</th><th>cnt2014</th><th>cnt2015</th><th>cnt2016</th></tr><tr><td>1</td><td>1</td><td>1</td><td>1</td></tr><tr><td>2</td><td>1</td><td>2</td><td>1</td></tr><tr><td>3</td><td>2</td><td>0</td><td>2</td></tr></table>"
                    },
                    "metadata": {}
                }
            ],
            "execution_count": 42
        },
        {
            "cell_type": "code",
            "source": [
                "USE Northwinds2022TSQLV7;\r\n",
                "\r\n",
                "-- This SELECT statement is used to retrieve the employee ID, the order year, and the number of orders from a predefined table and a CROSS APPLY operation.\r\n",
                "SELECT empid,       -- The ID of the employee who processed the orders.\r\n",
                "       orderyear,   -- The year when the orders were processed.\r\n",
                "       numorders    -- The number of orders processed in that year.\r\n",
                "FROM dbo.EmpYearOrders    -- dbo.EmpYearOrders is presumably a table that contains aggregated data of orders per employee per year.\r\n",
                "\r\n",
                "-- CROSS APPLY is used here to create a derived table with explicit values for each year and corresponding counts.\r\n",
                "CROSS APPLY(\r\n",
                "    VALUES\r\n",
                "    (2014, cnt2014),   -- A row with the year 2014 and the count of orders for 2014.\r\n",
                "    (2015, cnt2015),   -- A row with the year 2015 and the count of orders for 2015.\r\n",
                "    (2016, cnt2016)    -- A row with the year 2016 and the count of orders for 2016.\r\n",
                ") AS A(orderyear, numorders)  -- The derived table is aliased as A with columns orderyear and numorders.\r\n",
                "\r\n",
                "-- Filters the result to exclude rows where the number of orders is zero.\r\n",
                "WHERE numorders <> 0;   -- The WHERE clause is used to filter out any rows where numorders is equal to 0, meaning no orders for that year.\r\n",
                ""
            ],
            "metadata": {
                "language": "sql",
                "azdata_cell_guid": "0c2e582c-a283-4ef5-b83e-cc1ad8db6eb5"
            },
            "outputs": [
                {
                    "output_type": "display_data",
                    "data": {
                        "text/html": "(8 rows affected)"
                    },
                    "metadata": {}
                },
                {
                    "output_type": "display_data",
                    "data": {
                        "text/html": "Total execution time: 00:00:00.008"
                    },
                    "metadata": {}
                },
                {
                    "output_type": "execute_result",
                    "execution_count": 46,
                    "data": {
                        "application/vnd.dataresource+json": {
                            "schema": {
                                "fields": [
                                    {
                                        "name": "empid"
                                    },
                                    {
                                        "name": "orderyear"
                                    },
                                    {
                                        "name": "numorders"
                                    }
                                ]
                            },
                            "data": [
                                {
                                    "empid": "1",
                                    "orderyear": "2014",
                                    "numorders": "1"
                                },
                                {
                                    "empid": "1",
                                    "orderyear": "2015",
                                    "numorders": "1"
                                },
                                {
                                    "empid": "1",
                                    "orderyear": "2016",
                                    "numorders": "1"
                                },
                                {
                                    "empid": "2",
                                    "orderyear": "2014",
                                    "numorders": "1"
                                },
                                {
                                    "empid": "2",
                                    "orderyear": "2015",
                                    "numorders": "2"
                                },
                                {
                                    "empid": "2",
                                    "orderyear": "2016",
                                    "numorders": "1"
                                },
                                {
                                    "empid": "3",
                                    "orderyear": "2014",
                                    "numorders": "2"
                                },
                                {
                                    "empid": "3",
                                    "orderyear": "2016",
                                    "numorders": "2"
                                }
                            ]
                        },
                        "text/html": "<table><tr><th>empid</th><th>orderyear</th><th>numorders</th></tr><tr><td>1</td><td>2014</td><td>1</td></tr><tr><td>1</td><td>2015</td><td>1</td></tr><tr><td>1</td><td>2016</td><td>1</td></tr><tr><td>2</td><td>2014</td><td>1</td></tr><tr><td>2</td><td>2015</td><td>2</td></tr><tr><td>2</td><td>2016</td><td>1</td></tr><tr><td>3</td><td>2014</td><td>2</td></tr><tr><td>3</td><td>2016</td><td>2</td></tr></table>"
                    },
                    "metadata": {}
                }
            ],
            "execution_count": 46
        },
        {
            "cell_type": "markdown",
            "source": [
                "\\-- 6\n",
                "\n",
                "\\-- Write a query against the dbo.Orders table that returns the \n",
                "\n",
                "\\-- total quantities for each:\n",
                "\n",
                "\\-- employee, customer, and order year\n",
                "\n",
                "\\-- employee and order year\n",
                "\n",
                "\\-- customer and order year\n",
                "\n",
                "\\-- Include a result column in the output that uniquely identifies \n",
                "\n",
                "\\-- the grouping set with which the current row is associated\n",
                "\n",
                "\\-- Tables involved: TSQLV4 database, dbo.Orders table"
            ],
            "metadata": {
                "azdata_cell_guid": "63e390dc-4fa5-4c3f-9036-89a8be8e7c5f"
            },
            "attachments": {}
        },
        {
            "cell_type": "code",
            "source": [
                "-- The query is designed to run against the dbo.Orders table and calculate the total quantities for each specified grouping.\r\n",
                "USE Northwinds2022TSQLV7; -- This should be changed to the actual database name if it's not TSQLV4.\r\n",
                "\r\n",
                "SELECT \r\n",
                "    GROUPING_ID(empid, custid, orderyear) AS GroupingSetID, -- This column will uniquely identify the grouping set.\r\n",
                "    empid,                -- Employee ID.\r\n",
                "    custid,               -- Customer ID.\r\n",
                "    orderyear,            -- Year when the order was placed.\r\n",
                "    SUM(qty) AS TotalQty  -- Sum of quantities for the grouping.\r\n",
                "FROM\r\n",
                "    (SELECT \r\n",
                "        empid, \r\n",
                "        custid, \r\n",
                "        YEAR(orderdate) AS orderyear, \r\n",
                "        qty\r\n",
                "     FROM dbo.Orders) AS SubQuery -- A subquery is used to calculate the year from the order date.\r\n",
                "GROUP BY GROUPING SETS\r\n",
                "    (\r\n",
                "        (empid, custid, orderyear), -- Grouping by employee, customer, and order year.\r\n",
                "        (empid, orderyear),         -- Grouping by employee and order year.\r\n",
                "        (custid, orderyear)         -- Grouping by customer and order year.\r\n",
                "    )\r\n",
                "-- This will produce a result set with the total quantities for each combination of the grouping sets defined.\r\n",
                ""
            ],
            "metadata": {
                "language": "sql",
                "azdata_cell_guid": "6c27da93-4c3d-4b99-9d76-e2a0f8cc4e4d",
                "tags": []
            },
            "outputs": [
                {
                    "output_type": "display_data",
                    "data": {
                        "text/html": "(29 rows affected)"
                    },
                    "metadata": {}
                },
                {
                    "output_type": "display_data",
                    "data": {
                        "text/html": "Total execution time: 00:00:00.121"
                    },
                    "metadata": {}
                },
                {
                    "output_type": "execute_result",
                    "metadata": {},
                    "execution_count": 1,
                    "data": {
                        "application/vnd.dataresource+json": {
                            "schema": {
                                "fields": [
                                    {
                                        "name": "GroupingSetID"
                                    },
                                    {
                                        "name": "empid"
                                    },
                                    {
                                        "name": "custid"
                                    },
                                    {
                                        "name": "orderyear"
                                    },
                                    {
                                        "name": "TotalQty"
                                    }
                                ]
                            },
                            "data": [
                                {
                                    "GroupingSetID": "0",
                                    "empid": "2",
                                    "custid": "A",
                                    "orderyear": "2014",
                                    "TotalQty": "12"
                                },
                                {
                                    "GroupingSetID": "0",
                                    "empid": "3",
                                    "custid": "A",
                                    "orderyear": "2014",
                                    "TotalQty": "10"
                                },
                                {
                                    "GroupingSetID": "4",
                                    "empid": "NULL",
                                    "custid": "A",
                                    "orderyear": "2014",
                                    "TotalQty": "22"
                                },
                                {
                                    "GroupingSetID": "0",
                                    "empid": "2",
                                    "custid": "A",
                                    "orderyear": "2015",
                                    "TotalQty": "40"
                                },
                                {
                                    "GroupingSetID": "4",
                                    "empid": "NULL",
                                    "custid": "A",
                                    "orderyear": "2015",
                                    "TotalQty": "40"
                                },
                                {
                                    "GroupingSetID": "0",
                                    "empid": "3",
                                    "custid": "A",
                                    "orderyear": "2016",
                                    "TotalQty": "10"
                                },
                                {
                                    "GroupingSetID": "4",
                                    "empid": "NULL",
                                    "custid": "A",
                                    "orderyear": "2016",
                                    "TotalQty": "10"
                                },
                                {
                                    "GroupingSetID": "0",
                                    "empid": "1",
                                    "custid": "B",
                                    "orderyear": "2014",
                                    "TotalQty": "20"
                                },
                                {
                                    "GroupingSetID": "4",
                                    "empid": "NULL",
                                    "custid": "B",
                                    "orderyear": "2014",
                                    "TotalQty": "20"
                                },
                                {
                                    "GroupingSetID": "0",
                                    "empid": "2",
                                    "custid": "B",
                                    "orderyear": "2015",
                                    "TotalQty": "12"
                                },
                                {
                                    "GroupingSetID": "4",
                                    "empid": "NULL",
                                    "custid": "B",
                                    "orderyear": "2015",
                                    "TotalQty": "12"
                                },
                                {
                                    "GroupingSetID": "0",
                                    "empid": "2",
                                    "custid": "B",
                                    "orderyear": "2016",
                                    "TotalQty": "15"
                                },
                                {
                                    "GroupingSetID": "4",
                                    "empid": "NULL",
                                    "custid": "B",
                                    "orderyear": "2016",
                                    "TotalQty": "15"
                                },
                                {
                                    "GroupingSetID": "0",
                                    "empid": "3",
                                    "custid": "C",
                                    "orderyear": "2014",
                                    "TotalQty": "22"
                                },
                                {
                                    "GroupingSetID": "4",
                                    "empid": "NULL",
                                    "custid": "C",
                                    "orderyear": "2014",
                                    "TotalQty": "22"
                                },
                                {
                                    "GroupingSetID": "0",
                                    "empid": "1",
                                    "custid": "C",
                                    "orderyear": "2015",
                                    "TotalQty": "14"
                                },
                                {
                                    "GroupingSetID": "4",
                                    "empid": "NULL",
                                    "custid": "C",
                                    "orderyear": "2015",
                                    "TotalQty": "14"
                                },
                                {
                                    "GroupingSetID": "0",
                                    "empid": "1",
                                    "custid": "C",
                                    "orderyear": "2016",
                                    "TotalQty": "20"
                                },
                                {
                                    "GroupingSetID": "4",
                                    "empid": "NULL",
                                    "custid": "C",
                                    "orderyear": "2016",
                                    "TotalQty": "20"
                                },
                                {
                                    "GroupingSetID": "0",
                                    "empid": "3",
                                    "custid": "D",
                                    "orderyear": "2016",
                                    "TotalQty": "30"
                                },
                                {
                                    "GroupingSetID": "4",
                                    "empid": "NULL",
                                    "custid": "D",
                                    "orderyear": "2016",
                                    "TotalQty": "30"
                                },
                                {
                                    "GroupingSetID": "2",
                                    "empid": "1",
                                    "custid": "NULL",
                                    "orderyear": "2014",
                                    "TotalQty": "20"
                                },
                                {
                                    "GroupingSetID": "2",
                                    "empid": "2",
                                    "custid": "NULL",
                                    "orderyear": "2014",
                                    "TotalQty": "12"
                                },
                                {
                                    "GroupingSetID": "2",
                                    "empid": "3",
                                    "custid": "NULL",
                                    "orderyear": "2014",
                                    "TotalQty": "32"
                                },
                                {
                                    "GroupingSetID": "2",
                                    "empid": "1",
                                    "custid": "NULL",
                                    "orderyear": "2015",
                                    "TotalQty": "14"
                                },
                                {
                                    "GroupingSetID": "2",
                                    "empid": "2",
                                    "custid": "NULL",
                                    "orderyear": "2015",
                                    "TotalQty": "52"
                                },
                                {
                                    "GroupingSetID": "2",
                                    "empid": "1",
                                    "custid": "NULL",
                                    "orderyear": "2016",
                                    "TotalQty": "20"
                                },
                                {
                                    "GroupingSetID": "2",
                                    "empid": "2",
                                    "custid": "NULL",
                                    "orderyear": "2016",
                                    "TotalQty": "15"
                                },
                                {
                                    "GroupingSetID": "2",
                                    "empid": "3",
                                    "custid": "NULL",
                                    "orderyear": "2016",
                                    "TotalQty": "40"
                                }
                            ]
                        },
                        "text/html": [
                            "<table>",
                            "<tr><th>GroupingSetID</th><th>empid</th><th>custid</th><th>orderyear</th><th>TotalQty</th></tr>",
                            "<tr><td>0</td><td>2</td><td>A</td><td>2014</td><td>12</td></tr>",
                            "<tr><td>0</td><td>3</td><td>A</td><td>2014</td><td>10</td></tr>",
                            "<tr><td>4</td><td>NULL</td><td>A</td><td>2014</td><td>22</td></tr>",
                            "<tr><td>0</td><td>2</td><td>A</td><td>2015</td><td>40</td></tr>",
                            "<tr><td>4</td><td>NULL</td><td>A</td><td>2015</td><td>40</td></tr>",
                            "<tr><td>0</td><td>3</td><td>A</td><td>2016</td><td>10</td></tr>",
                            "<tr><td>4</td><td>NULL</td><td>A</td><td>2016</td><td>10</td></tr>",
                            "<tr><td>0</td><td>1</td><td>B</td><td>2014</td><td>20</td></tr>",
                            "<tr><td>4</td><td>NULL</td><td>B</td><td>2014</td><td>20</td></tr>",
                            "<tr><td>0</td><td>2</td><td>B</td><td>2015</td><td>12</td></tr>",
                            "<tr><td>4</td><td>NULL</td><td>B</td><td>2015</td><td>12</td></tr>",
                            "<tr><td>0</td><td>2</td><td>B</td><td>2016</td><td>15</td></tr>",
                            "<tr><td>4</td><td>NULL</td><td>B</td><td>2016</td><td>15</td></tr>",
                            "<tr><td>0</td><td>3</td><td>C</td><td>2014</td><td>22</td></tr>",
                            "<tr><td>4</td><td>NULL</td><td>C</td><td>2014</td><td>22</td></tr>",
                            "<tr><td>0</td><td>1</td><td>C</td><td>2015</td><td>14</td></tr>",
                            "<tr><td>4</td><td>NULL</td><td>C</td><td>2015</td><td>14</td></tr>",
                            "<tr><td>0</td><td>1</td><td>C</td><td>2016</td><td>20</td></tr>",
                            "<tr><td>4</td><td>NULL</td><td>C</td><td>2016</td><td>20</td></tr>",
                            "<tr><td>0</td><td>3</td><td>D</td><td>2016</td><td>30</td></tr>",
                            "<tr><td>4</td><td>NULL</td><td>D</td><td>2016</td><td>30</td></tr>",
                            "<tr><td>2</td><td>1</td><td>NULL</td><td>2014</td><td>20</td></tr>",
                            "<tr><td>2</td><td>2</td><td>NULL</td><td>2014</td><td>12</td></tr>",
                            "<tr><td>2</td><td>3</td><td>NULL</td><td>2014</td><td>32</td></tr>",
                            "<tr><td>2</td><td>1</td><td>NULL</td><td>2015</td><td>14</td></tr>",
                            "<tr><td>2</td><td>2</td><td>NULL</td><td>2015</td><td>52</td></tr>",
                            "<tr><td>2</td><td>1</td><td>NULL</td><td>2016</td><td>20</td></tr>",
                            "<tr><td>2</td><td>2</td><td>NULL</td><td>2016</td><td>15</td></tr>",
                            "<tr><td>2</td><td>3</td><td>NULL</td><td>2016</td><td>40</td></tr>",
                            "</table>"
                        ]
                    }
                }
            ],
            "execution_count": 1
        }
    ]
}