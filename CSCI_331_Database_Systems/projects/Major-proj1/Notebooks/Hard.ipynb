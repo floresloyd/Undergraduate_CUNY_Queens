{
    "metadata": {
        "kernelspec": {
            "name": "SQL",
            "display_name": "SQL",
            "language": "sql"
        },
        "language_info": {
            "name": "sql",
            "version": ""
        }
    },
    "nbformat_minor": 2,
    "nbformat": 4,
    "cells": [
        {
            "cell_type": "markdown",
            "source": [
                "Complex query should have from 3 or more tables joined, a custom scalar function, and use built-in SQL functions and group by summarization. It should include combinations of subqueries or CTE or virtual tables.\n",
                "\n",
                "  \n",
                "\n",
                "7 Complex Queries"
            ],
            "metadata": {
                "azdata_cell_guid": "35113127-3298-474f-b446-7abda5147fbf"
            },
            "attachments": {}
        },
        {
            "cell_type": "markdown",
            "source": [
                " **Complex Prompt 1 :** \n",
                "\n",
                "The HR department wants to review the compensation structure for the employees over the past year. They aim to understand how monthly salaries have been determined and to gain insights into the average monthly salaries across different departments and shifts. Additionally, they wish to view the average monthly vacation and sick leave usage per department and shift.\n",
                "\n",
                "**Database :** AdventureWorks2017\n",
                "\n",
                "**Tables Involved :** <span style=\"color: rgb(33, 33, 33); font-family: Consolas, &quot;Courier New&quot;, monospace; font-size: 12px; white-space: pre;\">HumanResources.Shift,</span>\n",
                "\n",
                "HumanResources.Employee, HumanResources.EmployeeDepartmentHistory,\n",
                "\n",
                "HumanResources.Department, HumanResources.EmployeePayHistory\n",
                "\n",
                "**CTE :** MonthlyRateChangeCTE\n",
                "\n",
                "**FUNCTION :** MonthlySalary : Computes Monthly salary based on provided rate and pay frequency"
            ],
            "metadata": {
                "language": "sql",
                "azdata_cell_guid": "5ec4c7b6-ae95-48ca-b337-637b0089b822"
            },
            "attachments": {}
        },
        {
            "cell_type": "code",
            "source": [
                "-- Check if the function `dbo.fn_MonthlySalary` exists in the database.\r\n",
                "-- If it does, then we will proceed to drop it.\r\n",
                "IF EXISTS (SELECT 1 FROM sys.objects WHERE object_id = OBJECT_ID(N'dbo.fn_MonthlySalary') AND type = 'FN')\r\n",
                "DROP FUNCTION dbo.fn_MonthlySalary;\r\n",
                "GO\r\n",
                "\r\n",
                "-- Define and create a new function `dbo.fn_MonthlySalary`\r\n",
                "-- This function computes the monthly salary based on provided rate and pay frequency.\r\n",
                "    -- Using a CASE statement, determine the monthly salary.\r\n",
                "    -- If PayFrequency is 1, it's assumed to be Monthly, hence salary is same as rate.\r\n",
                "    -- If PayFrequency is 2, it's assumed to be Bi-Weekly, hence salary is twice the rate.\r\n",
                "    -- For any other value, the monthly salary is assumed to be the rate itself.\r\n",
                "CREATE FUNCTION fn_MonthlySalary (@Rate decimal(10,2), @PayFrequency int)\r\n",
                "RETURNS decimal(10,2) \r\n",
                "AS \r\n",
                "BEGIN \r\n",
                "    DECLARE @MonthlySalary decimal(10,2)\r\n",
                "    \r\n",
                "    SET @MonthlySalary = CASE \r\n",
                "                             WHEN @PayFrequency = 1 THEN @Rate\r\n",
                "                             WHEN @PayFrequency = 2 THEN @Rate * 2\r\n",
                "                             ELSE @Rate\r\n",
                "                         END\r\n",
                "    RETURN @MonthlySalary\r\n",
                "END;\r\n",
                "GO\r\n",
                "\r\n",
                "-- Switch to the `AdventureWorks2017` database for subsequent operations.\r\n",
                "USE AdventureWorks2017;\r\n",
                "GO\r\n",
                "\r\n",
                "-- Using a CTE named `MonthlyRateChangeCTE`, compute the average rate change for employees over the past year.\r\n",
                "WITH MonthlyRateChangeCTE AS\r\n",
                "(\r\n",
                "    SELECT\r\n",
                "        eph.BusinessEntityID,\r\n",
                "        AVG(eph.Rate) AS AverageMonthlyRateChange\r\n",
                "    FROM HumanResources.EmployeePayHistory eph\r\n",
                "    WHERE eph.RateChangeDate > DATEADD(YEAR, -1, GETDATE())\r\n",
                "    GROUP BY eph.BusinessEntityID\r\n",
                ")\r\n",
                "\r\n",
                "-- The main query\r\n",
                "\r\n",
                "-- - Department and Shift Names\r\n",
                "-- - Average Monthly Salary\r\n",
                "-- - Average Monthly Vacation and Sick Hours\r\n",
                "SELECT \r\n",
                "    d.Name AS DepartmentName,\r\n",
                "    s.Name AS ShiftName,\r\n",
                "    AVG(dbo.fn_MonthlySalary(eph.Rate, eph.PayFrequency)) AS AverageMonthlySalary,\r\n",
                "    AVG(e.VacationHours/12.0) AS AverageMonthlyVacationHours,\r\n",
                "    AVG(e.SickLeaveHours/12.0) AS AverageMonthlySickHours\r\n",
                "FROM HumanResources.Employee e\r\n",
                "JOIN HumanResources.EmployeeDepartmentHistory edh ON e.BusinessEntityID = edh.BusinessEntityID\r\n",
                "JOIN HumanResources.Department d ON edh.DepartmentID = d.DepartmentID\r\n",
                "JOIN HumanResources.EmployeePayHistory eph ON e.BusinessEntityID = eph.BusinessEntityID\r\n",
                "JOIN HumanResources.Shift s ON edh.ShiftID = s.ShiftID\r\n",
                "LEFT JOIN MonthlyRateChangeCTE mrc ON e.BusinessEntityID = mrc.BusinessEntityID\r\n",
                "GROUP BY d.Name, s.Name;\r\n",
                ""
            ],
            "metadata": {
                "language": "sql",
                "azdata_cell_guid": "dc02a93e-02c7-4170-a210-2e0ffc7c88ca",
                "tags": []
            },
            "outputs": [
                {
                    "output_type": "display_data",
                    "data": {
                        "text/html": "Commands completed successfully."
                    },
                    "metadata": {}
                },
                {
                    "output_type": "display_data",
                    "data": {
                        "text/html": "Commands completed successfully."
                    },
                    "metadata": {}
                },
                {
                    "output_type": "display_data",
                    "data": {
                        "text/html": "Commands completed successfully."
                    },
                    "metadata": {}
                },
                {
                    "output_type": "display_data",
                    "data": {
                        "text/html": "(29 rows affected)"
                    },
                    "metadata": {}
                },
                {
                    "output_type": "display_data",
                    "data": {
                        "text/html": "Total execution time: 00:00:00.177"
                    },
                    "metadata": {}
                },
                {
                    "output_type": "execute_result",
                    "metadata": {},
                    "execution_count": 5,
                    "data": {
                        "application/vnd.dataresource+json": {
                            "schema": {
                                "fields": [
                                    {
                                        "name": "DepartmentName"
                                    },
                                    {
                                        "name": "ShiftName"
                                    },
                                    {
                                        "name": "AverageMonthlySalary"
                                    },
                                    {
                                        "name": "AverageMonthlyVacationHours"
                                    },
                                    {
                                        "name": "AverageMonthlySickHours"
                                    }
                                ]
                            },
                            "data": [
                                {
                                    "DepartmentName": "Document Control",
                                    "ShiftName": "Day",
                                    "AverageMonthlySalary": "25.526666",
                                    "AverageMonthlyVacationHours": "6.499999",
                                    "AverageMonthlySickHours": "4.888888"
                                },
                                {
                                    "DepartmentName": "Engineering",
                                    "ShiftName": "Day",
                                    "AverageMonthlySalary": "67.344444",
                                    "AverageMonthlyVacationHours": "1.527777",
                                    "AverageMonthlySickHours": "3.416666"
                                },
                                {
                                    "DepartmentName": "Executive",
                                    "ShiftName": "Day",
                                    "AverageMonthlySalary": "136.610000",
                                    "AverageMonthlyVacationHours": "2.062500",
                                    "AverageMonthlySickHours": "2.687499"
                                },
                                {
                                    "DepartmentName": "Facilities and Maintenance",
                                    "ShiftName": "Day",
                                    "AverageMonthlySalary": "36.146666",
                                    "AverageMonthlyVacationHours": "7.361110",
                                    "AverageMonthlySickHours": "5.333333"
                                },
                                {
                                    "DepartmentName": "Finance",
                                    "ShiftName": "Day",
                                    "AverageMonthlySalary": "59.549230",
                                    "AverageMonthlyVacationHours": "3.814102",
                                    "AverageMonthlySickHours": "3.557691"
                                },
                                {
                                    "DepartmentName": "Human Resources",
                                    "ShiftName": "Day",
                                    "AverageMonthlySalary": "36.050000",
                                    "AverageMonthlyVacationHours": "4.291666",
                                    "AverageMonthlySickHours": "3.791666"
                                },
                                {
                                    "DepartmentName": "Information Services",
                                    "ShiftName": "Day",
                                    "AverageMonthlySalary": "68.691111",
                                    "AverageMonthlyVacationHours": "5.787036",
                                    "AverageMonthlySickHours": "4.537036"
                                },
                                {
                                    "DepartmentName": "Marketing",
                                    "ShiftName": "Day",
                                    "AverageMonthlySalary": "37.870000",
                                    "AverageMonthlyVacationHours": "3.708333",
                                    "AverageMonthlySickHours": "3.499999"
                                },
                                {
                                    "DepartmentName": "Production",
                                    "ShiftName": "Day",
                                    "AverageMonthlySalary": "16.056632",
                                    "AverageMonthlyVacationHours": "3.787414",
                                    "AverageMonthlySickHours": "3.539115"
                                },
                                {
                                    "DepartmentName": "Production Control",
                                    "ShiftName": "Day",
                                    "AverageMonthlySalary": "34.066666",
                                    "AverageMonthlyVacationHours": "3.722222",
                                    "AverageMonthlySickHours": "3.499999"
                                },
                                {
                                    "DepartmentName": "Purchasing",
                                    "ShiftName": "Day",
                                    "AverageMonthlySalary": "40.298823",
                                    "AverageMonthlyVacationHours": "4.274509",
                                    "AverageMonthlySickHours": "3.784313"
                                },
                                {
                                    "DepartmentName": "Quality Assurance",
                                    "ShiftName": "Day",
                                    "AverageMonthlySalary": "38.285714",
                                    "AverageMonthlyVacationHours": "5.630952",
                                    "AverageMonthlySickHours": "4.452380"
                                },
                                {
                                    "DepartmentName": "Research and Development",
                                    "ShiftName": "Day",
                                    "AverageMonthlySalary": "87.350000",
                                    "AverageMonthlyVacationHours": "4.208333",
                                    "AverageMonthlySickHours": "4.499999"
                                },
                                {
                                    "DepartmentName": "Sales",
                                    "ShiftName": "Day",
                                    "AverageMonthlySalary": "59.948888",
                                    "AverageMonthlyVacationHours": "2.310184",
                                    "AverageMonthlySickHours": "2.800925"
                                },
                                {
                                    "DepartmentName": "Shipping and Receiving",
                                    "ShiftName": "Day",
                                    "AverageMonthlySalary": "22.153333",
                                    "AverageMonthlyVacationHours": "7.861111",
                                    "AverageMonthlySickHours": "5.583333"
                                },
                                {
                                    "DepartmentName": "Tool Design",
                                    "ShiftName": "Day",
                                    "AverageMonthlySalary": "47.013333",
                                    "AverageMonthlyVacationHours": "2.333333",
                                    "AverageMonthlySickHours": "4.319444"
                                },
                                {
                                    "DepartmentName": "Document Control",
                                    "ShiftName": "Evening",
                                    "AverageMonthlySalary": "33.660000",
                                    "AverageMonthlyVacationHours": "6.250000",
                                    "AverageMonthlySickHours": "4.750000"
                                },
                                {
                                    "DepartmentName": "Facilities and Maintenance",
                                    "ShiftName": "Evening",
                                    "AverageMonthlySalary": "9.250000",
                                    "AverageMonthlyVacationHours": "7.374999",
                                    "AverageMonthlySickHours": "5.333333"
                                },
                                {
                                    "DepartmentName": "Information Services",
                                    "ShiftName": "Evening",
                                    "AverageMonthlySalary": "64.900000",
                                    "AverageMonthlyVacationHours": "5.833333",
                                    "AverageMonthlySickHours": "4.583333"
                                },
                                {
                                    "DepartmentName": "Production",
                                    "ShiftName": "Evening",
                                    "AverageMonthlySalary": "17.219444",
                                    "AverageMonthlyVacationHours": "3.737654",
                                    "AverageMonthlySickHours": "3.515431"
                                },
                                {
                                    "DepartmentName": "Production Control",
                                    "ShiftName": "Evening",
                                    "AverageMonthlySalary": "32.000000",
                                    "AverageMonthlyVacationHours": "3.916666",
                                    "AverageMonthlySickHours": "3.583333"
                                },
                                {
                                    "DepartmentName": "Quality Assurance",
                                    "ShiftName": "Evening",
                                    "AverageMonthlySalary": "21.160000",
                                    "AverageMonthlyVacationHours": "7.000000",
                                    "AverageMonthlySickHours": "5.166666"
                                },
                                {
                                    "DepartmentName": "Shipping and Receiving",
                                    "ShiftName": "Evening",
                                    "AverageMonthlySalary": "14.000000",
                                    "AverageMonthlyVacationHours": "7.999999",
                                    "AverageMonthlySickHours": "5.624999"
                                },
                                {
                                    "DepartmentName": "Document Control",
                                    "ShiftName": "Night",
                                    "AverageMonthlySalary": "33.660000",
                                    "AverageMonthlyVacationHours": "6.333333",
                                    "AverageMonthlySickHours": "4.833333"
                                },
                                {
                                    "DepartmentName": "Facilities and Maintenance",
                                    "ShiftName": "Night",
                                    "AverageMonthlySalary": "9.250000",
                                    "AverageMonthlyVacationHours": "7.541666",
                                    "AverageMonthlySickHours": "5.416666"
                                },
                                {
                                    "DepartmentName": "Production",
                                    "ShiftName": "Night",
                                    "AverageMonthlySalary": "17.933695",
                                    "AverageMonthlyVacationHours": "4.445651",
                                    "AverageMonthlySickHours": "3.867753"
                                },
                                {
                                    "DepartmentName": "Production Control",
                                    "ShiftName": "Night",
                                    "AverageMonthlySalary": "32.000000",
                                    "AverageMonthlyVacationHours": "4.000000",
                                    "AverageMonthlySickHours": "3.666666"
                                },
                                {
                                    "DepartmentName": "Quality Assurance",
                                    "ShiftName": "Night",
                                    "AverageMonthlySalary": "21.160000",
                                    "AverageMonthlyVacationHours": "7.083333",
                                    "AverageMonthlySickHours": "5.166666"
                                },
                                {
                                    "DepartmentName": "Shipping and Receiving",
                                    "ShiftName": "Night",
                                    "AverageMonthlySalary": "9.000000",
                                    "AverageMonthlyVacationHours": "8.166666",
                                    "AverageMonthlySickHours": "5.750000"
                                }
                            ]
                        },
                        "text/html": [
                            "<table>",
                            "<tr><th>DepartmentName</th><th>ShiftName</th><th>AverageMonthlySalary</th><th>AverageMonthlyVacationHours</th><th>AverageMonthlySickHours</th></tr>",
                            "<tr><td>Document Control</td><td>Day</td><td>25.526666</td><td>6.499999</td><td>4.888888</td></tr>",
                            "<tr><td>Engineering</td><td>Day</td><td>67.344444</td><td>1.527777</td><td>3.416666</td></tr>",
                            "<tr><td>Executive</td><td>Day</td><td>136.610000</td><td>2.062500</td><td>2.687499</td></tr>",
                            "<tr><td>Facilities and Maintenance</td><td>Day</td><td>36.146666</td><td>7.361110</td><td>5.333333</td></tr>",
                            "<tr><td>Finance</td><td>Day</td><td>59.549230</td><td>3.814102</td><td>3.557691</td></tr>",
                            "<tr><td>Human Resources</td><td>Day</td><td>36.050000</td><td>4.291666</td><td>3.791666</td></tr>",
                            "<tr><td>Information Services</td><td>Day</td><td>68.691111</td><td>5.787036</td><td>4.537036</td></tr>",
                            "<tr><td>Marketing</td><td>Day</td><td>37.870000</td><td>3.708333</td><td>3.499999</td></tr>",
                            "<tr><td>Production</td><td>Day</td><td>16.056632</td><td>3.787414</td><td>3.539115</td></tr>",
                            "<tr><td>Production Control</td><td>Day</td><td>34.066666</td><td>3.722222</td><td>3.499999</td></tr>",
                            "<tr><td>Purchasing</td><td>Day</td><td>40.298823</td><td>4.274509</td><td>3.784313</td></tr>",
                            "<tr><td>Quality Assurance</td><td>Day</td><td>38.285714</td><td>5.630952</td><td>4.452380</td></tr>",
                            "<tr><td>Research and Development</td><td>Day</td><td>87.350000</td><td>4.208333</td><td>4.499999</td></tr>",
                            "<tr><td>Sales</td><td>Day</td><td>59.948888</td><td>2.310184</td><td>2.800925</td></tr>",
                            "<tr><td>Shipping and Receiving</td><td>Day</td><td>22.153333</td><td>7.861111</td><td>5.583333</td></tr>",
                            "<tr><td>Tool Design</td><td>Day</td><td>47.013333</td><td>2.333333</td><td>4.319444</td></tr>",
                            "<tr><td>Document Control</td><td>Evening</td><td>33.660000</td><td>6.250000</td><td>4.750000</td></tr>",
                            "<tr><td>Facilities and Maintenance</td><td>Evening</td><td>9.250000</td><td>7.374999</td><td>5.333333</td></tr>",
                            "<tr><td>Information Services</td><td>Evening</td><td>64.900000</td><td>5.833333</td><td>4.583333</td></tr>",
                            "<tr><td>Production</td><td>Evening</td><td>17.219444</td><td>3.737654</td><td>3.515431</td></tr>",
                            "<tr><td>Production Control</td><td>Evening</td><td>32.000000</td><td>3.916666</td><td>3.583333</td></tr>",
                            "<tr><td>Quality Assurance</td><td>Evening</td><td>21.160000</td><td>7.000000</td><td>5.166666</td></tr>",
                            "<tr><td>Shipping and Receiving</td><td>Evening</td><td>14.000000</td><td>7.999999</td><td>5.624999</td></tr>",
                            "<tr><td>Document Control</td><td>Night</td><td>33.660000</td><td>6.333333</td><td>4.833333</td></tr>",
                            "<tr><td>Facilities and Maintenance</td><td>Night</td><td>9.250000</td><td>7.541666</td><td>5.416666</td></tr>",
                            "<tr><td>Production</td><td>Night</td><td>17.933695</td><td>4.445651</td><td>3.867753</td></tr>",
                            "<tr><td>Production Control</td><td>Night</td><td>32.000000</td><td>4.000000</td><td>3.666666</td></tr>",
                            "<tr><td>Quality Assurance</td><td>Night</td><td>21.160000</td><td>7.083333</td><td>5.166666</td></tr>",
                            "<tr><td>Shipping and Receiving</td><td>Night</td><td>9.000000</td><td>8.166666</td><td>5.750000</td></tr>",
                            "</table>"
                        ]
                    }
                }
            ],
            "execution_count": 5
        },
        {
            "cell_type": "markdown",
            "source": [
                " **Complex Prompt 2 :** \n",
                "\n",
                "You are an analyst at PrestigeCars, a renowned car dealership with a significant sales volume. PrestigeCars has detailed records of its sales across several years. As the business grew, the sales records were maintained in separate tables for each year in the DataTransfer schema.\n",
                "\n",
                "The executive team at PrestigeCars is interested in a consolidated view of sales across these years. They wish to understand:\n",
                "\n",
                "The maximum sale price for each car model sold to a customer from a specific country.\n",
                "\n",
                "The average profit earned from each model, given the various costs associated with getting the car ready for sale.\n",
                "\n",
                "For strategic reasons, the team is particularly interested in models where the average profit is greater than $5000\n",
                "\n",
                "**Database :** PrestigeCars\n",
                "\n",
                "**Tables Involved** :  \n",
                "DataTransfer.Sales2015, DataTransfer.Sales2016,\n",
                "\n",
                "DataTransfer.Sales2017, DataTransfer.Sales2018,\n",
                "\n",
                "ConsolidatedSales , Data.Customer \n",
                "\n",
                "**CTE :** <span style=\"color: rgb(33, 33, 33); font-family: Consolas, &quot;Courier New&quot;, monospace; font-size: 12px; white-space: pre;\">ConsolidatedSales</span>\n",
                "\n",
                "**FUNCTION :** <span style=\"color: rgb(33, 33, 33); font-family: Consolas, &quot;Courier New&quot;, monospace; font-size: 12px; white-space: pre;\">fnCalculateProfit</span>: Computes Monthly salary based on provided rate and pay frequency"
            ],
            "metadata": {
                "azdata_cell_guid": "709c4741-ecf4-4387-81ff-18fb19d562c8"
            },
            "attachments": {}
        },
        {
            "cell_type": "code",
            "source": [
                "-- Create a function `dbo.fnCalculateProfit` to compute profit.\r\n",
                "-- It takes the sale price and total cost as input parameters.\r\n",
                "\r\n",
                "-- Check if the function exists and if so, drop it.\r\n",
                "IF EXISTS (SELECT 1 FROM sys.objects WHERE object_id = OBJECT_ID(N'dbo.fnCalculateProfit') AND type = 'FN')\r\n",
                "DROP FUNCTION dbo.fnCalculateProfit;\r\n",
                "GO\r\n",
                "\r\n",
                "-- Define the function to calculate profit as the difference between sale price and total cost.\r\n",
                "CREATE FUNCTION dbo.fnCalculateProfit(@SalePrice DECIMAL, @TotalCost DECIMAL)\r\n",
                "RETURNS DECIMAL\r\n",
                "AS\r\n",
                "BEGIN\r\n",
                "    RETURN (@SalePrice - @TotalCost)\r\n",
                "END;\r\n",
                "GO\r\n",
                "\r\n",
                "-- Set the context to the `PrestigeCars` database.\r\n",
                "USE PrestigeCars;\r\n",
                "\r\n",
                "-- Using a CTE named `ConsolidatedSales`, consolidate sales data from different years.\r\n",
                "-- For each year, compute the total cost associated with each car sale by summing up various cost components.\r\n",
                "WITH ConsolidatedSales AS (\r\n",
                "    SELECT \r\n",
                "        MakeName, ModelName, CustomerName, CountryName, \r\n",
                "        Cost + RepairsCost + PartsCost + TransportInCost AS TotalCost, \r\n",
                "        SalePrice, SaleDate \r\n",
                "    FROM DataTransfer.Sales2015\r\n",
                "    UNION ALL\r\n",
                "    SELECT \r\n",
                "        MakeName, ModelName, CustomerName, CountryName, \r\n",
                "        Cost + RepairsCost + PartsCost + TransportInCost AS TotalCost, \r\n",
                "        SalePrice, SaleDate \r\n",
                "    FROM DataTransfer.Sales2016\r\n",
                "    UNION ALL\r\n",
                "    SELECT \r\n",
                "        MakeName, ModelName, CustomerName, CountryName, \r\n",
                "        Cost + RepairsCost + PartsCost + TransportInCost AS TotalCost, \r\n",
                "        SalePrice, SaleDate \r\n",
                "    FROM DataTransfer.Sales2017\r\n",
                "    UNION ALL\r\n",
                "    SELECT \r\n",
                "        MakeName, ModelName, CustomerName, CountryName, \r\n",
                "        Cost + RepairsCost + PartsCost + TransportInCost AS TotalCost, \r\n",
                "        SalePrice, SaleDate \r\n",
                "    FROM DataTransfer.Sales2018\r\n",
                ")\r\n",
                "\r\n",
                "-- The main query retrieves the desired details using the above CTE.\r\n",
                "-- Join the consolidated sales with the `Data.Customer` table.\r\n",
                "-- Group the results by country, customer, car make, and model.\r\n",
                "-- Filter out results where average profit is less than or equal to $5000.\r\n",
                "-- Order the results by average profit in descending order.\r\n",
                "SELECT \r\n",
                "    CS.CountryName,\r\n",
                "    CS.CustomerName,\r\n",
                "    CS.MakeName,\r\n",
                "    CS.ModelName,\r\n",
                "    MAX(CS.SalePrice) AS MaxSalePrice,\r\n",
                "    AVG(dbo.fnCalculateProfit(CS.SalePrice, CS.TotalCost)) AS AvgProfit\r\n",
                "FROM \r\n",
                "    ConsolidatedSales CS\r\n",
                "JOIN\r\n",
                "    Data.Customer C\r\n",
                "    ON CS.CustomerName = C.CustomerName\r\n",
                "GROUP BY \r\n",
                "    CS.CountryName, \r\n",
                "    CS.CustomerName, \r\n",
                "    CS.MakeName, \r\n",
                "    CS.ModelName\r\n",
                "HAVING \r\n",
                "    AVG(dbo.fnCalculateProfit(CS.SalePrice, CS.TotalCost)) > 5000 -- Filter: Only cars with average profit more than 5000\r\n",
                "ORDER BY \r\n",
                "    AvgProfit DESC;\r\n",
                ""
            ],
            "metadata": {
                "azdata_cell_guid": "09d0b039-746f-4a8d-89f3-0d2787e72ca3",
                "language": "sql"
            },
            "outputs": [
                {
                    "output_type": "display_data",
                    "data": {
                        "text/html": "Commands completed successfully."
                    },
                    "metadata": {}
                },
                {
                    "output_type": "display_data",
                    "data": {
                        "text/html": "Commands completed successfully."
                    },
                    "metadata": {}
                },
                {
                    "output_type": "display_data",
                    "data": {
                        "text/html": "(171 rows affected)"
                    },
                    "metadata": {}
                },
                {
                    "output_type": "display_data",
                    "data": {
                        "text/html": "Total execution time: 00:00:00.126"
                    },
                    "metadata": {}
                },
                {
                    "output_type": "execute_result",
                    "metadata": {},
                    "execution_count": 4,
                    "data": {
                        "application/vnd.dataresource+json": {
                            "schema": {
                                "fields": [
                                    {
                                        "name": "CountryName"
                                    },
                                    {
                                        "name": "CustomerName"
                                    },
                                    {
                                        "name": "MakeName"
                                    },
                                    {
                                        "name": "ModelName"
                                    },
                                    {
                                        "name": "MaxSalePrice"
                                    },
                                    {
                                        "name": "AvgProfit"
                                    }
                                ]
                            },
                            "data": [
                                {
                                    "CountryName": "France",
                                    "CustomerName": "Vive La Vitesse",
                                    "MakeName": "Ferrari",
                                    "ModelName": "Enzo",
                                    "MaxSalePrice": "365000.00",
                                    "AvgProfit": "66350.000000"
                                },
                                {
                                    "CountryName": "France",
                                    "CustomerName": "Laurent Saint Yves",
                                    "MakeName": "Ferrari",
                                    "ModelName": "Enzo",
                                    "MaxSalePrice": "395000.00",
                                    "AvgProfit": "65600.000000"
                                },
                                {
                                    "CountryName": "United Kingdom",
                                    "CustomerName": "Birmingham Executive Prestige Vehicles",
                                    "MakeName": "Bugatti",
                                    "ModelName": "57C",
                                    "MaxSalePrice": "335000.00",
                                    "AvgProfit": "60850.000000"
                                },
                                {
                                    "CountryName": "France",
                                    "CustomerName": "Bling Bling S.A.",
                                    "MakeName": "Bugatti",
                                    "ModelName": "57C",
                                    "MaxSalePrice": "345000.00",
                                    "AvgProfit": "60800.000000"
                                },
                                {
                                    "CountryName": "United Kingdom",
                                    "CustomerName": "Andrea Tarbuck",
                                    "MakeName": "Bugatti",
                                    "ModelName": "57C",
                                    "MaxSalePrice": "355000.00",
                                    "AvgProfit": "57600.000000"
                                },
                                {
                                    "CountryName": "France",
                                    "CustomerName": "La Bagnole de Luxe",
                                    "MakeName": "Bugatti",
                                    "ModelName": "57C",
                                    "MaxSalePrice": "355000.00",
                                    "AvgProfit": "52300.000000"
                                },
                                {
                                    "CountryName": "Germany",
                                    "CustomerName": "Glitz",
                                    "MakeName": "Lamborghini",
                                    "ModelName": "Jarama",
                                    "MaxSalePrice": "305000.00",
                                    "AvgProfit": "51950.000000"
                                },
                                {
                                    "CountryName": "United Kingdom",
                                    "CustomerName": "Honest Pete Motors",
                                    "MakeName": "Bugatti",
                                    "ModelName": "57C",
                                    "MaxSalePrice": "295000.00",
                                    "AvgProfit": "50800.000000"
                                },
                                {
                                    "CountryName": "United Kingdom",
                                    "CustomerName": "Kieran O'Harris",
                                    "MakeName": "Lamborghini",
                                    "ModelName": "Diabolo",
                                    "MaxSalePrice": "255000.00",
                                    "AvgProfit": "46300.000000"
                                },
                                {
                                    "CountryName": "Spain",
                                    "CustomerName": "Alicia Almodovar",
                                    "MakeName": "Ferrari",
                                    "ModelName": "Testarossa",
                                    "MaxSalePrice": "250000.00",
                                    "AvgProfit": "45350.000000"
                                },
                                {
                                    "CountryName": "France",
                                    "CustomerName": "Laurent Saint Yves",
                                    "MakeName": "Ferrari",
                                    "ModelName": "F40",
                                    "MaxSalePrice": "269500.00",
                                    "AvgProfit": "44950.000000"
                                },
                                {
                                    "CountryName": "France",
                                    "CustomerName": "M. Pierre Dubois",
                                    "MakeName": "McLaren",
                                    "ModelName": "P1",
                                    "MaxSalePrice": "295000.00",
                                    "AvgProfit": "44650.000000"
                                },
                                {
                                    "CountryName": "Italy",
                                    "CustomerName": "Stefano DiLonghi",
                                    "MakeName": "Lamborghini",
                                    "ModelName": "Jarama",
                                    "MaxSalePrice": "245000.00",
                                    "AvgProfit": "43400.000000"
                                },
                                {
                                    "CountryName": "France",
                                    "CustomerName": "Laurent Saint Yves",
                                    "MakeName": "Lamborghini",
                                    "ModelName": "Diabolo",
                                    "MaxSalePrice": "235000.00",
                                    "AvgProfit": "43050.000000"
                                },
                                {
                                    "CountryName": "France",
                                    "CustomerName": "Le Luxe en Motion",
                                    "MakeName": "Ferrari",
                                    "ModelName": "F50",
                                    "MaxSalePrice": "255950.00",
                                    "AvgProfit": "42990.000000"
                                },
                                {
                                    "CountryName": "France",
                                    "CustomerName": "Capots Reluisants S.A.",
                                    "MakeName": "Ferrari",
                                    "ModelName": "F50",
                                    "MaxSalePrice": "310000.00",
                                    "AvgProfit": "42900.000000"
                                },
                                {
                                    "CountryName": "United States",
                                    "CustomerName": "Screamin' Wheels Corp",
                                    "MakeName": "Ferrari",
                                    "ModelName": "F40",
                                    "MaxSalePrice": "250000.00",
                                    "AvgProfit": "40950.000000"
                                },
                                {
                                    "CountryName": "United Kingdom",
                                    "CustomerName": "Magic Motors",
                                    "MakeName": "Ferrari",
                                    "ModelName": "Enzo",
                                    "MaxSalePrice": "255000.00",
                                    "AvgProfit": "38300.000000"
                                },
                                {
                                    "CountryName": "United Kingdom",
                                    "CustomerName": "Liverpool Executive Prestige Vehicles",
                                    "MakeName": "Aston Martin",
                                    "ModelName": "DB6",
                                    "MaxSalePrice": "225000.00",
                                    "AvgProfit": "34400.000000"
                                },
                                {
                                    "CountryName": "United Kingdom",
                                    "CustomerName": "Snazzy Roadsters",
                                    "MakeName": "Ferrari",
                                    "ModelName": "355",
                                    "MaxSalePrice": "220000.00",
                                    "AvgProfit": "34350.000000"
                                },
                                {
                                    "CountryName": "France",
                                    "CustomerName": "Capots Reluisants S.A.",
                                    "MakeName": "Bentley",
                                    "ModelName": "Brooklands",
                                    "MaxSalePrice": "189500.00",
                                    "AvgProfit": "33950.000000"
                                },
                                {
                                    "CountryName": "United States",
                                    "CustomerName": "Stephany Rousso",
                                    "MakeName": "Ferrari",
                                    "ModelName": "F50",
                                    "MaxSalePrice": "195000.00",
                                    "AvgProfit": "31600.000000"
                                },
                                {
                                    "CountryName": "France",
                                    "CustomerName": "Vive La Vitesse",
                                    "MakeName": "Bugatti",
                                    "ModelName": "Veyron",
                                    "MaxSalePrice": "220500.00",
                                    "AvgProfit": "30700.000000"
                                },
                                {
                                    "CountryName": "United Kingdom",
                                    "CustomerName": "Mrs. Ivana Telford",
                                    "MakeName": "Ferrari",
                                    "ModelName": "Testarossa",
                                    "MaxSalePrice": "195000.00",
                                    "AvgProfit": "29950.000000"
                                },
                                {
                                    "CountryName": "United Kingdom",
                                    "CustomerName": "Glittering Prize Cars Ltd",
                                    "MakeName": "Ferrari",
                                    "ModelName": "Testarossa",
                                    "MaxSalePrice": "195000.00",
                                    "AvgProfit": "29550.000000"
                                },
                                {
                                    "CountryName": "United Kingdom",
                                    "CustomerName": "Alexei Tolstoi",
                                    "MakeName": "Ferrari",
                                    "ModelName": "355",
                                    "MaxSalePrice": "205000.00",
                                    "AvgProfit": "29050.000000"
                                },
                                {
                                    "CountryName": "United States",
                                    "CustomerName": "Sondra Horowitz",
                                    "MakeName": "Rolls Royce",
                                    "ModelName": "Phantom",
                                    "MaxSalePrice": "182500.00",
                                    "AvgProfit": "27550.000000"
                                },
                                {
                                    "CountryName": "Italy",
                                    "CustomerName": "Smooth Rocking Chrome",
                                    "MakeName": "Ferrari",
                                    "ModelName": "Dino",
                                    "MaxSalePrice": "195000.00",
                                    "AvgProfit": "27050.000000"
                                },
                                {
                                    "CountryName": "United Kingdom",
                                    "CustomerName": "Honest Pete Motors",
                                    "MakeName": "Lagonda",
                                    "ModelName": "V12",
                                    "MaxSalePrice": "156500.00",
                                    "AvgProfit": "25850.000000"
                                },
                                {
                                    "CountryName": "United Kingdom",
                                    "CustomerName": "Wonderland Wheels",
                                    "MakeName": "Ferrari",
                                    "ModelName": "Testarossa",
                                    "MaxSalePrice": "165000.00",
                                    "AvgProfit": "24900.000000"
                                },
                                {
                                    "CountryName": "United States",
                                    "CustomerName": "Sondra Horowitz",
                                    "MakeName": "Ferrari",
                                    "ModelName": "355",
                                    "MaxSalePrice": "159500.00",
                                    "AvgProfit": "24800.000000"
                                },
                                {
                                    "CountryName": "United Kingdom",
                                    "CustomerName": "London Executive Prestige Vehicles",
                                    "MakeName": "Ferrari",
                                    "ModelName": "355",
                                    "MaxSalePrice": "169500.00",
                                    "AvgProfit": "24250.000000"
                                },
                                {
                                    "CountryName": "United Kingdom",
                                    "CustomerName": "Honest Pete Motors",
                                    "MakeName": "Ferrari",
                                    "ModelName": "355",
                                    "MaxSalePrice": "156500.00",
                                    "AvgProfit": "24000.000000"
                                },
                                {
                                    "CountryName": "United Kingdom",
                                    "CustomerName": "Peter Smith",
                                    "MakeName": "Rolls Royce",
                                    "ModelName": "Wraith",
                                    "MaxSalePrice": "162500.00",
                                    "AvgProfit": "23450.000000"
                                },
                                {
                                    "CountryName": "United Kingdom",
                                    "CustomerName": "Peter Smith",
                                    "MakeName": "Aston Martin",
                                    "ModelName": "Virage",
                                    "MaxSalePrice": "125000.00",
                                    "AvgProfit": "22250.000000"
                                },
                                {
                                    "CountryName": "France",
                                    "CustomerName": "SuperSport S.A.R.L.",
                                    "MakeName": "Rolls Royce",
                                    "ModelName": "Silver Shadow",
                                    "MaxSalePrice": "135000.00",
                                    "AvgProfit": "21550.000000"
                                },
                                {
                                    "CountryName": "Belgium",
                                    "CustomerName": "Diplomatic Cars",
                                    "MakeName": "Aston Martin",
                                    "ModelName": "Vantage",
                                    "MaxSalePrice": "125000.00",
                                    "AvgProfit": "21550.000000"
                                },
                                {
                                    "CountryName": "France",
                                    "CustomerName": "Vive La Vitesse",
                                    "MakeName": "Lamborghini",
                                    "ModelName": "Diabolo",
                                    "MaxSalePrice": "169500.00",
                                    "AvgProfit": "21200.000000"
                                },
                                {
                                    "CountryName": "United Kingdom",
                                    "CustomerName": "Convertible Dreams",
                                    "MakeName": "Lamborghini",
                                    "ModelName": "Countach",
                                    "MaxSalePrice": "123500.00",
                                    "AvgProfit": "21200.000000"
                                },
                                {
                                    "CountryName": "United Kingdom",
                                    "CustomerName": "Andy Cheshire",
                                    "MakeName": "Ferrari",
                                    "ModelName": "Daytona",
                                    "MaxSalePrice": "145000.00",
                                    "AvgProfit": "20900.000000"
                                },
                                {
                                    "CountryName": "United States",
                                    "CustomerName": "Jayden Jones",
                                    "MakeName": "Aston Martin",
                                    "ModelName": "DB6",
                                    "MaxSalePrice": "113590.00",
                                    "AvgProfit": "20718.000000"
                                },
                                {
                                    "CountryName": "France",
                                    "CustomerName": "M. Pierre Dubois",
                                    "MakeName": "Rolls Royce",
                                    "ModelName": "Silver Seraph",
                                    "MaxSalePrice": "120000.00",
                                    "AvgProfit": "20325.000000"
                                },
                                {
                                    "CountryName": "Spain",
                                    "CustomerName": "Antonio Maura",
                                    "MakeName": "Ferrari",
                                    "ModelName": "Dino",
                                    "MaxSalePrice": "123500.00",
                                    "AvgProfit": "20275.000000"
                                },
                                {
                                    "CountryName": "United States",
                                    "CustomerName": "Theo Kowalski",
                                    "MakeName": "Aston Martin",
                                    "ModelName": "Virage",
                                    "MaxSalePrice": "123590.00",
                                    "AvgProfit": "19593.000000"
                                },
                                {
                                    "CountryName": "Spain",
                                    "CustomerName": "Prestige Imports",
                                    "MakeName": "Rolls Royce",
                                    "ModelName": "Phantom",
                                    "MaxSalePrice": "119600.00",
                                    "AvgProfit": "19480.000000"
                                },
                                {
                                    "CountryName": "France",
                                    "CustomerName": "Vive La Vitesse",
                                    "MakeName": "Ferrari",
                                    "ModelName": "355",
                                    "MaxSalePrice": "155000.00",
                                    "AvgProfit": "19050.000000"
                                },
                                {
                                    "CountryName": "Italy",
                                    "CustomerName": "Ronaldo Bianco",
                                    "MakeName": "Aston Martin",
                                    "ModelName": "Virage",
                                    "MaxSalePrice": "123500.00",
                                    "AvgProfit": "18800.000000"
                                },
                                {
                                    "CountryName": "United Kingdom",
                                    "CustomerName": "King Leer Cars",
                                    "MakeName": "Ferrari",
                                    "ModelName": "Mondial",
                                    "MaxSalePrice": "155000.00",
                                    "AvgProfit": "18707.500000"
                                },
                                {
                                    "CountryName": "United Kingdom",
                                    "CustomerName": "ImpressTheNeighbours.Com",
                                    "MakeName": "Aston Martin",
                                    "ModelName": "Virage",
                                    "MaxSalePrice": "100000.00",
                                    "AvgProfit": "18000.000000"
                                },
                                {
                                    "CountryName": "United Kingdom",
                                    "CustomerName": "King Leer Cars",
                                    "MakeName": "Bentley",
                                    "ModelName": "Continental",
                                    "MaxSalePrice": "99500.00",
                                    "AvgProfit": "17900.000000"
                                },
                                {
                                    "CountryName": "Germany",
                                    "CustomerName": "Glitz",
                                    "MakeName": "Ferrari",
                                    "ModelName": "360",
                                    "MaxSalePrice": "99500.00",
                                    "AvgProfit": "17900.000000"
                                },
                                {
                                    "CountryName": "United Kingdom",
                                    "CustomerName": "Honest Pete Motors",
                                    "MakeName": "Aston Martin",
                                    "ModelName": "Virage",
                                    "MaxSalePrice": "125500.00",
                                    "AvgProfit": "17700.000000"
                                },
                                {
                                    "CountryName": "Spain",
                                    "CustomerName": "El Sport",
                                    "MakeName": "Ferrari",
                                    "ModelName": "360",
                                    "MaxSalePrice": "128500.00",
                                    "AvgProfit": "17600.000000"
                                },
                                {
                                    "CountryName": "Spain",
                                    "CustomerName": "Antonio Maura",
                                    "MakeName": "Ferrari",
                                    "ModelName": "Daytona",
                                    "MaxSalePrice": "99500.00",
                                    "AvgProfit": "17150.000000"
                                },
                                {
                                    "CountryName": "Spain",
                                    "CustomerName": "Prestige Imports",
                                    "MakeName": "Bentley",
                                    "ModelName": "Arnage",
                                    "MaxSalePrice": "99950.00",
                                    "AvgProfit": "17000.000000"
                                },
                                {
                                    "CountryName": "France",
                                    "CustomerName": "Mme Anne Duport",
                                    "MakeName": "Rolls Royce",
                                    "ModelName": "Silver Seraph",
                                    "MaxSalePrice": "99950.00",
                                    "AvgProfit": "17000.000000"
                                },
                                {
                                    "CountryName": "Italy",
                                    "CustomerName": "Prestissimo!",
                                    "MakeName": "Rolls Royce",
                                    "ModelName": "Phantom",
                                    "MaxSalePrice": "99500.00",
                                    "AvgProfit": "16910.000000"
                                },
                                {
                                    "CountryName": "United Kingdom",
                                    "CustomerName": "Andrea Tarbuck",
                                    "MakeName": "Aston Martin",
                                    "ModelName": "DB9",
                                    "MaxSalePrice": "99500.00",
                                    "AvgProfit": "16910.000000"
                                },
                                {
                                    "CountryName": "United Kingdom",
                                    "CustomerName": "Pierre Blanc",
                                    "MakeName": "Delorean",
                                    "ModelName": "DMC 12",
                                    "MaxSalePrice": "99500.00",
                                    "AvgProfit": "16910.000000"
                                },
                                {
                                    "CountryName": "United Kingdom",
                                    "CustomerName": "Boris Spry",
                                    "MakeName": "Rolls Royce",
                                    "ModelName": "Ghost",
                                    "MaxSalePrice": "98950.00",
                                    "AvgProfit": "16800.000000"
                                },
                                {
                                    "CountryName": "United Kingdom",
                                    "CustomerName": "Executive Motor Delight",
                                    "MakeName": "Aston Martin",
                                    "ModelName": "DB2",
                                    "MaxSalePrice": "99990.00",
                                    "AvgProfit": "16498.000000"
                                },
                                {
                                    "CountryName": "Germany",
                                    "CustomerName": "Rodolph Legler",
                                    "MakeName": "Bentley",
                                    "ModelName": "Mulsanne",
                                    "MaxSalePrice": "99500.00",
                                    "AvgProfit": "16400.000000"
                                },
                                {
                                    "CountryName": "France",
                                    "CustomerName": "SuperSport S.A.R.L.",
                                    "MakeName": "Jaguar",
                                    "ModelName": "XK120",
                                    "MaxSalePrice": "99500.00",
                                    "AvgProfit": "16400.000000"
                                },
                                {
                                    "CountryName": "Spain",
                                    "CustomerName": "Antonio Maura",
                                    "MakeName": "Lamborghini",
                                    "ModelName": "400GT",
                                    "MaxSalePrice": "145000.00",
                                    "AvgProfit": "16300.000000"
                                },
                                {
                                    "CountryName": "Germany",
                                    "CustomerName": "WunderKar",
                                    "MakeName": "Aston Martin",
                                    "ModelName": "DB9",
                                    "MaxSalePrice": "99500.00",
                                    "AvgProfit": "16225.000000"
                                },
                                {
                                    "CountryName": "France",
                                    "CustomerName": "Vive La Vitesse",
                                    "MakeName": "Bentley",
                                    "ModelName": "Flying Spur",
                                    "MaxSalePrice": "99500.00",
                                    "AvgProfit": "16225.000000"
                                },
                                {
                                    "CountryName": "United Kingdom",
                                    "CustomerName": "Liverpool Executive Prestige Vehicles",
                                    "MakeName": "Bentley",
                                    "ModelName": "Brooklands",
                                    "MaxSalePrice": "99500.00",
                                    "AvgProfit": "16225.000000"
                                },
                                {
                                    "CountryName": "United Kingdom",
                                    "CustomerName": "London Executive Prestige Vehicles",
                                    "MakeName": "Aston Martin",
                                    "ModelName": "Rapide",
                                    "MaxSalePrice": "99500.00",
                                    "AvgProfit": "16225.000000"
                                },
                                {
                                    "CountryName": "United Kingdom",
                                    "CustomerName": "Pierre Blanc",
                                    "MakeName": "Aston Martin",
                                    "ModelName": "Vantage",
                                    "MaxSalePrice": "102500.00",
                                    "AvgProfit": "16075.000000"
                                },
                                {
                                    "CountryName": "United Kingdom",
                                    "CustomerName": "Alexei Tolstoi",
                                    "MakeName": "Aston Martin",
                                    "ModelName": "Virage",
                                    "MaxSalePrice": "102500.00",
                                    "AvgProfit": "16075.000000"
                                },
                                {
                                    "CountryName": "United Kingdom",
                                    "CustomerName": "King Leer Cars",
                                    "MakeName": "Rolls Royce",
                                    "ModelName": "Corniche",
                                    "MaxSalePrice": "89500.00",
                                    "AvgProfit": "15900.000000"
                                },
                                {
                                    "CountryName": "France",
                                    "CustomerName": "Laurent Saint Yves",
                                    "MakeName": "Porsche",
                                    "ModelName": "959",
                                    "MaxSalePrice": "89500.00",
                                    "AvgProfit": "14910.000000"
                                },
                                {
                                    "CountryName": "United States",
                                    "CustomerName": "Screamin' Wheels",
                                    "MakeName": "Bentley",
                                    "ModelName": "Continental",
                                    "MaxSalePrice": "89500.00",
                                    "AvgProfit": "14910.000000"
                                },
                                {
                                    "CountryName": "United States",
                                    "CustomerName": "Screamin' Wheels",
                                    "MakeName": "Bentley",
                                    "ModelName": "Flying Spur",
                                    "MaxSalePrice": "92150.00",
                                    "AvgProfit": "14755.000000"
                                },
                                {
                                    "CountryName": "France",
                                    "CustomerName": "Laurent Saint Yves",
                                    "MakeName": "Rolls Royce",
                                    "ModelName": "Silver Seraph",
                                    "MaxSalePrice": "139500.00",
                                    "AvgProfit": "14500.000000"
                                },
                                {
                                    "CountryName": "United Kingdom",
                                    "CustomerName": "Wonderland Wheels",
                                    "MakeName": "Bentley",
                                    "ModelName": "Flying Spur",
                                    "MaxSalePrice": "80500.00",
                                    "AvgProfit": "14100.000000"
                                },
                                {
                                    "CountryName": "Italy",
                                    "CustomerName": "Smooth Rocking Chrome",
                                    "MakeName": "Ferrari",
                                    "ModelName": "360",
                                    "MaxSalePrice": "135000.00",
                                    "AvgProfit": "13950.000000"
                                },
                                {
                                    "CountryName": "United Kingdom",
                                    "CustomerName": "Liverpool Executive Prestige Vehicles",
                                    "MakeName": "Rolls Royce",
                                    "ModelName": "Phantom",
                                    "MaxSalePrice": "79500.00",
                                    "AvgProfit": "13900.000000"
                                },
                                {
                                    "CountryName": "United States",
                                    "CustomerName": "Jayden Jones",
                                    "MakeName": "Jaguar",
                                    "ModelName": "Mark X",
                                    "MaxSalePrice": "86500.00",
                                    "AvgProfit": "13625.000000"
                                },
                                {
                                    "CountryName": "Italy",
                                    "CustomerName": "Bravissima!",
                                    "MakeName": "Aston Martin",
                                    "ModelName": "DB6",
                                    "MaxSalePrice": "82590.00",
                                    "AvgProfit": "13528.000000"
                                },
                                {
                                    "CountryName": "United Kingdom",
                                    "CustomerName": "Executive Motor Delight",
                                    "MakeName": "Bentley",
                                    "ModelName": "Arnage",
                                    "MaxSalePrice": "85650.00",
                                    "AvgProfit": "13455.000000"
                                },
                                {
                                    "CountryName": "United Kingdom",
                                    "CustomerName": "Eat My Exhaust Ltd",
                                    "MakeName": "Rolls Royce",
                                    "ModelName": "Silver Shadow",
                                    "MaxSalePrice": "85000.00",
                                    "AvgProfit": "13260.000000"
                                },
                                {
                                    "CountryName": "Belgium",
                                    "CustomerName": "Diplomatic Cars",
                                    "MakeName": "Aston Martin",
                                    "ModelName": "Rapide",
                                    "MaxSalePrice": "86500.00",
                                    "AvgProfit": "13050.000000"
                                },
                                {
                                    "CountryName": "Italy",
                                    "CustomerName": "Sport.Car",
                                    "MakeName": "Jaguar",
                                    "ModelName": "XK150",
                                    "MaxSalePrice": "79500.00",
                                    "AvgProfit": "12225.000000"
                                },
                                {
                                    "CountryName": "United Kingdom",
                                    "CustomerName": "Silver HubCaps",
                                    "MakeName": "Bentley",
                                    "ModelName": "Flying Spur",
                                    "MaxSalePrice": "76500.00",
                                    "AvgProfit": "11800.000000"
                                },
                                {
                                    "CountryName": "United Kingdom",
                                    "CustomerName": "Magic Motors",
                                    "MakeName": "Ferrari",
                                    "ModelName": "355",
                                    "MaxSalePrice": "125950.00",
                                    "AvgProfit": "11790.000000"
                                },
                                {
                                    "CountryName": "Spain",
                                    "CustomerName": "Prestige Imports",
                                    "MakeName": "Porsche",
                                    "ModelName": "911",
                                    "MaxSalePrice": "68900.00",
                                    "AvgProfit": "11780.000000"
                                },
                                {
                                    "CountryName": "France",
                                    "CustomerName": "Laurent Saint Yves",
                                    "MakeName": "Aston Martin",
                                    "ModelName": "DB9",
                                    "MaxSalePrice": "77500.00",
                                    "AvgProfit": "11760.000000"
                                },
                                {
                                    "CountryName": "Spain",
                                    "CustomerName": "Prestige Imports",
                                    "MakeName": "Bentley",
                                    "ModelName": "Flying Spur",
                                    "MaxSalePrice": "79500.00",
                                    "AvgProfit": "11650.000000"
                                },
                                {
                                    "CountryName": "United Kingdom",
                                    "CustomerName": "Stan Collywobble",
                                    "MakeName": "Bentley",
                                    "ModelName": "Arnage",
                                    "MaxSalePrice": "76500.00",
                                    "AvgProfit": "11625.000000"
                                },
                                {
                                    "CountryName": "France",
                                    "CustomerName": "SuperSport S.A.R.L.",
                                    "MakeName": "Bentley",
                                    "ModelName": "Flying Spur",
                                    "MaxSalePrice": "72500.00",
                                    "AvgProfit": "11510.000000"
                                },
                                {
                                    "CountryName": "Spain",
                                    "CustomerName": "Autos Sportivos",
                                    "MakeName": "Citroen",
                                    "ModelName": "Torpedo",
                                    "MaxSalePrice": "65890.00",
                                    "AvgProfit": "11178.000000"
                                },
                                {
                                    "CountryName": "France",
                                    "CustomerName": "Laurent Saint Yves",
                                    "MakeName": "Aston Martin",
                                    "ModelName": "Vanquish",
                                    "MaxSalePrice": "65500.00",
                                    "AvgProfit": "11100.000000"
                                },
                                {
                                    "CountryName": "United Kingdom",
                                    "CustomerName": "Mike Beeton",
                                    "MakeName": "Jaguar",
                                    "ModelName": "XK120",
                                    "MaxSalePrice": "68500.00",
                                    "AvgProfit": "10950.000000"
                                },
                                {
                                    "CountryName": "United Kingdom",
                                    "CustomerName": "ImpressTheNeighbours.Com",
                                    "MakeName": "Mercedes",
                                    "ModelName": "280SL",
                                    "MaxSalePrice": "62500.00",
                                    "AvgProfit": "10700.000000"
                                },
                                {
                                    "CountryName": "United Kingdom",
                                    "CustomerName": "Silver HubCaps",
                                    "MakeName": "Aston Martin",
                                    "ModelName": "DB2",
                                    "MaxSalePrice": "62500.00",
                                    "AvgProfit": "10700.000000"
                                },
                                {
                                    "CountryName": "United Kingdom",
                                    "CustomerName": "Bling Motors",
                                    "MakeName": "Lagonda",
                                    "ModelName": "V12",
                                    "MaxSalePrice": "61500.00",
                                    "AvgProfit": "10500.000000"
                                },
                                {
                                    "CountryName": "United Kingdom",
                                    "CustomerName": "Eat My Exhaust Ltd",
                                    "MakeName": "Aston Martin",
                                    "ModelName": "DB6",
                                    "MaxSalePrice": "76000.00",
                                    "AvgProfit": "10450.000000"
                                },
                                {
                                    "CountryName": "France",
                                    "CustomerName": "Jacques Mitterand",
                                    "MakeName": "Aston Martin",
                                    "ModelName": "DB5",
                                    "MaxSalePrice": "69500.00",
                                    "AvgProfit": "10400.000000"
                                },
                                {
                                    "CountryName": "United Kingdom",
                                    "CustomerName": "Expensive Shine",
                                    "MakeName": "Aston Martin",
                                    "ModelName": "DB9",
                                    "MaxSalePrice": "61550.00",
                                    "AvgProfit": "10350.000000"
                                },
                                {
                                    "CountryName": "United States",
                                    "CustomerName": "Jason B. Wight",
                                    "MakeName": "Aston Martin",
                                    "ModelName": "DB9",
                                    "MaxSalePrice": "59500.00",
                                    "AvgProfit": "10350.000000"
                                },
                                {
                                    "CountryName": "United Kingdom",
                                    "CustomerName": "Convertible Dreams",
                                    "MakeName": "Porsche",
                                    "ModelName": "959",
                                    "MaxSalePrice": "66500.00",
                                    "AvgProfit": "10310.000000"
                                },
                                {
                                    "CountryName": "United Kingdom",
                                    "CustomerName": "Alexei Tolstoi",
                                    "MakeName": "Aston Martin",
                                    "ModelName": "DB6",
                                    "MaxSalePrice": "69500.00",
                                    "AvgProfit": "10160.000000"
                                },
                                {
                                    "CountryName": "United Kingdom",
                                    "CustomerName": "Mr. Evan Telford",
                                    "MakeName": "Aston Martin",
                                    "ModelName": "Virage",
                                    "MaxSalePrice": "72500.00",
                                    "AvgProfit": "10075.000000"
                                },
                                {
                                    "CountryName": "United States",
                                    "CustomerName": "Screamin' Wheels",
                                    "MakeName": "Aston Martin",
                                    "ModelName": "DB9",
                                    "MaxSalePrice": "65450.00",
                                    "AvgProfit": "9770.000000"
                                },
                                {
                                    "CountryName": "Italy",
                                    "CustomerName": "Ronaldo Bianco",
                                    "MakeName": "Aston Martin",
                                    "ModelName": "DB2",
                                    "MaxSalePrice": "61500.00",
                                    "AvgProfit": "9640.000000"
                                },
                                {
                                    "CountryName": "Germany",
                                    "CustomerName": "WunderKar",
                                    "MakeName": "Aston Martin",
                                    "ModelName": "Rapide",
                                    "MaxSalePrice": "61500.00",
                                    "AvgProfit": "9640.000000"
                                },
                                {
                                    "CountryName": "France",
                                    "CustomerName": "La Bagnole de Luxe",
                                    "MakeName": "Rolls Royce",
                                    "ModelName": "Ghost",
                                    "MaxSalePrice": "60500.00",
                                    "AvgProfit": "9550.000000"
                                },
                                {
                                    "CountryName": "France",
                                    "CustomerName": "M. Pierre Dubois",
                                    "MakeName": "Aston Martin",
                                    "ModelName": "DB9",
                                    "MaxSalePrice": "56500.00",
                                    "AvgProfit": "9500.000000"
                                },
                                {
                                    "CountryName": "France",
                                    "CustomerName": "Vive La Vitesse",
                                    "MakeName": "Aston Martin",
                                    "ModelName": "Vanquish",
                                    "MaxSalePrice": "56500.00",
                                    "AvgProfit": "9500.000000"
                                },
                                {
                                    "CountryName": "United Kingdom",
                                    "CustomerName": "Eat My Exhaust Ltd",
                                    "MakeName": "Noble",
                                    "ModelName": "M600",
                                    "MaxSalePrice": "55000.00",
                                    "AvgProfit": "9450.000000"
                                },
                                {
                                    "CountryName": "Germany",
                                    "CustomerName": "Glitz",
                                    "MakeName": "Bentley",
                                    "ModelName": "Flying Spur",
                                    "MaxSalePrice": "65890.00",
                                    "AvgProfit": "9438.000000"
                                },
                                {
                                    "CountryName": "United Kingdom",
                                    "CustomerName": "King Leer Cars",
                                    "MakeName": "Aston Martin",
                                    "ModelName": "DB9",
                                    "MaxSalePrice": "56500.00",
                                    "AvgProfit": "9340.000000"
                                },
                                {
                                    "CountryName": "United Kingdom",
                                    "CustomerName": "Glittering Prize Cars Ltd",
                                    "MakeName": "Aston Martin",
                                    "ModelName": "DB6",
                                    "MaxSalePrice": "55000.00",
                                    "AvgProfit": "9290.000000"
                                },
                                {
                                    "CountryName": "United Kingdom",
                                    "CustomerName": "Magic Motors",
                                    "MakeName": "Aston Martin",
                                    "ModelName": "Vanquish",
                                    "MaxSalePrice": "55000.00",
                                    "AvgProfit": "9200.000000"
                                },
                                {
                                    "CountryName": "United Kingdom",
                                    "CustomerName": "Screamin' Wheels",
                                    "MakeName": "Aston Martin",
                                    "ModelName": "Rapide",
                                    "MaxSalePrice": "55000.00",
                                    "AvgProfit": "9200.000000"
                                },
                                {
                                    "CountryName": "France",
                                    "CustomerName": "Casseroles Chromes",
                                    "MakeName": "Porsche",
                                    "ModelName": "959",
                                    "MaxSalePrice": "55600.00",
                                    "AvgProfit": "9160.000000"
                                },
                                {
                                    "CountryName": "United States",
                                    "CustomerName": "Stephany Rousso",
                                    "MakeName": "Aston Martin",
                                    "ModelName": "Vanquish",
                                    "MaxSalePrice": "56990.00",
                                    "AvgProfit": "9128.000000"
                                },
                                {
                                    "CountryName": "United Kingdom",
                                    "CustomerName": "Convertible Dreams",
                                    "MakeName": "Bentley",
                                    "ModelName": "Mulsanne",
                                    "MaxSalePrice": "56950.00",
                                    "AvgProfit": "9120.000000"
                                },
                                {
                                    "CountryName": "United States",
                                    "CustomerName": "Theo Kowalski",
                                    "MakeName": "Aston Martin",
                                    "ModelName": "DB9",
                                    "MaxSalePrice": "56900.00",
                                    "AvgProfit": "8970.000000"
                                },
                                {
                                    "CountryName": "United Kingdom",
                                    "CustomerName": "Magic Motors",
                                    "MakeName": "Aston Martin",
                                    "ModelName": "Vantage",
                                    "MaxSalePrice": "66500.00",
                                    "AvgProfit": "8875.000000"
                                },
                                {
                                    "CountryName": "France",
                                    "CustomerName": "Casseroles Chromes",
                                    "MakeName": "Porsche",
                                    "ModelName": "911",
                                    "MaxSalePrice": "66500.00",
                                    "AvgProfit": "8875.000000"
                                },
                                {
                                    "CountryName": "United Kingdom",
                                    "CustomerName": "Clubbing Cars",
                                    "MakeName": "Aston Martin",
                                    "ModelName": "DB4",
                                    "MaxSalePrice": "56950.00",
                                    "AvgProfit": "8840.000000"
                                },
                                {
                                    "CountryName": "United Kingdom",
                                    "CustomerName": "King Leer Cars",
                                    "MakeName": "Aston Martin",
                                    "ModelName": "DB4",
                                    "MaxSalePrice": "56850.00",
                                    "AvgProfit": "8820.000000"
                                },
                                {
                                    "CountryName": "United Kingdom",
                                    "CustomerName": "Stan Collywobble",
                                    "MakeName": "Aston Martin",
                                    "ModelName": "DB6",
                                    "MaxSalePrice": "56000.00",
                                    "AvgProfit": "8790.000000"
                                },
                                {
                                    "CountryName": "United Kingdom",
                                    "CustomerName": "Snazzy Roadsters",
                                    "MakeName": "Aston Martin",
                                    "ModelName": "Virage",
                                    "MaxSalePrice": "56500.00",
                                    "AvgProfit": "8750.000000"
                                },
                                {
                                    "CountryName": "United Kingdom",
                                    "CustomerName": "Honest Pete Motors",
                                    "MakeName": "Aston Martin",
                                    "ModelName": "Vanquish",
                                    "MaxSalePrice": "56950.00",
                                    "AvgProfit": "8730.000000"
                                },
                                {
                                    "CountryName": "Spain",
                                    "CustomerName": "Antonio Maura",
                                    "MakeName": "Mercedes",
                                    "ModelName": "280SL",
                                    "MaxSalePrice": "56890.00",
                                    "AvgProfit": "8718.000000"
                                },
                                {
                                    "CountryName": "Spain",
                                    "CustomerName": "YO! Speed!",
                                    "MakeName": "Aston Martin",
                                    "ModelName": "DB2",
                                    "MaxSalePrice": "52500.00",
                                    "AvgProfit": "8700.000000"
                                },
                                {
                                    "CountryName": "United Kingdom",
                                    "CustomerName": "Boris Spry",
                                    "MakeName": "Aston Martin",
                                    "ModelName": "DB6",
                                    "MaxSalePrice": "54500.00",
                                    "AvgProfit": "8630.000000"
                                },
                                {
                                    "CountryName": "United Kingdom",
                                    "CustomerName": "Magic Motors",
                                    "MakeName": "Ferrari",
                                    "ModelName": "Testarossa",
                                    "MaxSalePrice": "65000.00",
                                    "AvgProfit": "8575.000000"
                                },
                                {
                                    "CountryName": "France",
                                    "CustomerName": "Casseroles Chromes",
                                    "MakeName": "Jaguar",
                                    "ModelName": "XK120",
                                    "MaxSalePrice": "59000.00",
                                    "AvgProfit": "8500.000000"
                                },
                                {
                                    "CountryName": "Spain",
                                    "CustomerName": "Antonio Maura",
                                    "MakeName": "Porsche",
                                    "ModelName": "911",
                                    "MaxSalePrice": "49500.00",
                                    "AvgProfit": "8350.000000"
                                },
                                {
                                    "CountryName": "United Kingdom",
                                    "CustomerName": "Glittering Prize Cars Ltd",
                                    "MakeName": "Bentley",
                                    "ModelName": "Flying Spur",
                                    "MaxSalePrice": "56950.00",
                                    "AvgProfit": "8340.000000"
                                },
                                {
                                    "CountryName": "France",
                                    "CustomerName": "SuperSport S.A.R.L.",
                                    "MakeName": "Aston Martin",
                                    "ModelName": "DB6",
                                    "MaxSalePrice": "56000.00",
                                    "AvgProfit": "8285.500000"
                                },
                                {
                                    "CountryName": "United Kingdom",
                                    "CustomerName": "Stan Collywobble",
                                    "MakeName": "Aston Martin",
                                    "ModelName": "Vantage",
                                    "MaxSalePrice": "49500.00",
                                    "AvgProfit": "8190.000000"
                                },
                                {
                                    "CountryName": "United Kingdom",
                                    "CustomerName": "Silver HubCaps",
                                    "MakeName": "Bentley",
                                    "ModelName": "Continental",
                                    "MaxSalePrice": "56950.00",
                                    "AvgProfit": "8090.000000"
                                },
                                {
                                    "CountryName": "France",
                                    "CustomerName": "Mme Anne Duport",
                                    "MakeName": "Porsche",
                                    "ModelName": "911",
                                    "MaxSalePrice": "51200.00",
                                    "AvgProfit": "7830.000000"
                                },
                                {
                                    "CountryName": "United Kingdom",
                                    "CustomerName": "Convertible Dreams",
                                    "MakeName": "Aston Martin",
                                    "ModelName": "Virage",
                                    "MaxSalePrice": "45900.00",
                                    "AvgProfit": "7630.000000"
                                },
                                {
                                    "CountryName": "United Kingdom",
                                    "CustomerName": "Steve Docherty",
                                    "MakeName": "Aston Martin",
                                    "ModelName": "Virage",
                                    "MaxSalePrice": "55000.00",
                                    "AvgProfit": "7590.000000"
                                },
                                {
                                    "CountryName": "United States",
                                    "CustomerName": "Stephany Rousso",
                                    "MakeName": "Aston Martin",
                                    "ModelName": "DB9",
                                    "MaxSalePrice": "55000.00",
                                    "AvgProfit": "7590.000000"
                                },
                                {
                                    "CountryName": "United Kingdom",
                                    "CustomerName": "Stan Collywobble",
                                    "MakeName": "Aston Martin",
                                    "ModelName": "DB9",
                                    "MaxSalePrice": "45600.00",
                                    "AvgProfit": "7570.000000"
                                },
                                {
                                    "CountryName": "United States",
                                    "CustomerName": "Sondra Horowitz",
                                    "MakeName": "Aston Martin",
                                    "ModelName": "DB2",
                                    "MaxSalePrice": "49500.00",
                                    "AvgProfit": "7490.000000"
                                },
                                {
                                    "CountryName": "Spain",
                                    "CustomerName": "YO! Speed!",
                                    "MakeName": "Aston Martin",
                                    "ModelName": "Vanquish",
                                    "MaxSalePrice": "57600.00",
                                    "AvgProfit": "7470.000000"
                                },
                                {
                                    "CountryName": "Spain",
                                    "CustomerName": "Alicia Almodovar",
                                    "MakeName": "Aston Martin",
                                    "ModelName": "DB6",
                                    "MaxSalePrice": "45950.00",
                                    "AvgProfit": "7390.000000"
                                },
                                {
                                    "CountryName": "United Kingdom",
                                    "CustomerName": "Snazzy Roadsters",
                                    "MakeName": "Aston Martin",
                                    "ModelName": "DB2",
                                    "MaxSalePrice": "45950.00",
                                    "AvgProfit": "7390.000000"
                                },
                                {
                                    "CountryName": "Germany",
                                    "CustomerName": "Glitz",
                                    "MakeName": "Aston Martin",
                                    "ModelName": "DB2",
                                    "MaxSalePrice": "45000.00",
                                    "AvgProfit": "7200.000000"
                                },
                                {
                                    "CountryName": "Italy",
                                    "CustomerName": "Prestissimo!",
                                    "MakeName": "Aston Martin",
                                    "ModelName": "DB5",
                                    "MaxSalePrice": "45000.00",
                                    "AvgProfit": "7200.000000"
                                },
                                {
                                    "CountryName": "United Kingdom",
                                    "CustomerName": "Posh Vehicles Ltd",
                                    "MakeName": "Noble",
                                    "ModelName": "M600",
                                    "MaxSalePrice": "45000.00",
                                    "AvgProfit": "7200.000000"
                                },
                                {
                                    "CountryName": "United Kingdom",
                                    "CustomerName": "Alexei Tolstoi",
                                    "MakeName": "Porsche",
                                    "ModelName": "911",
                                    "MaxSalePrice": "45950.00",
                                    "AvgProfit": "6920.000000"
                                },
                                {
                                    "CountryName": "France",
                                    "CustomerName": "Vive La Vitesse",
                                    "MakeName": "Aston Martin",
                                    "ModelName": "DB6",
                                    "MaxSalePrice": "45500.00",
                                    "AvgProfit": "6875.000000"
                                },
                                {
                                    "CountryName": "Italy",
                                    "CustomerName": "Sport.Car",
                                    "MakeName": "Aston Martin",
                                    "ModelName": "DB4",
                                    "MaxSalePrice": "46900.00",
                                    "AvgProfit": "6830.000000"
                                },
                                {
                                    "CountryName": "United Kingdom",
                                    "CustomerName": "Birmingham Executive Prestige Vehicles",
                                    "MakeName": "Aston Martin",
                                    "ModelName": "DB5",
                                    "MaxSalePrice": "56890.00",
                                    "AvgProfit": "6714.000000"
                                },
                                {
                                    "CountryName": "Spain",
                                    "CustomerName": "Prestige Imports",
                                    "MakeName": "Noble",
                                    "ModelName": "M600",
                                    "MaxSalePrice": "45950.00",
                                    "AvgProfit": "6480.000000"
                                },
                                {
                                    "CountryName": "Spain",
                                    "CustomerName": "Alicia Almodovar",
                                    "MakeName": "Porsche",
                                    "ModelName": "959",
                                    "MaxSalePrice": "39500.00",
                                    "AvgProfit": "6350.000000"
                                },
                                {
                                    "CountryName": "United States",
                                    "CustomerName": "Stephany Rousso",
                                    "MakeName": "Aston Martin",
                                    "ModelName": "Virage",
                                    "MaxSalePrice": "45000.00",
                                    "AvgProfit": "6340.000000"
                                },
                                {
                                    "CountryName": "United Kingdom",
                                    "CustomerName": "Screamin' Wheels",
                                    "MakeName": "Aston Martin",
                                    "ModelName": "DB5",
                                    "MaxSalePrice": "42950.00",
                                    "AvgProfit": "6320.000000"
                                },
                                {
                                    "CountryName": "United Kingdom",
                                    "CustomerName": "Pierre Blanc",
                                    "MakeName": "Porsche",
                                    "ModelName": "911",
                                    "MaxSalePrice": "45950.00",
                                    "AvgProfit": "6140.000000"
                                },
                                {
                                    "CountryName": "United States",
                                    "CustomerName": "Screamin' Wheels",
                                    "MakeName": "Mercedes",
                                    "ModelName": "280SL",
                                    "MaxSalePrice": "39500.00",
                                    "AvgProfit": "6100.000000"
                                },
                                {
                                    "CountryName": "United Kingdom",
                                    "CustomerName": "Honest Pete Motors",
                                    "MakeName": "Aston Martin",
                                    "ModelName": "DB9",
                                    "MaxSalePrice": "46500.00",
                                    "AvgProfit": "6000.000000"
                                },
                                {
                                    "CountryName": "France",
                                    "CustomerName": "Vive La Vitesse",
                                    "MakeName": "Mercedes",
                                    "ModelName": "500SL",
                                    "MaxSalePrice": "45000.00",
                                    "AvgProfit": "5950.000000"
                                },
                                {
                                    "CountryName": "Spain",
                                    "CustomerName": "Antonio Maura",
                                    "MakeName": "Triumph",
                                    "ModelName": "TR3A",
                                    "MaxSalePrice": "39500.00",
                                    "AvgProfit": "5880.000000"
                                },
                                {
                                    "CountryName": "France",
                                    "CustomerName": "Laurent Saint Yves",
                                    "MakeName": "Aston Martin",
                                    "ModelName": "DB4",
                                    "MaxSalePrice": "36500.00",
                                    "AvgProfit": "5750.000000"
                                },
                                {
                                    "CountryName": "United Kingdom",
                                    "CustomerName": "Beltway Prestige Driving",
                                    "MakeName": "Aston Martin",
                                    "ModelName": "DB6",
                                    "MaxSalePrice": "44885.00",
                                    "AvgProfit": "5677.000000"
                                },
                                {
                                    "CountryName": "United Kingdom",
                                    "CustomerName": "Expensive Shine",
                                    "MakeName": "Delahaye",
                                    "ModelName": "145",
                                    "MaxSalePrice": "39500.00",
                                    "AvgProfit": "5630.000000"
                                },
                                {
                                    "CountryName": "United Kingdom",
                                    "CustomerName": "Mr. Evan Telford",
                                    "MakeName": "Aston Martin",
                                    "ModelName": "DB2",
                                    "MaxSalePrice": "39500.00",
                                    "AvgProfit": "5630.000000"
                                },
                                {
                                    "CountryName": "France",
                                    "CustomerName": "SuperSport S.A.R.L.",
                                    "MakeName": "Porsche",
                                    "ModelName": "924",
                                    "MaxSalePrice": "39500.00",
                                    "AvgProfit": "5350.000000"
                                },
                                {
                                    "CountryName": "United Kingdom",
                                    "CustomerName": "Glittering Prize Cars Ltd",
                                    "MakeName": "Jaguar",
                                    "ModelName": "XJ12",
                                    "MaxSalePrice": "35250.00",
                                    "AvgProfit": "5250.000000"
                                },
                                {
                                    "CountryName": "United Kingdom",
                                    "CustomerName": "Honest Pete Motors",
                                    "MakeName": "Aston Martin",
                                    "ModelName": "DB4",
                                    "MaxSalePrice": "42500.00",
                                    "AvgProfit": "5200.000000"
                                },
                                {
                                    "CountryName": "United Kingdom",
                                    "CustomerName": "Peter Smith",
                                    "MakeName": "Jaguar",
                                    "ModelName": "XK120",
                                    "MaxSalePrice": "35000.00",
                                    "AvgProfit": "5200.000000"
                                },
                                {
                                    "CountryName": "United Kingdom",
                                    "CustomerName": "Peter McLuckie",
                                    "MakeName": "Porsche",
                                    "ModelName": "911",
                                    "MaxSalePrice": "33600.00",
                                    "AvgProfit": "5170.000000"
                                }
                            ]
                        },
                        "text/html": [
                            "<table>",
                            "<tr><th>CountryName</th><th>CustomerName</th><th>MakeName</th><th>ModelName</th><th>MaxSalePrice</th><th>AvgProfit</th></tr>",
                            "<tr><td>France</td><td>Vive La Vitesse</td><td>Ferrari</td><td>Enzo</td><td>365000.00</td><td>66350.000000</td></tr>",
                            "<tr><td>France</td><td>Laurent Saint Yves</td><td>Ferrari</td><td>Enzo</td><td>395000.00</td><td>65600.000000</td></tr>",
                            "<tr><td>United Kingdom</td><td>Birmingham Executive Prestige Vehicles</td><td>Bugatti</td><td>57C</td><td>335000.00</td><td>60850.000000</td></tr>",
                            "<tr><td>France</td><td>Bling Bling S.A.</td><td>Bugatti</td><td>57C</td><td>345000.00</td><td>60800.000000</td></tr>",
                            "<tr><td>United Kingdom</td><td>Andrea Tarbuck</td><td>Bugatti</td><td>57C</td><td>355000.00</td><td>57600.000000</td></tr>",
                            "<tr><td>France</td><td>La Bagnole de Luxe</td><td>Bugatti</td><td>57C</td><td>355000.00</td><td>52300.000000</td></tr>",
                            "<tr><td>Germany</td><td>Glitz</td><td>Lamborghini</td><td>Jarama</td><td>305000.00</td><td>51950.000000</td></tr>",
                            "<tr><td>United Kingdom</td><td>Honest Pete Motors</td><td>Bugatti</td><td>57C</td><td>295000.00</td><td>50800.000000</td></tr>",
                            "<tr><td>United Kingdom</td><td>Kieran O'Harris</td><td>Lamborghini</td><td>Diabolo</td><td>255000.00</td><td>46300.000000</td></tr>",
                            "<tr><td>Spain</td><td>Alicia Almodovar</td><td>Ferrari</td><td>Testarossa</td><td>250000.00</td><td>45350.000000</td></tr>",
                            "<tr><td>France</td><td>Laurent Saint Yves</td><td>Ferrari</td><td>F40</td><td>269500.00</td><td>44950.000000</td></tr>",
                            "<tr><td>France</td><td>M. Pierre Dubois</td><td>McLaren</td><td>P1</td><td>295000.00</td><td>44650.000000</td></tr>",
                            "<tr><td>Italy</td><td>Stefano DiLonghi</td><td>Lamborghini</td><td>Jarama</td><td>245000.00</td><td>43400.000000</td></tr>",
                            "<tr><td>France</td><td>Laurent Saint Yves</td><td>Lamborghini</td><td>Diabolo</td><td>235000.00</td><td>43050.000000</td></tr>",
                            "<tr><td>France</td><td>Le Luxe en Motion</td><td>Ferrari</td><td>F50</td><td>255950.00</td><td>42990.000000</td></tr>",
                            "<tr><td>France</td><td>Capots Reluisants S.A.</td><td>Ferrari</td><td>F50</td><td>310000.00</td><td>42900.000000</td></tr>",
                            "<tr><td>United States</td><td>Screamin' Wheels Corp</td><td>Ferrari</td><td>F40</td><td>250000.00</td><td>40950.000000</td></tr>",
                            "<tr><td>United Kingdom</td><td>Magic Motors</td><td>Ferrari</td><td>Enzo</td><td>255000.00</td><td>38300.000000</td></tr>",
                            "<tr><td>United Kingdom</td><td>Liverpool Executive Prestige Vehicles</td><td>Aston Martin</td><td>DB6</td><td>225000.00</td><td>34400.000000</td></tr>",
                            "<tr><td>United Kingdom</td><td>Snazzy Roadsters</td><td>Ferrari</td><td>355</td><td>220000.00</td><td>34350.000000</td></tr>",
                            "<tr><td>France</td><td>Capots Reluisants S.A.</td><td>Bentley</td><td>Brooklands</td><td>189500.00</td><td>33950.000000</td></tr>",
                            "<tr><td>United States</td><td>Stephany Rousso</td><td>Ferrari</td><td>F50</td><td>195000.00</td><td>31600.000000</td></tr>",
                            "<tr><td>France</td><td>Vive La Vitesse</td><td>Bugatti</td><td>Veyron</td><td>220500.00</td><td>30700.000000</td></tr>",
                            "<tr><td>United Kingdom</td><td>Mrs. Ivana Telford</td><td>Ferrari</td><td>Testarossa</td><td>195000.00</td><td>29950.000000</td></tr>",
                            "<tr><td>United Kingdom</td><td>Glittering Prize Cars Ltd</td><td>Ferrari</td><td>Testarossa</td><td>195000.00</td><td>29550.000000</td></tr>",
                            "<tr><td>United Kingdom</td><td>Alexei Tolstoi</td><td>Ferrari</td><td>355</td><td>205000.00</td><td>29050.000000</td></tr>",
                            "<tr><td>United States</td><td>Sondra Horowitz</td><td>Rolls Royce</td><td>Phantom</td><td>182500.00</td><td>27550.000000</td></tr>",
                            "<tr><td>Italy</td><td>Smooth Rocking Chrome</td><td>Ferrari</td><td>Dino</td><td>195000.00</td><td>27050.000000</td></tr>",
                            "<tr><td>United Kingdom</td><td>Honest Pete Motors</td><td>Lagonda</td><td>V12</td><td>156500.00</td><td>25850.000000</td></tr>",
                            "<tr><td>United Kingdom</td><td>Wonderland Wheels</td><td>Ferrari</td><td>Testarossa</td><td>165000.00</td><td>24900.000000</td></tr>",
                            "<tr><td>United States</td><td>Sondra Horowitz</td><td>Ferrari</td><td>355</td><td>159500.00</td><td>24800.000000</td></tr>",
                            "<tr><td>United Kingdom</td><td>London Executive Prestige Vehicles</td><td>Ferrari</td><td>355</td><td>169500.00</td><td>24250.000000</td></tr>",
                            "<tr><td>United Kingdom</td><td>Honest Pete Motors</td><td>Ferrari</td><td>355</td><td>156500.00</td><td>24000.000000</td></tr>",
                            "<tr><td>United Kingdom</td><td>Peter Smith</td><td>Rolls Royce</td><td>Wraith</td><td>162500.00</td><td>23450.000000</td></tr>",
                            "<tr><td>United Kingdom</td><td>Peter Smith</td><td>Aston Martin</td><td>Virage</td><td>125000.00</td><td>22250.000000</td></tr>",
                            "<tr><td>France</td><td>SuperSport S.A.R.L.</td><td>Rolls Royce</td><td>Silver Shadow</td><td>135000.00</td><td>21550.000000</td></tr>",
                            "<tr><td>Belgium</td><td>Diplomatic Cars</td><td>Aston Martin</td><td>Vantage</td><td>125000.00</td><td>21550.000000</td></tr>",
                            "<tr><td>France</td><td>Vive La Vitesse</td><td>Lamborghini</td><td>Diabolo</td><td>169500.00</td><td>21200.000000</td></tr>",
                            "<tr><td>United Kingdom</td><td>Convertible Dreams</td><td>Lamborghini</td><td>Countach</td><td>123500.00</td><td>21200.000000</td></tr>",
                            "<tr><td>United Kingdom</td><td>Andy Cheshire</td><td>Ferrari</td><td>Daytona</td><td>145000.00</td><td>20900.000000</td></tr>",
                            "<tr><td>United States</td><td>Jayden Jones</td><td>Aston Martin</td><td>DB6</td><td>113590.00</td><td>20718.000000</td></tr>",
                            "<tr><td>France</td><td>M. Pierre Dubois</td><td>Rolls Royce</td><td>Silver Seraph</td><td>120000.00</td><td>20325.000000</td></tr>",
                            "<tr><td>Spain</td><td>Antonio Maura</td><td>Ferrari</td><td>Dino</td><td>123500.00</td><td>20275.000000</td></tr>",
                            "<tr><td>United States</td><td>Theo Kowalski</td><td>Aston Martin</td><td>Virage</td><td>123590.00</td><td>19593.000000</td></tr>",
                            "<tr><td>Spain</td><td>Prestige Imports</td><td>Rolls Royce</td><td>Phantom</td><td>119600.00</td><td>19480.000000</td></tr>",
                            "<tr><td>France</td><td>Vive La Vitesse</td><td>Ferrari</td><td>355</td><td>155000.00</td><td>19050.000000</td></tr>",
                            "<tr><td>Italy</td><td>Ronaldo Bianco</td><td>Aston Martin</td><td>Virage</td><td>123500.00</td><td>18800.000000</td></tr>",
                            "<tr><td>United Kingdom</td><td>King Leer Cars</td><td>Ferrari</td><td>Mondial</td><td>155000.00</td><td>18707.500000</td></tr>",
                            "<tr><td>United Kingdom</td><td>ImpressTheNeighbours.Com</td><td>Aston Martin</td><td>Virage</td><td>100000.00</td><td>18000.000000</td></tr>",
                            "<tr><td>United Kingdom</td><td>King Leer Cars</td><td>Bentley</td><td>Continental</td><td>99500.00</td><td>17900.000000</td></tr>",
                            "<tr><td>Germany</td><td>Glitz</td><td>Ferrari</td><td>360</td><td>99500.00</td><td>17900.000000</td></tr>",
                            "<tr><td>United Kingdom</td><td>Honest Pete Motors</td><td>Aston Martin</td><td>Virage</td><td>125500.00</td><td>17700.000000</td></tr>",
                            "<tr><td>Spain</td><td>El Sport</td><td>Ferrari</td><td>360</td><td>128500.00</td><td>17600.000000</td></tr>",
                            "<tr><td>Spain</td><td>Antonio Maura</td><td>Ferrari</td><td>Daytona</td><td>99500.00</td><td>17150.000000</td></tr>",
                            "<tr><td>Spain</td><td>Prestige Imports</td><td>Bentley</td><td>Arnage</td><td>99950.00</td><td>17000.000000</td></tr>",
                            "<tr><td>France</td><td>Mme Anne Duport</td><td>Rolls Royce</td><td>Silver Seraph</td><td>99950.00</td><td>17000.000000</td></tr>",
                            "<tr><td>Italy</td><td>Prestissimo!</td><td>Rolls Royce</td><td>Phantom</td><td>99500.00</td><td>16910.000000</td></tr>",
                            "<tr><td>United Kingdom</td><td>Andrea Tarbuck</td><td>Aston Martin</td><td>DB9</td><td>99500.00</td><td>16910.000000</td></tr>",
                            "<tr><td>United Kingdom</td><td>Pierre Blanc</td><td>Delorean</td><td>DMC 12</td><td>99500.00</td><td>16910.000000</td></tr>",
                            "<tr><td>United Kingdom</td><td>Boris Spry</td><td>Rolls Royce</td><td>Ghost</td><td>98950.00</td><td>16800.000000</td></tr>",
                            "<tr><td>United Kingdom</td><td>Executive Motor Delight</td><td>Aston Martin</td><td>DB2</td><td>99990.00</td><td>16498.000000</td></tr>",
                            "<tr><td>Germany</td><td>Rodolph Legler</td><td>Bentley</td><td>Mulsanne</td><td>99500.00</td><td>16400.000000</td></tr>",
                            "<tr><td>France</td><td>SuperSport S.A.R.L.</td><td>Jaguar</td><td>XK120</td><td>99500.00</td><td>16400.000000</td></tr>",
                            "<tr><td>Spain</td><td>Antonio Maura</td><td>Lamborghini</td><td>400GT</td><td>145000.00</td><td>16300.000000</td></tr>",
                            "<tr><td>Germany</td><td>WunderKar</td><td>Aston Martin</td><td>DB9</td><td>99500.00</td><td>16225.000000</td></tr>",
                            "<tr><td>France</td><td>Vive La Vitesse</td><td>Bentley</td><td>Flying Spur</td><td>99500.00</td><td>16225.000000</td></tr>",
                            "<tr><td>United Kingdom</td><td>Liverpool Executive Prestige Vehicles</td><td>Bentley</td><td>Brooklands</td><td>99500.00</td><td>16225.000000</td></tr>",
                            "<tr><td>United Kingdom</td><td>London Executive Prestige Vehicles</td><td>Aston Martin</td><td>Rapide</td><td>99500.00</td><td>16225.000000</td></tr>",
                            "<tr><td>United Kingdom</td><td>Pierre Blanc</td><td>Aston Martin</td><td>Vantage</td><td>102500.00</td><td>16075.000000</td></tr>",
                            "<tr><td>United Kingdom</td><td>Alexei Tolstoi</td><td>Aston Martin</td><td>Virage</td><td>102500.00</td><td>16075.000000</td></tr>",
                            "<tr><td>United Kingdom</td><td>King Leer Cars</td><td>Rolls Royce</td><td>Corniche</td><td>89500.00</td><td>15900.000000</td></tr>",
                            "<tr><td>France</td><td>Laurent Saint Yves</td><td>Porsche</td><td>959</td><td>89500.00</td><td>14910.000000</td></tr>",
                            "<tr><td>United States</td><td>Screamin' Wheels</td><td>Bentley</td><td>Continental</td><td>89500.00</td><td>14910.000000</td></tr>",
                            "<tr><td>United States</td><td>Screamin' Wheels</td><td>Bentley</td><td>Flying Spur</td><td>92150.00</td><td>14755.000000</td></tr>",
                            "<tr><td>France</td><td>Laurent Saint Yves</td><td>Rolls Royce</td><td>Silver Seraph</td><td>139500.00</td><td>14500.000000</td></tr>",
                            "<tr><td>United Kingdom</td><td>Wonderland Wheels</td><td>Bentley</td><td>Flying Spur</td><td>80500.00</td><td>14100.000000</td></tr>",
                            "<tr><td>Italy</td><td>Smooth Rocking Chrome</td><td>Ferrari</td><td>360</td><td>135000.00</td><td>13950.000000</td></tr>",
                            "<tr><td>United Kingdom</td><td>Liverpool Executive Prestige Vehicles</td><td>Rolls Royce</td><td>Phantom</td><td>79500.00</td><td>13900.000000</td></tr>",
                            "<tr><td>United States</td><td>Jayden Jones</td><td>Jaguar</td><td>Mark X</td><td>86500.00</td><td>13625.000000</td></tr>",
                            "<tr><td>Italy</td><td>Bravissima!</td><td>Aston Martin</td><td>DB6</td><td>82590.00</td><td>13528.000000</td></tr>",
                            "<tr><td>United Kingdom</td><td>Executive Motor Delight</td><td>Bentley</td><td>Arnage</td><td>85650.00</td><td>13455.000000</td></tr>",
                            "<tr><td>United Kingdom</td><td>Eat My Exhaust Ltd</td><td>Rolls Royce</td><td>Silver Shadow</td><td>85000.00</td><td>13260.000000</td></tr>",
                            "<tr><td>Belgium</td><td>Diplomatic Cars</td><td>Aston Martin</td><td>Rapide</td><td>86500.00</td><td>13050.000000</td></tr>",
                            "<tr><td>Italy</td><td>Sport.Car</td><td>Jaguar</td><td>XK150</td><td>79500.00</td><td>12225.000000</td></tr>",
                            "<tr><td>United Kingdom</td><td>Silver HubCaps</td><td>Bentley</td><td>Flying Spur</td><td>76500.00</td><td>11800.000000</td></tr>",
                            "<tr><td>United Kingdom</td><td>Magic Motors</td><td>Ferrari</td><td>355</td><td>125950.00</td><td>11790.000000</td></tr>",
                            "<tr><td>Spain</td><td>Prestige Imports</td><td>Porsche</td><td>911</td><td>68900.00</td><td>11780.000000</td></tr>",
                            "<tr><td>France</td><td>Laurent Saint Yves</td><td>Aston Martin</td><td>DB9</td><td>77500.00</td><td>11760.000000</td></tr>",
                            "<tr><td>Spain</td><td>Prestige Imports</td><td>Bentley</td><td>Flying Spur</td><td>79500.00</td><td>11650.000000</td></tr>",
                            "<tr><td>United Kingdom</td><td>Stan Collywobble</td><td>Bentley</td><td>Arnage</td><td>76500.00</td><td>11625.000000</td></tr>",
                            "<tr><td>France</td><td>SuperSport S.A.R.L.</td><td>Bentley</td><td>Flying Spur</td><td>72500.00</td><td>11510.000000</td></tr>",
                            "<tr><td>Spain</td><td>Autos Sportivos</td><td>Citroen</td><td>Torpedo</td><td>65890.00</td><td>11178.000000</td></tr>",
                            "<tr><td>France</td><td>Laurent Saint Yves</td><td>Aston Martin</td><td>Vanquish</td><td>65500.00</td><td>11100.000000</td></tr>",
                            "<tr><td>United Kingdom</td><td>Mike Beeton</td><td>Jaguar</td><td>XK120</td><td>68500.00</td><td>10950.000000</td></tr>",
                            "<tr><td>United Kingdom</td><td>ImpressTheNeighbours.Com</td><td>Mercedes</td><td>280SL</td><td>62500.00</td><td>10700.000000</td></tr>",
                            "<tr><td>United Kingdom</td><td>Silver HubCaps</td><td>Aston Martin</td><td>DB2</td><td>62500.00</td><td>10700.000000</td></tr>",
                            "<tr><td>United Kingdom</td><td>Bling Motors</td><td>Lagonda</td><td>V12</td><td>61500.00</td><td>10500.000000</td></tr>",
                            "<tr><td>United Kingdom</td><td>Eat My Exhaust Ltd</td><td>Aston Martin</td><td>DB6</td><td>76000.00</td><td>10450.000000</td></tr>",
                            "<tr><td>France</td><td>Jacques Mitterand</td><td>Aston Martin</td><td>DB5</td><td>69500.00</td><td>10400.000000</td></tr>",
                            "<tr><td>United Kingdom</td><td>Expensive Shine</td><td>Aston Martin</td><td>DB9</td><td>61550.00</td><td>10350.000000</td></tr>",
                            "<tr><td>United States</td><td>Jason B. Wight</td><td>Aston Martin</td><td>DB9</td><td>59500.00</td><td>10350.000000</td></tr>",
                            "<tr><td>United Kingdom</td><td>Convertible Dreams</td><td>Porsche</td><td>959</td><td>66500.00</td><td>10310.000000</td></tr>",
                            "<tr><td>United Kingdom</td><td>Alexei Tolstoi</td><td>Aston Martin</td><td>DB6</td><td>69500.00</td><td>10160.000000</td></tr>",
                            "<tr><td>United Kingdom</td><td>Mr. Evan Telford</td><td>Aston Martin</td><td>Virage</td><td>72500.00</td><td>10075.000000</td></tr>",
                            "<tr><td>United States</td><td>Screamin' Wheels</td><td>Aston Martin</td><td>DB9</td><td>65450.00</td><td>9770.000000</td></tr>",
                            "<tr><td>Italy</td><td>Ronaldo Bianco</td><td>Aston Martin</td><td>DB2</td><td>61500.00</td><td>9640.000000</td></tr>",
                            "<tr><td>Germany</td><td>WunderKar</td><td>Aston Martin</td><td>Rapide</td><td>61500.00</td><td>9640.000000</td></tr>",
                            "<tr><td>France</td><td>La Bagnole de Luxe</td><td>Rolls Royce</td><td>Ghost</td><td>60500.00</td><td>9550.000000</td></tr>",
                            "<tr><td>France</td><td>M. Pierre Dubois</td><td>Aston Martin</td><td>DB9</td><td>56500.00</td><td>9500.000000</td></tr>",
                            "<tr><td>France</td><td>Vive La Vitesse</td><td>Aston Martin</td><td>Vanquish</td><td>56500.00</td><td>9500.000000</td></tr>",
                            "<tr><td>United Kingdom</td><td>Eat My Exhaust Ltd</td><td>Noble</td><td>M600</td><td>55000.00</td><td>9450.000000</td></tr>",
                            "<tr><td>Germany</td><td>Glitz</td><td>Bentley</td><td>Flying Spur</td><td>65890.00</td><td>9438.000000</td></tr>",
                            "<tr><td>United Kingdom</td><td>King Leer Cars</td><td>Aston Martin</td><td>DB9</td><td>56500.00</td><td>9340.000000</td></tr>",
                            "<tr><td>United Kingdom</td><td>Glittering Prize Cars Ltd</td><td>Aston Martin</td><td>DB6</td><td>55000.00</td><td>9290.000000</td></tr>",
                            "<tr><td>United Kingdom</td><td>Magic Motors</td><td>Aston Martin</td><td>Vanquish</td><td>55000.00</td><td>9200.000000</td></tr>",
                            "<tr><td>United Kingdom</td><td>Screamin' Wheels</td><td>Aston Martin</td><td>Rapide</td><td>55000.00</td><td>9200.000000</td></tr>",
                            "<tr><td>France</td><td>Casseroles Chromes</td><td>Porsche</td><td>959</td><td>55600.00</td><td>9160.000000</td></tr>",
                            "<tr><td>United States</td><td>Stephany Rousso</td><td>Aston Martin</td><td>Vanquish</td><td>56990.00</td><td>9128.000000</td></tr>",
                            "<tr><td>United Kingdom</td><td>Convertible Dreams</td><td>Bentley</td><td>Mulsanne</td><td>56950.00</td><td>9120.000000</td></tr>",
                            "<tr><td>United States</td><td>Theo Kowalski</td><td>Aston Martin</td><td>DB9</td><td>56900.00</td><td>8970.000000</td></tr>",
                            "<tr><td>United Kingdom</td><td>Magic Motors</td><td>Aston Martin</td><td>Vantage</td><td>66500.00</td><td>8875.000000</td></tr>",
                            "<tr><td>France</td><td>Casseroles Chromes</td><td>Porsche</td><td>911</td><td>66500.00</td><td>8875.000000</td></tr>",
                            "<tr><td>United Kingdom</td><td>Clubbing Cars</td><td>Aston Martin</td><td>DB4</td><td>56950.00</td><td>8840.000000</td></tr>",
                            "<tr><td>United Kingdom</td><td>King Leer Cars</td><td>Aston Martin</td><td>DB4</td><td>56850.00</td><td>8820.000000</td></tr>",
                            "<tr><td>United Kingdom</td><td>Stan Collywobble</td><td>Aston Martin</td><td>DB6</td><td>56000.00</td><td>8790.000000</td></tr>",
                            "<tr><td>United Kingdom</td><td>Snazzy Roadsters</td><td>Aston Martin</td><td>Virage</td><td>56500.00</td><td>8750.000000</td></tr>",
                            "<tr><td>United Kingdom</td><td>Honest Pete Motors</td><td>Aston Martin</td><td>Vanquish</td><td>56950.00</td><td>8730.000000</td></tr>",
                            "<tr><td>Spain</td><td>Antonio Maura</td><td>Mercedes</td><td>280SL</td><td>56890.00</td><td>8718.000000</td></tr>",
                            "<tr><td>Spain</td><td>YO! Speed!</td><td>Aston Martin</td><td>DB2</td><td>52500.00</td><td>8700.000000</td></tr>",
                            "<tr><td>United Kingdom</td><td>Boris Spry</td><td>Aston Martin</td><td>DB6</td><td>54500.00</td><td>8630.000000</td></tr>",
                            "<tr><td>United Kingdom</td><td>Magic Motors</td><td>Ferrari</td><td>Testarossa</td><td>65000.00</td><td>8575.000000</td></tr>",
                            "<tr><td>France</td><td>Casseroles Chromes</td><td>Jaguar</td><td>XK120</td><td>59000.00</td><td>8500.000000</td></tr>",
                            "<tr><td>Spain</td><td>Antonio Maura</td><td>Porsche</td><td>911</td><td>49500.00</td><td>8350.000000</td></tr>",
                            "<tr><td>United Kingdom</td><td>Glittering Prize Cars Ltd</td><td>Bentley</td><td>Flying Spur</td><td>56950.00</td><td>8340.000000</td></tr>",
                            "<tr><td>France</td><td>SuperSport S.A.R.L.</td><td>Aston Martin</td><td>DB6</td><td>56000.00</td><td>8285.500000</td></tr>",
                            "<tr><td>United Kingdom</td><td>Stan Collywobble</td><td>Aston Martin</td><td>Vantage</td><td>49500.00</td><td>8190.000000</td></tr>",
                            "<tr><td>United Kingdom</td><td>Silver HubCaps</td><td>Bentley</td><td>Continental</td><td>56950.00</td><td>8090.000000</td></tr>",
                            "<tr><td>France</td><td>Mme Anne Duport</td><td>Porsche</td><td>911</td><td>51200.00</td><td>7830.000000</td></tr>",
                            "<tr><td>United Kingdom</td><td>Convertible Dreams</td><td>Aston Martin</td><td>Virage</td><td>45900.00</td><td>7630.000000</td></tr>",
                            "<tr><td>United Kingdom</td><td>Steve Docherty</td><td>Aston Martin</td><td>Virage</td><td>55000.00</td><td>7590.000000</td></tr>",
                            "<tr><td>United States</td><td>Stephany Rousso</td><td>Aston Martin</td><td>DB9</td><td>55000.00</td><td>7590.000000</td></tr>",
                            "<tr><td>United Kingdom</td><td>Stan Collywobble</td><td>Aston Martin</td><td>DB9</td><td>45600.00</td><td>7570.000000</td></tr>",
                            "<tr><td>United States</td><td>Sondra Horowitz</td><td>Aston Martin</td><td>DB2</td><td>49500.00</td><td>7490.000000</td></tr>",
                            "<tr><td>Spain</td><td>YO! Speed!</td><td>Aston Martin</td><td>Vanquish</td><td>57600.00</td><td>7470.000000</td></tr>",
                            "<tr><td>Spain</td><td>Alicia Almodovar</td><td>Aston Martin</td><td>DB6</td><td>45950.00</td><td>7390.000000</td></tr>",
                            "<tr><td>United Kingdom</td><td>Snazzy Roadsters</td><td>Aston Martin</td><td>DB2</td><td>45950.00</td><td>7390.000000</td></tr>",
                            "<tr><td>Germany</td><td>Glitz</td><td>Aston Martin</td><td>DB2</td><td>45000.00</td><td>7200.000000</td></tr>",
                            "<tr><td>Italy</td><td>Prestissimo!</td><td>Aston Martin</td><td>DB5</td><td>45000.00</td><td>7200.000000</td></tr>",
                            "<tr><td>United Kingdom</td><td>Posh Vehicles Ltd</td><td>Noble</td><td>M600</td><td>45000.00</td><td>7200.000000</td></tr>",
                            "<tr><td>United Kingdom</td><td>Alexei Tolstoi</td><td>Porsche</td><td>911</td><td>45950.00</td><td>6920.000000</td></tr>",
                            "<tr><td>France</td><td>Vive La Vitesse</td><td>Aston Martin</td><td>DB6</td><td>45500.00</td><td>6875.000000</td></tr>",
                            "<tr><td>Italy</td><td>Sport.Car</td><td>Aston Martin</td><td>DB4</td><td>46900.00</td><td>6830.000000</td></tr>",
                            "<tr><td>United Kingdom</td><td>Birmingham Executive Prestige Vehicles</td><td>Aston Martin</td><td>DB5</td><td>56890.00</td><td>6714.000000</td></tr>",
                            "<tr><td>Spain</td><td>Prestige Imports</td><td>Noble</td><td>M600</td><td>45950.00</td><td>6480.000000</td></tr>",
                            "<tr><td>Spain</td><td>Alicia Almodovar</td><td>Porsche</td><td>959</td><td>39500.00</td><td>6350.000000</td></tr>",
                            "<tr><td>United States</td><td>Stephany Rousso</td><td>Aston Martin</td><td>Virage</td><td>45000.00</td><td>6340.000000</td></tr>",
                            "<tr><td>United Kingdom</td><td>Screamin' Wheels</td><td>Aston Martin</td><td>DB5</td><td>42950.00</td><td>6320.000000</td></tr>",
                            "<tr><td>United Kingdom</td><td>Pierre Blanc</td><td>Porsche</td><td>911</td><td>45950.00</td><td>6140.000000</td></tr>",
                            "<tr><td>United States</td><td>Screamin' Wheels</td><td>Mercedes</td><td>280SL</td><td>39500.00</td><td>6100.000000</td></tr>",
                            "<tr><td>United Kingdom</td><td>Honest Pete Motors</td><td>Aston Martin</td><td>DB9</td><td>46500.00</td><td>6000.000000</td></tr>",
                            "<tr><td>France</td><td>Vive La Vitesse</td><td>Mercedes</td><td>500SL</td><td>45000.00</td><td>5950.000000</td></tr>",
                            "<tr><td>Spain</td><td>Antonio Maura</td><td>Triumph</td><td>TR3A</td><td>39500.00</td><td>5880.000000</td></tr>",
                            "<tr><td>France</td><td>Laurent Saint Yves</td><td>Aston Martin</td><td>DB4</td><td>36500.00</td><td>5750.000000</td></tr>",
                            "<tr><td>United Kingdom</td><td>Beltway Prestige Driving</td><td>Aston Martin</td><td>DB6</td><td>44885.00</td><td>5677.000000</td></tr>",
                            "<tr><td>United Kingdom</td><td>Expensive Shine</td><td>Delahaye</td><td>145</td><td>39500.00</td><td>5630.000000</td></tr>",
                            "<tr><td>United Kingdom</td><td>Mr. Evan Telford</td><td>Aston Martin</td><td>DB2</td><td>39500.00</td><td>5630.000000</td></tr>",
                            "<tr><td>France</td><td>SuperSport S.A.R.L.</td><td>Porsche</td><td>924</td><td>39500.00</td><td>5350.000000</td></tr>",
                            "<tr><td>United Kingdom</td><td>Glittering Prize Cars Ltd</td><td>Jaguar</td><td>XJ12</td><td>35250.00</td><td>5250.000000</td></tr>",
                            "<tr><td>United Kingdom</td><td>Honest Pete Motors</td><td>Aston Martin</td><td>DB4</td><td>42500.00</td><td>5200.000000</td></tr>",
                            "<tr><td>United Kingdom</td><td>Peter Smith</td><td>Jaguar</td><td>XK120</td><td>35000.00</td><td>5200.000000</td></tr>",
                            "<tr><td>United Kingdom</td><td>Peter McLuckie</td><td>Porsche</td><td>911</td><td>33600.00</td><td>5170.000000</td></tr>",
                            "</table>"
                        ]
                    }
                }
            ],
            "execution_count": 4
        },
        {
            "cell_type": "markdown",
            "source": [
                " **Complex Prompt 3 :** \n",
                "\n",
                "WideWorldImporters, a global trading company, has always taken pride in the strength and reliability of its supplier network. Recognizing that long-standing relationships have been a cornerstone of their success, the company's procurement division decides to conduct an analysis. Their objective is to identify and evaluate the top suppliers with whom they have transacted for over a decade, gauging them based on their order volumes, associated product categories, average transaction amounts, and recent transaction frequency.\n",
                "\n",
                "**Database :** PrestigeCars\n",
                "\n",
                "**Tables Involved** :\n",
                "\n",
                "Purchasing.SupplierTransactions, Purchasing.PurchaseOrders,  \n",
                "Purchasing.PurchaseOrderLines, Warehouse.StockItems, Warehouse.StockItemStockGroups, Warehouse.StockGroups, Purchasing.Suppliers, Purchasing.PurchaseOrders, Purchasing.PurchaseOrderLines\n",
                "\n",
                "**CTE :** <span style=\"color: rgb(33, 33, 33); font-family: Consolas, &quot;Courier New&quot;, monospace; font-size: 12px; white-space: pre;\">ConsolidatedSales</span>\n",
                "\n",
                "**FUNCTION :** <span style=\"color: rgb(33, 33, 33); font-family: Consolas, &quot;Courier New&quot;, monospace; font-size: 12px; white-space: pre;\">dbo.fnYearDiff </span> : Compute the difference between two dates in years"
            ],
            "metadata": {
                "azdata_cell_guid": "e26c3f9c-4a6f-40d4-9e69-97bbd5fe10b8"
            },
            "attachments": {}
        },
        {
            "cell_type": "code",
            "source": [
                "-- Set the current database context to WideWorldImporters.\r\n",
                "USE WideWorldImporters;\r\n",
                "GO\r\n",
                "\r\n",
                "-- Check if the custom function named 'dbo.fnYearDiff' already exists in the database.\r\n",
                "-- If it does, we drop it to ensure our new definition is the one being used.\r\n",
                "IF EXISTS (SELECT 1 FROM sys.objects WHERE object_id = OBJECT_ID(N'dbo.fnYearDiff') AND type = 'FN')\r\n",
                "DROP FUNCTION dbo.fnYearDiff;\r\n",
                "GO\r\n",
                "\r\n",
                "-- Create a user-defined function 'dbo.fnYearDiff' to compute the difference between two dates in years.\r\n",
                "CREATE FUNCTION dbo.fnYearDiff(@StartDate DATE, @EndDate DATE)\r\n",
                "RETURNS INT \r\n",
                "AS \r\n",
                "BEGIN \r\n",
                "    -- Calculate the difference in years, considering the month and day to be precise.\r\n",
                "    RETURN (YEAR(@EndDate) - YEAR(@StartDate) + \r\n",
                "           CASE \r\n",
                "               WHEN MONTH(@EndDate) > MONTH(@StartDate) OR (MONTH(@EndDate) = MONTH(@StartDate) AND DAY(@EndDate) >= DAY(@StartDate)) THEN 1\r\n",
                "               ELSE 0\r\n",
                "           END)\r\n",
                "END;\r\n",
                "GO\r\n",
                "\r\n",
                "-- Use a Common Table Expression (CTE) named 'TopSuppliers' to determine the top 10 suppliers \r\n",
                "-- based on the total volume of items ordered.\r\n",
                "WITH TopSuppliers AS\r\n",
                "(\r\n",
                "    SELECT TOP (10)\r\n",
                "        s.SupplierId,\r\n",
                "        s.SupplierName,\r\n",
                "        -- Aggregate the total ordered items for each supplier.\r\n",
                "        SUM(pol.OrderedOuters) AS TotalOrderedItems\r\n",
                "    FROM Purchasing.Suppliers s\r\n",
                "    -- Join with PurchaseOrders and PurchaseOrderLines tables to access order details.\r\n",
                "    JOIN Purchasing.PurchaseOrders po ON s.SupplierID = po.SupplierID\r\n",
                "    JOIN Purchasing.PurchaseOrderLines pol ON po.PurchaseOrderID = pol.PurchaseOrderID\r\n",
                "    GROUP BY s.SupplierId, s.SupplierName\r\n",
                "    ORDER BY TotalOrderedItems DESC\r\n",
                ")\r\n",
                "\r\n",
                "-- The main query extracts detailed metrics for each of these top suppliers.\r\n",
                "SELECT \r\n",
                "    ts.SupplierName,\r\n",
                "    sg.StockGroupName,\r\n",
                "    -- Compute the average transaction amount for each supplier-stock group combination.\r\n",
                "    AVG(st.TransactionAmount) AS AverageTransactionAmount,\r\n",
                "    -- Count distinct transactions to get the frequency.\r\n",
                "    COUNT(DISTINCT st.SupplierTransactionID) AS RecentTransactionCount\r\n",
                "FROM \r\n",
                "    TopSuppliers ts\r\n",
                "-- Join with multiple tables to access transaction details, stock items, stock groups, etc.\r\n",
                "JOIN Purchasing.SupplierTransactions st ON ts.SupplierId = st.SupplierId\r\n",
                "JOIN Purchasing.PurchaseOrders po ON st.PurchaseOrderID = po.PurchaseOrderID\r\n",
                "JOIN Purchasing.PurchaseOrderLines pol ON po.PurchaseOrderID = pol.PurchaseOrderID\r\n",
                "JOIN Warehouse.StockItems si ON pol.StockItemID = si.StockItemID\r\n",
                "JOIN Warehouse.StockItemStockGroups sisg ON si.StockItemID = sisg.StockItemID\r\n",
                "JOIN Warehouse.StockGroups sg ON sisg.StockGroupID = sg.StockGroupID\r\n",
                "-- Use the created function to filter transactions that happened more than 10 years ago.\r\n",
                "WHERE \r\n",
                "    dbo.fnYearDiff(st.TransactionDate, GETDATE()) > 10\r\n",
                "GROUP BY \r\n",
                "    ts.SupplierName, \r\n",
                "    sg.StockGroupName\r\n",
                "-- Order results by average transaction amount in descending order.\r\n",
                "ORDER BY \r\n",
                "    AverageTransactionAmount DESC;\r\n",
                ""
            ],
            "metadata": {
                "azdata_cell_guid": "c04bfbc9-2f75-48b4-9254-d5dc461fd551",
                "language": "sql"
            },
            "outputs": [
                {
                    "output_type": "display_data",
                    "data": {
                        "text/html": "Commands completed successfully."
                    },
                    "metadata": {}
                },
                {
                    "output_type": "display_data",
                    "data": {
                        "text/html": "Commands completed successfully."
                    },
                    "metadata": {}
                },
                {
                    "output_type": "display_data",
                    "data": {
                        "text/html": "Commands completed successfully."
                    },
                    "metadata": {}
                },
                {
                    "output_type": "display_data",
                    "data": {
                        "text/html": "(15 rows affected)"
                    },
                    "metadata": {}
                },
                {
                    "output_type": "display_data",
                    "data": {
                        "text/html": "Total execution time: 00:00:00.159"
                    },
                    "metadata": {}
                },
                {
                    "output_type": "execute_result",
                    "execution_count": 35,
                    "data": {
                        "application/vnd.dataresource+json": {
                            "schema": {
                                "fields": [
                                    {
                                        "name": "SupplierName"
                                    },
                                    {
                                        "name": "StockGroupName"
                                    },
                                    {
                                        "name": "AverageTransactionAmount"
                                    },
                                    {
                                        "name": "RecentTransactionCount"
                                    }
                                ]
                            },
                            "data": [
                                {
                                    "SupplierName": "Fabrikam, Inc.",
                                    "StockGroupName": "T-Shirts",
                                    "AverageTransactionAmount": "170438.985124",
                                    "RecentTransactionCount": "248"
                                },
                                {
                                    "SupplierName": "Fabrikam, Inc.",
                                    "StockGroupName": "Computing Novelties",
                                    "AverageTransactionAmount": "170438.985124",
                                    "RecentTransactionCount": "248"
                                },
                                {
                                    "SupplierName": "Fabrikam, Inc.",
                                    "StockGroupName": "Clothing",
                                    "AverageTransactionAmount": "164988.106014",
                                    "RecentTransactionCount": "248"
                                },
                                {
                                    "SupplierName": "Litware, Inc.",
                                    "StockGroupName": "Packaging Materials",
                                    "AverageTransactionAmount": "25214.132187",
                                    "RecentTransactionCount": "212"
                                },
                                {
                                    "SupplierName": "Northwind Electric Cars",
                                    "StockGroupName": "Toys",
                                    "AverageTransactionAmount": "21569.790555",
                                    "RecentTransactionCount": "10"
                                },
                                {
                                    "SupplierName": "Northwind Electric Cars",
                                    "StockGroupName": "Novelty Items",
                                    "AverageTransactionAmount": "21569.790555",
                                    "RecentTransactionCount": "10"
                                },
                                {
                                    "SupplierName": "Fabrikam, Inc.",
                                    "StockGroupName": "Novelty Items",
                                    "AverageTransactionAmount": "16721.216250",
                                    "RecentTransactionCount": "4"
                                },
                                {
                                    "SupplierName": "Fabrikam, Inc.",
                                    "StockGroupName": "Furry Footwear",
                                    "AverageTransactionAmount": "11966.326666",
                                    "RecentTransactionCount": "7"
                                },
                                {
                                    "SupplierName": "The Phone Company",
                                    "StockGroupName": "Computing Novelties",
                                    "AverageTransactionAmount": "10876.166000",
                                    "RecentTransactionCount": "5"
                                },
                                {
                                    "SupplierName": "The Phone Company",
                                    "StockGroupName": "Novelty Items",
                                    "AverageTransactionAmount": "10876.166000",
                                    "RecentTransactionCount": "5"
                                },
                                {
                                    "SupplierName": "The Phone Company",
                                    "StockGroupName": "USB Novelties",
                                    "AverageTransactionAmount": "10020.897142",
                                    "RecentTransactionCount": "5"
                                },
                                {
                                    "SupplierName": "Graphic Design Institute",
                                    "StockGroupName": "Mugs",
                                    "AverageTransactionAmount": "1539.827142",
                                    "RecentTransactionCount": "13"
                                },
                                {
                                    "SupplierName": "Graphic Design Institute",
                                    "StockGroupName": "Novelty Items",
                                    "AverageTransactionAmount": "1539.827142",
                                    "RecentTransactionCount": "13"
                                },
                                {
                                    "SupplierName": "Graphic Design Institute",
                                    "StockGroupName": "Computing Novelties",
                                    "AverageTransactionAmount": "1539.827142",
                                    "RecentTransactionCount": "13"
                                },
                                {
                                    "SupplierName": "Contoso, Ltd.",
                                    "StockGroupName": "Toys",
                                    "AverageTransactionAmount": "360.530000",
                                    "RecentTransactionCount": "1"
                                }
                            ]
                        },
                        "text/html": "<table><tr><th>SupplierName</th><th>StockGroupName</th><th>AverageTransactionAmount</th><th>RecentTransactionCount</th></tr><tr><td>Fabrikam, Inc.</td><td>T-Shirts</td><td>170438.985124</td><td>248</td></tr><tr><td>Fabrikam, Inc.</td><td>Computing Novelties</td><td>170438.985124</td><td>248</td></tr><tr><td>Fabrikam, Inc.</td><td>Clothing</td><td>164988.106014</td><td>248</td></tr><tr><td>Litware, Inc.</td><td>Packaging Materials</td><td>25214.132187</td><td>212</td></tr><tr><td>Northwind Electric Cars</td><td>Toys</td><td>21569.790555</td><td>10</td></tr><tr><td>Northwind Electric Cars</td><td>Novelty Items</td><td>21569.790555</td><td>10</td></tr><tr><td>Fabrikam, Inc.</td><td>Novelty Items</td><td>16721.216250</td><td>4</td></tr><tr><td>Fabrikam, Inc.</td><td>Furry Footwear</td><td>11966.326666</td><td>7</td></tr><tr><td>The Phone Company</td><td>Computing Novelties</td><td>10876.166000</td><td>5</td></tr><tr><td>The Phone Company</td><td>Novelty Items</td><td>10876.166000</td><td>5</td></tr><tr><td>The Phone Company</td><td>USB Novelties</td><td>10020.897142</td><td>5</td></tr><tr><td>Graphic Design Institute</td><td>Mugs</td><td>1539.827142</td><td>13</td></tr><tr><td>Graphic Design Institute</td><td>Novelty Items</td><td>1539.827142</td><td>13</td></tr><tr><td>Graphic Design Institute</td><td>Computing Novelties</td><td>1539.827142</td><td>13</td></tr><tr><td>Contoso, Ltd.</td><td>Toys</td><td>360.530000</td><td>1</td></tr></table>"
                    },
                    "metadata": {}
                }
            ],
            "execution_count": 35
        },
        {
            "cell_type": "markdown",
            "source": [
                "**Complex Prompt 4 :**   \n",
                "Given the AdventureWorksDW2017 database, we want to analyze the performance of the resellers in various regions for the top 5 products in 2013. The aim is to determine which resellers have the highest sales amounts for these top products and to calculate a \"Loyalty Score\" for each reseller based on their years of purchase and average sales amount. Provide a list of resellers, their respective regions, the top product they've sold, their total sales amount for that product, and the calculated Loyalty Score.\n",
                "\n",
                "**Database :** AdventureWorksDW2017 \n",
                "\n",
                "**Tables Involved** :  \n",
                "dd.FactResellerSales, dd.DimProduct, dd.DimDate, \n",
                "\n",
                "dp.ProductKey, YearlyTopProducts, dbo.FactResellerSales, \n",
                "\n",
                "dbo.DimReseller, dbo.DimGeography\n",
                "\n",
                "**CTE :** YearlyTopProducts \n",
                "\n",
                "**FUNCTION :** fnCalculateLoyaltyScore"
            ],
            "metadata": {
                "azdata_cell_guid": "1887fd71-d4b3-429e-a319-96a34edc7716"
            },
            "attachments": {}
        },
        {
            "cell_type": "code",
            "source": [
                "-- Setting the database context to AdventureWorksDW2017.\r\n",
                "USE AdventureWorksDW2017;\r\n",
                "GO\r\n",
                "\r\n",
                "-- If you haven't created the function yet or dropped it earlier, you can create it again with this block.\r\n",
                "-- Create a user-defined function to compute the Loyalty Score.\r\n",
                "CREATE FUNCTION dbo.fnCalculateLoyaltyScore (@YearsOfPurchase INT, @AvgAnnualSalesAmount DECIMAL)\r\n",
                "RETURNS DECIMAL\r\n",
                "AS\r\n",
                "BEGIN\r\n",
                "    RETURN @YearsOfPurchase * @AvgAnnualSalesAmount\r\n",
                "END;\r\n",
                "GO\r\n",
                "\r\n",
                "-- Use a Common Table Expression (CTE) named 'YearlyTopProducts' \r\n",
                "-- to determine the top 5 products based on sales for the year 2013.\r\n",
                "WITH YearlyTopProducts AS\r\n",
                "(\r\n",
                "    SELECT TOP (5)\r\n",
                "        dp.ProductKey,\r\n",
                "        dp.ModelName,\r\n",
                "        SUM(frs.SalesAmount) AS AnnualSalesAmount\r\n",
                "    FROM dbo.FactResellerSales frs\r\n",
                "    JOIN dbo.DimProduct dp ON frs.ProductKey = dp.ProductKey\r\n",
                "    JOIN dbo.DimDate dd ON frs.OrderDateKey = dd.DateKey\r\n",
                "    WHERE dd.CalendarYear = 2013\r\n",
                "    GROUP BY dp.ProductKey, dp.ModelName\r\n",
                "    ORDER BY AnnualSalesAmount DESC\r\n",
                ")\r\n",
                "\r\n",
                "-- Main query to identify resellers' contribution to the sales of these top products in various regions.\r\n",
                "SELECT \r\n",
                "    dg.StateProvinceName,\r\n",
                "    dg.CountryRegionCode,\r\n",
                "    tp.ModelName AS TopProduct,\r\n",
                "    dr.ResellerName,\r\n",
                "    SUM(frs.SalesAmount) AS ResellerSalesAmount,\r\n",
                "    -- Calculate Loyalty Score using the custom function.\r\n",
                "    dbo.fnCalculateLoyaltyScore(DATEDIFF(YEAR, MIN(frs.OrderDate), GETDATE()), AVG(frs.SalesAmount)) AS LoyaltyScore\r\n",
                "FROM \r\n",
                "    YearlyTopProducts tp\r\n",
                "-- Join with other relevant tables to gather geographic and reseller details.\r\n",
                "JOIN dbo.FactResellerSales frs ON tp.ProductKey = frs.ProductKey\r\n",
                "JOIN dbo.DimReseller dr ON frs.ResellerKey = dr.ResellerKey\r\n",
                "JOIN dbo.DimGeography dg ON dr.GeographyKey = dg.GeographyKey\r\n",
                "GROUP BY \r\n",
                "    dg.StateProvinceName, \r\n",
                "    dg.CountryRegionCode, \r\n",
                "    tp.ModelName,\r\n",
                "    dr.ResellerName\r\n",
                "ORDER BY \r\n",
                "    ResellerSalesAmount DESC,\r\n",
                "    dg.StateProvinceName,\r\n",
                "    dg.CountryRegionCode;\r\n",
                ""
            ],
            "metadata": {
                "azdata_cell_guid": "d04ceb5e-427e-4c5b-a604-8d98ebcc8109",
                "language": "sql"
            },
            "outputs": [
                {
                    "output_type": "display_data",
                    "data": {
                        "text/html": "Commands completed successfully."
                    },
                    "metadata": {}
                },
                {
                    "output_type": "error",
                    "ename": "",
                    "evalue": "Msg 2714, Level 16, State 3, Procedure fnCalculateLoyaltyScore, Line 4\r\nThere is already an object named 'fnCalculateLoyaltyScore' in the database.",
                    "traceback": []
                },
                {
                    "output_type": "display_data",
                    "data": {
                        "text/html": "(313 rows affected)"
                    },
                    "metadata": {}
                },
                {
                    "output_type": "display_data",
                    "data": {
                        "text/html": "Total execution time: 00:00:00.098"
                    },
                    "metadata": {}
                },
                {
                    "output_type": "execute_result",
                    "execution_count": 56,
                    "data": {
                        "application/vnd.dataresource+json": {
                            "schema": {
                                "fields": [
                                    {
                                        "name": "StateProvinceName"
                                    },
                                    {
                                        "name": "CountryRegionCode"
                                    },
                                    {
                                        "name": "TopProduct"
                                    },
                                    {
                                        "name": "ResellerName"
                                    },
                                    {
                                        "name": "ResellerSalesAmount"
                                    },
                                    {
                                        "name": "LoyaltyScore"
                                    }
                                ]
                            },
                            "data": [
                                {
                                    "StateProvinceName": "California",
                                    "CountryRegionCode": "US",
                                    "TopProduct": "Touring-1000",
                                    "ResellerName": "Westside Plaza",
                                    "ResellerSalesAmount": "103498.4389",
                                    "LoyaltyScore": "142307"
                                },
                                {
                                    "StateProvinceName": "Loiret",
                                    "CountryRegionCode": "FR",
                                    "TopProduct": "Mountain-200",
                                    "ResellerName": "Registered Cycle Store",
                                    "ResellerSalesAmount": "89194.3274",
                                    "LoyaltyScore": "111490"
                                },
                                {
                                    "StateProvinceName": "Arizona",
                                    "CountryRegionCode": "US",
                                    "TopProduct": "Touring-1000",
                                    "ResellerName": "Rally Master Company Inc",
                                    "ResellerSalesAmount": "84801.1315",
                                    "LoyaltyScore": "116600"
                                },
                                {
                                    "StateProvinceName": "Garonne (Haute)",
                                    "CountryRegionCode": "FR",
                                    "TopProduct": "Touring-1000",
                                    "ResellerName": "Perfect Toys",
                                    "ResellerSalesAmount": "83426.2384",
                                    "LoyaltyScore": "119180"
                                },
                                {
                                    "StateProvinceName": "England",
                                    "CountryRegionCode": "GB",
                                    "TopProduct": "Mountain-200",
                                    "ResellerName": "Metropolitan Bicycle Supply",
                                    "ResellerSalesAmount": "80972.9847",
                                    "LoyaltyScore": "101220"
                                },
                                {
                                    "StateProvinceName": "Wyoming",
                                    "CountryRegionCode": "US",
                                    "TopProduct": "Mountain-200",
                                    "ResellerName": "Great Bikes",
                                    "ResellerSalesAmount": "79410.326",
                                    "LoyaltyScore": "124784"
                                },
                                {
                                    "StateProvinceName": "Colorado",
                                    "CountryRegionCode": "US",
                                    "TopProduct": "Mountain-200",
                                    "ResellerName": "Field Trip Store",
                                    "ResellerSalesAmount": "77776.9816",
                                    "LoyaltyScore": "97220"
                                },
                                {
                                    "StateProvinceName": "Alberta",
                                    "CountryRegionCode": "CA",
                                    "TopProduct": "Mountain-200",
                                    "ResellerName": "Top Sports Supply",
                                    "ResellerSalesAmount": "75734.67",
                                    "LoyaltyScore": "104137"
                                },
                                {
                                    "StateProvinceName": "Washington",
                                    "CountryRegionCode": "US",
                                    "TopProduct": "Mountain-200",
                                    "ResellerName": "Safe Cycles Shop",
                                    "ResellerSalesAmount": "73487.4158",
                                    "LoyaltyScore": "91860"
                                },
                                {
                                    "StateProvinceName": "Utah",
                                    "CountryRegionCode": "US",
                                    "TopProduct": "Mountain-200",
                                    "ResellerName": "Brakes and Gears",
                                    "ResellerSalesAmount": "73066.7441",
                                    "LoyaltyScore": "104380"
                                },
                                {
                                    "StateProvinceName": "British Columbia",
                                    "CountryRegionCode": "CA",
                                    "TopProduct": "Touring-1000",
                                    "ResellerName": "Camping and Sports Store",
                                    "ResellerSalesAmount": "72952.542",
                                    "LoyaltyScore": "91190"
                                },
                                {
                                    "StateProvinceName": "Hessen",
                                    "CountryRegionCode": "DE",
                                    "TopProduct": "Touring-1000",
                                    "ResellerName": "Global Bike Retailers",
                                    "ResellerSalesAmount": "69980.0836",
                                    "LoyaltyScore": "87480"
                                },
                                {
                                    "StateProvinceName": "England",
                                    "CountryRegionCode": "GB",
                                    "TopProduct": "Touring-1000",
                                    "ResellerName": "Metro Metals Co.",
                                    "ResellerSalesAmount": "69912.8528",
                                    "LoyaltyScore": "116520"
                                },
                                {
                                    "StateProvinceName": "California",
                                    "CountryRegionCode": "US",
                                    "TopProduct": "Road-350-W",
                                    "ResellerName": "Eastside Department Store",
                                    "ResellerSalesAmount": "69777.5015",
                                    "LoyaltyScore": "174440"
                                },
                                {
                                    "StateProvinceName": "Texas",
                                    "CountryRegionCode": "US",
                                    "TopProduct": "Mountain-200",
                                    "ResellerName": "Extraordinary Bike Works",
                                    "ResellerSalesAmount": "68849.70",
                                    "LoyaltyScore": "86060"
                                },
                                {
                                    "StateProvinceName": "Washington",
                                    "CountryRegionCode": "US",
                                    "TopProduct": "Mountain-200",
                                    "ResellerName": "Closeout Boutique",
                                    "ResellerSalesAmount": "68849.70",
                                    "LoyaltyScore": "86060"
                                },
                                {
                                    "StateProvinceName": "British Columbia",
                                    "CountryRegionCode": "CA",
                                    "TopProduct": "Mountain-200",
                                    "ResellerName": "Rural Cycle Emporium",
                                    "ResellerSalesAmount": "63920.9795",
                                    "LoyaltyScore": "79900"
                                },
                                {
                                    "StateProvinceName": "California",
                                    "CountryRegionCode": "US",
                                    "TopProduct": "Touring-1000",
                                    "ResellerName": "Extreme Riding Supplies",
                                    "ResellerSalesAmount": "62492.1965",
                                    "LoyaltyScore": "78120"
                                },
                                {
                                    "StateProvinceName": "England",
                                    "CountryRegionCode": "GB",
                                    "TopProduct": "Touring-1000",
                                    "ResellerName": "Action Bicycle Specialists",
                                    "ResellerSalesAmount": "60891.0551",
                                    "LoyaltyScore": "86990"
                                },
                                {
                                    "StateProvinceName": "Hauts de Seine",
                                    "CountryRegionCode": "FR",
                                    "TopProduct": "Touring-1000",
                                    "ResellerName": "Roadway Bicycle Supply",
                                    "ResellerSalesAmount": "59601.75",
                                    "LoyaltyScore": "74500"
                                },
                                {
                                    "StateProvinceName": "Missouri",
                                    "CountryRegionCode": "US",
                                    "TopProduct": "Touring-1000",
                                    "ResellerName": "Immense Manufacturing Company",
                                    "ResellerSalesAmount": "58266.6708",
                                    "LoyaltyScore": "83240"
                                },
                                {
                                    "StateProvinceName": "Washington",
                                    "CountryRegionCode": "US",
                                    "TopProduct": "Mountain-200",
                                    "ResellerName": "Latest Sports Equipment",
                                    "ResellerSalesAmount": "57833.748",
                                    "LoyaltyScore": "79519"
                                },
                                {
                                    "StateProvinceName": "Saarland",
                                    "CountryRegionCode": "DE",
                                    "TopProduct": "Touring-1000",
                                    "ResellerName": "Best Cycle Store",
                                    "ResellerSalesAmount": "56675.0657",
                                    "LoyaltyScore": "89056"
                                },
                                {
                                    "StateProvinceName": "Ontario",
                                    "CountryRegionCode": "CA",
                                    "TopProduct": "Mountain-200",
                                    "ResellerName": "Vigorous Exercise Company",
                                    "ResellerSalesAmount": "56456.754",
                                    "LoyaltyScore": "70570"
                                },
                                {
                                    "StateProvinceName": "Washington",
                                    "CountryRegionCode": "US",
                                    "TopProduct": "Touring-1000",
                                    "ResellerName": "Rugged Bikes",
                                    "ResellerSalesAmount": "56007.5261",
                                    "LoyaltyScore": "70010"
                                },
                                {
                                    "StateProvinceName": "Nevada",
                                    "CountryRegionCode": "US",
                                    "TopProduct": "Mountain-200",
                                    "ResellerName": "Permanent Finish Products",
                                    "ResellerSalesAmount": "55513.9721",
                                    "LoyaltyScore": "79310"
                                },
                                {
                                    "StateProvinceName": "Washington",
                                    "CountryRegionCode": "US",
                                    "TopProduct": "Touring-1000",
                                    "ResellerName": "Honest Repair Service",
                                    "ResellerSalesAmount": "51470.164",
                                    "LoyaltyScore": "80883"
                                },
                                {
                                    "StateProvinceName": "South Dakota",
                                    "CountryRegionCode": "US",
                                    "TopProduct": "Touring-1000",
                                    "ResellerName": "Sleek Bikes",
                                    "ResellerSalesAmount": "50516.536",
                                    "LoyaltyScore": "101030"
                                },
                                {
                                    "StateProvinceName": "Seine (Paris)",
                                    "CountryRegionCode": "FR",
                                    "TopProduct": "Touring-1000",
                                    "ResellerName": "Favorite Toy Distributor",
                                    "ResellerSalesAmount": "48253.5768",
                                    "LoyaltyScore": "68930"
                                },
                                {
                                    "StateProvinceName": "California",
                                    "CountryRegionCode": "US",
                                    "TopProduct": "Mountain-200",
                                    "ResellerName": "Many Bikes Store",
                                    "ResellerSalesAmount": "48194.79",
                                    "LoyaltyScore": "60240"
                                },
                                {
                                    "StateProvinceName": "Oregon",
                                    "CountryRegionCode": "US",
                                    "TopProduct": "Touring-1000",
                                    "ResellerName": "Stock Parts and Supplies",
                                    "ResellerSalesAmount": "47369.5636",
                                    "LoyaltyScore": "78950"
                                },
                                {
                                    "StateProvinceName": "Florida",
                                    "CountryRegionCode": "US",
                                    "TopProduct": "Touring-1000",
                                    "ResellerName": "Industrial Supplies",
                                    "ResellerSalesAmount": "46727.772",
                                    "LoyaltyScore": "66750"
                                },
                                {
                                    "StateProvinceName": "Hamburg",
                                    "CountryRegionCode": "DE",
                                    "TopProduct": "Touring-1000",
                                    "ResellerName": "Amalgamated Parts Shop",
                                    "ResellerSalesAmount": "46346.3208",
                                    "LoyaltyScore": "101959"
                                },
                                {
                                    "StateProvinceName": "New South Wales",
                                    "CountryRegionCode": "AU",
                                    "TopProduct": "Mountain-200",
                                    "ResellerName": "Budget Toy Store",
                                    "ResellerSalesAmount": "45440.802",
                                    "LoyaltyScore": "56800"
                                },
                                {
                                    "StateProvinceName": "Quebec",
                                    "CountryRegionCode": "CA",
                                    "TopProduct": "Mountain-200",
                                    "ResellerName": "Leather Seat Factory",
                                    "ResellerSalesAmount": "45440.802",
                                    "LoyaltyScore": "71412"
                                },
                                {
                                    "StateProvinceName": "Washington",
                                    "CountryRegionCode": "US",
                                    "TopProduct": "Mountain-200",
                                    "ResellerName": "Metro Cycle Shop",
                                    "ResellerSalesAmount": "44570.5418",
                                    "LoyaltyScore": "89140"
                                },
                                {
                                    "StateProvinceName": "Arizona",
                                    "CountryRegionCode": "US",
                                    "TopProduct": "Mountain-200",
                                    "ResellerName": "Real Sporting Goods",
                                    "ResellerSalesAmount": "44063.808",
                                    "LoyaltyScore": "96943"
                                },
                                {
                                    "StateProvinceName": "Val d'Oise",
                                    "CountryRegionCode": "FR",
                                    "TopProduct": "Mountain-200",
                                    "ResellerName": "Spa and Exercise Outfitters",
                                    "ResellerSalesAmount": "44063.808",
                                    "LoyaltyScore": "55080"
                                },
                                {
                                    "StateProvinceName": "Washington",
                                    "CountryRegionCode": "US",
                                    "TopProduct": "Touring-1000",
                                    "ResellerName": "Outstanding Cycles",
                                    "ResellerSalesAmount": "43294.7112",
                                    "LoyaltyScore": "54120"
                                },
                                {
                                    "StateProvinceName": "California",
                                    "CountryRegionCode": "US",
                                    "TopProduct": "Mountain-200",
                                    "ResellerName": "Sturdy Toys",
                                    "ResellerSalesAmount": "42686.814",
                                    "LoyaltyScore": "71140"
                                },
                                {
                                    "StateProvinceName": "Seine (Paris)",
                                    "CountryRegionCode": "FR",
                                    "TopProduct": "Road-350-W",
                                    "ResellerName": "Metropolitan Equipment",
                                    "ResellerSalesAmount": "42597.0421",
                                    "LoyaltyScore": "106490"
                                },
                                {
                                    "StateProvinceName": "Bayern",
                                    "CountryRegionCode": "DE",
                                    "TopProduct": "Touring-1000",
                                    "ResellerName": "Excellent Bikes",
                                    "ResellerSalesAmount": "42124.6096",
                                    "LoyaltyScore": "60180"
                                },
                                {
                                    "StateProvinceName": "Texas",
                                    "CountryRegionCode": "US",
                                    "TopProduct": "Mountain-200",
                                    "ResellerName": "Genial Bike Associates",
                                    "ResellerSalesAmount": "41309.82",
                                    "LoyaltyScore": "59010"
                                },
                                {
                                    "StateProvinceName": "New Hampshire",
                                    "CountryRegionCode": "US",
                                    "TopProduct": "Road-350-W",
                                    "ResellerName": "Outdoor Equipment Store",
                                    "ResellerSalesAmount": "40618.1103",
                                    "LoyaltyScore": "101550"
                                },
                                {
                                    "StateProvinceName": "Loiret",
                                    "CountryRegionCode": "FR",
                                    "TopProduct": "Road-350-W",
                                    "ResellerName": "Racing Sales and Service",
                                    "ResellerSalesAmount": "40500.5719",
                                    "LoyaltyScore": "101250"
                                },
                                {
                                    "StateProvinceName": "Quebec",
                                    "CountryRegionCode": "CA",
                                    "TopProduct": "Touring-1000",
                                    "ResellerName": "Grand Industries",
                                    "ResellerSalesAmount": "40243.1016",
                                    "LoyaltyScore": "57490"
                                },
                                {
                                    "StateProvinceName": "New South Wales",
                                    "CountryRegionCode": "AU",
                                    "TopProduct": "Touring-1000",
                                    "ResellerName": "Rich Department Store",
                                    "ResellerSalesAmount": "39957.0132",
                                    "LoyaltyScore": "66600"
                                },
                                {
                                    "StateProvinceName": "England",
                                    "CountryRegionCode": "GB",
                                    "TopProduct": "Mountain-200",
                                    "ResellerName": "Nearby Cycle Shop",
                                    "ResellerSalesAmount": "39932.826",
                                    "LoyaltyScore": "57050"
                                },
                                {
                                    "StateProvinceName": "Essonne",
                                    "CountryRegionCode": "FR",
                                    "TopProduct": "Mountain-200",
                                    "ResellerName": "Ultimate Bicycle Company",
                                    "ResellerSalesAmount": "39932.826",
                                    "LoyaltyScore": "66550"
                                },
                                {
                                    "StateProvinceName": "Texas",
                                    "CountryRegionCode": "US",
                                    "TopProduct": "Mountain-200",
                                    "ResellerName": "Chic Department Stores",
                                    "ResellerSalesAmount": "39932.826",
                                    "LoyaltyScore": "57050"
                                },
                                {
                                    "StateProvinceName": "British Columbia",
                                    "CountryRegionCode": "CA",
                                    "TopProduct": "Touring-1000",
                                    "ResellerName": "Odometers and Accessories Company",
                                    "ResellerSalesAmount": "39073.00",
                                    "LoyaltyScore": "97680"
                                },
                                {
                                    "StateProvinceName": "Georgia",
                                    "CountryRegionCode": "US",
                                    "TopProduct": "Mountain-200",
                                    "ResellerName": "Better Bike Shop",
                                    "ResellerSalesAmount": "38555.832",
                                    "LoyaltyScore": "60588"
                                },
                                {
                                    "StateProvinceName": "Missouri",
                                    "CountryRegionCode": "US",
                                    "TopProduct": "Mountain-200",
                                    "ResellerName": "World of Bikes",
                                    "ResellerSalesAmount": "38555.832",
                                    "LoyaltyScore": "55080"
                                },
                                {
                                    "StateProvinceName": "Ontario",
                                    "CountryRegionCode": "CA",
                                    "TopProduct": "Mountain-200",
                                    "ResellerName": "Up-To-Date Sports",
                                    "ResellerSalesAmount": "38555.832",
                                    "LoyaltyScore": "48190"
                                },
                                {
                                    "StateProvinceName": "Texas",
                                    "CountryRegionCode": "US",
                                    "TopProduct": "Mountain-200",
                                    "ResellerName": "The Gear Store",
                                    "ResellerSalesAmount": "38555.832",
                                    "LoyaltyScore": "48190"
                                },
                                {
                                    "StateProvinceName": "Washington",
                                    "CountryRegionCode": "US",
                                    "TopProduct": "Mountain-200",
                                    "ResellerName": "Travel Sports",
                                    "ResellerSalesAmount": "38555.832",
                                    "LoyaltyScore": "48190"
                                },
                                {
                                    "StateProvinceName": "British Columbia",
                                    "CountryRegionCode": "CA",
                                    "TopProduct": "Touring-1000",
                                    "ResellerName": "Farthest Bike Store",
                                    "ResellerSalesAmount": "37717.8947",
                                    "LoyaltyScore": "62860"
                                },
                                {
                                    "StateProvinceName": "California",
                                    "CountryRegionCode": "US",
                                    "TopProduct": "Mountain-200",
                                    "ResellerName": "Trailblazing Sports",
                                    "ResellerSalesAmount": "37178.838",
                                    "LoyaltyScore": "46470"
                                },
                                {
                                    "StateProvinceName": "Indiana",
                                    "CountryRegionCode": "US",
                                    "TopProduct": "Mountain-200",
                                    "ResellerName": "Grand Discount Store",
                                    "ResellerSalesAmount": "37178.838",
                                    "LoyaltyScore": "58421"
                                },
                                {
                                    "StateProvinceName": "North Carolina",
                                    "CountryRegionCode": "US",
                                    "TopProduct": "Mountain-200",
                                    "ResellerName": "Metro Bike Mart",
                                    "ResellerSalesAmount": "36381.0995",
                                    "LoyaltyScore": "60640"
                                },
                                {
                                    "StateProvinceName": "England",
                                    "CountryRegionCode": "GB",
                                    "TopProduct": "Mountain-200",
                                    "ResellerName": "Commerce Bicycle Specialists",
                                    "ResellerSalesAmount": "35801.844",
                                    "LoyaltyScore": "44750"
                                },
                                {
                                    "StateProvinceName": "Virginia",
                                    "CountryRegionCode": "US",
                                    "TopProduct": "Road-350-W",
                                    "ResellerName": "Sales and Supply Company",
                                    "ResellerSalesAmount": "35520.9237",
                                    "LoyaltyScore": "88800"
                                },
                                {
                                    "StateProvinceName": "England",
                                    "CountryRegionCode": "GB",
                                    "TopProduct": "Road-350-W",
                                    "ResellerName": "Riding Cycles",
                                    "ResellerSalesAmount": "35022.0233",
                                    "LoyaltyScore": "87560"
                                },
                                {
                                    "StateProvinceName": "Ontario",
                                    "CountryRegionCode": "CA",
                                    "TopProduct": "Mountain-200",
                                    "ResellerName": "Rapid Bikes",
                                    "ResellerSalesAmount": "34424.85",
                                    "LoyaltyScore": "43030"
                                },
                                {
                                    "StateProvinceName": "Texas",
                                    "CountryRegionCode": "US",
                                    "TopProduct": "Mountain-200",
                                    "ResellerName": "Paint Supply",
                                    "ResellerSalesAmount": "34424.85",
                                    "LoyaltyScore": "57370"
                                },
                                {
                                    "StateProvinceName": "Utah",
                                    "CountryRegionCode": "US",
                                    "TopProduct": "Mountain-200",
                                    "ResellerName": "Frugal Bike Shop",
                                    "ResellerSalesAmount": "34424.85",
                                    "LoyaltyScore": "57370"
                                },
                                {
                                    "StateProvinceName": "Washington",
                                    "CountryRegionCode": "US",
                                    "TopProduct": "Road-350-W",
                                    "ResellerName": "Friendly Bike Shop",
                                    "ResellerSalesAmount": "34377.0079",
                                    "LoyaltyScore": "94534"
                                },
                                {
                                    "StateProvinceName": "Oregon",
                                    "CountryRegionCode": "US",
                                    "TopProduct": "Touring-1000",
                                    "ResellerName": "Roadway Bike Emporium",
                                    "ResellerSalesAmount": "34330.608",
                                    "LoyaltyScore": "75526"
                                },
                                {
                                    "StateProvinceName": "Ontario",
                                    "CountryRegionCode": "CA",
                                    "TopProduct": "Road-350-W",
                                    "ResellerName": "Bikes and Motorbikes",
                                    "ResellerSalesAmount": "33855.3143",
                                    "LoyaltyScore": "112850"
                                },
                                {
                                    "StateProvinceName": "England",
                                    "CountryRegionCode": "GB",
                                    "TopProduct": "Mountain-200",
                                    "ResellerName": "Exhibition Showroom",
                                    "ResellerSalesAmount": "33047.856",
                                    "LoyaltyScore": "72710"
                                },
                                {
                                    "StateProvinceName": "New South Wales",
                                    "CountryRegionCode": "AU",
                                    "TopProduct": "Touring-1000",
                                    "ResellerName": "Gears and Parts Company",
                                    "ResellerSalesAmount": "32614.0776",
                                    "LoyaltyScore": "81540"
                                },
                                {
                                    "StateProvinceName": "Saarland",
                                    "CountryRegionCode": "DE",
                                    "TopProduct": "Touring-1000",
                                    "ResellerName": "Next Door Cycles",
                                    "ResellerSalesAmount": "32327.9892",
                                    "LoyaltyScore": "46180"
                                },
                                {
                                    "StateProvinceName": "British Columbia",
                                    "CountryRegionCode": "CA",
                                    "TopProduct": "Road-350-W",
                                    "ResellerName": "Retail Mall",
                                    "ResellerSalesAmount": "31638.414",
                                    "LoyaltyScore": "87010"
                                },
                                {
                                    "StateProvinceName": "Texas",
                                    "CountryRegionCode": "US",
                                    "TopProduct": "Road-350-W",
                                    "ResellerName": "Fitness Toy Store",
                                    "ResellerSalesAmount": "30993.3986",
                                    "LoyaltyScore": "85228"
                                },
                                {
                                    "StateProvinceName": "California",
                                    "CountryRegionCode": "US",
                                    "TopProduct": "Mountain-200",
                                    "ResellerName": "Resale Services",
                                    "ResellerSalesAmount": "30293.868",
                                    "LoyaltyScore": "37870"
                                },
                                {
                                    "StateProvinceName": "Saarland",
                                    "CountryRegionCode": "DE",
                                    "TopProduct": "Mountain-200",
                                    "ResellerName": "Rodeway Bike Store",
                                    "ResellerSalesAmount": "30293.868",
                                    "LoyaltyScore": "43280"
                                },
                                {
                                    "StateProvinceName": "Quebec",
                                    "CountryRegionCode": "CA",
                                    "TopProduct": "Touring-1000",
                                    "ResellerName": "Petroleum Products Distributors",
                                    "ResellerSalesAmount": "29943.9192",
                                    "LoyaltyScore": "59890"
                                },
                                {
                                    "StateProvinceName": "Texas",
                                    "CountryRegionCode": "US",
                                    "TopProduct": "Road-350-W",
                                    "ResellerName": "Advanced Bike Components",
                                    "ResellerSalesAmount": "29865.302",
                                    "LoyaltyScore": "74660"
                                },
                                {
                                    "StateProvinceName": "England",
                                    "CountryRegionCode": "GB",
                                    "TopProduct": "Road-350-W",
                                    "ResellerName": "Prosperous Tours",
                                    "ResellerSalesAmount": "28952.2106",
                                    "LoyaltyScore": "79618"
                                },
                                {
                                    "StateProvinceName": "Missouri",
                                    "CountryRegionCode": "US",
                                    "TopProduct": "Mountain-200",
                                    "ResellerName": "Valley Bicycle Specialists",
                                    "ResellerSalesAmount": "28916.874",
                                    "LoyaltyScore": "57830"
                                },
                                {
                                    "StateProvinceName": "New York",
                                    "CountryRegionCode": "US",
                                    "TopProduct": "Touring-1000",
                                    "ResellerName": "Glossy Bikes",
                                    "ResellerSalesAmount": "28704.2028",
                                    "LoyaltyScore": "35880"
                                },
                                {
                                    "StateProvinceName": "Florida",
                                    "CountryRegionCode": "US",
                                    "TopProduct": "Touring-1000",
                                    "ResellerName": "Front Runner Bikes",
                                    "ResellerSalesAmount": "28608.84",
                                    "LoyaltyScore": "57220"
                                },
                                {
                                    "StateProvinceName": "New South Wales",
                                    "CountryRegionCode": "AU",
                                    "TopProduct": "Touring-1000",
                                    "ResellerName": "Nationwide Supply",
                                    "ResellerSalesAmount": "28132.026",
                                    "LoyaltyScore": "35170"
                                },
                                {
                                    "StateProvinceName": "Quebec",
                                    "CountryRegionCode": "CA",
                                    "TopProduct": "Road-350-W",
                                    "ResellerName": "Primary Bike Distributors",
                                    "ResellerSalesAmount": "27556.038",
                                    "LoyaltyScore": "68890"
                                },
                                {
                                    "StateProvinceName": "Connecticut",
                                    "CountryRegionCode": "US",
                                    "TopProduct": "Mountain-200",
                                    "ResellerName": "Immediate Repair Shop",
                                    "ResellerSalesAmount": "27539.88",
                                    "LoyaltyScore": "60588"
                                },
                                {
                                    "StateProvinceName": "Quebec",
                                    "CountryRegionCode": "CA",
                                    "TopProduct": "Mountain-200",
                                    "ResellerName": "Family Cycle Store",
                                    "ResellerSalesAmount": "27539.88",
                                    "LoyaltyScore": "55080"
                                },
                                {
                                    "StateProvinceName": "Oregon",
                                    "CountryRegionCode": "US",
                                    "TopProduct": "Touring-1000",
                                    "ResellerName": "Another Bicycle Company",
                                    "ResellerSalesAmount": "27464.4864",
                                    "LoyaltyScore": "39230"
                                },
                                {
                                    "StateProvinceName": "Washington",
                                    "CountryRegionCode": "US",
                                    "TopProduct": "Touring-1000",
                                    "ResellerName": "Authorized Bike Sales and Rental",
                                    "ResellerSalesAmount": "25938.6816",
                                    "LoyaltyScore": "51880"
                                },
                                {
                                    "StateProvinceName": "Oregon",
                                    "CountryRegionCode": "US",
                                    "TopProduct": "Touring-1000",
                                    "ResellerName": "Sports Merchandise",
                                    "ResellerSalesAmount": "25747.956",
                                    "LoyaltyScore": "64370"
                                },
                                {
                                    "StateProvinceName": "Loir et Cher",
                                    "CountryRegionCode": "FR",
                                    "TopProduct": "Road-350-W",
                                    "ResellerName": "Getaway Inn",
                                    "ResellerSalesAmount": "25245.4132",
                                    "LoyaltyScore": "84150"
                                },
                                {
                                    "StateProvinceName": "England",
                                    "CountryRegionCode": "GB",
                                    "TopProduct": "Touring-1000",
                                    "ResellerName": "Variety Cycling",
                                    "ResellerSalesAmount": "25175.7792",
                                    "LoyaltyScore": "31470"
                                },
                                {
                                    "StateProvinceName": "New York",
                                    "CountryRegionCode": "US",
                                    "TopProduct": "Mountain-200",
                                    "ResellerName": "Fashionable Department Stores",
                                    "ResellerSalesAmount": "24785.892",
                                    "LoyaltyScore": "41310"
                                },
                                {
                                    "StateProvinceName": "Ontario",
                                    "CountryRegionCode": "CA",
                                    "TopProduct": "Mountain-200",
                                    "ResellerName": "Original Bicycle Supply Company",
                                    "ResellerSalesAmount": "24785.892",
                                    "LoyaltyScore": "38951"
                                },
                                {
                                    "StateProvinceName": "Washington",
                                    "CountryRegionCode": "US",
                                    "TopProduct": "Mountain-200",
                                    "ResellerName": "Finer Parts Shop",
                                    "ResellerSalesAmount": "24785.892",
                                    "LoyaltyScore": "61960"
                                },
                                {
                                    "StateProvinceName": "Washington",
                                    "CountryRegionCode": "US",
                                    "TopProduct": "Road-350-W",
                                    "ResellerName": "Thorough Parts and Repair Services",
                                    "ResellerSalesAmount": "24494.256",
                                    "LoyaltyScore": "61240"
                                },
                                {
                                    "StateProvinceName": "England",
                                    "CountryRegionCode": "GB",
                                    "TopProduct": "Touring-1000",
                                    "ResellerName": "Instruments and Parts Company",
                                    "ResellerSalesAmount": "24412.8768",
                                    "LoyaltyScore": "34880"
                                },
                                {
                                    "StateProvinceName": "Idaho",
                                    "CountryRegionCode": "US",
                                    "TopProduct": "Touring-1000",
                                    "ResellerName": "Vintage Sport Boutique",
                                    "ResellerSalesAmount": "24412.8768",
                                    "LoyaltyScore": "44759"
                                },
                                {
                                    "StateProvinceName": "British Columbia",
                                    "CountryRegionCode": "CA",
                                    "TopProduct": "Touring-1000",
                                    "ResellerName": "South Bike Company",
                                    "ResellerSalesAmount": "23649.9744",
                                    "LoyaltyScore": "29560"
                                },
                                {
                                    "StateProvinceName": "Washington",
                                    "CountryRegionCode": "US",
                                    "TopProduct": "Touring-1000",
                                    "ResellerName": "Running and Cycling Gear",
                                    "ResellerSalesAmount": "23649.9744",
                                    "LoyaltyScore": "29560"
                                },
                                {
                                    "StateProvinceName": "Colorado",
                                    "CountryRegionCode": "US",
                                    "TopProduct": "Mountain-200",
                                    "ResellerName": "Initial Bike Company",
                                    "ResellerSalesAmount": "23408.898",
                                    "LoyaltyScore": "39010"
                                },
                                {
                                    "StateProvinceName": "Florida",
                                    "CountryRegionCode": "US",
                                    "TopProduct": "Mountain-200",
                                    "ResellerName": "Valuable Bike Parts Company",
                                    "ResellerSalesAmount": "23408.898",
                                    "LoyaltyScore": "46820"
                                },
                                {
                                    "StateProvinceName": "Nordrhein-Westfalen",
                                    "CountryRegionCode": "DE",
                                    "TopProduct": "Mountain-200",
                                    "ResellerName": "Functional Store South",
                                    "ResellerSalesAmount": "23408.898",
                                    "LoyaltyScore": "39010"
                                },
                                {
                                    "StateProvinceName": "Texas",
                                    "CountryRegionCode": "US",
                                    "TopProduct": "Mountain-200",
                                    "ResellerName": "Satin Finish Company",
                                    "ResellerSalesAmount": "23408.898",
                                    "LoyaltyScore": "33440"
                                },
                                {
                                    "StateProvinceName": "Seine Saint Denis",
                                    "CountryRegionCode": "FR",
                                    "TopProduct": "Touring-1000",
                                    "ResellerName": "Cycles Sales and Repair",
                                    "ResellerSalesAmount": "23077.7976",
                                    "LoyaltyScore": "28850"
                                },
                                {
                                    "StateProvinceName": "Colorado",
                                    "CountryRegionCode": "US",
                                    "TopProduct": "Touring-1000",
                                    "ResellerName": "Paints and Solvents Company",
                                    "ResellerSalesAmount": "22219.5324",
                                    "LoyaltyScore": "31740"
                                },
                                {
                                    "StateProvinceName": "South Australia",
                                    "CountryRegionCode": "AU",
                                    "TopProduct": "Touring-1000",
                                    "ResellerName": "Liquidation Sales",
                                    "ResellerSalesAmount": "22219.5324",
                                    "LoyaltyScore": "31740"
                                },
                                {
                                    "StateProvinceName": "Arizona",
                                    "CountryRegionCode": "US",
                                    "TopProduct": "Mountain-200",
                                    "ResellerName": "Professional Cycle Store",
                                    "ResellerSalesAmount": "22031.904",
                                    "LoyaltyScore": "60588"
                                },
                                {
                                    "StateProvinceName": "California",
                                    "CountryRegionCode": "US",
                                    "TopProduct": "Mountain-200",
                                    "ResellerName": "Small Bike Shop",
                                    "ResellerSalesAmount": "22031.904",
                                    "LoyaltyScore": "27540"
                                },
                                {
                                    "StateProvinceName": "Florida",
                                    "CountryRegionCode": "US",
                                    "TopProduct": "Mountain-200",
                                    "ResellerName": "Worthwhile Activity Store",
                                    "ResellerSalesAmount": "22031.904",
                                    "LoyaltyScore": "34617"
                                },
                                {
                                    "StateProvinceName": "Georgia",
                                    "CountryRegionCode": "US",
                                    "TopProduct": "Mountain-200",
                                    "ResellerName": "Noiseless Gear Company",
                                    "ResellerSalesAmount": "22031.904",
                                    "LoyaltyScore": "36720"
                                },
                                {
                                    "StateProvinceName": "Ontario",
                                    "CountryRegionCode": "CA",
                                    "TopProduct": "Mountain-200",
                                    "ResellerName": "Standard Bikes",
                                    "ResellerSalesAmount": "22031.904",
                                    "LoyaltyScore": "44060"
                                },
                                {
                                    "StateProvinceName": "Quebec",
                                    "CountryRegionCode": "CA",
                                    "TopProduct": "Mountain-200",
                                    "ResellerName": "Red Bicycle Company",
                                    "ResellerSalesAmount": "22031.904",
                                    "LoyaltyScore": "48466"
                                },
                                {
                                    "StateProvinceName": "Utah",
                                    "CountryRegionCode": "US",
                                    "TopProduct": "Mountain-200",
                                    "ResellerName": "Fashionable Bikes and Accessories",
                                    "ResellerSalesAmount": "22031.904",
                                    "LoyaltyScore": "73440"
                                },
                                {
                                    "StateProvinceName": "Connecticut",
                                    "CountryRegionCode": "US",
                                    "TopProduct": "Road-350-W",
                                    "ResellerName": "Lease-a-Bike Shop",
                                    "ResellerSalesAmount": "21861.8039",
                                    "LoyaltyScore": "54650"
                                },
                                {
                                    "StateProvinceName": "New York",
                                    "CountryRegionCode": "US",
                                    "TopProduct": "Touring-1000",
                                    "ResellerName": "Small Bike Accessories Shop",
                                    "ResellerSalesAmount": "21551.9928",
                                    "LoyaltyScore": "26940"
                                },
                                {
                                    "StateProvinceName": "Ohio",
                                    "CountryRegionCode": "US",
                                    "TopProduct": "Touring-1000",
                                    "ResellerName": "Fourth Bike Store",
                                    "ResellerSalesAmount": "21456.63",
                                    "LoyaltyScore": "30650"
                                },
                                {
                                    "StateProvinceName": "Hauts de Seine",
                                    "CountryRegionCode": "FR",
                                    "TopProduct": "Road-350-W",
                                    "ResellerName": "Steel Inc.",
                                    "ResellerSalesAmount": "21432.474",
                                    "LoyaltyScore": "78584"
                                },
                                {
                                    "StateProvinceName": "New York",
                                    "CountryRegionCode": "US",
                                    "TopProduct": "Road-350-W",
                                    "ResellerName": "Larger Cycle Shop",
                                    "ResellerSalesAmount": "21432.474",
                                    "LoyaltyScore": "53580"
                                },
                                {
                                    "StateProvinceName": "Ohio",
                                    "CountryRegionCode": "US",
                                    "TopProduct": "Road-350-W",
                                    "ResellerName": "Guaranteed Sales and Service",
                                    "ResellerSalesAmount": "21432.474",
                                    "LoyaltyScore": "53580"
                                },
                                {
                                    "StateProvinceName": "Texas",
                                    "CountryRegionCode": "US",
                                    "TopProduct": "Road-350-W",
                                    "ResellerName": "Totes & Baskets Company",
                                    "ResellerSalesAmount": "21432.474",
                                    "LoyaltyScore": "53580"
                                },
                                {
                                    "StateProvinceName": "Saarland",
                                    "CountryRegionCode": "DE",
                                    "TopProduct": "Touring-1000",
                                    "ResellerName": "Pedaling Components",
                                    "ResellerSalesAmount": "20789.0904",
                                    "LoyaltyScore": "25990"
                                },
                                {
                                    "StateProvinceName": "Alberta",
                                    "CountryRegionCode": "CA",
                                    "TopProduct": "Mountain-200",
                                    "ResellerName": "Finer Cycle Shop",
                                    "ResellerSalesAmount": "20654.91",
                                    "LoyaltyScore": "41310"
                                },
                                {
                                    "StateProvinceName": "California",
                                    "CountryRegionCode": "US",
                                    "TopProduct": "Mountain-200",
                                    "ResellerName": "Bike World",
                                    "ResellerSalesAmount": "20654.91",
                                    "LoyaltyScore": "34420"
                                },
                                {
                                    "StateProvinceName": "Loir et Cher",
                                    "CountryRegionCode": "FR",
                                    "TopProduct": "Mountain-200",
                                    "ResellerName": "Metro Sports Equipment",
                                    "ResellerSalesAmount": "20654.91",
                                    "LoyaltyScore": "34420"
                                },
                                {
                                    "StateProvinceName": "Missouri",
                                    "CountryRegionCode": "US",
                                    "TopProduct": "Mountain-200",
                                    "ResellerName": "Bicycle Lines Distributors",
                                    "ResellerSalesAmount": "20654.91",
                                    "LoyaltyScore": "34420"
                                },
                                {
                                    "StateProvinceName": "California",
                                    "CountryRegionCode": "US",
                                    "TopProduct": "Touring-1000",
                                    "ResellerName": "Technical Parts Manufacturing",
                                    "ResellerSalesAmount": "20121.5508",
                                    "LoyaltyScore": "31625"
                                },
                                {
                                    "StateProvinceName": "Seine Saint Denis",
                                    "CountryRegionCode": "FR",
                                    "TopProduct": "Touring-1000",
                                    "ResellerName": "The Bike Outlet",
                                    "ResellerSalesAmount": "19454.0112",
                                    "LoyaltyScore": "24320"
                                },
                                {
                                    "StateProvinceName": "California",
                                    "CountryRegionCode": "US",
                                    "TopProduct": "Road-350-W",
                                    "ResellerName": "Number 1 Supply",
                                    "ResellerSalesAmount": "19391.286",
                                    "LoyaltyScore": "48480"
                                },
                                {
                                    "StateProvinceName": "New Mexico",
                                    "CountryRegionCode": "US",
                                    "TopProduct": "Road-350-W",
                                    "ResellerName": "Bike Dealers Association",
                                    "ResellerSalesAmount": "19391.286",
                                    "LoyaltyScore": "53328"
                                },
                                {
                                    "StateProvinceName": "Ontario",
                                    "CountryRegionCode": "CA",
                                    "TopProduct": "Road-350-W",
                                    "ResellerName": "Health Spa, Limited",
                                    "ResellerSalesAmount": "19391.286",
                                    "LoyaltyScore": "71104"
                                },
                                {
                                    "StateProvinceName": "New South Wales",
                                    "CountryRegionCode": "AU",
                                    "TopProduct": "Touring-1000",
                                    "ResellerName": "Popular Bike Lines",
                                    "ResellerSalesAmount": "19358.6484",
                                    "LoyaltyScore": "24200"
                                },
                                {
                                    "StateProvinceName": "Victoria",
                                    "CountryRegionCode": "AU",
                                    "TopProduct": "Touring-1000",
                                    "ResellerName": "List Price Catalog Company",
                                    "ResellerSalesAmount": "19358.6484",
                                    "LoyaltyScore": "24200"
                                },
                                {
                                    "StateProvinceName": "Alberta",
                                    "CountryRegionCode": "CA",
                                    "TopProduct": "Mountain-200",
                                    "ResellerName": "Twelfth Bike Store",
                                    "ResellerSalesAmount": "19277.916",
                                    "LoyaltyScore": "27540"
                                },
                                {
                                    "StateProvinceName": "Georgia",
                                    "CountryRegionCode": "US",
                                    "TopProduct": "Mountain-200",
                                    "ResellerName": "Elemental Sporting Goods",
                                    "ResellerSalesAmount": "19277.916",
                                    "LoyaltyScore": "38560"
                                },
                                {
                                    "StateProvinceName": "New Hampshire",
                                    "CountryRegionCode": "US",
                                    "TopProduct": "Mountain-200",
                                    "ResellerName": "Casual Bicycle Store",
                                    "ResellerSalesAmount": "19277.916",
                                    "LoyaltyScore": "53009"
                                },
                                {
                                    "StateProvinceName": "Seine (Paris)",
                                    "CountryRegionCode": "FR",
                                    "TopProduct": "Mountain-200",
                                    "ResellerName": "Spare Parts Co.",
                                    "ResellerSalesAmount": "19277.916",
                                    "LoyaltyScore": "42416"
                                },
                                {
                                    "StateProvinceName": "California",
                                    "CountryRegionCode": "US",
                                    "TopProduct": "Touring-1000",
                                    "ResellerName": "Eighth Bike Store",
                                    "ResellerSalesAmount": "18786.4716",
                                    "LoyaltyScore": "31310"
                                },
                                {
                                    "StateProvinceName": "Michigan",
                                    "CountryRegionCode": "US",
                                    "TopProduct": "Road-350-W",
                                    "ResellerName": "Exhilarating Cycles",
                                    "ResellerSalesAmount": "18746.2706",
                                    "LoyaltyScore": "103103"
                                },
                                {
                                    "StateProvinceName": "New South Wales",
                                    "CountryRegionCode": "AU",
                                    "TopProduct": "Touring-1000",
                                    "ResellerName": "Helmets and Cycles",
                                    "ResellerSalesAmount": "18595.746",
                                    "LoyaltyScore": "29227"
                                },
                                {
                                    "StateProvinceName": "Oregon",
                                    "CountryRegionCode": "US",
                                    "TopProduct": "Touring-1000",
                                    "ResellerName": "Kickstands and Accessories Company",
                                    "ResellerSalesAmount": "18595.746",
                                    "LoyaltyScore": "46490"
                                },
                                {
                                    "StateProvinceName": "Washington",
                                    "CountryRegionCode": "US",
                                    "TopProduct": "Road-350-W",
                                    "ResellerName": "Official Parts Shop",
                                    "ResellerSalesAmount": "18370.692",
                                    "LoyaltyScore": "50523"
                                },
                                {
                                    "StateProvinceName": "Victoria",
                                    "CountryRegionCode": "AU",
                                    "TopProduct": "Touring-1000",
                                    "ResellerName": "Fast Bike Works",
                                    "ResellerSalesAmount": "18023.5692",
                                    "LoyaltyScore": "25750"
                                },
                                {
                                    "StateProvinceName": "England",
                                    "CountryRegionCode": "GB",
                                    "TopProduct": "Touring-1000",
                                    "ResellerName": "Cycles Wholesaler & Mfg.",
                                    "ResellerSalesAmount": "17928.2064",
                                    "LoyaltyScore": "28171"
                                },
                                {
                                    "StateProvinceName": "Ontario",
                                    "CountryRegionCode": "CA",
                                    "TopProduct": "Mountain-200",
                                    "ResellerName": "Famous Bike Shop",
                                    "ResellerSalesAmount": "17900.922",
                                    "LoyaltyScore": "35800"
                                },
                                {
                                    "StateProvinceName": "Florida",
                                    "CountryRegionCode": "US",
                                    "TopProduct": "Road-350-W",
                                    "ResellerName": "Rally Day Mall",
                                    "ResellerSalesAmount": "17350.098",
                                    "LoyaltyScore": "47718"
                                },
                                {
                                    "StateProvinceName": "Tennessee",
                                    "CountryRegionCode": "US",
                                    "TopProduct": "Road-350-W",
                                    "ResellerName": "Excellent Riding Supplies",
                                    "ResellerSalesAmount": "17350.098",
                                    "LoyaltyScore": "43380"
                                },
                                {
                                    "StateProvinceName": "Connecticut",
                                    "CountryRegionCode": "US",
                                    "TopProduct": "Touring-1000",
                                    "ResellerName": "Mountain Bike Store",
                                    "ResellerSalesAmount": "17165.304",
                                    "LoyaltyScore": "31471"
                                },
                                {
                                    "StateProvinceName": "Utah",
                                    "CountryRegionCode": "US",
                                    "TopProduct": "Touring-1000",
                                    "ResellerName": "Utilitarian Sporting Goods",
                                    "ResellerSalesAmount": "17165.304",
                                    "LoyaltyScore": "85830"
                                },
                                {
                                    "StateProvinceName": "Michigan",
                                    "CountryRegionCode": "US",
                                    "TopProduct": "Mountain-200",
                                    "ResellerName": "Catalog Store",
                                    "ResellerSalesAmount": "16523.928",
                                    "LoyaltyScore": "33050"
                                },
                                {
                                    "StateProvinceName": "Ontario",
                                    "CountryRegionCode": "CA",
                                    "TopProduct": "Mountain-200",
                                    "ResellerName": "Greater Bike Store",
                                    "ResellerSalesAmount": "16523.928",
                                    "LoyaltyScore": "33050"
                                },
                                {
                                    "StateProvinceName": "Kentucky",
                                    "CountryRegionCode": "US",
                                    "TopProduct": "Touring-1000",
                                    "ResellerName": "Blue-Ribbon Bike Company",
                                    "ResellerSalesAmount": "16497.7644",
                                    "LoyaltyScore": "20620"
                                },
                                {
                                    "StateProvinceName": "New Mexico",
                                    "CountryRegionCode": "US",
                                    "TopProduct": "Touring-1000",
                                    "ResellerName": "Thrilling Bike Tours",
                                    "ResellerSalesAmount": "16497.7644",
                                    "LoyaltyScore": "20620"
                                },
                                {
                                    "StateProvinceName": "Quebec",
                                    "CountryRegionCode": "CA",
                                    "TopProduct": "Touring-1000",
                                    "ResellerName": "Quick Parts and Service",
                                    "ResellerSalesAmount": "16497.7644",
                                    "LoyaltyScore": "20620"
                                },
                                {
                                    "StateProvinceName": "Texas",
                                    "CountryRegionCode": "US",
                                    "TopProduct": "Touring-1000",
                                    "ResellerName": "Maintenance and Repair for Bicycles",
                                    "ResellerSalesAmount": "16497.7644",
                                    "LoyaltyScore": "23570"
                                },
                                {
                                    "StateProvinceName": "Ontario",
                                    "CountryRegionCode": "CA",
                                    "TopProduct": "Road-350-W",
                                    "ResellerName": "Custom Accessories Company",
                                    "ResellerSalesAmount": "16329.504",
                                    "LoyaltyScore": "40820"
                                },
                                {
                                    "StateProvinceName": "California",
                                    "CountryRegionCode": "US",
                                    "TopProduct": "Touring-1000",
                                    "ResellerName": "Locks Company",
                                    "ResellerSalesAmount": "15925.5876",
                                    "LoyaltyScore": "26540"
                                },
                                {
                                    "StateProvinceName": "California",
                                    "CountryRegionCode": "US",
                                    "TopProduct": "Touring-1000",
                                    "ResellerName": "Rural Department Store",
                                    "ResellerSalesAmount": "15830.2248",
                                    "LoyaltyScore": "29018"
                                },
                                {
                                    "StateProvinceName": "Colorado",
                                    "CountryRegionCode": "US",
                                    "TopProduct": "Road-350-W",
                                    "ResellerName": "Futuristic Sport Distributors",
                                    "ResellerSalesAmount": "15630.7373",
                                    "LoyaltyScore": "85965"
                                },
                                {
                                    "StateProvinceName": "Brunswick",
                                    "CountryRegionCode": "CA",
                                    "TopProduct": "Road-350-W",
                                    "ResellerName": "Citywide Service and Repair",
                                    "ResellerSalesAmount": "15308.91",
                                    "LoyaltyScore": "56133"
                                },
                                {
                                    "StateProvinceName": "California",
                                    "CountryRegionCode": "US",
                                    "TopProduct": "Road-350-W",
                                    "ResellerName": "Mountain Bike Center",
                                    "ResellerSalesAmount": "15308.91",
                                    "LoyaltyScore": "38270"
                                },
                                {
                                    "StateProvinceName": "Michigan",
                                    "CountryRegionCode": "US",
                                    "TopProduct": "Road-350-W",
                                    "ResellerName": "Grand Sport Boutique",
                                    "ResellerSalesAmount": "15308.91",
                                    "LoyaltyScore": "38270"
                                },
                                {
                                    "StateProvinceName": "Missouri",
                                    "CountryRegionCode": "US",
                                    "TopProduct": "Road-350-W",
                                    "ResellerName": "First Bike Store",
                                    "ResellerSalesAmount": "15308.91",
                                    "LoyaltyScore": "42097"
                                },
                                {
                                    "StateProvinceName": "England",
                                    "CountryRegionCode": "GB",
                                    "TopProduct": "Mountain-200",
                                    "ResellerName": "Oils and Fluids Warehouse",
                                    "ResellerSalesAmount": "15146.934",
                                    "LoyaltyScore": "30290"
                                },
                                {
                                    "StateProvinceName": "Hauts de Seine",
                                    "CountryRegionCode": "FR",
                                    "TopProduct": "Mountain-200",
                                    "ResellerName": "Racing Tours",
                                    "ResellerSalesAmount": "15146.934",
                                    "LoyaltyScore": "30290"
                                },
                                {
                                    "StateProvinceName": "Illinois",
                                    "CountryRegionCode": "US",
                                    "TopProduct": "Mountain-200",
                                    "ResellerName": "This Area Sporting Goods",
                                    "ResellerSalesAmount": "15146.934",
                                    "LoyaltyScore": "33319"
                                },
                                {
                                    "StateProvinceName": "Nevada",
                                    "CountryRegionCode": "US",
                                    "TopProduct": "Mountain-200",
                                    "ResellerName": "Brightwork Company",
                                    "ResellerSalesAmount": "15146.934",
                                    "LoyaltyScore": "30290"
                                },
                                {
                                    "StateProvinceName": "South Carolina",
                                    "CountryRegionCode": "US",
                                    "TopProduct": "Mountain-200",
                                    "ResellerName": "Consolidated Sales",
                                    "ResellerSalesAmount": "15146.934",
                                    "LoyaltyScore": "37870"
                                },
                                {
                                    "StateProvinceName": "Washington",
                                    "CountryRegionCode": "US",
                                    "TopProduct": "Touring-1000",
                                    "ResellerName": "Fitness Supplies",
                                    "ResellerSalesAmount": "15067.3224",
                                    "LoyaltyScore": "21520"
                                },
                                {
                                    "StateProvinceName": "New South Wales",
                                    "CountryRegionCode": "AU",
                                    "TopProduct": "Touring-1000",
                                    "ResellerName": "Bike Part Wholesalers",
                                    "ResellerSalesAmount": "14399.7828",
                                    "LoyaltyScore": "20570"
                                },
                                {
                                    "StateProvinceName": "Quebec",
                                    "CountryRegionCode": "CA",
                                    "TopProduct": "Touring-1000",
                                    "ResellerName": "Workout Emporium",
                                    "ResellerSalesAmount": "14399.7828",
                                    "LoyaltyScore": "24000"
                                },
                                {
                                    "StateProvinceName": "Victoria",
                                    "CountryRegionCode": "AU",
                                    "TopProduct": "Touring-1000",
                                    "ResellerName": "Cycle Parts and Accessories",
                                    "ResellerSalesAmount": "14399.7828",
                                    "LoyaltyScore": "24000"
                                },
                                {
                                    "StateProvinceName": "Nordrhein-Westfalen",
                                    "CountryRegionCode": "DE",
                                    "TopProduct": "Touring-1000",
                                    "ResellerName": "West Wind Distributors",
                                    "ResellerSalesAmount": "14304.42",
                                    "LoyaltyScore": "28610"
                                },
                                {
                                    "StateProvinceName": "California",
                                    "CountryRegionCode": "US",
                                    "TopProduct": "Road-350-W",
                                    "ResellerName": "Area Bike Accessories",
                                    "ResellerSalesAmount": "14288.316",
                                    "LoyaltyScore": "39292"
                                },
                                {
                                    "StateProvinceName": "Maine",
                                    "CountryRegionCode": "US",
                                    "TopProduct": "Road-350-W",
                                    "ResellerName": "Wheelsets Storehouse",
                                    "ResellerSalesAmount": "14288.316",
                                    "LoyaltyScore": "47630"
                                },
                                {
                                    "StateProvinceName": "Ohio",
                                    "CountryRegionCode": "US",
                                    "TopProduct": "Road-350-W",
                                    "ResellerName": "Riverside Company",
                                    "ResellerSalesAmount": "14288.316",
                                    "LoyaltyScore": "35720"
                                },
                                {
                                    "StateProvinceName": "Ontario",
                                    "CountryRegionCode": "CA",
                                    "TopProduct": "Road-350-W",
                                    "ResellerName": "Rewarding Activities Company",
                                    "ResellerSalesAmount": "14288.316",
                                    "LoyaltyScore": "47630"
                                },
                                {
                                    "StateProvinceName": "Michigan",
                                    "CountryRegionCode": "US",
                                    "TopProduct": "Mountain-200",
                                    "ResellerName": "Fabrikam Inc., West",
                                    "ResellerSalesAmount": "13769.94",
                                    "LoyaltyScore": "45900"
                                },
                                {
                                    "StateProvinceName": "Missouri",
                                    "CountryRegionCode": "US",
                                    "TopProduct": "Touring-1000",
                                    "ResellerName": "Best o' Bikes",
                                    "ResellerSalesAmount": "13636.8804",
                                    "LoyaltyScore": "25003"
                                },
                                {
                                    "StateProvinceName": "Ontario",
                                    "CountryRegionCode": "CA",
                                    "TopProduct": "Touring-1000",
                                    "ResellerName": "Fasteners & Bolts Outlet",
                                    "ResellerSalesAmount": "13636.8804",
                                    "LoyaltyScore": "19480"
                                },
                                {
                                    "StateProvinceName": "Colorado",
                                    "CountryRegionCode": "US",
                                    "TopProduct": "Road-350-W",
                                    "ResellerName": "Reasonable Bicycle Sales",
                                    "ResellerSalesAmount": "13267.722",
                                    "LoyaltyScore": "33170"
                                },
                                {
                                    "StateProvinceName": "New Hampshire",
                                    "CountryRegionCode": "US",
                                    "TopProduct": "Road-350-W",
                                    "ResellerName": "Seventh Bike Store",
                                    "ResellerSalesAmount": "13267.722",
                                    "LoyaltyScore": "36487"
                                },
                                {
                                    "StateProvinceName": "England",
                                    "CountryRegionCode": "GB",
                                    "TopProduct": "Touring-1000",
                                    "ResellerName": "Exceptional Cycle Services",
                                    "ResellerSalesAmount": "12969.3408",
                                    "LoyaltyScore": "20383"
                                },
                                {
                                    "StateProvinceName": "Saarland",
                                    "CountryRegionCode": "DE",
                                    "TopProduct": "Touring-1000",
                                    "ResellerName": "Educational Services",
                                    "ResellerSalesAmount": "12873.978",
                                    "LoyaltyScore": "25750"
                                },
                                {
                                    "StateProvinceName": "British Columbia",
                                    "CountryRegionCode": "CA",
                                    "TopProduct": "Mountain-200",
                                    "ResellerName": "Valley Toy Store",
                                    "ResellerSalesAmount": "12392.946",
                                    "LoyaltyScore": "41310"
                                },
                                {
                                    "StateProvinceName": "England",
                                    "CountryRegionCode": "GB",
                                    "TopProduct": "Mountain-200",
                                    "ResellerName": "Closest Bicycle Store",
                                    "ResellerSalesAmount": "12392.946",
                                    "LoyaltyScore": "30980"
                                },
                                {
                                    "StateProvinceName": "Pas de Calais",
                                    "CountryRegionCode": "FR",
                                    "TopProduct": "Mountain-200",
                                    "ResellerName": "Community Department Stores",
                                    "ResellerSalesAmount": "12392.946",
                                    "LoyaltyScore": "30980"
                                },
                                {
                                    "StateProvinceName": "Quebec",
                                    "CountryRegionCode": "CA",
                                    "TopProduct": "Mountain-200",
                                    "ResellerName": "One Bike Company",
                                    "ResellerSalesAmount": "12392.946",
                                    "LoyaltyScore": "41310"
                                },
                                {
                                    "StateProvinceName": "Virginia",
                                    "CountryRegionCode": "US",
                                    "TopProduct": "Mountain-200",
                                    "ResellerName": "Trusted Catalog Store",
                                    "ResellerSalesAmount": "12392.946",
                                    "LoyaltyScore": "45441"
                                },
                                {
                                    "StateProvinceName": "Washington",
                                    "CountryRegionCode": "US",
                                    "TopProduct": "Mountain-200",
                                    "ResellerName": "Moderately-Priced Bikes Store",
                                    "ResellerSalesAmount": "12392.946",
                                    "LoyaltyScore": "24790"
                                },
                                {
                                    "StateProvinceName": "Nord",
                                    "CountryRegionCode": "FR",
                                    "TopProduct": "Touring-1000",
                                    "ResellerName": "Finer Sporting Goods",
                                    "ResellerSalesAmount": "12301.8012",
                                    "LoyaltyScore": "24600"
                                },
                                {
                                    "StateProvinceName": "California",
                                    "CountryRegionCode": "US",
                                    "TopProduct": "Road-350-W",
                                    "ResellerName": "Metropolitan Sports Supply",
                                    "ResellerSalesAmount": "12247.128",
                                    "LoyaltyScore": "30620"
                                },
                                {
                                    "StateProvinceName": "England",
                                    "CountryRegionCode": "GB",
                                    "TopProduct": "Road-350-W",
                                    "ResellerName": "Bulk Discount Store",
                                    "ResellerSalesAmount": "12247.128",
                                    "LoyaltyScore": "30620"
                                },
                                {
                                    "StateProvinceName": "Michigan",
                                    "CountryRegionCode": "US",
                                    "TopProduct": "Road-350-W",
                                    "ResellerName": "Small Cycle Store",
                                    "ResellerSalesAmount": "12247.128",
                                    "LoyaltyScore": "33682"
                                },
                                {
                                    "StateProvinceName": "Ontario",
                                    "CountryRegionCode": "CA",
                                    "TopProduct": "Road-350-W",
                                    "ResellerName": "Corner Bicycle Supply",
                                    "ResellerSalesAmount": "12247.128",
                                    "LoyaltyScore": "30620"
                                },
                                {
                                    "StateProvinceName": "North Carolina",
                                    "CountryRegionCode": "US",
                                    "TopProduct": "Touring-1000",
                                    "ResellerName": "Exchange Parts Inc.",
                                    "ResellerSalesAmount": "12206.4384",
                                    "LoyaltyScore": "20340"
                                },
                                {
                                    "StateProvinceName": "Victoria",
                                    "CountryRegionCode": "AU",
                                    "TopProduct": "Touring-1000",
                                    "ResellerName": "Helpful Sales and Repair Service",
                                    "ResellerSalesAmount": "12206.4384",
                                    "LoyaltyScore": "20340"
                                },
                                {
                                    "StateProvinceName": "Quebec",
                                    "CountryRegionCode": "CA",
                                    "TopProduct": "Touring-1000",
                                    "ResellerName": "Machines & Cycles Store",
                                    "ResellerSalesAmount": "11538.8988",
                                    "LoyaltyScore": "21153"
                                },
                                {
                                    "StateProvinceName": "Connecticut",
                                    "CountryRegionCode": "US",
                                    "TopProduct": "Road-350-W",
                                    "ResellerName": "Painters Bicycle Specialists",
                                    "ResellerSalesAmount": "11226.534",
                                    "LoyaltyScore": "28070"
                                },
                                {
                                    "StateProvinceName": "Quebec",
                                    "CountryRegionCode": "CA",
                                    "TopProduct": "Road-350-W",
                                    "ResellerName": "General Supplies",
                                    "ResellerSalesAmount": "11226.534",
                                    "LoyaltyScore": "28070"
                                },
                                {
                                    "StateProvinceName": "Texas",
                                    "CountryRegionCode": "US",
                                    "TopProduct": "Road-350-W",
                                    "ResellerName": "Grease and Oil Products Company",
                                    "ResellerSalesAmount": "11226.534",
                                    "LoyaltyScore": "41162"
                                },
                                {
                                    "StateProvinceName": "Florida",
                                    "CountryRegionCode": "US",
                                    "TopProduct": "Mountain-200",
                                    "ResellerName": "Superlative Bikes",
                                    "ResellerSalesAmount": "11015.952",
                                    "LoyaltyScore": "22030"
                                },
                                {
                                    "StateProvinceName": "Manitoba",
                                    "CountryRegionCode": "CA",
                                    "TopProduct": "Mountain-200",
                                    "ResellerName": "Two-Wheeled Transit Company",
                                    "ResellerSalesAmount": "11015.952",
                                    "LoyaltyScore": "27540"
                                },
                                {
                                    "StateProvinceName": "Seine (Paris)",
                                    "CountryRegionCode": "FR",
                                    "TopProduct": "Mountain-200",
                                    "ResellerName": "Impervious Paint Company",
                                    "ResellerSalesAmount": "11015.952",
                                    "LoyaltyScore": "22030"
                                },
                                {
                                    "StateProvinceName": "California",
                                    "CountryRegionCode": "US",
                                    "TopProduct": "Touring-1000",
                                    "ResellerName": "Professional Sales and Service",
                                    "ResellerSalesAmount": "10871.3592",
                                    "LoyaltyScore": "18120"
                                },
                                {
                                    "StateProvinceName": "New South Wales",
                                    "CountryRegionCode": "AU",
                                    "TopProduct": "Touring-1000",
                                    "ResellerName": "Sensible Sports",
                                    "ResellerSalesAmount": "10775.9964",
                                    "LoyaltyScore": "16929"
                                },
                                {
                                    "StateProvinceName": "California",
                                    "CountryRegionCode": "US",
                                    "TopProduct": "Road-350-W",
                                    "ResellerName": "Distant Inn",
                                    "ResellerSalesAmount": "10205.94",
                                    "LoyaltyScore": "37422"
                                },
                                {
                                    "StateProvinceName": "California",
                                    "CountryRegionCode": "US",
                                    "TopProduct": "Road-350-W",
                                    "ResellerName": "Farthermost Bike Shop",
                                    "ResellerSalesAmount": "10205.94",
                                    "LoyaltyScore": "34020"
                                },
                                {
                                    "StateProvinceName": "Nevada",
                                    "CountryRegionCode": "US",
                                    "TopProduct": "Road-350-W",
                                    "ResellerName": "Remarkable Bike Store",
                                    "ResellerSalesAmount": "10205.94",
                                    "LoyaltyScore": "25510"
                                },
                                {
                                    "StateProvinceName": "Ontario",
                                    "CountryRegionCode": "CA",
                                    "TopProduct": "Road-350-W",
                                    "ResellerName": "General Bike Corporation",
                                    "ResellerSalesAmount": "10205.94",
                                    "LoyaltyScore": "28061"
                                },
                                {
                                    "StateProvinceName": "Seine (Paris)",
                                    "CountryRegionCode": "FR",
                                    "TopProduct": "Road-350-W",
                                    "ResellerName": "Pretty Bikes and Toys",
                                    "ResellerSalesAmount": "10205.94",
                                    "LoyaltyScore": "25510"
                                },
                                {
                                    "StateProvinceName": "Seine (Paris)",
                                    "CountryRegionCode": "FR",
                                    "TopProduct": "Road-350-W",
                                    "ResellerName": "Rural Mountain Bike Mart",
                                    "ResellerSalesAmount": "10205.94",
                                    "LoyaltyScore": "25510"
                                },
                                {
                                    "StateProvinceName": "Washington",
                                    "CountryRegionCode": "US",
                                    "TopProduct": "Road-350-W",
                                    "ResellerName": "Mail-Order Outlet",
                                    "ResellerSalesAmount": "10205.94",
                                    "LoyaltyScore": "34020"
                                },
                                {
                                    "StateProvinceName": "Alabama",
                                    "CountryRegionCode": "US",
                                    "TopProduct": "Touring-1000",
                                    "ResellerName": "Games and Sport Supply Company",
                                    "ResellerSalesAmount": "10013.094",
                                    "LoyaltyScore": "25030"
                                },
                                {
                                    "StateProvinceName": "California",
                                    "CountryRegionCode": "US",
                                    "TopProduct": "Touring-1000",
                                    "ResellerName": "Vale Riding Supplies",
                                    "ResellerSalesAmount": "10013.094",
                                    "LoyaltyScore": "22033"
                                },
                                {
                                    "StateProvinceName": "North Carolina",
                                    "CountryRegionCode": "US",
                                    "TopProduct": "Mountain-200",
                                    "ResellerName": "Lubricant and Grease Suppliers",
                                    "ResellerSalesAmount": "9638.958",
                                    "LoyaltyScore": "24100"
                                },
                                {
                                    "StateProvinceName": "Ontario",
                                    "CountryRegionCode": "CA",
                                    "TopProduct": "Mountain-200",
                                    "ResellerName": "Low Price Cycles",
                                    "ResellerSalesAmount": "9638.958",
                                    "LoyaltyScore": "32130"
                                },
                                {
                                    "StateProvinceName": "Ontario",
                                    "CountryRegionCode": "CA",
                                    "TopProduct": "Mountain-200",
                                    "ResellerName": "Bikes for Kids and Adults",
                                    "ResellerSalesAmount": "9638.958",
                                    "LoyaltyScore": "26510"
                                },
                                {
                                    "StateProvinceName": "Wisconsin",
                                    "CountryRegionCode": "US",
                                    "TopProduct": "Mountain-200",
                                    "ResellerName": "Friendly Neighborhood Bikes",
                                    "ResellerSalesAmount": "9638.958",
                                    "LoyaltyScore": "24100"
                                },
                                {
                                    "StateProvinceName": "Arizona",
                                    "CountryRegionCode": "US",
                                    "TopProduct": "Touring-1000",
                                    "ResellerName": "Fun Toys and Bikes",
                                    "ResellerSalesAmount": "9440.9172",
                                    "LoyaltyScore": "18880"
                                },
                                {
                                    "StateProvinceName": "California",
                                    "CountryRegionCode": "US",
                                    "TopProduct": "Touring-1000",
                                    "ResellerName": "Engineered Bike Systems",
                                    "ResellerSalesAmount": "9345.5544",
                                    "LoyaltyScore": "23360"
                                },
                                {
                                    "StateProvinceName": "Hamburg",
                                    "CountryRegionCode": "DE",
                                    "TopProduct": "Touring-1000",
                                    "ResellerName": "Bicycle Exporters",
                                    "ResellerSalesAmount": "9345.5544",
                                    "LoyaltyScore": "17138"
                                },
                                {
                                    "StateProvinceName": "British Columbia",
                                    "CountryRegionCode": "CA",
                                    "TopProduct": "Road-350-W",
                                    "ResellerName": "Finer Riding Supplies",
                                    "ResellerSalesAmount": "9185.346",
                                    "LoyaltyScore": "22960"
                                },
                                {
                                    "StateProvinceName": "California",
                                    "CountryRegionCode": "US",
                                    "TopProduct": "Road-350-W",
                                    "ResellerName": "Highway Bike Shop",
                                    "ResellerSalesAmount": "9185.346",
                                    "LoyaltyScore": "22960"
                                },
                                {
                                    "StateProvinceName": "Florida",
                                    "CountryRegionCode": "US",
                                    "TopProduct": "Road-350-W",
                                    "ResellerName": "Sunny Place Bikes",
                                    "ResellerSalesAmount": "9185.346",
                                    "LoyaltyScore": "22960"
                                },
                                {
                                    "StateProvinceName": "Georgia",
                                    "CountryRegionCode": "US",
                                    "TopProduct": "Road-350-W",
                                    "ResellerName": "Eighty Toy Stores",
                                    "ResellerSalesAmount": "9185.346",
                                    "LoyaltyScore": "22960"
                                },
                                {
                                    "StateProvinceName": "Oregon",
                                    "CountryRegionCode": "US",
                                    "TopProduct": "Road-350-W",
                                    "ResellerName": "Successful Sales Company",
                                    "ResellerSalesAmount": "9185.346",
                                    "LoyaltyScore": "22960"
                                },
                                {
                                    "StateProvinceName": "Tennessee",
                                    "CountryRegionCode": "US",
                                    "TopProduct": "Road-350-W",
                                    "ResellerName": "Activity Center",
                                    "ResellerSalesAmount": "9185.346",
                                    "LoyaltyScore": "25256"
                                },
                                {
                                    "StateProvinceName": "Texas",
                                    "CountryRegionCode": "US",
                                    "TopProduct": "Road-350-W",
                                    "ResellerName": "Modular Cycle Systems",
                                    "ResellerSalesAmount": "9185.346",
                                    "LoyaltyScore": "25256"
                                },
                                {
                                    "StateProvinceName": "Texas",
                                    "CountryRegionCode": "US",
                                    "TopProduct": "Road-350-W",
                                    "ResellerName": "Swift Cycles",
                                    "ResellerSalesAmount": "9185.346",
                                    "LoyaltyScore": "22960"
                                },
                                {
                                    "StateProvinceName": "Florida",
                                    "CountryRegionCode": "US",
                                    "TopProduct": "Touring-1000",
                                    "ResellerName": "Racks and Security Systems",
                                    "ResellerSalesAmount": "8678.0148",
                                    "LoyaltyScore": "21700"
                                },
                                {
                                    "StateProvinceName": "Florida",
                                    "CountryRegionCode": "US",
                                    "TopProduct": "Touring-1000",
                                    "ResellerName": "Exemplary Cycles",
                                    "ResellerSalesAmount": "8582.652",
                                    "LoyaltyScore": "21460"
                                },
                                {
                                    "StateProvinceName": "New South Wales",
                                    "CountryRegionCode": "AU",
                                    "TopProduct": "Touring-1000",
                                    "ResellerName": "Uncompromising Quality Co",
                                    "ResellerSalesAmount": "8582.652",
                                    "LoyaltyScore": "17170"
                                },
                                {
                                    "StateProvinceName": "Queensland",
                                    "CountryRegionCode": "AU",
                                    "TopProduct": "Touring-1000",
                                    "ResellerName": "Plastic Products Manufacturers",
                                    "ResellerSalesAmount": "8582.652",
                                    "LoyaltyScore": "17170"
                                },
                                {
                                    "StateProvinceName": "England",
                                    "CountryRegionCode": "GB",
                                    "TopProduct": "Mountain-200",
                                    "ResellerName": "Express Bike Services",
                                    "ResellerSalesAmount": "8261.964",
                                    "LoyaltyScore": "16520"
                                },
                                {
                                    "StateProvinceName": "Ontario",
                                    "CountryRegionCode": "CA",
                                    "TopProduct": "Mountain-200",
                                    "ResellerName": "Metro Manufacturing",
                                    "ResellerSalesAmount": "8261.964",
                                    "LoyaltyScore": "41310"
                                },
                                {
                                    "StateProvinceName": "Washington",
                                    "CountryRegionCode": "US",
                                    "TopProduct": "Mountain-200",
                                    "ResellerName": "Riding Associates",
                                    "ResellerSalesAmount": "8261.964",
                                    "LoyaltyScore": "20650"
                                },
                                {
                                    "StateProvinceName": "Illinois",
                                    "CountryRegionCode": "US",
                                    "TopProduct": "Road-350-W",
                                    "ResellerName": "Gift and Toy Store",
                                    "ResellerSalesAmount": "8164.752",
                                    "LoyaltyScore": "27220"
                                },
                                {
                                    "StateProvinceName": "Kentucky",
                                    "CountryRegionCode": "US",
                                    "TopProduct": "Road-350-W",
                                    "ResellerName": "Leading Bike Distributors",
                                    "ResellerSalesAmount": "8164.752",
                                    "LoyaltyScore": "20410"
                                },
                                {
                                    "StateProvinceName": "Michigan",
                                    "CountryRegionCode": "US",
                                    "TopProduct": "Road-350-W",
                                    "ResellerName": "Work and Play Association",
                                    "ResellerSalesAmount": "8164.752",
                                    "LoyaltyScore": "40820"
                                },
                                {
                                    "StateProvinceName": "Oregon",
                                    "CountryRegionCode": "US",
                                    "TopProduct": "Road-350-W",
                                    "ResellerName": "Latest Accessories Sales",
                                    "ResellerSalesAmount": "8164.752",
                                    "LoyaltyScore": "27220"
                                },
                                {
                                    "StateProvinceName": "Oregon",
                                    "CountryRegionCode": "US",
                                    "TopProduct": "Road-350-W",
                                    "ResellerName": "Sellers of Cycles",
                                    "ResellerSalesAmount": "8164.752",
                                    "LoyaltyScore": "20410"
                                },
                                {
                                    "StateProvinceName": "Texas",
                                    "CountryRegionCode": "US",
                                    "TopProduct": "Road-350-W",
                                    "ResellerName": "Sheet Metal Manufacturing",
                                    "ResellerSalesAmount": "8164.752",
                                    "LoyaltyScore": "20410"
                                },
                                {
                                    "StateProvinceName": "Wisconsin",
                                    "CountryRegionCode": "US",
                                    "TopProduct": "Road-350-W",
                                    "ResellerName": "Good Bike Shop",
                                    "ResellerSalesAmount": "8164.752",
                                    "LoyaltyScore": "20410"
                                },
                                {
                                    "StateProvinceName": "Ontario",
                                    "CountryRegionCode": "CA",
                                    "TopProduct": "Touring-1000",
                                    "ResellerName": "Metal Clearing House",
                                    "ResellerSalesAmount": "7915.1124",
                                    "LoyaltyScore": "15830"
                                },
                                {
                                    "StateProvinceName": "Florida",
                                    "CountryRegionCode": "US",
                                    "TopProduct": "Touring-1000",
                                    "ResellerName": "Quitting Business Distributors",
                                    "ResellerSalesAmount": "7152.21",
                                    "LoyaltyScore": "17880"
                                },
                                {
                                    "StateProvinceName": "Brandenburg",
                                    "CountryRegionCode": "DE",
                                    "TopProduct": "Road-350-W",
                                    "ResellerName": "Fabrikam Inc., East",
                                    "ResellerSalesAmount": "7144.158",
                                    "LoyaltyScore": "19646"
                                },
                                {
                                    "StateProvinceName": "California",
                                    "CountryRegionCode": "US",
                                    "TopProduct": "Road-350-W",
                                    "ResellerName": "Quantity Discounts",
                                    "ResellerSalesAmount": "7144.158",
                                    "LoyaltyScore": "23810"
                                },
                                {
                                    "StateProvinceName": "North Carolina",
                                    "CountryRegionCode": "US",
                                    "TopProduct": "Road-350-W",
                                    "ResellerName": "New and Used Bicycles",
                                    "ResellerSalesAmount": "7144.158",
                                    "LoyaltyScore": "17860"
                                },
                                {
                                    "StateProvinceName": "North Carolina",
                                    "CountryRegionCode": "US",
                                    "TopProduct": "Road-350-W",
                                    "ResellerName": "Underglaze and Finish Company",
                                    "ResellerSalesAmount": "7144.158",
                                    "LoyaltyScore": "17860"
                                },
                                {
                                    "StateProvinceName": "Ontario",
                                    "CountryRegionCode": "CA",
                                    "TopProduct": "Road-350-W",
                                    "ResellerName": "Consolidated Messenger",
                                    "ResellerSalesAmount": "7144.158",
                                    "LoyaltyScore": "17860"
                                },
                                {
                                    "StateProvinceName": "Tennessee",
                                    "CountryRegionCode": "US",
                                    "TopProduct": "Road-350-W",
                                    "ResellerName": "Manufacturers Inc",
                                    "ResellerSalesAmount": "7144.158",
                                    "LoyaltyScore": "23810"
                                },
                                {
                                    "StateProvinceName": "England",
                                    "CountryRegionCode": "GB",
                                    "TopProduct": "Mountain-200",
                                    "ResellerName": "Tachometers and Accessories",
                                    "ResellerSalesAmount": "6884.97",
                                    "LoyaltyScore": "34420"
                                },
                                {
                                    "StateProvinceName": "Hauts de Seine",
                                    "CountryRegionCode": "FR",
                                    "TopProduct": "Mountain-200",
                                    "ResellerName": "Finished Parts Shop",
                                    "ResellerSalesAmount": "6884.97",
                                    "LoyaltyScore": "22950"
                                },
                                {
                                    "StateProvinceName": "New South Wales",
                                    "CountryRegionCode": "AU",
                                    "TopProduct": "Mountain-200",
                                    "ResellerName": "Inexpensive Parts Shop",
                                    "ResellerSalesAmount": "6884.97",
                                    "LoyaltyScore": "22950"
                                },
                                {
                                    "StateProvinceName": "New York",
                                    "CountryRegionCode": "US",
                                    "TopProduct": "Mountain-200",
                                    "ResellerName": "Traditional Department Stores",
                                    "ResellerSalesAmount": "6884.97",
                                    "LoyaltyScore": "68850"
                                },
                                {
                                    "StateProvinceName": "Washington",
                                    "CountryRegionCode": "US",
                                    "TopProduct": "Mountain-200",
                                    "ResellerName": "Progressive Sports",
                                    "ResellerSalesAmount": "6884.97",
                                    "LoyaltyScore": "22950"
                                },
                                {
                                    "StateProvinceName": "Wyoming",
                                    "CountryRegionCode": "US",
                                    "TopProduct": "Mountain-200",
                                    "ResellerName": "First Department Stores",
                                    "ResellerSalesAmount": "6884.97",
                                    "LoyaltyScore": "22950"
                                },
                                {
                                    "StateProvinceName": "New South Wales",
                                    "CountryRegionCode": "AU",
                                    "TopProduct": "Touring-1000",
                                    "ResellerName": "First Supplies",
                                    "ResellerSalesAmount": "6484.6704",
                                    "LoyaltyScore": "17831"
                                },
                                {
                                    "StateProvinceName": "Seine et Marne",
                                    "CountryRegionCode": "FR",
                                    "TopProduct": "Touring-1000",
                                    "ResellerName": "Racing Supply Distributors",
                                    "ResellerSalesAmount": "6484.6704",
                                    "LoyaltyScore": "12970"
                                },
                                {
                                    "StateProvinceName": "California",
                                    "CountryRegionCode": "US",
                                    "TopProduct": "Road-350-W",
                                    "ResellerName": "The Bicycle Accessories Company",
                                    "ResellerSalesAmount": "6123.564",
                                    "LoyaltyScore": "20410"
                                },
                                {
                                    "StateProvinceName": "California",
                                    "CountryRegionCode": "US",
                                    "TopProduct": "Road-350-W",
                                    "ResellerName": "Discount Tours",
                                    "ResellerSalesAmount": "6123.564",
                                    "LoyaltyScore": "20410"
                                },
                                {
                                    "StateProvinceName": "England",
                                    "CountryRegionCode": "GB",
                                    "TopProduct": "Road-350-W",
                                    "ResellerName": "Cycling Goods",
                                    "ResellerSalesAmount": "6123.564",
                                    "LoyaltyScore": "20410"
                                },
                                {
                                    "StateProvinceName": "Hamburg",
                                    "CountryRegionCode": "DE",
                                    "TopProduct": "Road-350-W",
                                    "ResellerName": "North Bike Company",
                                    "ResellerSalesAmount": "6123.564",
                                    "LoyaltyScore": "15310"
                                },
                                {
                                    "StateProvinceName": "Minnesota",
                                    "CountryRegionCode": "US",
                                    "TopProduct": "Road-350-W",
                                    "ResellerName": "Riders Company",
                                    "ResellerSalesAmount": "6123.564",
                                    "LoyaltyScore": "20410"
                                },
                                {
                                    "StateProvinceName": "Quebec",
                                    "CountryRegionCode": "CA",
                                    "TopProduct": "Road-350-W",
                                    "ResellerName": "Remote Bicycle Specialists",
                                    "ResellerSalesAmount": "6123.564",
                                    "LoyaltyScore": "20410"
                                },
                                {
                                    "StateProvinceName": "Massachusetts",
                                    "CountryRegionCode": "US",
                                    "TopProduct": "Touring-1000",
                                    "ResellerName": "Incomparable Bicycle Store",
                                    "ResellerSalesAmount": "5721.768",
                                    "LoyaltyScore": "19070"
                                },
                                {
                                    "StateProvinceName": "Connecticut",
                                    "CountryRegionCode": "US",
                                    "TopProduct": "Mountain-200",
                                    "ResellerName": "Classic Cycle Store",
                                    "ResellerSalesAmount": "5507.976",
                                    "LoyaltyScore": "30294"
                                },
                                {
                                    "StateProvinceName": "Missouri",
                                    "CountryRegionCode": "US",
                                    "TopProduct": "Mountain-200",
                                    "ResellerName": "Responsible Bike Dealers",
                                    "ResellerSalesAmount": "5507.976",
                                    "LoyaltyScore": "18360"
                                },
                                {
                                    "StateProvinceName": "New South Wales",
                                    "CountryRegionCode": "AU",
                                    "TopProduct": "Mountain-200",
                                    "ResellerName": "Rental Gallery",
                                    "ResellerSalesAmount": "5507.976",
                                    "LoyaltyScore": "18360"
                                },
                                {
                                    "StateProvinceName": "Ontario",
                                    "CountryRegionCode": "CA",
                                    "TopProduct": "Mountain-200",
                                    "ResellerName": "Tire Exchange",
                                    "ResellerSalesAmount": "5507.976",
                                    "LoyaltyScore": "18360"
                                },
                                {
                                    "StateProvinceName": "Washington",
                                    "CountryRegionCode": "US",
                                    "TopProduct": "Mountain-200",
                                    "ResellerName": "Central Discount Store",
                                    "ResellerSalesAmount": "5507.976",
                                    "LoyaltyScore": "18360"
                                },
                                {
                                    "StateProvinceName": "Arizona",
                                    "CountryRegionCode": "US",
                                    "TopProduct": "Road-350-W",
                                    "ResellerName": "First Cycle Store",
                                    "ResellerSalesAmount": "5102.97",
                                    "LoyaltyScore": "17010"
                                },
                                {
                                    "StateProvinceName": "British Columbia",
                                    "CountryRegionCode": "CA",
                                    "TopProduct": "Road-350-W",
                                    "ResellerName": "Sundry Sporting Goods",
                                    "ResellerSalesAmount": "5102.97",
                                    "LoyaltyScore": "17010"
                                },
                                {
                                    "StateProvinceName": "California",
                                    "CountryRegionCode": "US",
                                    "TopProduct": "Road-350-W",
                                    "ResellerName": "Mechanical Products Ltd.",
                                    "ResellerSalesAmount": "5102.97",
                                    "LoyaltyScore": "17010"
                                },
                                {
                                    "StateProvinceName": "California",
                                    "CountryRegionCode": "US",
                                    "TopProduct": "Road-350-W",
                                    "ResellerName": "Sports Products Store",
                                    "ResellerSalesAmount": "5102.97",
                                    "LoyaltyScore": "25510"
                                },
                                {
                                    "StateProvinceName": "England",
                                    "CountryRegionCode": "GB",
                                    "TopProduct": "Road-350-W",
                                    "ResellerName": "Number One Bike Co.",
                                    "ResellerSalesAmount": "5102.97",
                                    "LoyaltyScore": "18711"
                                },
                                {
                                    "StateProvinceName": "England",
                                    "CountryRegionCode": "GB",
                                    "TopProduct": "Road-350-W",
                                    "ResellerName": "Uttermost Bike Shop",
                                    "ResellerSalesAmount": "5102.97",
                                    "LoyaltyScore": "17010"
                                },
                                {
                                    "StateProvinceName": "Ohio",
                                    "CountryRegionCode": "US",
                                    "TopProduct": "Road-350-W",
                                    "ResellerName": "Bike Boutique",
                                    "ResellerSalesAmount": "5102.97",
                                    "LoyaltyScore": "17010"
                                },
                                {
                                    "StateProvinceName": "Ontario",
                                    "CountryRegionCode": "CA",
                                    "TopProduct": "Road-350-W",
                                    "ResellerName": "Gasless Cycle Shop",
                                    "ResellerSalesAmount": "5102.97",
                                    "LoyaltyScore": "17010"
                                },
                                {
                                    "StateProvinceName": "Ontario",
                                    "CountryRegionCode": "CA",
                                    "TopProduct": "Road-350-W",
                                    "ResellerName": "Urban Sports Emporium",
                                    "ResellerSalesAmount": "5102.97",
                                    "LoyaltyScore": "17010"
                                },
                                {
                                    "StateProvinceName": "Oregon",
                                    "CountryRegionCode": "US",
                                    "TopProduct": "Road-350-W",
                                    "ResellerName": "Convenient Sales and Service",
                                    "ResellerSalesAmount": "5102.97",
                                    "LoyaltyScore": "25510"
                                },
                                {
                                    "StateProvinceName": "Texas",
                                    "CountryRegionCode": "US",
                                    "TopProduct": "Touring-1000",
                                    "ResellerName": "Town Industries",
                                    "ResellerSalesAmount": "4291.326",
                                    "LoyaltyScore": "42910"
                                },
                                {
                                    "StateProvinceName": "Texas",
                                    "CountryRegionCode": "US",
                                    "TopProduct": "Touring-1000",
                                    "ResellerName": "Unsurpassed Bikes",
                                    "ResellerSalesAmount": "4291.326",
                                    "LoyaltyScore": "21460"
                                },
                                {
                                    "StateProvinceName": "Alberta",
                                    "CountryRegionCode": "CA",
                                    "TopProduct": "Mountain-200",
                                    "ResellerName": "General Department Stores",
                                    "ResellerSalesAmount": "4130.982",
                                    "LoyaltyScore": "41310"
                                },
                                {
                                    "StateProvinceName": "British Columbia",
                                    "CountryRegionCode": "CA",
                                    "TopProduct": "Mountain-200",
                                    "ResellerName": "Certified Sports Supply",
                                    "ResellerSalesAmount": "4130.982",
                                    "LoyaltyScore": "41310"
                                },
                                {
                                    "StateProvinceName": "Michigan",
                                    "CountryRegionCode": "US",
                                    "TopProduct": "Mountain-200",
                                    "ResellerName": "Metro Bike Works",
                                    "ResellerSalesAmount": "4130.982",
                                    "LoyaltyScore": "41310"
                                },
                                {
                                    "StateProvinceName": "Val de Marne",
                                    "CountryRegionCode": "FR",
                                    "TopProduct": "Mountain-200",
                                    "ResellerName": "Major Amusement Company",
                                    "ResellerSalesAmount": "4130.982",
                                    "LoyaltyScore": "13770"
                                },
                                {
                                    "StateProvinceName": "California",
                                    "CountryRegionCode": "US",
                                    "TopProduct": "Road-350-W",
                                    "ResellerName": "Metropolitan Manufacturing",
                                    "ResellerSalesAmount": "4082.376",
                                    "LoyaltyScore": "20410"
                                },
                                {
                                    "StateProvinceName": "New York",
                                    "CountryRegionCode": "US",
                                    "TopProduct": "Road-350-W",
                                    "ResellerName": "Famous Bike Sales and Service",
                                    "ResellerSalesAmount": "4082.376",
                                    "LoyaltyScore": "13610"
                                },
                                {
                                    "StateProvinceName": "Nordrhein-Westfalen",
                                    "CountryRegionCode": "DE",
                                    "TopProduct": "Road-350-W",
                                    "ResellerName": "Nearby Bike Mall",
                                    "ResellerSalesAmount": "3061.782",
                                    "LoyaltyScore": "30620"
                                },
                                {
                                    "StateProvinceName": "Washington",
                                    "CountryRegionCode": "US",
                                    "TopProduct": "Road-350-W",
                                    "ResellerName": "Certified Bicycle Supply",
                                    "ResellerSalesAmount": "3061.782",
                                    "LoyaltyScore": "15310"
                                },
                                {
                                    "StateProvinceName": "Arizona",
                                    "CountryRegionCode": "US",
                                    "TopProduct": "Touring-1000",
                                    "ResellerName": "Systematic Sales",
                                    "ResellerSalesAmount": "2860.884",
                                    "LoyaltyScore": "28610"
                                },
                                {
                                    "StateProvinceName": "Montana",
                                    "CountryRegionCode": "US",
                                    "TopProduct": "Touring-1000",
                                    "ResellerName": "Finer Mart",
                                    "ResellerSalesAmount": "2860.884",
                                    "LoyaltyScore": "14300"
                                },
                                {
                                    "StateProvinceName": "New South Wales",
                                    "CountryRegionCode": "AU",
                                    "TopProduct": "Touring-1000",
                                    "ResellerName": "Jumbo Bikes",
                                    "ResellerSalesAmount": "2860.884",
                                    "LoyaltyScore": "14300"
                                },
                                {
                                    "StateProvinceName": "Florida",
                                    "CountryRegionCode": "US",
                                    "TopProduct": "Mountain-200",
                                    "ResellerName": "Unified Sports Company",
                                    "ResellerSalesAmount": "2753.988",
                                    "LoyaltyScore": "27540"
                                },
                                {
                                    "StateProvinceName": "Hamburg",
                                    "CountryRegionCode": "DE",
                                    "TopProduct": "Mountain-200",
                                    "ResellerName": "Capital Riding Supplies",
                                    "ResellerSalesAmount": "2753.988",
                                    "LoyaltyScore": "27540"
                                },
                                {
                                    "StateProvinceName": "Hauts de Seine",
                                    "CountryRegionCode": "FR",
                                    "TopProduct": "Mountain-200",
                                    "ResellerName": "Recreation Toy Store",
                                    "ResellerSalesAmount": "2753.988",
                                    "LoyaltyScore": "27540"
                                },
                                {
                                    "StateProvinceName": "Ontario",
                                    "CountryRegionCode": "CA",
                                    "TopProduct": "Mountain-200",
                                    "ResellerName": "Vinyl and Plastic Goods Corporation",
                                    "ResellerSalesAmount": "2753.988",
                                    "LoyaltyScore": "27540"
                                },
                                {
                                    "StateProvinceName": "Oregon",
                                    "CountryRegionCode": "US",
                                    "TopProduct": "Mountain-200",
                                    "ResellerName": "Superior Hardware Distributors",
                                    "ResellerSalesAmount": "2753.988",
                                    "LoyaltyScore": "27540"
                                },
                                {
                                    "StateProvinceName": "Tennessee",
                                    "CountryRegionCode": "US",
                                    "TopProduct": "Mountain-200",
                                    "ResellerName": "Tandem Bicycle Store",
                                    "ResellerSalesAmount": "2753.988",
                                    "LoyaltyScore": "27540"
                                },
                                {
                                    "StateProvinceName": "Florida",
                                    "CountryRegionCode": "US",
                                    "TopProduct": "Road-350-W",
                                    "ResellerName": "Bike Goods",
                                    "ResellerSalesAmount": "2041.188",
                                    "LoyaltyScore": "20410"
                                },
                                {
                                    "StateProvinceName": "Quebec",
                                    "CountryRegionCode": "CA",
                                    "TopProduct": "Road-350-W",
                                    "ResellerName": "Metal Processing Company",
                                    "ResellerSalesAmount": "2041.188",
                                    "LoyaltyScore": "10210"
                                },
                                {
                                    "StateProvinceName": "California",
                                    "CountryRegionCode": "US",
                                    "TopProduct": "Touring-1000",
                                    "ResellerName": "Trendy Department Stores",
                                    "ResellerSalesAmount": "1430.442",
                                    "LoyaltyScore": "14300"
                                },
                                {
                                    "StateProvinceName": "Illinois",
                                    "CountryRegionCode": "US",
                                    "TopProduct": "Touring-1000",
                                    "ResellerName": "Local Sales and Rental",
                                    "ResellerSalesAmount": "1430.442",
                                    "LoyaltyScore": "14300"
                                },
                                {
                                    "StateProvinceName": "Ontario",
                                    "CountryRegionCode": "CA",
                                    "TopProduct": "Touring-1000",
                                    "ResellerName": "Eastside Parts Shop",
                                    "ResellerSalesAmount": "1430.442",
                                    "LoyaltyScore": "14300"
                                },
                                {
                                    "StateProvinceName": "Texas",
                                    "CountryRegionCode": "US",
                                    "TopProduct": "Touring-1000",
                                    "ResellerName": "All Seasons Sports Supply",
                                    "ResellerSalesAmount": "1430.442",
                                    "LoyaltyScore": "14300"
                                },
                                {
                                    "StateProvinceName": "British Columbia",
                                    "CountryRegionCode": "CA",
                                    "TopProduct": "Mountain-200",
                                    "ResellerName": "General Riding Supplies",
                                    "ResellerSalesAmount": "1376.994",
                                    "LoyaltyScore": "13770"
                                },
                                {
                                    "StateProvinceName": "Ohio",
                                    "CountryRegionCode": "US",
                                    "TopProduct": "Mountain-200",
                                    "ResellerName": "Grown-up Bike Store",
                                    "ResellerSalesAmount": "1376.994",
                                    "LoyaltyScore": "13770"
                                },
                                {
                                    "StateProvinceName": "Saarland",
                                    "CountryRegionCode": "DE",
                                    "TopProduct": "Mountain-200",
                                    "ResellerName": "Bicycle Warehouse Inc.",
                                    "ResellerSalesAmount": "1376.994",
                                    "LoyaltyScore": "13770"
                                },
                                {
                                    "StateProvinceName": "Seine Saint Denis",
                                    "CountryRegionCode": "FR",
                                    "TopProduct": "Mountain-200",
                                    "ResellerName": "First Center",
                                    "ResellerSalesAmount": "1376.994",
                                    "LoyaltyScore": "13770"
                                },
                                {
                                    "StateProvinceName": "Texas",
                                    "CountryRegionCode": "US",
                                    "TopProduct": "Mountain-200",
                                    "ResellerName": "Cash & Carry Bikes",
                                    "ResellerSalesAmount": "1376.994",
                                    "LoyaltyScore": "13770"
                                },
                                {
                                    "StateProvinceName": "Utah",
                                    "CountryRegionCode": "US",
                                    "TopProduct": "Mountain-200",
                                    "ResellerName": "Countryside Company",
                                    "ResellerSalesAmount": "1376.994",
                                    "LoyaltyScore": "13770"
                                },
                                {
                                    "StateProvinceName": "New Hampshire",
                                    "CountryRegionCode": "US",
                                    "TopProduct": "Road-350-W",
                                    "ResellerName": "Retail Sales and Service",
                                    "ResellerSalesAmount": "1020.594",
                                    "LoyaltyScore": "10210"
                                }
                            ]
                        },
                        "text/html": "<table><tr><th>StateProvinceName</th><th>CountryRegionCode</th><th>TopProduct</th><th>ResellerName</th><th>ResellerSalesAmount</th><th>LoyaltyScore</th></tr><tr><td>California</td><td>US</td><td>Touring-1000</td><td>Westside Plaza</td><td>103498.4389</td><td>142307</td></tr><tr><td>Loiret</td><td>FR</td><td>Mountain-200</td><td>Registered Cycle Store</td><td>89194.3274</td><td>111490</td></tr><tr><td>Arizona</td><td>US</td><td>Touring-1000</td><td>Rally Master Company Inc</td><td>84801.1315</td><td>116600</td></tr><tr><td>Garonne (Haute)</td><td>FR</td><td>Touring-1000</td><td>Perfect Toys</td><td>83426.2384</td><td>119180</td></tr><tr><td>England</td><td>GB</td><td>Mountain-200</td><td>Metropolitan Bicycle Supply</td><td>80972.9847</td><td>101220</td></tr><tr><td>Wyoming</td><td>US</td><td>Mountain-200</td><td>Great Bikes</td><td>79410.326</td><td>124784</td></tr><tr><td>Colorado</td><td>US</td><td>Mountain-200</td><td>Field Trip Store</td><td>77776.9816</td><td>97220</td></tr><tr><td>Alberta</td><td>CA</td><td>Mountain-200</td><td>Top Sports Supply</td><td>75734.67</td><td>104137</td></tr><tr><td>Washington</td><td>US</td><td>Mountain-200</td><td>Safe Cycles Shop</td><td>73487.4158</td><td>91860</td></tr><tr><td>Utah</td><td>US</td><td>Mountain-200</td><td>Brakes and Gears</td><td>73066.7441</td><td>104380</td></tr><tr><td>British Columbia</td><td>CA</td><td>Touring-1000</td><td>Camping and Sports Store</td><td>72952.542</td><td>91190</td></tr><tr><td>Hessen</td><td>DE</td><td>Touring-1000</td><td>Global Bike Retailers</td><td>69980.0836</td><td>87480</td></tr><tr><td>England</td><td>GB</td><td>Touring-1000</td><td>Metro Metals Co.</td><td>69912.8528</td><td>116520</td></tr><tr><td>California</td><td>US</td><td>Road-350-W</td><td>Eastside Department Store</td><td>69777.5015</td><td>174440</td></tr><tr><td>Texas</td><td>US</td><td>Mountain-200</td><td>Extraordinary Bike Works</td><td>68849.70</td><td>86060</td></tr><tr><td>Washington</td><td>US</td><td>Mountain-200</td><td>Closeout Boutique</td><td>68849.70</td><td>86060</td></tr><tr><td>British Columbia</td><td>CA</td><td>Mountain-200</td><td>Rural Cycle Emporium</td><td>63920.9795</td><td>79900</td></tr><tr><td>California</td><td>US</td><td>Touring-1000</td><td>Extreme Riding Supplies</td><td>62492.1965</td><td>78120</td></tr><tr><td>England</td><td>GB</td><td>Touring-1000</td><td>Action Bicycle Specialists</td><td>60891.0551</td><td>86990</td></tr><tr><td>Hauts de Seine</td><td>FR</td><td>Touring-1000</td><td>Roadway Bicycle Supply</td><td>59601.75</td><td>74500</td></tr><tr><td>Missouri</td><td>US</td><td>Touring-1000</td><td>Immense Manufacturing Company</td><td>58266.6708</td><td>83240</td></tr><tr><td>Washington</td><td>US</td><td>Mountain-200</td><td>Latest Sports Equipment</td><td>57833.748</td><td>79519</td></tr><tr><td>Saarland</td><td>DE</td><td>Touring-1000</td><td>Best Cycle Store</td><td>56675.0657</td><td>89056</td></tr><tr><td>Ontario</td><td>CA</td><td>Mountain-200</td><td>Vigorous Exercise Company</td><td>56456.754</td><td>70570</td></tr><tr><td>Washington</td><td>US</td><td>Touring-1000</td><td>Rugged Bikes</td><td>56007.5261</td><td>70010</td></tr><tr><td>Nevada</td><td>US</td><td>Mountain-200</td><td>Permanent Finish Products</td><td>55513.9721</td><td>79310</td></tr><tr><td>Washington</td><td>US</td><td>Touring-1000</td><td>Honest Repair Service</td><td>51470.164</td><td>80883</td></tr><tr><td>South Dakota</td><td>US</td><td>Touring-1000</td><td>Sleek Bikes</td><td>50516.536</td><td>101030</td></tr><tr><td>Seine (Paris)</td><td>FR</td><td>Touring-1000</td><td>Favorite Toy Distributor</td><td>48253.5768</td><td>68930</td></tr><tr><td>California</td><td>US</td><td>Mountain-200</td><td>Many Bikes Store</td><td>48194.79</td><td>60240</td></tr><tr><td>Oregon</td><td>US</td><td>Touring-1000</td><td>Stock Parts and Supplies</td><td>47369.5636</td><td>78950</td></tr><tr><td>Florida</td><td>US</td><td>Touring-1000</td><td>Industrial Supplies</td><td>46727.772</td><td>66750</td></tr><tr><td>Hamburg</td><td>DE</td><td>Touring-1000</td><td>Amalgamated Parts Shop</td><td>46346.3208</td><td>101959</td></tr><tr><td>New South Wales</td><td>AU</td><td>Mountain-200</td><td>Budget Toy Store</td><td>45440.802</td><td>56800</td></tr><tr><td>Quebec</td><td>CA</td><td>Mountain-200</td><td>Leather Seat Factory</td><td>45440.802</td><td>71412</td></tr><tr><td>Washington</td><td>US</td><td>Mountain-200</td><td>Metro Cycle Shop</td><td>44570.5418</td><td>89140</td></tr><tr><td>Arizona</td><td>US</td><td>Mountain-200</td><td>Real Sporting Goods</td><td>44063.808</td><td>96943</td></tr><tr><td>Val d'Oise</td><td>FR</td><td>Mountain-200</td><td>Spa and Exercise Outfitters</td><td>44063.808</td><td>55080</td></tr><tr><td>Washington</td><td>US</td><td>Touring-1000</td><td>Outstanding Cycles</td><td>43294.7112</td><td>54120</td></tr><tr><td>California</td><td>US</td><td>Mountain-200</td><td>Sturdy Toys</td><td>42686.814</td><td>71140</td></tr><tr><td>Seine (Paris)</td><td>FR</td><td>Road-350-W</td><td>Metropolitan Equipment</td><td>42597.0421</td><td>106490</td></tr><tr><td>Bayern</td><td>DE</td><td>Touring-1000</td><td>Excellent Bikes</td><td>42124.6096</td><td>60180</td></tr><tr><td>Texas</td><td>US</td><td>Mountain-200</td><td>Genial Bike Associates</td><td>41309.82</td><td>59010</td></tr><tr><td>New Hampshire</td><td>US</td><td>Road-350-W</td><td>Outdoor Equipment Store</td><td>40618.1103</td><td>101550</td></tr><tr><td>Loiret</td><td>FR</td><td>Road-350-W</td><td>Racing Sales and Service</td><td>40500.5719</td><td>101250</td></tr><tr><td>Quebec</td><td>CA</td><td>Touring-1000</td><td>Grand Industries</td><td>40243.1016</td><td>57490</td></tr><tr><td>New South Wales</td><td>AU</td><td>Touring-1000</td><td>Rich Department Store</td><td>39957.0132</td><td>66600</td></tr><tr><td>England</td><td>GB</td><td>Mountain-200</td><td>Nearby Cycle Shop</td><td>39932.826</td><td>57050</td></tr><tr><td>Essonne</td><td>FR</td><td>Mountain-200</td><td>Ultimate Bicycle Company</td><td>39932.826</td><td>66550</td></tr><tr><td>Texas</td><td>US</td><td>Mountain-200</td><td>Chic Department Stores</td><td>39932.826</td><td>57050</td></tr><tr><td>British Columbia</td><td>CA</td><td>Touring-1000</td><td>Odometers and Accessories Company</td><td>39073.00</td><td>97680</td></tr><tr><td>Georgia</td><td>US</td><td>Mountain-200</td><td>Better Bike Shop</td><td>38555.832</td><td>60588</td></tr><tr><td>Missouri</td><td>US</td><td>Mountain-200</td><td>World of Bikes</td><td>38555.832</td><td>55080</td></tr><tr><td>Ontario</td><td>CA</td><td>Mountain-200</td><td>Up-To-Date Sports</td><td>38555.832</td><td>48190</td></tr><tr><td>Texas</td><td>US</td><td>Mountain-200</td><td>The Gear Store</td><td>38555.832</td><td>48190</td></tr><tr><td>Washington</td><td>US</td><td>Mountain-200</td><td>Travel Sports</td><td>38555.832</td><td>48190</td></tr><tr><td>British Columbia</td><td>CA</td><td>Touring-1000</td><td>Farthest Bike Store</td><td>37717.8947</td><td>62860</td></tr><tr><td>California</td><td>US</td><td>Mountain-200</td><td>Trailblazing Sports</td><td>37178.838</td><td>46470</td></tr><tr><td>Indiana</td><td>US</td><td>Mountain-200</td><td>Grand Discount Store</td><td>37178.838</td><td>58421</td></tr><tr><td>North Carolina</td><td>US</td><td>Mountain-200</td><td>Metro Bike Mart</td><td>36381.0995</td><td>60640</td></tr><tr><td>England</td><td>GB</td><td>Mountain-200</td><td>Commerce Bicycle Specialists</td><td>35801.844</td><td>44750</td></tr><tr><td>Virginia</td><td>US</td><td>Road-350-W</td><td>Sales and Supply Company</td><td>35520.9237</td><td>88800</td></tr><tr><td>England</td><td>GB</td><td>Road-350-W</td><td>Riding Cycles</td><td>35022.0233</td><td>87560</td></tr><tr><td>Ontario</td><td>CA</td><td>Mountain-200</td><td>Rapid Bikes</td><td>34424.85</td><td>43030</td></tr><tr><td>Texas</td><td>US</td><td>Mountain-200</td><td>Paint Supply</td><td>34424.85</td><td>57370</td></tr><tr><td>Utah</td><td>US</td><td>Mountain-200</td><td>Frugal Bike Shop</td><td>34424.85</td><td>57370</td></tr><tr><td>Washington</td><td>US</td><td>Road-350-W</td><td>Friendly Bike Shop</td><td>34377.0079</td><td>94534</td></tr><tr><td>Oregon</td><td>US</td><td>Touring-1000</td><td>Roadway Bike Emporium</td><td>34330.608</td><td>75526</td></tr><tr><td>Ontario</td><td>CA</td><td>Road-350-W</td><td>Bikes and Motorbikes</td><td>33855.3143</td><td>112850</td></tr><tr><td>England</td><td>GB</td><td>Mountain-200</td><td>Exhibition Showroom</td><td>33047.856</td><td>72710</td></tr><tr><td>New South Wales</td><td>AU</td><td>Touring-1000</td><td>Gears and Parts Company</td><td>32614.0776</td><td>81540</td></tr><tr><td>Saarland</td><td>DE</td><td>Touring-1000</td><td>Next Door Cycles</td><td>32327.9892</td><td>46180</td></tr><tr><td>British Columbia</td><td>CA</td><td>Road-350-W</td><td>Retail Mall</td><td>31638.414</td><td>87010</td></tr><tr><td>Texas</td><td>US</td><td>Road-350-W</td><td>Fitness Toy Store</td><td>30993.3986</td><td>85228</td></tr><tr><td>California</td><td>US</td><td>Mountain-200</td><td>Resale Services</td><td>30293.868</td><td>37870</td></tr><tr><td>Saarland</td><td>DE</td><td>Mountain-200</td><td>Rodeway Bike Store</td><td>30293.868</td><td>43280</td></tr><tr><td>Quebec</td><td>CA</td><td>Touring-1000</td><td>Petroleum Products Distributors</td><td>29943.9192</td><td>59890</td></tr><tr><td>Texas</td><td>US</td><td>Road-350-W</td><td>Advanced Bike Components</td><td>29865.302</td><td>74660</td></tr><tr><td>England</td><td>GB</td><td>Road-350-W</td><td>Prosperous Tours</td><td>28952.2106</td><td>79618</td></tr><tr><td>Missouri</td><td>US</td><td>Mountain-200</td><td>Valley Bicycle Specialists</td><td>28916.874</td><td>57830</td></tr><tr><td>New York</td><td>US</td><td>Touring-1000</td><td>Glossy Bikes</td><td>28704.2028</td><td>35880</td></tr><tr><td>Florida</td><td>US</td><td>Touring-1000</td><td>Front Runner Bikes</td><td>28608.84</td><td>57220</td></tr><tr><td>New South Wales</td><td>AU</td><td>Touring-1000</td><td>Nationwide Supply</td><td>28132.026</td><td>35170</td></tr><tr><td>Quebec</td><td>CA</td><td>Road-350-W</td><td>Primary Bike Distributors</td><td>27556.038</td><td>68890</td></tr><tr><td>Connecticut</td><td>US</td><td>Mountain-200</td><td>Immediate Repair Shop</td><td>27539.88</td><td>60588</td></tr><tr><td>Quebec</td><td>CA</td><td>Mountain-200</td><td>Family Cycle Store</td><td>27539.88</td><td>55080</td></tr><tr><td>Oregon</td><td>US</td><td>Touring-1000</td><td>Another Bicycle Company</td><td>27464.4864</td><td>39230</td></tr><tr><td>Washington</td><td>US</td><td>Touring-1000</td><td>Authorized Bike Sales and Rental</td><td>25938.6816</td><td>51880</td></tr><tr><td>Oregon</td><td>US</td><td>Touring-1000</td><td>Sports Merchandise</td><td>25747.956</td><td>64370</td></tr><tr><td>Loir et Cher</td><td>FR</td><td>Road-350-W</td><td>Getaway Inn</td><td>25245.4132</td><td>84150</td></tr><tr><td>England</td><td>GB</td><td>Touring-1000</td><td>Variety Cycling</td><td>25175.7792</td><td>31470</td></tr><tr><td>New York</td><td>US</td><td>Mountain-200</td><td>Fashionable Department Stores</td><td>24785.892</td><td>41310</td></tr><tr><td>Ontario</td><td>CA</td><td>Mountain-200</td><td>Original Bicycle Supply Company</td><td>24785.892</td><td>38951</td></tr><tr><td>Washington</td><td>US</td><td>Mountain-200</td><td>Finer Parts Shop</td><td>24785.892</td><td>61960</td></tr><tr><td>Washington</td><td>US</td><td>Road-350-W</td><td>Thorough Parts and Repair Services</td><td>24494.256</td><td>61240</td></tr><tr><td>England</td><td>GB</td><td>Touring-1000</td><td>Instruments and Parts Company</td><td>24412.8768</td><td>34880</td></tr><tr><td>Idaho</td><td>US</td><td>Touring-1000</td><td>Vintage Sport Boutique</td><td>24412.8768</td><td>44759</td></tr><tr><td>British Columbia</td><td>CA</td><td>Touring-1000</td><td>South Bike Company</td><td>23649.9744</td><td>29560</td></tr><tr><td>Washington</td><td>US</td><td>Touring-1000</td><td>Running and Cycling Gear</td><td>23649.9744</td><td>29560</td></tr><tr><td>Colorado</td><td>US</td><td>Mountain-200</td><td>Initial Bike Company</td><td>23408.898</td><td>39010</td></tr><tr><td>Florida</td><td>US</td><td>Mountain-200</td><td>Valuable Bike Parts Company</td><td>23408.898</td><td>46820</td></tr><tr><td>Nordrhein-Westfalen</td><td>DE</td><td>Mountain-200</td><td>Functional Store South</td><td>23408.898</td><td>39010</td></tr><tr><td>Texas</td><td>US</td><td>Mountain-200</td><td>Satin Finish Company</td><td>23408.898</td><td>33440</td></tr><tr><td>Seine Saint Denis</td><td>FR</td><td>Touring-1000</td><td>Cycles Sales and Repair</td><td>23077.7976</td><td>28850</td></tr><tr><td>Colorado</td><td>US</td><td>Touring-1000</td><td>Paints and Solvents Company</td><td>22219.5324</td><td>31740</td></tr><tr><td>South Australia</td><td>AU</td><td>Touring-1000</td><td>Liquidation Sales</td><td>22219.5324</td><td>31740</td></tr><tr><td>Arizona</td><td>US</td><td>Mountain-200</td><td>Professional Cycle Store</td><td>22031.904</td><td>60588</td></tr><tr><td>California</td><td>US</td><td>Mountain-200</td><td>Small Bike Shop</td><td>22031.904</td><td>27540</td></tr><tr><td>Florida</td><td>US</td><td>Mountain-200</td><td>Worthwhile Activity Store</td><td>22031.904</td><td>34617</td></tr><tr><td>Georgia</td><td>US</td><td>Mountain-200</td><td>Noiseless Gear Company</td><td>22031.904</td><td>36720</td></tr><tr><td>Ontario</td><td>CA</td><td>Mountain-200</td><td>Standard Bikes</td><td>22031.904</td><td>44060</td></tr><tr><td>Quebec</td><td>CA</td><td>Mountain-200</td><td>Red Bicycle Company</td><td>22031.904</td><td>48466</td></tr><tr><td>Utah</td><td>US</td><td>Mountain-200</td><td>Fashionable Bikes and Accessories</td><td>22031.904</td><td>73440</td></tr><tr><td>Connecticut</td><td>US</td><td>Road-350-W</td><td>Lease-a-Bike Shop</td><td>21861.8039</td><td>54650</td></tr><tr><td>New York</td><td>US</td><td>Touring-1000</td><td>Small Bike Accessories Shop</td><td>21551.9928</td><td>26940</td></tr><tr><td>Ohio</td><td>US</td><td>Touring-1000</td><td>Fourth Bike Store</td><td>21456.63</td><td>30650</td></tr><tr><td>Hauts de Seine</td><td>FR</td><td>Road-350-W</td><td>Steel Inc.</td><td>21432.474</td><td>78584</td></tr><tr><td>New York</td><td>US</td><td>Road-350-W</td><td>Larger Cycle Shop</td><td>21432.474</td><td>53580</td></tr><tr><td>Ohio</td><td>US</td><td>Road-350-W</td><td>Guaranteed Sales and Service</td><td>21432.474</td><td>53580</td></tr><tr><td>Texas</td><td>US</td><td>Road-350-W</td><td>Totes &amp; Baskets Company</td><td>21432.474</td><td>53580</td></tr><tr><td>Saarland</td><td>DE</td><td>Touring-1000</td><td>Pedaling Components</td><td>20789.0904</td><td>25990</td></tr><tr><td>Alberta</td><td>CA</td><td>Mountain-200</td><td>Finer Cycle Shop</td><td>20654.91</td><td>41310</td></tr><tr><td>California</td><td>US</td><td>Mountain-200</td><td>Bike World</td><td>20654.91</td><td>34420</td></tr><tr><td>Loir et Cher</td><td>FR</td><td>Mountain-200</td><td>Metro Sports Equipment</td><td>20654.91</td><td>34420</td></tr><tr><td>Missouri</td><td>US</td><td>Mountain-200</td><td>Bicycle Lines Distributors</td><td>20654.91</td><td>34420</td></tr><tr><td>California</td><td>US</td><td>Touring-1000</td><td>Technical Parts Manufacturing</td><td>20121.5508</td><td>31625</td></tr><tr><td>Seine Saint Denis</td><td>FR</td><td>Touring-1000</td><td>The Bike Outlet</td><td>19454.0112</td><td>24320</td></tr><tr><td>California</td><td>US</td><td>Road-350-W</td><td>Number 1 Supply</td><td>19391.286</td><td>48480</td></tr><tr><td>New Mexico</td><td>US</td><td>Road-350-W</td><td>Bike Dealers Association</td><td>19391.286</td><td>53328</td></tr><tr><td>Ontario</td><td>CA</td><td>Road-350-W</td><td>Health Spa, Limited</td><td>19391.286</td><td>71104</td></tr><tr><td>New South Wales</td><td>AU</td><td>Touring-1000</td><td>Popular Bike Lines</td><td>19358.6484</td><td>24200</td></tr><tr><td>Victoria</td><td>AU</td><td>Touring-1000</td><td>List Price Catalog Company</td><td>19358.6484</td><td>24200</td></tr><tr><td>Alberta</td><td>CA</td><td>Mountain-200</td><td>Twelfth Bike Store</td><td>19277.916</td><td>27540</td></tr><tr><td>Georgia</td><td>US</td><td>Mountain-200</td><td>Elemental Sporting Goods</td><td>19277.916</td><td>38560</td></tr><tr><td>New Hampshire</td><td>US</td><td>Mountain-200</td><td>Casual Bicycle Store</td><td>19277.916</td><td>53009</td></tr><tr><td>Seine (Paris)</td><td>FR</td><td>Mountain-200</td><td>Spare Parts Co.</td><td>19277.916</td><td>42416</td></tr><tr><td>California</td><td>US</td><td>Touring-1000</td><td>Eighth Bike Store</td><td>18786.4716</td><td>31310</td></tr><tr><td>Michigan</td><td>US</td><td>Road-350-W</td><td>Exhilarating Cycles</td><td>18746.2706</td><td>103103</td></tr><tr><td>New South Wales</td><td>AU</td><td>Touring-1000</td><td>Helmets and Cycles</td><td>18595.746</td><td>29227</td></tr><tr><td>Oregon</td><td>US</td><td>Touring-1000</td><td>Kickstands and Accessories Company</td><td>18595.746</td><td>46490</td></tr><tr><td>Washington</td><td>US</td><td>Road-350-W</td><td>Official Parts Shop</td><td>18370.692</td><td>50523</td></tr><tr><td>Victoria</td><td>AU</td><td>Touring-1000</td><td>Fast Bike Works</td><td>18023.5692</td><td>25750</td></tr><tr><td>England</td><td>GB</td><td>Touring-1000</td><td>Cycles Wholesaler &amp; Mfg.</td><td>17928.2064</td><td>28171</td></tr><tr><td>Ontario</td><td>CA</td><td>Mountain-200</td><td>Famous Bike Shop</td><td>17900.922</td><td>35800</td></tr><tr><td>Florida</td><td>US</td><td>Road-350-W</td><td>Rally Day Mall</td><td>17350.098</td><td>47718</td></tr><tr><td>Tennessee</td><td>US</td><td>Road-350-W</td><td>Excellent Riding Supplies</td><td>17350.098</td><td>43380</td></tr><tr><td>Connecticut</td><td>US</td><td>Touring-1000</td><td>Mountain Bike Store</td><td>17165.304</td><td>31471</td></tr><tr><td>Utah</td><td>US</td><td>Touring-1000</td><td>Utilitarian Sporting Goods</td><td>17165.304</td><td>85830</td></tr><tr><td>Michigan</td><td>US</td><td>Mountain-200</td><td>Catalog Store</td><td>16523.928</td><td>33050</td></tr><tr><td>Ontario</td><td>CA</td><td>Mountain-200</td><td>Greater Bike Store</td><td>16523.928</td><td>33050</td></tr><tr><td>Kentucky</td><td>US</td><td>Touring-1000</td><td>Blue-Ribbon Bike Company</td><td>16497.7644</td><td>20620</td></tr><tr><td>New Mexico</td><td>US</td><td>Touring-1000</td><td>Thrilling Bike Tours</td><td>16497.7644</td><td>20620</td></tr><tr><td>Quebec</td><td>CA</td><td>Touring-1000</td><td>Quick Parts and Service</td><td>16497.7644</td><td>20620</td></tr><tr><td>Texas</td><td>US</td><td>Touring-1000</td><td>Maintenance and Repair for Bicycles</td><td>16497.7644</td><td>23570</td></tr><tr><td>Ontario</td><td>CA</td><td>Road-350-W</td><td>Custom Accessories Company</td><td>16329.504</td><td>40820</td></tr><tr><td>California</td><td>US</td><td>Touring-1000</td><td>Locks Company</td><td>15925.5876</td><td>26540</td></tr><tr><td>California</td><td>US</td><td>Touring-1000</td><td>Rural Department Store</td><td>15830.2248</td><td>29018</td></tr><tr><td>Colorado</td><td>US</td><td>Road-350-W</td><td>Futuristic Sport Distributors</td><td>15630.7373</td><td>85965</td></tr><tr><td>Brunswick</td><td>CA</td><td>Road-350-W</td><td>Citywide Service and Repair</td><td>15308.91</td><td>56133</td></tr><tr><td>California</td><td>US</td><td>Road-350-W</td><td>Mountain Bike Center</td><td>15308.91</td><td>38270</td></tr><tr><td>Michigan</td><td>US</td><td>Road-350-W</td><td>Grand Sport Boutique</td><td>15308.91</td><td>38270</td></tr><tr><td>Missouri</td><td>US</td><td>Road-350-W</td><td>First Bike Store</td><td>15308.91</td><td>42097</td></tr><tr><td>England</td><td>GB</td><td>Mountain-200</td><td>Oils and Fluids Warehouse</td><td>15146.934</td><td>30290</td></tr><tr><td>Hauts de Seine</td><td>FR</td><td>Mountain-200</td><td>Racing Tours</td><td>15146.934</td><td>30290</td></tr><tr><td>Illinois</td><td>US</td><td>Mountain-200</td><td>This Area Sporting Goods</td><td>15146.934</td><td>33319</td></tr><tr><td>Nevada</td><td>US</td><td>Mountain-200</td><td>Brightwork Company</td><td>15146.934</td><td>30290</td></tr><tr><td>South Carolina</td><td>US</td><td>Mountain-200</td><td>Consolidated Sales</td><td>15146.934</td><td>37870</td></tr><tr><td>Washington</td><td>US</td><td>Touring-1000</td><td>Fitness Supplies</td><td>15067.3224</td><td>21520</td></tr><tr><td>New South Wales</td><td>AU</td><td>Touring-1000</td><td>Bike Part Wholesalers</td><td>14399.7828</td><td>20570</td></tr><tr><td>Quebec</td><td>CA</td><td>Touring-1000</td><td>Workout Emporium</td><td>14399.7828</td><td>24000</td></tr><tr><td>Victoria</td><td>AU</td><td>Touring-1000</td><td>Cycle Parts and Accessories</td><td>14399.7828</td><td>24000</td></tr><tr><td>Nordrhein-Westfalen</td><td>DE</td><td>Touring-1000</td><td>West Wind Distributors</td><td>14304.42</td><td>28610</td></tr><tr><td>California</td><td>US</td><td>Road-350-W</td><td>Area Bike Accessories</td><td>14288.316</td><td>39292</td></tr><tr><td>Maine</td><td>US</td><td>Road-350-W</td><td>Wheelsets Storehouse</td><td>14288.316</td><td>47630</td></tr><tr><td>Ohio</td><td>US</td><td>Road-350-W</td><td>Riverside Company</td><td>14288.316</td><td>35720</td></tr><tr><td>Ontario</td><td>CA</td><td>Road-350-W</td><td>Rewarding Activities Company</td><td>14288.316</td><td>47630</td></tr><tr><td>Michigan</td><td>US</td><td>Mountain-200</td><td>Fabrikam Inc., West</td><td>13769.94</td><td>45900</td></tr><tr><td>Missouri</td><td>US</td><td>Touring-1000</td><td>Best o' Bikes</td><td>13636.8804</td><td>25003</td></tr><tr><td>Ontario</td><td>CA</td><td>Touring-1000</td><td>Fasteners &amp; Bolts Outlet</td><td>13636.8804</td><td>19480</td></tr><tr><td>Colorado</td><td>US</td><td>Road-350-W</td><td>Reasonable Bicycle Sales</td><td>13267.722</td><td>33170</td></tr><tr><td>New Hampshire</td><td>US</td><td>Road-350-W</td><td>Seventh Bike Store</td><td>13267.722</td><td>36487</td></tr><tr><td>England</td><td>GB</td><td>Touring-1000</td><td>Exceptional Cycle Services</td><td>12969.3408</td><td>20383</td></tr><tr><td>Saarland</td><td>DE</td><td>Touring-1000</td><td>Educational Services</td><td>12873.978</td><td>25750</td></tr><tr><td>British Columbia</td><td>CA</td><td>Mountain-200</td><td>Valley Toy Store</td><td>12392.946</td><td>41310</td></tr><tr><td>England</td><td>GB</td><td>Mountain-200</td><td>Closest Bicycle Store</td><td>12392.946</td><td>30980</td></tr><tr><td>Pas de Calais</td><td>FR</td><td>Mountain-200</td><td>Community Department Stores</td><td>12392.946</td><td>30980</td></tr><tr><td>Quebec</td><td>CA</td><td>Mountain-200</td><td>One Bike Company</td><td>12392.946</td><td>41310</td></tr><tr><td>Virginia</td><td>US</td><td>Mountain-200</td><td>Trusted Catalog Store</td><td>12392.946</td><td>45441</td></tr><tr><td>Washington</td><td>US</td><td>Mountain-200</td><td>Moderately-Priced Bikes Store</td><td>12392.946</td><td>24790</td></tr><tr><td>Nord</td><td>FR</td><td>Touring-1000</td><td>Finer Sporting Goods</td><td>12301.8012</td><td>24600</td></tr><tr><td>California</td><td>US</td><td>Road-350-W</td><td>Metropolitan Sports Supply</td><td>12247.128</td><td>30620</td></tr><tr><td>England</td><td>GB</td><td>Road-350-W</td><td>Bulk Discount Store</td><td>12247.128</td><td>30620</td></tr><tr><td>Michigan</td><td>US</td><td>Road-350-W</td><td>Small Cycle Store</td><td>12247.128</td><td>33682</td></tr><tr><td>Ontario</td><td>CA</td><td>Road-350-W</td><td>Corner Bicycle Supply</td><td>12247.128</td><td>30620</td></tr><tr><td>North Carolina</td><td>US</td><td>Touring-1000</td><td>Exchange Parts Inc.</td><td>12206.4384</td><td>20340</td></tr><tr><td>Victoria</td><td>AU</td><td>Touring-1000</td><td>Helpful Sales and Repair Service</td><td>12206.4384</td><td>20340</td></tr><tr><td>Quebec</td><td>CA</td><td>Touring-1000</td><td>Machines &amp; Cycles Store</td><td>11538.8988</td><td>21153</td></tr><tr><td>Connecticut</td><td>US</td><td>Road-350-W</td><td>Painters Bicycle Specialists</td><td>11226.534</td><td>28070</td></tr><tr><td>Quebec</td><td>CA</td><td>Road-350-W</td><td>General Supplies</td><td>11226.534</td><td>28070</td></tr><tr><td>Texas</td><td>US</td><td>Road-350-W</td><td>Grease and Oil Products Company</td><td>11226.534</td><td>41162</td></tr><tr><td>Florida</td><td>US</td><td>Mountain-200</td><td>Superlative Bikes</td><td>11015.952</td><td>22030</td></tr><tr><td>Manitoba</td><td>CA</td><td>Mountain-200</td><td>Two-Wheeled Transit Company</td><td>11015.952</td><td>27540</td></tr><tr><td>Seine (Paris)</td><td>FR</td><td>Mountain-200</td><td>Impervious Paint Company</td><td>11015.952</td><td>22030</td></tr><tr><td>California</td><td>US</td><td>Touring-1000</td><td>Professional Sales and Service</td><td>10871.3592</td><td>18120</td></tr><tr><td>New South Wales</td><td>AU</td><td>Touring-1000</td><td>Sensible Sports</td><td>10775.9964</td><td>16929</td></tr><tr><td>California</td><td>US</td><td>Road-350-W</td><td>Distant Inn</td><td>10205.94</td><td>37422</td></tr><tr><td>California</td><td>US</td><td>Road-350-W</td><td>Farthermost Bike Shop</td><td>10205.94</td><td>34020</td></tr><tr><td>Nevada</td><td>US</td><td>Road-350-W</td><td>Remarkable Bike Store</td><td>10205.94</td><td>25510</td></tr><tr><td>Ontario</td><td>CA</td><td>Road-350-W</td><td>General Bike Corporation</td><td>10205.94</td><td>28061</td></tr><tr><td>Seine (Paris)</td><td>FR</td><td>Road-350-W</td><td>Pretty Bikes and Toys</td><td>10205.94</td><td>25510</td></tr><tr><td>Seine (Paris)</td><td>FR</td><td>Road-350-W</td><td>Rural Mountain Bike Mart</td><td>10205.94</td><td>25510</td></tr><tr><td>Washington</td><td>US</td><td>Road-350-W</td><td>Mail-Order Outlet</td><td>10205.94</td><td>34020</td></tr><tr><td>Alabama</td><td>US</td><td>Touring-1000</td><td>Games and Sport Supply Company</td><td>10013.094</td><td>25030</td></tr><tr><td>California</td><td>US</td><td>Touring-1000</td><td>Vale Riding Supplies</td><td>10013.094</td><td>22033</td></tr><tr><td>North Carolina</td><td>US</td><td>Mountain-200</td><td>Lubricant and Grease Suppliers</td><td>9638.958</td><td>24100</td></tr><tr><td>Ontario</td><td>CA</td><td>Mountain-200</td><td>Low Price Cycles</td><td>9638.958</td><td>32130</td></tr><tr><td>Ontario</td><td>CA</td><td>Mountain-200</td><td>Bikes for Kids and Adults</td><td>9638.958</td><td>26510</td></tr><tr><td>Wisconsin</td><td>US</td><td>Mountain-200</td><td>Friendly Neighborhood Bikes</td><td>9638.958</td><td>24100</td></tr><tr><td>Arizona</td><td>US</td><td>Touring-1000</td><td>Fun Toys and Bikes</td><td>9440.9172</td><td>18880</td></tr><tr><td>California</td><td>US</td><td>Touring-1000</td><td>Engineered Bike Systems</td><td>9345.5544</td><td>23360</td></tr><tr><td>Hamburg</td><td>DE</td><td>Touring-1000</td><td>Bicycle Exporters</td><td>9345.5544</td><td>17138</td></tr><tr><td>British Columbia</td><td>CA</td><td>Road-350-W</td><td>Finer Riding Supplies</td><td>9185.346</td><td>22960</td></tr><tr><td>California</td><td>US</td><td>Road-350-W</td><td>Highway Bike Shop</td><td>9185.346</td><td>22960</td></tr><tr><td>Florida</td><td>US</td><td>Road-350-W</td><td>Sunny Place Bikes</td><td>9185.346</td><td>22960</td></tr><tr><td>Georgia</td><td>US</td><td>Road-350-W</td><td>Eighty Toy Stores</td><td>9185.346</td><td>22960</td></tr><tr><td>Oregon</td><td>US</td><td>Road-350-W</td><td>Successful Sales Company</td><td>9185.346</td><td>22960</td></tr><tr><td>Tennessee</td><td>US</td><td>Road-350-W</td><td>Activity Center</td><td>9185.346</td><td>25256</td></tr><tr><td>Texas</td><td>US</td><td>Road-350-W</td><td>Modular Cycle Systems</td><td>9185.346</td><td>25256</td></tr><tr><td>Texas</td><td>US</td><td>Road-350-W</td><td>Swift Cycles</td><td>9185.346</td><td>22960</td></tr><tr><td>Florida</td><td>US</td><td>Touring-1000</td><td>Racks and Security Systems</td><td>8678.0148</td><td>21700</td></tr><tr><td>Florida</td><td>US</td><td>Touring-1000</td><td>Exemplary Cycles</td><td>8582.652</td><td>21460</td></tr><tr><td>New South Wales</td><td>AU</td><td>Touring-1000</td><td>Uncompromising Quality Co</td><td>8582.652</td><td>17170</td></tr><tr><td>Queensland</td><td>AU</td><td>Touring-1000</td><td>Plastic Products Manufacturers</td><td>8582.652</td><td>17170</td></tr><tr><td>England</td><td>GB</td><td>Mountain-200</td><td>Express Bike Services</td><td>8261.964</td><td>16520</td></tr><tr><td>Ontario</td><td>CA</td><td>Mountain-200</td><td>Metro Manufacturing</td><td>8261.964</td><td>41310</td></tr><tr><td>Washington</td><td>US</td><td>Mountain-200</td><td>Riding Associates</td><td>8261.964</td><td>20650</td></tr><tr><td>Illinois</td><td>US</td><td>Road-350-W</td><td>Gift and Toy Store</td><td>8164.752</td><td>27220</td></tr><tr><td>Kentucky</td><td>US</td><td>Road-350-W</td><td>Leading Bike Distributors</td><td>8164.752</td><td>20410</td></tr><tr><td>Michigan</td><td>US</td><td>Road-350-W</td><td>Work and Play Association</td><td>8164.752</td><td>40820</td></tr><tr><td>Oregon</td><td>US</td><td>Road-350-W</td><td>Latest Accessories Sales</td><td>8164.752</td><td>27220</td></tr><tr><td>Oregon</td><td>US</td><td>Road-350-W</td><td>Sellers of Cycles</td><td>8164.752</td><td>20410</td></tr><tr><td>Texas</td><td>US</td><td>Road-350-W</td><td>Sheet Metal Manufacturing</td><td>8164.752</td><td>20410</td></tr><tr><td>Wisconsin</td><td>US</td><td>Road-350-W</td><td>Good Bike Shop</td><td>8164.752</td><td>20410</td></tr><tr><td>Ontario</td><td>CA</td><td>Touring-1000</td><td>Metal Clearing House</td><td>7915.1124</td><td>15830</td></tr><tr><td>Florida</td><td>US</td><td>Touring-1000</td><td>Quitting Business Distributors</td><td>7152.21</td><td>17880</td></tr><tr><td>Brandenburg</td><td>DE</td><td>Road-350-W</td><td>Fabrikam Inc., East</td><td>7144.158</td><td>19646</td></tr><tr><td>California</td><td>US</td><td>Road-350-W</td><td>Quantity Discounts</td><td>7144.158</td><td>23810</td></tr><tr><td>North Carolina</td><td>US</td><td>Road-350-W</td><td>New and Used Bicycles</td><td>7144.158</td><td>17860</td></tr><tr><td>North Carolina</td><td>US</td><td>Road-350-W</td><td>Underglaze and Finish Company</td><td>7144.158</td><td>17860</td></tr><tr><td>Ontario</td><td>CA</td><td>Road-350-W</td><td>Consolidated Messenger</td><td>7144.158</td><td>17860</td></tr><tr><td>Tennessee</td><td>US</td><td>Road-350-W</td><td>Manufacturers Inc</td><td>7144.158</td><td>23810</td></tr><tr><td>England</td><td>GB</td><td>Mountain-200</td><td>Tachometers and Accessories</td><td>6884.97</td><td>34420</td></tr><tr><td>Hauts de Seine</td><td>FR</td><td>Mountain-200</td><td>Finished Parts Shop</td><td>6884.97</td><td>22950</td></tr><tr><td>New South Wales</td><td>AU</td><td>Mountain-200</td><td>Inexpensive Parts Shop</td><td>6884.97</td><td>22950</td></tr><tr><td>New York</td><td>US</td><td>Mountain-200</td><td>Traditional Department Stores</td><td>6884.97</td><td>68850</td></tr><tr><td>Washington</td><td>US</td><td>Mountain-200</td><td>Progressive Sports</td><td>6884.97</td><td>22950</td></tr><tr><td>Wyoming</td><td>US</td><td>Mountain-200</td><td>First Department Stores</td><td>6884.97</td><td>22950</td></tr><tr><td>New South Wales</td><td>AU</td><td>Touring-1000</td><td>First Supplies</td><td>6484.6704</td><td>17831</td></tr><tr><td>Seine et Marne</td><td>FR</td><td>Touring-1000</td><td>Racing Supply Distributors</td><td>6484.6704</td><td>12970</td></tr><tr><td>California</td><td>US</td><td>Road-350-W</td><td>The Bicycle Accessories Company</td><td>6123.564</td><td>20410</td></tr><tr><td>California</td><td>US</td><td>Road-350-W</td><td>Discount Tours</td><td>6123.564</td><td>20410</td></tr><tr><td>England</td><td>GB</td><td>Road-350-W</td><td>Cycling Goods</td><td>6123.564</td><td>20410</td></tr><tr><td>Hamburg</td><td>DE</td><td>Road-350-W</td><td>North Bike Company</td><td>6123.564</td><td>15310</td></tr><tr><td>Minnesota</td><td>US</td><td>Road-350-W</td><td>Riders Company</td><td>6123.564</td><td>20410</td></tr><tr><td>Quebec</td><td>CA</td><td>Road-350-W</td><td>Remote Bicycle Specialists</td><td>6123.564</td><td>20410</td></tr><tr><td>Massachusetts</td><td>US</td><td>Touring-1000</td><td>Incomparable Bicycle Store</td><td>5721.768</td><td>19070</td></tr><tr><td>Connecticut</td><td>US</td><td>Mountain-200</td><td>Classic Cycle Store</td><td>5507.976</td><td>30294</td></tr><tr><td>Missouri</td><td>US</td><td>Mountain-200</td><td>Responsible Bike Dealers</td><td>5507.976</td><td>18360</td></tr><tr><td>New South Wales</td><td>AU</td><td>Mountain-200</td><td>Rental Gallery</td><td>5507.976</td><td>18360</td></tr><tr><td>Ontario</td><td>CA</td><td>Mountain-200</td><td>Tire Exchange</td><td>5507.976</td><td>18360</td></tr><tr><td>Washington</td><td>US</td><td>Mountain-200</td><td>Central Discount Store</td><td>5507.976</td><td>18360</td></tr><tr><td>Arizona</td><td>US</td><td>Road-350-W</td><td>First Cycle Store</td><td>5102.97</td><td>17010</td></tr><tr><td>British Columbia</td><td>CA</td><td>Road-350-W</td><td>Sundry Sporting Goods</td><td>5102.97</td><td>17010</td></tr><tr><td>California</td><td>US</td><td>Road-350-W</td><td>Mechanical Products Ltd.</td><td>5102.97</td><td>17010</td></tr><tr><td>California</td><td>US</td><td>Road-350-W</td><td>Sports Products Store</td><td>5102.97</td><td>25510</td></tr><tr><td>England</td><td>GB</td><td>Road-350-W</td><td>Number One Bike Co.</td><td>5102.97</td><td>18711</td></tr><tr><td>England</td><td>GB</td><td>Road-350-W</td><td>Uttermost Bike Shop</td><td>5102.97</td><td>17010</td></tr><tr><td>Ohio</td><td>US</td><td>Road-350-W</td><td>Bike Boutique</td><td>5102.97</td><td>17010</td></tr><tr><td>Ontario</td><td>CA</td><td>Road-350-W</td><td>Gasless Cycle Shop</td><td>5102.97</td><td>17010</td></tr><tr><td>Ontario</td><td>CA</td><td>Road-350-W</td><td>Urban Sports Emporium</td><td>5102.97</td><td>17010</td></tr><tr><td>Oregon</td><td>US</td><td>Road-350-W</td><td>Convenient Sales and Service</td><td>5102.97</td><td>25510</td></tr><tr><td>Texas</td><td>US</td><td>Touring-1000</td><td>Town Industries</td><td>4291.326</td><td>42910</td></tr><tr><td>Texas</td><td>US</td><td>Touring-1000</td><td>Unsurpassed Bikes</td><td>4291.326</td><td>21460</td></tr><tr><td>Alberta</td><td>CA</td><td>Mountain-200</td><td>General Department Stores</td><td>4130.982</td><td>41310</td></tr><tr><td>British Columbia</td><td>CA</td><td>Mountain-200</td><td>Certified Sports Supply</td><td>4130.982</td><td>41310</td></tr><tr><td>Michigan</td><td>US</td><td>Mountain-200</td><td>Metro Bike Works</td><td>4130.982</td><td>41310</td></tr><tr><td>Val de Marne</td><td>FR</td><td>Mountain-200</td><td>Major Amusement Company</td><td>4130.982</td><td>13770</td></tr><tr><td>California</td><td>US</td><td>Road-350-W</td><td>Metropolitan Manufacturing</td><td>4082.376</td><td>20410</td></tr><tr><td>New York</td><td>US</td><td>Road-350-W</td><td>Famous Bike Sales and Service</td><td>4082.376</td><td>13610</td></tr><tr><td>Nordrhein-Westfalen</td><td>DE</td><td>Road-350-W</td><td>Nearby Bike Mall</td><td>3061.782</td><td>30620</td></tr><tr><td>Washington</td><td>US</td><td>Road-350-W</td><td>Certified Bicycle Supply</td><td>3061.782</td><td>15310</td></tr><tr><td>Arizona</td><td>US</td><td>Touring-1000</td><td>Systematic Sales</td><td>2860.884</td><td>28610</td></tr><tr><td>Montana</td><td>US</td><td>Touring-1000</td><td>Finer Mart</td><td>2860.884</td><td>14300</td></tr><tr><td>New South Wales</td><td>AU</td><td>Touring-1000</td><td>Jumbo Bikes</td><td>2860.884</td><td>14300</td></tr><tr><td>Florida</td><td>US</td><td>Mountain-200</td><td>Unified Sports Company</td><td>2753.988</td><td>27540</td></tr><tr><td>Hamburg</td><td>DE</td><td>Mountain-200</td><td>Capital Riding Supplies</td><td>2753.988</td><td>27540</td></tr><tr><td>Hauts de Seine</td><td>FR</td><td>Mountain-200</td><td>Recreation Toy Store</td><td>2753.988</td><td>27540</td></tr><tr><td>Ontario</td><td>CA</td><td>Mountain-200</td><td>Vinyl and Plastic Goods Corporation</td><td>2753.988</td><td>27540</td></tr><tr><td>Oregon</td><td>US</td><td>Mountain-200</td><td>Superior Hardware Distributors</td><td>2753.988</td><td>27540</td></tr><tr><td>Tennessee</td><td>US</td><td>Mountain-200</td><td>Tandem Bicycle Store</td><td>2753.988</td><td>27540</td></tr><tr><td>Florida</td><td>US</td><td>Road-350-W</td><td>Bike Goods</td><td>2041.188</td><td>20410</td></tr><tr><td>Quebec</td><td>CA</td><td>Road-350-W</td><td>Metal Processing Company</td><td>2041.188</td><td>10210</td></tr><tr><td>California</td><td>US</td><td>Touring-1000</td><td>Trendy Department Stores</td><td>1430.442</td><td>14300</td></tr><tr><td>Illinois</td><td>US</td><td>Touring-1000</td><td>Local Sales and Rental</td><td>1430.442</td><td>14300</td></tr><tr><td>Ontario</td><td>CA</td><td>Touring-1000</td><td>Eastside Parts Shop</td><td>1430.442</td><td>14300</td></tr><tr><td>Texas</td><td>US</td><td>Touring-1000</td><td>All Seasons Sports Supply</td><td>1430.442</td><td>14300</td></tr><tr><td>British Columbia</td><td>CA</td><td>Mountain-200</td><td>General Riding Supplies</td><td>1376.994</td><td>13770</td></tr><tr><td>Ohio</td><td>US</td><td>Mountain-200</td><td>Grown-up Bike Store</td><td>1376.994</td><td>13770</td></tr><tr><td>Saarland</td><td>DE</td><td>Mountain-200</td><td>Bicycle Warehouse Inc.</td><td>1376.994</td><td>13770</td></tr><tr><td>Seine Saint Denis</td><td>FR</td><td>Mountain-200</td><td>First Center</td><td>1376.994</td><td>13770</td></tr><tr><td>Texas</td><td>US</td><td>Mountain-200</td><td>Cash &amp; Carry Bikes</td><td>1376.994</td><td>13770</td></tr><tr><td>Utah</td><td>US</td><td>Mountain-200</td><td>Countryside Company</td><td>1376.994</td><td>13770</td></tr><tr><td>New Hampshire</td><td>US</td><td>Road-350-W</td><td>Retail Sales and Service</td><td>1020.594</td><td>10210</td></tr></table>"
                    },
                    "metadata": {}
                }
            ],
            "execution_count": 56
        },
        {
            "cell_type": "markdown",
            "source": [
                "**Complex Prompt 5 :**  \n",
                "In the NorthWinds2022TSQLV7 database, we have information regarding employees, products, suppliers, customers, orders, and more. We want to analyze the sales performance of each employee for the year 2022. Specifically, find the total number of products sold, total sales amount (considering discounts), and the sales commission for each employee based on their total sales. The sales commission is calculated as 5% of the total sales amount. Additionally, list the region where the employee is located. Order the result based on the total sales amount in descending order.\n",
                "\n",
                "**Database :**  NorthWinds2022TSQLV7\n",
                "\n",
                "**Tables Involved** :\n",
                "\n",
                "Sales.\\[Order\\], Sales.OrderDetail, HumanResources.Employee, o.OrderID\n",
                "\n",
                "**CTE :** SalesDetails\n",
                "\n",
                "**FUNCTION :** <span style=\"font-family: Consolas, &quot;Courier New&quot;, monospace; font-size: 12px; white-space: pre; color: rgb(121, 94, 38);\">dbo</span><span style=\"color: rgb(33, 33, 33); font-family: Consolas, &quot;Courier New&quot;, monospace; font-size: 12px; white-space: pre;\">.fnCalculateSalesCommission : </span> <span style=\"color: rgb(0, 128, 0); font-family: Consolas, &quot;Courier New&quot;, monospace; font-size: 12px; white-space: pre;\">compute the sales commission based on total sales amount.</span>"
            ],
            "metadata": {
                "azdata_cell_guid": "eb5cc3ec-46b6-4a11-8ef5-f3703ef2b7d7"
            },
            "attachments": {}
        },
        {
            "cell_type": "code",
            "source": [
                "-- Set the active database to NorthWinds2022TSQLV7\r\n",
                "USE NorthWinds2022TSQLV7;\r\n",
                "GO\r\n",
                "\r\n",
                "-- Check if the function `dbo.fnCalculateSalesCommission` exists in the database.\r\n",
                "-- If it exists, drop it.\r\n",
                "IF EXISTS (SELECT 1 FROM sys.objects WHERE object_id = OBJECT_ID(N'dbo.fnCalculateSalesCommission') AND type = 'FN')\r\n",
                "DROP FUNCTION dbo.fnCalculateSalesCommission;\r\n",
                "GO\r\n",
                "\r\n",
                "-- Create a user-defined function to compute the sales commission based on total sales amount.\r\n",
                "CREATE FUNCTION dbo.fnCalculateSalesCommission (@TotalSales DECIMAL(18,2))\r\n",
                "RETURNS DECIMAL(18,2)\r\n",
                "AS\r\n",
                "BEGIN\r\n",
                "    RETURN @TotalSales * 0.05\r\n",
                "END;\r\n",
                "GO\r\n",
                "\r\n",
                "-- Using a Common Table Expression (CTE) to compute sales details for each order and product.\r\n",
                "WITH SalesDetails AS\r\n",
                "(\r\n",
                "    SELECT \r\n",
                "        o.EmployeeID,\r\n",
                "        od.ProductID,\r\n",
                "        od.UnitPrice * od.Quantity * (1 - od.DiscountPercentage / 100) AS SalesAmount\r\n",
                "    FROM Sales.[Order] o\r\n",
                "    JOIN Sales.OrderDetail od ON o.OrderID = od.OrderID\r\n",
                "    WHERE YEAR(o.OrderDate) = 2014\r\n",
                ")\r\n",
                "\r\n",
                "-- Main query to fetch the sales performance of each employee.\r\n",
                "SELECT \r\n",
                "    e.EmployeeFirstName + ' ' + e.EmployeeLastName AS EmployeeName,\r\n",
                "    COUNT(DISTINCT sd.ProductID) AS NumberOfProductsSold,\r\n",
                "    SUM(sd.SalesAmount) AS TotalSalesAmount,\r\n",
                "    -- Use the user-defined function to calculate sales commission.\r\n",
                "    dbo.fnCalculateSalesCommission(SUM(sd.SalesAmount)) AS SalesCommission\r\n",
                "FROM \r\n",
                "    SalesDetails sd\r\n",
                "JOIN HumanResources.Employee e ON sd.EmployeeID = e.EmployeeID\r\n",
                "GROUP BY \r\n",
                "    e.EmployeeFirstName, \r\n",
                "    e.EmployeeLastName,\r\n",
                "    e.EmployeeRegion\r\n",
                "ORDER BY \r\n",
                "    TotalSalesAmount DESC;\r\n",
                ""
            ],
            "metadata": {
                "azdata_cell_guid": "c99dc0d6-c1e4-43e8-ae32-773b4f486ad4",
                "language": "sql"
            },
            "outputs": [
                {
                    "output_type": "display_data",
                    "data": {
                        "text/html": "Commands completed successfully."
                    },
                    "metadata": {}
                },
                {
                    "output_type": "display_data",
                    "data": {
                        "text/html": "Commands completed successfully."
                    },
                    "metadata": {}
                },
                {
                    "output_type": "display_data",
                    "data": {
                        "text/html": "Commands completed successfully."
                    },
                    "metadata": {}
                },
                {
                    "output_type": "display_data",
                    "data": {
                        "text/html": "(9 rows affected)"
                    },
                    "metadata": {}
                },
                {
                    "output_type": "display_data",
                    "data": {
                        "text/html": "Total execution time: 00:00:00.064"
                    },
                    "metadata": {}
                },
                {
                    "output_type": "execute_result",
                    "execution_count": 67,
                    "data": {
                        "application/vnd.dataresource+json": {
                            "schema": {
                                "fields": [
                                    {
                                        "name": "EmployeeName"
                                    },
                                    {
                                        "name": "NumberOfProductsSold"
                                    },
                                    {
                                        "name": "TotalSalesAmount"
                                    },
                                    {
                                        "name": "SalesCommission"
                                    }
                                ]
                            },
                            "data": [
                                {
                                    "EmployeeName": "Yael Peled",
                                    "NumberOfProductsSold": "53",
                                    "TotalSalesAmount": "53083.10315000000",
                                    "SalesCommission": "2654.16"
                                },
                                {
                                    "EmployeeName": "Sara Davis",
                                    "NumberOfProductsSold": "40",
                                    "TotalSalesAmount": "38758.75515000000",
                                    "SalesCommission": "1937.94"
                                },
                                {
                                    "EmployeeName": "Maria Cameron",
                                    "NumberOfProductsSold": "34",
                                    "TotalSalesAmount": "23152.18720000000",
                                    "SalesCommission": "1157.61"
                                },
                                {
                                    "EmployeeName": "Don Funk",
                                    "NumberOfProductsSold": "31",
                                    "TotalSalesAmount": "22823.92360000000",
                                    "SalesCommission": "1141.20"
                                },
                                {
                                    "EmployeeName": "Sven Mortensen",
                                    "NumberOfProductsSold": "19",
                                    "TotalSalesAmount": "21929.38720000000",
                                    "SalesCommission": "1096.47"
                                },
                                {
                                    "EmployeeName": "Judy Lew",
                                    "NumberOfProductsSold": "37",
                                    "TotalSalesAmount": "19221.72160000000",
                                    "SalesCommission": "961.09"
                                },
                                {
                                    "EmployeeName": "Russell King",
                                    "NumberOfProductsSold": "23",
                                    "TotalSalesAmount": "18076.07360000000",
                                    "SalesCommission": "903.80"
                                },
                                {
                                    "EmployeeName": "Paul Suurs",
                                    "NumberOfProductsSold": "27",
                                    "TotalSalesAmount": "17720.21505000000",
                                    "SalesCommission": "886.01"
                                },
                                {
                                    "EmployeeName": "Patricia Doyle",
                                    "NumberOfProductsSold": "12",
                                    "TotalSalesAmount": "11350.98815000000",
                                    "SalesCommission": "567.55"
                                }
                            ]
                        },
                        "text/html": "<table><tr><th>EmployeeName</th><th>NumberOfProductsSold</th><th>TotalSalesAmount</th><th>SalesCommission</th></tr><tr><td>Yael Peled</td><td>53</td><td>53083.10315000000</td><td>2654.16</td></tr><tr><td>Sara Davis</td><td>40</td><td>38758.75515000000</td><td>1937.94</td></tr><tr><td>Maria Cameron</td><td>34</td><td>23152.18720000000</td><td>1157.61</td></tr><tr><td>Don Funk</td><td>31</td><td>22823.92360000000</td><td>1141.20</td></tr><tr><td>Sven Mortensen</td><td>19</td><td>21929.38720000000</td><td>1096.47</td></tr><tr><td>Judy Lew</td><td>37</td><td>19221.72160000000</td><td>961.09</td></tr><tr><td>Russell King</td><td>23</td><td>18076.07360000000</td><td>903.80</td></tr><tr><td>Paul Suurs</td><td>27</td><td>17720.21505000000</td><td>886.01</td></tr><tr><td>Patricia Doyle</td><td>12</td><td>11350.98815000000</td><td>567.55</td></tr></table>"
                    },
                    "metadata": {}
                }
            ],
            "execution_count": 67
        },
        {
            "cell_type": "markdown",
            "source": [
                "\\*\\*Complex Prompt 6 :  \n",
                "\\*\\*The NorthWinds company has been operating for several years and is interested in understanding the trends of products they are selling. They want to identify the top 3 categories that have generated the most revenue in the year 2015. For each of these categories, they also want to know the top-selling product (in terms of revenue) and its corresponding supplier. \n",
                "\n",
                "**Database :** <span style=\"color: rgb(33, 33, 33); font-family: Consolas, &quot;Courier New&quot;, monospace; font-size: 12px; white-space: pre;\">NorthWinds2022TSQLV7</span>\n",
                "\n",
                "**Tables Involved** :\n",
                "\n",
                "Sales.OrderDetail, Sales.\\[Order\\], Production.Product,\n",
                "\n",
                "Production.Category, Production.Supplier, ProductRevenue\n",
                "\n",
                "**CTE :** <span style=\"color: rgb(33, 33, 33); font-family: Consolas, &quot;Courier New&quot;, monospace; font-size: 12px; white-space: pre;\">ProductRevenue</span>\n",
                "\n",
                "**FUNCTION :**  <span style=\"color: rgb(33, 33, 33); font-family: Consolas, &quot;Courier New&quot;, monospace; font-size: 12px; white-space: pre;\">dbo.fnCalculatePopularityIndex : </span> <span style=\"color: rgb(0, 128, 0); font-family: Consolas, &quot;Courier New&quot;, monospace; font-size: 12px; white-space: pre;\">function to compute the PopularityIndex for a product.</span>"
            ],
            "metadata": {
                "azdata_cell_guid": "d119cb68-03ca-442a-b897-440cb39093ad"
            },
            "attachments": {}
        },
        {
            "cell_type": "code",
            "source": [
                "-- Set the active database to NorthWinds2022TSQLV7\r\n",
                "USE NorthWinds2022TSQLV7;\r\n",
                "GO\r\n",
                "\r\n",
                "-- Drop the function if it exists, to avoid potential re-creation issues.\r\n",
                "IF OBJECT_ID('dbo.fnCalculatePopularityIndex', 'FN') IS NOT NULL\r\n",
                "    DROP FUNCTION dbo.fnCalculatePopularityIndex;\r\n",
                "GO\r\n",
                "\r\n",
                "-- Create a user-defined function to compute the PopularityIndex for a product.\r\n",
                "CREATE FUNCTION dbo.fnCalculatePopularityIndex (@TotalSalesRevenue DECIMAL(18,2), @UnitPrice DECIMAL(18,2))\r\n",
                "RETURNS DECIMAL(18,2)\r\n",
                "AS\r\n",
                "BEGIN\r\n",
                "    DECLARE @Result DECIMAL(18,2)\r\n",
                "\r\n",
                "    IF @UnitPrice = 0\r\n",
                "        SET @Result = 0\r\n",
                "    ELSE\r\n",
                "        SET @Result = @TotalSalesRevenue / @UnitPrice\r\n",
                "        \r\n",
                "    RETURN @Result\r\n",
                "END;\r\n",
                "GO\r\n",
                "\r\n",
                "-- Using a Common Table Expression (CTE) to compute total sales revenue for each product in each category.\r\n",
                "WITH ProductRevenue AS\r\n",
                "(\r\n",
                "    SELECT \r\n",
                "        pc.CategoryName,\r\n",
                "        p.ProductName,\r\n",
                "        p.ProductID,\r\n",
                "        p.UnitPrice,\r\n",
                "        s.SupplierCompanyName,\r\n",
                "        SUM(od.UnitPrice * od.Quantity * (1 - od.DiscountPercentage / 100)) AS SalesRevenue\r\n",
                "    FROM Sales.OrderDetail od\r\n",
                "    JOIN Sales.[Order] o ON od.OrderID = o.OrderID\r\n",
                "    JOIN Production.Product p ON od.ProductID = p.ProductID\r\n",
                "    JOIN Production.Category pc ON p.CategoryID = pc.CategoryID\r\n",
                "    JOIN Production.Supplier s ON p.SupplierID = s.SupplierID\r\n",
                "    WHERE YEAR(o.OrderDate) = 2015\r\n",
                "    GROUP BY pc.CategoryName, p.ProductName, p.ProductID, p.UnitPrice, s.SupplierCompanyName\r\n",
                ")\r\n",
                "\r\n",
                "-- Main query to fetch the required information.\r\n",
                "SELECT \r\n",
                "    pr.CategoryName,\r\n",
                "    pr.ProductName,\r\n",
                "    pr.SupplierCompanyName,\r\n",
                "    pr.SalesRevenue,\r\n",
                "    -- Use the user-defined function to calculate PopularityIndex.\r\n",
                "    dbo.fnCalculatePopularityIndex(pr.SalesRevenue, pr.UnitPrice) AS PopularityIndex\r\n",
                "FROM \r\n",
                "(\r\n",
                "    SELECT \r\n",
                "        CategoryName, \r\n",
                "        MAX(SalesRevenue) AS MaxRevenue\r\n",
                "    FROM ProductRevenue\r\n",
                "    GROUP BY CategoryName\r\n",
                "    ORDER BY MAX(SalesRevenue) DESC\r\n",
                "    OFFSET 0 ROWS\r\n",
                "    FETCH NEXT 3 ROWS ONLY\r\n",
                ") AS TopCategories\r\n",
                "JOIN ProductRevenue pr ON TopCategories.CategoryName = pr.CategoryName AND TopCategories.MaxRevenue = pr.SalesRevenue\r\n",
                "ORDER BY \r\n",
                "    pr.SalesRevenue DESC, \r\n",
                "    pr.CategoryName;\r\n",
                ""
            ],
            "metadata": {
                "azdata_cell_guid": "3e74dbe8-057f-4898-9e23-f0de975faa6e",
                "language": "sql"
            },
            "outputs": [
                {
                    "output_type": "display_data",
                    "data": {
                        "text/html": "Commands completed successfully."
                    },
                    "metadata": {}
                },
                {
                    "output_type": "display_data",
                    "data": {
                        "text/html": "Commands completed successfully."
                    },
                    "metadata": {}
                },
                {
                    "output_type": "display_data",
                    "data": {
                        "text/html": "Commands completed successfully."
                    },
                    "metadata": {}
                },
                {
                    "output_type": "display_data",
                    "data": {
                        "text/html": "(3 rows affected)"
                    },
                    "metadata": {}
                },
                {
                    "output_type": "display_data",
                    "data": {
                        "text/html": "Total execution time: 00:00:00.089"
                    },
                    "metadata": {}
                },
                {
                    "output_type": "execute_result",
                    "execution_count": 73,
                    "data": {
                        "application/vnd.dataresource+json": {
                            "schema": {
                                "fields": [
                                    {
                                        "name": "CategoryName"
                                    },
                                    {
                                        "name": "ProductName"
                                    },
                                    {
                                        "name": "SupplierCompanyName"
                                    },
                                    {
                                        "name": "SalesRevenue"
                                    },
                                    {
                                        "name": "PopularityIndex"
                                    }
                                ]
                            },
                            "data": [
                                {
                                    "CategoryName": "Beverages",
                                    "ProductName": "Product QDOMO",
                                    "SupplierCompanyName": "Supplier LVJUA",
                                    "SalesRevenue": "51934.55885000000",
                                    "PopularityIndex": "197.10"
                                },
                                {
                                    "CategoryName": "Dairy Products",
                                    "ProductName": "Product UKXRI",
                                    "SupplierCompanyName": "Supplier OAVQT",
                                    "SalesRevenue": "37895.58300000000",
                                    "PopularityIndex": "689.01"
                                },
                                {
                                    "CategoryName": "Meat/Poultry",
                                    "ProductName": "Product VJXYN",
                                    "SupplierCompanyName": "Supplier SVIYA",
                                    "SalesRevenue": "36179.79733000000",
                                    "PopularityIndex": "292.27"
                                }
                            ]
                        },
                        "text/html": "<table><tr><th>CategoryName</th><th>ProductName</th><th>SupplierCompanyName</th><th>SalesRevenue</th><th>PopularityIndex</th></tr><tr><td>Beverages</td><td>Product QDOMO</td><td>Supplier LVJUA</td><td>51934.55885000000</td><td>197.10</td></tr><tr><td>Dairy Products</td><td>Product UKXRI</td><td>Supplier OAVQT</td><td>37895.58300000000</td><td>689.01</td></tr><tr><td>Meat/Poultry</td><td>Product VJXYN</td><td>Supplier SVIYA</td><td>36179.79733000000</td><td>292.27</td></tr></table>"
                    },
                    "metadata": {}
                }
            ],
            "execution_count": 73
        },
        {
            "cell_type": "markdown",
            "source": [
                "**Complex Prompt 7 :**   \n",
                "As the NorthWinds company expands its operations, there is an increasing need to evaluate supplier performance. Using data from 2014, determine which suppliers are most critical based on the demand for their products. Evaluate the top products each supplier provides and calculate a Supply Index, which is a function of the number of products a supplier has and the average sales amount of these products. A higher Supply Index indicates a more critical supplier.\n",
                "\n",
                "**Database :** <span style=\"color: rgb(33, 33, 33); font-family: Consolas, &quot;Courier New&quot;, monospace; font-size: 12px; white-space: pre;\">NorthWinds2022TSQLV7</span>\n",
                "\n",
                "**Tables Involved** : \n",
                "\n",
                "Sales.OrderDetail, Sales.\\[Order\\], Production.Product, \n",
                "\n",
                "Production.Supplier, ProductSales \n",
                "\n",
                "**CTE :** <span style=\"color: rgb(33, 33, 33); font-family: Consolas, &quot;Courier New&quot;, monospace; font-size: 12px; white-space: pre;\">ProductSales</span>\n",
                "\n",
                "**FUNCTION :**  <span style=\"color: rgb(33, 33, 33); font-family: Consolas, &quot;Courier New&quot;, monospace; font-size: 12px; white-space: pre;\">fnCalculateSupplyIndex</span>  **\\-**     <span style=\"color: rgb(0, 128, 0); font-family: Consolas, &quot;Courier New&quot;, monospace; font-size: 12px; white-space: pre;\">&nbsp;Supply Index for a supplier</span>"
            ],
            "metadata": {
                "azdata_cell_guid": "d784140b-86ee-4340-84e8-8bf1ce32289b"
            },
            "attachments": {}
        },
        {
            "cell_type": "code",
            "source": [
                "-- Set the active database to NorthWinds2022TSQLV7\r\n",
                "USE NorthWinds2022TSQLV7;\r\n",
                "GO\r\n",
                "\r\n",
                "-- Drop the function if it exists to avoid potential re-creation issues.\r\n",
                "IF OBJECT_ID('dbo.fnCalculateSupplyIndex', 'FN') IS NOT NULL\r\n",
                "    DROP FUNCTION dbo.fnCalculateSupplyIndex;\r\n",
                "GO\r\n",
                "\r\n",
                "-- Create a user-defined function to compute the Supply Index for a supplier.\r\n",
                "CREATE FUNCTION dbo.fnCalculateSupplyIndex (@NumProducts INT, @AvgSalesAmount DECIMAL(18,2))\r\n",
                "RETURNS DECIMAL(18,2)\r\n",
                "AS\r\n",
                "BEGIN\r\n",
                "    -- The Supply Index is the product of the number of products and their average sales amount.\r\n",
                "    RETURN @NumProducts * @AvgSalesAmount\r\n",
                "END;\r\n",
                "GO\r\n",
                "\r\n",
                "-- Using a Common Table Expression (CTE) to compute total sales for each product.\r\n",
                "WITH ProductSales AS\r\n",
                "(\r\n",
                "    SELECT \r\n",
                "        p.ProductID,\r\n",
                "        p.SupplierID,\r\n",
                "        SUM(od.UnitPrice * od.Quantity * (1 - od.DiscountPercentage / 100)) AS TotalSales\r\n",
                "    FROM Sales.OrderDetail od\r\n",
                "    JOIN Sales.[Order] o ON od.OrderID = o.OrderID\r\n",
                "    JOIN Production.Product p ON od.ProductID = p.ProductID\r\n",
                "    WHERE YEAR(o.OrderDate) = 2014\r\n",
                "    GROUP BY p.ProductID, p.SupplierID\r\n",
                ")\r\n",
                "\r\n",
                "-- Main query to fetch the required information.\r\n",
                "SELECT \r\n",
                "    s.SupplierCompanyName,\r\n",
                "    COUNT(ps.ProductID) AS NumberOfProducts,\r\n",
                "    AVG(ps.TotalSales) AS AvgProductSales,\r\n",
                "    -- Use the user-defined function to calculate Supply Index.\r\n",
                "    dbo.fnCalculateSupplyIndex(COUNT(ps.ProductID), AVG(ps.TotalSales)) AS SupplyIndex\r\n",
                "FROM \r\n",
                "    Production.Supplier s\r\n",
                "JOIN ProductSales ps ON s.SupplierID = ps.SupplierID\r\n",
                "GROUP BY \r\n",
                "    s.SupplierCompanyName\r\n",
                "ORDER BY \r\n",
                "    SupplyIndex DESC;\r\n",
                ""
            ],
            "metadata": {
                "azdata_cell_guid": "f4cedbe8-7fc9-4db0-b47a-1a677cd8c771",
                "language": "sql"
            },
            "outputs": [
                {
                    "output_type": "display_data",
                    "data": {
                        "text/html": "Commands completed successfully."
                    },
                    "metadata": {}
                },
                {
                    "output_type": "display_data",
                    "data": {
                        "text/html": "Commands completed successfully."
                    },
                    "metadata": {}
                },
                {
                    "output_type": "display_data",
                    "data": {
                        "text/html": "Commands completed successfully."
                    },
                    "metadata": {}
                },
                {
                    "output_type": "display_data",
                    "data": {
                        "text/html": "(29 rows affected)"
                    },
                    "metadata": {}
                },
                {
                    "output_type": "display_data",
                    "data": {
                        "text/html": "Total execution time: 00:00:00.072"
                    },
                    "metadata": {}
                },
                {
                    "output_type": "execute_result",
                    "execution_count": 82,
                    "data": {
                        "application/vnd.dataresource+json": {
                            "schema": {
                                "fields": [
                                    {
                                        "name": "SupplierCompanyName"
                                    },
                                    {
                                        "name": "NumberOfProducts"
                                    },
                                    {
                                        "name": "AvgProductSales"
                                    },
                                    {
                                        "name": "SupplyIndex"
                                    }
                                ]
                            },
                            "data": [
                                {
                                    "SupplierCompanyName": "Supplier LVJUA",
                                    "NumberOfProducts": "2",
                                    "AvgProductSales": "16646.65120000000",
                                    "SupplyIndex": "33293.30"
                                },
                                {
                                    "SupplierCompanyName": "Supplier SVIYA",
                                    "NumberOfProducts": "5",
                                    "AvgProductSales": "4356.71460000000",
                                    "SupplyIndex": "21783.55"
                                },
                                {
                                    "SupplierCompanyName": "Supplier GQRCV",
                                    "NumberOfProducts": "5",
                                    "AvgProductSales": "4356.64303000000",
                                    "SupplyIndex": "21783.20"
                                },
                                {
                                    "SupplierCompanyName": "Supplier OAVQT",
                                    "NumberOfProducts": "2",
                                    "AvgProductSales": "10103.16180000000",
                                    "SupplyIndex": "20206.32"
                                },
                                {
                                    "SupplierCompanyName": "Supplier KEREV",
                                    "NumberOfProducts": "3",
                                    "AvgProductSales": "4341.59996666666",
                                    "SupplyIndex": "13024.80"
                                },
                                {
                                    "SupplierCompanyName": "Supplier JNNES",
                                    "NumberOfProducts": "3",
                                    "AvgProductSales": "4232.06853333333",
                                    "SupplyIndex": "12696.21"
                                },
                                {
                                    "SupplierCompanyName": "Supplier OGLRK",
                                    "NumberOfProducts": "1",
                                    "AvgProductSales": "9847.53750000000",
                                    "SupplyIndex": "9847.54"
                                },
                                {
                                    "SupplierCompanyName": "Supplier BWGYE",
                                    "NumberOfProducts": "4",
                                    "AvgProductSales": "2385.03087500000",
                                    "SupplyIndex": "9540.12"
                                },
                                {
                                    "SupplierCompanyName": "Supplier NZLIF",
                                    "NumberOfProducts": "3",
                                    "AvgProductSales": "3057.12953333333",
                                    "SupplyIndex": "9171.39"
                                },
                                {
                                    "SupplierCompanyName": "Supplier CIYNM",
                                    "NumberOfProducts": "3",
                                    "AvgProductSales": "2514.09041666666",
                                    "SupplyIndex": "7542.27"
                                },
                                {
                                    "SupplierCompanyName": "Supplier VHQZD",
                                    "NumberOfProducts": "4",
                                    "AvgProductSales": "1770.99080000000",
                                    "SupplyIndex": "7083.96"
                                },
                                {
                                    "SupplierCompanyName": "Supplier ZPYVS",
                                    "NumberOfProducts": "3",
                                    "AvgProductSales": "2058.48758333333",
                                    "SupplyIndex": "6175.47"
                                },
                                {
                                    "SupplierCompanyName": "Supplier STUAZ",
                                    "NumberOfProducts": "3",
                                    "AvgProductSales": "1931.30666666666",
                                    "SupplyIndex": "5793.93"
                                },
                                {
                                    "SupplierCompanyName": "Supplier SWRXU",
                                    "NumberOfProducts": "3",
                                    "AvgProductSales": "1823.02786666666",
                                    "SupplyIndex": "5469.09"
                                },
                                {
                                    "SupplierCompanyName": "Supplier ERVYZ",
                                    "NumberOfProducts": "2",
                                    "AvgProductSales": "2640.75960000000",
                                    "SupplyIndex": "5281.52"
                                },
                                {
                                    "SupplierCompanyName": "Supplier UHZRG",
                                    "NumberOfProducts": "3",
                                    "AvgProductSales": "1669.10533333333",
                                    "SupplyIndex": "5007.33"
                                },
                                {
                                    "SupplierCompanyName": "Supplier ZWZDM",
                                    "NumberOfProducts": "2",
                                    "AvgProductSales": "2495.76630000000",
                                    "SupplyIndex": "4991.54"
                                },
                                {
                                    "SupplierCompanyName": "Supplier ELCRN",
                                    "NumberOfProducts": "3",
                                    "AvgProductSales": "1470.54780000000",
                                    "SupplyIndex": "4411.65"
                                },
                                {
                                    "SupplierCompanyName": "Supplier JDNUG",
                                    "NumberOfProducts": "2",
                                    "AvgProductSales": "1936.84522500000",
                                    "SupplyIndex": "3873.70"
                                },
                                {
                                    "SupplierCompanyName": "Supplier QZGUF",
                                    "NumberOfProducts": "3",
                                    "AvgProductSales": "1277.90986666666",
                                    "SupplyIndex": "3833.73"
                                },
                                {
                                    "SupplierCompanyName": "Supplier QOVFD",
                                    "NumberOfProducts": "2",
                                    "AvgProductSales": "1616.62720000000",
                                    "SupplyIndex": "3233.26"
                                },
                                {
                                    "SupplierCompanyName": "Supplier TEGSC",
                                    "NumberOfProducts": "1",
                                    "AvgProductSales": "3141.39060000000",
                                    "SupplyIndex": "3141.39"
                                },
                                {
                                    "SupplierCompanyName": "Supplier QWUSF",
                                    "NumberOfProducts": "3",
                                    "AvgProductSales": "773.65033333333",
                                    "SupplyIndex": "2320.95"
                                },
                                {
                                    "SupplierCompanyName": "Supplier EQPNC",
                                    "NumberOfProducts": "2",
                                    "AvgProductSales": "1088.46720000000",
                                    "SupplyIndex": "2176.94"
                                },
                                {
                                    "SupplierCompanyName": "Supplier ZRYDZ",
                                    "NumberOfProducts": "1",
                                    "AvgProductSales": "1640.35000000000",
                                    "SupplyIndex": "1640.35"
                                },
                                {
                                    "SupplierCompanyName": "Supplier XOXZA",
                                    "NumberOfProducts": "2",
                                    "AvgProductSales": "623.04360000000",
                                    "SupplyIndex": "1246.08"
                                },
                                {
                                    "SupplierCompanyName": "Supplier QQYEU",
                                    "NumberOfProducts": "2",
                                    "AvgProductSales": "428.37480000000",
                                    "SupplyIndex": "856.74"
                                },
                                {
                                    "SupplierCompanyName": "Supplier UNAHG",
                                    "NumberOfProducts": "1",
                                    "AvgProductSales": "568.67940000000",
                                    "SupplyIndex": "568.68"
                                },
                                {
                                    "SupplierCompanyName": "Supplier FNUXM",
                                    "NumberOfProducts": "1",
                                    "AvgProductSales": "121.35680000000",
                                    "SupplyIndex": "121.36"
                                }
                            ]
                        },
                        "text/html": "<table><tr><th>SupplierCompanyName</th><th>NumberOfProducts</th><th>AvgProductSales</th><th>SupplyIndex</th></tr><tr><td>Supplier LVJUA</td><td>2</td><td>16646.65120000000</td><td>33293.30</td></tr><tr><td>Supplier SVIYA</td><td>5</td><td>4356.71460000000</td><td>21783.55</td></tr><tr><td>Supplier GQRCV</td><td>5</td><td>4356.64303000000</td><td>21783.20</td></tr><tr><td>Supplier OAVQT</td><td>2</td><td>10103.16180000000</td><td>20206.32</td></tr><tr><td>Supplier KEREV</td><td>3</td><td>4341.59996666666</td><td>13024.80</td></tr><tr><td>Supplier JNNES</td><td>3</td><td>4232.06853333333</td><td>12696.21</td></tr><tr><td>Supplier OGLRK</td><td>1</td><td>9847.53750000000</td><td>9847.54</td></tr><tr><td>Supplier BWGYE</td><td>4</td><td>2385.03087500000</td><td>9540.12</td></tr><tr><td>Supplier NZLIF</td><td>3</td><td>3057.12953333333</td><td>9171.39</td></tr><tr><td>Supplier CIYNM</td><td>3</td><td>2514.09041666666</td><td>7542.27</td></tr><tr><td>Supplier VHQZD</td><td>4</td><td>1770.99080000000</td><td>7083.96</td></tr><tr><td>Supplier ZPYVS</td><td>3</td><td>2058.48758333333</td><td>6175.47</td></tr><tr><td>Supplier STUAZ</td><td>3</td><td>1931.30666666666</td><td>5793.93</td></tr><tr><td>Supplier SWRXU</td><td>3</td><td>1823.02786666666</td><td>5469.09</td></tr><tr><td>Supplier ERVYZ</td><td>2</td><td>2640.75960000000</td><td>5281.52</td></tr><tr><td>Supplier UHZRG</td><td>3</td><td>1669.10533333333</td><td>5007.33</td></tr><tr><td>Supplier ZWZDM</td><td>2</td><td>2495.76630000000</td><td>4991.54</td></tr><tr><td>Supplier ELCRN</td><td>3</td><td>1470.54780000000</td><td>4411.65</td></tr><tr><td>Supplier JDNUG</td><td>2</td><td>1936.84522500000</td><td>3873.70</td></tr><tr><td>Supplier QZGUF</td><td>3</td><td>1277.90986666666</td><td>3833.73</td></tr><tr><td>Supplier QOVFD</td><td>2</td><td>1616.62720000000</td><td>3233.26</td></tr><tr><td>Supplier TEGSC</td><td>1</td><td>3141.39060000000</td><td>3141.39</td></tr><tr><td>Supplier QWUSF</td><td>3</td><td>773.65033333333</td><td>2320.95</td></tr><tr><td>Supplier EQPNC</td><td>2</td><td>1088.46720000000</td><td>2176.94</td></tr><tr><td>Supplier ZRYDZ</td><td>1</td><td>1640.35000000000</td><td>1640.35</td></tr><tr><td>Supplier XOXZA</td><td>2</td><td>623.04360000000</td><td>1246.08</td></tr><tr><td>Supplier QQYEU</td><td>2</td><td>428.37480000000</td><td>856.74</td></tr><tr><td>Supplier UNAHG</td><td>1</td><td>568.67940000000</td><td>568.68</td></tr><tr><td>Supplier FNUXM</td><td>1</td><td>121.35680000000</td><td>121.36</td></tr></table>"
                    },
                    "metadata": {}
                }
            ],
            "execution_count": 82
        }
    ]
}