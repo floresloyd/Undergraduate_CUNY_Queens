{
    "metadata": {
        "kernelspec": {
            "name": "SQL",
            "display_name": "SQL",
            "language": "sql"
        },
        "language_info": {
            "name": "sql",
            "version": ""
        }
    },
    "nbformat_minor": 2,
    "nbformat": 4,
    "cells": [
        {
            "cell_type": "markdown",
            "source": [
                "Medium query should have from 2 to 3 tables joined and use built-in SQL functions and group by summarization. It should include combinations of subqueries or CTE or virtual tables.  \n",
                "  \n",
                "8 Medium Queries"
            ],
            "metadata": {
                "azdata_cell_guid": "a74239f7-ff30-458d-8b10-fe8676a84b7d"
            },
            "attachments": {}
        },
        {
            "cell_type": "markdown",
            "source": [
                "**Medium Prompt 1:**\n",
                "\n",
                "WideWorldImporters is interested to determine the top 3 suppliers for the last year based on the total quantity of products they supplied. Alongside this, find the average payment days associated with these suppliers. This will help us understand who our major suppliers are and the average credit terms they offer.\n",
                "\n",
                "**Database :** WideWorldImportersDW \n",
                "\n",
                "**Tables Used :** Fact.Purchase, Dimension.Supplier,\n",
                "\n",
                "**CTE :** TopSuppliers"
            ],
            "metadata": {
                "azdata_cell_guid": "36368b9b-dc2b-4771-af09-5198e3a47961"
            },
            "attachments": {}
        },
        {
            "cell_type": "code",
            "source": [
                "-- Using the WideWorldImportersDW database\r\n",
                "USE WideWorldImportersDW;\r\n",
                "\r\n",
                "-- Define a CTE to retrieve the top 3 suppliers based on total supplied quantity for the last fiscal year\r\n",
                "WITH TopSuppliers AS (\r\n",
                "    -- Retrieve the top 3 suppliers\r\n",
                "    SELECT TOP(3)\r\n",
                "        p.[Supplier Key],\r\n",
                "        -- Aggregate the total ordered quantity for each supplier\r\n",
                "        SUM(p.[Ordered Quantity]) as TotalSuppliedQuantity\r\n",
                "    FROM\r\n",
                "        Fact.Purchase p\r\n",
                "    -- Join with the Date dimension to filter results based on the fiscal year\r\n",
                "    JOIN Dimension.Date d ON p.[Date Key] = d.Date\r\n",
                "    WHERE\r\n",
                "        -- Filtering for the previous fiscal year\r\n",
                "        d.[Fiscal Year] = (SELECT MAX([Fiscal Year]) - 1 FROM Dimension.Date)\r\n",
                "    GROUP BY\r\n",
                "        p.[Supplier Key]\r\n",
                "    -- Sorting in descending order to get the top suppliers\r\n",
                "    ORDER BY\r\n",
                "        TotalSuppliedQuantity DESC\r\n",
                ")\r\n",
                "\r\n",
                "-- Main Query to retrieve supplier details along with the aggregated values from the CTE\r\n",
                "SELECT\r\n",
                "    s.Supplier,\r\n",
                "    s.[Supplier Reference],\r\n",
                "    ts.TotalSuppliedQuantity,\r\n",
                "    -- Calculate the average payment days for each of these top suppliers\r\n",
                "    AVG(s.[Payment Days]) as AveragePaymentDays\r\n",
                "FROM\r\n",
                "    TopSuppliers ts\r\n",
                "-- Join the CTE with the Supplier dimension to get detailed information about the supplier\r\n",
                "JOIN Dimension.Supplier s ON ts.[Supplier Key] = s.[Supplier Key]\r\n",
                "GROUP BY\r\n",
                "    s.Supplier,\r\n",
                "    s.[Supplier Reference],\r\n",
                "    ts.TotalSuppliedQuantity\r\n",
                "-- Sorting by the total supplied quantity to list the top supplier first\r\n",
                "ORDER BY\r\n",
                "    ts.TotalSuppliedQuantity DESC;\r\n",
                ""
            ],
            "metadata": {
                "azdata_cell_guid": "423351be-1872-45d0-a7af-275dbdca1318",
                "language": "sql"
            },
            "outputs": [
                {
                    "output_type": "display_data",
                    "data": {
                        "text/html": "(3 rows affected)"
                    },
                    "metadata": {}
                },
                {
                    "output_type": "display_data",
                    "data": {
                        "text/html": "Total execution time: 00:00:00.029"
                    },
                    "metadata": {}
                },
                {
                    "output_type": "execute_result",
                    "metadata": {},
                    "execution_count": 22,
                    "data": {
                        "application/vnd.dataresource+json": {
                            "schema": {
                                "fields": [
                                    {
                                        "name": "Supplier"
                                    },
                                    {
                                        "name": "Supplier Reference"
                                    },
                                    {
                                        "name": "TotalSuppliedQuantity"
                                    },
                                    {
                                        "name": "AveragePaymentDays"
                                    }
                                ]
                            },
                            "data": [
                                {
                                    "Supplier": "Fabrikam, Inc.",
                                    "Supplier Reference": "293092",
                                    "TotalSuppliedQuantity": "30009348",
                                    "AveragePaymentDays": "30"
                                },
                                {
                                    "Supplier": "Litware, Inc.",
                                    "Supplier Reference": "BC0280982",
                                    "TotalSuppliedQuantity": "19250561",
                                    "AveragePaymentDays": "30"
                                },
                                {
                                    "Supplier": "A Datum Corporation",
                                    "Supplier Reference": "AA20384",
                                    "TotalSuppliedQuantity": "5076",
                                    "AveragePaymentDays": "14"
                                }
                            ]
                        },
                        "text/html": [
                            "<table>",
                            "<tr><th>Supplier</th><th>Supplier Reference</th><th>TotalSuppliedQuantity</th><th>AveragePaymentDays</th></tr>",
                            "<tr><td>Fabrikam, Inc.</td><td>293092</td><td>30009348</td><td>30</td></tr>",
                            "<tr><td>Litware, Inc.</td><td>BC0280982</td><td>19250561</td><td>30</td></tr>",
                            "<tr><td>A Datum Corporation</td><td>AA20384</td><td>5076</td><td>14</td></tr>",
                            "</table>"
                        ]
                    }
                }
            ],
            "execution_count": 22
        },
        {
            "cell_type": "markdown",
            "source": [
                "**Medium Prompt 2:**\n",
                "\n",
                "WideWorldImports aims to find out the top 3 cities that has the highest number of suppliers, and for each city, we want to know the average payment days for those suppliers.\n",
                "\n",
                "**Database :** WideWorldImporters \n",
                "\n",
                "**Tables Used :** Application.Cities, Application.StateProvinces, Purchsing.Suppliers, CitySupplier  \n",
                "**CTE :**  CitySupplier"
            ],
            "metadata": {
                "language": "sql",
                "azdata_cell_guid": "a1a12558-d9b4-48f9-b950-764883a5e14e"
            },
            "attachments": {}
        },
        {
            "cell_type": "code",
            "source": [
                "USE WideWorldImporters;\r\n",
                "WITH CitySupplier AS (\r\n",
                "    SELECT \r\n",
                "        c.CityID,\r\n",
                "        c.CityName,\r\n",
                "        sp.StateProvinceName,\r\n",
                "        s.SupplierId,\r\n",
                "        s.PaymentDays\r\n",
                "    FROM Application.Cities AS c\r\n",
                "    JOIN Application.StateProvinces AS sp ON c.StateProvinceID = sp.StateProvinceID\r\n",
                "    JOIN Purchasing.Suppliers AS s ON c.CityID = s.DeliveryCityID\r\n",
                ")\r\n",
                "\r\n",
                "SELECT TOP(3)\r\n",
                "    CityName,\r\n",
                "    StateProvinceName,\r\n",
                "    COUNT(SupplierId) AS NumberOfSuppliers,\r\n",
                "    AVG(PaymentDays) AS AvgPaymentDays\r\n",
                "FROM CitySupplier\r\n",
                "GROUP BY CityName, StateProvinceName\r\n",
                "ORDER BY NumberOfSuppliers DESC\r\n",
                "\r\n",
                "-- CitySupplier is a CTE that holds CITY ID, CITY NAME, StateProvinceName\r\n",
                "-- SupplierID, PaymentDays outsourced from 3 different tables.\r\n",
                "\r\n",
                "-- We then use it on our main \r\n",
                "-- We first group each City and State together as one entity\r\n",
                "-- We then count the unique suppliers\r\n",
                "-- We then avg all entries of Paymentdays \r\n",
                "\r\n",
                "\r\n",
                ""
            ],
            "metadata": {
                "language": "sql",
                "azdata_cell_guid": "59df5d37-827b-42fd-aada-cfdf27ba10cd"
            },
            "outputs": [
                {
                    "output_type": "display_data",
                    "data": {
                        "text/html": "(3 rows affected)"
                    },
                    "metadata": {}
                },
                {
                    "output_type": "display_data",
                    "data": {
                        "text/html": "Total execution time: 00:00:00.015"
                    },
                    "metadata": {}
                },
                {
                    "output_type": "execute_result",
                    "metadata": {},
                    "execution_count": 30,
                    "data": {
                        "application/vnd.dataresource+json": {
                            "schema": {
                                "fields": [
                                    {
                                        "name": "CityName"
                                    },
                                    {
                                        "name": "StateProvinceName"
                                    },
                                    {
                                        "name": "NumberOfSuppliers"
                                    },
                                    {
                                        "name": "AvgPaymentDays"
                                    }
                                ]
                            },
                            "data": [
                                {
                                    "CityName": "San Francisco",
                                    "StateProvinceName": "California",
                                    "NumberOfSuppliers": "2",
                                    "AvgPaymentDays": "18"
                                },
                                {
                                    "CityName": "Lakeview Heights",
                                    "StateProvinceName": "Kentucky",
                                    "NumberOfSuppliers": "1",
                                    "AvgPaymentDays": "30"
                                },
                                {
                                    "CityName": "Zionsville",
                                    "StateProvinceName": "Indiana",
                                    "NumberOfSuppliers": "1",
                                    "AvgPaymentDays": "14"
                                }
                            ]
                        },
                        "text/html": [
                            "<table>",
                            "<tr><th>CityName</th><th>StateProvinceName</th><th>NumberOfSuppliers</th><th>AvgPaymentDays</th></tr>",
                            "<tr><td>San Francisco</td><td>California</td><td>2</td><td>18</td></tr>",
                            "<tr><td>Lakeview Heights</td><td>Kentucky</td><td>1</td><td>30</td></tr>",
                            "<tr><td>Zionsville</td><td>Indiana</td><td>1</td><td>14</td></tr>",
                            "</table>"
                        ]
                    }
                }
            ],
            "execution_count": 30
        },
        {
            "cell_type": "markdown",
            "source": [
                "**Medium Prompt 3:**\n",
                "\n",
                "WideWorldImporters is interested in the total sales transactions for each customer, and identify which customers have had more than five transactions in the database. For each of those customers, display their name, the city they are located in, and the total number of transactions they have made.\n",
                "\n",
                "**Database :** WideWorldImporters \n",
                "\n",
                "**Tables Used :** Application.Cities, Application.StateProvinces, Purchsing.Suppliers, CitySupplier\n",
                "\n",
                "**CTE :** CustomerTransactionCount"
            ],
            "metadata": {
                "language": "sql",
                "azdata_cell_guid": "41d38ee6-f95a-44a7-a0a0-55d933091505"
            },
            "attachments": {}
        },
        {
            "cell_type": "code",
            "source": [
                "USE WideWorldImporters;\r\n",
                "WITH CustomerTransactionCount AS (\r\n",
                "    SELECT \r\n",
                "        c.CustomerID,\r\n",
                "        c.CustomerName,\r\n",
                "        city.CityName,\r\n",
                "        COUNT(ct.CustomerTransactionID) AS TotalTransactions\r\n",
                "    FROM Sales.Customers AS c\r\n",
                "    JOIN Sales.CustomerTransactions AS ct ON c.CustomerID = ct.CustomerID\r\n",
                "    JOIN Application.Cities AS city ON c.DeliveryCityID = city.CityID\r\n",
                "    GROUP BY c.CustomerID, c.CustomerName, city.CityName\r\n",
                ")\r\n",
                "\r\n",
                "SELECT \r\n",
                "    CustomerName,\r\n",
                "    CityName,\r\n",
                "    TotalTransactions\r\n",
                "FROM CustomerTransactionCount\r\n",
                "WHERE TotalTransactions > 5\r\n",
                "ORDER BY TotalTransactions DESC;\r\n",
                "\r\n",
                "-- We first create CustomerTransactionCount CTE\r\n",
                "-- We're taking columns from Sales.CustomerTransaction, Application.Cities, and Sales.Customers\r\n",
                "-- We then filter using the where clause \r\n",
                "-- to return all customers who has had more than 5 transactions\r\n",
                ""
            ],
            "metadata": {
                "language": "sql",
                "azdata_cell_guid": "69fa0e61-da7a-4bfc-9fdb-f5849dc8c51f"
            },
            "outputs": [
                {
                    "output_type": "display_data",
                    "data": {
                        "text/html": "(263 rows affected)"
                    },
                    "metadata": {}
                },
                {
                    "output_type": "display_data",
                    "data": {
                        "text/html": "Total execution time: 00:00:00.056"
                    },
                    "metadata": {}
                },
                {
                    "output_type": "execute_result",
                    "metadata": {},
                    "execution_count": 33,
                    "data": {
                        "application/vnd.dataresource+json": {
                            "schema": {
                                "fields": [
                                    {
                                        "name": "CustomerName"
                                    },
                                    {
                                        "name": "CityName"
                                    },
                                    {
                                        "name": "TotalTransactions"
                                    }
                                ]
                            },
                            "data": [
                                {
                                    "CustomerName": "Tailspin Toys (Head Office)",
                                    "CityName": "Lisco",
                                    "TotalTransactions": "23384"
                                },
                                {
                                    "CustomerName": "Wingtip Toys (Head Office)",
                                    "CityName": "Orchard Mesa",
                                    "TotalTransactions": "23233"
                                },
                                {
                                    "CustomerName": "Bhaavan Rai",
                                    "CityName": "Chalco",
                                    "TotalTransactions": "283"
                                },
                                {
                                    "CustomerName": "Aleksandrs Riekstins",
                                    "CityName": "La Bolt",
                                    "TotalTransactions": "270"
                                },
                                {
                                    "CustomerName": "Anca Gogean",
                                    "CityName": "Arrowbear Lake",
                                    "TotalTransactions": "265"
                                },
                                {
                                    "CustomerName": "Bishwa Chatterjee",
                                    "CityName": "Lake Clarke Shores",
                                    "TotalTransactions": "264"
                                },
                                {
                                    "CustomerName": "Om Yadav",
                                    "CityName": "Lunds",
                                    "TotalTransactions": "263"
                                },
                                {
                                    "CustomerName": "Ingrida Zeltina",
                                    "CityName": "Trilby",
                                    "TotalTransactions": "261"
                                },
                                {
                                    "CustomerName": "Elina Kaleja",
                                    "CityName": "Golden Meadow",
                                    "TotalTransactions": "257"
                                },
                                {
                                    "CustomerName": "Shantanu Huq",
                                    "CityName": "Cramerton",
                                    "TotalTransactions": "256"
                                },
                                {
                                    "CustomerName": "Linh Dao",
                                    "CityName": "Mashulaville",
                                    "TotalTransactions": "253"
                                },
                                {
                                    "CustomerName": "Alinne Matos",
                                    "CityName": "Sea Island",
                                    "TotalTransactions": "250"
                                },
                                {
                                    "CustomerName": "Prabodh Nair",
                                    "CityName": "Tschetter Colony",
                                    "TotalTransactions": "249"
                                },
                                {
                                    "CustomerName": "Svetlana Todorovic",
                                    "CityName": "Venersborg",
                                    "TotalTransactions": "247"
                                },
                                {
                                    "CustomerName": "Valter Viiding",
                                    "CityName": "Cuyahoga Heights",
                                    "TotalTransactions": "247"
                                },
                                {
                                    "CustomerName": "Pinja Jantunen",
                                    "CityName": "Nehawka",
                                    "TotalTransactions": "246"
                                },
                                {
                                    "CustomerName": "Yves Belisle",
                                    "CityName": "Walapai",
                                    "TotalTransactions": "245"
                                },
                                {
                                    "CustomerName": "Edmee Glissen",
                                    "CityName": "McCammon",
                                    "TotalTransactions": "245"
                                },
                                {
                                    "CustomerName": "Ajitaab Pakalapati",
                                    "CityName": "Caruthers",
                                    "TotalTransactions": "244"
                                },
                                {
                                    "CustomerName": "Chandrashekhar Dasgupta",
                                    "CityName": "New Plymouth",
                                    "TotalTransactions": "244"
                                },
                                {
                                    "CustomerName": "Lakshmi Benipal",
                                    "CityName": "Lompoc",
                                    "TotalTransactions": "243"
                                },
                                {
                                    "CustomerName": "Lilli Sokk",
                                    "CityName": "Gresston",
                                    "TotalTransactions": "243"
                                },
                                {
                                    "CustomerName": "Sointu Savonheimo",
                                    "CityName": "Argusville",
                                    "TotalTransactions": "242"
                                },
                                {
                                    "CustomerName": "Rajeev Sandhu",
                                    "CityName": "Wasco",
                                    "TotalTransactions": "242"
                                },
                                {
                                    "CustomerName": "Eugen Agafitei",
                                    "CityName": "Shawboro",
                                    "TotalTransactions": "241"
                                },
                                {
                                    "CustomerName": "Mahmut ozbek",
                                    "CityName": "Bernardston",
                                    "TotalTransactions": "241"
                                },
                                {
                                    "CustomerName": "Marie LeBatelier",
                                    "CityName": "Coupland",
                                    "TotalTransactions": "241"
                                },
                                {
                                    "CustomerName": "Libuse Valentova",
                                    "CityName": "Elkatawa",
                                    "TotalTransactions": "241"
                                },
                                {
                                    "CustomerName": "Meera Patel",
                                    "CityName": "Hanaford",
                                    "TotalTransactions": "240"
                                },
                                {
                                    "CustomerName": "Francisca Laureano",
                                    "CityName": "Jolley",
                                    "TotalTransactions": "240"
                                },
                                {
                                    "CustomerName": "Alvin Bollinger",
                                    "CityName": "Creelsboro",
                                    "TotalTransactions": "240"
                                },
                                {
                                    "CustomerName": "Be Trang",
                                    "CityName": "Watonga",
                                    "TotalTransactions": "240"
                                },
                                {
                                    "CustomerName": "Valentin Tirlea",
                                    "CityName": "Pharr",
                                    "TotalTransactions": "239"
                                },
                                {
                                    "CustomerName": "Edgar Jogi",
                                    "CityName": "Bombay Beach",
                                    "TotalTransactions": "239"
                                },
                                {
                                    "CustomerName": "Nasrin Omidzadeh",
                                    "CityName": "Mary Esther",
                                    "TotalTransactions": "239"
                                },
                                {
                                    "CustomerName": "Lana Goransson",
                                    "CityName": "Chateaugay",
                                    "TotalTransactions": "238"
                                },
                                {
                                    "CustomerName": "Dinh Mai",
                                    "CityName": "Dorchester",
                                    "TotalTransactions": "238"
                                },
                                {
                                    "CustomerName": "Jana Fialova",
                                    "CityName": "Weigelstown",
                                    "TotalTransactions": "238"
                                },
                                {
                                    "CustomerName": "Malorie Bousquet",
                                    "CityName": "Valley View Park",
                                    "TotalTransactions": "238"
                                },
                                {
                                    "CustomerName": "Bala Dixit",
                                    "CityName": "Termo",
                                    "TotalTransactions": "238"
                                },
                                {
                                    "CustomerName": "Anindya Ghatak",
                                    "CityName": "Switz City",
                                    "TotalTransactions": "236"
                                },
                                {
                                    "CustomerName": "Leyla Asef zade",
                                    "CityName": "West Elkton",
                                    "TotalTransactions": "236"
                                },
                                {
                                    "CustomerName": "Jai Lamble",
                                    "CityName": "Grider",
                                    "TotalTransactions": "235"
                                },
                                {
                                    "CustomerName": "Leyla Siavashi",
                                    "CityName": "Marcella",
                                    "TotalTransactions": "234"
                                },
                                {
                                    "CustomerName": "Alena Kellnerova",
                                    "CityName": "Segundo",
                                    "TotalTransactions": "234"
                                },
                                {
                                    "CustomerName": "Daniel Martensson",
                                    "CityName": "Mamou",
                                    "TotalTransactions": "233"
                                },
                                {
                                    "CustomerName": "Satish Mittal",
                                    "CityName": "Dry Run",
                                    "TotalTransactions": "233"
                                },
                                {
                                    "CustomerName": "Jack Walker",
                                    "CityName": "Elbing",
                                    "TotalTransactions": "233"
                                },
                                {
                                    "CustomerName": "Jasna Cerkez",
                                    "CityName": "Elk Garden",
                                    "TotalTransactions": "233"
                                },
                                {
                                    "CustomerName": "Knut Svensson",
                                    "CityName": "Madison Park",
                                    "TotalTransactions": "232"
                                },
                                {
                                    "CustomerName": "Krishnam Allu",
                                    "CityName": "Catesby",
                                    "TotalTransactions": "230"
                                },
                                {
                                    "CustomerName": "Daakshaayaani Sankaramanchi",
                                    "CityName": "Spillville",
                                    "TotalTransactions": "230"
                                },
                                {
                                    "CustomerName": "Pavel Bogdanov",
                                    "CityName": "New Braintree",
                                    "TotalTransactions": "229"
                                },
                                {
                                    "CustomerName": "Amarasimha Vinjamuri",
                                    "CityName": "North Brookfield",
                                    "TotalTransactions": "229"
                                },
                                {
                                    "CustomerName": "Ivan Sepulveda",
                                    "CityName": "Northrop",
                                    "TotalTransactions": "229"
                                },
                                {
                                    "CustomerName": "Daakshaayaani Kommineni",
                                    "CityName": "Bakers Mill",
                                    "TotalTransactions": "229"
                                },
                                {
                                    "CustomerName": "Violetta KlanCisar",
                                    "CityName": "Bayou Cane",
                                    "TotalTransactions": "229"
                                },
                                {
                                    "CustomerName": "Joel Carrillo",
                                    "CityName": "Drumright",
                                    "TotalTransactions": "229"
                                },
                                {
                                    "CustomerName": "Eva Schulteisz",
                                    "CityName": "Hightsville",
                                    "TotalTransactions": "229"
                                },
                                {
                                    "CustomerName": "Maksims Krastins",
                                    "CityName": "Lorentz",
                                    "TotalTransactions": "228"
                                },
                                {
                                    "CustomerName": "Camille Authier",
                                    "CityName": "Abbottsburg",
                                    "TotalTransactions": "228"
                                },
                                {
                                    "CustomerName": "Clarissa Manfrin",
                                    "CityName": "Ben Arnold",
                                    "TotalTransactions": "228"
                                },
                                {
                                    "CustomerName": "Rani Ganguly",
                                    "CityName": "Arrowhead Highlands",
                                    "TotalTransactions": "227"
                                },
                                {
                                    "CustomerName": "Nada Ana Slosar",
                                    "CityName": "Cloud Lake",
                                    "TotalTransactions": "227"
                                },
                                {
                                    "CustomerName": "Allan Mannik",
                                    "CityName": "Lake Crystal",
                                    "TotalTransactions": "227"
                                },
                                {
                                    "CustomerName": "Isidora Morales",
                                    "CityName": "Twodot",
                                    "TotalTransactions": "227"
                                },
                                {
                                    "CustomerName": "Cong Hoa",
                                    "CityName": "Palatine Bridge",
                                    "TotalTransactions": "226"
                                },
                                {
                                    "CustomerName": "Madhu Dwivedi",
                                    "CityName": "Panton",
                                    "TotalTransactions": "226"
                                },
                                {
                                    "CustomerName": "Sabine Zalite",
                                    "CityName": "Haltom City",
                                    "TotalTransactions": "226"
                                },
                                {
                                    "CustomerName": "Dominic Davignon",
                                    "CityName": "Twin Peaks",
                                    "TotalTransactions": "225"
                                },
                                {
                                    "CustomerName": "Philip Walker",
                                    "CityName": "Waite Hill",
                                    "TotalTransactions": "224"
                                },
                                {
                                    "CustomerName": "Baalaamjali Devulapalli",
                                    "CityName": "Puerto de Luna",
                                    "TotalTransactions": "224"
                                },
                                {
                                    "CustomerName": "Phoung Cu",
                                    "CityName": "McCall",
                                    "TotalTransactions": "224"
                                },
                                {
                                    "CustomerName": "Caterina Pinto",
                                    "CityName": "Akhiok",
                                    "TotalTransactions": "223"
                                },
                                {
                                    "CustomerName": "Maryann Huddleston",
                                    "CityName": "Robertsburg",
                                    "TotalTransactions": "223"
                                },
                                {
                                    "CustomerName": "Mauno Laurila",
                                    "CityName": "North Eaton",
                                    "TotalTransactions": "223"
                                },
                                {
                                    "CustomerName": "Sercan Celik",
                                    "CityName": "Tolono",
                                    "TotalTransactions": "222"
                                },
                                {
                                    "CustomerName": "Chin-Sun Chang",
                                    "CityName": "Capa",
                                    "TotalTransactions": "222"
                                },
                                {
                                    "CustomerName": "Harsha Huq",
                                    "CityName": "Dennis Acres",
                                    "TotalTransactions": "222"
                                },
                                {
                                    "CustomerName": "Olya Izmaylov",
                                    "CityName": "Flowella",
                                    "TotalTransactions": "222"
                                },
                                {
                                    "CustomerName": "Arijit Bhuiyan",
                                    "CityName": "Esopus",
                                    "TotalTransactions": "221"
                                },
                                {
                                    "CustomerName": "Kamala Nishad",
                                    "CityName": "Haddon Heights",
                                    "TotalTransactions": "221"
                                },
                                {
                                    "CustomerName": "Bhagavaan Atluri",
                                    "CityName": "Coosa",
                                    "TotalTransactions": "221"
                                },
                                {
                                    "CustomerName": "Sumati Bhat",
                                    "CityName": "Harbour Pointe",
                                    "TotalTransactions": "220"
                                },
                                {
                                    "CustomerName": "Shyam Poddar",
                                    "CityName": "Tenstrike",
                                    "TotalTransactions": "220"
                                },
                                {
                                    "CustomerName": "Amarakumaar Gadiyaram",
                                    "CityName": "Vollmar",
                                    "TotalTransactions": "219"
                                },
                                {
                                    "CustomerName": "Darshana Madhunapantula",
                                    "CityName": "Tolchester Beach",
                                    "TotalTransactions": "219"
                                },
                                {
                                    "CustomerName": "Ioana Florea",
                                    "CityName": "Nahant",
                                    "TotalTransactions": "219"
                                },
                                {
                                    "CustomerName": "Seo-yun Paik",
                                    "CityName": "Jones Creek",
                                    "TotalTransactions": "219"
                                },
                                {
                                    "CustomerName": "Katerina Hadrabova",
                                    "CityName": "La Paz",
                                    "TotalTransactions": "218"
                                },
                                {
                                    "CustomerName": "Cosmina Vlad",
                                    "CityName": "Cañon",
                                    "TotalTransactions": "218"
                                },
                                {
                                    "CustomerName": "Sara Huiting",
                                    "CityName": "Bock",
                                    "TotalTransactions": "218"
                                },
                                {
                                    "CustomerName": "Liidia Lepp",
                                    "CityName": "Oakpark",
                                    "TotalTransactions": "218"
                                },
                                {
                                    "CustomerName": "Jackson Kolios",
                                    "CityName": "Rail Road Flat",
                                    "TotalTransactions": "218"
                                },
                                {
                                    "CustomerName": "Chaayaadaevi Sonti",
                                    "CityName": "Roachtown",
                                    "TotalTransactions": "218"
                                },
                                {
                                    "CustomerName": "Shi Tu",
                                    "CityName": "Sinclair",
                                    "TotalTransactions": "218"
                                },
                                {
                                    "CustomerName": "Gunnar Lohmus",
                                    "CityName": "Wanaque",
                                    "TotalTransactions": "216"
                                },
                                {
                                    "CustomerName": "Kumar Naicker",
                                    "CityName": "Oconto Falls",
                                    "TotalTransactions": "216"
                                },
                                {
                                    "CustomerName": "Surendra Sahu",
                                    "CityName": "Old River-Winfree",
                                    "TotalTransactions": "216"
                                },
                                {
                                    "CustomerName": "Hana Hlouskova",
                                    "CityName": "Moquino",
                                    "TotalTransactions": "215"
                                },
                                {
                                    "CustomerName": "Agrita Kanepa",
                                    "CityName": "Branchburg Park",
                                    "TotalTransactions": "215"
                                },
                                {
                                    "CustomerName": "Sara Walkky",
                                    "CityName": "Chipita Park",
                                    "TotalTransactions": "215"
                                },
                                {
                                    "CustomerName": "Tai Bach",
                                    "CityName": "Fortville",
                                    "TotalTransactions": "215"
                                },
                                {
                                    "CustomerName": "Anil Sarkar",
                                    "CityName": "Gardners",
                                    "TotalTransactions": "214"
                                },
                                {
                                    "CustomerName": "Marija Justina Pasek",
                                    "CityName": "Marguerite",
                                    "TotalTransactions": "214"
                                },
                                {
                                    "CustomerName": "Jitka Necesana",
                                    "CityName": "Conesus Lake",
                                    "TotalTransactions": "214"
                                },
                                {
                                    "CustomerName": "Bing Han",
                                    "CityName": "Darling",
                                    "TotalTransactions": "214"
                                },
                                {
                                    "CustomerName": "Santiago Vera",
                                    "CityName": "Nitro",
                                    "TotalTransactions": "214"
                                },
                                {
                                    "CustomerName": "Lorin Astrom",
                                    "CityName": "Port Alto",
                                    "TotalTransactions": "213"
                                },
                                {
                                    "CustomerName": "Ludmila Smidova",
                                    "CityName": "Tempe",
                                    "TotalTransactions": "213"
                                },
                                {
                                    "CustomerName": "Chuan Wattanasin",
                                    "CityName": "Flanagan",
                                    "TotalTransactions": "213"
                                },
                                {
                                    "CustomerName": "Emily Whittle",
                                    "CityName": "Huntington Woods",
                                    "TotalTransactions": "213"
                                },
                                {
                                    "CustomerName": "Ratan Poddar",
                                    "CityName": "Ekwok",
                                    "TotalTransactions": "212"
                                },
                                {
                                    "CustomerName": "Libuse Kuchtova",
                                    "CityName": "Van Alstyne",
                                    "TotalTransactions": "212"
                                },
                                {
                                    "CustomerName": "Staffan Persson",
                                    "CityName": "Phelps City",
                                    "TotalTransactions": "212"
                                },
                                {
                                    "CustomerName": "Gasper Havzija",
                                    "CityName": "Shell Knob",
                                    "TotalTransactions": "212"
                                },
                                {
                                    "CustomerName": "In-Su Bae",
                                    "CityName": "Meadowdale",
                                    "TotalTransactions": "211"
                                },
                                {
                                    "CustomerName": "Nada Jovanovic",
                                    "CityName": "North York",
                                    "TotalTransactions": "211"
                                },
                                {
                                    "CustomerName": "Kamila Michnova",
                                    "CityName": "The Colony",
                                    "TotalTransactions": "211"
                                },
                                {
                                    "CustomerName": "Volkan senturk",
                                    "CityName": "Wyndham",
                                    "TotalTransactions": "211"
                                },
                                {
                                    "CustomerName": "Jakub Lukes",
                                    "CityName": "Eagle Valley",
                                    "TotalTransactions": "211"
                                },
                                {
                                    "CustomerName": "Leonardo Folliero",
                                    "CityName": "Cotuit",
                                    "TotalTransactions": "211"
                                },
                                {
                                    "CustomerName": "Dena Glissen",
                                    "CityName": "Coffeyville",
                                    "TotalTransactions": "210"
                                },
                                {
                                    "CustomerName": "Ana Florea",
                                    "CityName": "Buchanan Lake Village",
                                    "TotalTransactions": "209"
                                },
                                {
                                    "CustomerName": "Laszlo Gardenier",
                                    "CityName": "Marion Hill",
                                    "TotalTransactions": "209"
                                },
                                {
                                    "CustomerName": "Bimla PrabhupÄda",
                                    "CityName": "Yermo",
                                    "TotalTransactions": "209"
                                },
                                {
                                    "CustomerName": "Drishti Bose",
                                    "CityName": "Wesson",
                                    "TotalTransactions": "209"
                                },
                                {
                                    "CustomerName": "Kumar Kamei",
                                    "CityName": "Middleway",
                                    "TotalTransactions": "209"
                                },
                                {
                                    "CustomerName": "Jayanta Thakur",
                                    "CityName": "Raven",
                                    "TotalTransactions": "208"
                                },
                                {
                                    "CustomerName": "Crina Grasu",
                                    "CityName": "Tamora",
                                    "TotalTransactions": "208"
                                },
                                {
                                    "CustomerName": "Isidora Urias",
                                    "CityName": "Bratt",
                                    "TotalTransactions": "208"
                                },
                                {
                                    "CustomerName": "Kwanjai Saowaluk",
                                    "CityName": "Cataño",
                                    "TotalTransactions": "207"
                                },
                                {
                                    "CustomerName": "Bahaar Asef zade",
                                    "CityName": "Alden Bridge",
                                    "TotalTransactions": "207"
                                },
                                {
                                    "CustomerName": "Raghu Sandhu",
                                    "CityName": "Bowleys Quarters",
                                    "TotalTransactions": "206"
                                },
                                {
                                    "CustomerName": "Stefan Selezeanu",
                                    "CityName": "Copake",
                                    "TotalTransactions": "206"
                                },
                                {
                                    "CustomerName": "Adrian Andreasson",
                                    "CityName": "Du Quoin",
                                    "TotalTransactions": "206"
                                },
                                {
                                    "CustomerName": "Serdar ozCelik",
                                    "CityName": "Dawn",
                                    "TotalTransactions": "206"
                                },
                                {
                                    "CustomerName": "Biju Deb",
                                    "CityName": "Deer River",
                                    "TotalTransactions": "206"
                                },
                                {
                                    "CustomerName": "Marcela Lucescu",
                                    "CityName": "Ewen",
                                    "TotalTransactions": "206"
                                },
                                {
                                    "CustomerName": "Irma Berzina",
                                    "CityName": "Newberg",
                                    "TotalTransactions": "206"
                                },
                                {
                                    "CustomerName": "Hee-Young Suh",
                                    "CityName": "Nicasio",
                                    "TotalTransactions": "206"
                                },
                                {
                                    "CustomerName": "Vedrana Kovacevic",
                                    "CityName": "Reader",
                                    "TotalTransactions": "205"
                                },
                                {
                                    "CustomerName": "Bhagavateeprasaad Malladi",
                                    "CityName": "Greenfield",
                                    "TotalTransactions": "205"
                                },
                                {
                                    "CustomerName": "Emil Roman",
                                    "CityName": "Kopperl",
                                    "TotalTransactions": "205"
                                },
                                {
                                    "CustomerName": "Dhaatri Chavva",
                                    "CityName": "Edgecomb",
                                    "TotalTransactions": "205"
                                },
                                {
                                    "CustomerName": "Kertu Sokk",
                                    "CityName": "Greig",
                                    "TotalTransactions": "204"
                                },
                                {
                                    "CustomerName": "Ida Celma",
                                    "CityName": "Hawarden",
                                    "TotalTransactions": "204"
                                },
                                {
                                    "CustomerName": "Eric Torres",
                                    "CityName": "Shell",
                                    "TotalTransactions": "204"
                                },
                                {
                                    "CustomerName": "Akhil Nadar",
                                    "CityName": "Schaal",
                                    "TotalTransactions": "204"
                                },
                                {
                                    "CustomerName": "Devraj Rao",
                                    "CityName": "Westwater",
                                    "TotalTransactions": "204"
                                },
                                {
                                    "CustomerName": "Aive Petrov",
                                    "CityName": "Virgil",
                                    "TotalTransactions": "203"
                                },
                                {
                                    "CustomerName": "Gayatri Gajula",
                                    "CityName": "Shenorock",
                                    "TotalTransactions": "203"
                                },
                                {
                                    "CustomerName": "Gopalgobinda Sikdar",
                                    "CityName": "Orpha",
                                    "TotalTransactions": "203"
                                },
                                {
                                    "CustomerName": "Sabine Alksne",
                                    "CityName": "Grannis",
                                    "TotalTransactions": "203"
                                },
                                {
                                    "CustomerName": "Gabriela Hernandes",
                                    "CityName": "Cypress Quarters",
                                    "TotalTransactions": "203"
                                },
                                {
                                    "CustomerName": "Andris Saulitis",
                                    "CityName": "El Refugio",
                                    "TotalTransactions": "202"
                                },
                                {
                                    "CustomerName": "Drazenka Jelic",
                                    "CityName": "Cherry Grove Beach",
                                    "TotalTransactions": "202"
                                },
                                {
                                    "CustomerName": "Aakriti Byrraju",
                                    "CityName": "Glenwillow",
                                    "TotalTransactions": "202"
                                },
                                {
                                    "CustomerName": "Abel Spirlea",
                                    "CityName": "Markville",
                                    "TotalTransactions": "202"
                                },
                                {
                                    "CustomerName": "Neil Farrelly",
                                    "CityName": "Sabinsville",
                                    "TotalTransactions": "202"
                                },
                                {
                                    "CustomerName": "Leila Carvalho",
                                    "CityName": "Spillertown",
                                    "TotalTransactions": "202"
                                },
                                {
                                    "CustomerName": "Anna Mazzanti",
                                    "CityName": "Humansville",
                                    "TotalTransactions": "201"
                                },
                                {
                                    "CustomerName": "Daevasree Samavedam",
                                    "CityName": "Golf View",
                                    "TotalTransactions": "200"
                                },
                                {
                                    "CustomerName": "Bhagavati Vinjamuri",
                                    "CityName": "Ewart",
                                    "TotalTransactions": "200"
                                },
                                {
                                    "CustomerName": "Matyas Sedlar",
                                    "CityName": "Calvert City",
                                    "TotalTransactions": "200"
                                },
                                {
                                    "CustomerName": "Risto Valbe",
                                    "CityName": "Bazemore",
                                    "TotalTransactions": "200"
                                },
                                {
                                    "CustomerName": "Mikhail Degtyarev",
                                    "CityName": "Beaver Bay",
                                    "TotalTransactions": "200"
                                },
                                {
                                    "CustomerName": "Laura Sykorova",
                                    "CityName": "Coyville",
                                    "TotalTransactions": "200"
                                },
                                {
                                    "CustomerName": "Rodrigo Figueiredo",
                                    "CityName": "Blackville",
                                    "TotalTransactions": "199"
                                },
                                {
                                    "CustomerName": "Debbie Molina",
                                    "CityName": "Garlin",
                                    "TotalTransactions": "198"
                                },
                                {
                                    "CustomerName": "Dhanishta Mokkapati",
                                    "CityName": "Iliamna",
                                    "TotalTransactions": "198"
                                },
                                {
                                    "CustomerName": "Kristiina Ivanov",
                                    "CityName": "Wounded Knee",
                                    "TotalTransactions": "198"
                                },
                                {
                                    "CustomerName": "Taneli Riutta",
                                    "CityName": "Sandy Level",
                                    "TotalTransactions": "198"
                                },
                                {
                                    "CustomerName": "Richard Friar",
                                    "CityName": "North Eastham",
                                    "TotalTransactions": "198"
                                },
                                {
                                    "CustomerName": "Can ozcan",
                                    "CityName": "Oley",
                                    "TotalTransactions": "197"
                                },
                                {
                                    "CustomerName": "Eliza Persson",
                                    "CityName": "Jesmond Dene",
                                    "TotalTransactions": "196"
                                },
                                {
                                    "CustomerName": "Durdanah Abbasi",
                                    "CityName": "Laurence Harbor",
                                    "TotalTransactions": "195"
                                },
                                {
                                    "CustomerName": "Jay Bhuiyan",
                                    "CityName": "Mount Pocono",
                                    "TotalTransactions": "195"
                                },
                                {
                                    "CustomerName": "Manca Hrastovsek",
                                    "CityName": "Southside",
                                    "TotalTransactions": "195"
                                },
                                {
                                    "CustomerName": "Milinka Zujovic",
                                    "CityName": "Zurich",
                                    "TotalTransactions": "194"
                                },
                                {
                                    "CustomerName": "Richard Zahradnicek",
                                    "CityName": "Jane",
                                    "TotalTransactions": "194"
                                },
                                {
                                    "CustomerName": "Anna Gyarmathi",
                                    "CityName": "Kannapolis",
                                    "TotalTransactions": "193"
                                },
                                {
                                    "CustomerName": "Ebru Erdogan",
                                    "CityName": "Seiling",
                                    "TotalTransactions": "193"
                                },
                                {
                                    "CustomerName": "Mahavir Sonkar",
                                    "CityName": "Pastura",
                                    "TotalTransactions": "193"
                                },
                                {
                                    "CustomerName": "Melani Ravlen",
                                    "CityName": "Cookietown",
                                    "TotalTransactions": "192"
                                },
                                {
                                    "CustomerName": "Roko Ilic",
                                    "CityName": "Grantsburg",
                                    "TotalTransactions": "189"
                                },
                                {
                                    "CustomerName": "Geza Roman",
                                    "CityName": "Oval",
                                    "TotalTransactions": "189"
                                },
                                {
                                    "CustomerName": "Vladimir Henzl",
                                    "CityName": "Port Chilkoot",
                                    "TotalTransactions": "188"
                                },
                                {
                                    "CustomerName": "Bhadram Kamasamudram",
                                    "CityName": "Wells",
                                    "TotalTransactions": "188"
                                },
                                {
                                    "CustomerName": "Shah Alizadeh",
                                    "CityName": "Gassaway",
                                    "TotalTransactions": "188"
                                },
                                {
                                    "CustomerName": "Victoria Lacusta",
                                    "CityName": "Conewango",
                                    "TotalTransactions": "188"
                                },
                                {
                                    "CustomerName": "Arka Chatterjee",
                                    "CityName": "Byers",
                                    "TotalTransactions": "188"
                                },
                                {
                                    "CustomerName": "Radha Barua",
                                    "CityName": "McQueen",
                                    "TotalTransactions": "187"
                                },
                                {
                                    "CustomerName": "Suparna Bhattacharya",
                                    "CityName": "Tiff City",
                                    "TotalTransactions": "187"
                                },
                                {
                                    "CustomerName": "David safranek",
                                    "CityName": "Toughkenamon",
                                    "TotalTransactions": "186"
                                },
                                {
                                    "CustomerName": "Taj Syme",
                                    "CityName": "Oakshade",
                                    "TotalTransactions": "186"
                                },
                                {
                                    "CustomerName": "Miriam House",
                                    "CityName": "Makoti",
                                    "TotalTransactions": "186"
                                },
                                {
                                    "CustomerName": "Nils Kaulins",
                                    "CityName": "Greycliff",
                                    "TotalTransactions": "185"
                                },
                                {
                                    "CustomerName": "Juan Morse",
                                    "CityName": "Greenback",
                                    "TotalTransactions": "185"
                                },
                                {
                                    "CustomerName": "Emilie Hrdlickova",
                                    "CityName": "New Zion",
                                    "TotalTransactions": "184"
                                },
                                {
                                    "CustomerName": "Chandana Shasthri",
                                    "CityName": "Nesmith",
                                    "TotalTransactions": "184"
                                },
                                {
                                    "CustomerName": "Nicolo Cattaneo",
                                    "CityName": "Schoharie",
                                    "TotalTransactions": "184"
                                },
                                {
                                    "CustomerName": "Hoc Tran",
                                    "CityName": "White Horse Beach",
                                    "TotalTransactions": "184"
                                },
                                {
                                    "CustomerName": "Magdalena Michnova",
                                    "CityName": "Wrangell",
                                    "TotalTransactions": "181"
                                },
                                {
                                    "CustomerName": "Narendra Tickoo",
                                    "CityName": "Dillon",
                                    "TotalTransactions": "181"
                                },
                                {
                                    "CustomerName": "Celica Barajas",
                                    "CityName": "Drakesboro",
                                    "TotalTransactions": "181"
                                },
                                {
                                    "CustomerName": "Olafs Rozitis",
                                    "CityName": "Sherwin",
                                    "TotalTransactions": "180"
                                },
                                {
                                    "CustomerName": "Liia Orav",
                                    "CityName": "Bladenboro",
                                    "TotalTransactions": "177"
                                },
                                {
                                    "CustomerName": "Hue Ton",
                                    "CityName": "Holden Beach",
                                    "TotalTransactions": "177"
                                },
                                {
                                    "CustomerName": "Bijoya Thakur",
                                    "CityName": "Kinder",
                                    "TotalTransactions": "176"
                                },
                                {
                                    "CustomerName": "Pari Hosseini",
                                    "CityName": "Soham",
                                    "TotalTransactions": "176"
                                },
                                {
                                    "CustomerName": "Baran Jonsson",
                                    "CityName": "Cave Junction",
                                    "TotalTransactions": "175"
                                },
                                {
                                    "CustomerName": "Johanna Hoornstra",
                                    "CityName": "Petronila",
                                    "TotalTransactions": "172"
                                },
                                {
                                    "CustomerName": "Nhung Thach",
                                    "CityName": "Red Mesa",
                                    "TotalTransactions": "170"
                                },
                                {
                                    "CustomerName": "Kristi Part",
                                    "CityName": "Yerington",
                                    "TotalTransactions": "170"
                                },
                                {
                                    "CustomerName": "David Novacek ",
                                    "CityName": "Corryton",
                                    "TotalTransactions": "168"
                                },
                                {
                                    "CustomerName": "Annette  Hetu",
                                    "CityName": "Hanna",
                                    "TotalTransactions": "168"
                                },
                                {
                                    "CustomerName": "Sumati Chatterjee",
                                    "CityName": "North Muskegon",
                                    "TotalTransactions": "167"
                                },
                                {
                                    "CustomerName": "Nadir Seddigh",
                                    "CityName": "Biorka",
                                    "TotalTransactions": "162"
                                },
                                {
                                    "CustomerName": "Urve Kasesalu",
                                    "CityName": "Cherokee",
                                    "TotalTransactions": "161"
                                },
                                {
                                    "CustomerName": "Tuulikki Linna",
                                    "CityName": "Otterville",
                                    "TotalTransactions": "160"
                                },
                                {
                                    "CustomerName": "Isa Hulsegge",
                                    "CityName": "Saxapahaw",
                                    "TotalTransactions": "155"
                                },
                                {
                                    "CustomerName": "Farzana Habibi",
                                    "CityName": "Brookville",
                                    "TotalTransactions": "155"
                                },
                                {
                                    "CustomerName": "Hai Banh",
                                    "CityName": "Claremont",
                                    "TotalTransactions": "151"
                                },
                                {
                                    "CustomerName": "Dipti Shah",
                                    "CityName": "Scioto Furnace",
                                    "TotalTransactions": "149"
                                },
                                {
                                    "CustomerName": "Fabrice Cloutier",
                                    "CityName": "Staley",
                                    "TotalTransactions": "148"
                                },
                                {
                                    "CustomerName": "Abel Tatarescu",
                                    "CityName": "La Grange Park",
                                    "TotalTransactions": "148"
                                },
                                {
                                    "CustomerName": "Veronika Necesana",
                                    "CityName": "Dover",
                                    "TotalTransactions": "143"
                                },
                                {
                                    "CustomerName": "Dhanishta Pullela",
                                    "CityName": "Gallipolis Ferry",
                                    "TotalTransactions": "142"
                                },
                                {
                                    "CustomerName": "Serdar ozden",
                                    "CityName": "Richland",
                                    "TotalTransactions": "142"
                                },
                                {
                                    "CustomerName": "Cuneyt Arslan",
                                    "CityName": "Komalty",
                                    "TotalTransactions": "137"
                                },
                                {
                                    "CustomerName": "Som Mukherjee",
                                    "CityName": "Moroni",
                                    "TotalTransactions": "136"
                                },
                                {
                                    "CustomerName": "Daniella Cavalcante",
                                    "CityName": "Ravia",
                                    "TotalTransactions": "129"
                                },
                                {
                                    "CustomerName": "David Jaramillo",
                                    "CityName": "Ridgeway",
                                    "TotalTransactions": "127"
                                },
                                {
                                    "CustomerName": "Emma Van Zant",
                                    "CityName": "Wray",
                                    "TotalTransactions": "127"
                                },
                                {
                                    "CustomerName": "Aishwarya Dantuluri",
                                    "CityName": "Biggs",
                                    "TotalTransactions": "117"
                                },
                                {
                                    "CustomerName": "Damodar Shenoy",
                                    "CityName": "Scott",
                                    "TotalTransactions": "108"
                                },
                                {
                                    "CustomerName": "Chompoo Atitarn",
                                    "CityName": "Ashland",
                                    "TotalTransactions": "105"
                                },
                                {
                                    "CustomerName": "Raj Verma",
                                    "CityName": "Colebrook",
                                    "TotalTransactions": "102"
                                },
                                {
                                    "CustomerName": "Matteo Cattaneo",
                                    "CityName": "Nicholson",
                                    "TotalTransactions": "101"
                                },
                                {
                                    "CustomerName": "Manjunatha Karnik",
                                    "CityName": "Wright City",
                                    "TotalTransactions": "98"
                                },
                                {
                                    "CustomerName": "Damodara Trivedi",
                                    "CityName": "Tarzan",
                                    "TotalTransactions": "98"
                                },
                                {
                                    "CustomerName": "Bhaamini Palagummi",
                                    "CityName": "Lake Mohegan",
                                    "TotalTransactions": "97"
                                },
                                {
                                    "CustomerName": "Nguyen Banh",
                                    "CityName": "Florahome",
                                    "TotalTransactions": "92"
                                },
                                {
                                    "CustomerName": "Tomo Vidovic",
                                    "CityName": "Tremont",
                                    "TotalTransactions": "92"
                                },
                                {
                                    "CustomerName": "Erik Malk",
                                    "CityName": "Basin",
                                    "TotalTransactions": "88"
                                },
                                {
                                    "CustomerName": "Hanita Nookala",
                                    "CityName": "Meaux",
                                    "TotalTransactions": "81"
                                },
                                {
                                    "CustomerName": "Christian Couet",
                                    "CityName": "Great Neck",
                                    "TotalTransactions": "70"
                                },
                                {
                                    "CustomerName": "Ian Olofsson",
                                    "CityName": "Liberty Plain",
                                    "TotalTransactions": "55"
                                },
                                {
                                    "CustomerName": "Ivana Hadrabova",
                                    "CityName": "Lancaster",
                                    "TotalTransactions": "52"
                                },
                                {
                                    "CustomerName": "Amet Shergill",
                                    "CityName": "Yampa",
                                    "TotalTransactions": "52"
                                },
                                {
                                    "CustomerName": "Emma Salpa",
                                    "CityName": "Rogersville",
                                    "TotalTransactions": "51"
                                },
                                {
                                    "CustomerName": "Adriana Pena",
                                    "CityName": "Roberta Mill",
                                    "TotalTransactions": "44"
                                },
                                {
                                    "CustomerName": "Luis Saucedo",
                                    "CityName": "Linden",
                                    "TotalTransactions": "43"
                                },
                                {
                                    "CustomerName": "Sylvie Laramee",
                                    "CityName": "Isabela",
                                    "TotalTransactions": "41"
                                },
                                {
                                    "CustomerName": "Abhra Ganguly",
                                    "CityName": "Walker Valley",
                                    "TotalTransactions": "38"
                                },
                                {
                                    "CustomerName": "Ganesh Majumdar",
                                    "CityName": "Orland Hills",
                                    "TotalTransactions": "36"
                                },
                                {
                                    "CustomerName": "Amrita Ganguly",
                                    "CityName": "Palmas del Mar",
                                    "TotalTransactions": "33"
                                },
                                {
                                    "CustomerName": "Jaroslav Fisar",
                                    "CityName": "Sigel",
                                    "TotalTransactions": "27"
                                },
                                {
                                    "CustomerName": "Kalyani Benjaree",
                                    "CityName": "Bowmansville",
                                    "TotalTransactions": "26"
                                },
                                {
                                    "CustomerName": "Jibek Juniskyzy",
                                    "CityName": "Ellisville",
                                    "TotalTransactions": "16"
                                },
                                {
                                    "CustomerName": "Agrita Abele",
                                    "CityName": "Long Beach",
                                    "TotalTransactions": "12"
                                },
                                {
                                    "CustomerName": "Anand Mudaliyar",
                                    "CityName": "Midland",
                                    "TotalTransactions": "8"
                                }
                            ]
                        },
                        "text/html": [
                            "<table>",
                            "<tr><th>CustomerName</th><th>CityName</th><th>TotalTransactions</th></tr>",
                            "<tr><td>Tailspin Toys (Head Office)</td><td>Lisco</td><td>23384</td></tr>",
                            "<tr><td>Wingtip Toys (Head Office)</td><td>Orchard Mesa</td><td>23233</td></tr>",
                            "<tr><td>Bhaavan Rai</td><td>Chalco</td><td>283</td></tr>",
                            "<tr><td>Aleksandrs Riekstins</td><td>La Bolt</td><td>270</td></tr>",
                            "<tr><td>Anca Gogean</td><td>Arrowbear Lake</td><td>265</td></tr>",
                            "<tr><td>Bishwa Chatterjee</td><td>Lake Clarke Shores</td><td>264</td></tr>",
                            "<tr><td>Om Yadav</td><td>Lunds</td><td>263</td></tr>",
                            "<tr><td>Ingrida Zeltina</td><td>Trilby</td><td>261</td></tr>",
                            "<tr><td>Elina Kaleja</td><td>Golden Meadow</td><td>257</td></tr>",
                            "<tr><td>Shantanu Huq</td><td>Cramerton</td><td>256</td></tr>",
                            "<tr><td>Linh Dao</td><td>Mashulaville</td><td>253</td></tr>",
                            "<tr><td>Alinne Matos</td><td>Sea Island</td><td>250</td></tr>",
                            "<tr><td>Prabodh Nair</td><td>Tschetter Colony</td><td>249</td></tr>",
                            "<tr><td>Svetlana Todorovic</td><td>Venersborg</td><td>247</td></tr>",
                            "<tr><td>Valter Viiding</td><td>Cuyahoga Heights</td><td>247</td></tr>",
                            "<tr><td>Pinja Jantunen</td><td>Nehawka</td><td>246</td></tr>",
                            "<tr><td>Yves Belisle</td><td>Walapai</td><td>245</td></tr>",
                            "<tr><td>Edmee Glissen</td><td>McCammon</td><td>245</td></tr>",
                            "<tr><td>Ajitaab Pakalapati</td><td>Caruthers</td><td>244</td></tr>",
                            "<tr><td>Chandrashekhar Dasgupta</td><td>New Plymouth</td><td>244</td></tr>",
                            "<tr><td>Lakshmi Benipal</td><td>Lompoc</td><td>243</td></tr>",
                            "<tr><td>Lilli Sokk</td><td>Gresston</td><td>243</td></tr>",
                            "<tr><td>Sointu Savonheimo</td><td>Argusville</td><td>242</td></tr>",
                            "<tr><td>Rajeev Sandhu</td><td>Wasco</td><td>242</td></tr>",
                            "<tr><td>Eugen Agafitei</td><td>Shawboro</td><td>241</td></tr>",
                            "<tr><td>Mahmut ozbek</td><td>Bernardston</td><td>241</td></tr>",
                            "<tr><td>Marie LeBatelier</td><td>Coupland</td><td>241</td></tr>",
                            "<tr><td>Libuse Valentova</td><td>Elkatawa</td><td>241</td></tr>",
                            "<tr><td>Meera Patel</td><td>Hanaford</td><td>240</td></tr>",
                            "<tr><td>Francisca Laureano</td><td>Jolley</td><td>240</td></tr>",
                            "<tr><td>Alvin Bollinger</td><td>Creelsboro</td><td>240</td></tr>",
                            "<tr><td>Be Trang</td><td>Watonga</td><td>240</td></tr>",
                            "<tr><td>Valentin Tirlea</td><td>Pharr</td><td>239</td></tr>",
                            "<tr><td>Edgar Jogi</td><td>Bombay Beach</td><td>239</td></tr>",
                            "<tr><td>Nasrin Omidzadeh</td><td>Mary Esther</td><td>239</td></tr>",
                            "<tr><td>Lana Goransson</td><td>Chateaugay</td><td>238</td></tr>",
                            "<tr><td>Dinh Mai</td><td>Dorchester</td><td>238</td></tr>",
                            "<tr><td>Jana Fialova</td><td>Weigelstown</td><td>238</td></tr>",
                            "<tr><td>Malorie Bousquet</td><td>Valley View Park</td><td>238</td></tr>",
                            "<tr><td>Bala Dixit</td><td>Termo</td><td>238</td></tr>",
                            "<tr><td>Anindya Ghatak</td><td>Switz City</td><td>236</td></tr>",
                            "<tr><td>Leyla Asef zade</td><td>West Elkton</td><td>236</td></tr>",
                            "<tr><td>Jai Lamble</td><td>Grider</td><td>235</td></tr>",
                            "<tr><td>Leyla Siavashi</td><td>Marcella</td><td>234</td></tr>",
                            "<tr><td>Alena Kellnerova</td><td>Segundo</td><td>234</td></tr>",
                            "<tr><td>Daniel Martensson</td><td>Mamou</td><td>233</td></tr>",
                            "<tr><td>Satish Mittal</td><td>Dry Run</td><td>233</td></tr>",
                            "<tr><td>Jack Walker</td><td>Elbing</td><td>233</td></tr>",
                            "<tr><td>Jasna Cerkez</td><td>Elk Garden</td><td>233</td></tr>",
                            "<tr><td>Knut Svensson</td><td>Madison Park</td><td>232</td></tr>",
                            "<tr><td>Krishnam Allu</td><td>Catesby</td><td>230</td></tr>",
                            "<tr><td>Daakshaayaani Sankaramanchi</td><td>Spillville</td><td>230</td></tr>",
                            "<tr><td>Pavel Bogdanov</td><td>New Braintree</td><td>229</td></tr>",
                            "<tr><td>Amarasimha Vinjamuri</td><td>North Brookfield</td><td>229</td></tr>",
                            "<tr><td>Ivan Sepulveda</td><td>Northrop</td><td>229</td></tr>",
                            "<tr><td>Daakshaayaani Kommineni</td><td>Bakers Mill</td><td>229</td></tr>",
                            "<tr><td>Violetta KlanCisar</td><td>Bayou Cane</td><td>229</td></tr>",
                            "<tr><td>Joel Carrillo</td><td>Drumright</td><td>229</td></tr>",
                            "<tr><td>Eva Schulteisz</td><td>Hightsville</td><td>229</td></tr>",
                            "<tr><td>Maksims Krastins</td><td>Lorentz</td><td>228</td></tr>",
                            "<tr><td>Camille Authier</td><td>Abbottsburg</td><td>228</td></tr>",
                            "<tr><td>Clarissa Manfrin</td><td>Ben Arnold</td><td>228</td></tr>",
                            "<tr><td>Rani Ganguly</td><td>Arrowhead Highlands</td><td>227</td></tr>",
                            "<tr><td>Nada Ana Slosar</td><td>Cloud Lake</td><td>227</td></tr>",
                            "<tr><td>Allan Mannik</td><td>Lake Crystal</td><td>227</td></tr>",
                            "<tr><td>Isidora Morales</td><td>Twodot</td><td>227</td></tr>",
                            "<tr><td>Cong Hoa</td><td>Palatine Bridge</td><td>226</td></tr>",
                            "<tr><td>Madhu Dwivedi</td><td>Panton</td><td>226</td></tr>",
                            "<tr><td>Sabine Zalite</td><td>Haltom City</td><td>226</td></tr>",
                            "<tr><td>Dominic Davignon</td><td>Twin Peaks</td><td>225</td></tr>",
                            "<tr><td>Philip Walker</td><td>Waite Hill</td><td>224</td></tr>",
                            "<tr><td>Baalaamjali Devulapalli</td><td>Puerto de Luna</td><td>224</td></tr>",
                            "<tr><td>Phoung Cu</td><td>McCall</td><td>224</td></tr>",
                            "<tr><td>Caterina Pinto</td><td>Akhiok</td><td>223</td></tr>",
                            "<tr><td>Maryann Huddleston</td><td>Robertsburg</td><td>223</td></tr>",
                            "<tr><td>Mauno Laurila</td><td>North Eaton</td><td>223</td></tr>",
                            "<tr><td>Sercan Celik</td><td>Tolono</td><td>222</td></tr>",
                            "<tr><td>Chin-Sun Chang</td><td>Capa</td><td>222</td></tr>",
                            "<tr><td>Harsha Huq</td><td>Dennis Acres</td><td>222</td></tr>",
                            "<tr><td>Olya Izmaylov</td><td>Flowella</td><td>222</td></tr>",
                            "<tr><td>Arijit Bhuiyan</td><td>Esopus</td><td>221</td></tr>",
                            "<tr><td>Kamala Nishad</td><td>Haddon Heights</td><td>221</td></tr>",
                            "<tr><td>Bhagavaan Atluri</td><td>Coosa</td><td>221</td></tr>",
                            "<tr><td>Sumati Bhat</td><td>Harbour Pointe</td><td>220</td></tr>",
                            "<tr><td>Shyam Poddar</td><td>Tenstrike</td><td>220</td></tr>",
                            "<tr><td>Amarakumaar Gadiyaram</td><td>Vollmar</td><td>219</td></tr>",
                            "<tr><td>Darshana Madhunapantula</td><td>Tolchester Beach</td><td>219</td></tr>",
                            "<tr><td>Ioana Florea</td><td>Nahant</td><td>219</td></tr>",
                            "<tr><td>Seo-yun Paik</td><td>Jones Creek</td><td>219</td></tr>",
                            "<tr><td>Katerina Hadrabova</td><td>La Paz</td><td>218</td></tr>",
                            "<tr><td>Cosmina Vlad</td><td>Cañon</td><td>218</td></tr>",
                            "<tr><td>Sara Huiting</td><td>Bock</td><td>218</td></tr>",
                            "<tr><td>Liidia Lepp</td><td>Oakpark</td><td>218</td></tr>",
                            "<tr><td>Jackson Kolios</td><td>Rail Road Flat</td><td>218</td></tr>",
                            "<tr><td>Chaayaadaevi Sonti</td><td>Roachtown</td><td>218</td></tr>",
                            "<tr><td>Shi Tu</td><td>Sinclair</td><td>218</td></tr>",
                            "<tr><td>Gunnar Lohmus</td><td>Wanaque</td><td>216</td></tr>",
                            "<tr><td>Kumar Naicker</td><td>Oconto Falls</td><td>216</td></tr>",
                            "<tr><td>Surendra Sahu</td><td>Old River-Winfree</td><td>216</td></tr>",
                            "<tr><td>Hana Hlouskova</td><td>Moquino</td><td>215</td></tr>",
                            "<tr><td>Agrita Kanepa</td><td>Branchburg Park</td><td>215</td></tr>",
                            "<tr><td>Sara Walkky</td><td>Chipita Park</td><td>215</td></tr>",
                            "<tr><td>Tai Bach</td><td>Fortville</td><td>215</td></tr>",
                            "<tr><td>Anil Sarkar</td><td>Gardners</td><td>214</td></tr>",
                            "<tr><td>Marija Justina Pasek</td><td>Marguerite</td><td>214</td></tr>",
                            "<tr><td>Jitka Necesana</td><td>Conesus Lake</td><td>214</td></tr>",
                            "<tr><td>Bing Han</td><td>Darling</td><td>214</td></tr>",
                            "<tr><td>Santiago Vera</td><td>Nitro</td><td>214</td></tr>",
                            "<tr><td>Lorin Astrom</td><td>Port Alto</td><td>213</td></tr>",
                            "<tr><td>Ludmila Smidova</td><td>Tempe</td><td>213</td></tr>",
                            "<tr><td>Chuan Wattanasin</td><td>Flanagan</td><td>213</td></tr>",
                            "<tr><td>Emily Whittle</td><td>Huntington Woods</td><td>213</td></tr>",
                            "<tr><td>Ratan Poddar</td><td>Ekwok</td><td>212</td></tr>",
                            "<tr><td>Libuse Kuchtova</td><td>Van Alstyne</td><td>212</td></tr>",
                            "<tr><td>Staffan Persson</td><td>Phelps City</td><td>212</td></tr>",
                            "<tr><td>Gasper Havzija</td><td>Shell Knob</td><td>212</td></tr>",
                            "<tr><td>In-Su Bae</td><td>Meadowdale</td><td>211</td></tr>",
                            "<tr><td>Nada Jovanovic</td><td>North York</td><td>211</td></tr>",
                            "<tr><td>Kamila Michnova</td><td>The Colony</td><td>211</td></tr>",
                            "<tr><td>Volkan senturk</td><td>Wyndham</td><td>211</td></tr>",
                            "<tr><td>Jakub Lukes</td><td>Eagle Valley</td><td>211</td></tr>",
                            "<tr><td>Leonardo Folliero</td><td>Cotuit</td><td>211</td></tr>",
                            "<tr><td>Dena Glissen</td><td>Coffeyville</td><td>210</td></tr>",
                            "<tr><td>Ana Florea</td><td>Buchanan Lake Village</td><td>209</td></tr>",
                            "<tr><td>Laszlo Gardenier</td><td>Marion Hill</td><td>209</td></tr>",
                            "<tr><td>Bimla PrabhupÄda</td><td>Yermo</td><td>209</td></tr>",
                            "<tr><td>Drishti Bose</td><td>Wesson</td><td>209</td></tr>",
                            "<tr><td>Kumar Kamei</td><td>Middleway</td><td>209</td></tr>",
                            "<tr><td>Jayanta Thakur</td><td>Raven</td><td>208</td></tr>",
                            "<tr><td>Crina Grasu</td><td>Tamora</td><td>208</td></tr>",
                            "<tr><td>Isidora Urias</td><td>Bratt</td><td>208</td></tr>",
                            "<tr><td>Kwanjai Saowaluk</td><td>Cataño</td><td>207</td></tr>",
                            "<tr><td>Bahaar Asef zade</td><td>Alden Bridge</td><td>207</td></tr>",
                            "<tr><td>Raghu Sandhu</td><td>Bowleys Quarters</td><td>206</td></tr>",
                            "<tr><td>Stefan Selezeanu</td><td>Copake</td><td>206</td></tr>",
                            "<tr><td>Adrian Andreasson</td><td>Du Quoin</td><td>206</td></tr>",
                            "<tr><td>Serdar ozCelik</td><td>Dawn</td><td>206</td></tr>",
                            "<tr><td>Biju Deb</td><td>Deer River</td><td>206</td></tr>",
                            "<tr><td>Marcela Lucescu</td><td>Ewen</td><td>206</td></tr>",
                            "<tr><td>Irma Berzina</td><td>Newberg</td><td>206</td></tr>",
                            "<tr><td>Hee-Young Suh</td><td>Nicasio</td><td>206</td></tr>",
                            "<tr><td>Vedrana Kovacevic</td><td>Reader</td><td>205</td></tr>",
                            "<tr><td>Bhagavateeprasaad Malladi</td><td>Greenfield</td><td>205</td></tr>",
                            "<tr><td>Emil Roman</td><td>Kopperl</td><td>205</td></tr>",
                            "<tr><td>Dhaatri Chavva</td><td>Edgecomb</td><td>205</td></tr>",
                            "<tr><td>Kertu Sokk</td><td>Greig</td><td>204</td></tr>",
                            "<tr><td>Ida Celma</td><td>Hawarden</td><td>204</td></tr>",
                            "<tr><td>Eric Torres</td><td>Shell</td><td>204</td></tr>",
                            "<tr><td>Akhil Nadar</td><td>Schaal</td><td>204</td></tr>",
                            "<tr><td>Devraj Rao</td><td>Westwater</td><td>204</td></tr>",
                            "<tr><td>Aive Petrov</td><td>Virgil</td><td>203</td></tr>",
                            "<tr><td>Gayatri Gajula</td><td>Shenorock</td><td>203</td></tr>",
                            "<tr><td>Gopalgobinda Sikdar</td><td>Orpha</td><td>203</td></tr>",
                            "<tr><td>Sabine Alksne</td><td>Grannis</td><td>203</td></tr>",
                            "<tr><td>Gabriela Hernandes</td><td>Cypress Quarters</td><td>203</td></tr>",
                            "<tr><td>Andris Saulitis</td><td>El Refugio</td><td>202</td></tr>",
                            "<tr><td>Drazenka Jelic</td><td>Cherry Grove Beach</td><td>202</td></tr>",
                            "<tr><td>Aakriti Byrraju</td><td>Glenwillow</td><td>202</td></tr>",
                            "<tr><td>Abel Spirlea</td><td>Markville</td><td>202</td></tr>",
                            "<tr><td>Neil Farrelly</td><td>Sabinsville</td><td>202</td></tr>",
                            "<tr><td>Leila Carvalho</td><td>Spillertown</td><td>202</td></tr>",
                            "<tr><td>Anna Mazzanti</td><td>Humansville</td><td>201</td></tr>",
                            "<tr><td>Daevasree Samavedam</td><td>Golf View</td><td>200</td></tr>",
                            "<tr><td>Bhagavati Vinjamuri</td><td>Ewart</td><td>200</td></tr>",
                            "<tr><td>Matyas Sedlar</td><td>Calvert City</td><td>200</td></tr>",
                            "<tr><td>Risto Valbe</td><td>Bazemore</td><td>200</td></tr>",
                            "<tr><td>Mikhail Degtyarev</td><td>Beaver Bay</td><td>200</td></tr>",
                            "<tr><td>Laura Sykorova</td><td>Coyville</td><td>200</td></tr>",
                            "<tr><td>Rodrigo Figueiredo</td><td>Blackville</td><td>199</td></tr>",
                            "<tr><td>Debbie Molina</td><td>Garlin</td><td>198</td></tr>",
                            "<tr><td>Dhanishta Mokkapati</td><td>Iliamna</td><td>198</td></tr>",
                            "<tr><td>Kristiina Ivanov</td><td>Wounded Knee</td><td>198</td></tr>",
                            "<tr><td>Taneli Riutta</td><td>Sandy Level</td><td>198</td></tr>",
                            "<tr><td>Richard Friar</td><td>North Eastham</td><td>198</td></tr>",
                            "<tr><td>Can ozcan</td><td>Oley</td><td>197</td></tr>",
                            "<tr><td>Eliza Persson</td><td>Jesmond Dene</td><td>196</td></tr>",
                            "<tr><td>Durdanah Abbasi</td><td>Laurence Harbor</td><td>195</td></tr>",
                            "<tr><td>Jay Bhuiyan</td><td>Mount Pocono</td><td>195</td></tr>",
                            "<tr><td>Manca Hrastovsek</td><td>Southside</td><td>195</td></tr>",
                            "<tr><td>Milinka Zujovic</td><td>Zurich</td><td>194</td></tr>",
                            "<tr><td>Richard Zahradnicek</td><td>Jane</td><td>194</td></tr>",
                            "<tr><td>Anna Gyarmathi</td><td>Kannapolis</td><td>193</td></tr>",
                            "<tr><td>Ebru Erdogan</td><td>Seiling</td><td>193</td></tr>",
                            "<tr><td>Mahavir Sonkar</td><td>Pastura</td><td>193</td></tr>",
                            "<tr><td>Melani Ravlen</td><td>Cookietown</td><td>192</td></tr>",
                            "<tr><td>Roko Ilic</td><td>Grantsburg</td><td>189</td></tr>",
                            "<tr><td>Geza Roman</td><td>Oval</td><td>189</td></tr>",
                            "<tr><td>Vladimir Henzl</td><td>Port Chilkoot</td><td>188</td></tr>",
                            "<tr><td>Bhadram Kamasamudram</td><td>Wells</td><td>188</td></tr>",
                            "<tr><td>Shah Alizadeh</td><td>Gassaway</td><td>188</td></tr>",
                            "<tr><td>Victoria Lacusta</td><td>Conewango</td><td>188</td></tr>",
                            "<tr><td>Arka Chatterjee</td><td>Byers</td><td>188</td></tr>",
                            "<tr><td>Radha Barua</td><td>McQueen</td><td>187</td></tr>",
                            "<tr><td>Suparna Bhattacharya</td><td>Tiff City</td><td>187</td></tr>",
                            "<tr><td>David safranek</td><td>Toughkenamon</td><td>186</td></tr>",
                            "<tr><td>Taj Syme</td><td>Oakshade</td><td>186</td></tr>",
                            "<tr><td>Miriam House</td><td>Makoti</td><td>186</td></tr>",
                            "<tr><td>Nils Kaulins</td><td>Greycliff</td><td>185</td></tr>",
                            "<tr><td>Juan Morse</td><td>Greenback</td><td>185</td></tr>",
                            "<tr><td>Emilie Hrdlickova</td><td>New Zion</td><td>184</td></tr>",
                            "<tr><td>Chandana Shasthri</td><td>Nesmith</td><td>184</td></tr>",
                            "<tr><td>Nicolo Cattaneo</td><td>Schoharie</td><td>184</td></tr>",
                            "<tr><td>Hoc Tran</td><td>White Horse Beach</td><td>184</td></tr>",
                            "<tr><td>Magdalena Michnova</td><td>Wrangell</td><td>181</td></tr>",
                            "<tr><td>Narendra Tickoo</td><td>Dillon</td><td>181</td></tr>",
                            "<tr><td>Celica Barajas</td><td>Drakesboro</td><td>181</td></tr>",
                            "<tr><td>Olafs Rozitis</td><td>Sherwin</td><td>180</td></tr>",
                            "<tr><td>Liia Orav</td><td>Bladenboro</td><td>177</td></tr>",
                            "<tr><td>Hue Ton</td><td>Holden Beach</td><td>177</td></tr>",
                            "<tr><td>Bijoya Thakur</td><td>Kinder</td><td>176</td></tr>",
                            "<tr><td>Pari Hosseini</td><td>Soham</td><td>176</td></tr>",
                            "<tr><td>Baran Jonsson</td><td>Cave Junction</td><td>175</td></tr>",
                            "<tr><td>Johanna Hoornstra</td><td>Petronila</td><td>172</td></tr>",
                            "<tr><td>Nhung Thach</td><td>Red Mesa</td><td>170</td></tr>",
                            "<tr><td>Kristi Part</td><td>Yerington</td><td>170</td></tr>",
                            "<tr><td>David Novacek </td><td>Corryton</td><td>168</td></tr>",
                            "<tr><td>Annette  Hetu</td><td>Hanna</td><td>168</td></tr>",
                            "<tr><td>Sumati Chatterjee</td><td>North Muskegon</td><td>167</td></tr>",
                            "<tr><td>Nadir Seddigh</td><td>Biorka</td><td>162</td></tr>",
                            "<tr><td>Urve Kasesalu</td><td>Cherokee</td><td>161</td></tr>",
                            "<tr><td>Tuulikki Linna</td><td>Otterville</td><td>160</td></tr>",
                            "<tr><td>Isa Hulsegge</td><td>Saxapahaw</td><td>155</td></tr>",
                            "<tr><td>Farzana Habibi</td><td>Brookville</td><td>155</td></tr>",
                            "<tr><td>Hai Banh</td><td>Claremont</td><td>151</td></tr>",
                            "<tr><td>Dipti Shah</td><td>Scioto Furnace</td><td>149</td></tr>",
                            "<tr><td>Fabrice Cloutier</td><td>Staley</td><td>148</td></tr>",
                            "<tr><td>Abel Tatarescu</td><td>La Grange Park</td><td>148</td></tr>",
                            "<tr><td>Veronika Necesana</td><td>Dover</td><td>143</td></tr>",
                            "<tr><td>Dhanishta Pullela</td><td>Gallipolis Ferry</td><td>142</td></tr>",
                            "<tr><td>Serdar ozden</td><td>Richland</td><td>142</td></tr>",
                            "<tr><td>Cuneyt Arslan</td><td>Komalty</td><td>137</td></tr>",
                            "<tr><td>Som Mukherjee</td><td>Moroni</td><td>136</td></tr>",
                            "<tr><td>Daniella Cavalcante</td><td>Ravia</td><td>129</td></tr>",
                            "<tr><td>David Jaramillo</td><td>Ridgeway</td><td>127</td></tr>",
                            "<tr><td>Emma Van Zant</td><td>Wray</td><td>127</td></tr>",
                            "<tr><td>Aishwarya Dantuluri</td><td>Biggs</td><td>117</td></tr>",
                            "<tr><td>Damodar Shenoy</td><td>Scott</td><td>108</td></tr>",
                            "<tr><td>Chompoo Atitarn</td><td>Ashland</td><td>105</td></tr>",
                            "<tr><td>Raj Verma</td><td>Colebrook</td><td>102</td></tr>",
                            "<tr><td>Matteo Cattaneo</td><td>Nicholson</td><td>101</td></tr>",
                            "<tr><td>Manjunatha Karnik</td><td>Wright City</td><td>98</td></tr>",
                            "<tr><td>Damodara Trivedi</td><td>Tarzan</td><td>98</td></tr>",
                            "<tr><td>Bhaamini Palagummi</td><td>Lake Mohegan</td><td>97</td></tr>",
                            "<tr><td>Nguyen Banh</td><td>Florahome</td><td>92</td></tr>",
                            "<tr><td>Tomo Vidovic</td><td>Tremont</td><td>92</td></tr>",
                            "<tr><td>Erik Malk</td><td>Basin</td><td>88</td></tr>",
                            "<tr><td>Hanita Nookala</td><td>Meaux</td><td>81</td></tr>",
                            "<tr><td>Christian Couet</td><td>Great Neck</td><td>70</td></tr>",
                            "<tr><td>Ian Olofsson</td><td>Liberty Plain</td><td>55</td></tr>",
                            "<tr><td>Ivana Hadrabova</td><td>Lancaster</td><td>52</td></tr>",
                            "<tr><td>Amet Shergill</td><td>Yampa</td><td>52</td></tr>",
                            "<tr><td>Emma Salpa</td><td>Rogersville</td><td>51</td></tr>",
                            "<tr><td>Adriana Pena</td><td>Roberta Mill</td><td>44</td></tr>",
                            "<tr><td>Luis Saucedo</td><td>Linden</td><td>43</td></tr>",
                            "<tr><td>Sylvie Laramee</td><td>Isabela</td><td>41</td></tr>",
                            "<tr><td>Abhra Ganguly</td><td>Walker Valley</td><td>38</td></tr>",
                            "<tr><td>Ganesh Majumdar</td><td>Orland Hills</td><td>36</td></tr>",
                            "<tr><td>Amrita Ganguly</td><td>Palmas del Mar</td><td>33</td></tr>",
                            "<tr><td>Jaroslav Fisar</td><td>Sigel</td><td>27</td></tr>",
                            "<tr><td>Kalyani Benjaree</td><td>Bowmansville</td><td>26</td></tr>",
                            "<tr><td>Jibek Juniskyzy</td><td>Ellisville</td><td>16</td></tr>",
                            "<tr><td>Agrita Abele</td><td>Long Beach</td><td>12</td></tr>",
                            "<tr><td>Anand Mudaliyar</td><td>Midland</td><td>8</td></tr>",
                            "</table>"
                        ]
                    }
                }
            ],
            "execution_count": 33
        },
        {
            "cell_type": "markdown",
            "source": [
                "**Medium Prompt 4:**\n",
                "\n",
                "Prestige Cars wants to determine the total sales by country for a 2018 and compare it against the sales budget for that year. This requires joining tables Data.Sales, Data.Customer, and Reference.SalesBudgets.\n",
                "\n",
                "**Database :** PrestigeCars\n",
                "\n",
                "**Tables Used :** Data.Customer, Data.Sales\n",
                "\n",
                "**CTE :**  SalesSummary"
            ],
            "metadata": {
                "language": "sql",
                "azdata_cell_guid": "b866978b-1dc0-4bb5-a232-4356e86a9b7d"
            },
            "attachments": {}
        },
        {
            "cell_type": "code",
            "source": [
                "USE PrestigeCars;\r\n",
                "WITH SalesSummary AS (\r\n",
                "    SELECT \r\n",
                "        c.Country AS SalesCountry,\r\n",
                "        SUM(s.TotalSalePrice) AS TotalSales,\r\n",
                "        AVG(s.TotalSalePrice) AS AverageSale\r\n",
                "    FROM \r\n",
                "        Data.Sales s\r\n",
                "    JOIN \r\n",
                "        Data.Customer c ON s.CustomerID = c.CustomerID\r\n",
                "    WHERE \r\n",
                "        YEAR(s.SaleDate) = 2018\r\n",
                "    GROUP BY \r\n",
                "        c.Country\r\n",
                ")\r\n",
                "\r\n",
                "SELECT \r\n",
                "    ss.SalesCountry,\r\n",
                "    ss.TotalSales,\r\n",
                "    ss.AverageSale\r\n",
                "FROM \r\n",
                "    SalesSummary ss\r\n",
                "ORDER BY \r\n",
                "    ss.TotalSales DESC;\r\n",
                "\r\n",
                "-- SalesSummary is a CTE composed of columns from Data.Sales and Data.Customer\r\n",
                "-- The entries are grouped by so we only account for each country once\r\n",
                "-- We then take the sum of the sales and the average of their transactions\r\n",
                "-- We're specifically concerned for the year 2018 \r\n",
                "\r\n",
                "-- We then select these specific items for our actual query \r\n",
                ""
            ],
            "metadata": {
                "language": "sql",
                "azdata_cell_guid": "32dfc07e-a74c-40b4-8952-353ad7b79fbe"
            },
            "outputs": [
                {
                    "output_type": "display_data",
                    "data": {
                        "text/html": "(8 rows affected)"
                    },
                    "metadata": {}
                },
                {
                    "output_type": "display_data",
                    "data": {
                        "text/html": "Total execution time: 00:00:00.015"
                    },
                    "metadata": {}
                },
                {
                    "output_type": "execute_result",
                    "metadata": {},
                    "execution_count": 43,
                    "data": {
                        "application/vnd.dataresource+json": {
                            "schema": {
                                "fields": [
                                    {
                                        "name": "SalesCountry"
                                    },
                                    {
                                        "name": "TotalSales"
                                    },
                                    {
                                        "name": "AverageSale"
                                    }
                                ]
                            },
                            "data": [
                                {
                                    "SalesCountry": "GB        ",
                                    "TotalSales": "2781360.00",
                                    "AverageSale": "51506.666666"
                                },
                                {
                                    "SalesCountry": "FR        ",
                                    "TotalSales": "2074790.00",
                                    "AverageSale": "98799.523809"
                                },
                                {
                                    "SalesCountry": "US        ",
                                    "TotalSales": "1163880.00",
                                    "AverageSale": "68463.529411"
                                },
                                {
                                    "SalesCountry": "ES        ",
                                    "TotalSales": "788530.00",
                                    "AverageSale": "78853.000000"
                                },
                                {
                                    "SalesCountry": "IT        ",
                                    "TotalSales": "549840.00",
                                    "AverageSale": "91640.000000"
                                },
                                {
                                    "SalesCountry": "CH        ",
                                    "TotalSales": "296265.00",
                                    "AverageSale": "42323.571428"
                                },
                                {
                                    "SalesCountry": "DE        ",
                                    "TotalSales": "111050.00",
                                    "AverageSale": "55525.000000"
                                },
                                {
                                    "SalesCountry": "BE        ",
                                    "TotalSales": "7900.00",
                                    "AverageSale": "3950.000000"
                                }
                            ]
                        },
                        "text/html": [
                            "<table>",
                            "<tr><th>SalesCountry</th><th>TotalSales</th><th>AverageSale</th></tr>",
                            "<tr><td>GB        </td><td>2781360.00</td><td>51506.666666</td></tr>",
                            "<tr><td>FR        </td><td>2074790.00</td><td>98799.523809</td></tr>",
                            "<tr><td>US        </td><td>1163880.00</td><td>68463.529411</td></tr>",
                            "<tr><td>ES        </td><td>788530.00</td><td>78853.000000</td></tr>",
                            "<tr><td>IT        </td><td>549840.00</td><td>91640.000000</td></tr>",
                            "<tr><td>CH        </td><td>296265.00</td><td>42323.571428</td></tr>",
                            "<tr><td>DE        </td><td>111050.00</td><td>55525.000000</td></tr>",
                            "<tr><td>BE        </td><td>7900.00</td><td>3950.000000</td></tr>",
                            "</table>"
                        ]
                    }
                }
            ],
            "execution_count": 43
        },
        {
            "cell_type": "markdown",
            "source": [
                "**Medium Prompt 5:**\n",
                "\n",
                "Which 5 products have the highest total sales, grouped by product subcategory, and only consider sales that had a promotion applied. Display the top 5 subcategories.\n",
                "\n",
                "**Database :** AdventureWorks2017DW\n",
                "\n",
                "**Tables Used :** dbo.FactInternetSales, dbo.DimProduct, dbo.DimProductSubcategory\n",
                "\n",
                "**CTE :** SalesWithPromotion"
            ],
            "metadata": {
                "language": "sql",
                "azdata_cell_guid": "5f551f1c-dc43-47b4-8095-6799eef2058d"
            },
            "attachments": {}
        },
        {
            "cell_type": "code",
            "source": [
                "USE AdventureWorksDW2017;\r\n",
                "WITH SalesWithPromotion AS (\r\n",
                "    SELECT\r\n",
                "        p.ProductSubcategoryKey AS SubcategoryKey,\r\n",
                "        SUM(f.SalesAmount) AS TotalSales\r\n",
                "    FROM\r\n",
                "        dbo.FactInternetSales f\r\n",
                "    JOIN\r\n",
                "        dbo.DimProduct p ON f.ProductKey = p.ProductKey\r\n",
                "    WHERE\r\n",
                "        f.PromotionKey IS NOT NULL\r\n",
                "    GROUP BY\r\n",
                "        p.ProductSubcategoryKey\r\n",
                ")\r\n",
                "\r\n",
                "SELECT TOP (5)\r\n",
                "    s.SubcategoryKey,\r\n",
                "    sc.ProductSubcategoryAlternateKey,\r\n",
                "    sc.ProductCategoryKey,\r\n",
                "    s.TotalSales\r\n",
                "FROM\r\n",
                "    SalesWithPromotion s\r\n",
                "JOIN\r\n",
                "    dbo.DimProductSubcategory sc ON s.SubcategoryKey = sc.ProductSubcategoryKey\r\n",
                "ORDER BY\r\n",
                "    s.TotalSales DESC\r\n",
                "\r\n",
                "-- We first identify all the products with a promotion by declaring a CTE\r\n",
                "-- We're joining dbo.FactInternetSales, dbo.DimProduct and we're\r\n",
                "-- We then group all the entries by ProductSubcategoryKey\r\n",
                "-- filtering using PromotionKey IS NOT NULL, meaning a promotion is applied\r\n",
                "\r\n",
                "-- In our main query we only want the top 5 \r\n",
                "-- Now we want to find out which subcategory it is that's why \r\n",
                "-- We're using DimProductSubcategory with our CTE\r\n",
                ""
            ],
            "metadata": {
                "azdata_cell_guid": "0e110d9e-546e-46f5-bd23-6f1efcc821e1",
                "language": "sql"
            },
            "outputs": [
                {
                    "output_type": "display_data",
                    "data": {
                        "text/html": "(5 rows affected)"
                    },
                    "metadata": {}
                },
                {
                    "output_type": "display_data",
                    "data": {
                        "text/html": "Total execution time: 00:00:00.119"
                    },
                    "metadata": {}
                },
                {
                    "output_type": "execute_result",
                    "metadata": {},
                    "execution_count": 44,
                    "data": {
                        "application/vnd.dataresource+json": {
                            "schema": {
                                "fields": [
                                    {
                                        "name": "SubcategoryKey"
                                    },
                                    {
                                        "name": "ProductSubcategoryAlternateKey"
                                    },
                                    {
                                        "name": "ProductCategoryKey"
                                    },
                                    {
                                        "name": "TotalSales"
                                    }
                                ]
                            },
                            "data": [
                                {
                                    "SubcategoryKey": "2",
                                    "ProductSubcategoryAlternateKey": "2",
                                    "ProductCategoryKey": "1",
                                    "TotalSales": "14520584.0363"
                                },
                                {
                                    "SubcategoryKey": "1",
                                    "ProductSubcategoryAlternateKey": "1",
                                    "ProductCategoryKey": "1",
                                    "TotalSales": "9952759.5644"
                                },
                                {
                                    "SubcategoryKey": "3",
                                    "ProductSubcategoryAlternateKey": "3",
                                    "ProductCategoryKey": "1",
                                    "TotalSales": "3844801.05"
                                },
                                {
                                    "SubcategoryKey": "37",
                                    "ProductSubcategoryAlternateKey": "37",
                                    "ProductCategoryKey": "4",
                                    "TotalSales": "245529.32"
                                },
                                {
                                    "SubcategoryKey": "31",
                                    "ProductSubcategoryAlternateKey": "31",
                                    "ProductCategoryKey": "4",
                                    "TotalSales": "225335.60"
                                }
                            ]
                        },
                        "text/html": [
                            "<table>",
                            "<tr><th>SubcategoryKey</th><th>ProductSubcategoryAlternateKey</th><th>ProductCategoryKey</th><th>TotalSales</th></tr>",
                            "<tr><td>2</td><td>2</td><td>1</td><td>14520584.0363</td></tr>",
                            "<tr><td>1</td><td>1</td><td>1</td><td>9952759.5644</td></tr>",
                            "<tr><td>3</td><td>3</td><td>1</td><td>3844801.05</td></tr>",
                            "<tr><td>37</td><td>37</td><td>4</td><td>245529.32</td></tr>",
                            "<tr><td>31</td><td>31</td><td>4</td><td>225335.60</td></tr>",
                            "</table>"
                        ]
                    }
                }
            ],
            "execution_count": 44
        },
        {
            "cell_type": "markdown",
            "source": [
                "**Medium Prompt 6:**\n",
                "\n",
                "Coroporate wants to identify the departments that hired during recruitment season. Retrieve departments, the number of employees in each department, and the latest hire date for those departments with more than 5 employees.\n",
                "\n",
                "**Database :** AdventureWorks2017\n",
                "\n",
                "**Tables Used :** HumanReasources.Department, HumanResources.EmployeeDepartmentHistory,  \n",
                "HumanResources.Employee, DepartmentEmployee Count \n",
                "\n",
                "**CTE :** DepartmentEmployeeCount"
            ],
            "metadata": {
                "azdata_cell_guid": "0d9ec06e-44f1-4f06-90b7-637e097b79b3"
            },
            "attachments": {}
        },
        {
            "cell_type": "code",
            "source": [
                "USE AdventureWorks2017;\r\n",
                "WITH DepartmentEmployeeCount AS (\r\n",
                "    SELECT \r\n",
                "        d.DepartmentID,\r\n",
                "        d.Name AS DepartmentName,\r\n",
                "        COUNT(DISTINCT e.BusinessEntityID) AS EmployeeCount\r\n",
                "    FROM HumanResources.Department d\r\n",
                "    JOIN HumanResources.EmployeeDepartmentHistory edh ON d.DepartmentID = edh.DepartmentID\r\n",
                "    JOIN HumanResources.Employee e ON edh.BusinessEntityID = e.BusinessEntityID\r\n",
                "    WHERE edh.EndDate IS NULL\r\n",
                "    GROUP BY d.DepartmentID, d.Name\r\n",
                "    HAVING COUNT(DISTINCT e.BusinessEntityID) > 5\r\n",
                ")\r\n",
                "\r\n",
                "SELECT \r\n",
                "    dec.DepartmentName,\r\n",
                "    dec.EmployeeCount,\r\n",
                "\r\n",
                "    (SELECT MAX(e.HireDate) \r\n",
                "     FROM HumanResources.Employee e \r\n",
                "     WHERE e.BusinessEntityID IN (\r\n",
                "\r\n",
                "        SELECT edh2.BusinessEntityID\r\n",
                "        FROM HumanResources.EmployeeDepartmentHistory edh2 \r\n",
                "        WHERE edh2.DepartmentID = dec.DepartmentID AND edh2.EndDate IS NULL\r\n",
                "    )) AS LatestHireDate\r\n",
                "\r\n",
                "FROM DepartmentEmployeeCount dec\r\n",
                "ORDER BY dec.EmployeeCount DESC, LatestHireDate DESC;\r\n",
                "\r\n",
                "-- We first want to know the DepartMentEmployeecount. We make a CTE\r\n",
                "-- It contains columns from Department, EmployeeDepartmentHistory, Employee\r\n",
                "-- The columns for this CTE are the individual Departments\r\n",
                "-- and the number of appearance of that department as count of emloyees\r\n",
                "-- We then use a Having clause since we're trying to filter an aggregate \r\n",
                "-- function\r\n",
                "\r\n",
                "-- In our actual query we also perform a nested subquery.\r\n",
                "-- the nested subquery returns the latest hiredate by using the IN operator\r\n",
                "-- to check for membership in the LatestHireDate subquery.\r\n",
                ""
            ],
            "metadata": {
                "azdata_cell_guid": "9f2f0d48-e23f-4799-9cad-a074baa7d096",
                "language": "sql"
            },
            "outputs": [
                {
                    "output_type": "display_data",
                    "data": {
                        "text/html": "(12 rows affected)"
                    },
                    "metadata": {}
                },
                {
                    "output_type": "display_data",
                    "data": {
                        "text/html": "Total execution time: 00:00:00.076"
                    },
                    "metadata": {}
                },
                {
                    "output_type": "execute_result",
                    "metadata": {},
                    "execution_count": 45,
                    "data": {
                        "application/vnd.dataresource+json": {
                            "schema": {
                                "fields": [
                                    {
                                        "name": "DepartmentName"
                                    },
                                    {
                                        "name": "EmployeeCount"
                                    },
                                    {
                                        "name": "LatestHireDate"
                                    }
                                ]
                            },
                            "data": [
                                {
                                    "DepartmentName": "Production",
                                    "EmployeeCount": "179",
                                    "LatestHireDate": "2010-03-10"
                                },
                                {
                                    "DepartmentName": "Sales",
                                    "EmployeeCount": "18",
                                    "LatestHireDate": "2013-05-30"
                                },
                                {
                                    "DepartmentName": "Purchasing",
                                    "EmployeeCount": "12",
                                    "LatestHireDate": "2011-02-25"
                                },
                                {
                                    "DepartmentName": "Finance",
                                    "EmployeeCount": "10",
                                    "LatestHireDate": "2009-03-08"
                                },
                                {
                                    "DepartmentName": "Information Services",
                                    "EmployeeCount": "10",
                                    "LatestHireDate": "2009-02-23"
                                },
                                {
                                    "DepartmentName": "Marketing",
                                    "EmployeeCount": "9",
                                    "LatestHireDate": "2011-02-14"
                                },
                                {
                                    "DepartmentName": "Facilities and Maintenance",
                                    "EmployeeCount": "7",
                                    "LatestHireDate": "2010-03-07"
                                },
                                {
                                    "DepartmentName": "Engineering",
                                    "EmployeeCount": "6",
                                    "LatestHireDate": "2011-01-18"
                                },
                                {
                                    "DepartmentName": "Quality Assurance",
                                    "EmployeeCount": "6",
                                    "LatestHireDate": "2010-02-23"
                                },
                                {
                                    "DepartmentName": "Production Control",
                                    "EmployeeCount": "6",
                                    "LatestHireDate": "2009-03-03"
                                },
                                {
                                    "DepartmentName": "Shipping and Receiving",
                                    "EmployeeCount": "6",
                                    "LatestHireDate": "2009-02-26"
                                },
                                {
                                    "DepartmentName": "Human Resources",
                                    "EmployeeCount": "6",
                                    "LatestHireDate": "2009-02-25"
                                }
                            ]
                        },
                        "text/html": [
                            "<table>",
                            "<tr><th>DepartmentName</th><th>EmployeeCount</th><th>LatestHireDate</th></tr>",
                            "<tr><td>Production</td><td>179</td><td>2010-03-10</td></tr>",
                            "<tr><td>Sales</td><td>18</td><td>2013-05-30</td></tr>",
                            "<tr><td>Purchasing</td><td>12</td><td>2011-02-25</td></tr>",
                            "<tr><td>Finance</td><td>10</td><td>2009-03-08</td></tr>",
                            "<tr><td>Information Services</td><td>10</td><td>2009-02-23</td></tr>",
                            "<tr><td>Marketing</td><td>9</td><td>2011-02-14</td></tr>",
                            "<tr><td>Facilities and Maintenance</td><td>7</td><td>2010-03-07</td></tr>",
                            "<tr><td>Engineering</td><td>6</td><td>2011-01-18</td></tr>",
                            "<tr><td>Quality Assurance</td><td>6</td><td>2010-02-23</td></tr>",
                            "<tr><td>Production Control</td><td>6</td><td>2009-03-03</td></tr>",
                            "<tr><td>Shipping and Receiving</td><td>6</td><td>2009-02-26</td></tr>",
                            "<tr><td>Human Resources</td><td>6</td><td>2009-02-25</td></tr>",
                            "</table>"
                        ]
                    }
                }
            ],
            "execution_count": 45
        },
        {
            "cell_type": "markdown",
            "source": [
                "**Medium Prompt 7:**\n",
                "\n",
                "Management needs query fetches total sales for each employee and the product they have sold the most (by quantity). The subquery within the WHERE clause is used to filter only the products with the maximum quantity for each order, effectively giving us the top product for each employee.\n",
                "\n",
                "**Database :** Northwinds2022TSQLV7\n",
                "\n",
                "**Tables Used :** <span style=\"color: rgb(33, 33, 33); font-family: Consolas, &quot;Courier New&quot;, monospace; font-size: 12px; white-space: pre;\">Sales.[Order] , </span> <span style=\"color: rgb(33, 33, 33); font-family: Consolas, &quot;Courier New&quot;, monospace; font-size: 12px; white-space: pre;\">Sales.OrderDetail, </span> <span style=\"color: rgb(33, 33, 33); font-family: Consolas, &quot;Courier New&quot;, monospace; font-size: 12px; white-space: pre;\">HumanResources.Employee, </span> <span style=\"color: rgb(33, 33, 33); font-family: Consolas, &quot;Courier New&quot;, monospace; font-size: 12px; white-space: pre;\">EmployeeSales</span>\n",
                "\n",
                "**CTE :** EmployeeSales"
            ],
            "metadata": {
                "azdata_cell_guid": "6d99795b-0fbc-4bd3-b220-a215e2e54bc5"
            },
            "attachments": {}
        },
        {
            "cell_type": "code",
            "source": [
                "USE Northwinds2022TSQLV7;\r\n",
                "WITH EmployeeSales AS (\r\n",
                "    -- Calculate the total sales amount and most sold product for each employee\r\n",
                "    SELECT\r\n",
                "        e.EmployeeID,\r\n",
                "        e.EmployeeLastName,\r\n",
                "        e.EmployeeFirstName,\r\n",
                "        SUM(od.UnitPrice * od.Quantity * (1 - od.DiscountPercentage/100)) AS TotalSales\r\n",
                "    FROM \r\n",
                "        HumanResources.Employee e\r\n",
                "        JOIN Sales.[Order] o ON e.EmployeeID = o.EmployeeID\r\n",
                "        JOIN Sales.OrderDetail od ON o.OrderID = od.OrderID\r\n",
                "    GROUP BY\r\n",
                "        e.EmployeeID, e.EmployeeLastName, e.EmployeeFirstName\r\n",
                ")\r\n",
                "\r\n",
                "SELECT\r\n",
                "    es.EmployeeLastName,\r\n",
                "    es.EmployeeFirstName,\r\n",
                "    es.TotalSales,\r\n",
                "    p.ProductName AS MostSoldProduct,\r\n",
                "    MAX(od.Quantity) AS QuantityOfMostSoldProduct\r\n",
                "FROM\r\n",
                "    EmployeeSales es\r\n",
                "    JOIN Sales.[Order] o ON es.EmployeeID = o.EmployeeID\r\n",
                "    JOIN Sales.OrderDetail od ON o.OrderID = od.OrderID\r\n",
                "    JOIN Production.Product p ON od.ProductID = p.ProductID\r\n",
                "WHERE \r\n",
                "    od.Quantity = (\r\n",
                "        SELECT MAX(Quantity)\r\n",
                "        FROM Sales.OrderDetail\r\n",
                "        WHERE OrderID = o.OrderID\r\n",
                "    )\r\n",
                "GROUP BY\r\n",
                "    es.EmployeeLastName,\r\n",
                "    es.EmployeeFirstName,\r\n",
                "    es.TotalSales,\r\n",
                "    p.ProductName\r\n",
                "ORDER BY\r\n",
                "    es.TotalSales DESC;\r\n",
                "\r\n",
                "-- EmployeeSales is a CTE that composes of columns from\r\n",
                "-- HR.Employee, Sales.Order, Sales.OrderDetail\r\n",
                "-- This CTE holds all the employee sales as we just group it by \r\n",
                "-- employee id, and full name\r\n",
                "\r\n",
                "-- In our main query we then use this as our main table\r\n",
                "-- it is we then join sales.order, sales.orderdetail, and product.product\r\n",
                "-- we group the items by product, total sales, and employee full name\r\n",
                "-- to extract productname, and quantity\r\n",
                "-- Our where filter returns to us the maximum  value in quantity\r\n",
                "-- returning the most sold item \r\n",
                "\r\n",
                ""
            ],
            "metadata": {
                "azdata_cell_guid": "3636731a-b7c1-47d9-ab66-cf67b98d1d5a",
                "language": "sql"
            },
            "outputs": [
                {
                    "output_type": "display_data",
                    "data": {
                        "text/html": "(449 rows affected)"
                    },
                    "metadata": {}
                },
                {
                    "output_type": "display_data",
                    "data": {
                        "text/html": "Total execution time: 00:00:00.141"
                    },
                    "metadata": {}
                },
                {
                    "output_type": "execute_result",
                    "metadata": {},
                    "execution_count": 47,
                    "data": {
                        "application/vnd.dataresource+json": {
                            "schema": {
                                "fields": [
                                    {
                                        "name": "EmployeeLastName"
                                    },
                                    {
                                        "name": "EmployeeFirstName"
                                    },
                                    {
                                        "name": "TotalSales"
                                    },
                                    {
                                        "name": "MostSoldProduct"
                                    },
                                    {
                                        "name": "QuantityOfMostSoldProduct"
                                    }
                                ]
                            },
                            "data": [
                                {
                                    "EmployeeLastName": "Peled",
                                    "EmployeeFirstName": "Yael",
                                    "TotalSales": "250014.48396000000",
                                    "MostSoldProduct": "Product ACRVI",
                                    "QuantityOfMostSoldProduct": "80"
                                },
                                {
                                    "EmployeeLastName": "Peled",
                                    "EmployeeFirstName": "Yael",
                                    "TotalSales": "250014.48396000000",
                                    "MostSoldProduct": "Product APITJ",
                                    "QuantityOfMostSoldProduct": "35"
                                },
                                {
                                    "EmployeeLastName": "Peled",
                                    "EmployeeFirstName": "Yael",
                                    "TotalSales": "250014.48396000000",
                                    "MostSoldProduct": "Product AQOKR",
                                    "QuantityOfMostSoldProduct": "40"
                                },
                                {
                                    "EmployeeLastName": "Peled",
                                    "EmployeeFirstName": "Yael",
                                    "TotalSales": "250014.48396000000",
                                    "MostSoldProduct": "Product ASTMN",
                                    "QuantityOfMostSoldProduct": "60"
                                },
                                {
                                    "EmployeeLastName": "Peled",
                                    "EmployeeFirstName": "Yael",
                                    "TotalSales": "250014.48396000000",
                                    "MostSoldProduct": "Product BIUDV",
                                    "QuantityOfMostSoldProduct": "24"
                                },
                                {
                                    "EmployeeLastName": "Peled",
                                    "EmployeeFirstName": "Yael",
                                    "TotalSales": "250014.48396000000",
                                    "MostSoldProduct": "Product BLCAX",
                                    "QuantityOfMostSoldProduct": "50"
                                },
                                {
                                    "EmployeeLastName": "Peled",
                                    "EmployeeFirstName": "Yael",
                                    "TotalSales": "250014.48396000000",
                                    "MostSoldProduct": "Product BWRLG",
                                    "QuantityOfMostSoldProduct": "50"
                                },
                                {
                                    "EmployeeLastName": "Peled",
                                    "EmployeeFirstName": "Yael",
                                    "TotalSales": "250014.48396000000",
                                    "MostSoldProduct": "Product CBRRL",
                                    "QuantityOfMostSoldProduct": "60"
                                },
                                {
                                    "EmployeeLastName": "Peled",
                                    "EmployeeFirstName": "Yael",
                                    "TotalSales": "250014.48396000000",
                                    "MostSoldProduct": "Product CKEDC",
                                    "QuantityOfMostSoldProduct": "50"
                                },
                                {
                                    "EmployeeLastName": "Peled",
                                    "EmployeeFirstName": "Yael",
                                    "TotalSales": "250014.48396000000",
                                    "MostSoldProduct": "Product COAXA",
                                    "QuantityOfMostSoldProduct": "20"
                                },
                                {
                                    "EmployeeLastName": "Peled",
                                    "EmployeeFirstName": "Yael",
                                    "TotalSales": "250014.48396000000",
                                    "MostSoldProduct": "Product CPHFY",
                                    "QuantityOfMostSoldProduct": "21"
                                },
                                {
                                    "EmployeeLastName": "Peled",
                                    "EmployeeFirstName": "Yael",
                                    "TotalSales": "250014.48396000000",
                                    "MostSoldProduct": "Product EZZPR",
                                    "QuantityOfMostSoldProduct": "30"
                                },
                                {
                                    "EmployeeLastName": "Peled",
                                    "EmployeeFirstName": "Yael",
                                    "TotalSales": "250014.48396000000",
                                    "MostSoldProduct": "Product FPYPN",
                                    "QuantityOfMostSoldProduct": "35"
                                },
                                {
                                    "EmployeeLastName": "Peled",
                                    "EmployeeFirstName": "Yael",
                                    "TotalSales": "250014.48396000000",
                                    "MostSoldProduct": "Product GEEOO",
                                    "QuantityOfMostSoldProduct": "40"
                                },
                                {
                                    "EmployeeLastName": "Peled",
                                    "EmployeeFirstName": "Yael",
                                    "TotalSales": "250014.48396000000",
                                    "MostSoldProduct": "Product GMKIJ",
                                    "QuantityOfMostSoldProduct": "30"
                                },
                                {
                                    "EmployeeLastName": "Peled",
                                    "EmployeeFirstName": "Yael",
                                    "TotalSales": "250014.48396000000",
                                    "MostSoldProduct": "Product HCQDE",
                                    "QuantityOfMostSoldProduct": "130"
                                },
                                {
                                    "EmployeeLastName": "Peled",
                                    "EmployeeFirstName": "Yael",
                                    "TotalSales": "250014.48396000000",
                                    "MostSoldProduct": "Product HHYDP",
                                    "QuantityOfMostSoldProduct": "80"
                                },
                                {
                                    "EmployeeLastName": "Peled",
                                    "EmployeeFirstName": "Yael",
                                    "TotalSales": "250014.48396000000",
                                    "MostSoldProduct": "Product HMLNI",
                                    "QuantityOfMostSoldProduct": "50"
                                },
                                {
                                    "EmployeeLastName": "Peled",
                                    "EmployeeFirstName": "Yael",
                                    "TotalSales": "250014.48396000000",
                                    "MostSoldProduct": "Product ICKNK",
                                    "QuantityOfMostSoldProduct": "20"
                                },
                                {
                                    "EmployeeLastName": "Peled",
                                    "EmployeeFirstName": "Yael",
                                    "TotalSales": "250014.48396000000",
                                    "MostSoldProduct": "Product JLUDZ",
                                    "QuantityOfMostSoldProduct": "40"
                                },
                                {
                                    "EmployeeLastName": "Peled",
                                    "EmployeeFirstName": "Yael",
                                    "TotalSales": "250014.48396000000",
                                    "MostSoldProduct": "Product JYGFE",
                                    "QuantityOfMostSoldProduct": "20"
                                },
                                {
                                    "EmployeeLastName": "Peled",
                                    "EmployeeFirstName": "Yael",
                                    "TotalSales": "250014.48396000000",
                                    "MostSoldProduct": "Product KSBRM",
                                    "QuantityOfMostSoldProduct": "50"
                                },
                                {
                                    "EmployeeLastName": "Peled",
                                    "EmployeeFirstName": "Yael",
                                    "TotalSales": "250014.48396000000",
                                    "MostSoldProduct": "Product KSZOI",
                                    "QuantityOfMostSoldProduct": "5"
                                },
                                {
                                    "EmployeeLastName": "Peled",
                                    "EmployeeFirstName": "Yael",
                                    "TotalSales": "250014.48396000000",
                                    "MostSoldProduct": "Product LQMGN",
                                    "QuantityOfMostSoldProduct": "50"
                                },
                                {
                                    "EmployeeLastName": "Peled",
                                    "EmployeeFirstName": "Yael",
                                    "TotalSales": "250014.48396000000",
                                    "MostSoldProduct": "Product LSOFL",
                                    "QuantityOfMostSoldProduct": "50"
                                },
                                {
                                    "EmployeeLastName": "Peled",
                                    "EmployeeFirstName": "Yael",
                                    "TotalSales": "250014.48396000000",
                                    "MostSoldProduct": "Product LUNZZ",
                                    "QuantityOfMostSoldProduct": "70"
                                },
                                {
                                    "EmployeeLastName": "Peled",
                                    "EmployeeFirstName": "Yael",
                                    "TotalSales": "250014.48396000000",
                                    "MostSoldProduct": "Product LYERX",
                                    "QuantityOfMostSoldProduct": "15"
                                },
                                {
                                    "EmployeeLastName": "Peled",
                                    "EmployeeFirstName": "Yael",
                                    "TotalSales": "250014.48396000000",
                                    "MostSoldProduct": "Product MYMOI",
                                    "QuantityOfMostSoldProduct": "50"
                                },
                                {
                                    "EmployeeLastName": "Peled",
                                    "EmployeeFirstName": "Yael",
                                    "TotalSales": "250014.48396000000",
                                    "MostSoldProduct": "Product MYNXN",
                                    "QuantityOfMostSoldProduct": "70"
                                },
                                {
                                    "EmployeeLastName": "Peled",
                                    "EmployeeFirstName": "Yael",
                                    "TotalSales": "250014.48396000000",
                                    "MostSoldProduct": "Product NEVTJ",
                                    "QuantityOfMostSoldProduct": "20"
                                },
                                {
                                    "EmployeeLastName": "Peled",
                                    "EmployeeFirstName": "Yael",
                                    "TotalSales": "250014.48396000000",
                                    "MostSoldProduct": "Product OFBNT",
                                    "QuantityOfMostSoldProduct": "60"
                                },
                                {
                                    "EmployeeLastName": "Peled",
                                    "EmployeeFirstName": "Yael",
                                    "TotalSales": "250014.48396000000",
                                    "MostSoldProduct": "Product OSFNS",
                                    "QuantityOfMostSoldProduct": "20"
                                },
                                {
                                    "EmployeeLastName": "Peled",
                                    "EmployeeFirstName": "Yael",
                                    "TotalSales": "250014.48396000000",
                                    "MostSoldProduct": "Product OVLQI",
                                    "QuantityOfMostSoldProduct": "50"
                                },
                                {
                                    "EmployeeLastName": "Peled",
                                    "EmployeeFirstName": "Yael",
                                    "TotalSales": "250014.48396000000",
                                    "MostSoldProduct": "Product PAFRH",
                                    "QuantityOfMostSoldProduct": "40"
                                },
                                {
                                    "EmployeeLastName": "Peled",
                                    "EmployeeFirstName": "Yael",
                                    "TotalSales": "250014.48396000000",
                                    "MostSoldProduct": "Product POXFU",
                                    "QuantityOfMostSoldProduct": "56"
                                },
                                {
                                    "EmployeeLastName": "Peled",
                                    "EmployeeFirstName": "Yael",
                                    "TotalSales": "250014.48396000000",
                                    "MostSoldProduct": "Product PWCJB",
                                    "QuantityOfMostSoldProduct": "35"
                                },
                                {
                                    "EmployeeLastName": "Peled",
                                    "EmployeeFirstName": "Yael",
                                    "TotalSales": "250014.48396000000",
                                    "MostSoldProduct": "Product QAQRL",
                                    "QuantityOfMostSoldProduct": "32"
                                },
                                {
                                    "EmployeeLastName": "Peled",
                                    "EmployeeFirstName": "Yael",
                                    "TotalSales": "250014.48396000000",
                                    "MostSoldProduct": "Product QDOMO",
                                    "QuantityOfMostSoldProduct": "50"
                                },
                                {
                                    "EmployeeLastName": "Peled",
                                    "EmployeeFirstName": "Yael",
                                    "TotalSales": "250014.48396000000",
                                    "MostSoldProduct": "Product QHFFP",
                                    "QuantityOfMostSoldProduct": "40"
                                },
                                {
                                    "EmployeeLastName": "Peled",
                                    "EmployeeFirstName": "Yael",
                                    "TotalSales": "250014.48396000000",
                                    "MostSoldProduct": "Product QMVUN",
                                    "QuantityOfMostSoldProduct": "50"
                                },
                                {
                                    "EmployeeLastName": "Peled",
                                    "EmployeeFirstName": "Yael",
                                    "TotalSales": "250014.48396000000",
                                    "MostSoldProduct": "Product QOGNU",
                                    "QuantityOfMostSoldProduct": "6"
                                },
                                {
                                    "EmployeeLastName": "Peled",
                                    "EmployeeFirstName": "Yael",
                                    "TotalSales": "250014.48396000000",
                                    "MostSoldProduct": "Product RECZE",
                                    "QuantityOfMostSoldProduct": "60"
                                },
                                {
                                    "EmployeeLastName": "Peled",
                                    "EmployeeFirstName": "Yael",
                                    "TotalSales": "250014.48396000000",
                                    "MostSoldProduct": "Product RJVNM",
                                    "QuantityOfMostSoldProduct": "40"
                                },
                                {
                                    "EmployeeLastName": "Peled",
                                    "EmployeeFirstName": "Yael",
                                    "TotalSales": "250014.48396000000",
                                    "MostSoldProduct": "Product SMIOH",
                                    "QuantityOfMostSoldProduct": "40"
                                },
                                {
                                    "EmployeeLastName": "Peled",
                                    "EmployeeFirstName": "Yael",
                                    "TotalSales": "250014.48396000000",
                                    "MostSoldProduct": "Product TBTBL",
                                    "QuantityOfMostSoldProduct": "40"
                                },
                                {
                                    "EmployeeLastName": "Peled",
                                    "EmployeeFirstName": "Yael",
                                    "TotalSales": "250014.48396000000",
                                    "MostSoldProduct": "Product TOONT",
                                    "QuantityOfMostSoldProduct": "60"
                                },
                                {
                                    "EmployeeLastName": "Peled",
                                    "EmployeeFirstName": "Yael",
                                    "TotalSales": "250014.48396000000",
                                    "MostSoldProduct": "Product TTEEX",
                                    "QuantityOfMostSoldProduct": "30"
                                },
                                {
                                    "EmployeeLastName": "Peled",
                                    "EmployeeFirstName": "Yael",
                                    "TotalSales": "250014.48396000000",
                                    "MostSoldProduct": "Product UKXRI",
                                    "QuantityOfMostSoldProduct": "70"
                                },
                                {
                                    "EmployeeLastName": "Peled",
                                    "EmployeeFirstName": "Yael",
                                    "TotalSales": "250014.48396000000",
                                    "MostSoldProduct": "Product VAIIV",
                                    "QuantityOfMostSoldProduct": "20"
                                },
                                {
                                    "EmployeeLastName": "Peled",
                                    "EmployeeFirstName": "Yael",
                                    "TotalSales": "250014.48396000000",
                                    "MostSoldProduct": "Product VJIEO",
                                    "QuantityOfMostSoldProduct": "40"
                                },
                                {
                                    "EmployeeLastName": "Peled",
                                    "EmployeeFirstName": "Yael",
                                    "TotalSales": "250014.48396000000",
                                    "MostSoldProduct": "Product VJXYN",
                                    "QuantityOfMostSoldProduct": "35"
                                },
                                {
                                    "EmployeeLastName": "Peled",
                                    "EmployeeFirstName": "Yael",
                                    "TotalSales": "250014.48396000000",
                                    "MostSoldProduct": "Product VJZZH",
                                    "QuantityOfMostSoldProduct": "40"
                                },
                                {
                                    "EmployeeLastName": "Peled",
                                    "EmployeeFirstName": "Yael",
                                    "TotalSales": "250014.48396000000",
                                    "MostSoldProduct": "Product VKCMF",
                                    "QuantityOfMostSoldProduct": "30"
                                },
                                {
                                    "EmployeeLastName": "Peled",
                                    "EmployeeFirstName": "Yael",
                                    "TotalSales": "250014.48396000000",
                                    "MostSoldProduct": "Product WEUJZ",
                                    "QuantityOfMostSoldProduct": "30"
                                },
                                {
                                    "EmployeeLastName": "Peled",
                                    "EmployeeFirstName": "Yael",
                                    "TotalSales": "250014.48396000000",
                                    "MostSoldProduct": "Product WHBYK",
                                    "QuantityOfMostSoldProduct": "60"
                                },
                                {
                                    "EmployeeLastName": "Peled",
                                    "EmployeeFirstName": "Yael",
                                    "TotalSales": "250014.48396000000",
                                    "MostSoldProduct": "Product WUXYK",
                                    "QuantityOfMostSoldProduct": "12"
                                },
                                {
                                    "EmployeeLastName": "Peled",
                                    "EmployeeFirstName": "Yael",
                                    "TotalSales": "250014.48396000000",
                                    "MostSoldProduct": "Product WVJFP",
                                    "QuantityOfMostSoldProduct": "70"
                                },
                                {
                                    "EmployeeLastName": "Peled",
                                    "EmployeeFirstName": "Yael",
                                    "TotalSales": "250014.48396000000",
                                    "MostSoldProduct": "Product XKXDO",
                                    "QuantityOfMostSoldProduct": "40"
                                },
                                {
                                    "EmployeeLastName": "Peled",
                                    "EmployeeFirstName": "Yael",
                                    "TotalSales": "250014.48396000000",
                                    "MostSoldProduct": "Product XLXQF",
                                    "QuantityOfMostSoldProduct": "15"
                                },
                                {
                                    "EmployeeLastName": "Peled",
                                    "EmployeeFirstName": "Yael",
                                    "TotalSales": "250014.48396000000",
                                    "MostSoldProduct": "Product XWOXC",
                                    "QuantityOfMostSoldProduct": "56"
                                },
                                {
                                    "EmployeeLastName": "Peled",
                                    "EmployeeFirstName": "Yael",
                                    "TotalSales": "250014.48396000000",
                                    "MostSoldProduct": "Product XYWBZ",
                                    "QuantityOfMostSoldProduct": "65"
                                },
                                {
                                    "EmployeeLastName": "Peled",
                                    "EmployeeFirstName": "Yael",
                                    "TotalSales": "250014.48396000000",
                                    "MostSoldProduct": "Product XYZPE",
                                    "QuantityOfMostSoldProduct": "90"
                                },
                                {
                                    "EmployeeLastName": "Peled",
                                    "EmployeeFirstName": "Yael",
                                    "TotalSales": "250014.48396000000",
                                    "MostSoldProduct": "Product YHXGE",
                                    "QuantityOfMostSoldProduct": "20"
                                },
                                {
                                    "EmployeeLastName": "Peled",
                                    "EmployeeFirstName": "Yael",
                                    "TotalSales": "250014.48396000000",
                                    "MostSoldProduct": "Product YYWRT",
                                    "QuantityOfMostSoldProduct": "120"
                                },
                                {
                                    "EmployeeLastName": "Peled",
                                    "EmployeeFirstName": "Yael",
                                    "TotalSales": "250014.48396000000",
                                    "MostSoldProduct": "Product YZIXQ",
                                    "QuantityOfMostSoldProduct": "70"
                                },
                                {
                                    "EmployeeLastName": "Lew",
                                    "EmployeeFirstName": "Judy",
                                    "TotalSales": "212948.91543000000",
                                    "MostSoldProduct": "Product ACRVI",
                                    "QuantityOfMostSoldProduct": "40"
                                },
                                {
                                    "EmployeeLastName": "Lew",
                                    "EmployeeFirstName": "Judy",
                                    "TotalSales": "212948.91543000000",
                                    "MostSoldProduct": "Product AOZBW",
                                    "QuantityOfMostSoldProduct": "20"
                                },
                                {
                                    "EmployeeLastName": "Lew",
                                    "EmployeeFirstName": "Judy",
                                    "TotalSales": "212948.91543000000",
                                    "MostSoldProduct": "Product APITJ",
                                    "QuantityOfMostSoldProduct": "40"
                                },
                                {
                                    "EmployeeLastName": "Lew",
                                    "EmployeeFirstName": "Judy",
                                    "TotalSales": "212948.91543000000",
                                    "MostSoldProduct": "Product ASTMN",
                                    "QuantityOfMostSoldProduct": "49"
                                },
                                {
                                    "EmployeeLastName": "Lew",
                                    "EmployeeFirstName": "Judy",
                                    "TotalSales": "212948.91543000000",
                                    "MostSoldProduct": "Product BIUDV",
                                    "QuantityOfMostSoldProduct": "40"
                                },
                                {
                                    "EmployeeLastName": "Lew",
                                    "EmployeeFirstName": "Judy",
                                    "TotalSales": "212948.91543000000",
                                    "MostSoldProduct": "Product BKAZJ",
                                    "QuantityOfMostSoldProduct": "14"
                                },
                                {
                                    "EmployeeLastName": "Lew",
                                    "EmployeeFirstName": "Judy",
                                    "TotalSales": "212948.91543000000",
                                    "MostSoldProduct": "Product BKGEA",
                                    "QuantityOfMostSoldProduct": "15"
                                },
                                {
                                    "EmployeeLastName": "Lew",
                                    "EmployeeFirstName": "Judy",
                                    "TotalSales": "212948.91543000000",
                                    "MostSoldProduct": "Product BLCAX",
                                    "QuantityOfMostSoldProduct": "36"
                                },
                                {
                                    "EmployeeLastName": "Lew",
                                    "EmployeeFirstName": "Judy",
                                    "TotalSales": "212948.91543000000",
                                    "MostSoldProduct": "Product BWRLG",
                                    "QuantityOfMostSoldProduct": "50"
                                },
                                {
                                    "EmployeeLastName": "Lew",
                                    "EmployeeFirstName": "Judy",
                                    "TotalSales": "212948.91543000000",
                                    "MostSoldProduct": "Product CBRRL",
                                    "QuantityOfMostSoldProduct": "21"
                                },
                                {
                                    "EmployeeLastName": "Lew",
                                    "EmployeeFirstName": "Judy",
                                    "TotalSales": "212948.91543000000",
                                    "MostSoldProduct": "Product CKEDC",
                                    "QuantityOfMostSoldProduct": "40"
                                },
                                {
                                    "EmployeeLastName": "Lew",
                                    "EmployeeFirstName": "Judy",
                                    "TotalSales": "212948.91543000000",
                                    "MostSoldProduct": "Product COAXA",
                                    "QuantityOfMostSoldProduct": "10"
                                },
                                {
                                    "EmployeeLastName": "Lew",
                                    "EmployeeFirstName": "Judy",
                                    "TotalSales": "212948.91543000000",
                                    "MostSoldProduct": "Product EZZPR",
                                    "QuantityOfMostSoldProduct": "40"
                                },
                                {
                                    "EmployeeLastName": "Lew",
                                    "EmployeeFirstName": "Judy",
                                    "TotalSales": "212948.91543000000",
                                    "MostSoldProduct": "Product GEEOO",
                                    "QuantityOfMostSoldProduct": "60"
                                },
                                {
                                    "EmployeeLastName": "Lew",
                                    "EmployeeFirstName": "Judy",
                                    "TotalSales": "212948.91543000000",
                                    "MostSoldProduct": "Product GMKIJ",
                                    "QuantityOfMostSoldProduct": "60"
                                },
                                {
                                    "EmployeeLastName": "Lew",
                                    "EmployeeFirstName": "Judy",
                                    "TotalSales": "212948.91543000000",
                                    "MostSoldProduct": "Product HCQDE",
                                    "QuantityOfMostSoldProduct": "35"
                                },
                                {
                                    "EmployeeLastName": "Lew",
                                    "EmployeeFirstName": "Judy",
                                    "TotalSales": "212948.91543000000",
                                    "MostSoldProduct": "Product HHYDP",
                                    "QuantityOfMostSoldProduct": "60"
                                },
                                {
                                    "EmployeeLastName": "Lew",
                                    "EmployeeFirstName": "Judy",
                                    "TotalSales": "212948.91543000000",
                                    "MostSoldProduct": "Product HLGZA",
                                    "QuantityOfMostSoldProduct": "63"
                                },
                                {
                                    "EmployeeLastName": "Lew",
                                    "EmployeeFirstName": "Judy",
                                    "TotalSales": "212948.91543000000",
                                    "MostSoldProduct": "Product HMLNI",
                                    "QuantityOfMostSoldProduct": "60"
                                },
                                {
                                    "EmployeeLastName": "Lew",
                                    "EmployeeFirstName": "Judy",
                                    "TotalSales": "212948.91543000000",
                                    "MostSoldProduct": "Product ICKNK",
                                    "QuantityOfMostSoldProduct": "30"
                                },
                                {
                                    "EmployeeLastName": "Lew",
                                    "EmployeeFirstName": "Judy",
                                    "TotalSales": "212948.91543000000",
                                    "MostSoldProduct": "Product IMEHJ",
                                    "QuantityOfMostSoldProduct": "60"
                                },
                                {
                                    "EmployeeLastName": "Lew",
                                    "EmployeeFirstName": "Judy",
                                    "TotalSales": "212948.91543000000",
                                    "MostSoldProduct": "Product JLUDZ",
                                    "QuantityOfMostSoldProduct": "44"
                                },
                                {
                                    "EmployeeLastName": "Lew",
                                    "EmployeeFirstName": "Judy",
                                    "TotalSales": "212948.91543000000",
                                    "MostSoldProduct": "Product JYGFE",
                                    "QuantityOfMostSoldProduct": "50"
                                },
                                {
                                    "EmployeeLastName": "Lew",
                                    "EmployeeFirstName": "Judy",
                                    "TotalSales": "212948.91543000000",
                                    "MostSoldProduct": "Product KSZOI",
                                    "QuantityOfMostSoldProduct": "25"
                                },
                                {
                                    "EmployeeLastName": "Lew",
                                    "EmployeeFirstName": "Judy",
                                    "TotalSales": "212948.91543000000",
                                    "MostSoldProduct": "Product LSOFL",
                                    "QuantityOfMostSoldProduct": "42"
                                },
                                {
                                    "EmployeeLastName": "Lew",
                                    "EmployeeFirstName": "Judy",
                                    "TotalSales": "212948.91543000000",
                                    "MostSoldProduct": "Product LYERX",
                                    "QuantityOfMostSoldProduct": "30"
                                },
                                {
                                    "EmployeeLastName": "Lew",
                                    "EmployeeFirstName": "Judy",
                                    "TotalSales": "212948.91543000000",
                                    "MostSoldProduct": "Product LYLNI",
                                    "QuantityOfMostSoldProduct": "60"
                                },
                                {
                                    "EmployeeLastName": "Lew",
                                    "EmployeeFirstName": "Judy",
                                    "TotalSales": "212948.91543000000",
                                    "MostSoldProduct": "Product MYMOI",
                                    "QuantityOfMostSoldProduct": "60"
                                },
                                {
                                    "EmployeeLastName": "Lew",
                                    "EmployeeFirstName": "Judy",
                                    "TotalSales": "212948.91543000000",
                                    "MostSoldProduct": "Product NEVTJ",
                                    "QuantityOfMostSoldProduct": "10"
                                },
                                {
                                    "EmployeeLastName": "Lew",
                                    "EmployeeFirstName": "Judy",
                                    "TotalSales": "212948.91543000000",
                                    "MostSoldProduct": "Product NUNAW",
                                    "QuantityOfMostSoldProduct": "10"
                                },
                                {
                                    "EmployeeLastName": "Lew",
                                    "EmployeeFirstName": "Judy",
                                    "TotalSales": "212948.91543000000",
                                    "MostSoldProduct": "Product OFBNT",
                                    "QuantityOfMostSoldProduct": "30"
                                },
                                {
                                    "EmployeeLastName": "Lew",
                                    "EmployeeFirstName": "Judy",
                                    "TotalSales": "212948.91543000000",
                                    "MostSoldProduct": "Product OSFNS",
                                    "QuantityOfMostSoldProduct": "12"
                                },
                                {
                                    "EmployeeLastName": "Lew",
                                    "EmployeeFirstName": "Judy",
                                    "TotalSales": "212948.91543000000",
                                    "MostSoldProduct": "Product PAFRH",
                                    "QuantityOfMostSoldProduct": "50"
                                },
                                {
                                    "EmployeeLastName": "Lew",
                                    "EmployeeFirstName": "Judy",
                                    "TotalSales": "212948.91543000000",
                                    "MostSoldProduct": "Product POXFU",
                                    "QuantityOfMostSoldProduct": "40"
                                },
                                {
                                    "EmployeeLastName": "Lew",
                                    "EmployeeFirstName": "Judy",
                                    "TotalSales": "212948.91543000000",
                                    "MostSoldProduct": "Product PWCJB",
                                    "QuantityOfMostSoldProduct": "15"
                                },
                                {
                                    "EmployeeLastName": "Lew",
                                    "EmployeeFirstName": "Judy",
                                    "TotalSales": "212948.91543000000",
                                    "MostSoldProduct": "Product QAQRL",
                                    "QuantityOfMostSoldProduct": "80"
                                },
                                {
                                    "EmployeeLastName": "Lew",
                                    "EmployeeFirstName": "Judy",
                                    "TotalSales": "212948.91543000000",
                                    "MostSoldProduct": "Product QHFFP",
                                    "QuantityOfMostSoldProduct": "28"
                                },
                                {
                                    "EmployeeLastName": "Lew",
                                    "EmployeeFirstName": "Judy",
                                    "TotalSales": "212948.91543000000",
                                    "MostSoldProduct": "Product QMVUN",
                                    "QuantityOfMostSoldProduct": "24"
                                },
                                {
                                    "EmployeeLastName": "Lew",
                                    "EmployeeFirstName": "Judy",
                                    "TotalSales": "212948.91543000000",
                                    "MostSoldProduct": "Product QOGNU",
                                    "QuantityOfMostSoldProduct": "110"
                                },
                                {
                                    "EmployeeLastName": "Lew",
                                    "EmployeeFirstName": "Judy",
                                    "TotalSales": "212948.91543000000",
                                    "MostSoldProduct": "Product QSRXF",
                                    "QuantityOfMostSoldProduct": "60"
                                },
                                {
                                    "EmployeeLastName": "Lew",
                                    "EmployeeFirstName": "Judy",
                                    "TotalSales": "212948.91543000000",
                                    "MostSoldProduct": "Product RECZE",
                                    "QuantityOfMostSoldProduct": "30"
                                },
                                {
                                    "EmployeeLastName": "Lew",
                                    "EmployeeFirstName": "Judy",
                                    "TotalSales": "212948.91543000000",
                                    "MostSoldProduct": "Product RJVNM",
                                    "QuantityOfMostSoldProduct": "20"
                                },
                                {
                                    "EmployeeLastName": "Lew",
                                    "EmployeeFirstName": "Judy",
                                    "TotalSales": "212948.91543000000",
                                    "MostSoldProduct": "Product SMIOH",
                                    "QuantityOfMostSoldProduct": "50"
                                },
                                {
                                    "EmployeeLastName": "Lew",
                                    "EmployeeFirstName": "Judy",
                                    "TotalSales": "212948.91543000000",
                                    "MostSoldProduct": "Product SWNJY",
                                    "QuantityOfMostSoldProduct": "20"
                                },
                                {
                                    "EmployeeLastName": "Lew",
                                    "EmployeeFirstName": "Judy",
                                    "TotalSales": "212948.91543000000",
                                    "MostSoldProduct": "Product TBTBL",
                                    "QuantityOfMostSoldProduct": "10"
                                },
                                {
                                    "EmployeeLastName": "Lew",
                                    "EmployeeFirstName": "Judy",
                                    "TotalSales": "212948.91543000000",
                                    "MostSoldProduct": "Product TOONT",
                                    "QuantityOfMostSoldProduct": "30"
                                },
                                {
                                    "EmployeeLastName": "Lew",
                                    "EmployeeFirstName": "Judy",
                                    "TotalSales": "212948.91543000000",
                                    "MostSoldProduct": "Product TTEEX",
                                    "QuantityOfMostSoldProduct": "30"
                                },
                                {
                                    "EmployeeLastName": "Lew",
                                    "EmployeeFirstName": "Judy",
                                    "TotalSales": "212948.91543000000",
                                    "MostSoldProduct": "Product UKXRI",
                                    "QuantityOfMostSoldProduct": "60"
                                },
                                {
                                    "EmployeeLastName": "Lew",
                                    "EmployeeFirstName": "Judy",
                                    "TotalSales": "212948.91543000000",
                                    "MostSoldProduct": "Product VAIIV",
                                    "QuantityOfMostSoldProduct": "30"
                                },
                                {
                                    "EmployeeLastName": "Lew",
                                    "EmployeeFirstName": "Judy",
                                    "TotalSales": "212948.91543000000",
                                    "MostSoldProduct": "Product VJIEO",
                                    "QuantityOfMostSoldProduct": "21"
                                },
                                {
                                    "EmployeeLastName": "Lew",
                                    "EmployeeFirstName": "Judy",
                                    "TotalSales": "212948.91543000000",
                                    "MostSoldProduct": "Product VJXYN",
                                    "QuantityOfMostSoldProduct": "80"
                                },
                                {
                                    "EmployeeLastName": "Lew",
                                    "EmployeeFirstName": "Judy",
                                    "TotalSales": "212948.91543000000",
                                    "MostSoldProduct": "Product VJZZH",
                                    "QuantityOfMostSoldProduct": "42"
                                },
                                {
                                    "EmployeeLastName": "Lew",
                                    "EmployeeFirstName": "Judy",
                                    "TotalSales": "212948.91543000000",
                                    "MostSoldProduct": "Product VKCMF",
                                    "QuantityOfMostSoldProduct": "70"
                                },
                                {
                                    "EmployeeLastName": "Lew",
                                    "EmployeeFirstName": "Judy",
                                    "TotalSales": "212948.91543000000",
                                    "MostSoldProduct": "Product WEUJZ",
                                    "QuantityOfMostSoldProduct": "20"
                                },
                                {
                                    "EmployeeLastName": "Lew",
                                    "EmployeeFirstName": "Judy",
                                    "TotalSales": "212948.91543000000",
                                    "MostSoldProduct": "Product WHBYK",
                                    "QuantityOfMostSoldProduct": "50"
                                },
                                {
                                    "EmployeeLastName": "Lew",
                                    "EmployeeFirstName": "Judy",
                                    "TotalSales": "212948.91543000000",
                                    "MostSoldProduct": "Product WUXYK",
                                    "QuantityOfMostSoldProduct": "40"
                                },
                                {
                                    "EmployeeLastName": "Lew",
                                    "EmployeeFirstName": "Judy",
                                    "TotalSales": "212948.91543000000",
                                    "MostSoldProduct": "Product XKXDO",
                                    "QuantityOfMostSoldProduct": "30"
                                },
                                {
                                    "EmployeeLastName": "Lew",
                                    "EmployeeFirstName": "Judy",
                                    "TotalSales": "212948.91543000000",
                                    "MostSoldProduct": "Product XLXQF",
                                    "QuantityOfMostSoldProduct": "15"
                                },
                                {
                                    "EmployeeLastName": "Lew",
                                    "EmployeeFirstName": "Judy",
                                    "TotalSales": "212948.91543000000",
                                    "MostSoldProduct": "Product XWOXC",
                                    "QuantityOfMostSoldProduct": "50"
                                },
                                {
                                    "EmployeeLastName": "Lew",
                                    "EmployeeFirstName": "Judy",
                                    "TotalSales": "212948.91543000000",
                                    "MostSoldProduct": "Product XYWBZ",
                                    "QuantityOfMostSoldProduct": "80"
                                },
                                {
                                    "EmployeeLastName": "Lew",
                                    "EmployeeFirstName": "Judy",
                                    "TotalSales": "212948.91543000000",
                                    "MostSoldProduct": "Product XYZPE",
                                    "QuantityOfMostSoldProduct": "30"
                                },
                                {
                                    "EmployeeLastName": "Lew",
                                    "EmployeeFirstName": "Judy",
                                    "TotalSales": "212948.91543000000",
                                    "MostSoldProduct": "Product YHXGE",
                                    "QuantityOfMostSoldProduct": "100"
                                },
                                {
                                    "EmployeeLastName": "Lew",
                                    "EmployeeFirstName": "Judy",
                                    "TotalSales": "212948.91543000000",
                                    "MostSoldProduct": "Product YZIXQ",
                                    "QuantityOfMostSoldProduct": "60"
                                },
                                {
                                    "EmployeeLastName": "Lew",
                                    "EmployeeFirstName": "Judy",
                                    "TotalSales": "212948.91543000000",
                                    "MostSoldProduct": "Product ZZZHumanResources",
                                    "QuantityOfMostSoldProduct": "30"
                                },
                                {
                                    "EmployeeLastName": "Davis",
                                    "EmployeeFirstName": "Sara",
                                    "TotalSales": "202043.34894500000",
                                    "MostSoldProduct": "Product APITJ",
                                    "QuantityOfMostSoldProduct": "120"
                                },
                                {
                                    "EmployeeLastName": "Davis",
                                    "EmployeeFirstName": "Sara",
                                    "TotalSales": "202043.34894500000",
                                    "MostSoldProduct": "Product AQOKR",
                                    "QuantityOfMostSoldProduct": "110"
                                },
                                {
                                    "EmployeeLastName": "Davis",
                                    "EmployeeFirstName": "Sara",
                                    "TotalSales": "202043.34894500000",
                                    "MostSoldProduct": "Product ASTMN",
                                    "QuantityOfMostSoldProduct": "20"
                                },
                                {
                                    "EmployeeLastName": "Davis",
                                    "EmployeeFirstName": "Sara",
                                    "TotalSales": "202043.34894500000",
                                    "MostSoldProduct": "Product BKGEA",
                                    "QuantityOfMostSoldProduct": "20"
                                },
                                {
                                    "EmployeeLastName": "Davis",
                                    "EmployeeFirstName": "Sara",
                                    "TotalSales": "202043.34894500000",
                                    "MostSoldProduct": "Product BLCAX",
                                    "QuantityOfMostSoldProduct": "77"
                                },
                                {
                                    "EmployeeLastName": "Davis",
                                    "EmployeeFirstName": "Sara",
                                    "TotalSales": "202043.34894500000",
                                    "MostSoldProduct": "Product BWRLG",
                                    "QuantityOfMostSoldProduct": "120"
                                },
                                {
                                    "EmployeeLastName": "Davis",
                                    "EmployeeFirstName": "Sara",
                                    "TotalSales": "202043.34894500000",
                                    "MostSoldProduct": "Product CBRRL",
                                    "QuantityOfMostSoldProduct": "35"
                                },
                                {
                                    "EmployeeLastName": "Davis",
                                    "EmployeeFirstName": "Sara",
                                    "TotalSales": "202043.34894500000",
                                    "MostSoldProduct": "Product CKEDC",
                                    "QuantityOfMostSoldProduct": "30"
                                },
                                {
                                    "EmployeeLastName": "Davis",
                                    "EmployeeFirstName": "Sara",
                                    "TotalSales": "202043.34894500000",
                                    "MostSoldProduct": "Product COAXA",
                                    "QuantityOfMostSoldProduct": "40"
                                },
                                {
                                    "EmployeeLastName": "Davis",
                                    "EmployeeFirstName": "Sara",
                                    "TotalSales": "202043.34894500000",
                                    "MostSoldProduct": "Product EPEIM",
                                    "QuantityOfMostSoldProduct": "65"
                                },
                                {
                                    "EmployeeLastName": "Davis",
                                    "EmployeeFirstName": "Sara",
                                    "TotalSales": "202043.34894500000",
                                    "MostSoldProduct": "Product EZZPR",
                                    "QuantityOfMostSoldProduct": "5"
                                },
                                {
                                    "EmployeeLastName": "Davis",
                                    "EmployeeFirstName": "Sara",
                                    "TotalSales": "202043.34894500000",
                                    "MostSoldProduct": "Product FPYPN",
                                    "QuantityOfMostSoldProduct": "60"
                                },
                                {
                                    "EmployeeLastName": "Davis",
                                    "EmployeeFirstName": "Sara",
                                    "TotalSales": "202043.34894500000",
                                    "MostSoldProduct": "Product GEEOO",
                                    "QuantityOfMostSoldProduct": "40"
                                },
                                {
                                    "EmployeeLastName": "Davis",
                                    "EmployeeFirstName": "Sara",
                                    "TotalSales": "202043.34894500000",
                                    "MostSoldProduct": "Product GMKIJ",
                                    "QuantityOfMostSoldProduct": "40"
                                },
                                {
                                    "EmployeeLastName": "Davis",
                                    "EmployeeFirstName": "Sara",
                                    "TotalSales": "202043.34894500000",
                                    "MostSoldProduct": "Product HCQDE",
                                    "QuantityOfMostSoldProduct": "15"
                                },
                                {
                                    "EmployeeLastName": "Davis",
                                    "EmployeeFirstName": "Sara",
                                    "TotalSales": "202043.34894500000",
                                    "MostSoldProduct": "Product HHYDP",
                                    "QuantityOfMostSoldProduct": "45"
                                },
                                {
                                    "EmployeeLastName": "Davis",
                                    "EmployeeFirstName": "Sara",
                                    "TotalSales": "202043.34894500000",
                                    "MostSoldProduct": "Product HLGZA",
                                    "QuantityOfMostSoldProduct": "70"
                                },
                                {
                                    "EmployeeLastName": "Davis",
                                    "EmployeeFirstName": "Sara",
                                    "TotalSales": "202043.34894500000",
                                    "MostSoldProduct": "Product HMLNI",
                                    "QuantityOfMostSoldProduct": "15"
                                },
                                {
                                    "EmployeeLastName": "Davis",
                                    "EmployeeFirstName": "Sara",
                                    "TotalSales": "202043.34894500000",
                                    "MostSoldProduct": "Product ICKNK",
                                    "QuantityOfMostSoldProduct": "40"
                                },
                                {
                                    "EmployeeLastName": "Davis",
                                    "EmployeeFirstName": "Sara",
                                    "TotalSales": "202043.34894500000",
                                    "MostSoldProduct": "Product IMEHJ",
                                    "QuantityOfMostSoldProduct": "50"
                                },
                                {
                                    "EmployeeLastName": "Davis",
                                    "EmployeeFirstName": "Sara",
                                    "TotalSales": "202043.34894500000",
                                    "MostSoldProduct": "Product JYGFE",
                                    "QuantityOfMostSoldProduct": "90"
                                },
                                {
                                    "EmployeeLastName": "Davis",
                                    "EmployeeFirstName": "Sara",
                                    "TotalSales": "202043.34894500000",
                                    "MostSoldProduct": "Product KSBRM",
                                    "QuantityOfMostSoldProduct": "5"
                                },
                                {
                                    "EmployeeLastName": "Davis",
                                    "EmployeeFirstName": "Sara",
                                    "TotalSales": "202043.34894500000",
                                    "MostSoldProduct": "Product LSOFL",
                                    "QuantityOfMostSoldProduct": "21"
                                },
                                {
                                    "EmployeeLastName": "Davis",
                                    "EmployeeFirstName": "Sara",
                                    "TotalSales": "202043.34894500000",
                                    "MostSoldProduct": "Product LUNZZ",
                                    "QuantityOfMostSoldProduct": "40"
                                },
                                {
                                    "EmployeeLastName": "Davis",
                                    "EmployeeFirstName": "Sara",
                                    "TotalSales": "202043.34894500000",
                                    "MostSoldProduct": "Product LYERX",
                                    "QuantityOfMostSoldProduct": "20"
                                },
                                {
                                    "EmployeeLastName": "Davis",
                                    "EmployeeFirstName": "Sara",
                                    "TotalSales": "202043.34894500000",
                                    "MostSoldProduct": "Product MYMOI",
                                    "QuantityOfMostSoldProduct": "60"
                                },
                                {
                                    "EmployeeLastName": "Davis",
                                    "EmployeeFirstName": "Sara",
                                    "TotalSales": "202043.34894500000",
                                    "MostSoldProduct": "Product NEVTJ",
                                    "QuantityOfMostSoldProduct": "35"
                                },
                                {
                                    "EmployeeLastName": "Davis",
                                    "EmployeeFirstName": "Sara",
                                    "TotalSales": "202043.34894500000",
                                    "MostSoldProduct": "Product NUNAW",
                                    "QuantityOfMostSoldProduct": "40"
                                },
                                {
                                    "EmployeeLastName": "Davis",
                                    "EmployeeFirstName": "Sara",
                                    "TotalSales": "202043.34894500000",
                                    "MostSoldProduct": "Product OFBNT",
                                    "QuantityOfMostSoldProduct": "20"
                                },
                                {
                                    "EmployeeLastName": "Davis",
                                    "EmployeeFirstName": "Sara",
                                    "TotalSales": "202043.34894500000",
                                    "MostSoldProduct": "Product OSFNS",
                                    "QuantityOfMostSoldProduct": "30"
                                },
                                {
                                    "EmployeeLastName": "Davis",
                                    "EmployeeFirstName": "Sara",
                                    "TotalSales": "202043.34894500000",
                                    "MostSoldProduct": "Product OVLQI",
                                    "QuantityOfMostSoldProduct": "20"
                                },
                                {
                                    "EmployeeLastName": "Davis",
                                    "EmployeeFirstName": "Sara",
                                    "TotalSales": "202043.34894500000",
                                    "MostSoldProduct": "Product PAFRH",
                                    "QuantityOfMostSoldProduct": "55"
                                },
                                {
                                    "EmployeeLastName": "Davis",
                                    "EmployeeFirstName": "Sara",
                                    "TotalSales": "202043.34894500000",
                                    "MostSoldProduct": "Product POXFU",
                                    "QuantityOfMostSoldProduct": "10"
                                },
                                {
                                    "EmployeeLastName": "Davis",
                                    "EmployeeFirstName": "Sara",
                                    "TotalSales": "202043.34894500000",
                                    "MostSoldProduct": "Product QAQRL",
                                    "QuantityOfMostSoldProduct": "50"
                                },
                                {
                                    "EmployeeLastName": "Davis",
                                    "EmployeeFirstName": "Sara",
                                    "TotalSales": "202043.34894500000",
                                    "MostSoldProduct": "Product QDOMO",
                                    "QuantityOfMostSoldProduct": "60"
                                },
                                {
                                    "EmployeeLastName": "Davis",
                                    "EmployeeFirstName": "Sara",
                                    "TotalSales": "202043.34894500000",
                                    "MostSoldProduct": "Product QHFFP",
                                    "QuantityOfMostSoldProduct": "20"
                                },
                                {
                                    "EmployeeLastName": "Davis",
                                    "EmployeeFirstName": "Sara",
                                    "TotalSales": "202043.34894500000",
                                    "MostSoldProduct": "Product QMVUN",
                                    "QuantityOfMostSoldProduct": "50"
                                },
                                {
                                    "EmployeeLastName": "Davis",
                                    "EmployeeFirstName": "Sara",
                                    "TotalSales": "202043.34894500000",
                                    "MostSoldProduct": "Product QOGNU",
                                    "QuantityOfMostSoldProduct": "40"
                                },
                                {
                                    "EmployeeLastName": "Davis",
                                    "EmployeeFirstName": "Sara",
                                    "TotalSales": "202043.34894500000",
                                    "MostSoldProduct": "Product QSRXF",
                                    "QuantityOfMostSoldProduct": "30"
                                },
                                {
                                    "EmployeeLastName": "Davis",
                                    "EmployeeFirstName": "Sara",
                                    "TotalSales": "202043.34894500000",
                                    "MostSoldProduct": "Product RECZE",
                                    "QuantityOfMostSoldProduct": "40"
                                },
                                {
                                    "EmployeeLastName": "Davis",
                                    "EmployeeFirstName": "Sara",
                                    "TotalSales": "202043.34894500000",
                                    "MostSoldProduct": "Product SMIOH",
                                    "QuantityOfMostSoldProduct": "50"
                                },
                                {
                                    "EmployeeLastName": "Davis",
                                    "EmployeeFirstName": "Sara",
                                    "TotalSales": "202043.34894500000",
                                    "MostSoldProduct": "Product TBTBL",
                                    "QuantityOfMostSoldProduct": "20"
                                },
                                {
                                    "EmployeeLastName": "Davis",
                                    "EmployeeFirstName": "Sara",
                                    "TotalSales": "202043.34894500000",
                                    "MostSoldProduct": "Product TOONT",
                                    "QuantityOfMostSoldProduct": "30"
                                },
                                {
                                    "EmployeeLastName": "Davis",
                                    "EmployeeFirstName": "Sara",
                                    "TotalSales": "202043.34894500000",
                                    "MostSoldProduct": "Product TTEEX",
                                    "QuantityOfMostSoldProduct": "20"
                                },
                                {
                                    "EmployeeLastName": "Davis",
                                    "EmployeeFirstName": "Sara",
                                    "TotalSales": "202043.34894500000",
                                    "MostSoldProduct": "Product UKXRI",
                                    "QuantityOfMostSoldProduct": "15"
                                },
                                {
                                    "EmployeeLastName": "Davis",
                                    "EmployeeFirstName": "Sara",
                                    "TotalSales": "202043.34894500000",
                                    "MostSoldProduct": "Product VAIIV",
                                    "QuantityOfMostSoldProduct": "70"
                                },
                                {
                                    "EmployeeLastName": "Davis",
                                    "EmployeeFirstName": "Sara",
                                    "TotalSales": "202043.34894500000",
                                    "MostSoldProduct": "Product VJIEO",
                                    "QuantityOfMostSoldProduct": "77"
                                },
                                {
                                    "EmployeeLastName": "Davis",
                                    "EmployeeFirstName": "Sara",
                                    "TotalSales": "202043.34894500000",
                                    "MostSoldProduct": "Product VJZZH",
                                    "QuantityOfMostSoldProduct": "32"
                                },
                                {
                                    "EmployeeLastName": "Davis",
                                    "EmployeeFirstName": "Sara",
                                    "TotalSales": "202043.34894500000",
                                    "MostSoldProduct": "Product VKCMF",
                                    "QuantityOfMostSoldProduct": "70"
                                },
                                {
                                    "EmployeeLastName": "Davis",
                                    "EmployeeFirstName": "Sara",
                                    "TotalSales": "202043.34894500000",
                                    "MostSoldProduct": "Product WHBYK",
                                    "QuantityOfMostSoldProduct": "70"
                                },
                                {
                                    "EmployeeLastName": "Davis",
                                    "EmployeeFirstName": "Sara",
                                    "TotalSales": "202043.34894500000",
                                    "MostSoldProduct": "Product WUXYK",
                                    "QuantityOfMostSoldProduct": "70"
                                },
                                {
                                    "EmployeeLastName": "Davis",
                                    "EmployeeFirstName": "Sara",
                                    "TotalSales": "202043.34894500000",
                                    "MostSoldProduct": "Product WVJFP",
                                    "QuantityOfMostSoldProduct": "40"
                                },
                                {
                                    "EmployeeLastName": "Davis",
                                    "EmployeeFirstName": "Sara",
                                    "TotalSales": "202043.34894500000",
                                    "MostSoldProduct": "Product XKXDO",
                                    "QuantityOfMostSoldProduct": "50"
                                },
                                {
                                    "EmployeeLastName": "Davis",
                                    "EmployeeFirstName": "Sara",
                                    "TotalSales": "202043.34894500000",
                                    "MostSoldProduct": "Product XWOXC",
                                    "QuantityOfMostSoldProduct": "70"
                                },
                                {
                                    "EmployeeLastName": "Davis",
                                    "EmployeeFirstName": "Sara",
                                    "TotalSales": "202043.34894500000",
                                    "MostSoldProduct": "Product XYWBZ",
                                    "QuantityOfMostSoldProduct": "12"
                                },
                                {
                                    "EmployeeLastName": "Davis",
                                    "EmployeeFirstName": "Sara",
                                    "TotalSales": "202043.34894500000",
                                    "MostSoldProduct": "Product YHXGE",
                                    "QuantityOfMostSoldProduct": "70"
                                },
                                {
                                    "EmployeeLastName": "Davis",
                                    "EmployeeFirstName": "Sara",
                                    "TotalSales": "202043.34894500000",
                                    "MostSoldProduct": "Product YYWRT",
                                    "QuantityOfMostSoldProduct": "60"
                                },
                                {
                                    "EmployeeLastName": "Davis",
                                    "EmployeeFirstName": "Sara",
                                    "TotalSales": "202043.34894500000",
                                    "MostSoldProduct": "Product YZIXQ",
                                    "QuantityOfMostSoldProduct": "10"
                                },
                                {
                                    "EmployeeLastName": "Davis",
                                    "EmployeeFirstName": "Sara",
                                    "TotalSales": "202043.34894500000",
                                    "MostSoldProduct": "Product ZZZHumanResources",
                                    "QuantityOfMostSoldProduct": "60"
                                },
                                {
                                    "EmployeeLastName": "Funk",
                                    "EmployeeFirstName": "Don",
                                    "TotalSales": "177637.14495000000",
                                    "MostSoldProduct": "Product APITJ",
                                    "QuantityOfMostSoldProduct": "50"
                                },
                                {
                                    "EmployeeLastName": "Funk",
                                    "EmployeeFirstName": "Don",
                                    "TotalSales": "177637.14495000000",
                                    "MostSoldProduct": "Product AQOKR",
                                    "QuantityOfMostSoldProduct": "20"
                                },
                                {
                                    "EmployeeLastName": "Funk",
                                    "EmployeeFirstName": "Don",
                                    "TotalSales": "177637.14495000000",
                                    "MostSoldProduct": "Product ASTMN",
                                    "QuantityOfMostSoldProduct": "50"
                                },
                                {
                                    "EmployeeLastName": "Funk",
                                    "EmployeeFirstName": "Don",
                                    "TotalSales": "177637.14495000000",
                                    "MostSoldProduct": "Product BKAZJ",
                                    "QuantityOfMostSoldProduct": "35"
                                },
                                {
                                    "EmployeeLastName": "Funk",
                                    "EmployeeFirstName": "Don",
                                    "TotalSales": "177637.14495000000",
                                    "MostSoldProduct": "Product BKGEA",
                                    "QuantityOfMostSoldProduct": "40"
                                },
                                {
                                    "EmployeeLastName": "Funk",
                                    "EmployeeFirstName": "Don",
                                    "TotalSales": "177637.14495000000",
                                    "MostSoldProduct": "Product BLCAX",
                                    "QuantityOfMostSoldProduct": "70"
                                },
                                {
                                    "EmployeeLastName": "Funk",
                                    "EmployeeFirstName": "Don",
                                    "TotalSales": "177637.14495000000",
                                    "MostSoldProduct": "Product BWRLG",
                                    "QuantityOfMostSoldProduct": "30"
                                },
                                {
                                    "EmployeeLastName": "Funk",
                                    "EmployeeFirstName": "Don",
                                    "TotalSales": "177637.14495000000",
                                    "MostSoldProduct": "Product CKEDC",
                                    "QuantityOfMostSoldProduct": "35"
                                },
                                {
                                    "EmployeeLastName": "Funk",
                                    "EmployeeFirstName": "Don",
                                    "TotalSales": "177637.14495000000",
                                    "MostSoldProduct": "Product COAXA",
                                    "QuantityOfMostSoldProduct": "50"
                                },
                                {
                                    "EmployeeLastName": "Funk",
                                    "EmployeeFirstName": "Don",
                                    "TotalSales": "177637.14495000000",
                                    "MostSoldProduct": "Product FPYPN",
                                    "QuantityOfMostSoldProduct": "40"
                                },
                                {
                                    "EmployeeLastName": "Funk",
                                    "EmployeeFirstName": "Don",
                                    "TotalSales": "177637.14495000000",
                                    "MostSoldProduct": "Product GEEOO",
                                    "QuantityOfMostSoldProduct": "24"
                                },
                                {
                                    "EmployeeLastName": "Funk",
                                    "EmployeeFirstName": "Don",
                                    "TotalSales": "177637.14495000000",
                                    "MostSoldProduct": "Product GMKIJ",
                                    "QuantityOfMostSoldProduct": "35"
                                },
                                {
                                    "EmployeeLastName": "Funk",
                                    "EmployeeFirstName": "Don",
                                    "TotalSales": "177637.14495000000",
                                    "MostSoldProduct": "Product HCQDE",
                                    "QuantityOfMostSoldProduct": "35"
                                },
                                {
                                    "EmployeeLastName": "Funk",
                                    "EmployeeFirstName": "Don",
                                    "TotalSales": "177637.14495000000",
                                    "MostSoldProduct": "Product HHYDP",
                                    "QuantityOfMostSoldProduct": "40"
                                },
                                {
                                    "EmployeeLastName": "Funk",
                                    "EmployeeFirstName": "Don",
                                    "TotalSales": "177637.14495000000",
                                    "MostSoldProduct": "Product HLGZA",
                                    "QuantityOfMostSoldProduct": "30"
                                },
                                {
                                    "EmployeeLastName": "Funk",
                                    "EmployeeFirstName": "Don",
                                    "TotalSales": "177637.14495000000",
                                    "MostSoldProduct": "Product HMLNI",
                                    "QuantityOfMostSoldProduct": "60"
                                },
                                {
                                    "EmployeeLastName": "Funk",
                                    "EmployeeFirstName": "Don",
                                    "TotalSales": "177637.14495000000",
                                    "MostSoldProduct": "Product JLUDZ",
                                    "QuantityOfMostSoldProduct": "21"
                                },
                                {
                                    "EmployeeLastName": "Funk",
                                    "EmployeeFirstName": "Don",
                                    "TotalSales": "177637.14495000000",
                                    "MostSoldProduct": "Product JYGFE",
                                    "QuantityOfMostSoldProduct": "50"
                                },
                                {
                                    "EmployeeLastName": "Funk",
                                    "EmployeeFirstName": "Don",
                                    "TotalSales": "177637.14495000000",
                                    "MostSoldProduct": "Product KSZOI",
                                    "QuantityOfMostSoldProduct": "50"
                                },
                                {
                                    "EmployeeLastName": "Funk",
                                    "EmployeeFirstName": "Don",
                                    "TotalSales": "177637.14495000000",
                                    "MostSoldProduct": "Product LQMGN",
                                    "QuantityOfMostSoldProduct": "30"
                                },
                                {
                                    "EmployeeLastName": "Funk",
                                    "EmployeeFirstName": "Don",
                                    "TotalSales": "177637.14495000000",
                                    "MostSoldProduct": "Product LSOFL",
                                    "QuantityOfMostSoldProduct": "80"
                                },
                                {
                                    "EmployeeLastName": "Funk",
                                    "EmployeeFirstName": "Don",
                                    "TotalSales": "177637.14495000000",
                                    "MostSoldProduct": "Product LUNZZ",
                                    "QuantityOfMostSoldProduct": "30"
                                },
                                {
                                    "EmployeeLastName": "Funk",
                                    "EmployeeFirstName": "Don",
                                    "TotalSales": "177637.14495000000",
                                    "MostSoldProduct": "Product LYLNI",
                                    "QuantityOfMostSoldProduct": "24"
                                },
                                {
                                    "EmployeeLastName": "Funk",
                                    "EmployeeFirstName": "Don",
                                    "TotalSales": "177637.14495000000",
                                    "MostSoldProduct": "Product NEVTJ",
                                    "QuantityOfMostSoldProduct": "60"
                                },
                                {
                                    "EmployeeLastName": "Funk",
                                    "EmployeeFirstName": "Don",
                                    "TotalSales": "177637.14495000000",
                                    "MostSoldProduct": "Product OFBNT",
                                    "QuantityOfMostSoldProduct": "20"
                                },
                                {
                                    "EmployeeLastName": "Funk",
                                    "EmployeeFirstName": "Don",
                                    "TotalSales": "177637.14495000000",
                                    "MostSoldProduct": "Product PAFRH",
                                    "QuantityOfMostSoldProduct": "36"
                                },
                                {
                                    "EmployeeLastName": "Funk",
                                    "EmployeeFirstName": "Don",
                                    "TotalSales": "177637.14495000000",
                                    "MostSoldProduct": "Product POXFU",
                                    "QuantityOfMostSoldProduct": "84"
                                },
                                {
                                    "EmployeeLastName": "Funk",
                                    "EmployeeFirstName": "Don",
                                    "TotalSales": "177637.14495000000",
                                    "MostSoldProduct": "Product QDOMO",
                                    "QuantityOfMostSoldProduct": "10"
                                },
                                {
                                    "EmployeeLastName": "Funk",
                                    "EmployeeFirstName": "Don",
                                    "TotalSales": "177637.14495000000",
                                    "MostSoldProduct": "Product QMVUN",
                                    "QuantityOfMostSoldProduct": "50"
                                },
                                {
                                    "EmployeeLastName": "Funk",
                                    "EmployeeFirstName": "Don",
                                    "TotalSales": "177637.14495000000",
                                    "MostSoldProduct": "Product QOGNU",
                                    "QuantityOfMostSoldProduct": "30"
                                },
                                {
                                    "EmployeeLastName": "Funk",
                                    "EmployeeFirstName": "Don",
                                    "TotalSales": "177637.14495000000",
                                    "MostSoldProduct": "Product QSRXF",
                                    "QuantityOfMostSoldProduct": "70"
                                },
                                {
                                    "EmployeeLastName": "Funk",
                                    "EmployeeFirstName": "Don",
                                    "TotalSales": "177637.14495000000",
                                    "MostSoldProduct": "Product RJVNM",
                                    "QuantityOfMostSoldProduct": "100"
                                },
                                {
                                    "EmployeeLastName": "Funk",
                                    "EmployeeFirstName": "Don",
                                    "TotalSales": "177637.14495000000",
                                    "MostSoldProduct": "Product SMIOH",
                                    "QuantityOfMostSoldProduct": "120"
                                },
                                {
                                    "EmployeeLastName": "Funk",
                                    "EmployeeFirstName": "Don",
                                    "TotalSales": "177637.14495000000",
                                    "MostSoldProduct": "Product SWNJY",
                                    "QuantityOfMostSoldProduct": "10"
                                },
                                {
                                    "EmployeeLastName": "Funk",
                                    "EmployeeFirstName": "Don",
                                    "TotalSales": "177637.14495000000",
                                    "MostSoldProduct": "Product TOONT",
                                    "QuantityOfMostSoldProduct": "35"
                                },
                                {
                                    "EmployeeLastName": "Funk",
                                    "EmployeeFirstName": "Don",
                                    "TotalSales": "177637.14495000000",
                                    "MostSoldProduct": "Product TTEEX",
                                    "QuantityOfMostSoldProduct": "80"
                                },
                                {
                                    "EmployeeLastName": "Funk",
                                    "EmployeeFirstName": "Don",
                                    "TotalSales": "177637.14495000000",
                                    "MostSoldProduct": "Product UKXRI",
                                    "QuantityOfMostSoldProduct": "36"
                                },
                                {
                                    "EmployeeLastName": "Funk",
                                    "EmployeeFirstName": "Don",
                                    "TotalSales": "177637.14495000000",
                                    "MostSoldProduct": "Product VAIIV",
                                    "QuantityOfMostSoldProduct": "40"
                                },
                                {
                                    "EmployeeLastName": "Funk",
                                    "EmployeeFirstName": "Don",
                                    "TotalSales": "177637.14495000000",
                                    "MostSoldProduct": "Product VJIEO",
                                    "QuantityOfMostSoldProduct": "21"
                                },
                                {
                                    "EmployeeLastName": "Funk",
                                    "EmployeeFirstName": "Don",
                                    "TotalSales": "177637.14495000000",
                                    "MostSoldProduct": "Product VJXYN",
                                    "QuantityOfMostSoldProduct": "60"
                                },
                                {
                                    "EmployeeLastName": "Funk",
                                    "EmployeeFirstName": "Don",
                                    "TotalSales": "177637.14495000000",
                                    "MostSoldProduct": "Product VKCMF",
                                    "QuantityOfMostSoldProduct": "4"
                                },
                                {
                                    "EmployeeLastName": "Funk",
                                    "EmployeeFirstName": "Don",
                                    "TotalSales": "177637.14495000000",
                                    "MostSoldProduct": "Product WHBYK",
                                    "QuantityOfMostSoldProduct": "35"
                                },
                                {
                                    "EmployeeLastName": "Funk",
                                    "EmployeeFirstName": "Don",
                                    "TotalSales": "177637.14495000000",
                                    "MostSoldProduct": "Product WUXYK",
                                    "QuantityOfMostSoldProduct": "60"
                                },
                                {
                                    "EmployeeLastName": "Funk",
                                    "EmployeeFirstName": "Don",
                                    "TotalSales": "177637.14495000000",
                                    "MostSoldProduct": "Product XKXDO",
                                    "QuantityOfMostSoldProduct": "80"
                                },
                                {
                                    "EmployeeLastName": "Funk",
                                    "EmployeeFirstName": "Don",
                                    "TotalSales": "177637.14495000000",
                                    "MostSoldProduct": "Product XLXQF",
                                    "QuantityOfMostSoldProduct": "40"
                                },
                                {
                                    "EmployeeLastName": "Funk",
                                    "EmployeeFirstName": "Don",
                                    "TotalSales": "177637.14495000000",
                                    "MostSoldProduct": "Product XWOXC",
                                    "QuantityOfMostSoldProduct": "30"
                                },
                                {
                                    "EmployeeLastName": "Funk",
                                    "EmployeeFirstName": "Don",
                                    "TotalSales": "177637.14495000000",
                                    "MostSoldProduct": "Product XYWBZ",
                                    "QuantityOfMostSoldProduct": "36"
                                },
                                {
                                    "EmployeeLastName": "Funk",
                                    "EmployeeFirstName": "Don",
                                    "TotalSales": "177637.14495000000",
                                    "MostSoldProduct": "Product XYZPE",
                                    "QuantityOfMostSoldProduct": "120"
                                },
                                {
                                    "EmployeeLastName": "Funk",
                                    "EmployeeFirstName": "Don",
                                    "TotalSales": "177637.14495000000",
                                    "MostSoldProduct": "Product YHXGE",
                                    "QuantityOfMostSoldProduct": "24"
                                },
                                {
                                    "EmployeeLastName": "Funk",
                                    "EmployeeFirstName": "Don",
                                    "TotalSales": "177637.14495000000",
                                    "MostSoldProduct": "Product YYWRT",
                                    "QuantityOfMostSoldProduct": "120"
                                },
                                {
                                    "EmployeeLastName": "Funk",
                                    "EmployeeFirstName": "Don",
                                    "TotalSales": "177637.14495000000",
                                    "MostSoldProduct": "Product YZIXQ",
                                    "QuantityOfMostSoldProduct": "30"
                                },
                                {
                                    "EmployeeLastName": "Funk",
                                    "EmployeeFirstName": "Don",
                                    "TotalSales": "177637.14495000000",
                                    "MostSoldProduct": "Product ZZZHumanResources",
                                    "QuantityOfMostSoldProduct": "24"
                                },
                                {
                                    "EmployeeLastName": "King",
                                    "EmployeeFirstName": "Russell",
                                    "TotalSales": "141128.71245000000",
                                    "MostSoldProduct": "Product ACRVI",
                                    "QuantityOfMostSoldProduct": "49"
                                },
                                {
                                    "EmployeeLastName": "King",
                                    "EmployeeFirstName": "Russell",
                                    "TotalSales": "141128.71245000000",
                                    "MostSoldProduct": "Product APITJ",
                                    "QuantityOfMostSoldProduct": "48"
                                },
                                {
                                    "EmployeeLastName": "King",
                                    "EmployeeFirstName": "Russell",
                                    "TotalSales": "141128.71245000000",
                                    "MostSoldProduct": "Product BKGEA",
                                    "QuantityOfMostSoldProduct": "70"
                                },
                                {
                                    "EmployeeLastName": "King",
                                    "EmployeeFirstName": "Russell",
                                    "TotalSales": "141128.71245000000",
                                    "MostSoldProduct": "Product BLCAX",
                                    "QuantityOfMostSoldProduct": "25"
                                },
                                {
                                    "EmployeeLastName": "King",
                                    "EmployeeFirstName": "Russell",
                                    "TotalSales": "141128.71245000000",
                                    "MostSoldProduct": "Product CBRRL",
                                    "QuantityOfMostSoldProduct": "21"
                                },
                                {
                                    "EmployeeLastName": "King",
                                    "EmployeeFirstName": "Russell",
                                    "TotalSales": "141128.71245000000",
                                    "MostSoldProduct": "Product CKEDC",
                                    "QuantityOfMostSoldProduct": "8"
                                },
                                {
                                    "EmployeeLastName": "King",
                                    "EmployeeFirstName": "Russell",
                                    "TotalSales": "141128.71245000000",
                                    "MostSoldProduct": "Product COAXA",
                                    "QuantityOfMostSoldProduct": "45"
                                },
                                {
                                    "EmployeeLastName": "King",
                                    "EmployeeFirstName": "Russell",
                                    "TotalSales": "141128.71245000000",
                                    "MostSoldProduct": "Product EPEIM",
                                    "QuantityOfMostSoldProduct": "30"
                                },
                                {
                                    "EmployeeLastName": "King",
                                    "EmployeeFirstName": "Russell",
                                    "TotalSales": "141128.71245000000",
                                    "MostSoldProduct": "Product EZZPR",
                                    "QuantityOfMostSoldProduct": "15"
                                },
                                {
                                    "EmployeeLastName": "King",
                                    "EmployeeFirstName": "Russell",
                                    "TotalSales": "141128.71245000000",
                                    "MostSoldProduct": "Product FPYPN",
                                    "QuantityOfMostSoldProduct": "42"
                                },
                                {
                                    "EmployeeLastName": "King",
                                    "EmployeeFirstName": "Russell",
                                    "TotalSales": "141128.71245000000",
                                    "MostSoldProduct": "Product GEEOO",
                                    "QuantityOfMostSoldProduct": "25"
                                },
                                {
                                    "EmployeeLastName": "King",
                                    "EmployeeFirstName": "Russell",
                                    "TotalSales": "141128.71245000000",
                                    "MostSoldProduct": "Product IMEHJ",
                                    "QuantityOfMostSoldProduct": "30"
                                },
                                {
                                    "EmployeeLastName": "King",
                                    "EmployeeFirstName": "Russell",
                                    "TotalSales": "141128.71245000000",
                                    "MostSoldProduct": "Product JYGFE",
                                    "QuantityOfMostSoldProduct": "30"
                                },
                                {
                                    "EmployeeLastName": "King",
                                    "EmployeeFirstName": "Russell",
                                    "TotalSales": "141128.71245000000",
                                    "MostSoldProduct": "Product KSBRM",
                                    "QuantityOfMostSoldProduct": "50"
                                },
                                {
                                    "EmployeeLastName": "King",
                                    "EmployeeFirstName": "Russell",
                                    "TotalSales": "141128.71245000000",
                                    "MostSoldProduct": "Product LQMGN",
                                    "QuantityOfMostSoldProduct": "24"
                                },
                                {
                                    "EmployeeLastName": "King",
                                    "EmployeeFirstName": "Russell",
                                    "TotalSales": "141128.71245000000",
                                    "MostSoldProduct": "Product LUNZZ",
                                    "QuantityOfMostSoldProduct": "25"
                                },
                                {
                                    "EmployeeLastName": "King",
                                    "EmployeeFirstName": "Russell",
                                    "TotalSales": "141128.71245000000",
                                    "MostSoldProduct": "Product LYERX",
                                    "QuantityOfMostSoldProduct": "15"
                                },
                                {
                                    "EmployeeLastName": "King",
                                    "EmployeeFirstName": "Russell",
                                    "TotalSales": "141128.71245000000",
                                    "MostSoldProduct": "Product MYMOI",
                                    "QuantityOfMostSoldProduct": "50"
                                },
                                {
                                    "EmployeeLastName": "King",
                                    "EmployeeFirstName": "Russell",
                                    "TotalSales": "141128.71245000000",
                                    "MostSoldProduct": "Product MYNXN",
                                    "QuantityOfMostSoldProduct": "15"
                                },
                                {
                                    "EmployeeLastName": "King",
                                    "EmployeeFirstName": "Russell",
                                    "TotalSales": "141128.71245000000",
                                    "MostSoldProduct": "Product NEVTJ",
                                    "QuantityOfMostSoldProduct": "60"
                                },
                                {
                                    "EmployeeLastName": "King",
                                    "EmployeeFirstName": "Russell",
                                    "TotalSales": "141128.71245000000",
                                    "MostSoldProduct": "Product NUNAW",
                                    "QuantityOfMostSoldProduct": "50"
                                },
                                {
                                    "EmployeeLastName": "King",
                                    "EmployeeFirstName": "Russell",
                                    "TotalSales": "141128.71245000000",
                                    "MostSoldProduct": "Product OFBNT",
                                    "QuantityOfMostSoldProduct": "42"
                                },
                                {
                                    "EmployeeLastName": "King",
                                    "EmployeeFirstName": "Russell",
                                    "TotalSales": "141128.71245000000",
                                    "MostSoldProduct": "Product OVLQI",
                                    "QuantityOfMostSoldProduct": "20"
                                },
                                {
                                    "EmployeeLastName": "King",
                                    "EmployeeFirstName": "Russell",
                                    "TotalSales": "141128.71245000000",
                                    "MostSoldProduct": "Product PAFRH",
                                    "QuantityOfMostSoldProduct": "14"
                                },
                                {
                                    "EmployeeLastName": "King",
                                    "EmployeeFirstName": "Russell",
                                    "TotalSales": "141128.71245000000",
                                    "MostSoldProduct": "Product POXFU",
                                    "QuantityOfMostSoldProduct": "60"
                                },
                                {
                                    "EmployeeLastName": "King",
                                    "EmployeeFirstName": "Russell",
                                    "TotalSales": "141128.71245000000",
                                    "MostSoldProduct": "Product QAQRL",
                                    "QuantityOfMostSoldProduct": "24"
                                },
                                {
                                    "EmployeeLastName": "King",
                                    "EmployeeFirstName": "Russell",
                                    "TotalSales": "141128.71245000000",
                                    "MostSoldProduct": "Product QDOMO",
                                    "QuantityOfMostSoldProduct": "50"
                                },
                                {
                                    "EmployeeLastName": "King",
                                    "EmployeeFirstName": "Russell",
                                    "TotalSales": "141128.71245000000",
                                    "MostSoldProduct": "Product QHFFP",
                                    "QuantityOfMostSoldProduct": "21"
                                },
                                {
                                    "EmployeeLastName": "King",
                                    "EmployeeFirstName": "Russell",
                                    "TotalSales": "141128.71245000000",
                                    "MostSoldProduct": "Product QMVUN",
                                    "QuantityOfMostSoldProduct": "20"
                                },
                                {
                                    "EmployeeLastName": "King",
                                    "EmployeeFirstName": "Russell",
                                    "TotalSales": "141128.71245000000",
                                    "MostSoldProduct": "Product QOGNU",
                                    "QuantityOfMostSoldProduct": "35"
                                },
                                {
                                    "EmployeeLastName": "King",
                                    "EmployeeFirstName": "Russell",
                                    "TotalSales": "141128.71245000000",
                                    "MostSoldProduct": "Product QSRXF",
                                    "QuantityOfMostSoldProduct": "20"
                                },
                                {
                                    "EmployeeLastName": "King",
                                    "EmployeeFirstName": "Russell",
                                    "TotalSales": "141128.71245000000",
                                    "MostSoldProduct": "Product RECZE",
                                    "QuantityOfMostSoldProduct": "100"
                                },
                                {
                                    "EmployeeLastName": "King",
                                    "EmployeeFirstName": "Russell",
                                    "TotalSales": "141128.71245000000",
                                    "MostSoldProduct": "Product RJVNM",
                                    "QuantityOfMostSoldProduct": "20"
                                },
                                {
                                    "EmployeeLastName": "King",
                                    "EmployeeFirstName": "Russell",
                                    "TotalSales": "141128.71245000000",
                                    "MostSoldProduct": "Product SWNJY",
                                    "QuantityOfMostSoldProduct": "90"
                                },
                                {
                                    "EmployeeLastName": "King",
                                    "EmployeeFirstName": "Russell",
                                    "TotalSales": "141128.71245000000",
                                    "MostSoldProduct": "Product TBTBL",
                                    "QuantityOfMostSoldProduct": "80"
                                },
                                {
                                    "EmployeeLastName": "King",
                                    "EmployeeFirstName": "Russell",
                                    "TotalSales": "141128.71245000000",
                                    "MostSoldProduct": "Product TOONT",
                                    "QuantityOfMostSoldProduct": "50"
                                },
                                {
                                    "EmployeeLastName": "King",
                                    "EmployeeFirstName": "Russell",
                                    "TotalSales": "141128.71245000000",
                                    "MostSoldProduct": "Product TTEEX",
                                    "QuantityOfMostSoldProduct": "120"
                                },
                                {
                                    "EmployeeLastName": "King",
                                    "EmployeeFirstName": "Russell",
                                    "TotalSales": "141128.71245000000",
                                    "MostSoldProduct": "Product UKXRI",
                                    "QuantityOfMostSoldProduct": "100"
                                },
                                {
                                    "EmployeeLastName": "King",
                                    "EmployeeFirstName": "Russell",
                                    "TotalSales": "141128.71245000000",
                                    "MostSoldProduct": "Product VJXYN",
                                    "QuantityOfMostSoldProduct": "50"
                                },
                                {
                                    "EmployeeLastName": "King",
                                    "EmployeeFirstName": "Russell",
                                    "TotalSales": "141128.71245000000",
                                    "MostSoldProduct": "Product VJZZH",
                                    "QuantityOfMostSoldProduct": "40"
                                },
                                {
                                    "EmployeeLastName": "King",
                                    "EmployeeFirstName": "Russell",
                                    "TotalSales": "141128.71245000000",
                                    "MostSoldProduct": "Product VKCMF",
                                    "QuantityOfMostSoldProduct": "16"
                                },
                                {
                                    "EmployeeLastName": "King",
                                    "EmployeeFirstName": "Russell",
                                    "TotalSales": "141128.71245000000",
                                    "MostSoldProduct": "Product WHBYK",
                                    "QuantityOfMostSoldProduct": "60"
                                },
                                {
                                    "EmployeeLastName": "King",
                                    "EmployeeFirstName": "Russell",
                                    "TotalSales": "141128.71245000000",
                                    "MostSoldProduct": "Product WUXYK",
                                    "QuantityOfMostSoldProduct": "80"
                                },
                                {
                                    "EmployeeLastName": "King",
                                    "EmployeeFirstName": "Russell",
                                    "TotalSales": "141128.71245000000",
                                    "MostSoldProduct": "Product XKXDO",
                                    "QuantityOfMostSoldProduct": "42"
                                },
                                {
                                    "EmployeeLastName": "King",
                                    "EmployeeFirstName": "Russell",
                                    "TotalSales": "141128.71245000000",
                                    "MostSoldProduct": "Product XLXQF",
                                    "QuantityOfMostSoldProduct": "24"
                                },
                                {
                                    "EmployeeLastName": "King",
                                    "EmployeeFirstName": "Russell",
                                    "TotalSales": "141128.71245000000",
                                    "MostSoldProduct": "Product XWOXC",
                                    "QuantityOfMostSoldProduct": "20"
                                },
                                {
                                    "EmployeeLastName": "King",
                                    "EmployeeFirstName": "Russell",
                                    "TotalSales": "141128.71245000000",
                                    "MostSoldProduct": "Product XYZPE",
                                    "QuantityOfMostSoldProduct": "10"
                                },
                                {
                                    "EmployeeLastName": "King",
                                    "EmployeeFirstName": "Russell",
                                    "TotalSales": "141128.71245000000",
                                    "MostSoldProduct": "Product YHXGE",
                                    "QuantityOfMostSoldProduct": "10"
                                },
                                {
                                    "EmployeeLastName": "King",
                                    "EmployeeFirstName": "Russell",
                                    "TotalSales": "141128.71245000000",
                                    "MostSoldProduct": "Product YZIXQ",
                                    "QuantityOfMostSoldProduct": "40"
                                },
                                {
                                    "EmployeeLastName": "King",
                                    "EmployeeFirstName": "Russell",
                                    "TotalSales": "141128.71245000000",
                                    "MostSoldProduct": "Product ZZZHumanResources",
                                    "QuantityOfMostSoldProduct": "15"
                                },
                                {
                                    "EmployeeLastName": "Cameron",
                                    "EmployeeFirstName": "Maria",
                                    "TotalSales": "133236.64247500000",
                                    "MostSoldProduct": "Product BKGEA",
                                    "QuantityOfMostSoldProduct": "50"
                                },
                                {
                                    "EmployeeLastName": "Cameron",
                                    "EmployeeFirstName": "Maria",
                                    "TotalSales": "133236.64247500000",
                                    "MostSoldProduct": "Product BLCAX",
                                    "QuantityOfMostSoldProduct": "20"
                                },
                                {
                                    "EmployeeLastName": "Cameron",
                                    "EmployeeFirstName": "Maria",
                                    "TotalSales": "133236.64247500000",
                                    "MostSoldProduct": "Product BWRLG",
                                    "QuantityOfMostSoldProduct": "42"
                                },
                                {
                                    "EmployeeLastName": "Cameron",
                                    "EmployeeFirstName": "Maria",
                                    "TotalSales": "133236.64247500000",
                                    "MostSoldProduct": "Product CBRRL",
                                    "QuantityOfMostSoldProduct": "30"
                                },
                                {
                                    "EmployeeLastName": "Cameron",
                                    "EmployeeFirstName": "Maria",
                                    "TotalSales": "133236.64247500000",
                                    "MostSoldProduct": "Product CKEDC",
                                    "QuantityOfMostSoldProduct": "21"
                                },
                                {
                                    "EmployeeLastName": "Cameron",
                                    "EmployeeFirstName": "Maria",
                                    "TotalSales": "133236.64247500000",
                                    "MostSoldProduct": "Product CPHFY",
                                    "QuantityOfMostSoldProduct": "48"
                                },
                                {
                                    "EmployeeLastName": "Cameron",
                                    "EmployeeFirstName": "Maria",
                                    "TotalSales": "133236.64247500000",
                                    "MostSoldProduct": "Product EPEIM",
                                    "QuantityOfMostSoldProduct": "20"
                                },
                                {
                                    "EmployeeLastName": "Cameron",
                                    "EmployeeFirstName": "Maria",
                                    "TotalSales": "133236.64247500000",
                                    "MostSoldProduct": "Product EZZPR",
                                    "QuantityOfMostSoldProduct": "30"
                                },
                                {
                                    "EmployeeLastName": "Cameron",
                                    "EmployeeFirstName": "Maria",
                                    "TotalSales": "133236.64247500000",
                                    "MostSoldProduct": "Product GMKIJ",
                                    "QuantityOfMostSoldProduct": "21"
                                },
                                {
                                    "EmployeeLastName": "Cameron",
                                    "EmployeeFirstName": "Maria",
                                    "TotalSales": "133236.64247500000",
                                    "MostSoldProduct": "Product HHYDP",
                                    "QuantityOfMostSoldProduct": "50"
                                },
                                {
                                    "EmployeeLastName": "Cameron",
                                    "EmployeeFirstName": "Maria",
                                    "TotalSales": "133236.64247500000",
                                    "MostSoldProduct": "Product HLGZA",
                                    "QuantityOfMostSoldProduct": "35"
                                },
                                {
                                    "EmployeeLastName": "Cameron",
                                    "EmployeeFirstName": "Maria",
                                    "TotalSales": "133236.64247500000",
                                    "MostSoldProduct": "Product HMLNI",
                                    "QuantityOfMostSoldProduct": "90"
                                },
                                {
                                    "EmployeeLastName": "Cameron",
                                    "EmployeeFirstName": "Maria",
                                    "TotalSales": "133236.64247500000",
                                    "MostSoldProduct": "Product ICKNK",
                                    "QuantityOfMostSoldProduct": "65"
                                },
                                {
                                    "EmployeeLastName": "Cameron",
                                    "EmployeeFirstName": "Maria",
                                    "TotalSales": "133236.64247500000",
                                    "MostSoldProduct": "Product JLUDZ",
                                    "QuantityOfMostSoldProduct": "70"
                                },
                                {
                                    "EmployeeLastName": "Cameron",
                                    "EmployeeFirstName": "Maria",
                                    "TotalSales": "133236.64247500000",
                                    "MostSoldProduct": "Product JYGFE",
                                    "QuantityOfMostSoldProduct": "60"
                                },
                                {
                                    "EmployeeLastName": "Cameron",
                                    "EmployeeFirstName": "Maria",
                                    "TotalSales": "133236.64247500000",
                                    "MostSoldProduct": "Product KSBRM",
                                    "QuantityOfMostSoldProduct": "50"
                                },
                                {
                                    "EmployeeLastName": "Cameron",
                                    "EmployeeFirstName": "Maria",
                                    "TotalSales": "133236.64247500000",
                                    "MostSoldProduct": "Product LSOFL",
                                    "QuantityOfMostSoldProduct": "30"
                                },
                                {
                                    "EmployeeLastName": "Cameron",
                                    "EmployeeFirstName": "Maria",
                                    "TotalSales": "133236.64247500000",
                                    "MostSoldProduct": "Product LUNZZ",
                                    "QuantityOfMostSoldProduct": "5"
                                },
                                {
                                    "EmployeeLastName": "Cameron",
                                    "EmployeeFirstName": "Maria",
                                    "TotalSales": "133236.64247500000",
                                    "MostSoldProduct": "Product LYERX",
                                    "QuantityOfMostSoldProduct": "20"
                                },
                                {
                                    "EmployeeLastName": "Cameron",
                                    "EmployeeFirstName": "Maria",
                                    "TotalSales": "133236.64247500000",
                                    "MostSoldProduct": "Product LYLNI",
                                    "QuantityOfMostSoldProduct": "5"
                                },
                                {
                                    "EmployeeLastName": "Cameron",
                                    "EmployeeFirstName": "Maria",
                                    "TotalSales": "133236.64247500000",
                                    "MostSoldProduct": "Product NEVTJ",
                                    "QuantityOfMostSoldProduct": "100"
                                },
                                {
                                    "EmployeeLastName": "Cameron",
                                    "EmployeeFirstName": "Maria",
                                    "TotalSales": "133236.64247500000",
                                    "MostSoldProduct": "Product NUNAW",
                                    "QuantityOfMostSoldProduct": "50"
                                },
                                {
                                    "EmployeeLastName": "Cameron",
                                    "EmployeeFirstName": "Maria",
                                    "TotalSales": "133236.64247500000",
                                    "MostSoldProduct": "Product OFBNT",
                                    "QuantityOfMostSoldProduct": "12"
                                },
                                {
                                    "EmployeeLastName": "Cameron",
                                    "EmployeeFirstName": "Maria",
                                    "TotalSales": "133236.64247500000",
                                    "MostSoldProduct": "Product OSFNS",
                                    "QuantityOfMostSoldProduct": "20"
                                },
                                {
                                    "EmployeeLastName": "Cameron",
                                    "EmployeeFirstName": "Maria",
                                    "TotalSales": "133236.64247500000",
                                    "MostSoldProduct": "Product OVLQI",
                                    "QuantityOfMostSoldProduct": "20"
                                },
                                {
                                    "EmployeeLastName": "Cameron",
                                    "EmployeeFirstName": "Maria",
                                    "TotalSales": "133236.64247500000",
                                    "MostSoldProduct": "Product PAFRH",
                                    "QuantityOfMostSoldProduct": "65"
                                },
                                {
                                    "EmployeeLastName": "Cameron",
                                    "EmployeeFirstName": "Maria",
                                    "TotalSales": "133236.64247500000",
                                    "MostSoldProduct": "Product POXFU",
                                    "QuantityOfMostSoldProduct": "77"
                                },
                                {
                                    "EmployeeLastName": "Cameron",
                                    "EmployeeFirstName": "Maria",
                                    "TotalSales": "133236.64247500000",
                                    "MostSoldProduct": "Product PWCJB",
                                    "QuantityOfMostSoldProduct": "20"
                                },
                                {
                                    "EmployeeLastName": "Cameron",
                                    "EmployeeFirstName": "Maria",
                                    "TotalSales": "133236.64247500000",
                                    "MostSoldProduct": "Product QAQRL",
                                    "QuantityOfMostSoldProduct": "40"
                                },
                                {
                                    "EmployeeLastName": "Cameron",
                                    "EmployeeFirstName": "Maria",
                                    "TotalSales": "133236.64247500000",
                                    "MostSoldProduct": "Product QHFFP",
                                    "QuantityOfMostSoldProduct": "21"
                                },
                                {
                                    "EmployeeLastName": "Cameron",
                                    "EmployeeFirstName": "Maria",
                                    "TotalSales": "133236.64247500000",
                                    "MostSoldProduct": "Product QMVUN",
                                    "QuantityOfMostSoldProduct": "30"
                                },
                                {
                                    "EmployeeLastName": "Cameron",
                                    "EmployeeFirstName": "Maria",
                                    "TotalSales": "133236.64247500000",
                                    "MostSoldProduct": "Product QOGNU",
                                    "QuantityOfMostSoldProduct": "80"
                                },
                                {
                                    "EmployeeLastName": "Cameron",
                                    "EmployeeFirstName": "Maria",
                                    "TotalSales": "133236.64247500000",
                                    "MostSoldProduct": "Product RECZE",
                                    "QuantityOfMostSoldProduct": "30"
                                },
                                {
                                    "EmployeeLastName": "Cameron",
                                    "EmployeeFirstName": "Maria",
                                    "TotalSales": "133236.64247500000",
                                    "MostSoldProduct": "Product RJVNM",
                                    "QuantityOfMostSoldProduct": "30"
                                },
                                {
                                    "EmployeeLastName": "Cameron",
                                    "EmployeeFirstName": "Maria",
                                    "TotalSales": "133236.64247500000",
                                    "MostSoldProduct": "Product TBTBL",
                                    "QuantityOfMostSoldProduct": "60"
                                },
                                {
                                    "EmployeeLastName": "Cameron",
                                    "EmployeeFirstName": "Maria",
                                    "TotalSales": "133236.64247500000",
                                    "MostSoldProduct": "Product TOONT",
                                    "QuantityOfMostSoldProduct": "30"
                                },
                                {
                                    "EmployeeLastName": "Cameron",
                                    "EmployeeFirstName": "Maria",
                                    "TotalSales": "133236.64247500000",
                                    "MostSoldProduct": "Product TTEEX",
                                    "QuantityOfMostSoldProduct": "20"
                                },
                                {
                                    "EmployeeLastName": "Cameron",
                                    "EmployeeFirstName": "Maria",
                                    "TotalSales": "133236.64247500000",
                                    "MostSoldProduct": "Product UKXRI",
                                    "QuantityOfMostSoldProduct": "30"
                                },
                                {
                                    "EmployeeLastName": "Cameron",
                                    "EmployeeFirstName": "Maria",
                                    "TotalSales": "133236.64247500000",
                                    "MostSoldProduct": "Product VJIEO",
                                    "QuantityOfMostSoldProduct": "100"
                                },
                                {
                                    "EmployeeLastName": "Cameron",
                                    "EmployeeFirstName": "Maria",
                                    "TotalSales": "133236.64247500000",
                                    "MostSoldProduct": "Product VJXYN",
                                    "QuantityOfMostSoldProduct": "20"
                                },
                                {
                                    "EmployeeLastName": "Cameron",
                                    "EmployeeFirstName": "Maria",
                                    "TotalSales": "133236.64247500000",
                                    "MostSoldProduct": "Product VJZZH",
                                    "QuantityOfMostSoldProduct": "40"
                                },
                                {
                                    "EmployeeLastName": "Cameron",
                                    "EmployeeFirstName": "Maria",
                                    "TotalSales": "133236.64247500000",
                                    "MostSoldProduct": "Product VKCMF",
                                    "QuantityOfMostSoldProduct": "20"
                                },
                                {
                                    "EmployeeLastName": "Cameron",
                                    "EmployeeFirstName": "Maria",
                                    "TotalSales": "133236.64247500000",
                                    "MostSoldProduct": "Product WEUJZ",
                                    "QuantityOfMostSoldProduct": "35"
                                },
                                {
                                    "EmployeeLastName": "Cameron",
                                    "EmployeeFirstName": "Maria",
                                    "TotalSales": "133236.64247500000",
                                    "MostSoldProduct": "Product WHBYK",
                                    "QuantityOfMostSoldProduct": "50"
                                },
                                {
                                    "EmployeeLastName": "Cameron",
                                    "EmployeeFirstName": "Maria",
                                    "TotalSales": "133236.64247500000",
                                    "MostSoldProduct": "Product WUXYK",
                                    "QuantityOfMostSoldProduct": "50"
                                },
                                {
                                    "EmployeeLastName": "Cameron",
                                    "EmployeeFirstName": "Maria",
                                    "TotalSales": "133236.64247500000",
                                    "MostSoldProduct": "Product WVJFP",
                                    "QuantityOfMostSoldProduct": "30"
                                },
                                {
                                    "EmployeeLastName": "Cameron",
                                    "EmployeeFirstName": "Maria",
                                    "TotalSales": "133236.64247500000",
                                    "MostSoldProduct": "Product XKXDO",
                                    "QuantityOfMostSoldProduct": "20"
                                },
                                {
                                    "EmployeeLastName": "Cameron",
                                    "EmployeeFirstName": "Maria",
                                    "TotalSales": "133236.64247500000",
                                    "MostSoldProduct": "Product XLXQF",
                                    "QuantityOfMostSoldProduct": "20"
                                },
                                {
                                    "EmployeeLastName": "Cameron",
                                    "EmployeeFirstName": "Maria",
                                    "TotalSales": "133236.64247500000",
                                    "MostSoldProduct": "Product XWOXC",
                                    "QuantityOfMostSoldProduct": "50"
                                },
                                {
                                    "EmployeeLastName": "Cameron",
                                    "EmployeeFirstName": "Maria",
                                    "TotalSales": "133236.64247500000",
                                    "MostSoldProduct": "Product XYWBZ",
                                    "QuantityOfMostSoldProduct": "5"
                                },
                                {
                                    "EmployeeLastName": "Cameron",
                                    "EmployeeFirstName": "Maria",
                                    "TotalSales": "133236.64247500000",
                                    "MostSoldProduct": "Product YHXGE",
                                    "QuantityOfMostSoldProduct": "20"
                                },
                                {
                                    "EmployeeLastName": "Cameron",
                                    "EmployeeFirstName": "Maria",
                                    "TotalSales": "133236.64247500000",
                                    "MostSoldProduct": "Product YZIXQ",
                                    "QuantityOfMostSoldProduct": "30"
                                },
                                {
                                    "EmployeeLastName": "Cameron",
                                    "EmployeeFirstName": "Maria",
                                    "TotalSales": "133236.64247500000",
                                    "MostSoldProduct": "Product ZZZHumanResources",
                                    "QuantityOfMostSoldProduct": "36"
                                },
                                {
                                    "EmployeeLastName": "Doyle",
                                    "EmployeeFirstName": "Patricia",
                                    "TotalSales": "82907.44066500000",
                                    "MostSoldProduct": "Product AOZBW",
                                    "QuantityOfMostSoldProduct": "50"
                                },
                                {
                                    "EmployeeLastName": "Doyle",
                                    "EmployeeFirstName": "Patricia",
                                    "TotalSales": "82907.44066500000",
                                    "MostSoldProduct": "Product AQOKR",
                                    "QuantityOfMostSoldProduct": "40"
                                },
                                {
                                    "EmployeeLastName": "Doyle",
                                    "EmployeeFirstName": "Patricia",
                                    "TotalSales": "82907.44066500000",
                                    "MostSoldProduct": "Product BWRLG",
                                    "QuantityOfMostSoldProduct": "50"
                                },
                                {
                                    "EmployeeLastName": "Doyle",
                                    "EmployeeFirstName": "Patricia",
                                    "TotalSales": "82907.44066500000",
                                    "MostSoldProduct": "Product CKEDC",
                                    "QuantityOfMostSoldProduct": "10"
                                },
                                {
                                    "EmployeeLastName": "Doyle",
                                    "EmployeeFirstName": "Patricia",
                                    "TotalSales": "82907.44066500000",
                                    "MostSoldProduct": "Product EZZPR",
                                    "QuantityOfMostSoldProduct": "40"
                                },
                                {
                                    "EmployeeLastName": "Doyle",
                                    "EmployeeFirstName": "Patricia",
                                    "TotalSales": "82907.44066500000",
                                    "MostSoldProduct": "Product FPYPN",
                                    "QuantityOfMostSoldProduct": "28"
                                },
                                {
                                    "EmployeeLastName": "Doyle",
                                    "EmployeeFirstName": "Patricia",
                                    "TotalSales": "82907.44066500000",
                                    "MostSoldProduct": "Product GMKIJ",
                                    "QuantityOfMostSoldProduct": "16"
                                },
                                {
                                    "EmployeeLastName": "Doyle",
                                    "EmployeeFirstName": "Patricia",
                                    "TotalSales": "82907.44066500000",
                                    "MostSoldProduct": "Product HCQDE",
                                    "QuantityOfMostSoldProduct": "30"
                                },
                                {
                                    "EmployeeLastName": "Doyle",
                                    "EmployeeFirstName": "Patricia",
                                    "TotalSales": "82907.44066500000",
                                    "MostSoldProduct": "Product HHYDP",
                                    "QuantityOfMostSoldProduct": "20"
                                },
                                {
                                    "EmployeeLastName": "Doyle",
                                    "EmployeeFirstName": "Patricia",
                                    "TotalSales": "82907.44066500000",
                                    "MostSoldProduct": "Product ICKNK",
                                    "QuantityOfMostSoldProduct": "80"
                                },
                                {
                                    "EmployeeLastName": "Doyle",
                                    "EmployeeFirstName": "Patricia",
                                    "TotalSales": "82907.44066500000",
                                    "MostSoldProduct": "Product IMEHJ",
                                    "QuantityOfMostSoldProduct": "49"
                                },
                                {
                                    "EmployeeLastName": "Doyle",
                                    "EmployeeFirstName": "Patricia",
                                    "TotalSales": "82907.44066500000",
                                    "MostSoldProduct": "Product LQMGN",
                                    "QuantityOfMostSoldProduct": "60"
                                },
                                {
                                    "EmployeeLastName": "Doyle",
                                    "EmployeeFirstName": "Patricia",
                                    "TotalSales": "82907.44066500000",
                                    "MostSoldProduct": "Product LUNZZ",
                                    "QuantityOfMostSoldProduct": "35"
                                },
                                {
                                    "EmployeeLastName": "Doyle",
                                    "EmployeeFirstName": "Patricia",
                                    "TotalSales": "82907.44066500000",
                                    "MostSoldProduct": "Product LYERX",
                                    "QuantityOfMostSoldProduct": "60"
                                },
                                {
                                    "EmployeeLastName": "Doyle",
                                    "EmployeeFirstName": "Patricia",
                                    "TotalSales": "82907.44066500000",
                                    "MostSoldProduct": "Product LYLNI",
                                    "QuantityOfMostSoldProduct": "18"
                                },
                                {
                                    "EmployeeLastName": "Doyle",
                                    "EmployeeFirstName": "Patricia",
                                    "TotalSales": "82907.44066500000",
                                    "MostSoldProduct": "Product MYMOI",
                                    "QuantityOfMostSoldProduct": "16"
                                },
                                {
                                    "EmployeeLastName": "Doyle",
                                    "EmployeeFirstName": "Patricia",
                                    "TotalSales": "82907.44066500000",
                                    "MostSoldProduct": "Product PAFRH",
                                    "QuantityOfMostSoldProduct": "60"
                                },
                                {
                                    "EmployeeLastName": "Doyle",
                                    "EmployeeFirstName": "Patricia",
                                    "TotalSales": "82907.44066500000",
                                    "MostSoldProduct": "Product QAQRL",
                                    "QuantityOfMostSoldProduct": "20"
                                },
                                {
                                    "EmployeeLastName": "Doyle",
                                    "EmployeeFirstName": "Patricia",
                                    "TotalSales": "82907.44066500000",
                                    "MostSoldProduct": "Product QDOMO",
                                    "QuantityOfMostSoldProduct": "40"
                                },
                                {
                                    "EmployeeLastName": "Doyle",
                                    "EmployeeFirstName": "Patricia",
                                    "TotalSales": "82907.44066500000",
                                    "MostSoldProduct": "Product QHFFP",
                                    "QuantityOfMostSoldProduct": "50"
                                },
                                {
                                    "EmployeeLastName": "Doyle",
                                    "EmployeeFirstName": "Patricia",
                                    "TotalSales": "82907.44066500000",
                                    "MostSoldProduct": "Product QMVUN",
                                    "QuantityOfMostSoldProduct": "40"
                                },
                                {
                                    "EmployeeLastName": "Doyle",
                                    "EmployeeFirstName": "Patricia",
                                    "TotalSales": "82907.44066500000",
                                    "MostSoldProduct": "Product QOGNU",
                                    "QuantityOfMostSoldProduct": "15"
                                },
                                {
                                    "EmployeeLastName": "Doyle",
                                    "EmployeeFirstName": "Patricia",
                                    "TotalSales": "82907.44066500000",
                                    "MostSoldProduct": "Product QSRXF",
                                    "QuantityOfMostSoldProduct": "40"
                                },
                                {
                                    "EmployeeLastName": "Doyle",
                                    "EmployeeFirstName": "Patricia",
                                    "TotalSales": "82907.44066500000",
                                    "MostSoldProduct": "Product TOONT",
                                    "QuantityOfMostSoldProduct": "7"
                                },
                                {
                                    "EmployeeLastName": "Doyle",
                                    "EmployeeFirstName": "Patricia",
                                    "TotalSales": "82907.44066500000",
                                    "MostSoldProduct": "Product UKXRI",
                                    "QuantityOfMostSoldProduct": "110"
                                },
                                {
                                    "EmployeeLastName": "Doyle",
                                    "EmployeeFirstName": "Patricia",
                                    "TotalSales": "82907.44066500000",
                                    "MostSoldProduct": "Product VAIIV",
                                    "QuantityOfMostSoldProduct": "50"
                                },
                                {
                                    "EmployeeLastName": "Doyle",
                                    "EmployeeFirstName": "Patricia",
                                    "TotalSales": "82907.44066500000",
                                    "MostSoldProduct": "Product VJIEO",
                                    "QuantityOfMostSoldProduct": "40"
                                },
                                {
                                    "EmployeeLastName": "Doyle",
                                    "EmployeeFirstName": "Patricia",
                                    "TotalSales": "82907.44066500000",
                                    "MostSoldProduct": "Product VJZZH",
                                    "QuantityOfMostSoldProduct": "40"
                                },
                                {
                                    "EmployeeLastName": "Doyle",
                                    "EmployeeFirstName": "Patricia",
                                    "TotalSales": "82907.44066500000",
                                    "MostSoldProduct": "Product WHBYK",
                                    "QuantityOfMostSoldProduct": "21"
                                },
                                {
                                    "EmployeeLastName": "Doyle",
                                    "EmployeeFirstName": "Patricia",
                                    "TotalSales": "82907.44066500000",
                                    "MostSoldProduct": "Product XKXDO",
                                    "QuantityOfMostSoldProduct": "35"
                                },
                                {
                                    "EmployeeLastName": "Doyle",
                                    "EmployeeFirstName": "Patricia",
                                    "TotalSales": "82907.44066500000",
                                    "MostSoldProduct": "Product XWOXC",
                                    "QuantityOfMostSoldProduct": "50"
                                },
                                {
                                    "EmployeeLastName": "Doyle",
                                    "EmployeeFirstName": "Patricia",
                                    "TotalSales": "82907.44066500000",
                                    "MostSoldProduct": "Product XYWBZ",
                                    "QuantityOfMostSoldProduct": "40"
                                },
                                {
                                    "EmployeeLastName": "Suurs",
                                    "EmployeeFirstName": "Paul",
                                    "TotalSales": "78155.25029500000",
                                    "MostSoldProduct": "Product APITJ",
                                    "QuantityOfMostSoldProduct": "40"
                                },
                                {
                                    "EmployeeLastName": "Suurs",
                                    "EmployeeFirstName": "Paul",
                                    "TotalSales": "78155.25029500000",
                                    "MostSoldProduct": "Product ASTMN",
                                    "QuantityOfMostSoldProduct": "24"
                                },
                                {
                                    "EmployeeLastName": "Suurs",
                                    "EmployeeFirstName": "Paul",
                                    "TotalSales": "78155.25029500000",
                                    "MostSoldProduct": "Product BKAZJ",
                                    "QuantityOfMostSoldProduct": "30"
                                },
                                {
                                    "EmployeeLastName": "Suurs",
                                    "EmployeeFirstName": "Paul",
                                    "TotalSales": "78155.25029500000",
                                    "MostSoldProduct": "Product BKGEA",
                                    "QuantityOfMostSoldProduct": "70"
                                },
                                {
                                    "EmployeeLastName": "Suurs",
                                    "EmployeeFirstName": "Paul",
                                    "TotalSales": "78155.25029500000",
                                    "MostSoldProduct": "Product BWRLG",
                                    "QuantityOfMostSoldProduct": "36"
                                },
                                {
                                    "EmployeeLastName": "Suurs",
                                    "EmployeeFirstName": "Paul",
                                    "TotalSales": "78155.25029500000",
                                    "MostSoldProduct": "Product CBRRL",
                                    "QuantityOfMostSoldProduct": "3"
                                },
                                {
                                    "EmployeeLastName": "Suurs",
                                    "EmployeeFirstName": "Paul",
                                    "TotalSales": "78155.25029500000",
                                    "MostSoldProduct": "Product COAXA",
                                    "QuantityOfMostSoldProduct": "18"
                                },
                                {
                                    "EmployeeLastName": "Suurs",
                                    "EmployeeFirstName": "Paul",
                                    "TotalSales": "78155.25029500000",
                                    "MostSoldProduct": "Product EZZPR",
                                    "QuantityOfMostSoldProduct": "30"
                                },
                                {
                                    "EmployeeLastName": "Suurs",
                                    "EmployeeFirstName": "Paul",
                                    "TotalSales": "78155.25029500000",
                                    "MostSoldProduct": "Product GEEOO",
                                    "QuantityOfMostSoldProduct": "9"
                                },
                                {
                                    "EmployeeLastName": "Suurs",
                                    "EmployeeFirstName": "Paul",
                                    "TotalSales": "78155.25029500000",
                                    "MostSoldProduct": "Product GMKIJ",
                                    "QuantityOfMostSoldProduct": "40"
                                },
                                {
                                    "EmployeeLastName": "Suurs",
                                    "EmployeeFirstName": "Paul",
                                    "TotalSales": "78155.25029500000",
                                    "MostSoldProduct": "Product HCQDE",
                                    "QuantityOfMostSoldProduct": "30"
                                },
                                {
                                    "EmployeeLastName": "Suurs",
                                    "EmployeeFirstName": "Paul",
                                    "TotalSales": "78155.25029500000",
                                    "MostSoldProduct": "Product HHYDP",
                                    "QuantityOfMostSoldProduct": "20"
                                },
                                {
                                    "EmployeeLastName": "Suurs",
                                    "EmployeeFirstName": "Paul",
                                    "TotalSales": "78155.25029500000",
                                    "MostSoldProduct": "Product HMLNI",
                                    "QuantityOfMostSoldProduct": "20"
                                },
                                {
                                    "EmployeeLastName": "Suurs",
                                    "EmployeeFirstName": "Paul",
                                    "TotalSales": "78155.25029500000",
                                    "MostSoldProduct": "Product JYGFE",
                                    "QuantityOfMostSoldProduct": "20"
                                },
                                {
                                    "EmployeeLastName": "Suurs",
                                    "EmployeeFirstName": "Paul",
                                    "TotalSales": "78155.25029500000",
                                    "MostSoldProduct": "Product KSZOI",
                                    "QuantityOfMostSoldProduct": "12"
                                },
                                {
                                    "EmployeeLastName": "Suurs",
                                    "EmployeeFirstName": "Paul",
                                    "TotalSales": "78155.25029500000",
                                    "MostSoldProduct": "Product LSOFL",
                                    "QuantityOfMostSoldProduct": "130"
                                },
                                {
                                    "EmployeeLastName": "Suurs",
                                    "EmployeeFirstName": "Paul",
                                    "TotalSales": "78155.25029500000",
                                    "MostSoldProduct": "Product LUNZZ",
                                    "QuantityOfMostSoldProduct": "21"
                                },
                                {
                                    "EmployeeLastName": "Suurs",
                                    "EmployeeFirstName": "Paul",
                                    "TotalSales": "78155.25029500000",
                                    "MostSoldProduct": "Product MYMOI",
                                    "QuantityOfMostSoldProduct": "25"
                                },
                                {
                                    "EmployeeLastName": "Suurs",
                                    "EmployeeFirstName": "Paul",
                                    "TotalSales": "78155.25029500000",
                                    "MostSoldProduct": "Product OVLQI",
                                    "QuantityOfMostSoldProduct": "25"
                                },
                                {
                                    "EmployeeLastName": "Suurs",
                                    "EmployeeFirstName": "Paul",
                                    "TotalSales": "78155.25029500000",
                                    "MostSoldProduct": "Product PAFRH",
                                    "QuantityOfMostSoldProduct": "30"
                                },
                                {
                                    "EmployeeLastName": "Suurs",
                                    "EmployeeFirstName": "Paul",
                                    "TotalSales": "78155.25029500000",
                                    "MostSoldProduct": "Product POXFU",
                                    "QuantityOfMostSoldProduct": "80"
                                },
                                {
                                    "EmployeeLastName": "Suurs",
                                    "EmployeeFirstName": "Paul",
                                    "TotalSales": "78155.25029500000",
                                    "MostSoldProduct": "Product PWCJB",
                                    "QuantityOfMostSoldProduct": "70"
                                },
                                {
                                    "EmployeeLastName": "Suurs",
                                    "EmployeeFirstName": "Paul",
                                    "TotalSales": "78155.25029500000",
                                    "MostSoldProduct": "Product QOGNU",
                                    "QuantityOfMostSoldProduct": "35"
                                },
                                {
                                    "EmployeeLastName": "Suurs",
                                    "EmployeeFirstName": "Paul",
                                    "TotalSales": "78155.25029500000",
                                    "MostSoldProduct": "Product RECZE",
                                    "QuantityOfMostSoldProduct": "40"
                                },
                                {
                                    "EmployeeLastName": "Suurs",
                                    "EmployeeFirstName": "Paul",
                                    "TotalSales": "78155.25029500000",
                                    "MostSoldProduct": "Product SWNJY",
                                    "QuantityOfMostSoldProduct": "30"
                                },
                                {
                                    "EmployeeLastName": "Suurs",
                                    "EmployeeFirstName": "Paul",
                                    "TotalSales": "78155.25029500000",
                                    "MostSoldProduct": "Product TOONT",
                                    "QuantityOfMostSoldProduct": "30"
                                },
                                {
                                    "EmployeeLastName": "Suurs",
                                    "EmployeeFirstName": "Paul",
                                    "TotalSales": "78155.25029500000",
                                    "MostSoldProduct": "Product TTEEX",
                                    "QuantityOfMostSoldProduct": "35"
                                },
                                {
                                    "EmployeeLastName": "Suurs",
                                    "EmployeeFirstName": "Paul",
                                    "TotalSales": "78155.25029500000",
                                    "MostSoldProduct": "Product UKXRI",
                                    "QuantityOfMostSoldProduct": "42"
                                },
                                {
                                    "EmployeeLastName": "Suurs",
                                    "EmployeeFirstName": "Paul",
                                    "TotalSales": "78155.25029500000",
                                    "MostSoldProduct": "Product VJIEO",
                                    "QuantityOfMostSoldProduct": "28"
                                },
                                {
                                    "EmployeeLastName": "Suurs",
                                    "EmployeeFirstName": "Paul",
                                    "TotalSales": "78155.25029500000",
                                    "MostSoldProduct": "Product VJXYN",
                                    "QuantityOfMostSoldProduct": "36"
                                },
                                {
                                    "EmployeeLastName": "Suurs",
                                    "EmployeeFirstName": "Paul",
                                    "TotalSales": "78155.25029500000",
                                    "MostSoldProduct": "Product VJZZH",
                                    "QuantityOfMostSoldProduct": "60"
                                },
                                {
                                    "EmployeeLastName": "Suurs",
                                    "EmployeeFirstName": "Paul",
                                    "TotalSales": "78155.25029500000",
                                    "MostSoldProduct": "Product VKCMF",
                                    "QuantityOfMostSoldProduct": "60"
                                },
                                {
                                    "EmployeeLastName": "Suurs",
                                    "EmployeeFirstName": "Paul",
                                    "TotalSales": "78155.25029500000",
                                    "MostSoldProduct": "Product WEUJZ",
                                    "QuantityOfMostSoldProduct": "35"
                                },
                                {
                                    "EmployeeLastName": "Suurs",
                                    "EmployeeFirstName": "Paul",
                                    "TotalSales": "78155.25029500000",
                                    "MostSoldProduct": "Product WHBYK",
                                    "QuantityOfMostSoldProduct": "15"
                                },
                                {
                                    "EmployeeLastName": "Suurs",
                                    "EmployeeFirstName": "Paul",
                                    "TotalSales": "78155.25029500000",
                                    "MostSoldProduct": "Product WUXYK",
                                    "QuantityOfMostSoldProduct": "30"
                                },
                                {
                                    "EmployeeLastName": "Suurs",
                                    "EmployeeFirstName": "Paul",
                                    "TotalSales": "78155.25029500000",
                                    "MostSoldProduct": "Product XWOXC",
                                    "QuantityOfMostSoldProduct": "60"
                                },
                                {
                                    "EmployeeLastName": "Suurs",
                                    "EmployeeFirstName": "Paul",
                                    "TotalSales": "78155.25029500000",
                                    "MostSoldProduct": "Product XYZPE",
                                    "QuantityOfMostSoldProduct": "30"
                                },
                                {
                                    "EmployeeLastName": "Suurs",
                                    "EmployeeFirstName": "Paul",
                                    "TotalSales": "78155.25029500000",
                                    "MostSoldProduct": "Product YHXGE",
                                    "QuantityOfMostSoldProduct": "36"
                                },
                                {
                                    "EmployeeLastName": "Suurs",
                                    "EmployeeFirstName": "Paul",
                                    "TotalSales": "78155.25029500000",
                                    "MostSoldProduct": "Product YYWRT",
                                    "QuantityOfMostSoldProduct": "18"
                                },
                                {
                                    "EmployeeLastName": "Suurs",
                                    "EmployeeFirstName": "Paul",
                                    "TotalSales": "78155.25029500000",
                                    "MostSoldProduct": "Product YZIXQ",
                                    "QuantityOfMostSoldProduct": "50"
                                },
                                {
                                    "EmployeeLastName": "Mortensen",
                                    "EmployeeFirstName": "Sven",
                                    "TotalSales": "75499.99532500000",
                                    "MostSoldProduct": "Product ACRVI",
                                    "QuantityOfMostSoldProduct": "30"
                                },
                                {
                                    "EmployeeLastName": "Mortensen",
                                    "EmployeeFirstName": "Sven",
                                    "TotalSales": "75499.99532500000",
                                    "MostSoldProduct": "Product APITJ",
                                    "QuantityOfMostSoldProduct": "18"
                                },
                                {
                                    "EmployeeLastName": "Mortensen",
                                    "EmployeeFirstName": "Sven",
                                    "TotalSales": "75499.99532500000",
                                    "MostSoldProduct": "Product AQOKR",
                                    "QuantityOfMostSoldProduct": "100"
                                },
                                {
                                    "EmployeeLastName": "Mortensen",
                                    "EmployeeFirstName": "Sven",
                                    "TotalSales": "75499.99532500000",
                                    "MostSoldProduct": "Product ASTMN",
                                    "QuantityOfMostSoldProduct": "60"
                                },
                                {
                                    "EmployeeLastName": "Mortensen",
                                    "EmployeeFirstName": "Sven",
                                    "TotalSales": "75499.99532500000",
                                    "MostSoldProduct": "Product BKAZJ",
                                    "QuantityOfMostSoldProduct": "21"
                                },
                                {
                                    "EmployeeLastName": "Mortensen",
                                    "EmployeeFirstName": "Sven",
                                    "TotalSales": "75499.99532500000",
                                    "MostSoldProduct": "Product BKGEA",
                                    "QuantityOfMostSoldProduct": "120"
                                },
                                {
                                    "EmployeeLastName": "Mortensen",
                                    "EmployeeFirstName": "Sven",
                                    "TotalSales": "75499.99532500000",
                                    "MostSoldProduct": "Product BLCAX",
                                    "QuantityOfMostSoldProduct": "100"
                                },
                                {
                                    "EmployeeLastName": "Mortensen",
                                    "EmployeeFirstName": "Sven",
                                    "TotalSales": "75499.99532500000",
                                    "MostSoldProduct": "Product CPHFY",
                                    "QuantityOfMostSoldProduct": "15"
                                },
                                {
                                    "EmployeeLastName": "Mortensen",
                                    "EmployeeFirstName": "Sven",
                                    "TotalSales": "75499.99532500000",
                                    "MostSoldProduct": "Product EZZPR",
                                    "QuantityOfMostSoldProduct": "50"
                                },
                                {
                                    "EmployeeLastName": "Mortensen",
                                    "EmployeeFirstName": "Sven",
                                    "TotalSales": "75499.99532500000",
                                    "MostSoldProduct": "Product GEEOO",
                                    "QuantityOfMostSoldProduct": "40"
                                },
                                {
                                    "EmployeeLastName": "Mortensen",
                                    "EmployeeFirstName": "Sven",
                                    "TotalSales": "75499.99532500000",
                                    "MostSoldProduct": "Product GMKIJ",
                                    "QuantityOfMostSoldProduct": "20"
                                },
                                {
                                    "EmployeeLastName": "Mortensen",
                                    "EmployeeFirstName": "Sven",
                                    "TotalSales": "75499.99532500000",
                                    "MostSoldProduct": "Product JLUDZ",
                                    "QuantityOfMostSoldProduct": "50"
                                },
                                {
                                    "EmployeeLastName": "Mortensen",
                                    "EmployeeFirstName": "Sven",
                                    "TotalSales": "75499.99532500000",
                                    "MostSoldProduct": "Product LSOFL",
                                    "QuantityOfMostSoldProduct": "60"
                                },
                                {
                                    "EmployeeLastName": "Mortensen",
                                    "EmployeeFirstName": "Sven",
                                    "TotalSales": "75499.99532500000",
                                    "MostSoldProduct": "Product LYERX",
                                    "QuantityOfMostSoldProduct": "40"
                                },
                                {
                                    "EmployeeLastName": "Mortensen",
                                    "EmployeeFirstName": "Sven",
                                    "TotalSales": "75499.99532500000",
                                    "MostSoldProduct": "Product LYLNI",
                                    "QuantityOfMostSoldProduct": "35"
                                },
                                {
                                    "EmployeeLastName": "Mortensen",
                                    "EmployeeFirstName": "Sven",
                                    "TotalSales": "75499.99532500000",
                                    "MostSoldProduct": "Product MYMOI",
                                    "QuantityOfMostSoldProduct": "40"
                                },
                                {
                                    "EmployeeLastName": "Mortensen",
                                    "EmployeeFirstName": "Sven",
                                    "TotalSales": "75499.99532500000",
                                    "MostSoldProduct": "Product NEVTJ",
                                    "QuantityOfMostSoldProduct": "3"
                                },
                                {
                                    "EmployeeLastName": "Mortensen",
                                    "EmployeeFirstName": "Sven",
                                    "TotalSales": "75499.99532500000",
                                    "MostSoldProduct": "Product OFBNT",
                                    "QuantityOfMostSoldProduct": "20"
                                },
                                {
                                    "EmployeeLastName": "Mortensen",
                                    "EmployeeFirstName": "Sven",
                                    "TotalSales": "75499.99532500000",
                                    "MostSoldProduct": "Product PAFRH",
                                    "QuantityOfMostSoldProduct": "15"
                                },
                                {
                                    "EmployeeLastName": "Mortensen",
                                    "EmployeeFirstName": "Sven",
                                    "TotalSales": "75499.99532500000",
                                    "MostSoldProduct": "Product PWCJB",
                                    "QuantityOfMostSoldProduct": "30"
                                },
                                {
                                    "EmployeeLastName": "Mortensen",
                                    "EmployeeFirstName": "Sven",
                                    "TotalSales": "75499.99532500000",
                                    "MostSoldProduct": "Product QAQRL",
                                    "QuantityOfMostSoldProduct": "30"
                                },
                                {
                                    "EmployeeLastName": "Mortensen",
                                    "EmployeeFirstName": "Sven",
                                    "TotalSales": "75499.99532500000",
                                    "MostSoldProduct": "Product QMVUN",
                                    "QuantityOfMostSoldProduct": "12"
                                },
                                {
                                    "EmployeeLastName": "Mortensen",
                                    "EmployeeFirstName": "Sven",
                                    "TotalSales": "75499.99532500000",
                                    "MostSoldProduct": "Product QOGNU",
                                    "QuantityOfMostSoldProduct": "35"
                                },
                                {
                                    "EmployeeLastName": "Mortensen",
                                    "EmployeeFirstName": "Sven",
                                    "TotalSales": "75499.99532500000",
                                    "MostSoldProduct": "Product RJVNM",
                                    "QuantityOfMostSoldProduct": "50"
                                },
                                {
                                    "EmployeeLastName": "Mortensen",
                                    "EmployeeFirstName": "Sven",
                                    "TotalSales": "75499.99532500000",
                                    "MostSoldProduct": "Product TBTBL",
                                    "QuantityOfMostSoldProduct": "20"
                                },
                                {
                                    "EmployeeLastName": "Mortensen",
                                    "EmployeeFirstName": "Sven",
                                    "TotalSales": "75499.99532500000",
                                    "MostSoldProduct": "Product UKXRI",
                                    "QuantityOfMostSoldProduct": "50"
                                },
                                {
                                    "EmployeeLastName": "Mortensen",
                                    "EmployeeFirstName": "Sven",
                                    "TotalSales": "75499.99532500000",
                                    "MostSoldProduct": "Product VJIEO",
                                    "QuantityOfMostSoldProduct": "50"
                                },
                                {
                                    "EmployeeLastName": "Mortensen",
                                    "EmployeeFirstName": "Sven",
                                    "TotalSales": "75499.99532500000",
                                    "MostSoldProduct": "Product VJZZH",
                                    "QuantityOfMostSoldProduct": "21"
                                },
                                {
                                    "EmployeeLastName": "Mortensen",
                                    "EmployeeFirstName": "Sven",
                                    "TotalSales": "75499.99532500000",
                                    "MostSoldProduct": "Product WHBYK",
                                    "QuantityOfMostSoldProduct": "80"
                                },
                                {
                                    "EmployeeLastName": "Mortensen",
                                    "EmployeeFirstName": "Sven",
                                    "TotalSales": "75499.99532500000",
                                    "MostSoldProduct": "Product XWOXC",
                                    "QuantityOfMostSoldProduct": "35"
                                },
                                {
                                    "EmployeeLastName": "Mortensen",
                                    "EmployeeFirstName": "Sven",
                                    "TotalSales": "75499.99532500000",
                                    "MostSoldProduct": "Product XYWBZ",
                                    "QuantityOfMostSoldProduct": "21"
                                },
                                {
                                    "EmployeeLastName": "Mortensen",
                                    "EmployeeFirstName": "Sven",
                                    "TotalSales": "75499.99532500000",
                                    "MostSoldProduct": "Product YHXGE",
                                    "QuantityOfMostSoldProduct": "10"
                                },
                                {
                                    "EmployeeLastName": "Mortensen",
                                    "EmployeeFirstName": "Sven",
                                    "TotalSales": "75499.99532500000",
                                    "MostSoldProduct": "Product YYWRT",
                                    "QuantityOfMostSoldProduct": "21"
                                },
                                {
                                    "EmployeeLastName": "Mortensen",
                                    "EmployeeFirstName": "Sven",
                                    "TotalSales": "75499.99532500000",
                                    "MostSoldProduct": "Product YZIXQ",
                                    "QuantityOfMostSoldProduct": "21"
                                }
                            ]
                        },
                        "text/html": [
                            "<table>",
                            "<tr><th>EmployeeLastName</th><th>EmployeeFirstName</th><th>TotalSales</th><th>MostSoldProduct</th><th>QuantityOfMostSoldProduct</th></tr>",
                            "<tr><td>Peled</td><td>Yael</td><td>250014.48396000000</td><td>Product ACRVI</td><td>80</td></tr>",
                            "<tr><td>Peled</td><td>Yael</td><td>250014.48396000000</td><td>Product APITJ</td><td>35</td></tr>",
                            "<tr><td>Peled</td><td>Yael</td><td>250014.48396000000</td><td>Product AQOKR</td><td>40</td></tr>",
                            "<tr><td>Peled</td><td>Yael</td><td>250014.48396000000</td><td>Product ASTMN</td><td>60</td></tr>",
                            "<tr><td>Peled</td><td>Yael</td><td>250014.48396000000</td><td>Product BIUDV</td><td>24</td></tr>",
                            "<tr><td>Peled</td><td>Yael</td><td>250014.48396000000</td><td>Product BLCAX</td><td>50</td></tr>",
                            "<tr><td>Peled</td><td>Yael</td><td>250014.48396000000</td><td>Product BWRLG</td><td>50</td></tr>",
                            "<tr><td>Peled</td><td>Yael</td><td>250014.48396000000</td><td>Product CBRRL</td><td>60</td></tr>",
                            "<tr><td>Peled</td><td>Yael</td><td>250014.48396000000</td><td>Product CKEDC</td><td>50</td></tr>",
                            "<tr><td>Peled</td><td>Yael</td><td>250014.48396000000</td><td>Product COAXA</td><td>20</td></tr>",
                            "<tr><td>Peled</td><td>Yael</td><td>250014.48396000000</td><td>Product CPHFY</td><td>21</td></tr>",
                            "<tr><td>Peled</td><td>Yael</td><td>250014.48396000000</td><td>Product EZZPR</td><td>30</td></tr>",
                            "<tr><td>Peled</td><td>Yael</td><td>250014.48396000000</td><td>Product FPYPN</td><td>35</td></tr>",
                            "<tr><td>Peled</td><td>Yael</td><td>250014.48396000000</td><td>Product GEEOO</td><td>40</td></tr>",
                            "<tr><td>Peled</td><td>Yael</td><td>250014.48396000000</td><td>Product GMKIJ</td><td>30</td></tr>",
                            "<tr><td>Peled</td><td>Yael</td><td>250014.48396000000</td><td>Product HCQDE</td><td>130</td></tr>",
                            "<tr><td>Peled</td><td>Yael</td><td>250014.48396000000</td><td>Product HHYDP</td><td>80</td></tr>",
                            "<tr><td>Peled</td><td>Yael</td><td>250014.48396000000</td><td>Product HMLNI</td><td>50</td></tr>",
                            "<tr><td>Peled</td><td>Yael</td><td>250014.48396000000</td><td>Product ICKNK</td><td>20</td></tr>",
                            "<tr><td>Peled</td><td>Yael</td><td>250014.48396000000</td><td>Product JLUDZ</td><td>40</td></tr>",
                            "<tr><td>Peled</td><td>Yael</td><td>250014.48396000000</td><td>Product JYGFE</td><td>20</td></tr>",
                            "<tr><td>Peled</td><td>Yael</td><td>250014.48396000000</td><td>Product KSBRM</td><td>50</td></tr>",
                            "<tr><td>Peled</td><td>Yael</td><td>250014.48396000000</td><td>Product KSZOI</td><td>5</td></tr>",
                            "<tr><td>Peled</td><td>Yael</td><td>250014.48396000000</td><td>Product LQMGN</td><td>50</td></tr>",
                            "<tr><td>Peled</td><td>Yael</td><td>250014.48396000000</td><td>Product LSOFL</td><td>50</td></tr>",
                            "<tr><td>Peled</td><td>Yael</td><td>250014.48396000000</td><td>Product LUNZZ</td><td>70</td></tr>",
                            "<tr><td>Peled</td><td>Yael</td><td>250014.48396000000</td><td>Product LYERX</td><td>15</td></tr>",
                            "<tr><td>Peled</td><td>Yael</td><td>250014.48396000000</td><td>Product MYMOI</td><td>50</td></tr>",
                            "<tr><td>Peled</td><td>Yael</td><td>250014.48396000000</td><td>Product MYNXN</td><td>70</td></tr>",
                            "<tr><td>Peled</td><td>Yael</td><td>250014.48396000000</td><td>Product NEVTJ</td><td>20</td></tr>",
                            "<tr><td>Peled</td><td>Yael</td><td>250014.48396000000</td><td>Product OFBNT</td><td>60</td></tr>",
                            "<tr><td>Peled</td><td>Yael</td><td>250014.48396000000</td><td>Product OSFNS</td><td>20</td></tr>",
                            "<tr><td>Peled</td><td>Yael</td><td>250014.48396000000</td><td>Product OVLQI</td><td>50</td></tr>",
                            "<tr><td>Peled</td><td>Yael</td><td>250014.48396000000</td><td>Product PAFRH</td><td>40</td></tr>",
                            "<tr><td>Peled</td><td>Yael</td><td>250014.48396000000</td><td>Product POXFU</td><td>56</td></tr>",
                            "<tr><td>Peled</td><td>Yael</td><td>250014.48396000000</td><td>Product PWCJB</td><td>35</td></tr>",
                            "<tr><td>Peled</td><td>Yael</td><td>250014.48396000000</td><td>Product QAQRL</td><td>32</td></tr>",
                            "<tr><td>Peled</td><td>Yael</td><td>250014.48396000000</td><td>Product QDOMO</td><td>50</td></tr>",
                            "<tr><td>Peled</td><td>Yael</td><td>250014.48396000000</td><td>Product QHFFP</td><td>40</td></tr>",
                            "<tr><td>Peled</td><td>Yael</td><td>250014.48396000000</td><td>Product QMVUN</td><td>50</td></tr>",
                            "<tr><td>Peled</td><td>Yael</td><td>250014.48396000000</td><td>Product QOGNU</td><td>6</td></tr>",
                            "<tr><td>Peled</td><td>Yael</td><td>250014.48396000000</td><td>Product RECZE</td><td>60</td></tr>",
                            "<tr><td>Peled</td><td>Yael</td><td>250014.48396000000</td><td>Product RJVNM</td><td>40</td></tr>",
                            "<tr><td>Peled</td><td>Yael</td><td>250014.48396000000</td><td>Product SMIOH</td><td>40</td></tr>",
                            "<tr><td>Peled</td><td>Yael</td><td>250014.48396000000</td><td>Product TBTBL</td><td>40</td></tr>",
                            "<tr><td>Peled</td><td>Yael</td><td>250014.48396000000</td><td>Product TOONT</td><td>60</td></tr>",
                            "<tr><td>Peled</td><td>Yael</td><td>250014.48396000000</td><td>Product TTEEX</td><td>30</td></tr>",
                            "<tr><td>Peled</td><td>Yael</td><td>250014.48396000000</td><td>Product UKXRI</td><td>70</td></tr>",
                            "<tr><td>Peled</td><td>Yael</td><td>250014.48396000000</td><td>Product VAIIV</td><td>20</td></tr>",
                            "<tr><td>Peled</td><td>Yael</td><td>250014.48396000000</td><td>Product VJIEO</td><td>40</td></tr>",
                            "<tr><td>Peled</td><td>Yael</td><td>250014.48396000000</td><td>Product VJXYN</td><td>35</td></tr>",
                            "<tr><td>Peled</td><td>Yael</td><td>250014.48396000000</td><td>Product VJZZH</td><td>40</td></tr>",
                            "<tr><td>Peled</td><td>Yael</td><td>250014.48396000000</td><td>Product VKCMF</td><td>30</td></tr>",
                            "<tr><td>Peled</td><td>Yael</td><td>250014.48396000000</td><td>Product WEUJZ</td><td>30</td></tr>",
                            "<tr><td>Peled</td><td>Yael</td><td>250014.48396000000</td><td>Product WHBYK</td><td>60</td></tr>",
                            "<tr><td>Peled</td><td>Yael</td><td>250014.48396000000</td><td>Product WUXYK</td><td>12</td></tr>",
                            "<tr><td>Peled</td><td>Yael</td><td>250014.48396000000</td><td>Product WVJFP</td><td>70</td></tr>",
                            "<tr><td>Peled</td><td>Yael</td><td>250014.48396000000</td><td>Product XKXDO</td><td>40</td></tr>",
                            "<tr><td>Peled</td><td>Yael</td><td>250014.48396000000</td><td>Product XLXQF</td><td>15</td></tr>",
                            "<tr><td>Peled</td><td>Yael</td><td>250014.48396000000</td><td>Product XWOXC</td><td>56</td></tr>",
                            "<tr><td>Peled</td><td>Yael</td><td>250014.48396000000</td><td>Product XYWBZ</td><td>65</td></tr>",
                            "<tr><td>Peled</td><td>Yael</td><td>250014.48396000000</td><td>Product XYZPE</td><td>90</td></tr>",
                            "<tr><td>Peled</td><td>Yael</td><td>250014.48396000000</td><td>Product YHXGE</td><td>20</td></tr>",
                            "<tr><td>Peled</td><td>Yael</td><td>250014.48396000000</td><td>Product YYWRT</td><td>120</td></tr>",
                            "<tr><td>Peled</td><td>Yael</td><td>250014.48396000000</td><td>Product YZIXQ</td><td>70</td></tr>",
                            "<tr><td>Lew</td><td>Judy</td><td>212948.91543000000</td><td>Product ACRVI</td><td>40</td></tr>",
                            "<tr><td>Lew</td><td>Judy</td><td>212948.91543000000</td><td>Product AOZBW</td><td>20</td></tr>",
                            "<tr><td>Lew</td><td>Judy</td><td>212948.91543000000</td><td>Product APITJ</td><td>40</td></tr>",
                            "<tr><td>Lew</td><td>Judy</td><td>212948.91543000000</td><td>Product ASTMN</td><td>49</td></tr>",
                            "<tr><td>Lew</td><td>Judy</td><td>212948.91543000000</td><td>Product BIUDV</td><td>40</td></tr>",
                            "<tr><td>Lew</td><td>Judy</td><td>212948.91543000000</td><td>Product BKAZJ</td><td>14</td></tr>",
                            "<tr><td>Lew</td><td>Judy</td><td>212948.91543000000</td><td>Product BKGEA</td><td>15</td></tr>",
                            "<tr><td>Lew</td><td>Judy</td><td>212948.91543000000</td><td>Product BLCAX</td><td>36</td></tr>",
                            "<tr><td>Lew</td><td>Judy</td><td>212948.91543000000</td><td>Product BWRLG</td><td>50</td></tr>",
                            "<tr><td>Lew</td><td>Judy</td><td>212948.91543000000</td><td>Product CBRRL</td><td>21</td></tr>",
                            "<tr><td>Lew</td><td>Judy</td><td>212948.91543000000</td><td>Product CKEDC</td><td>40</td></tr>",
                            "<tr><td>Lew</td><td>Judy</td><td>212948.91543000000</td><td>Product COAXA</td><td>10</td></tr>",
                            "<tr><td>Lew</td><td>Judy</td><td>212948.91543000000</td><td>Product EZZPR</td><td>40</td></tr>",
                            "<tr><td>Lew</td><td>Judy</td><td>212948.91543000000</td><td>Product GEEOO</td><td>60</td></tr>",
                            "<tr><td>Lew</td><td>Judy</td><td>212948.91543000000</td><td>Product GMKIJ</td><td>60</td></tr>",
                            "<tr><td>Lew</td><td>Judy</td><td>212948.91543000000</td><td>Product HCQDE</td><td>35</td></tr>",
                            "<tr><td>Lew</td><td>Judy</td><td>212948.91543000000</td><td>Product HHYDP</td><td>60</td></tr>",
                            "<tr><td>Lew</td><td>Judy</td><td>212948.91543000000</td><td>Product HLGZA</td><td>63</td></tr>",
                            "<tr><td>Lew</td><td>Judy</td><td>212948.91543000000</td><td>Product HMLNI</td><td>60</td></tr>",
                            "<tr><td>Lew</td><td>Judy</td><td>212948.91543000000</td><td>Product ICKNK</td><td>30</td></tr>",
                            "<tr><td>Lew</td><td>Judy</td><td>212948.91543000000</td><td>Product IMEHJ</td><td>60</td></tr>",
                            "<tr><td>Lew</td><td>Judy</td><td>212948.91543000000</td><td>Product JLUDZ</td><td>44</td></tr>",
                            "<tr><td>Lew</td><td>Judy</td><td>212948.91543000000</td><td>Product JYGFE</td><td>50</td></tr>",
                            "<tr><td>Lew</td><td>Judy</td><td>212948.91543000000</td><td>Product KSZOI</td><td>25</td></tr>",
                            "<tr><td>Lew</td><td>Judy</td><td>212948.91543000000</td><td>Product LSOFL</td><td>42</td></tr>",
                            "<tr><td>Lew</td><td>Judy</td><td>212948.91543000000</td><td>Product LYERX</td><td>30</td></tr>",
                            "<tr><td>Lew</td><td>Judy</td><td>212948.91543000000</td><td>Product LYLNI</td><td>60</td></tr>",
                            "<tr><td>Lew</td><td>Judy</td><td>212948.91543000000</td><td>Product MYMOI</td><td>60</td></tr>",
                            "<tr><td>Lew</td><td>Judy</td><td>212948.91543000000</td><td>Product NEVTJ</td><td>10</td></tr>",
                            "<tr><td>Lew</td><td>Judy</td><td>212948.91543000000</td><td>Product NUNAW</td><td>10</td></tr>",
                            "<tr><td>Lew</td><td>Judy</td><td>212948.91543000000</td><td>Product OFBNT</td><td>30</td></tr>",
                            "<tr><td>Lew</td><td>Judy</td><td>212948.91543000000</td><td>Product OSFNS</td><td>12</td></tr>",
                            "<tr><td>Lew</td><td>Judy</td><td>212948.91543000000</td><td>Product PAFRH</td><td>50</td></tr>",
                            "<tr><td>Lew</td><td>Judy</td><td>212948.91543000000</td><td>Product POXFU</td><td>40</td></tr>",
                            "<tr><td>Lew</td><td>Judy</td><td>212948.91543000000</td><td>Product PWCJB</td><td>15</td></tr>",
                            "<tr><td>Lew</td><td>Judy</td><td>212948.91543000000</td><td>Product QAQRL</td><td>80</td></tr>",
                            "<tr><td>Lew</td><td>Judy</td><td>212948.91543000000</td><td>Product QHFFP</td><td>28</td></tr>",
                            "<tr><td>Lew</td><td>Judy</td><td>212948.91543000000</td><td>Product QMVUN</td><td>24</td></tr>",
                            "<tr><td>Lew</td><td>Judy</td><td>212948.91543000000</td><td>Product QOGNU</td><td>110</td></tr>",
                            "<tr><td>Lew</td><td>Judy</td><td>212948.91543000000</td><td>Product QSRXF</td><td>60</td></tr>",
                            "<tr><td>Lew</td><td>Judy</td><td>212948.91543000000</td><td>Product RECZE</td><td>30</td></tr>",
                            "<tr><td>Lew</td><td>Judy</td><td>212948.91543000000</td><td>Product RJVNM</td><td>20</td></tr>",
                            "<tr><td>Lew</td><td>Judy</td><td>212948.91543000000</td><td>Product SMIOH</td><td>50</td></tr>",
                            "<tr><td>Lew</td><td>Judy</td><td>212948.91543000000</td><td>Product SWNJY</td><td>20</td></tr>",
                            "<tr><td>Lew</td><td>Judy</td><td>212948.91543000000</td><td>Product TBTBL</td><td>10</td></tr>",
                            "<tr><td>Lew</td><td>Judy</td><td>212948.91543000000</td><td>Product TOONT</td><td>30</td></tr>",
                            "<tr><td>Lew</td><td>Judy</td><td>212948.91543000000</td><td>Product TTEEX</td><td>30</td></tr>",
                            "<tr><td>Lew</td><td>Judy</td><td>212948.91543000000</td><td>Product UKXRI</td><td>60</td></tr>",
                            "<tr><td>Lew</td><td>Judy</td><td>212948.91543000000</td><td>Product VAIIV</td><td>30</td></tr>",
                            "<tr><td>Lew</td><td>Judy</td><td>212948.91543000000</td><td>Product VJIEO</td><td>21</td></tr>",
                            "<tr><td>Lew</td><td>Judy</td><td>212948.91543000000</td><td>Product VJXYN</td><td>80</td></tr>",
                            "<tr><td>Lew</td><td>Judy</td><td>212948.91543000000</td><td>Product VJZZH</td><td>42</td></tr>",
                            "<tr><td>Lew</td><td>Judy</td><td>212948.91543000000</td><td>Product VKCMF</td><td>70</td></tr>",
                            "<tr><td>Lew</td><td>Judy</td><td>212948.91543000000</td><td>Product WEUJZ</td><td>20</td></tr>",
                            "<tr><td>Lew</td><td>Judy</td><td>212948.91543000000</td><td>Product WHBYK</td><td>50</td></tr>",
                            "<tr><td>Lew</td><td>Judy</td><td>212948.91543000000</td><td>Product WUXYK</td><td>40</td></tr>",
                            "<tr><td>Lew</td><td>Judy</td><td>212948.91543000000</td><td>Product XKXDO</td><td>30</td></tr>",
                            "<tr><td>Lew</td><td>Judy</td><td>212948.91543000000</td><td>Product XLXQF</td><td>15</td></tr>",
                            "<tr><td>Lew</td><td>Judy</td><td>212948.91543000000</td><td>Product XWOXC</td><td>50</td></tr>",
                            "<tr><td>Lew</td><td>Judy</td><td>212948.91543000000</td><td>Product XYWBZ</td><td>80</td></tr>",
                            "<tr><td>Lew</td><td>Judy</td><td>212948.91543000000</td><td>Product XYZPE</td><td>30</td></tr>",
                            "<tr><td>Lew</td><td>Judy</td><td>212948.91543000000</td><td>Product YHXGE</td><td>100</td></tr>",
                            "<tr><td>Lew</td><td>Judy</td><td>212948.91543000000</td><td>Product YZIXQ</td><td>60</td></tr>",
                            "<tr><td>Lew</td><td>Judy</td><td>212948.91543000000</td><td>Product ZZZHumanResources</td><td>30</td></tr>",
                            "<tr><td>Davis</td><td>Sara</td><td>202043.34894500000</td><td>Product APITJ</td><td>120</td></tr>",
                            "<tr><td>Davis</td><td>Sara</td><td>202043.34894500000</td><td>Product AQOKR</td><td>110</td></tr>",
                            "<tr><td>Davis</td><td>Sara</td><td>202043.34894500000</td><td>Product ASTMN</td><td>20</td></tr>",
                            "<tr><td>Davis</td><td>Sara</td><td>202043.34894500000</td><td>Product BKGEA</td><td>20</td></tr>",
                            "<tr><td>Davis</td><td>Sara</td><td>202043.34894500000</td><td>Product BLCAX</td><td>77</td></tr>",
                            "<tr><td>Davis</td><td>Sara</td><td>202043.34894500000</td><td>Product BWRLG</td><td>120</td></tr>",
                            "<tr><td>Davis</td><td>Sara</td><td>202043.34894500000</td><td>Product CBRRL</td><td>35</td></tr>",
                            "<tr><td>Davis</td><td>Sara</td><td>202043.34894500000</td><td>Product CKEDC</td><td>30</td></tr>",
                            "<tr><td>Davis</td><td>Sara</td><td>202043.34894500000</td><td>Product COAXA</td><td>40</td></tr>",
                            "<tr><td>Davis</td><td>Sara</td><td>202043.34894500000</td><td>Product EPEIM</td><td>65</td></tr>",
                            "<tr><td>Davis</td><td>Sara</td><td>202043.34894500000</td><td>Product EZZPR</td><td>5</td></tr>",
                            "<tr><td>Davis</td><td>Sara</td><td>202043.34894500000</td><td>Product FPYPN</td><td>60</td></tr>",
                            "<tr><td>Davis</td><td>Sara</td><td>202043.34894500000</td><td>Product GEEOO</td><td>40</td></tr>",
                            "<tr><td>Davis</td><td>Sara</td><td>202043.34894500000</td><td>Product GMKIJ</td><td>40</td></tr>",
                            "<tr><td>Davis</td><td>Sara</td><td>202043.34894500000</td><td>Product HCQDE</td><td>15</td></tr>",
                            "<tr><td>Davis</td><td>Sara</td><td>202043.34894500000</td><td>Product HHYDP</td><td>45</td></tr>",
                            "<tr><td>Davis</td><td>Sara</td><td>202043.34894500000</td><td>Product HLGZA</td><td>70</td></tr>",
                            "<tr><td>Davis</td><td>Sara</td><td>202043.34894500000</td><td>Product HMLNI</td><td>15</td></tr>",
                            "<tr><td>Davis</td><td>Sara</td><td>202043.34894500000</td><td>Product ICKNK</td><td>40</td></tr>",
                            "<tr><td>Davis</td><td>Sara</td><td>202043.34894500000</td><td>Product IMEHJ</td><td>50</td></tr>",
                            "<tr><td>Davis</td><td>Sara</td><td>202043.34894500000</td><td>Product JYGFE</td><td>90</td></tr>",
                            "<tr><td>Davis</td><td>Sara</td><td>202043.34894500000</td><td>Product KSBRM</td><td>5</td></tr>",
                            "<tr><td>Davis</td><td>Sara</td><td>202043.34894500000</td><td>Product LSOFL</td><td>21</td></tr>",
                            "<tr><td>Davis</td><td>Sara</td><td>202043.34894500000</td><td>Product LUNZZ</td><td>40</td></tr>",
                            "<tr><td>Davis</td><td>Sara</td><td>202043.34894500000</td><td>Product LYERX</td><td>20</td></tr>",
                            "<tr><td>Davis</td><td>Sara</td><td>202043.34894500000</td><td>Product MYMOI</td><td>60</td></tr>",
                            "<tr><td>Davis</td><td>Sara</td><td>202043.34894500000</td><td>Product NEVTJ</td><td>35</td></tr>",
                            "<tr><td>Davis</td><td>Sara</td><td>202043.34894500000</td><td>Product NUNAW</td><td>40</td></tr>",
                            "<tr><td>Davis</td><td>Sara</td><td>202043.34894500000</td><td>Product OFBNT</td><td>20</td></tr>",
                            "<tr><td>Davis</td><td>Sara</td><td>202043.34894500000</td><td>Product OSFNS</td><td>30</td></tr>",
                            "<tr><td>Davis</td><td>Sara</td><td>202043.34894500000</td><td>Product OVLQI</td><td>20</td></tr>",
                            "<tr><td>Davis</td><td>Sara</td><td>202043.34894500000</td><td>Product PAFRH</td><td>55</td></tr>",
                            "<tr><td>Davis</td><td>Sara</td><td>202043.34894500000</td><td>Product POXFU</td><td>10</td></tr>",
                            "<tr><td>Davis</td><td>Sara</td><td>202043.34894500000</td><td>Product QAQRL</td><td>50</td></tr>",
                            "<tr><td>Davis</td><td>Sara</td><td>202043.34894500000</td><td>Product QDOMO</td><td>60</td></tr>",
                            "<tr><td>Davis</td><td>Sara</td><td>202043.34894500000</td><td>Product QHFFP</td><td>20</td></tr>",
                            "<tr><td>Davis</td><td>Sara</td><td>202043.34894500000</td><td>Product QMVUN</td><td>50</td></tr>",
                            "<tr><td>Davis</td><td>Sara</td><td>202043.34894500000</td><td>Product QOGNU</td><td>40</td></tr>",
                            "<tr><td>Davis</td><td>Sara</td><td>202043.34894500000</td><td>Product QSRXF</td><td>30</td></tr>",
                            "<tr><td>Davis</td><td>Sara</td><td>202043.34894500000</td><td>Product RECZE</td><td>40</td></tr>",
                            "<tr><td>Davis</td><td>Sara</td><td>202043.34894500000</td><td>Product SMIOH</td><td>50</td></tr>",
                            "<tr><td>Davis</td><td>Sara</td><td>202043.34894500000</td><td>Product TBTBL</td><td>20</td></tr>",
                            "<tr><td>Davis</td><td>Sara</td><td>202043.34894500000</td><td>Product TOONT</td><td>30</td></tr>",
                            "<tr><td>Davis</td><td>Sara</td><td>202043.34894500000</td><td>Product TTEEX</td><td>20</td></tr>",
                            "<tr><td>Davis</td><td>Sara</td><td>202043.34894500000</td><td>Product UKXRI</td><td>15</td></tr>",
                            "<tr><td>Davis</td><td>Sara</td><td>202043.34894500000</td><td>Product VAIIV</td><td>70</td></tr>",
                            "<tr><td>Davis</td><td>Sara</td><td>202043.34894500000</td><td>Product VJIEO</td><td>77</td></tr>",
                            "<tr><td>Davis</td><td>Sara</td><td>202043.34894500000</td><td>Product VJZZH</td><td>32</td></tr>",
                            "<tr><td>Davis</td><td>Sara</td><td>202043.34894500000</td><td>Product VKCMF</td><td>70</td></tr>",
                            "<tr><td>Davis</td><td>Sara</td><td>202043.34894500000</td><td>Product WHBYK</td><td>70</td></tr>",
                            "<tr><td>Davis</td><td>Sara</td><td>202043.34894500000</td><td>Product WUXYK</td><td>70</td></tr>",
                            "<tr><td>Davis</td><td>Sara</td><td>202043.34894500000</td><td>Product WVJFP</td><td>40</td></tr>",
                            "<tr><td>Davis</td><td>Sara</td><td>202043.34894500000</td><td>Product XKXDO</td><td>50</td></tr>",
                            "<tr><td>Davis</td><td>Sara</td><td>202043.34894500000</td><td>Product XWOXC</td><td>70</td></tr>",
                            "<tr><td>Davis</td><td>Sara</td><td>202043.34894500000</td><td>Product XYWBZ</td><td>12</td></tr>",
                            "<tr><td>Davis</td><td>Sara</td><td>202043.34894500000</td><td>Product YHXGE</td><td>70</td></tr>",
                            "<tr><td>Davis</td><td>Sara</td><td>202043.34894500000</td><td>Product YYWRT</td><td>60</td></tr>",
                            "<tr><td>Davis</td><td>Sara</td><td>202043.34894500000</td><td>Product YZIXQ</td><td>10</td></tr>",
                            "<tr><td>Davis</td><td>Sara</td><td>202043.34894500000</td><td>Product ZZZHumanResources</td><td>60</td></tr>",
                            "<tr><td>Funk</td><td>Don</td><td>177637.14495000000</td><td>Product APITJ</td><td>50</td></tr>",
                            "<tr><td>Funk</td><td>Don</td><td>177637.14495000000</td><td>Product AQOKR</td><td>20</td></tr>",
                            "<tr><td>Funk</td><td>Don</td><td>177637.14495000000</td><td>Product ASTMN</td><td>50</td></tr>",
                            "<tr><td>Funk</td><td>Don</td><td>177637.14495000000</td><td>Product BKAZJ</td><td>35</td></tr>",
                            "<tr><td>Funk</td><td>Don</td><td>177637.14495000000</td><td>Product BKGEA</td><td>40</td></tr>",
                            "<tr><td>Funk</td><td>Don</td><td>177637.14495000000</td><td>Product BLCAX</td><td>70</td></tr>",
                            "<tr><td>Funk</td><td>Don</td><td>177637.14495000000</td><td>Product BWRLG</td><td>30</td></tr>",
                            "<tr><td>Funk</td><td>Don</td><td>177637.14495000000</td><td>Product CKEDC</td><td>35</td></tr>",
                            "<tr><td>Funk</td><td>Don</td><td>177637.14495000000</td><td>Product COAXA</td><td>50</td></tr>",
                            "<tr><td>Funk</td><td>Don</td><td>177637.14495000000</td><td>Product FPYPN</td><td>40</td></tr>",
                            "<tr><td>Funk</td><td>Don</td><td>177637.14495000000</td><td>Product GEEOO</td><td>24</td></tr>",
                            "<tr><td>Funk</td><td>Don</td><td>177637.14495000000</td><td>Product GMKIJ</td><td>35</td></tr>",
                            "<tr><td>Funk</td><td>Don</td><td>177637.14495000000</td><td>Product HCQDE</td><td>35</td></tr>",
                            "<tr><td>Funk</td><td>Don</td><td>177637.14495000000</td><td>Product HHYDP</td><td>40</td></tr>",
                            "<tr><td>Funk</td><td>Don</td><td>177637.14495000000</td><td>Product HLGZA</td><td>30</td></tr>",
                            "<tr><td>Funk</td><td>Don</td><td>177637.14495000000</td><td>Product HMLNI</td><td>60</td></tr>",
                            "<tr><td>Funk</td><td>Don</td><td>177637.14495000000</td><td>Product JLUDZ</td><td>21</td></tr>",
                            "<tr><td>Funk</td><td>Don</td><td>177637.14495000000</td><td>Product JYGFE</td><td>50</td></tr>",
                            "<tr><td>Funk</td><td>Don</td><td>177637.14495000000</td><td>Product KSZOI</td><td>50</td></tr>",
                            "<tr><td>Funk</td><td>Don</td><td>177637.14495000000</td><td>Product LQMGN</td><td>30</td></tr>",
                            "<tr><td>Funk</td><td>Don</td><td>177637.14495000000</td><td>Product LSOFL</td><td>80</td></tr>",
                            "<tr><td>Funk</td><td>Don</td><td>177637.14495000000</td><td>Product LUNZZ</td><td>30</td></tr>",
                            "<tr><td>Funk</td><td>Don</td><td>177637.14495000000</td><td>Product LYLNI</td><td>24</td></tr>",
                            "<tr><td>Funk</td><td>Don</td><td>177637.14495000000</td><td>Product NEVTJ</td><td>60</td></tr>",
                            "<tr><td>Funk</td><td>Don</td><td>177637.14495000000</td><td>Product OFBNT</td><td>20</td></tr>",
                            "<tr><td>Funk</td><td>Don</td><td>177637.14495000000</td><td>Product PAFRH</td><td>36</td></tr>",
                            "<tr><td>Funk</td><td>Don</td><td>177637.14495000000</td><td>Product POXFU</td><td>84</td></tr>",
                            "<tr><td>Funk</td><td>Don</td><td>177637.14495000000</td><td>Product QDOMO</td><td>10</td></tr>",
                            "<tr><td>Funk</td><td>Don</td><td>177637.14495000000</td><td>Product QMVUN</td><td>50</td></tr>",
                            "<tr><td>Funk</td><td>Don</td><td>177637.14495000000</td><td>Product QOGNU</td><td>30</td></tr>",
                            "<tr><td>Funk</td><td>Don</td><td>177637.14495000000</td><td>Product QSRXF</td><td>70</td></tr>",
                            "<tr><td>Funk</td><td>Don</td><td>177637.14495000000</td><td>Product RJVNM</td><td>100</td></tr>",
                            "<tr><td>Funk</td><td>Don</td><td>177637.14495000000</td><td>Product SMIOH</td><td>120</td></tr>",
                            "<tr><td>Funk</td><td>Don</td><td>177637.14495000000</td><td>Product SWNJY</td><td>10</td></tr>",
                            "<tr><td>Funk</td><td>Don</td><td>177637.14495000000</td><td>Product TOONT</td><td>35</td></tr>",
                            "<tr><td>Funk</td><td>Don</td><td>177637.14495000000</td><td>Product TTEEX</td><td>80</td></tr>",
                            "<tr><td>Funk</td><td>Don</td><td>177637.14495000000</td><td>Product UKXRI</td><td>36</td></tr>",
                            "<tr><td>Funk</td><td>Don</td><td>177637.14495000000</td><td>Product VAIIV</td><td>40</td></tr>",
                            "<tr><td>Funk</td><td>Don</td><td>177637.14495000000</td><td>Product VJIEO</td><td>21</td></tr>",
                            "<tr><td>Funk</td><td>Don</td><td>177637.14495000000</td><td>Product VJXYN</td><td>60</td></tr>",
                            "<tr><td>Funk</td><td>Don</td><td>177637.14495000000</td><td>Product VKCMF</td><td>4</td></tr>",
                            "<tr><td>Funk</td><td>Don</td><td>177637.14495000000</td><td>Product WHBYK</td><td>35</td></tr>",
                            "<tr><td>Funk</td><td>Don</td><td>177637.14495000000</td><td>Product WUXYK</td><td>60</td></tr>",
                            "<tr><td>Funk</td><td>Don</td><td>177637.14495000000</td><td>Product XKXDO</td><td>80</td></tr>",
                            "<tr><td>Funk</td><td>Don</td><td>177637.14495000000</td><td>Product XLXQF</td><td>40</td></tr>",
                            "<tr><td>Funk</td><td>Don</td><td>177637.14495000000</td><td>Product XWOXC</td><td>30</td></tr>",
                            "<tr><td>Funk</td><td>Don</td><td>177637.14495000000</td><td>Product XYWBZ</td><td>36</td></tr>",
                            "<tr><td>Funk</td><td>Don</td><td>177637.14495000000</td><td>Product XYZPE</td><td>120</td></tr>",
                            "<tr><td>Funk</td><td>Don</td><td>177637.14495000000</td><td>Product YHXGE</td><td>24</td></tr>",
                            "<tr><td>Funk</td><td>Don</td><td>177637.14495000000</td><td>Product YYWRT</td><td>120</td></tr>",
                            "<tr><td>Funk</td><td>Don</td><td>177637.14495000000</td><td>Product YZIXQ</td><td>30</td></tr>",
                            "<tr><td>Funk</td><td>Don</td><td>177637.14495000000</td><td>Product ZZZHumanResources</td><td>24</td></tr>",
                            "<tr><td>King</td><td>Russell</td><td>141128.71245000000</td><td>Product ACRVI</td><td>49</td></tr>",
                            "<tr><td>King</td><td>Russell</td><td>141128.71245000000</td><td>Product APITJ</td><td>48</td></tr>",
                            "<tr><td>King</td><td>Russell</td><td>141128.71245000000</td><td>Product BKGEA</td><td>70</td></tr>",
                            "<tr><td>King</td><td>Russell</td><td>141128.71245000000</td><td>Product BLCAX</td><td>25</td></tr>",
                            "<tr><td>King</td><td>Russell</td><td>141128.71245000000</td><td>Product CBRRL</td><td>21</td></tr>",
                            "<tr><td>King</td><td>Russell</td><td>141128.71245000000</td><td>Product CKEDC</td><td>8</td></tr>",
                            "<tr><td>King</td><td>Russell</td><td>141128.71245000000</td><td>Product COAXA</td><td>45</td></tr>",
                            "<tr><td>King</td><td>Russell</td><td>141128.71245000000</td><td>Product EPEIM</td><td>30</td></tr>",
                            "<tr><td>King</td><td>Russell</td><td>141128.71245000000</td><td>Product EZZPR</td><td>15</td></tr>",
                            "<tr><td>King</td><td>Russell</td><td>141128.71245000000</td><td>Product FPYPN</td><td>42</td></tr>",
                            "<tr><td>King</td><td>Russell</td><td>141128.71245000000</td><td>Product GEEOO</td><td>25</td></tr>",
                            "<tr><td>King</td><td>Russell</td><td>141128.71245000000</td><td>Product IMEHJ</td><td>30</td></tr>",
                            "<tr><td>King</td><td>Russell</td><td>141128.71245000000</td><td>Product JYGFE</td><td>30</td></tr>",
                            "<tr><td>King</td><td>Russell</td><td>141128.71245000000</td><td>Product KSBRM</td><td>50</td></tr>",
                            "<tr><td>King</td><td>Russell</td><td>141128.71245000000</td><td>Product LQMGN</td><td>24</td></tr>",
                            "<tr><td>King</td><td>Russell</td><td>141128.71245000000</td><td>Product LUNZZ</td><td>25</td></tr>",
                            "<tr><td>King</td><td>Russell</td><td>141128.71245000000</td><td>Product LYERX</td><td>15</td></tr>",
                            "<tr><td>King</td><td>Russell</td><td>141128.71245000000</td><td>Product MYMOI</td><td>50</td></tr>",
                            "<tr><td>King</td><td>Russell</td><td>141128.71245000000</td><td>Product MYNXN</td><td>15</td></tr>",
                            "<tr><td>King</td><td>Russell</td><td>141128.71245000000</td><td>Product NEVTJ</td><td>60</td></tr>",
                            "<tr><td>King</td><td>Russell</td><td>141128.71245000000</td><td>Product NUNAW</td><td>50</td></tr>",
                            "<tr><td>King</td><td>Russell</td><td>141128.71245000000</td><td>Product OFBNT</td><td>42</td></tr>",
                            "<tr><td>King</td><td>Russell</td><td>141128.71245000000</td><td>Product OVLQI</td><td>20</td></tr>",
                            "<tr><td>King</td><td>Russell</td><td>141128.71245000000</td><td>Product PAFRH</td><td>14</td></tr>",
                            "<tr><td>King</td><td>Russell</td><td>141128.71245000000</td><td>Product POXFU</td><td>60</td></tr>",
                            "<tr><td>King</td><td>Russell</td><td>141128.71245000000</td><td>Product QAQRL</td><td>24</td></tr>",
                            "<tr><td>King</td><td>Russell</td><td>141128.71245000000</td><td>Product QDOMO</td><td>50</td></tr>",
                            "<tr><td>King</td><td>Russell</td><td>141128.71245000000</td><td>Product QHFFP</td><td>21</td></tr>",
                            "<tr><td>King</td><td>Russell</td><td>141128.71245000000</td><td>Product QMVUN</td><td>20</td></tr>",
                            "<tr><td>King</td><td>Russell</td><td>141128.71245000000</td><td>Product QOGNU</td><td>35</td></tr>",
                            "<tr><td>King</td><td>Russell</td><td>141128.71245000000</td><td>Product QSRXF</td><td>20</td></tr>",
                            "<tr><td>King</td><td>Russell</td><td>141128.71245000000</td><td>Product RECZE</td><td>100</td></tr>",
                            "<tr><td>King</td><td>Russell</td><td>141128.71245000000</td><td>Product RJVNM</td><td>20</td></tr>",
                            "<tr><td>King</td><td>Russell</td><td>141128.71245000000</td><td>Product SWNJY</td><td>90</td></tr>",
                            "<tr><td>King</td><td>Russell</td><td>141128.71245000000</td><td>Product TBTBL</td><td>80</td></tr>",
                            "<tr><td>King</td><td>Russell</td><td>141128.71245000000</td><td>Product TOONT</td><td>50</td></tr>",
                            "<tr><td>King</td><td>Russell</td><td>141128.71245000000</td><td>Product TTEEX</td><td>120</td></tr>",
                            "<tr><td>King</td><td>Russell</td><td>141128.71245000000</td><td>Product UKXRI</td><td>100</td></tr>",
                            "<tr><td>King</td><td>Russell</td><td>141128.71245000000</td><td>Product VJXYN</td><td>50</td></tr>",
                            "<tr><td>King</td><td>Russell</td><td>141128.71245000000</td><td>Product VJZZH</td><td>40</td></tr>",
                            "<tr><td>King</td><td>Russell</td><td>141128.71245000000</td><td>Product VKCMF</td><td>16</td></tr>",
                            "<tr><td>King</td><td>Russell</td><td>141128.71245000000</td><td>Product WHBYK</td><td>60</td></tr>",
                            "<tr><td>King</td><td>Russell</td><td>141128.71245000000</td><td>Product WUXYK</td><td>80</td></tr>",
                            "<tr><td>King</td><td>Russell</td><td>141128.71245000000</td><td>Product XKXDO</td><td>42</td></tr>",
                            "<tr><td>King</td><td>Russell</td><td>141128.71245000000</td><td>Product XLXQF</td><td>24</td></tr>",
                            "<tr><td>King</td><td>Russell</td><td>141128.71245000000</td><td>Product XWOXC</td><td>20</td></tr>",
                            "<tr><td>King</td><td>Russell</td><td>141128.71245000000</td><td>Product XYZPE</td><td>10</td></tr>",
                            "<tr><td>King</td><td>Russell</td><td>141128.71245000000</td><td>Product YHXGE</td><td>10</td></tr>",
                            "<tr><td>King</td><td>Russell</td><td>141128.71245000000</td><td>Product YZIXQ</td><td>40</td></tr>",
                            "<tr><td>King</td><td>Russell</td><td>141128.71245000000</td><td>Product ZZZHumanResources</td><td>15</td></tr>",
                            "<tr><td>Cameron</td><td>Maria</td><td>133236.64247500000</td><td>Product BKGEA</td><td>50</td></tr>",
                            "<tr><td>Cameron</td><td>Maria</td><td>133236.64247500000</td><td>Product BLCAX</td><td>20</td></tr>",
                            "<tr><td>Cameron</td><td>Maria</td><td>133236.64247500000</td><td>Product BWRLG</td><td>42</td></tr>",
                            "<tr><td>Cameron</td><td>Maria</td><td>133236.64247500000</td><td>Product CBRRL</td><td>30</td></tr>",
                            "<tr><td>Cameron</td><td>Maria</td><td>133236.64247500000</td><td>Product CKEDC</td><td>21</td></tr>",
                            "<tr><td>Cameron</td><td>Maria</td><td>133236.64247500000</td><td>Product CPHFY</td><td>48</td></tr>",
                            "<tr><td>Cameron</td><td>Maria</td><td>133236.64247500000</td><td>Product EPEIM</td><td>20</td></tr>",
                            "<tr><td>Cameron</td><td>Maria</td><td>133236.64247500000</td><td>Product EZZPR</td><td>30</td></tr>",
                            "<tr><td>Cameron</td><td>Maria</td><td>133236.64247500000</td><td>Product GMKIJ</td><td>21</td></tr>",
                            "<tr><td>Cameron</td><td>Maria</td><td>133236.64247500000</td><td>Product HHYDP</td><td>50</td></tr>",
                            "<tr><td>Cameron</td><td>Maria</td><td>133236.64247500000</td><td>Product HLGZA</td><td>35</td></tr>",
                            "<tr><td>Cameron</td><td>Maria</td><td>133236.64247500000</td><td>Product HMLNI</td><td>90</td></tr>",
                            "<tr><td>Cameron</td><td>Maria</td><td>133236.64247500000</td><td>Product ICKNK</td><td>65</td></tr>",
                            "<tr><td>Cameron</td><td>Maria</td><td>133236.64247500000</td><td>Product JLUDZ</td><td>70</td></tr>",
                            "<tr><td>Cameron</td><td>Maria</td><td>133236.64247500000</td><td>Product JYGFE</td><td>60</td></tr>",
                            "<tr><td>Cameron</td><td>Maria</td><td>133236.64247500000</td><td>Product KSBRM</td><td>50</td></tr>",
                            "<tr><td>Cameron</td><td>Maria</td><td>133236.64247500000</td><td>Product LSOFL</td><td>30</td></tr>",
                            "<tr><td>Cameron</td><td>Maria</td><td>133236.64247500000</td><td>Product LUNZZ</td><td>5</td></tr>",
                            "<tr><td>Cameron</td><td>Maria</td><td>133236.64247500000</td><td>Product LYERX</td><td>20</td></tr>",
                            "<tr><td>Cameron</td><td>Maria</td><td>133236.64247500000</td><td>Product LYLNI</td><td>5</td></tr>",
                            "<tr><td>Cameron</td><td>Maria</td><td>133236.64247500000</td><td>Product NEVTJ</td><td>100</td></tr>",
                            "<tr><td>Cameron</td><td>Maria</td><td>133236.64247500000</td><td>Product NUNAW</td><td>50</td></tr>",
                            "<tr><td>Cameron</td><td>Maria</td><td>133236.64247500000</td><td>Product OFBNT</td><td>12</td></tr>",
                            "<tr><td>Cameron</td><td>Maria</td><td>133236.64247500000</td><td>Product OSFNS</td><td>20</td></tr>",
                            "<tr><td>Cameron</td><td>Maria</td><td>133236.64247500000</td><td>Product OVLQI</td><td>20</td></tr>",
                            "<tr><td>Cameron</td><td>Maria</td><td>133236.64247500000</td><td>Product PAFRH</td><td>65</td></tr>",
                            "<tr><td>Cameron</td><td>Maria</td><td>133236.64247500000</td><td>Product POXFU</td><td>77</td></tr>",
                            "<tr><td>Cameron</td><td>Maria</td><td>133236.64247500000</td><td>Product PWCJB</td><td>20</td></tr>",
                            "<tr><td>Cameron</td><td>Maria</td><td>133236.64247500000</td><td>Product QAQRL</td><td>40</td></tr>",
                            "<tr><td>Cameron</td><td>Maria</td><td>133236.64247500000</td><td>Product QHFFP</td><td>21</td></tr>",
                            "<tr><td>Cameron</td><td>Maria</td><td>133236.64247500000</td><td>Product QMVUN</td><td>30</td></tr>",
                            "<tr><td>Cameron</td><td>Maria</td><td>133236.64247500000</td><td>Product QOGNU</td><td>80</td></tr>",
                            "<tr><td>Cameron</td><td>Maria</td><td>133236.64247500000</td><td>Product RECZE</td><td>30</td></tr>",
                            "<tr><td>Cameron</td><td>Maria</td><td>133236.64247500000</td><td>Product RJVNM</td><td>30</td></tr>",
                            "<tr><td>Cameron</td><td>Maria</td><td>133236.64247500000</td><td>Product TBTBL</td><td>60</td></tr>",
                            "<tr><td>Cameron</td><td>Maria</td><td>133236.64247500000</td><td>Product TOONT</td><td>30</td></tr>",
                            "<tr><td>Cameron</td><td>Maria</td><td>133236.64247500000</td><td>Product TTEEX</td><td>20</td></tr>",
                            "<tr><td>Cameron</td><td>Maria</td><td>133236.64247500000</td><td>Product UKXRI</td><td>30</td></tr>",
                            "<tr><td>Cameron</td><td>Maria</td><td>133236.64247500000</td><td>Product VJIEO</td><td>100</td></tr>",
                            "<tr><td>Cameron</td><td>Maria</td><td>133236.64247500000</td><td>Product VJXYN</td><td>20</td></tr>",
                            "<tr><td>Cameron</td><td>Maria</td><td>133236.64247500000</td><td>Product VJZZH</td><td>40</td></tr>",
                            "<tr><td>Cameron</td><td>Maria</td><td>133236.64247500000</td><td>Product VKCMF</td><td>20</td></tr>",
                            "<tr><td>Cameron</td><td>Maria</td><td>133236.64247500000</td><td>Product WEUJZ</td><td>35</td></tr>",
                            "<tr><td>Cameron</td><td>Maria</td><td>133236.64247500000</td><td>Product WHBYK</td><td>50</td></tr>",
                            "<tr><td>Cameron</td><td>Maria</td><td>133236.64247500000</td><td>Product WUXYK</td><td>50</td></tr>",
                            "<tr><td>Cameron</td><td>Maria</td><td>133236.64247500000</td><td>Product WVJFP</td><td>30</td></tr>",
                            "<tr><td>Cameron</td><td>Maria</td><td>133236.64247500000</td><td>Product XKXDO</td><td>20</td></tr>",
                            "<tr><td>Cameron</td><td>Maria</td><td>133236.64247500000</td><td>Product XLXQF</td><td>20</td></tr>",
                            "<tr><td>Cameron</td><td>Maria</td><td>133236.64247500000</td><td>Product XWOXC</td><td>50</td></tr>",
                            "<tr><td>Cameron</td><td>Maria</td><td>133236.64247500000</td><td>Product XYWBZ</td><td>5</td></tr>",
                            "<tr><td>Cameron</td><td>Maria</td><td>133236.64247500000</td><td>Product YHXGE</td><td>20</td></tr>",
                            "<tr><td>Cameron</td><td>Maria</td><td>133236.64247500000</td><td>Product YZIXQ</td><td>30</td></tr>",
                            "<tr><td>Cameron</td><td>Maria</td><td>133236.64247500000</td><td>Product ZZZHumanResources</td><td>36</td></tr>",
                            "<tr><td>Doyle</td><td>Patricia</td><td>82907.44066500000</td><td>Product AOZBW</td><td>50</td></tr>",
                            "<tr><td>Doyle</td><td>Patricia</td><td>82907.44066500000</td><td>Product AQOKR</td><td>40</td></tr>",
                            "<tr><td>Doyle</td><td>Patricia</td><td>82907.44066500000</td><td>Product BWRLG</td><td>50</td></tr>",
                            "<tr><td>Doyle</td><td>Patricia</td><td>82907.44066500000</td><td>Product CKEDC</td><td>10</td></tr>",
                            "<tr><td>Doyle</td><td>Patricia</td><td>82907.44066500000</td><td>Product EZZPR</td><td>40</td></tr>",
                            "<tr><td>Doyle</td><td>Patricia</td><td>82907.44066500000</td><td>Product FPYPN</td><td>28</td></tr>",
                            "<tr><td>Doyle</td><td>Patricia</td><td>82907.44066500000</td><td>Product GMKIJ</td><td>16</td></tr>",
                            "<tr><td>Doyle</td><td>Patricia</td><td>82907.44066500000</td><td>Product HCQDE</td><td>30</td></tr>",
                            "<tr><td>Doyle</td><td>Patricia</td><td>82907.44066500000</td><td>Product HHYDP</td><td>20</td></tr>",
                            "<tr><td>Doyle</td><td>Patricia</td><td>82907.44066500000</td><td>Product ICKNK</td><td>80</td></tr>",
                            "<tr><td>Doyle</td><td>Patricia</td><td>82907.44066500000</td><td>Product IMEHJ</td><td>49</td></tr>",
                            "<tr><td>Doyle</td><td>Patricia</td><td>82907.44066500000</td><td>Product LQMGN</td><td>60</td></tr>",
                            "<tr><td>Doyle</td><td>Patricia</td><td>82907.44066500000</td><td>Product LUNZZ</td><td>35</td></tr>",
                            "<tr><td>Doyle</td><td>Patricia</td><td>82907.44066500000</td><td>Product LYERX</td><td>60</td></tr>",
                            "<tr><td>Doyle</td><td>Patricia</td><td>82907.44066500000</td><td>Product LYLNI</td><td>18</td></tr>",
                            "<tr><td>Doyle</td><td>Patricia</td><td>82907.44066500000</td><td>Product MYMOI</td><td>16</td></tr>",
                            "<tr><td>Doyle</td><td>Patricia</td><td>82907.44066500000</td><td>Product PAFRH</td><td>60</td></tr>",
                            "<tr><td>Doyle</td><td>Patricia</td><td>82907.44066500000</td><td>Product QAQRL</td><td>20</td></tr>",
                            "<tr><td>Doyle</td><td>Patricia</td><td>82907.44066500000</td><td>Product QDOMO</td><td>40</td></tr>",
                            "<tr><td>Doyle</td><td>Patricia</td><td>82907.44066500000</td><td>Product QHFFP</td><td>50</td></tr>",
                            "<tr><td>Doyle</td><td>Patricia</td><td>82907.44066500000</td><td>Product QMVUN</td><td>40</td></tr>",
                            "<tr><td>Doyle</td><td>Patricia</td><td>82907.44066500000</td><td>Product QOGNU</td><td>15</td></tr>",
                            "<tr><td>Doyle</td><td>Patricia</td><td>82907.44066500000</td><td>Product QSRXF</td><td>40</td></tr>",
                            "<tr><td>Doyle</td><td>Patricia</td><td>82907.44066500000</td><td>Product TOONT</td><td>7</td></tr>",
                            "<tr><td>Doyle</td><td>Patricia</td><td>82907.44066500000</td><td>Product UKXRI</td><td>110</td></tr>",
                            "<tr><td>Doyle</td><td>Patricia</td><td>82907.44066500000</td><td>Product VAIIV</td><td>50</td></tr>",
                            "<tr><td>Doyle</td><td>Patricia</td><td>82907.44066500000</td><td>Product VJIEO</td><td>40</td></tr>",
                            "<tr><td>Doyle</td><td>Patricia</td><td>82907.44066500000</td><td>Product VJZZH</td><td>40</td></tr>",
                            "<tr><td>Doyle</td><td>Patricia</td><td>82907.44066500000</td><td>Product WHBYK</td><td>21</td></tr>",
                            "<tr><td>Doyle</td><td>Patricia</td><td>82907.44066500000</td><td>Product XKXDO</td><td>35</td></tr>",
                            "<tr><td>Doyle</td><td>Patricia</td><td>82907.44066500000</td><td>Product XWOXC</td><td>50</td></tr>",
                            "<tr><td>Doyle</td><td>Patricia</td><td>82907.44066500000</td><td>Product XYWBZ</td><td>40</td></tr>",
                            "<tr><td>Suurs</td><td>Paul</td><td>78155.25029500000</td><td>Product APITJ</td><td>40</td></tr>",
                            "<tr><td>Suurs</td><td>Paul</td><td>78155.25029500000</td><td>Product ASTMN</td><td>24</td></tr>",
                            "<tr><td>Suurs</td><td>Paul</td><td>78155.25029500000</td><td>Product BKAZJ</td><td>30</td></tr>",
                            "<tr><td>Suurs</td><td>Paul</td><td>78155.25029500000</td><td>Product BKGEA</td><td>70</td></tr>",
                            "<tr><td>Suurs</td><td>Paul</td><td>78155.25029500000</td><td>Product BWRLG</td><td>36</td></tr>",
                            "<tr><td>Suurs</td><td>Paul</td><td>78155.25029500000</td><td>Product CBRRL</td><td>3</td></tr>",
                            "<tr><td>Suurs</td><td>Paul</td><td>78155.25029500000</td><td>Product COAXA</td><td>18</td></tr>",
                            "<tr><td>Suurs</td><td>Paul</td><td>78155.25029500000</td><td>Product EZZPR</td><td>30</td></tr>",
                            "<tr><td>Suurs</td><td>Paul</td><td>78155.25029500000</td><td>Product GEEOO</td><td>9</td></tr>",
                            "<tr><td>Suurs</td><td>Paul</td><td>78155.25029500000</td><td>Product GMKIJ</td><td>40</td></tr>",
                            "<tr><td>Suurs</td><td>Paul</td><td>78155.25029500000</td><td>Product HCQDE</td><td>30</td></tr>",
                            "<tr><td>Suurs</td><td>Paul</td><td>78155.25029500000</td><td>Product HHYDP</td><td>20</td></tr>",
                            "<tr><td>Suurs</td><td>Paul</td><td>78155.25029500000</td><td>Product HMLNI</td><td>20</td></tr>",
                            "<tr><td>Suurs</td><td>Paul</td><td>78155.25029500000</td><td>Product JYGFE</td><td>20</td></tr>",
                            "<tr><td>Suurs</td><td>Paul</td><td>78155.25029500000</td><td>Product KSZOI</td><td>12</td></tr>",
                            "<tr><td>Suurs</td><td>Paul</td><td>78155.25029500000</td><td>Product LSOFL</td><td>130</td></tr>",
                            "<tr><td>Suurs</td><td>Paul</td><td>78155.25029500000</td><td>Product LUNZZ</td><td>21</td></tr>",
                            "<tr><td>Suurs</td><td>Paul</td><td>78155.25029500000</td><td>Product MYMOI</td><td>25</td></tr>",
                            "<tr><td>Suurs</td><td>Paul</td><td>78155.25029500000</td><td>Product OVLQI</td><td>25</td></tr>",
                            "<tr><td>Suurs</td><td>Paul</td><td>78155.25029500000</td><td>Product PAFRH</td><td>30</td></tr>",
                            "<tr><td>Suurs</td><td>Paul</td><td>78155.25029500000</td><td>Product POXFU</td><td>80</td></tr>",
                            "<tr><td>Suurs</td><td>Paul</td><td>78155.25029500000</td><td>Product PWCJB</td><td>70</td></tr>",
                            "<tr><td>Suurs</td><td>Paul</td><td>78155.25029500000</td><td>Product QOGNU</td><td>35</td></tr>",
                            "<tr><td>Suurs</td><td>Paul</td><td>78155.25029500000</td><td>Product RECZE</td><td>40</td></tr>",
                            "<tr><td>Suurs</td><td>Paul</td><td>78155.25029500000</td><td>Product SWNJY</td><td>30</td></tr>",
                            "<tr><td>Suurs</td><td>Paul</td><td>78155.25029500000</td><td>Product TOONT</td><td>30</td></tr>",
                            "<tr><td>Suurs</td><td>Paul</td><td>78155.25029500000</td><td>Product TTEEX</td><td>35</td></tr>",
                            "<tr><td>Suurs</td><td>Paul</td><td>78155.25029500000</td><td>Product UKXRI</td><td>42</td></tr>",
                            "<tr><td>Suurs</td><td>Paul</td><td>78155.25029500000</td><td>Product VJIEO</td><td>28</td></tr>",
                            "<tr><td>Suurs</td><td>Paul</td><td>78155.25029500000</td><td>Product VJXYN</td><td>36</td></tr>",
                            "<tr><td>Suurs</td><td>Paul</td><td>78155.25029500000</td><td>Product VJZZH</td><td>60</td></tr>",
                            "<tr><td>Suurs</td><td>Paul</td><td>78155.25029500000</td><td>Product VKCMF</td><td>60</td></tr>",
                            "<tr><td>Suurs</td><td>Paul</td><td>78155.25029500000</td><td>Product WEUJZ</td><td>35</td></tr>",
                            "<tr><td>Suurs</td><td>Paul</td><td>78155.25029500000</td><td>Product WHBYK</td><td>15</td></tr>",
                            "<tr><td>Suurs</td><td>Paul</td><td>78155.25029500000</td><td>Product WUXYK</td><td>30</td></tr>",
                            "<tr><td>Suurs</td><td>Paul</td><td>78155.25029500000</td><td>Product XWOXC</td><td>60</td></tr>",
                            "<tr><td>Suurs</td><td>Paul</td><td>78155.25029500000</td><td>Product XYZPE</td><td>30</td></tr>",
                            "<tr><td>Suurs</td><td>Paul</td><td>78155.25029500000</td><td>Product YHXGE</td><td>36</td></tr>",
                            "<tr><td>Suurs</td><td>Paul</td><td>78155.25029500000</td><td>Product YYWRT</td><td>18</td></tr>",
                            "<tr><td>Suurs</td><td>Paul</td><td>78155.25029500000</td><td>Product YZIXQ</td><td>50</td></tr>",
                            "<tr><td>Mortensen</td><td>Sven</td><td>75499.99532500000</td><td>Product ACRVI</td><td>30</td></tr>",
                            "<tr><td>Mortensen</td><td>Sven</td><td>75499.99532500000</td><td>Product APITJ</td><td>18</td></tr>",
                            "<tr><td>Mortensen</td><td>Sven</td><td>75499.99532500000</td><td>Product AQOKR</td><td>100</td></tr>",
                            "<tr><td>Mortensen</td><td>Sven</td><td>75499.99532500000</td><td>Product ASTMN</td><td>60</td></tr>",
                            "<tr><td>Mortensen</td><td>Sven</td><td>75499.99532500000</td><td>Product BKAZJ</td><td>21</td></tr>",
                            "<tr><td>Mortensen</td><td>Sven</td><td>75499.99532500000</td><td>Product BKGEA</td><td>120</td></tr>",
                            "<tr><td>Mortensen</td><td>Sven</td><td>75499.99532500000</td><td>Product BLCAX</td><td>100</td></tr>",
                            "<tr><td>Mortensen</td><td>Sven</td><td>75499.99532500000</td><td>Product CPHFY</td><td>15</td></tr>",
                            "<tr><td>Mortensen</td><td>Sven</td><td>75499.99532500000</td><td>Product EZZPR</td><td>50</td></tr>",
                            "<tr><td>Mortensen</td><td>Sven</td><td>75499.99532500000</td><td>Product GEEOO</td><td>40</td></tr>",
                            "<tr><td>Mortensen</td><td>Sven</td><td>75499.99532500000</td><td>Product GMKIJ</td><td>20</td></tr>",
                            "<tr><td>Mortensen</td><td>Sven</td><td>75499.99532500000</td><td>Product JLUDZ</td><td>50</td></tr>",
                            "<tr><td>Mortensen</td><td>Sven</td><td>75499.99532500000</td><td>Product LSOFL</td><td>60</td></tr>",
                            "<tr><td>Mortensen</td><td>Sven</td><td>75499.99532500000</td><td>Product LYERX</td><td>40</td></tr>",
                            "<tr><td>Mortensen</td><td>Sven</td><td>75499.99532500000</td><td>Product LYLNI</td><td>35</td></tr>",
                            "<tr><td>Mortensen</td><td>Sven</td><td>75499.99532500000</td><td>Product MYMOI</td><td>40</td></tr>",
                            "<tr><td>Mortensen</td><td>Sven</td><td>75499.99532500000</td><td>Product NEVTJ</td><td>3</td></tr>",
                            "<tr><td>Mortensen</td><td>Sven</td><td>75499.99532500000</td><td>Product OFBNT</td><td>20</td></tr>",
                            "<tr><td>Mortensen</td><td>Sven</td><td>75499.99532500000</td><td>Product PAFRH</td><td>15</td></tr>",
                            "<tr><td>Mortensen</td><td>Sven</td><td>75499.99532500000</td><td>Product PWCJB</td><td>30</td></tr>",
                            "<tr><td>Mortensen</td><td>Sven</td><td>75499.99532500000</td><td>Product QAQRL</td><td>30</td></tr>",
                            "<tr><td>Mortensen</td><td>Sven</td><td>75499.99532500000</td><td>Product QMVUN</td><td>12</td></tr>",
                            "<tr><td>Mortensen</td><td>Sven</td><td>75499.99532500000</td><td>Product QOGNU</td><td>35</td></tr>",
                            "<tr><td>Mortensen</td><td>Sven</td><td>75499.99532500000</td><td>Product RJVNM</td><td>50</td></tr>",
                            "<tr><td>Mortensen</td><td>Sven</td><td>75499.99532500000</td><td>Product TBTBL</td><td>20</td></tr>",
                            "<tr><td>Mortensen</td><td>Sven</td><td>75499.99532500000</td><td>Product UKXRI</td><td>50</td></tr>",
                            "<tr><td>Mortensen</td><td>Sven</td><td>75499.99532500000</td><td>Product VJIEO</td><td>50</td></tr>",
                            "<tr><td>Mortensen</td><td>Sven</td><td>75499.99532500000</td><td>Product VJZZH</td><td>21</td></tr>",
                            "<tr><td>Mortensen</td><td>Sven</td><td>75499.99532500000</td><td>Product WHBYK</td><td>80</td></tr>",
                            "<tr><td>Mortensen</td><td>Sven</td><td>75499.99532500000</td><td>Product XWOXC</td><td>35</td></tr>",
                            "<tr><td>Mortensen</td><td>Sven</td><td>75499.99532500000</td><td>Product XYWBZ</td><td>21</td></tr>",
                            "<tr><td>Mortensen</td><td>Sven</td><td>75499.99532500000</td><td>Product YHXGE</td><td>10</td></tr>",
                            "<tr><td>Mortensen</td><td>Sven</td><td>75499.99532500000</td><td>Product YYWRT</td><td>21</td></tr>",
                            "<tr><td>Mortensen</td><td>Sven</td><td>75499.99532500000</td><td>Product YZIXQ</td><td>21</td></tr>",
                            "</table>"
                        ]
                    }
                }
            ],
            "execution_count": 47
        },
        {
            "cell_type": "markdown",
            "source": [
                "**Medium Prompt 8:**\n",
                "\n",
                "PrestigeCars wants us to calculate the total sales (considering discounts) by country for each car make, based on the sales from the Data.Sales, Data.Customer, and Data.Stock (which has the ModelID we can link to Data.Make).\n",
                "\n",
                "**Database :** <span style=\"color: rgb(33, 33, 33); font-family: Consolas, &quot;Courier New&quot;, monospace; font-size: 12px; white-space: pre;\">PrestigeCars</span>\n",
                "\n",
                "**Tables Used :** <span style=\"color: rgb(33, 33, 33); font-family: Consolas, &quot;Courier New&quot;, monospace; font-size: 12px; white-space: pre;\">Data.Sales, </span> <span style=\"color: rgb(33, 33, 33); font-family: Consolas, &quot;Courier New&quot;, monospace; font-size: 12px; white-space: pre;\">Data.Customer, </span> <span style=\"color: rgb(33, 33, 33); font-family: Consolas, &quot;Courier New&quot;, monospace; font-size: 12px; white-space: pre;\">SalesWithDiscount, </span> <span style=\"color: rgb(33, 33, 33); font-family: Consolas, &quot;Courier New&quot;, monospace; font-size: 12px; white-space: pre;\">Data.Stock, </span> <span style=\"color: rgb(33, 33, 33); font-family: Consolas, &quot;Courier New&quot;, monospace; font-size: 12px; white-space: pre;\">Data.Make</span>  \n",
                "\n",
                "**CTE :** <span style=\"color: rgb(33, 33, 33); font-family: Consolas, &quot;Courier New&quot;, monospace; font-size: 12px; white-space: pre;\">SalesWithDiscount</span>"
            ],
            "metadata": {
                "azdata_cell_guid": "039c2612-a4e0-4197-b00c-a7d88cb66a86"
            },
            "attachments": {}
        },
        {
            "cell_type": "code",
            "source": [
                "USE PrestigeCars;\r\n",
                "WITH SalesWithDiscount AS (\r\n",
                "    -- Calculate the discounted sale price for each sale detail\r\n",
                "    SELECT \r\n",
                "        SD.SalesID,\r\n",
                "        SD.StockID,\r\n",
                "        SD.SalePrice - SD.LIneItemDiscount AS DiscountedSalePrice\r\n",
                "    FROM \r\n",
                "        Data.SalesDetails SD\r\n",
                ")\r\n",
                "\r\n",
                "-- Calculate total sales by country for each car Make\r\n",
                "SELECT \r\n",
                "    C.Country,\r\n",
                "    MK.MakeName,\r\n",
                "    SUM(SWD.DiscountedSalePrice) AS TotalSalesByMake\r\n",
                "FROM \r\n",
                "    Data.Sales S\r\n",
                "JOIN Data.Customer C ON S.CustomerID = C.CustomerID\r\n",
                "JOIN SalesWithDiscount SWD ON S.SalesID = SWD.SalesID\r\n",
                "JOIN Data.Stock STK ON SWD.StockID = STK.StockCode\r\n",
                "JOIN Data.Make MK ON STK.ModelID = MK.MakeID\r\n",
                "GROUP BY \r\n",
                "    C.Country,\r\n",
                "    MK.MakeName\r\n",
                "ORDER BY \r\n",
                "    TotalSalesByMake DESC;\r\n",
                "\r\n",
                "-- First we make a CTE to identify all identify all our sales that had discounts\r\n",
                "-- we do this by selecting columns from data.SalesDetails\r\n",
                "-- we then subtract SalePrice - LineItemDiscount \r\n",
                "-- The main query then:\r\n",
                "--  1. Joins the Sales table to the Customer table to determine the country of each sale.\r\n",
                "--  2. Utilizes the previously defined CTE to get the discounted sale price.\r\n",
                "--  3. Joins to the Stock table to get the ModelID for each sale.\r\n",
                "--  4. Joins to the Make table to determine the car make for each sale."
            ],
            "metadata": {
                "azdata_cell_guid": "90abe7cb-1195-46b0-8791-6dbe985423c1",
                "language": ""
            },
            "outputs": [
                {
                    "output_type": "display_data",
                    "data": {
                        "text/html": "Warning: Null value is eliminated by an aggregate or other SET operation."
                    },
                    "metadata": {}
                },
                {
                    "output_type": "display_data",
                    "data": {
                        "text/html": "(72 rows affected)"
                    },
                    "metadata": {}
                },
                {
                    "output_type": "display_data",
                    "data": {
                        "text/html": "Total execution time: 00:00:00.048"
                    },
                    "metadata": {}
                },
                {
                    "output_type": "execute_result",
                    "metadata": {},
                    "execution_count": 48,
                    "data": {
                        "application/vnd.dataresource+json": {
                            "schema": {
                                "fields": [
                                    {
                                        "name": "Country"
                                    },
                                    {
                                        "name": "MakeName"
                                    },
                                    {
                                        "name": "TotalSalesByMake"
                                    }
                                ]
                            },
                            "data": [
                                {
                                    "Country": "GB        ",
                                    "MakeName": "Lamborghini",
                                    "TotalSalesByMake": "273450.00"
                                },
                                {
                                    "Country": "FR        ",
                                    "MakeName": "Mercedes",
                                    "TotalSalesByMake": "255450.00"
                                },
                                {
                                    "Country": "US        ",
                                    "MakeName": "Maybach",
                                    "TotalSalesByMake": "247550.00"
                                },
                                {
                                    "Country": "FR        ",
                                    "MakeName": "McLaren",
                                    "TotalSalesByMake": "234250.00"
                                },
                                {
                                    "Country": "GB        ",
                                    "MakeName": "Porsche",
                                    "TotalSalesByMake": "222300.00"
                                },
                                {
                                    "Country": "GB        ",
                                    "MakeName": "Cadillac",
                                    "TotalSalesByMake": "201400.00"
                                },
                                {
                                    "Country": "US        ",
                                    "MakeName": "Riley",
                                    "TotalSalesByMake": "174850.00"
                                },
                                {
                                    "Country": "US        ",
                                    "MakeName": "Cadillac",
                                    "TotalSalesByMake": "164890.00"
                                },
                                {
                                    "Country": "FR        ",
                                    "MakeName": "Lamborghini",
                                    "TotalSalesByMake": "154500.00"
                                },
                                {
                                    "Country": "GB        ",
                                    "MakeName": "Ferrari",
                                    "TotalSalesByMake": "140000.00"
                                },
                                {
                                    "Country": "GB        ",
                                    "MakeName": "Reliant",
                                    "TotalSalesByMake": "123050.00"
                                },
                                {
                                    "Country": "ES        ",
                                    "MakeName": "Bentley",
                                    "TotalSalesByMake": "122750.00"
                                },
                                {
                                    "Country": "IT        ",
                                    "MakeName": "Cadillac",
                                    "TotalSalesByMake": "120000.00"
                                },
                                {
                                    "Country": "GB        ",
                                    "MakeName": "Lagonda",
                                    "TotalSalesByMake": "118500.00"
                                },
                                {
                                    "Country": "ES        ",
                                    "MakeName": "Alfa Romeo",
                                    "TotalSalesByMake": "116000.00"
                                },
                                {
                                    "Country": "GB        ",
                                    "MakeName": "Peugeot",
                                    "TotalSalesByMake": "101490.00"
                                },
                                {
                                    "Country": "GB        ",
                                    "MakeName": "Rolls Royce",
                                    "TotalSalesByMake": "100500.00"
                                },
                                {
                                    "Country": "DE        ",
                                    "MakeName": "Alfa Romeo",
                                    "TotalSalesByMake": "99000.00"
                                },
                                {
                                    "Country": "CH        ",
                                    "MakeName": "Riley",
                                    "TotalSalesByMake": "77050.00"
                                },
                                {
                                    "Country": "FR        ",
                                    "MakeName": "BMW",
                                    "TotalSalesByMake": "65750.00"
                                },
                                {
                                    "Country": "GB        ",
                                    "MakeName": "BMW",
                                    "TotalSalesByMake": "64750.00"
                                },
                                {
                                    "Country": "GB        ",
                                    "MakeName": "Triumph",
                                    "TotalSalesByMake": "61250.00"
                                },
                                {
                                    "Country": "ES        ",
                                    "MakeName": "Triumph",
                                    "TotalSalesByMake": "50925.00"
                                },
                                {
                                    "Country": "GB        ",
                                    "MakeName": "Citroen",
                                    "TotalSalesByMake": "44940.00"
                                },
                                {
                                    "Country": "DE        ",
                                    "MakeName": "Triumph",
                                    "TotalSalesByMake": "42550.00"
                                },
                                {
                                    "Country": "FR        ",
                                    "MakeName": "Bugatti",
                                    "TotalSalesByMake": "37050.00"
                                },
                                {
                                    "Country": "US        ",
                                    "MakeName": "Peugeot",
                                    "TotalSalesByMake": "34000.00"
                                },
                                {
                                    "Country": "GB        ",
                                    "MakeName": "Trabant",
                                    "TotalSalesByMake": "28250.00"
                                },
                                {
                                    "Country": "CH        ",
                                    "MakeName": "Delorean",
                                    "TotalSalesByMake": "17100.00"
                                },
                                {
                                    "Country": "US        ",
                                    "MakeName": "Citroen",
                                    "TotalSalesByMake": "12150.00"
                                },
                                {
                                    "Country": "IT        ",
                                    "MakeName": "Trabant",
                                    "TotalSalesByMake": "11750.00"
                                },
                                {
                                    "Country": "ES        ",
                                    "MakeName": "Bugatti",
                                    "TotalSalesByMake": "11090.00"
                                },
                                {
                                    "Country": "FR        ",
                                    "MakeName": "Citroen",
                                    "TotalSalesByMake": "8925.00"
                                },
                                {
                                    "Country": "GB        ",
                                    "MakeName": "Bugatti",
                                    "TotalSalesByMake": "8000.00"
                                },
                                {
                                    "Country": "CH        ",
                                    "MakeName": "Cadillac",
                                    "TotalSalesByMake": "NULL"
                                },
                                {
                                    "Country": "IT        ",
                                    "MakeName": "Bentley",
                                    "TotalSalesByMake": "NULL"
                                },
                                {
                                    "Country": "ES        ",
                                    "MakeName": "BMW",
                                    "TotalSalesByMake": "NULL"
                                },
                                {
                                    "Country": "US        ",
                                    "MakeName": "BMW",
                                    "TotalSalesByMake": "NULL"
                                },
                                {
                                    "Country": "DE        ",
                                    "MakeName": "Bugatti",
                                    "TotalSalesByMake": "NULL"
                                },
                                {
                                    "Country": "IT        ",
                                    "MakeName": "Alfa Romeo",
                                    "TotalSalesByMake": "NULL"
                                },
                                {
                                    "Country": "FR        ",
                                    "MakeName": "Austin",
                                    "TotalSalesByMake": "NULL"
                                },
                                {
                                    "Country": "GB        ",
                                    "MakeName": "Austin",
                                    "TotalSalesByMake": "NULL"
                                },
                                {
                                    "Country": "US        ",
                                    "MakeName": "Lamborghini",
                                    "TotalSalesByMake": "NULL"
                                },
                                {
                                    "Country": "FR        ",
                                    "MakeName": "Maybach",
                                    "TotalSalesByMake": "NULL"
                                },
                                {
                                    "Country": "FR        ",
                                    "MakeName": "Jaguar",
                                    "TotalSalesByMake": "NULL"
                                },
                                {
                                    "Country": "DE        ",
                                    "MakeName": "Citroen",
                                    "TotalSalesByMake": "NULL"
                                },
                                {
                                    "Country": "ES        ",
                                    "MakeName": "Delahaye",
                                    "TotalSalesByMake": "NULL"
                                },
                                {
                                    "Country": "FR        ",
                                    "MakeName": "Delahaye",
                                    "TotalSalesByMake": "NULL"
                                },
                                {
                                    "Country": "GB        ",
                                    "MakeName": "Delahaye",
                                    "TotalSalesByMake": "NULL"
                                },
                                {
                                    "Country": "ES        ",
                                    "MakeName": "Delorean",
                                    "TotalSalesByMake": "NULL"
                                },
                                {
                                    "Country": "GB        ",
                                    "MakeName": "Delorean",
                                    "TotalSalesByMake": "NULL"
                                },
                                {
                                    "Country": "ES        ",
                                    "MakeName": "Ferrari",
                                    "TotalSalesByMake": "NULL"
                                },
                                {
                                    "Country": "FR        ",
                                    "MakeName": "Trabant",
                                    "TotalSalesByMake": "NULL"
                                },
                                {
                                    "Country": "DE        ",
                                    "MakeName": "Riley",
                                    "TotalSalesByMake": "NULL"
                                },
                                {
                                    "Country": "FR        ",
                                    "MakeName": "Riley",
                                    "TotalSalesByMake": "NULL"
                                },
                                {
                                    "Country": "GB        ",
                                    "MakeName": "Riley",
                                    "TotalSalesByMake": "NULL"
                                },
                                {
                                    "Country": "IT        ",
                                    "MakeName": "Triumph",
                                    "TotalSalesByMake": "NULL"
                                },
                                {
                                    "Country": "US        ",
                                    "MakeName": "Triumph",
                                    "TotalSalesByMake": "NULL"
                                },
                                {
                                    "Country": "ES        ",
                                    "MakeName": "Porsche",
                                    "TotalSalesByMake": "NULL"
                                },
                                {
                                    "Country": "IT        ",
                                    "MakeName": "Peugeot",
                                    "TotalSalesByMake": "NULL"
                                },
                                {
                                    "Country": "IT        ",
                                    "MakeName": "Reliant",
                                    "TotalSalesByMake": "NULL"
                                },
                                {
                                    "Country": "US        ",
                                    "MakeName": "Reliant",
                                    "TotalSalesByMake": "NULL"
                                },
                                {
                                    "Country": "ES        ",
                                    "MakeName": "Reliant",
                                    "TotalSalesByMake": "NULL"
                                },
                                {
                                    "Country": "FR        ",
                                    "MakeName": "Reliant",
                                    "TotalSalesByMake": "NULL"
                                },
                                {
                                    "Country": "GB        ",
                                    "MakeName": "McLaren",
                                    "TotalSalesByMake": "NULL"
                                },
                                {
                                    "Country": "CH        ",
                                    "MakeName": "McLaren",
                                    "TotalSalesByMake": "NULL"
                                },
                                {
                                    "Country": "DE        ",
                                    "MakeName": "McLaren",
                                    "TotalSalesByMake": "NULL"
                                },
                                {
                                    "Country": "US        ",
                                    "MakeName": "Mercedes",
                                    "TotalSalesByMake": "NULL"
                                },
                                {
                                    "Country": "DE        ",
                                    "MakeName": "Morgan",
                                    "TotalSalesByMake": "NULL"
                                },
                                {
                                    "Country": "IT        ",
                                    "MakeName": "Morgan",
                                    "TotalSalesByMake": "NULL"
                                },
                                {
                                    "Country": "ES        ",
                                    "MakeName": "Noble",
                                    "TotalSalesByMake": "NULL"
                                },
                                {
                                    "Country": "FR        ",
                                    "MakeName": "Peugeot",
                                    "TotalSalesByMake": "NULL"
                                }
                            ]
                        },
                        "text/html": [
                            "<table>",
                            "<tr><th>Country</th><th>MakeName</th><th>TotalSalesByMake</th></tr>",
                            "<tr><td>GB        </td><td>Lamborghini</td><td>273450.00</td></tr>",
                            "<tr><td>FR        </td><td>Mercedes</td><td>255450.00</td></tr>",
                            "<tr><td>US        </td><td>Maybach</td><td>247550.00</td></tr>",
                            "<tr><td>FR        </td><td>McLaren</td><td>234250.00</td></tr>",
                            "<tr><td>GB        </td><td>Porsche</td><td>222300.00</td></tr>",
                            "<tr><td>GB        </td><td>Cadillac</td><td>201400.00</td></tr>",
                            "<tr><td>US        </td><td>Riley</td><td>174850.00</td></tr>",
                            "<tr><td>US        </td><td>Cadillac</td><td>164890.00</td></tr>",
                            "<tr><td>FR        </td><td>Lamborghini</td><td>154500.00</td></tr>",
                            "<tr><td>GB        </td><td>Ferrari</td><td>140000.00</td></tr>",
                            "<tr><td>GB        </td><td>Reliant</td><td>123050.00</td></tr>",
                            "<tr><td>ES        </td><td>Bentley</td><td>122750.00</td></tr>",
                            "<tr><td>IT        </td><td>Cadillac</td><td>120000.00</td></tr>",
                            "<tr><td>GB        </td><td>Lagonda</td><td>118500.00</td></tr>",
                            "<tr><td>ES        </td><td>Alfa Romeo</td><td>116000.00</td></tr>",
                            "<tr><td>GB        </td><td>Peugeot</td><td>101490.00</td></tr>",
                            "<tr><td>GB        </td><td>Rolls Royce</td><td>100500.00</td></tr>",
                            "<tr><td>DE        </td><td>Alfa Romeo</td><td>99000.00</td></tr>",
                            "<tr><td>CH        </td><td>Riley</td><td>77050.00</td></tr>",
                            "<tr><td>FR        </td><td>BMW</td><td>65750.00</td></tr>",
                            "<tr><td>GB        </td><td>BMW</td><td>64750.00</td></tr>",
                            "<tr><td>GB        </td><td>Triumph</td><td>61250.00</td></tr>",
                            "<tr><td>ES        </td><td>Triumph</td><td>50925.00</td></tr>",
                            "<tr><td>GB        </td><td>Citroen</td><td>44940.00</td></tr>",
                            "<tr><td>DE        </td><td>Triumph</td><td>42550.00</td></tr>",
                            "<tr><td>FR        </td><td>Bugatti</td><td>37050.00</td></tr>",
                            "<tr><td>US        </td><td>Peugeot</td><td>34000.00</td></tr>",
                            "<tr><td>GB        </td><td>Trabant</td><td>28250.00</td></tr>",
                            "<tr><td>CH        </td><td>Delorean</td><td>17100.00</td></tr>",
                            "<tr><td>US        </td><td>Citroen</td><td>12150.00</td></tr>",
                            "<tr><td>IT        </td><td>Trabant</td><td>11750.00</td></tr>",
                            "<tr><td>ES        </td><td>Bugatti</td><td>11090.00</td></tr>",
                            "<tr><td>FR        </td><td>Citroen</td><td>8925.00</td></tr>",
                            "<tr><td>GB        </td><td>Bugatti</td><td>8000.00</td></tr>",
                            "<tr><td>CH        </td><td>Cadillac</td><td>NULL</td></tr>",
                            "<tr><td>IT        </td><td>Bentley</td><td>NULL</td></tr>",
                            "<tr><td>ES        </td><td>BMW</td><td>NULL</td></tr>",
                            "<tr><td>US        </td><td>BMW</td><td>NULL</td></tr>",
                            "<tr><td>DE        </td><td>Bugatti</td><td>NULL</td></tr>",
                            "<tr><td>IT        </td><td>Alfa Romeo</td><td>NULL</td></tr>",
                            "<tr><td>FR        </td><td>Austin</td><td>NULL</td></tr>",
                            "<tr><td>GB        </td><td>Austin</td><td>NULL</td></tr>",
                            "<tr><td>US        </td><td>Lamborghini</td><td>NULL</td></tr>",
                            "<tr><td>FR        </td><td>Maybach</td><td>NULL</td></tr>",
                            "<tr><td>FR        </td><td>Jaguar</td><td>NULL</td></tr>",
                            "<tr><td>DE        </td><td>Citroen</td><td>NULL</td></tr>",
                            "<tr><td>ES        </td><td>Delahaye</td><td>NULL</td></tr>",
                            "<tr><td>FR        </td><td>Delahaye</td><td>NULL</td></tr>",
                            "<tr><td>GB        </td><td>Delahaye</td><td>NULL</td></tr>",
                            "<tr><td>ES        </td><td>Delorean</td><td>NULL</td></tr>",
                            "<tr><td>GB        </td><td>Delorean</td><td>NULL</td></tr>",
                            "<tr><td>ES        </td><td>Ferrari</td><td>NULL</td></tr>",
                            "<tr><td>FR        </td><td>Trabant</td><td>NULL</td></tr>",
                            "<tr><td>DE        </td><td>Riley</td><td>NULL</td></tr>",
                            "<tr><td>FR        </td><td>Riley</td><td>NULL</td></tr>",
                            "<tr><td>GB        </td><td>Riley</td><td>NULL</td></tr>",
                            "<tr><td>IT        </td><td>Triumph</td><td>NULL</td></tr>",
                            "<tr><td>US        </td><td>Triumph</td><td>NULL</td></tr>",
                            "<tr><td>ES        </td><td>Porsche</td><td>NULL</td></tr>",
                            "<tr><td>IT        </td><td>Peugeot</td><td>NULL</td></tr>",
                            "<tr><td>IT        </td><td>Reliant</td><td>NULL</td></tr>",
                            "<tr><td>US        </td><td>Reliant</td><td>NULL</td></tr>",
                            "<tr><td>ES        </td><td>Reliant</td><td>NULL</td></tr>",
                            "<tr><td>FR        </td><td>Reliant</td><td>NULL</td></tr>",
                            "<tr><td>GB        </td><td>McLaren</td><td>NULL</td></tr>",
                            "<tr><td>CH        </td><td>McLaren</td><td>NULL</td></tr>",
                            "<tr><td>DE        </td><td>McLaren</td><td>NULL</td></tr>",
                            "<tr><td>US        </td><td>Mercedes</td><td>NULL</td></tr>",
                            "<tr><td>DE        </td><td>Morgan</td><td>NULL</td></tr>",
                            "<tr><td>IT        </td><td>Morgan</td><td>NULL</td></tr>",
                            "<tr><td>ES        </td><td>Noble</td><td>NULL</td></tr>",
                            "<tr><td>FR        </td><td>Peugeot</td><td>NULL</td></tr>",
                            "</table>"
                        ]
                    }
                }
            ],
            "execution_count": 48
        }
    ]
}