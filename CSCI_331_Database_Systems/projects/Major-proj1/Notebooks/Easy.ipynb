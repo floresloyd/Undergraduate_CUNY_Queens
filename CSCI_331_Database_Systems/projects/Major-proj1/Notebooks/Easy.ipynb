{
    "metadata": {
        "kernelspec": {
            "name": "SQL",
            "display_name": "SQL",
            "language": "sql"
        },
        "language_info": {
            "name": "sql",
            "version": ""
        }
    },
    "nbformat_minor": 2,
    "nbformat": 4,
    "cells": [
        {
            "cell_type": "markdown",
            "source": [
                "Simple query should have up to 2 tables joined. The tables can be physical tables or views\n",
                "\n",
                "  \n",
                "\n",
                "5 - Simple Queries"
            ],
            "metadata": {
                "azdata_cell_guid": "60f459f4-be57-48cf-ae04-8b5a315866f8"
            },
            "attachments": {}
        },
        {
            "cell_type": "markdown",
            "source": [
                "<span style=\"font-size: 16px; white-space: pre-wrap;\"><b>Easy Prompt 1: </b>Determine the names of departments along with the average tenure of employees in those departments. The tenure is determined by the difference in years between the start and end dates from the </span> <span style=\"color: rgb(17, 24, 39); font-family: &quot;Söhne Mono&quot;, Monaco, &quot;Andale Mono&quot;, &quot;Ubuntu Mono&quot;, monospace; white-space: pre-wrap; background-color: rgb(247, 247, 248);\">EmployeeDepartmentHistory </span> <span style=\"font-size: 16px; white-space: pre-wrap;\">table. If the end date is null, consider the current date for calculations.</span>\n",
                "\n",
                "<span style=\"font-size: 16px; white-space: pre-wrap;\">DataBase : AdventureWorks2017</span>\n",
                "\n",
                "<span style=\"font-size: 16px; white-space: pre-wrap;\">Tables Involved : </span> <span style=\"font-size: 16px; white-space: pre-wrap;\">HumanResources.Department &amp; HumanResources.EmployeeDepartmentHistory</span>\n",
                "\n",
                "<span style=\"font-size: 16px; white-space: pre-wrap;\"><br></span>"
            ],
            "metadata": {
                "azdata_cell_guid": "30f64171-3e2a-4399-8cbb-b7c2634cb2ac"
            },
            "attachments": {}
        },
        {
            "cell_type": "code",
            "source": [
                "USE AdventureWorks2017;\r\n",
                "SELECT \r\n",
                "    d.Name AS DepartmentName, \r\n",
                "    AVG(CASE \r\n",
                "        WHEN edh.EndDate IS NULL THEN DATEDIFF(YEAR, edh.StartDate, GETDATE())\r\n",
                "        ELSE DATEDIFF(YEAR, edh.StartDate, edh.EndDate)\r\n",
                "    END) AS AverageTenure\r\n",
                "FROM \r\n",
                "    HumanResources.Department d\r\n",
                "JOIN \r\n",
                "    HumanResources.EmployeeDepartmentHistory edh\r\n",
                "ON \r\n",
                "    d.DepartmentID = edh.DepartmentId\r\n",
                "GROUP BY \r\n",
                "    d.Name;\r\n",
                "\r\n",
                "-- We take the average \r\n",
                "--      If null : StartDate - CurrentDate in years for current employees\r\n",
                "--         Else : StartDate - End Date\r\n",
                "\r\n",
                ""
            ],
            "metadata": {
                "azdata_cell_guid": "11b8cb9b-d047-40e9-8a5a-d5bd4246359a",
                "language": "sql"
            },
            "outputs": [
                {
                    "output_type": "display_data",
                    "data": {
                        "text/html": "(16 rows affected)"
                    },
                    "metadata": {}
                },
                {
                    "output_type": "display_data",
                    "data": {
                        "text/html": "Total execution time: 00:00:00.045"
                    },
                    "metadata": {}
                },
                {
                    "output_type": "execute_result",
                    "execution_count": 1,
                    "data": {
                        "application/vnd.dataresource+json": {
                            "schema": {
                                "fields": [
                                    {
                                        "name": "DepartmentName"
                                    },
                                    {
                                        "name": "AverageTenure"
                                    }
                                ]
                            },
                            "data": [
                                {
                                    "DepartmentName": "Engineering",
                                    "AverageTenure": "12"
                                },
                                {
                                    "DepartmentName": "Tool Design",
                                    "AverageTenure": "13"
                                },
                                {
                                    "DepartmentName": "Sales",
                                    "AverageTenure": "11"
                                },
                                {
                                    "DepartmentName": "Marketing",
                                    "AverageTenure": "12"
                                },
                                {
                                    "DepartmentName": "Purchasing",
                                    "AverageTenure": "12"
                                },
                                {
                                    "DepartmentName": "Research and Development",
                                    "AverageTenure": "14"
                                },
                                {
                                    "DepartmentName": "Production",
                                    "AverageTenure": "14"
                                },
                                {
                                    "DepartmentName": "Production Control",
                                    "AverageTenure": "14"
                                },
                                {
                                    "DepartmentName": "Human Resources",
                                    "AverageTenure": "14"
                                },
                                {
                                    "DepartmentName": "Finance",
                                    "AverageTenure": "13"
                                },
                                {
                                    "DepartmentName": "Information Services",
                                    "AverageTenure": "14"
                                },
                                {
                                    "DepartmentName": "Document Control",
                                    "AverageTenure": "14"
                                },
                                {
                                    "DepartmentName": "Quality Assurance",
                                    "AverageTenure": "12"
                                },
                                {
                                    "DepartmentName": "Facilities and Maintenance",
                                    "AverageTenure": "13"
                                },
                                {
                                    "DepartmentName": "Shipping and Receiving",
                                    "AverageTenure": "14"
                                },
                                {
                                    "DepartmentName": "Executive",
                                    "AverageTenure": "12"
                                }
                            ]
                        },
                        "text/html": "<table><tr><th>DepartmentName</th><th>AverageTenure</th></tr><tr><td>Engineering</td><td>12</td></tr><tr><td>Tool Design</td><td>13</td></tr><tr><td>Sales</td><td>11</td></tr><tr><td>Marketing</td><td>12</td></tr><tr><td>Purchasing</td><td>12</td></tr><tr><td>Research and Development</td><td>14</td></tr><tr><td>Production</td><td>14</td></tr><tr><td>Production Control</td><td>14</td></tr><tr><td>Human Resources</td><td>14</td></tr><tr><td>Finance</td><td>13</td></tr><tr><td>Information Services</td><td>14</td></tr><tr><td>Document Control</td><td>14</td></tr><tr><td>Quality Assurance</td><td>12</td></tr><tr><td>Facilities and Maintenance</td><td>13</td></tr><tr><td>Shipping and Receiving</td><td>14</td></tr><tr><td>Executive</td><td>12</td></tr></table>"
                    },
                    "metadata": {}
                }
            ],
            "execution_count": 1
        },
        {
            "cell_type": "markdown",
            "source": [
                "**Easy Prompt 2:**\n",
                "\n",
                "Retrieve the list of products that have been purchased by vendors along with their average lead time, standard price, and the last receipt cost. Limit the results to products that have an average lead time greater than 10 days.\n",
                "\n",
                "Database : AdventureWorks2017\n",
                "\n",
                "Tables Involved :  \n",
                " Production.Product  & Production.ProductVendor"
            ],
            "metadata": {
                "azdata_cell_guid": "ce7c8de9-8757-43a7-a78e-afee72b112dc"
            },
            "attachments": {}
        },
        {
            "cell_type": "code",
            "source": [
                "Use AdventureWorks2017;\r\n",
                "SELECT \r\n",
                "    p.Name AS ProductName,\r\n",
                "    pv.AverageLeadTime,\r\n",
                "    pv.StandardPrice,\r\n",
                "    pv.LastReceiptCost\r\n",
                "FROM \r\n",
                "    Production.Product p\r\n",
                "JOIN \r\n",
                "    Purchasing.ProductVendor pv\r\n",
                "ON \r\n",
                "    p.ProductID = pv.ProductID\r\n",
                "WHERE \r\n",
                "    pv.AverageLeadTime > 10\r\n",
                "ORDER BY pv.AverageLeadTime;\r\n",
                "\r\n",
                "-- We are first selecting the tables we need from Production.Product\r\n",
                "-- Then We are Inner Joining, taking only those with mathcing Product ID \r\n",
                "-- In the ProductVendor table\r\n",
                "\r\n",
                "-- Final filter is AverageTime > 10 because that is the constraint of our problem \r\n",
                ""
            ],
            "metadata": {
                "azdata_cell_guid": "13e289a5-2573-4c1c-8ff1-1b785584e01d",
                "language": "sql"
            },
            "outputs": [
                {
                    "output_type": "display_data",
                    "data": {
                        "text/html": "(459 rows affected)"
                    },
                    "metadata": {}
                },
                {
                    "output_type": "display_data",
                    "data": {
                        "text/html": "Total execution time: 00:00:00.043"
                    },
                    "metadata": {}
                },
                {
                    "output_type": "execute_result",
                    "execution_count": 4,
                    "data": {
                        "application/vnd.dataresource+json": {
                            "schema": {
                                "fields": [
                                    {
                                        "name": "ProductName"
                                    },
                                    {
                                        "name": "AverageLeadTime"
                                    },
                                    {
                                        "name": "StandardPrice"
                                    },
                                    {
                                        "name": "LastReceiptCost"
                                    }
                                ]
                            },
                            "data": [
                                {
                                    "ProductName": "Mountain Bike Socks, M",
                                    "AverageLeadTime": "12",
                                    "StandardPrice": "3.10",
                                    "LastReceiptCost": "3.40"
                                },
                                {
                                    "ProductName": "Mountain Bike Socks, L",
                                    "AverageLeadTime": "12",
                                    "StandardPrice": "3.12",
                                    "LastReceiptCost": "3.40"
                                },
                                {
                                    "ProductName": "LL Shell",
                                    "AverageLeadTime": "15",
                                    "StandardPrice": "2.21",
                                    "LastReceiptCost": "2.3205"
                                },
                                {
                                    "ProductName": "HL Shell",
                                    "AverageLeadTime": "15",
                                    "StandardPrice": "3.47",
                                    "LastReceiptCost": "3.6435"
                                },
                                {
                                    "ProductName": "Tension Pulley",
                                    "AverageLeadTime": "15",
                                    "StandardPrice": "3.32",
                                    "LastReceiptCost": "3.486"
                                },
                                {
                                    "ProductName": "Rear Derailleur Cage",
                                    "AverageLeadTime": "15",
                                    "StandardPrice": "5.50",
                                    "LastReceiptCost": "5.775"
                                },
                                {
                                    "ProductName": "Rear Derailleur Cage",
                                    "AverageLeadTime": "15",
                                    "StandardPrice": "5.90",
                                    "LastReceiptCost": "6.195"
                                },
                                {
                                    "ProductName": "Reflector",
                                    "AverageLeadTime": "15",
                                    "StandardPrice": "8.76",
                                    "LastReceiptCost": "9.198"
                                },
                                {
                                    "ProductName": "LL Mountain Rim",
                                    "AverageLeadTime": "15",
                                    "StandardPrice": "22.28",
                                    "LastReceiptCost": "23.394"
                                },
                                {
                                    "ProductName": "LL Mountain Rim",
                                    "AverageLeadTime": "15",
                                    "StandardPrice": "21.11",
                                    "LastReceiptCost": "22.1655"
                                },
                                {
                                    "ProductName": "ML Mountain Rim",
                                    "AverageLeadTime": "15",
                                    "StandardPrice": "26.33",
                                    "LastReceiptCost": "27.6465"
                                },
                                {
                                    "ProductName": "ML Mountain Rim",
                                    "AverageLeadTime": "15",
                                    "StandardPrice": "27.89",
                                    "LastReceiptCost": "29.2845"
                                },
                                {
                                    "ProductName": "ML Road Rim",
                                    "AverageLeadTime": "15",
                                    "StandardPrice": "27.88",
                                    "LastReceiptCost": "29.274"
                                },
                                {
                                    "ProductName": "HL Road Rim",
                                    "AverageLeadTime": "15",
                                    "StandardPrice": "33.31",
                                    "LastReceiptCost": "34.9755"
                                },
                                {
                                    "ProductName": "LL Road Rim",
                                    "AverageLeadTime": "15",
                                    "StandardPrice": "21.98",
                                    "LastReceiptCost": "23.079"
                                },
                                {
                                    "ProductName": "Metal Angle",
                                    "AverageLeadTime": "15",
                                    "StandardPrice": "15.13",
                                    "LastReceiptCost": "15.8865"
                                },
                                {
                                    "ProductName": "Metal Bar 1",
                                    "AverageLeadTime": "15",
                                    "StandardPrice": "11.11",
                                    "LastReceiptCost": "11.6655"
                                },
                                {
                                    "ProductName": "Metal Bar 2",
                                    "AverageLeadTime": "15",
                                    "StandardPrice": "10.56",
                                    "LastReceiptCost": "11.088"
                                },
                                {
                                    "ProductName": "Metal Plate 2",
                                    "AverageLeadTime": "15",
                                    "StandardPrice": "15.13",
                                    "LastReceiptCost": "15.8865"
                                },
                                {
                                    "ProductName": "Metal Plate 1",
                                    "AverageLeadTime": "15",
                                    "StandardPrice": "11.11",
                                    "LastReceiptCost": "11.6655"
                                },
                                {
                                    "ProductName": "Metal Plate 3",
                                    "AverageLeadTime": "15",
                                    "StandardPrice": "10.56",
                                    "LastReceiptCost": "11.088"
                                },
                                {
                                    "ProductName": "Metal Sheet 2",
                                    "AverageLeadTime": "15",
                                    "StandardPrice": "8.34",
                                    "LastReceiptCost": "8.757"
                                },
                                {
                                    "ProductName": "Metal Sheet 3",
                                    "AverageLeadTime": "15",
                                    "StandardPrice": "9.23",
                                    "LastReceiptCost": "9.6915"
                                },
                                {
                                    "ProductName": "Metal Sheet 7",
                                    "AverageLeadTime": "15",
                                    "StandardPrice": "6.55",
                                    "LastReceiptCost": "6.8775"
                                },
                                {
                                    "ProductName": "Metal Sheet 4",
                                    "AverageLeadTime": "15",
                                    "StandardPrice": "7.43",
                                    "LastReceiptCost": "7.8015"
                                },
                                {
                                    "ProductName": "Metal Sheet 5",
                                    "AverageLeadTime": "15",
                                    "StandardPrice": "8.34",
                                    "LastReceiptCost": "8.757"
                                },
                                {
                                    "ProductName": "Metal Sheet 6",
                                    "AverageLeadTime": "15",
                                    "StandardPrice": "5.53",
                                    "LastReceiptCost": "5.8065"
                                },
                                {
                                    "ProductName": "Metal Sheet 1",
                                    "AverageLeadTime": "15",
                                    "StandardPrice": "8.44",
                                    "LastReceiptCost": "8.862"
                                },
                                {
                                    "ProductName": "Metal Tread Plate",
                                    "AverageLeadTime": "15",
                                    "StandardPrice": "9.97",
                                    "LastReceiptCost": "10.4685"
                                },
                                {
                                    "ProductName": "HL Nipple",
                                    "AverageLeadTime": "15",
                                    "StandardPrice": "19.03",
                                    "LastReceiptCost": "19.9815"
                                },
                                {
                                    "ProductName": "Half-Finger Gloves, S",
                                    "AverageLeadTime": "15",
                                    "StandardPrice": "8.75",
                                    "LastReceiptCost": "9.15"
                                },
                                {
                                    "ProductName": "Half-Finger Gloves, M",
                                    "AverageLeadTime": "15",
                                    "StandardPrice": "8.75",
                                    "LastReceiptCost": "9.15"
                                },
                                {
                                    "ProductName": "Half-Finger Gloves, L",
                                    "AverageLeadTime": "15",
                                    "StandardPrice": "8.75",
                                    "LastReceiptCost": "9.15"
                                },
                                {
                                    "ProductName": "LL Mountain Seat/Saddle",
                                    "AverageLeadTime": "15",
                                    "StandardPrice": "20.09",
                                    "LastReceiptCost": "21.0945"
                                },
                                {
                                    "ProductName": "HL Touring Seat/Saddle",
                                    "AverageLeadTime": "15",
                                    "StandardPrice": "38.99",
                                    "LastReceiptCost": "40.9395"
                                },
                                {
                                    "ProductName": "ML Mountain Seat/Saddle",
                                    "AverageLeadTime": "15",
                                    "StandardPrice": "28.99",
                                    "LastReceiptCost": "30.4395"
                                },
                                {
                                    "ProductName": "HL Road Seat/Saddle",
                                    "AverageLeadTime": "15",
                                    "StandardPrice": "38.99",
                                    "LastReceiptCost": "40.9395"
                                },
                                {
                                    "ProductName": "LL Touring Seat/Saddle",
                                    "AverageLeadTime": "15",
                                    "StandardPrice": "20.09",
                                    "LastReceiptCost": "21.0945"
                                },
                                {
                                    "ProductName": "ML Touring Seat/Saddle",
                                    "AverageLeadTime": "15",
                                    "StandardPrice": "28.99",
                                    "LastReceiptCost": "30.4395"
                                },
                                {
                                    "ProductName": "LL Mountain Pedal",
                                    "AverageLeadTime": "15",
                                    "StandardPrice": "29.99",
                                    "LastReceiptCost": "31.4895"
                                },
                                {
                                    "ProductName": "HL Road Pedal",
                                    "AverageLeadTime": "15",
                                    "StandardPrice": "59.99",
                                    "LastReceiptCost": "62.9895"
                                },
                                {
                                    "ProductName": "ML Mountain Pedal",
                                    "AverageLeadTime": "15",
                                    "StandardPrice": "45.99",
                                    "LastReceiptCost": "48.2895"
                                },
                                {
                                    "ProductName": "Flat Washer 1",
                                    "AverageLeadTime": "15",
                                    "StandardPrice": "39.21",
                                    "LastReceiptCost": "41.1705"
                                },
                                {
                                    "ProductName": "Flat Washer 6",
                                    "AverageLeadTime": "15",
                                    "StandardPrice": "37.21",
                                    "LastReceiptCost": "39.0705"
                                },
                                {
                                    "ProductName": "Flat Washer 2",
                                    "AverageLeadTime": "15",
                                    "StandardPrice": "41.28",
                                    "LastReceiptCost": "43.344"
                                },
                                {
                                    "ProductName": "Flat Washer 9",
                                    "AverageLeadTime": "15",
                                    "StandardPrice": "37.21",
                                    "LastReceiptCost": "39.0705"
                                },
                                {
                                    "ProductName": "Flat Washer 4",
                                    "AverageLeadTime": "15",
                                    "StandardPrice": "35.21",
                                    "LastReceiptCost": "36.9705"
                                },
                                {
                                    "ProductName": "Flat Washer 3",
                                    "AverageLeadTime": "15",
                                    "StandardPrice": "39.28",
                                    "LastReceiptCost": "41.244"
                                },
                                {
                                    "ProductName": "Flat Washer 8",
                                    "AverageLeadTime": "15",
                                    "StandardPrice": "35.21",
                                    "LastReceiptCost": "36.9705"
                                },
                                {
                                    "ProductName": "Flat Washer 5",
                                    "AverageLeadTime": "15",
                                    "StandardPrice": "33.21",
                                    "LastReceiptCost": "34.8705"
                                },
                                {
                                    "ProductName": "Flat Washer 7",
                                    "AverageLeadTime": "15",
                                    "StandardPrice": "37.28",
                                    "LastReceiptCost": "39.144"
                                },
                                {
                                    "ProductName": "Front Derailleur Cage",
                                    "AverageLeadTime": "15",
                                    "StandardPrice": "5.50",
                                    "LastReceiptCost": "5.775"
                                },
                                {
                                    "ProductName": "Front Derailleur Cage",
                                    "AverageLeadTime": "15",
                                    "StandardPrice": "5.90",
                                    "LastReceiptCost": "6.195"
                                },
                                {
                                    "ProductName": "Front Derailleur Linkage",
                                    "AverageLeadTime": "15",
                                    "StandardPrice": "1.10",
                                    "LastReceiptCost": "1.155"
                                },
                                {
                                    "ProductName": "Front Derailleur Linkage",
                                    "AverageLeadTime": "15",
                                    "StandardPrice": "1.40",
                                    "LastReceiptCost": "1.47"
                                },
                                {
                                    "ProductName": "Guide Pulley",
                                    "AverageLeadTime": "15",
                                    "StandardPrice": "1.30",
                                    "LastReceiptCost": "1.365"
                                },
                                {
                                    "ProductName": "Hex Nut 5",
                                    "AverageLeadTime": "15",
                                    "StandardPrice": "41.28",
                                    "LastReceiptCost": "43.344"
                                },
                                {
                                    "ProductName": "Hex Nut 6",
                                    "AverageLeadTime": "15",
                                    "StandardPrice": "37.21",
                                    "LastReceiptCost": "39.0705"
                                },
                                {
                                    "ProductName": "Hex Nut 16",
                                    "AverageLeadTime": "15",
                                    "StandardPrice": "35.21",
                                    "LastReceiptCost": "36.9705"
                                },
                                {
                                    "ProductName": "Hex Nut 17",
                                    "AverageLeadTime": "15",
                                    "StandardPrice": "39.28",
                                    "LastReceiptCost": "41.244"
                                },
                                {
                                    "ProductName": "Hex Nut 7",
                                    "AverageLeadTime": "15",
                                    "StandardPrice": "35.21",
                                    "LastReceiptCost": "36.9705"
                                },
                                {
                                    "ProductName": "Hex Nut 8",
                                    "AverageLeadTime": "15",
                                    "StandardPrice": "41.16",
                                    "LastReceiptCost": "43.218"
                                },
                                {
                                    "ProductName": "Hex Nut 9",
                                    "AverageLeadTime": "15",
                                    "StandardPrice": "45.23",
                                    "LastReceiptCost": "47.4915"
                                },
                                {
                                    "ProductName": "Hex Nut 22",
                                    "AverageLeadTime": "15",
                                    "StandardPrice": "41.21",
                                    "LastReceiptCost": "43.2705"
                                },
                                {
                                    "ProductName": "Hex Nut 23",
                                    "AverageLeadTime": "15",
                                    "StandardPrice": "45.28",
                                    "LastReceiptCost": "47.544"
                                },
                                {
                                    "ProductName": "Hex Nut 12",
                                    "AverageLeadTime": "15",
                                    "StandardPrice": "41.21",
                                    "LastReceiptCost": "43.2705"
                                },
                                {
                                    "ProductName": "Hex Nut 13",
                                    "AverageLeadTime": "15",
                                    "StandardPrice": "39.21",
                                    "LastReceiptCost": "41.1705"
                                },
                                {
                                    "ProductName": "Hex Nut 1",
                                    "AverageLeadTime": "15",
                                    "StandardPrice": "43.28",
                                    "LastReceiptCost": "45.444"
                                },
                                {
                                    "ProductName": "Hex Nut 10",
                                    "AverageLeadTime": "15",
                                    "StandardPrice": "39.21",
                                    "LastReceiptCost": "41.1705"
                                },
                                {
                                    "ProductName": "Hex Nut 11",
                                    "AverageLeadTime": "15",
                                    "StandardPrice": "37.21",
                                    "LastReceiptCost": "39.0705"
                                },
                                {
                                    "ProductName": "Hex Nut 2",
                                    "AverageLeadTime": "15",
                                    "StandardPrice": "41.28",
                                    "LastReceiptCost": "43.344"
                                },
                                {
                                    "ProductName": "Hex Nut 20",
                                    "AverageLeadTime": "15",
                                    "StandardPrice": "37.21",
                                    "LastReceiptCost": "39.0705"
                                },
                                {
                                    "ProductName": "Hex Nut 21",
                                    "AverageLeadTime": "15",
                                    "StandardPrice": "35.21",
                                    "LastReceiptCost": "36.9705"
                                },
                                {
                                    "ProductName": "Hex Nut 3",
                                    "AverageLeadTime": "15",
                                    "StandardPrice": "39.28",
                                    "LastReceiptCost": "41.244"
                                },
                                {
                                    "ProductName": "Hex Nut 14",
                                    "AverageLeadTime": "15",
                                    "StandardPrice": "35.21",
                                    "LastReceiptCost": "36.9705"
                                },
                                {
                                    "ProductName": "Hex Nut 15",
                                    "AverageLeadTime": "15",
                                    "StandardPrice": "41.16",
                                    "LastReceiptCost": "43.218"
                                },
                                {
                                    "ProductName": "Hex Nut 4",
                                    "AverageLeadTime": "15",
                                    "StandardPrice": "45.23",
                                    "LastReceiptCost": "47.4915"
                                },
                                {
                                    "ProductName": "Hex Nut 18",
                                    "AverageLeadTime": "15",
                                    "StandardPrice": "41.21",
                                    "LastReceiptCost": "43.2705"
                                },
                                {
                                    "ProductName": "Hex Nut 19",
                                    "AverageLeadTime": "15",
                                    "StandardPrice": "45.28",
                                    "LastReceiptCost": "47.544"
                                },
                                {
                                    "ProductName": "Keyed Washer",
                                    "AverageLeadTime": "15",
                                    "StandardPrice": "45.21",
                                    "LastReceiptCost": "47.4705"
                                },
                                {
                                    "ProductName": "External Lock Washer 3",
                                    "AverageLeadTime": "15",
                                    "StandardPrice": "43.21",
                                    "LastReceiptCost": "45.3705"
                                },
                                {
                                    "ProductName": "External Lock Washer 4",
                                    "AverageLeadTime": "15",
                                    "StandardPrice": "47.28",
                                    "LastReceiptCost": "49.644"
                                },
                                {
                                    "ProductName": "External Lock Washer 9",
                                    "AverageLeadTime": "15",
                                    "StandardPrice": "43.21",
                                    "LastReceiptCost": "45.3705"
                                },
                                {
                                    "ProductName": "External Lock Washer 5",
                                    "AverageLeadTime": "15",
                                    "StandardPrice": "41.21",
                                    "LastReceiptCost": "43.2705"
                                },
                                {
                                    "ProductName": "External Lock Washer 7",
                                    "AverageLeadTime": "15",
                                    "StandardPrice": "45.28",
                                    "LastReceiptCost": "47.544"
                                },
                                {
                                    "ProductName": "External Lock Washer 6",
                                    "AverageLeadTime": "15",
                                    "StandardPrice": "41.21",
                                    "LastReceiptCost": "43.2705"
                                },
                                {
                                    "ProductName": "External Lock Washer 1",
                                    "AverageLeadTime": "15",
                                    "StandardPrice": "39.21",
                                    "LastReceiptCost": "41.1705"
                                },
                                {
                                    "ProductName": "Thin-Jam Lock Nut 9",
                                    "AverageLeadTime": "16",
                                    "StandardPrice": "45.41",
                                    "LastReceiptCost": "47.6805"
                                },
                                {
                                    "ProductName": "Thin-Jam Lock Nut 10",
                                    "AverageLeadTime": "16",
                                    "StandardPrice": "43.41",
                                    "LastReceiptCost": "45.5805"
                                },
                                {
                                    "ProductName": "Thin-Jam Lock Nut 1",
                                    "AverageLeadTime": "16",
                                    "StandardPrice": "47.48",
                                    "LastReceiptCost": "49.854"
                                },
                                {
                                    "ProductName": "Thin-Jam Lock Nut 2",
                                    "AverageLeadTime": "16",
                                    "StandardPrice": "43.41",
                                    "LastReceiptCost": "45.5805"
                                },
                                {
                                    "ProductName": "Thin-Jam Lock Nut 15",
                                    "AverageLeadTime": "16",
                                    "StandardPrice": "41.41",
                                    "LastReceiptCost": "43.4805"
                                },
                                {
                                    "ProductName": "Thin-Jam Lock Nut 16",
                                    "AverageLeadTime": "16",
                                    "StandardPrice": "45.48",
                                    "LastReceiptCost": "47.754"
                                },
                                {
                                    "ProductName": "Thin-Jam Lock Nut 5",
                                    "AverageLeadTime": "16",
                                    "StandardPrice": "41.41",
                                    "LastReceiptCost": "43.4805"
                                },
                                {
                                    "ProductName": "Thin-Jam Lock Nut 6",
                                    "AverageLeadTime": "16",
                                    "StandardPrice": "39.41",
                                    "LastReceiptCost": "41.3805"
                                },
                                {
                                    "ProductName": "Thin-Jam Lock Nut 3",
                                    "AverageLeadTime": "16",
                                    "StandardPrice": "43.48",
                                    "LastReceiptCost": "45.654"
                                },
                                {
                                    "ProductName": "Thin-Jam Lock Nut 4",
                                    "AverageLeadTime": "16",
                                    "StandardPrice": "39.41",
                                    "LastReceiptCost": "41.3805"
                                },
                                {
                                    "ProductName": "Thin-Jam Lock Nut 13",
                                    "AverageLeadTime": "16",
                                    "StandardPrice": "37.41",
                                    "LastReceiptCost": "39.2805"
                                },
                                {
                                    "ProductName": "Thin-Jam Lock Nut 14",
                                    "AverageLeadTime": "16",
                                    "StandardPrice": "41.48",
                                    "LastReceiptCost": "43.554"
                                },
                                {
                                    "ProductName": "Thin-Jam Lock Nut 7",
                                    "AverageLeadTime": "16",
                                    "StandardPrice": "37.41",
                                    "LastReceiptCost": "39.2805"
                                },
                                {
                                    "ProductName": "Thin-Jam Lock Nut 8",
                                    "AverageLeadTime": "16",
                                    "StandardPrice": "35.41",
                                    "LastReceiptCost": "37.1805"
                                },
                                {
                                    "ProductName": "Thin-Jam Lock Nut 12",
                                    "AverageLeadTime": "16",
                                    "StandardPrice": "39.48",
                                    "LastReceiptCost": "41.454"
                                },
                                {
                                    "ProductName": "Thin-Jam Lock Nut 11",
                                    "AverageLeadTime": "16",
                                    "StandardPrice": "35.41",
                                    "LastReceiptCost": "37.1805"
                                },
                                {
                                    "ProductName": "Lock Nut 5",
                                    "AverageLeadTime": "16",
                                    "StandardPrice": "45.41",
                                    "LastReceiptCost": "47.6805"
                                },
                                {
                                    "ProductName": "Lock Nut 6",
                                    "AverageLeadTime": "16",
                                    "StandardPrice": "43.41",
                                    "LastReceiptCost": "45.5805"
                                },
                                {
                                    "ProductName": "Lock Nut 16",
                                    "AverageLeadTime": "16",
                                    "StandardPrice": "47.48",
                                    "LastReceiptCost": "49.854"
                                },
                                {
                                    "ProductName": "Lock Nut 17",
                                    "AverageLeadTime": "16",
                                    "StandardPrice": "43.41",
                                    "LastReceiptCost": "45.5805"
                                },
                                {
                                    "ProductName": "Lock Nut 7",
                                    "AverageLeadTime": "16",
                                    "StandardPrice": "41.41",
                                    "LastReceiptCost": "43.4805"
                                },
                                {
                                    "ProductName": "Lock Nut 8",
                                    "AverageLeadTime": "16",
                                    "StandardPrice": "45.48",
                                    "LastReceiptCost": "47.754"
                                },
                                {
                                    "ProductName": "Lock Nut 9",
                                    "AverageLeadTime": "16",
                                    "StandardPrice": "41.41",
                                    "LastReceiptCost": "43.4805"
                                },
                                {
                                    "ProductName": "Lock Nut 22",
                                    "AverageLeadTime": "16",
                                    "StandardPrice": "39.41",
                                    "LastReceiptCost": "41.3805"
                                },
                                {
                                    "ProductName": "Lock Nut 23",
                                    "AverageLeadTime": "16",
                                    "StandardPrice": "43.48",
                                    "LastReceiptCost": "45.654"
                                },
                                {
                                    "ProductName": "Lock Nut 12",
                                    "AverageLeadTime": "16",
                                    "StandardPrice": "39.41",
                                    "LastReceiptCost": "41.3805"
                                },
                                {
                                    "ProductName": "Lock Nut 13",
                                    "AverageLeadTime": "16",
                                    "StandardPrice": "37.41",
                                    "LastReceiptCost": "39.2805"
                                },
                                {
                                    "ProductName": "Lock Nut 1",
                                    "AverageLeadTime": "16",
                                    "StandardPrice": "41.48",
                                    "LastReceiptCost": "43.554"
                                },
                                {
                                    "ProductName": "Lock Nut 10",
                                    "AverageLeadTime": "16",
                                    "StandardPrice": "37.41",
                                    "LastReceiptCost": "39.2805"
                                },
                                {
                                    "ProductName": "Lock Nut 11",
                                    "AverageLeadTime": "16",
                                    "StandardPrice": "35.41",
                                    "LastReceiptCost": "37.1805"
                                },
                                {
                                    "ProductName": "Lock Nut 2",
                                    "AverageLeadTime": "16",
                                    "StandardPrice": "39.48",
                                    "LastReceiptCost": "41.454"
                                },
                                {
                                    "ProductName": "Lock Nut 20",
                                    "AverageLeadTime": "16",
                                    "StandardPrice": "35.41",
                                    "LastReceiptCost": "37.1805"
                                },
                                {
                                    "ProductName": "Lock Nut 21",
                                    "AverageLeadTime": "16",
                                    "StandardPrice": "45.26",
                                    "LastReceiptCost": "47.523"
                                },
                                {
                                    "ProductName": "Lock Nut 3",
                                    "AverageLeadTime": "16",
                                    "StandardPrice": "43.26",
                                    "LastReceiptCost": "45.423"
                                },
                                {
                                    "ProductName": "Lock Nut 14",
                                    "AverageLeadTime": "16",
                                    "StandardPrice": "47.33",
                                    "LastReceiptCost": "49.6965"
                                },
                                {
                                    "ProductName": "Lock Nut 18",
                                    "AverageLeadTime": "16",
                                    "StandardPrice": "41.26",
                                    "LastReceiptCost": "43.323"
                                },
                                {
                                    "ProductName": "Hex Nut 19",
                                    "AverageLeadTime": "16",
                                    "StandardPrice": "39.28",
                                    "LastReceiptCost": "41.244"
                                },
                                {
                                    "ProductName": "Hex Nut 18",
                                    "AverageLeadTime": "16",
                                    "StandardPrice": "35.21",
                                    "LastReceiptCost": "36.9705"
                                },
                                {
                                    "ProductName": "Hex Nut 4",
                                    "AverageLeadTime": "16",
                                    "StandardPrice": "37.21",
                                    "LastReceiptCost": "39.0705"
                                },
                                {
                                    "ProductName": "Hex Nut 15",
                                    "AverageLeadTime": "16",
                                    "StandardPrice": "41.28",
                                    "LastReceiptCost": "43.344"
                                },
                                {
                                    "ProductName": "Hex Nut 14",
                                    "AverageLeadTime": "16",
                                    "StandardPrice": "37.21",
                                    "LastReceiptCost": "39.0705"
                                },
                                {
                                    "ProductName": "Hex Nut 3",
                                    "AverageLeadTime": "16",
                                    "StandardPrice": "39.21",
                                    "LastReceiptCost": "41.1705"
                                },
                                {
                                    "ProductName": "Hex Nut 21",
                                    "AverageLeadTime": "16",
                                    "StandardPrice": "43.28",
                                    "LastReceiptCost": "45.444"
                                },
                                {
                                    "ProductName": "Hex Nut 20",
                                    "AverageLeadTime": "16",
                                    "StandardPrice": "39.21",
                                    "LastReceiptCost": "41.1705"
                                },
                                {
                                    "ProductName": "Hex Nut 2",
                                    "AverageLeadTime": "16",
                                    "StandardPrice": "41.21",
                                    "LastReceiptCost": "43.2705"
                                },
                                {
                                    "ProductName": "Hex Nut 11",
                                    "AverageLeadTime": "16",
                                    "StandardPrice": "45.28",
                                    "LastReceiptCost": "47.544"
                                },
                                {
                                    "ProductName": "Hex Nut 10",
                                    "AverageLeadTime": "16",
                                    "StandardPrice": "41.21",
                                    "LastReceiptCost": "43.2705"
                                },
                                {
                                    "ProductName": "Hex Nut 1",
                                    "AverageLeadTime": "16",
                                    "StandardPrice": "45.23",
                                    "LastReceiptCost": "47.4915"
                                },
                                {
                                    "ProductName": "Hex Nut 13",
                                    "AverageLeadTime": "16",
                                    "StandardPrice": "41.16",
                                    "LastReceiptCost": "43.218"
                                },
                                {
                                    "ProductName": "Hex Nut 12",
                                    "AverageLeadTime": "16",
                                    "StandardPrice": "35.21",
                                    "LastReceiptCost": "36.9705"
                                },
                                {
                                    "ProductName": "Hex Nut 23",
                                    "AverageLeadTime": "16",
                                    "StandardPrice": "39.28",
                                    "LastReceiptCost": "41.244"
                                },
                                {
                                    "ProductName": "Hex Nut 22",
                                    "AverageLeadTime": "16",
                                    "StandardPrice": "35.21",
                                    "LastReceiptCost": "36.9705"
                                },
                                {
                                    "ProductName": "Hex Nut 9",
                                    "AverageLeadTime": "16",
                                    "StandardPrice": "37.21",
                                    "LastReceiptCost": "39.0705"
                                },
                                {
                                    "ProductName": "Hex Nut 9",
                                    "AverageLeadTime": "16",
                                    "StandardPrice": "37.21",
                                    "LastReceiptCost": "39.0705"
                                },
                                {
                                    "ProductName": "Hex Nut 8",
                                    "AverageLeadTime": "16",
                                    "StandardPrice": "41.28",
                                    "LastReceiptCost": "43.344"
                                },
                                {
                                    "ProductName": "Hex Nut 8",
                                    "AverageLeadTime": "16",
                                    "StandardPrice": "39.21",
                                    "LastReceiptCost": "41.1705"
                                },
                                {
                                    "ProductName": "Hex Nut 7",
                                    "AverageLeadTime": "16",
                                    "StandardPrice": "37.21",
                                    "LastReceiptCost": "39.0705"
                                },
                                {
                                    "ProductName": "Hex Nut 7",
                                    "AverageLeadTime": "16",
                                    "StandardPrice": "43.28",
                                    "LastReceiptCost": "45.444"
                                },
                                {
                                    "ProductName": "Hex Nut 17",
                                    "AverageLeadTime": "16",
                                    "StandardPrice": "39.21",
                                    "LastReceiptCost": "41.1705"
                                },
                                {
                                    "ProductName": "Hex Nut 17",
                                    "AverageLeadTime": "16",
                                    "StandardPrice": "39.21",
                                    "LastReceiptCost": "41.1705"
                                },
                                {
                                    "ProductName": "Hex Nut 16",
                                    "AverageLeadTime": "16",
                                    "StandardPrice": "43.28",
                                    "LastReceiptCost": "45.444"
                                },
                                {
                                    "ProductName": "Hex Nut 16",
                                    "AverageLeadTime": "16",
                                    "StandardPrice": "41.21",
                                    "LastReceiptCost": "43.2705"
                                },
                                {
                                    "ProductName": "Hex Nut 6",
                                    "AverageLeadTime": "16",
                                    "StandardPrice": "39.21",
                                    "LastReceiptCost": "41.1705"
                                },
                                {
                                    "ProductName": "Hex Nut 6",
                                    "AverageLeadTime": "16",
                                    "StandardPrice": "45.28",
                                    "LastReceiptCost": "47.544"
                                },
                                {
                                    "ProductName": "Hex Nut 5",
                                    "AverageLeadTime": "16",
                                    "StandardPrice": "41.21",
                                    "LastReceiptCost": "43.2705"
                                },
                                {
                                    "ProductName": "Hex Nut 5",
                                    "AverageLeadTime": "16",
                                    "StandardPrice": "41.21",
                                    "LastReceiptCost": "43.2705"
                                },
                                {
                                    "ProductName": "ML Grip Tape",
                                    "AverageLeadTime": "16",
                                    "StandardPrice": "4.11",
                                    "LastReceiptCost": "4.3155"
                                },
                                {
                                    "ProductName": "HL Grip Tape",
                                    "AverageLeadTime": "16",
                                    "StandardPrice": "6.65",
                                    "LastReceiptCost": "6.9825"
                                },
                                {
                                    "ProductName": "LL Grip Tape",
                                    "AverageLeadTime": "16",
                                    "StandardPrice": "3.22",
                                    "LastReceiptCost": "3.381"
                                },
                                {
                                    "ProductName": "LL Road Pedal",
                                    "AverageLeadTime": "16",
                                    "StandardPrice": "29.99",
                                    "LastReceiptCost": "31.4895"
                                },
                                {
                                    "ProductName": "LL Road Pedal",
                                    "AverageLeadTime": "16",
                                    "StandardPrice": "29.99",
                                    "LastReceiptCost": "31.4895"
                                },
                                {
                                    "ProductName": "ML Road Pedal",
                                    "AverageLeadTime": "16",
                                    "StandardPrice": "45.99",
                                    "LastReceiptCost": "48.2895"
                                },
                                {
                                    "ProductName": "ML Road Pedal",
                                    "AverageLeadTime": "16",
                                    "StandardPrice": "45.99",
                                    "LastReceiptCost": "48.2895"
                                },
                                {
                                    "ProductName": "Seat Lug",
                                    "AverageLeadTime": "16",
                                    "StandardPrice": "36.34",
                                    "LastReceiptCost": "38.157"
                                },
                                {
                                    "ProductName": "HL Nipple",
                                    "AverageLeadTime": "16",
                                    "StandardPrice": "18.99",
                                    "LastReceiptCost": "19.9395"
                                },
                                {
                                    "ProductName": "Paint - Black",
                                    "AverageLeadTime": "16",
                                    "StandardPrice": "48.33",
                                    "LastReceiptCost": "50.7465"
                                },
                                {
                                    "ProductName": "Lock Nut 15",
                                    "AverageLeadTime": "16",
                                    "StandardPrice": "43.26",
                                    "LastReceiptCost": "45.423"
                                },
                                {
                                    "ProductName": "Lock Nut 4",
                                    "AverageLeadTime": "16",
                                    "StandardPrice": "41.26",
                                    "LastReceiptCost": "43.323"
                                },
                                {
                                    "ProductName": "Lock Nut 19",
                                    "AverageLeadTime": "16",
                                    "StandardPrice": "45.33",
                                    "LastReceiptCost": "47.5965"
                                },
                                {
                                    "ProductName": "Paint - Red",
                                    "AverageLeadTime": "16",
                                    "StandardPrice": "55.49",
                                    "LastReceiptCost": "58.2645"
                                },
                                {
                                    "ProductName": "Paint - Silver",
                                    "AverageLeadTime": "16",
                                    "StandardPrice": "48.33",
                                    "LastReceiptCost": "50.7465"
                                },
                                {
                                    "ProductName": "Paint - Blue",
                                    "AverageLeadTime": "16",
                                    "StandardPrice": "59.93",
                                    "LastReceiptCost": "62.9265"
                                },
                                {
                                    "ProductName": "LL Nipple",
                                    "AverageLeadTime": "16",
                                    "StandardPrice": "12.11",
                                    "LastReceiptCost": "12.7155"
                                },
                                {
                                    "ProductName": "LL Nipple",
                                    "AverageLeadTime": "16",
                                    "StandardPrice": "11.77",
                                    "LastReceiptCost": "12.3585"
                                },
                                {
                                    "ProductName": "Cone-Shaped Race",
                                    "AverageLeadTime": "16",
                                    "StandardPrice": "42.11",
                                    "LastReceiptCost": "44.2155"
                                },
                                {
                                    "ProductName": "HL Mountain Rim",
                                    "AverageLeadTime": "16",
                                    "StandardPrice": "34.55",
                                    "LastReceiptCost": "36.2775"
                                },
                                {
                                    "ProductName": "Paint - Yellow",
                                    "AverageLeadTime": "16",
                                    "StandardPrice": "47.29",
                                    "LastReceiptCost": "49.6545"
                                },
                                {
                                    "ProductName": "LL Spindle/Axle",
                                    "AverageLeadTime": "16",
                                    "StandardPrice": "9.89",
                                    "LastReceiptCost": "10.3845"
                                },
                                {
                                    "ProductName": "HL Spindle/Axle",
                                    "AverageLeadTime": "17",
                                    "StandardPrice": "13.45",
                                    "LastReceiptCost": "14.1225"
                                },
                                {
                                    "ProductName": "Paint - Yellow",
                                    "AverageLeadTime": "17",
                                    "StandardPrice": "46.58",
                                    "LastReceiptCost": "48.909"
                                },
                                {
                                    "ProductName": "Pinch Bolt",
                                    "AverageLeadTime": "17",
                                    "StandardPrice": "32.56",
                                    "LastReceiptCost": "34.188"
                                },
                                {
                                    "ProductName": "Cup-Shaped Race",
                                    "AverageLeadTime": "17",
                                    "StandardPrice": "46.44",
                                    "LastReceiptCost": "48.762"
                                },
                                {
                                    "ProductName": "LL Spindle/Axle",
                                    "AverageLeadTime": "17",
                                    "StandardPrice": "10.22",
                                    "LastReceiptCost": "10.731"
                                },
                                {
                                    "ProductName": "HL Road Rim",
                                    "AverageLeadTime": "17",
                                    "StandardPrice": "35.32",
                                    "LastReceiptCost": "37.086"
                                },
                                {
                                    "ProductName": "Touring Rim",
                                    "AverageLeadTime": "17",
                                    "StandardPrice": "25.33",
                                    "LastReceiptCost": "26.5965"
                                },
                                {
                                    "ProductName": "Paint - Blue",
                                    "AverageLeadTime": "17",
                                    "StandardPrice": "60.66",
                                    "LastReceiptCost": "63.693"
                                },
                                {
                                    "ProductName": "Paint - Silver",
                                    "AverageLeadTime": "17",
                                    "StandardPrice": "50.67",
                                    "LastReceiptCost": "53.2035"
                                },
                                {
                                    "ProductName": "Paint - Red",
                                    "AverageLeadTime": "17",
                                    "StandardPrice": "54.43",
                                    "LastReceiptCost": "57.1515"
                                },
                                {
                                    "ProductName": "Lock Nut 18",
                                    "AverageLeadTime": "17",
                                    "StandardPrice": "35.41",
                                    "LastReceiptCost": "37.1805"
                                },
                                {
                                    "ProductName": "Lock Nut 19",
                                    "AverageLeadTime": "17",
                                    "StandardPrice": "37.41",
                                    "LastReceiptCost": "39.2805"
                                },
                                {
                                    "ProductName": "Lock Nut 4",
                                    "AverageLeadTime": "17",
                                    "StandardPrice": "41.48",
                                    "LastReceiptCost": "43.554"
                                },
                                {
                                    "ProductName": "Paint - Black",
                                    "AverageLeadTime": "17",
                                    "StandardPrice": "47.87",
                                    "LastReceiptCost": "50.2635"
                                },
                                {
                                    "ProductName": "Seat Post",
                                    "AverageLeadTime": "17",
                                    "StandardPrice": "15.32",
                                    "LastReceiptCost": "16.086"
                                },
                                {
                                    "ProductName": "LL Mountain Seat/Saddle",
                                    "AverageLeadTime": "17",
                                    "StandardPrice": "20.09",
                                    "LastReceiptCost": "21.0945"
                                },
                                {
                                    "ProductName": "ML Touring Seat/Saddle",
                                    "AverageLeadTime": "17",
                                    "StandardPrice": "28.99",
                                    "LastReceiptCost": "30.4395"
                                },
                                {
                                    "ProductName": "LL Touring Seat/Saddle",
                                    "AverageLeadTime": "17",
                                    "StandardPrice": "20.09",
                                    "LastReceiptCost": "21.0945"
                                },
                                {
                                    "ProductName": "HL Road Seat/Saddle",
                                    "AverageLeadTime": "17",
                                    "StandardPrice": "38.99",
                                    "LastReceiptCost": "40.9395"
                                },
                                {
                                    "ProductName": "ML Mountain Seat/Saddle",
                                    "AverageLeadTime": "17",
                                    "StandardPrice": "28.99",
                                    "LastReceiptCost": "30.4395"
                                },
                                {
                                    "ProductName": "HL Mountain Seat/Saddle",
                                    "AverageLeadTime": "17",
                                    "StandardPrice": "38.99",
                                    "LastReceiptCost": "40.9395"
                                },
                                {
                                    "ProductName": "LL Road Seat/Saddle",
                                    "AverageLeadTime": "17",
                                    "StandardPrice": "20.09",
                                    "LastReceiptCost": "21.0945"
                                },
                                {
                                    "ProductName": "ML Road Seat/Saddle",
                                    "AverageLeadTime": "17",
                                    "StandardPrice": "28.99",
                                    "LastReceiptCost": "30.4395"
                                },
                                {
                                    "ProductName": "HL Touring Seat/Saddle",
                                    "AverageLeadTime": "17",
                                    "StandardPrice": "38.99",
                                    "LastReceiptCost": "40.9395"
                                },
                                {
                                    "ProductName": "Touring Pedal",
                                    "AverageLeadTime": "17",
                                    "StandardPrice": "59.99",
                                    "LastReceiptCost": "62.9895"
                                },
                                {
                                    "ProductName": "Thin-Jam Hex Nut 10",
                                    "AverageLeadTime": "17",
                                    "StandardPrice": "43.41",
                                    "LastReceiptCost": "45.5805"
                                },
                                {
                                    "ProductName": "Thin-Jam Hex Nut 9",
                                    "AverageLeadTime": "17",
                                    "StandardPrice": "45.41",
                                    "LastReceiptCost": "47.6805"
                                },
                                {
                                    "ProductName": "Thin-Jam Hex Nut 1",
                                    "AverageLeadTime": "17",
                                    "StandardPrice": "47.48",
                                    "LastReceiptCost": "49.854"
                                },
                                {
                                    "ProductName": "Thin-Jam Hex Nut 2",
                                    "AverageLeadTime": "17",
                                    "StandardPrice": "43.41",
                                    "LastReceiptCost": "45.5805"
                                },
                                {
                                    "ProductName": "Thin-Jam Hex Nut 15",
                                    "AverageLeadTime": "17",
                                    "StandardPrice": "41.41",
                                    "LastReceiptCost": "43.4805"
                                },
                                {
                                    "ProductName": "Thin-Jam Hex Nut 16",
                                    "AverageLeadTime": "17",
                                    "StandardPrice": "45.48",
                                    "LastReceiptCost": "47.754"
                                },
                                {
                                    "ProductName": "Thin-Jam Hex Nut 5",
                                    "AverageLeadTime": "17",
                                    "StandardPrice": "41.41",
                                    "LastReceiptCost": "43.4805"
                                },
                                {
                                    "ProductName": "Thin-Jam Hex Nut 6",
                                    "AverageLeadTime": "17",
                                    "StandardPrice": "39.41",
                                    "LastReceiptCost": "41.3805"
                                },
                                {
                                    "ProductName": "Thin-Jam Hex Nut 3",
                                    "AverageLeadTime": "17",
                                    "StandardPrice": "43.48",
                                    "LastReceiptCost": "45.654"
                                },
                                {
                                    "ProductName": "Thin-Jam Hex Nut 4",
                                    "AverageLeadTime": "17",
                                    "StandardPrice": "39.41",
                                    "LastReceiptCost": "41.3805"
                                },
                                {
                                    "ProductName": "Chainring Nut",
                                    "AverageLeadTime": "17",
                                    "StandardPrice": "40.76",
                                    "LastReceiptCost": "42.798"
                                },
                                {
                                    "ProductName": "Chainring Nut",
                                    "AverageLeadTime": "17",
                                    "StandardPrice": "38.56",
                                    "LastReceiptCost": "40.488"
                                },
                                {
                                    "ProductName": "Adjustable Race",
                                    "AverageLeadTime": "17",
                                    "StandardPrice": "47.87",
                                    "LastReceiptCost": "50.2635"
                                },
                                {
                                    "ProductName": "Headset Ball Bearings",
                                    "AverageLeadTime": "17",
                                    "StandardPrice": "54.31",
                                    "LastReceiptCost": "57.0255"
                                },
                                {
                                    "ProductName": "LL Crankarm",
                                    "AverageLeadTime": "17",
                                    "StandardPrice": "25.77",
                                    "LastReceiptCost": "27.0585"
                                },
                                {
                                    "ProductName": "ML Crankarm",
                                    "AverageLeadTime": "17",
                                    "StandardPrice": "31.98",
                                    "LastReceiptCost": "33.579"
                                },
                                {
                                    "ProductName": "HL Crankarm",
                                    "AverageLeadTime": "17",
                                    "StandardPrice": "43.87",
                                    "LastReceiptCost": "46.0635"
                                },
                                {
                                    "ProductName": "Chainring Bolts",
                                    "AverageLeadTime": "17",
                                    "StandardPrice": "45.21",
                                    "LastReceiptCost": "47.4705"
                                },
                                {
                                    "ProductName": "Chainring Bolts",
                                    "AverageLeadTime": "17",
                                    "StandardPrice": "43.21",
                                    "LastReceiptCost": "45.3705"
                                },
                                {
                                    "ProductName": "Chainring",
                                    "AverageLeadTime": "17",
                                    "StandardPrice": "24.21",
                                    "LastReceiptCost": "25.4205"
                                },
                                {
                                    "ProductName": "Chainring",
                                    "AverageLeadTime": "17",
                                    "StandardPrice": "25.11",
                                    "LastReceiptCost": "26.3655"
                                },
                                {
                                    "ProductName": "Crown Race",
                                    "AverageLeadTime": "17",
                                    "StandardPrice": "47.87",
                                    "LastReceiptCost": "50.2635"
                                },
                                {
                                    "ProductName": "Thin-Jam Hex Nut 12",
                                    "AverageLeadTime": "17",
                                    "StandardPrice": "39.48",
                                    "LastReceiptCost": "41.454"
                                },
                                {
                                    "ProductName": "Thin-Jam Hex Nut 11",
                                    "AverageLeadTime": "17",
                                    "StandardPrice": "35.41",
                                    "LastReceiptCost": "37.1805"
                                },
                                {
                                    "ProductName": "Thin-Jam Hex Nut 13",
                                    "AverageLeadTime": "17",
                                    "StandardPrice": "37.41",
                                    "LastReceiptCost": "39.2805"
                                },
                                {
                                    "ProductName": "Thin-Jam Hex Nut 14",
                                    "AverageLeadTime": "17",
                                    "StandardPrice": "41.48",
                                    "LastReceiptCost": "43.554"
                                },
                                {
                                    "ProductName": "Thin-Jam Hex Nut 7",
                                    "AverageLeadTime": "17",
                                    "StandardPrice": "37.41",
                                    "LastReceiptCost": "39.2805"
                                },
                                {
                                    "ProductName": "Thin-Jam Hex Nut 8",
                                    "AverageLeadTime": "17",
                                    "StandardPrice": "35.41",
                                    "LastReceiptCost": "37.1805"
                                },
                                {
                                    "ProductName": "External Lock Washer 3",
                                    "AverageLeadTime": "17",
                                    "StandardPrice": "45.21",
                                    "LastReceiptCost": "47.4705"
                                },
                                {
                                    "ProductName": "Lock Ring",
                                    "AverageLeadTime": "17",
                                    "StandardPrice": "39.48",
                                    "LastReceiptCost": "41.454"
                                },
                                {
                                    "ProductName": "Lock Nut 15",
                                    "AverageLeadTime": "17",
                                    "StandardPrice": "37.41",
                                    "LastReceiptCost": "39.2805"
                                },
                                {
                                    "ProductName": "Lock Nut 14",
                                    "AverageLeadTime": "17",
                                    "StandardPrice": "39.41",
                                    "LastReceiptCost": "41.3805"
                                },
                                {
                                    "ProductName": "Lock Nut 3",
                                    "AverageLeadTime": "17",
                                    "StandardPrice": "43.48",
                                    "LastReceiptCost": "45.654"
                                },
                                {
                                    "ProductName": "Lock Nut 21",
                                    "AverageLeadTime": "17",
                                    "StandardPrice": "39.41",
                                    "LastReceiptCost": "41.3805"
                                },
                                {
                                    "ProductName": "Lock Nut 20",
                                    "AverageLeadTime": "17",
                                    "StandardPrice": "41.41",
                                    "LastReceiptCost": "43.4805"
                                },
                                {
                                    "ProductName": "Lock Nut 2",
                                    "AverageLeadTime": "17",
                                    "StandardPrice": "45.48",
                                    "LastReceiptCost": "47.754"
                                },
                                {
                                    "ProductName": "Lock Nut 11",
                                    "AverageLeadTime": "17",
                                    "StandardPrice": "41.41",
                                    "LastReceiptCost": "43.4805"
                                },
                                {
                                    "ProductName": "Lock Nut 10",
                                    "AverageLeadTime": "17",
                                    "StandardPrice": "43.41",
                                    "LastReceiptCost": "45.5805"
                                },
                                {
                                    "ProductName": "Lock Nut 1",
                                    "AverageLeadTime": "17",
                                    "StandardPrice": "47.48",
                                    "LastReceiptCost": "49.854"
                                },
                                {
                                    "ProductName": "Lock Nut 13",
                                    "AverageLeadTime": "17",
                                    "StandardPrice": "43.41",
                                    "LastReceiptCost": "45.5805"
                                },
                                {
                                    "ProductName": "Lock Nut 12",
                                    "AverageLeadTime": "17",
                                    "StandardPrice": "45.41",
                                    "LastReceiptCost": "47.6805"
                                },
                                {
                                    "ProductName": "Lock Nut 23",
                                    "AverageLeadTime": "17",
                                    "StandardPrice": "35.26",
                                    "LastReceiptCost": "37.023"
                                },
                                {
                                    "ProductName": "Lock Nut 22",
                                    "AverageLeadTime": "17",
                                    "StandardPrice": "39.33",
                                    "LastReceiptCost": "41.2965"
                                },
                                {
                                    "ProductName": "Lock Nut 9",
                                    "AverageLeadTime": "17",
                                    "StandardPrice": "35.26",
                                    "LastReceiptCost": "37.023"
                                },
                                {
                                    "ProductName": "Lock Nut 8",
                                    "AverageLeadTime": "17",
                                    "StandardPrice": "37.26",
                                    "LastReceiptCost": "39.123"
                                },
                                {
                                    "ProductName": "Lock Nut 7",
                                    "AverageLeadTime": "17",
                                    "StandardPrice": "41.33",
                                    "LastReceiptCost": "43.3965"
                                },
                                {
                                    "ProductName": "Lock Nut 17",
                                    "AverageLeadTime": "17",
                                    "StandardPrice": "37.26",
                                    "LastReceiptCost": "39.123"
                                },
                                {
                                    "ProductName": "Lock Nut 16",
                                    "AverageLeadTime": "17",
                                    "StandardPrice": "39.26",
                                    "LastReceiptCost": "41.223"
                                },
                                {
                                    "ProductName": "Lock Nut 6",
                                    "AverageLeadTime": "17",
                                    "StandardPrice": "43.33",
                                    "LastReceiptCost": "45.4965"
                                },
                                {
                                    "ProductName": "Lock Nut 5",
                                    "AverageLeadTime": "17",
                                    "StandardPrice": "39.26",
                                    "LastReceiptCost": "41.223"
                                },
                                {
                                    "ProductName": "Thin-Jam Lock Nut 11",
                                    "AverageLeadTime": "17",
                                    "StandardPrice": "35.26",
                                    "LastReceiptCost": "37.023"
                                },
                                {
                                    "ProductName": "Thin-Jam Lock Nut 12",
                                    "AverageLeadTime": "17",
                                    "StandardPrice": "39.33",
                                    "LastReceiptCost": "41.2965"
                                },
                                {
                                    "ProductName": "Thin-Jam Lock Nut 8",
                                    "AverageLeadTime": "17",
                                    "StandardPrice": "35.26",
                                    "LastReceiptCost": "37.023"
                                },
                                {
                                    "ProductName": "Thin-Jam Lock Nut 7",
                                    "AverageLeadTime": "17",
                                    "StandardPrice": "37.26",
                                    "LastReceiptCost": "39.123"
                                },
                                {
                                    "ProductName": "Thin-Jam Lock Nut 14",
                                    "AverageLeadTime": "17",
                                    "StandardPrice": "41.33",
                                    "LastReceiptCost": "43.3965"
                                },
                                {
                                    "ProductName": "Thin-Jam Lock Nut 13",
                                    "AverageLeadTime": "17",
                                    "StandardPrice": "37.26",
                                    "LastReceiptCost": "39.123"
                                },
                                {
                                    "ProductName": "Thin-Jam Lock Nut 4",
                                    "AverageLeadTime": "17",
                                    "StandardPrice": "39.26",
                                    "LastReceiptCost": "41.223"
                                },
                                {
                                    "ProductName": "Thin-Jam Lock Nut 3",
                                    "AverageLeadTime": "17",
                                    "StandardPrice": "43.33",
                                    "LastReceiptCost": "45.4965"
                                },
                                {
                                    "ProductName": "Thin-Jam Lock Nut 6",
                                    "AverageLeadTime": "17",
                                    "StandardPrice": "39.26",
                                    "LastReceiptCost": "41.223"
                                },
                                {
                                    "ProductName": "Thin-Jam Lock Nut 5",
                                    "AverageLeadTime": "17",
                                    "StandardPrice": "41.26",
                                    "LastReceiptCost": "43.323"
                                },
                                {
                                    "ProductName": "Thin-Jam Lock Nut 16",
                                    "AverageLeadTime": "17",
                                    "StandardPrice": "45.33",
                                    "LastReceiptCost": "47.5965"
                                },
                                {
                                    "ProductName": "Thin-Jam Lock Nut 15",
                                    "AverageLeadTime": "17",
                                    "StandardPrice": "41.26",
                                    "LastReceiptCost": "43.323"
                                },
                                {
                                    "ProductName": "Thin-Jam Lock Nut 2",
                                    "AverageLeadTime": "17",
                                    "StandardPrice": "43.26",
                                    "LastReceiptCost": "45.423"
                                },
                                {
                                    "ProductName": "Thin-Jam Lock Nut 1",
                                    "AverageLeadTime": "17",
                                    "StandardPrice": "47.33",
                                    "LastReceiptCost": "49.6965"
                                },
                                {
                                    "ProductName": "Thin-Jam Lock Nut 10",
                                    "AverageLeadTime": "17",
                                    "StandardPrice": "43.26",
                                    "LastReceiptCost": "45.423"
                                },
                                {
                                    "ProductName": "Thin-Jam Lock Nut 9",
                                    "AverageLeadTime": "17",
                                    "StandardPrice": "45.26",
                                    "LastReceiptCost": "47.523"
                                },
                                {
                                    "ProductName": "Internal Lock Washer 10",
                                    "AverageLeadTime": "17",
                                    "StandardPrice": "35.21",
                                    "LastReceiptCost": "36.9705"
                                },
                                {
                                    "ProductName": "Internal Lock Washer 1",
                                    "AverageLeadTime": "17",
                                    "StandardPrice": "33.21",
                                    "LastReceiptCost": "34.8705"
                                },
                                {
                                    "ProductName": "Internal Lock Washer 8",
                                    "AverageLeadTime": "17",
                                    "StandardPrice": "37.28",
                                    "LastReceiptCost": "39.144"
                                },
                                {
                                    "ProductName": "Internal Lock Washer 2",
                                    "AverageLeadTime": "17",
                                    "StandardPrice": "45.31",
                                    "LastReceiptCost": "47.5755"
                                },
                                {
                                    "ProductName": "External Lock Washer 6",
                                    "AverageLeadTime": "17",
                                    "StandardPrice": "45.28",
                                    "LastReceiptCost": "47.544"
                                },
                                {
                                    "ProductName": "External Lock Washer 1",
                                    "AverageLeadTime": "17",
                                    "StandardPrice": "41.21",
                                    "LastReceiptCost": "43.2705"
                                },
                                {
                                    "ProductName": "External Lock Washer 5",
                                    "AverageLeadTime": "17",
                                    "StandardPrice": "43.21",
                                    "LastReceiptCost": "45.3705"
                                },
                                {
                                    "ProductName": "External Lock Washer 7",
                                    "AverageLeadTime": "17",
                                    "StandardPrice": "41.21",
                                    "LastReceiptCost": "43.2705"
                                },
                                {
                                    "ProductName": "External Lock Washer 4",
                                    "AverageLeadTime": "17",
                                    "StandardPrice": "43.21",
                                    "LastReceiptCost": "45.3705"
                                },
                                {
                                    "ProductName": "External Lock Washer 9",
                                    "AverageLeadTime": "17",
                                    "StandardPrice": "47.28",
                                    "LastReceiptCost": "49.644"
                                },
                                {
                                    "ProductName": "External Lock Washer 8",
                                    "AverageLeadTime": "17",
                                    "StandardPrice": "39.21",
                                    "LastReceiptCost": "41.1705"
                                },
                                {
                                    "ProductName": "External Lock Washer 2",
                                    "AverageLeadTime": "17",
                                    "StandardPrice": "43.28",
                                    "LastReceiptCost": "45.444"
                                },
                                {
                                    "ProductName": "Internal Lock Washer 3",
                                    "AverageLeadTime": "17",
                                    "StandardPrice": "39.21",
                                    "LastReceiptCost": "41.1705"
                                },
                                {
                                    "ProductName": "Internal Lock Washer 4",
                                    "AverageLeadTime": "17",
                                    "StandardPrice": "37.21",
                                    "LastReceiptCost": "39.0705"
                                },
                                {
                                    "ProductName": "Internal Lock Washer 9",
                                    "AverageLeadTime": "17",
                                    "StandardPrice": "41.28",
                                    "LastReceiptCost": "43.344"
                                },
                                {
                                    "ProductName": "Internal Lock Washer 5",
                                    "AverageLeadTime": "17",
                                    "StandardPrice": "37.21",
                                    "LastReceiptCost": "39.0705"
                                },
                                {
                                    "ProductName": "Internal Lock Washer 7",
                                    "AverageLeadTime": "17",
                                    "StandardPrice": "35.21",
                                    "LastReceiptCost": "36.9705"
                                },
                                {
                                    "ProductName": "Internal Lock Washer 6",
                                    "AverageLeadTime": "17",
                                    "StandardPrice": "39.28",
                                    "LastReceiptCost": "41.244"
                                },
                                {
                                    "ProductName": "Lower Head Race",
                                    "AverageLeadTime": "18",
                                    "StandardPrice": "45.41",
                                    "LastReceiptCost": "47.6805"
                                },
                                {
                                    "ProductName": "Lock Washer 4",
                                    "AverageLeadTime": "18",
                                    "StandardPrice": "45.26",
                                    "LastReceiptCost": "47.523"
                                },
                                {
                                    "ProductName": "Lock Washer 5",
                                    "AverageLeadTime": "18",
                                    "StandardPrice": "43.26",
                                    "LastReceiptCost": "45.423"
                                },
                                {
                                    "ProductName": "Lock Washer 10",
                                    "AverageLeadTime": "18",
                                    "StandardPrice": "47.33",
                                    "LastReceiptCost": "49.6965"
                                },
                                {
                                    "ProductName": "Lock Washer 6",
                                    "AverageLeadTime": "18",
                                    "StandardPrice": "43.26",
                                    "LastReceiptCost": "45.423"
                                },
                                {
                                    "ProductName": "Lock Washer 13",
                                    "AverageLeadTime": "18",
                                    "StandardPrice": "41.26",
                                    "LastReceiptCost": "43.323"
                                },
                                {
                                    "ProductName": "Lock Washer 8",
                                    "AverageLeadTime": "18",
                                    "StandardPrice": "45.33",
                                    "LastReceiptCost": "47.5965"
                                },
                                {
                                    "ProductName": "Lock Washer 1",
                                    "AverageLeadTime": "18",
                                    "StandardPrice": "41.26",
                                    "LastReceiptCost": "43.323"
                                },
                                {
                                    "ProductName": "Lock Washer 7",
                                    "AverageLeadTime": "18",
                                    "StandardPrice": "39.26",
                                    "LastReceiptCost": "41.223"
                                },
                                {
                                    "ProductName": "Lock Washer 12",
                                    "AverageLeadTime": "18",
                                    "StandardPrice": "43.33",
                                    "LastReceiptCost": "45.4965"
                                },
                                {
                                    "ProductName": "Lock Washer 2",
                                    "AverageLeadTime": "18",
                                    "StandardPrice": "39.26",
                                    "LastReceiptCost": "41.223"
                                },
                                {
                                    "ProductName": "Lock Washer 9",
                                    "AverageLeadTime": "18",
                                    "StandardPrice": "37.26",
                                    "LastReceiptCost": "39.123"
                                },
                                {
                                    "ProductName": "Lock Washer 3",
                                    "AverageLeadTime": "18",
                                    "StandardPrice": "41.33",
                                    "LastReceiptCost": "43.3965"
                                },
                                {
                                    "ProductName": "Lock Washer 11",
                                    "AverageLeadTime": "18",
                                    "StandardPrice": "37.26",
                                    "LastReceiptCost": "39.123"
                                },
                                {
                                    "ProductName": "ML Grip Tape",
                                    "AverageLeadTime": "18",
                                    "StandardPrice": "3.79",
                                    "LastReceiptCost": "3.9795"
                                },
                                {
                                    "ProductName": "LL Grip Tape",
                                    "AverageLeadTime": "18",
                                    "StandardPrice": "3.43",
                                    "LastReceiptCost": "3.6015"
                                },
                                {
                                    "ProductName": "HL Mountain Pedal",
                                    "AverageLeadTime": "18",
                                    "StandardPrice": "59.99",
                                    "LastReceiptCost": "62.9895"
                                },
                                {
                                    "ProductName": "LL Mountain Pedal",
                                    "AverageLeadTime": "18",
                                    "StandardPrice": "29.99",
                                    "LastReceiptCost": "31.4895"
                                },
                                {
                                    "ProductName": "ML Road Seat/Saddle",
                                    "AverageLeadTime": "18",
                                    "StandardPrice": "28.99",
                                    "LastReceiptCost": "30.4395"
                                },
                                {
                                    "ProductName": "LL Road Seat/Saddle",
                                    "AverageLeadTime": "18",
                                    "StandardPrice": "20.09",
                                    "LastReceiptCost": "21.0945"
                                },
                                {
                                    "ProductName": "HL Mountain Seat/Saddle",
                                    "AverageLeadTime": "18",
                                    "StandardPrice": "38.99",
                                    "LastReceiptCost": "40.9395"
                                },
                                {
                                    "ProductName": "ML Mountain Pedal",
                                    "AverageLeadTime": "18",
                                    "StandardPrice": "45.99",
                                    "LastReceiptCost": "48.2895"
                                },
                                {
                                    "ProductName": "ML Road Rim",
                                    "AverageLeadTime": "18",
                                    "StandardPrice": "26.54",
                                    "LastReceiptCost": "27.867"
                                },
                                {
                                    "ProductName": "LL Road Rim",
                                    "AverageLeadTime": "18",
                                    "StandardPrice": "22.29",
                                    "LastReceiptCost": "23.4045"
                                },
                                {
                                    "ProductName": "HL Spindle/Axle",
                                    "AverageLeadTime": "18",
                                    "StandardPrice": "12.35",
                                    "LastReceiptCost": "12.9675"
                                },
                                {
                                    "ProductName": "Spokes",
                                    "AverageLeadTime": "18",
                                    "StandardPrice": "6.43",
                                    "LastReceiptCost": "6.7515"
                                },
                                {
                                    "ProductName": "Touring Rim",
                                    "AverageLeadTime": "19",
                                    "StandardPrice": "37.33",
                                    "LastReceiptCost": "39.1965"
                                },
                                {
                                    "ProductName": "Rear Brakes",
                                    "AverageLeadTime": "19",
                                    "StandardPrice": "78.89",
                                    "LastReceiptCost": "82.8345"
                                },
                                {
                                    "ProductName": "Mountain Tire Tube",
                                    "AverageLeadTime": "19",
                                    "StandardPrice": "5.32",
                                    "LastReceiptCost": "5.586"
                                },
                                {
                                    "ProductName": "Road Tire Tube",
                                    "AverageLeadTime": "19",
                                    "StandardPrice": "6.22",
                                    "LastReceiptCost": "6.531"
                                },
                                {
                                    "ProductName": "Touring Tire Tube",
                                    "AverageLeadTime": "19",
                                    "StandardPrice": "5.89",
                                    "LastReceiptCost": "6.1845"
                                },
                                {
                                    "ProductName": "LL Mountain Tire",
                                    "AverageLeadTime": "19",
                                    "StandardPrice": "30.71",
                                    "LastReceiptCost": "32.2455"
                                },
                                {
                                    "ProductName": "LL Mountain Tire",
                                    "AverageLeadTime": "19",
                                    "StandardPrice": "31.21",
                                    "LastReceiptCost": "32.7705"
                                },
                                {
                                    "ProductName": "ML Mountain Tire",
                                    "AverageLeadTime": "19",
                                    "StandardPrice": "34.82",
                                    "LastReceiptCost": "36.561"
                                },
                                {
                                    "ProductName": "ML Mountain Tire",
                                    "AverageLeadTime": "19",
                                    "StandardPrice": "35.32",
                                    "LastReceiptCost": "37.086"
                                },
                                {
                                    "ProductName": "HL Mountain Tire",
                                    "AverageLeadTime": "19",
                                    "StandardPrice": "40.49",
                                    "LastReceiptCost": "42.5145"
                                },
                                {
                                    "ProductName": "HL Mountain Tire",
                                    "AverageLeadTime": "19",
                                    "StandardPrice": "40.99",
                                    "LastReceiptCost": "43.0395"
                                },
                                {
                                    "ProductName": "LL Road Tire",
                                    "AverageLeadTime": "19",
                                    "StandardPrice": "32.71",
                                    "LastReceiptCost": "34.3455"
                                },
                                {
                                    "ProductName": "LL Road Tire",
                                    "AverageLeadTime": "19",
                                    "StandardPrice": "33.21",
                                    "LastReceiptCost": "34.8705"
                                },
                                {
                                    "ProductName": "ML Road Tire",
                                    "AverageLeadTime": "19",
                                    "StandardPrice": "37.37",
                                    "LastReceiptCost": "39.2385"
                                },
                                {
                                    "ProductName": "ML Road Tire",
                                    "AverageLeadTime": "19",
                                    "StandardPrice": "37.87",
                                    "LastReceiptCost": "39.7635"
                                },
                                {
                                    "ProductName": "HL Road Tire",
                                    "AverageLeadTime": "19",
                                    "StandardPrice": "41.39",
                                    "LastReceiptCost": "43.4595"
                                },
                                {
                                    "ProductName": "HL Road Tire",
                                    "AverageLeadTime": "19",
                                    "StandardPrice": "41.89",
                                    "LastReceiptCost": "43.9845"
                                },
                                {
                                    "ProductName": "Touring Tire",
                                    "AverageLeadTime": "19",
                                    "StandardPrice": "35.83",
                                    "LastReceiptCost": "37.6215"
                                },
                                {
                                    "ProductName": "Touring Tire",
                                    "AverageLeadTime": "19",
                                    "StandardPrice": "36.33",
                                    "LastReceiptCost": "38.1465"
                                },
                                {
                                    "ProductName": "Front Brakes",
                                    "AverageLeadTime": "19",
                                    "StandardPrice": "78.89",
                                    "LastReceiptCost": "82.8345"
                                },
                                {
                                    "ProductName": "Chain",
                                    "AverageLeadTime": "19",
                                    "StandardPrice": "14.99",
                                    "LastReceiptCost": "15.7395"
                                },
                                {
                                    "ProductName": "Flat Washer 7",
                                    "AverageLeadTime": "19",
                                    "StandardPrice": "43.38",
                                    "LastReceiptCost": "45.549"
                                },
                                {
                                    "ProductName": "Flat Washer 7",
                                    "AverageLeadTime": "19",
                                    "StandardPrice": "43.28",
                                    "LastReceiptCost": "45.444"
                                },
                                {
                                    "ProductName": "Flat Washer 5",
                                    "AverageLeadTime": "19",
                                    "StandardPrice": "39.31",
                                    "LastReceiptCost": "41.2755"
                                },
                                {
                                    "ProductName": "Flat Washer 5",
                                    "AverageLeadTime": "19",
                                    "StandardPrice": "39.21",
                                    "LastReceiptCost": "41.1705"
                                },
                                {
                                    "ProductName": "Thin-Jam Hex Nut 10",
                                    "AverageLeadTime": "19",
                                    "StandardPrice": "43.26",
                                    "LastReceiptCost": "45.423"
                                },
                                {
                                    "ProductName": "Thin-Jam Hex Nut 9",
                                    "AverageLeadTime": "19",
                                    "StandardPrice": "45.26",
                                    "LastReceiptCost": "47.523"
                                },
                                {
                                    "ProductName": "Thin-Jam Hex Nut 4",
                                    "AverageLeadTime": "19",
                                    "StandardPrice": "39.26",
                                    "LastReceiptCost": "41.223"
                                },
                                {
                                    "ProductName": "Thin-Jam Hex Nut 3",
                                    "AverageLeadTime": "19",
                                    "StandardPrice": "43.33",
                                    "LastReceiptCost": "45.4965"
                                },
                                {
                                    "ProductName": "Thin-Jam Hex Nut 6",
                                    "AverageLeadTime": "19",
                                    "StandardPrice": "39.26",
                                    "LastReceiptCost": "41.223"
                                },
                                {
                                    "ProductName": "Thin-Jam Hex Nut 5",
                                    "AverageLeadTime": "19",
                                    "StandardPrice": "41.26",
                                    "LastReceiptCost": "43.323"
                                },
                                {
                                    "ProductName": "Thin-Jam Hex Nut 16",
                                    "AverageLeadTime": "19",
                                    "StandardPrice": "45.33",
                                    "LastReceiptCost": "47.5965"
                                },
                                {
                                    "ProductName": "Thin-Jam Hex Nut 15",
                                    "AverageLeadTime": "19",
                                    "StandardPrice": "41.26",
                                    "LastReceiptCost": "43.323"
                                },
                                {
                                    "ProductName": "Thin-Jam Hex Nut 2",
                                    "AverageLeadTime": "19",
                                    "StandardPrice": "43.26",
                                    "LastReceiptCost": "45.423"
                                },
                                {
                                    "ProductName": "Thin-Jam Hex Nut 1",
                                    "AverageLeadTime": "19",
                                    "StandardPrice": "47.33",
                                    "LastReceiptCost": "49.6965"
                                },
                                {
                                    "ProductName": "Decal 1",
                                    "AverageLeadTime": "19",
                                    "StandardPrice": "0.20",
                                    "LastReceiptCost": "0.21"
                                },
                                {
                                    "ProductName": "Decal 2",
                                    "AverageLeadTime": "19",
                                    "StandardPrice": "0.20",
                                    "LastReceiptCost": "0.21"
                                },
                                {
                                    "ProductName": "Freewheel",
                                    "AverageLeadTime": "19",
                                    "StandardPrice": "10.30",
                                    "LastReceiptCost": "10.815"
                                },
                                {
                                    "ProductName": "Chainring Nut",
                                    "AverageLeadTime": "19",
                                    "StandardPrice": "42.21",
                                    "LastReceiptCost": "44.3205"
                                },
                                {
                                    "ProductName": "Chainring Bolts",
                                    "AverageLeadTime": "19",
                                    "StandardPrice": "47.28",
                                    "LastReceiptCost": "49.644"
                                },
                                {
                                    "ProductName": "HL Crankarm",
                                    "AverageLeadTime": "19",
                                    "StandardPrice": "44.21",
                                    "LastReceiptCost": "46.4205"
                                },
                                {
                                    "ProductName": "HL Crankarm",
                                    "AverageLeadTime": "19",
                                    "StandardPrice": "46.27",
                                    "LastReceiptCost": "48.5835"
                                },
                                {
                                    "ProductName": "ML Crankarm",
                                    "AverageLeadTime": "19",
                                    "StandardPrice": "34.38",
                                    "LastReceiptCost": "36.099"
                                },
                                {
                                    "ProductName": "LL Crankarm",
                                    "AverageLeadTime": "19",
                                    "StandardPrice": "28.17",
                                    "LastReceiptCost": "29.5785"
                                },
                                {
                                    "ProductName": "Bearing Ball",
                                    "AverageLeadTime": "19",
                                    "StandardPrice": "39.92",
                                    "LastReceiptCost": "41.916"
                                },
                                {
                                    "ProductName": "Chainring",
                                    "AverageLeadTime": "19",
                                    "StandardPrice": "27.33",
                                    "LastReceiptCost": "28.6965"
                                },
                                {
                                    "ProductName": "Flat Washer 1",
                                    "AverageLeadTime": "19",
                                    "StandardPrice": "45.31",
                                    "LastReceiptCost": "47.5755"
                                },
                                {
                                    "ProductName": "Flat Washer 1",
                                    "AverageLeadTime": "19",
                                    "StandardPrice": "45.21",
                                    "LastReceiptCost": "47.4705"
                                },
                                {
                                    "ProductName": "Flat Washer 2",
                                    "AverageLeadTime": "19",
                                    "StandardPrice": "47.38",
                                    "LastReceiptCost": "49.749"
                                },
                                {
                                    "ProductName": "Flat Washer 2",
                                    "AverageLeadTime": "19",
                                    "StandardPrice": "47.28",
                                    "LastReceiptCost": "49.644"
                                },
                                {
                                    "ProductName": "Flat Washer 6",
                                    "AverageLeadTime": "19",
                                    "StandardPrice": "43.31",
                                    "LastReceiptCost": "45.4755"
                                },
                                {
                                    "ProductName": "Flat Washer 6",
                                    "AverageLeadTime": "19",
                                    "StandardPrice": "43.21",
                                    "LastReceiptCost": "45.3705"
                                },
                                {
                                    "ProductName": "Flat Washer 8",
                                    "AverageLeadTime": "19",
                                    "StandardPrice": "41.31",
                                    "LastReceiptCost": "43.3755"
                                },
                                {
                                    "ProductName": "Flat Washer 8",
                                    "AverageLeadTime": "19",
                                    "StandardPrice": "41.21",
                                    "LastReceiptCost": "43.2705"
                                },
                                {
                                    "ProductName": "Flat Washer 3",
                                    "AverageLeadTime": "19",
                                    "StandardPrice": "45.38",
                                    "LastReceiptCost": "47.649"
                                },
                                {
                                    "ProductName": "Flat Washer 3",
                                    "AverageLeadTime": "19",
                                    "StandardPrice": "45.28",
                                    "LastReceiptCost": "47.544"
                                },
                                {
                                    "ProductName": "Flat Washer 4",
                                    "AverageLeadTime": "19",
                                    "StandardPrice": "41.31",
                                    "LastReceiptCost": "43.3755"
                                },
                                {
                                    "ProductName": "Flat Washer 4",
                                    "AverageLeadTime": "19",
                                    "StandardPrice": "41.21",
                                    "LastReceiptCost": "43.2705"
                                },
                                {
                                    "ProductName": "Flat Washer 9",
                                    "AverageLeadTime": "19",
                                    "StandardPrice": "43.31",
                                    "LastReceiptCost": "45.4755"
                                },
                                {
                                    "ProductName": "Flat Washer 9",
                                    "AverageLeadTime": "19",
                                    "StandardPrice": "43.21",
                                    "LastReceiptCost": "45.3705"
                                },
                                {
                                    "ProductName": "External Lock Washer 4",
                                    "AverageLeadTime": "19",
                                    "StandardPrice": "39.21",
                                    "LastReceiptCost": "41.1705"
                                },
                                {
                                    "ProductName": "External Lock Washer 3",
                                    "AverageLeadTime": "19",
                                    "StandardPrice": "43.28",
                                    "LastReceiptCost": "45.444"
                                },
                                {
                                    "ProductName": "Thin-Jam Hex Nut 8",
                                    "AverageLeadTime": "19",
                                    "StandardPrice": "35.26",
                                    "LastReceiptCost": "37.023"
                                },
                                {
                                    "ProductName": "Thin-Jam Hex Nut 7",
                                    "AverageLeadTime": "19",
                                    "StandardPrice": "37.26",
                                    "LastReceiptCost": "39.123"
                                },
                                {
                                    "ProductName": "Thin-Jam Hex Nut 14",
                                    "AverageLeadTime": "19",
                                    "StandardPrice": "41.33",
                                    "LastReceiptCost": "43.3965"
                                },
                                {
                                    "ProductName": "Thin-Jam Hex Nut 13",
                                    "AverageLeadTime": "19",
                                    "StandardPrice": "37.26",
                                    "LastReceiptCost": "39.123"
                                },
                                {
                                    "ProductName": "Thin-Jam Hex Nut 11",
                                    "AverageLeadTime": "19",
                                    "StandardPrice": "35.26",
                                    "LastReceiptCost": "37.023"
                                },
                                {
                                    "ProductName": "Thin-Jam Hex Nut 12",
                                    "AverageLeadTime": "19",
                                    "StandardPrice": "39.33",
                                    "LastReceiptCost": "41.2965"
                                },
                                {
                                    "ProductName": "Thin-Jam Lock Nut 7",
                                    "AverageLeadTime": "19",
                                    "StandardPrice": "37.41",
                                    "LastReceiptCost": "39.2805"
                                },
                                {
                                    "ProductName": "Thin-Jam Lock Nut 8",
                                    "AverageLeadTime": "19",
                                    "StandardPrice": "35.41",
                                    "LastReceiptCost": "37.1805"
                                },
                                {
                                    "ProductName": "Thin-Jam Lock Nut 12",
                                    "AverageLeadTime": "19",
                                    "StandardPrice": "39.48",
                                    "LastReceiptCost": "41.454"
                                },
                                {
                                    "ProductName": "Thin-Jam Lock Nut 11",
                                    "AverageLeadTime": "19",
                                    "StandardPrice": "35.41",
                                    "LastReceiptCost": "37.1805"
                                },
                                {
                                    "ProductName": "Internal Lock Washer 6",
                                    "AverageLeadTime": "19",
                                    "StandardPrice": "41.31",
                                    "LastReceiptCost": "43.3755"
                                },
                                {
                                    "ProductName": "Internal Lock Washer 7",
                                    "AverageLeadTime": "19",
                                    "StandardPrice": "43.31",
                                    "LastReceiptCost": "45.4755"
                                },
                                {
                                    "ProductName": "Internal Lock Washer 5",
                                    "AverageLeadTime": "19",
                                    "StandardPrice": "47.38",
                                    "LastReceiptCost": "49.749"
                                },
                                {
                                    "ProductName": "Internal Lock Washer 9",
                                    "AverageLeadTime": "19",
                                    "StandardPrice": "43.31",
                                    "LastReceiptCost": "45.4755"
                                },
                                {
                                    "ProductName": "Internal Lock Washer 4",
                                    "AverageLeadTime": "19",
                                    "StandardPrice": "45.31",
                                    "LastReceiptCost": "47.5755"
                                },
                                {
                                    "ProductName": "Internal Lock Washer 3",
                                    "AverageLeadTime": "19",
                                    "StandardPrice": "37.28",
                                    "LastReceiptCost": "39.144"
                                },
                                {
                                    "ProductName": "External Lock Washer 2",
                                    "AverageLeadTime": "19",
                                    "StandardPrice": "33.21",
                                    "LastReceiptCost": "34.8705"
                                },
                                {
                                    "ProductName": "External Lock Washer 8",
                                    "AverageLeadTime": "19",
                                    "StandardPrice": "35.21",
                                    "LastReceiptCost": "36.9705"
                                },
                                {
                                    "ProductName": "External Lock Washer 9",
                                    "AverageLeadTime": "19",
                                    "StandardPrice": "37.21",
                                    "LastReceiptCost": "39.0705"
                                },
                                {
                                    "ProductName": "External Lock Washer 5",
                                    "AverageLeadTime": "19",
                                    "StandardPrice": "41.28",
                                    "LastReceiptCost": "43.344"
                                },
                                {
                                    "ProductName": "External Lock Washer 1",
                                    "AverageLeadTime": "19",
                                    "StandardPrice": "39.28",
                                    "LastReceiptCost": "41.244"
                                },
                                {
                                    "ProductName": "External Lock Washer 6",
                                    "AverageLeadTime": "19",
                                    "StandardPrice": "35.21",
                                    "LastReceiptCost": "36.9705"
                                },
                                {
                                    "ProductName": "External Lock Washer 7",
                                    "AverageLeadTime": "19",
                                    "StandardPrice": "37.21",
                                    "LastReceiptCost": "39.0705"
                                },
                                {
                                    "ProductName": "Internal Lock Washer 2",
                                    "AverageLeadTime": "19",
                                    "StandardPrice": "43.38",
                                    "LastReceiptCost": "45.549"
                                },
                                {
                                    "ProductName": "Internal Lock Washer 8",
                                    "AverageLeadTime": "19",
                                    "StandardPrice": "39.31",
                                    "LastReceiptCost": "41.2755"
                                },
                                {
                                    "ProductName": "Internal Lock Washer 1",
                                    "AverageLeadTime": "19",
                                    "StandardPrice": "41.31",
                                    "LastReceiptCost": "43.3755"
                                },
                                {
                                    "ProductName": "Internal Lock Washer 10",
                                    "AverageLeadTime": "19",
                                    "StandardPrice": "45.38",
                                    "LastReceiptCost": "47.649"
                                },
                                {
                                    "ProductName": "Thin-Jam Lock Nut 9",
                                    "AverageLeadTime": "19",
                                    "StandardPrice": "45.41",
                                    "LastReceiptCost": "47.6805"
                                },
                                {
                                    "ProductName": "Thin-Jam Lock Nut 10",
                                    "AverageLeadTime": "19",
                                    "StandardPrice": "43.41",
                                    "LastReceiptCost": "45.5805"
                                },
                                {
                                    "ProductName": "Thin-Jam Lock Nut 1",
                                    "AverageLeadTime": "19",
                                    "StandardPrice": "47.48",
                                    "LastReceiptCost": "49.854"
                                },
                                {
                                    "ProductName": "Thin-Jam Lock Nut 2",
                                    "AverageLeadTime": "19",
                                    "StandardPrice": "43.41",
                                    "LastReceiptCost": "45.5805"
                                },
                                {
                                    "ProductName": "Thin-Jam Lock Nut 15",
                                    "AverageLeadTime": "19",
                                    "StandardPrice": "41.41",
                                    "LastReceiptCost": "43.4805"
                                },
                                {
                                    "ProductName": "Thin-Jam Lock Nut 16",
                                    "AverageLeadTime": "19",
                                    "StandardPrice": "45.48",
                                    "LastReceiptCost": "47.754"
                                },
                                {
                                    "ProductName": "Thin-Jam Lock Nut 5",
                                    "AverageLeadTime": "19",
                                    "StandardPrice": "41.41",
                                    "LastReceiptCost": "43.4805"
                                },
                                {
                                    "ProductName": "Thin-Jam Lock Nut 6",
                                    "AverageLeadTime": "19",
                                    "StandardPrice": "39.41",
                                    "LastReceiptCost": "41.3805"
                                },
                                {
                                    "ProductName": "Thin-Jam Lock Nut 3",
                                    "AverageLeadTime": "19",
                                    "StandardPrice": "43.48",
                                    "LastReceiptCost": "45.654"
                                },
                                {
                                    "ProductName": "Thin-Jam Lock Nut 4",
                                    "AverageLeadTime": "19",
                                    "StandardPrice": "39.41",
                                    "LastReceiptCost": "41.3805"
                                },
                                {
                                    "ProductName": "Thin-Jam Lock Nut 13",
                                    "AverageLeadTime": "19",
                                    "StandardPrice": "37.41",
                                    "LastReceiptCost": "39.2805"
                                },
                                {
                                    "ProductName": "Thin-Jam Lock Nut 14",
                                    "AverageLeadTime": "19",
                                    "StandardPrice": "41.48",
                                    "LastReceiptCost": "43.554"
                                },
                                {
                                    "ProductName": "Women's Mountain Shorts, S",
                                    "AverageLeadTime": "25",
                                    "StandardPrice": "25.45",
                                    "LastReceiptCost": "26.18"
                                },
                                {
                                    "ProductName": "Women's Mountain Shorts, M",
                                    "AverageLeadTime": "25",
                                    "StandardPrice": "25.45",
                                    "LastReceiptCost": "26.18"
                                },
                                {
                                    "ProductName": "Women's Mountain Shorts, L",
                                    "AverageLeadTime": "25",
                                    "StandardPrice": "25.45",
                                    "LastReceiptCost": "26.18"
                                },
                                {
                                    "ProductName": "Racing Socks, M",
                                    "AverageLeadTime": "25",
                                    "StandardPrice": "3.00",
                                    "LastReceiptCost": "2.36"
                                },
                                {
                                    "ProductName": "Racing Socks, L",
                                    "AverageLeadTime": "25",
                                    "StandardPrice": "3.00",
                                    "LastReceiptCost": "2.36"
                                },
                                {
                                    "ProductName": "Full-Finger Gloves, S",
                                    "AverageLeadTime": "25",
                                    "StandardPrice": "15.50",
                                    "LastReceiptCost": "15.67"
                                },
                                {
                                    "ProductName": "Full-Finger Gloves, M",
                                    "AverageLeadTime": "25",
                                    "StandardPrice": "15.50",
                                    "LastReceiptCost": "15.67"
                                },
                                {
                                    "ProductName": "Full-Finger Gloves, L",
                                    "AverageLeadTime": "25",
                                    "StandardPrice": "15.50",
                                    "LastReceiptCost": "15.67"
                                },
                                {
                                    "ProductName": "Minipump",
                                    "AverageLeadTime": "25",
                                    "StandardPrice": "8.50",
                                    "LastReceiptCost": "8.25"
                                },
                                {
                                    "ProductName": "Mountain Pump",
                                    "AverageLeadTime": "25",
                                    "StandardPrice": "10.75",
                                    "LastReceiptCost": "10.30"
                                },
                                {
                                    "ProductName": "Taillights - Battery-Powered",
                                    "AverageLeadTime": "30",
                                    "StandardPrice": "4.50",
                                    "LastReceiptCost": "5.77"
                                },
                                {
                                    "ProductName": "Headlights - Dual-Beam",
                                    "AverageLeadTime": "30",
                                    "StandardPrice": "14.50",
                                    "LastReceiptCost": "4.43"
                                },
                                {
                                    "ProductName": "Short-Sleeve Classic Jersey, S",
                                    "AverageLeadTime": "30",
                                    "StandardPrice": "40.00",
                                    "LastReceiptCost": "41.57"
                                },
                                {
                                    "ProductName": "Short-Sleeve Classic Jersey, M",
                                    "AverageLeadTime": "30",
                                    "StandardPrice": "40.00",
                                    "LastReceiptCost": "41.57"
                                },
                                {
                                    "ProductName": "Short-Sleeve Classic Jersey, L",
                                    "AverageLeadTime": "30",
                                    "StandardPrice": "40.00",
                                    "LastReceiptCost": "41.57"
                                },
                                {
                                    "ProductName": "Short-Sleeve Classic Jersey, XL",
                                    "AverageLeadTime": "30",
                                    "StandardPrice": "40.00",
                                    "LastReceiptCost": "41.57"
                                },
                                {
                                    "ProductName": "Sport-100 Helmet, Red",
                                    "AverageLeadTime": "30",
                                    "StandardPrice": "13.25",
                                    "LastReceiptCost": "13.0863"
                                },
                                {
                                    "ProductName": "Sport-100 Helmet, Black",
                                    "AverageLeadTime": "30",
                                    "StandardPrice": "13.25",
                                    "LastReceiptCost": "13.0863"
                                },
                                {
                                    "ProductName": "Classic Vest, S",
                                    "AverageLeadTime": "35",
                                    "StandardPrice": "23.20",
                                    "LastReceiptCost": "23.75"
                                },
                                {
                                    "ProductName": "Classic Vest, M",
                                    "AverageLeadTime": "35",
                                    "StandardPrice": "23.20",
                                    "LastReceiptCost": "23.75"
                                },
                                {
                                    "ProductName": "Classic Vest, L",
                                    "AverageLeadTime": "35",
                                    "StandardPrice": "23.20",
                                    "LastReceiptCost": "23.75"
                                },
                                {
                                    "ProductName": "Headlights - Weatherproof",
                                    "AverageLeadTime": "45",
                                    "StandardPrice": "15.75",
                                    "LastReceiptCost": "18.56"
                                },
                                {
                                    "ProductName": "Men's Sports Shorts, M",
                                    "AverageLeadTime": "45",
                                    "StandardPrice": "24.75",
                                    "LastReceiptCost": "24.75"
                                },
                                {
                                    "ProductName": "Men's Sports Shorts, L",
                                    "AverageLeadTime": "45",
                                    "StandardPrice": "24.75",
                                    "LastReceiptCost": "24.75"
                                },
                                {
                                    "ProductName": "Men's Sports Shorts, XL",
                                    "AverageLeadTime": "45",
                                    "StandardPrice": "24.75",
                                    "LastReceiptCost": "24.75"
                                },
                                {
                                    "ProductName": "Hitch Rack - 4-Bike",
                                    "AverageLeadTime": "45",
                                    "StandardPrice": "48.00",
                                    "LastReceiptCost": "33.88"
                                },
                                {
                                    "ProductName": "Bike Wash - Dissolver",
                                    "AverageLeadTime": "45",
                                    "StandardPrice": "3.00",
                                    "LastReceiptCost": "2.97"
                                },
                                {
                                    "ProductName": "Fender Set - Mountain",
                                    "AverageLeadTime": "45",
                                    "StandardPrice": "8.22",
                                    "LastReceiptCost": "8.22"
                                },
                                {
                                    "ProductName": "All-Purpose Bike Stand",
                                    "AverageLeadTime": "45",
                                    "StandardPrice": "49.00",
                                    "LastReceiptCost": "59.46"
                                },
                                {
                                    "ProductName": "Hydration Pack - 70 oz.",
                                    "AverageLeadTime": "45",
                                    "StandardPrice": "19.00",
                                    "LastReceiptCost": "20.56"
                                },
                                {
                                    "ProductName": "Water Bottle - 30 oz.",
                                    "AverageLeadTime": "45",
                                    "StandardPrice": "1.87",
                                    "LastReceiptCost": "1.87"
                                },
                                {
                                    "ProductName": "Mountain Bottle Cage",
                                    "AverageLeadTime": "45",
                                    "StandardPrice": "3.74",
                                    "LastReceiptCost": "3.74"
                                },
                                {
                                    "ProductName": "Road Bottle Cage",
                                    "AverageLeadTime": "45",
                                    "StandardPrice": "3.00",
                                    "LastReceiptCost": "3.36"
                                },
                                {
                                    "ProductName": "Patch Kit/8 Patches",
                                    "AverageLeadTime": "45",
                                    "StandardPrice": "0.80",
                                    "LastReceiptCost": "0.86"
                                },
                                {
                                    "ProductName": "Sport-100 Helmet, Blue",
                                    "AverageLeadTime": "45",
                                    "StandardPrice": "13.88",
                                    "LastReceiptCost": "13.08"
                                },
                                {
                                    "ProductName": "AWC Logo Cap",
                                    "AverageLeadTime": "45",
                                    "StandardPrice": "6.55",
                                    "LastReceiptCost": "6.92"
                                },
                                {
                                    "ProductName": "Long-Sleeve Logo Jersey, S",
                                    "AverageLeadTime": "45",
                                    "StandardPrice": "37.45",
                                    "LastReceiptCost": "38.49"
                                },
                                {
                                    "ProductName": "Long-Sleeve Logo Jersey, M",
                                    "AverageLeadTime": "45",
                                    "StandardPrice": "37.80",
                                    "LastReceiptCost": "38.49"
                                },
                                {
                                    "ProductName": "Long-Sleeve Logo Jersey, L",
                                    "AverageLeadTime": "45",
                                    "StandardPrice": "37.80",
                                    "LastReceiptCost": "38.49"
                                },
                                {
                                    "ProductName": "Long-Sleeve Logo Jersey, XL",
                                    "AverageLeadTime": "45",
                                    "StandardPrice": "38.05",
                                    "LastReceiptCost": "38.75"
                                },
                                {
                                    "ProductName": "Men's Sports Shorts, S",
                                    "AverageLeadTime": "60",
                                    "StandardPrice": "26.75",
                                    "LastReceiptCost": "24.75"
                                },
                                {
                                    "ProductName": "Women's Tights, S",
                                    "AverageLeadTime": "60",
                                    "StandardPrice": "32.35",
                                    "LastReceiptCost": "30.94"
                                },
                                {
                                    "ProductName": "Women's Tights, M",
                                    "AverageLeadTime": "60",
                                    "StandardPrice": "32.35",
                                    "LastReceiptCost": "30.94"
                                },
                                {
                                    "ProductName": "Women's Tights, L",
                                    "AverageLeadTime": "60",
                                    "StandardPrice": "32.35",
                                    "LastReceiptCost": "30.94"
                                },
                                {
                                    "ProductName": "Men's Bib-Shorts, S",
                                    "AverageLeadTime": "60",
                                    "StandardPrice": "38.50",
                                    "LastReceiptCost": "37.10"
                                },
                                {
                                    "ProductName": "Men's Bib-Shorts, M",
                                    "AverageLeadTime": "60",
                                    "StandardPrice": "37.50",
                                    "LastReceiptCost": "37.10"
                                },
                                {
                                    "ProductName": "Men's Bib-Shorts, L",
                                    "AverageLeadTime": "60",
                                    "StandardPrice": "37.50",
                                    "LastReceiptCost": "37.10"
                                },
                                {
                                    "ProductName": "Touring-Panniers, Large",
                                    "AverageLeadTime": "120",
                                    "StandardPrice": "54.20",
                                    "LastReceiptCost": "51.56"
                                }
                            ]
                        },
                        "text/html": "<table><tr><th>ProductName</th><th>AverageLeadTime</th><th>StandardPrice</th><th>LastReceiptCost</th></tr><tr><td>Mountain Bike Socks, M</td><td>12</td><td>3.10</td><td>3.40</td></tr><tr><td>Mountain Bike Socks, L</td><td>12</td><td>3.12</td><td>3.40</td></tr><tr><td>LL Shell</td><td>15</td><td>2.21</td><td>2.3205</td></tr><tr><td>HL Shell</td><td>15</td><td>3.47</td><td>3.6435</td></tr><tr><td>Tension Pulley</td><td>15</td><td>3.32</td><td>3.486</td></tr><tr><td>Rear Derailleur Cage</td><td>15</td><td>5.50</td><td>5.775</td></tr><tr><td>Rear Derailleur Cage</td><td>15</td><td>5.90</td><td>6.195</td></tr><tr><td>Reflector</td><td>15</td><td>8.76</td><td>9.198</td></tr><tr><td>LL Mountain Rim</td><td>15</td><td>22.28</td><td>23.394</td></tr><tr><td>LL Mountain Rim</td><td>15</td><td>21.11</td><td>22.1655</td></tr><tr><td>ML Mountain Rim</td><td>15</td><td>26.33</td><td>27.6465</td></tr><tr><td>ML Mountain Rim</td><td>15</td><td>27.89</td><td>29.2845</td></tr><tr><td>ML Road Rim</td><td>15</td><td>27.88</td><td>29.274</td></tr><tr><td>HL Road Rim</td><td>15</td><td>33.31</td><td>34.9755</td></tr><tr><td>LL Road Rim</td><td>15</td><td>21.98</td><td>23.079</td></tr><tr><td>Metal Angle</td><td>15</td><td>15.13</td><td>15.8865</td></tr><tr><td>Metal Bar 1</td><td>15</td><td>11.11</td><td>11.6655</td></tr><tr><td>Metal Bar 2</td><td>15</td><td>10.56</td><td>11.088</td></tr><tr><td>Metal Plate 2</td><td>15</td><td>15.13</td><td>15.8865</td></tr><tr><td>Metal Plate 1</td><td>15</td><td>11.11</td><td>11.6655</td></tr><tr><td>Metal Plate 3</td><td>15</td><td>10.56</td><td>11.088</td></tr><tr><td>Metal Sheet 2</td><td>15</td><td>8.34</td><td>8.757</td></tr><tr><td>Metal Sheet 3</td><td>15</td><td>9.23</td><td>9.6915</td></tr><tr><td>Metal Sheet 7</td><td>15</td><td>6.55</td><td>6.8775</td></tr><tr><td>Metal Sheet 4</td><td>15</td><td>7.43</td><td>7.8015</td></tr><tr><td>Metal Sheet 5</td><td>15</td><td>8.34</td><td>8.757</td></tr><tr><td>Metal Sheet 6</td><td>15</td><td>5.53</td><td>5.8065</td></tr><tr><td>Metal Sheet 1</td><td>15</td><td>8.44</td><td>8.862</td></tr><tr><td>Metal Tread Plate</td><td>15</td><td>9.97</td><td>10.4685</td></tr><tr><td>HL Nipple</td><td>15</td><td>19.03</td><td>19.9815</td></tr><tr><td>Half-Finger Gloves, S</td><td>15</td><td>8.75</td><td>9.15</td></tr><tr><td>Half-Finger Gloves, M</td><td>15</td><td>8.75</td><td>9.15</td></tr><tr><td>Half-Finger Gloves, L</td><td>15</td><td>8.75</td><td>9.15</td></tr><tr><td>LL Mountain Seat/Saddle</td><td>15</td><td>20.09</td><td>21.0945</td></tr><tr><td>HL Touring Seat/Saddle</td><td>15</td><td>38.99</td><td>40.9395</td></tr><tr><td>ML Mountain Seat/Saddle</td><td>15</td><td>28.99</td><td>30.4395</td></tr><tr><td>HL Road Seat/Saddle</td><td>15</td><td>38.99</td><td>40.9395</td></tr><tr><td>LL Touring Seat/Saddle</td><td>15</td><td>20.09</td><td>21.0945</td></tr><tr><td>ML Touring Seat/Saddle</td><td>15</td><td>28.99</td><td>30.4395</td></tr><tr><td>LL Mountain Pedal</td><td>15</td><td>29.99</td><td>31.4895</td></tr><tr><td>HL Road Pedal</td><td>15</td><td>59.99</td><td>62.9895</td></tr><tr><td>ML Mountain Pedal</td><td>15</td><td>45.99</td><td>48.2895</td></tr><tr><td>Flat Washer 1</td><td>15</td><td>39.21</td><td>41.1705</td></tr><tr><td>Flat Washer 6</td><td>15</td><td>37.21</td><td>39.0705</td></tr><tr><td>Flat Washer 2</td><td>15</td><td>41.28</td><td>43.344</td></tr><tr><td>Flat Washer 9</td><td>15</td><td>37.21</td><td>39.0705</td></tr><tr><td>Flat Washer 4</td><td>15</td><td>35.21</td><td>36.9705</td></tr><tr><td>Flat Washer 3</td><td>15</td><td>39.28</td><td>41.244</td></tr><tr><td>Flat Washer 8</td><td>15</td><td>35.21</td><td>36.9705</td></tr><tr><td>Flat Washer 5</td><td>15</td><td>33.21</td><td>34.8705</td></tr><tr><td>Flat Washer 7</td><td>15</td><td>37.28</td><td>39.144</td></tr><tr><td>Front Derailleur Cage</td><td>15</td><td>5.50</td><td>5.775</td></tr><tr><td>Front Derailleur Cage</td><td>15</td><td>5.90</td><td>6.195</td></tr><tr><td>Front Derailleur Linkage</td><td>15</td><td>1.10</td><td>1.155</td></tr><tr><td>Front Derailleur Linkage</td><td>15</td><td>1.40</td><td>1.47</td></tr><tr><td>Guide Pulley</td><td>15</td><td>1.30</td><td>1.365</td></tr><tr><td>Hex Nut 5</td><td>15</td><td>41.28</td><td>43.344</td></tr><tr><td>Hex Nut 6</td><td>15</td><td>37.21</td><td>39.0705</td></tr><tr><td>Hex Nut 16</td><td>15</td><td>35.21</td><td>36.9705</td></tr><tr><td>Hex Nut 17</td><td>15</td><td>39.28</td><td>41.244</td></tr><tr><td>Hex Nut 7</td><td>15</td><td>35.21</td><td>36.9705</td></tr><tr><td>Hex Nut 8</td><td>15</td><td>41.16</td><td>43.218</td></tr><tr><td>Hex Nut 9</td><td>15</td><td>45.23</td><td>47.4915</td></tr><tr><td>Hex Nut 22</td><td>15</td><td>41.21</td><td>43.2705</td></tr><tr><td>Hex Nut 23</td><td>15</td><td>45.28</td><td>47.544</td></tr><tr><td>Hex Nut 12</td><td>15</td><td>41.21</td><td>43.2705</td></tr><tr><td>Hex Nut 13</td><td>15</td><td>39.21</td><td>41.1705</td></tr><tr><td>Hex Nut 1</td><td>15</td><td>43.28</td><td>45.444</td></tr><tr><td>Hex Nut 10</td><td>15</td><td>39.21</td><td>41.1705</td></tr><tr><td>Hex Nut 11</td><td>15</td><td>37.21</td><td>39.0705</td></tr><tr><td>Hex Nut 2</td><td>15</td><td>41.28</td><td>43.344</td></tr><tr><td>Hex Nut 20</td><td>15</td><td>37.21</td><td>39.0705</td></tr><tr><td>Hex Nut 21</td><td>15</td><td>35.21</td><td>36.9705</td></tr><tr><td>Hex Nut 3</td><td>15</td><td>39.28</td><td>41.244</td></tr><tr><td>Hex Nut 14</td><td>15</td><td>35.21</td><td>36.9705</td></tr><tr><td>Hex Nut 15</td><td>15</td><td>41.16</td><td>43.218</td></tr><tr><td>Hex Nut 4</td><td>15</td><td>45.23</td><td>47.4915</td></tr><tr><td>Hex Nut 18</td><td>15</td><td>41.21</td><td>43.2705</td></tr><tr><td>Hex Nut 19</td><td>15</td><td>45.28</td><td>47.544</td></tr><tr><td>Keyed Washer</td><td>15</td><td>45.21</td><td>47.4705</td></tr><tr><td>External Lock Washer 3</td><td>15</td><td>43.21</td><td>45.3705</td></tr><tr><td>External Lock Washer 4</td><td>15</td><td>47.28</td><td>49.644</td></tr><tr><td>External Lock Washer 9</td><td>15</td><td>43.21</td><td>45.3705</td></tr><tr><td>External Lock Washer 5</td><td>15</td><td>41.21</td><td>43.2705</td></tr><tr><td>External Lock Washer 7</td><td>15</td><td>45.28</td><td>47.544</td></tr><tr><td>External Lock Washer 6</td><td>15</td><td>41.21</td><td>43.2705</td></tr><tr><td>External Lock Washer 1</td><td>15</td><td>39.21</td><td>41.1705</td></tr><tr><td>Thin-Jam Lock Nut 9</td><td>16</td><td>45.41</td><td>47.6805</td></tr><tr><td>Thin-Jam Lock Nut 10</td><td>16</td><td>43.41</td><td>45.5805</td></tr><tr><td>Thin-Jam Lock Nut 1</td><td>16</td><td>47.48</td><td>49.854</td></tr><tr><td>Thin-Jam Lock Nut 2</td><td>16</td><td>43.41</td><td>45.5805</td></tr><tr><td>Thin-Jam Lock Nut 15</td><td>16</td><td>41.41</td><td>43.4805</td></tr><tr><td>Thin-Jam Lock Nut 16</td><td>16</td><td>45.48</td><td>47.754</td></tr><tr><td>Thin-Jam Lock Nut 5</td><td>16</td><td>41.41</td><td>43.4805</td></tr><tr><td>Thin-Jam Lock Nut 6</td><td>16</td><td>39.41</td><td>41.3805</td></tr><tr><td>Thin-Jam Lock Nut 3</td><td>16</td><td>43.48</td><td>45.654</td></tr><tr><td>Thin-Jam Lock Nut 4</td><td>16</td><td>39.41</td><td>41.3805</td></tr><tr><td>Thin-Jam Lock Nut 13</td><td>16</td><td>37.41</td><td>39.2805</td></tr><tr><td>Thin-Jam Lock Nut 14</td><td>16</td><td>41.48</td><td>43.554</td></tr><tr><td>Thin-Jam Lock Nut 7</td><td>16</td><td>37.41</td><td>39.2805</td></tr><tr><td>Thin-Jam Lock Nut 8</td><td>16</td><td>35.41</td><td>37.1805</td></tr><tr><td>Thin-Jam Lock Nut 12</td><td>16</td><td>39.48</td><td>41.454</td></tr><tr><td>Thin-Jam Lock Nut 11</td><td>16</td><td>35.41</td><td>37.1805</td></tr><tr><td>Lock Nut 5</td><td>16</td><td>45.41</td><td>47.6805</td></tr><tr><td>Lock Nut 6</td><td>16</td><td>43.41</td><td>45.5805</td></tr><tr><td>Lock Nut 16</td><td>16</td><td>47.48</td><td>49.854</td></tr><tr><td>Lock Nut 17</td><td>16</td><td>43.41</td><td>45.5805</td></tr><tr><td>Lock Nut 7</td><td>16</td><td>41.41</td><td>43.4805</td></tr><tr><td>Lock Nut 8</td><td>16</td><td>45.48</td><td>47.754</td></tr><tr><td>Lock Nut 9</td><td>16</td><td>41.41</td><td>43.4805</td></tr><tr><td>Lock Nut 22</td><td>16</td><td>39.41</td><td>41.3805</td></tr><tr><td>Lock Nut 23</td><td>16</td><td>43.48</td><td>45.654</td></tr><tr><td>Lock Nut 12</td><td>16</td><td>39.41</td><td>41.3805</td></tr><tr><td>Lock Nut 13</td><td>16</td><td>37.41</td><td>39.2805</td></tr><tr><td>Lock Nut 1</td><td>16</td><td>41.48</td><td>43.554</td></tr><tr><td>Lock Nut 10</td><td>16</td><td>37.41</td><td>39.2805</td></tr><tr><td>Lock Nut 11</td><td>16</td><td>35.41</td><td>37.1805</td></tr><tr><td>Lock Nut 2</td><td>16</td><td>39.48</td><td>41.454</td></tr><tr><td>Lock Nut 20</td><td>16</td><td>35.41</td><td>37.1805</td></tr><tr><td>Lock Nut 21</td><td>16</td><td>45.26</td><td>47.523</td></tr><tr><td>Lock Nut 3</td><td>16</td><td>43.26</td><td>45.423</td></tr><tr><td>Lock Nut 14</td><td>16</td><td>47.33</td><td>49.6965</td></tr><tr><td>Lock Nut 18</td><td>16</td><td>41.26</td><td>43.323</td></tr><tr><td>Hex Nut 19</td><td>16</td><td>39.28</td><td>41.244</td></tr><tr><td>Hex Nut 18</td><td>16</td><td>35.21</td><td>36.9705</td></tr><tr><td>Hex Nut 4</td><td>16</td><td>37.21</td><td>39.0705</td></tr><tr><td>Hex Nut 15</td><td>16</td><td>41.28</td><td>43.344</td></tr><tr><td>Hex Nut 14</td><td>16</td><td>37.21</td><td>39.0705</td></tr><tr><td>Hex Nut 3</td><td>16</td><td>39.21</td><td>41.1705</td></tr><tr><td>Hex Nut 21</td><td>16</td><td>43.28</td><td>45.444</td></tr><tr><td>Hex Nut 20</td><td>16</td><td>39.21</td><td>41.1705</td></tr><tr><td>Hex Nut 2</td><td>16</td><td>41.21</td><td>43.2705</td></tr><tr><td>Hex Nut 11</td><td>16</td><td>45.28</td><td>47.544</td></tr><tr><td>Hex Nut 10</td><td>16</td><td>41.21</td><td>43.2705</td></tr><tr><td>Hex Nut 1</td><td>16</td><td>45.23</td><td>47.4915</td></tr><tr><td>Hex Nut 13</td><td>16</td><td>41.16</td><td>43.218</td></tr><tr><td>Hex Nut 12</td><td>16</td><td>35.21</td><td>36.9705</td></tr><tr><td>Hex Nut 23</td><td>16</td><td>39.28</td><td>41.244</td></tr><tr><td>Hex Nut 22</td><td>16</td><td>35.21</td><td>36.9705</td></tr><tr><td>Hex Nut 9</td><td>16</td><td>37.21</td><td>39.0705</td></tr><tr><td>Hex Nut 9</td><td>16</td><td>37.21</td><td>39.0705</td></tr><tr><td>Hex Nut 8</td><td>16</td><td>41.28</td><td>43.344</td></tr><tr><td>Hex Nut 8</td><td>16</td><td>39.21</td><td>41.1705</td></tr><tr><td>Hex Nut 7</td><td>16</td><td>37.21</td><td>39.0705</td></tr><tr><td>Hex Nut 7</td><td>16</td><td>43.28</td><td>45.444</td></tr><tr><td>Hex Nut 17</td><td>16</td><td>39.21</td><td>41.1705</td></tr><tr><td>Hex Nut 17</td><td>16</td><td>39.21</td><td>41.1705</td></tr><tr><td>Hex Nut 16</td><td>16</td><td>43.28</td><td>45.444</td></tr><tr><td>Hex Nut 16</td><td>16</td><td>41.21</td><td>43.2705</td></tr><tr><td>Hex Nut 6</td><td>16</td><td>39.21</td><td>41.1705</td></tr><tr><td>Hex Nut 6</td><td>16</td><td>45.28</td><td>47.544</td></tr><tr><td>Hex Nut 5</td><td>16</td><td>41.21</td><td>43.2705</td></tr><tr><td>Hex Nut 5</td><td>16</td><td>41.21</td><td>43.2705</td></tr><tr><td>ML Grip Tape</td><td>16</td><td>4.11</td><td>4.3155</td></tr><tr><td>HL Grip Tape</td><td>16</td><td>6.65</td><td>6.9825</td></tr><tr><td>LL Grip Tape</td><td>16</td><td>3.22</td><td>3.381</td></tr><tr><td>LL Road Pedal</td><td>16</td><td>29.99</td><td>31.4895</td></tr><tr><td>LL Road Pedal</td><td>16</td><td>29.99</td><td>31.4895</td></tr><tr><td>ML Road Pedal</td><td>16</td><td>45.99</td><td>48.2895</td></tr><tr><td>ML Road Pedal</td><td>16</td><td>45.99</td><td>48.2895</td></tr><tr><td>Seat Lug</td><td>16</td><td>36.34</td><td>38.157</td></tr><tr><td>HL Nipple</td><td>16</td><td>18.99</td><td>19.9395</td></tr><tr><td>Paint - Black</td><td>16</td><td>48.33</td><td>50.7465</td></tr><tr><td>Lock Nut 15</td><td>16</td><td>43.26</td><td>45.423</td></tr><tr><td>Lock Nut 4</td><td>16</td><td>41.26</td><td>43.323</td></tr><tr><td>Lock Nut 19</td><td>16</td><td>45.33</td><td>47.5965</td></tr><tr><td>Paint - Red</td><td>16</td><td>55.49</td><td>58.2645</td></tr><tr><td>Paint - Silver</td><td>16</td><td>48.33</td><td>50.7465</td></tr><tr><td>Paint - Blue</td><td>16</td><td>59.93</td><td>62.9265</td></tr><tr><td>LL Nipple</td><td>16</td><td>12.11</td><td>12.7155</td></tr><tr><td>LL Nipple</td><td>16</td><td>11.77</td><td>12.3585</td></tr><tr><td>Cone-Shaped Race</td><td>16</td><td>42.11</td><td>44.2155</td></tr><tr><td>HL Mountain Rim</td><td>16</td><td>34.55</td><td>36.2775</td></tr><tr><td>Paint - Yellow</td><td>16</td><td>47.29</td><td>49.6545</td></tr><tr><td>LL Spindle/Axle</td><td>16</td><td>9.89</td><td>10.3845</td></tr><tr><td>HL Spindle/Axle</td><td>17</td><td>13.45</td><td>14.1225</td></tr><tr><td>Paint - Yellow</td><td>17</td><td>46.58</td><td>48.909</td></tr><tr><td>Pinch Bolt</td><td>17</td><td>32.56</td><td>34.188</td></tr><tr><td>Cup-Shaped Race</td><td>17</td><td>46.44</td><td>48.762</td></tr><tr><td>LL Spindle/Axle</td><td>17</td><td>10.22</td><td>10.731</td></tr><tr><td>HL Road Rim</td><td>17</td><td>35.32</td><td>37.086</td></tr><tr><td>Touring Rim</td><td>17</td><td>25.33</td><td>26.5965</td></tr><tr><td>Paint - Blue</td><td>17</td><td>60.66</td><td>63.693</td></tr><tr><td>Paint - Silver</td><td>17</td><td>50.67</td><td>53.2035</td></tr><tr><td>Paint - Red</td><td>17</td><td>54.43</td><td>57.1515</td></tr><tr><td>Lock Nut 18</td><td>17</td><td>35.41</td><td>37.1805</td></tr><tr><td>Lock Nut 19</td><td>17</td><td>37.41</td><td>39.2805</td></tr><tr><td>Lock Nut 4</td><td>17</td><td>41.48</td><td>43.554</td></tr><tr><td>Paint - Black</td><td>17</td><td>47.87</td><td>50.2635</td></tr><tr><td>Seat Post</td><td>17</td><td>15.32</td><td>16.086</td></tr><tr><td>LL Mountain Seat/Saddle</td><td>17</td><td>20.09</td><td>21.0945</td></tr><tr><td>ML Touring Seat/Saddle</td><td>17</td><td>28.99</td><td>30.4395</td></tr><tr><td>LL Touring Seat/Saddle</td><td>17</td><td>20.09</td><td>21.0945</td></tr><tr><td>HL Road Seat/Saddle</td><td>17</td><td>38.99</td><td>40.9395</td></tr><tr><td>ML Mountain Seat/Saddle</td><td>17</td><td>28.99</td><td>30.4395</td></tr><tr><td>HL Mountain Seat/Saddle</td><td>17</td><td>38.99</td><td>40.9395</td></tr><tr><td>LL Road Seat/Saddle</td><td>17</td><td>20.09</td><td>21.0945</td></tr><tr><td>ML Road Seat/Saddle</td><td>17</td><td>28.99</td><td>30.4395</td></tr><tr><td>HL Touring Seat/Saddle</td><td>17</td><td>38.99</td><td>40.9395</td></tr><tr><td>Touring Pedal</td><td>17</td><td>59.99</td><td>62.9895</td></tr><tr><td>Thin-Jam Hex Nut 10</td><td>17</td><td>43.41</td><td>45.5805</td></tr><tr><td>Thin-Jam Hex Nut 9</td><td>17</td><td>45.41</td><td>47.6805</td></tr><tr><td>Thin-Jam Hex Nut 1</td><td>17</td><td>47.48</td><td>49.854</td></tr><tr><td>Thin-Jam Hex Nut 2</td><td>17</td><td>43.41</td><td>45.5805</td></tr><tr><td>Thin-Jam Hex Nut 15</td><td>17</td><td>41.41</td><td>43.4805</td></tr><tr><td>Thin-Jam Hex Nut 16</td><td>17</td><td>45.48</td><td>47.754</td></tr><tr><td>Thin-Jam Hex Nut 5</td><td>17</td><td>41.41</td><td>43.4805</td></tr><tr><td>Thin-Jam Hex Nut 6</td><td>17</td><td>39.41</td><td>41.3805</td></tr><tr><td>Thin-Jam Hex Nut 3</td><td>17</td><td>43.48</td><td>45.654</td></tr><tr><td>Thin-Jam Hex Nut 4</td><td>17</td><td>39.41</td><td>41.3805</td></tr><tr><td>Chainring Nut</td><td>17</td><td>40.76</td><td>42.798</td></tr><tr><td>Chainring Nut</td><td>17</td><td>38.56</td><td>40.488</td></tr><tr><td>Adjustable Race</td><td>17</td><td>47.87</td><td>50.2635</td></tr><tr><td>Headset Ball Bearings</td><td>17</td><td>54.31</td><td>57.0255</td></tr><tr><td>LL Crankarm</td><td>17</td><td>25.77</td><td>27.0585</td></tr><tr><td>ML Crankarm</td><td>17</td><td>31.98</td><td>33.579</td></tr><tr><td>HL Crankarm</td><td>17</td><td>43.87</td><td>46.0635</td></tr><tr><td>Chainring Bolts</td><td>17</td><td>45.21</td><td>47.4705</td></tr><tr><td>Chainring Bolts</td><td>17</td><td>43.21</td><td>45.3705</td></tr><tr><td>Chainring</td><td>17</td><td>24.21</td><td>25.4205</td></tr><tr><td>Chainring</td><td>17</td><td>25.11</td><td>26.3655</td></tr><tr><td>Crown Race</td><td>17</td><td>47.87</td><td>50.2635</td></tr><tr><td>Thin-Jam Hex Nut 12</td><td>17</td><td>39.48</td><td>41.454</td></tr><tr><td>Thin-Jam Hex Nut 11</td><td>17</td><td>35.41</td><td>37.1805</td></tr><tr><td>Thin-Jam Hex Nut 13</td><td>17</td><td>37.41</td><td>39.2805</td></tr><tr><td>Thin-Jam Hex Nut 14</td><td>17</td><td>41.48</td><td>43.554</td></tr><tr><td>Thin-Jam Hex Nut 7</td><td>17</td><td>37.41</td><td>39.2805</td></tr><tr><td>Thin-Jam Hex Nut 8</td><td>17</td><td>35.41</td><td>37.1805</td></tr><tr><td>External Lock Washer 3</td><td>17</td><td>45.21</td><td>47.4705</td></tr><tr><td>Lock Ring</td><td>17</td><td>39.48</td><td>41.454</td></tr><tr><td>Lock Nut 15</td><td>17</td><td>37.41</td><td>39.2805</td></tr><tr><td>Lock Nut 14</td><td>17</td><td>39.41</td><td>41.3805</td></tr><tr><td>Lock Nut 3</td><td>17</td><td>43.48</td><td>45.654</td></tr><tr><td>Lock Nut 21</td><td>17</td><td>39.41</td><td>41.3805</td></tr><tr><td>Lock Nut 20</td><td>17</td><td>41.41</td><td>43.4805</td></tr><tr><td>Lock Nut 2</td><td>17</td><td>45.48</td><td>47.754</td></tr><tr><td>Lock Nut 11</td><td>17</td><td>41.41</td><td>43.4805</td></tr><tr><td>Lock Nut 10</td><td>17</td><td>43.41</td><td>45.5805</td></tr><tr><td>Lock Nut 1</td><td>17</td><td>47.48</td><td>49.854</td></tr><tr><td>Lock Nut 13</td><td>17</td><td>43.41</td><td>45.5805</td></tr><tr><td>Lock Nut 12</td><td>17</td><td>45.41</td><td>47.6805</td></tr><tr><td>Lock Nut 23</td><td>17</td><td>35.26</td><td>37.023</td></tr><tr><td>Lock Nut 22</td><td>17</td><td>39.33</td><td>41.2965</td></tr><tr><td>Lock Nut 9</td><td>17</td><td>35.26</td><td>37.023</td></tr><tr><td>Lock Nut 8</td><td>17</td><td>37.26</td><td>39.123</td></tr><tr><td>Lock Nut 7</td><td>17</td><td>41.33</td><td>43.3965</td></tr><tr><td>Lock Nut 17</td><td>17</td><td>37.26</td><td>39.123</td></tr><tr><td>Lock Nut 16</td><td>17</td><td>39.26</td><td>41.223</td></tr><tr><td>Lock Nut 6</td><td>17</td><td>43.33</td><td>45.4965</td></tr><tr><td>Lock Nut 5</td><td>17</td><td>39.26</td><td>41.223</td></tr><tr><td>Thin-Jam Lock Nut 11</td><td>17</td><td>35.26</td><td>37.023</td></tr><tr><td>Thin-Jam Lock Nut 12</td><td>17</td><td>39.33</td><td>41.2965</td></tr><tr><td>Thin-Jam Lock Nut 8</td><td>17</td><td>35.26</td><td>37.023</td></tr><tr><td>Thin-Jam Lock Nut 7</td><td>17</td><td>37.26</td><td>39.123</td></tr><tr><td>Thin-Jam Lock Nut 14</td><td>17</td><td>41.33</td><td>43.3965</td></tr><tr><td>Thin-Jam Lock Nut 13</td><td>17</td><td>37.26</td><td>39.123</td></tr><tr><td>Thin-Jam Lock Nut 4</td><td>17</td><td>39.26</td><td>41.223</td></tr><tr><td>Thin-Jam Lock Nut 3</td><td>17</td><td>43.33</td><td>45.4965</td></tr><tr><td>Thin-Jam Lock Nut 6</td><td>17</td><td>39.26</td><td>41.223</td></tr><tr><td>Thin-Jam Lock Nut 5</td><td>17</td><td>41.26</td><td>43.323</td></tr><tr><td>Thin-Jam Lock Nut 16</td><td>17</td><td>45.33</td><td>47.5965</td></tr><tr><td>Thin-Jam Lock Nut 15</td><td>17</td><td>41.26</td><td>43.323</td></tr><tr><td>Thin-Jam Lock Nut 2</td><td>17</td><td>43.26</td><td>45.423</td></tr><tr><td>Thin-Jam Lock Nut 1</td><td>17</td><td>47.33</td><td>49.6965</td></tr><tr><td>Thin-Jam Lock Nut 10</td><td>17</td><td>43.26</td><td>45.423</td></tr><tr><td>Thin-Jam Lock Nut 9</td><td>17</td><td>45.26</td><td>47.523</td></tr><tr><td>Internal Lock Washer 10</td><td>17</td><td>35.21</td><td>36.9705</td></tr><tr><td>Internal Lock Washer 1</td><td>17</td><td>33.21</td><td>34.8705</td></tr><tr><td>Internal Lock Washer 8</td><td>17</td><td>37.28</td><td>39.144</td></tr><tr><td>Internal Lock Washer 2</td><td>17</td><td>45.31</td><td>47.5755</td></tr><tr><td>External Lock Washer 6</td><td>17</td><td>45.28</td><td>47.544</td></tr><tr><td>External Lock Washer 1</td><td>17</td><td>41.21</td><td>43.2705</td></tr><tr><td>External Lock Washer 5</td><td>17</td><td>43.21</td><td>45.3705</td></tr><tr><td>External Lock Washer 7</td><td>17</td><td>41.21</td><td>43.2705</td></tr><tr><td>External Lock Washer 4</td><td>17</td><td>43.21</td><td>45.3705</td></tr><tr><td>External Lock Washer 9</td><td>17</td><td>47.28</td><td>49.644</td></tr><tr><td>External Lock Washer 8</td><td>17</td><td>39.21</td><td>41.1705</td></tr><tr><td>External Lock Washer 2</td><td>17</td><td>43.28</td><td>45.444</td></tr><tr><td>Internal Lock Washer 3</td><td>17</td><td>39.21</td><td>41.1705</td></tr><tr><td>Internal Lock Washer 4</td><td>17</td><td>37.21</td><td>39.0705</td></tr><tr><td>Internal Lock Washer 9</td><td>17</td><td>41.28</td><td>43.344</td></tr><tr><td>Internal Lock Washer 5</td><td>17</td><td>37.21</td><td>39.0705</td></tr><tr><td>Internal Lock Washer 7</td><td>17</td><td>35.21</td><td>36.9705</td></tr><tr><td>Internal Lock Washer 6</td><td>17</td><td>39.28</td><td>41.244</td></tr><tr><td>Lower Head Race</td><td>18</td><td>45.41</td><td>47.6805</td></tr><tr><td>Lock Washer 4</td><td>18</td><td>45.26</td><td>47.523</td></tr><tr><td>Lock Washer 5</td><td>18</td><td>43.26</td><td>45.423</td></tr><tr><td>Lock Washer 10</td><td>18</td><td>47.33</td><td>49.6965</td></tr><tr><td>Lock Washer 6</td><td>18</td><td>43.26</td><td>45.423</td></tr><tr><td>Lock Washer 13</td><td>18</td><td>41.26</td><td>43.323</td></tr><tr><td>Lock Washer 8</td><td>18</td><td>45.33</td><td>47.5965</td></tr><tr><td>Lock Washer 1</td><td>18</td><td>41.26</td><td>43.323</td></tr><tr><td>Lock Washer 7</td><td>18</td><td>39.26</td><td>41.223</td></tr><tr><td>Lock Washer 12</td><td>18</td><td>43.33</td><td>45.4965</td></tr><tr><td>Lock Washer 2</td><td>18</td><td>39.26</td><td>41.223</td></tr><tr><td>Lock Washer 9</td><td>18</td><td>37.26</td><td>39.123</td></tr><tr><td>Lock Washer 3</td><td>18</td><td>41.33</td><td>43.3965</td></tr><tr><td>Lock Washer 11</td><td>18</td><td>37.26</td><td>39.123</td></tr><tr><td>ML Grip Tape</td><td>18</td><td>3.79</td><td>3.9795</td></tr><tr><td>LL Grip Tape</td><td>18</td><td>3.43</td><td>3.6015</td></tr><tr><td>HL Mountain Pedal</td><td>18</td><td>59.99</td><td>62.9895</td></tr><tr><td>LL Mountain Pedal</td><td>18</td><td>29.99</td><td>31.4895</td></tr><tr><td>ML Road Seat/Saddle</td><td>18</td><td>28.99</td><td>30.4395</td></tr><tr><td>LL Road Seat/Saddle</td><td>18</td><td>20.09</td><td>21.0945</td></tr><tr><td>HL Mountain Seat/Saddle</td><td>18</td><td>38.99</td><td>40.9395</td></tr><tr><td>ML Mountain Pedal</td><td>18</td><td>45.99</td><td>48.2895</td></tr><tr><td>ML Road Rim</td><td>18</td><td>26.54</td><td>27.867</td></tr><tr><td>LL Road Rim</td><td>18</td><td>22.29</td><td>23.4045</td></tr><tr><td>HL Spindle/Axle</td><td>18</td><td>12.35</td><td>12.9675</td></tr><tr><td>Spokes</td><td>18</td><td>6.43</td><td>6.7515</td></tr><tr><td>Touring Rim</td><td>19</td><td>37.33</td><td>39.1965</td></tr><tr><td>Rear Brakes</td><td>19</td><td>78.89</td><td>82.8345</td></tr><tr><td>Mountain Tire Tube</td><td>19</td><td>5.32</td><td>5.586</td></tr><tr><td>Road Tire Tube</td><td>19</td><td>6.22</td><td>6.531</td></tr><tr><td>Touring Tire Tube</td><td>19</td><td>5.89</td><td>6.1845</td></tr><tr><td>LL Mountain Tire</td><td>19</td><td>30.71</td><td>32.2455</td></tr><tr><td>LL Mountain Tire</td><td>19</td><td>31.21</td><td>32.7705</td></tr><tr><td>ML Mountain Tire</td><td>19</td><td>34.82</td><td>36.561</td></tr><tr><td>ML Mountain Tire</td><td>19</td><td>35.32</td><td>37.086</td></tr><tr><td>HL Mountain Tire</td><td>19</td><td>40.49</td><td>42.5145</td></tr><tr><td>HL Mountain Tire</td><td>19</td><td>40.99</td><td>43.0395</td></tr><tr><td>LL Road Tire</td><td>19</td><td>32.71</td><td>34.3455</td></tr><tr><td>LL Road Tire</td><td>19</td><td>33.21</td><td>34.8705</td></tr><tr><td>ML Road Tire</td><td>19</td><td>37.37</td><td>39.2385</td></tr><tr><td>ML Road Tire</td><td>19</td><td>37.87</td><td>39.7635</td></tr><tr><td>HL Road Tire</td><td>19</td><td>41.39</td><td>43.4595</td></tr><tr><td>HL Road Tire</td><td>19</td><td>41.89</td><td>43.9845</td></tr><tr><td>Touring Tire</td><td>19</td><td>35.83</td><td>37.6215</td></tr><tr><td>Touring Tire</td><td>19</td><td>36.33</td><td>38.1465</td></tr><tr><td>Front Brakes</td><td>19</td><td>78.89</td><td>82.8345</td></tr><tr><td>Chain</td><td>19</td><td>14.99</td><td>15.7395</td></tr><tr><td>Flat Washer 7</td><td>19</td><td>43.38</td><td>45.549</td></tr><tr><td>Flat Washer 7</td><td>19</td><td>43.28</td><td>45.444</td></tr><tr><td>Flat Washer 5</td><td>19</td><td>39.31</td><td>41.2755</td></tr><tr><td>Flat Washer 5</td><td>19</td><td>39.21</td><td>41.1705</td></tr><tr><td>Thin-Jam Hex Nut 10</td><td>19</td><td>43.26</td><td>45.423</td></tr><tr><td>Thin-Jam Hex Nut 9</td><td>19</td><td>45.26</td><td>47.523</td></tr><tr><td>Thin-Jam Hex Nut 4</td><td>19</td><td>39.26</td><td>41.223</td></tr><tr><td>Thin-Jam Hex Nut 3</td><td>19</td><td>43.33</td><td>45.4965</td></tr><tr><td>Thin-Jam Hex Nut 6</td><td>19</td><td>39.26</td><td>41.223</td></tr><tr><td>Thin-Jam Hex Nut 5</td><td>19</td><td>41.26</td><td>43.323</td></tr><tr><td>Thin-Jam Hex Nut 16</td><td>19</td><td>45.33</td><td>47.5965</td></tr><tr><td>Thin-Jam Hex Nut 15</td><td>19</td><td>41.26</td><td>43.323</td></tr><tr><td>Thin-Jam Hex Nut 2</td><td>19</td><td>43.26</td><td>45.423</td></tr><tr><td>Thin-Jam Hex Nut 1</td><td>19</td><td>47.33</td><td>49.6965</td></tr><tr><td>Decal 1</td><td>19</td><td>0.20</td><td>0.21</td></tr><tr><td>Decal 2</td><td>19</td><td>0.20</td><td>0.21</td></tr><tr><td>Freewheel</td><td>19</td><td>10.30</td><td>10.815</td></tr><tr><td>Chainring Nut</td><td>19</td><td>42.21</td><td>44.3205</td></tr><tr><td>Chainring Bolts</td><td>19</td><td>47.28</td><td>49.644</td></tr><tr><td>HL Crankarm</td><td>19</td><td>44.21</td><td>46.4205</td></tr><tr><td>HL Crankarm</td><td>19</td><td>46.27</td><td>48.5835</td></tr><tr><td>ML Crankarm</td><td>19</td><td>34.38</td><td>36.099</td></tr><tr><td>LL Crankarm</td><td>19</td><td>28.17</td><td>29.5785</td></tr><tr><td>Bearing Ball</td><td>19</td><td>39.92</td><td>41.916</td></tr><tr><td>Chainring</td><td>19</td><td>27.33</td><td>28.6965</td></tr><tr><td>Flat Washer 1</td><td>19</td><td>45.31</td><td>47.5755</td></tr><tr><td>Flat Washer 1</td><td>19</td><td>45.21</td><td>47.4705</td></tr><tr><td>Flat Washer 2</td><td>19</td><td>47.38</td><td>49.749</td></tr><tr><td>Flat Washer 2</td><td>19</td><td>47.28</td><td>49.644</td></tr><tr><td>Flat Washer 6</td><td>19</td><td>43.31</td><td>45.4755</td></tr><tr><td>Flat Washer 6</td><td>19</td><td>43.21</td><td>45.3705</td></tr><tr><td>Flat Washer 8</td><td>19</td><td>41.31</td><td>43.3755</td></tr><tr><td>Flat Washer 8</td><td>19</td><td>41.21</td><td>43.2705</td></tr><tr><td>Flat Washer 3</td><td>19</td><td>45.38</td><td>47.649</td></tr><tr><td>Flat Washer 3</td><td>19</td><td>45.28</td><td>47.544</td></tr><tr><td>Flat Washer 4</td><td>19</td><td>41.31</td><td>43.3755</td></tr><tr><td>Flat Washer 4</td><td>19</td><td>41.21</td><td>43.2705</td></tr><tr><td>Flat Washer 9</td><td>19</td><td>43.31</td><td>45.4755</td></tr><tr><td>Flat Washer 9</td><td>19</td><td>43.21</td><td>45.3705</td></tr><tr><td>External Lock Washer 4</td><td>19</td><td>39.21</td><td>41.1705</td></tr><tr><td>External Lock Washer 3</td><td>19</td><td>43.28</td><td>45.444</td></tr><tr><td>Thin-Jam Hex Nut 8</td><td>19</td><td>35.26</td><td>37.023</td></tr><tr><td>Thin-Jam Hex Nut 7</td><td>19</td><td>37.26</td><td>39.123</td></tr><tr><td>Thin-Jam Hex Nut 14</td><td>19</td><td>41.33</td><td>43.3965</td></tr><tr><td>Thin-Jam Hex Nut 13</td><td>19</td><td>37.26</td><td>39.123</td></tr><tr><td>Thin-Jam Hex Nut 11</td><td>19</td><td>35.26</td><td>37.023</td></tr><tr><td>Thin-Jam Hex Nut 12</td><td>19</td><td>39.33</td><td>41.2965</td></tr><tr><td>Thin-Jam Lock Nut 7</td><td>19</td><td>37.41</td><td>39.2805</td></tr><tr><td>Thin-Jam Lock Nut 8</td><td>19</td><td>35.41</td><td>37.1805</td></tr><tr><td>Thin-Jam Lock Nut 12</td><td>19</td><td>39.48</td><td>41.454</td></tr><tr><td>Thin-Jam Lock Nut 11</td><td>19</td><td>35.41</td><td>37.1805</td></tr><tr><td>Internal Lock Washer 6</td><td>19</td><td>41.31</td><td>43.3755</td></tr><tr><td>Internal Lock Washer 7</td><td>19</td><td>43.31</td><td>45.4755</td></tr><tr><td>Internal Lock Washer 5</td><td>19</td><td>47.38</td><td>49.749</td></tr><tr><td>Internal Lock Washer 9</td><td>19</td><td>43.31</td><td>45.4755</td></tr><tr><td>Internal Lock Washer 4</td><td>19</td><td>45.31</td><td>47.5755</td></tr><tr><td>Internal Lock Washer 3</td><td>19</td><td>37.28</td><td>39.144</td></tr><tr><td>External Lock Washer 2</td><td>19</td><td>33.21</td><td>34.8705</td></tr><tr><td>External Lock Washer 8</td><td>19</td><td>35.21</td><td>36.9705</td></tr><tr><td>External Lock Washer 9</td><td>19</td><td>37.21</td><td>39.0705</td></tr><tr><td>External Lock Washer 5</td><td>19</td><td>41.28</td><td>43.344</td></tr><tr><td>External Lock Washer 1</td><td>19</td><td>39.28</td><td>41.244</td></tr><tr><td>External Lock Washer 6</td><td>19</td><td>35.21</td><td>36.9705</td></tr><tr><td>External Lock Washer 7</td><td>19</td><td>37.21</td><td>39.0705</td></tr><tr><td>Internal Lock Washer 2</td><td>19</td><td>43.38</td><td>45.549</td></tr><tr><td>Internal Lock Washer 8</td><td>19</td><td>39.31</td><td>41.2755</td></tr><tr><td>Internal Lock Washer 1</td><td>19</td><td>41.31</td><td>43.3755</td></tr><tr><td>Internal Lock Washer 10</td><td>19</td><td>45.38</td><td>47.649</td></tr><tr><td>Thin-Jam Lock Nut 9</td><td>19</td><td>45.41</td><td>47.6805</td></tr><tr><td>Thin-Jam Lock Nut 10</td><td>19</td><td>43.41</td><td>45.5805</td></tr><tr><td>Thin-Jam Lock Nut 1</td><td>19</td><td>47.48</td><td>49.854</td></tr><tr><td>Thin-Jam Lock Nut 2</td><td>19</td><td>43.41</td><td>45.5805</td></tr><tr><td>Thin-Jam Lock Nut 15</td><td>19</td><td>41.41</td><td>43.4805</td></tr><tr><td>Thin-Jam Lock Nut 16</td><td>19</td><td>45.48</td><td>47.754</td></tr><tr><td>Thin-Jam Lock Nut 5</td><td>19</td><td>41.41</td><td>43.4805</td></tr><tr><td>Thin-Jam Lock Nut 6</td><td>19</td><td>39.41</td><td>41.3805</td></tr><tr><td>Thin-Jam Lock Nut 3</td><td>19</td><td>43.48</td><td>45.654</td></tr><tr><td>Thin-Jam Lock Nut 4</td><td>19</td><td>39.41</td><td>41.3805</td></tr><tr><td>Thin-Jam Lock Nut 13</td><td>19</td><td>37.41</td><td>39.2805</td></tr><tr><td>Thin-Jam Lock Nut 14</td><td>19</td><td>41.48</td><td>43.554</td></tr><tr><td>Women's Mountain Shorts, S</td><td>25</td><td>25.45</td><td>26.18</td></tr><tr><td>Women's Mountain Shorts, M</td><td>25</td><td>25.45</td><td>26.18</td></tr><tr><td>Women's Mountain Shorts, L</td><td>25</td><td>25.45</td><td>26.18</td></tr><tr><td>Racing Socks, M</td><td>25</td><td>3.00</td><td>2.36</td></tr><tr><td>Racing Socks, L</td><td>25</td><td>3.00</td><td>2.36</td></tr><tr><td>Full-Finger Gloves, S</td><td>25</td><td>15.50</td><td>15.67</td></tr><tr><td>Full-Finger Gloves, M</td><td>25</td><td>15.50</td><td>15.67</td></tr><tr><td>Full-Finger Gloves, L</td><td>25</td><td>15.50</td><td>15.67</td></tr><tr><td>Minipump</td><td>25</td><td>8.50</td><td>8.25</td></tr><tr><td>Mountain Pump</td><td>25</td><td>10.75</td><td>10.30</td></tr><tr><td>Taillights - Battery-Powered</td><td>30</td><td>4.50</td><td>5.77</td></tr><tr><td>Headlights - Dual-Beam</td><td>30</td><td>14.50</td><td>4.43</td></tr><tr><td>Short-Sleeve Classic Jersey, S</td><td>30</td><td>40.00</td><td>41.57</td></tr><tr><td>Short-Sleeve Classic Jersey, M</td><td>30</td><td>40.00</td><td>41.57</td></tr><tr><td>Short-Sleeve Classic Jersey, L</td><td>30</td><td>40.00</td><td>41.57</td></tr><tr><td>Short-Sleeve Classic Jersey, XL</td><td>30</td><td>40.00</td><td>41.57</td></tr><tr><td>Sport-100 Helmet, Red</td><td>30</td><td>13.25</td><td>13.0863</td></tr><tr><td>Sport-100 Helmet, Black</td><td>30</td><td>13.25</td><td>13.0863</td></tr><tr><td>Classic Vest, S</td><td>35</td><td>23.20</td><td>23.75</td></tr><tr><td>Classic Vest, M</td><td>35</td><td>23.20</td><td>23.75</td></tr><tr><td>Classic Vest, L</td><td>35</td><td>23.20</td><td>23.75</td></tr><tr><td>Headlights - Weatherproof</td><td>45</td><td>15.75</td><td>18.56</td></tr><tr><td>Men's Sports Shorts, M</td><td>45</td><td>24.75</td><td>24.75</td></tr><tr><td>Men's Sports Shorts, L</td><td>45</td><td>24.75</td><td>24.75</td></tr><tr><td>Men's Sports Shorts, XL</td><td>45</td><td>24.75</td><td>24.75</td></tr><tr><td>Hitch Rack - 4-Bike</td><td>45</td><td>48.00</td><td>33.88</td></tr><tr><td>Bike Wash - Dissolver</td><td>45</td><td>3.00</td><td>2.97</td></tr><tr><td>Fender Set - Mountain</td><td>45</td><td>8.22</td><td>8.22</td></tr><tr><td>All-Purpose Bike Stand</td><td>45</td><td>49.00</td><td>59.46</td></tr><tr><td>Hydration Pack - 70 oz.</td><td>45</td><td>19.00</td><td>20.56</td></tr><tr><td>Water Bottle - 30 oz.</td><td>45</td><td>1.87</td><td>1.87</td></tr><tr><td>Mountain Bottle Cage</td><td>45</td><td>3.74</td><td>3.74</td></tr><tr><td>Road Bottle Cage</td><td>45</td><td>3.00</td><td>3.36</td></tr><tr><td>Patch Kit/8 Patches</td><td>45</td><td>0.80</td><td>0.86</td></tr><tr><td>Sport-100 Helmet, Blue</td><td>45</td><td>13.88</td><td>13.08</td></tr><tr><td>AWC Logo Cap</td><td>45</td><td>6.55</td><td>6.92</td></tr><tr><td>Long-Sleeve Logo Jersey, S</td><td>45</td><td>37.45</td><td>38.49</td></tr><tr><td>Long-Sleeve Logo Jersey, M</td><td>45</td><td>37.80</td><td>38.49</td></tr><tr><td>Long-Sleeve Logo Jersey, L</td><td>45</td><td>37.80</td><td>38.49</td></tr><tr><td>Long-Sleeve Logo Jersey, XL</td><td>45</td><td>38.05</td><td>38.75</td></tr><tr><td>Men's Sports Shorts, S</td><td>60</td><td>26.75</td><td>24.75</td></tr><tr><td>Women's Tights, S</td><td>60</td><td>32.35</td><td>30.94</td></tr><tr><td>Women's Tights, M</td><td>60</td><td>32.35</td><td>30.94</td></tr><tr><td>Women's Tights, L</td><td>60</td><td>32.35</td><td>30.94</td></tr><tr><td>Men's Bib-Shorts, S</td><td>60</td><td>38.50</td><td>37.10</td></tr><tr><td>Men's Bib-Shorts, M</td><td>60</td><td>37.50</td><td>37.10</td></tr><tr><td>Men's Bib-Shorts, L</td><td>60</td><td>37.50</td><td>37.10</td></tr><tr><td>Touring-Panniers, Large</td><td>120</td><td>54.20</td><td>51.56</td></tr></table>"
                    },
                    "metadata": {}
                }
            ],
            "execution_count": 4
        },
        {
            "cell_type": "markdown",
            "source": [
                "**Easy Prompt 3 :**  \n",
                "Management wants to analyze the sales performance of their employees. The objective of this analysis is to identify the top 5 employees with the highest sales amounts for year 2010\n",
                "\n",
                "**Database :** AdventureWorksDW2017\n",
                "\n",
                "**Tables Involved :** dbo.FactSalesQuota and dbo.DimEmployee"
            ],
            "metadata": {
                "azdata_cell_guid": "736f9d0c-9927-4080-a327-d87d9dd77df1"
            },
            "attachments": {}
        },
        {
            "cell_type": "code",
            "source": [
                "USE AdventureWorksDW2017\r\n",
                "SELECT TOP(5)\r\n",
                "    e.FirstName,\r\n",
                "    e.LastName,\r\n",
                "    sq.CalendarYear,\r\n",
                "    SUM(sq.SalesAmountQuota) as TotalSalesAmount\r\n",
                "FROM \r\n",
                "    dbo.FactSalesQuota sq\r\n",
                "JOIN \r\n",
                "    dbo.DimEmployee e ON sq.EmployeeKey = e.EmployeeKey\r\n",
                "WHERE \r\n",
                "    sq.CalendarYear = 2010\r\n",
                "GROUP BY \r\n",
                "    e.FirstName,\r\n",
                "    e.LastName,\r\n",
                "    sq.CalendarYear\r\n",
                "ORDER BY \r\n",
                "    TotalSalesAmount DESC;\r\n",
                "\r\n",
                "-- We Want to Select only the TOP(5) \r\n",
                "-- SUM(Sq.SalesAmountQuota) as we add all the entries of Sales\r\n",
                "-- We then Join dbo.DimEmployee on Employee key\r\n",
                "-- To access the calendar year and set it to only 2010\r\n",
                "-- We Then Group our results by the non-aggregate entries\r\n",
                "-- We finish Order by to arrange the top 5\r\n",
                ""
            ],
            "metadata": {
                "azdata_cell_guid": "555e2ff8-da48-4360-aff7-22c6efccdaba",
                "language": "sql"
            },
            "outputs": [
                {
                    "output_type": "display_data",
                    "data": {
                        "text/html": "(5 rows affected)"
                    },
                    "metadata": {}
                },
                {
                    "output_type": "display_data",
                    "data": {
                        "text/html": "Total execution time: 00:00:00.021"
                    },
                    "metadata": {}
                },
                {
                    "output_type": "execute_result",
                    "execution_count": 17,
                    "data": {
                        "application/vnd.dataresource+json": {
                            "schema": {
                                "fields": [
                                    {
                                        "name": "FirstName"
                                    },
                                    {
                                        "name": "LastName"
                                    },
                                    {
                                        "name": "CalendarYear"
                                    },
                                    {
                                        "name": "TotalSalesAmount"
                                    }
                                ]
                            },
                            "data": [
                                {
                                    "FirstName": "Tsvi",
                                    "LastName": "Reiter",
                                    "CalendarYear": "2010",
                                    "TotalSalesAmount": "669000.00"
                                },
                                {
                                    "FirstName": "Linda",
                                    "LastName": "Mitchell",
                                    "CalendarYear": "2010",
                                    "TotalSalesAmount": "637000.00"
                                },
                                {
                                    "FirstName": "Jillian",
                                    "LastName": "Carson",
                                    "CalendarYear": "2010",
                                    "TotalSalesAmount": "565000.00"
                                },
                                {
                                    "FirstName": "José",
                                    "LastName": "Saraiva",
                                    "CalendarYear": "2010",
                                    "TotalSalesAmount": "525000.00"
                                },
                                {
                                    "FirstName": "Shu",
                                    "LastName": "Ito",
                                    "CalendarYear": "2010",
                                    "TotalSalesAmount": "460000.00"
                                }
                            ]
                        },
                        "text/html": "<table><tr><th>FirstName</th><th>LastName</th><th>CalendarYear</th><th>TotalSalesAmount</th></tr><tr><td>Tsvi</td><td>Reiter</td><td>2010</td><td>669000.00</td></tr><tr><td>Linda</td><td>Mitchell</td><td>2010</td><td>637000.00</td></tr><tr><td>Jillian</td><td>Carson</td><td>2010</td><td>565000.00</td></tr><tr><td>José</td><td>Saraiva</td><td>2010</td><td>525000.00</td></tr><tr><td>Shu</td><td>Ito</td><td>2010</td><td>460000.00</td></tr></table>"
                    },
                    "metadata": {}
                }
            ],
            "execution_count": 17
        },
        {
            "cell_type": "markdown",
            "source": [
                "**Easy Prompt 4 :** \n",
                "\n",
                "The Finance Department of PrestigeCars is keen to have a deeper understanding of their sales to reseller customers. They want to know the total sales price for each reseller customer.\n",
                "\n",
                "**Database :** PrestigeCars\n",
                "\n",
                "**Tables Involved :** Data.Customer & Data.Sales"
            ],
            "metadata": {
                "language": "sql",
                "azdata_cell_guid": "afcc8cae-5935-4d66-803f-cb344305da34"
            },
            "attachments": {}
        },
        {
            "cell_type": "code",
            "source": [
                "USE PrestigeCars\r\n",
                "SELECT \r\n",
                "    C.CustomerName,\r\n",
                "    C.Town,\r\n",
                "    SUM(S.TotalSalePrice) AS TotalSalesForReseller\r\n",
                "FROM \r\n",
                "    Data.Customer C\r\n",
                "JOIN \r\n",
                "    Data.Sales S ON C.CustomerID = S.CustomerID\r\n",
                "WHERE \r\n",
                "    C.isReseller = 1\r\n",
                "GROUP BY \r\n",
                "    C.CustomerName, \r\n",
                "    C.Town\r\n",
                "ORDER BY \r\n",
                "    TotalSalesForReseller DESC;\r\n",
                "\r\n",
                "\r\n",
                "-- We're Summing S.Total Price from Data.Sales to TotalSales\r\n",
                "-- We joined Data.Sales with CustomerID using CustomerID\r\n",
                "-- The where filter only returns all the resellers, which have a binary value of 1 or is true.\r\n",
                "\r\n",
                ""
            ],
            "metadata": {
                "language": "sql",
                "azdata_cell_guid": "31a18c2a-be58-4754-9b1e-8dd80bd4ed34",
                "tags": []
            },
            "outputs": [
                {
                    "output_type": "display_data",
                    "data": {
                        "text/html": "(45 rows affected)"
                    },
                    "metadata": {}
                },
                {
                    "output_type": "display_data",
                    "data": {
                        "text/html": "Total execution time: 00:00:00.067"
                    },
                    "metadata": {}
                },
                {
                    "output_type": "execute_result",
                    "metadata": {},
                    "execution_count": 7,
                    "data": {
                        "application/vnd.dataresource+json": {
                            "schema": {
                                "fields": [
                                    {
                                        "name": "CustomerName"
                                    },
                                    {
                                        "name": "Town"
                                    },
                                    {
                                        "name": "TotalSalesForReseller"
                                    }
                                ]
                            },
                            "data": [
                                {
                                    "CustomerName": "Vive La Vitesse",
                                    "Town": "Marseille",
                                    "TotalSalesForReseller": "1269600.00"
                                },
                                {
                                    "CustomerName": "Honest Pete Motors",
                                    "Town": "Stoke",
                                    "TotalSalesForReseller": "947140.00"
                                },
                                {
                                    "CustomerName": "Magic Motors",
                                    "Town": "Birmingham",
                                    "TotalSalesForReseller": "602850.00"
                                },
                                {
                                    "CustomerName": "Glitz",
                                    "Town": "Stuttgart",
                                    "TotalSalesForReseller": "589490.00"
                                },
                                {
                                    "CustomerName": "Capots Reluisants S.A.",
                                    "Town": "Paris",
                                    "TotalSalesForReseller": "583115.00"
                                },
                                {
                                    "CustomerName": "King Leer Cars",
                                    "Town": "Newcastle",
                                    "TotalSalesForReseller": "581580.00"
                                },
                                {
                                    "CustomerName": "SuperSport S.A.R.L.",
                                    "Town": "Paris",
                                    "TotalSalesForReseller": "509630.00"
                                },
                                {
                                    "CustomerName": "La Bagnole de Luxe",
                                    "Town": "Paris",
                                    "TotalSalesForReseller": "487190.00"
                                },
                                {
                                    "CustomerName": "Birmingham Executive Prestige Vehicles",
                                    "Town": "Birmingham",
                                    "TotalSalesForReseller": "469740.20"
                                },
                                {
                                    "CustomerName": "Prestige Imports",
                                    "Town": "Barcelona",
                                    "TotalSalesForReseller": "456150.00"
                                },
                                {
                                    "CustomerName": "Matterhorn Motors",
                                    "Town": "Lausanne",
                                    "TotalSalesForReseller": "422515.00"
                                },
                                {
                                    "CustomerName": "Liverpool Executive Prestige Vehicles",
                                    "Town": "Liverpool",
                                    "TotalSalesForReseller": "419650.00"
                                },
                                {
                                    "CustomerName": "Glittering Prize Cars Ltd",
                                    "Town": "London",
                                    "TotalSalesForReseller": "393980.00"
                                },
                                {
                                    "CustomerName": "Convertible Dreams",
                                    "Town": "London",
                                    "TotalSalesForReseller": "361995.00"
                                },
                                {
                                    "CustomerName": "Snazzy Roadsters",
                                    "Town": "Birmingham",
                                    "TotalSalesForReseller": "348950.10"
                                },
                                {
                                    "CustomerName": "Bling Bling S.A.",
                                    "Town": "Paris",
                                    "TotalSalesForReseller": "345000.00"
                                },
                                {
                                    "CustomerName": "Smooth Rocking Chrome",
                                    "Town": "Milan",
                                    "TotalSalesForReseller": "331250.00"
                                },
                                {
                                    "CustomerName": "Le Luxe en Motion",
                                    "Town": "Geneva",
                                    "TotalSalesForReseller": "316450.00"
                                },
                                {
                                    "CustomerName": "London Executive Prestige Vehicles",
                                    "Town": "London",
                                    "TotalSalesForReseller": "305950.00"
                                },
                                {
                                    "CustomerName": "Screamin' Wheels",
                                    "Town": "Los Angeles",
                                    "TotalSalesForReseller": "298200.00"
                                },
                                {
                                    "CustomerName": "Wonderland Wheels",
                                    "Town": "London",
                                    "TotalSalesForReseller": "266500.00"
                                },
                                {
                                    "CustomerName": "Le Luxe en Motion",
                                    "Town": "Paris",
                                    "TotalSalesForReseller": "255950.00"
                                },
                                {
                                    "CustomerName": "Screamin' Wheels Corp",
                                    "Town": "New York",
                                    "TotalSalesForReseller": "250000.00"
                                },
                                {
                                    "CustomerName": "Silver HubCaps",
                                    "Town": "Manchester",
                                    "TotalSalesForReseller": "242695.00"
                                },
                                {
                                    "CustomerName": "Eat My Exhaust Ltd",
                                    "Town": "Liverpool",
                                    "TotalSalesForReseller": "228500.90"
                                },
                                {
                                    "CustomerName": "Diplomatic Cars",
                                    "Town": "Brussels",
                                    "TotalSalesForReseller": "224000.00"
                                },
                                {
                                    "CustomerName": "Executive Motor Delight",
                                    "Town": "London",
                                    "TotalSalesForReseller": "219090.00"
                                },
                                {
                                    "CustomerName": "ImpressTheNeighbours.Com",
                                    "Town": "Birmingham",
                                    "TotalSalesForReseller": "203500.00"
                                },
                                {
                                    "CustomerName": "Casseroles Chromes",
                                    "Town": "Lyon",
                                    "TotalSalesForReseller": "201000.00"
                                },
                                {
                                    "CustomerName": "Prestissimo!",
                                    "Town": "Milan",
                                    "TotalSalesForReseller": "195040.00"
                                },
                                {
                                    "CustomerName": "WunderKar",
                                    "Town": "Berlin",
                                    "TotalSalesForReseller": "172500.00"
                                },
                                {
                                    "CustomerName": "El Sport",
                                    "Town": "Madrid",
                                    "TotalSalesForReseller": "128500.00"
                                },
                                {
                                    "CustomerName": "Sport.Car",
                                    "Town": "Rome",
                                    "TotalSalesForReseller": "126400.00"
                                },
                                {
                                    "CustomerName": "Posh Vehicles Ltd",
                                    "Town": "Manchester",
                                    "TotalSalesForReseller": "122850.00"
                                },
                                {
                                    "CustomerName": "Screamin' Wheels",
                                    "Town": "London",
                                    "TotalSalesForReseller": "121450.00"
                                },
                                {
                                    "CustomerName": "Screamin' Wheels",
                                    "Town": "Washington",
                                    "TotalSalesForReseller": "120450.00"
                                },
                                {
                                    "CustomerName": "YO! Speed!",
                                    "Town": "Barcelona",
                                    "TotalSalesForReseller": "110100.00"
                                },
                                {
                                    "CustomerName": "Expensive Shine",
                                    "Town": "Manchester",
                                    "TotalSalesForReseller": "101050.00"
                                },
                                {
                                    "CustomerName": "Bling Motors",
                                    "Town": "Liverpool",
                                    "TotalSalesForReseller": "96200.00"
                                },
                                {
                                    "CustomerName": "Bravissima!",
                                    "Town": "Rome",
                                    "TotalSalesForReseller": "95090.00"
                                },
                                {
                                    "CustomerName": "Autos Sportivos",
                                    "Town": "Madrid",
                                    "TotalSalesForReseller": "65890.00"
                                },
                                {
                                    "CustomerName": "Clubbing Cars",
                                    "Town": "Manchester",
                                    "TotalSalesForReseller": "57900.00"
                                },
                                {
                                    "CustomerName": "Beltway Prestige Driving",
                                    "Town": "Liverpool",
                                    "TotalSalesForReseller": "54875.00"
                                },
                                {
                                    "CustomerName": "My Shiny Sports Car Ltd.",
                                    "Town": "London",
                                    "TotalSalesForReseller": "32540.00"
                                },
                                {
                                    "CustomerName": "Flash Voitures",
                                    "Town": "Brussels",
                                    "TotalSalesForReseller": "6950.00"
                                }
                            ]
                        },
                        "text/html": [
                            "<table>",
                            "<tr><th>CustomerName</th><th>Town</th><th>TotalSalesForReseller</th></tr>",
                            "<tr><td>Vive La Vitesse</td><td>Marseille</td><td>1269600.00</td></tr>",
                            "<tr><td>Honest Pete Motors</td><td>Stoke</td><td>947140.00</td></tr>",
                            "<tr><td>Magic Motors</td><td>Birmingham</td><td>602850.00</td></tr>",
                            "<tr><td>Glitz</td><td>Stuttgart</td><td>589490.00</td></tr>",
                            "<tr><td>Capots Reluisants S.A.</td><td>Paris</td><td>583115.00</td></tr>",
                            "<tr><td>King Leer Cars</td><td>Newcastle</td><td>581580.00</td></tr>",
                            "<tr><td>SuperSport S.A.R.L.</td><td>Paris</td><td>509630.00</td></tr>",
                            "<tr><td>La Bagnole de Luxe</td><td>Paris</td><td>487190.00</td></tr>",
                            "<tr><td>Birmingham Executive Prestige Vehicles</td><td>Birmingham</td><td>469740.20</td></tr>",
                            "<tr><td>Prestige Imports</td><td>Barcelona</td><td>456150.00</td></tr>",
                            "<tr><td>Matterhorn Motors</td><td>Lausanne</td><td>422515.00</td></tr>",
                            "<tr><td>Liverpool Executive Prestige Vehicles</td><td>Liverpool</td><td>419650.00</td></tr>",
                            "<tr><td>Glittering Prize Cars Ltd</td><td>London</td><td>393980.00</td></tr>",
                            "<tr><td>Convertible Dreams</td><td>London</td><td>361995.00</td></tr>",
                            "<tr><td>Snazzy Roadsters</td><td>Birmingham</td><td>348950.10</td></tr>",
                            "<tr><td>Bling Bling S.A.</td><td>Paris</td><td>345000.00</td></tr>",
                            "<tr><td>Smooth Rocking Chrome</td><td>Milan</td><td>331250.00</td></tr>",
                            "<tr><td>Le Luxe en Motion</td><td>Geneva</td><td>316450.00</td></tr>",
                            "<tr><td>London Executive Prestige Vehicles</td><td>London</td><td>305950.00</td></tr>",
                            "<tr><td>Screamin' Wheels</td><td>Los Angeles</td><td>298200.00</td></tr>",
                            "<tr><td>Wonderland Wheels</td><td>London</td><td>266500.00</td></tr>",
                            "<tr><td>Le Luxe en Motion</td><td>Paris</td><td>255950.00</td></tr>",
                            "<tr><td>Screamin' Wheels Corp</td><td>New York</td><td>250000.00</td></tr>",
                            "<tr><td>Silver HubCaps</td><td>Manchester</td><td>242695.00</td></tr>",
                            "<tr><td>Eat My Exhaust Ltd</td><td>Liverpool</td><td>228500.90</td></tr>",
                            "<tr><td>Diplomatic Cars</td><td>Brussels</td><td>224000.00</td></tr>",
                            "<tr><td>Executive Motor Delight</td><td>London</td><td>219090.00</td></tr>",
                            "<tr><td>ImpressTheNeighbours.Com</td><td>Birmingham</td><td>203500.00</td></tr>",
                            "<tr><td>Casseroles Chromes</td><td>Lyon</td><td>201000.00</td></tr>",
                            "<tr><td>Prestissimo!</td><td>Milan</td><td>195040.00</td></tr>",
                            "<tr><td>WunderKar</td><td>Berlin</td><td>172500.00</td></tr>",
                            "<tr><td>El Sport</td><td>Madrid</td><td>128500.00</td></tr>",
                            "<tr><td>Sport.Car</td><td>Rome</td><td>126400.00</td></tr>",
                            "<tr><td>Posh Vehicles Ltd</td><td>Manchester</td><td>122850.00</td></tr>",
                            "<tr><td>Screamin' Wheels</td><td>London</td><td>121450.00</td></tr>",
                            "<tr><td>Screamin' Wheels</td><td>Washington</td><td>120450.00</td></tr>",
                            "<tr><td>YO! Speed!</td><td>Barcelona</td><td>110100.00</td></tr>",
                            "<tr><td>Expensive Shine</td><td>Manchester</td><td>101050.00</td></tr>",
                            "<tr><td>Bling Motors</td><td>Liverpool</td><td>96200.00</td></tr>",
                            "<tr><td>Bravissima!</td><td>Rome</td><td>95090.00</td></tr>",
                            "<tr><td>Autos Sportivos</td><td>Madrid</td><td>65890.00</td></tr>",
                            "<tr><td>Clubbing Cars</td><td>Manchester</td><td>57900.00</td></tr>",
                            "<tr><td>Beltway Prestige Driving</td><td>Liverpool</td><td>54875.00</td></tr>",
                            "<tr><td>My Shiny Sports Car Ltd.</td><td>London</td><td>32540.00</td></tr>",
                            "<tr><td>Flash Voitures</td><td>Brussels</td><td>6950.00</td></tr>",
                            "</table>"
                        ]
                    }
                }
            ],
            "execution_count": 7
        },
        {
            "cell_type": "markdown",
            "source": [
                "**Easy Prompt 5 :** \n",
                "\n",
                "Customer Relations Team at NorthWInds is preparing a special loyalty campaign for the upcomming anniversary of a significant Event. On **February 12, 2016**, Northwinds had introduced a limited-time promotional offer which resulted in a spike in sales. Northwinds is interested in finding all customers who placed orders on February 12, 2016  \n",
                "  \n",
                "**Database :** Northwinds2022TSQLV7\n",
                "\n",
                "  \n",
                "\n",
                "**Tables Involved :**  Sales.Customers and Sales.Orders"
            ],
            "metadata": {
                "azdata_cell_guid": "690929a0-9b63-411c-9ed8-6f938b267668"
            },
            "attachments": {}
        },
        {
            "cell_type": "code",
            "source": [
                "USE Northwinds2022TSQLV7   \r\n",
                "SELECT C.CustomerId, c.CustomerCompanyName,O.OrderId, O.OrderDate\r\n",
                "FROM Sales.Customer AS C \r\n",
                "INNER JOIN sales.[Order] AS O \r\n",
                "ON C.CustomerId = o.CustomerId\r\n",
                "WHERE O.OrderDate = '20160212'\r\n",
                "\r\n",
                "-- We're Joining Sales.Customer and Sales.[Order] using CustomerID\r\n",
                "-- With the join we get access to orderdate from our customerID\r\n",
                "-- We then filter the orderdate to Feb 12, 2016"
            ],
            "metadata": {
                "azdata_cell_guid": "a98533f4-94fe-4b1f-8486-9c25a5f84452",
                "language": "sql",
                "tags": []
            },
            "outputs": [
                {
                    "output_type": "display_data",
                    "data": {
                        "text/html": "(3 rows affected)"
                    },
                    "metadata": {}
                },
                {
                    "output_type": "display_data",
                    "data": {
                        "text/html": "Total execution time: 00:00:00.029"
                    },
                    "metadata": {}
                },
                {
                    "output_type": "execute_result",
                    "metadata": {},
                    "execution_count": 8,
                    "data": {
                        "application/vnd.dataresource+json": {
                            "schema": {
                                "fields": [
                                    {
                                        "name": "CustomerId"
                                    },
                                    {
                                        "name": "CustomerCompanyName"
                                    },
                                    {
                                        "name": "OrderId"
                                    },
                                    {
                                        "name": "OrderDate"
                                    }
                                ]
                            },
                            "data": [
                                {
                                    "CustomerId": "48",
                                    "CustomerCompanyName": "Customer DVFMB",
                                    "OrderId": "10883",
                                    "OrderDate": "2016-02-12"
                                },
                                {
                                    "CustomerId": "45",
                                    "CustomerCompanyName": "Customer QXPPT",
                                    "OrderId": "10884",
                                    "OrderDate": "2016-02-12"
                                },
                                {
                                    "CustomerId": "76",
                                    "CustomerCompanyName": "Customer SFOGW",
                                    "OrderId": "10885",
                                    "OrderDate": "2016-02-12"
                                }
                            ]
                        },
                        "text/html": [
                            "<table>",
                            "<tr><th>CustomerId</th><th>CustomerCompanyName</th><th>OrderId</th><th>OrderDate</th></tr>",
                            "<tr><td>48</td><td>Customer DVFMB</td><td>10883</td><td>2016-02-12</td></tr>",
                            "<tr><td>45</td><td>Customer QXPPT</td><td>10884</td><td>2016-02-12</td></tr>",
                            "<tr><td>76</td><td>Customer SFOGW</td><td>10885</td><td>2016-02-12</td></tr>",
                            "</table>"
                        ]
                    }
                }
            ],
            "execution_count": 8
        }
    ]
}