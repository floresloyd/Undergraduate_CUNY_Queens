{
    "metadata": {
        "kernelspec": {
            "name": "SQL",
            "display_name": "SQL",
            "language": "sql"
        },
        "language_info": {
            "name": "sql",
            "version": ""
        }
    },
    "nbformat_minor": 2,
    "nbformat": 4,
    "cells": [
        {
            "cell_type": "code",
            "source": [
                "IF EXISTS (SELECT * FROM sys.objects WHERE object_id = OBJECT_ID(N'DbSecurity.UserAuthorization') AND type in (N'U'))\r\n",
                "DROP TABLE DbSecurity.UserAuthorization;\r\n",
                "\r\n",
                "CREATE TABLE [DbSecurity.UserAuthorization] (\r\n",
                "    UserAuthorizationKey INT NOT NULL PRIMARY KEY,\r\n",
                "    ClassTime nchar(5) NULL CHECK (ClassTime IN ('9:15')),\r\n",
                "    IndividualProject nvarchar(60) NULL DEFAULT N'PROJECT 2 RECREATE THE BICLASS DATABASE STAR SCHEMA',\r\n",
                "    GroupMemberLastName nvarchar(35) NOT NULL,\r\n",
                "    GroupMemberFirstName nvarchar(25) NOT NULL,\r\n",
                "    GroupName nvarchar(20) NOT NULL,\r\n",
                "    DateAdded datetime2 NULL DEFAULT SYSUTCDATETIME()\r\n",
                ");\r\n",
                ""
            ],
            "metadata": {
                "azdata_cell_guid": "e70f32fb-a2a1-4295-a84e-e56348ce4db6",
                "language": "sql"
            },
            "outputs": [
                {
                    "output_type": "error",
                    "evalue": "Msg 2714, Level 16, State 6, Line 4\r\nThere is already an object named 'DbSecurity.UserAuthorization' in the database.",
                    "ename": "",
                    "traceback": []
                },
                {
                    "output_type": "display_data",
                    "data": {
                        "text/html": "Total execution time: 00:00:00.012"
                    },
                    "metadata": {}
                }
            ],
            "execution_count": 10
        },
        {
            "cell_type": "code",
            "source": [
                "USE BIClass;\r\n",
                "SELECT *\r\n",
                "FROM [DbSecurity.UserAuthorization]\r\n",
                "\r\n",
                "USE BIClass;\r\n",
                "\r\n",
                "INSERT INTO [DbSecurity.UserAuthorization] (UserAuthorizationKey, ClassTime, GroupMemberLastName, GroupMemberFirstName, GroupName)\r\n",
                "VALUES \r\n",
                "(1, '9:15', 'Flores', 'Loyd', 'Group 3'),\r\n",
                "(2, '9:15', 'Mikhaylov', 'Roni', 'Group 3'),\r\n",
                "(3, '9:15', 'Shoeb', 'Jawwad', 'Group 3'),\r\n",
                "(4, '9:15', 'Hasan', 'Mohammed', 'Group 3'),\r\n",
                "(5, '9:15', 'Shah', 'Kishan', 'Group 3'),\r\n",
                "(6, '9:15', 'Chen', 'Zhihan', 'Group 3');\r\n",
                ""
            ],
            "metadata": {
                "language": "sql",
                "azdata_cell_guid": "5bd21a2e-e1f8-4add-9b96-72a6f2ab89de",
                "tags": []
            },
            "outputs": [
                {
                    "output_type": "display_data",
                    "data": {
                        "text/html": "(0 rows affected)"
                    },
                    "metadata": {}
                },
                {
                    "output_type": "display_data",
                    "data": {
                        "text/html": "(6 rows affected)"
                    },
                    "metadata": {}
                },
                {
                    "output_type": "display_data",
                    "data": {
                        "text/html": "Total execution time: 00:00:00.031"
                    },
                    "metadata": {}
                },
                {
                    "output_type": "execute_result",
                    "metadata": {},
                    "execution_count": 15,
                    "data": {
                        "application/vnd.dataresource+json": {
                            "schema": {
                                "fields": [
                                    {
                                        "name": "UserAuthorizationKey"
                                    },
                                    {
                                        "name": "ClassTime"
                                    },
                                    {
                                        "name": "IndividualProject"
                                    },
                                    {
                                        "name": "GroupMemberLastName"
                                    },
                                    {
                                        "name": "GroupMemberFirstName"
                                    },
                                    {
                                        "name": "GroupName"
                                    },
                                    {
                                        "name": "DateAdded"
                                    }
                                ]
                            },
                            "data": []
                        },
                        "text/html": [
                            "<table>",
                            "<tr><th>UserAuthorizationKey</th><th>ClassTime</th><th>IndividualProject</th><th>GroupMemberLastName</th><th>GroupMemberFirstName</th><th>GroupName</th><th>DateAdded</th></tr>",
                            "</table>"
                        ]
                    }
                }
            ],
            "execution_count": 15
        },
        {
            "cell_type": "code",
            "source": [
                "USE BIClass;\r\n",
                "SELECT * \r\n",
                "FROM [DbSecurity.UserAuthorization]\r\n",
                ""
            ],
            "metadata": {
                "language": "sql",
                "azdata_cell_guid": "9c2ddfb5-c860-4e68-b779-d1a65f7fcee3",
                "tags": []
            },
            "outputs": [
                {
                    "output_type": "display_data",
                    "data": {
                        "text/html": "(6 rows affected)"
                    },
                    "metadata": {}
                },
                {
                    "output_type": "display_data",
                    "data": {
                        "text/html": "Total execution time: 00:00:00.023"
                    },
                    "metadata": {}
                },
                {
                    "output_type": "execute_result",
                    "metadata": {},
                    "execution_count": 16,
                    "data": {
                        "application/vnd.dataresource+json": {
                            "schema": {
                                "fields": [
                                    {
                                        "name": "UserAuthorizationKey"
                                    },
                                    {
                                        "name": "ClassTime"
                                    },
                                    {
                                        "name": "IndividualProject"
                                    },
                                    {
                                        "name": "GroupMemberLastName"
                                    },
                                    {
                                        "name": "GroupMemberFirstName"
                                    },
                                    {
                                        "name": "GroupName"
                                    },
                                    {
                                        "name": "DateAdded"
                                    }
                                ]
                            },
                            "data": [
                                {
                                    "UserAuthorizationKey": "1",
                                    "ClassTime": "9:15 ",
                                    "IndividualProject": "PROJECT 2 RECREATE THE BICLASS DATABASE STAR SCHEMA",
                                    "GroupMemberLastName": "Flores",
                                    "GroupMemberFirstName": "Loyd",
                                    "GroupName": "Group 3",
                                    "DateAdded": "2023-11-08 04:19:17.4269868"
                                },
                                {
                                    "UserAuthorizationKey": "2",
                                    "ClassTime": "9:15 ",
                                    "IndividualProject": "PROJECT 2 RECREATE THE BICLASS DATABASE STAR SCHEMA",
                                    "GroupMemberLastName": "Mikhaylov",
                                    "GroupMemberFirstName": "Roni",
                                    "GroupName": "Group 3",
                                    "DateAdded": "2023-11-08 04:19:17.4269868"
                                },
                                {
                                    "UserAuthorizationKey": "3",
                                    "ClassTime": "9:15 ",
                                    "IndividualProject": "PROJECT 2 RECREATE THE BICLASS DATABASE STAR SCHEMA",
                                    "GroupMemberLastName": "Shoeb",
                                    "GroupMemberFirstName": "Jawwad",
                                    "GroupName": "Group 3",
                                    "DateAdded": "2023-11-08 04:19:17.4269868"
                                },
                                {
                                    "UserAuthorizationKey": "4",
                                    "ClassTime": "9:15 ",
                                    "IndividualProject": "PROJECT 2 RECREATE THE BICLASS DATABASE STAR SCHEMA",
                                    "GroupMemberLastName": "Hasan",
                                    "GroupMemberFirstName": "Mohammed",
                                    "GroupName": "Group 3",
                                    "DateAdded": "2023-11-08 04:19:17.4269868"
                                },
                                {
                                    "UserAuthorizationKey": "5",
                                    "ClassTime": "9:15 ",
                                    "IndividualProject": "PROJECT 2 RECREATE THE BICLASS DATABASE STAR SCHEMA",
                                    "GroupMemberLastName": "Shah",
                                    "GroupMemberFirstName": "Kishan",
                                    "GroupName": "Group 3",
                                    "DateAdded": "2023-11-08 04:19:17.4269868"
                                },
                                {
                                    "UserAuthorizationKey": "6",
                                    "ClassTime": "9:15 ",
                                    "IndividualProject": "PROJECT 2 RECREATE THE BICLASS DATABASE STAR SCHEMA",
                                    "GroupMemberLastName": "Chen",
                                    "GroupMemberFirstName": "Zhihan",
                                    "GroupName": "Group 3",
                                    "DateAdded": "2023-11-08 04:19:17.4269868"
                                }
                            ]
                        },
                        "text/html": [
                            "<table>",
                            "<tr><th>UserAuthorizationKey</th><th>ClassTime</th><th>IndividualProject</th><th>GroupMemberLastName</th><th>GroupMemberFirstName</th><th>GroupName</th><th>DateAdded</th></tr>",
                            "<tr><td>1</td><td>9:15 </td><td>PROJECT 2 RECREATE THE BICLASS DATABASE STAR SCHEMA</td><td>Flores</td><td>Loyd</td><td>Group 3</td><td>2023-11-08 04:19:17.4269868</td></tr>",
                            "<tr><td>2</td><td>9:15 </td><td>PROJECT 2 RECREATE THE BICLASS DATABASE STAR SCHEMA</td><td>Mikhaylov</td><td>Roni</td><td>Group 3</td><td>2023-11-08 04:19:17.4269868</td></tr>",
                            "<tr><td>3</td><td>9:15 </td><td>PROJECT 2 RECREATE THE BICLASS DATABASE STAR SCHEMA</td><td>Shoeb</td><td>Jawwad</td><td>Group 3</td><td>2023-11-08 04:19:17.4269868</td></tr>",
                            "<tr><td>4</td><td>9:15 </td><td>PROJECT 2 RECREATE THE BICLASS DATABASE STAR SCHEMA</td><td>Hasan</td><td>Mohammed</td><td>Group 3</td><td>2023-11-08 04:19:17.4269868</td></tr>",
                            "<tr><td>5</td><td>9:15 </td><td>PROJECT 2 RECREATE THE BICLASS DATABASE STAR SCHEMA</td><td>Shah</td><td>Kishan</td><td>Group 3</td><td>2023-11-08 04:19:17.4269868</td></tr>",
                            "<tr><td>6</td><td>9:15 </td><td>PROJECT 2 RECREATE THE BICLASS DATABASE STAR SCHEMA</td><td>Chen</td><td>Zhihan</td><td>Group 3</td><td>2023-11-08 04:19:17.4269868</td></tr>",
                            "</table>"
                        ]
                    }
                }
            ],
            "execution_count": 16
        }
    ]
}