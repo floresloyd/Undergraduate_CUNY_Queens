{
    "metadata": {
        "kernelspec": {
            "name": "SQL",
            "display_name": "SQL",
            "language": "sql"
        },
        "language_info": {
            "name": "sql",
            "version": ""
        }
    },
    "nbformat_minor": 2,
    "nbformat": 4,
    "cells": [
        {
            "cell_type": "markdown",
            "source": [
                "Table to be Normalized DataTransfer.Sales2015"
            ],
            "metadata": {
                "azdata_cell_guid": "908b443e-e7e4-48c9-adc6-1ee43be81f5a",
                "language": ""
            },
            "attachments": {}
        },
        {
            "cell_type": "code",
            "source": [
                "USE PrestigeCars;\r\n",
                "SELECT *\r\n",
                "FROM DataTransfer.Sales2015"
            ],
            "metadata": {
                "azdata_cell_guid": "21328b73-b334-453b-a8fb-ad7f3fcf6e46",
                "language": "sql"
            },
            "outputs": [
                {
                    "output_type": "display_data",
                    "data": {
                        "text/html": "(28 rows affected)"
                    },
                    "metadata": {}
                },
                {
                    "output_type": "display_data",
                    "data": {
                        "text/html": "Total execution time: 00:00:00.016"
                    },
                    "metadata": {}
                },
                {
                    "output_type": "execute_result",
                    "metadata": {},
                    "execution_count": 2,
                    "data": {
                        "application/vnd.dataresource+json": {
                            "schema": {
                                "fields": [
                                    {
                                        "name": "MakeName"
                                    },
                                    {
                                        "name": "ModelName"
                                    },
                                    {
                                        "name": "CustomerName"
                                    },
                                    {
                                        "name": "CountryName"
                                    },
                                    {
                                        "name": "Cost"
                                    },
                                    {
                                        "name": "RepairsCost"
                                    },
                                    {
                                        "name": "PartsCost"
                                    },
                                    {
                                        "name": "TransportInCost"
                                    },
                                    {
                                        "name": "SalePrice"
                                    },
                                    {
                                        "name": "SaleDate"
                                    }
                                ]
                            },
                            "data": [
                                {
                                    "MakeName": "Ferrari",
                                    "ModelName": "Testarossa",
                                    "CustomerName": "Magic Motors",
                                    "CountryName": "United Kingdom",
                                    "Cost": "52000.00",
                                    "RepairsCost": "2175.00",
                                    "PartsCost": "1500.00",
                                    "TransportInCost": "750.00",
                                    "SalePrice": "65000.00",
                                    "SaleDate": "2015-01-02 00:00:00.000"
                                },
                                {
                                    "MakeName": "Ferrari",
                                    "ModelName": "355",
                                    "CustomerName": "Snazzy Roadsters",
                                    "CountryName": "United Kingdom",
                                    "Cost": "176000.00",
                                    "RepairsCost": "5500.00",
                                    "PartsCost": "2200.00",
                                    "TransportInCost": "1950.00",
                                    "SalePrice": "220000.00",
                                    "SaleDate": "2015-01-25 00:00:00.000"
                                },
                                {
                                    "MakeName": "Ferrari",
                                    "ModelName": "355",
                                    "CustomerName": "London Executive Prestige Vehicles",
                                    "CountryName": "United Kingdom",
                                    "Cost": "135600.00",
                                    "RepairsCost": "5500.00",
                                    "PartsCost": "2200.00",
                                    "TransportInCost": "1950.00",
                                    "SalePrice": "169500.00",
                                    "SaleDate": "2015-05-10 00:00:00.000"
                                },
                                {
                                    "MakeName": "Ferrari",
                                    "ModelName": "Testarossa",
                                    "CustomerName": "Glittering Prize Cars Ltd",
                                    "CountryName": "United Kingdom",
                                    "Cost": "156000.00",
                                    "RepairsCost": "6000.00",
                                    "PartsCost": "1500.00",
                                    "TransportInCost": "1950.00",
                                    "SalePrice": "195000.00",
                                    "SaleDate": "2015-05-28 00:00:00.000"
                                },
                                {
                                    "MakeName": "Porsche",
                                    "ModelName": "944",
                                    "CustomerName": "Casseroles Chromes",
                                    "CountryName": "France",
                                    "Cost": "15960.00",
                                    "RepairsCost": "1360.00",
                                    "PartsCost": "500.00",
                                    "TransportInCost": "150.00",
                                    "SalePrice": "19950.00",
                                    "SaleDate": "2015-02-28 00:00:00.000"
                                },
                                {
                                    "MakeName": "Porsche",
                                    "ModelName": "911",
                                    "CustomerName": "M. Pierre Dubois",
                                    "CountryName": "France",
                                    "Cost": "15680.00",
                                    "RepairsCost": "890.00",
                                    "PartsCost": "500.00",
                                    "TransportInCost": "150.00",
                                    "SalePrice": "19600.00",
                                    "SaleDate": "2015-04-06 00:00:00.000"
                                },
                                {
                                    "MakeName": "Porsche",
                                    "ModelName": "944",
                                    "CustomerName": "M. Pierre Dubois",
                                    "CountryName": "France",
                                    "Cost": "7160.00",
                                    "RepairsCost": "500.00",
                                    "PartsCost": "750.00",
                                    "TransportInCost": "150.00",
                                    "SalePrice": "8950.00",
                                    "SaleDate": "2015-05-20 00:00:00.000"
                                },
                                {
                                    "MakeName": "Porsche",
                                    "ModelName": "924",
                                    "CustomerName": "WunderKar",
                                    "CountryName": "Germany",
                                    "Cost": "9200.00",
                                    "RepairsCost": "500.00",
                                    "PartsCost": "750.00",
                                    "TransportInCost": "150.00",
                                    "SalePrice": "11500.00",
                                    "SaleDate": "2015-02-16 00:00:00.000"
                                },
                                {
                                    "MakeName": "Porsche",
                                    "ModelName": "911",
                                    "CustomerName": "Birmingham Executive Prestige Vehicles",
                                    "CountryName": "United Kingdom",
                                    "Cost": "15600.00",
                                    "RepairsCost": "660.00",
                                    "PartsCost": "500.00",
                                    "TransportInCost": "150.00",
                                    "SalePrice": "19500.00",
                                    "SaleDate": "2015-02-03 00:00:00.000"
                                },
                                {
                                    "MakeName": "Porsche",
                                    "ModelName": "924",
                                    "CustomerName": "Posh Vehicles Ltd",
                                    "CountryName": "United Kingdom",
                                    "Cost": "7160.00",
                                    "RepairsCost": "360.00",
                                    "PartsCost": "750.00",
                                    "TransportInCost": "150.00",
                                    "SalePrice": "8950.00",
                                    "SaleDate": "2015-09-15 00:00:00.000"
                                },
                                {
                                    "MakeName": "Porsche",
                                    "ModelName": "944",
                                    "CustomerName": "Wonderland Wheels",
                                    "CountryName": "United Kingdom",
                                    "Cost": "6800.00",
                                    "RepairsCost": "250.00",
                                    "PartsCost": "750.00",
                                    "TransportInCost": "150.00",
                                    "SalePrice": "8500.00",
                                    "SaleDate": "2015-04-30 00:00:00.000"
                                },
                                {
                                    "MakeName": "Porsche",
                                    "ModelName": "911",
                                    "CustomerName": "Convertible Dreams",
                                    "CountryName": "United Kingdom",
                                    "Cost": "18360.00",
                                    "RepairsCost": "500.00",
                                    "PartsCost": "750.00",
                                    "TransportInCost": "150.00",
                                    "SalePrice": "22950.00",
                                    "SaleDate": "2015-11-10 00:00:00.000"
                                },
                                {
                                    "MakeName": "Aston Martin",
                                    "ModelName": "DB6",
                                    "CustomerName": "SuperSport S.A.R.L.",
                                    "CountryName": "France",
                                    "Cost": "44800.00",
                                    "RepairsCost": "1785.00",
                                    "PartsCost": "500.00",
                                    "TransportInCost": "550.00",
                                    "SalePrice": "56000.00",
                                    "SaleDate": "2015-07-25 00:00:00.000"
                                },
                                {
                                    "MakeName": "Aston Martin",
                                    "ModelName": "DB4",
                                    "CustomerName": "Magic Motors",
                                    "CountryName": "United Kingdom",
                                    "Cost": "23600.00",
                                    "RepairsCost": "500.00",
                                    "PartsCost": "750.00",
                                    "TransportInCost": "150.00",
                                    "SalePrice": "29500.00",
                                    "SaleDate": "2015-03-14 00:00:00.000"
                                },
                                {
                                    "MakeName": "Aston Martin",
                                    "ModelName": "DB5",
                                    "CustomerName": "Birmingham Executive Prestige Vehicles",
                                    "CountryName": "United Kingdom",
                                    "Cost": "39600.00",
                                    "RepairsCost": "2500.00",
                                    "PartsCost": "1500.00",
                                    "TransportInCost": "550.00",
                                    "SalePrice": "49500.00",
                                    "SaleDate": "2015-03-24 00:00:00.000"
                                },
                                {
                                    "MakeName": "Aston Martin",
                                    "ModelName": "DB6",
                                    "CustomerName": "Eat My Exhaust Ltd",
                                    "CountryName": "United Kingdom",
                                    "Cost": "60800.00",
                                    "RepairsCost": "3250.00",
                                    "PartsCost": "750.00",
                                    "TransportInCost": "750.00",
                                    "SalePrice": "76000.00",
                                    "SaleDate": "2015-03-30 00:00:00.000"
                                },
                                {
                                    "MakeName": "Aston Martin",
                                    "ModelName": "DB6",
                                    "CustomerName": "Alexei Tolstoi",
                                    "CountryName": "United Kingdom",
                                    "Cost": "55600.00",
                                    "RepairsCost": "1490.00",
                                    "PartsCost": "1500.00",
                                    "TransportInCost": "750.00",
                                    "SalePrice": "69500.00",
                                    "SaleDate": "2015-12-01 00:00:00.000"
                                },
                                {
                                    "MakeName": "Aston Martin",
                                    "ModelName": "DB5",
                                    "CustomerName": "Sondra Horowitz",
                                    "CountryName": "United States",
                                    "Cost": "29200.00",
                                    "RepairsCost": "1950.00",
                                    "PartsCost": "500.00",
                                    "TransportInCost": "550.00",
                                    "SalePrice": "36500.00",
                                    "SaleDate": "2015-04-04 00:00:00.000"
                                },
                                {
                                    "MakeName": "Aston Martin",
                                    "ModelName": "Virage",
                                    "CustomerName": "Theo Kowalski",
                                    "CountryName": "United States",
                                    "Cost": "98872.00",
                                    "RepairsCost": "2175.00",
                                    "PartsCost": "2200.00",
                                    "TransportInCost": "750.00",
                                    "SalePrice": "123590.00",
                                    "SaleDate": "2015-10-30 00:00:00.000"
                                },
                                {
                                    "MakeName": "Bentley",
                                    "ModelName": "Flying Spur",
                                    "CustomerName": "Wonderland Wheels",
                                    "CountryName": "United Kingdom",
                                    "Cost": "64400.00",
                                    "RepairsCost": "500.00",
                                    "PartsCost": "750.00",
                                    "TransportInCost": "750.00",
                                    "SalePrice": "80500.00",
                                    "SaleDate": "2015-04-30 00:00:00.000"
                                },
                                {
                                    "MakeName": "Mercedes",
                                    "ModelName": "280SL",
                                    "CustomerName": "La Bagnole de Luxe",
                                    "CountryName": "France",
                                    "Cost": "18360.00",
                                    "RepairsCost": "550.00",
                                    "PartsCost": "500.00",
                                    "TransportInCost": "150.00",
                                    "SalePrice": "22950.00",
                                    "SaleDate": "2015-06-04 00:00:00.000"
                                },
                                {
                                    "MakeName": "Alfa Romeo",
                                    "ModelName": "Giulia",
                                    "CustomerName": "Convertible Dreams",
                                    "CountryName": "United Kingdom",
                                    "Cost": "6956.00",
                                    "RepairsCost": "400.00",
                                    "PartsCost": "750.00",
                                    "TransportInCost": "150.00",
                                    "SalePrice": "8695.00",
                                    "SaleDate": "2015-07-12 00:00:00.000"
                                },
                                {
                                    "MakeName": "Jaguar",
                                    "ModelName": "XJS",
                                    "CustomerName": "SuperSport S.A.R.L.",
                                    "CountryName": "France",
                                    "Cost": "15600.00",
                                    "RepairsCost": "290.00",
                                    "PartsCost": "750.00",
                                    "TransportInCost": "150.00",
                                    "SalePrice": "19500.00",
                                    "SaleDate": "2015-07-25 00:00:00.000"
                                },
                                {
                                    "MakeName": "Jaguar",
                                    "ModelName": "XK150",
                                    "CustomerName": "Alexei Tolstoi",
                                    "CountryName": "United Kingdom",
                                    "Cost": "18392.00",
                                    "RepairsCost": "390.00",
                                    "PartsCost": "750.00",
                                    "TransportInCost": "150.00",
                                    "SalePrice": "22990.00",
                                    "SaleDate": "2015-07-15 00:00:00.000"
                                },
                                {
                                    "MakeName": "Jaguar",
                                    "ModelName": "XJS",
                                    "CustomerName": "Alexei Tolstoi",
                                    "CountryName": "United Kingdom",
                                    "Cost": "18080.00",
                                    "RepairsCost": "660.00",
                                    "PartsCost": "750.00",
                                    "TransportInCost": "150.00",
                                    "SalePrice": "22600.00",
                                    "SaleDate": "2015-10-30 00:00:00.000"
                                },
                                {
                                    "MakeName": "Jaguar",
                                    "ModelName": "XK120",
                                    "CustomerName": "Peter McLuckie",
                                    "CountryName": "United Kingdom",
                                    "Cost": "12480.00",
                                    "RepairsCost": "1100.00",
                                    "PartsCost": "500.00",
                                    "TransportInCost": "150.00",
                                    "SalePrice": "15600.00",
                                    "SaleDate": "2015-09-15 00:00:00.000"
                                },
                                {
                                    "MakeName": "Triumph",
                                    "ModelName": "TR5",
                                    "CustomerName": "Peter McLuckie",
                                    "CountryName": "United Kingdom",
                                    "Cost": "10120.00",
                                    "RepairsCost": "320.00",
                                    "PartsCost": "750.00",
                                    "TransportInCost": "150.00",
                                    "SalePrice": "12650.00",
                                    "SaleDate": "2015-09-05 00:00:00.000"
                                },
                                {
                                    "MakeName": "Triumph",
                                    "ModelName": "TR4",
                                    "CustomerName": "Theo Kowalski",
                                    "CountryName": "United States",
                                    "Cost": "4400.00",
                                    "RepairsCost": "500.00",
                                    "PartsCost": "750.00",
                                    "TransportInCost": "150.00",
                                    "SalePrice": "5500.00",
                                    "SaleDate": "2015-08-02 00:00:00.000"
                                }
                            ]
                        },
                        "text/html": [
                            "<table>",
                            "<tr><th>MakeName</th><th>ModelName</th><th>CustomerName</th><th>CountryName</th><th>Cost</th><th>RepairsCost</th><th>PartsCost</th><th>TransportInCost</th><th>SalePrice</th><th>SaleDate</th></tr>",
                            "<tr><td>Ferrari</td><td>Testarossa</td><td>Magic Motors</td><td>United Kingdom</td><td>52000.00</td><td>2175.00</td><td>1500.00</td><td>750.00</td><td>65000.00</td><td>2015-01-02 00:00:00.000</td></tr>",
                            "<tr><td>Ferrari</td><td>355</td><td>Snazzy Roadsters</td><td>United Kingdom</td><td>176000.00</td><td>5500.00</td><td>2200.00</td><td>1950.00</td><td>220000.00</td><td>2015-01-25 00:00:00.000</td></tr>",
                            "<tr><td>Ferrari</td><td>355</td><td>London Executive Prestige Vehicles</td><td>United Kingdom</td><td>135600.00</td><td>5500.00</td><td>2200.00</td><td>1950.00</td><td>169500.00</td><td>2015-05-10 00:00:00.000</td></tr>",
                            "<tr><td>Ferrari</td><td>Testarossa</td><td>Glittering Prize Cars Ltd</td><td>United Kingdom</td><td>156000.00</td><td>6000.00</td><td>1500.00</td><td>1950.00</td><td>195000.00</td><td>2015-05-28 00:00:00.000</td></tr>",
                            "<tr><td>Porsche</td><td>944</td><td>Casseroles Chromes</td><td>France</td><td>15960.00</td><td>1360.00</td><td>500.00</td><td>150.00</td><td>19950.00</td><td>2015-02-28 00:00:00.000</td></tr>",
                            "<tr><td>Porsche</td><td>911</td><td>M. Pierre Dubois</td><td>France</td><td>15680.00</td><td>890.00</td><td>500.00</td><td>150.00</td><td>19600.00</td><td>2015-04-06 00:00:00.000</td></tr>",
                            "<tr><td>Porsche</td><td>944</td><td>M. Pierre Dubois</td><td>France</td><td>7160.00</td><td>500.00</td><td>750.00</td><td>150.00</td><td>8950.00</td><td>2015-05-20 00:00:00.000</td></tr>",
                            "<tr><td>Porsche</td><td>924</td><td>WunderKar</td><td>Germany</td><td>9200.00</td><td>500.00</td><td>750.00</td><td>150.00</td><td>11500.00</td><td>2015-02-16 00:00:00.000</td></tr>",
                            "<tr><td>Porsche</td><td>911</td><td>Birmingham Executive Prestige Vehicles</td><td>United Kingdom</td><td>15600.00</td><td>660.00</td><td>500.00</td><td>150.00</td><td>19500.00</td><td>2015-02-03 00:00:00.000</td></tr>",
                            "<tr><td>Porsche</td><td>924</td><td>Posh Vehicles Ltd</td><td>United Kingdom</td><td>7160.00</td><td>360.00</td><td>750.00</td><td>150.00</td><td>8950.00</td><td>2015-09-15 00:00:00.000</td></tr>",
                            "<tr><td>Porsche</td><td>944</td><td>Wonderland Wheels</td><td>United Kingdom</td><td>6800.00</td><td>250.00</td><td>750.00</td><td>150.00</td><td>8500.00</td><td>2015-04-30 00:00:00.000</td></tr>",
                            "<tr><td>Porsche</td><td>911</td><td>Convertible Dreams</td><td>United Kingdom</td><td>18360.00</td><td>500.00</td><td>750.00</td><td>150.00</td><td>22950.00</td><td>2015-11-10 00:00:00.000</td></tr>",
                            "<tr><td>Aston Martin</td><td>DB6</td><td>SuperSport S.A.R.L.</td><td>France</td><td>44800.00</td><td>1785.00</td><td>500.00</td><td>550.00</td><td>56000.00</td><td>2015-07-25 00:00:00.000</td></tr>",
                            "<tr><td>Aston Martin</td><td>DB4</td><td>Magic Motors</td><td>United Kingdom</td><td>23600.00</td><td>500.00</td><td>750.00</td><td>150.00</td><td>29500.00</td><td>2015-03-14 00:00:00.000</td></tr>",
                            "<tr><td>Aston Martin</td><td>DB5</td><td>Birmingham Executive Prestige Vehicles</td><td>United Kingdom</td><td>39600.00</td><td>2500.00</td><td>1500.00</td><td>550.00</td><td>49500.00</td><td>2015-03-24 00:00:00.000</td></tr>",
                            "<tr><td>Aston Martin</td><td>DB6</td><td>Eat My Exhaust Ltd</td><td>United Kingdom</td><td>60800.00</td><td>3250.00</td><td>750.00</td><td>750.00</td><td>76000.00</td><td>2015-03-30 00:00:00.000</td></tr>",
                            "<tr><td>Aston Martin</td><td>DB6</td><td>Alexei Tolstoi</td><td>United Kingdom</td><td>55600.00</td><td>1490.00</td><td>1500.00</td><td>750.00</td><td>69500.00</td><td>2015-12-01 00:00:00.000</td></tr>",
                            "<tr><td>Aston Martin</td><td>DB5</td><td>Sondra Horowitz</td><td>United States</td><td>29200.00</td><td>1950.00</td><td>500.00</td><td>550.00</td><td>36500.00</td><td>2015-04-04 00:00:00.000</td></tr>",
                            "<tr><td>Aston Martin</td><td>Virage</td><td>Theo Kowalski</td><td>United States</td><td>98872.00</td><td>2175.00</td><td>2200.00</td><td>750.00</td><td>123590.00</td><td>2015-10-30 00:00:00.000</td></tr>",
                            "<tr><td>Bentley</td><td>Flying Spur</td><td>Wonderland Wheels</td><td>United Kingdom</td><td>64400.00</td><td>500.00</td><td>750.00</td><td>750.00</td><td>80500.00</td><td>2015-04-30 00:00:00.000</td></tr>",
                            "<tr><td>Mercedes</td><td>280SL</td><td>La Bagnole de Luxe</td><td>France</td><td>18360.00</td><td>550.00</td><td>500.00</td><td>150.00</td><td>22950.00</td><td>2015-06-04 00:00:00.000</td></tr>",
                            "<tr><td>Alfa Romeo</td><td>Giulia</td><td>Convertible Dreams</td><td>United Kingdom</td><td>6956.00</td><td>400.00</td><td>750.00</td><td>150.00</td><td>8695.00</td><td>2015-07-12 00:00:00.000</td></tr>",
                            "<tr><td>Jaguar</td><td>XJS</td><td>SuperSport S.A.R.L.</td><td>France</td><td>15600.00</td><td>290.00</td><td>750.00</td><td>150.00</td><td>19500.00</td><td>2015-07-25 00:00:00.000</td></tr>",
                            "<tr><td>Jaguar</td><td>XK150</td><td>Alexei Tolstoi</td><td>United Kingdom</td><td>18392.00</td><td>390.00</td><td>750.00</td><td>150.00</td><td>22990.00</td><td>2015-07-15 00:00:00.000</td></tr>",
                            "<tr><td>Jaguar</td><td>XJS</td><td>Alexei Tolstoi</td><td>United Kingdom</td><td>18080.00</td><td>660.00</td><td>750.00</td><td>150.00</td><td>22600.00</td><td>2015-10-30 00:00:00.000</td></tr>",
                            "<tr><td>Jaguar</td><td>XK120</td><td>Peter McLuckie</td><td>United Kingdom</td><td>12480.00</td><td>1100.00</td><td>500.00</td><td>150.00</td><td>15600.00</td><td>2015-09-15 00:00:00.000</td></tr>",
                            "<tr><td>Triumph</td><td>TR5</td><td>Peter McLuckie</td><td>United Kingdom</td><td>10120.00</td><td>320.00</td><td>750.00</td><td>150.00</td><td>12650.00</td><td>2015-09-05 00:00:00.000</td></tr>",
                            "<tr><td>Triumph</td><td>TR4</td><td>Theo Kowalski</td><td>United States</td><td>4400.00</td><td>500.00</td><td>750.00</td><td>150.00</td><td>5500.00</td><td>2015-08-02 00:00:00.000</td></tr>",
                            "</table>"
                        ]
                    }
                }
            ],
            "execution_count": 2
        },
        {
            "cell_type": "markdown",
            "source": [
                "NORMALIZE SCRIPT"
            ],
            "metadata": {
                "azdata_cell_guid": "f9614caa-3221-4dd0-8ee3-46cd8119f734"
            },
            "attachments": {}
        },
        {
            "cell_type": "code",
            "source": [
                "-- Define UDTs\r\n",
                "CREATE TYPE [Udt].MakeName AS VARCHAR(255);\r\n",
                "CREATE TYPE [Udt].ModelName AS VARCHAR(255);\r\n",
                "CREATE TYPE [Udt].CustomerName AS VARCHAR(255);\r\n",
                "CREATE TYPE [Udt].CountryName AS VARCHAR(255);\r\n",
                "CREATE TYPE [Udt].Cost AS DECIMAL(10, 2);\r\n",
                "CREATE TYPE [Udt].SalePrice AS DECIMAL(10, 2);\r\n",
                "CREATE TYPE [Udt].SaleDate AS DATETIME;\r\n",
                "CREATE TYPE [Udt].[SurrogateKeyInt] FROM INT NULL;\r\n",
                "\r\n",
                "-- Create Group3_MakesModels2015 Table\r\n",
                "CREATE TABLE Group3_MakesModels2015 (\r\n",
                "    MakeModelID [Udt].[SurrogateKeyInt] PRIMARY KEY IDENTITY(1,1),\r\n",
                "    MakeName [Udt].MakeName,\r\n",
                "    ModelName [Udt].ModelName\r\n",
                ");\r\n",
                "\r\n",
                "-- Create Group3_Customers2015 Table\r\n",
                "CREATE TABLE Group3_Customers2015 (\r\n",
                "    CustomerID [Udt].[SurrogateKeyInt] PRIMARY KEY IDENTITY(1,1),\r\n",
                "    CustomerName [Udt].CustomerName\r\n",
                ");\r\n",
                "\r\n",
                "-- Create Group3_Countries2015 Table\r\n",
                "CREATE TABLE Group3_Countries2015 (\r\n",
                "    CountryID [Udt].[SurrogateKeyInt] PRIMARY KEY IDENTITY(1,1),\r\n",
                "    CountryName [Udt].CountryName\r\n",
                ");\r\n",
                "\r\n",
                "-- Create Group3_Sales2015 Table\r\n",
                "CREATE TABLE Group3_Sales2015 (\r\n",
                "    SaleID [Udt].[SurrogateKeyInt] PRIMARY KEY IDENTITY(1,1),\r\n",
                "    MakeModelID [Udt].[SurrogateKeyInt],\r\n",
                "    CustomerID [Udt].[SurrogateKeyInt],\r\n",
                "    CountryID [Udt].[SurrogateKeyInt],\r\n",
                "    SalePrice [Udt].SalePrice,\r\n",
                "    SaleDate [Udt].SaleDate,\r\n",
                "    FOREIGN KEY (MakeModelID) REFERENCES Group3_MakesModels2015(MakeModelID),\r\n",
                "    FOREIGN KEY (CustomerID) REFERENCES Group3_Customers2015(CustomerID),\r\n",
                "    FOREIGN KEY (CountryID) REFERENCES Group3_Countries2015(CountryID)\r\n",
                ");\r\n",
                "\r\n",
                "-- Create Group3_Costs2015 Table\r\n",
                "CREATE TABLE Group3_Costs2015 (\r\n",
                "    CostID [Udt].[SurrogateKeyInt] PRIMARY KEY IDENTITY(1,1),\r\n",
                "    SaleID [Udt].[SurrogateKeyInt],\r\n",
                "    Cost [Udt].Cost,\r\n",
                "    RepairsCost [Udt].Cost,\r\n",
                "    PartsCost [Udt].Cost,\r\n",
                "    TransportInCost [Udt].Cost,\r\n",
                "    FOREIGN KEY (SaleID) REFERENCES Group3_Sales2015(SaleID)\r\n",
                ");\r\n",
                ""
            ],
            "metadata": {
                "azdata_cell_guid": "334328a5-92a5-4c72-b17e-757b7511e4bd",
                "language": "sql"
            },
            "outputs": [],
            "execution_count": null
        }
    ]
}