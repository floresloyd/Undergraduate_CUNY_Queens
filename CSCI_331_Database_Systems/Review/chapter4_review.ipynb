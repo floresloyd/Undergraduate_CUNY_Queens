{
    "metadata": {
        "kernelspec": {
            "name": "SQL",
            "display_name": "SQL",
            "language": "sql"
        },
        "language_info": {
            "name": "sql",
            "version": ""
        }
    },
    "nbformat_minor": 2,
    "nbformat": 4,
    "cells": [
        {
            "cell_type": "markdown",
            "source": [
                "```\n",
                "-- 1 \n",
                "-- Write a query that returns all orders placed on the last day of\n",
                "-- activity that can be found in the Orders table\n",
                "-- Tables involved: TSQLV4 database, Orders table\n",
                "```"
            ],
            "metadata": {
                "azdata_cell_guid": "d0623218-4dc6-42e4-8c12-a3811111e6d6"
            },
            "attachments": {}
        },
        {
            "cell_type": "code",
            "source": [
                "USE TSQLV4\r\n",
                "SELECT o.orderid, o.orderdate, o.custid, o.empid\r\n",
                "FROM Sales.Orders as O \r\n",
                "WHERE orderdate = (SELECT MAX(O2.Orderdate)\r\n",
                "                    FROM sales.Orders as O2)\r\n",
                "ORDER BY empid"
            ],
            "metadata": {
                "azdata_cell_guid": "7cee9686-9d18-4d12-8082-9b6583b74618",
                "language": "sql"
            },
            "outputs": [
                {
                    "output_type": "display_data",
                    "data": {
                        "text/html": "(4 rows affected)"
                    },
                    "metadata": {}
                },
                {
                    "output_type": "display_data",
                    "data": {
                        "text/html": "Total execution time: 00:00:00.031"
                    },
                    "metadata": {}
                },
                {
                    "output_type": "execute_result",
                    "metadata": {},
                    "execution_count": 5,
                    "data": {
                        "application/vnd.dataresource+json": {
                            "schema": {
                                "fields": [
                                    {
                                        "name": "orderid"
                                    },
                                    {
                                        "name": "orderdate"
                                    },
                                    {
                                        "name": "custid"
                                    },
                                    {
                                        "name": "empid"
                                    }
                                ]
                            },
                            "data": [
                                {
                                    "orderid": "11077",
                                    "orderdate": "2016-05-06",
                                    "custid": "65",
                                    "empid": "1"
                                },
                                {
                                    "orderid": "11076",
                                    "orderdate": "2016-05-06",
                                    "custid": "9",
                                    "empid": "4"
                                },
                                {
                                    "orderid": "11074",
                                    "orderdate": "2016-05-06",
                                    "custid": "73",
                                    "empid": "7"
                                },
                                {
                                    "orderid": "11075",
                                    "orderdate": "2016-05-06",
                                    "custid": "68",
                                    "empid": "8"
                                }
                            ]
                        },
                        "text/html": [
                            "<table>",
                            "<tr><th>orderid</th><th>orderdate</th><th>custid</th><th>empid</th></tr>",
                            "<tr><td>11077</td><td>2016-05-06</td><td>65</td><td>1</td></tr>",
                            "<tr><td>11076</td><td>2016-05-06</td><td>9</td><td>4</td></tr>",
                            "<tr><td>11074</td><td>2016-05-06</td><td>73</td><td>7</td></tr>",
                            "<tr><td>11075</td><td>2016-05-06</td><td>68</td><td>8</td></tr>",
                            "</table>"
                        ]
                    }
                }
            ],
            "execution_count": 5
        },
        {
            "cell_type": "markdown",
            "source": [
                "```\n",
                "-- 2 (Optional, Advanced)\n",
                "-- Write a query that returns all orders placed\n",
                "-- by the customer(s) who placed the highest number of orders\n",
                "-- * Note: there may be more than one customer\n",
                "--   with the same number of orders\n",
                "-- Tables involved: TSQLV4 database, Orders table\n",
                "```"
            ],
            "metadata": {
                "language": "sql",
                "azdata_cell_guid": "d3790136-ed65-488e-9ae6-9918cf1e6613"
            },
            "attachments": {}
        },
        {
            "cell_type": "code",
            "source": [
                "USE TSQLV4\r\n",
                "SELECT custid, orderid, orderdate, empid\r\n",
                "FROM SALES.Orders\r\n",
                "WHERE custid = (SELECT TOP (1) WITH TIES O.custid\r\n",
                "                FROM sales.Orders AS O\r\n",
                "                GROUP BY o.custid\r\n",
                "                ORDER BY COUNT(*) DESC)"
            ],
            "metadata": {
                "language": "sql",
                "azdata_cell_guid": "bb0f2c01-0bd1-4e53-9fd8-13540ed9d2a2",
                "tags": []
            },
            "outputs": [
                {
                    "output_type": "display_data",
                    "data": {
                        "text/html": "(31 rows affected)"
                    },
                    "metadata": {}
                },
                {
                    "output_type": "display_data",
                    "data": {
                        "text/html": "Total execution time: 00:00:00.043"
                    },
                    "metadata": {}
                },
                {
                    "output_type": "execute_result",
                    "metadata": {},
                    "execution_count": 17,
                    "data": {
                        "application/vnd.dataresource+json": {
                            "schema": {
                                "fields": [
                                    {
                                        "name": "custid"
                                    },
                                    {
                                        "name": "orderid"
                                    },
                                    {
                                        "name": "orderdate"
                                    },
                                    {
                                        "name": "empid"
                                    }
                                ]
                            },
                            "data": [
                                {
                                    "custid": "71",
                                    "orderid": "10324",
                                    "orderdate": "2014-10-08",
                                    "empid": "9"
                                },
                                {
                                    "custid": "71",
                                    "orderid": "10393",
                                    "orderdate": "2014-12-25",
                                    "empid": "1"
                                },
                                {
                                    "custid": "71",
                                    "orderid": "10398",
                                    "orderdate": "2014-12-30",
                                    "empid": "2"
                                },
                                {
                                    "custid": "71",
                                    "orderid": "10440",
                                    "orderdate": "2015-02-10",
                                    "empid": "4"
                                },
                                {
                                    "custid": "71",
                                    "orderid": "10452",
                                    "orderdate": "2015-02-20",
                                    "empid": "8"
                                },
                                {
                                    "custid": "71",
                                    "orderid": "10510",
                                    "orderdate": "2015-04-18",
                                    "empid": "6"
                                },
                                {
                                    "custid": "71",
                                    "orderid": "10555",
                                    "orderdate": "2015-06-02",
                                    "empid": "6"
                                },
                                {
                                    "custid": "71",
                                    "orderid": "10603",
                                    "orderdate": "2015-07-18",
                                    "empid": "8"
                                },
                                {
                                    "custid": "71",
                                    "orderid": "10607",
                                    "orderdate": "2015-07-22",
                                    "empid": "5"
                                },
                                {
                                    "custid": "71",
                                    "orderid": "10612",
                                    "orderdate": "2015-07-28",
                                    "empid": "1"
                                },
                                {
                                    "custid": "71",
                                    "orderid": "10627",
                                    "orderdate": "2015-08-11",
                                    "empid": "8"
                                },
                                {
                                    "custid": "71",
                                    "orderid": "10657",
                                    "orderdate": "2015-09-04",
                                    "empid": "2"
                                },
                                {
                                    "custid": "71",
                                    "orderid": "10678",
                                    "orderdate": "2015-09-23",
                                    "empid": "7"
                                },
                                {
                                    "custid": "71",
                                    "orderid": "10700",
                                    "orderdate": "2015-10-10",
                                    "empid": "3"
                                },
                                {
                                    "custid": "71",
                                    "orderid": "10711",
                                    "orderdate": "2015-10-21",
                                    "empid": "5"
                                },
                                {
                                    "custid": "71",
                                    "orderid": "10713",
                                    "orderdate": "2015-10-22",
                                    "empid": "1"
                                },
                                {
                                    "custid": "71",
                                    "orderid": "10714",
                                    "orderdate": "2015-10-22",
                                    "empid": "5"
                                },
                                {
                                    "custid": "71",
                                    "orderid": "10722",
                                    "orderdate": "2015-10-29",
                                    "empid": "8"
                                },
                                {
                                    "custid": "71",
                                    "orderid": "10748",
                                    "orderdate": "2015-11-20",
                                    "empid": "3"
                                },
                                {
                                    "custid": "71",
                                    "orderid": "10757",
                                    "orderdate": "2015-11-27",
                                    "empid": "6"
                                },
                                {
                                    "custid": "71",
                                    "orderid": "10815",
                                    "orderdate": "2016-01-05",
                                    "empid": "2"
                                },
                                {
                                    "custid": "71",
                                    "orderid": "10847",
                                    "orderdate": "2016-01-22",
                                    "empid": "4"
                                },
                                {
                                    "custid": "71",
                                    "orderid": "10882",
                                    "orderdate": "2016-02-11",
                                    "empid": "4"
                                },
                                {
                                    "custid": "71",
                                    "orderid": "10894",
                                    "orderdate": "2016-02-18",
                                    "empid": "1"
                                },
                                {
                                    "custid": "71",
                                    "orderid": "10941",
                                    "orderdate": "2016-03-11",
                                    "empid": "7"
                                },
                                {
                                    "custid": "71",
                                    "orderid": "10983",
                                    "orderdate": "2016-03-27",
                                    "empid": "2"
                                },
                                {
                                    "custid": "71",
                                    "orderid": "10984",
                                    "orderdate": "2016-03-30",
                                    "empid": "1"
                                },
                                {
                                    "custid": "71",
                                    "orderid": "11002",
                                    "orderdate": "2016-04-06",
                                    "empid": "4"
                                },
                                {
                                    "custid": "71",
                                    "orderid": "11030",
                                    "orderdate": "2016-04-17",
                                    "empid": "7"
                                },
                                {
                                    "custid": "71",
                                    "orderid": "11031",
                                    "orderdate": "2016-04-17",
                                    "empid": "6"
                                },
                                {
                                    "custid": "71",
                                    "orderid": "11064",
                                    "orderdate": "2016-05-01",
                                    "empid": "1"
                                }
                            ]
                        },
                        "text/html": [
                            "<table>",
                            "<tr><th>custid</th><th>orderid</th><th>orderdate</th><th>empid</th></tr>",
                            "<tr><td>71</td><td>10324</td><td>2014-10-08</td><td>9</td></tr>",
                            "<tr><td>71</td><td>10393</td><td>2014-12-25</td><td>1</td></tr>",
                            "<tr><td>71</td><td>10398</td><td>2014-12-30</td><td>2</td></tr>",
                            "<tr><td>71</td><td>10440</td><td>2015-02-10</td><td>4</td></tr>",
                            "<tr><td>71</td><td>10452</td><td>2015-02-20</td><td>8</td></tr>",
                            "<tr><td>71</td><td>10510</td><td>2015-04-18</td><td>6</td></tr>",
                            "<tr><td>71</td><td>10555</td><td>2015-06-02</td><td>6</td></tr>",
                            "<tr><td>71</td><td>10603</td><td>2015-07-18</td><td>8</td></tr>",
                            "<tr><td>71</td><td>10607</td><td>2015-07-22</td><td>5</td></tr>",
                            "<tr><td>71</td><td>10612</td><td>2015-07-28</td><td>1</td></tr>",
                            "<tr><td>71</td><td>10627</td><td>2015-08-11</td><td>8</td></tr>",
                            "<tr><td>71</td><td>10657</td><td>2015-09-04</td><td>2</td></tr>",
                            "<tr><td>71</td><td>10678</td><td>2015-09-23</td><td>7</td></tr>",
                            "<tr><td>71</td><td>10700</td><td>2015-10-10</td><td>3</td></tr>",
                            "<tr><td>71</td><td>10711</td><td>2015-10-21</td><td>5</td></tr>",
                            "<tr><td>71</td><td>10713</td><td>2015-10-22</td><td>1</td></tr>",
                            "<tr><td>71</td><td>10714</td><td>2015-10-22</td><td>5</td></tr>",
                            "<tr><td>71</td><td>10722</td><td>2015-10-29</td><td>8</td></tr>",
                            "<tr><td>71</td><td>10748</td><td>2015-11-20</td><td>3</td></tr>",
                            "<tr><td>71</td><td>10757</td><td>2015-11-27</td><td>6</td></tr>",
                            "<tr><td>71</td><td>10815</td><td>2016-01-05</td><td>2</td></tr>",
                            "<tr><td>71</td><td>10847</td><td>2016-01-22</td><td>4</td></tr>",
                            "<tr><td>71</td><td>10882</td><td>2016-02-11</td><td>4</td></tr>",
                            "<tr><td>71</td><td>10894</td><td>2016-02-18</td><td>1</td></tr>",
                            "<tr><td>71</td><td>10941</td><td>2016-03-11</td><td>7</td></tr>",
                            "<tr><td>71</td><td>10983</td><td>2016-03-27</td><td>2</td></tr>",
                            "<tr><td>71</td><td>10984</td><td>2016-03-30</td><td>1</td></tr>",
                            "<tr><td>71</td><td>11002</td><td>2016-04-06</td><td>4</td></tr>",
                            "<tr><td>71</td><td>11030</td><td>2016-04-17</td><td>7</td></tr>",
                            "<tr><td>71</td><td>11031</td><td>2016-04-17</td><td>6</td></tr>",
                            "<tr><td>71</td><td>11064</td><td>2016-05-01</td><td>1</td></tr>",
                            "</table>"
                        ]
                    }
                }
            ],
            "execution_count": 17
        },
        {
            "cell_type": "markdown",
            "source": [
                "```\n",
                "-- 3\n",
                "-- Write a query that returns employees\n",
                "-- who did not place orders on or after May 1st, 2016\n",
                "-- Tables involved: TSQLV4 database, Employees and Orders tables\n",
                "```"
            ],
            "metadata": {
                "language": "sql",
                "azdata_cell_guid": "f46091e0-259b-47dc-9eec-ce70e4237240"
            },
            "attachments": {}
        },
        {
            "cell_type": "code",
            "source": [
                "USE TSQLV4\r\n",
                "SELECT *\r\n",
                "FROM Sales.Orders\r\n",
                "WHERE orderdate >= '20160501'\r\n",
                ""
            ],
            "metadata": {
                "language": "sql",
                "azdata_cell_guid": "c6d8692e-508c-4681-976f-69cedbd3edb7"
            },
            "outputs": [
                {
                    "output_type": "display_data",
                    "data": {
                        "text/html": "(14 rows affected)"
                    },
                    "metadata": {}
                },
                {
                    "output_type": "display_data",
                    "data": {
                        "text/html": "Total execution time: 00:00:00.029"
                    },
                    "metadata": {}
                },
                {
                    "output_type": "execute_result",
                    "metadata": {},
                    "execution_count": 21,
                    "data": {
                        "application/vnd.dataresource+json": {
                            "schema": {
                                "fields": [
                                    {
                                        "name": "orderid"
                                    },
                                    {
                                        "name": "custid"
                                    },
                                    {
                                        "name": "empid"
                                    },
                                    {
                                        "name": "orderdate"
                                    },
                                    {
                                        "name": "requireddate"
                                    },
                                    {
                                        "name": "shippeddate"
                                    },
                                    {
                                        "name": "shipperid"
                                    },
                                    {
                                        "name": "freight"
                                    },
                                    {
                                        "name": "shipname"
                                    },
                                    {
                                        "name": "shipaddress"
                                    },
                                    {
                                        "name": "shipcity"
                                    },
                                    {
                                        "name": "shipregion"
                                    },
                                    {
                                        "name": "shippostalcode"
                                    },
                                    {
                                        "name": "shipcountry"
                                    }
                                ]
                            },
                            "data": [
                                {
                                    "orderid": "11064",
                                    "custid": "71",
                                    "empid": "1",
                                    "orderdate": "2016-05-01",
                                    "requireddate": "2016-05-29",
                                    "shippeddate": "2016-05-04",
                                    "shipperid": "1",
                                    "freight": "30.09",
                                    "shipname": "Ship to 71-C",
                                    "shipaddress": "9012 Suffolk Ln.",
                                    "shipcity": "Boise",
                                    "shipregion": "ID",
                                    "shippostalcode": "10307",
                                    "shipcountry": "USA"
                                },
                                {
                                    "orderid": "11065",
                                    "custid": "46",
                                    "empid": "8",
                                    "orderdate": "2016-05-01",
                                    "requireddate": "2016-05-29",
                                    "shippeddate": "NULL",
                                    "shipperid": "1",
                                    "freight": "12.91",
                                    "shipname": "Ship to 46-C",
                                    "shipaddress": "Carrera 2345 con Ave. Bolívar #65-98 Llano Largo",
                                    "shipcity": "Barquisimeto",
                                    "shipregion": "Lara",
                                    "shippostalcode": "10229",
                                    "shipcountry": "Venezuela"
                                },
                                {
                                    "orderid": "11066",
                                    "custid": "89",
                                    "empid": "7",
                                    "orderdate": "2016-05-01",
                                    "requireddate": "2016-05-29",
                                    "shippeddate": "2016-05-04",
                                    "shipperid": "2",
                                    "freight": "44.72",
                                    "shipname": "Ship to 89-A",
                                    "shipaddress": "7890 - 12th Ave. S.",
                                    "shipcity": "Seattle",
                                    "shipregion": "WA",
                                    "shippostalcode": "10356",
                                    "shipcountry": "USA"
                                },
                                {
                                    "orderid": "11067",
                                    "custid": "17",
                                    "empid": "1",
                                    "orderdate": "2016-05-04",
                                    "requireddate": "2016-05-18",
                                    "shippeddate": "2016-05-06",
                                    "shipperid": "2",
                                    "freight": "7.98",
                                    "shipname": "Destination BJCXA",
                                    "shipaddress": "Walserweg 7890",
                                    "shipcity": "Aachen",
                                    "shipregion": "NULL",
                                    "shippostalcode": "10145",
                                    "shipcountry": "Germany"
                                },
                                {
                                    "orderid": "11068",
                                    "custid": "62",
                                    "empid": "8",
                                    "orderdate": "2016-05-04",
                                    "requireddate": "2016-06-01",
                                    "shippeddate": "NULL",
                                    "shipperid": "2",
                                    "freight": "81.75",
                                    "shipname": "Ship to 62-A",
                                    "shipaddress": "Alameda dos Canàrios, 8901",
                                    "shipcity": "Sao Paulo",
                                    "shipregion": "SP",
                                    "shippostalcode": "10276",
                                    "shipcountry": "Brazil"
                                },
                                {
                                    "orderid": "11069",
                                    "custid": "80",
                                    "empid": "1",
                                    "orderdate": "2016-05-04",
                                    "requireddate": "2016-06-01",
                                    "shippeddate": "2016-05-06",
                                    "shipperid": "2",
                                    "freight": "15.67",
                                    "shipname": "Ship to 80-B",
                                    "shipaddress": "Avda. Azteca 4567",
                                    "shipcity": "México D.F.",
                                    "shipregion": "NULL",
                                    "shippostalcode": "10333",
                                    "shipcountry": "Mexico"
                                },
                                {
                                    "orderid": "11070",
                                    "custid": "44",
                                    "empid": "2",
                                    "orderdate": "2016-05-05",
                                    "requireddate": "2016-06-02",
                                    "shippeddate": "NULL",
                                    "shipperid": "1",
                                    "freight": "136.00",
                                    "shipname": "Ship to 44-A",
                                    "shipaddress": "Magazinweg 4567",
                                    "shipcity": "Frankfurt a.M.",
                                    "shipregion": "NULL",
                                    "shippostalcode": "10222",
                                    "shipcountry": "Germany"
                                },
                                {
                                    "orderid": "11071",
                                    "custid": "46",
                                    "empid": "1",
                                    "orderdate": "2016-05-05",
                                    "requireddate": "2016-06-02",
                                    "shippeddate": "NULL",
                                    "shipperid": "1",
                                    "freight": "0.93",
                                    "shipname": "Ship to 46-B",
                                    "shipaddress": "Carrera 1234 con Ave. Bolívar #65-98 Llano Largo",
                                    "shipcity": "Barquisimeto",
                                    "shipregion": "Lara",
                                    "shippostalcode": "10228",
                                    "shipcountry": "Venezuela"
                                },
                                {
                                    "orderid": "11072",
                                    "custid": "20",
                                    "empid": "4",
                                    "orderdate": "2016-05-05",
                                    "requireddate": "2016-06-02",
                                    "shippeddate": "NULL",
                                    "shipperid": "2",
                                    "freight": "258.64",
                                    "shipname": "Destination RVDMF",
                                    "shipaddress": "Kirchgasse 9012",
                                    "shipcity": "Graz",
                                    "shipregion": "NULL",
                                    "shippostalcode": "10157",
                                    "shipcountry": "Austria"
                                },
                                {
                                    "orderid": "11073",
                                    "custid": "58",
                                    "empid": "2",
                                    "orderdate": "2016-05-05",
                                    "requireddate": "2016-06-02",
                                    "shippeddate": "NULL",
                                    "shipperid": "2",
                                    "freight": "24.95",
                                    "shipname": "Ship to 58-B",
                                    "shipaddress": "Calle Dr. Jorge Cash 4567",
                                    "shipcity": "México D.F.",
                                    "shipregion": "NULL",
                                    "shippostalcode": "10262",
                                    "shipcountry": "Mexico"
                                },
                                {
                                    "orderid": "11074",
                                    "custid": "73",
                                    "empid": "7",
                                    "orderdate": "2016-05-06",
                                    "requireddate": "2016-06-03",
                                    "shippeddate": "NULL",
                                    "shipperid": "2",
                                    "freight": "18.44",
                                    "shipname": "Ship to 73-A",
                                    "shipaddress": "Vinbæltet 1234",
                                    "shipcity": "Kobenhavn",
                                    "shipregion": "NULL",
                                    "shippostalcode": "10310",
                                    "shipcountry": "Denmark"
                                },
                                {
                                    "orderid": "11075",
                                    "custid": "68",
                                    "empid": "8",
                                    "orderdate": "2016-05-06",
                                    "requireddate": "2016-06-03",
                                    "shippeddate": "NULL",
                                    "shipperid": "2",
                                    "freight": "6.19",
                                    "shipname": "Ship to 68-A",
                                    "shipaddress": "Starenweg 6789",
                                    "shipcity": "Genève",
                                    "shipregion": "NULL",
                                    "shippostalcode": "10294",
                                    "shipcountry": "Switzerland"
                                },
                                {
                                    "orderid": "11076",
                                    "custid": "9",
                                    "empid": "4",
                                    "orderdate": "2016-05-06",
                                    "requireddate": "2016-06-03",
                                    "shippeddate": "NULL",
                                    "shipperid": "2",
                                    "freight": "38.28",
                                    "shipname": "Ship to 9-A",
                                    "shipaddress": "8901, rue des Bouchers",
                                    "shipcity": "Marseille",
                                    "shipregion": "NULL",
                                    "shippostalcode": "10367",
                                    "shipcountry": "France"
                                },
                                {
                                    "orderid": "11077",
                                    "custid": "65",
                                    "empid": "1",
                                    "orderdate": "2016-05-06",
                                    "requireddate": "2016-06-03",
                                    "shippeddate": "NULL",
                                    "shipperid": "2",
                                    "freight": "8.53",
                                    "shipname": "Ship to 65-A",
                                    "shipaddress": "7890 Milton Dr.",
                                    "shipcity": "Albuquerque",
                                    "shipregion": "NM",
                                    "shippostalcode": "10285",
                                    "shipcountry": "USA"
                                }
                            ]
                        },
                        "text/html": [
                            "<table>",
                            "<tr><th>orderid</th><th>custid</th><th>empid</th><th>orderdate</th><th>requireddate</th><th>shippeddate</th><th>shipperid</th><th>freight</th><th>shipname</th><th>shipaddress</th><th>shipcity</th><th>shipregion</th><th>shippostalcode</th><th>shipcountry</th></tr>",
                            "<tr><td>11064</td><td>71</td><td>1</td><td>2016-05-01</td><td>2016-05-29</td><td>2016-05-04</td><td>1</td><td>30.09</td><td>Ship to 71-C</td><td>9012 Suffolk Ln.</td><td>Boise</td><td>ID</td><td>10307</td><td>USA</td></tr>",
                            "<tr><td>11065</td><td>46</td><td>8</td><td>2016-05-01</td><td>2016-05-29</td><td>NULL</td><td>1</td><td>12.91</td><td>Ship to 46-C</td><td>Carrera 2345 con Ave. Bolívar #65-98 Llano Largo</td><td>Barquisimeto</td><td>Lara</td><td>10229</td><td>Venezuela</td></tr>",
                            "<tr><td>11066</td><td>89</td><td>7</td><td>2016-05-01</td><td>2016-05-29</td><td>2016-05-04</td><td>2</td><td>44.72</td><td>Ship to 89-A</td><td>7890 - 12th Ave. S.</td><td>Seattle</td><td>WA</td><td>10356</td><td>USA</td></tr>",
                            "<tr><td>11067</td><td>17</td><td>1</td><td>2016-05-04</td><td>2016-05-18</td><td>2016-05-06</td><td>2</td><td>7.98</td><td>Destination BJCXA</td><td>Walserweg 7890</td><td>Aachen</td><td>NULL</td><td>10145</td><td>Germany</td></tr>",
                            "<tr><td>11068</td><td>62</td><td>8</td><td>2016-05-04</td><td>2016-06-01</td><td>NULL</td><td>2</td><td>81.75</td><td>Ship to 62-A</td><td>Alameda dos Canàrios, 8901</td><td>Sao Paulo</td><td>SP</td><td>10276</td><td>Brazil</td></tr>",
                            "<tr><td>11069</td><td>80</td><td>1</td><td>2016-05-04</td><td>2016-06-01</td><td>2016-05-06</td><td>2</td><td>15.67</td><td>Ship to 80-B</td><td>Avda. Azteca 4567</td><td>México D.F.</td><td>NULL</td><td>10333</td><td>Mexico</td></tr>",
                            "<tr><td>11070</td><td>44</td><td>2</td><td>2016-05-05</td><td>2016-06-02</td><td>NULL</td><td>1</td><td>136.00</td><td>Ship to 44-A</td><td>Magazinweg 4567</td><td>Frankfurt a.M.</td><td>NULL</td><td>10222</td><td>Germany</td></tr>",
                            "<tr><td>11071</td><td>46</td><td>1</td><td>2016-05-05</td><td>2016-06-02</td><td>NULL</td><td>1</td><td>0.93</td><td>Ship to 46-B</td><td>Carrera 1234 con Ave. Bolívar #65-98 Llano Largo</td><td>Barquisimeto</td><td>Lara</td><td>10228</td><td>Venezuela</td></tr>",
                            "<tr><td>11072</td><td>20</td><td>4</td><td>2016-05-05</td><td>2016-06-02</td><td>NULL</td><td>2</td><td>258.64</td><td>Destination RVDMF</td><td>Kirchgasse 9012</td><td>Graz</td><td>NULL</td><td>10157</td><td>Austria</td></tr>",
                            "<tr><td>11073</td><td>58</td><td>2</td><td>2016-05-05</td><td>2016-06-02</td><td>NULL</td><td>2</td><td>24.95</td><td>Ship to 58-B</td><td>Calle Dr. Jorge Cash 4567</td><td>México D.F.</td><td>NULL</td><td>10262</td><td>Mexico</td></tr>",
                            "<tr><td>11074</td><td>73</td><td>7</td><td>2016-05-06</td><td>2016-06-03</td><td>NULL</td><td>2</td><td>18.44</td><td>Ship to 73-A</td><td>Vinbæltet 1234</td><td>Kobenhavn</td><td>NULL</td><td>10310</td><td>Denmark</td></tr>",
                            "<tr><td>11075</td><td>68</td><td>8</td><td>2016-05-06</td><td>2016-06-03</td><td>NULL</td><td>2</td><td>6.19</td><td>Ship to 68-A</td><td>Starenweg 6789</td><td>Genève</td><td>NULL</td><td>10294</td><td>Switzerland</td></tr>",
                            "<tr><td>11076</td><td>9</td><td>4</td><td>2016-05-06</td><td>2016-06-03</td><td>NULL</td><td>2</td><td>38.28</td><td>Ship to 9-A</td><td>8901, rue des Bouchers</td><td>Marseille</td><td>NULL</td><td>10367</td><td>France</td></tr>",
                            "<tr><td>11077</td><td>65</td><td>1</td><td>2016-05-06</td><td>2016-06-03</td><td>NULL</td><td>2</td><td>8.53</td><td>Ship to 65-A</td><td>7890 Milton Dr.</td><td>Albuquerque</td><td>NM</td><td>10285</td><td>USA</td></tr>",
                            "</table>"
                        ]
                    }
                }
            ],
            "execution_count": 21
        }
    ]
}