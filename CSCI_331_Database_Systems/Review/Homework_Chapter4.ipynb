{
    "metadata": {
        "kernelspec": {
            "name": "SQL",
            "display_name": "SQL",
            "language": "sql"
        },
        "language_info": {
            "name": "sql",
            "version": ""
        }
    },
    "nbformat_minor": 2,
    "nbformat": 4,
    "cells": [
        {
            "cell_type": "markdown",
            "source": [
                "```\n",
                "-- 1 \n",
                "-- Write a query that returns all orders placed on the last day of\n",
                "-- activity that can be found in the Orders table\n",
                "-- Tables involved: TSQLV4 database, Orders table\n",
                "```"
            ],
            "metadata": {
                "azdata_cell_guid": "5c9825eb-4910-44bb-935f-000f90593ac9"
            },
            "attachments": {}
        },
        {
            "cell_type": "code",
            "source": [
                "USE Northwinds2022TSQLV7\r\n",
                "SELECT OrderId, OrderDate, CustomerId, EmployeeId\r\n",
                "FROM Sales.[Order]\r\n",
                "WHERE orderdate = (SELECT MAX(o.orderdate) FROM Sales.[Order] AS O)\r\n",
                "ORDER BY EmployeeId"
            ],
            "metadata": {
                "azdata_cell_guid": "aed3643b-4411-4f41-9f44-c156b0667667",
                "language": "sql"
            },
            "outputs": [
                {
                    "output_type": "display_data",
                    "data": {
                        "text/html": "(4 rows affected)"
                    },
                    "metadata": {}
                },
                {
                    "output_type": "display_data",
                    "data": {
                        "text/html": "Total execution time: 00:00:00.166"
                    },
                    "metadata": {}
                },
                {
                    "output_type": "execute_result",
                    "execution_count": 12,
                    "data": {
                        "application/vnd.dataresource+json": {
                            "schema": {
                                "fields": [
                                    {
                                        "name": "OrderId"
                                    },
                                    {
                                        "name": "OrderDate"
                                    },
                                    {
                                        "name": "CustomerId"
                                    },
                                    {
                                        "name": "EmployeeId"
                                    }
                                ]
                            },
                            "data": [
                                {
                                    "OrderId": "11077",
                                    "OrderDate": "2016-05-06",
                                    "CustomerId": "65",
                                    "EmployeeId": "1"
                                },
                                {
                                    "OrderId": "11076",
                                    "OrderDate": "2016-05-06",
                                    "CustomerId": "9",
                                    "EmployeeId": "4"
                                },
                                {
                                    "OrderId": "11074",
                                    "OrderDate": "2016-05-06",
                                    "CustomerId": "73",
                                    "EmployeeId": "7"
                                },
                                {
                                    "OrderId": "11075",
                                    "OrderDate": "2016-05-06",
                                    "CustomerId": "68",
                                    "EmployeeId": "8"
                                }
                            ]
                        },
                        "text/html": "<table><tr><th>OrderId</th><th>OrderDate</th><th>CustomerId</th><th>EmployeeId</th></tr><tr><td>11077</td><td>2016-05-06</td><td>65</td><td>1</td></tr><tr><td>11076</td><td>2016-05-06</td><td>9</td><td>4</td></tr><tr><td>11074</td><td>2016-05-06</td><td>73</td><td>7</td></tr><tr><td>11075</td><td>2016-05-06</td><td>68</td><td>8</td></tr></table>"
                    },
                    "metadata": {}
                }
            ],
            "execution_count": 12
        },
        {
            "cell_type": "markdown",
            "source": [
                "\\-- In the where clause we introduce our subquery by making our condition the max orderdate (end of the month)"
            ],
            "metadata": {
                "azdata_cell_guid": "08d1927e-41a9-423a-8899-8fb04699a24e"
            },
            "attachments": {}
        },
        {
            "cell_type": "markdown",
            "source": [
                "```\n",
                "-- 2 (Optional, Advanced)\n",
                "-- Write a query that returns all orders placed\n",
                "-- by the customer(s) who placed the highest number of orders\n",
                "-- * Note: there may be more than one customer\n",
                "--   with the same number of orders\n",
                "-- Tables involved: TSQLV4 database, Orders table\n",
                "```"
            ],
            "metadata": {
                "azdata_cell_guid": "fa7e0dd5-5e50-4409-bfb7-1455b234dd44"
            },
            "attachments": {}
        },
        {
            "cell_type": "code",
            "source": [
                "USE Northwinds2022TSQLV7\r\n",
                "SELECT CustomerId, orderid, orderdate, EmployeeId\r\n",
                "FROM Sales.[Order]\r\n",
                "WHERE CustomerId IN\r\n",
                "(SELECT TOP (1) WITH TIES O.CustomerId\r\n",
                "FROM Sales.[Order] AS O\r\n",
                "GROUP BY O.CustomerId\r\n",
                "ORDER BY COUNT(*) DESC);\r\n",
                ""
            ],
            "metadata": {
                "azdata_cell_guid": "26230b5d-c6fa-448a-b238-2f7394c65f99",
                "language": "sql"
            },
            "outputs": [
                {
                    "output_type": "display_data",
                    "data": {
                        "text/html": "(31 rows affected)"
                    },
                    "metadata": {}
                },
                {
                    "output_type": "display_data",
                    "data": {
                        "text/html": "Total execution time: 00:00:00.046"
                    },
                    "metadata": {}
                },
                {
                    "output_type": "execute_result",
                    "metadata": {},
                    "execution_count": 7,
                    "data": {
                        "application/vnd.dataresource+json": {
                            "schema": {
                                "fields": [
                                    {
                                        "name": "CustomerId"
                                    },
                                    {
                                        "name": "orderid"
                                    },
                                    {
                                        "name": "orderdate"
                                    },
                                    {
                                        "name": "EmployeeId"
                                    }
                                ]
                            },
                            "data": [
                                {
                                    "CustomerId": "71",
                                    "orderid": "10324",
                                    "orderdate": "2014-10-08",
                                    "EmployeeId": "9"
                                },
                                {
                                    "CustomerId": "71",
                                    "orderid": "10393",
                                    "orderdate": "2014-12-25",
                                    "EmployeeId": "1"
                                },
                                {
                                    "CustomerId": "71",
                                    "orderid": "10398",
                                    "orderdate": "2014-12-30",
                                    "EmployeeId": "2"
                                },
                                {
                                    "CustomerId": "71",
                                    "orderid": "10440",
                                    "orderdate": "2015-02-10",
                                    "EmployeeId": "4"
                                },
                                {
                                    "CustomerId": "71",
                                    "orderid": "10452",
                                    "orderdate": "2015-02-20",
                                    "EmployeeId": "8"
                                },
                                {
                                    "CustomerId": "71",
                                    "orderid": "10510",
                                    "orderdate": "2015-04-18",
                                    "EmployeeId": "6"
                                },
                                {
                                    "CustomerId": "71",
                                    "orderid": "10555",
                                    "orderdate": "2015-06-02",
                                    "EmployeeId": "6"
                                },
                                {
                                    "CustomerId": "71",
                                    "orderid": "10603",
                                    "orderdate": "2015-07-18",
                                    "EmployeeId": "8"
                                },
                                {
                                    "CustomerId": "71",
                                    "orderid": "10607",
                                    "orderdate": "2015-07-22",
                                    "EmployeeId": "5"
                                },
                                {
                                    "CustomerId": "71",
                                    "orderid": "10612",
                                    "orderdate": "2015-07-28",
                                    "EmployeeId": "1"
                                },
                                {
                                    "CustomerId": "71",
                                    "orderid": "10627",
                                    "orderdate": "2015-08-11",
                                    "EmployeeId": "8"
                                },
                                {
                                    "CustomerId": "71",
                                    "orderid": "10657",
                                    "orderdate": "2015-09-04",
                                    "EmployeeId": "2"
                                },
                                {
                                    "CustomerId": "71",
                                    "orderid": "10678",
                                    "orderdate": "2015-09-23",
                                    "EmployeeId": "7"
                                },
                                {
                                    "CustomerId": "71",
                                    "orderid": "10700",
                                    "orderdate": "2015-10-10",
                                    "EmployeeId": "3"
                                },
                                {
                                    "CustomerId": "71",
                                    "orderid": "10711",
                                    "orderdate": "2015-10-21",
                                    "EmployeeId": "5"
                                },
                                {
                                    "CustomerId": "71",
                                    "orderid": "10713",
                                    "orderdate": "2015-10-22",
                                    "EmployeeId": "1"
                                },
                                {
                                    "CustomerId": "71",
                                    "orderid": "10714",
                                    "orderdate": "2015-10-22",
                                    "EmployeeId": "5"
                                },
                                {
                                    "CustomerId": "71",
                                    "orderid": "10722",
                                    "orderdate": "2015-10-29",
                                    "EmployeeId": "8"
                                },
                                {
                                    "CustomerId": "71",
                                    "orderid": "10748",
                                    "orderdate": "2015-11-20",
                                    "EmployeeId": "3"
                                },
                                {
                                    "CustomerId": "71",
                                    "orderid": "10757",
                                    "orderdate": "2015-11-27",
                                    "EmployeeId": "6"
                                },
                                {
                                    "CustomerId": "71",
                                    "orderid": "10815",
                                    "orderdate": "2016-01-05",
                                    "EmployeeId": "2"
                                },
                                {
                                    "CustomerId": "71",
                                    "orderid": "10847",
                                    "orderdate": "2016-01-22",
                                    "EmployeeId": "4"
                                },
                                {
                                    "CustomerId": "71",
                                    "orderid": "10882",
                                    "orderdate": "2016-02-11",
                                    "EmployeeId": "4"
                                },
                                {
                                    "CustomerId": "71",
                                    "orderid": "10894",
                                    "orderdate": "2016-02-18",
                                    "EmployeeId": "1"
                                },
                                {
                                    "CustomerId": "71",
                                    "orderid": "10941",
                                    "orderdate": "2016-03-11",
                                    "EmployeeId": "7"
                                },
                                {
                                    "CustomerId": "71",
                                    "orderid": "10983",
                                    "orderdate": "2016-03-27",
                                    "EmployeeId": "2"
                                },
                                {
                                    "CustomerId": "71",
                                    "orderid": "10984",
                                    "orderdate": "2016-03-30",
                                    "EmployeeId": "1"
                                },
                                {
                                    "CustomerId": "71",
                                    "orderid": "11002",
                                    "orderdate": "2016-04-06",
                                    "EmployeeId": "4"
                                },
                                {
                                    "CustomerId": "71",
                                    "orderid": "11030",
                                    "orderdate": "2016-04-17",
                                    "EmployeeId": "7"
                                },
                                {
                                    "CustomerId": "71",
                                    "orderid": "11031",
                                    "orderdate": "2016-04-17",
                                    "EmployeeId": "6"
                                },
                                {
                                    "CustomerId": "71",
                                    "orderid": "11064",
                                    "orderdate": "2016-05-01",
                                    "EmployeeId": "1"
                                }
                            ]
                        },
                        "text/html": [
                            "<table>",
                            "<tr><th>CustomerId</th><th>orderid</th><th>orderdate</th><th>EmployeeId</th></tr>",
                            "<tr><td>71</td><td>10324</td><td>2014-10-08</td><td>9</td></tr>",
                            "<tr><td>71</td><td>10393</td><td>2014-12-25</td><td>1</td></tr>",
                            "<tr><td>71</td><td>10398</td><td>2014-12-30</td><td>2</td></tr>",
                            "<tr><td>71</td><td>10440</td><td>2015-02-10</td><td>4</td></tr>",
                            "<tr><td>71</td><td>10452</td><td>2015-02-20</td><td>8</td></tr>",
                            "<tr><td>71</td><td>10510</td><td>2015-04-18</td><td>6</td></tr>",
                            "<tr><td>71</td><td>10555</td><td>2015-06-02</td><td>6</td></tr>",
                            "<tr><td>71</td><td>10603</td><td>2015-07-18</td><td>8</td></tr>",
                            "<tr><td>71</td><td>10607</td><td>2015-07-22</td><td>5</td></tr>",
                            "<tr><td>71</td><td>10612</td><td>2015-07-28</td><td>1</td></tr>",
                            "<tr><td>71</td><td>10627</td><td>2015-08-11</td><td>8</td></tr>",
                            "<tr><td>71</td><td>10657</td><td>2015-09-04</td><td>2</td></tr>",
                            "<tr><td>71</td><td>10678</td><td>2015-09-23</td><td>7</td></tr>",
                            "<tr><td>71</td><td>10700</td><td>2015-10-10</td><td>3</td></tr>",
                            "<tr><td>71</td><td>10711</td><td>2015-10-21</td><td>5</td></tr>",
                            "<tr><td>71</td><td>10713</td><td>2015-10-22</td><td>1</td></tr>",
                            "<tr><td>71</td><td>10714</td><td>2015-10-22</td><td>5</td></tr>",
                            "<tr><td>71</td><td>10722</td><td>2015-10-29</td><td>8</td></tr>",
                            "<tr><td>71</td><td>10748</td><td>2015-11-20</td><td>3</td></tr>",
                            "<tr><td>71</td><td>10757</td><td>2015-11-27</td><td>6</td></tr>",
                            "<tr><td>71</td><td>10815</td><td>2016-01-05</td><td>2</td></tr>",
                            "<tr><td>71</td><td>10847</td><td>2016-01-22</td><td>4</td></tr>",
                            "<tr><td>71</td><td>10882</td><td>2016-02-11</td><td>4</td></tr>",
                            "<tr><td>71</td><td>10894</td><td>2016-02-18</td><td>1</td></tr>",
                            "<tr><td>71</td><td>10941</td><td>2016-03-11</td><td>7</td></tr>",
                            "<tr><td>71</td><td>10983</td><td>2016-03-27</td><td>2</td></tr>",
                            "<tr><td>71</td><td>10984</td><td>2016-03-30</td><td>1</td></tr>",
                            "<tr><td>71</td><td>11002</td><td>2016-04-06</td><td>4</td></tr>",
                            "<tr><td>71</td><td>11030</td><td>2016-04-17</td><td>7</td></tr>",
                            "<tr><td>71</td><td>11031</td><td>2016-04-17</td><td>6</td></tr>",
                            "<tr><td>71</td><td>11064</td><td>2016-05-01</td><td>1</td></tr>",
                            "</table>"
                        ]
                    }
                }
            ],
            "execution_count": 7
        },
        {
            "cell_type": "markdown",
            "source": [
                "```\n",
                "-- 3\n",
                "-- Write a query that returns employees\n",
                "-- who did not place orders on or after May 1st, 2016\n",
                "-- Tables involved: TSQLV4 database, Employees and Orders tables\n",
                "\n",
                "```\n",
                "\n",
                "<span class=\"c1\" style=\"color: rgb(64, 128, 128); font-style: italic;\"><br></span>"
            ],
            "metadata": {
                "azdata_cell_guid": "b2bc3d39-3641-4f94-90fb-40b2c04e1357"
            },
            "attachments": {}
        },
        {
            "cell_type": "code",
            "source": [
                "USE Northwinds2022TSQLV7\r\n",
                "SELECT EmployeeId, EmployeeFirstName, EmployeeLastName\r\n",
                "FROM HumanResources.Employee\r\n",
                "WHERE EmployeeId NOT IN\r\n",
                "(SELECT O.EmployeeId\r\n",
                "FROM Sales.[Order] AS O\r\n",
                "WHERE O.orderdate >= '20160501');\r\n",
                ""
            ],
            "metadata": {
                "azdata_cell_guid": "db85580a-d568-4c33-8e76-63e0d98ac8e1",
                "language": "sql"
            },
            "outputs": [
                {
                    "output_type": "display_data",
                    "data": {
                        "text/html": "(4 rows affected)"
                    },
                    "metadata": {}
                },
                {
                    "output_type": "display_data",
                    "data": {
                        "text/html": "Total execution time: 00:00:00.080"
                    },
                    "metadata": {}
                },
                {
                    "output_type": "execute_result",
                    "metadata": {},
                    "execution_count": 8,
                    "data": {
                        "application/vnd.dataresource+json": {
                            "schema": {
                                "fields": [
                                    {
                                        "name": "EmployeeId"
                                    },
                                    {
                                        "name": "EmployeeFirstName"
                                    },
                                    {
                                        "name": "EmployeeLastName"
                                    }
                                ]
                            },
                            "data": [
                                {
                                    "EmployeeId": "3",
                                    "EmployeeFirstName": "Judy",
                                    "EmployeeLastName": "Lew"
                                },
                                {
                                    "EmployeeId": "5",
                                    "EmployeeFirstName": "Sven",
                                    "EmployeeLastName": "Mortensen"
                                },
                                {
                                    "EmployeeId": "6",
                                    "EmployeeFirstName": "Paul",
                                    "EmployeeLastName": "Suurs"
                                },
                                {
                                    "EmployeeId": "9",
                                    "EmployeeFirstName": "Patricia",
                                    "EmployeeLastName": "Doyle"
                                }
                            ]
                        },
                        "text/html": [
                            "<table>",
                            "<tr><th>EmployeeId</th><th>EmployeeFirstName</th><th>EmployeeLastName</th></tr>",
                            "<tr><td>3</td><td>Judy</td><td>Lew</td></tr>",
                            "<tr><td>5</td><td>Sven</td><td>Mortensen</td></tr>",
                            "<tr><td>6</td><td>Paul</td><td>Suurs</td></tr>",
                            "<tr><td>9</td><td>Patricia</td><td>Doyle</td></tr>",
                            "</table>"
                        ]
                    }
                }
            ],
            "execution_count": 8
        },
        {
            "cell_type": "markdown",
            "source": [
                "```\n",
                "-- 4\n",
                "-- Write a query that returns\n",
                "-- countries where there are customers but not employees\n",
                "-- Tables involved: TSQLV4 database, Customers and Employees tables\n",
                "```"
            ],
            "metadata": {
                "azdata_cell_guid": "1a4c5f52-1be2-429d-ab90-2cabb5213742"
            },
            "attachments": {}
        },
        {
            "cell_type": "code",
            "source": [
                "USE Northwinds2022TSQLV7\r\n",
                "SELECT DISTINCT CustomerCountry\r\n",
                "FROM Sales.Customer\r\n",
                "WHERE CustomerCountry NOT IN\r\n",
                "(SELECT E.EmployeeCountry FROM HumanResources.Employee AS E);\r\n",
                ""
            ],
            "metadata": {
                "azdata_cell_guid": "d215e25e-7550-4b48-9a1a-4a07aa97d3e5",
                "language": "sql"
            },
            "outputs": [
                {
                    "output_type": "display_data",
                    "data": {
                        "text/html": "(19 rows affected)"
                    },
                    "metadata": {}
                },
                {
                    "output_type": "display_data",
                    "data": {
                        "text/html": "Total execution time: 00:00:00.040"
                    },
                    "metadata": {}
                },
                {
                    "output_type": "execute_result",
                    "metadata": {},
                    "execution_count": 10,
                    "data": {
                        "application/vnd.dataresource+json": {
                            "schema": {
                                "fields": [
                                    {
                                        "name": "CustomerCountry"
                                    }
                                ]
                            },
                            "data": [
                                {
                                    "CustomerCountry": "Argentina"
                                },
                                {
                                    "CustomerCountry": "Austria"
                                },
                                {
                                    "CustomerCountry": "Belgium"
                                },
                                {
                                    "CustomerCountry": "Brazil"
                                },
                                {
                                    "CustomerCountry": "Canada"
                                },
                                {
                                    "CustomerCountry": "Denmark"
                                },
                                {
                                    "CustomerCountry": "Finland"
                                },
                                {
                                    "CustomerCountry": "France"
                                },
                                {
                                    "CustomerCountry": "Germany"
                                },
                                {
                                    "CustomerCountry": "Ireland"
                                },
                                {
                                    "CustomerCountry": "Italy"
                                },
                                {
                                    "CustomerCountry": "Mexico"
                                },
                                {
                                    "CustomerCountry": "Norway"
                                },
                                {
                                    "CustomerCountry": "Poland"
                                },
                                {
                                    "CustomerCountry": "Portugal"
                                },
                                {
                                    "CustomerCountry": "Spain"
                                },
                                {
                                    "CustomerCountry": "Sweden"
                                },
                                {
                                    "CustomerCountry": "Switzerland"
                                },
                                {
                                    "CustomerCountry": "Venezuela"
                                }
                            ]
                        },
                        "text/html": [
                            "<table>",
                            "<tr><th>CustomerCountry</th></tr>",
                            "<tr><td>Argentina</td></tr>",
                            "<tr><td>Austria</td></tr>",
                            "<tr><td>Belgium</td></tr>",
                            "<tr><td>Brazil</td></tr>",
                            "<tr><td>Canada</td></tr>",
                            "<tr><td>Denmark</td></tr>",
                            "<tr><td>Finland</td></tr>",
                            "<tr><td>France</td></tr>",
                            "<tr><td>Germany</td></tr>",
                            "<tr><td>Ireland</td></tr>",
                            "<tr><td>Italy</td></tr>",
                            "<tr><td>Mexico</td></tr>",
                            "<tr><td>Norway</td></tr>",
                            "<tr><td>Poland</td></tr>",
                            "<tr><td>Portugal</td></tr>",
                            "<tr><td>Spain</td></tr>",
                            "<tr><td>Sweden</td></tr>",
                            "<tr><td>Switzerland</td></tr>",
                            "<tr><td>Venezuela</td></tr>",
                            "</table>"
                        ]
                    }
                }
            ],
            "execution_count": 10
        },
        {
            "cell_type": "markdown",
            "source": [
                "```\n",
                "-- 5\n",
                "-- Write a query that returns for each customer\n",
                "-- all orders placed on the customer's last day of activity\n",
                "-- Tables involved: TSQLV4 database, Orders table\n",
                "```"
            ],
            "metadata": {
                "azdata_cell_guid": "63612d1d-c2c6-4c0a-91c2-5766b802a871"
            },
            "attachments": {}
        },
        {
            "cell_type": "code",
            "source": [
                "USE Northwinds2022TSQLV7\r\n",
                "SELECT CustomerId, orderid, orderdate, EmployeeId\r\n",
                "FROM Sales.[Order] AS O1\r\n",
                "WHERE orderdate =\r\n",
                "(SELECT MAX(O2.orderdate)\r\n",
                "FROM Sales.[Order] AS O2\r\n",
                "WHERE O2.CustomerId = O1.CustomerId)\r\n",
                "ORDER BY CustomerId;\r\n",
                ""
            ],
            "metadata": {
                "azdata_cell_guid": "0c239fab-efc6-49f8-add7-81795bcfc808",
                "language": "sql"
            },
            "outputs": [
                {
                    "output_type": "display_data",
                    "data": {
                        "text/html": "(90 rows affected)"
                    },
                    "metadata": {}
                },
                {
                    "output_type": "display_data",
                    "data": {
                        "text/html": "Total execution time: 00:00:00.048"
                    },
                    "metadata": {}
                },
                {
                    "output_type": "execute_result",
                    "metadata": {},
                    "execution_count": 6,
                    "data": {
                        "application/vnd.dataresource+json": {
                            "schema": {
                                "fields": [
                                    {
                                        "name": "CustomerId"
                                    },
                                    {
                                        "name": "orderid"
                                    },
                                    {
                                        "name": "orderdate"
                                    },
                                    {
                                        "name": "EmployeeId"
                                    }
                                ]
                            },
                            "data": [
                                {
                                    "CustomerId": "1",
                                    "orderid": "11011",
                                    "orderdate": "2016-04-09",
                                    "EmployeeId": "3"
                                },
                                {
                                    "CustomerId": "2",
                                    "orderid": "10926",
                                    "orderdate": "2016-03-04",
                                    "EmployeeId": "4"
                                },
                                {
                                    "CustomerId": "3",
                                    "orderid": "10856",
                                    "orderdate": "2016-01-28",
                                    "EmployeeId": "3"
                                },
                                {
                                    "CustomerId": "4",
                                    "orderid": "11016",
                                    "orderdate": "2016-04-10",
                                    "EmployeeId": "9"
                                },
                                {
                                    "CustomerId": "5",
                                    "orderid": "10924",
                                    "orderdate": "2016-03-04",
                                    "EmployeeId": "3"
                                },
                                {
                                    "CustomerId": "6",
                                    "orderid": "11058",
                                    "orderdate": "2016-04-29",
                                    "EmployeeId": "9"
                                },
                                {
                                    "CustomerId": "7",
                                    "orderid": "10826",
                                    "orderdate": "2016-01-12",
                                    "EmployeeId": "6"
                                },
                                {
                                    "CustomerId": "8",
                                    "orderid": "10970",
                                    "orderdate": "2016-03-24",
                                    "EmployeeId": "9"
                                },
                                {
                                    "CustomerId": "9",
                                    "orderid": "11076",
                                    "orderdate": "2016-05-06",
                                    "EmployeeId": "4"
                                },
                                {
                                    "CustomerId": "10",
                                    "orderid": "11048",
                                    "orderdate": "2016-04-24",
                                    "EmployeeId": "7"
                                },
                                {
                                    "CustomerId": "11",
                                    "orderid": "11023",
                                    "orderdate": "2016-04-14",
                                    "EmployeeId": "1"
                                },
                                {
                                    "CustomerId": "12",
                                    "orderid": "11054",
                                    "orderdate": "2016-04-28",
                                    "EmployeeId": "8"
                                },
                                {
                                    "CustomerId": "13",
                                    "orderid": "10259",
                                    "orderdate": "2014-07-18",
                                    "EmployeeId": "4"
                                },
                                {
                                    "CustomerId": "14",
                                    "orderid": "11041",
                                    "orderdate": "2016-04-22",
                                    "EmployeeId": "3"
                                },
                                {
                                    "CustomerId": "15",
                                    "orderid": "11042",
                                    "orderdate": "2016-04-22",
                                    "EmployeeId": "2"
                                },
                                {
                                    "CustomerId": "16",
                                    "orderid": "10848",
                                    "orderdate": "2016-01-23",
                                    "EmployeeId": "7"
                                },
                                {
                                    "CustomerId": "17",
                                    "orderid": "11067",
                                    "orderdate": "2016-05-04",
                                    "EmployeeId": "1"
                                },
                                {
                                    "CustomerId": "18",
                                    "orderid": "10890",
                                    "orderdate": "2016-02-16",
                                    "EmployeeId": "7"
                                },
                                {
                                    "CustomerId": "19",
                                    "orderid": "11056",
                                    "orderdate": "2016-04-28",
                                    "EmployeeId": "8"
                                },
                                {
                                    "CustomerId": "20",
                                    "orderid": "11072",
                                    "orderdate": "2016-05-05",
                                    "EmployeeId": "4"
                                },
                                {
                                    "CustomerId": "21",
                                    "orderid": "10725",
                                    "orderdate": "2015-10-31",
                                    "EmployeeId": "4"
                                },
                                {
                                    "CustomerId": "23",
                                    "orderid": "10789",
                                    "orderdate": "2015-12-22",
                                    "EmployeeId": "1"
                                },
                                {
                                    "CustomerId": "24",
                                    "orderid": "11050",
                                    "orderdate": "2016-04-27",
                                    "EmployeeId": "8"
                                },
                                {
                                    "CustomerId": "25",
                                    "orderid": "11012",
                                    "orderdate": "2016-04-09",
                                    "EmployeeId": "1"
                                },
                                {
                                    "CustomerId": "26",
                                    "orderid": "10971",
                                    "orderdate": "2016-03-24",
                                    "EmployeeId": "2"
                                },
                                {
                                    "CustomerId": "27",
                                    "orderid": "11060",
                                    "orderdate": "2016-04-30",
                                    "EmployeeId": "2"
                                },
                                {
                                    "CustomerId": "28",
                                    "orderid": "10963",
                                    "orderdate": "2016-03-19",
                                    "EmployeeId": "9"
                                },
                                {
                                    "CustomerId": "29",
                                    "orderid": "10928",
                                    "orderdate": "2016-03-05",
                                    "EmployeeId": "1"
                                },
                                {
                                    "CustomerId": "30",
                                    "orderid": "11037",
                                    "orderdate": "2016-04-21",
                                    "EmployeeId": "7"
                                },
                                {
                                    "CustomerId": "31",
                                    "orderid": "11049",
                                    "orderdate": "2016-04-24",
                                    "EmployeeId": "3"
                                },
                                {
                                    "CustomerId": "32",
                                    "orderid": "11061",
                                    "orderdate": "2016-04-30",
                                    "EmployeeId": "4"
                                },
                                {
                                    "CustomerId": "33",
                                    "orderid": "10785",
                                    "orderdate": "2015-12-18",
                                    "EmployeeId": "1"
                                },
                                {
                                    "CustomerId": "34",
                                    "orderid": "11052",
                                    "orderdate": "2016-04-27",
                                    "EmployeeId": "3"
                                },
                                {
                                    "CustomerId": "35",
                                    "orderid": "11055",
                                    "orderdate": "2016-04-28",
                                    "EmployeeId": "7"
                                },
                                {
                                    "CustomerId": "36",
                                    "orderid": "10660",
                                    "orderdate": "2015-09-08",
                                    "EmployeeId": "8"
                                },
                                {
                                    "CustomerId": "37",
                                    "orderid": "11063",
                                    "orderdate": "2016-04-30",
                                    "EmployeeId": "3"
                                },
                                {
                                    "CustomerId": "38",
                                    "orderid": "10933",
                                    "orderdate": "2016-03-06",
                                    "EmployeeId": "6"
                                },
                                {
                                    "CustomerId": "39",
                                    "orderid": "11028",
                                    "orderdate": "2016-04-16",
                                    "EmployeeId": "2"
                                },
                                {
                                    "CustomerId": "40",
                                    "orderid": "10972",
                                    "orderdate": "2016-03-24",
                                    "EmployeeId": "4"
                                },
                                {
                                    "CustomerId": "40",
                                    "orderid": "10973",
                                    "orderdate": "2016-03-24",
                                    "EmployeeId": "6"
                                },
                                {
                                    "CustomerId": "41",
                                    "orderid": "11051",
                                    "orderdate": "2016-04-27",
                                    "EmployeeId": "7"
                                },
                                {
                                    "CustomerId": "42",
                                    "orderid": "10810",
                                    "orderdate": "2016-01-01",
                                    "EmployeeId": "2"
                                },
                                {
                                    "CustomerId": "43",
                                    "orderid": "10545",
                                    "orderdate": "2015-05-22",
                                    "EmployeeId": "8"
                                },
                                {
                                    "CustomerId": "44",
                                    "orderid": "11070",
                                    "orderdate": "2016-05-05",
                                    "EmployeeId": "2"
                                },
                                {
                                    "CustomerId": "45",
                                    "orderid": "10884",
                                    "orderdate": "2016-02-12",
                                    "EmployeeId": "4"
                                },
                                {
                                    "CustomerId": "46",
                                    "orderid": "11071",
                                    "orderdate": "2016-05-05",
                                    "EmployeeId": "1"
                                },
                                {
                                    "CustomerId": "47",
                                    "orderid": "11039",
                                    "orderdate": "2016-04-21",
                                    "EmployeeId": "1"
                                },
                                {
                                    "CustomerId": "48",
                                    "orderid": "11018",
                                    "orderdate": "2016-04-13",
                                    "EmployeeId": "4"
                                },
                                {
                                    "CustomerId": "49",
                                    "orderid": "10950",
                                    "orderdate": "2016-03-16",
                                    "EmployeeId": "1"
                                },
                                {
                                    "CustomerId": "50",
                                    "orderid": "11004",
                                    "orderdate": "2016-04-07",
                                    "EmployeeId": "3"
                                },
                                {
                                    "CustomerId": "51",
                                    "orderid": "10724",
                                    "orderdate": "2015-10-30",
                                    "EmployeeId": "8"
                                },
                                {
                                    "CustomerId": "52",
                                    "orderid": "10945",
                                    "orderdate": "2016-03-12",
                                    "EmployeeId": "4"
                                },
                                {
                                    "CustomerId": "53",
                                    "orderid": "11057",
                                    "orderdate": "2016-04-29",
                                    "EmployeeId": "3"
                                },
                                {
                                    "CustomerId": "54",
                                    "orderid": "10986",
                                    "orderdate": "2016-03-30",
                                    "EmployeeId": "8"
                                },
                                {
                                    "CustomerId": "55",
                                    "orderid": "11034",
                                    "orderdate": "2016-04-20",
                                    "EmployeeId": "8"
                                },
                                {
                                    "CustomerId": "56",
                                    "orderid": "11020",
                                    "orderdate": "2016-04-14",
                                    "EmployeeId": "2"
                                },
                                {
                                    "CustomerId": "58",
                                    "orderid": "11073",
                                    "orderdate": "2016-05-05",
                                    "EmployeeId": "2"
                                },
                                {
                                    "CustomerId": "59",
                                    "orderid": "11053",
                                    "orderdate": "2016-04-27",
                                    "EmployeeId": "2"
                                },
                                {
                                    "CustomerId": "60",
                                    "orderid": "11007",
                                    "orderdate": "2016-04-08",
                                    "EmployeeId": "8"
                                },
                                {
                                    "CustomerId": "61",
                                    "orderid": "10989",
                                    "orderdate": "2016-03-31",
                                    "EmployeeId": "2"
                                },
                                {
                                    "CustomerId": "62",
                                    "orderid": "11068",
                                    "orderdate": "2016-05-04",
                                    "EmployeeId": "8"
                                },
                                {
                                    "CustomerId": "63",
                                    "orderid": "11021",
                                    "orderdate": "2016-04-14",
                                    "EmployeeId": "3"
                                },
                                {
                                    "CustomerId": "64",
                                    "orderid": "11019",
                                    "orderdate": "2016-04-13",
                                    "EmployeeId": "6"
                                },
                                {
                                    "CustomerId": "65",
                                    "orderid": "11077",
                                    "orderdate": "2016-05-06",
                                    "EmployeeId": "1"
                                },
                                {
                                    "CustomerId": "66",
                                    "orderid": "11062",
                                    "orderdate": "2016-04-30",
                                    "EmployeeId": "4"
                                },
                                {
                                    "CustomerId": "67",
                                    "orderid": "11059",
                                    "orderdate": "2016-04-29",
                                    "EmployeeId": "2"
                                },
                                {
                                    "CustomerId": "68",
                                    "orderid": "11075",
                                    "orderdate": "2016-05-06",
                                    "EmployeeId": "8"
                                },
                                {
                                    "CustomerId": "69",
                                    "orderid": "11013",
                                    "orderdate": "2016-04-09",
                                    "EmployeeId": "2"
                                },
                                {
                                    "CustomerId": "70",
                                    "orderid": "11015",
                                    "orderdate": "2016-04-10",
                                    "EmployeeId": "2"
                                },
                                {
                                    "CustomerId": "71",
                                    "orderid": "11064",
                                    "orderdate": "2016-05-01",
                                    "EmployeeId": "1"
                                },
                                {
                                    "CustomerId": "72",
                                    "orderid": "10869",
                                    "orderdate": "2016-02-04",
                                    "EmployeeId": "5"
                                },
                                {
                                    "CustomerId": "73",
                                    "orderid": "11074",
                                    "orderdate": "2016-05-06",
                                    "EmployeeId": "7"
                                },
                                {
                                    "CustomerId": "74",
                                    "orderid": "11043",
                                    "orderdate": "2016-04-22",
                                    "EmployeeId": "5"
                                },
                                {
                                    "CustomerId": "75",
                                    "orderid": "10974",
                                    "orderdate": "2016-03-25",
                                    "EmployeeId": "3"
                                },
                                {
                                    "CustomerId": "76",
                                    "orderid": "11038",
                                    "orderdate": "2016-04-21",
                                    "EmployeeId": "1"
                                },
                                {
                                    "CustomerId": "77",
                                    "orderid": "10992",
                                    "orderdate": "2016-04-01",
                                    "EmployeeId": "1"
                                },
                                {
                                    "CustomerId": "78",
                                    "orderid": "11003",
                                    "orderdate": "2016-04-06",
                                    "EmployeeId": "3"
                                },
                                {
                                    "CustomerId": "79",
                                    "orderid": "10967",
                                    "orderdate": "2016-03-23",
                                    "EmployeeId": "2"
                                },
                                {
                                    "CustomerId": "80",
                                    "orderid": "11069",
                                    "orderdate": "2016-05-04",
                                    "EmployeeId": "1"
                                },
                                {
                                    "CustomerId": "81",
                                    "orderid": "10839",
                                    "orderdate": "2016-01-19",
                                    "EmployeeId": "3"
                                },
                                {
                                    "CustomerId": "82",
                                    "orderid": "10822",
                                    "orderdate": "2016-01-08",
                                    "EmployeeId": "6"
                                },
                                {
                                    "CustomerId": "83",
                                    "orderid": "10994",
                                    "orderdate": "2016-04-02",
                                    "EmployeeId": "2"
                                },
                                {
                                    "CustomerId": "84",
                                    "orderid": "10850",
                                    "orderdate": "2016-01-23",
                                    "EmployeeId": "1"
                                },
                                {
                                    "CustomerId": "85",
                                    "orderid": "10739",
                                    "orderdate": "2015-11-12",
                                    "EmployeeId": "3"
                                },
                                {
                                    "CustomerId": "86",
                                    "orderid": "11046",
                                    "orderdate": "2016-04-23",
                                    "EmployeeId": "8"
                                },
                                {
                                    "CustomerId": "87",
                                    "orderid": "11025",
                                    "orderdate": "2016-04-15",
                                    "EmployeeId": "6"
                                },
                                {
                                    "CustomerId": "88",
                                    "orderid": "10935",
                                    "orderdate": "2016-03-09",
                                    "EmployeeId": "4"
                                },
                                {
                                    "CustomerId": "89",
                                    "orderid": "11066",
                                    "orderdate": "2016-05-01",
                                    "EmployeeId": "7"
                                },
                                {
                                    "CustomerId": "90",
                                    "orderid": "11005",
                                    "orderdate": "2016-04-07",
                                    "EmployeeId": "2"
                                },
                                {
                                    "CustomerId": "91",
                                    "orderid": "11044",
                                    "orderdate": "2016-04-23",
                                    "EmployeeId": "4"
                                }
                            ]
                        },
                        "text/html": [
                            "<table>",
                            "<tr><th>CustomerId</th><th>orderid</th><th>orderdate</th><th>EmployeeId</th></tr>",
                            "<tr><td>1</td><td>11011</td><td>2016-04-09</td><td>3</td></tr>",
                            "<tr><td>2</td><td>10926</td><td>2016-03-04</td><td>4</td></tr>",
                            "<tr><td>3</td><td>10856</td><td>2016-01-28</td><td>3</td></tr>",
                            "<tr><td>4</td><td>11016</td><td>2016-04-10</td><td>9</td></tr>",
                            "<tr><td>5</td><td>10924</td><td>2016-03-04</td><td>3</td></tr>",
                            "<tr><td>6</td><td>11058</td><td>2016-04-29</td><td>9</td></tr>",
                            "<tr><td>7</td><td>10826</td><td>2016-01-12</td><td>6</td></tr>",
                            "<tr><td>8</td><td>10970</td><td>2016-03-24</td><td>9</td></tr>",
                            "<tr><td>9</td><td>11076</td><td>2016-05-06</td><td>4</td></tr>",
                            "<tr><td>10</td><td>11048</td><td>2016-04-24</td><td>7</td></tr>",
                            "<tr><td>11</td><td>11023</td><td>2016-04-14</td><td>1</td></tr>",
                            "<tr><td>12</td><td>11054</td><td>2016-04-28</td><td>8</td></tr>",
                            "<tr><td>13</td><td>10259</td><td>2014-07-18</td><td>4</td></tr>",
                            "<tr><td>14</td><td>11041</td><td>2016-04-22</td><td>3</td></tr>",
                            "<tr><td>15</td><td>11042</td><td>2016-04-22</td><td>2</td></tr>",
                            "<tr><td>16</td><td>10848</td><td>2016-01-23</td><td>7</td></tr>",
                            "<tr><td>17</td><td>11067</td><td>2016-05-04</td><td>1</td></tr>",
                            "<tr><td>18</td><td>10890</td><td>2016-02-16</td><td>7</td></tr>",
                            "<tr><td>19</td><td>11056</td><td>2016-04-28</td><td>8</td></tr>",
                            "<tr><td>20</td><td>11072</td><td>2016-05-05</td><td>4</td></tr>",
                            "<tr><td>21</td><td>10725</td><td>2015-10-31</td><td>4</td></tr>",
                            "<tr><td>23</td><td>10789</td><td>2015-12-22</td><td>1</td></tr>",
                            "<tr><td>24</td><td>11050</td><td>2016-04-27</td><td>8</td></tr>",
                            "<tr><td>25</td><td>11012</td><td>2016-04-09</td><td>1</td></tr>",
                            "<tr><td>26</td><td>10971</td><td>2016-03-24</td><td>2</td></tr>",
                            "<tr><td>27</td><td>11060</td><td>2016-04-30</td><td>2</td></tr>",
                            "<tr><td>28</td><td>10963</td><td>2016-03-19</td><td>9</td></tr>",
                            "<tr><td>29</td><td>10928</td><td>2016-03-05</td><td>1</td></tr>",
                            "<tr><td>30</td><td>11037</td><td>2016-04-21</td><td>7</td></tr>",
                            "<tr><td>31</td><td>11049</td><td>2016-04-24</td><td>3</td></tr>",
                            "<tr><td>32</td><td>11061</td><td>2016-04-30</td><td>4</td></tr>",
                            "<tr><td>33</td><td>10785</td><td>2015-12-18</td><td>1</td></tr>",
                            "<tr><td>34</td><td>11052</td><td>2016-04-27</td><td>3</td></tr>",
                            "<tr><td>35</td><td>11055</td><td>2016-04-28</td><td>7</td></tr>",
                            "<tr><td>36</td><td>10660</td><td>2015-09-08</td><td>8</td></tr>",
                            "<tr><td>37</td><td>11063</td><td>2016-04-30</td><td>3</td></tr>",
                            "<tr><td>38</td><td>10933</td><td>2016-03-06</td><td>6</td></tr>",
                            "<tr><td>39</td><td>11028</td><td>2016-04-16</td><td>2</td></tr>",
                            "<tr><td>40</td><td>10972</td><td>2016-03-24</td><td>4</td></tr>",
                            "<tr><td>40</td><td>10973</td><td>2016-03-24</td><td>6</td></tr>",
                            "<tr><td>41</td><td>11051</td><td>2016-04-27</td><td>7</td></tr>",
                            "<tr><td>42</td><td>10810</td><td>2016-01-01</td><td>2</td></tr>",
                            "<tr><td>43</td><td>10545</td><td>2015-05-22</td><td>8</td></tr>",
                            "<tr><td>44</td><td>11070</td><td>2016-05-05</td><td>2</td></tr>",
                            "<tr><td>45</td><td>10884</td><td>2016-02-12</td><td>4</td></tr>",
                            "<tr><td>46</td><td>11071</td><td>2016-05-05</td><td>1</td></tr>",
                            "<tr><td>47</td><td>11039</td><td>2016-04-21</td><td>1</td></tr>",
                            "<tr><td>48</td><td>11018</td><td>2016-04-13</td><td>4</td></tr>",
                            "<tr><td>49</td><td>10950</td><td>2016-03-16</td><td>1</td></tr>",
                            "<tr><td>50</td><td>11004</td><td>2016-04-07</td><td>3</td></tr>",
                            "<tr><td>51</td><td>10724</td><td>2015-10-30</td><td>8</td></tr>",
                            "<tr><td>52</td><td>10945</td><td>2016-03-12</td><td>4</td></tr>",
                            "<tr><td>53</td><td>11057</td><td>2016-04-29</td><td>3</td></tr>",
                            "<tr><td>54</td><td>10986</td><td>2016-03-30</td><td>8</td></tr>",
                            "<tr><td>55</td><td>11034</td><td>2016-04-20</td><td>8</td></tr>",
                            "<tr><td>56</td><td>11020</td><td>2016-04-14</td><td>2</td></tr>",
                            "<tr><td>58</td><td>11073</td><td>2016-05-05</td><td>2</td></tr>",
                            "<tr><td>59</td><td>11053</td><td>2016-04-27</td><td>2</td></tr>",
                            "<tr><td>60</td><td>11007</td><td>2016-04-08</td><td>8</td></tr>",
                            "<tr><td>61</td><td>10989</td><td>2016-03-31</td><td>2</td></tr>",
                            "<tr><td>62</td><td>11068</td><td>2016-05-04</td><td>8</td></tr>",
                            "<tr><td>63</td><td>11021</td><td>2016-04-14</td><td>3</td></tr>",
                            "<tr><td>64</td><td>11019</td><td>2016-04-13</td><td>6</td></tr>",
                            "<tr><td>65</td><td>11077</td><td>2016-05-06</td><td>1</td></tr>",
                            "<tr><td>66</td><td>11062</td><td>2016-04-30</td><td>4</td></tr>",
                            "<tr><td>67</td><td>11059</td><td>2016-04-29</td><td>2</td></tr>",
                            "<tr><td>68</td><td>11075</td><td>2016-05-06</td><td>8</td></tr>",
                            "<tr><td>69</td><td>11013</td><td>2016-04-09</td><td>2</td></tr>",
                            "<tr><td>70</td><td>11015</td><td>2016-04-10</td><td>2</td></tr>",
                            "<tr><td>71</td><td>11064</td><td>2016-05-01</td><td>1</td></tr>",
                            "<tr><td>72</td><td>10869</td><td>2016-02-04</td><td>5</td></tr>",
                            "<tr><td>73</td><td>11074</td><td>2016-05-06</td><td>7</td></tr>",
                            "<tr><td>74</td><td>11043</td><td>2016-04-22</td><td>5</td></tr>",
                            "<tr><td>75</td><td>10974</td><td>2016-03-25</td><td>3</td></tr>",
                            "<tr><td>76</td><td>11038</td><td>2016-04-21</td><td>1</td></tr>",
                            "<tr><td>77</td><td>10992</td><td>2016-04-01</td><td>1</td></tr>",
                            "<tr><td>78</td><td>11003</td><td>2016-04-06</td><td>3</td></tr>",
                            "<tr><td>79</td><td>10967</td><td>2016-03-23</td><td>2</td></tr>",
                            "<tr><td>80</td><td>11069</td><td>2016-05-04</td><td>1</td></tr>",
                            "<tr><td>81</td><td>10839</td><td>2016-01-19</td><td>3</td></tr>",
                            "<tr><td>82</td><td>10822</td><td>2016-01-08</td><td>6</td></tr>",
                            "<tr><td>83</td><td>10994</td><td>2016-04-02</td><td>2</td></tr>",
                            "<tr><td>84</td><td>10850</td><td>2016-01-23</td><td>1</td></tr>",
                            "<tr><td>85</td><td>10739</td><td>2015-11-12</td><td>3</td></tr>",
                            "<tr><td>86</td><td>11046</td><td>2016-04-23</td><td>8</td></tr>",
                            "<tr><td>87</td><td>11025</td><td>2016-04-15</td><td>6</td></tr>",
                            "<tr><td>88</td><td>10935</td><td>2016-03-09</td><td>4</td></tr>",
                            "<tr><td>89</td><td>11066</td><td>2016-05-01</td><td>7</td></tr>",
                            "<tr><td>90</td><td>11005</td><td>2016-04-07</td><td>2</td></tr>",
                            "<tr><td>91</td><td>11044</td><td>2016-04-23</td><td>4</td></tr>",
                            "</table>"
                        ]
                    }
                }
            ],
            "execution_count": 6
        },
        {
            "cell_type": "markdown",
            "source": [
                "```\n",
                "-- 6\n",
                "-- Write a query that returns customers\n",
                "-- who placed orders in 2015 but not in 2016\n",
                "-- Tables involved: TSQLV4 database, Customers and Orders tables\n",
                "```"
            ],
            "metadata": {
                "azdata_cell_guid": "31598b4a-03e0-49b7-9f45-60688b23ec60"
            },
            "attachments": {}
        },
        {
            "cell_type": "code",
            "source": [
                "USE Northwinds2022TSQLV7\r\n",
                "SELECT CustomerId, CustomerCompanyName\r\n",
                "FROM Sales.Customer AS C\r\n",
                "WHERE EXISTS\r\n",
                "(SELECT *\r\n",
                "FROM Sales.[Order] AS O\r\n",
                "WHERE O.CustomerId = C.CustomerId\r\n",
                "AND O.orderdate >= '20150101'\r\n",
                "AND O.orderdate < '20160101')\r\n",
                "AND NOT EXISTS\r\n",
                "(SELECT *\r\n",
                "FROM Sales.[Order] AS O\r\n",
                "WHERE O.CustomerId = C.CustomerId\r\n",
                "AND O.orderdate >= '20160101'\r\n",
                "AND O.orderdate < '20170101');\r\n",
                ""
            ],
            "metadata": {
                "azdata_cell_guid": "0f664c45-ea58-43ee-84f8-610464a7c647",
                "language": "sql"
            },
            "outputs": [
                {
                    "output_type": "display_data",
                    "data": {
                        "text/html": "(7 rows affected)"
                    },
                    "metadata": {}
                },
                {
                    "output_type": "display_data",
                    "data": {
                        "text/html": "Total execution time: 00:00:00.069"
                    },
                    "metadata": {}
                },
                {
                    "output_type": "execute_result",
                    "metadata": {},
                    "execution_count": 5,
                    "data": {
                        "application/vnd.dataresource+json": {
                            "schema": {
                                "fields": [
                                    {
                                        "name": "CustomerId"
                                    },
                                    {
                                        "name": "CustomerCompanyName"
                                    }
                                ]
                            },
                            "data": [
                                {
                                    "CustomerId": "21",
                                    "CustomerCompanyName": "Customer KIDPX"
                                },
                                {
                                    "CustomerId": "23",
                                    "CustomerCompanyName": "Customer WVFAF"
                                },
                                {
                                    "CustomerId": "33",
                                    "CustomerCompanyName": "Customer FVXPQ"
                                },
                                {
                                    "CustomerId": "36",
                                    "CustomerCompanyName": "Customer LVJSO"
                                },
                                {
                                    "CustomerId": "43",
                                    "CustomerCompanyName": "Customer UISOJ"
                                },
                                {
                                    "CustomerId": "51",
                                    "CustomerCompanyName": "Customer PVDZC"
                                },
                                {
                                    "CustomerId": "85",
                                    "CustomerCompanyName": "Customer ENQZT"
                                }
                            ]
                        },
                        "text/html": [
                            "<table>",
                            "<tr><th>CustomerId</th><th>CustomerCompanyName</th></tr>",
                            "<tr><td>21</td><td>Customer KIDPX</td></tr>",
                            "<tr><td>23</td><td>Customer WVFAF</td></tr>",
                            "<tr><td>33</td><td>Customer FVXPQ</td></tr>",
                            "<tr><td>36</td><td>Customer LVJSO</td></tr>",
                            "<tr><td>43</td><td>Customer UISOJ</td></tr>",
                            "<tr><td>51</td><td>Customer PVDZC</td></tr>",
                            "<tr><td>85</td><td>Customer ENQZT</td></tr>",
                            "</table>"
                        ]
                    }
                }
            ],
            "execution_count": 5
        },
        {
            "cell_type": "markdown",
            "source": [
                "```\n",
                "-- 7 (Optional, Advanced)\n",
                "-- Write a query that returns customers\n",
                "-- who ordered product 12\n",
                "-- Tables involved: TSQLV4 database,\n",
                "-- Customers, Orders and OrderDetails tables\n",
                "```"
            ],
            "metadata": {
                "azdata_cell_guid": "0aeb91a2-11b0-412f-842b-2e8dd806fde0"
            },
            "attachments": {}
        },
        {
            "cell_type": "code",
            "source": [
                "USE Northwinds2022TSQLV7\r\n",
                "SELECT CustomerId, CustomerCompanyName\r\n",
                "FROM Sales.Customer AS C\r\n",
                "WHERE EXISTS\r\n",
                "(SELECT *\r\n",
                "FROM Sales.[Order] AS O\r\n",
                "WHERE O.CustomerId = C.CustomerId\r\n",
                "AND EXISTS\r\n",
                "(SELECT *\r\n",
                "FROM Sales.OrderDetail AS OD\r\n",
                "WHERE OD.orderid = O.orderid\r\n",
                "AND OD.ProductID = 12));"
            ],
            "metadata": {
                "azdata_cell_guid": "9c65aae3-4993-44fb-807b-1e36da596b93",
                "language": "sql"
            },
            "outputs": [
                {
                    "output_type": "display_data",
                    "data": {
                        "text/html": "(12 rows affected)"
                    },
                    "metadata": {}
                },
                {
                    "output_type": "display_data",
                    "data": {
                        "text/html": "Total execution time: 00:00:00.070"
                    },
                    "metadata": {}
                },
                {
                    "output_type": "execute_result",
                    "metadata": {},
                    "execution_count": 4,
                    "data": {
                        "application/vnd.dataresource+json": {
                            "schema": {
                                "fields": [
                                    {
                                        "name": "CustomerId"
                                    },
                                    {
                                        "name": "CustomerCompanyName"
                                    }
                                ]
                            },
                            "data": [
                                {
                                    "CustomerId": "20",
                                    "CustomerCompanyName": "Customer THHDP"
                                },
                                {
                                    "CustomerId": "31",
                                    "CustomerCompanyName": "Customer YJCBX"
                                },
                                {
                                    "CustomerId": "39",
                                    "CustomerCompanyName": "Customer GLLAG"
                                },
                                {
                                    "CustomerId": "44",
                                    "CustomerCompanyName": "Customer OXFRU"
                                },
                                {
                                    "CustomerId": "46",
                                    "CustomerCompanyName": "Customer XPNIK"
                                },
                                {
                                    "CustomerId": "48",
                                    "CustomerCompanyName": "Customer DVFMB"
                                },
                                {
                                    "CustomerId": "51",
                                    "CustomerCompanyName": "Customer PVDZC"
                                },
                                {
                                    "CustomerId": "65",
                                    "CustomerCompanyName": "Customer NYUHS"
                                },
                                {
                                    "CustomerId": "71",
                                    "CustomerCompanyName": "Customer LCOUJ"
                                },
                                {
                                    "CustomerId": "86",
                                    "CustomerCompanyName": "Customer SNXOJ"
                                },
                                {
                                    "CustomerId": "87",
                                    "CustomerCompanyName": "Customer ZHYOS"
                                },
                                {
                                    "CustomerId": "90",
                                    "CustomerCompanyName": "Customer XBBVR"
                                }
                            ]
                        },
                        "text/html": [
                            "<table>",
                            "<tr><th>CustomerId</th><th>CustomerCompanyName</th></tr>",
                            "<tr><td>20</td><td>Customer THHDP</td></tr>",
                            "<tr><td>31</td><td>Customer YJCBX</td></tr>",
                            "<tr><td>39</td><td>Customer GLLAG</td></tr>",
                            "<tr><td>44</td><td>Customer OXFRU</td></tr>",
                            "<tr><td>46</td><td>Customer XPNIK</td></tr>",
                            "<tr><td>48</td><td>Customer DVFMB</td></tr>",
                            "<tr><td>51</td><td>Customer PVDZC</td></tr>",
                            "<tr><td>65</td><td>Customer NYUHS</td></tr>",
                            "<tr><td>71</td><td>Customer LCOUJ</td></tr>",
                            "<tr><td>86</td><td>Customer SNXOJ</td></tr>",
                            "<tr><td>87</td><td>Customer ZHYOS</td></tr>",
                            "<tr><td>90</td><td>Customer XBBVR</td></tr>",
                            "</table>"
                        ]
                    }
                }
            ],
            "execution_count": 4
        },
        {
            "cell_type": "markdown",
            "source": [
                "```\n",
                "-- 8 (Optional, Advanced)\n",
                "-- Write a query that calculates a running total qty\n",
                "-- for each customer and month using subqueries\n",
                "-- Tables involved: TSQLV4 database, Sales.CustOrders view\n",
                "```"
            ],
            "metadata": {
                "azdata_cell_guid": "7de174c0-a13f-4af0-a83b-2ecab806bbff"
            },
            "attachments": {}
        },
        {
            "cell_type": "code",
            "source": [
                "USE Northwinds2022TSQLV7;\r\n",
                "SELECT CustomerId, ordermonth, TotalQuantity,\r\n",
                "(SELECT SUM(O2.TotalQuantity)\r\n",
                "FROM Sales.uvw_CustomerOrder AS O2\r\n",
                "WHERE O2.CustomerId = O1.CustomerId\r\n",
                "AND O2.ordermonth <= O1.ordermonth) AS qty\r\n",
                "FROM Sales.uvw_CustomerOrder AS O1\r\n",
                "ORDER BY CustomerId, ordermonth;\r\n",
                ""
            ],
            "metadata": {
                "azdata_cell_guid": "ecd1161d-34ac-49fc-9db2-b63965d39a3a",
                "language": "sql"
            },
            "outputs": [
                {
                    "output_type": "display_data",
                    "data": {
                        "text/html": "(636 rows affected)"
                    },
                    "metadata": {}
                },
                {
                    "output_type": "display_data",
                    "data": {
                        "text/html": "Total execution time: 00:00:00.083"
                    },
                    "metadata": {}
                },
                {
                    "output_type": "execute_result",
                    "metadata": {},
                    "execution_count": 3,
                    "data": {
                        "application/vnd.dataresource+json": {
                            "schema": {
                                "fields": [
                                    {
                                        "name": "CustomerId"
                                    },
                                    {
                                        "name": "ordermonth"
                                    },
                                    {
                                        "name": "TotalQuantity"
                                    },
                                    {
                                        "name": "qty"
                                    }
                                ]
                            },
                            "data": [
                                {
                                    "CustomerId": "1",
                                    "ordermonth": "2015-08-01",
                                    "TotalQuantity": "38",
                                    "qty": "38"
                                },
                                {
                                    "CustomerId": "1",
                                    "ordermonth": "2015-10-01",
                                    "TotalQuantity": "41",
                                    "qty": "79"
                                },
                                {
                                    "CustomerId": "1",
                                    "ordermonth": "2016-01-01",
                                    "TotalQuantity": "17",
                                    "qty": "96"
                                },
                                {
                                    "CustomerId": "1",
                                    "ordermonth": "2016-03-01",
                                    "TotalQuantity": "18",
                                    "qty": "114"
                                },
                                {
                                    "CustomerId": "1",
                                    "ordermonth": "2016-04-01",
                                    "TotalQuantity": "60",
                                    "qty": "174"
                                },
                                {
                                    "CustomerId": "2",
                                    "ordermonth": "2014-09-01",
                                    "TotalQuantity": "6",
                                    "qty": "6"
                                },
                                {
                                    "CustomerId": "2",
                                    "ordermonth": "2015-08-01",
                                    "TotalQuantity": "18",
                                    "qty": "24"
                                },
                                {
                                    "CustomerId": "2",
                                    "ordermonth": "2015-11-01",
                                    "TotalQuantity": "10",
                                    "qty": "34"
                                },
                                {
                                    "CustomerId": "2",
                                    "ordermonth": "2016-03-01",
                                    "TotalQuantity": "29",
                                    "qty": "63"
                                },
                                {
                                    "CustomerId": "3",
                                    "ordermonth": "2014-11-01",
                                    "TotalQuantity": "24",
                                    "qty": "24"
                                },
                                {
                                    "CustomerId": "3",
                                    "ordermonth": "2015-04-01",
                                    "TotalQuantity": "30",
                                    "qty": "54"
                                },
                                {
                                    "CustomerId": "3",
                                    "ordermonth": "2015-05-01",
                                    "TotalQuantity": "80",
                                    "qty": "134"
                                },
                                {
                                    "CustomerId": "3",
                                    "ordermonth": "2015-06-01",
                                    "TotalQuantity": "83",
                                    "qty": "217"
                                },
                                {
                                    "CustomerId": "3",
                                    "ordermonth": "2015-09-01",
                                    "TotalQuantity": "102",
                                    "qty": "319"
                                },
                                {
                                    "CustomerId": "3",
                                    "ordermonth": "2016-01-01",
                                    "TotalQuantity": "40",
                                    "qty": "359"
                                },
                                {
                                    "CustomerId": "4",
                                    "ordermonth": "2014-11-01",
                                    "TotalQuantity": "50",
                                    "qty": "50"
                                },
                                {
                                    "CustomerId": "4",
                                    "ordermonth": "2014-12-01",
                                    "TotalQuantity": "55",
                                    "qty": "105"
                                },
                                {
                                    "CustomerId": "4",
                                    "ordermonth": "2015-02-01",
                                    "TotalQuantity": "40",
                                    "qty": "145"
                                },
                                {
                                    "CustomerId": "4",
                                    "ordermonth": "2015-06-01",
                                    "TotalQuantity": "96",
                                    "qty": "241"
                                },
                                {
                                    "CustomerId": "4",
                                    "ordermonth": "2015-10-01",
                                    "TotalQuantity": "89",
                                    "qty": "330"
                                },
                                {
                                    "CustomerId": "4",
                                    "ordermonth": "2015-11-01",
                                    "TotalQuantity": "43",
                                    "qty": "373"
                                },
                                {
                                    "CustomerId": "4",
                                    "ordermonth": "2015-12-01",
                                    "TotalQuantity": "103",
                                    "qty": "476"
                                },
                                {
                                    "CustomerId": "4",
                                    "ordermonth": "2016-02-01",
                                    "TotalQuantity": "19",
                                    "qty": "495"
                                },
                                {
                                    "CustomerId": "4",
                                    "ordermonth": "2016-03-01",
                                    "TotalQuantity": "124",
                                    "qty": "619"
                                },
                                {
                                    "CustomerId": "4",
                                    "ordermonth": "2016-04-01",
                                    "TotalQuantity": "31",
                                    "qty": "650"
                                },
                                {
                                    "CustomerId": "5",
                                    "ordermonth": "2014-08-01",
                                    "TotalQuantity": "126",
                                    "qty": "126"
                                },
                                {
                                    "CustomerId": "5",
                                    "ordermonth": "2014-12-01",
                                    "TotalQuantity": "43",
                                    "qty": "169"
                                },
                                {
                                    "CustomerId": "5",
                                    "ordermonth": "2015-02-01",
                                    "TotalQuantity": "84",
                                    "qty": "253"
                                },
                                {
                                    "CustomerId": "5",
                                    "ordermonth": "2015-05-01",
                                    "TotalQuantity": "87",
                                    "qty": "340"
                                },
                                {
                                    "CustomerId": "5",
                                    "ordermonth": "2015-06-01",
                                    "TotalQuantity": "87",
                                    "qty": "427"
                                },
                                {
                                    "CustomerId": "5",
                                    "ordermonth": "2015-08-01",
                                    "TotalQuantity": "52",
                                    "qty": "479"
                                },
                                {
                                    "CustomerId": "5",
                                    "ordermonth": "2015-09-01",
                                    "TotalQuantity": "65",
                                    "qty": "544"
                                },
                                {
                                    "CustomerId": "5",
                                    "ordermonth": "2015-10-01",
                                    "TotalQuantity": "35",
                                    "qty": "579"
                                },
                                {
                                    "CustomerId": "5",
                                    "ordermonth": "2015-11-01",
                                    "TotalQuantity": "61",
                                    "qty": "640"
                                },
                                {
                                    "CustomerId": "5",
                                    "ordermonth": "2015-12-01",
                                    "TotalQuantity": "10",
                                    "qty": "650"
                                },
                                {
                                    "CustomerId": "5",
                                    "ordermonth": "2016-01-01",
                                    "TotalQuantity": "167",
                                    "qty": "817"
                                },
                                {
                                    "CustomerId": "5",
                                    "ordermonth": "2016-02-01",
                                    "TotalQuantity": "128",
                                    "qty": "945"
                                },
                                {
                                    "CustomerId": "5",
                                    "ordermonth": "2016-03-01",
                                    "TotalQuantity": "56",
                                    "qty": "1001"
                                },
                                {
                                    "CustomerId": "6",
                                    "ordermonth": "2015-04-01",
                                    "TotalQuantity": "23",
                                    "qty": "23"
                                },
                                {
                                    "CustomerId": "6",
                                    "ordermonth": "2015-06-01",
                                    "TotalQuantity": "18",
                                    "qty": "41"
                                },
                                {
                                    "CustomerId": "6",
                                    "ordermonth": "2015-07-01",
                                    "TotalQuantity": "27",
                                    "qty": "68"
                                },
                                {
                                    "CustomerId": "6",
                                    "ordermonth": "2016-01-01",
                                    "TotalQuantity": "10",
                                    "qty": "78"
                                },
                                {
                                    "CustomerId": "6",
                                    "ordermonth": "2016-03-01",
                                    "TotalQuantity": "34",
                                    "qty": "112"
                                },
                                {
                                    "CustomerId": "6",
                                    "ordermonth": "2016-04-01",
                                    "TotalQuantity": "28",
                                    "qty": "140"
                                },
                                {
                                    "CustomerId": "7",
                                    "ordermonth": "2014-07-01",
                                    "TotalQuantity": "50",
                                    "qty": "50"
                                },
                                {
                                    "CustomerId": "7",
                                    "ordermonth": "2014-09-01",
                                    "TotalQuantity": "80",
                                    "qty": "130"
                                },
                                {
                                    "CustomerId": "7",
                                    "ordermonth": "2014-11-01",
                                    "TotalQuantity": "138",
                                    "qty": "268"
                                },
                                {
                                    "CustomerId": "7",
                                    "ordermonth": "2015-02-01",
                                    "TotalQuantity": "168",
                                    "qty": "436"
                                },
                                {
                                    "CustomerId": "7",
                                    "ordermonth": "2015-06-01",
                                    "TotalQuantity": "143",
                                    "qty": "579"
                                },
                                {
                                    "CustomerId": "7",
                                    "ordermonth": "2015-08-01",
                                    "TotalQuantity": "25",
                                    "qty": "604"
                                },
                                {
                                    "CustomerId": "7",
                                    "ordermonth": "2015-09-01",
                                    "TotalQuantity": "12",
                                    "qty": "616"
                                },
                                {
                                    "CustomerId": "7",
                                    "ordermonth": "2016-01-01",
                                    "TotalQuantity": "50",
                                    "qty": "666"
                                },
                                {
                                    "CustomerId": "8",
                                    "ordermonth": "2014-10-01",
                                    "TotalQuantity": "90",
                                    "qty": "90"
                                },
                                {
                                    "CustomerId": "8",
                                    "ordermonth": "2015-12-01",
                                    "TotalQuantity": "60",
                                    "qty": "150"
                                },
                                {
                                    "CustomerId": "8",
                                    "ordermonth": "2016-03-01",
                                    "TotalQuantity": "40",
                                    "qty": "190"
                                },
                                {
                                    "CustomerId": "9",
                                    "ordermonth": "2014-10-01",
                                    "TotalQuantity": "87",
                                    "qty": "87"
                                },
                                {
                                    "CustomerId": "9",
                                    "ordermonth": "2014-11-01",
                                    "TotalQuantity": "94",
                                    "qty": "181"
                                },
                                {
                                    "CustomerId": "9",
                                    "ordermonth": "2015-03-01",
                                    "TotalQuantity": "53",
                                    "qty": "234"
                                },
                                {
                                    "CustomerId": "9",
                                    "ordermonth": "2015-04-01",
                                    "TotalQuantity": "110",
                                    "qty": "344"
                                },
                                {
                                    "CustomerId": "9",
                                    "ordermonth": "2015-05-01",
                                    "TotalQuantity": "45",
                                    "qty": "389"
                                },
                                {
                                    "CustomerId": "9",
                                    "ordermonth": "2015-09-01",
                                    "TotalQuantity": "80",
                                    "qty": "469"
                                },
                                {
                                    "CustomerId": "9",
                                    "ordermonth": "2015-10-01",
                                    "TotalQuantity": "51",
                                    "qty": "520"
                                },
                                {
                                    "CustomerId": "9",
                                    "ordermonth": "2015-11-01",
                                    "TotalQuantity": "147",
                                    "qty": "667"
                                },
                                {
                                    "CustomerId": "9",
                                    "ordermonth": "2016-01-01",
                                    "TotalQuantity": "36",
                                    "qty": "703"
                                },
                                {
                                    "CustomerId": "9",
                                    "ordermonth": "2016-02-01",
                                    "TotalQuantity": "119",
                                    "qty": "822"
                                },
                                {
                                    "CustomerId": "9",
                                    "ordermonth": "2016-03-01",
                                    "TotalQuantity": "108",
                                    "qty": "930"
                                },
                                {
                                    "CustomerId": "9",
                                    "ordermonth": "2016-05-01",
                                    "TotalQuantity": "50",
                                    "qty": "980"
                                },
                                {
                                    "CustomerId": "10",
                                    "ordermonth": "2014-12-01",
                                    "TotalQuantity": "81",
                                    "qty": "81"
                                },
                                {
                                    "CustomerId": "10",
                                    "ordermonth": "2015-01-01",
                                    "TotalQuantity": "269",
                                    "qty": "350"
                                },
                                {
                                    "CustomerId": "10",
                                    "ordermonth": "2015-04-01",
                                    "TotalQuantity": "80",
                                    "qty": "430"
                                },
                                {
                                    "CustomerId": "10",
                                    "ordermonth": "2015-11-01",
                                    "TotalQuantity": "105",
                                    "qty": "535"
                                },
                                {
                                    "CustomerId": "10",
                                    "ordermonth": "2016-03-01",
                                    "TotalQuantity": "289",
                                    "qty": "824"
                                },
                                {
                                    "CustomerId": "10",
                                    "ordermonth": "2016-04-01",
                                    "TotalQuantity": "132",
                                    "qty": "956"
                                },
                                {
                                    "CustomerId": "11",
                                    "ordermonth": "2014-08-01",
                                    "TotalQuantity": "39",
                                    "qty": "39"
                                },
                                {
                                    "CustomerId": "11",
                                    "ordermonth": "2015-03-01",
                                    "TotalQuantity": "77",
                                    "qty": "116"
                                },
                                {
                                    "CustomerId": "11",
                                    "ordermonth": "2015-05-01",
                                    "TotalQuantity": "52",
                                    "qty": "168"
                                },
                                {
                                    "CustomerId": "11",
                                    "ordermonth": "2015-06-01",
                                    "TotalQuantity": "26",
                                    "qty": "194"
                                },
                                {
                                    "CustomerId": "11",
                                    "ordermonth": "2015-07-01",
                                    "TotalQuantity": "10",
                                    "qty": "204"
                                },
                                {
                                    "CustomerId": "11",
                                    "ordermonth": "2016-03-01",
                                    "TotalQuantity": "55",
                                    "qty": "259"
                                },
                                {
                                    "CustomerId": "11",
                                    "ordermonth": "2016-04-01",
                                    "TotalQuantity": "34",
                                    "qty": "293"
                                },
                                {
                                    "CustomerId": "12",
                                    "ordermonth": "2015-04-01",
                                    "TotalQuantity": "19",
                                    "qty": "19"
                                },
                                {
                                    "CustomerId": "12",
                                    "ordermonth": "2015-12-01",
                                    "TotalQuantity": "1",
                                    "qty": "20"
                                },
                                {
                                    "CustomerId": "12",
                                    "ordermonth": "2016-01-01",
                                    "TotalQuantity": "27",
                                    "qty": "47"
                                },
                                {
                                    "CustomerId": "12",
                                    "ordermonth": "2016-02-01",
                                    "TotalQuantity": "10",
                                    "qty": "57"
                                },
                                {
                                    "CustomerId": "12",
                                    "ordermonth": "2016-03-01",
                                    "TotalQuantity": "28",
                                    "qty": "85"
                                },
                                {
                                    "CustomerId": "12",
                                    "ordermonth": "2016-04-01",
                                    "TotalQuantity": "30",
                                    "qty": "115"
                                },
                                {
                                    "CustomerId": "13",
                                    "ordermonth": "2014-07-01",
                                    "TotalQuantity": "11",
                                    "qty": "11"
                                },
                                {
                                    "CustomerId": "14",
                                    "ordermonth": "2014-07-01",
                                    "TotalQuantity": "57",
                                    "qty": "57"
                                },
                                {
                                    "CustomerId": "14",
                                    "ordermonth": "2014-12-01",
                                    "TotalQuantity": "65",
                                    "qty": "122"
                                },
                                {
                                    "CustomerId": "14",
                                    "ordermonth": "2015-04-01",
                                    "TotalQuantity": "66",
                                    "qty": "188"
                                },
                                {
                                    "CustomerId": "14",
                                    "ordermonth": "2015-11-01",
                                    "TotalQuantity": "153",
                                    "qty": "341"
                                },
                                {
                                    "CustomerId": "14",
                                    "ordermonth": "2016-03-01",
                                    "TotalQuantity": "32",
                                    "qty": "373"
                                },
                                {
                                    "CustomerId": "14",
                                    "ordermonth": "2016-04-01",
                                    "TotalQuantity": "92",
                                    "qty": "465"
                                },
                                {
                                    "CustomerId": "15",
                                    "ordermonth": "2014-08-01",
                                    "TotalQuantity": "60",
                                    "qty": "60"
                                },
                                {
                                    "CustomerId": "15",
                                    "ordermonth": "2015-03-01",
                                    "TotalQuantity": "15",
                                    "qty": "75"
                                },
                                {
                                    "CustomerId": "15",
                                    "ordermonth": "2015-04-01",
                                    "TotalQuantity": "30",
                                    "qty": "105"
                                },
                                {
                                    "CustomerId": "15",
                                    "ordermonth": "2016-03-01",
                                    "TotalQuantity": "9",
                                    "qty": "114"
                                },
                                {
                                    "CustomerId": "15",
                                    "ordermonth": "2016-04-01",
                                    "TotalQuantity": "19",
                                    "qty": "133"
                                },
                                {
                                    "CustomerId": "16",
                                    "ordermonth": "2015-02-01",
                                    "TotalQuantity": "32",
                                    "qty": "32"
                                },
                                {
                                    "CustomerId": "16",
                                    "ordermonth": "2015-03-01",
                                    "TotalQuantity": "22",
                                    "qty": "54"
                                },
                                {
                                    "CustomerId": "16",
                                    "ordermonth": "2016-01-01",
                                    "TotalQuantity": "33",
                                    "qty": "87"
                                },
                                {
                                    "CustomerId": "17",
                                    "ordermonth": "2014-11-01",
                                    "TotalQuantity": "44",
                                    "qty": "44"
                                },
                                {
                                    "CustomerId": "17",
                                    "ordermonth": "2014-12-01",
                                    "TotalQuantity": "18",
                                    "qty": "62"
                                },
                                {
                                    "CustomerId": "17",
                                    "ordermonth": "2015-12-01",
                                    "TotalQuantity": "20",
                                    "qty": "82"
                                },
                                {
                                    "CustomerId": "17",
                                    "ordermonth": "2016-01-01",
                                    "TotalQuantity": "32",
                                    "qty": "114"
                                },
                                {
                                    "CustomerId": "17",
                                    "ordermonth": "2016-04-01",
                                    "TotalQuantity": "37",
                                    "qty": "151"
                                },
                                {
                                    "CustomerId": "17",
                                    "ordermonth": "2016-05-01",
                                    "TotalQuantity": "9",
                                    "qty": "160"
                                },
                                {
                                    "CustomerId": "18",
                                    "ordermonth": "2014-09-01",
                                    "TotalQuantity": "13",
                                    "qty": "13"
                                },
                                {
                                    "CustomerId": "18",
                                    "ordermonth": "2015-07-01",
                                    "TotalQuantity": "19",
                                    "qty": "32"
                                },
                                {
                                    "CustomerId": "18",
                                    "ordermonth": "2015-09-01",
                                    "TotalQuantity": "9",
                                    "qty": "41"
                                },
                                {
                                    "CustomerId": "18",
                                    "ordermonth": "2016-02-01",
                                    "TotalQuantity": "39",
                                    "qty": "80"
                                },
                                {
                                    "CustomerId": "19",
                                    "ordermonth": "2014-11-01",
                                    "TotalQuantity": "35",
                                    "qty": "35"
                                },
                                {
                                    "CustomerId": "19",
                                    "ordermonth": "2015-01-01",
                                    "TotalQuantity": "86",
                                    "qty": "121"
                                },
                                {
                                    "CustomerId": "19",
                                    "ordermonth": "2015-05-01",
                                    "TotalQuantity": "39",
                                    "qty": "160"
                                },
                                {
                                    "CustomerId": "19",
                                    "ordermonth": "2015-11-01",
                                    "TotalQuantity": "30",
                                    "qty": "190"
                                },
                                {
                                    "CustomerId": "19",
                                    "ordermonth": "2016-03-01",
                                    "TotalQuantity": "86",
                                    "qty": "276"
                                },
                                {
                                    "CustomerId": "19",
                                    "ordermonth": "2016-04-01",
                                    "TotalQuantity": "293",
                                    "qty": "569"
                                },
                                {
                                    "CustomerId": "20",
                                    "ordermonth": "2014-07-01",
                                    "TotalQuantity": "305",
                                    "qty": "305"
                                },
                                {
                                    "CustomerId": "20",
                                    "ordermonth": "2014-11-01",
                                    "TotalQuantity": "198",
                                    "qty": "503"
                                },
                                {
                                    "CustomerId": "20",
                                    "ordermonth": "2014-12-01",
                                    "TotalQuantity": "334",
                                    "qty": "837"
                                },
                                {
                                    "CustomerId": "20",
                                    "ordermonth": "2015-01-01",
                                    "TotalQuantity": "411",
                                    "qty": "1248"
                                },
                                {
                                    "CustomerId": "20",
                                    "ordermonth": "2015-02-01",
                                    "TotalQuantity": "170",
                                    "qty": "1418"
                                },
                                {
                                    "CustomerId": "20",
                                    "ordermonth": "2015-04-01",
                                    "TotalQuantity": "233",
                                    "qty": "1651"
                                },
                                {
                                    "CustomerId": "20",
                                    "ordermonth": "2015-06-01",
                                    "TotalQuantity": "39",
                                    "qty": "1690"
                                },
                                {
                                    "CustomerId": "20",
                                    "ordermonth": "2015-07-01",
                                    "TotalQuantity": "215",
                                    "qty": "1905"
                                },
                                {
                                    "CustomerId": "20",
                                    "ordermonth": "2015-08-01",
                                    "TotalQuantity": "164",
                                    "qty": "2069"
                                },
                                {
                                    "CustomerId": "20",
                                    "ordermonth": "2015-09-01",
                                    "TotalQuantity": "59",
                                    "qty": "2128"
                                },
                                {
                                    "CustomerId": "20",
                                    "ordermonth": "2015-10-01",
                                    "TotalQuantity": "108",
                                    "qty": "2236"
                                },
                                {
                                    "CustomerId": "20",
                                    "ordermonth": "2015-12-01",
                                    "TotalQuantity": "551",
                                    "qty": "2787"
                                },
                                {
                                    "CustomerId": "20",
                                    "ordermonth": "2016-01-01",
                                    "TotalQuantity": "337",
                                    "qty": "3124"
                                },
                                {
                                    "CustomerId": "20",
                                    "ordermonth": "2016-02-01",
                                    "TotalQuantity": "346",
                                    "qty": "3470"
                                },
                                {
                                    "CustomerId": "20",
                                    "ordermonth": "2016-03-01",
                                    "TotalQuantity": "271",
                                    "qty": "3741"
                                },
                                {
                                    "CustomerId": "20",
                                    "ordermonth": "2016-04-01",
                                    "TotalQuantity": "602",
                                    "qty": "4343"
                                },
                                {
                                    "CustomerId": "20",
                                    "ordermonth": "2016-05-01",
                                    "TotalQuantity": "200",
                                    "qty": "4543"
                                },
                                {
                                    "CustomerId": "21",
                                    "ordermonth": "2014-11-01",
                                    "TotalQuantity": "70",
                                    "qty": "70"
                                },
                                {
                                    "CustomerId": "21",
                                    "ordermonth": "2014-12-01",
                                    "TotalQuantity": "25",
                                    "qty": "95"
                                },
                                {
                                    "CustomerId": "21",
                                    "ordermonth": "2015-01-01",
                                    "TotalQuantity": "68",
                                    "qty": "163"
                                },
                                {
                                    "CustomerId": "21",
                                    "ordermonth": "2015-04-01",
                                    "TotalQuantity": "37",
                                    "qty": "200"
                                },
                                {
                                    "CustomerId": "21",
                                    "ordermonth": "2015-06-01",
                                    "TotalQuantity": "50",
                                    "qty": "250"
                                },
                                {
                                    "CustomerId": "21",
                                    "ordermonth": "2015-08-01",
                                    "TotalQuantity": "85",
                                    "qty": "335"
                                },
                                {
                                    "CustomerId": "21",
                                    "ordermonth": "2015-10-01",
                                    "TotalQuantity": "22",
                                    "qty": "357"
                                },
                                {
                                    "CustomerId": "23",
                                    "ordermonth": "2015-01-01",
                                    "TotalQuantity": "51",
                                    "qty": "51"
                                },
                                {
                                    "CustomerId": "23",
                                    "ordermonth": "2015-03-01",
                                    "TotalQuantity": "42",
                                    "qty": "93"
                                },
                                {
                                    "CustomerId": "23",
                                    "ordermonth": "2015-08-01",
                                    "TotalQuantity": "102",
                                    "qty": "195"
                                },
                                {
                                    "CustomerId": "23",
                                    "ordermonth": "2015-12-01",
                                    "TotalQuantity": "159",
                                    "qty": "354"
                                },
                                {
                                    "CustomerId": "24",
                                    "ordermonth": "2014-07-01",
                                    "TotalQuantity": "60",
                                    "qty": "60"
                                },
                                {
                                    "CustomerId": "24",
                                    "ordermonth": "2014-10-01",
                                    "TotalQuantity": "140",
                                    "qty": "200"
                                },
                                {
                                    "CustomerId": "24",
                                    "ordermonth": "2014-12-01",
                                    "TotalQuantity": "6",
                                    "qty": "206"
                                },
                                {
                                    "CustomerId": "24",
                                    "ordermonth": "2015-02-01",
                                    "TotalQuantity": "49",
                                    "qty": "255"
                                },
                                {
                                    "CustomerId": "24",
                                    "ordermonth": "2015-05-01",
                                    "TotalQuantity": "98",
                                    "qty": "353"
                                },
                                {
                                    "CustomerId": "24",
                                    "ordermonth": "2015-06-01",
                                    "TotalQuantity": "60",
                                    "qty": "413"
                                },
                                {
                                    "CustomerId": "24",
                                    "ordermonth": "2015-10-01",
                                    "TotalQuantity": "75",
                                    "qty": "488"
                                },
                                {
                                    "CustomerId": "24",
                                    "ordermonth": "2015-12-01",
                                    "TotalQuantity": "186",
                                    "qty": "674"
                                },
                                {
                                    "CustomerId": "24",
                                    "ordermonth": "2016-01-01",
                                    "TotalQuantity": "21",
                                    "qty": "695"
                                },
                                {
                                    "CustomerId": "24",
                                    "ordermonth": "2016-02-01",
                                    "TotalQuantity": "146",
                                    "qty": "841"
                                },
                                {
                                    "CustomerId": "24",
                                    "ordermonth": "2016-03-01",
                                    "TotalQuantity": "142",
                                    "qty": "983"
                                },
                                {
                                    "CustomerId": "24",
                                    "ordermonth": "2016-04-01",
                                    "TotalQuantity": "251",
                                    "qty": "1234"
                                },
                                {
                                    "CustomerId": "25",
                                    "ordermonth": "2014-07-01",
                                    "TotalQuantity": "135",
                                    "qty": "135"
                                },
                                {
                                    "CustomerId": "25",
                                    "ordermonth": "2014-10-01",
                                    "TotalQuantity": "297",
                                    "qty": "432"
                                },
                                {
                                    "CustomerId": "25",
                                    "ordermonth": "2014-12-01",
                                    "TotalQuantity": "121",
                                    "qty": "553"
                                },
                                {
                                    "CustomerId": "25",
                                    "ordermonth": "2015-03-01",
                                    "TotalQuantity": "50",
                                    "qty": "603"
                                },
                                {
                                    "CustomerId": "25",
                                    "ordermonth": "2015-06-01",
                                    "TotalQuantity": "35",
                                    "qty": "638"
                                },
                                {
                                    "CustomerId": "25",
                                    "ordermonth": "2015-08-01",
                                    "TotalQuantity": "94",
                                    "qty": "732"
                                },
                                {
                                    "CustomerId": "25",
                                    "ordermonth": "2015-09-01",
                                    "TotalQuantity": "312",
                                    "qty": "1044"
                                },
                                {
                                    "CustomerId": "25",
                                    "ordermonth": "2015-10-01",
                                    "TotalQuantity": "72",
                                    "qty": "1116"
                                },
                                {
                                    "CustomerId": "25",
                                    "ordermonth": "2015-12-01",
                                    "TotalQuantity": "34",
                                    "qty": "1150"
                                },
                                {
                                    "CustomerId": "25",
                                    "ordermonth": "2016-01-01",
                                    "TotalQuantity": "105",
                                    "qty": "1255"
                                },
                                {
                                    "CustomerId": "25",
                                    "ordermonth": "2016-03-01",
                                    "TotalQuantity": "124",
                                    "qty": "1379"
                                },
                                {
                                    "CustomerId": "25",
                                    "ordermonth": "2016-04-01",
                                    "TotalQuantity": "146",
                                    "qty": "1525"
                                },
                                {
                                    "CustomerId": "26",
                                    "ordermonth": "2015-09-01",
                                    "TotalQuantity": "32",
                                    "qty": "32"
                                },
                                {
                                    "CustomerId": "26",
                                    "ordermonth": "2016-01-01",
                                    "TotalQuantity": "23",
                                    "qty": "55"
                                },
                                {
                                    "CustomerId": "26",
                                    "ordermonth": "2016-03-01",
                                    "TotalQuantity": "14",
                                    "qty": "69"
                                },
                                {
                                    "CustomerId": "27",
                                    "ordermonth": "2015-01-01",
                                    "TotalQuantity": "2",
                                    "qty": "2"
                                },
                                {
                                    "CustomerId": "27",
                                    "ordermonth": "2015-10-01",
                                    "TotalQuantity": "10",
                                    "qty": "12"
                                },
                                {
                                    "CustomerId": "27",
                                    "ordermonth": "2015-11-01",
                                    "TotalQuantity": "9",
                                    "qty": "21"
                                },
                                {
                                    "CustomerId": "27",
                                    "ordermonth": "2015-12-01",
                                    "TotalQuantity": "1",
                                    "qty": "22"
                                },
                                {
                                    "CustomerId": "27",
                                    "ordermonth": "2016-04-01",
                                    "TotalQuantity": "32",
                                    "qty": "54"
                                },
                                {
                                    "CustomerId": "28",
                                    "ordermonth": "2014-10-01",
                                    "TotalQuantity": "59",
                                    "qty": "59"
                                },
                                {
                                    "CustomerId": "28",
                                    "ordermonth": "2014-11-01",
                                    "TotalQuantity": "30",
                                    "qty": "89"
                                },
                                {
                                    "CustomerId": "28",
                                    "ordermonth": "2015-03-01",
                                    "TotalQuantity": "91",
                                    "qty": "180"
                                },
                                {
                                    "CustomerId": "28",
                                    "ordermonth": "2015-05-01",
                                    "TotalQuantity": "100",
                                    "qty": "280"
                                },
                                {
                                    "CustomerId": "28",
                                    "ordermonth": "2015-07-01",
                                    "TotalQuantity": "16",
                                    "qty": "296"
                                },
                                {
                                    "CustomerId": "28",
                                    "ordermonth": "2015-09-01",
                                    "TotalQuantity": "51",
                                    "qty": "347"
                                },
                                {
                                    "CustomerId": "28",
                                    "ordermonth": "2016-03-01",
                                    "TotalQuantity": "2",
                                    "qty": "349"
                                },
                                {
                                    "CustomerId": "29",
                                    "ordermonth": "2014-11-01",
                                    "TotalQuantity": "10",
                                    "qty": "10"
                                },
                                {
                                    "CustomerId": "29",
                                    "ordermonth": "2015-01-01",
                                    "TotalQuantity": "12",
                                    "qty": "22"
                                },
                                {
                                    "CustomerId": "29",
                                    "ordermonth": "2015-06-01",
                                    "TotalQuantity": "5",
                                    "qty": "27"
                                },
                                {
                                    "CustomerId": "29",
                                    "ordermonth": "2016-02-01",
                                    "TotalQuantity": "5",
                                    "qty": "32"
                                },
                                {
                                    "CustomerId": "29",
                                    "ordermonth": "2016-03-01",
                                    "TotalQuantity": "10",
                                    "qty": "42"
                                },
                                {
                                    "CustomerId": "30",
                                    "ordermonth": "2014-09-01",
                                    "TotalQuantity": "85",
                                    "qty": "85"
                                },
                                {
                                    "CustomerId": "30",
                                    "ordermonth": "2015-05-01",
                                    "TotalQuantity": "34",
                                    "qty": "119"
                                },
                                {
                                    "CustomerId": "30",
                                    "ordermonth": "2015-08-01",
                                    "TotalQuantity": "29",
                                    "qty": "148"
                                },
                                {
                                    "CustomerId": "30",
                                    "ordermonth": "2016-02-01",
                                    "TotalQuantity": "151",
                                    "qty": "299"
                                },
                                {
                                    "CustomerId": "30",
                                    "ordermonth": "2016-03-01",
                                    "TotalQuantity": "53",
                                    "qty": "352"
                                },
                                {
                                    "CustomerId": "30",
                                    "ordermonth": "2016-04-01",
                                    "TotalQuantity": "43",
                                    "qty": "395"
                                },
                                {
                                    "CustomerId": "31",
                                    "ordermonth": "2015-01-01",
                                    "TotalQuantity": "34",
                                    "qty": "34"
                                },
                                {
                                    "CustomerId": "31",
                                    "ordermonth": "2015-09-01",
                                    "TotalQuantity": "61",
                                    "qty": "95"
                                },
                                {
                                    "CustomerId": "31",
                                    "ordermonth": "2015-10-01",
                                    "TotalQuantity": "78",
                                    "qty": "173"
                                },
                                {
                                    "CustomerId": "31",
                                    "ordermonth": "2015-11-01",
                                    "TotalQuantity": "65",
                                    "qty": "238"
                                },
                                {
                                    "CustomerId": "31",
                                    "ordermonth": "2015-12-01",
                                    "TotalQuantity": "43",
                                    "qty": "281"
                                },
                                {
                                    "CustomerId": "31",
                                    "ordermonth": "2016-03-01",
                                    "TotalQuantity": "20",
                                    "qty": "301"
                                },
                                {
                                    "CustomerId": "31",
                                    "ordermonth": "2016-04-01",
                                    "TotalQuantity": "14",
                                    "qty": "315"
                                },
                                {
                                    "CustomerId": "32",
                                    "ordermonth": "2015-05-01",
                                    "TotalQuantity": "20",
                                    "qty": "20"
                                },
                                {
                                    "CustomerId": "32",
                                    "ordermonth": "2015-07-01",
                                    "TotalQuantity": "93",
                                    "qty": "113"
                                },
                                {
                                    "CustomerId": "32",
                                    "ordermonth": "2015-09-01",
                                    "TotalQuantity": "107",
                                    "qty": "220"
                                },
                                {
                                    "CustomerId": "32",
                                    "ordermonth": "2016-01-01",
                                    "TotalQuantity": "50",
                                    "qty": "270"
                                },
                                {
                                    "CustomerId": "32",
                                    "ordermonth": "2016-03-01",
                                    "TotalQuantity": "30",
                                    "qty": "300"
                                },
                                {
                                    "CustomerId": "32",
                                    "ordermonth": "2016-04-01",
                                    "TotalQuantity": "45",
                                    "qty": "345"
                                },
                                {
                                    "CustomerId": "33",
                                    "ordermonth": "2014-07-01",
                                    "TotalQuantity": "14",
                                    "qty": "14"
                                },
                                {
                                    "CustomerId": "33",
                                    "ordermonth": "2015-12-01",
                                    "TotalQuantity": "20",
                                    "qty": "34"
                                },
                                {
                                    "CustomerId": "34",
                                    "ordermonth": "2014-07-01",
                                    "TotalQuantity": "162",
                                    "qty": "162"
                                },
                                {
                                    "CustomerId": "34",
                                    "ordermonth": "2015-05-01",
                                    "TotalQuantity": "84",
                                    "qty": "246"
                                },
                                {
                                    "CustomerId": "34",
                                    "ordermonth": "2015-08-01",
                                    "TotalQuantity": "35",
                                    "qty": "281"
                                },
                                {
                                    "CustomerId": "34",
                                    "ordermonth": "2015-10-01",
                                    "TotalQuantity": "50",
                                    "qty": "331"
                                },
                                {
                                    "CustomerId": "34",
                                    "ordermonth": "2015-12-01",
                                    "TotalQuantity": "30",
                                    "qty": "361"
                                },
                                {
                                    "CustomerId": "34",
                                    "ordermonth": "2016-02-01",
                                    "TotalQuantity": "226",
                                    "qty": "587"
                                },
                                {
                                    "CustomerId": "34",
                                    "ordermonth": "2016-03-01",
                                    "TotalQuantity": "147",
                                    "qty": "734"
                                },
                                {
                                    "CustomerId": "34",
                                    "ordermonth": "2016-04-01",
                                    "TotalQuantity": "105",
                                    "qty": "839"
                                },
                                {
                                    "CustomerId": "35",
                                    "ordermonth": "2014-07-01",
                                    "TotalQuantity": "46",
                                    "qty": "46"
                                },
                                {
                                    "CustomerId": "35",
                                    "ordermonth": "2014-12-01",
                                    "TotalQuantity": "106",
                                    "qty": "152"
                                },
                                {
                                    "CustomerId": "35",
                                    "ordermonth": "2015-03-01",
                                    "TotalQuantity": "186",
                                    "qty": "338"
                                },
                                {
                                    "CustomerId": "35",
                                    "ordermonth": "2015-04-01",
                                    "TotalQuantity": "49",
                                    "qty": "387"
                                },
                                {
                                    "CustomerId": "35",
                                    "ordermonth": "2015-05-01",
                                    "TotalQuantity": "48",
                                    "qty": "435"
                                },
                                {
                                    "CustomerId": "35",
                                    "ordermonth": "2015-07-01",
                                    "TotalQuantity": "143",
                                    "qty": "578"
                                },
                                {
                                    "CustomerId": "35",
                                    "ordermonth": "2015-08-01",
                                    "TotalQuantity": "110",
                                    "qty": "688"
                                },
                                {
                                    "CustomerId": "35",
                                    "ordermonth": "2015-10-01",
                                    "TotalQuantity": "24",
                                    "qty": "712"
                                },
                                {
                                    "CustomerId": "35",
                                    "ordermonth": "2015-12-01",
                                    "TotalQuantity": "90",
                                    "qty": "802"
                                },
                                {
                                    "CustomerId": "35",
                                    "ordermonth": "2016-02-01",
                                    "TotalQuantity": "92",
                                    "qty": "894"
                                },
                                {
                                    "CustomerId": "35",
                                    "ordermonth": "2016-03-01",
                                    "TotalQuantity": "132",
                                    "qty": "1026"
                                },
                                {
                                    "CustomerId": "35",
                                    "ordermonth": "2016-04-01",
                                    "TotalQuantity": "70",
                                    "qty": "1096"
                                },
                                {
                                    "CustomerId": "36",
                                    "ordermonth": "2014-12-01",
                                    "TotalQuantity": "45",
                                    "qty": "45"
                                },
                                {
                                    "CustomerId": "36",
                                    "ordermonth": "2015-01-01",
                                    "TotalQuantity": "22",
                                    "qty": "67"
                                },
                                {
                                    "CustomerId": "36",
                                    "ordermonth": "2015-07-01",
                                    "TotalQuantity": "34",
                                    "qty": "101"
                                },
                                {
                                    "CustomerId": "36",
                                    "ordermonth": "2015-09-01",
                                    "TotalQuantity": "21",
                                    "qty": "122"
                                },
                                {
                                    "CustomerId": "37",
                                    "ordermonth": "2014-09-01",
                                    "TotalQuantity": "200",
                                    "qty": "200"
                                },
                                {
                                    "CustomerId": "37",
                                    "ordermonth": "2014-10-01",
                                    "TotalQuantity": "86",
                                    "qty": "286"
                                },
                                {
                                    "CustomerId": "37",
                                    "ordermonth": "2014-12-01",
                                    "TotalQuantity": "204",
                                    "qty": "490"
                                },
                                {
                                    "CustomerId": "37",
                                    "ordermonth": "2015-01-01",
                                    "TotalQuantity": "75",
                                    "qty": "565"
                                },
                                {
                                    "CustomerId": "37",
                                    "ordermonth": "2015-04-01",
                                    "TotalQuantity": "215",
                                    "qty": "780"
                                },
                                {
                                    "CustomerId": "37",
                                    "ordermonth": "2015-06-01",
                                    "TotalQuantity": "103",
                                    "qty": "883"
                                },
                                {
                                    "CustomerId": "37",
                                    "ordermonth": "2015-08-01",
                                    "TotalQuantity": "98",
                                    "qty": "981"
                                },
                                {
                                    "CustomerId": "37",
                                    "ordermonth": "2015-09-01",
                                    "TotalQuantity": "118",
                                    "qty": "1099"
                                },
                                {
                                    "CustomerId": "37",
                                    "ordermonth": "2015-10-01",
                                    "TotalQuantity": "130",
                                    "qty": "1229"
                                },
                                {
                                    "CustomerId": "37",
                                    "ordermonth": "2015-11-01",
                                    "TotalQuantity": "60",
                                    "qty": "1289"
                                },
                                {
                                    "CustomerId": "37",
                                    "ordermonth": "2016-02-01",
                                    "TotalQuantity": "216",
                                    "qty": "1505"
                                },
                                {
                                    "CustomerId": "37",
                                    "ordermonth": "2016-03-01",
                                    "TotalQuantity": "79",
                                    "qty": "1584"
                                },
                                {
                                    "CustomerId": "37",
                                    "ordermonth": "2016-04-01",
                                    "TotalQuantity": "100",
                                    "qty": "1684"
                                },
                                {
                                    "CustomerId": "38",
                                    "ordermonth": "2014-09-01",
                                    "TotalQuantity": "44",
                                    "qty": "44"
                                },
                                {
                                    "CustomerId": "38",
                                    "ordermonth": "2014-10-01",
                                    "TotalQuantity": "36",
                                    "qty": "80"
                                },
                                {
                                    "CustomerId": "38",
                                    "ordermonth": "2015-03-01",
                                    "TotalQuantity": "24",
                                    "qty": "104"
                                },
                                {
                                    "CustomerId": "38",
                                    "ordermonth": "2015-08-01",
                                    "TotalQuantity": "50",
                                    "qty": "154"
                                },
                                {
                                    "CustomerId": "38",
                                    "ordermonth": "2015-09-01",
                                    "TotalQuantity": "5",
                                    "qty": "159"
                                },
                                {
                                    "CustomerId": "38",
                                    "ordermonth": "2015-11-01",
                                    "TotalQuantity": "31",
                                    "qty": "190"
                                },
                                {
                                    "CustomerId": "38",
                                    "ordermonth": "2015-12-01",
                                    "TotalQuantity": "12",
                                    "qty": "202"
                                },
                                {
                                    "CustomerId": "38",
                                    "ordermonth": "2016-01-01",
                                    "TotalQuantity": "61",
                                    "qty": "263"
                                },
                                {
                                    "CustomerId": "38",
                                    "ordermonth": "2016-03-01",
                                    "TotalQuantity": "32",
                                    "qty": "295"
                                },
                                {
                                    "CustomerId": "39",
                                    "ordermonth": "2014-10-01",
                                    "TotalQuantity": "84",
                                    "qty": "84"
                                },
                                {
                                    "CustomerId": "39",
                                    "ordermonth": "2015-02-01",
                                    "TotalQuantity": "97",
                                    "qty": "181"
                                },
                                {
                                    "CustomerId": "39",
                                    "ordermonth": "2015-03-01",
                                    "TotalQuantity": "23",
                                    "qty": "204"
                                },
                                {
                                    "CustomerId": "39",
                                    "ordermonth": "2015-04-01",
                                    "TotalQuantity": "32",
                                    "qty": "236"
                                },
                                {
                                    "CustomerId": "39",
                                    "ordermonth": "2015-05-01",
                                    "TotalQuantity": "39",
                                    "qty": "275"
                                },
                                {
                                    "CustomerId": "39",
                                    "ordermonth": "2015-08-01",
                                    "TotalQuantity": "47",
                                    "qty": "322"
                                },
                                {
                                    "CustomerId": "39",
                                    "ordermonth": "2015-10-01",
                                    "TotalQuantity": "116",
                                    "qty": "438"
                                },
                                {
                                    "CustomerId": "39",
                                    "ordermonth": "2015-12-01",
                                    "TotalQuantity": "65",
                                    "qty": "503"
                                },
                                {
                                    "CustomerId": "39",
                                    "ordermonth": "2016-01-01",
                                    "TotalQuantity": "222",
                                    "qty": "725"
                                },
                                {
                                    "CustomerId": "39",
                                    "ordermonth": "2016-02-01",
                                    "TotalQuantity": "119",
                                    "qty": "844"
                                },
                                {
                                    "CustomerId": "39",
                                    "ordermonth": "2016-04-01",
                                    "TotalQuantity": "59",
                                    "qty": "903"
                                },
                                {
                                    "CustomerId": "40",
                                    "ordermonth": "2016-01-01",
                                    "TotalQuantity": "19",
                                    "qty": "19"
                                },
                                {
                                    "CustomerId": "40",
                                    "ordermonth": "2016-03-01",
                                    "TotalQuantity": "64",
                                    "qty": "83"
                                },
                                {
                                    "CustomerId": "41",
                                    "ordermonth": "2014-11-01",
                                    "TotalQuantity": "73",
                                    "qty": "73"
                                },
                                {
                                    "CustomerId": "41",
                                    "ordermonth": "2014-12-01",
                                    "TotalQuantity": "6",
                                    "qty": "79"
                                },
                                {
                                    "CustomerId": "41",
                                    "ordermonth": "2015-01-01",
                                    "TotalQuantity": "108",
                                    "qty": "187"
                                },
                                {
                                    "CustomerId": "41",
                                    "ordermonth": "2015-02-01",
                                    "TotalQuantity": "50",
                                    "qty": "237"
                                },
                                {
                                    "CustomerId": "41",
                                    "ordermonth": "2015-04-01",
                                    "TotalQuantity": "55",
                                    "qty": "292"
                                },
                                {
                                    "CustomerId": "41",
                                    "ordermonth": "2015-07-01",
                                    "TotalQuantity": "21",
                                    "qty": "313"
                                },
                                {
                                    "CustomerId": "41",
                                    "ordermonth": "2015-08-01",
                                    "TotalQuantity": "8",
                                    "qty": "321"
                                },
                                {
                                    "CustomerId": "41",
                                    "ordermonth": "2015-12-01",
                                    "TotalQuantity": "35",
                                    "qty": "356"
                                },
                                {
                                    "CustomerId": "41",
                                    "ordermonth": "2016-01-01",
                                    "TotalQuantity": "32",
                                    "qty": "388"
                                },
                                {
                                    "CustomerId": "41",
                                    "ordermonth": "2016-03-01",
                                    "TotalQuantity": "44",
                                    "qty": "432"
                                },
                                {
                                    "CustomerId": "41",
                                    "ordermonth": "2016-04-01",
                                    "TotalQuantity": "10",
                                    "qty": "442"
                                },
                                {
                                    "CustomerId": "42",
                                    "ordermonth": "2015-04-01",
                                    "TotalQuantity": "35",
                                    "qty": "35"
                                },
                                {
                                    "CustomerId": "42",
                                    "ordermonth": "2015-08-01",
                                    "TotalQuantity": "10",
                                    "qty": "45"
                                },
                                {
                                    "CustomerId": "42",
                                    "ordermonth": "2016-01-01",
                                    "TotalQuantity": "17",
                                    "qty": "62"
                                },
                                {
                                    "CustomerId": "43",
                                    "ordermonth": "2015-03-01",
                                    "TotalQuantity": "10",
                                    "qty": "10"
                                },
                                {
                                    "CustomerId": "43",
                                    "ordermonth": "2015-05-01",
                                    "TotalQuantity": "10",
                                    "qty": "20"
                                },
                                {
                                    "CustomerId": "44",
                                    "ordermonth": "2014-08-01",
                                    "TotalQuantity": "76",
                                    "qty": "76"
                                },
                                {
                                    "CustomerId": "44",
                                    "ordermonth": "2014-10-01",
                                    "TotalQuantity": "69",
                                    "qty": "145"
                                },
                                {
                                    "CustomerId": "44",
                                    "ordermonth": "2015-04-01",
                                    "TotalQuantity": "173",
                                    "qty": "318"
                                },
                                {
                                    "CustomerId": "44",
                                    "ordermonth": "2015-05-01",
                                    "TotalQuantity": "130",
                                    "qty": "448"
                                },
                                {
                                    "CustomerId": "44",
                                    "ordermonth": "2015-06-01",
                                    "TotalQuantity": "50",
                                    "qty": "498"
                                },
                                {
                                    "CustomerId": "44",
                                    "ordermonth": "2015-07-01",
                                    "TotalQuantity": "75",
                                    "qty": "573"
                                },
                                {
                                    "CustomerId": "44",
                                    "ordermonth": "2015-12-01",
                                    "TotalQuantity": "43",
                                    "qty": "616"
                                },
                                {
                                    "CustomerId": "44",
                                    "ordermonth": "2016-01-01",
                                    "TotalQuantity": "33",
                                    "qty": "649"
                                },
                                {
                                    "CustomerId": "44",
                                    "ordermonth": "2016-02-01",
                                    "TotalQuantity": "15",
                                    "qty": "664"
                                },
                                {
                                    "CustomerId": "44",
                                    "ordermonth": "2016-03-01",
                                    "TotalQuantity": "20",
                                    "qty": "684"
                                },
                                {
                                    "CustomerId": "44",
                                    "ordermonth": "2016-05-01",
                                    "TotalQuantity": "110",
                                    "qty": "794"
                                },
                                {
                                    "CustomerId": "45",
                                    "ordermonth": "2015-06-01",
                                    "TotalQuantity": "31",
                                    "qty": "31"
                                },
                                {
                                    "CustomerId": "45",
                                    "ordermonth": "2015-10-01",
                                    "TotalQuantity": "55",
                                    "qty": "86"
                                },
                                {
                                    "CustomerId": "45",
                                    "ordermonth": "2015-11-01",
                                    "TotalQuantity": "22",
                                    "qty": "108"
                                },
                                {
                                    "CustomerId": "45",
                                    "ordermonth": "2016-02-01",
                                    "TotalQuantity": "73",
                                    "qty": "181"
                                },
                                {
                                    "CustomerId": "46",
                                    "ordermonth": "2014-08-01",
                                    "TotalQuantity": "76",
                                    "qty": "76"
                                },
                                {
                                    "CustomerId": "46",
                                    "ordermonth": "2014-09-01",
                                    "TotalQuantity": "57",
                                    "qty": "133"
                                },
                                {
                                    "CustomerId": "46",
                                    "ordermonth": "2014-10-01",
                                    "TotalQuantity": "75",
                                    "qty": "208"
                                },
                                {
                                    "CustomerId": "46",
                                    "ordermonth": "2014-11-01",
                                    "TotalQuantity": "54",
                                    "qty": "262"
                                },
                                {
                                    "CustomerId": "46",
                                    "ordermonth": "2014-12-01",
                                    "TotalQuantity": "14",
                                    "qty": "276"
                                },
                                {
                                    "CustomerId": "46",
                                    "ordermonth": "2015-02-01",
                                    "TotalQuantity": "128",
                                    "qty": "404"
                                },
                                {
                                    "CustomerId": "46",
                                    "ordermonth": "2015-04-01",
                                    "TotalQuantity": "45",
                                    "qty": "449"
                                },
                                {
                                    "CustomerId": "46",
                                    "ordermonth": "2015-05-01",
                                    "TotalQuantity": "100",
                                    "qty": "549"
                                },
                                {
                                    "CustomerId": "46",
                                    "ordermonth": "2015-12-01",
                                    "TotalQuantity": "50",
                                    "qty": "599"
                                },
                                {
                                    "CustomerId": "46",
                                    "ordermonth": "2016-01-01",
                                    "TotalQuantity": "90",
                                    "qty": "689"
                                },
                                {
                                    "CustomerId": "46",
                                    "ordermonth": "2016-02-01",
                                    "TotalQuantity": "8",
                                    "qty": "697"
                                },
                                {
                                    "CustomerId": "46",
                                    "ordermonth": "2016-04-01",
                                    "TotalQuantity": "90",
                                    "qty": "787"
                                },
                                {
                                    "CustomerId": "46",
                                    "ordermonth": "2016-05-01",
                                    "TotalQuantity": "49",
                                    "qty": "836"
                                },
                                {
                                    "CustomerId": "47",
                                    "ordermonth": "2015-01-01",
                                    "TotalQuantity": "50",
                                    "qty": "50"
                                },
                                {
                                    "CustomerId": "47",
                                    "ordermonth": "2015-03-01",
                                    "TotalQuantity": "130",
                                    "qty": "180"
                                },
                                {
                                    "CustomerId": "47",
                                    "ordermonth": "2015-08-01",
                                    "TotalQuantity": "101",
                                    "qty": "281"
                                },
                                {
                                    "CustomerId": "47",
                                    "ordermonth": "2015-10-01",
                                    "TotalQuantity": "76",
                                    "qty": "357"
                                },
                                {
                                    "CustomerId": "47",
                                    "ordermonth": "2015-11-01",
                                    "TotalQuantity": "120",
                                    "qty": "477"
                                },
                                {
                                    "CustomerId": "47",
                                    "ordermonth": "2016-01-01",
                                    "TotalQuantity": "158",
                                    "qty": "635"
                                },
                                {
                                    "CustomerId": "47",
                                    "ordermonth": "2016-03-01",
                                    "TotalQuantity": "175",
                                    "qty": "810"
                                },
                                {
                                    "CustomerId": "47",
                                    "ordermonth": "2016-04-01",
                                    "TotalQuantity": "160",
                                    "qty": "970"
                                },
                                {
                                    "CustomerId": "48",
                                    "ordermonth": "2014-09-01",
                                    "TotalQuantity": "33",
                                    "qty": "33"
                                },
                                {
                                    "CustomerId": "48",
                                    "ordermonth": "2015-05-01",
                                    "TotalQuantity": "14",
                                    "qty": "47"
                                },
                                {
                                    "CustomerId": "48",
                                    "ordermonth": "2015-09-01",
                                    "TotalQuantity": "41",
                                    "qty": "88"
                                },
                                {
                                    "CustomerId": "48",
                                    "ordermonth": "2016-02-01",
                                    "TotalQuantity": "11",
                                    "qty": "99"
                                },
                                {
                                    "CustomerId": "48",
                                    "ordermonth": "2016-04-01",
                                    "TotalQuantity": "35",
                                    "qty": "134"
                                },
                                {
                                    "CustomerId": "49",
                                    "ordermonth": "2014-08-01",
                                    "TotalQuantity": "18",
                                    "qty": "18"
                                },
                                {
                                    "CustomerId": "49",
                                    "ordermonth": "2014-09-01",
                                    "TotalQuantity": "50",
                                    "qty": "68"
                                },
                                {
                                    "CustomerId": "49",
                                    "ordermonth": "2015-01-01",
                                    "TotalQuantity": "100",
                                    "qty": "168"
                                },
                                {
                                    "CustomerId": "49",
                                    "ordermonth": "2015-03-01",
                                    "TotalQuantity": "40",
                                    "qty": "208"
                                },
                                {
                                    "CustomerId": "49",
                                    "ordermonth": "2015-08-01",
                                    "TotalQuantity": "65",
                                    "qty": "273"
                                },
                                {
                                    "CustomerId": "49",
                                    "ordermonth": "2015-11-01",
                                    "TotalQuantity": "3",
                                    "qty": "276"
                                },
                                {
                                    "CustomerId": "49",
                                    "ordermonth": "2015-12-01",
                                    "TotalQuantity": "62",
                                    "qty": "338"
                                },
                                {
                                    "CustomerId": "49",
                                    "ordermonth": "2016-01-01",
                                    "TotalQuantity": "40",
                                    "qty": "378"
                                },
                                {
                                    "CustomerId": "49",
                                    "ordermonth": "2016-03-01",
                                    "TotalQuantity": "55",
                                    "qty": "433"
                                },
                                {
                                    "CustomerId": "50",
                                    "ordermonth": "2015-05-01",
                                    "TotalQuantity": "44",
                                    "qty": "44"
                                },
                                {
                                    "CustomerId": "50",
                                    "ordermonth": "2015-08-01",
                                    "TotalQuantity": "35",
                                    "qty": "79"
                                },
                                {
                                    "CustomerId": "50",
                                    "ordermonth": "2015-12-01",
                                    "TotalQuantity": "82",
                                    "qty": "161"
                                },
                                {
                                    "CustomerId": "50",
                                    "ordermonth": "2016-02-01",
                                    "TotalQuantity": "71",
                                    "qty": "232"
                                },
                                {
                                    "CustomerId": "50",
                                    "ordermonth": "2016-03-01",
                                    "TotalQuantity": "76",
                                    "qty": "308"
                                },
                                {
                                    "CustomerId": "50",
                                    "ordermonth": "2016-04-01",
                                    "TotalQuantity": "12",
                                    "qty": "320"
                                },
                                {
                                    "CustomerId": "51",
                                    "ordermonth": "2014-10-01",
                                    "TotalQuantity": "174",
                                    "qty": "174"
                                },
                                {
                                    "CustomerId": "51",
                                    "ordermonth": "2014-12-01",
                                    "TotalQuantity": "42",
                                    "qty": "216"
                                },
                                {
                                    "CustomerId": "51",
                                    "ordermonth": "2015-01-01",
                                    "TotalQuantity": "139",
                                    "qty": "355"
                                },
                                {
                                    "CustomerId": "51",
                                    "ordermonth": "2015-02-01",
                                    "TotalQuantity": "67",
                                    "qty": "422"
                                },
                                {
                                    "CustomerId": "51",
                                    "ordermonth": "2015-04-01",
                                    "TotalQuantity": "3",
                                    "qty": "425"
                                },
                                {
                                    "CustomerId": "51",
                                    "ordermonth": "2015-06-01",
                                    "TotalQuantity": "118",
                                    "qty": "543"
                                },
                                {
                                    "CustomerId": "51",
                                    "ordermonth": "2015-07-01",
                                    "TotalQuantity": "215",
                                    "qty": "758"
                                },
                                {
                                    "CustomerId": "51",
                                    "ordermonth": "2015-08-01",
                                    "TotalQuantity": "187",
                                    "qty": "945"
                                },
                                {
                                    "CustomerId": "51",
                                    "ordermonth": "2015-10-01",
                                    "TotalQuantity": "21",
                                    "qty": "966"
                                },
                                {
                                    "CustomerId": "52",
                                    "ordermonth": "2014-08-01",
                                    "TotalQuantity": "32",
                                    "qty": "32"
                                },
                                {
                                    "CustomerId": "52",
                                    "ordermonth": "2015-06-01",
                                    "TotalQuantity": "58",
                                    "qty": "90"
                                },
                                {
                                    "CustomerId": "52",
                                    "ordermonth": "2015-10-01",
                                    "TotalQuantity": "12",
                                    "qty": "102"
                                },
                                {
                                    "CustomerId": "52",
                                    "ordermonth": "2015-12-01",
                                    "TotalQuantity": "40",
                                    "qty": "142"
                                },
                                {
                                    "CustomerId": "52",
                                    "ordermonth": "2016-03-01",
                                    "TotalQuantity": "30",
                                    "qty": "172"
                                },
                                {
                                    "CustomerId": "53",
                                    "ordermonth": "2015-04-01",
                                    "TotalQuantity": "16",
                                    "qty": "16"
                                },
                                {
                                    "CustomerId": "53",
                                    "ordermonth": "2015-11-01",
                                    "TotalQuantity": "11",
                                    "qty": "27"
                                },
                                {
                                    "CustomerId": "53",
                                    "ordermonth": "2016-04-01",
                                    "TotalQuantity": "3",
                                    "qty": "30"
                                },
                                {
                                    "CustomerId": "54",
                                    "ordermonth": "2015-01-01",
                                    "TotalQuantity": "24",
                                    "qty": "24"
                                },
                                {
                                    "CustomerId": "54",
                                    "ordermonth": "2015-05-01",
                                    "TotalQuantity": "2",
                                    "qty": "26"
                                },
                                {
                                    "CustomerId": "54",
                                    "ordermonth": "2016-02-01",
                                    "TotalQuantity": "5",
                                    "qty": "31"
                                },
                                {
                                    "CustomerId": "54",
                                    "ordermonth": "2016-03-01",
                                    "TotalQuantity": "101",
                                    "qty": "132"
                                },
                                {
                                    "CustomerId": "55",
                                    "ordermonth": "2014-09-01",
                                    "TotalQuantity": "80",
                                    "qty": "80"
                                },
                                {
                                    "CustomerId": "55",
                                    "ordermonth": "2014-10-01",
                                    "TotalQuantity": "35",
                                    "qty": "115"
                                },
                                {
                                    "CustomerId": "55",
                                    "ordermonth": "2015-02-01",
                                    "TotalQuantity": "50",
                                    "qty": "165"
                                },
                                {
                                    "CustomerId": "55",
                                    "ordermonth": "2015-07-01",
                                    "TotalQuantity": "54",
                                    "qty": "219"
                                },
                                {
                                    "CustomerId": "55",
                                    "ordermonth": "2015-09-01",
                                    "TotalQuantity": "110",
                                    "qty": "329"
                                },
                                {
                                    "CustomerId": "55",
                                    "ordermonth": "2015-10-01",
                                    "TotalQuantity": "52",
                                    "qty": "381"
                                },
                                {
                                    "CustomerId": "55",
                                    "ordermonth": "2016-01-01",
                                    "TotalQuantity": "173",
                                    "qty": "554"
                                },
                                {
                                    "CustomerId": "55",
                                    "ordermonth": "2016-03-01",
                                    "TotalQuantity": "16",
                                    "qty": "570"
                                },
                                {
                                    "CustomerId": "55",
                                    "ordermonth": "2016-04-01",
                                    "TotalQuantity": "33",
                                    "qty": "603"
                                },
                                {
                                    "CustomerId": "56",
                                    "ordermonth": "2014-07-01",
                                    "TotalQuantity": "102",
                                    "qty": "102"
                                },
                                {
                                    "CustomerId": "56",
                                    "ordermonth": "2015-01-01",
                                    "TotalQuantity": "60",
                                    "qty": "162"
                                },
                                {
                                    "CustomerId": "56",
                                    "ordermonth": "2015-04-01",
                                    "TotalQuantity": "20",
                                    "qty": "182"
                                },
                                {
                                    "CustomerId": "56",
                                    "ordermonth": "2015-05-01",
                                    "TotalQuantity": "80",
                                    "qty": "262"
                                },
                                {
                                    "CustomerId": "56",
                                    "ordermonth": "2015-06-01",
                                    "TotalQuantity": "54",
                                    "qty": "316"
                                },
                                {
                                    "CustomerId": "56",
                                    "ordermonth": "2015-09-01",
                                    "TotalQuantity": "90",
                                    "qty": "406"
                                },
                                {
                                    "CustomerId": "56",
                                    "ordermonth": "2015-12-01",
                                    "TotalQuantity": "115",
                                    "qty": "521"
                                },
                                {
                                    "CustomerId": "56",
                                    "ordermonth": "2016-01-01",
                                    "TotalQuantity": "38",
                                    "qty": "559"
                                },
                                {
                                    "CustomerId": "56",
                                    "ordermonth": "2016-04-01",
                                    "TotalQuantity": "80",
                                    "qty": "639"
                                },
                                {
                                    "CustomerId": "58",
                                    "ordermonth": "2014-10-01",
                                    "TotalQuantity": "20",
                                    "qty": "20"
                                },
                                {
                                    "CustomerId": "58",
                                    "ordermonth": "2014-11-01",
                                    "TotalQuantity": "16",
                                    "qty": "36"
                                },
                                {
                                    "CustomerId": "58",
                                    "ordermonth": "2015-03-01",
                                    "TotalQuantity": "61",
                                    "qty": "97"
                                },
                                {
                                    "CustomerId": "58",
                                    "ordermonth": "2015-04-01",
                                    "TotalQuantity": "57",
                                    "qty": "154"
                                },
                                {
                                    "CustomerId": "58",
                                    "ordermonth": "2016-04-01",
                                    "TotalQuantity": "24",
                                    "qty": "178"
                                },
                                {
                                    "CustomerId": "58",
                                    "ordermonth": "2016-05-01",
                                    "TotalQuantity": "30",
                                    "qty": "208"
                                },
                                {
                                    "CustomerId": "59",
                                    "ordermonth": "2014-11-01",
                                    "TotalQuantity": "62",
                                    "qty": "62"
                                },
                                {
                                    "CustomerId": "59",
                                    "ordermonth": "2014-12-01",
                                    "TotalQuantity": "50",
                                    "qty": "112"
                                },
                                {
                                    "CustomerId": "59",
                                    "ordermonth": "2015-01-01",
                                    "TotalQuantity": "35",
                                    "qty": "147"
                                },
                                {
                                    "CustomerId": "59",
                                    "ordermonth": "2015-03-01",
                                    "TotalQuantity": "33",
                                    "qty": "180"
                                },
                                {
                                    "CustomerId": "59",
                                    "ordermonth": "2015-05-01",
                                    "TotalQuantity": "135",
                                    "qty": "315"
                                },
                                {
                                    "CustomerId": "59",
                                    "ordermonth": "2015-07-01",
                                    "TotalQuantity": "67",
                                    "qty": "382"
                                },
                                {
                                    "CustomerId": "59",
                                    "ordermonth": "2015-09-01",
                                    "TotalQuantity": "45",
                                    "qty": "427"
                                },
                                {
                                    "CustomerId": "59",
                                    "ordermonth": "2015-11-01",
                                    "TotalQuantity": "82",
                                    "qty": "509"
                                },
                                {
                                    "CustomerId": "59",
                                    "ordermonth": "2016-01-01",
                                    "TotalQuantity": "35",
                                    "qty": "544"
                                },
                                {
                                    "CustomerId": "59",
                                    "ordermonth": "2016-04-01",
                                    "TotalQuantity": "80",
                                    "qty": "624"
                                },
                                {
                                    "CustomerId": "60",
                                    "ordermonth": "2014-10-01",
                                    "TotalQuantity": "18",
                                    "qty": "18"
                                },
                                {
                                    "CustomerId": "60",
                                    "ordermonth": "2014-12-01",
                                    "TotalQuantity": "28",
                                    "qty": "46"
                                },
                                {
                                    "CustomerId": "60",
                                    "ordermonth": "2015-02-01",
                                    "TotalQuantity": "28",
                                    "qty": "74"
                                },
                                {
                                    "CustomerId": "60",
                                    "ordermonth": "2015-03-01",
                                    "TotalQuantity": "56",
                                    "qty": "130"
                                },
                                {
                                    "CustomerId": "60",
                                    "ordermonth": "2016-04-01",
                                    "TotalQuantity": "54",
                                    "qty": "184"
                                },
                                {
                                    "CustomerId": "61",
                                    "ordermonth": "2014-07-01",
                                    "TotalQuantity": "40",
                                    "qty": "40"
                                },
                                {
                                    "CustomerId": "61",
                                    "ordermonth": "2014-08-01",
                                    "TotalQuantity": "46",
                                    "qty": "86"
                                },
                                {
                                    "CustomerId": "61",
                                    "ordermonth": "2014-12-01",
                                    "TotalQuantity": "44",
                                    "qty": "130"
                                },
                                {
                                    "CustomerId": "61",
                                    "ordermonth": "2015-01-01",
                                    "TotalQuantity": "59",
                                    "qty": "189"
                                },
                                {
                                    "CustomerId": "61",
                                    "ordermonth": "2015-07-01",
                                    "TotalQuantity": "46",
                                    "qty": "235"
                                },
                                {
                                    "CustomerId": "61",
                                    "ordermonth": "2015-08-01",
                                    "TotalQuantity": "50",
                                    "qty": "285"
                                },
                                {
                                    "CustomerId": "61",
                                    "ordermonth": "2015-10-01",
                                    "TotalQuantity": "29",
                                    "qty": "314"
                                },
                                {
                                    "CustomerId": "61",
                                    "ordermonth": "2015-12-01",
                                    "TotalQuantity": "21",
                                    "qty": "335"
                                },
                                {
                                    "CustomerId": "61",
                                    "ordermonth": "2016-03-01",
                                    "TotalQuantity": "59",
                                    "qty": "394"
                                },
                                {
                                    "CustomerId": "62",
                                    "ordermonth": "2014-12-01",
                                    "TotalQuantity": "164",
                                    "qty": "164"
                                },
                                {
                                    "CustomerId": "62",
                                    "ordermonth": "2015-01-01",
                                    "TotalQuantity": "89",
                                    "qty": "253"
                                },
                                {
                                    "CustomerId": "62",
                                    "ordermonth": "2015-03-01",
                                    "TotalQuantity": "59",
                                    "qty": "312"
                                },
                                {
                                    "CustomerId": "62",
                                    "ordermonth": "2015-08-01",
                                    "TotalQuantity": "95",
                                    "qty": "407"
                                },
                                {
                                    "CustomerId": "62",
                                    "ordermonth": "2015-09-01",
                                    "TotalQuantity": "84",
                                    "qty": "491"
                                },
                                {
                                    "CustomerId": "62",
                                    "ordermonth": "2015-10-01",
                                    "TotalQuantity": "65",
                                    "qty": "556"
                                },
                                {
                                    "CustomerId": "62",
                                    "ordermonth": "2015-11-01",
                                    "TotalQuantity": "48",
                                    "qty": "604"
                                },
                                {
                                    "CustomerId": "62",
                                    "ordermonth": "2015-12-01",
                                    "TotalQuantity": "87",
                                    "qty": "691"
                                },
                                {
                                    "CustomerId": "62",
                                    "ordermonth": "2016-02-01",
                                    "TotalQuantity": "202",
                                    "qty": "893"
                                },
                                {
                                    "CustomerId": "62",
                                    "ordermonth": "2016-03-01",
                                    "TotalQuantity": "66",
                                    "qty": "959"
                                },
                                {
                                    "CustomerId": "62",
                                    "ordermonth": "2016-05-01",
                                    "TotalQuantity": "72",
                                    "qty": "1031"
                                },
                                {
                                    "CustomerId": "63",
                                    "ordermonth": "2014-08-01",
                                    "TotalQuantity": "413",
                                    "qty": "413"
                                },
                                {
                                    "CustomerId": "63",
                                    "ordermonth": "2014-09-01",
                                    "TotalQuantity": "12",
                                    "qty": "425"
                                },
                                {
                                    "CustomerId": "63",
                                    "ordermonth": "2014-11-01",
                                    "TotalQuantity": "268",
                                    "qty": "693"
                                },
                                {
                                    "CustomerId": "63",
                                    "ordermonth": "2015-01-01",
                                    "TotalQuantity": "146",
                                    "qty": "839"
                                },
                                {
                                    "CustomerId": "63",
                                    "ordermonth": "2015-02-01",
                                    "TotalQuantity": "238",
                                    "qty": "1077"
                                },
                                {
                                    "CustomerId": "63",
                                    "ordermonth": "2015-04-01",
                                    "TotalQuantity": "286",
                                    "qty": "1363"
                                },
                                {
                                    "CustomerId": "63",
                                    "ordermonth": "2015-05-01",
                                    "TotalQuantity": "448",
                                    "qty": "1811"
                                },
                                {
                                    "CustomerId": "63",
                                    "ordermonth": "2015-07-01",
                                    "TotalQuantity": "140",
                                    "qty": "1951"
                                },
                                {
                                    "CustomerId": "63",
                                    "ordermonth": "2015-09-01",
                                    "TotalQuantity": "255",
                                    "qty": "2206"
                                },
                                {
                                    "CustomerId": "63",
                                    "ordermonth": "2015-10-01",
                                    "TotalQuantity": "397",
                                    "qty": "2603"
                                },
                                {
                                    "CustomerId": "63",
                                    "ordermonth": "2015-11-01",
                                    "TotalQuantity": "92",
                                    "qty": "2695"
                                },
                                {
                                    "CustomerId": "63",
                                    "ordermonth": "2015-12-01",
                                    "TotalQuantity": "170",
                                    "qty": "2865"
                                },
                                {
                                    "CustomerId": "63",
                                    "ordermonth": "2016-01-01",
                                    "TotalQuantity": "245",
                                    "qty": "3110"
                                },
                                {
                                    "CustomerId": "63",
                                    "ordermonth": "2016-02-01",
                                    "TotalQuantity": "160",
                                    "qty": "3270"
                                },
                                {
                                    "CustomerId": "63",
                                    "ordermonth": "2016-03-01",
                                    "TotalQuantity": "323",
                                    "qty": "3593"
                                },
                                {
                                    "CustomerId": "63",
                                    "ordermonth": "2016-04-01",
                                    "TotalQuantity": "368",
                                    "qty": "3961"
                                },
                                {
                                    "CustomerId": "64",
                                    "ordermonth": "2015-02-01",
                                    "TotalQuantity": "26",
                                    "qty": "26"
                                },
                                {
                                    "CustomerId": "64",
                                    "ordermonth": "2015-10-01",
                                    "TotalQuantity": "22",
                                    "qty": "48"
                                },
                                {
                                    "CustomerId": "64",
                                    "ordermonth": "2016-01-01",
                                    "TotalQuantity": "7",
                                    "qty": "55"
                                },
                                {
                                    "CustomerId": "64",
                                    "ordermonth": "2016-02-01",
                                    "TotalQuantity": "32",
                                    "qty": "87"
                                },
                                {
                                    "CustomerId": "64",
                                    "ordermonth": "2016-04-01",
                                    "TotalQuantity": "5",
                                    "qty": "92"
                                },
                                {
                                    "CustomerId": "65",
                                    "ordermonth": "2014-07-01",
                                    "TotalQuantity": "29",
                                    "qty": "29"
                                },
                                {
                                    "CustomerId": "65",
                                    "ordermonth": "2014-08-01",
                                    "TotalQuantity": "145",
                                    "qty": "174"
                                },
                                {
                                    "CustomerId": "65",
                                    "ordermonth": "2014-09-01",
                                    "TotalQuantity": "175",
                                    "qty": "349"
                                },
                                {
                                    "CustomerId": "65",
                                    "ordermonth": "2014-11-01",
                                    "TotalQuantity": "56",
                                    "qty": "405"
                                },
                                {
                                    "CustomerId": "65",
                                    "ordermonth": "2015-01-01",
                                    "TotalQuantity": "168",
                                    "qty": "573"
                                },
                                {
                                    "CustomerId": "65",
                                    "ordermonth": "2015-03-01",
                                    "TotalQuantity": "148",
                                    "qty": "721"
                                },
                                {
                                    "CustomerId": "65",
                                    "ordermonth": "2015-06-01",
                                    "TotalQuantity": "112",
                                    "qty": "833"
                                },
                                {
                                    "CustomerId": "65",
                                    "ordermonth": "2015-07-01",
                                    "TotalQuantity": "59",
                                    "qty": "892"
                                },
                                {
                                    "CustomerId": "65",
                                    "ordermonth": "2015-12-01",
                                    "TotalQuantity": "53",
                                    "qty": "945"
                                },
                                {
                                    "CustomerId": "65",
                                    "ordermonth": "2016-01-01",
                                    "TotalQuantity": "101",
                                    "qty": "1046"
                                },
                                {
                                    "CustomerId": "65",
                                    "ordermonth": "2016-02-01",
                                    "TotalQuantity": "80",
                                    "qty": "1126"
                                },
                                {
                                    "CustomerId": "65",
                                    "ordermonth": "2016-03-01",
                                    "TotalQuantity": "100",
                                    "qty": "1226"
                                },
                                {
                                    "CustomerId": "65",
                                    "ordermonth": "2016-04-01",
                                    "TotalQuantity": "85",
                                    "qty": "1311"
                                },
                                {
                                    "CustomerId": "65",
                                    "ordermonth": "2016-05-01",
                                    "TotalQuantity": "72",
                                    "qty": "1383"
                                },
                                {
                                    "CustomerId": "66",
                                    "ordermonth": "2014-08-01",
                                    "TotalQuantity": "13",
                                    "qty": "13"
                                },
                                {
                                    "CustomerId": "66",
                                    "ordermonth": "2015-01-01",
                                    "TotalQuantity": "20",
                                    "qty": "33"
                                },
                                {
                                    "CustomerId": "66",
                                    "ordermonth": "2015-02-01",
                                    "TotalQuantity": "18",
                                    "qty": "51"
                                },
                                {
                                    "CustomerId": "66",
                                    "ordermonth": "2015-06-01",
                                    "TotalQuantity": "30",
                                    "qty": "81"
                                },
                                {
                                    "CustomerId": "66",
                                    "ordermonth": "2015-07-01",
                                    "TotalQuantity": "4",
                                    "qty": "85"
                                },
                                {
                                    "CustomerId": "66",
                                    "ordermonth": "2015-09-01",
                                    "TotalQuantity": "20",
                                    "qty": "105"
                                },
                                {
                                    "CustomerId": "66",
                                    "ordermonth": "2015-11-01",
                                    "TotalQuantity": "40",
                                    "qty": "145"
                                },
                                {
                                    "CustomerId": "66",
                                    "ordermonth": "2016-01-01",
                                    "TotalQuantity": "76",
                                    "qty": "221"
                                },
                                {
                                    "CustomerId": "66",
                                    "ordermonth": "2016-02-01",
                                    "TotalQuantity": "34",
                                    "qty": "255"
                                },
                                {
                                    "CustomerId": "66",
                                    "ordermonth": "2016-03-01",
                                    "TotalQuantity": "28",
                                    "qty": "283"
                                },
                                {
                                    "CustomerId": "66",
                                    "ordermonth": "2016-04-01",
                                    "TotalQuantity": "52",
                                    "qty": "335"
                                },
                                {
                                    "CustomerId": "67",
                                    "ordermonth": "2014-08-01",
                                    "TotalQuantity": "75",
                                    "qty": "75"
                                },
                                {
                                    "CustomerId": "67",
                                    "ordermonth": "2014-09-01",
                                    "TotalQuantity": "35",
                                    "qty": "110"
                                },
                                {
                                    "CustomerId": "67",
                                    "ordermonth": "2015-02-01",
                                    "TotalQuantity": "77",
                                    "qty": "187"
                                },
                                {
                                    "CustomerId": "67",
                                    "ordermonth": "2015-03-01",
                                    "TotalQuantity": "64",
                                    "qty": "251"
                                },
                                {
                                    "CustomerId": "67",
                                    "ordermonth": "2015-06-01",
                                    "TotalQuantity": "95",
                                    "qty": "346"
                                },
                                {
                                    "CustomerId": "67",
                                    "ordermonth": "2015-08-01",
                                    "TotalQuantity": "68",
                                    "qty": "414"
                                },
                                {
                                    "CustomerId": "67",
                                    "ordermonth": "2016-01-01",
                                    "TotalQuantity": "114",
                                    "qty": "528"
                                },
                                {
                                    "CustomerId": "67",
                                    "ordermonth": "2016-02-01",
                                    "TotalQuantity": "55",
                                    "qty": "583"
                                },
                                {
                                    "CustomerId": "67",
                                    "ordermonth": "2016-04-01",
                                    "TotalQuantity": "77",
                                    "qty": "660"
                                },
                                {
                                    "CustomerId": "68",
                                    "ordermonth": "2014-07-01",
                                    "TotalQuantity": "110",
                                    "qty": "110"
                                },
                                {
                                    "CustomerId": "68",
                                    "ordermonth": "2015-01-01",
                                    "TotalQuantity": "80",
                                    "qty": "190"
                                },
                                {
                                    "CustomerId": "68",
                                    "ordermonth": "2015-05-01",
                                    "TotalQuantity": "86",
                                    "qty": "276"
                                },
                                {
                                    "CustomerId": "68",
                                    "ordermonth": "2015-09-01",
                                    "TotalQuantity": "46",
                                    "qty": "322"
                                },
                                {
                                    "CustomerId": "68",
                                    "ordermonth": "2015-11-01",
                                    "TotalQuantity": "197",
                                    "qty": "519"
                                },
                                {
                                    "CustomerId": "68",
                                    "ordermonth": "2016-03-01",
                                    "TotalQuantity": "143",
                                    "qty": "662"
                                },
                                {
                                    "CustomerId": "68",
                                    "ordermonth": "2016-04-01",
                                    "TotalQuantity": "106",
                                    "qty": "768"
                                },
                                {
                                    "CustomerId": "68",
                                    "ordermonth": "2016-05-01",
                                    "TotalQuantity": "42",
                                    "qty": "810"
                                },
                                {
                                    "CustomerId": "69",
                                    "ordermonth": "2014-08-01",
                                    "TotalQuantity": "19",
                                    "qty": "19"
                                },
                                {
                                    "CustomerId": "69",
                                    "ordermonth": "2014-09-01",
                                    "TotalQuantity": "25",
                                    "qty": "44"
                                },
                                {
                                    "CustomerId": "69",
                                    "ordermonth": "2016-03-01",
                                    "TotalQuantity": "11",
                                    "qty": "55"
                                },
                                {
                                    "CustomerId": "69",
                                    "ordermonth": "2016-04-01",
                                    "TotalQuantity": "36",
                                    "qty": "91"
                                },
                                {
                                    "CustomerId": "70",
                                    "ordermonth": "2014-12-01",
                                    "TotalQuantity": "48",
                                    "qty": "48"
                                },
                                {
                                    "CustomerId": "70",
                                    "ordermonth": "2015-04-01",
                                    "TotalQuantity": "13",
                                    "qty": "61"
                                },
                                {
                                    "CustomerId": "70",
                                    "ordermonth": "2015-08-01",
                                    "TotalQuantity": "8",
                                    "qty": "69"
                                },
                                {
                                    "CustomerId": "70",
                                    "ordermonth": "2016-01-01",
                                    "TotalQuantity": "27",
                                    "qty": "96"
                                },
                                {
                                    "CustomerId": "70",
                                    "ordermonth": "2016-02-01",
                                    "TotalQuantity": "32",
                                    "qty": "128"
                                },
                                {
                                    "CustomerId": "70",
                                    "ordermonth": "2016-04-01",
                                    "TotalQuantity": "33",
                                    "qty": "161"
                                },
                                {
                                    "CustomerId": "71",
                                    "ordermonth": "2014-10-01",
                                    "TotalQuantity": "241",
                                    "qty": "241"
                                },
                                {
                                    "CustomerId": "71",
                                    "ordermonth": "2014-12-01",
                                    "TotalQuantity": "326",
                                    "qty": "567"
                                },
                                {
                                    "CustomerId": "71",
                                    "ordermonth": "2015-02-01",
                                    "TotalQuantity": "323",
                                    "qty": "890"
                                },
                                {
                                    "CustomerId": "71",
                                    "ordermonth": "2015-04-01",
                                    "TotalQuantity": "72",
                                    "qty": "962"
                                },
                                {
                                    "CustomerId": "71",
                                    "ordermonth": "2015-06-01",
                                    "TotalQuantity": "143",
                                    "qty": "1105"
                                },
                                {
                                    "CustomerId": "71",
                                    "ordermonth": "2015-07-01",
                                    "TotalQuantity": "549",
                                    "qty": "1654"
                                },
                                {
                                    "CustomerId": "71",
                                    "ordermonth": "2015-08-01",
                                    "TotalQuantity": "50",
                                    "qty": "1704"
                                },
                                {
                                    "CustomerId": "71",
                                    "ordermonth": "2015-09-01",
                                    "TotalQuantity": "484",
                                    "qty": "2188"
                                },
                                {
                                    "CustomerId": "71",
                                    "ordermonth": "2015-10-01",
                                    "TotalQuantity": "750",
                                    "qty": "2938"
                                },
                                {
                                    "CustomerId": "71",
                                    "ordermonth": "2015-11-01",
                                    "TotalQuantity": "203",
                                    "qty": "3141"
                                },
                                {
                                    "CustomerId": "71",
                                    "ordermonth": "2016-01-01",
                                    "TotalQuantity": "304",
                                    "qty": "3445"
                                },
                                {
                                    "CustomerId": "71",
                                    "ordermonth": "2016-02-01",
                                    "TotalQuantity": "275",
                                    "qty": "3720"
                                },
                                {
                                    "CustomerId": "71",
                                    "ordermonth": "2016-03-01",
                                    "TotalQuantity": "418",
                                    "qty": "4138"
                                },
                                {
                                    "CustomerId": "71",
                                    "ordermonth": "2016-04-01",
                                    "TotalQuantity": "647",
                                    "qty": "4785"
                                },
                                {
                                    "CustomerId": "71",
                                    "ordermonth": "2016-05-01",
                                    "TotalQuantity": "173",
                                    "qty": "4958"
                                },
                                {
                                    "CustomerId": "72",
                                    "ordermonth": "2014-11-01",
                                    "TotalQuantity": "206",
                                    "qty": "206"
                                },
                                {
                                    "CustomerId": "72",
                                    "ordermonth": "2014-12-01",
                                    "TotalQuantity": "115",
                                    "qty": "321"
                                },
                                {
                                    "CustomerId": "72",
                                    "ordermonth": "2015-03-01",
                                    "TotalQuantity": "98",
                                    "qty": "419"
                                },
                                {
                                    "CustomerId": "72",
                                    "ordermonth": "2015-05-01",
                                    "TotalQuantity": "148",
                                    "qty": "567"
                                },
                                {
                                    "CustomerId": "72",
                                    "ordermonth": "2015-12-01",
                                    "TotalQuantity": "131",
                                    "qty": "698"
                                },
                                {
                                    "CustomerId": "72",
                                    "ordermonth": "2016-02-01",
                                    "TotalQuantity": "120",
                                    "qty": "818"
                                },
                                {
                                    "CustomerId": "73",
                                    "ordermonth": "2014-10-01",
                                    "TotalQuantity": "17",
                                    "qty": "17"
                                },
                                {
                                    "CustomerId": "73",
                                    "ordermonth": "2015-01-01",
                                    "TotalQuantity": "123",
                                    "qty": "140"
                                },
                                {
                                    "CustomerId": "73",
                                    "ordermonth": "2015-06-01",
                                    "TotalQuantity": "24",
                                    "qty": "164"
                                },
                                {
                                    "CustomerId": "73",
                                    "ordermonth": "2015-08-01",
                                    "TotalQuantity": "50",
                                    "qty": "214"
                                },
                                {
                                    "CustomerId": "73",
                                    "ordermonth": "2015-09-01",
                                    "TotalQuantity": "30",
                                    "qty": "244"
                                },
                                {
                                    "CustomerId": "73",
                                    "ordermonth": "2015-12-01",
                                    "TotalQuantity": "120",
                                    "qty": "364"
                                },
                                {
                                    "CustomerId": "73",
                                    "ordermonth": "2016-05-01",
                                    "TotalQuantity": "14",
                                    "qty": "378"
                                },
                                {
                                    "CustomerId": "74",
                                    "ordermonth": "2015-11-01",
                                    "TotalQuantity": "3",
                                    "qty": "3"
                                },
                                {
                                    "CustomerId": "74",
                                    "ordermonth": "2016-02-01",
                                    "TotalQuantity": "14",
                                    "qty": "17"
                                },
                                {
                                    "CustomerId": "74",
                                    "ordermonth": "2016-03-01",
                                    "TotalQuantity": "21",
                                    "qty": "38"
                                },
                                {
                                    "CustomerId": "74",
                                    "ordermonth": "2016-04-01",
                                    "TotalQuantity": "10",
                                    "qty": "48"
                                },
                                {
                                    "CustomerId": "75",
                                    "ordermonth": "2014-08-01",
                                    "TotalQuantity": "24",
                                    "qty": "24"
                                },
                                {
                                    "CustomerId": "75",
                                    "ordermonth": "2014-10-01",
                                    "TotalQuantity": "50",
                                    "qty": "74"
                                },
                                {
                                    "CustomerId": "75",
                                    "ordermonth": "2014-11-01",
                                    "TotalQuantity": "24",
                                    "qty": "98"
                                },
                                {
                                    "CustomerId": "75",
                                    "ordermonth": "2014-12-01",
                                    "TotalQuantity": "76",
                                    "qty": "174"
                                },
                                {
                                    "CustomerId": "75",
                                    "ordermonth": "2015-01-01",
                                    "TotalQuantity": "50",
                                    "qty": "224"
                                },
                                {
                                    "CustomerId": "75",
                                    "ordermonth": "2015-11-01",
                                    "TotalQuantity": "67",
                                    "qty": "291"
                                },
                                {
                                    "CustomerId": "75",
                                    "ordermonth": "2016-01-01",
                                    "TotalQuantity": "26",
                                    "qty": "317"
                                },
                                {
                                    "CustomerId": "75",
                                    "ordermonth": "2016-03-01",
                                    "TotalQuantity": "10",
                                    "qty": "327"
                                },
                                {
                                    "CustomerId": "76",
                                    "ordermonth": "2014-07-01",
                                    "TotalQuantity": "105",
                                    "qty": "105"
                                },
                                {
                                    "CustomerId": "76",
                                    "ordermonth": "2014-09-01",
                                    "TotalQuantity": "80",
                                    "qty": "185"
                                },
                                {
                                    "CustomerId": "76",
                                    "ordermonth": "2015-02-01",
                                    "TotalQuantity": "145",
                                    "qty": "330"
                                },
                                {
                                    "CustomerId": "76",
                                    "ordermonth": "2015-03-01",
                                    "TotalQuantity": "208",
                                    "qty": "538"
                                },
                                {
                                    "CustomerId": "76",
                                    "ordermonth": "2015-12-01",
                                    "TotalQuantity": "2",
                                    "qty": "540"
                                },
                                {
                                    "CustomerId": "76",
                                    "ordermonth": "2016-01-01",
                                    "TotalQuantity": "182",
                                    "qty": "722"
                                },
                                {
                                    "CustomerId": "76",
                                    "ordermonth": "2016-02-01",
                                    "TotalQuantity": "87",
                                    "qty": "809"
                                },
                                {
                                    "CustomerId": "76",
                                    "ordermonth": "2016-03-01",
                                    "TotalQuantity": "116",
                                    "qty": "925"
                                },
                                {
                                    "CustomerId": "76",
                                    "ordermonth": "2016-04-01",
                                    "TotalQuantity": "147",
                                    "qty": "1072"
                                },
                                {
                                    "CustomerId": "77",
                                    "ordermonth": "2014-09-01",
                                    "TotalQuantity": "15",
                                    "qty": "15"
                                },
                                {
                                    "CustomerId": "77",
                                    "ordermonth": "2015-10-01",
                                    "TotalQuantity": "9",
                                    "qty": "24"
                                },
                                {
                                    "CustomerId": "77",
                                    "ordermonth": "2015-12-01",
                                    "TotalQuantity": "20",
                                    "qty": "44"
                                },
                                {
                                    "CustomerId": "77",
                                    "ordermonth": "2016-04-01",
                                    "TotalQuantity": "2",
                                    "qty": "46"
                                },
                                {
                                    "CustomerId": "78",
                                    "ordermonth": "2015-08-01",
                                    "TotalQuantity": "26",
                                    "qty": "26"
                                },
                                {
                                    "CustomerId": "78",
                                    "ordermonth": "2015-12-01",
                                    "TotalQuantity": "9",
                                    "qty": "35"
                                },
                                {
                                    "CustomerId": "78",
                                    "ordermonth": "2016-04-01",
                                    "TotalQuantity": "24",
                                    "qty": "59"
                                },
                                {
                                    "CustomerId": "79",
                                    "ordermonth": "2014-07-01",
                                    "TotalQuantity": "49",
                                    "qty": "49"
                                },
                                {
                                    "CustomerId": "79",
                                    "ordermonth": "2015-02-01",
                                    "TotalQuantity": "100",
                                    "qty": "149"
                                },
                                {
                                    "CustomerId": "79",
                                    "ordermonth": "2015-05-01",
                                    "TotalQuantity": "24",
                                    "qty": "173"
                                },
                                {
                                    "CustomerId": "79",
                                    "ordermonth": "2015-07-01",
                                    "TotalQuantity": "28",
                                    "qty": "201"
                                },
                                {
                                    "CustomerId": "79",
                                    "ordermonth": "2016-03-01",
                                    "TotalQuantity": "52",
                                    "qty": "253"
                                },
                                {
                                    "CustomerId": "80",
                                    "ordermonth": "2014-08-01",
                                    "TotalQuantity": "58",
                                    "qty": "58"
                                },
                                {
                                    "CustomerId": "80",
                                    "ordermonth": "2014-09-01",
                                    "TotalQuantity": "42",
                                    "qty": "100"
                                },
                                {
                                    "CustomerId": "80",
                                    "ordermonth": "2014-10-01",
                                    "TotalQuantity": "52",
                                    "qty": "152"
                                },
                                {
                                    "CustomerId": "80",
                                    "ordermonth": "2015-04-01",
                                    "TotalQuantity": "29",
                                    "qty": "181"
                                },
                                {
                                    "CustomerId": "80",
                                    "ordermonth": "2015-06-01",
                                    "TotalQuantity": "51",
                                    "qty": "232"
                                },
                                {
                                    "CustomerId": "80",
                                    "ordermonth": "2015-09-01",
                                    "TotalQuantity": "30",
                                    "qty": "262"
                                },
                                {
                                    "CustomerId": "80",
                                    "ordermonth": "2016-01-01",
                                    "TotalQuantity": "52",
                                    "qty": "314"
                                },
                                {
                                    "CustomerId": "80",
                                    "ordermonth": "2016-02-01",
                                    "TotalQuantity": "50",
                                    "qty": "364"
                                },
                                {
                                    "CustomerId": "80",
                                    "ordermonth": "2016-05-01",
                                    "TotalQuantity": "20",
                                    "qty": "384"
                                },
                                {
                                    "CustomerId": "81",
                                    "ordermonth": "2014-08-01",
                                    "TotalQuantity": "20",
                                    "qty": "20"
                                },
                                {
                                    "CustomerId": "81",
                                    "ordermonth": "2015-04-01",
                                    "TotalQuantity": "20",
                                    "qty": "40"
                                },
                                {
                                    "CustomerId": "81",
                                    "ordermonth": "2015-07-01",
                                    "TotalQuantity": "50",
                                    "qty": "90"
                                },
                                {
                                    "CustomerId": "81",
                                    "ordermonth": "2016-01-01",
                                    "TotalQuantity": "161",
                                    "qty": "251"
                                },
                                {
                                    "CustomerId": "82",
                                    "ordermonth": "2015-06-01",
                                    "TotalQuantity": "80",
                                    "qty": "80"
                                },
                                {
                                    "CustomerId": "82",
                                    "ordermonth": "2016-01-01",
                                    "TotalQuantity": "9",
                                    "qty": "89"
                                },
                                {
                                    "CustomerId": "83",
                                    "ordermonth": "2014-11-01",
                                    "TotalQuantity": "76",
                                    "qty": "76"
                                },
                                {
                                    "CustomerId": "83",
                                    "ordermonth": "2014-12-01",
                                    "TotalQuantity": "139",
                                    "qty": "215"
                                },
                                {
                                    "CustomerId": "83",
                                    "ordermonth": "2015-03-01",
                                    "TotalQuantity": "118",
                                    "qty": "333"
                                },
                                {
                                    "CustomerId": "83",
                                    "ordermonth": "2015-07-01",
                                    "TotalQuantity": "79",
                                    "qty": "412"
                                },
                                {
                                    "CustomerId": "83",
                                    "ordermonth": "2015-10-01",
                                    "TotalQuantity": "92",
                                    "qty": "504"
                                },
                                {
                                    "CustomerId": "83",
                                    "ordermonth": "2015-11-01",
                                    "TotalQuantity": "50",
                                    "qty": "554"
                                },
                                {
                                    "CustomerId": "83",
                                    "ordermonth": "2015-12-01",
                                    "TotalQuantity": "80",
                                    "qty": "634"
                                },
                                {
                                    "CustomerId": "83",
                                    "ordermonth": "2016-03-01",
                                    "TotalQuantity": "140",
                                    "qty": "774"
                                },
                                {
                                    "CustomerId": "83",
                                    "ordermonth": "2016-04-01",
                                    "TotalQuantity": "18",
                                    "qty": "792"
                                },
                                {
                                    "CustomerId": "84",
                                    "ordermonth": "2014-07-01",
                                    "TotalQuantity": "41",
                                    "qty": "41"
                                },
                                {
                                    "CustomerId": "84",
                                    "ordermonth": "2014-10-01",
                                    "TotalQuantity": "18",
                                    "qty": "59"
                                },
                                {
                                    "CustomerId": "84",
                                    "ordermonth": "2015-02-01",
                                    "TotalQuantity": "102",
                                    "qty": "161"
                                },
                                {
                                    "CustomerId": "84",
                                    "ordermonth": "2015-03-01",
                                    "TotalQuantity": "20",
                                    "qty": "181"
                                },
                                {
                                    "CustomerId": "84",
                                    "ordermonth": "2015-05-01",
                                    "TotalQuantity": "80",
                                    "qty": "261"
                                },
                                {
                                    "CustomerId": "84",
                                    "ordermonth": "2015-12-01",
                                    "TotalQuantity": "37",
                                    "qty": "298"
                                },
                                {
                                    "CustomerId": "84",
                                    "ordermonth": "2016-01-01",
                                    "TotalQuantity": "136",
                                    "qty": "434"
                                },
                                {
                                    "CustomerId": "85",
                                    "ordermonth": "2014-07-01",
                                    "TotalQuantity": "27",
                                    "qty": "27"
                                },
                                {
                                    "CustomerId": "85",
                                    "ordermonth": "2014-08-01",
                                    "TotalQuantity": "27",
                                    "qty": "54"
                                },
                                {
                                    "CustomerId": "85",
                                    "ordermonth": "2014-09-01",
                                    "TotalQuantity": "4",
                                    "qty": "58"
                                },
                                {
                                    "CustomerId": "85",
                                    "ordermonth": "2015-11-01",
                                    "TotalQuantity": "40",
                                    "qty": "98"
                                },
                                {
                                    "CustomerId": "86",
                                    "ordermonth": "2014-09-01",
                                    "TotalQuantity": "88",
                                    "qty": "88"
                                },
                                {
                                    "CustomerId": "86",
                                    "ordermonth": "2014-11-01",
                                    "TotalQuantity": "102",
                                    "qty": "190"
                                },
                                {
                                    "CustomerId": "86",
                                    "ordermonth": "2015-04-01",
                                    "TotalQuantity": "105",
                                    "qty": "295"
                                },
                                {
                                    "CustomerId": "86",
                                    "ordermonth": "2015-08-01",
                                    "TotalQuantity": "85",
                                    "qty": "380"
                                },
                                {
                                    "CustomerId": "86",
                                    "ordermonth": "2015-09-01",
                                    "TotalQuantity": "59",
                                    "qty": "439"
                                },
                                {
                                    "CustomerId": "86",
                                    "ordermonth": "2016-04-01",
                                    "TotalQuantity": "53",
                                    "qty": "492"
                                },
                                {
                                    "CustomerId": "87",
                                    "ordermonth": "2014-07-01",
                                    "TotalQuantity": "12",
                                    "qty": "12"
                                },
                                {
                                    "CustomerId": "87",
                                    "ordermonth": "2014-08-01",
                                    "TotalQuantity": "55",
                                    "qty": "67"
                                },
                                {
                                    "CustomerId": "87",
                                    "ordermonth": "2014-10-01",
                                    "TotalQuantity": "90",
                                    "qty": "157"
                                },
                                {
                                    "CustomerId": "87",
                                    "ordermonth": "2015-01-01",
                                    "TotalQuantity": "70",
                                    "qty": "227"
                                },
                                {
                                    "CustomerId": "87",
                                    "ordermonth": "2015-02-01",
                                    "TotalQuantity": "140",
                                    "qty": "367"
                                },
                                {
                                    "CustomerId": "87",
                                    "ordermonth": "2015-05-01",
                                    "TotalQuantity": "137",
                                    "qty": "504"
                                },
                                {
                                    "CustomerId": "87",
                                    "ordermonth": "2015-06-01",
                                    "TotalQuantity": "44",
                                    "qty": "548"
                                },
                                {
                                    "CustomerId": "87",
                                    "ordermonth": "2015-08-01",
                                    "TotalQuantity": "31",
                                    "qty": "579"
                                },
                                {
                                    "CustomerId": "87",
                                    "ordermonth": "2015-11-01",
                                    "TotalQuantity": "70",
                                    "qty": "649"
                                },
                                {
                                    "CustomerId": "87",
                                    "ordermonth": "2015-12-01",
                                    "TotalQuantity": "58",
                                    "qty": "707"
                                },
                                {
                                    "CustomerId": "87",
                                    "ordermonth": "2016-04-01",
                                    "TotalQuantity": "30",
                                    "qty": "737"
                                },
                                {
                                    "CustomerId": "88",
                                    "ordermonth": "2014-07-01",
                                    "TotalQuantity": "27",
                                    "qty": "27"
                                },
                                {
                                    "CustomerId": "88",
                                    "ordermonth": "2015-01-01",
                                    "TotalQuantity": "50",
                                    "qty": "77"
                                },
                                {
                                    "CustomerId": "88",
                                    "ordermonth": "2015-07-01",
                                    "TotalQuantity": "15",
                                    "qty": "92"
                                },
                                {
                                    "CustomerId": "88",
                                    "ordermonth": "2015-08-01",
                                    "TotalQuantity": "45",
                                    "qty": "137"
                                },
                                {
                                    "CustomerId": "88",
                                    "ordermonth": "2015-12-01",
                                    "TotalQuantity": "54",
                                    "qty": "191"
                                },
                                {
                                    "CustomerId": "88",
                                    "ordermonth": "2016-01-01",
                                    "TotalQuantity": "20",
                                    "qty": "211"
                                },
                                {
                                    "CustomerId": "88",
                                    "ordermonth": "2016-02-01",
                                    "TotalQuantity": "23",
                                    "qty": "234"
                                },
                                {
                                    "CustomerId": "88",
                                    "ordermonth": "2016-03-01",
                                    "TotalQuantity": "33",
                                    "qty": "267"
                                },
                                {
                                    "CustomerId": "89",
                                    "ordermonth": "2014-07-01",
                                    "TotalQuantity": "80",
                                    "qty": "80"
                                },
                                {
                                    "CustomerId": "89",
                                    "ordermonth": "2014-11-01",
                                    "TotalQuantity": "105",
                                    "qty": "185"
                                },
                                {
                                    "CustomerId": "89",
                                    "ordermonth": "2015-03-01",
                                    "TotalQuantity": "142",
                                    "qty": "327"
                                },
                                {
                                    "CustomerId": "89",
                                    "ordermonth": "2015-04-01",
                                    "TotalQuantity": "59",
                                    "qty": "386"
                                },
                                {
                                    "CustomerId": "89",
                                    "ordermonth": "2015-07-01",
                                    "TotalQuantity": "59",
                                    "qty": "445"
                                },
                                {
                                    "CustomerId": "89",
                                    "ordermonth": "2015-10-01",
                                    "TotalQuantity": "164",
                                    "qty": "609"
                                },
                                {
                                    "CustomerId": "89",
                                    "ordermonth": "2015-11-01",
                                    "TotalQuantity": "94",
                                    "qty": "703"
                                },
                                {
                                    "CustomerId": "89",
                                    "ordermonth": "2016-01-01",
                                    "TotalQuantity": "140",
                                    "qty": "843"
                                },
                                {
                                    "CustomerId": "89",
                                    "ordermonth": "2016-02-01",
                                    "TotalQuantity": "50",
                                    "qty": "893"
                                },
                                {
                                    "CustomerId": "89",
                                    "ordermonth": "2016-04-01",
                                    "TotalQuantity": "90",
                                    "qty": "983"
                                },
                                {
                                    "CustomerId": "89",
                                    "ordermonth": "2016-05-01",
                                    "TotalQuantity": "80",
                                    "qty": "1063"
                                },
                                {
                                    "CustomerId": "90",
                                    "ordermonth": "2015-07-01",
                                    "TotalQuantity": "5",
                                    "qty": "5"
                                },
                                {
                                    "CustomerId": "90",
                                    "ordermonth": "2015-09-01",
                                    "TotalQuantity": "15",
                                    "qty": "20"
                                },
                                {
                                    "CustomerId": "90",
                                    "ordermonth": "2015-10-01",
                                    "TotalQuantity": "34",
                                    "qty": "54"
                                },
                                {
                                    "CustomerId": "90",
                                    "ordermonth": "2016-02-01",
                                    "TotalQuantity": "82",
                                    "qty": "136"
                                },
                                {
                                    "CustomerId": "90",
                                    "ordermonth": "2016-04-01",
                                    "TotalQuantity": "12",
                                    "qty": "148"
                                },
                                {
                                    "CustomerId": "91",
                                    "ordermonth": "2014-12-01",
                                    "TotalQuantity": "45",
                                    "qty": "45"
                                },
                                {
                                    "CustomerId": "91",
                                    "ordermonth": "2015-07-01",
                                    "TotalQuantity": "31",
                                    "qty": "76"
                                },
                                {
                                    "CustomerId": "91",
                                    "ordermonth": "2015-12-01",
                                    "TotalQuantity": "28",
                                    "qty": "104"
                                },
                                {
                                    "CustomerId": "91",
                                    "ordermonth": "2016-02-01",
                                    "TotalQuantity": "20",
                                    "qty": "124"
                                },
                                {
                                    "CustomerId": "91",
                                    "ordermonth": "2016-04-01",
                                    "TotalQuantity": "81",
                                    "qty": "205"
                                }
                            ]
                        },
                        "text/html": [
                            "<table>",
                            "<tr><th>CustomerId</th><th>ordermonth</th><th>TotalQuantity</th><th>qty</th></tr>",
                            "<tr><td>1</td><td>2015-08-01</td><td>38</td><td>38</td></tr>",
                            "<tr><td>1</td><td>2015-10-01</td><td>41</td><td>79</td></tr>",
                            "<tr><td>1</td><td>2016-01-01</td><td>17</td><td>96</td></tr>",
                            "<tr><td>1</td><td>2016-03-01</td><td>18</td><td>114</td></tr>",
                            "<tr><td>1</td><td>2016-04-01</td><td>60</td><td>174</td></tr>",
                            "<tr><td>2</td><td>2014-09-01</td><td>6</td><td>6</td></tr>",
                            "<tr><td>2</td><td>2015-08-01</td><td>18</td><td>24</td></tr>",
                            "<tr><td>2</td><td>2015-11-01</td><td>10</td><td>34</td></tr>",
                            "<tr><td>2</td><td>2016-03-01</td><td>29</td><td>63</td></tr>",
                            "<tr><td>3</td><td>2014-11-01</td><td>24</td><td>24</td></tr>",
                            "<tr><td>3</td><td>2015-04-01</td><td>30</td><td>54</td></tr>",
                            "<tr><td>3</td><td>2015-05-01</td><td>80</td><td>134</td></tr>",
                            "<tr><td>3</td><td>2015-06-01</td><td>83</td><td>217</td></tr>",
                            "<tr><td>3</td><td>2015-09-01</td><td>102</td><td>319</td></tr>",
                            "<tr><td>3</td><td>2016-01-01</td><td>40</td><td>359</td></tr>",
                            "<tr><td>4</td><td>2014-11-01</td><td>50</td><td>50</td></tr>",
                            "<tr><td>4</td><td>2014-12-01</td><td>55</td><td>105</td></tr>",
                            "<tr><td>4</td><td>2015-02-01</td><td>40</td><td>145</td></tr>",
                            "<tr><td>4</td><td>2015-06-01</td><td>96</td><td>241</td></tr>",
                            "<tr><td>4</td><td>2015-10-01</td><td>89</td><td>330</td></tr>",
                            "<tr><td>4</td><td>2015-11-01</td><td>43</td><td>373</td></tr>",
                            "<tr><td>4</td><td>2015-12-01</td><td>103</td><td>476</td></tr>",
                            "<tr><td>4</td><td>2016-02-01</td><td>19</td><td>495</td></tr>",
                            "<tr><td>4</td><td>2016-03-01</td><td>124</td><td>619</td></tr>",
                            "<tr><td>4</td><td>2016-04-01</td><td>31</td><td>650</td></tr>",
                            "<tr><td>5</td><td>2014-08-01</td><td>126</td><td>126</td></tr>",
                            "<tr><td>5</td><td>2014-12-01</td><td>43</td><td>169</td></tr>",
                            "<tr><td>5</td><td>2015-02-01</td><td>84</td><td>253</td></tr>",
                            "<tr><td>5</td><td>2015-05-01</td><td>87</td><td>340</td></tr>",
                            "<tr><td>5</td><td>2015-06-01</td><td>87</td><td>427</td></tr>",
                            "<tr><td>5</td><td>2015-08-01</td><td>52</td><td>479</td></tr>",
                            "<tr><td>5</td><td>2015-09-01</td><td>65</td><td>544</td></tr>",
                            "<tr><td>5</td><td>2015-10-01</td><td>35</td><td>579</td></tr>",
                            "<tr><td>5</td><td>2015-11-01</td><td>61</td><td>640</td></tr>",
                            "<tr><td>5</td><td>2015-12-01</td><td>10</td><td>650</td></tr>",
                            "<tr><td>5</td><td>2016-01-01</td><td>167</td><td>817</td></tr>",
                            "<tr><td>5</td><td>2016-02-01</td><td>128</td><td>945</td></tr>",
                            "<tr><td>5</td><td>2016-03-01</td><td>56</td><td>1001</td></tr>",
                            "<tr><td>6</td><td>2015-04-01</td><td>23</td><td>23</td></tr>",
                            "<tr><td>6</td><td>2015-06-01</td><td>18</td><td>41</td></tr>",
                            "<tr><td>6</td><td>2015-07-01</td><td>27</td><td>68</td></tr>",
                            "<tr><td>6</td><td>2016-01-01</td><td>10</td><td>78</td></tr>",
                            "<tr><td>6</td><td>2016-03-01</td><td>34</td><td>112</td></tr>",
                            "<tr><td>6</td><td>2016-04-01</td><td>28</td><td>140</td></tr>",
                            "<tr><td>7</td><td>2014-07-01</td><td>50</td><td>50</td></tr>",
                            "<tr><td>7</td><td>2014-09-01</td><td>80</td><td>130</td></tr>",
                            "<tr><td>7</td><td>2014-11-01</td><td>138</td><td>268</td></tr>",
                            "<tr><td>7</td><td>2015-02-01</td><td>168</td><td>436</td></tr>",
                            "<tr><td>7</td><td>2015-06-01</td><td>143</td><td>579</td></tr>",
                            "<tr><td>7</td><td>2015-08-01</td><td>25</td><td>604</td></tr>",
                            "<tr><td>7</td><td>2015-09-01</td><td>12</td><td>616</td></tr>",
                            "<tr><td>7</td><td>2016-01-01</td><td>50</td><td>666</td></tr>",
                            "<tr><td>8</td><td>2014-10-01</td><td>90</td><td>90</td></tr>",
                            "<tr><td>8</td><td>2015-12-01</td><td>60</td><td>150</td></tr>",
                            "<tr><td>8</td><td>2016-03-01</td><td>40</td><td>190</td></tr>",
                            "<tr><td>9</td><td>2014-10-01</td><td>87</td><td>87</td></tr>",
                            "<tr><td>9</td><td>2014-11-01</td><td>94</td><td>181</td></tr>",
                            "<tr><td>9</td><td>2015-03-01</td><td>53</td><td>234</td></tr>",
                            "<tr><td>9</td><td>2015-04-01</td><td>110</td><td>344</td></tr>",
                            "<tr><td>9</td><td>2015-05-01</td><td>45</td><td>389</td></tr>",
                            "<tr><td>9</td><td>2015-09-01</td><td>80</td><td>469</td></tr>",
                            "<tr><td>9</td><td>2015-10-01</td><td>51</td><td>520</td></tr>",
                            "<tr><td>9</td><td>2015-11-01</td><td>147</td><td>667</td></tr>",
                            "<tr><td>9</td><td>2016-01-01</td><td>36</td><td>703</td></tr>",
                            "<tr><td>9</td><td>2016-02-01</td><td>119</td><td>822</td></tr>",
                            "<tr><td>9</td><td>2016-03-01</td><td>108</td><td>930</td></tr>",
                            "<tr><td>9</td><td>2016-05-01</td><td>50</td><td>980</td></tr>",
                            "<tr><td>10</td><td>2014-12-01</td><td>81</td><td>81</td></tr>",
                            "<tr><td>10</td><td>2015-01-01</td><td>269</td><td>350</td></tr>",
                            "<tr><td>10</td><td>2015-04-01</td><td>80</td><td>430</td></tr>",
                            "<tr><td>10</td><td>2015-11-01</td><td>105</td><td>535</td></tr>",
                            "<tr><td>10</td><td>2016-03-01</td><td>289</td><td>824</td></tr>",
                            "<tr><td>10</td><td>2016-04-01</td><td>132</td><td>956</td></tr>",
                            "<tr><td>11</td><td>2014-08-01</td><td>39</td><td>39</td></tr>",
                            "<tr><td>11</td><td>2015-03-01</td><td>77</td><td>116</td></tr>",
                            "<tr><td>11</td><td>2015-05-01</td><td>52</td><td>168</td></tr>",
                            "<tr><td>11</td><td>2015-06-01</td><td>26</td><td>194</td></tr>",
                            "<tr><td>11</td><td>2015-07-01</td><td>10</td><td>204</td></tr>",
                            "<tr><td>11</td><td>2016-03-01</td><td>55</td><td>259</td></tr>",
                            "<tr><td>11</td><td>2016-04-01</td><td>34</td><td>293</td></tr>",
                            "<tr><td>12</td><td>2015-04-01</td><td>19</td><td>19</td></tr>",
                            "<tr><td>12</td><td>2015-12-01</td><td>1</td><td>20</td></tr>",
                            "<tr><td>12</td><td>2016-01-01</td><td>27</td><td>47</td></tr>",
                            "<tr><td>12</td><td>2016-02-01</td><td>10</td><td>57</td></tr>",
                            "<tr><td>12</td><td>2016-03-01</td><td>28</td><td>85</td></tr>",
                            "<tr><td>12</td><td>2016-04-01</td><td>30</td><td>115</td></tr>",
                            "<tr><td>13</td><td>2014-07-01</td><td>11</td><td>11</td></tr>",
                            "<tr><td>14</td><td>2014-07-01</td><td>57</td><td>57</td></tr>",
                            "<tr><td>14</td><td>2014-12-01</td><td>65</td><td>122</td></tr>",
                            "<tr><td>14</td><td>2015-04-01</td><td>66</td><td>188</td></tr>",
                            "<tr><td>14</td><td>2015-11-01</td><td>153</td><td>341</td></tr>",
                            "<tr><td>14</td><td>2016-03-01</td><td>32</td><td>373</td></tr>",
                            "<tr><td>14</td><td>2016-04-01</td><td>92</td><td>465</td></tr>",
                            "<tr><td>15</td><td>2014-08-01</td><td>60</td><td>60</td></tr>",
                            "<tr><td>15</td><td>2015-03-01</td><td>15</td><td>75</td></tr>",
                            "<tr><td>15</td><td>2015-04-01</td><td>30</td><td>105</td></tr>",
                            "<tr><td>15</td><td>2016-03-01</td><td>9</td><td>114</td></tr>",
                            "<tr><td>15</td><td>2016-04-01</td><td>19</td><td>133</td></tr>",
                            "<tr><td>16</td><td>2015-02-01</td><td>32</td><td>32</td></tr>",
                            "<tr><td>16</td><td>2015-03-01</td><td>22</td><td>54</td></tr>",
                            "<tr><td>16</td><td>2016-01-01</td><td>33</td><td>87</td></tr>",
                            "<tr><td>17</td><td>2014-11-01</td><td>44</td><td>44</td></tr>",
                            "<tr><td>17</td><td>2014-12-01</td><td>18</td><td>62</td></tr>",
                            "<tr><td>17</td><td>2015-12-01</td><td>20</td><td>82</td></tr>",
                            "<tr><td>17</td><td>2016-01-01</td><td>32</td><td>114</td></tr>",
                            "<tr><td>17</td><td>2016-04-01</td><td>37</td><td>151</td></tr>",
                            "<tr><td>17</td><td>2016-05-01</td><td>9</td><td>160</td></tr>",
                            "<tr><td>18</td><td>2014-09-01</td><td>13</td><td>13</td></tr>",
                            "<tr><td>18</td><td>2015-07-01</td><td>19</td><td>32</td></tr>",
                            "<tr><td>18</td><td>2015-09-01</td><td>9</td><td>41</td></tr>",
                            "<tr><td>18</td><td>2016-02-01</td><td>39</td><td>80</td></tr>",
                            "<tr><td>19</td><td>2014-11-01</td><td>35</td><td>35</td></tr>",
                            "<tr><td>19</td><td>2015-01-01</td><td>86</td><td>121</td></tr>",
                            "<tr><td>19</td><td>2015-05-01</td><td>39</td><td>160</td></tr>",
                            "<tr><td>19</td><td>2015-11-01</td><td>30</td><td>190</td></tr>",
                            "<tr><td>19</td><td>2016-03-01</td><td>86</td><td>276</td></tr>",
                            "<tr><td>19</td><td>2016-04-01</td><td>293</td><td>569</td></tr>",
                            "<tr><td>20</td><td>2014-07-01</td><td>305</td><td>305</td></tr>",
                            "<tr><td>20</td><td>2014-11-01</td><td>198</td><td>503</td></tr>",
                            "<tr><td>20</td><td>2014-12-01</td><td>334</td><td>837</td></tr>",
                            "<tr><td>20</td><td>2015-01-01</td><td>411</td><td>1248</td></tr>",
                            "<tr><td>20</td><td>2015-02-01</td><td>170</td><td>1418</td></tr>",
                            "<tr><td>20</td><td>2015-04-01</td><td>233</td><td>1651</td></tr>",
                            "<tr><td>20</td><td>2015-06-01</td><td>39</td><td>1690</td></tr>",
                            "<tr><td>20</td><td>2015-07-01</td><td>215</td><td>1905</td></tr>",
                            "<tr><td>20</td><td>2015-08-01</td><td>164</td><td>2069</td></tr>",
                            "<tr><td>20</td><td>2015-09-01</td><td>59</td><td>2128</td></tr>",
                            "<tr><td>20</td><td>2015-10-01</td><td>108</td><td>2236</td></tr>",
                            "<tr><td>20</td><td>2015-12-01</td><td>551</td><td>2787</td></tr>",
                            "<tr><td>20</td><td>2016-01-01</td><td>337</td><td>3124</td></tr>",
                            "<tr><td>20</td><td>2016-02-01</td><td>346</td><td>3470</td></tr>",
                            "<tr><td>20</td><td>2016-03-01</td><td>271</td><td>3741</td></tr>",
                            "<tr><td>20</td><td>2016-04-01</td><td>602</td><td>4343</td></tr>",
                            "<tr><td>20</td><td>2016-05-01</td><td>200</td><td>4543</td></tr>",
                            "<tr><td>21</td><td>2014-11-01</td><td>70</td><td>70</td></tr>",
                            "<tr><td>21</td><td>2014-12-01</td><td>25</td><td>95</td></tr>",
                            "<tr><td>21</td><td>2015-01-01</td><td>68</td><td>163</td></tr>",
                            "<tr><td>21</td><td>2015-04-01</td><td>37</td><td>200</td></tr>",
                            "<tr><td>21</td><td>2015-06-01</td><td>50</td><td>250</td></tr>",
                            "<tr><td>21</td><td>2015-08-01</td><td>85</td><td>335</td></tr>",
                            "<tr><td>21</td><td>2015-10-01</td><td>22</td><td>357</td></tr>",
                            "<tr><td>23</td><td>2015-01-01</td><td>51</td><td>51</td></tr>",
                            "<tr><td>23</td><td>2015-03-01</td><td>42</td><td>93</td></tr>",
                            "<tr><td>23</td><td>2015-08-01</td><td>102</td><td>195</td></tr>",
                            "<tr><td>23</td><td>2015-12-01</td><td>159</td><td>354</td></tr>",
                            "<tr><td>24</td><td>2014-07-01</td><td>60</td><td>60</td></tr>",
                            "<tr><td>24</td><td>2014-10-01</td><td>140</td><td>200</td></tr>",
                            "<tr><td>24</td><td>2014-12-01</td><td>6</td><td>206</td></tr>",
                            "<tr><td>24</td><td>2015-02-01</td><td>49</td><td>255</td></tr>",
                            "<tr><td>24</td><td>2015-05-01</td><td>98</td><td>353</td></tr>",
                            "<tr><td>24</td><td>2015-06-01</td><td>60</td><td>413</td></tr>",
                            "<tr><td>24</td><td>2015-10-01</td><td>75</td><td>488</td></tr>",
                            "<tr><td>24</td><td>2015-12-01</td><td>186</td><td>674</td></tr>",
                            "<tr><td>24</td><td>2016-01-01</td><td>21</td><td>695</td></tr>",
                            "<tr><td>24</td><td>2016-02-01</td><td>146</td><td>841</td></tr>",
                            "<tr><td>24</td><td>2016-03-01</td><td>142</td><td>983</td></tr>",
                            "<tr><td>24</td><td>2016-04-01</td><td>251</td><td>1234</td></tr>",
                            "<tr><td>25</td><td>2014-07-01</td><td>135</td><td>135</td></tr>",
                            "<tr><td>25</td><td>2014-10-01</td><td>297</td><td>432</td></tr>",
                            "<tr><td>25</td><td>2014-12-01</td><td>121</td><td>553</td></tr>",
                            "<tr><td>25</td><td>2015-03-01</td><td>50</td><td>603</td></tr>",
                            "<tr><td>25</td><td>2015-06-01</td><td>35</td><td>638</td></tr>",
                            "<tr><td>25</td><td>2015-08-01</td><td>94</td><td>732</td></tr>",
                            "<tr><td>25</td><td>2015-09-01</td><td>312</td><td>1044</td></tr>",
                            "<tr><td>25</td><td>2015-10-01</td><td>72</td><td>1116</td></tr>",
                            "<tr><td>25</td><td>2015-12-01</td><td>34</td><td>1150</td></tr>",
                            "<tr><td>25</td><td>2016-01-01</td><td>105</td><td>1255</td></tr>",
                            "<tr><td>25</td><td>2016-03-01</td><td>124</td><td>1379</td></tr>",
                            "<tr><td>25</td><td>2016-04-01</td><td>146</td><td>1525</td></tr>",
                            "<tr><td>26</td><td>2015-09-01</td><td>32</td><td>32</td></tr>",
                            "<tr><td>26</td><td>2016-01-01</td><td>23</td><td>55</td></tr>",
                            "<tr><td>26</td><td>2016-03-01</td><td>14</td><td>69</td></tr>",
                            "<tr><td>27</td><td>2015-01-01</td><td>2</td><td>2</td></tr>",
                            "<tr><td>27</td><td>2015-10-01</td><td>10</td><td>12</td></tr>",
                            "<tr><td>27</td><td>2015-11-01</td><td>9</td><td>21</td></tr>",
                            "<tr><td>27</td><td>2015-12-01</td><td>1</td><td>22</td></tr>",
                            "<tr><td>27</td><td>2016-04-01</td><td>32</td><td>54</td></tr>",
                            "<tr><td>28</td><td>2014-10-01</td><td>59</td><td>59</td></tr>",
                            "<tr><td>28</td><td>2014-11-01</td><td>30</td><td>89</td></tr>",
                            "<tr><td>28</td><td>2015-03-01</td><td>91</td><td>180</td></tr>",
                            "<tr><td>28</td><td>2015-05-01</td><td>100</td><td>280</td></tr>",
                            "<tr><td>28</td><td>2015-07-01</td><td>16</td><td>296</td></tr>",
                            "<tr><td>28</td><td>2015-09-01</td><td>51</td><td>347</td></tr>",
                            "<tr><td>28</td><td>2016-03-01</td><td>2</td><td>349</td></tr>",
                            "<tr><td>29</td><td>2014-11-01</td><td>10</td><td>10</td></tr>",
                            "<tr><td>29</td><td>2015-01-01</td><td>12</td><td>22</td></tr>",
                            "<tr><td>29</td><td>2015-06-01</td><td>5</td><td>27</td></tr>",
                            "<tr><td>29</td><td>2016-02-01</td><td>5</td><td>32</td></tr>",
                            "<tr><td>29</td><td>2016-03-01</td><td>10</td><td>42</td></tr>",
                            "<tr><td>30</td><td>2014-09-01</td><td>85</td><td>85</td></tr>",
                            "<tr><td>30</td><td>2015-05-01</td><td>34</td><td>119</td></tr>",
                            "<tr><td>30</td><td>2015-08-01</td><td>29</td><td>148</td></tr>",
                            "<tr><td>30</td><td>2016-02-01</td><td>151</td><td>299</td></tr>",
                            "<tr><td>30</td><td>2016-03-01</td><td>53</td><td>352</td></tr>",
                            "<tr><td>30</td><td>2016-04-01</td><td>43</td><td>395</td></tr>",
                            "<tr><td>31</td><td>2015-01-01</td><td>34</td><td>34</td></tr>",
                            "<tr><td>31</td><td>2015-09-01</td><td>61</td><td>95</td></tr>",
                            "<tr><td>31</td><td>2015-10-01</td><td>78</td><td>173</td></tr>",
                            "<tr><td>31</td><td>2015-11-01</td><td>65</td><td>238</td></tr>",
                            "<tr><td>31</td><td>2015-12-01</td><td>43</td><td>281</td></tr>",
                            "<tr><td>31</td><td>2016-03-01</td><td>20</td><td>301</td></tr>",
                            "<tr><td>31</td><td>2016-04-01</td><td>14</td><td>315</td></tr>",
                            "<tr><td>32</td><td>2015-05-01</td><td>20</td><td>20</td></tr>",
                            "<tr><td>32</td><td>2015-07-01</td><td>93</td><td>113</td></tr>",
                            "<tr><td>32</td><td>2015-09-01</td><td>107</td><td>220</td></tr>",
                            "<tr><td>32</td><td>2016-01-01</td><td>50</td><td>270</td></tr>",
                            "<tr><td>32</td><td>2016-03-01</td><td>30</td><td>300</td></tr>",
                            "<tr><td>32</td><td>2016-04-01</td><td>45</td><td>345</td></tr>",
                            "<tr><td>33</td><td>2014-07-01</td><td>14</td><td>14</td></tr>",
                            "<tr><td>33</td><td>2015-12-01</td><td>20</td><td>34</td></tr>",
                            "<tr><td>34</td><td>2014-07-01</td><td>162</td><td>162</td></tr>",
                            "<tr><td>34</td><td>2015-05-01</td><td>84</td><td>246</td></tr>",
                            "<tr><td>34</td><td>2015-08-01</td><td>35</td><td>281</td></tr>",
                            "<tr><td>34</td><td>2015-10-01</td><td>50</td><td>331</td></tr>",
                            "<tr><td>34</td><td>2015-12-01</td><td>30</td><td>361</td></tr>",
                            "<tr><td>34</td><td>2016-02-01</td><td>226</td><td>587</td></tr>",
                            "<tr><td>34</td><td>2016-03-01</td><td>147</td><td>734</td></tr>",
                            "<tr><td>34</td><td>2016-04-01</td><td>105</td><td>839</td></tr>",
                            "<tr><td>35</td><td>2014-07-01</td><td>46</td><td>46</td></tr>",
                            "<tr><td>35</td><td>2014-12-01</td><td>106</td><td>152</td></tr>",
                            "<tr><td>35</td><td>2015-03-01</td><td>186</td><td>338</td></tr>",
                            "<tr><td>35</td><td>2015-04-01</td><td>49</td><td>387</td></tr>",
                            "<tr><td>35</td><td>2015-05-01</td><td>48</td><td>435</td></tr>",
                            "<tr><td>35</td><td>2015-07-01</td><td>143</td><td>578</td></tr>",
                            "<tr><td>35</td><td>2015-08-01</td><td>110</td><td>688</td></tr>",
                            "<tr><td>35</td><td>2015-10-01</td><td>24</td><td>712</td></tr>",
                            "<tr><td>35</td><td>2015-12-01</td><td>90</td><td>802</td></tr>",
                            "<tr><td>35</td><td>2016-02-01</td><td>92</td><td>894</td></tr>",
                            "<tr><td>35</td><td>2016-03-01</td><td>132</td><td>1026</td></tr>",
                            "<tr><td>35</td><td>2016-04-01</td><td>70</td><td>1096</td></tr>",
                            "<tr><td>36</td><td>2014-12-01</td><td>45</td><td>45</td></tr>",
                            "<tr><td>36</td><td>2015-01-01</td><td>22</td><td>67</td></tr>",
                            "<tr><td>36</td><td>2015-07-01</td><td>34</td><td>101</td></tr>",
                            "<tr><td>36</td><td>2015-09-01</td><td>21</td><td>122</td></tr>",
                            "<tr><td>37</td><td>2014-09-01</td><td>200</td><td>200</td></tr>",
                            "<tr><td>37</td><td>2014-10-01</td><td>86</td><td>286</td></tr>",
                            "<tr><td>37</td><td>2014-12-01</td><td>204</td><td>490</td></tr>",
                            "<tr><td>37</td><td>2015-01-01</td><td>75</td><td>565</td></tr>",
                            "<tr><td>37</td><td>2015-04-01</td><td>215</td><td>780</td></tr>",
                            "<tr><td>37</td><td>2015-06-01</td><td>103</td><td>883</td></tr>",
                            "<tr><td>37</td><td>2015-08-01</td><td>98</td><td>981</td></tr>",
                            "<tr><td>37</td><td>2015-09-01</td><td>118</td><td>1099</td></tr>",
                            "<tr><td>37</td><td>2015-10-01</td><td>130</td><td>1229</td></tr>",
                            "<tr><td>37</td><td>2015-11-01</td><td>60</td><td>1289</td></tr>",
                            "<tr><td>37</td><td>2016-02-01</td><td>216</td><td>1505</td></tr>",
                            "<tr><td>37</td><td>2016-03-01</td><td>79</td><td>1584</td></tr>",
                            "<tr><td>37</td><td>2016-04-01</td><td>100</td><td>1684</td></tr>",
                            "<tr><td>38</td><td>2014-09-01</td><td>44</td><td>44</td></tr>",
                            "<tr><td>38</td><td>2014-10-01</td><td>36</td><td>80</td></tr>",
                            "<tr><td>38</td><td>2015-03-01</td><td>24</td><td>104</td></tr>",
                            "<tr><td>38</td><td>2015-08-01</td><td>50</td><td>154</td></tr>",
                            "<tr><td>38</td><td>2015-09-01</td><td>5</td><td>159</td></tr>",
                            "<tr><td>38</td><td>2015-11-01</td><td>31</td><td>190</td></tr>",
                            "<tr><td>38</td><td>2015-12-01</td><td>12</td><td>202</td></tr>",
                            "<tr><td>38</td><td>2016-01-01</td><td>61</td><td>263</td></tr>",
                            "<tr><td>38</td><td>2016-03-01</td><td>32</td><td>295</td></tr>",
                            "<tr><td>39</td><td>2014-10-01</td><td>84</td><td>84</td></tr>",
                            "<tr><td>39</td><td>2015-02-01</td><td>97</td><td>181</td></tr>",
                            "<tr><td>39</td><td>2015-03-01</td><td>23</td><td>204</td></tr>",
                            "<tr><td>39</td><td>2015-04-01</td><td>32</td><td>236</td></tr>",
                            "<tr><td>39</td><td>2015-05-01</td><td>39</td><td>275</td></tr>",
                            "<tr><td>39</td><td>2015-08-01</td><td>47</td><td>322</td></tr>",
                            "<tr><td>39</td><td>2015-10-01</td><td>116</td><td>438</td></tr>",
                            "<tr><td>39</td><td>2015-12-01</td><td>65</td><td>503</td></tr>",
                            "<tr><td>39</td><td>2016-01-01</td><td>222</td><td>725</td></tr>",
                            "<tr><td>39</td><td>2016-02-01</td><td>119</td><td>844</td></tr>",
                            "<tr><td>39</td><td>2016-04-01</td><td>59</td><td>903</td></tr>",
                            "<tr><td>40</td><td>2016-01-01</td><td>19</td><td>19</td></tr>",
                            "<tr><td>40</td><td>2016-03-01</td><td>64</td><td>83</td></tr>",
                            "<tr><td>41</td><td>2014-11-01</td><td>73</td><td>73</td></tr>",
                            "<tr><td>41</td><td>2014-12-01</td><td>6</td><td>79</td></tr>",
                            "<tr><td>41</td><td>2015-01-01</td><td>108</td><td>187</td></tr>",
                            "<tr><td>41</td><td>2015-02-01</td><td>50</td><td>237</td></tr>",
                            "<tr><td>41</td><td>2015-04-01</td><td>55</td><td>292</td></tr>",
                            "<tr><td>41</td><td>2015-07-01</td><td>21</td><td>313</td></tr>",
                            "<tr><td>41</td><td>2015-08-01</td><td>8</td><td>321</td></tr>",
                            "<tr><td>41</td><td>2015-12-01</td><td>35</td><td>356</td></tr>",
                            "<tr><td>41</td><td>2016-01-01</td><td>32</td><td>388</td></tr>",
                            "<tr><td>41</td><td>2016-03-01</td><td>44</td><td>432</td></tr>",
                            "<tr><td>41</td><td>2016-04-01</td><td>10</td><td>442</td></tr>",
                            "<tr><td>42</td><td>2015-04-01</td><td>35</td><td>35</td></tr>",
                            "<tr><td>42</td><td>2015-08-01</td><td>10</td><td>45</td></tr>",
                            "<tr><td>42</td><td>2016-01-01</td><td>17</td><td>62</td></tr>",
                            "<tr><td>43</td><td>2015-03-01</td><td>10</td><td>10</td></tr>",
                            "<tr><td>43</td><td>2015-05-01</td><td>10</td><td>20</td></tr>",
                            "<tr><td>44</td><td>2014-08-01</td><td>76</td><td>76</td></tr>",
                            "<tr><td>44</td><td>2014-10-01</td><td>69</td><td>145</td></tr>",
                            "<tr><td>44</td><td>2015-04-01</td><td>173</td><td>318</td></tr>",
                            "<tr><td>44</td><td>2015-05-01</td><td>130</td><td>448</td></tr>",
                            "<tr><td>44</td><td>2015-06-01</td><td>50</td><td>498</td></tr>",
                            "<tr><td>44</td><td>2015-07-01</td><td>75</td><td>573</td></tr>",
                            "<tr><td>44</td><td>2015-12-01</td><td>43</td><td>616</td></tr>",
                            "<tr><td>44</td><td>2016-01-01</td><td>33</td><td>649</td></tr>",
                            "<tr><td>44</td><td>2016-02-01</td><td>15</td><td>664</td></tr>",
                            "<tr><td>44</td><td>2016-03-01</td><td>20</td><td>684</td></tr>",
                            "<tr><td>44</td><td>2016-05-01</td><td>110</td><td>794</td></tr>",
                            "<tr><td>45</td><td>2015-06-01</td><td>31</td><td>31</td></tr>",
                            "<tr><td>45</td><td>2015-10-01</td><td>55</td><td>86</td></tr>",
                            "<tr><td>45</td><td>2015-11-01</td><td>22</td><td>108</td></tr>",
                            "<tr><td>45</td><td>2016-02-01</td><td>73</td><td>181</td></tr>",
                            "<tr><td>46</td><td>2014-08-01</td><td>76</td><td>76</td></tr>",
                            "<tr><td>46</td><td>2014-09-01</td><td>57</td><td>133</td></tr>",
                            "<tr><td>46</td><td>2014-10-01</td><td>75</td><td>208</td></tr>",
                            "<tr><td>46</td><td>2014-11-01</td><td>54</td><td>262</td></tr>",
                            "<tr><td>46</td><td>2014-12-01</td><td>14</td><td>276</td></tr>",
                            "<tr><td>46</td><td>2015-02-01</td><td>128</td><td>404</td></tr>",
                            "<tr><td>46</td><td>2015-04-01</td><td>45</td><td>449</td></tr>",
                            "<tr><td>46</td><td>2015-05-01</td><td>100</td><td>549</td></tr>",
                            "<tr><td>46</td><td>2015-12-01</td><td>50</td><td>599</td></tr>",
                            "<tr><td>46</td><td>2016-01-01</td><td>90</td><td>689</td></tr>",
                            "<tr><td>46</td><td>2016-02-01</td><td>8</td><td>697</td></tr>",
                            "<tr><td>46</td><td>2016-04-01</td><td>90</td><td>787</td></tr>",
                            "<tr><td>46</td><td>2016-05-01</td><td>49</td><td>836</td></tr>",
                            "<tr><td>47</td><td>2015-01-01</td><td>50</td><td>50</td></tr>",
                            "<tr><td>47</td><td>2015-03-01</td><td>130</td><td>180</td></tr>",
                            "<tr><td>47</td><td>2015-08-01</td><td>101</td><td>281</td></tr>",
                            "<tr><td>47</td><td>2015-10-01</td><td>76</td><td>357</td></tr>",
                            "<tr><td>47</td><td>2015-11-01</td><td>120</td><td>477</td></tr>",
                            "<tr><td>47</td><td>2016-01-01</td><td>158</td><td>635</td></tr>",
                            "<tr><td>47</td><td>2016-03-01</td><td>175</td><td>810</td></tr>",
                            "<tr><td>47</td><td>2016-04-01</td><td>160</td><td>970</td></tr>",
                            "<tr><td>48</td><td>2014-09-01</td><td>33</td><td>33</td></tr>",
                            "<tr><td>48</td><td>2015-05-01</td><td>14</td><td>47</td></tr>",
                            "<tr><td>48</td><td>2015-09-01</td><td>41</td><td>88</td></tr>",
                            "<tr><td>48</td><td>2016-02-01</td><td>11</td><td>99</td></tr>",
                            "<tr><td>48</td><td>2016-04-01</td><td>35</td><td>134</td></tr>",
                            "<tr><td>49</td><td>2014-08-01</td><td>18</td><td>18</td></tr>",
                            "<tr><td>49</td><td>2014-09-01</td><td>50</td><td>68</td></tr>",
                            "<tr><td>49</td><td>2015-01-01</td><td>100</td><td>168</td></tr>",
                            "<tr><td>49</td><td>2015-03-01</td><td>40</td><td>208</td></tr>",
                            "<tr><td>49</td><td>2015-08-01</td><td>65</td><td>273</td></tr>",
                            "<tr><td>49</td><td>2015-11-01</td><td>3</td><td>276</td></tr>",
                            "<tr><td>49</td><td>2015-12-01</td><td>62</td><td>338</td></tr>",
                            "<tr><td>49</td><td>2016-01-01</td><td>40</td><td>378</td></tr>",
                            "<tr><td>49</td><td>2016-03-01</td><td>55</td><td>433</td></tr>",
                            "<tr><td>50</td><td>2015-05-01</td><td>44</td><td>44</td></tr>",
                            "<tr><td>50</td><td>2015-08-01</td><td>35</td><td>79</td></tr>",
                            "<tr><td>50</td><td>2015-12-01</td><td>82</td><td>161</td></tr>",
                            "<tr><td>50</td><td>2016-02-01</td><td>71</td><td>232</td></tr>",
                            "<tr><td>50</td><td>2016-03-01</td><td>76</td><td>308</td></tr>",
                            "<tr><td>50</td><td>2016-04-01</td><td>12</td><td>320</td></tr>",
                            "<tr><td>51</td><td>2014-10-01</td><td>174</td><td>174</td></tr>",
                            "<tr><td>51</td><td>2014-12-01</td><td>42</td><td>216</td></tr>",
                            "<tr><td>51</td><td>2015-01-01</td><td>139</td><td>355</td></tr>",
                            "<tr><td>51</td><td>2015-02-01</td><td>67</td><td>422</td></tr>",
                            "<tr><td>51</td><td>2015-04-01</td><td>3</td><td>425</td></tr>",
                            "<tr><td>51</td><td>2015-06-01</td><td>118</td><td>543</td></tr>",
                            "<tr><td>51</td><td>2015-07-01</td><td>215</td><td>758</td></tr>",
                            "<tr><td>51</td><td>2015-08-01</td><td>187</td><td>945</td></tr>",
                            "<tr><td>51</td><td>2015-10-01</td><td>21</td><td>966</td></tr>",
                            "<tr><td>52</td><td>2014-08-01</td><td>32</td><td>32</td></tr>",
                            "<tr><td>52</td><td>2015-06-01</td><td>58</td><td>90</td></tr>",
                            "<tr><td>52</td><td>2015-10-01</td><td>12</td><td>102</td></tr>",
                            "<tr><td>52</td><td>2015-12-01</td><td>40</td><td>142</td></tr>",
                            "<tr><td>52</td><td>2016-03-01</td><td>30</td><td>172</td></tr>",
                            "<tr><td>53</td><td>2015-04-01</td><td>16</td><td>16</td></tr>",
                            "<tr><td>53</td><td>2015-11-01</td><td>11</td><td>27</td></tr>",
                            "<tr><td>53</td><td>2016-04-01</td><td>3</td><td>30</td></tr>",
                            "<tr><td>54</td><td>2015-01-01</td><td>24</td><td>24</td></tr>",
                            "<tr><td>54</td><td>2015-05-01</td><td>2</td><td>26</td></tr>",
                            "<tr><td>54</td><td>2016-02-01</td><td>5</td><td>31</td></tr>",
                            "<tr><td>54</td><td>2016-03-01</td><td>101</td><td>132</td></tr>",
                            "<tr><td>55</td><td>2014-09-01</td><td>80</td><td>80</td></tr>",
                            "<tr><td>55</td><td>2014-10-01</td><td>35</td><td>115</td></tr>",
                            "<tr><td>55</td><td>2015-02-01</td><td>50</td><td>165</td></tr>",
                            "<tr><td>55</td><td>2015-07-01</td><td>54</td><td>219</td></tr>",
                            "<tr><td>55</td><td>2015-09-01</td><td>110</td><td>329</td></tr>",
                            "<tr><td>55</td><td>2015-10-01</td><td>52</td><td>381</td></tr>",
                            "<tr><td>55</td><td>2016-01-01</td><td>173</td><td>554</td></tr>",
                            "<tr><td>55</td><td>2016-03-01</td><td>16</td><td>570</td></tr>",
                            "<tr><td>55</td><td>2016-04-01</td><td>33</td><td>603</td></tr>",
                            "<tr><td>56</td><td>2014-07-01</td><td>102</td><td>102</td></tr>",
                            "<tr><td>56</td><td>2015-01-01</td><td>60</td><td>162</td></tr>",
                            "<tr><td>56</td><td>2015-04-01</td><td>20</td><td>182</td></tr>",
                            "<tr><td>56</td><td>2015-05-01</td><td>80</td><td>262</td></tr>",
                            "<tr><td>56</td><td>2015-06-01</td><td>54</td><td>316</td></tr>",
                            "<tr><td>56</td><td>2015-09-01</td><td>90</td><td>406</td></tr>",
                            "<tr><td>56</td><td>2015-12-01</td><td>115</td><td>521</td></tr>",
                            "<tr><td>56</td><td>2016-01-01</td><td>38</td><td>559</td></tr>",
                            "<tr><td>56</td><td>2016-04-01</td><td>80</td><td>639</td></tr>",
                            "<tr><td>58</td><td>2014-10-01</td><td>20</td><td>20</td></tr>",
                            "<tr><td>58</td><td>2014-11-01</td><td>16</td><td>36</td></tr>",
                            "<tr><td>58</td><td>2015-03-01</td><td>61</td><td>97</td></tr>",
                            "<tr><td>58</td><td>2015-04-01</td><td>57</td><td>154</td></tr>",
                            "<tr><td>58</td><td>2016-04-01</td><td>24</td><td>178</td></tr>",
                            "<tr><td>58</td><td>2016-05-01</td><td>30</td><td>208</td></tr>",
                            "<tr><td>59</td><td>2014-11-01</td><td>62</td><td>62</td></tr>",
                            "<tr><td>59</td><td>2014-12-01</td><td>50</td><td>112</td></tr>",
                            "<tr><td>59</td><td>2015-01-01</td><td>35</td><td>147</td></tr>",
                            "<tr><td>59</td><td>2015-03-01</td><td>33</td><td>180</td></tr>",
                            "<tr><td>59</td><td>2015-05-01</td><td>135</td><td>315</td></tr>",
                            "<tr><td>59</td><td>2015-07-01</td><td>67</td><td>382</td></tr>",
                            "<tr><td>59</td><td>2015-09-01</td><td>45</td><td>427</td></tr>",
                            "<tr><td>59</td><td>2015-11-01</td><td>82</td><td>509</td></tr>",
                            "<tr><td>59</td><td>2016-01-01</td><td>35</td><td>544</td></tr>",
                            "<tr><td>59</td><td>2016-04-01</td><td>80</td><td>624</td></tr>",
                            "<tr><td>60</td><td>2014-10-01</td><td>18</td><td>18</td></tr>",
                            "<tr><td>60</td><td>2014-12-01</td><td>28</td><td>46</td></tr>",
                            "<tr><td>60</td><td>2015-02-01</td><td>28</td><td>74</td></tr>",
                            "<tr><td>60</td><td>2015-03-01</td><td>56</td><td>130</td></tr>",
                            "<tr><td>60</td><td>2016-04-01</td><td>54</td><td>184</td></tr>",
                            "<tr><td>61</td><td>2014-07-01</td><td>40</td><td>40</td></tr>",
                            "<tr><td>61</td><td>2014-08-01</td><td>46</td><td>86</td></tr>",
                            "<tr><td>61</td><td>2014-12-01</td><td>44</td><td>130</td></tr>",
                            "<tr><td>61</td><td>2015-01-01</td><td>59</td><td>189</td></tr>",
                            "<tr><td>61</td><td>2015-07-01</td><td>46</td><td>235</td></tr>",
                            "<tr><td>61</td><td>2015-08-01</td><td>50</td><td>285</td></tr>",
                            "<tr><td>61</td><td>2015-10-01</td><td>29</td><td>314</td></tr>",
                            "<tr><td>61</td><td>2015-12-01</td><td>21</td><td>335</td></tr>",
                            "<tr><td>61</td><td>2016-03-01</td><td>59</td><td>394</td></tr>",
                            "<tr><td>62</td><td>2014-12-01</td><td>164</td><td>164</td></tr>",
                            "<tr><td>62</td><td>2015-01-01</td><td>89</td><td>253</td></tr>",
                            "<tr><td>62</td><td>2015-03-01</td><td>59</td><td>312</td></tr>",
                            "<tr><td>62</td><td>2015-08-01</td><td>95</td><td>407</td></tr>",
                            "<tr><td>62</td><td>2015-09-01</td><td>84</td><td>491</td></tr>",
                            "<tr><td>62</td><td>2015-10-01</td><td>65</td><td>556</td></tr>",
                            "<tr><td>62</td><td>2015-11-01</td><td>48</td><td>604</td></tr>",
                            "<tr><td>62</td><td>2015-12-01</td><td>87</td><td>691</td></tr>",
                            "<tr><td>62</td><td>2016-02-01</td><td>202</td><td>893</td></tr>",
                            "<tr><td>62</td><td>2016-03-01</td><td>66</td><td>959</td></tr>",
                            "<tr><td>62</td><td>2016-05-01</td><td>72</td><td>1031</td></tr>",
                            "<tr><td>63</td><td>2014-08-01</td><td>413</td><td>413</td></tr>",
                            "<tr><td>63</td><td>2014-09-01</td><td>12</td><td>425</td></tr>",
                            "<tr><td>63</td><td>2014-11-01</td><td>268</td><td>693</td></tr>",
                            "<tr><td>63</td><td>2015-01-01</td><td>146</td><td>839</td></tr>",
                            "<tr><td>63</td><td>2015-02-01</td><td>238</td><td>1077</td></tr>",
                            "<tr><td>63</td><td>2015-04-01</td><td>286</td><td>1363</td></tr>",
                            "<tr><td>63</td><td>2015-05-01</td><td>448</td><td>1811</td></tr>",
                            "<tr><td>63</td><td>2015-07-01</td><td>140</td><td>1951</td></tr>",
                            "<tr><td>63</td><td>2015-09-01</td><td>255</td><td>2206</td></tr>",
                            "<tr><td>63</td><td>2015-10-01</td><td>397</td><td>2603</td></tr>",
                            "<tr><td>63</td><td>2015-11-01</td><td>92</td><td>2695</td></tr>",
                            "<tr><td>63</td><td>2015-12-01</td><td>170</td><td>2865</td></tr>",
                            "<tr><td>63</td><td>2016-01-01</td><td>245</td><td>3110</td></tr>",
                            "<tr><td>63</td><td>2016-02-01</td><td>160</td><td>3270</td></tr>",
                            "<tr><td>63</td><td>2016-03-01</td><td>323</td><td>3593</td></tr>",
                            "<tr><td>63</td><td>2016-04-01</td><td>368</td><td>3961</td></tr>",
                            "<tr><td>64</td><td>2015-02-01</td><td>26</td><td>26</td></tr>",
                            "<tr><td>64</td><td>2015-10-01</td><td>22</td><td>48</td></tr>",
                            "<tr><td>64</td><td>2016-01-01</td><td>7</td><td>55</td></tr>",
                            "<tr><td>64</td><td>2016-02-01</td><td>32</td><td>87</td></tr>",
                            "<tr><td>64</td><td>2016-04-01</td><td>5</td><td>92</td></tr>",
                            "<tr><td>65</td><td>2014-07-01</td><td>29</td><td>29</td></tr>",
                            "<tr><td>65</td><td>2014-08-01</td><td>145</td><td>174</td></tr>",
                            "<tr><td>65</td><td>2014-09-01</td><td>175</td><td>349</td></tr>",
                            "<tr><td>65</td><td>2014-11-01</td><td>56</td><td>405</td></tr>",
                            "<tr><td>65</td><td>2015-01-01</td><td>168</td><td>573</td></tr>",
                            "<tr><td>65</td><td>2015-03-01</td><td>148</td><td>721</td></tr>",
                            "<tr><td>65</td><td>2015-06-01</td><td>112</td><td>833</td></tr>",
                            "<tr><td>65</td><td>2015-07-01</td><td>59</td><td>892</td></tr>",
                            "<tr><td>65</td><td>2015-12-01</td><td>53</td><td>945</td></tr>",
                            "<tr><td>65</td><td>2016-01-01</td><td>101</td><td>1046</td></tr>",
                            "<tr><td>65</td><td>2016-02-01</td><td>80</td><td>1126</td></tr>",
                            "<tr><td>65</td><td>2016-03-01</td><td>100</td><td>1226</td></tr>",
                            "<tr><td>65</td><td>2016-04-01</td><td>85</td><td>1311</td></tr>",
                            "<tr><td>65</td><td>2016-05-01</td><td>72</td><td>1383</td></tr>",
                            "<tr><td>66</td><td>2014-08-01</td><td>13</td><td>13</td></tr>",
                            "<tr><td>66</td><td>2015-01-01</td><td>20</td><td>33</td></tr>",
                            "<tr><td>66</td><td>2015-02-01</td><td>18</td><td>51</td></tr>",
                            "<tr><td>66</td><td>2015-06-01</td><td>30</td><td>81</td></tr>",
                            "<tr><td>66</td><td>2015-07-01</td><td>4</td><td>85</td></tr>",
                            "<tr><td>66</td><td>2015-09-01</td><td>20</td><td>105</td></tr>",
                            "<tr><td>66</td><td>2015-11-01</td><td>40</td><td>145</td></tr>",
                            "<tr><td>66</td><td>2016-01-01</td><td>76</td><td>221</td></tr>",
                            "<tr><td>66</td><td>2016-02-01</td><td>34</td><td>255</td></tr>",
                            "<tr><td>66</td><td>2016-03-01</td><td>28</td><td>283</td></tr>",
                            "<tr><td>66</td><td>2016-04-01</td><td>52</td><td>335</td></tr>",
                            "<tr><td>67</td><td>2014-08-01</td><td>75</td><td>75</td></tr>",
                            "<tr><td>67</td><td>2014-09-01</td><td>35</td><td>110</td></tr>",
                            "<tr><td>67</td><td>2015-02-01</td><td>77</td><td>187</td></tr>",
                            "<tr><td>67</td><td>2015-03-01</td><td>64</td><td>251</td></tr>",
                            "<tr><td>67</td><td>2015-06-01</td><td>95</td><td>346</td></tr>",
                            "<tr><td>67</td><td>2015-08-01</td><td>68</td><td>414</td></tr>",
                            "<tr><td>67</td><td>2016-01-01</td><td>114</td><td>528</td></tr>",
                            "<tr><td>67</td><td>2016-02-01</td><td>55</td><td>583</td></tr>",
                            "<tr><td>67</td><td>2016-04-01</td><td>77</td><td>660</td></tr>",
                            "<tr><td>68</td><td>2014-07-01</td><td>110</td><td>110</td></tr>",
                            "<tr><td>68</td><td>2015-01-01</td><td>80</td><td>190</td></tr>",
                            "<tr><td>68</td><td>2015-05-01</td><td>86</td><td>276</td></tr>",
                            "<tr><td>68</td><td>2015-09-01</td><td>46</td><td>322</td></tr>",
                            "<tr><td>68</td><td>2015-11-01</td><td>197</td><td>519</td></tr>",
                            "<tr><td>68</td><td>2016-03-01</td><td>143</td><td>662</td></tr>",
                            "<tr><td>68</td><td>2016-04-01</td><td>106</td><td>768</td></tr>",
                            "<tr><td>68</td><td>2016-05-01</td><td>42</td><td>810</td></tr>",
                            "<tr><td>69</td><td>2014-08-01</td><td>19</td><td>19</td></tr>",
                            "<tr><td>69</td><td>2014-09-01</td><td>25</td><td>44</td></tr>",
                            "<tr><td>69</td><td>2016-03-01</td><td>11</td><td>55</td></tr>",
                            "<tr><td>69</td><td>2016-04-01</td><td>36</td><td>91</td></tr>",
                            "<tr><td>70</td><td>2014-12-01</td><td>48</td><td>48</td></tr>",
                            "<tr><td>70</td><td>2015-04-01</td><td>13</td><td>61</td></tr>",
                            "<tr><td>70</td><td>2015-08-01</td><td>8</td><td>69</td></tr>",
                            "<tr><td>70</td><td>2016-01-01</td><td>27</td><td>96</td></tr>",
                            "<tr><td>70</td><td>2016-02-01</td><td>32</td><td>128</td></tr>",
                            "<tr><td>70</td><td>2016-04-01</td><td>33</td><td>161</td></tr>",
                            "<tr><td>71</td><td>2014-10-01</td><td>241</td><td>241</td></tr>",
                            "<tr><td>71</td><td>2014-12-01</td><td>326</td><td>567</td></tr>",
                            "<tr><td>71</td><td>2015-02-01</td><td>323</td><td>890</td></tr>",
                            "<tr><td>71</td><td>2015-04-01</td><td>72</td><td>962</td></tr>",
                            "<tr><td>71</td><td>2015-06-01</td><td>143</td><td>1105</td></tr>",
                            "<tr><td>71</td><td>2015-07-01</td><td>549</td><td>1654</td></tr>",
                            "<tr><td>71</td><td>2015-08-01</td><td>50</td><td>1704</td></tr>",
                            "<tr><td>71</td><td>2015-09-01</td><td>484</td><td>2188</td></tr>",
                            "<tr><td>71</td><td>2015-10-01</td><td>750</td><td>2938</td></tr>",
                            "<tr><td>71</td><td>2015-11-01</td><td>203</td><td>3141</td></tr>",
                            "<tr><td>71</td><td>2016-01-01</td><td>304</td><td>3445</td></tr>",
                            "<tr><td>71</td><td>2016-02-01</td><td>275</td><td>3720</td></tr>",
                            "<tr><td>71</td><td>2016-03-01</td><td>418</td><td>4138</td></tr>",
                            "<tr><td>71</td><td>2016-04-01</td><td>647</td><td>4785</td></tr>",
                            "<tr><td>71</td><td>2016-05-01</td><td>173</td><td>4958</td></tr>",
                            "<tr><td>72</td><td>2014-11-01</td><td>206</td><td>206</td></tr>",
                            "<tr><td>72</td><td>2014-12-01</td><td>115</td><td>321</td></tr>",
                            "<tr><td>72</td><td>2015-03-01</td><td>98</td><td>419</td></tr>",
                            "<tr><td>72</td><td>2015-05-01</td><td>148</td><td>567</td></tr>",
                            "<tr><td>72</td><td>2015-12-01</td><td>131</td><td>698</td></tr>",
                            "<tr><td>72</td><td>2016-02-01</td><td>120</td><td>818</td></tr>",
                            "<tr><td>73</td><td>2014-10-01</td><td>17</td><td>17</td></tr>",
                            "<tr><td>73</td><td>2015-01-01</td><td>123</td><td>140</td></tr>",
                            "<tr><td>73</td><td>2015-06-01</td><td>24</td><td>164</td></tr>",
                            "<tr><td>73</td><td>2015-08-01</td><td>50</td><td>214</td></tr>",
                            "<tr><td>73</td><td>2015-09-01</td><td>30</td><td>244</td></tr>",
                            "<tr><td>73</td><td>2015-12-01</td><td>120</td><td>364</td></tr>",
                            "<tr><td>73</td><td>2016-05-01</td><td>14</td><td>378</td></tr>",
                            "<tr><td>74</td><td>2015-11-01</td><td>3</td><td>3</td></tr>",
                            "<tr><td>74</td><td>2016-02-01</td><td>14</td><td>17</td></tr>",
                            "<tr><td>74</td><td>2016-03-01</td><td>21</td><td>38</td></tr>",
                            "<tr><td>74</td><td>2016-04-01</td><td>10</td><td>48</td></tr>",
                            "<tr><td>75</td><td>2014-08-01</td><td>24</td><td>24</td></tr>",
                            "<tr><td>75</td><td>2014-10-01</td><td>50</td><td>74</td></tr>",
                            "<tr><td>75</td><td>2014-11-01</td><td>24</td><td>98</td></tr>",
                            "<tr><td>75</td><td>2014-12-01</td><td>76</td><td>174</td></tr>",
                            "<tr><td>75</td><td>2015-01-01</td><td>50</td><td>224</td></tr>",
                            "<tr><td>75</td><td>2015-11-01</td><td>67</td><td>291</td></tr>",
                            "<tr><td>75</td><td>2016-01-01</td><td>26</td><td>317</td></tr>",
                            "<tr><td>75</td><td>2016-03-01</td><td>10</td><td>327</td></tr>",
                            "<tr><td>76</td><td>2014-07-01</td><td>105</td><td>105</td></tr>",
                            "<tr><td>76</td><td>2014-09-01</td><td>80</td><td>185</td></tr>",
                            "<tr><td>76</td><td>2015-02-01</td><td>145</td><td>330</td></tr>",
                            "<tr><td>76</td><td>2015-03-01</td><td>208</td><td>538</td></tr>",
                            "<tr><td>76</td><td>2015-12-01</td><td>2</td><td>540</td></tr>",
                            "<tr><td>76</td><td>2016-01-01</td><td>182</td><td>722</td></tr>",
                            "<tr><td>76</td><td>2016-02-01</td><td>87</td><td>809</td></tr>",
                            "<tr><td>76</td><td>2016-03-01</td><td>116</td><td>925</td></tr>",
                            "<tr><td>76</td><td>2016-04-01</td><td>147</td><td>1072</td></tr>",
                            "<tr><td>77</td><td>2014-09-01</td><td>15</td><td>15</td></tr>",
                            "<tr><td>77</td><td>2015-10-01</td><td>9</td><td>24</td></tr>",
                            "<tr><td>77</td><td>2015-12-01</td><td>20</td><td>44</td></tr>",
                            "<tr><td>77</td><td>2016-04-01</td><td>2</td><td>46</td></tr>",
                            "<tr><td>78</td><td>2015-08-01</td><td>26</td><td>26</td></tr>",
                            "<tr><td>78</td><td>2015-12-01</td><td>9</td><td>35</td></tr>",
                            "<tr><td>78</td><td>2016-04-01</td><td>24</td><td>59</td></tr>",
                            "<tr><td>79</td><td>2014-07-01</td><td>49</td><td>49</td></tr>",
                            "<tr><td>79</td><td>2015-02-01</td><td>100</td><td>149</td></tr>",
                            "<tr><td>79</td><td>2015-05-01</td><td>24</td><td>173</td></tr>",
                            "<tr><td>79</td><td>2015-07-01</td><td>28</td><td>201</td></tr>",
                            "<tr><td>79</td><td>2016-03-01</td><td>52</td><td>253</td></tr>",
                            "<tr><td>80</td><td>2014-08-01</td><td>58</td><td>58</td></tr>",
                            "<tr><td>80</td><td>2014-09-01</td><td>42</td><td>100</td></tr>",
                            "<tr><td>80</td><td>2014-10-01</td><td>52</td><td>152</td></tr>",
                            "<tr><td>80</td><td>2015-04-01</td><td>29</td><td>181</td></tr>",
                            "<tr><td>80</td><td>2015-06-01</td><td>51</td><td>232</td></tr>",
                            "<tr><td>80</td><td>2015-09-01</td><td>30</td><td>262</td></tr>",
                            "<tr><td>80</td><td>2016-01-01</td><td>52</td><td>314</td></tr>",
                            "<tr><td>80</td><td>2016-02-01</td><td>50</td><td>364</td></tr>",
                            "<tr><td>80</td><td>2016-05-01</td><td>20</td><td>384</td></tr>",
                            "<tr><td>81</td><td>2014-08-01</td><td>20</td><td>20</td></tr>",
                            "<tr><td>81</td><td>2015-04-01</td><td>20</td><td>40</td></tr>",
                            "<tr><td>81</td><td>2015-07-01</td><td>50</td><td>90</td></tr>",
                            "<tr><td>81</td><td>2016-01-01</td><td>161</td><td>251</td></tr>",
                            "<tr><td>82</td><td>2015-06-01</td><td>80</td><td>80</td></tr>",
                            "<tr><td>82</td><td>2016-01-01</td><td>9</td><td>89</td></tr>",
                            "<tr><td>83</td><td>2014-11-01</td><td>76</td><td>76</td></tr>",
                            "<tr><td>83</td><td>2014-12-01</td><td>139</td><td>215</td></tr>",
                            "<tr><td>83</td><td>2015-03-01</td><td>118</td><td>333</td></tr>",
                            "<tr><td>83</td><td>2015-07-01</td><td>79</td><td>412</td></tr>",
                            "<tr><td>83</td><td>2015-10-01</td><td>92</td><td>504</td></tr>",
                            "<tr><td>83</td><td>2015-11-01</td><td>50</td><td>554</td></tr>",
                            "<tr><td>83</td><td>2015-12-01</td><td>80</td><td>634</td></tr>",
                            "<tr><td>83</td><td>2016-03-01</td><td>140</td><td>774</td></tr>",
                            "<tr><td>83</td><td>2016-04-01</td><td>18</td><td>792</td></tr>",
                            "<tr><td>84</td><td>2014-07-01</td><td>41</td><td>41</td></tr>",
                            "<tr><td>84</td><td>2014-10-01</td><td>18</td><td>59</td></tr>",
                            "<tr><td>84</td><td>2015-02-01</td><td>102</td><td>161</td></tr>",
                            "<tr><td>84</td><td>2015-03-01</td><td>20</td><td>181</td></tr>",
                            "<tr><td>84</td><td>2015-05-01</td><td>80</td><td>261</td></tr>",
                            "<tr><td>84</td><td>2015-12-01</td><td>37</td><td>298</td></tr>",
                            "<tr><td>84</td><td>2016-01-01</td><td>136</td><td>434</td></tr>",
                            "<tr><td>85</td><td>2014-07-01</td><td>27</td><td>27</td></tr>",
                            "<tr><td>85</td><td>2014-08-01</td><td>27</td><td>54</td></tr>",
                            "<tr><td>85</td><td>2014-09-01</td><td>4</td><td>58</td></tr>",
                            "<tr><td>85</td><td>2015-11-01</td><td>40</td><td>98</td></tr>",
                            "<tr><td>86</td><td>2014-09-01</td><td>88</td><td>88</td></tr>",
                            "<tr><td>86</td><td>2014-11-01</td><td>102</td><td>190</td></tr>",
                            "<tr><td>86</td><td>2015-04-01</td><td>105</td><td>295</td></tr>",
                            "<tr><td>86</td><td>2015-08-01</td><td>85</td><td>380</td></tr>",
                            "<tr><td>86</td><td>2015-09-01</td><td>59</td><td>439</td></tr>",
                            "<tr><td>86</td><td>2016-04-01</td><td>53</td><td>492</td></tr>",
                            "<tr><td>87</td><td>2014-07-01</td><td>12</td><td>12</td></tr>",
                            "<tr><td>87</td><td>2014-08-01</td><td>55</td><td>67</td></tr>",
                            "<tr><td>87</td><td>2014-10-01</td><td>90</td><td>157</td></tr>",
                            "<tr><td>87</td><td>2015-01-01</td><td>70</td><td>227</td></tr>",
                            "<tr><td>87</td><td>2015-02-01</td><td>140</td><td>367</td></tr>",
                            "<tr><td>87</td><td>2015-05-01</td><td>137</td><td>504</td></tr>",
                            "<tr><td>87</td><td>2015-06-01</td><td>44</td><td>548</td></tr>",
                            "<tr><td>87</td><td>2015-08-01</td><td>31</td><td>579</td></tr>",
                            "<tr><td>87</td><td>2015-11-01</td><td>70</td><td>649</td></tr>",
                            "<tr><td>87</td><td>2015-12-01</td><td>58</td><td>707</td></tr>",
                            "<tr><td>87</td><td>2016-04-01</td><td>30</td><td>737</td></tr>",
                            "<tr><td>88</td><td>2014-07-01</td><td>27</td><td>27</td></tr>",
                            "<tr><td>88</td><td>2015-01-01</td><td>50</td><td>77</td></tr>",
                            "<tr><td>88</td><td>2015-07-01</td><td>15</td><td>92</td></tr>",
                            "<tr><td>88</td><td>2015-08-01</td><td>45</td><td>137</td></tr>",
                            "<tr><td>88</td><td>2015-12-01</td><td>54</td><td>191</td></tr>",
                            "<tr><td>88</td><td>2016-01-01</td><td>20</td><td>211</td></tr>",
                            "<tr><td>88</td><td>2016-02-01</td><td>23</td><td>234</td></tr>",
                            "<tr><td>88</td><td>2016-03-01</td><td>33</td><td>267</td></tr>",
                            "<tr><td>89</td><td>2014-07-01</td><td>80</td><td>80</td></tr>",
                            "<tr><td>89</td><td>2014-11-01</td><td>105</td><td>185</td></tr>",
                            "<tr><td>89</td><td>2015-03-01</td><td>142</td><td>327</td></tr>",
                            "<tr><td>89</td><td>2015-04-01</td><td>59</td><td>386</td></tr>",
                            "<tr><td>89</td><td>2015-07-01</td><td>59</td><td>445</td></tr>",
                            "<tr><td>89</td><td>2015-10-01</td><td>164</td><td>609</td></tr>",
                            "<tr><td>89</td><td>2015-11-01</td><td>94</td><td>703</td></tr>",
                            "<tr><td>89</td><td>2016-01-01</td><td>140</td><td>843</td></tr>",
                            "<tr><td>89</td><td>2016-02-01</td><td>50</td><td>893</td></tr>",
                            "<tr><td>89</td><td>2016-04-01</td><td>90</td><td>983</td></tr>",
                            "<tr><td>89</td><td>2016-05-01</td><td>80</td><td>1063</td></tr>",
                            "<tr><td>90</td><td>2015-07-01</td><td>5</td><td>5</td></tr>",
                            "<tr><td>90</td><td>2015-09-01</td><td>15</td><td>20</td></tr>",
                            "<tr><td>90</td><td>2015-10-01</td><td>34</td><td>54</td></tr>",
                            "<tr><td>90</td><td>2016-02-01</td><td>82</td><td>136</td></tr>",
                            "<tr><td>90</td><td>2016-04-01</td><td>12</td><td>148</td></tr>",
                            "<tr><td>91</td><td>2014-12-01</td><td>45</td><td>45</td></tr>",
                            "<tr><td>91</td><td>2015-07-01</td><td>31</td><td>76</td></tr>",
                            "<tr><td>91</td><td>2015-12-01</td><td>28</td><td>104</td></tr>",
                            "<tr><td>91</td><td>2016-02-01</td><td>20</td><td>124</td></tr>",
                            "<tr><td>91</td><td>2016-04-01</td><td>81</td><td>205</td></tr>",
                            "</table>"
                        ]
                    }
                }
            ],
            "execution_count": 3
        },
        {
            "cell_type": "markdown",
            "source": [
                "```\n",
                "-- 9\n",
                "-- Explain the difference between IN and EXISTS\n",
                "```\n",
                "\n",
                "<span style=\"color: #0000ff;\">IN</span> <span style=\"color: #0000ff;\">and</span> <span style=\"color: #0000ff;\">EXISTS</span> are used <span style=\"color: #0000ff;\">to</span> <span style=\"color: #0000ff;\">check</span> <span style=\"color: #0000ff;\">if</span> something <span style=\"color: #0000ff;\">is</span> <span style=\"color: #0000ff;\">in</span> a list.\n",
                "\n",
                "  \n",
                "\n",
                "<span style=\"color: #0000ff;\">When</span> there are <span style=\"color: #0000ff;\">no</span> missing <span style=\"color: #0000ff;\">values</span> (<span style=\"color: #0000ff;\">NULLs</span>), <span style=\"color: #0000ff;\">IN</span> <span style=\"color: #0000ff;\">and</span> <span style=\"color: #0000ff;\">EXISTS</span> work the same way.\n",
                "\n",
                "But <span style=\"color: #0000ff;\">when</span> there are missing <span style=\"color: #0000ff;\">values</span>:\n",
                "\n",
                "<span style=\"color: #0000ff;\">IN</span> <span style=\"color: #0000ff;\">is</span> unsure <span style=\"color: #0000ff;\">when</span> something <span style=\"color: #0000ff;\">is</span> <span style=\"color: #0000ff;\">not</span> <span style=\"color: #0000ff;\">in</span> the list; it says <span style=\"color: #a31515;\">\"I don't know.\"</span>\n",
                "\n",
                "<span style=\"color: #0000ff;\">EXISTS</span> <span style=\"color: #0000ff;\">is</span> sure <span style=\"color: #0000ff;\">when</span> something <span style=\"color: #0000ff;\">is</span> <span style=\"color: #0000ff;\">not</span> <span style=\"color: #0000ff;\">in</span> the list; it says <span style=\"color: #a31515;\">\"no.\"</span>\n",
                "\n",
                "So, <span style=\"color: #0000ff;\">if</span> you want a <span style=\"color: #0000ff;\">clear</span> answer, <span style=\"color: #0000ff;\">use</span> <span style=\"color: #0000ff;\">EXISTS</span> <span style=\"color: #0000ff;\">when</span> there might be missing <span style=\"color: #0000ff;\">values</span>."
            ],
            "metadata": {
                "azdata_cell_guid": "ebd4641e-dfcc-47d1-90ae-35111f8a72cb"
            },
            "attachments": {}
        },
        {
            "cell_type": "markdown",
            "source": [
                "```\n",
                "-- 10 (Optional, Advanced)\n",
                "-- Write a query that returns for each order the number of days that past\n",
                "-- since the same customer’s previous order. To determine recency among orders,\n",
                "-- use orderdate as the primary sort element and orderid as the tiebreaker.\n",
                "-- Tables involved: TSQLV4 database, Sales.Orders table\n",
                "\n",
                "```\n",
                "\n",
                "<span class=\"c1\" style=\"color: rgb(64, 128, 128); font-style: italic;\"><br></span>"
            ],
            "metadata": {
                "azdata_cell_guid": "8027ac5a-5924-450e-af5f-570b5a6577ba"
            },
            "attachments": {}
        },
        {
            "cell_type": "code",
            "source": [
                "USE Northwinds2022TSQLV7\r\n",
                "SELECT CustomerId, orderdate, orderid,\r\n",
                "(SELECT TOP (1) O2.orderdate\r\n",
                "FROM Sales.[Order] AS O2\r\n",
                "WHERE O2.CustomerId = O1.CustomerId\r\n",
                "AND ( O2.orderdate = O1.orderdate AND O2.orderid < O1.orderid\r\n",
                "OR O2.orderdate < O1.orderdate )\r\n",
                "ORDER BY O2.orderdate DESC, O2.orderid DESC) AS prevdate\r\n",
                "FROM Sales.[Order] AS O1\r\n",
                "ORDER BY CustomerId, orderdate, orderid;"
            ],
            "metadata": {
                "azdata_cell_guid": "0bc86d6a-3872-4b03-a351-6ef8a9f8deaf",
                "language": "sql"
            },
            "outputs": [
                {
                    "output_type": "display_data",
                    "data": {
                        "text/html": "(830 rows affected)"
                    },
                    "metadata": {}
                },
                {
                    "output_type": "display_data",
                    "data": {
                        "text/html": "Total execution time: 00:00:00.070"
                    },
                    "metadata": {}
                },
                {
                    "output_type": "execute_result",
                    "metadata": {},
                    "execution_count": 2,
                    "data": {
                        "application/vnd.dataresource+json": {
                            "schema": {
                                "fields": [
                                    {
                                        "name": "CustomerId"
                                    },
                                    {
                                        "name": "orderdate"
                                    },
                                    {
                                        "name": "orderid"
                                    },
                                    {
                                        "name": "prevdate"
                                    }
                                ]
                            },
                            "data": [
                                {
                                    "CustomerId": "1",
                                    "orderdate": "2015-08-25",
                                    "orderid": "10643",
                                    "prevdate": "NULL"
                                },
                                {
                                    "CustomerId": "1",
                                    "orderdate": "2015-10-03",
                                    "orderid": "10692",
                                    "prevdate": "2015-08-25"
                                },
                                {
                                    "CustomerId": "1",
                                    "orderdate": "2015-10-13",
                                    "orderid": "10702",
                                    "prevdate": "2015-10-03"
                                },
                                {
                                    "CustomerId": "1",
                                    "orderdate": "2016-01-15",
                                    "orderid": "10835",
                                    "prevdate": "2015-10-13"
                                },
                                {
                                    "CustomerId": "1",
                                    "orderdate": "2016-03-16",
                                    "orderid": "10952",
                                    "prevdate": "2016-01-15"
                                },
                                {
                                    "CustomerId": "1",
                                    "orderdate": "2016-04-09",
                                    "orderid": "11011",
                                    "prevdate": "2016-03-16"
                                },
                                {
                                    "CustomerId": "2",
                                    "orderdate": "2014-09-18",
                                    "orderid": "10308",
                                    "prevdate": "NULL"
                                },
                                {
                                    "CustomerId": "2",
                                    "orderdate": "2015-08-08",
                                    "orderid": "10625",
                                    "prevdate": "2014-09-18"
                                },
                                {
                                    "CustomerId": "2",
                                    "orderdate": "2015-11-28",
                                    "orderid": "10759",
                                    "prevdate": "2015-08-08"
                                },
                                {
                                    "CustomerId": "2",
                                    "orderdate": "2016-03-04",
                                    "orderid": "10926",
                                    "prevdate": "2015-11-28"
                                },
                                {
                                    "CustomerId": "3",
                                    "orderdate": "2014-11-27",
                                    "orderid": "10365",
                                    "prevdate": "NULL"
                                },
                                {
                                    "CustomerId": "3",
                                    "orderdate": "2015-04-15",
                                    "orderid": "10507",
                                    "prevdate": "2014-11-27"
                                },
                                {
                                    "CustomerId": "3",
                                    "orderdate": "2015-05-13",
                                    "orderid": "10535",
                                    "prevdate": "2015-04-15"
                                },
                                {
                                    "CustomerId": "3",
                                    "orderdate": "2015-06-19",
                                    "orderid": "10573",
                                    "prevdate": "2015-05-13"
                                },
                                {
                                    "CustomerId": "3",
                                    "orderdate": "2015-09-22",
                                    "orderid": "10677",
                                    "prevdate": "2015-06-19"
                                },
                                {
                                    "CustomerId": "3",
                                    "orderdate": "2015-09-25",
                                    "orderid": "10682",
                                    "prevdate": "2015-09-22"
                                },
                                {
                                    "CustomerId": "3",
                                    "orderdate": "2016-01-28",
                                    "orderid": "10856",
                                    "prevdate": "2015-09-25"
                                },
                                {
                                    "CustomerId": "4",
                                    "orderdate": "2014-11-15",
                                    "orderid": "10355",
                                    "prevdate": "NULL"
                                },
                                {
                                    "CustomerId": "4",
                                    "orderdate": "2014-12-16",
                                    "orderid": "10383",
                                    "prevdate": "2014-11-15"
                                },
                                {
                                    "CustomerId": "4",
                                    "orderdate": "2015-02-21",
                                    "orderid": "10453",
                                    "prevdate": "2014-12-16"
                                },
                                {
                                    "CustomerId": "4",
                                    "orderdate": "2015-06-04",
                                    "orderid": "10558",
                                    "prevdate": "2015-02-21"
                                },
                                {
                                    "CustomerId": "4",
                                    "orderdate": "2015-10-16",
                                    "orderid": "10707",
                                    "prevdate": "2015-06-04"
                                },
                                {
                                    "CustomerId": "4",
                                    "orderdate": "2015-11-14",
                                    "orderid": "10741",
                                    "prevdate": "2015-10-16"
                                },
                                {
                                    "CustomerId": "4",
                                    "orderdate": "2015-11-17",
                                    "orderid": "10743",
                                    "prevdate": "2015-11-14"
                                },
                                {
                                    "CustomerId": "4",
                                    "orderdate": "2015-12-08",
                                    "orderid": "10768",
                                    "prevdate": "2015-11-17"
                                },
                                {
                                    "CustomerId": "4",
                                    "orderdate": "2015-12-24",
                                    "orderid": "10793",
                                    "prevdate": "2015-12-08"
                                },
                                {
                                    "CustomerId": "4",
                                    "orderdate": "2016-02-02",
                                    "orderid": "10864",
                                    "prevdate": "2015-12-24"
                                },
                                {
                                    "CustomerId": "4",
                                    "orderdate": "2016-03-03",
                                    "orderid": "10920",
                                    "prevdate": "2016-02-02"
                                },
                                {
                                    "CustomerId": "4",
                                    "orderdate": "2016-03-16",
                                    "orderid": "10953",
                                    "prevdate": "2016-03-03"
                                },
                                {
                                    "CustomerId": "4",
                                    "orderdate": "2016-04-10",
                                    "orderid": "11016",
                                    "prevdate": "2016-03-16"
                                },
                                {
                                    "CustomerId": "5",
                                    "orderdate": "2014-08-12",
                                    "orderid": "10278",
                                    "prevdate": "NULL"
                                },
                                {
                                    "CustomerId": "5",
                                    "orderdate": "2014-08-14",
                                    "orderid": "10280",
                                    "prevdate": "2014-08-12"
                                },
                                {
                                    "CustomerId": "5",
                                    "orderdate": "2014-12-16",
                                    "orderid": "10384",
                                    "prevdate": "2014-08-14"
                                },
                                {
                                    "CustomerId": "5",
                                    "orderdate": "2015-02-12",
                                    "orderid": "10444",
                                    "prevdate": "2014-12-16"
                                },
                                {
                                    "CustomerId": "5",
                                    "orderdate": "2015-02-13",
                                    "orderid": "10445",
                                    "prevdate": "2015-02-12"
                                },
                                {
                                    "CustomerId": "5",
                                    "orderdate": "2015-05-01",
                                    "orderid": "10524",
                                    "prevdate": "2015-02-13"
                                },
                                {
                                    "CustomerId": "5",
                                    "orderdate": "2015-06-18",
                                    "orderid": "10572",
                                    "prevdate": "2015-05-01"
                                },
                                {
                                    "CustomerId": "5",
                                    "orderdate": "2015-08-11",
                                    "orderid": "10626",
                                    "prevdate": "2015-06-18"
                                },
                                {
                                    "CustomerId": "5",
                                    "orderdate": "2015-09-02",
                                    "orderid": "10654",
                                    "prevdate": "2015-08-11"
                                },
                                {
                                    "CustomerId": "5",
                                    "orderdate": "2015-09-17",
                                    "orderid": "10672",
                                    "prevdate": "2015-09-02"
                                },
                                {
                                    "CustomerId": "5",
                                    "orderdate": "2015-10-01",
                                    "orderid": "10689",
                                    "prevdate": "2015-09-17"
                                },
                                {
                                    "CustomerId": "5",
                                    "orderdate": "2015-11-07",
                                    "orderid": "10733",
                                    "prevdate": "2015-10-01"
                                },
                                {
                                    "CustomerId": "5",
                                    "orderdate": "2015-12-16",
                                    "orderid": "10778",
                                    "prevdate": "2015-11-07"
                                },
                                {
                                    "CustomerId": "5",
                                    "orderdate": "2016-01-16",
                                    "orderid": "10837",
                                    "prevdate": "2015-12-16"
                                },
                                {
                                    "CustomerId": "5",
                                    "orderdate": "2016-01-28",
                                    "orderid": "10857",
                                    "prevdate": "2016-01-16"
                                },
                                {
                                    "CustomerId": "5",
                                    "orderdate": "2016-02-03",
                                    "orderid": "10866",
                                    "prevdate": "2016-01-28"
                                },
                                {
                                    "CustomerId": "5",
                                    "orderdate": "2016-02-06",
                                    "orderid": "10875",
                                    "prevdate": "2016-02-03"
                                },
                                {
                                    "CustomerId": "5",
                                    "orderdate": "2016-03-04",
                                    "orderid": "10924",
                                    "prevdate": "2016-02-06"
                                },
                                {
                                    "CustomerId": "6",
                                    "orderdate": "2015-04-09",
                                    "orderid": "10501",
                                    "prevdate": "NULL"
                                },
                                {
                                    "CustomerId": "6",
                                    "orderdate": "2015-04-17",
                                    "orderid": "10509",
                                    "prevdate": "2015-04-09"
                                },
                                {
                                    "CustomerId": "6",
                                    "orderdate": "2015-06-27",
                                    "orderid": "10582",
                                    "prevdate": "2015-04-17"
                                },
                                {
                                    "CustomerId": "6",
                                    "orderdate": "2015-07-29",
                                    "orderid": "10614",
                                    "prevdate": "2015-06-27"
                                },
                                {
                                    "CustomerId": "6",
                                    "orderdate": "2016-01-27",
                                    "orderid": "10853",
                                    "prevdate": "2015-07-29"
                                },
                                {
                                    "CustomerId": "6",
                                    "orderdate": "2016-03-17",
                                    "orderid": "10956",
                                    "prevdate": "2016-01-27"
                                },
                                {
                                    "CustomerId": "6",
                                    "orderdate": "2016-04-29",
                                    "orderid": "11058",
                                    "prevdate": "2016-03-17"
                                },
                                {
                                    "CustomerId": "7",
                                    "orderdate": "2014-07-25",
                                    "orderid": "10265",
                                    "prevdate": "NULL"
                                },
                                {
                                    "CustomerId": "7",
                                    "orderdate": "2014-09-04",
                                    "orderid": "10297",
                                    "prevdate": "2014-07-25"
                                },
                                {
                                    "CustomerId": "7",
                                    "orderdate": "2014-11-22",
                                    "orderid": "10360",
                                    "prevdate": "2014-09-04"
                                },
                                {
                                    "CustomerId": "7",
                                    "orderdate": "2015-02-05",
                                    "orderid": "10436",
                                    "prevdate": "2014-11-22"
                                },
                                {
                                    "CustomerId": "7",
                                    "orderdate": "2015-02-18",
                                    "orderid": "10449",
                                    "prevdate": "2015-02-05"
                                },
                                {
                                    "CustomerId": "7",
                                    "orderdate": "2015-06-05",
                                    "orderid": "10559",
                                    "prevdate": "2015-02-18"
                                },
                                {
                                    "CustomerId": "7",
                                    "orderdate": "2015-06-12",
                                    "orderid": "10566",
                                    "prevdate": "2015-06-05"
                                },
                                {
                                    "CustomerId": "7",
                                    "orderdate": "2015-06-30",
                                    "orderid": "10584",
                                    "prevdate": "2015-06-12"
                                },
                                {
                                    "CustomerId": "7",
                                    "orderdate": "2015-08-12",
                                    "orderid": "10628",
                                    "prevdate": "2015-06-30"
                                },
                                {
                                    "CustomerId": "7",
                                    "orderdate": "2015-09-23",
                                    "orderid": "10679",
                                    "prevdate": "2015-08-12"
                                },
                                {
                                    "CustomerId": "7",
                                    "orderdate": "2016-01-12",
                                    "orderid": "10826",
                                    "prevdate": "2015-09-23"
                                },
                                {
                                    "CustomerId": "8",
                                    "orderdate": "2014-10-10",
                                    "orderid": "10326",
                                    "prevdate": "NULL"
                                },
                                {
                                    "CustomerId": "8",
                                    "orderdate": "2015-12-29",
                                    "orderid": "10801",
                                    "prevdate": "2014-10-10"
                                },
                                {
                                    "CustomerId": "8",
                                    "orderdate": "2016-03-24",
                                    "orderid": "10970",
                                    "prevdate": "2015-12-29"
                                },
                                {
                                    "CustomerId": "9",
                                    "orderdate": "2014-10-16",
                                    "orderid": "10331",
                                    "prevdate": "NULL"
                                },
                                {
                                    "CustomerId": "9",
                                    "orderdate": "2014-10-29",
                                    "orderid": "10340",
                                    "prevdate": "2014-10-16"
                                },
                                {
                                    "CustomerId": "9",
                                    "orderdate": "2014-11-25",
                                    "orderid": "10362",
                                    "prevdate": "2014-10-29"
                                },
                                {
                                    "CustomerId": "9",
                                    "orderdate": "2015-03-11",
                                    "orderid": "10470",
                                    "prevdate": "2014-11-25"
                                },
                                {
                                    "CustomerId": "9",
                                    "orderdate": "2015-04-18",
                                    "orderid": "10511",
                                    "prevdate": "2015-03-11"
                                },
                                {
                                    "CustomerId": "9",
                                    "orderdate": "2015-05-02",
                                    "orderid": "10525",
                                    "prevdate": "2015-04-18"
                                },
                                {
                                    "CustomerId": "9",
                                    "orderdate": "2015-09-10",
                                    "orderid": "10663",
                                    "prevdate": "2015-05-02"
                                },
                                {
                                    "CustomerId": "9",
                                    "orderdate": "2015-10-23",
                                    "orderid": "10715",
                                    "prevdate": "2015-09-10"
                                },
                                {
                                    "CustomerId": "9",
                                    "orderdate": "2015-11-05",
                                    "orderid": "10730",
                                    "prevdate": "2015-10-23"
                                },
                                {
                                    "CustomerId": "9",
                                    "orderdate": "2015-11-06",
                                    "orderid": "10732",
                                    "prevdate": "2015-11-05"
                                },
                                {
                                    "CustomerId": "9",
                                    "orderdate": "2015-11-26",
                                    "orderid": "10755",
                                    "prevdate": "2015-11-06"
                                },
                                {
                                    "CustomerId": "9",
                                    "orderdate": "2016-01-12",
                                    "orderid": "10827",
                                    "prevdate": "2015-11-26"
                                },
                                {
                                    "CustomerId": "9",
                                    "orderdate": "2016-02-05",
                                    "orderid": "10871",
                                    "prevdate": "2016-01-12"
                                },
                                {
                                    "CustomerId": "9",
                                    "orderdate": "2016-02-09",
                                    "orderid": "10876",
                                    "prevdate": "2016-02-05"
                                },
                                {
                                    "CustomerId": "9",
                                    "orderdate": "2016-03-06",
                                    "orderid": "10932",
                                    "prevdate": "2016-02-09"
                                },
                                {
                                    "CustomerId": "9",
                                    "orderdate": "2016-03-11",
                                    "orderid": "10940",
                                    "prevdate": "2016-03-06"
                                },
                                {
                                    "CustomerId": "9",
                                    "orderdate": "2016-05-06",
                                    "orderid": "11076",
                                    "prevdate": "2016-03-11"
                                },
                                {
                                    "CustomerId": "10",
                                    "orderdate": "2014-12-20",
                                    "orderid": "10389",
                                    "prevdate": "NULL"
                                },
                                {
                                    "CustomerId": "10",
                                    "orderdate": "2015-01-10",
                                    "orderid": "10410",
                                    "prevdate": "2014-12-20"
                                },
                                {
                                    "CustomerId": "10",
                                    "orderdate": "2015-01-10",
                                    "orderid": "10411",
                                    "prevdate": "2015-01-10"
                                },
                                {
                                    "CustomerId": "10",
                                    "orderdate": "2015-01-30",
                                    "orderid": "10431",
                                    "prevdate": "2015-01-10"
                                },
                                {
                                    "CustomerId": "10",
                                    "orderdate": "2015-04-01",
                                    "orderid": "10492",
                                    "prevdate": "2015-01-30"
                                },
                                {
                                    "CustomerId": "10",
                                    "orderdate": "2015-11-14",
                                    "orderid": "10742",
                                    "prevdate": "2015-04-01"
                                },
                                {
                                    "CustomerId": "10",
                                    "orderdate": "2016-03-02",
                                    "orderid": "10918",
                                    "prevdate": "2015-11-14"
                                },
                                {
                                    "CustomerId": "10",
                                    "orderdate": "2016-03-12",
                                    "orderid": "10944",
                                    "prevdate": "2016-03-02"
                                },
                                {
                                    "CustomerId": "10",
                                    "orderdate": "2016-03-13",
                                    "orderid": "10949",
                                    "prevdate": "2016-03-12"
                                },
                                {
                                    "CustomerId": "10",
                                    "orderdate": "2016-03-25",
                                    "orderid": "10975",
                                    "prevdate": "2016-03-13"
                                },
                                {
                                    "CustomerId": "10",
                                    "orderdate": "2016-03-27",
                                    "orderid": "10982",
                                    "prevdate": "2016-03-25"
                                },
                                {
                                    "CustomerId": "10",
                                    "orderdate": "2016-04-16",
                                    "orderid": "11027",
                                    "prevdate": "2016-03-27"
                                },
                                {
                                    "CustomerId": "10",
                                    "orderdate": "2016-04-23",
                                    "orderid": "11045",
                                    "prevdate": "2016-04-16"
                                },
                                {
                                    "CustomerId": "10",
                                    "orderdate": "2016-04-24",
                                    "orderid": "11048",
                                    "prevdate": "2016-04-23"
                                },
                                {
                                    "CustomerId": "11",
                                    "orderdate": "2014-08-26",
                                    "orderid": "10289",
                                    "prevdate": "NULL"
                                },
                                {
                                    "CustomerId": "11",
                                    "orderdate": "2015-03-11",
                                    "orderid": "10471",
                                    "prevdate": "2014-08-26"
                                },
                                {
                                    "CustomerId": "11",
                                    "orderdate": "2015-03-24",
                                    "orderid": "10484",
                                    "prevdate": "2015-03-11"
                                },
                                {
                                    "CustomerId": "11",
                                    "orderdate": "2015-05-15",
                                    "orderid": "10538",
                                    "prevdate": "2015-03-24"
                                },
                                {
                                    "CustomerId": "11",
                                    "orderdate": "2015-05-16",
                                    "orderid": "10539",
                                    "prevdate": "2015-05-15"
                                },
                                {
                                    "CustomerId": "11",
                                    "orderdate": "2015-06-24",
                                    "orderid": "10578",
                                    "prevdate": "2015-05-16"
                                },
                                {
                                    "CustomerId": "11",
                                    "orderdate": "2015-07-15",
                                    "orderid": "10599",
                                    "prevdate": "2015-06-24"
                                },
                                {
                                    "CustomerId": "11",
                                    "orderdate": "2016-03-11",
                                    "orderid": "10943",
                                    "prevdate": "2015-07-15"
                                },
                                {
                                    "CustomerId": "11",
                                    "orderdate": "2016-03-13",
                                    "orderid": "10947",
                                    "prevdate": "2016-03-11"
                                },
                                {
                                    "CustomerId": "11",
                                    "orderdate": "2016-04-14",
                                    "orderid": "11023",
                                    "prevdate": "2016-03-13"
                                },
                                {
                                    "CustomerId": "12",
                                    "orderdate": "2015-04-29",
                                    "orderid": "10521",
                                    "prevdate": "NULL"
                                },
                                {
                                    "CustomerId": "12",
                                    "orderdate": "2015-12-17",
                                    "orderid": "10782",
                                    "prevdate": "2015-04-29"
                                },
                                {
                                    "CustomerId": "12",
                                    "orderdate": "2016-01-07",
                                    "orderid": "10819",
                                    "prevdate": "2015-12-17"
                                },
                                {
                                    "CustomerId": "12",
                                    "orderdate": "2016-02-11",
                                    "orderid": "10881",
                                    "prevdate": "2016-01-07"
                                },
                                {
                                    "CustomerId": "12",
                                    "orderdate": "2016-03-10",
                                    "orderid": "10937",
                                    "prevdate": "2016-02-11"
                                },
                                {
                                    "CustomerId": "12",
                                    "orderdate": "2016-04-28",
                                    "orderid": "11054",
                                    "prevdate": "2016-03-10"
                                },
                                {
                                    "CustomerId": "13",
                                    "orderdate": "2014-07-18",
                                    "orderid": "10259",
                                    "prevdate": "NULL"
                                },
                                {
                                    "CustomerId": "14",
                                    "orderdate": "2014-07-11",
                                    "orderid": "10254",
                                    "prevdate": "NULL"
                                },
                                {
                                    "CustomerId": "14",
                                    "orderdate": "2014-12-03",
                                    "orderid": "10370",
                                    "prevdate": "2014-07-11"
                                },
                                {
                                    "CustomerId": "14",
                                    "orderdate": "2015-04-28",
                                    "orderid": "10519",
                                    "prevdate": "2014-12-03"
                                },
                                {
                                    "CustomerId": "14",
                                    "orderdate": "2015-11-06",
                                    "orderid": "10731",
                                    "prevdate": "2015-04-28"
                                },
                                {
                                    "CustomerId": "14",
                                    "orderdate": "2015-11-19",
                                    "orderid": "10746",
                                    "prevdate": "2015-11-06"
                                },
                                {
                                    "CustomerId": "14",
                                    "orderdate": "2016-03-20",
                                    "orderid": "10966",
                                    "prevdate": "2015-11-19"
                                },
                                {
                                    "CustomerId": "14",
                                    "orderdate": "2016-04-16",
                                    "orderid": "11029",
                                    "prevdate": "2016-03-20"
                                },
                                {
                                    "CustomerId": "14",
                                    "orderdate": "2016-04-22",
                                    "orderid": "11041",
                                    "prevdate": "2016-04-16"
                                },
                                {
                                    "CustomerId": "15",
                                    "orderdate": "2014-08-27",
                                    "orderid": "10290",
                                    "prevdate": "NULL"
                                },
                                {
                                    "CustomerId": "15",
                                    "orderdate": "2015-03-06",
                                    "orderid": "10466",
                                    "prevdate": "2014-08-27"
                                },
                                {
                                    "CustomerId": "15",
                                    "orderdate": "2015-04-02",
                                    "orderid": "10494",
                                    "prevdate": "2015-03-06"
                                },
                                {
                                    "CustomerId": "15",
                                    "orderdate": "2016-03-23",
                                    "orderid": "10969",
                                    "prevdate": "2015-04-02"
                                },
                                {
                                    "CustomerId": "15",
                                    "orderdate": "2016-04-22",
                                    "orderid": "11042",
                                    "prevdate": "2016-03-23"
                                },
                                {
                                    "CustomerId": "16",
                                    "orderdate": "2015-02-04",
                                    "orderid": "10435",
                                    "prevdate": "NULL"
                                },
                                {
                                    "CustomerId": "16",
                                    "orderdate": "2015-03-03",
                                    "orderid": "10462",
                                    "prevdate": "2015-02-04"
                                },
                                {
                                    "CustomerId": "16",
                                    "orderdate": "2016-01-23",
                                    "orderid": "10848",
                                    "prevdate": "2015-03-03"
                                },
                                {
                                    "CustomerId": "17",
                                    "orderdate": "2014-11-26",
                                    "orderid": "10363",
                                    "prevdate": "NULL"
                                },
                                {
                                    "CustomerId": "17",
                                    "orderdate": "2014-12-23",
                                    "orderid": "10391",
                                    "prevdate": "2014-11-26"
                                },
                                {
                                    "CustomerId": "17",
                                    "orderdate": "2015-12-25",
                                    "orderid": "10797",
                                    "prevdate": "2014-12-23"
                                },
                                {
                                    "CustomerId": "17",
                                    "orderdate": "2016-01-09",
                                    "orderid": "10825",
                                    "prevdate": "2015-12-25"
                                },
                                {
                                    "CustomerId": "17",
                                    "orderdate": "2016-04-20",
                                    "orderid": "11036",
                                    "prevdate": "2016-01-09"
                                },
                                {
                                    "CustomerId": "17",
                                    "orderdate": "2016-05-04",
                                    "orderid": "11067",
                                    "prevdate": "2016-04-20"
                                },
                                {
                                    "CustomerId": "18",
                                    "orderdate": "2014-09-20",
                                    "orderid": "10311",
                                    "prevdate": "NULL"
                                },
                                {
                                    "CustomerId": "18",
                                    "orderdate": "2015-07-24",
                                    "orderid": "10609",
                                    "prevdate": "2014-09-20"
                                },
                                {
                                    "CustomerId": "18",
                                    "orderdate": "2015-09-26",
                                    "orderid": "10683",
                                    "prevdate": "2015-07-24"
                                },
                                {
                                    "CustomerId": "18",
                                    "orderdate": "2016-02-16",
                                    "orderid": "10890",
                                    "prevdate": "2015-09-26"
                                },
                                {
                                    "CustomerId": "19",
                                    "orderdate": "2014-11-26",
                                    "orderid": "10364",
                                    "prevdate": "NULL"
                                },
                                {
                                    "CustomerId": "19",
                                    "orderdate": "2015-01-01",
                                    "orderid": "10400",
                                    "prevdate": "2014-11-26"
                                },
                                {
                                    "CustomerId": "19",
                                    "orderdate": "2015-05-09",
                                    "orderid": "10532",
                                    "prevdate": "2015-01-01"
                                },
                                {
                                    "CustomerId": "19",
                                    "orderdate": "2015-11-03",
                                    "orderid": "10726",
                                    "prevdate": "2015-05-09"
                                },
                                {
                                    "CustomerId": "19",
                                    "orderdate": "2016-03-31",
                                    "orderid": "10987",
                                    "prevdate": "2015-11-03"
                                },
                                {
                                    "CustomerId": "19",
                                    "orderdate": "2016-04-15",
                                    "orderid": "11024",
                                    "prevdate": "2016-03-31"
                                },
                                {
                                    "CustomerId": "19",
                                    "orderdate": "2016-04-24",
                                    "orderid": "11047",
                                    "prevdate": "2016-04-15"
                                },
                                {
                                    "CustomerId": "19",
                                    "orderdate": "2016-04-28",
                                    "orderid": "11056",
                                    "prevdate": "2016-04-24"
                                },
                                {
                                    "CustomerId": "20",
                                    "orderdate": "2014-07-17",
                                    "orderid": "10258",
                                    "prevdate": "NULL"
                                },
                                {
                                    "CustomerId": "20",
                                    "orderdate": "2014-07-23",
                                    "orderid": "10263",
                                    "prevdate": "2014-07-17"
                                },
                                {
                                    "CustomerId": "20",
                                    "orderdate": "2014-11-11",
                                    "orderid": "10351",
                                    "prevdate": "2014-07-23"
                                },
                                {
                                    "CustomerId": "20",
                                    "orderdate": "2014-11-29",
                                    "orderid": "10368",
                                    "prevdate": "2014-11-11"
                                },
                                {
                                    "CustomerId": "20",
                                    "orderdate": "2014-12-13",
                                    "orderid": "10382",
                                    "prevdate": "2014-11-29"
                                },
                                {
                                    "CustomerId": "20",
                                    "orderdate": "2014-12-23",
                                    "orderid": "10390",
                                    "prevdate": "2014-12-13"
                                },
                                {
                                    "CustomerId": "20",
                                    "orderdate": "2015-01-02",
                                    "orderid": "10402",
                                    "prevdate": "2014-12-23"
                                },
                                {
                                    "CustomerId": "20",
                                    "orderdate": "2015-01-03",
                                    "orderid": "10403",
                                    "prevdate": "2015-01-02"
                                },
                                {
                                    "CustomerId": "20",
                                    "orderdate": "2015-01-30",
                                    "orderid": "10430",
                                    "prevdate": "2015-01-03"
                                },
                                {
                                    "CustomerId": "20",
                                    "orderdate": "2015-02-11",
                                    "orderid": "10442",
                                    "prevdate": "2015-01-30"
                                },
                                {
                                    "CustomerId": "20",
                                    "orderdate": "2015-04-22",
                                    "orderid": "10514",
                                    "prevdate": "2015-02-11"
                                },
                                {
                                    "CustomerId": "20",
                                    "orderdate": "2015-06-17",
                                    "orderid": "10571",
                                    "prevdate": "2015-04-22"
                                },
                                {
                                    "CustomerId": "20",
                                    "orderdate": "2015-07-10",
                                    "orderid": "10595",
                                    "prevdate": "2015-06-17"
                                },
                                {
                                    "CustomerId": "20",
                                    "orderdate": "2015-08-15",
                                    "orderid": "10633",
                                    "prevdate": "2015-07-10"
                                },
                                {
                                    "CustomerId": "20",
                                    "orderdate": "2015-09-12",
                                    "orderid": "10667",
                                    "prevdate": "2015-08-15"
                                },
                                {
                                    "CustomerId": "20",
                                    "orderdate": "2015-10-09",
                                    "orderid": "10698",
                                    "prevdate": "2015-09-12"
                                },
                                {
                                    "CustomerId": "20",
                                    "orderdate": "2015-12-03",
                                    "orderid": "10764",
                                    "prevdate": "2015-10-09"
                                },
                                {
                                    "CustomerId": "20",
                                    "orderdate": "2015-12-10",
                                    "orderid": "10771",
                                    "prevdate": "2015-12-03"
                                },
                                {
                                    "CustomerId": "20",
                                    "orderdate": "2015-12-11",
                                    "orderid": "10773",
                                    "prevdate": "2015-12-10"
                                },
                                {
                                    "CustomerId": "20",
                                    "orderdate": "2015-12-15",
                                    "orderid": "10776",
                                    "prevdate": "2015-12-11"
                                },
                                {
                                    "CustomerId": "20",
                                    "orderdate": "2015-12-24",
                                    "orderid": "10795",
                                    "prevdate": "2015-12-15"
                                },
                                {
                                    "CustomerId": "20",
                                    "orderdate": "2016-01-16",
                                    "orderid": "10836",
                                    "prevdate": "2015-12-24"
                                },
                                {
                                    "CustomerId": "20",
                                    "orderdate": "2016-01-27",
                                    "orderid": "10854",
                                    "prevdate": "2016-01-16"
                                },
                                {
                                    "CustomerId": "20",
                                    "orderdate": "2016-02-18",
                                    "orderid": "10895",
                                    "prevdate": "2016-01-27"
                                },
                                {
                                    "CustomerId": "20",
                                    "orderdate": "2016-03-23",
                                    "orderid": "10968",
                                    "prevdate": "2016-02-18"
                                },
                                {
                                    "CustomerId": "20",
                                    "orderdate": "2016-03-26",
                                    "orderid": "10979",
                                    "prevdate": "2016-03-23"
                                },
                                {
                                    "CustomerId": "20",
                                    "orderdate": "2016-04-01",
                                    "orderid": "10990",
                                    "prevdate": "2016-03-26"
                                },
                                {
                                    "CustomerId": "20",
                                    "orderdate": "2016-04-08",
                                    "orderid": "11008",
                                    "prevdate": "2016-04-01"
                                },
                                {
                                    "CustomerId": "20",
                                    "orderdate": "2016-04-13",
                                    "orderid": "11017",
                                    "prevdate": "2016-04-08"
                                },
                                {
                                    "CustomerId": "20",
                                    "orderdate": "2016-05-05",
                                    "orderid": "11072",
                                    "prevdate": "2016-04-13"
                                },
                                {
                                    "CustomerId": "21",
                                    "orderdate": "2014-11-06",
                                    "orderid": "10347",
                                    "prevdate": "NULL"
                                },
                                {
                                    "CustomerId": "21",
                                    "orderdate": "2014-12-18",
                                    "orderid": "10386",
                                    "prevdate": "2014-11-06"
                                },
                                {
                                    "CustomerId": "21",
                                    "orderdate": "2015-01-14",
                                    "orderid": "10414",
                                    "prevdate": "2014-12-18"
                                },
                                {
                                    "CustomerId": "21",
                                    "orderdate": "2015-04-21",
                                    "orderid": "10512",
                                    "prevdate": "2015-01-14"
                                },
                                {
                                    "CustomerId": "21",
                                    "orderdate": "2015-06-26",
                                    "orderid": "10581",
                                    "prevdate": "2015-04-21"
                                },
                                {
                                    "CustomerId": "21",
                                    "orderdate": "2015-08-29",
                                    "orderid": "10650",
                                    "prevdate": "2015-06-26"
                                },
                                {
                                    "CustomerId": "21",
                                    "orderdate": "2015-10-31",
                                    "orderid": "10725",
                                    "prevdate": "2015-08-29"
                                },
                                {
                                    "CustomerId": "23",
                                    "orderdate": "2015-01-08",
                                    "orderid": "10408",
                                    "prevdate": "NULL"
                                },
                                {
                                    "CustomerId": "23",
                                    "orderdate": "2015-03-20",
                                    "orderid": "10480",
                                    "prevdate": "2015-01-08"
                                },
                                {
                                    "CustomerId": "23",
                                    "orderdate": "2015-08-15",
                                    "orderid": "10634",
                                    "prevdate": "2015-03-20"
                                },
                                {
                                    "CustomerId": "23",
                                    "orderdate": "2015-12-03",
                                    "orderid": "10763",
                                    "prevdate": "2015-08-15"
                                },
                                {
                                    "CustomerId": "23",
                                    "orderdate": "2015-12-22",
                                    "orderid": "10789",
                                    "prevdate": "2015-12-03"
                                },
                                {
                                    "CustomerId": "24",
                                    "orderdate": "2014-07-24",
                                    "orderid": "10264",
                                    "prevdate": "NULL"
                                },
                                {
                                    "CustomerId": "24",
                                    "orderdate": "2014-10-11",
                                    "orderid": "10327",
                                    "prevdate": "2014-07-24"
                                },
                                {
                                    "CustomerId": "24",
                                    "orderdate": "2014-12-10",
                                    "orderid": "10378",
                                    "prevdate": "2014-10-11"
                                },
                                {
                                    "CustomerId": "24",
                                    "orderdate": "2015-02-03",
                                    "orderid": "10434",
                                    "prevdate": "2014-12-10"
                                },
                                {
                                    "CustomerId": "24",
                                    "orderdate": "2015-02-28",
                                    "orderid": "10460",
                                    "prevdate": "2015-02-03"
                                },
                                {
                                    "CustomerId": "24",
                                    "orderdate": "2015-05-12",
                                    "orderid": "10533",
                                    "prevdate": "2015-02-28"
                                },
                                {
                                    "CustomerId": "24",
                                    "orderdate": "2015-06-06",
                                    "orderid": "10561",
                                    "prevdate": "2015-05-12"
                                },
                                {
                                    "CustomerId": "24",
                                    "orderdate": "2015-10-14",
                                    "orderid": "10703",
                                    "prevdate": "2015-06-06"
                                },
                                {
                                    "CustomerId": "24",
                                    "orderdate": "2015-12-02",
                                    "orderid": "10762",
                                    "prevdate": "2015-10-14"
                                },
                                {
                                    "CustomerId": "24",
                                    "orderdate": "2015-12-11",
                                    "orderid": "10774",
                                    "prevdate": "2015-12-02"
                                },
                                {
                                    "CustomerId": "24",
                                    "orderdate": "2016-01-09",
                                    "orderid": "10824",
                                    "prevdate": "2015-12-11"
                                },
                                {
                                    "CustomerId": "24",
                                    "orderdate": "2016-02-10",
                                    "orderid": "10880",
                                    "prevdate": "2016-01-09"
                                },
                                {
                                    "CustomerId": "24",
                                    "orderdate": "2016-02-23",
                                    "orderid": "10902",
                                    "prevdate": "2016-02-10"
                                },
                                {
                                    "CustomerId": "24",
                                    "orderdate": "2016-03-17",
                                    "orderid": "10955",
                                    "prevdate": "2016-02-23"
                                },
                                {
                                    "CustomerId": "24",
                                    "orderdate": "2016-03-26",
                                    "orderid": "10977",
                                    "prevdate": "2016-03-17"
                                },
                                {
                                    "CustomerId": "24",
                                    "orderdate": "2016-03-27",
                                    "orderid": "10980",
                                    "prevdate": "2016-03-26"
                                },
                                {
                                    "CustomerId": "24",
                                    "orderdate": "2016-04-01",
                                    "orderid": "10993",
                                    "prevdate": "2016-03-27"
                                },
                                {
                                    "CustomerId": "24",
                                    "orderdate": "2016-04-06",
                                    "orderid": "11001",
                                    "prevdate": "2016-04-01"
                                },
                                {
                                    "CustomerId": "24",
                                    "orderdate": "2016-04-27",
                                    "orderid": "11050",
                                    "prevdate": "2016-04-06"
                                },
                                {
                                    "CustomerId": "25",
                                    "orderdate": "2014-07-29",
                                    "orderid": "10267",
                                    "prevdate": "NULL"
                                },
                                {
                                    "CustomerId": "25",
                                    "orderdate": "2014-10-24",
                                    "orderid": "10337",
                                    "prevdate": "2014-07-29"
                                },
                                {
                                    "CustomerId": "25",
                                    "orderdate": "2014-10-30",
                                    "orderid": "10342",
                                    "prevdate": "2014-10-24"
                                },
                                {
                                    "CustomerId": "25",
                                    "orderdate": "2014-12-27",
                                    "orderid": "10396",
                                    "prevdate": "2014-10-30"
                                },
                                {
                                    "CustomerId": "25",
                                    "orderdate": "2015-03-27",
                                    "orderid": "10488",
                                    "prevdate": "2014-12-27"
                                },
                                {
                                    "CustomerId": "25",
                                    "orderdate": "2015-06-06",
                                    "orderid": "10560",
                                    "prevdate": "2015-03-27"
                                },
                                {
                                    "CustomerId": "25",
                                    "orderdate": "2015-08-07",
                                    "orderid": "10623",
                                    "prevdate": "2015-06-06"
                                },
                                {
                                    "CustomerId": "25",
                                    "orderdate": "2015-09-02",
                                    "orderid": "10653",
                                    "prevdate": "2015-08-07"
                                },
                                {
                                    "CustomerId": "25",
                                    "orderdate": "2015-09-16",
                                    "orderid": "10670",
                                    "prevdate": "2015-09-02"
                                },
                                {
                                    "CustomerId": "25",
                                    "orderdate": "2015-09-19",
                                    "orderid": "10675",
                                    "prevdate": "2015-09-16"
                                },
                                {
                                    "CustomerId": "25",
                                    "orderdate": "2015-10-24",
                                    "orderid": "10717",
                                    "prevdate": "2015-09-19"
                                },
                                {
                                    "CustomerId": "25",
                                    "orderdate": "2015-12-23",
                                    "orderid": "10791",
                                    "prevdate": "2015-10-24"
                                },
                                {
                                    "CustomerId": "25",
                                    "orderdate": "2016-01-29",
                                    "orderid": "10859",
                                    "prevdate": "2015-12-23"
                                },
                                {
                                    "CustomerId": "25",
                                    "orderdate": "2016-03-05",
                                    "orderid": "10929",
                                    "prevdate": "2016-01-29"
                                },
                                {
                                    "CustomerId": "25",
                                    "orderdate": "2016-04-09",
                                    "orderid": "11012",
                                    "prevdate": "2016-03-05"
                                },
                                {
                                    "CustomerId": "26",
                                    "orderdate": "2015-09-17",
                                    "orderid": "10671",
                                    "prevdate": "NULL"
                                },
                                {
                                    "CustomerId": "26",
                                    "orderdate": "2016-01-29",
                                    "orderid": "10860",
                                    "prevdate": "2015-09-17"
                                },
                                {
                                    "CustomerId": "26",
                                    "orderdate": "2016-03-24",
                                    "orderid": "10971",
                                    "prevdate": "2016-01-29"
                                },
                                {
                                    "CustomerId": "27",
                                    "orderdate": "2015-01-22",
                                    "orderid": "10422",
                                    "prevdate": "NULL"
                                },
                                {
                                    "CustomerId": "27",
                                    "orderdate": "2015-10-20",
                                    "orderid": "10710",
                                    "prevdate": "2015-01-22"
                                },
                                {
                                    "CustomerId": "27",
                                    "orderdate": "2015-11-25",
                                    "orderid": "10753",
                                    "prevdate": "2015-10-20"
                                },
                                {
                                    "CustomerId": "27",
                                    "orderdate": "2015-12-31",
                                    "orderid": "10807",
                                    "prevdate": "2015-11-25"
                                },
                                {
                                    "CustomerId": "27",
                                    "orderdate": "2016-04-15",
                                    "orderid": "11026",
                                    "prevdate": "2015-12-31"
                                },
                                {
                                    "CustomerId": "27",
                                    "orderdate": "2016-04-30",
                                    "orderid": "11060",
                                    "prevdate": "2016-04-15"
                                },
                                {
                                    "CustomerId": "28",
                                    "orderdate": "2014-10-14",
                                    "orderid": "10328",
                                    "prevdate": "NULL"
                                },
                                {
                                    "CustomerId": "28",
                                    "orderdate": "2014-11-12",
                                    "orderid": "10352",
                                    "prevdate": "2014-10-14"
                                },
                                {
                                    "CustomerId": "28",
                                    "orderdate": "2015-03-04",
                                    "orderid": "10464",
                                    "prevdate": "2014-11-12"
                                },
                                {
                                    "CustomerId": "28",
                                    "orderdate": "2015-03-31",
                                    "orderid": "10491",
                                    "prevdate": "2015-03-04"
                                },
                                {
                                    "CustomerId": "28",
                                    "orderdate": "2015-05-28",
                                    "orderid": "10551",
                                    "prevdate": "2015-03-31"
                                },
                                {
                                    "CustomerId": "28",
                                    "orderdate": "2015-07-18",
                                    "orderid": "10604",
                                    "prevdate": "2015-05-28"
                                },
                                {
                                    "CustomerId": "28",
                                    "orderdate": "2015-09-10",
                                    "orderid": "10664",
                                    "prevdate": "2015-07-18"
                                },
                                {
                                    "CustomerId": "28",
                                    "orderdate": "2016-03-19",
                                    "orderid": "10963",
                                    "prevdate": "2015-09-10"
                                },
                                {
                                    "CustomerId": "29",
                                    "orderdate": "2014-11-28",
                                    "orderid": "10366",
                                    "prevdate": "NULL"
                                },
                                {
                                    "CustomerId": "29",
                                    "orderdate": "2015-01-27",
                                    "orderid": "10426",
                                    "prevdate": "2014-11-28"
                                },
                                {
                                    "CustomerId": "29",
                                    "orderdate": "2015-06-13",
                                    "orderid": "10568",
                                    "prevdate": "2015-01-27"
                                },
                                {
                                    "CustomerId": "29",
                                    "orderdate": "2016-02-13",
                                    "orderid": "10887",
                                    "prevdate": "2015-06-13"
                                },
                                {
                                    "CustomerId": "29",
                                    "orderdate": "2016-03-05",
                                    "orderid": "10928",
                                    "prevdate": "2016-02-13"
                                },
                                {
                                    "CustomerId": "30",
                                    "orderdate": "2014-09-11",
                                    "orderid": "10303",
                                    "prevdate": "NULL"
                                },
                                {
                                    "CustomerId": "30",
                                    "orderdate": "2015-05-28",
                                    "orderid": "10550",
                                    "prevdate": "2014-09-11"
                                },
                                {
                                    "CustomerId": "30",
                                    "orderdate": "2015-08-12",
                                    "orderid": "10629",
                                    "prevdate": "2015-05-28"
                                },
                                {
                                    "CustomerId": "30",
                                    "orderdate": "2016-02-05",
                                    "orderid": "10872",
                                    "prevdate": "2015-08-12"
                                },
                                {
                                    "CustomerId": "30",
                                    "orderdate": "2016-02-06",
                                    "orderid": "10874",
                                    "prevdate": "2016-02-05"
                                },
                                {
                                    "CustomerId": "30",
                                    "orderdate": "2016-02-16",
                                    "orderid": "10888",
                                    "prevdate": "2016-02-06"
                                },
                                {
                                    "CustomerId": "30",
                                    "orderdate": "2016-02-26",
                                    "orderid": "10911",
                                    "prevdate": "2016-02-16"
                                },
                                {
                                    "CustomerId": "30",
                                    "orderdate": "2016-03-13",
                                    "orderid": "10948",
                                    "prevdate": "2016-02-26"
                                },
                                {
                                    "CustomerId": "30",
                                    "orderdate": "2016-04-08",
                                    "orderid": "11009",
                                    "prevdate": "2016-03-13"
                                },
                                {
                                    "CustomerId": "30",
                                    "orderdate": "2016-04-21",
                                    "orderid": "11037",
                                    "prevdate": "2016-04-08"
                                },
                                {
                                    "CustomerId": "31",
                                    "orderdate": "2015-01-23",
                                    "orderid": "10423",
                                    "prevdate": "NULL"
                                },
                                {
                                    "CustomerId": "31",
                                    "orderdate": "2015-09-01",
                                    "orderid": "10652",
                                    "prevdate": "2015-01-23"
                                },
                                {
                                    "CustomerId": "31",
                                    "orderdate": "2015-09-29",
                                    "orderid": "10685",
                                    "prevdate": "2015-09-01"
                                },
                                {
                                    "CustomerId": "31",
                                    "orderdate": "2015-10-17",
                                    "orderid": "10709",
                                    "prevdate": "2015-09-29"
                                },
                                {
                                    "CustomerId": "31",
                                    "orderdate": "2015-11-07",
                                    "orderid": "10734",
                                    "prevdate": "2015-10-17"
                                },
                                {
                                    "CustomerId": "31",
                                    "orderdate": "2015-12-15",
                                    "orderid": "10777",
                                    "prevdate": "2015-11-07"
                                },
                                {
                                    "CustomerId": "31",
                                    "orderdate": "2015-12-22",
                                    "orderid": "10790",
                                    "prevdate": "2015-12-15"
                                },
                                {
                                    "CustomerId": "31",
                                    "orderdate": "2016-03-18",
                                    "orderid": "10959",
                                    "prevdate": "2015-12-22"
                                },
                                {
                                    "CustomerId": "31",
                                    "orderdate": "2016-04-24",
                                    "orderid": "11049",
                                    "prevdate": "2016-03-18"
                                },
                                {
                                    "CustomerId": "32",
                                    "orderdate": "2015-05-06",
                                    "orderid": "10528",
                                    "prevdate": "NULL"
                                },
                                {
                                    "CustomerId": "32",
                                    "orderdate": "2015-07-04",
                                    "orderid": "10589",
                                    "prevdate": "2015-05-06"
                                },
                                {
                                    "CustomerId": "32",
                                    "orderdate": "2015-07-31",
                                    "orderid": "10616",
                                    "prevdate": "2015-07-04"
                                },
                                {
                                    "CustomerId": "32",
                                    "orderdate": "2015-07-31",
                                    "orderid": "10617",
                                    "prevdate": "2015-07-31"
                                },
                                {
                                    "CustomerId": "32",
                                    "orderdate": "2015-09-04",
                                    "orderid": "10656",
                                    "prevdate": "2015-07-31"
                                },
                                {
                                    "CustomerId": "32",
                                    "orderdate": "2015-09-25",
                                    "orderid": "10681",
                                    "prevdate": "2015-09-04"
                                },
                                {
                                    "CustomerId": "32",
                                    "orderdate": "2016-01-06",
                                    "orderid": "10816",
                                    "prevdate": "2015-09-25"
                                },
                                {
                                    "CustomerId": "32",
                                    "orderdate": "2016-03-09",
                                    "orderid": "10936",
                                    "prevdate": "2016-01-06"
                                },
                                {
                                    "CustomerId": "32",
                                    "orderdate": "2016-04-07",
                                    "orderid": "11006",
                                    "prevdate": "2016-03-09"
                                },
                                {
                                    "CustomerId": "32",
                                    "orderdate": "2016-04-22",
                                    "orderid": "11040",
                                    "prevdate": "2016-04-07"
                                },
                                {
                                    "CustomerId": "32",
                                    "orderdate": "2016-04-30",
                                    "orderid": "11061",
                                    "prevdate": "2016-04-22"
                                },
                                {
                                    "CustomerId": "33",
                                    "orderdate": "2014-07-30",
                                    "orderid": "10268",
                                    "prevdate": "NULL"
                                },
                                {
                                    "CustomerId": "33",
                                    "orderdate": "2015-12-18",
                                    "orderid": "10785",
                                    "prevdate": "2014-07-30"
                                },
                                {
                                    "CustomerId": "34",
                                    "orderdate": "2014-07-08",
                                    "orderid": "10250",
                                    "prevdate": "NULL"
                                },
                                {
                                    "CustomerId": "34",
                                    "orderdate": "2014-07-10",
                                    "orderid": "10253",
                                    "prevdate": "2014-07-08"
                                },
                                {
                                    "CustomerId": "34",
                                    "orderdate": "2015-05-19",
                                    "orderid": "10541",
                                    "prevdate": "2014-07-10"
                                },
                                {
                                    "CustomerId": "34",
                                    "orderdate": "2015-08-26",
                                    "orderid": "10645",
                                    "prevdate": "2015-05-19"
                                },
                                {
                                    "CustomerId": "34",
                                    "orderdate": "2015-10-02",
                                    "orderid": "10690",
                                    "prevdate": "2015-08-26"
                                },
                                {
                                    "CustomerId": "34",
                                    "orderdate": "2015-12-09",
                                    "orderid": "10770",
                                    "prevdate": "2015-10-02"
                                },
                                {
                                    "CustomerId": "34",
                                    "orderdate": "2015-12-18",
                                    "orderid": "10783",
                                    "prevdate": "2015-12-09"
                                },
                                {
                                    "CustomerId": "34",
                                    "orderdate": "2016-02-13",
                                    "orderid": "10886",
                                    "prevdate": "2015-12-18"
                                },
                                {
                                    "CustomerId": "34",
                                    "orderdate": "2016-02-24",
                                    "orderid": "10903",
                                    "prevdate": "2016-02-13"
                                },
                                {
                                    "CustomerId": "34",
                                    "orderdate": "2016-03-03",
                                    "orderid": "10922",
                                    "prevdate": "2016-02-24"
                                },
                                {
                                    "CustomerId": "34",
                                    "orderdate": "2016-03-04",
                                    "orderid": "10925",
                                    "prevdate": "2016-03-03"
                                },
                                {
                                    "CustomerId": "34",
                                    "orderdate": "2016-03-27",
                                    "orderid": "10981",
                                    "prevdate": "2016-03-04"
                                },
                                {
                                    "CustomerId": "34",
                                    "orderdate": "2016-04-14",
                                    "orderid": "11022",
                                    "prevdate": "2016-03-27"
                                },
                                {
                                    "CustomerId": "34",
                                    "orderdate": "2016-04-27",
                                    "orderid": "11052",
                                    "prevdate": "2016-04-14"
                                },
                                {
                                    "CustomerId": "35",
                                    "orderdate": "2014-07-16",
                                    "orderid": "10257",
                                    "prevdate": "NULL"
                                },
                                {
                                    "CustomerId": "35",
                                    "orderdate": "2014-12-26",
                                    "orderid": "10395",
                                    "prevdate": "2014-07-16"
                                },
                                {
                                    "CustomerId": "35",
                                    "orderdate": "2015-03-17",
                                    "orderid": "10476",
                                    "prevdate": "2014-12-26"
                                },
                                {
                                    "CustomerId": "35",
                                    "orderdate": "2015-03-26",
                                    "orderid": "10486",
                                    "prevdate": "2015-03-17"
                                },
                                {
                                    "CustomerId": "35",
                                    "orderdate": "2015-03-31",
                                    "orderid": "10490",
                                    "prevdate": "2015-03-26"
                                },
                                {
                                    "CustomerId": "35",
                                    "orderdate": "2015-04-07",
                                    "orderid": "10498",
                                    "prevdate": "2015-03-31"
                                },
                                {
                                    "CustomerId": "35",
                                    "orderdate": "2015-05-29",
                                    "orderid": "10552",
                                    "prevdate": "2015-04-07"
                                },
                                {
                                    "CustomerId": "35",
                                    "orderdate": "2015-07-16",
                                    "orderid": "10601",
                                    "prevdate": "2015-05-29"
                                },
                                {
                                    "CustomerId": "35",
                                    "orderdate": "2015-07-29",
                                    "orderid": "10613",
                                    "prevdate": "2015-07-16"
                                },
                                {
                                    "CustomerId": "35",
                                    "orderdate": "2015-08-22",
                                    "orderid": "10641",
                                    "prevdate": "2015-07-29"
                                },
                                {
                                    "CustomerId": "35",
                                    "orderdate": "2015-10-15",
                                    "orderid": "10705",
                                    "prevdate": "2015-08-22"
                                },
                                {
                                    "CustomerId": "35",
                                    "orderdate": "2015-12-25",
                                    "orderid": "10796",
                                    "prevdate": "2015-10-15"
                                },
                                {
                                    "CustomerId": "35",
                                    "orderdate": "2016-02-02",
                                    "orderid": "10863",
                                    "prevdate": "2015-12-25"
                                },
                                {
                                    "CustomerId": "35",
                                    "orderdate": "2016-02-23",
                                    "orderid": "10901",
                                    "prevdate": "2016-02-02"
                                },
                                {
                                    "CustomerId": "35",
                                    "orderdate": "2016-03-18",
                                    "orderid": "10957",
                                    "prevdate": "2016-02-23"
                                },
                                {
                                    "CustomerId": "35",
                                    "orderdate": "2016-03-19",
                                    "orderid": "10960",
                                    "prevdate": "2016-03-18"
                                },
                                {
                                    "CustomerId": "35",
                                    "orderdate": "2016-03-25",
                                    "orderid": "10976",
                                    "prevdate": "2016-03-19"
                                },
                                {
                                    "CustomerId": "35",
                                    "orderdate": "2016-04-28",
                                    "orderid": "11055",
                                    "prevdate": "2016-03-25"
                                },
                                {
                                    "CustomerId": "36",
                                    "orderdate": "2014-12-06",
                                    "orderid": "10375",
                                    "prevdate": "NULL"
                                },
                                {
                                    "CustomerId": "36",
                                    "orderdate": "2014-12-25",
                                    "orderid": "10394",
                                    "prevdate": "2014-12-06"
                                },
                                {
                                    "CustomerId": "36",
                                    "orderdate": "2015-01-15",
                                    "orderid": "10415",
                                    "prevdate": "2014-12-25"
                                },
                                {
                                    "CustomerId": "36",
                                    "orderdate": "2015-07-16",
                                    "orderid": "10600",
                                    "prevdate": "2015-01-15"
                                },
                                {
                                    "CustomerId": "36",
                                    "orderdate": "2015-09-08",
                                    "orderid": "10660",
                                    "prevdate": "2015-07-16"
                                },
                                {
                                    "CustomerId": "37",
                                    "orderdate": "2014-09-05",
                                    "orderid": "10298",
                                    "prevdate": "NULL"
                                },
                                {
                                    "CustomerId": "37",
                                    "orderdate": "2014-09-19",
                                    "orderid": "10309",
                                    "prevdate": "2014-09-05"
                                },
                                {
                                    "CustomerId": "37",
                                    "orderdate": "2014-10-22",
                                    "orderid": "10335",
                                    "prevdate": "2014-09-19"
                                },
                                {
                                    "CustomerId": "37",
                                    "orderdate": "2014-12-05",
                                    "orderid": "10373",
                                    "prevdate": "2014-10-22"
                                },
                                {
                                    "CustomerId": "37",
                                    "orderdate": "2014-12-12",
                                    "orderid": "10380",
                                    "prevdate": "2014-12-05"
                                },
                                {
                                    "CustomerId": "37",
                                    "orderdate": "2015-01-29",
                                    "orderid": "10429",
                                    "prevdate": "2014-12-12"
                                },
                                {
                                    "CustomerId": "37",
                                    "orderdate": "2015-04-11",
                                    "orderid": "10503",
                                    "prevdate": "2015-01-29"
                                },
                                {
                                    "CustomerId": "37",
                                    "orderdate": "2015-04-24",
                                    "orderid": "10516",
                                    "prevdate": "2015-04-11"
                                },
                                {
                                    "CustomerId": "37",
                                    "orderdate": "2015-06-12",
                                    "orderid": "10567",
                                    "prevdate": "2015-04-24"
                                },
                                {
                                    "CustomerId": "37",
                                    "orderdate": "2015-08-27",
                                    "orderid": "10646",
                                    "prevdate": "2015-06-12"
                                },
                                {
                                    "CustomerId": "37",
                                    "orderdate": "2015-09-09",
                                    "orderid": "10661",
                                    "prevdate": "2015-08-27"
                                },
                                {
                                    "CustomerId": "37",
                                    "orderdate": "2015-09-30",
                                    "orderid": "10687",
                                    "prevdate": "2015-09-09"
                                },
                                {
                                    "CustomerId": "37",
                                    "orderdate": "2015-10-13",
                                    "orderid": "10701",
                                    "prevdate": "2015-09-30"
                                },
                                {
                                    "CustomerId": "37",
                                    "orderdate": "2015-10-21",
                                    "orderid": "10712",
                                    "prevdate": "2015-10-13"
                                },
                                {
                                    "CustomerId": "37",
                                    "orderdate": "2015-11-11",
                                    "orderid": "10736",
                                    "prevdate": "2015-10-21"
                                },
                                {
                                    "CustomerId": "37",
                                    "orderdate": "2016-02-19",
                                    "orderid": "10897",
                                    "prevdate": "2015-11-11"
                                },
                                {
                                    "CustomerId": "37",
                                    "orderdate": "2016-02-26",
                                    "orderid": "10912",
                                    "prevdate": "2016-02-19"
                                },
                                {
                                    "CustomerId": "37",
                                    "orderdate": "2016-03-30",
                                    "orderid": "10985",
                                    "prevdate": "2016-02-26"
                                },
                                {
                                    "CustomerId": "37",
                                    "orderdate": "2016-04-30",
                                    "orderid": "11063",
                                    "prevdate": "2016-03-30"
                                },
                                {
                                    "CustomerId": "38",
                                    "orderdate": "2014-09-26",
                                    "orderid": "10315",
                                    "prevdate": "NULL"
                                },
                                {
                                    "CustomerId": "38",
                                    "orderdate": "2014-10-01",
                                    "orderid": "10318",
                                    "prevdate": "2014-09-26"
                                },
                                {
                                    "CustomerId": "38",
                                    "orderdate": "2014-10-03",
                                    "orderid": "10321",
                                    "prevdate": "2014-10-01"
                                },
                                {
                                    "CustomerId": "38",
                                    "orderdate": "2015-03-13",
                                    "orderid": "10473",
                                    "prevdate": "2014-10-03"
                                },
                                {
                                    "CustomerId": "38",
                                    "orderdate": "2015-08-05",
                                    "orderid": "10621",
                                    "prevdate": "2015-03-13"
                                },
                                {
                                    "CustomerId": "38",
                                    "orderdate": "2015-09-18",
                                    "orderid": "10674",
                                    "prevdate": "2015-08-05"
                                },
                                {
                                    "CustomerId": "38",
                                    "orderdate": "2015-11-20",
                                    "orderid": "10749",
                                    "prevdate": "2015-09-18"
                                },
                                {
                                    "CustomerId": "38",
                                    "orderdate": "2015-12-26",
                                    "orderid": "10798",
                                    "prevdate": "2015-11-20"
                                },
                                {
                                    "CustomerId": "38",
                                    "orderdate": "2016-01-13",
                                    "orderid": "10829",
                                    "prevdate": "2015-12-26"
                                },
                                {
                                    "CustomerId": "38",
                                    "orderdate": "2016-03-06",
                                    "orderid": "10933",
                                    "prevdate": "2016-01-13"
                                },
                                {
                                    "CustomerId": "39",
                                    "orderdate": "2014-10-07",
                                    "orderid": "10323",
                                    "prevdate": "NULL"
                                },
                                {
                                    "CustomerId": "39",
                                    "orderdate": "2014-10-09",
                                    "orderid": "10325",
                                    "prevdate": "2014-10-07"
                                },
                                {
                                    "CustomerId": "39",
                                    "orderdate": "2015-02-25",
                                    "orderid": "10456",
                                    "prevdate": "2014-10-09"
                                },
                                {
                                    "CustomerId": "39",
                                    "orderdate": "2015-02-25",
                                    "orderid": "10457",
                                    "prevdate": "2015-02-25"
                                },
                                {
                                    "CustomerId": "39",
                                    "orderdate": "2015-03-07",
                                    "orderid": "10468",
                                    "prevdate": "2015-02-25"
                                },
                                {
                                    "CustomerId": "39",
                                    "orderdate": "2015-04-15",
                                    "orderid": "10506",
                                    "prevdate": "2015-03-07"
                                },
                                {
                                    "CustomerId": "39",
                                    "orderdate": "2015-05-20",
                                    "orderid": "10542",
                                    "prevdate": "2015-04-15"
                                },
                                {
                                    "CustomerId": "39",
                                    "orderdate": "2015-08-13",
                                    "orderid": "10630",
                                    "prevdate": "2015-05-20"
                                },
                                {
                                    "CustomerId": "39",
                                    "orderdate": "2015-10-27",
                                    "orderid": "10718",
                                    "prevdate": "2015-08-13"
                                },
                                {
                                    "CustomerId": "39",
                                    "orderdate": "2015-12-26",
                                    "orderid": "10799",
                                    "prevdate": "2015-10-27"
                                },
                                {
                                    "CustomerId": "39",
                                    "orderdate": "2016-01-06",
                                    "orderid": "10817",
                                    "prevdate": "2015-12-26"
                                },
                                {
                                    "CustomerId": "39",
                                    "orderdate": "2016-01-23",
                                    "orderid": "10849",
                                    "prevdate": "2016-01-06"
                                },
                                {
                                    "CustomerId": "39",
                                    "orderdate": "2016-02-18",
                                    "orderid": "10893",
                                    "prevdate": "2016-01-23"
                                },
                                {
                                    "CustomerId": "39",
                                    "orderdate": "2016-04-16",
                                    "orderid": "11028",
                                    "prevdate": "2016-02-18"
                                },
                                {
                                    "CustomerId": "40",
                                    "orderdate": "2016-01-29",
                                    "orderid": "10858",
                                    "prevdate": "NULL"
                                },
                                {
                                    "CustomerId": "40",
                                    "orderdate": "2016-03-05",
                                    "orderid": "10927",
                                    "prevdate": "2016-01-29"
                                },
                                {
                                    "CustomerId": "40",
                                    "orderdate": "2016-03-24",
                                    "orderid": "10972",
                                    "prevdate": "2016-03-05"
                                },
                                {
                                    "CustomerId": "40",
                                    "orderdate": "2016-03-24",
                                    "orderid": "10973",
                                    "prevdate": "2016-03-24"
                                },
                                {
                                    "CustomerId": "41",
                                    "orderdate": "2014-11-11",
                                    "orderid": "10350",
                                    "prevdate": "NULL"
                                },
                                {
                                    "CustomerId": "41",
                                    "orderdate": "2014-11-20",
                                    "orderid": "10358",
                                    "prevdate": "2014-11-11"
                                },
                                {
                                    "CustomerId": "41",
                                    "orderdate": "2014-12-03",
                                    "orderid": "10371",
                                    "prevdate": "2014-11-20"
                                },
                                {
                                    "CustomerId": "41",
                                    "orderdate": "2015-01-14",
                                    "orderid": "10413",
                                    "prevdate": "2014-12-03"
                                },
                                {
                                    "CustomerId": "41",
                                    "orderdate": "2015-01-24",
                                    "orderid": "10425",
                                    "prevdate": "2015-01-14"
                                },
                                {
                                    "CustomerId": "41",
                                    "orderdate": "2015-02-21",
                                    "orderid": "10454",
                                    "prevdate": "2015-01-24"
                                },
                                {
                                    "CustomerId": "41",
                                    "orderdate": "2015-04-02",
                                    "orderid": "10493",
                                    "prevdate": "2015-02-21"
                                },
                                {
                                    "CustomerId": "41",
                                    "orderdate": "2015-04-09",
                                    "orderid": "10500",
                                    "prevdate": "2015-04-02"
                                },
                                {
                                    "CustomerId": "41",
                                    "orderdate": "2015-07-25",
                                    "orderid": "10610",
                                    "prevdate": "2015-04-09"
                                },
                                {
                                    "CustomerId": "41",
                                    "orderdate": "2015-08-14",
                                    "orderid": "10631",
                                    "prevdate": "2015-07-25"
                                },
                                {
                                    "CustomerId": "41",
                                    "orderdate": "2015-12-19",
                                    "orderid": "10787",
                                    "prevdate": "2015-08-14"
                                },
                                {
                                    "CustomerId": "41",
                                    "orderdate": "2016-01-14",
                                    "orderid": "10832",
                                    "prevdate": "2015-12-19"
                                },
                                {
                                    "CustomerId": "41",
                                    "orderdate": "2016-03-03",
                                    "orderid": "10923",
                                    "prevdate": "2016-01-14"
                                },
                                {
                                    "CustomerId": "41",
                                    "orderdate": "2016-04-27",
                                    "orderid": "11051",
                                    "prevdate": "2016-03-03"
                                },
                                {
                                    "CustomerId": "42",
                                    "orderdate": "2015-04-03",
                                    "orderid": "10495",
                                    "prevdate": "NULL"
                                },
                                {
                                    "CustomerId": "42",
                                    "orderdate": "2015-08-05",
                                    "orderid": "10620",
                                    "prevdate": "2015-04-03"
                                },
                                {
                                    "CustomerId": "42",
                                    "orderdate": "2016-01-01",
                                    "orderid": "10810",
                                    "prevdate": "2015-08-05"
                                },
                                {
                                    "CustomerId": "43",
                                    "orderdate": "2015-03-21",
                                    "orderid": "10482",
                                    "prevdate": "NULL"
                                },
                                {
                                    "CustomerId": "43",
                                    "orderdate": "2015-05-22",
                                    "orderid": "10545",
                                    "prevdate": "2015-03-21"
                                },
                                {
                                    "CustomerId": "44",
                                    "orderdate": "2014-08-13",
                                    "orderid": "10279",
                                    "prevdate": "NULL"
                                },
                                {
                                    "CustomerId": "44",
                                    "orderdate": "2014-08-19",
                                    "orderid": "10284",
                                    "prevdate": "2014-08-13"
                                },
                                {
                                    "CustomerId": "44",
                                    "orderdate": "2014-10-31",
                                    "orderid": "10343",
                                    "prevdate": "2014-08-19"
                                },
                                {
                                    "CustomerId": "44",
                                    "orderdate": "2015-04-04",
                                    "orderid": "10497",
                                    "prevdate": "2014-10-31"
                                },
                                {
                                    "CustomerId": "44",
                                    "orderdate": "2015-04-30",
                                    "orderid": "10522",
                                    "prevdate": "2015-04-04"
                                },
                                {
                                    "CustomerId": "44",
                                    "orderdate": "2015-05-12",
                                    "orderid": "10534",
                                    "prevdate": "2015-04-30"
                                },
                                {
                                    "CustomerId": "44",
                                    "orderdate": "2015-05-14",
                                    "orderid": "10536",
                                    "prevdate": "2015-05-12"
                                },
                                {
                                    "CustomerId": "44",
                                    "orderdate": "2015-06-03",
                                    "orderid": "10557",
                                    "prevdate": "2015-05-14"
                                },
                                {
                                    "CustomerId": "44",
                                    "orderdate": "2015-07-08",
                                    "orderid": "10592",
                                    "prevdate": "2015-06-03"
                                },
                                {
                                    "CustomerId": "44",
                                    "orderdate": "2015-07-09",
                                    "orderid": "10593",
                                    "prevdate": "2015-07-08"
                                },
                                {
                                    "CustomerId": "44",
                                    "orderdate": "2015-12-10",
                                    "orderid": "10772",
                                    "prevdate": "2015-07-09"
                                },
                                {
                                    "CustomerId": "44",
                                    "orderdate": "2016-01-30",
                                    "orderid": "10862",
                                    "prevdate": "2015-12-10"
                                },
                                {
                                    "CustomerId": "44",
                                    "orderdate": "2016-02-17",
                                    "orderid": "10891",
                                    "prevdate": "2016-01-30"
                                },
                                {
                                    "CustomerId": "44",
                                    "orderdate": "2016-03-09",
                                    "orderid": "10934",
                                    "prevdate": "2016-02-17"
                                },
                                {
                                    "CustomerId": "44",
                                    "orderdate": "2016-05-05",
                                    "orderid": "11070",
                                    "prevdate": "2016-03-09"
                                },
                                {
                                    "CustomerId": "45",
                                    "orderdate": "2015-06-25",
                                    "orderid": "10579",
                                    "prevdate": "NULL"
                                },
                                {
                                    "CustomerId": "45",
                                    "orderdate": "2015-10-27",
                                    "orderid": "10719",
                                    "prevdate": "2015-06-25"
                                },
                                {
                                    "CustomerId": "45",
                                    "orderdate": "2015-11-10",
                                    "orderid": "10735",
                                    "prevdate": "2015-10-27"
                                },
                                {
                                    "CustomerId": "45",
                                    "orderdate": "2016-02-12",
                                    "orderid": "10884",
                                    "prevdate": "2015-11-10"
                                },
                                {
                                    "CustomerId": "46",
                                    "orderdate": "2014-08-16",
                                    "orderid": "10283",
                                    "prevdate": "NULL"
                                },
                                {
                                    "CustomerId": "46",
                                    "orderdate": "2014-09-03",
                                    "orderid": "10296",
                                    "prevdate": "2014-08-16"
                                },
                                {
                                    "CustomerId": "46",
                                    "orderdate": "2014-10-16",
                                    "orderid": "10330",
                                    "prevdate": "2014-09-03"
                                },
                                {
                                    "CustomerId": "46",
                                    "orderdate": "2014-11-19",
                                    "orderid": "10357",
                                    "prevdate": "2014-10-16"
                                },
                                {
                                    "CustomerId": "46",
                                    "orderdate": "2014-12-12",
                                    "orderid": "10381",
                                    "prevdate": "2014-11-19"
                                },
                                {
                                    "CustomerId": "46",
                                    "orderdate": "2015-02-28",
                                    "orderid": "10461",
                                    "prevdate": "2014-12-12"
                                },
                                {
                                    "CustomerId": "46",
                                    "orderdate": "2015-04-08",
                                    "orderid": "10499",
                                    "prevdate": "2015-02-28"
                                },
                                {
                                    "CustomerId": "46",
                                    "orderdate": "2015-05-21",
                                    "orderid": "10543",
                                    "prevdate": "2015-04-08"
                                },
                                {
                                    "CustomerId": "46",
                                    "orderdate": "2015-12-16",
                                    "orderid": "10780",
                                    "prevdate": "2015-05-21"
                                },
                                {
                                    "CustomerId": "46",
                                    "orderdate": "2016-01-09",
                                    "orderid": "10823",
                                    "prevdate": "2015-12-16"
                                },
                                {
                                    "CustomerId": "46",
                                    "orderdate": "2016-02-20",
                                    "orderid": "10899",
                                    "prevdate": "2016-01-09"
                                },
                                {
                                    "CustomerId": "46",
                                    "orderdate": "2016-04-03",
                                    "orderid": "10997",
                                    "prevdate": "2016-02-20"
                                },
                                {
                                    "CustomerId": "46",
                                    "orderdate": "2016-05-01",
                                    "orderid": "11065",
                                    "prevdate": "2016-04-03"
                                },
                                {
                                    "CustomerId": "46",
                                    "orderdate": "2016-05-05",
                                    "orderid": "11071",
                                    "prevdate": "2016-05-01"
                                },
                                {
                                    "CustomerId": "47",
                                    "orderdate": "2015-01-06",
                                    "orderid": "10405",
                                    "prevdate": "NULL"
                                },
                                {
                                    "CustomerId": "47",
                                    "orderdate": "2015-03-25",
                                    "orderid": "10485",
                                    "prevdate": "2015-01-06"
                                },
                                {
                                    "CustomerId": "47",
                                    "orderdate": "2015-08-20",
                                    "orderid": "10638",
                                    "prevdate": "2015-03-25"
                                },
                                {
                                    "CustomerId": "47",
                                    "orderdate": "2015-10-08",
                                    "orderid": "10697",
                                    "prevdate": "2015-08-20"
                                },
                                {
                                    "CustomerId": "47",
                                    "orderdate": "2015-11-04",
                                    "orderid": "10729",
                                    "prevdate": "2015-10-08"
                                },
                                {
                                    "CustomerId": "47",
                                    "orderdate": "2016-01-02",
                                    "orderid": "10811",
                                    "prevdate": "2015-11-04"
                                },
                                {
                                    "CustomerId": "47",
                                    "orderdate": "2016-01-19",
                                    "orderid": "10838",
                                    "prevdate": "2016-01-02"
                                },
                                {
                                    "CustomerId": "47",
                                    "orderdate": "2016-01-19",
                                    "orderid": "10840",
                                    "prevdate": "2016-01-19"
                                },
                                {
                                    "CustomerId": "47",
                                    "orderdate": "2016-03-02",
                                    "orderid": "10919",
                                    "prevdate": "2016-01-19"
                                },
                                {
                                    "CustomerId": "47",
                                    "orderdate": "2016-03-17",
                                    "orderid": "10954",
                                    "prevdate": "2016-03-02"
                                },
                                {
                                    "CustomerId": "47",
                                    "orderdate": "2016-04-10",
                                    "orderid": "11014",
                                    "prevdate": "2016-03-17"
                                },
                                {
                                    "CustomerId": "47",
                                    "orderdate": "2016-04-21",
                                    "orderid": "11039",
                                    "prevdate": "2016-04-10"
                                },
                                {
                                    "CustomerId": "48",
                                    "orderdate": "2014-09-17",
                                    "orderid": "10307",
                                    "prevdate": "NULL"
                                },
                                {
                                    "CustomerId": "48",
                                    "orderdate": "2014-09-30",
                                    "orderid": "10317",
                                    "prevdate": "2014-09-17"
                                },
                                {
                                    "CustomerId": "48",
                                    "orderdate": "2015-05-21",
                                    "orderid": "10544",
                                    "prevdate": "2014-09-30"
                                },
                                {
                                    "CustomerId": "48",
                                    "orderdate": "2015-09-09",
                                    "orderid": "10662",
                                    "prevdate": "2015-05-21"
                                },
                                {
                                    "CustomerId": "48",
                                    "orderdate": "2015-09-11",
                                    "orderid": "10665",
                                    "prevdate": "2015-09-09"
                                },
                                {
                                    "CustomerId": "48",
                                    "orderdate": "2016-02-03",
                                    "orderid": "10867",
                                    "prevdate": "2015-09-11"
                                },
                                {
                                    "CustomerId": "48",
                                    "orderdate": "2016-02-12",
                                    "orderid": "10883",
                                    "prevdate": "2016-02-03"
                                },
                                {
                                    "CustomerId": "48",
                                    "orderdate": "2016-04-13",
                                    "orderid": "11018",
                                    "prevdate": "2016-02-12"
                                },
                                {
                                    "CustomerId": "49",
                                    "orderdate": "2014-08-07",
                                    "orderid": "10275",
                                    "prevdate": "NULL"
                                },
                                {
                                    "CustomerId": "49",
                                    "orderdate": "2014-09-09",
                                    "orderid": "10300",
                                    "prevdate": "2014-08-07"
                                },
                                {
                                    "CustomerId": "49",
                                    "orderdate": "2015-01-03",
                                    "orderid": "10404",
                                    "prevdate": "2014-09-09"
                                },
                                {
                                    "CustomerId": "49",
                                    "orderdate": "2015-03-06",
                                    "orderid": "10467",
                                    "prevdate": "2015-01-03"
                                },
                                {
                                    "CustomerId": "49",
                                    "orderdate": "2015-08-18",
                                    "orderid": "10635",
                                    "prevdate": "2015-03-06"
                                },
                                {
                                    "CustomerId": "49",
                                    "orderdate": "2015-11-25",
                                    "orderid": "10754",
                                    "prevdate": "2015-08-18"
                                },
                                {
                                    "CustomerId": "49",
                                    "orderdate": "2015-12-18",
                                    "orderid": "10784",
                                    "prevdate": "2015-11-25"
                                },
                                {
                                    "CustomerId": "49",
                                    "orderdate": "2016-01-07",
                                    "orderid": "10818",
                                    "prevdate": "2015-12-18"
                                },
                                {
                                    "CustomerId": "49",
                                    "orderdate": "2016-03-10",
                                    "orderid": "10939",
                                    "prevdate": "2016-01-07"
                                },
                                {
                                    "CustomerId": "49",
                                    "orderdate": "2016-03-16",
                                    "orderid": "10950",
                                    "prevdate": "2016-03-10"
                                },
                                {
                                    "CustomerId": "50",
                                    "orderdate": "2015-05-07",
                                    "orderid": "10529",
                                    "prevdate": "NULL"
                                },
                                {
                                    "CustomerId": "50",
                                    "orderdate": "2015-08-28",
                                    "orderid": "10649",
                                    "prevdate": "2015-05-07"
                                },
                                {
                                    "CustomerId": "50",
                                    "orderdate": "2015-12-01",
                                    "orderid": "10760",
                                    "prevdate": "2015-08-28"
                                },
                                {
                                    "CustomerId": "50",
                                    "orderdate": "2016-02-17",
                                    "orderid": "10892",
                                    "prevdate": "2015-12-01"
                                },
                                {
                                    "CustomerId": "50",
                                    "orderdate": "2016-02-19",
                                    "orderid": "10896",
                                    "prevdate": "2016-02-17"
                                },
                                {
                                    "CustomerId": "50",
                                    "orderdate": "2016-03-26",
                                    "orderid": "10978",
                                    "prevdate": "2016-02-19"
                                },
                                {
                                    "CustomerId": "50",
                                    "orderdate": "2016-04-07",
                                    "orderid": "11004",
                                    "prevdate": "2016-03-26"
                                },
                                {
                                    "CustomerId": "51",
                                    "orderdate": "2014-10-17",
                                    "orderid": "10332",
                                    "prevdate": "NULL"
                                },
                                {
                                    "CustomerId": "51",
                                    "orderdate": "2014-10-28",
                                    "orderid": "10339",
                                    "prevdate": "2014-10-17"
                                },
                                {
                                    "CustomerId": "51",
                                    "orderdate": "2014-12-09",
                                    "orderid": "10376",
                                    "prevdate": "2014-10-28"
                                },
                                {
                                    "CustomerId": "51",
                                    "orderdate": "2015-01-23",
                                    "orderid": "10424",
                                    "prevdate": "2014-12-09"
                                },
                                {
                                    "CustomerId": "51",
                                    "orderdate": "2015-02-07",
                                    "orderid": "10439",
                                    "prevdate": "2015-01-23"
                                },
                                {
                                    "CustomerId": "51",
                                    "orderdate": "2015-04-14",
                                    "orderid": "10505",
                                    "prevdate": "2015-02-07"
                                },
                                {
                                    "CustomerId": "51",
                                    "orderdate": "2015-06-11",
                                    "orderid": "10565",
                                    "prevdate": "2015-04-14"
                                },
                                {
                                    "CustomerId": "51",
                                    "orderdate": "2015-06-17",
                                    "orderid": "10570",
                                    "prevdate": "2015-06-11"
                                },
                                {
                                    "CustomerId": "51",
                                    "orderdate": "2015-07-07",
                                    "orderid": "10590",
                                    "prevdate": "2015-06-17"
                                },
                                {
                                    "CustomerId": "51",
                                    "orderdate": "2015-07-21",
                                    "orderid": "10605",
                                    "prevdate": "2015-07-07"
                                },
                                {
                                    "CustomerId": "51",
                                    "orderdate": "2015-08-01",
                                    "orderid": "10618",
                                    "prevdate": "2015-07-21"
                                },
                                {
                                    "CustomerId": "51",
                                    "orderdate": "2015-08-04",
                                    "orderid": "10619",
                                    "prevdate": "2015-08-01"
                                },
                                {
                                    "CustomerId": "51",
                                    "orderdate": "2015-10-30",
                                    "orderid": "10724",
                                    "prevdate": "2015-08-04"
                                },
                                {
                                    "CustomerId": "52",
                                    "orderdate": "2014-08-09",
                                    "orderid": "10277",
                                    "prevdate": "NULL"
                                },
                                {
                                    "CustomerId": "52",
                                    "orderdate": "2015-06-20",
                                    "orderid": "10575",
                                    "prevdate": "2014-08-09"
                                },
                                {
                                    "CustomerId": "52",
                                    "orderdate": "2015-10-09",
                                    "orderid": "10699",
                                    "prevdate": "2015-06-20"
                                },
                                {
                                    "CustomerId": "52",
                                    "orderdate": "2015-12-16",
                                    "orderid": "10779",
                                    "prevdate": "2015-10-09"
                                },
                                {
                                    "CustomerId": "52",
                                    "orderdate": "2016-03-12",
                                    "orderid": "10945",
                                    "prevdate": "2015-12-16"
                                },
                                {
                                    "CustomerId": "53",
                                    "orderdate": "2015-04-24",
                                    "orderid": "10517",
                                    "prevdate": "NULL"
                                },
                                {
                                    "CustomerId": "53",
                                    "orderdate": "2015-11-24",
                                    "orderid": "10752",
                                    "prevdate": "2015-04-24"
                                },
                                {
                                    "CustomerId": "53",
                                    "orderdate": "2016-04-29",
                                    "orderid": "11057",
                                    "prevdate": "2015-11-24"
                                },
                                {
                                    "CustomerId": "54",
                                    "orderdate": "2015-01-09",
                                    "orderid": "10409",
                                    "prevdate": "NULL"
                                },
                                {
                                    "CustomerId": "54",
                                    "orderdate": "2015-05-08",
                                    "orderid": "10531",
                                    "prevdate": "2015-01-09"
                                },
                                {
                                    "CustomerId": "54",
                                    "orderdate": "2016-02-20",
                                    "orderid": "10898",
                                    "prevdate": "2015-05-08"
                                },
                                {
                                    "CustomerId": "54",
                                    "orderdate": "2016-03-18",
                                    "orderid": "10958",
                                    "prevdate": "2016-02-20"
                                },
                                {
                                    "CustomerId": "54",
                                    "orderdate": "2016-03-30",
                                    "orderid": "10986",
                                    "prevdate": "2016-03-18"
                                },
                                {
                                    "CustomerId": "55",
                                    "orderdate": "2014-09-13",
                                    "orderid": "10305",
                                    "prevdate": "NULL"
                                },
                                {
                                    "CustomerId": "55",
                                    "orderdate": "2014-10-25",
                                    "orderid": "10338",
                                    "prevdate": "2014-09-13"
                                },
                                {
                                    "CustomerId": "55",
                                    "orderdate": "2015-02-10",
                                    "orderid": "10441",
                                    "prevdate": "2014-10-25"
                                },
                                {
                                    "CustomerId": "55",
                                    "orderdate": "2015-07-09",
                                    "orderid": "10594",
                                    "prevdate": "2015-02-10"
                                },
                                {
                                    "CustomerId": "55",
                                    "orderdate": "2015-09-24",
                                    "orderid": "10680",
                                    "prevdate": "2015-07-09"
                                },
                                {
                                    "CustomerId": "55",
                                    "orderdate": "2015-10-16",
                                    "orderid": "10706",
                                    "prevdate": "2015-09-24"
                                },
                                {
                                    "CustomerId": "55",
                                    "orderdate": "2016-01-01",
                                    "orderid": "10808",
                                    "prevdate": "2015-10-16"
                                },
                                {
                                    "CustomerId": "55",
                                    "orderdate": "2016-01-27",
                                    "orderid": "10855",
                                    "prevdate": "2016-01-01"
                                },
                                {
                                    "CustomerId": "55",
                                    "orderdate": "2016-03-20",
                                    "orderid": "10965",
                                    "prevdate": "2016-01-27"
                                },
                                {
                                    "CustomerId": "55",
                                    "orderdate": "2016-04-20",
                                    "orderid": "11034",
                                    "prevdate": "2016-03-20"
                                },
                                {
                                    "CustomerId": "56",
                                    "orderdate": "2014-07-19",
                                    "orderid": "10260",
                                    "prevdate": "NULL"
                                },
                                {
                                    "CustomerId": "56",
                                    "orderdate": "2015-01-07",
                                    "orderid": "10407",
                                    "prevdate": "2014-07-19"
                                },
                                {
                                    "CustomerId": "56",
                                    "orderdate": "2015-04-16",
                                    "orderid": "10508",
                                    "prevdate": "2015-01-07"
                                },
                                {
                                    "CustomerId": "56",
                                    "orderdate": "2015-05-30",
                                    "orderid": "10554",
                                    "prevdate": "2015-04-16"
                                },
                                {
                                    "CustomerId": "56",
                                    "orderdate": "2015-06-26",
                                    "orderid": "10580",
                                    "prevdate": "2015-05-30"
                                },
                                {
                                    "CustomerId": "56",
                                    "orderdate": "2015-09-26",
                                    "orderid": "10684",
                                    "prevdate": "2015-06-26"
                                },
                                {
                                    "CustomerId": "56",
                                    "orderdate": "2015-12-05",
                                    "orderid": "10766",
                                    "prevdate": "2015-09-26"
                                },
                                {
                                    "CustomerId": "56",
                                    "orderdate": "2016-01-15",
                                    "orderid": "10833",
                                    "prevdate": "2015-12-05"
                                },
                                {
                                    "CustomerId": "56",
                                    "orderdate": "2016-04-03",
                                    "orderid": "10999",
                                    "prevdate": "2016-01-15"
                                },
                                {
                                    "CustomerId": "56",
                                    "orderdate": "2016-04-14",
                                    "orderid": "11020",
                                    "prevdate": "2016-04-03"
                                },
                                {
                                    "CustomerId": "58",
                                    "orderdate": "2014-10-04",
                                    "orderid": "10322",
                                    "prevdate": "NULL"
                                },
                                {
                                    "CustomerId": "58",
                                    "orderdate": "2014-11-14",
                                    "orderid": "10354",
                                    "prevdate": "2014-10-04"
                                },
                                {
                                    "CustomerId": "58",
                                    "orderdate": "2015-03-13",
                                    "orderid": "10474",
                                    "prevdate": "2014-11-14"
                                },
                                {
                                    "CustomerId": "58",
                                    "orderdate": "2015-04-10",
                                    "orderid": "10502",
                                    "prevdate": "2015-03-13"
                                },
                                {
                                    "CustomerId": "58",
                                    "orderdate": "2016-04-02",
                                    "orderid": "10995",
                                    "prevdate": "2015-04-10"
                                },
                                {
                                    "CustomerId": "58",
                                    "orderdate": "2016-05-05",
                                    "orderid": "11073",
                                    "prevdate": "2016-04-02"
                                },
                                {
                                    "CustomerId": "59",
                                    "orderdate": "2014-11-13",
                                    "orderid": "10353",
                                    "prevdate": "NULL"
                                },
                                {
                                    "CustomerId": "59",
                                    "orderdate": "2014-12-24",
                                    "orderid": "10392",
                                    "prevdate": "2014-11-13"
                                },
                                {
                                    "CustomerId": "59",
                                    "orderdate": "2015-01-27",
                                    "orderid": "10427",
                                    "prevdate": "2014-12-24"
                                },
                                {
                                    "CustomerId": "59",
                                    "orderdate": "2015-03-28",
                                    "orderid": "10489",
                                    "prevdate": "2015-01-27"
                                },
                                {
                                    "CustomerId": "59",
                                    "orderdate": "2015-05-08",
                                    "orderid": "10530",
                                    "prevdate": "2015-03-28"
                                },
                                {
                                    "CustomerId": "59",
                                    "orderdate": "2015-07-11",
                                    "orderid": "10597",
                                    "prevdate": "2015-05-08"
                                },
                                {
                                    "CustomerId": "59",
                                    "orderdate": "2015-09-30",
                                    "orderid": "10686",
                                    "prevdate": "2015-07-11"
                                },
                                {
                                    "CustomerId": "59",
                                    "orderdate": "2015-11-19",
                                    "orderid": "10747",
                                    "prevdate": "2015-09-30"
                                },
                                {
                                    "CustomerId": "59",
                                    "orderdate": "2016-01-21",
                                    "orderid": "10844",
                                    "prevdate": "2015-11-19"
                                },
                                {
                                    "CustomerId": "59",
                                    "orderdate": "2016-04-27",
                                    "orderid": "11053",
                                    "prevdate": "2016-01-21"
                                },
                                {
                                    "CustomerId": "60",
                                    "orderdate": "2014-10-23",
                                    "orderid": "10336",
                                    "prevdate": "NULL"
                                },
                                {
                                    "CustomerId": "60",
                                    "orderdate": "2014-12-27",
                                    "orderid": "10397",
                                    "prevdate": "2014-10-23"
                                },
                                {
                                    "CustomerId": "60",
                                    "orderdate": "2015-02-03",
                                    "orderid": "10433",
                                    "prevdate": "2014-12-27"
                                },
                                {
                                    "CustomerId": "60",
                                    "orderdate": "2015-03-17",
                                    "orderid": "10477",
                                    "prevdate": "2015-02-03"
                                },
                                {
                                    "CustomerId": "60",
                                    "orderdate": "2016-04-08",
                                    "orderid": "11007",
                                    "prevdate": "2015-03-17"
                                },
                                {
                                    "CustomerId": "61",
                                    "orderdate": "2014-07-19",
                                    "orderid": "10261",
                                    "prevdate": "NULL"
                                },
                                {
                                    "CustomerId": "61",
                                    "orderdate": "2014-08-27",
                                    "orderid": "10291",
                                    "prevdate": "2014-07-19"
                                },
                                {
                                    "CustomerId": "61",
                                    "orderdate": "2014-12-11",
                                    "orderid": "10379",
                                    "prevdate": "2014-08-27"
                                },
                                {
                                    "CustomerId": "61",
                                    "orderdate": "2015-01-21",
                                    "orderid": "10421",
                                    "prevdate": "2014-12-11"
                                },
                                {
                                    "CustomerId": "61",
                                    "orderdate": "2015-07-02",
                                    "orderid": "10587",
                                    "prevdate": "2015-01-21"
                                },
                                {
                                    "CustomerId": "61",
                                    "orderdate": "2015-08-27",
                                    "orderid": "10647",
                                    "prevdate": "2015-07-02"
                                },
                                {
                                    "CustomerId": "61",
                                    "orderdate": "2015-10-28",
                                    "orderid": "10720",
                                    "prevdate": "2015-08-27"
                                },
                                {
                                    "CustomerId": "61",
                                    "orderdate": "2015-12-24",
                                    "orderid": "10794",
                                    "prevdate": "2015-10-28"
                                },
                                {
                                    "CustomerId": "61",
                                    "orderdate": "2016-03-31",
                                    "orderid": "10989",
                                    "prevdate": "2015-12-24"
                                },
                                {
                                    "CustomerId": "62",
                                    "orderdate": "2014-12-04",
                                    "orderid": "10372",
                                    "prevdate": "NULL"
                                },
                                {
                                    "CustomerId": "62",
                                    "orderdate": "2015-01-07",
                                    "orderid": "10406",
                                    "prevdate": "2014-12-04"
                                },
                                {
                                    "CustomerId": "62",
                                    "orderdate": "2015-03-26",
                                    "orderid": "10487",
                                    "prevdate": "2015-01-07"
                                },
                                {
                                    "CustomerId": "62",
                                    "orderdate": "2015-08-19",
                                    "orderid": "10637",
                                    "prevdate": "2015-03-26"
                                },
                                {
                                    "CustomerId": "62",
                                    "orderdate": "2015-09-05",
                                    "orderid": "10659",
                                    "prevdate": "2015-08-19"
                                },
                                {
                                    "CustomerId": "62",
                                    "orderdate": "2015-10-14",
                                    "orderid": "10704",
                                    "prevdate": "2015-09-05"
                                },
                                {
                                    "CustomerId": "62",
                                    "orderdate": "2015-11-04",
                                    "orderid": "10728",
                                    "prevdate": "2015-10-14"
                                },
                                {
                                    "CustomerId": "62",
                                    "orderdate": "2015-12-19",
                                    "orderid": "10786",
                                    "prevdate": "2015-11-04"
                                },
                                {
                                    "CustomerId": "62",
                                    "orderdate": "2016-02-04",
                                    "orderid": "10868",
                                    "prevdate": "2015-12-19"
                                },
                                {
                                    "CustomerId": "62",
                                    "orderdate": "2016-02-26",
                                    "orderid": "10913",
                                    "prevdate": "2016-02-04"
                                },
                                {
                                    "CustomerId": "62",
                                    "orderdate": "2016-02-27",
                                    "orderid": "10914",
                                    "prevdate": "2016-02-26"
                                },
                                {
                                    "CustomerId": "62",
                                    "orderdate": "2016-03-19",
                                    "orderid": "10961",
                                    "prevdate": "2016-02-27"
                                },
                                {
                                    "CustomerId": "62",
                                    "orderdate": "2016-05-04",
                                    "orderid": "11068",
                                    "prevdate": "2016-03-19"
                                },
                                {
                                    "CustomerId": "63",
                                    "orderdate": "2014-08-05",
                                    "orderid": "10273",
                                    "prevdate": "NULL"
                                },
                                {
                                    "CustomerId": "63",
                                    "orderdate": "2014-08-20",
                                    "orderid": "10285",
                                    "prevdate": "2014-08-05"
                                },
                                {
                                    "CustomerId": "63",
                                    "orderdate": "2014-08-21",
                                    "orderid": "10286",
                                    "prevdate": "2014-08-20"
                                },
                                {
                                    "CustomerId": "63",
                                    "orderdate": "2014-09-24",
                                    "orderid": "10313",
                                    "prevdate": "2014-08-21"
                                },
                                {
                                    "CustomerId": "63",
                                    "orderdate": "2014-11-04",
                                    "orderid": "10345",
                                    "prevdate": "2014-09-24"
                                },
                                {
                                    "CustomerId": "63",
                                    "orderdate": "2014-11-22",
                                    "orderid": "10361",
                                    "prevdate": "2014-11-04"
                                },
                                {
                                    "CustomerId": "63",
                                    "orderdate": "2015-01-17",
                                    "orderid": "10418",
                                    "prevdate": "2014-11-22"
                                },
                                {
                                    "CustomerId": "63",
                                    "orderdate": "2015-02-19",
                                    "orderid": "10451",
                                    "prevdate": "2015-01-17"
                                },
                                {
                                    "CustomerId": "63",
                                    "orderdate": "2015-04-23",
                                    "orderid": "10515",
                                    "prevdate": "2015-02-19"
                                },
                                {
                                    "CustomerId": "63",
                                    "orderdate": "2015-05-05",
                                    "orderid": "10527",
                                    "prevdate": "2015-04-23"
                                },
                                {
                                    "CustomerId": "63",
                                    "orderdate": "2015-05-19",
                                    "orderid": "10540",
                                    "prevdate": "2015-05-05"
                                },
                                {
                                    "CustomerId": "63",
                                    "orderdate": "2015-05-27",
                                    "orderid": "10549",
                                    "prevdate": "2015-05-19"
                                },
                                {
                                    "CustomerId": "63",
                                    "orderdate": "2015-07-03",
                                    "orderid": "10588",
                                    "prevdate": "2015-05-27"
                                },
                                {
                                    "CustomerId": "63",
                                    "orderdate": "2015-09-05",
                                    "orderid": "10658",
                                    "prevdate": "2015-07-03"
                                },
                                {
                                    "CustomerId": "63",
                                    "orderdate": "2015-10-03",
                                    "orderid": "10691",
                                    "prevdate": "2015-09-05"
                                },
                                {
                                    "CustomerId": "63",
                                    "orderdate": "2015-10-06",
                                    "orderid": "10694",
                                    "prevdate": "2015-10-03"
                                },
                                {
                                    "CustomerId": "63",
                                    "orderdate": "2015-10-29",
                                    "orderid": "10721",
                                    "prevdate": "2015-10-06"
                                },
                                {
                                    "CustomerId": "63",
                                    "orderdate": "2015-11-18",
                                    "orderid": "10745",
                                    "prevdate": "2015-10-29"
                                },
                                {
                                    "CustomerId": "63",
                                    "orderdate": "2015-12-04",
                                    "orderid": "10765",
                                    "prevdate": "2015-11-18"
                                },
                                {
                                    "CustomerId": "63",
                                    "orderdate": "2015-12-22",
                                    "orderid": "10788",
                                    "prevdate": "2015-12-04"
                                },
                                {
                                    "CustomerId": "63",
                                    "orderdate": "2016-01-21",
                                    "orderid": "10845",
                                    "prevdate": "2015-12-22"
                                },
                                {
                                    "CustomerId": "63",
                                    "orderdate": "2016-02-02",
                                    "orderid": "10865",
                                    "prevdate": "2016-01-21"
                                },
                                {
                                    "CustomerId": "63",
                                    "orderdate": "2016-02-10",
                                    "orderid": "10878",
                                    "prevdate": "2016-02-02"
                                },
                                {
                                    "CustomerId": "63",
                                    "orderdate": "2016-03-10",
                                    "orderid": "10938",
                                    "prevdate": "2016-02-10"
                                },
                                {
                                    "CustomerId": "63",
                                    "orderdate": "2016-03-19",
                                    "orderid": "10962",
                                    "prevdate": "2016-03-10"
                                },
                                {
                                    "CustomerId": "63",
                                    "orderdate": "2016-04-01",
                                    "orderid": "10991",
                                    "prevdate": "2016-03-19"
                                },
                                {
                                    "CustomerId": "63",
                                    "orderdate": "2016-04-02",
                                    "orderid": "10996",
                                    "prevdate": "2016-04-01"
                                },
                                {
                                    "CustomerId": "63",
                                    "orderdate": "2016-04-14",
                                    "orderid": "11021",
                                    "prevdate": "2016-04-02"
                                },
                                {
                                    "CustomerId": "64",
                                    "orderdate": "2015-02-17",
                                    "orderid": "10448",
                                    "prevdate": "NULL"
                                },
                                {
                                    "CustomerId": "64",
                                    "orderdate": "2015-10-24",
                                    "orderid": "10716",
                                    "prevdate": "2015-02-17"
                                },
                                {
                                    "CustomerId": "64",
                                    "orderdate": "2016-01-13",
                                    "orderid": "10828",
                                    "prevdate": "2015-10-24"
                                },
                                {
                                    "CustomerId": "64",
                                    "orderdate": "2016-02-27",
                                    "orderid": "10916",
                                    "prevdate": "2016-01-13"
                                },
                                {
                                    "CustomerId": "64",
                                    "orderdate": "2016-04-13",
                                    "orderid": "11019",
                                    "prevdate": "2016-02-27"
                                },
                                {
                                    "CustomerId": "65",
                                    "orderdate": "2014-07-22",
                                    "orderid": "10262",
                                    "prevdate": "NULL"
                                },
                                {
                                    "CustomerId": "65",
                                    "orderdate": "2014-08-02",
                                    "orderid": "10272",
                                    "prevdate": "2014-07-22"
                                },
                                {
                                    "CustomerId": "65",
                                    "orderdate": "2014-08-30",
                                    "orderid": "10294",
                                    "prevdate": "2014-08-02"
                                },
                                {
                                    "CustomerId": "65",
                                    "orderdate": "2014-09-25",
                                    "orderid": "10314",
                                    "prevdate": "2014-08-30"
                                },
                                {
                                    "CustomerId": "65",
                                    "orderdate": "2014-09-27",
                                    "orderid": "10316",
                                    "prevdate": "2014-09-25"
                                },
                                {
                                    "CustomerId": "65",
                                    "orderdate": "2014-11-05",
                                    "orderid": "10346",
                                    "prevdate": "2014-09-27"
                                },
                                {
                                    "CustomerId": "65",
                                    "orderdate": "2015-01-01",
                                    "orderid": "10401",
                                    "prevdate": "2014-11-05"
                                },
                                {
                                    "CustomerId": "65",
                                    "orderdate": "2015-03-19",
                                    "orderid": "10479",
                                    "prevdate": "2015-01-01"
                                },
                                {
                                    "CustomerId": "65",
                                    "orderdate": "2015-06-10",
                                    "orderid": "10564",
                                    "prevdate": "2015-03-19"
                                },
                                {
                                    "CustomerId": "65",
                                    "orderdate": "2015-06-16",
                                    "orderid": "10569",
                                    "prevdate": "2015-06-10"
                                },
                                {
                                    "CustomerId": "65",
                                    "orderdate": "2015-07-14",
                                    "orderid": "10598",
                                    "prevdate": "2015-06-16"
                                },
                                {
                                    "CustomerId": "65",
                                    "orderdate": "2015-12-02",
                                    "orderid": "10761",
                                    "prevdate": "2015-07-14"
                                },
                                {
                                    "CustomerId": "65",
                                    "orderdate": "2016-01-07",
                                    "orderid": "10820",
                                    "prevdate": "2015-12-02"
                                },
                                {
                                    "CustomerId": "65",
                                    "orderdate": "2016-01-26",
                                    "orderid": "10852",
                                    "prevdate": "2016-01-07"
                                },
                                {
                                    "CustomerId": "65",
                                    "orderdate": "2016-02-16",
                                    "orderid": "10889",
                                    "prevdate": "2016-01-26"
                                },
                                {
                                    "CustomerId": "65",
                                    "orderdate": "2016-03-31",
                                    "orderid": "10988",
                                    "prevdate": "2016-02-16"
                                },
                                {
                                    "CustomerId": "65",
                                    "orderdate": "2016-04-06",
                                    "orderid": "11000",
                                    "prevdate": "2016-03-31"
                                },
                                {
                                    "CustomerId": "65",
                                    "orderdate": "2016-05-06",
                                    "orderid": "11077",
                                    "prevdate": "2016-04-06"
                                },
                                {
                                    "CustomerId": "66",
                                    "orderdate": "2014-08-23",
                                    "orderid": "10288",
                                    "prevdate": "NULL"
                                },
                                {
                                    "CustomerId": "66",
                                    "orderdate": "2015-01-28",
                                    "orderid": "10428",
                                    "prevdate": "2014-08-23"
                                },
                                {
                                    "CustomerId": "66",
                                    "orderdate": "2015-02-12",
                                    "orderid": "10443",
                                    "prevdate": "2015-01-28"
                                },
                                {
                                    "CustomerId": "66",
                                    "orderdate": "2015-06-09",
                                    "orderid": "10562",
                                    "prevdate": "2015-02-12"
                                },
                                {
                                    "CustomerId": "66",
                                    "orderdate": "2015-07-02",
                                    "orderid": "10586",
                                    "prevdate": "2015-06-09"
                                },
                                {
                                    "CustomerId": "66",
                                    "orderdate": "2015-09-03",
                                    "orderid": "10655",
                                    "prevdate": "2015-07-02"
                                },
                                {
                                    "CustomerId": "66",
                                    "orderdate": "2015-11-03",
                                    "orderid": "10727",
                                    "prevdate": "2015-09-03"
                                },
                                {
                                    "CustomerId": "66",
                                    "orderdate": "2016-01-02",
                                    "orderid": "10812",
                                    "prevdate": "2015-11-03"
                                },
                                {
                                    "CustomerId": "66",
                                    "orderdate": "2016-02-26",
                                    "orderid": "10908",
                                    "prevdate": "2016-01-02"
                                },
                                {
                                    "CustomerId": "66",
                                    "orderdate": "2016-03-11",
                                    "orderid": "10942",
                                    "prevdate": "2016-02-26"
                                },
                                {
                                    "CustomerId": "66",
                                    "orderdate": "2016-04-09",
                                    "orderid": "11010",
                                    "prevdate": "2016-03-11"
                                },
                                {
                                    "CustomerId": "66",
                                    "orderdate": "2016-04-30",
                                    "orderid": "11062",
                                    "prevdate": "2016-04-09"
                                },
                                {
                                    "CustomerId": "67",
                                    "orderdate": "2014-08-22",
                                    "orderid": "10287",
                                    "prevdate": "NULL"
                                },
                                {
                                    "CustomerId": "67",
                                    "orderdate": "2014-09-06",
                                    "orderid": "10299",
                                    "prevdate": "2014-08-22"
                                },
                                {
                                    "CustomerId": "67",
                                    "orderdate": "2015-02-14",
                                    "orderid": "10447",
                                    "prevdate": "2014-09-06"
                                },
                                {
                                    "CustomerId": "67",
                                    "orderdate": "2015-03-20",
                                    "orderid": "10481",
                                    "prevdate": "2015-02-14"
                                },
                                {
                                    "CustomerId": "67",
                                    "orderdate": "2015-06-10",
                                    "orderid": "10563",
                                    "prevdate": "2015-03-20"
                                },
                                {
                                    "CustomerId": "67",
                                    "orderdate": "2015-08-06",
                                    "orderid": "10622",
                                    "prevdate": "2015-06-10"
                                },
                                {
                                    "CustomerId": "67",
                                    "orderdate": "2015-08-28",
                                    "orderid": "10648",
                                    "prevdate": "2015-08-06"
                                },
                                {
                                    "CustomerId": "67",
                                    "orderdate": "2016-01-05",
                                    "orderid": "10813",
                                    "prevdate": "2015-08-28"
                                },
                                {
                                    "CustomerId": "67",
                                    "orderdate": "2016-01-26",
                                    "orderid": "10851",
                                    "prevdate": "2016-01-05"
                                },
                                {
                                    "CustomerId": "67",
                                    "orderdate": "2016-02-09",
                                    "orderid": "10877",
                                    "prevdate": "2016-01-26"
                                },
                                {
                                    "CustomerId": "67",
                                    "orderdate": "2016-04-29",
                                    "orderid": "11059",
                                    "prevdate": "2016-02-09"
                                },
                                {
                                    "CustomerId": "68",
                                    "orderdate": "2014-07-12",
                                    "orderid": "10255",
                                    "prevdate": "NULL"
                                },
                                {
                                    "CustomerId": "68",
                                    "orderdate": "2015-01-20",
                                    "orderid": "10419",
                                    "prevdate": "2014-07-12"
                                },
                                {
                                    "CustomerId": "68",
                                    "orderdate": "2015-05-14",
                                    "orderid": "10537",
                                    "prevdate": "2015-01-20"
                                },
                                {
                                    "CustomerId": "68",
                                    "orderdate": "2015-09-12",
                                    "orderid": "10666",
                                    "prevdate": "2015-05-14"
                                },
                                {
                                    "CustomerId": "68",
                                    "orderdate": "2015-11-24",
                                    "orderid": "10751",
                                    "prevdate": "2015-09-12"
                                },
                                {
                                    "CustomerId": "68",
                                    "orderdate": "2015-11-28",
                                    "orderid": "10758",
                                    "prevdate": "2015-11-24"
                                },
                                {
                                    "CustomerId": "68",
                                    "orderdate": "2016-03-06",
                                    "orderid": "10931",
                                    "prevdate": "2015-11-28"
                                },
                                {
                                    "CustomerId": "68",
                                    "orderdate": "2016-03-16",
                                    "orderid": "10951",
                                    "prevdate": "2016-03-06"
                                },
                                {
                                    "CustomerId": "68",
                                    "orderdate": "2016-04-17",
                                    "orderid": "11033",
                                    "prevdate": "2016-03-16"
                                },
                                {
                                    "CustomerId": "68",
                                    "orderdate": "2016-05-06",
                                    "orderid": "11075",
                                    "prevdate": "2016-04-17"
                                },
                                {
                                    "CustomerId": "69",
                                    "orderdate": "2014-08-14",
                                    "orderid": "10281",
                                    "prevdate": "NULL"
                                },
                                {
                                    "CustomerId": "69",
                                    "orderdate": "2014-08-15",
                                    "orderid": "10282",
                                    "prevdate": "2014-08-14"
                                },
                                {
                                    "CustomerId": "69",
                                    "orderdate": "2014-09-16",
                                    "orderid": "10306",
                                    "prevdate": "2014-08-15"
                                },
                                {
                                    "CustomerId": "69",
                                    "orderdate": "2016-03-02",
                                    "orderid": "10917",
                                    "prevdate": "2014-09-16"
                                },
                                {
                                    "CustomerId": "69",
                                    "orderdate": "2016-04-09",
                                    "orderid": "11013",
                                    "prevdate": "2016-03-02"
                                },
                                {
                                    "CustomerId": "70",
                                    "orderdate": "2014-12-18",
                                    "orderid": "10387",
                                    "prevdate": "NULL"
                                },
                                {
                                    "CustomerId": "70",
                                    "orderdate": "2015-04-29",
                                    "orderid": "10520",
                                    "prevdate": "2014-12-18"
                                },
                                {
                                    "CustomerId": "70",
                                    "orderdate": "2015-08-20",
                                    "orderid": "10639",
                                    "prevdate": "2015-04-29"
                                },
                                {
                                    "CustomerId": "70",
                                    "orderdate": "2016-01-14",
                                    "orderid": "10831",
                                    "prevdate": "2015-08-20"
                                },
                                {
                                    "CustomerId": "70",
                                    "orderdate": "2016-02-26",
                                    "orderid": "10909",
                                    "prevdate": "2016-01-14"
                                },
                                {
                                    "CustomerId": "70",
                                    "orderdate": "2016-04-10",
                                    "orderid": "11015",
                                    "prevdate": "2016-02-26"
                                },
                                {
                                    "CustomerId": "71",
                                    "orderdate": "2014-10-08",
                                    "orderid": "10324",
                                    "prevdate": "NULL"
                                },
                                {
                                    "CustomerId": "71",
                                    "orderdate": "2014-12-25",
                                    "orderid": "10393",
                                    "prevdate": "2014-10-08"
                                },
                                {
                                    "CustomerId": "71",
                                    "orderdate": "2014-12-30",
                                    "orderid": "10398",
                                    "prevdate": "2014-12-25"
                                },
                                {
                                    "CustomerId": "71",
                                    "orderdate": "2015-02-10",
                                    "orderid": "10440",
                                    "prevdate": "2014-12-30"
                                },
                                {
                                    "CustomerId": "71",
                                    "orderdate": "2015-02-20",
                                    "orderid": "10452",
                                    "prevdate": "2015-02-10"
                                },
                                {
                                    "CustomerId": "71",
                                    "orderdate": "2015-04-18",
                                    "orderid": "10510",
                                    "prevdate": "2015-02-20"
                                },
                                {
                                    "CustomerId": "71",
                                    "orderdate": "2015-06-02",
                                    "orderid": "10555",
                                    "prevdate": "2015-04-18"
                                },
                                {
                                    "CustomerId": "71",
                                    "orderdate": "2015-07-18",
                                    "orderid": "10603",
                                    "prevdate": "2015-06-02"
                                },
                                {
                                    "CustomerId": "71",
                                    "orderdate": "2015-07-22",
                                    "orderid": "10607",
                                    "prevdate": "2015-07-18"
                                },
                                {
                                    "CustomerId": "71",
                                    "orderdate": "2015-07-28",
                                    "orderid": "10612",
                                    "prevdate": "2015-07-22"
                                },
                                {
                                    "CustomerId": "71",
                                    "orderdate": "2015-08-11",
                                    "orderid": "10627",
                                    "prevdate": "2015-07-28"
                                },
                                {
                                    "CustomerId": "71",
                                    "orderdate": "2015-09-04",
                                    "orderid": "10657",
                                    "prevdate": "2015-08-11"
                                },
                                {
                                    "CustomerId": "71",
                                    "orderdate": "2015-09-23",
                                    "orderid": "10678",
                                    "prevdate": "2015-09-04"
                                },
                                {
                                    "CustomerId": "71",
                                    "orderdate": "2015-10-10",
                                    "orderid": "10700",
                                    "prevdate": "2015-09-23"
                                },
                                {
                                    "CustomerId": "71",
                                    "orderdate": "2015-10-21",
                                    "orderid": "10711",
                                    "prevdate": "2015-10-10"
                                },
                                {
                                    "CustomerId": "71",
                                    "orderdate": "2015-10-22",
                                    "orderid": "10713",
                                    "prevdate": "2015-10-21"
                                },
                                {
                                    "CustomerId": "71",
                                    "orderdate": "2015-10-22",
                                    "orderid": "10714",
                                    "prevdate": "2015-10-22"
                                },
                                {
                                    "CustomerId": "71",
                                    "orderdate": "2015-10-29",
                                    "orderid": "10722",
                                    "prevdate": "2015-10-22"
                                },
                                {
                                    "CustomerId": "71",
                                    "orderdate": "2015-11-20",
                                    "orderid": "10748",
                                    "prevdate": "2015-10-29"
                                },
                                {
                                    "CustomerId": "71",
                                    "orderdate": "2015-11-27",
                                    "orderid": "10757",
                                    "prevdate": "2015-11-20"
                                },
                                {
                                    "CustomerId": "71",
                                    "orderdate": "2016-01-05",
                                    "orderid": "10815",
                                    "prevdate": "2015-11-27"
                                },
                                {
                                    "CustomerId": "71",
                                    "orderdate": "2016-01-22",
                                    "orderid": "10847",
                                    "prevdate": "2016-01-05"
                                },
                                {
                                    "CustomerId": "71",
                                    "orderdate": "2016-02-11",
                                    "orderid": "10882",
                                    "prevdate": "2016-01-22"
                                },
                                {
                                    "CustomerId": "71",
                                    "orderdate": "2016-02-18",
                                    "orderid": "10894",
                                    "prevdate": "2016-02-11"
                                },
                                {
                                    "CustomerId": "71",
                                    "orderdate": "2016-03-11",
                                    "orderid": "10941",
                                    "prevdate": "2016-02-18"
                                },
                                {
                                    "CustomerId": "71",
                                    "orderdate": "2016-03-27",
                                    "orderid": "10983",
                                    "prevdate": "2016-03-11"
                                },
                                {
                                    "CustomerId": "71",
                                    "orderdate": "2016-03-30",
                                    "orderid": "10984",
                                    "prevdate": "2016-03-27"
                                },
                                {
                                    "CustomerId": "71",
                                    "orderdate": "2016-04-06",
                                    "orderid": "11002",
                                    "prevdate": "2016-03-30"
                                },
                                {
                                    "CustomerId": "71",
                                    "orderdate": "2016-04-17",
                                    "orderid": "11030",
                                    "prevdate": "2016-04-06"
                                },
                                {
                                    "CustomerId": "71",
                                    "orderdate": "2016-04-17",
                                    "orderid": "11031",
                                    "prevdate": "2016-04-17"
                                },
                                {
                                    "CustomerId": "71",
                                    "orderdate": "2016-05-01",
                                    "orderid": "11064",
                                    "prevdate": "2016-04-17"
                                },
                                {
                                    "CustomerId": "72",
                                    "orderdate": "2014-11-21",
                                    "orderid": "10359",
                                    "prevdate": "NULL"
                                },
                                {
                                    "CustomerId": "72",
                                    "orderdate": "2014-12-09",
                                    "orderid": "10377",
                                    "prevdate": "2014-11-21"
                                },
                                {
                                    "CustomerId": "72",
                                    "orderdate": "2014-12-19",
                                    "orderid": "10388",
                                    "prevdate": "2014-12-09"
                                },
                                {
                                    "CustomerId": "72",
                                    "orderdate": "2015-03-12",
                                    "orderid": "10472",
                                    "prevdate": "2014-12-19"
                                },
                                {
                                    "CustomerId": "72",
                                    "orderdate": "2015-05-01",
                                    "orderid": "10523",
                                    "prevdate": "2015-03-12"
                                },
                                {
                                    "CustomerId": "72",
                                    "orderdate": "2015-05-23",
                                    "orderid": "10547",
                                    "prevdate": "2015-05-01"
                                },
                                {
                                    "CustomerId": "72",
                                    "orderdate": "2015-12-26",
                                    "orderid": "10800",
                                    "prevdate": "2015-05-23"
                                },
                                {
                                    "CustomerId": "72",
                                    "orderdate": "2015-12-30",
                                    "orderid": "10804",
                                    "prevdate": "2015-12-26"
                                },
                                {
                                    "CustomerId": "72",
                                    "orderdate": "2016-02-04",
                                    "orderid": "10869",
                                    "prevdate": "2015-12-30"
                                },
                                {
                                    "CustomerId": "73",
                                    "orderdate": "2014-10-29",
                                    "orderid": "10341",
                                    "prevdate": "NULL"
                                },
                                {
                                    "CustomerId": "73",
                                    "orderdate": "2015-01-16",
                                    "orderid": "10417",
                                    "prevdate": "2014-10-29"
                                },
                                {
                                    "CustomerId": "73",
                                    "orderdate": "2015-06-03",
                                    "orderid": "10556",
                                    "prevdate": "2015-01-16"
                                },
                                {
                                    "CustomerId": "73",
                                    "orderdate": "2015-08-22",
                                    "orderid": "10642",
                                    "prevdate": "2015-06-03"
                                },
                                {
                                    "CustomerId": "73",
                                    "orderdate": "2015-09-15",
                                    "orderid": "10669",
                                    "prevdate": "2015-08-22"
                                },
                                {
                                    "CustomerId": "73",
                                    "orderdate": "2015-12-29",
                                    "orderid": "10802",
                                    "prevdate": "2015-09-15"
                                },
                                {
                                    "CustomerId": "73",
                                    "orderdate": "2016-05-06",
                                    "orderid": "11074",
                                    "prevdate": "2015-12-29"
                                },
                                {
                                    "CustomerId": "74",
                                    "orderdate": "2015-11-12",
                                    "orderid": "10738",
                                    "prevdate": "NULL"
                                },
                                {
                                    "CustomerId": "74",
                                    "orderdate": "2016-02-25",
                                    "orderid": "10907",
                                    "prevdate": "2015-11-12"
                                },
                                {
                                    "CustomerId": "74",
                                    "orderdate": "2016-03-20",
                                    "orderid": "10964",
                                    "prevdate": "2016-02-25"
                                },
                                {
                                    "CustomerId": "74",
                                    "orderdate": "2016-04-22",
                                    "orderid": "11043",
                                    "prevdate": "2016-03-20"
                                },
                                {
                                    "CustomerId": "75",
                                    "orderdate": "2014-08-01",
                                    "orderid": "10271",
                                    "prevdate": "NULL"
                                },
                                {
                                    "CustomerId": "75",
                                    "orderdate": "2014-10-15",
                                    "orderid": "10329",
                                    "prevdate": "2014-08-01"
                                },
                                {
                                    "CustomerId": "75",
                                    "orderdate": "2014-11-08",
                                    "orderid": "10349",
                                    "prevdate": "2014-10-15"
                                },
                                {
                                    "CustomerId": "75",
                                    "orderdate": "2014-12-02",
                                    "orderid": "10369",
                                    "prevdate": "2014-11-08"
                                },
                                {
                                    "CustomerId": "75",
                                    "orderdate": "2014-12-17",
                                    "orderid": "10385",
                                    "prevdate": "2014-12-02"
                                },
                                {
                                    "CustomerId": "75",
                                    "orderdate": "2015-01-31",
                                    "orderid": "10432",
                                    "prevdate": "2014-12-17"
                                },
                                {
                                    "CustomerId": "75",
                                    "orderdate": "2015-11-27",
                                    "orderid": "10756",
                                    "prevdate": "2015-01-31"
                                },
                                {
                                    "CustomerId": "75",
                                    "orderdate": "2016-01-08",
                                    "orderid": "10821",
                                    "prevdate": "2015-11-27"
                                },
                                {
                                    "CustomerId": "75",
                                    "orderdate": "2016-03-25",
                                    "orderid": "10974",
                                    "prevdate": "2016-01-08"
                                },
                                {
                                    "CustomerId": "76",
                                    "orderdate": "2014-07-09",
                                    "orderid": "10252",
                                    "prevdate": "NULL"
                                },
                                {
                                    "CustomerId": "76",
                                    "orderdate": "2014-09-10",
                                    "orderid": "10302",
                                    "prevdate": "2014-07-09"
                                },
                                {
                                    "CustomerId": "76",
                                    "orderdate": "2015-02-26",
                                    "orderid": "10458",
                                    "prevdate": "2014-09-10"
                                },
                                {
                                    "CustomerId": "76",
                                    "orderdate": "2015-03-04",
                                    "orderid": "10463",
                                    "prevdate": "2015-02-26"
                                },
                                {
                                    "CustomerId": "76",
                                    "orderdate": "2015-03-14",
                                    "orderid": "10475",
                                    "prevdate": "2015-03-04"
                                },
                                {
                                    "CustomerId": "76",
                                    "orderdate": "2015-12-05",
                                    "orderid": "10767",
                                    "prevdate": "2015-03-14"
                                },
                                {
                                    "CustomerId": "76",
                                    "orderdate": "2016-01-20",
                                    "orderid": "10841",
                                    "prevdate": "2015-12-05"
                                },
                                {
                                    "CustomerId": "76",
                                    "orderdate": "2016-01-22",
                                    "orderid": "10846",
                                    "prevdate": "2016-01-20"
                                },
                                {
                                    "CustomerId": "76",
                                    "orderdate": "2016-02-12",
                                    "orderid": "10885",
                                    "prevdate": "2016-01-22"
                                },
                                {
                                    "CustomerId": "76",
                                    "orderdate": "2016-03-06",
                                    "orderid": "10930",
                                    "prevdate": "2016-02-12"
                                },
                                {
                                    "CustomerId": "76",
                                    "orderdate": "2016-04-20",
                                    "orderid": "11035",
                                    "prevdate": "2016-03-06"
                                },
                                {
                                    "CustomerId": "76",
                                    "orderdate": "2016-04-21",
                                    "orderid": "11038",
                                    "prevdate": "2016-04-20"
                                },
                                {
                                    "CustomerId": "77",
                                    "orderdate": "2014-09-20",
                                    "orderid": "10310",
                                    "prevdate": "NULL"
                                },
                                {
                                    "CustomerId": "77",
                                    "orderdate": "2015-10-17",
                                    "orderid": "10708",
                                    "prevdate": "2014-09-20"
                                },
                                {
                                    "CustomerId": "77",
                                    "orderdate": "2015-12-30",
                                    "orderid": "10805",
                                    "prevdate": "2015-10-17"
                                },
                                {
                                    "CustomerId": "77",
                                    "orderdate": "2016-04-01",
                                    "orderid": "10992",
                                    "prevdate": "2015-12-30"
                                },
                                {
                                    "CustomerId": "78",
                                    "orderdate": "2015-08-07",
                                    "orderid": "10624",
                                    "prevdate": "NULL"
                                },
                                {
                                    "CustomerId": "78",
                                    "orderdate": "2015-12-12",
                                    "orderid": "10775",
                                    "prevdate": "2015-08-07"
                                },
                                {
                                    "CustomerId": "78",
                                    "orderdate": "2016-04-06",
                                    "orderid": "11003",
                                    "prevdate": "2015-12-12"
                                },
                                {
                                    "CustomerId": "79",
                                    "orderdate": "2014-07-05",
                                    "orderid": "10249",
                                    "prevdate": "NULL"
                                },
                                {
                                    "CustomerId": "79",
                                    "orderdate": "2015-02-06",
                                    "orderid": "10438",
                                    "prevdate": "2014-07-05"
                                },
                                {
                                    "CustomerId": "79",
                                    "orderdate": "2015-02-14",
                                    "orderid": "10446",
                                    "prevdate": "2015-02-06"
                                },
                                {
                                    "CustomerId": "79",
                                    "orderdate": "2015-05-26",
                                    "orderid": "10548",
                                    "prevdate": "2015-02-14"
                                },
                                {
                                    "CustomerId": "79",
                                    "orderdate": "2015-07-23",
                                    "orderid": "10608",
                                    "prevdate": "2015-05-26"
                                },
                                {
                                    "CustomerId": "79",
                                    "orderdate": "2016-03-23",
                                    "orderid": "10967",
                                    "prevdate": "2015-07-23"
                                },
                                {
                                    "CustomerId": "80",
                                    "orderdate": "2014-08-08",
                                    "orderid": "10276",
                                    "prevdate": "NULL"
                                },
                                {
                                    "CustomerId": "80",
                                    "orderdate": "2014-08-29",
                                    "orderid": "10293",
                                    "prevdate": "2014-08-08"
                                },
                                {
                                    "CustomerId": "80",
                                    "orderdate": "2014-09-12",
                                    "orderid": "10304",
                                    "prevdate": "2014-08-29"
                                },
                                {
                                    "CustomerId": "80",
                                    "orderdate": "2014-10-02",
                                    "orderid": "10319",
                                    "prevdate": "2014-09-12"
                                },
                                {
                                    "CustomerId": "80",
                                    "orderdate": "2015-04-25",
                                    "orderid": "10518",
                                    "prevdate": "2014-10-02"
                                },
                                {
                                    "CustomerId": "80",
                                    "orderdate": "2015-06-23",
                                    "orderid": "10576",
                                    "prevdate": "2015-04-25"
                                },
                                {
                                    "CustomerId": "80",
                                    "orderdate": "2015-09-22",
                                    "orderid": "10676",
                                    "prevdate": "2015-06-23"
                                },
                                {
                                    "CustomerId": "80",
                                    "orderdate": "2016-01-20",
                                    "orderid": "10842",
                                    "prevdate": "2015-09-22"
                                },
                                {
                                    "CustomerId": "80",
                                    "orderdate": "2016-02-27",
                                    "orderid": "10915",
                                    "prevdate": "2016-01-20"
                                },
                                {
                                    "CustomerId": "80",
                                    "orderdate": "2016-05-04",
                                    "orderid": "11069",
                                    "prevdate": "2016-02-27"
                                },
                                {
                                    "CustomerId": "81",
                                    "orderdate": "2014-08-28",
                                    "orderid": "10292",
                                    "prevdate": "NULL"
                                },
                                {
                                    "CustomerId": "81",
                                    "orderdate": "2015-04-04",
                                    "orderid": "10496",
                                    "prevdate": "2014-08-28"
                                },
                                {
                                    "CustomerId": "81",
                                    "orderdate": "2015-07-22",
                                    "orderid": "10606",
                                    "prevdate": "2015-04-04"
                                },
                                {
                                    "CustomerId": "81",
                                    "orderdate": "2016-01-13",
                                    "orderid": "10830",
                                    "prevdate": "2015-07-22"
                                },
                                {
                                    "CustomerId": "81",
                                    "orderdate": "2016-01-15",
                                    "orderid": "10834",
                                    "prevdate": "2016-01-13"
                                },
                                {
                                    "CustomerId": "81",
                                    "orderdate": "2016-01-19",
                                    "orderid": "10839",
                                    "prevdate": "2016-01-15"
                                },
                                {
                                    "CustomerId": "82",
                                    "orderdate": "2015-06-19",
                                    "orderid": "10574",
                                    "prevdate": "NULL"
                                },
                                {
                                    "CustomerId": "82",
                                    "orderdate": "2015-06-23",
                                    "orderid": "10577",
                                    "prevdate": "2015-06-19"
                                },
                                {
                                    "CustomerId": "82",
                                    "orderdate": "2016-01-08",
                                    "orderid": "10822",
                                    "prevdate": "2015-06-23"
                                },
                                {
                                    "CustomerId": "83",
                                    "orderdate": "2014-11-28",
                                    "orderid": "10367",
                                    "prevdate": "NULL"
                                },
                                {
                                    "CustomerId": "83",
                                    "orderdate": "2014-12-31",
                                    "orderid": "10399",
                                    "prevdate": "2014-11-28"
                                },
                                {
                                    "CustomerId": "83",
                                    "orderdate": "2015-03-05",
                                    "orderid": "10465",
                                    "prevdate": "2014-12-31"
                                },
                                {
                                    "CustomerId": "83",
                                    "orderdate": "2015-07-07",
                                    "orderid": "10591",
                                    "prevdate": "2015-03-05"
                                },
                                {
                                    "CustomerId": "83",
                                    "orderdate": "2015-07-17",
                                    "orderid": "10602",
                                    "prevdate": "2015-07-07"
                                },
                                {
                                    "CustomerId": "83",
                                    "orderdate": "2015-10-01",
                                    "orderid": "10688",
                                    "prevdate": "2015-07-17"
                                },
                                {
                                    "CustomerId": "83",
                                    "orderdate": "2015-11-17",
                                    "orderid": "10744",
                                    "prevdate": "2015-10-01"
                                },
                                {
                                    "CustomerId": "83",
                                    "orderdate": "2015-12-08",
                                    "orderid": "10769",
                                    "prevdate": "2015-11-17"
                                },
                                {
                                    "CustomerId": "83",
                                    "orderdate": "2016-03-03",
                                    "orderid": "10921",
                                    "prevdate": "2015-12-08"
                                },
                                {
                                    "CustomerId": "83",
                                    "orderdate": "2016-03-12",
                                    "orderid": "10946",
                                    "prevdate": "2016-03-03"
                                },
                                {
                                    "CustomerId": "83",
                                    "orderdate": "2016-04-02",
                                    "orderid": "10994",
                                    "prevdate": "2016-03-12"
                                },
                                {
                                    "CustomerId": "84",
                                    "orderdate": "2014-07-08",
                                    "orderid": "10251",
                                    "prevdate": "NULL"
                                },
                                {
                                    "CustomerId": "84",
                                    "orderdate": "2014-10-21",
                                    "orderid": "10334",
                                    "prevdate": "2014-07-08"
                                },
                                {
                                    "CustomerId": "84",
                                    "orderdate": "2015-02-19",
                                    "orderid": "10450",
                                    "prevdate": "2014-10-21"
                                },
                                {
                                    "CustomerId": "84",
                                    "orderdate": "2015-02-27",
                                    "orderid": "10459",
                                    "prevdate": "2015-02-19"
                                },
                                {
                                    "CustomerId": "84",
                                    "orderdate": "2015-03-18",
                                    "orderid": "10478",
                                    "prevdate": "2015-02-27"
                                },
                                {
                                    "CustomerId": "84",
                                    "orderdate": "2015-05-23",
                                    "orderid": "10546",
                                    "prevdate": "2015-03-18"
                                },
                                {
                                    "CustomerId": "84",
                                    "orderdate": "2015-12-31",
                                    "orderid": "10806",
                                    "prevdate": "2015-05-23"
                                },
                                {
                                    "CustomerId": "84",
                                    "orderdate": "2016-01-05",
                                    "orderid": "10814",
                                    "prevdate": "2015-12-31"
                                },
                                {
                                    "CustomerId": "84",
                                    "orderdate": "2016-01-21",
                                    "orderid": "10843",
                                    "prevdate": "2016-01-05"
                                },
                                {
                                    "CustomerId": "84",
                                    "orderdate": "2016-01-23",
                                    "orderid": "10850",
                                    "prevdate": "2016-01-21"
                                },
                                {
                                    "CustomerId": "85",
                                    "orderdate": "2014-07-04",
                                    "orderid": "10248",
                                    "prevdate": "NULL"
                                },
                                {
                                    "CustomerId": "85",
                                    "orderdate": "2014-08-06",
                                    "orderid": "10274",
                                    "prevdate": "2014-07-04"
                                },
                                {
                                    "CustomerId": "85",
                                    "orderdate": "2014-09-02",
                                    "orderid": "10295",
                                    "prevdate": "2014-08-06"
                                },
                                {
                                    "CustomerId": "85",
                                    "orderdate": "2015-11-11",
                                    "orderid": "10737",
                                    "prevdate": "2014-09-02"
                                },
                                {
                                    "CustomerId": "85",
                                    "orderdate": "2015-11-12",
                                    "orderid": "10739",
                                    "prevdate": "2015-11-11"
                                },
                                {
                                    "CustomerId": "86",
                                    "orderdate": "2014-09-09",
                                    "orderid": "10301",
                                    "prevdate": "NULL"
                                },
                                {
                                    "CustomerId": "86",
                                    "orderdate": "2014-09-23",
                                    "orderid": "10312",
                                    "prevdate": "2014-09-09"
                                },
                                {
                                    "CustomerId": "86",
                                    "orderdate": "2014-11-07",
                                    "orderid": "10348",
                                    "prevdate": "2014-09-23"
                                },
                                {
                                    "CustomerId": "86",
                                    "orderdate": "2014-11-18",
                                    "orderid": "10356",
                                    "prevdate": "2014-11-07"
                                },
                                {
                                    "CustomerId": "86",
                                    "orderdate": "2015-04-22",
                                    "orderid": "10513",
                                    "prevdate": "2014-11-18"
                                },
                                {
                                    "CustomerId": "86",
                                    "orderdate": "2015-08-14",
                                    "orderid": "10632",
                                    "prevdate": "2015-04-22"
                                },
                                {
                                    "CustomerId": "86",
                                    "orderdate": "2015-08-21",
                                    "orderid": "10640",
                                    "prevdate": "2015-08-14"
                                },
                                {
                                    "CustomerId": "86",
                                    "orderdate": "2015-09-01",
                                    "orderid": "10651",
                                    "prevdate": "2015-08-21"
                                },
                                {
                                    "CustomerId": "86",
                                    "orderdate": "2015-09-15",
                                    "orderid": "10668",
                                    "prevdate": "2015-09-01"
                                },
                                {
                                    "CustomerId": "86",
                                    "orderdate": "2016-04-23",
                                    "orderid": "11046",
                                    "prevdate": "2015-09-15"
                                },
                                {
                                    "CustomerId": "87",
                                    "orderdate": "2014-07-26",
                                    "orderid": "10266",
                                    "prevdate": "NULL"
                                },
                                {
                                    "CustomerId": "87",
                                    "orderdate": "2014-08-01",
                                    "orderid": "10270",
                                    "prevdate": "2014-07-26"
                                },
                                {
                                    "CustomerId": "87",
                                    "orderdate": "2014-10-03",
                                    "orderid": "10320",
                                    "prevdate": "2014-08-01"
                                },
                                {
                                    "CustomerId": "87",
                                    "orderdate": "2014-10-18",
                                    "orderid": "10333",
                                    "prevdate": "2014-10-03"
                                },
                                {
                                    "CustomerId": "87",
                                    "orderdate": "2015-01-13",
                                    "orderid": "10412",
                                    "prevdate": "2014-10-18"
                                },
                                {
                                    "CustomerId": "87",
                                    "orderdate": "2015-01-16",
                                    "orderid": "10416",
                                    "prevdate": "2015-01-13"
                                },
                                {
                                    "CustomerId": "87",
                                    "orderdate": "2015-02-05",
                                    "orderid": "10437",
                                    "prevdate": "2015-01-16"
                                },
                                {
                                    "CustomerId": "87",
                                    "orderdate": "2015-02-24",
                                    "orderid": "10455",
                                    "prevdate": "2015-02-05"
                                },
                                {
                                    "CustomerId": "87",
                                    "orderdate": "2015-05-05",
                                    "orderid": "10526",
                                    "prevdate": "2015-02-24"
                                },
                                {
                                    "CustomerId": "87",
                                    "orderdate": "2015-05-30",
                                    "orderid": "10553",
                                    "prevdate": "2015-05-05"
                                },
                                {
                                    "CustomerId": "87",
                                    "orderdate": "2015-06-30",
                                    "orderid": "10583",
                                    "prevdate": "2015-05-30"
                                },
                                {
                                    "CustomerId": "87",
                                    "orderdate": "2015-08-19",
                                    "orderid": "10636",
                                    "prevdate": "2015-06-30"
                                },
                                {
                                    "CustomerId": "87",
                                    "orderdate": "2015-11-21",
                                    "orderid": "10750",
                                    "prevdate": "2015-08-19"
                                },
                                {
                                    "CustomerId": "87",
                                    "orderdate": "2015-12-17",
                                    "orderid": "10781",
                                    "prevdate": "2015-11-21"
                                },
                                {
                                    "CustomerId": "87",
                                    "orderdate": "2016-04-15",
                                    "orderid": "11025",
                                    "prevdate": "2015-12-17"
                                },
                                {
                                    "CustomerId": "88",
                                    "orderdate": "2014-07-15",
                                    "orderid": "10256",
                                    "prevdate": "NULL"
                                },
                                {
                                    "CustomerId": "88",
                                    "orderdate": "2015-01-21",
                                    "orderid": "10420",
                                    "prevdate": "2014-07-15"
                                },
                                {
                                    "CustomerId": "88",
                                    "orderdate": "2015-07-01",
                                    "orderid": "10585",
                                    "prevdate": "2015-01-21"
                                },
                                {
                                    "CustomerId": "88",
                                    "orderdate": "2015-08-25",
                                    "orderid": "10644",
                                    "prevdate": "2015-07-01"
                                },
                                {
                                    "CustomerId": "88",
                                    "orderdate": "2015-12-30",
                                    "orderid": "10803",
                                    "prevdate": "2015-08-25"
                                },
                                {
                                    "CustomerId": "88",
                                    "orderdate": "2016-01-01",
                                    "orderid": "10809",
                                    "prevdate": "2015-12-30"
                                },
                                {
                                    "CustomerId": "88",
                                    "orderdate": "2016-02-20",
                                    "orderid": "10900",
                                    "prevdate": "2016-01-01"
                                },
                                {
                                    "CustomerId": "88",
                                    "orderdate": "2016-02-24",
                                    "orderid": "10905",
                                    "prevdate": "2016-02-20"
                                },
                                {
                                    "CustomerId": "88",
                                    "orderdate": "2016-03-09",
                                    "orderid": "10935",
                                    "prevdate": "2016-02-24"
                                },
                                {
                                    "CustomerId": "89",
                                    "orderdate": "2014-07-31",
                                    "orderid": "10269",
                                    "prevdate": "NULL"
                                },
                                {
                                    "CustomerId": "89",
                                    "orderdate": "2014-11-01",
                                    "orderid": "10344",
                                    "prevdate": "2014-07-31"
                                },
                                {
                                    "CustomerId": "89",
                                    "orderdate": "2015-03-10",
                                    "orderid": "10469",
                                    "prevdate": "2014-11-01"
                                },
                                {
                                    "CustomerId": "89",
                                    "orderdate": "2015-03-24",
                                    "orderid": "10483",
                                    "prevdate": "2015-03-10"
                                },
                                {
                                    "CustomerId": "89",
                                    "orderdate": "2015-04-11",
                                    "orderid": "10504",
                                    "prevdate": "2015-03-24"
                                },
                                {
                                    "CustomerId": "89",
                                    "orderdate": "2015-07-11",
                                    "orderid": "10596",
                                    "prevdate": "2015-04-11"
                                },
                                {
                                    "CustomerId": "89",
                                    "orderdate": "2015-10-06",
                                    "orderid": "10693",
                                    "prevdate": "2015-07-11"
                                },
                                {
                                    "CustomerId": "89",
                                    "orderdate": "2015-10-08",
                                    "orderid": "10696",
                                    "prevdate": "2015-10-06"
                                },
                                {
                                    "CustomerId": "89",
                                    "orderdate": "2015-10-30",
                                    "orderid": "10723",
                                    "prevdate": "2015-10-08"
                                },
                                {
                                    "CustomerId": "89",
                                    "orderdate": "2015-11-13",
                                    "orderid": "10740",
                                    "prevdate": "2015-10-30"
                                },
                                {
                                    "CustomerId": "89",
                                    "orderdate": "2016-01-30",
                                    "orderid": "10861",
                                    "prevdate": "2015-11-13"
                                },
                                {
                                    "CustomerId": "89",
                                    "orderdate": "2016-02-24",
                                    "orderid": "10904",
                                    "prevdate": "2016-01-30"
                                },
                                {
                                    "CustomerId": "89",
                                    "orderdate": "2016-04-17",
                                    "orderid": "11032",
                                    "prevdate": "2016-02-24"
                                },
                                {
                                    "CustomerId": "89",
                                    "orderdate": "2016-05-01",
                                    "orderid": "11066",
                                    "prevdate": "2016-04-17"
                                },
                                {
                                    "CustomerId": "90",
                                    "orderdate": "2015-07-30",
                                    "orderid": "10615",
                                    "prevdate": "NULL"
                                },
                                {
                                    "CustomerId": "90",
                                    "orderdate": "2015-09-18",
                                    "orderid": "10673",
                                    "prevdate": "2015-07-30"
                                },
                                {
                                    "CustomerId": "90",
                                    "orderdate": "2015-10-07",
                                    "orderid": "10695",
                                    "prevdate": "2015-09-18"
                                },
                                {
                                    "CustomerId": "90",
                                    "orderdate": "2016-02-06",
                                    "orderid": "10873",
                                    "prevdate": "2015-10-07"
                                },
                                {
                                    "CustomerId": "90",
                                    "orderdate": "2016-02-10",
                                    "orderid": "10879",
                                    "prevdate": "2016-02-06"
                                },
                                {
                                    "CustomerId": "90",
                                    "orderdate": "2016-02-26",
                                    "orderid": "10910",
                                    "prevdate": "2016-02-10"
                                },
                                {
                                    "CustomerId": "90",
                                    "orderdate": "2016-04-07",
                                    "orderid": "11005",
                                    "prevdate": "2016-02-26"
                                },
                                {
                                    "CustomerId": "91",
                                    "orderdate": "2014-12-05",
                                    "orderid": "10374",
                                    "prevdate": "NULL"
                                },
                                {
                                    "CustomerId": "91",
                                    "orderdate": "2015-07-25",
                                    "orderid": "10611",
                                    "prevdate": "2014-12-05"
                                },
                                {
                                    "CustomerId": "91",
                                    "orderdate": "2015-12-23",
                                    "orderid": "10792",
                                    "prevdate": "2015-07-25"
                                },
                                {
                                    "CustomerId": "91",
                                    "orderdate": "2016-02-04",
                                    "orderid": "10870",
                                    "prevdate": "2015-12-23"
                                },
                                {
                                    "CustomerId": "91",
                                    "orderdate": "2016-02-25",
                                    "orderid": "10906",
                                    "prevdate": "2016-02-04"
                                },
                                {
                                    "CustomerId": "91",
                                    "orderdate": "2016-04-03",
                                    "orderid": "10998",
                                    "prevdate": "2016-02-25"
                                },
                                {
                                    "CustomerId": "91",
                                    "orderdate": "2016-04-23",
                                    "orderid": "11044",
                                    "prevdate": "2016-04-03"
                                }
                            ]
                        },
                        "text/html": [
                            "<table>",
                            "<tr><th>CustomerId</th><th>orderdate</th><th>orderid</th><th>prevdate</th></tr>",
                            "<tr><td>1</td><td>2015-08-25</td><td>10643</td><td>NULL</td></tr>",
                            "<tr><td>1</td><td>2015-10-03</td><td>10692</td><td>2015-08-25</td></tr>",
                            "<tr><td>1</td><td>2015-10-13</td><td>10702</td><td>2015-10-03</td></tr>",
                            "<tr><td>1</td><td>2016-01-15</td><td>10835</td><td>2015-10-13</td></tr>",
                            "<tr><td>1</td><td>2016-03-16</td><td>10952</td><td>2016-01-15</td></tr>",
                            "<tr><td>1</td><td>2016-04-09</td><td>11011</td><td>2016-03-16</td></tr>",
                            "<tr><td>2</td><td>2014-09-18</td><td>10308</td><td>NULL</td></tr>",
                            "<tr><td>2</td><td>2015-08-08</td><td>10625</td><td>2014-09-18</td></tr>",
                            "<tr><td>2</td><td>2015-11-28</td><td>10759</td><td>2015-08-08</td></tr>",
                            "<tr><td>2</td><td>2016-03-04</td><td>10926</td><td>2015-11-28</td></tr>",
                            "<tr><td>3</td><td>2014-11-27</td><td>10365</td><td>NULL</td></tr>",
                            "<tr><td>3</td><td>2015-04-15</td><td>10507</td><td>2014-11-27</td></tr>",
                            "<tr><td>3</td><td>2015-05-13</td><td>10535</td><td>2015-04-15</td></tr>",
                            "<tr><td>3</td><td>2015-06-19</td><td>10573</td><td>2015-05-13</td></tr>",
                            "<tr><td>3</td><td>2015-09-22</td><td>10677</td><td>2015-06-19</td></tr>",
                            "<tr><td>3</td><td>2015-09-25</td><td>10682</td><td>2015-09-22</td></tr>",
                            "<tr><td>3</td><td>2016-01-28</td><td>10856</td><td>2015-09-25</td></tr>",
                            "<tr><td>4</td><td>2014-11-15</td><td>10355</td><td>NULL</td></tr>",
                            "<tr><td>4</td><td>2014-12-16</td><td>10383</td><td>2014-11-15</td></tr>",
                            "<tr><td>4</td><td>2015-02-21</td><td>10453</td><td>2014-12-16</td></tr>",
                            "<tr><td>4</td><td>2015-06-04</td><td>10558</td><td>2015-02-21</td></tr>",
                            "<tr><td>4</td><td>2015-10-16</td><td>10707</td><td>2015-06-04</td></tr>",
                            "<tr><td>4</td><td>2015-11-14</td><td>10741</td><td>2015-10-16</td></tr>",
                            "<tr><td>4</td><td>2015-11-17</td><td>10743</td><td>2015-11-14</td></tr>",
                            "<tr><td>4</td><td>2015-12-08</td><td>10768</td><td>2015-11-17</td></tr>",
                            "<tr><td>4</td><td>2015-12-24</td><td>10793</td><td>2015-12-08</td></tr>",
                            "<tr><td>4</td><td>2016-02-02</td><td>10864</td><td>2015-12-24</td></tr>",
                            "<tr><td>4</td><td>2016-03-03</td><td>10920</td><td>2016-02-02</td></tr>",
                            "<tr><td>4</td><td>2016-03-16</td><td>10953</td><td>2016-03-03</td></tr>",
                            "<tr><td>4</td><td>2016-04-10</td><td>11016</td><td>2016-03-16</td></tr>",
                            "<tr><td>5</td><td>2014-08-12</td><td>10278</td><td>NULL</td></tr>",
                            "<tr><td>5</td><td>2014-08-14</td><td>10280</td><td>2014-08-12</td></tr>",
                            "<tr><td>5</td><td>2014-12-16</td><td>10384</td><td>2014-08-14</td></tr>",
                            "<tr><td>5</td><td>2015-02-12</td><td>10444</td><td>2014-12-16</td></tr>",
                            "<tr><td>5</td><td>2015-02-13</td><td>10445</td><td>2015-02-12</td></tr>",
                            "<tr><td>5</td><td>2015-05-01</td><td>10524</td><td>2015-02-13</td></tr>",
                            "<tr><td>5</td><td>2015-06-18</td><td>10572</td><td>2015-05-01</td></tr>",
                            "<tr><td>5</td><td>2015-08-11</td><td>10626</td><td>2015-06-18</td></tr>",
                            "<tr><td>5</td><td>2015-09-02</td><td>10654</td><td>2015-08-11</td></tr>",
                            "<tr><td>5</td><td>2015-09-17</td><td>10672</td><td>2015-09-02</td></tr>",
                            "<tr><td>5</td><td>2015-10-01</td><td>10689</td><td>2015-09-17</td></tr>",
                            "<tr><td>5</td><td>2015-11-07</td><td>10733</td><td>2015-10-01</td></tr>",
                            "<tr><td>5</td><td>2015-12-16</td><td>10778</td><td>2015-11-07</td></tr>",
                            "<tr><td>5</td><td>2016-01-16</td><td>10837</td><td>2015-12-16</td></tr>",
                            "<tr><td>5</td><td>2016-01-28</td><td>10857</td><td>2016-01-16</td></tr>",
                            "<tr><td>5</td><td>2016-02-03</td><td>10866</td><td>2016-01-28</td></tr>",
                            "<tr><td>5</td><td>2016-02-06</td><td>10875</td><td>2016-02-03</td></tr>",
                            "<tr><td>5</td><td>2016-03-04</td><td>10924</td><td>2016-02-06</td></tr>",
                            "<tr><td>6</td><td>2015-04-09</td><td>10501</td><td>NULL</td></tr>",
                            "<tr><td>6</td><td>2015-04-17</td><td>10509</td><td>2015-04-09</td></tr>",
                            "<tr><td>6</td><td>2015-06-27</td><td>10582</td><td>2015-04-17</td></tr>",
                            "<tr><td>6</td><td>2015-07-29</td><td>10614</td><td>2015-06-27</td></tr>",
                            "<tr><td>6</td><td>2016-01-27</td><td>10853</td><td>2015-07-29</td></tr>",
                            "<tr><td>6</td><td>2016-03-17</td><td>10956</td><td>2016-01-27</td></tr>",
                            "<tr><td>6</td><td>2016-04-29</td><td>11058</td><td>2016-03-17</td></tr>",
                            "<tr><td>7</td><td>2014-07-25</td><td>10265</td><td>NULL</td></tr>",
                            "<tr><td>7</td><td>2014-09-04</td><td>10297</td><td>2014-07-25</td></tr>",
                            "<tr><td>7</td><td>2014-11-22</td><td>10360</td><td>2014-09-04</td></tr>",
                            "<tr><td>7</td><td>2015-02-05</td><td>10436</td><td>2014-11-22</td></tr>",
                            "<tr><td>7</td><td>2015-02-18</td><td>10449</td><td>2015-02-05</td></tr>",
                            "<tr><td>7</td><td>2015-06-05</td><td>10559</td><td>2015-02-18</td></tr>",
                            "<tr><td>7</td><td>2015-06-12</td><td>10566</td><td>2015-06-05</td></tr>",
                            "<tr><td>7</td><td>2015-06-30</td><td>10584</td><td>2015-06-12</td></tr>",
                            "<tr><td>7</td><td>2015-08-12</td><td>10628</td><td>2015-06-30</td></tr>",
                            "<tr><td>7</td><td>2015-09-23</td><td>10679</td><td>2015-08-12</td></tr>",
                            "<tr><td>7</td><td>2016-01-12</td><td>10826</td><td>2015-09-23</td></tr>",
                            "<tr><td>8</td><td>2014-10-10</td><td>10326</td><td>NULL</td></tr>",
                            "<tr><td>8</td><td>2015-12-29</td><td>10801</td><td>2014-10-10</td></tr>",
                            "<tr><td>8</td><td>2016-03-24</td><td>10970</td><td>2015-12-29</td></tr>",
                            "<tr><td>9</td><td>2014-10-16</td><td>10331</td><td>NULL</td></tr>",
                            "<tr><td>9</td><td>2014-10-29</td><td>10340</td><td>2014-10-16</td></tr>",
                            "<tr><td>9</td><td>2014-11-25</td><td>10362</td><td>2014-10-29</td></tr>",
                            "<tr><td>9</td><td>2015-03-11</td><td>10470</td><td>2014-11-25</td></tr>",
                            "<tr><td>9</td><td>2015-04-18</td><td>10511</td><td>2015-03-11</td></tr>",
                            "<tr><td>9</td><td>2015-05-02</td><td>10525</td><td>2015-04-18</td></tr>",
                            "<tr><td>9</td><td>2015-09-10</td><td>10663</td><td>2015-05-02</td></tr>",
                            "<tr><td>9</td><td>2015-10-23</td><td>10715</td><td>2015-09-10</td></tr>",
                            "<tr><td>9</td><td>2015-11-05</td><td>10730</td><td>2015-10-23</td></tr>",
                            "<tr><td>9</td><td>2015-11-06</td><td>10732</td><td>2015-11-05</td></tr>",
                            "<tr><td>9</td><td>2015-11-26</td><td>10755</td><td>2015-11-06</td></tr>",
                            "<tr><td>9</td><td>2016-01-12</td><td>10827</td><td>2015-11-26</td></tr>",
                            "<tr><td>9</td><td>2016-02-05</td><td>10871</td><td>2016-01-12</td></tr>",
                            "<tr><td>9</td><td>2016-02-09</td><td>10876</td><td>2016-02-05</td></tr>",
                            "<tr><td>9</td><td>2016-03-06</td><td>10932</td><td>2016-02-09</td></tr>",
                            "<tr><td>9</td><td>2016-03-11</td><td>10940</td><td>2016-03-06</td></tr>",
                            "<tr><td>9</td><td>2016-05-06</td><td>11076</td><td>2016-03-11</td></tr>",
                            "<tr><td>10</td><td>2014-12-20</td><td>10389</td><td>NULL</td></tr>",
                            "<tr><td>10</td><td>2015-01-10</td><td>10410</td><td>2014-12-20</td></tr>",
                            "<tr><td>10</td><td>2015-01-10</td><td>10411</td><td>2015-01-10</td></tr>",
                            "<tr><td>10</td><td>2015-01-30</td><td>10431</td><td>2015-01-10</td></tr>",
                            "<tr><td>10</td><td>2015-04-01</td><td>10492</td><td>2015-01-30</td></tr>",
                            "<tr><td>10</td><td>2015-11-14</td><td>10742</td><td>2015-04-01</td></tr>",
                            "<tr><td>10</td><td>2016-03-02</td><td>10918</td><td>2015-11-14</td></tr>",
                            "<tr><td>10</td><td>2016-03-12</td><td>10944</td><td>2016-03-02</td></tr>",
                            "<tr><td>10</td><td>2016-03-13</td><td>10949</td><td>2016-03-12</td></tr>",
                            "<tr><td>10</td><td>2016-03-25</td><td>10975</td><td>2016-03-13</td></tr>",
                            "<tr><td>10</td><td>2016-03-27</td><td>10982</td><td>2016-03-25</td></tr>",
                            "<tr><td>10</td><td>2016-04-16</td><td>11027</td><td>2016-03-27</td></tr>",
                            "<tr><td>10</td><td>2016-04-23</td><td>11045</td><td>2016-04-16</td></tr>",
                            "<tr><td>10</td><td>2016-04-24</td><td>11048</td><td>2016-04-23</td></tr>",
                            "<tr><td>11</td><td>2014-08-26</td><td>10289</td><td>NULL</td></tr>",
                            "<tr><td>11</td><td>2015-03-11</td><td>10471</td><td>2014-08-26</td></tr>",
                            "<tr><td>11</td><td>2015-03-24</td><td>10484</td><td>2015-03-11</td></tr>",
                            "<tr><td>11</td><td>2015-05-15</td><td>10538</td><td>2015-03-24</td></tr>",
                            "<tr><td>11</td><td>2015-05-16</td><td>10539</td><td>2015-05-15</td></tr>",
                            "<tr><td>11</td><td>2015-06-24</td><td>10578</td><td>2015-05-16</td></tr>",
                            "<tr><td>11</td><td>2015-07-15</td><td>10599</td><td>2015-06-24</td></tr>",
                            "<tr><td>11</td><td>2016-03-11</td><td>10943</td><td>2015-07-15</td></tr>",
                            "<tr><td>11</td><td>2016-03-13</td><td>10947</td><td>2016-03-11</td></tr>",
                            "<tr><td>11</td><td>2016-04-14</td><td>11023</td><td>2016-03-13</td></tr>",
                            "<tr><td>12</td><td>2015-04-29</td><td>10521</td><td>NULL</td></tr>",
                            "<tr><td>12</td><td>2015-12-17</td><td>10782</td><td>2015-04-29</td></tr>",
                            "<tr><td>12</td><td>2016-01-07</td><td>10819</td><td>2015-12-17</td></tr>",
                            "<tr><td>12</td><td>2016-02-11</td><td>10881</td><td>2016-01-07</td></tr>",
                            "<tr><td>12</td><td>2016-03-10</td><td>10937</td><td>2016-02-11</td></tr>",
                            "<tr><td>12</td><td>2016-04-28</td><td>11054</td><td>2016-03-10</td></tr>",
                            "<tr><td>13</td><td>2014-07-18</td><td>10259</td><td>NULL</td></tr>",
                            "<tr><td>14</td><td>2014-07-11</td><td>10254</td><td>NULL</td></tr>",
                            "<tr><td>14</td><td>2014-12-03</td><td>10370</td><td>2014-07-11</td></tr>",
                            "<tr><td>14</td><td>2015-04-28</td><td>10519</td><td>2014-12-03</td></tr>",
                            "<tr><td>14</td><td>2015-11-06</td><td>10731</td><td>2015-04-28</td></tr>",
                            "<tr><td>14</td><td>2015-11-19</td><td>10746</td><td>2015-11-06</td></tr>",
                            "<tr><td>14</td><td>2016-03-20</td><td>10966</td><td>2015-11-19</td></tr>",
                            "<tr><td>14</td><td>2016-04-16</td><td>11029</td><td>2016-03-20</td></tr>",
                            "<tr><td>14</td><td>2016-04-22</td><td>11041</td><td>2016-04-16</td></tr>",
                            "<tr><td>15</td><td>2014-08-27</td><td>10290</td><td>NULL</td></tr>",
                            "<tr><td>15</td><td>2015-03-06</td><td>10466</td><td>2014-08-27</td></tr>",
                            "<tr><td>15</td><td>2015-04-02</td><td>10494</td><td>2015-03-06</td></tr>",
                            "<tr><td>15</td><td>2016-03-23</td><td>10969</td><td>2015-04-02</td></tr>",
                            "<tr><td>15</td><td>2016-04-22</td><td>11042</td><td>2016-03-23</td></tr>",
                            "<tr><td>16</td><td>2015-02-04</td><td>10435</td><td>NULL</td></tr>",
                            "<tr><td>16</td><td>2015-03-03</td><td>10462</td><td>2015-02-04</td></tr>",
                            "<tr><td>16</td><td>2016-01-23</td><td>10848</td><td>2015-03-03</td></tr>",
                            "<tr><td>17</td><td>2014-11-26</td><td>10363</td><td>NULL</td></tr>",
                            "<tr><td>17</td><td>2014-12-23</td><td>10391</td><td>2014-11-26</td></tr>",
                            "<tr><td>17</td><td>2015-12-25</td><td>10797</td><td>2014-12-23</td></tr>",
                            "<tr><td>17</td><td>2016-01-09</td><td>10825</td><td>2015-12-25</td></tr>",
                            "<tr><td>17</td><td>2016-04-20</td><td>11036</td><td>2016-01-09</td></tr>",
                            "<tr><td>17</td><td>2016-05-04</td><td>11067</td><td>2016-04-20</td></tr>",
                            "<tr><td>18</td><td>2014-09-20</td><td>10311</td><td>NULL</td></tr>",
                            "<tr><td>18</td><td>2015-07-24</td><td>10609</td><td>2014-09-20</td></tr>",
                            "<tr><td>18</td><td>2015-09-26</td><td>10683</td><td>2015-07-24</td></tr>",
                            "<tr><td>18</td><td>2016-02-16</td><td>10890</td><td>2015-09-26</td></tr>",
                            "<tr><td>19</td><td>2014-11-26</td><td>10364</td><td>NULL</td></tr>",
                            "<tr><td>19</td><td>2015-01-01</td><td>10400</td><td>2014-11-26</td></tr>",
                            "<tr><td>19</td><td>2015-05-09</td><td>10532</td><td>2015-01-01</td></tr>",
                            "<tr><td>19</td><td>2015-11-03</td><td>10726</td><td>2015-05-09</td></tr>",
                            "<tr><td>19</td><td>2016-03-31</td><td>10987</td><td>2015-11-03</td></tr>",
                            "<tr><td>19</td><td>2016-04-15</td><td>11024</td><td>2016-03-31</td></tr>",
                            "<tr><td>19</td><td>2016-04-24</td><td>11047</td><td>2016-04-15</td></tr>",
                            "<tr><td>19</td><td>2016-04-28</td><td>11056</td><td>2016-04-24</td></tr>",
                            "<tr><td>20</td><td>2014-07-17</td><td>10258</td><td>NULL</td></tr>",
                            "<tr><td>20</td><td>2014-07-23</td><td>10263</td><td>2014-07-17</td></tr>",
                            "<tr><td>20</td><td>2014-11-11</td><td>10351</td><td>2014-07-23</td></tr>",
                            "<tr><td>20</td><td>2014-11-29</td><td>10368</td><td>2014-11-11</td></tr>",
                            "<tr><td>20</td><td>2014-12-13</td><td>10382</td><td>2014-11-29</td></tr>",
                            "<tr><td>20</td><td>2014-12-23</td><td>10390</td><td>2014-12-13</td></tr>",
                            "<tr><td>20</td><td>2015-01-02</td><td>10402</td><td>2014-12-23</td></tr>",
                            "<tr><td>20</td><td>2015-01-03</td><td>10403</td><td>2015-01-02</td></tr>",
                            "<tr><td>20</td><td>2015-01-30</td><td>10430</td><td>2015-01-03</td></tr>",
                            "<tr><td>20</td><td>2015-02-11</td><td>10442</td><td>2015-01-30</td></tr>",
                            "<tr><td>20</td><td>2015-04-22</td><td>10514</td><td>2015-02-11</td></tr>",
                            "<tr><td>20</td><td>2015-06-17</td><td>10571</td><td>2015-04-22</td></tr>",
                            "<tr><td>20</td><td>2015-07-10</td><td>10595</td><td>2015-06-17</td></tr>",
                            "<tr><td>20</td><td>2015-08-15</td><td>10633</td><td>2015-07-10</td></tr>",
                            "<tr><td>20</td><td>2015-09-12</td><td>10667</td><td>2015-08-15</td></tr>",
                            "<tr><td>20</td><td>2015-10-09</td><td>10698</td><td>2015-09-12</td></tr>",
                            "<tr><td>20</td><td>2015-12-03</td><td>10764</td><td>2015-10-09</td></tr>",
                            "<tr><td>20</td><td>2015-12-10</td><td>10771</td><td>2015-12-03</td></tr>",
                            "<tr><td>20</td><td>2015-12-11</td><td>10773</td><td>2015-12-10</td></tr>",
                            "<tr><td>20</td><td>2015-12-15</td><td>10776</td><td>2015-12-11</td></tr>",
                            "<tr><td>20</td><td>2015-12-24</td><td>10795</td><td>2015-12-15</td></tr>",
                            "<tr><td>20</td><td>2016-01-16</td><td>10836</td><td>2015-12-24</td></tr>",
                            "<tr><td>20</td><td>2016-01-27</td><td>10854</td><td>2016-01-16</td></tr>",
                            "<tr><td>20</td><td>2016-02-18</td><td>10895</td><td>2016-01-27</td></tr>",
                            "<tr><td>20</td><td>2016-03-23</td><td>10968</td><td>2016-02-18</td></tr>",
                            "<tr><td>20</td><td>2016-03-26</td><td>10979</td><td>2016-03-23</td></tr>",
                            "<tr><td>20</td><td>2016-04-01</td><td>10990</td><td>2016-03-26</td></tr>",
                            "<tr><td>20</td><td>2016-04-08</td><td>11008</td><td>2016-04-01</td></tr>",
                            "<tr><td>20</td><td>2016-04-13</td><td>11017</td><td>2016-04-08</td></tr>",
                            "<tr><td>20</td><td>2016-05-05</td><td>11072</td><td>2016-04-13</td></tr>",
                            "<tr><td>21</td><td>2014-11-06</td><td>10347</td><td>NULL</td></tr>",
                            "<tr><td>21</td><td>2014-12-18</td><td>10386</td><td>2014-11-06</td></tr>",
                            "<tr><td>21</td><td>2015-01-14</td><td>10414</td><td>2014-12-18</td></tr>",
                            "<tr><td>21</td><td>2015-04-21</td><td>10512</td><td>2015-01-14</td></tr>",
                            "<tr><td>21</td><td>2015-06-26</td><td>10581</td><td>2015-04-21</td></tr>",
                            "<tr><td>21</td><td>2015-08-29</td><td>10650</td><td>2015-06-26</td></tr>",
                            "<tr><td>21</td><td>2015-10-31</td><td>10725</td><td>2015-08-29</td></tr>",
                            "<tr><td>23</td><td>2015-01-08</td><td>10408</td><td>NULL</td></tr>",
                            "<tr><td>23</td><td>2015-03-20</td><td>10480</td><td>2015-01-08</td></tr>",
                            "<tr><td>23</td><td>2015-08-15</td><td>10634</td><td>2015-03-20</td></tr>",
                            "<tr><td>23</td><td>2015-12-03</td><td>10763</td><td>2015-08-15</td></tr>",
                            "<tr><td>23</td><td>2015-12-22</td><td>10789</td><td>2015-12-03</td></tr>",
                            "<tr><td>24</td><td>2014-07-24</td><td>10264</td><td>NULL</td></tr>",
                            "<tr><td>24</td><td>2014-10-11</td><td>10327</td><td>2014-07-24</td></tr>",
                            "<tr><td>24</td><td>2014-12-10</td><td>10378</td><td>2014-10-11</td></tr>",
                            "<tr><td>24</td><td>2015-02-03</td><td>10434</td><td>2014-12-10</td></tr>",
                            "<tr><td>24</td><td>2015-02-28</td><td>10460</td><td>2015-02-03</td></tr>",
                            "<tr><td>24</td><td>2015-05-12</td><td>10533</td><td>2015-02-28</td></tr>",
                            "<tr><td>24</td><td>2015-06-06</td><td>10561</td><td>2015-05-12</td></tr>",
                            "<tr><td>24</td><td>2015-10-14</td><td>10703</td><td>2015-06-06</td></tr>",
                            "<tr><td>24</td><td>2015-12-02</td><td>10762</td><td>2015-10-14</td></tr>",
                            "<tr><td>24</td><td>2015-12-11</td><td>10774</td><td>2015-12-02</td></tr>",
                            "<tr><td>24</td><td>2016-01-09</td><td>10824</td><td>2015-12-11</td></tr>",
                            "<tr><td>24</td><td>2016-02-10</td><td>10880</td><td>2016-01-09</td></tr>",
                            "<tr><td>24</td><td>2016-02-23</td><td>10902</td><td>2016-02-10</td></tr>",
                            "<tr><td>24</td><td>2016-03-17</td><td>10955</td><td>2016-02-23</td></tr>",
                            "<tr><td>24</td><td>2016-03-26</td><td>10977</td><td>2016-03-17</td></tr>",
                            "<tr><td>24</td><td>2016-03-27</td><td>10980</td><td>2016-03-26</td></tr>",
                            "<tr><td>24</td><td>2016-04-01</td><td>10993</td><td>2016-03-27</td></tr>",
                            "<tr><td>24</td><td>2016-04-06</td><td>11001</td><td>2016-04-01</td></tr>",
                            "<tr><td>24</td><td>2016-04-27</td><td>11050</td><td>2016-04-06</td></tr>",
                            "<tr><td>25</td><td>2014-07-29</td><td>10267</td><td>NULL</td></tr>",
                            "<tr><td>25</td><td>2014-10-24</td><td>10337</td><td>2014-07-29</td></tr>",
                            "<tr><td>25</td><td>2014-10-30</td><td>10342</td><td>2014-10-24</td></tr>",
                            "<tr><td>25</td><td>2014-12-27</td><td>10396</td><td>2014-10-30</td></tr>",
                            "<tr><td>25</td><td>2015-03-27</td><td>10488</td><td>2014-12-27</td></tr>",
                            "<tr><td>25</td><td>2015-06-06</td><td>10560</td><td>2015-03-27</td></tr>",
                            "<tr><td>25</td><td>2015-08-07</td><td>10623</td><td>2015-06-06</td></tr>",
                            "<tr><td>25</td><td>2015-09-02</td><td>10653</td><td>2015-08-07</td></tr>",
                            "<tr><td>25</td><td>2015-09-16</td><td>10670</td><td>2015-09-02</td></tr>",
                            "<tr><td>25</td><td>2015-09-19</td><td>10675</td><td>2015-09-16</td></tr>",
                            "<tr><td>25</td><td>2015-10-24</td><td>10717</td><td>2015-09-19</td></tr>",
                            "<tr><td>25</td><td>2015-12-23</td><td>10791</td><td>2015-10-24</td></tr>",
                            "<tr><td>25</td><td>2016-01-29</td><td>10859</td><td>2015-12-23</td></tr>",
                            "<tr><td>25</td><td>2016-03-05</td><td>10929</td><td>2016-01-29</td></tr>",
                            "<tr><td>25</td><td>2016-04-09</td><td>11012</td><td>2016-03-05</td></tr>",
                            "<tr><td>26</td><td>2015-09-17</td><td>10671</td><td>NULL</td></tr>",
                            "<tr><td>26</td><td>2016-01-29</td><td>10860</td><td>2015-09-17</td></tr>",
                            "<tr><td>26</td><td>2016-03-24</td><td>10971</td><td>2016-01-29</td></tr>",
                            "<tr><td>27</td><td>2015-01-22</td><td>10422</td><td>NULL</td></tr>",
                            "<tr><td>27</td><td>2015-10-20</td><td>10710</td><td>2015-01-22</td></tr>",
                            "<tr><td>27</td><td>2015-11-25</td><td>10753</td><td>2015-10-20</td></tr>",
                            "<tr><td>27</td><td>2015-12-31</td><td>10807</td><td>2015-11-25</td></tr>",
                            "<tr><td>27</td><td>2016-04-15</td><td>11026</td><td>2015-12-31</td></tr>",
                            "<tr><td>27</td><td>2016-04-30</td><td>11060</td><td>2016-04-15</td></tr>",
                            "<tr><td>28</td><td>2014-10-14</td><td>10328</td><td>NULL</td></tr>",
                            "<tr><td>28</td><td>2014-11-12</td><td>10352</td><td>2014-10-14</td></tr>",
                            "<tr><td>28</td><td>2015-03-04</td><td>10464</td><td>2014-11-12</td></tr>",
                            "<tr><td>28</td><td>2015-03-31</td><td>10491</td><td>2015-03-04</td></tr>",
                            "<tr><td>28</td><td>2015-05-28</td><td>10551</td><td>2015-03-31</td></tr>",
                            "<tr><td>28</td><td>2015-07-18</td><td>10604</td><td>2015-05-28</td></tr>",
                            "<tr><td>28</td><td>2015-09-10</td><td>10664</td><td>2015-07-18</td></tr>",
                            "<tr><td>28</td><td>2016-03-19</td><td>10963</td><td>2015-09-10</td></tr>",
                            "<tr><td>29</td><td>2014-11-28</td><td>10366</td><td>NULL</td></tr>",
                            "<tr><td>29</td><td>2015-01-27</td><td>10426</td><td>2014-11-28</td></tr>",
                            "<tr><td>29</td><td>2015-06-13</td><td>10568</td><td>2015-01-27</td></tr>",
                            "<tr><td>29</td><td>2016-02-13</td><td>10887</td><td>2015-06-13</td></tr>",
                            "<tr><td>29</td><td>2016-03-05</td><td>10928</td><td>2016-02-13</td></tr>",
                            "<tr><td>30</td><td>2014-09-11</td><td>10303</td><td>NULL</td></tr>",
                            "<tr><td>30</td><td>2015-05-28</td><td>10550</td><td>2014-09-11</td></tr>",
                            "<tr><td>30</td><td>2015-08-12</td><td>10629</td><td>2015-05-28</td></tr>",
                            "<tr><td>30</td><td>2016-02-05</td><td>10872</td><td>2015-08-12</td></tr>",
                            "<tr><td>30</td><td>2016-02-06</td><td>10874</td><td>2016-02-05</td></tr>",
                            "<tr><td>30</td><td>2016-02-16</td><td>10888</td><td>2016-02-06</td></tr>",
                            "<tr><td>30</td><td>2016-02-26</td><td>10911</td><td>2016-02-16</td></tr>",
                            "<tr><td>30</td><td>2016-03-13</td><td>10948</td><td>2016-02-26</td></tr>",
                            "<tr><td>30</td><td>2016-04-08</td><td>11009</td><td>2016-03-13</td></tr>",
                            "<tr><td>30</td><td>2016-04-21</td><td>11037</td><td>2016-04-08</td></tr>",
                            "<tr><td>31</td><td>2015-01-23</td><td>10423</td><td>NULL</td></tr>",
                            "<tr><td>31</td><td>2015-09-01</td><td>10652</td><td>2015-01-23</td></tr>",
                            "<tr><td>31</td><td>2015-09-29</td><td>10685</td><td>2015-09-01</td></tr>",
                            "<tr><td>31</td><td>2015-10-17</td><td>10709</td><td>2015-09-29</td></tr>",
                            "<tr><td>31</td><td>2015-11-07</td><td>10734</td><td>2015-10-17</td></tr>",
                            "<tr><td>31</td><td>2015-12-15</td><td>10777</td><td>2015-11-07</td></tr>",
                            "<tr><td>31</td><td>2015-12-22</td><td>10790</td><td>2015-12-15</td></tr>",
                            "<tr><td>31</td><td>2016-03-18</td><td>10959</td><td>2015-12-22</td></tr>",
                            "<tr><td>31</td><td>2016-04-24</td><td>11049</td><td>2016-03-18</td></tr>",
                            "<tr><td>32</td><td>2015-05-06</td><td>10528</td><td>NULL</td></tr>",
                            "<tr><td>32</td><td>2015-07-04</td><td>10589</td><td>2015-05-06</td></tr>",
                            "<tr><td>32</td><td>2015-07-31</td><td>10616</td><td>2015-07-04</td></tr>",
                            "<tr><td>32</td><td>2015-07-31</td><td>10617</td><td>2015-07-31</td></tr>",
                            "<tr><td>32</td><td>2015-09-04</td><td>10656</td><td>2015-07-31</td></tr>",
                            "<tr><td>32</td><td>2015-09-25</td><td>10681</td><td>2015-09-04</td></tr>",
                            "<tr><td>32</td><td>2016-01-06</td><td>10816</td><td>2015-09-25</td></tr>",
                            "<tr><td>32</td><td>2016-03-09</td><td>10936</td><td>2016-01-06</td></tr>",
                            "<tr><td>32</td><td>2016-04-07</td><td>11006</td><td>2016-03-09</td></tr>",
                            "<tr><td>32</td><td>2016-04-22</td><td>11040</td><td>2016-04-07</td></tr>",
                            "<tr><td>32</td><td>2016-04-30</td><td>11061</td><td>2016-04-22</td></tr>",
                            "<tr><td>33</td><td>2014-07-30</td><td>10268</td><td>NULL</td></tr>",
                            "<tr><td>33</td><td>2015-12-18</td><td>10785</td><td>2014-07-30</td></tr>",
                            "<tr><td>34</td><td>2014-07-08</td><td>10250</td><td>NULL</td></tr>",
                            "<tr><td>34</td><td>2014-07-10</td><td>10253</td><td>2014-07-08</td></tr>",
                            "<tr><td>34</td><td>2015-05-19</td><td>10541</td><td>2014-07-10</td></tr>",
                            "<tr><td>34</td><td>2015-08-26</td><td>10645</td><td>2015-05-19</td></tr>",
                            "<tr><td>34</td><td>2015-10-02</td><td>10690</td><td>2015-08-26</td></tr>",
                            "<tr><td>34</td><td>2015-12-09</td><td>10770</td><td>2015-10-02</td></tr>",
                            "<tr><td>34</td><td>2015-12-18</td><td>10783</td><td>2015-12-09</td></tr>",
                            "<tr><td>34</td><td>2016-02-13</td><td>10886</td><td>2015-12-18</td></tr>",
                            "<tr><td>34</td><td>2016-02-24</td><td>10903</td><td>2016-02-13</td></tr>",
                            "<tr><td>34</td><td>2016-03-03</td><td>10922</td><td>2016-02-24</td></tr>",
                            "<tr><td>34</td><td>2016-03-04</td><td>10925</td><td>2016-03-03</td></tr>",
                            "<tr><td>34</td><td>2016-03-27</td><td>10981</td><td>2016-03-04</td></tr>",
                            "<tr><td>34</td><td>2016-04-14</td><td>11022</td><td>2016-03-27</td></tr>",
                            "<tr><td>34</td><td>2016-04-27</td><td>11052</td><td>2016-04-14</td></tr>",
                            "<tr><td>35</td><td>2014-07-16</td><td>10257</td><td>NULL</td></tr>",
                            "<tr><td>35</td><td>2014-12-26</td><td>10395</td><td>2014-07-16</td></tr>",
                            "<tr><td>35</td><td>2015-03-17</td><td>10476</td><td>2014-12-26</td></tr>",
                            "<tr><td>35</td><td>2015-03-26</td><td>10486</td><td>2015-03-17</td></tr>",
                            "<tr><td>35</td><td>2015-03-31</td><td>10490</td><td>2015-03-26</td></tr>",
                            "<tr><td>35</td><td>2015-04-07</td><td>10498</td><td>2015-03-31</td></tr>",
                            "<tr><td>35</td><td>2015-05-29</td><td>10552</td><td>2015-04-07</td></tr>",
                            "<tr><td>35</td><td>2015-07-16</td><td>10601</td><td>2015-05-29</td></tr>",
                            "<tr><td>35</td><td>2015-07-29</td><td>10613</td><td>2015-07-16</td></tr>",
                            "<tr><td>35</td><td>2015-08-22</td><td>10641</td><td>2015-07-29</td></tr>",
                            "<tr><td>35</td><td>2015-10-15</td><td>10705</td><td>2015-08-22</td></tr>",
                            "<tr><td>35</td><td>2015-12-25</td><td>10796</td><td>2015-10-15</td></tr>",
                            "<tr><td>35</td><td>2016-02-02</td><td>10863</td><td>2015-12-25</td></tr>",
                            "<tr><td>35</td><td>2016-02-23</td><td>10901</td><td>2016-02-02</td></tr>",
                            "<tr><td>35</td><td>2016-03-18</td><td>10957</td><td>2016-02-23</td></tr>",
                            "<tr><td>35</td><td>2016-03-19</td><td>10960</td><td>2016-03-18</td></tr>",
                            "<tr><td>35</td><td>2016-03-25</td><td>10976</td><td>2016-03-19</td></tr>",
                            "<tr><td>35</td><td>2016-04-28</td><td>11055</td><td>2016-03-25</td></tr>",
                            "<tr><td>36</td><td>2014-12-06</td><td>10375</td><td>NULL</td></tr>",
                            "<tr><td>36</td><td>2014-12-25</td><td>10394</td><td>2014-12-06</td></tr>",
                            "<tr><td>36</td><td>2015-01-15</td><td>10415</td><td>2014-12-25</td></tr>",
                            "<tr><td>36</td><td>2015-07-16</td><td>10600</td><td>2015-01-15</td></tr>",
                            "<tr><td>36</td><td>2015-09-08</td><td>10660</td><td>2015-07-16</td></tr>",
                            "<tr><td>37</td><td>2014-09-05</td><td>10298</td><td>NULL</td></tr>",
                            "<tr><td>37</td><td>2014-09-19</td><td>10309</td><td>2014-09-05</td></tr>",
                            "<tr><td>37</td><td>2014-10-22</td><td>10335</td><td>2014-09-19</td></tr>",
                            "<tr><td>37</td><td>2014-12-05</td><td>10373</td><td>2014-10-22</td></tr>",
                            "<tr><td>37</td><td>2014-12-12</td><td>10380</td><td>2014-12-05</td></tr>",
                            "<tr><td>37</td><td>2015-01-29</td><td>10429</td><td>2014-12-12</td></tr>",
                            "<tr><td>37</td><td>2015-04-11</td><td>10503</td><td>2015-01-29</td></tr>",
                            "<tr><td>37</td><td>2015-04-24</td><td>10516</td><td>2015-04-11</td></tr>",
                            "<tr><td>37</td><td>2015-06-12</td><td>10567</td><td>2015-04-24</td></tr>",
                            "<tr><td>37</td><td>2015-08-27</td><td>10646</td><td>2015-06-12</td></tr>",
                            "<tr><td>37</td><td>2015-09-09</td><td>10661</td><td>2015-08-27</td></tr>",
                            "<tr><td>37</td><td>2015-09-30</td><td>10687</td><td>2015-09-09</td></tr>",
                            "<tr><td>37</td><td>2015-10-13</td><td>10701</td><td>2015-09-30</td></tr>",
                            "<tr><td>37</td><td>2015-10-21</td><td>10712</td><td>2015-10-13</td></tr>",
                            "<tr><td>37</td><td>2015-11-11</td><td>10736</td><td>2015-10-21</td></tr>",
                            "<tr><td>37</td><td>2016-02-19</td><td>10897</td><td>2015-11-11</td></tr>",
                            "<tr><td>37</td><td>2016-02-26</td><td>10912</td><td>2016-02-19</td></tr>",
                            "<tr><td>37</td><td>2016-03-30</td><td>10985</td><td>2016-02-26</td></tr>",
                            "<tr><td>37</td><td>2016-04-30</td><td>11063</td><td>2016-03-30</td></tr>",
                            "<tr><td>38</td><td>2014-09-26</td><td>10315</td><td>NULL</td></tr>",
                            "<tr><td>38</td><td>2014-10-01</td><td>10318</td><td>2014-09-26</td></tr>",
                            "<tr><td>38</td><td>2014-10-03</td><td>10321</td><td>2014-10-01</td></tr>",
                            "<tr><td>38</td><td>2015-03-13</td><td>10473</td><td>2014-10-03</td></tr>",
                            "<tr><td>38</td><td>2015-08-05</td><td>10621</td><td>2015-03-13</td></tr>",
                            "<tr><td>38</td><td>2015-09-18</td><td>10674</td><td>2015-08-05</td></tr>",
                            "<tr><td>38</td><td>2015-11-20</td><td>10749</td><td>2015-09-18</td></tr>",
                            "<tr><td>38</td><td>2015-12-26</td><td>10798</td><td>2015-11-20</td></tr>",
                            "<tr><td>38</td><td>2016-01-13</td><td>10829</td><td>2015-12-26</td></tr>",
                            "<tr><td>38</td><td>2016-03-06</td><td>10933</td><td>2016-01-13</td></tr>",
                            "<tr><td>39</td><td>2014-10-07</td><td>10323</td><td>NULL</td></tr>",
                            "<tr><td>39</td><td>2014-10-09</td><td>10325</td><td>2014-10-07</td></tr>",
                            "<tr><td>39</td><td>2015-02-25</td><td>10456</td><td>2014-10-09</td></tr>",
                            "<tr><td>39</td><td>2015-02-25</td><td>10457</td><td>2015-02-25</td></tr>",
                            "<tr><td>39</td><td>2015-03-07</td><td>10468</td><td>2015-02-25</td></tr>",
                            "<tr><td>39</td><td>2015-04-15</td><td>10506</td><td>2015-03-07</td></tr>",
                            "<tr><td>39</td><td>2015-05-20</td><td>10542</td><td>2015-04-15</td></tr>",
                            "<tr><td>39</td><td>2015-08-13</td><td>10630</td><td>2015-05-20</td></tr>",
                            "<tr><td>39</td><td>2015-10-27</td><td>10718</td><td>2015-08-13</td></tr>",
                            "<tr><td>39</td><td>2015-12-26</td><td>10799</td><td>2015-10-27</td></tr>",
                            "<tr><td>39</td><td>2016-01-06</td><td>10817</td><td>2015-12-26</td></tr>",
                            "<tr><td>39</td><td>2016-01-23</td><td>10849</td><td>2016-01-06</td></tr>",
                            "<tr><td>39</td><td>2016-02-18</td><td>10893</td><td>2016-01-23</td></tr>",
                            "<tr><td>39</td><td>2016-04-16</td><td>11028</td><td>2016-02-18</td></tr>",
                            "<tr><td>40</td><td>2016-01-29</td><td>10858</td><td>NULL</td></tr>",
                            "<tr><td>40</td><td>2016-03-05</td><td>10927</td><td>2016-01-29</td></tr>",
                            "<tr><td>40</td><td>2016-03-24</td><td>10972</td><td>2016-03-05</td></tr>",
                            "<tr><td>40</td><td>2016-03-24</td><td>10973</td><td>2016-03-24</td></tr>",
                            "<tr><td>41</td><td>2014-11-11</td><td>10350</td><td>NULL</td></tr>",
                            "<tr><td>41</td><td>2014-11-20</td><td>10358</td><td>2014-11-11</td></tr>",
                            "<tr><td>41</td><td>2014-12-03</td><td>10371</td><td>2014-11-20</td></tr>",
                            "<tr><td>41</td><td>2015-01-14</td><td>10413</td><td>2014-12-03</td></tr>",
                            "<tr><td>41</td><td>2015-01-24</td><td>10425</td><td>2015-01-14</td></tr>",
                            "<tr><td>41</td><td>2015-02-21</td><td>10454</td><td>2015-01-24</td></tr>",
                            "<tr><td>41</td><td>2015-04-02</td><td>10493</td><td>2015-02-21</td></tr>",
                            "<tr><td>41</td><td>2015-04-09</td><td>10500</td><td>2015-04-02</td></tr>",
                            "<tr><td>41</td><td>2015-07-25</td><td>10610</td><td>2015-04-09</td></tr>",
                            "<tr><td>41</td><td>2015-08-14</td><td>10631</td><td>2015-07-25</td></tr>",
                            "<tr><td>41</td><td>2015-12-19</td><td>10787</td><td>2015-08-14</td></tr>",
                            "<tr><td>41</td><td>2016-01-14</td><td>10832</td><td>2015-12-19</td></tr>",
                            "<tr><td>41</td><td>2016-03-03</td><td>10923</td><td>2016-01-14</td></tr>",
                            "<tr><td>41</td><td>2016-04-27</td><td>11051</td><td>2016-03-03</td></tr>",
                            "<tr><td>42</td><td>2015-04-03</td><td>10495</td><td>NULL</td></tr>",
                            "<tr><td>42</td><td>2015-08-05</td><td>10620</td><td>2015-04-03</td></tr>",
                            "<tr><td>42</td><td>2016-01-01</td><td>10810</td><td>2015-08-05</td></tr>",
                            "<tr><td>43</td><td>2015-03-21</td><td>10482</td><td>NULL</td></tr>",
                            "<tr><td>43</td><td>2015-05-22</td><td>10545</td><td>2015-03-21</td></tr>",
                            "<tr><td>44</td><td>2014-08-13</td><td>10279</td><td>NULL</td></tr>",
                            "<tr><td>44</td><td>2014-08-19</td><td>10284</td><td>2014-08-13</td></tr>",
                            "<tr><td>44</td><td>2014-10-31</td><td>10343</td><td>2014-08-19</td></tr>",
                            "<tr><td>44</td><td>2015-04-04</td><td>10497</td><td>2014-10-31</td></tr>",
                            "<tr><td>44</td><td>2015-04-30</td><td>10522</td><td>2015-04-04</td></tr>",
                            "<tr><td>44</td><td>2015-05-12</td><td>10534</td><td>2015-04-30</td></tr>",
                            "<tr><td>44</td><td>2015-05-14</td><td>10536</td><td>2015-05-12</td></tr>",
                            "<tr><td>44</td><td>2015-06-03</td><td>10557</td><td>2015-05-14</td></tr>",
                            "<tr><td>44</td><td>2015-07-08</td><td>10592</td><td>2015-06-03</td></tr>",
                            "<tr><td>44</td><td>2015-07-09</td><td>10593</td><td>2015-07-08</td></tr>",
                            "<tr><td>44</td><td>2015-12-10</td><td>10772</td><td>2015-07-09</td></tr>",
                            "<tr><td>44</td><td>2016-01-30</td><td>10862</td><td>2015-12-10</td></tr>",
                            "<tr><td>44</td><td>2016-02-17</td><td>10891</td><td>2016-01-30</td></tr>",
                            "<tr><td>44</td><td>2016-03-09</td><td>10934</td><td>2016-02-17</td></tr>",
                            "<tr><td>44</td><td>2016-05-05</td><td>11070</td><td>2016-03-09</td></tr>",
                            "<tr><td>45</td><td>2015-06-25</td><td>10579</td><td>NULL</td></tr>",
                            "<tr><td>45</td><td>2015-10-27</td><td>10719</td><td>2015-06-25</td></tr>",
                            "<tr><td>45</td><td>2015-11-10</td><td>10735</td><td>2015-10-27</td></tr>",
                            "<tr><td>45</td><td>2016-02-12</td><td>10884</td><td>2015-11-10</td></tr>",
                            "<tr><td>46</td><td>2014-08-16</td><td>10283</td><td>NULL</td></tr>",
                            "<tr><td>46</td><td>2014-09-03</td><td>10296</td><td>2014-08-16</td></tr>",
                            "<tr><td>46</td><td>2014-10-16</td><td>10330</td><td>2014-09-03</td></tr>",
                            "<tr><td>46</td><td>2014-11-19</td><td>10357</td><td>2014-10-16</td></tr>",
                            "<tr><td>46</td><td>2014-12-12</td><td>10381</td><td>2014-11-19</td></tr>",
                            "<tr><td>46</td><td>2015-02-28</td><td>10461</td><td>2014-12-12</td></tr>",
                            "<tr><td>46</td><td>2015-04-08</td><td>10499</td><td>2015-02-28</td></tr>",
                            "<tr><td>46</td><td>2015-05-21</td><td>10543</td><td>2015-04-08</td></tr>",
                            "<tr><td>46</td><td>2015-12-16</td><td>10780</td><td>2015-05-21</td></tr>",
                            "<tr><td>46</td><td>2016-01-09</td><td>10823</td><td>2015-12-16</td></tr>",
                            "<tr><td>46</td><td>2016-02-20</td><td>10899</td><td>2016-01-09</td></tr>",
                            "<tr><td>46</td><td>2016-04-03</td><td>10997</td><td>2016-02-20</td></tr>",
                            "<tr><td>46</td><td>2016-05-01</td><td>11065</td><td>2016-04-03</td></tr>",
                            "<tr><td>46</td><td>2016-05-05</td><td>11071</td><td>2016-05-01</td></tr>",
                            "<tr><td>47</td><td>2015-01-06</td><td>10405</td><td>NULL</td></tr>",
                            "<tr><td>47</td><td>2015-03-25</td><td>10485</td><td>2015-01-06</td></tr>",
                            "<tr><td>47</td><td>2015-08-20</td><td>10638</td><td>2015-03-25</td></tr>",
                            "<tr><td>47</td><td>2015-10-08</td><td>10697</td><td>2015-08-20</td></tr>",
                            "<tr><td>47</td><td>2015-11-04</td><td>10729</td><td>2015-10-08</td></tr>",
                            "<tr><td>47</td><td>2016-01-02</td><td>10811</td><td>2015-11-04</td></tr>",
                            "<tr><td>47</td><td>2016-01-19</td><td>10838</td><td>2016-01-02</td></tr>",
                            "<tr><td>47</td><td>2016-01-19</td><td>10840</td><td>2016-01-19</td></tr>",
                            "<tr><td>47</td><td>2016-03-02</td><td>10919</td><td>2016-01-19</td></tr>",
                            "<tr><td>47</td><td>2016-03-17</td><td>10954</td><td>2016-03-02</td></tr>",
                            "<tr><td>47</td><td>2016-04-10</td><td>11014</td><td>2016-03-17</td></tr>",
                            "<tr><td>47</td><td>2016-04-21</td><td>11039</td><td>2016-04-10</td></tr>",
                            "<tr><td>48</td><td>2014-09-17</td><td>10307</td><td>NULL</td></tr>",
                            "<tr><td>48</td><td>2014-09-30</td><td>10317</td><td>2014-09-17</td></tr>",
                            "<tr><td>48</td><td>2015-05-21</td><td>10544</td><td>2014-09-30</td></tr>",
                            "<tr><td>48</td><td>2015-09-09</td><td>10662</td><td>2015-05-21</td></tr>",
                            "<tr><td>48</td><td>2015-09-11</td><td>10665</td><td>2015-09-09</td></tr>",
                            "<tr><td>48</td><td>2016-02-03</td><td>10867</td><td>2015-09-11</td></tr>",
                            "<tr><td>48</td><td>2016-02-12</td><td>10883</td><td>2016-02-03</td></tr>",
                            "<tr><td>48</td><td>2016-04-13</td><td>11018</td><td>2016-02-12</td></tr>",
                            "<tr><td>49</td><td>2014-08-07</td><td>10275</td><td>NULL</td></tr>",
                            "<tr><td>49</td><td>2014-09-09</td><td>10300</td><td>2014-08-07</td></tr>",
                            "<tr><td>49</td><td>2015-01-03</td><td>10404</td><td>2014-09-09</td></tr>",
                            "<tr><td>49</td><td>2015-03-06</td><td>10467</td><td>2015-01-03</td></tr>",
                            "<tr><td>49</td><td>2015-08-18</td><td>10635</td><td>2015-03-06</td></tr>",
                            "<tr><td>49</td><td>2015-11-25</td><td>10754</td><td>2015-08-18</td></tr>",
                            "<tr><td>49</td><td>2015-12-18</td><td>10784</td><td>2015-11-25</td></tr>",
                            "<tr><td>49</td><td>2016-01-07</td><td>10818</td><td>2015-12-18</td></tr>",
                            "<tr><td>49</td><td>2016-03-10</td><td>10939</td><td>2016-01-07</td></tr>",
                            "<tr><td>49</td><td>2016-03-16</td><td>10950</td><td>2016-03-10</td></tr>",
                            "<tr><td>50</td><td>2015-05-07</td><td>10529</td><td>NULL</td></tr>",
                            "<tr><td>50</td><td>2015-08-28</td><td>10649</td><td>2015-05-07</td></tr>",
                            "<tr><td>50</td><td>2015-12-01</td><td>10760</td><td>2015-08-28</td></tr>",
                            "<tr><td>50</td><td>2016-02-17</td><td>10892</td><td>2015-12-01</td></tr>",
                            "<tr><td>50</td><td>2016-02-19</td><td>10896</td><td>2016-02-17</td></tr>",
                            "<tr><td>50</td><td>2016-03-26</td><td>10978</td><td>2016-02-19</td></tr>",
                            "<tr><td>50</td><td>2016-04-07</td><td>11004</td><td>2016-03-26</td></tr>",
                            "<tr><td>51</td><td>2014-10-17</td><td>10332</td><td>NULL</td></tr>",
                            "<tr><td>51</td><td>2014-10-28</td><td>10339</td><td>2014-10-17</td></tr>",
                            "<tr><td>51</td><td>2014-12-09</td><td>10376</td><td>2014-10-28</td></tr>",
                            "<tr><td>51</td><td>2015-01-23</td><td>10424</td><td>2014-12-09</td></tr>",
                            "<tr><td>51</td><td>2015-02-07</td><td>10439</td><td>2015-01-23</td></tr>",
                            "<tr><td>51</td><td>2015-04-14</td><td>10505</td><td>2015-02-07</td></tr>",
                            "<tr><td>51</td><td>2015-06-11</td><td>10565</td><td>2015-04-14</td></tr>",
                            "<tr><td>51</td><td>2015-06-17</td><td>10570</td><td>2015-06-11</td></tr>",
                            "<tr><td>51</td><td>2015-07-07</td><td>10590</td><td>2015-06-17</td></tr>",
                            "<tr><td>51</td><td>2015-07-21</td><td>10605</td><td>2015-07-07</td></tr>",
                            "<tr><td>51</td><td>2015-08-01</td><td>10618</td><td>2015-07-21</td></tr>",
                            "<tr><td>51</td><td>2015-08-04</td><td>10619</td><td>2015-08-01</td></tr>",
                            "<tr><td>51</td><td>2015-10-30</td><td>10724</td><td>2015-08-04</td></tr>",
                            "<tr><td>52</td><td>2014-08-09</td><td>10277</td><td>NULL</td></tr>",
                            "<tr><td>52</td><td>2015-06-20</td><td>10575</td><td>2014-08-09</td></tr>",
                            "<tr><td>52</td><td>2015-10-09</td><td>10699</td><td>2015-06-20</td></tr>",
                            "<tr><td>52</td><td>2015-12-16</td><td>10779</td><td>2015-10-09</td></tr>",
                            "<tr><td>52</td><td>2016-03-12</td><td>10945</td><td>2015-12-16</td></tr>",
                            "<tr><td>53</td><td>2015-04-24</td><td>10517</td><td>NULL</td></tr>",
                            "<tr><td>53</td><td>2015-11-24</td><td>10752</td><td>2015-04-24</td></tr>",
                            "<tr><td>53</td><td>2016-04-29</td><td>11057</td><td>2015-11-24</td></tr>",
                            "<tr><td>54</td><td>2015-01-09</td><td>10409</td><td>NULL</td></tr>",
                            "<tr><td>54</td><td>2015-05-08</td><td>10531</td><td>2015-01-09</td></tr>",
                            "<tr><td>54</td><td>2016-02-20</td><td>10898</td><td>2015-05-08</td></tr>",
                            "<tr><td>54</td><td>2016-03-18</td><td>10958</td><td>2016-02-20</td></tr>",
                            "<tr><td>54</td><td>2016-03-30</td><td>10986</td><td>2016-03-18</td></tr>",
                            "<tr><td>55</td><td>2014-09-13</td><td>10305</td><td>NULL</td></tr>",
                            "<tr><td>55</td><td>2014-10-25</td><td>10338</td><td>2014-09-13</td></tr>",
                            "<tr><td>55</td><td>2015-02-10</td><td>10441</td><td>2014-10-25</td></tr>",
                            "<tr><td>55</td><td>2015-07-09</td><td>10594</td><td>2015-02-10</td></tr>",
                            "<tr><td>55</td><td>2015-09-24</td><td>10680</td><td>2015-07-09</td></tr>",
                            "<tr><td>55</td><td>2015-10-16</td><td>10706</td><td>2015-09-24</td></tr>",
                            "<tr><td>55</td><td>2016-01-01</td><td>10808</td><td>2015-10-16</td></tr>",
                            "<tr><td>55</td><td>2016-01-27</td><td>10855</td><td>2016-01-01</td></tr>",
                            "<tr><td>55</td><td>2016-03-20</td><td>10965</td><td>2016-01-27</td></tr>",
                            "<tr><td>55</td><td>2016-04-20</td><td>11034</td><td>2016-03-20</td></tr>",
                            "<tr><td>56</td><td>2014-07-19</td><td>10260</td><td>NULL</td></tr>",
                            "<tr><td>56</td><td>2015-01-07</td><td>10407</td><td>2014-07-19</td></tr>",
                            "<tr><td>56</td><td>2015-04-16</td><td>10508</td><td>2015-01-07</td></tr>",
                            "<tr><td>56</td><td>2015-05-30</td><td>10554</td><td>2015-04-16</td></tr>",
                            "<tr><td>56</td><td>2015-06-26</td><td>10580</td><td>2015-05-30</td></tr>",
                            "<tr><td>56</td><td>2015-09-26</td><td>10684</td><td>2015-06-26</td></tr>",
                            "<tr><td>56</td><td>2015-12-05</td><td>10766</td><td>2015-09-26</td></tr>",
                            "<tr><td>56</td><td>2016-01-15</td><td>10833</td><td>2015-12-05</td></tr>",
                            "<tr><td>56</td><td>2016-04-03</td><td>10999</td><td>2016-01-15</td></tr>",
                            "<tr><td>56</td><td>2016-04-14</td><td>11020</td><td>2016-04-03</td></tr>",
                            "<tr><td>58</td><td>2014-10-04</td><td>10322</td><td>NULL</td></tr>",
                            "<tr><td>58</td><td>2014-11-14</td><td>10354</td><td>2014-10-04</td></tr>",
                            "<tr><td>58</td><td>2015-03-13</td><td>10474</td><td>2014-11-14</td></tr>",
                            "<tr><td>58</td><td>2015-04-10</td><td>10502</td><td>2015-03-13</td></tr>",
                            "<tr><td>58</td><td>2016-04-02</td><td>10995</td><td>2015-04-10</td></tr>",
                            "<tr><td>58</td><td>2016-05-05</td><td>11073</td><td>2016-04-02</td></tr>",
                            "<tr><td>59</td><td>2014-11-13</td><td>10353</td><td>NULL</td></tr>",
                            "<tr><td>59</td><td>2014-12-24</td><td>10392</td><td>2014-11-13</td></tr>",
                            "<tr><td>59</td><td>2015-01-27</td><td>10427</td><td>2014-12-24</td></tr>",
                            "<tr><td>59</td><td>2015-03-28</td><td>10489</td><td>2015-01-27</td></tr>",
                            "<tr><td>59</td><td>2015-05-08</td><td>10530</td><td>2015-03-28</td></tr>",
                            "<tr><td>59</td><td>2015-07-11</td><td>10597</td><td>2015-05-08</td></tr>",
                            "<tr><td>59</td><td>2015-09-30</td><td>10686</td><td>2015-07-11</td></tr>",
                            "<tr><td>59</td><td>2015-11-19</td><td>10747</td><td>2015-09-30</td></tr>",
                            "<tr><td>59</td><td>2016-01-21</td><td>10844</td><td>2015-11-19</td></tr>",
                            "<tr><td>59</td><td>2016-04-27</td><td>11053</td><td>2016-01-21</td></tr>",
                            "<tr><td>60</td><td>2014-10-23</td><td>10336</td><td>NULL</td></tr>",
                            "<tr><td>60</td><td>2014-12-27</td><td>10397</td><td>2014-10-23</td></tr>",
                            "<tr><td>60</td><td>2015-02-03</td><td>10433</td><td>2014-12-27</td></tr>",
                            "<tr><td>60</td><td>2015-03-17</td><td>10477</td><td>2015-02-03</td></tr>",
                            "<tr><td>60</td><td>2016-04-08</td><td>11007</td><td>2015-03-17</td></tr>",
                            "<tr><td>61</td><td>2014-07-19</td><td>10261</td><td>NULL</td></tr>",
                            "<tr><td>61</td><td>2014-08-27</td><td>10291</td><td>2014-07-19</td></tr>",
                            "<tr><td>61</td><td>2014-12-11</td><td>10379</td><td>2014-08-27</td></tr>",
                            "<tr><td>61</td><td>2015-01-21</td><td>10421</td><td>2014-12-11</td></tr>",
                            "<tr><td>61</td><td>2015-07-02</td><td>10587</td><td>2015-01-21</td></tr>",
                            "<tr><td>61</td><td>2015-08-27</td><td>10647</td><td>2015-07-02</td></tr>",
                            "<tr><td>61</td><td>2015-10-28</td><td>10720</td><td>2015-08-27</td></tr>",
                            "<tr><td>61</td><td>2015-12-24</td><td>10794</td><td>2015-10-28</td></tr>",
                            "<tr><td>61</td><td>2016-03-31</td><td>10989</td><td>2015-12-24</td></tr>",
                            "<tr><td>62</td><td>2014-12-04</td><td>10372</td><td>NULL</td></tr>",
                            "<tr><td>62</td><td>2015-01-07</td><td>10406</td><td>2014-12-04</td></tr>",
                            "<tr><td>62</td><td>2015-03-26</td><td>10487</td><td>2015-01-07</td></tr>",
                            "<tr><td>62</td><td>2015-08-19</td><td>10637</td><td>2015-03-26</td></tr>",
                            "<tr><td>62</td><td>2015-09-05</td><td>10659</td><td>2015-08-19</td></tr>",
                            "<tr><td>62</td><td>2015-10-14</td><td>10704</td><td>2015-09-05</td></tr>",
                            "<tr><td>62</td><td>2015-11-04</td><td>10728</td><td>2015-10-14</td></tr>",
                            "<tr><td>62</td><td>2015-12-19</td><td>10786</td><td>2015-11-04</td></tr>",
                            "<tr><td>62</td><td>2016-02-04</td><td>10868</td><td>2015-12-19</td></tr>",
                            "<tr><td>62</td><td>2016-02-26</td><td>10913</td><td>2016-02-04</td></tr>",
                            "<tr><td>62</td><td>2016-02-27</td><td>10914</td><td>2016-02-26</td></tr>",
                            "<tr><td>62</td><td>2016-03-19</td><td>10961</td><td>2016-02-27</td></tr>",
                            "<tr><td>62</td><td>2016-05-04</td><td>11068</td><td>2016-03-19</td></tr>",
                            "<tr><td>63</td><td>2014-08-05</td><td>10273</td><td>NULL</td></tr>",
                            "<tr><td>63</td><td>2014-08-20</td><td>10285</td><td>2014-08-05</td></tr>",
                            "<tr><td>63</td><td>2014-08-21</td><td>10286</td><td>2014-08-20</td></tr>",
                            "<tr><td>63</td><td>2014-09-24</td><td>10313</td><td>2014-08-21</td></tr>",
                            "<tr><td>63</td><td>2014-11-04</td><td>10345</td><td>2014-09-24</td></tr>",
                            "<tr><td>63</td><td>2014-11-22</td><td>10361</td><td>2014-11-04</td></tr>",
                            "<tr><td>63</td><td>2015-01-17</td><td>10418</td><td>2014-11-22</td></tr>",
                            "<tr><td>63</td><td>2015-02-19</td><td>10451</td><td>2015-01-17</td></tr>",
                            "<tr><td>63</td><td>2015-04-23</td><td>10515</td><td>2015-02-19</td></tr>",
                            "<tr><td>63</td><td>2015-05-05</td><td>10527</td><td>2015-04-23</td></tr>",
                            "<tr><td>63</td><td>2015-05-19</td><td>10540</td><td>2015-05-05</td></tr>",
                            "<tr><td>63</td><td>2015-05-27</td><td>10549</td><td>2015-05-19</td></tr>",
                            "<tr><td>63</td><td>2015-07-03</td><td>10588</td><td>2015-05-27</td></tr>",
                            "<tr><td>63</td><td>2015-09-05</td><td>10658</td><td>2015-07-03</td></tr>",
                            "<tr><td>63</td><td>2015-10-03</td><td>10691</td><td>2015-09-05</td></tr>",
                            "<tr><td>63</td><td>2015-10-06</td><td>10694</td><td>2015-10-03</td></tr>",
                            "<tr><td>63</td><td>2015-10-29</td><td>10721</td><td>2015-10-06</td></tr>",
                            "<tr><td>63</td><td>2015-11-18</td><td>10745</td><td>2015-10-29</td></tr>",
                            "<tr><td>63</td><td>2015-12-04</td><td>10765</td><td>2015-11-18</td></tr>",
                            "<tr><td>63</td><td>2015-12-22</td><td>10788</td><td>2015-12-04</td></tr>",
                            "<tr><td>63</td><td>2016-01-21</td><td>10845</td><td>2015-12-22</td></tr>",
                            "<tr><td>63</td><td>2016-02-02</td><td>10865</td><td>2016-01-21</td></tr>",
                            "<tr><td>63</td><td>2016-02-10</td><td>10878</td><td>2016-02-02</td></tr>",
                            "<tr><td>63</td><td>2016-03-10</td><td>10938</td><td>2016-02-10</td></tr>",
                            "<tr><td>63</td><td>2016-03-19</td><td>10962</td><td>2016-03-10</td></tr>",
                            "<tr><td>63</td><td>2016-04-01</td><td>10991</td><td>2016-03-19</td></tr>",
                            "<tr><td>63</td><td>2016-04-02</td><td>10996</td><td>2016-04-01</td></tr>",
                            "<tr><td>63</td><td>2016-04-14</td><td>11021</td><td>2016-04-02</td></tr>",
                            "<tr><td>64</td><td>2015-02-17</td><td>10448</td><td>NULL</td></tr>",
                            "<tr><td>64</td><td>2015-10-24</td><td>10716</td><td>2015-02-17</td></tr>",
                            "<tr><td>64</td><td>2016-01-13</td><td>10828</td><td>2015-10-24</td></tr>",
                            "<tr><td>64</td><td>2016-02-27</td><td>10916</td><td>2016-01-13</td></tr>",
                            "<tr><td>64</td><td>2016-04-13</td><td>11019</td><td>2016-02-27</td></tr>",
                            "<tr><td>65</td><td>2014-07-22</td><td>10262</td><td>NULL</td></tr>",
                            "<tr><td>65</td><td>2014-08-02</td><td>10272</td><td>2014-07-22</td></tr>",
                            "<tr><td>65</td><td>2014-08-30</td><td>10294</td><td>2014-08-02</td></tr>",
                            "<tr><td>65</td><td>2014-09-25</td><td>10314</td><td>2014-08-30</td></tr>",
                            "<tr><td>65</td><td>2014-09-27</td><td>10316</td><td>2014-09-25</td></tr>",
                            "<tr><td>65</td><td>2014-11-05</td><td>10346</td><td>2014-09-27</td></tr>",
                            "<tr><td>65</td><td>2015-01-01</td><td>10401</td><td>2014-11-05</td></tr>",
                            "<tr><td>65</td><td>2015-03-19</td><td>10479</td><td>2015-01-01</td></tr>",
                            "<tr><td>65</td><td>2015-06-10</td><td>10564</td><td>2015-03-19</td></tr>",
                            "<tr><td>65</td><td>2015-06-16</td><td>10569</td><td>2015-06-10</td></tr>",
                            "<tr><td>65</td><td>2015-07-14</td><td>10598</td><td>2015-06-16</td></tr>",
                            "<tr><td>65</td><td>2015-12-02</td><td>10761</td><td>2015-07-14</td></tr>",
                            "<tr><td>65</td><td>2016-01-07</td><td>10820</td><td>2015-12-02</td></tr>",
                            "<tr><td>65</td><td>2016-01-26</td><td>10852</td><td>2016-01-07</td></tr>",
                            "<tr><td>65</td><td>2016-02-16</td><td>10889</td><td>2016-01-26</td></tr>",
                            "<tr><td>65</td><td>2016-03-31</td><td>10988</td><td>2016-02-16</td></tr>",
                            "<tr><td>65</td><td>2016-04-06</td><td>11000</td><td>2016-03-31</td></tr>",
                            "<tr><td>65</td><td>2016-05-06</td><td>11077</td><td>2016-04-06</td></tr>",
                            "<tr><td>66</td><td>2014-08-23</td><td>10288</td><td>NULL</td></tr>",
                            "<tr><td>66</td><td>2015-01-28</td><td>10428</td><td>2014-08-23</td></tr>",
                            "<tr><td>66</td><td>2015-02-12</td><td>10443</td><td>2015-01-28</td></tr>",
                            "<tr><td>66</td><td>2015-06-09</td><td>10562</td><td>2015-02-12</td></tr>",
                            "<tr><td>66</td><td>2015-07-02</td><td>10586</td><td>2015-06-09</td></tr>",
                            "<tr><td>66</td><td>2015-09-03</td><td>10655</td><td>2015-07-02</td></tr>",
                            "<tr><td>66</td><td>2015-11-03</td><td>10727</td><td>2015-09-03</td></tr>",
                            "<tr><td>66</td><td>2016-01-02</td><td>10812</td><td>2015-11-03</td></tr>",
                            "<tr><td>66</td><td>2016-02-26</td><td>10908</td><td>2016-01-02</td></tr>",
                            "<tr><td>66</td><td>2016-03-11</td><td>10942</td><td>2016-02-26</td></tr>",
                            "<tr><td>66</td><td>2016-04-09</td><td>11010</td><td>2016-03-11</td></tr>",
                            "<tr><td>66</td><td>2016-04-30</td><td>11062</td><td>2016-04-09</td></tr>",
                            "<tr><td>67</td><td>2014-08-22</td><td>10287</td><td>NULL</td></tr>",
                            "<tr><td>67</td><td>2014-09-06</td><td>10299</td><td>2014-08-22</td></tr>",
                            "<tr><td>67</td><td>2015-02-14</td><td>10447</td><td>2014-09-06</td></tr>",
                            "<tr><td>67</td><td>2015-03-20</td><td>10481</td><td>2015-02-14</td></tr>",
                            "<tr><td>67</td><td>2015-06-10</td><td>10563</td><td>2015-03-20</td></tr>",
                            "<tr><td>67</td><td>2015-08-06</td><td>10622</td><td>2015-06-10</td></tr>",
                            "<tr><td>67</td><td>2015-08-28</td><td>10648</td><td>2015-08-06</td></tr>",
                            "<tr><td>67</td><td>2016-01-05</td><td>10813</td><td>2015-08-28</td></tr>",
                            "<tr><td>67</td><td>2016-01-26</td><td>10851</td><td>2016-01-05</td></tr>",
                            "<tr><td>67</td><td>2016-02-09</td><td>10877</td><td>2016-01-26</td></tr>",
                            "<tr><td>67</td><td>2016-04-29</td><td>11059</td><td>2016-02-09</td></tr>",
                            "<tr><td>68</td><td>2014-07-12</td><td>10255</td><td>NULL</td></tr>",
                            "<tr><td>68</td><td>2015-01-20</td><td>10419</td><td>2014-07-12</td></tr>",
                            "<tr><td>68</td><td>2015-05-14</td><td>10537</td><td>2015-01-20</td></tr>",
                            "<tr><td>68</td><td>2015-09-12</td><td>10666</td><td>2015-05-14</td></tr>",
                            "<tr><td>68</td><td>2015-11-24</td><td>10751</td><td>2015-09-12</td></tr>",
                            "<tr><td>68</td><td>2015-11-28</td><td>10758</td><td>2015-11-24</td></tr>",
                            "<tr><td>68</td><td>2016-03-06</td><td>10931</td><td>2015-11-28</td></tr>",
                            "<tr><td>68</td><td>2016-03-16</td><td>10951</td><td>2016-03-06</td></tr>",
                            "<tr><td>68</td><td>2016-04-17</td><td>11033</td><td>2016-03-16</td></tr>",
                            "<tr><td>68</td><td>2016-05-06</td><td>11075</td><td>2016-04-17</td></tr>",
                            "<tr><td>69</td><td>2014-08-14</td><td>10281</td><td>NULL</td></tr>",
                            "<tr><td>69</td><td>2014-08-15</td><td>10282</td><td>2014-08-14</td></tr>",
                            "<tr><td>69</td><td>2014-09-16</td><td>10306</td><td>2014-08-15</td></tr>",
                            "<tr><td>69</td><td>2016-03-02</td><td>10917</td><td>2014-09-16</td></tr>",
                            "<tr><td>69</td><td>2016-04-09</td><td>11013</td><td>2016-03-02</td></tr>",
                            "<tr><td>70</td><td>2014-12-18</td><td>10387</td><td>NULL</td></tr>",
                            "<tr><td>70</td><td>2015-04-29</td><td>10520</td><td>2014-12-18</td></tr>",
                            "<tr><td>70</td><td>2015-08-20</td><td>10639</td><td>2015-04-29</td></tr>",
                            "<tr><td>70</td><td>2016-01-14</td><td>10831</td><td>2015-08-20</td></tr>",
                            "<tr><td>70</td><td>2016-02-26</td><td>10909</td><td>2016-01-14</td></tr>",
                            "<tr><td>70</td><td>2016-04-10</td><td>11015</td><td>2016-02-26</td></tr>",
                            "<tr><td>71</td><td>2014-10-08</td><td>10324</td><td>NULL</td></tr>",
                            "<tr><td>71</td><td>2014-12-25</td><td>10393</td><td>2014-10-08</td></tr>",
                            "<tr><td>71</td><td>2014-12-30</td><td>10398</td><td>2014-12-25</td></tr>",
                            "<tr><td>71</td><td>2015-02-10</td><td>10440</td><td>2014-12-30</td></tr>",
                            "<tr><td>71</td><td>2015-02-20</td><td>10452</td><td>2015-02-10</td></tr>",
                            "<tr><td>71</td><td>2015-04-18</td><td>10510</td><td>2015-02-20</td></tr>",
                            "<tr><td>71</td><td>2015-06-02</td><td>10555</td><td>2015-04-18</td></tr>",
                            "<tr><td>71</td><td>2015-07-18</td><td>10603</td><td>2015-06-02</td></tr>",
                            "<tr><td>71</td><td>2015-07-22</td><td>10607</td><td>2015-07-18</td></tr>",
                            "<tr><td>71</td><td>2015-07-28</td><td>10612</td><td>2015-07-22</td></tr>",
                            "<tr><td>71</td><td>2015-08-11</td><td>10627</td><td>2015-07-28</td></tr>",
                            "<tr><td>71</td><td>2015-09-04</td><td>10657</td><td>2015-08-11</td></tr>",
                            "<tr><td>71</td><td>2015-09-23</td><td>10678</td><td>2015-09-04</td></tr>",
                            "<tr><td>71</td><td>2015-10-10</td><td>10700</td><td>2015-09-23</td></tr>",
                            "<tr><td>71</td><td>2015-10-21</td><td>10711</td><td>2015-10-10</td></tr>",
                            "<tr><td>71</td><td>2015-10-22</td><td>10713</td><td>2015-10-21</td></tr>",
                            "<tr><td>71</td><td>2015-10-22</td><td>10714</td><td>2015-10-22</td></tr>",
                            "<tr><td>71</td><td>2015-10-29</td><td>10722</td><td>2015-10-22</td></tr>",
                            "<tr><td>71</td><td>2015-11-20</td><td>10748</td><td>2015-10-29</td></tr>",
                            "<tr><td>71</td><td>2015-11-27</td><td>10757</td><td>2015-11-20</td></tr>",
                            "<tr><td>71</td><td>2016-01-05</td><td>10815</td><td>2015-11-27</td></tr>",
                            "<tr><td>71</td><td>2016-01-22</td><td>10847</td><td>2016-01-05</td></tr>",
                            "<tr><td>71</td><td>2016-02-11</td><td>10882</td><td>2016-01-22</td></tr>",
                            "<tr><td>71</td><td>2016-02-18</td><td>10894</td><td>2016-02-11</td></tr>",
                            "<tr><td>71</td><td>2016-03-11</td><td>10941</td><td>2016-02-18</td></tr>",
                            "<tr><td>71</td><td>2016-03-27</td><td>10983</td><td>2016-03-11</td></tr>",
                            "<tr><td>71</td><td>2016-03-30</td><td>10984</td><td>2016-03-27</td></tr>",
                            "<tr><td>71</td><td>2016-04-06</td><td>11002</td><td>2016-03-30</td></tr>",
                            "<tr><td>71</td><td>2016-04-17</td><td>11030</td><td>2016-04-06</td></tr>",
                            "<tr><td>71</td><td>2016-04-17</td><td>11031</td><td>2016-04-17</td></tr>",
                            "<tr><td>71</td><td>2016-05-01</td><td>11064</td><td>2016-04-17</td></tr>",
                            "<tr><td>72</td><td>2014-11-21</td><td>10359</td><td>NULL</td></tr>",
                            "<tr><td>72</td><td>2014-12-09</td><td>10377</td><td>2014-11-21</td></tr>",
                            "<tr><td>72</td><td>2014-12-19</td><td>10388</td><td>2014-12-09</td></tr>",
                            "<tr><td>72</td><td>2015-03-12</td><td>10472</td><td>2014-12-19</td></tr>",
                            "<tr><td>72</td><td>2015-05-01</td><td>10523</td><td>2015-03-12</td></tr>",
                            "<tr><td>72</td><td>2015-05-23</td><td>10547</td><td>2015-05-01</td></tr>",
                            "<tr><td>72</td><td>2015-12-26</td><td>10800</td><td>2015-05-23</td></tr>",
                            "<tr><td>72</td><td>2015-12-30</td><td>10804</td><td>2015-12-26</td></tr>",
                            "<tr><td>72</td><td>2016-02-04</td><td>10869</td><td>2015-12-30</td></tr>",
                            "<tr><td>73</td><td>2014-10-29</td><td>10341</td><td>NULL</td></tr>",
                            "<tr><td>73</td><td>2015-01-16</td><td>10417</td><td>2014-10-29</td></tr>",
                            "<tr><td>73</td><td>2015-06-03</td><td>10556</td><td>2015-01-16</td></tr>",
                            "<tr><td>73</td><td>2015-08-22</td><td>10642</td><td>2015-06-03</td></tr>",
                            "<tr><td>73</td><td>2015-09-15</td><td>10669</td><td>2015-08-22</td></tr>",
                            "<tr><td>73</td><td>2015-12-29</td><td>10802</td><td>2015-09-15</td></tr>",
                            "<tr><td>73</td><td>2016-05-06</td><td>11074</td><td>2015-12-29</td></tr>",
                            "<tr><td>74</td><td>2015-11-12</td><td>10738</td><td>NULL</td></tr>",
                            "<tr><td>74</td><td>2016-02-25</td><td>10907</td><td>2015-11-12</td></tr>",
                            "<tr><td>74</td><td>2016-03-20</td><td>10964</td><td>2016-02-25</td></tr>",
                            "<tr><td>74</td><td>2016-04-22</td><td>11043</td><td>2016-03-20</td></tr>",
                            "<tr><td>75</td><td>2014-08-01</td><td>10271</td><td>NULL</td></tr>",
                            "<tr><td>75</td><td>2014-10-15</td><td>10329</td><td>2014-08-01</td></tr>",
                            "<tr><td>75</td><td>2014-11-08</td><td>10349</td><td>2014-10-15</td></tr>",
                            "<tr><td>75</td><td>2014-12-02</td><td>10369</td><td>2014-11-08</td></tr>",
                            "<tr><td>75</td><td>2014-12-17</td><td>10385</td><td>2014-12-02</td></tr>",
                            "<tr><td>75</td><td>2015-01-31</td><td>10432</td><td>2014-12-17</td></tr>",
                            "<tr><td>75</td><td>2015-11-27</td><td>10756</td><td>2015-01-31</td></tr>",
                            "<tr><td>75</td><td>2016-01-08</td><td>10821</td><td>2015-11-27</td></tr>",
                            "<tr><td>75</td><td>2016-03-25</td><td>10974</td><td>2016-01-08</td></tr>",
                            "<tr><td>76</td><td>2014-07-09</td><td>10252</td><td>NULL</td></tr>",
                            "<tr><td>76</td><td>2014-09-10</td><td>10302</td><td>2014-07-09</td></tr>",
                            "<tr><td>76</td><td>2015-02-26</td><td>10458</td><td>2014-09-10</td></tr>",
                            "<tr><td>76</td><td>2015-03-04</td><td>10463</td><td>2015-02-26</td></tr>",
                            "<tr><td>76</td><td>2015-03-14</td><td>10475</td><td>2015-03-04</td></tr>",
                            "<tr><td>76</td><td>2015-12-05</td><td>10767</td><td>2015-03-14</td></tr>",
                            "<tr><td>76</td><td>2016-01-20</td><td>10841</td><td>2015-12-05</td></tr>",
                            "<tr><td>76</td><td>2016-01-22</td><td>10846</td><td>2016-01-20</td></tr>",
                            "<tr><td>76</td><td>2016-02-12</td><td>10885</td><td>2016-01-22</td></tr>",
                            "<tr><td>76</td><td>2016-03-06</td><td>10930</td><td>2016-02-12</td></tr>",
                            "<tr><td>76</td><td>2016-04-20</td><td>11035</td><td>2016-03-06</td></tr>",
                            "<tr><td>76</td><td>2016-04-21</td><td>11038</td><td>2016-04-20</td></tr>",
                            "<tr><td>77</td><td>2014-09-20</td><td>10310</td><td>NULL</td></tr>",
                            "<tr><td>77</td><td>2015-10-17</td><td>10708</td><td>2014-09-20</td></tr>",
                            "<tr><td>77</td><td>2015-12-30</td><td>10805</td><td>2015-10-17</td></tr>",
                            "<tr><td>77</td><td>2016-04-01</td><td>10992</td><td>2015-12-30</td></tr>",
                            "<tr><td>78</td><td>2015-08-07</td><td>10624</td><td>NULL</td></tr>",
                            "<tr><td>78</td><td>2015-12-12</td><td>10775</td><td>2015-08-07</td></tr>",
                            "<tr><td>78</td><td>2016-04-06</td><td>11003</td><td>2015-12-12</td></tr>",
                            "<tr><td>79</td><td>2014-07-05</td><td>10249</td><td>NULL</td></tr>",
                            "<tr><td>79</td><td>2015-02-06</td><td>10438</td><td>2014-07-05</td></tr>",
                            "<tr><td>79</td><td>2015-02-14</td><td>10446</td><td>2015-02-06</td></tr>",
                            "<tr><td>79</td><td>2015-05-26</td><td>10548</td><td>2015-02-14</td></tr>",
                            "<tr><td>79</td><td>2015-07-23</td><td>10608</td><td>2015-05-26</td></tr>",
                            "<tr><td>79</td><td>2016-03-23</td><td>10967</td><td>2015-07-23</td></tr>",
                            "<tr><td>80</td><td>2014-08-08</td><td>10276</td><td>NULL</td></tr>",
                            "<tr><td>80</td><td>2014-08-29</td><td>10293</td><td>2014-08-08</td></tr>",
                            "<tr><td>80</td><td>2014-09-12</td><td>10304</td><td>2014-08-29</td></tr>",
                            "<tr><td>80</td><td>2014-10-02</td><td>10319</td><td>2014-09-12</td></tr>",
                            "<tr><td>80</td><td>2015-04-25</td><td>10518</td><td>2014-10-02</td></tr>",
                            "<tr><td>80</td><td>2015-06-23</td><td>10576</td><td>2015-04-25</td></tr>",
                            "<tr><td>80</td><td>2015-09-22</td><td>10676</td><td>2015-06-23</td></tr>",
                            "<tr><td>80</td><td>2016-01-20</td><td>10842</td><td>2015-09-22</td></tr>",
                            "<tr><td>80</td><td>2016-02-27</td><td>10915</td><td>2016-01-20</td></tr>",
                            "<tr><td>80</td><td>2016-05-04</td><td>11069</td><td>2016-02-27</td></tr>",
                            "<tr><td>81</td><td>2014-08-28</td><td>10292</td><td>NULL</td></tr>",
                            "<tr><td>81</td><td>2015-04-04</td><td>10496</td><td>2014-08-28</td></tr>",
                            "<tr><td>81</td><td>2015-07-22</td><td>10606</td><td>2015-04-04</td></tr>",
                            "<tr><td>81</td><td>2016-01-13</td><td>10830</td><td>2015-07-22</td></tr>",
                            "<tr><td>81</td><td>2016-01-15</td><td>10834</td><td>2016-01-13</td></tr>",
                            "<tr><td>81</td><td>2016-01-19</td><td>10839</td><td>2016-01-15</td></tr>",
                            "<tr><td>82</td><td>2015-06-19</td><td>10574</td><td>NULL</td></tr>",
                            "<tr><td>82</td><td>2015-06-23</td><td>10577</td><td>2015-06-19</td></tr>",
                            "<tr><td>82</td><td>2016-01-08</td><td>10822</td><td>2015-06-23</td></tr>",
                            "<tr><td>83</td><td>2014-11-28</td><td>10367</td><td>NULL</td></tr>",
                            "<tr><td>83</td><td>2014-12-31</td><td>10399</td><td>2014-11-28</td></tr>",
                            "<tr><td>83</td><td>2015-03-05</td><td>10465</td><td>2014-12-31</td></tr>",
                            "<tr><td>83</td><td>2015-07-07</td><td>10591</td><td>2015-03-05</td></tr>",
                            "<tr><td>83</td><td>2015-07-17</td><td>10602</td><td>2015-07-07</td></tr>",
                            "<tr><td>83</td><td>2015-10-01</td><td>10688</td><td>2015-07-17</td></tr>",
                            "<tr><td>83</td><td>2015-11-17</td><td>10744</td><td>2015-10-01</td></tr>",
                            "<tr><td>83</td><td>2015-12-08</td><td>10769</td><td>2015-11-17</td></tr>",
                            "<tr><td>83</td><td>2016-03-03</td><td>10921</td><td>2015-12-08</td></tr>",
                            "<tr><td>83</td><td>2016-03-12</td><td>10946</td><td>2016-03-03</td></tr>",
                            "<tr><td>83</td><td>2016-04-02</td><td>10994</td><td>2016-03-12</td></tr>",
                            "<tr><td>84</td><td>2014-07-08</td><td>10251</td><td>NULL</td></tr>",
                            "<tr><td>84</td><td>2014-10-21</td><td>10334</td><td>2014-07-08</td></tr>",
                            "<tr><td>84</td><td>2015-02-19</td><td>10450</td><td>2014-10-21</td></tr>",
                            "<tr><td>84</td><td>2015-02-27</td><td>10459</td><td>2015-02-19</td></tr>",
                            "<tr><td>84</td><td>2015-03-18</td><td>10478</td><td>2015-02-27</td></tr>",
                            "<tr><td>84</td><td>2015-05-23</td><td>10546</td><td>2015-03-18</td></tr>",
                            "<tr><td>84</td><td>2015-12-31</td><td>10806</td><td>2015-05-23</td></tr>",
                            "<tr><td>84</td><td>2016-01-05</td><td>10814</td><td>2015-12-31</td></tr>",
                            "<tr><td>84</td><td>2016-01-21</td><td>10843</td><td>2016-01-05</td></tr>",
                            "<tr><td>84</td><td>2016-01-23</td><td>10850</td><td>2016-01-21</td></tr>",
                            "<tr><td>85</td><td>2014-07-04</td><td>10248</td><td>NULL</td></tr>",
                            "<tr><td>85</td><td>2014-08-06</td><td>10274</td><td>2014-07-04</td></tr>",
                            "<tr><td>85</td><td>2014-09-02</td><td>10295</td><td>2014-08-06</td></tr>",
                            "<tr><td>85</td><td>2015-11-11</td><td>10737</td><td>2014-09-02</td></tr>",
                            "<tr><td>85</td><td>2015-11-12</td><td>10739</td><td>2015-11-11</td></tr>",
                            "<tr><td>86</td><td>2014-09-09</td><td>10301</td><td>NULL</td></tr>",
                            "<tr><td>86</td><td>2014-09-23</td><td>10312</td><td>2014-09-09</td></tr>",
                            "<tr><td>86</td><td>2014-11-07</td><td>10348</td><td>2014-09-23</td></tr>",
                            "<tr><td>86</td><td>2014-11-18</td><td>10356</td><td>2014-11-07</td></tr>",
                            "<tr><td>86</td><td>2015-04-22</td><td>10513</td><td>2014-11-18</td></tr>",
                            "<tr><td>86</td><td>2015-08-14</td><td>10632</td><td>2015-04-22</td></tr>",
                            "<tr><td>86</td><td>2015-08-21</td><td>10640</td><td>2015-08-14</td></tr>",
                            "<tr><td>86</td><td>2015-09-01</td><td>10651</td><td>2015-08-21</td></tr>",
                            "<tr><td>86</td><td>2015-09-15</td><td>10668</td><td>2015-09-01</td></tr>",
                            "<tr><td>86</td><td>2016-04-23</td><td>11046</td><td>2015-09-15</td></tr>",
                            "<tr><td>87</td><td>2014-07-26</td><td>10266</td><td>NULL</td></tr>",
                            "<tr><td>87</td><td>2014-08-01</td><td>10270</td><td>2014-07-26</td></tr>",
                            "<tr><td>87</td><td>2014-10-03</td><td>10320</td><td>2014-08-01</td></tr>",
                            "<tr><td>87</td><td>2014-10-18</td><td>10333</td><td>2014-10-03</td></tr>",
                            "<tr><td>87</td><td>2015-01-13</td><td>10412</td><td>2014-10-18</td></tr>",
                            "<tr><td>87</td><td>2015-01-16</td><td>10416</td><td>2015-01-13</td></tr>",
                            "<tr><td>87</td><td>2015-02-05</td><td>10437</td><td>2015-01-16</td></tr>",
                            "<tr><td>87</td><td>2015-02-24</td><td>10455</td><td>2015-02-05</td></tr>",
                            "<tr><td>87</td><td>2015-05-05</td><td>10526</td><td>2015-02-24</td></tr>",
                            "<tr><td>87</td><td>2015-05-30</td><td>10553</td><td>2015-05-05</td></tr>",
                            "<tr><td>87</td><td>2015-06-30</td><td>10583</td><td>2015-05-30</td></tr>",
                            "<tr><td>87</td><td>2015-08-19</td><td>10636</td><td>2015-06-30</td></tr>",
                            "<tr><td>87</td><td>2015-11-21</td><td>10750</td><td>2015-08-19</td></tr>",
                            "<tr><td>87</td><td>2015-12-17</td><td>10781</td><td>2015-11-21</td></tr>",
                            "<tr><td>87</td><td>2016-04-15</td><td>11025</td><td>2015-12-17</td></tr>",
                            "<tr><td>88</td><td>2014-07-15</td><td>10256</td><td>NULL</td></tr>",
                            "<tr><td>88</td><td>2015-01-21</td><td>10420</td><td>2014-07-15</td></tr>",
                            "<tr><td>88</td><td>2015-07-01</td><td>10585</td><td>2015-01-21</td></tr>",
                            "<tr><td>88</td><td>2015-08-25</td><td>10644</td><td>2015-07-01</td></tr>",
                            "<tr><td>88</td><td>2015-12-30</td><td>10803</td><td>2015-08-25</td></tr>",
                            "<tr><td>88</td><td>2016-01-01</td><td>10809</td><td>2015-12-30</td></tr>",
                            "<tr><td>88</td><td>2016-02-20</td><td>10900</td><td>2016-01-01</td></tr>",
                            "<tr><td>88</td><td>2016-02-24</td><td>10905</td><td>2016-02-20</td></tr>",
                            "<tr><td>88</td><td>2016-03-09</td><td>10935</td><td>2016-02-24</td></tr>",
                            "<tr><td>89</td><td>2014-07-31</td><td>10269</td><td>NULL</td></tr>",
                            "<tr><td>89</td><td>2014-11-01</td><td>10344</td><td>2014-07-31</td></tr>",
                            "<tr><td>89</td><td>2015-03-10</td><td>10469</td><td>2014-11-01</td></tr>",
                            "<tr><td>89</td><td>2015-03-24</td><td>10483</td><td>2015-03-10</td></tr>",
                            "<tr><td>89</td><td>2015-04-11</td><td>10504</td><td>2015-03-24</td></tr>",
                            "<tr><td>89</td><td>2015-07-11</td><td>10596</td><td>2015-04-11</td></tr>",
                            "<tr><td>89</td><td>2015-10-06</td><td>10693</td><td>2015-07-11</td></tr>",
                            "<tr><td>89</td><td>2015-10-08</td><td>10696</td><td>2015-10-06</td></tr>",
                            "<tr><td>89</td><td>2015-10-30</td><td>10723</td><td>2015-10-08</td></tr>",
                            "<tr><td>89</td><td>2015-11-13</td><td>10740</td><td>2015-10-30</td></tr>",
                            "<tr><td>89</td><td>2016-01-30</td><td>10861</td><td>2015-11-13</td></tr>",
                            "<tr><td>89</td><td>2016-02-24</td><td>10904</td><td>2016-01-30</td></tr>",
                            "<tr><td>89</td><td>2016-04-17</td><td>11032</td><td>2016-02-24</td></tr>",
                            "<tr><td>89</td><td>2016-05-01</td><td>11066</td><td>2016-04-17</td></tr>",
                            "<tr><td>90</td><td>2015-07-30</td><td>10615</td><td>NULL</td></tr>",
                            "<tr><td>90</td><td>2015-09-18</td><td>10673</td><td>2015-07-30</td></tr>",
                            "<tr><td>90</td><td>2015-10-07</td><td>10695</td><td>2015-09-18</td></tr>",
                            "<tr><td>90</td><td>2016-02-06</td><td>10873</td><td>2015-10-07</td></tr>",
                            "<tr><td>90</td><td>2016-02-10</td><td>10879</td><td>2016-02-06</td></tr>",
                            "<tr><td>90</td><td>2016-02-26</td><td>10910</td><td>2016-02-10</td></tr>",
                            "<tr><td>90</td><td>2016-04-07</td><td>11005</td><td>2016-02-26</td></tr>",
                            "<tr><td>91</td><td>2014-12-05</td><td>10374</td><td>NULL</td></tr>",
                            "<tr><td>91</td><td>2015-07-25</td><td>10611</td><td>2014-12-05</td></tr>",
                            "<tr><td>91</td><td>2015-12-23</td><td>10792</td><td>2015-07-25</td></tr>",
                            "<tr><td>91</td><td>2016-02-04</td><td>10870</td><td>2015-12-23</td></tr>",
                            "<tr><td>91</td><td>2016-02-25</td><td>10906</td><td>2016-02-04</td></tr>",
                            "<tr><td>91</td><td>2016-04-03</td><td>10998</td><td>2016-02-25</td></tr>",
                            "<tr><td>91</td><td>2016-04-23</td><td>11044</td><td>2016-04-03</td></tr>",
                            "</table>"
                        ]
                    }
                }
            ],
            "execution_count": 2
        },
        {
            "cell_type": "markdown",
            "source": [
                ""
            ],
            "metadata": {
                "language": "sql",
                "azdata_cell_guid": "023445c1-0c7f-46ec-9e9c-70d9b49bc405"
            }
        }
    ]
}