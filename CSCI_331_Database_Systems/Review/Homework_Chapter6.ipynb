{
    "metadata": {
        "kernelspec": {
            "name": "SQL",
            "display_name": "SQL",
            "language": "sql"
        },
        "language_info": {
            "name": "sql",
            "version": ""
        }
    },
    "nbformat_minor": 2,
    "nbformat": 4,
    "cells": [
        {
            "cell_type": "markdown",
            "source": [
                "<span style=\"color: #008000;\">-- 1</span>\n",
                "\n",
                "<span style=\"color: #008000;\">-- Explain the difference between the UNION ALL and UNION operators</span>\n",
                "\n",
                "<span style=\"color: #008000;\">-- In what cases are they equivalent?</span>\n",
                "\n",
                "<span style=\"color: #008000;\">-- When they are equivalent, which one should you use?</span>"
            ],
            "metadata": {
                "language": "sql",
                "azdata_cell_guid": "8a6f3d65-57a3-4aca-86da-7e0cf573eca5"
            },
            "attachments": {}
        },
        {
            "cell_type": "markdown",
            "source": [
                "<span style=\"font-size: 16px; white-space: pre-wrap;\">The UNION ALL operator combines two query result sets without removing duplicates, while the UNION operator removes duplicates from the result. When duplicates are not possible, they have the same meaning, such as when combining disjoint sets. To avoid unnecessary performance overhead when duplicates are not present, it's best to use UNION ALL by default.</span>"
            ],
            "metadata": {
                "language": "sql",
                "azdata_cell_guid": "9f66a449-b977-4530-819d-30308a4172d2"
            },
            "attachments": {}
        },
        {
            "cell_type": "code",
            "source": [
                "-- 2\r\n",
                "-- Write a query that generates a virtual auxiliary table of 10 numbers\r\n",
                "-- in the range 1 through 10\r\n",
                "-- Tables involved: no table"
            ],
            "metadata": {
                "azdata_cell_guid": "4856754f-b599-47ac-b212-96066e5729b5",
                "language": "sql"
            },
            "outputs": [],
            "execution_count": null
        },
        {
            "cell_type": "code",
            "source": [
                "SELECT 1 as n\r\n",
                "UNION ALL SELECT 2\r\n",
                "UNION ALL SELECT 3\r\n",
                "UNION ALL SELECT 4\r\n",
                "UNION ALL SELECT 5\r\n",
                "UNION ALL SELECT 6\r\n",
                "UNION ALL SELECT 7\r\n",
                "UNION ALL SELECT 8\r\n",
                "UNION ALL SELECT 9 \r\n",
                "UNION ALL SELECT 10\r\n",
                ""
            ],
            "metadata": {
                "language": "sql",
                "azdata_cell_guid": "67a9f326-aafb-4eba-9381-e42c0348667e"
            },
            "outputs": [
                {
                    "output_type": "display_data",
                    "data": {
                        "text/html": "(10 rows affected)"
                    },
                    "metadata": {}
                },
                {
                    "output_type": "display_data",
                    "data": {
                        "text/html": "Total execution time: 00:00:00.017"
                    },
                    "metadata": {}
                },
                {
                    "output_type": "execute_result",
                    "metadata": {},
                    "execution_count": 3,
                    "data": {
                        "application/vnd.dataresource+json": {
                            "schema": {
                                "fields": [
                                    {
                                        "name": "n"
                                    }
                                ]
                            },
                            "data": [
                                {
                                    "n": "1"
                                },
                                {
                                    "n": "2"
                                },
                                {
                                    "n": "3"
                                },
                                {
                                    "n": "4"
                                },
                                {
                                    "n": "5"
                                },
                                {
                                    "n": "6"
                                },
                                {
                                    "n": "7"
                                },
                                {
                                    "n": "8"
                                },
                                {
                                    "n": "9"
                                },
                                {
                                    "n": "10"
                                }
                            ]
                        },
                        "text/html": [
                            "<table>",
                            "<tr><th>n</th></tr>",
                            "<tr><td>1</td></tr>",
                            "<tr><td>2</td></tr>",
                            "<tr><td>3</td></tr>",
                            "<tr><td>4</td></tr>",
                            "<tr><td>5</td></tr>",
                            "<tr><td>6</td></tr>",
                            "<tr><td>7</td></tr>",
                            "<tr><td>8</td></tr>",
                            "<tr><td>9</td></tr>",
                            "<tr><td>10</td></tr>",
                            "</table>"
                        ]
                    }
                }
            ],
            "execution_count": 3
        },
        {
            "cell_type": "markdown",
            "source": [
                "```\n",
                "-- 3\n",
                "-- Write a query that returns customer and employee pairs \n",
                "-- that had order activity in January 2016 but not in February 2016\n",
                "-- Tables involved: TSQLV4 database, Orders table\n",
                "```"
            ],
            "metadata": {
                "azdata_cell_guid": "315531fa-3e22-4402-ad5c-a9529ce6524d"
            },
            "attachments": {}
        },
        {
            "cell_type": "code",
            "source": [
                "USE TSQLV4\r\n",
                "\r\n",
                "SELECT custid, empid\r\n",
                "FROM Sales.Orders\r\n",
                "WHERE orderdate >= '20160101' AND ORDERDATE < '20160201'\r\n",
                "\r\n",
                "EXCEPT \r\n",
                "\r\n",
                "SELECT custid, empid \r\n",
                "FROM Sales.Orders\r\n",
                "WHERE orderdate >= '20160201' AND orderdate < '20160301'"
            ],
            "metadata": {
                "azdata_cell_guid": "bdd9d58e-8b40-48b6-b38d-aa3bf1ee85c3",
                "language": "sql"
            },
            "outputs": [
                {
                    "output_type": "display_data",
                    "data": {
                        "text/html": "(50 rows affected)"
                    },
                    "metadata": {}
                },
                {
                    "output_type": "display_data",
                    "data": {
                        "text/html": "Total execution time: 00:00:00.021"
                    },
                    "metadata": {}
                },
                {
                    "output_type": "execute_result",
                    "metadata": {},
                    "execution_count": 9,
                    "data": {
                        "application/vnd.dataresource+json": {
                            "schema": {
                                "fields": [
                                    {
                                        "name": "custid"
                                    },
                                    {
                                        "name": "empid"
                                    }
                                ]
                            },
                            "data": [
                                {
                                    "custid": "1",
                                    "empid": "1"
                                },
                                {
                                    "custid": "3",
                                    "empid": "3"
                                },
                                {
                                    "custid": "5",
                                    "empid": "8"
                                },
                                {
                                    "custid": "5",
                                    "empid": "9"
                                },
                                {
                                    "custid": "6",
                                    "empid": "9"
                                },
                                {
                                    "custid": "7",
                                    "empid": "6"
                                },
                                {
                                    "custid": "9",
                                    "empid": "1"
                                },
                                {
                                    "custid": "12",
                                    "empid": "2"
                                },
                                {
                                    "custid": "16",
                                    "empid": "7"
                                },
                                {
                                    "custid": "17",
                                    "empid": "1"
                                },
                                {
                                    "custid": "20",
                                    "empid": "7"
                                },
                                {
                                    "custid": "24",
                                    "empid": "8"
                                },
                                {
                                    "custid": "25",
                                    "empid": "1"
                                },
                                {
                                    "custid": "26",
                                    "empid": "3"
                                },
                                {
                                    "custid": "32",
                                    "empid": "4"
                                },
                                {
                                    "custid": "38",
                                    "empid": "9"
                                },
                                {
                                    "custid": "39",
                                    "empid": "3"
                                },
                                {
                                    "custid": "40",
                                    "empid": "2"
                                },
                                {
                                    "custid": "41",
                                    "empid": "2"
                                },
                                {
                                    "custid": "42",
                                    "empid": "2"
                                },
                                {
                                    "custid": "44",
                                    "empid": "8"
                                },
                                {
                                    "custid": "47",
                                    "empid": "3"
                                },
                                {
                                    "custid": "47",
                                    "empid": "4"
                                },
                                {
                                    "custid": "47",
                                    "empid": "8"
                                },
                                {
                                    "custid": "49",
                                    "empid": "7"
                                },
                                {
                                    "custid": "55",
                                    "empid": "2"
                                },
                                {
                                    "custid": "55",
                                    "empid": "3"
                                },
                                {
                                    "custid": "56",
                                    "empid": "6"
                                },
                                {
                                    "custid": "59",
                                    "empid": "8"
                                },
                                {
                                    "custid": "63",
                                    "empid": "8"
                                },
                                {
                                    "custid": "64",
                                    "empid": "9"
                                },
                                {
                                    "custid": "65",
                                    "empid": "3"
                                },
                                {
                                    "custid": "65",
                                    "empid": "8"
                                },
                                {
                                    "custid": "66",
                                    "empid": "5"
                                },
                                {
                                    "custid": "67",
                                    "empid": "5"
                                },
                                {
                                    "custid": "70",
                                    "empid": "3"
                                },
                                {
                                    "custid": "71",
                                    "empid": "2"
                                },
                                {
                                    "custid": "75",
                                    "empid": "1"
                                },
                                {
                                    "custid": "76",
                                    "empid": "2"
                                },
                                {
                                    "custid": "76",
                                    "empid": "5"
                                },
                                {
                                    "custid": "80",
                                    "empid": "1"
                                },
                                {
                                    "custid": "81",
                                    "empid": "1"
                                },
                                {
                                    "custid": "81",
                                    "empid": "3"
                                },
                                {
                                    "custid": "81",
                                    "empid": "4"
                                },
                                {
                                    "custid": "82",
                                    "empid": "6"
                                },
                                {
                                    "custid": "84",
                                    "empid": "1"
                                },
                                {
                                    "custid": "84",
                                    "empid": "3"
                                },
                                {
                                    "custid": "84",
                                    "empid": "4"
                                },
                                {
                                    "custid": "88",
                                    "empid": "7"
                                },
                                {
                                    "custid": "89",
                                    "empid": "4"
                                }
                            ]
                        },
                        "text/html": [
                            "<table>",
                            "<tr><th>custid</th><th>empid</th></tr>",
                            "<tr><td>1</td><td>1</td></tr>",
                            "<tr><td>3</td><td>3</td></tr>",
                            "<tr><td>5</td><td>8</td></tr>",
                            "<tr><td>5</td><td>9</td></tr>",
                            "<tr><td>6</td><td>9</td></tr>",
                            "<tr><td>7</td><td>6</td></tr>",
                            "<tr><td>9</td><td>1</td></tr>",
                            "<tr><td>12</td><td>2</td></tr>",
                            "<tr><td>16</td><td>7</td></tr>",
                            "<tr><td>17</td><td>1</td></tr>",
                            "<tr><td>20</td><td>7</td></tr>",
                            "<tr><td>24</td><td>8</td></tr>",
                            "<tr><td>25</td><td>1</td></tr>",
                            "<tr><td>26</td><td>3</td></tr>",
                            "<tr><td>32</td><td>4</td></tr>",
                            "<tr><td>38</td><td>9</td></tr>",
                            "<tr><td>39</td><td>3</td></tr>",
                            "<tr><td>40</td><td>2</td></tr>",
                            "<tr><td>41</td><td>2</td></tr>",
                            "<tr><td>42</td><td>2</td></tr>",
                            "<tr><td>44</td><td>8</td></tr>",
                            "<tr><td>47</td><td>3</td></tr>",
                            "<tr><td>47</td><td>4</td></tr>",
                            "<tr><td>47</td><td>8</td></tr>",
                            "<tr><td>49</td><td>7</td></tr>",
                            "<tr><td>55</td><td>2</td></tr>",
                            "<tr><td>55</td><td>3</td></tr>",
                            "<tr><td>56</td><td>6</td></tr>",
                            "<tr><td>59</td><td>8</td></tr>",
                            "<tr><td>63</td><td>8</td></tr>",
                            "<tr><td>64</td><td>9</td></tr>",
                            "<tr><td>65</td><td>3</td></tr>",
                            "<tr><td>65</td><td>8</td></tr>",
                            "<tr><td>66</td><td>5</td></tr>",
                            "<tr><td>67</td><td>5</td></tr>",
                            "<tr><td>70</td><td>3</td></tr>",
                            "<tr><td>71</td><td>2</td></tr>",
                            "<tr><td>75</td><td>1</td></tr>",
                            "<tr><td>76</td><td>2</td></tr>",
                            "<tr><td>76</td><td>5</td></tr>",
                            "<tr><td>80</td><td>1</td></tr>",
                            "<tr><td>81</td><td>1</td></tr>",
                            "<tr><td>81</td><td>3</td></tr>",
                            "<tr><td>81</td><td>4</td></tr>",
                            "<tr><td>82</td><td>6</td></tr>",
                            "<tr><td>84</td><td>1</td></tr>",
                            "<tr><td>84</td><td>3</td></tr>",
                            "<tr><td>84</td><td>4</td></tr>",
                            "<tr><td>88</td><td>7</td></tr>",
                            "<tr><td>89</td><td>4</td></tr>",
                            "</table>"
                        ]
                    }
                }
            ],
            "execution_count": 9
        },
        {
            "cell_type": "markdown",
            "source": [
                "```\n",
                "-- 4\n",
                "-- Write a query that returns customer and employee pairs \n",
                "-- that had order activity in both January 2016 and February 2016\n",
                "-- Tables involved: TSQLV4 database, Orders table\n",
                "```"
            ],
            "metadata": {
                "azdata_cell_guid": "304eee46-25ca-4e37-9869-f0d8ee36fea8"
            },
            "attachments": {}
        },
        {
            "cell_type": "code",
            "source": [
                "SELECT custid, empid\r\n",
                "FROM sales.Orders\r\n",
                "WHERE orderdate >= '20160101' AND orderdate < '20160201'\r\n",
                "\r\n",
                "INTERSECT \r\n",
                "\r\n",
                "SELECT custid, empid\r\n",
                "FROM sales.Orders\r\n",
                "WHERE orderdate >= '20160201' AND orderdate < '20160301'"
            ],
            "metadata": {
                "azdata_cell_guid": "cebadd7d-612f-44cb-8e00-1970de39a097",
                "language": "sql"
            },
            "outputs": [
                {
                    "output_type": "display_data",
                    "data": {
                        "text/html": "(5 rows affected)"
                    },
                    "metadata": {}
                },
                {
                    "output_type": "display_data",
                    "data": {
                        "text/html": "Total execution time: 00:00:00.036"
                    },
                    "metadata": {}
                },
                {
                    "output_type": "execute_result",
                    "metadata": {},
                    "execution_count": 14,
                    "data": {
                        "application/vnd.dataresource+json": {
                            "schema": {
                                "fields": [
                                    {
                                        "name": "custid"
                                    },
                                    {
                                        "name": "empid"
                                    }
                                ]
                            },
                            "data": [
                                {
                                    "custid": "20",
                                    "empid": "3"
                                },
                                {
                                    "custid": "39",
                                    "empid": "9"
                                },
                                {
                                    "custid": "46",
                                    "empid": "5"
                                },
                                {
                                    "custid": "67",
                                    "empid": "1"
                                },
                                {
                                    "custid": "71",
                                    "empid": "4"
                                }
                            ]
                        },
                        "text/html": [
                            "<table>",
                            "<tr><th>custid</th><th>empid</th></tr>",
                            "<tr><td>20</td><td>3</td></tr>",
                            "<tr><td>39</td><td>9</td></tr>",
                            "<tr><td>46</td><td>5</td></tr>",
                            "<tr><td>67</td><td>1</td></tr>",
                            "<tr><td>71</td><td>4</td></tr>",
                            "</table>"
                        ]
                    }
                }
            ],
            "execution_count": 14
        },
        {
            "cell_type": "markdown",
            "source": [
                "```\n",
                "-- 5\n",
                "-- Write a query that returns customer and employee pairs \n",
                "-- that had order activity in both January 2016 and February 2016\n",
                "-- but not in 2015\n",
                "-- Tables involved: TSQLV4 database, Orders table\n",
                "```"
            ],
            "metadata": {
                "azdata_cell_guid": "15590e31-0ed2-43b8-9ac8-30e0c59e2032"
            },
            "attachments": {}
        },
        {
            "cell_type": "code",
            "source": [
                "SELECT custid, empid \r\n",
                "FROM sales.orders\r\n",
                "WHERE orderdate >= '20160101' and orderdate < '20160201'\r\n",
                "\r\n",
                "INTERSECT \r\n",
                "\r\n",
                "SELECT custid, empid \r\n",
                "FROM sales.Orders\r\n",
                "WHERE orderdate >= '20160201' and orderdate < '20160301'\r\n",
                "\r\n",
                "EXCEPT \r\n",
                "\r\n",
                "SELECT custid, empid \r\n",
                "FROM Sales.Orders\r\n",
                "WHERE orderdate >= '20150101' and orderdate < '20160101'\r\n",
                ""
            ],
            "metadata": {
                "azdata_cell_guid": "dad2a1aa-eaa8-4787-b4a2-97e6898b5c1a",
                "language": "sql"
            },
            "outputs": [
                {
                    "output_type": "display_data",
                    "data": {
                        "text/html": "(2 rows affected)"
                    },
                    "metadata": {}
                },
                {
                    "output_type": "display_data",
                    "data": {
                        "text/html": "Total execution time: 00:00:00.048"
                    },
                    "metadata": {}
                },
                {
                    "output_type": "execute_result",
                    "metadata": {},
                    "execution_count": 15,
                    "data": {
                        "application/vnd.dataresource+json": {
                            "schema": {
                                "fields": [
                                    {
                                        "name": "custid"
                                    },
                                    {
                                        "name": "empid"
                                    }
                                ]
                            },
                            "data": [
                                {
                                    "custid": "46",
                                    "empid": "5"
                                },
                                {
                                    "custid": "67",
                                    "empid": "1"
                                }
                            ]
                        },
                        "text/html": [
                            "<table>",
                            "<tr><th>custid</th><th>empid</th></tr>",
                            "<tr><td>46</td><td>5</td></tr>",
                            "<tr><td>67</td><td>1</td></tr>",
                            "</table>"
                        ]
                    }
                }
            ],
            "execution_count": 15
        },
        {
            "cell_type": "markdown",
            "source": [
                "```\n",
                "-- 6 (Optional, Advanced)\n",
                "-- You are given the following query:\n",
                "```"
            ],
            "metadata": {
                "azdata_cell_guid": "92d1c178-b732-41a6-a950-b6acc8886617"
            },
            "attachments": {}
        },
        {
            "cell_type": "code",
            "source": [
                "SELECT country, region, city\r\n",
                "FROM HR.Employees\r\n",
                "\r\n",
                "UNION ALL\r\n",
                "\r\n",
                "SELECT country, region, city\r\n",
                "FROM Production.Suppliers\r\n",
                "ORDER BY country, region, city;"
            ],
            "metadata": {
                "azdata_cell_guid": "8ea38ada-23d2-4e38-9296-715b1929cd28",
                "language": "sql"
            },
            "outputs": [
                {
                    "output_type": "display_data",
                    "data": {
                        "text/html": "(38 rows affected)"
                    },
                    "metadata": {}
                },
                {
                    "output_type": "display_data",
                    "data": {
                        "text/html": "Total execution time: 00:00:00.020"
                    },
                    "metadata": {}
                },
                {
                    "output_type": "execute_result",
                    "metadata": {},
                    "execution_count": 18,
                    "data": {
                        "application/vnd.dataresource+json": {
                            "schema": {
                                "fields": [
                                    {
                                        "name": "country"
                                    },
                                    {
                                        "name": "region"
                                    },
                                    {
                                        "name": "city"
                                    }
                                ]
                            },
                            "data": [
                                {
                                    "country": "Australia",
                                    "region": "NSW",
                                    "city": "Sydney"
                                },
                                {
                                    "country": "Australia",
                                    "region": "Victoria",
                                    "city": "Melbourne"
                                },
                                {
                                    "country": "Brazil",
                                    "region": "NULL",
                                    "city": "Sao Paulo"
                                },
                                {
                                    "country": "Canada",
                                    "region": "Québec",
                                    "city": "Montréal"
                                },
                                {
                                    "country": "Canada",
                                    "region": "Québec",
                                    "city": "Ste-Hyacinthe"
                                },
                                {
                                    "country": "Denmark",
                                    "region": "NULL",
                                    "city": "Lyngby"
                                },
                                {
                                    "country": "Finland",
                                    "region": "NULL",
                                    "city": "Lappeenranta"
                                },
                                {
                                    "country": "France",
                                    "region": "NULL",
                                    "city": "Annecy"
                                },
                                {
                                    "country": "France",
                                    "region": "NULL",
                                    "city": "Montceau"
                                },
                                {
                                    "country": "France",
                                    "region": "NULL",
                                    "city": "Paris"
                                },
                                {
                                    "country": "Germany",
                                    "region": "NULL",
                                    "city": "Berlin"
                                },
                                {
                                    "country": "Germany",
                                    "region": "NULL",
                                    "city": "Cuxhaven"
                                },
                                {
                                    "country": "Germany",
                                    "region": "NULL",
                                    "city": "Frankfurt"
                                },
                                {
                                    "country": "Italy",
                                    "region": "NULL",
                                    "city": "Ravenna"
                                },
                                {
                                    "country": "Italy",
                                    "region": "NULL",
                                    "city": "Salerno"
                                },
                                {
                                    "country": "Japan",
                                    "region": "NULL",
                                    "city": "Osaka"
                                },
                                {
                                    "country": "Japan",
                                    "region": "NULL",
                                    "city": "Tokyo"
                                },
                                {
                                    "country": "Netherlands",
                                    "region": "NULL",
                                    "city": "Zaandam"
                                },
                                {
                                    "country": "Norway",
                                    "region": "NULL",
                                    "city": "Sandvika"
                                },
                                {
                                    "country": "Singapore",
                                    "region": "NULL",
                                    "city": "Singapore"
                                },
                                {
                                    "country": "Spain",
                                    "region": "Asturias",
                                    "city": "Oviedo"
                                },
                                {
                                    "country": "Sweden",
                                    "region": "NULL",
                                    "city": "Göteborg"
                                },
                                {
                                    "country": "Sweden",
                                    "region": "NULL",
                                    "city": "Stockholm"
                                },
                                {
                                    "country": "UK",
                                    "region": "NULL",
                                    "city": "London"
                                },
                                {
                                    "country": "UK",
                                    "region": "NULL",
                                    "city": "London"
                                },
                                {
                                    "country": "UK",
                                    "region": "NULL",
                                    "city": "London"
                                },
                                {
                                    "country": "UK",
                                    "region": "NULL",
                                    "city": "London"
                                },
                                {
                                    "country": "UK",
                                    "region": "NULL",
                                    "city": "London"
                                },
                                {
                                    "country": "UK",
                                    "region": "NULL",
                                    "city": "Manchester"
                                },
                                {
                                    "country": "USA",
                                    "region": "LA",
                                    "city": "New Orleans"
                                },
                                {
                                    "country": "USA",
                                    "region": "MA",
                                    "city": "Boston"
                                },
                                {
                                    "country": "USA",
                                    "region": "MI",
                                    "city": "Ann Arbor"
                                },
                                {
                                    "country": "USA",
                                    "region": "OR",
                                    "city": "Bend"
                                },
                                {
                                    "country": "USA",
                                    "region": "WA",
                                    "city": "Kirkland"
                                },
                                {
                                    "country": "USA",
                                    "region": "WA",
                                    "city": "Redmond"
                                },
                                {
                                    "country": "USA",
                                    "region": "WA",
                                    "city": "Seattle"
                                },
                                {
                                    "country": "USA",
                                    "region": "WA",
                                    "city": "Seattle"
                                },
                                {
                                    "country": "USA",
                                    "region": "WA",
                                    "city": "Tacoma"
                                }
                            ]
                        },
                        "text/html": [
                            "<table>",
                            "<tr><th>country</th><th>region</th><th>city</th></tr>",
                            "<tr><td>Australia</td><td>NSW</td><td>Sydney</td></tr>",
                            "<tr><td>Australia</td><td>Victoria</td><td>Melbourne</td></tr>",
                            "<tr><td>Brazil</td><td>NULL</td><td>Sao Paulo</td></tr>",
                            "<tr><td>Canada</td><td>Québec</td><td>Montréal</td></tr>",
                            "<tr><td>Canada</td><td>Québec</td><td>Ste-Hyacinthe</td></tr>",
                            "<tr><td>Denmark</td><td>NULL</td><td>Lyngby</td></tr>",
                            "<tr><td>Finland</td><td>NULL</td><td>Lappeenranta</td></tr>",
                            "<tr><td>France</td><td>NULL</td><td>Annecy</td></tr>",
                            "<tr><td>France</td><td>NULL</td><td>Montceau</td></tr>",
                            "<tr><td>France</td><td>NULL</td><td>Paris</td></tr>",
                            "<tr><td>Germany</td><td>NULL</td><td>Berlin</td></tr>",
                            "<tr><td>Germany</td><td>NULL</td><td>Cuxhaven</td></tr>",
                            "<tr><td>Germany</td><td>NULL</td><td>Frankfurt</td></tr>",
                            "<tr><td>Italy</td><td>NULL</td><td>Ravenna</td></tr>",
                            "<tr><td>Italy</td><td>NULL</td><td>Salerno</td></tr>",
                            "<tr><td>Japan</td><td>NULL</td><td>Osaka</td></tr>",
                            "<tr><td>Japan</td><td>NULL</td><td>Tokyo</td></tr>",
                            "<tr><td>Netherlands</td><td>NULL</td><td>Zaandam</td></tr>",
                            "<tr><td>Norway</td><td>NULL</td><td>Sandvika</td></tr>",
                            "<tr><td>Singapore</td><td>NULL</td><td>Singapore</td></tr>",
                            "<tr><td>Spain</td><td>Asturias</td><td>Oviedo</td></tr>",
                            "<tr><td>Sweden</td><td>NULL</td><td>Göteborg</td></tr>",
                            "<tr><td>Sweden</td><td>NULL</td><td>Stockholm</td></tr>",
                            "<tr><td>UK</td><td>NULL</td><td>London</td></tr>",
                            "<tr><td>UK</td><td>NULL</td><td>London</td></tr>",
                            "<tr><td>UK</td><td>NULL</td><td>London</td></tr>",
                            "<tr><td>UK</td><td>NULL</td><td>London</td></tr>",
                            "<tr><td>UK</td><td>NULL</td><td>London</td></tr>",
                            "<tr><td>UK</td><td>NULL</td><td>Manchester</td></tr>",
                            "<tr><td>USA</td><td>LA</td><td>New Orleans</td></tr>",
                            "<tr><td>USA</td><td>MA</td><td>Boston</td></tr>",
                            "<tr><td>USA</td><td>MI</td><td>Ann Arbor</td></tr>",
                            "<tr><td>USA</td><td>OR</td><td>Bend</td></tr>",
                            "<tr><td>USA</td><td>WA</td><td>Kirkland</td></tr>",
                            "<tr><td>USA</td><td>WA</td><td>Redmond</td></tr>",
                            "<tr><td>USA</td><td>WA</td><td>Seattle</td></tr>",
                            "<tr><td>USA</td><td>WA</td><td>Seattle</td></tr>",
                            "<tr><td>USA</td><td>WA</td><td>Tacoma</td></tr>",
                            "</table>"
                        ]
                    }
                }
            ],
            "execution_count": 18
        }
    ]
}