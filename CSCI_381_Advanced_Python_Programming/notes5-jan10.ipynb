{
 "cells": [
  {
   "cell_type": "markdown",
   "metadata": {},
   "source": [
    "1. `SETS` -> like a list but removes duplicates\n",
    "    - add\n",
    "    - remove -> key error if x not in set\n",
    "    - discard -> like rmeove but does not raise error \n",
    "    - pop -> removes first index\n",
    "    - clear\n",
    "    - len\n",
    "    - x in s / x not in s\n",
    "\n",
    "- Coding Problems\n",
    "1. list size n filled with m random elements w/o duplicates \n",
    "2. get_row(x, i)"
   ]
  },
  {
   "cell_type": "code",
   "execution_count": 19,
   "metadata": {},
   "outputs": [
    {
     "name": "stdout",
     "output_type": "stream",
     "text": [
      "[6, 3, 2, 10, 8]\n"
     ]
    }
   ],
   "source": [
    "import random \n",
    "# m > n \n",
    "n = 5\n",
    "m = 10\n",
    "\n",
    "\n",
    "x = []\n",
    "\n",
    "for i in range(n):\n",
    "    randomNum = random.randint(1, m)\n",
    "    if randomNum in x:\n",
    "        while randomNum in x:\n",
    "            randomNum = random.randint(1, m)\n",
    "\n",
    "    x.append(randomNum)\n",
    "\n",
    "print(x)"
   ]
  },
  {
   "cell_type": "code",
   "execution_count": 31,
   "metadata": {},
   "outputs": [
    {
     "name": "stdout",
     "output_type": "stream",
     "text": [
      "[[], [], []]\n"
     ]
    }
   ],
   "source": [
    "from random import randint\n",
    "\n",
    "n = 3  # Example value for n\n",
    "m = 3  # Example value for m\n",
    "k = 10  # Example value for k\n",
    "\n",
    "x = []\n",
    "s = set()\n",
    "for i in range(n):\n",
    "    x.append([])            # creates nested arrays\n",
    "    for j in range(m):      # populates nested arrays to be size j\n",
    "        r = randint(1, k)   # generate random number that is not in the set\n",
    "        while r in s:\n",
    "            r = randint(1, k)\n",
    "        x[i].append(r)      # append to x[i], which is the nested \n",
    "        s.add(r)            # register that this number is used\n",
    "\n",
    "print(x)\n"
   ]
  },
  {
   "cell_type": "code",
   "execution_count": 46,
   "metadata": {},
   "outputs": [
    {
     "name": "stdout",
     "output_type": "stream",
     "text": [
      "[5, 4, 3, 2, 1]\n",
      "[5, 1, 10, 6]\n",
      "digonal sum:  14\n",
      "4\n",
      "3\n",
      "7\n",
      "6\n",
      "reverse digonal sum:  10\n"
     ]
    }
   ],
   "source": [
    "def get_row(x, i):\n",
    "    return x[i]\n",
    "\n",
    "def get_column(x, i):\n",
    "    arr = []\n",
    "\n",
    "    for list in x:\n",
    "        arr.append(list[i])\n",
    "    return arr\n",
    "\n",
    "def get_diagonal_sum(x):\n",
    "    i = 0\n",
    "    sum = 0\n",
    "\n",
    "    for list in x:\n",
    "        sum += list[i]\n",
    "        i += 1\n",
    "    return sum\n",
    "\n",
    "def get_reverse_diagonal_sum(x):\n",
    "    sum = 0\n",
    "    for i in range(len(x) - 1, -1, -1):\n",
    "        print(x[(len(x) - 1) - i][i])\n",
    "        sum += x[i-i][i]\n",
    "    return sum\n",
    "\n",
    "\n",
    "arr_2d = [\n",
    "    [1, 2, 3, 4, 5],\n",
    "    [5, 4, 3, 2, 1],\n",
    "    [6, 7, 8, 9, 10],\n",
    "    [10, 9, 8, 7, 6]\n",
    "]\n",
    "\n",
    "\n",
    "square_2d = [\n",
    "    [1, 2, 3, 4],\n",
    "    [5, 4, 3, 5],\n",
    "    [6, 7, 8, 6],\n",
    "    [6, 7, 8, 1],\n",
    "]\n",
    "\n",
    "print(get_row(arr_2d, 1))\n",
    "print(get_column(arr_2d, 4))\n",
    "print(\"digonal sum: \", get_diagonal_sum(square_2d))\n",
    "print(\"reverse digonal sum: \", get_reverse_diagonal_sum(square_2d))\n",
    "\n"
   ]
  },
  {
   "cell_type": "markdown",
   "metadata": {},
   "source": [
    "# self study attempt"
   ]
  },
  {
   "cell_type": "code",
   "execution_count": 3,
   "metadata": {},
   "outputs": [
    {
     "name": "stdout",
     "output_type": "stream",
     "text": [
      "[3, 4, 5]\n",
      "[2, 4, 7]\n",
      "13\n",
      "13\n"
     ]
    }
   ],
   "source": [
    "sqr1 = [\n",
    "    [1, 2, 3],\n",
    "    [3, 4, 5],\n",
    "    [6, 7, 8]\n",
    "    ]\n",
    "\n",
    "sqr2 = [\n",
    "    [9, 7, 6],\n",
    "    [5, 4, 3],\n",
    "    [2, 1, 0]\n",
    "    ]\n",
    "    \n",
    "\n",
    "def get_row(x, i):\n",
    "    try:\n",
    "        return x[i]\n",
    "    except:\n",
    "        return \"Invalid Size\"\n",
    "        \n",
    "def get_col(x, i):\n",
    "    ith_col = []\n",
    "    try:\n",
    "        for list in x:\n",
    "            ith_col.append(list[i])\n",
    "        return ith_col\n",
    "    except:\n",
    "        return []\n",
    "        \n",
    "def get_diagonal_sum(x):\n",
    "    sum = 0 \n",
    "    i = 0 \n",
    "    for list in x:\n",
    "        sum += list[i]\n",
    "        i += 1\n",
    "    \n",
    "    return sum\n",
    "    \n",
    "def get_reverse_diagonal_sum(x):\n",
    "    sum = 0\n",
    "    i = len(x[0])\n",
    "    for list in x:\n",
    "        sum += list[i]\n",
    "        i -= 1 \n",
    "    return sum \n",
    "    \n",
    "print(get_row(sqr1, 1))\n",
    "print(get_col(sqr1, 1))\n",
    "print(get_diagonal_sum(sqr1))\n",
    "print(get_diagonal_sum(sqr1))"
   ]
  },
  {
   "cell_type": "markdown",
   "metadata": {},
   "source": [
    "# WITH LIST COMPREHENSION "
   ]
  },
  {
   "cell_type": "code",
   "execution_count": 5,
   "metadata": {},
   "outputs": [
    {
     "name": "stdout",
     "output_type": "stream",
     "text": [
      "0\n"
     ]
    }
   ],
   "source": [
    "sqr1 = [\n",
    "    [1, 2, 3],\n",
    "    [3, 4, 5],\n",
    "    [6, 7, 8]\n",
    "    ]\n",
    "\n",
    "sqr2 = [\n",
    "    [9, 7, 6],\n",
    "    [5, 4, 3],\n",
    "    [2, 1, 0]\n",
    "    ]\n",
    "    \n",
    "    \n",
    "\n",
    "\n",
    "def diag_sum_list_compre(x1, x2):\n",
    "    sum1 = sum(x1[i][i] for i in range(len(x1)))\n",
    "    sum2 = sum(x2[i][i] for i in range(len(x2)))\n",
    "    return sum1 - sum2\n",
    "    \n",
    "    \n",
    "print(diag_sum_list_compre(sqr1, sqr2))"
   ]
  },
  {
   "cell_type": "code",
   "execution_count": 6,
   "metadata": {},
   "outputs": [
    {
     "name": "stdout",
     "output_type": "stream",
     "text": [
      "[[19, 22], [43, 50]]\n"
     ]
    }
   ],
   "source": [
    "# Matrix Multiplication\n",
    "\n",
    "def matrix_mult(x1, x2):\n",
    "    result = []\n",
    "\n",
    "    for i in range(len(x1)):\n",
    "        row = []                                    # Remake new matrix by filling row by row\n",
    "        for j in range(len(x2[0])):\n",
    "            sum_product = 0                         # Fill row from left to righ\n",
    "            for k in range(len(x2)):\n",
    "                sum_product += x1[i][k] * x2[k][j]  # compute x1[i][k] * x2[k][i]\n",
    "            row.append(sum_product)                 # append to row from left to right\n",
    "        result.append(row)                              # append back to original result matrix\n",
    "    return result\n",
    "\n",
    "# Example matrices\n",
    "sqr1 = [\n",
    "    [1, 2], \n",
    "    [3, 4]\n",
    "    ]    \n",
    "sqr2 = [\n",
    "    [5, 6],\n",
    "    [7, 8]\n",
    "    ]\n",
    "\n",
    "print(matrix_mult(sqr1, sqr2))"
   ]
  },
  {
   "cell_type": "code",
   "execution_count": 8,
   "metadata": {},
   "outputs": [
    {
     "name": "stdout",
     "output_type": "stream",
     "text": [
      "Step 1: Initialize board\n",
      "[0, 0, 0, 0, 0]\n",
      "[0, 0, 0, 0, 0]\n",
      "[0, 0, 0, 0, 0]\n",
      "[0, 0, 0, 0, 0]\n",
      "[0, 0, 0, 0, 0]\n",
      "\n",
      "Step 2: Mark paths with only 1 entry with 1\n",
      "[1, 1, 1, 1, 1]\n",
      "[1, 0, 0, 0, 0]\n",
      "[1, 0, 0, 0, 0]\n",
      "[1, 0, 0, 0, 0]\n",
      "[1, 0, 0, 0, 0]\n",
      "\n",
      "Step 3: Fill by row and each row from left to right \n",
      "[1, 1, 1, 1, 1]\n",
      "[1, 2, 3, 4, 5]\n",
      "[1, 3, 6, 10, 15]\n",
      "[1, 4, 10, 20, 35]\n",
      "[1, 5, 15, 35, 70]\n",
      "\n",
      "# of paths to [4][4] = 70\n"
     ]
    }
   ],
   "source": [
    "# ROBOT PATHS\n",
    "# Print board \n",
    "def print_board(x):\n",
    "    for list in x:\n",
    "        print(list, end='\\n')\n",
    "\n",
    "\n",
    "# Set up robot path\n",
    "robot = [5 * [0] for i in range(5)]\n",
    "\n",
    "'''\n",
    "Mark paths that only have 1 way through them with 1.\n",
    "    - the first column = 1 [only entry point is from above]\n",
    "    - the first row = 1     [only entry point is from the left]\n",
    "    \n",
    "* Only moves are down, right \n",
    "\n",
    "'''\n",
    "print(\"Step 1: Initialize board\")\n",
    "print_board(robot)\n",
    "print()\n",
    "\n",
    "# Mark columns with only one entry with 1 \n",
    "for i in range(len(robot)):\n",
    "    robot[0][i] = 1 \n",
    "    robot[i][0] = 1\n",
    "\n",
    "\n",
    "print(\"Step 2: Mark paths with only 1 entry with 1\")\n",
    "print_board(robot)\n",
    "print()\n",
    "    \n",
    "\n",
    "# Find paths \n",
    "# Fills columns \n",
    "for i in range(1, 5):\n",
    "    # Fills rows\n",
    "    for j in range(1, 5):\n",
    "        # First Iter, i = 1 : [1 - 1][1] + [1][1 - 1] = [0][1] + [1][0]\n",
    "        # Finds each route \n",
    "        robot[i][j] = robot[i - 1][j] + robot[i][j - 1]\n",
    "        \n",
    "        \n",
    "\n",
    "print(\"Step 3: Fill by row and each row from left to right \")\n",
    "print_board(robot)\n",
    "print()\n",
    "print(\"# of paths to [4][4] = \" + str(robot[4][4]))"
   ]
  },
  {
   "cell_type": "code",
   "execution_count": 9,
   "metadata": {},
   "outputs": [
    {
     "name": "stdout",
     "output_type": "stream",
     "text": [
      "[1, 1, 2, 1, 3, 3, 5, 0]\n"
     ]
    }
   ],
   "source": [
    "# 8-bit length\n",
    "\n",
    "'''\n",
    "Approach : Convert n into a str then to a list of ints so we can use list equality\n",
    "\n",
    "HOW WE CONVERT n into a List of nums \n",
    "    lol  = 100 \n",
    "    lol1 = [int(x) for x in str(lol)]\n",
    "    lol2 = [1, 0, 0]\n",
    "    print(lol1 == lol2)\n",
    "\n",
    "\n",
    "'''\n",
    "\n",
    "def get_num(n):\n",
    "    # Convert n into a list \n",
    "    list_n = [int(num) for num in str(n)]\n",
    "    \n",
    "    # Make the list 8-bit notation\n",
    "    while len(list_n) < 8:\n",
    "        # Insert 0 to the 0th index\n",
    "        list_n.insert(0, 0)\n",
    "        \n",
    "    for i0 in range(8):\n",
    "        for i1 in range(8):\n",
    "            for i2 in range(8):\n",
    "                for i3 in range(8):\n",
    "                    for i4 in range(8):\n",
    "                        for i5 in range(8):\n",
    "                            for i6 in range(8):\n",
    "                                for i7 in range(8):\n",
    "                                    q = [i0, i1, i2, i3, i4, i5, i6, i7]\n",
    "                                    if q == list_n:\n",
    "                                        print(q)\n",
    "                                        \n",
    "\n",
    "get_num(11213350)\n"
   ]
  }
 ],
 "metadata": {
  "kernelspec": {
   "display_name": "Python 3",
   "language": "python",
   "name": "python3"
  },
  "language_info": {
   "codemirror_mode": {
    "name": "ipython",
    "version": 3
   },
   "file_extension": ".py",
   "mimetype": "text/x-python",
   "name": "python",
   "nbconvert_exporter": "python",
   "pygments_lexer": "ipython3",
   "version": "3.12.1"
  }
 },
 "nbformat": 4,
 "nbformat_minor": 2
}
