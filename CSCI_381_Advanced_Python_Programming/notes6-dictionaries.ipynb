{
 "cells": [
  {
   "cell_type": "markdown",
   "metadata": {},
   "source": [
    "# Dictionaries"
   ]
  },
  {
   "cell_type": "code",
   "execution_count": 8,
   "metadata": {},
   "outputs": [
    {
     "name": "stdout",
     "output_type": "stream",
     "text": [
      "{1: 2, 2: 4, 3: 6, 4: 8, 5: 10, 6: 12, 7: 14, 8: 16, 9: 18}\n",
      "\n",
      "keys: dict_keys([1, 2, 3, 4, 5, 6, 7, 8, 9])\n",
      "\n",
      "values: dict_values([2, 4, 6, 8, 10, 12, 14, 16, 18])\n",
      "\n",
      "items: dict_items([(1, 2), (2, 4), (3, 6), (4, 8), (5, 10), (6, 12), (7, 14), (8, 16), (9, 18)])\n"
     ]
    }
   ],
   "source": [
    "my_dict = {i : i + i for i in range(1, 10)}\n",
    "print(my_dict)\n",
    "print()\n",
    "\n",
    "print(f\"keys: {my_dict.keys()}\")\n",
    "print()\n",
    "print(f\"values: {my_dict.values()}\")\n",
    "print()\n",
    "print(f\"items: {my_dict.items()}\")"
   ]
  },
  {
   "cell_type": "code",
   "execution_count": 9,
   "metadata": {},
   "outputs": [
    {
     "name": "stdout",
     "output_type": "stream",
     "text": [
      "Bulbasaur n/a\n"
     ]
    }
   ],
   "source": [
    "#.get() = you can take a key and return an arbitrary value \n",
    "\n",
    "pokedex = {\n",
    "    1 : \"Bulbasaur\",\n",
    "    2 : \"Ivysaur\", \n",
    "    3 : \"Venasaur\",\n",
    "    4 : \"Charmander\"\n",
    "}\n",
    "\n",
    "poke1 = pokedex.get(1, 'n/a')\n",
    "poke2 = pokedex.get(5, 'n/a')\n",
    "\n",
    "print(poke1, poke2)\n"
   ]
  },
  {
   "cell_type": "code",
   "execution_count": 10,
   "metadata": {},
   "outputs": [
    {
     "name": "stdout",
     "output_type": "stream",
     "text": [
      "[4, 3, 2, 1]\n"
     ]
    }
   ],
   "source": [
    "sorted_rev = sorted(pokedex, reverse=True)\n",
    "print(sorted_rev)"
   ]
  }
 ],
 "metadata": {
  "kernelspec": {
   "display_name": "Python 3",
   "language": "python",
   "name": "python3"
  },
  "language_info": {
   "codemirror_mode": {
    "name": "ipython",
    "version": 3
   },
   "file_extension": ".py",
   "mimetype": "text/x-python",
   "name": "python",
   "nbconvert_exporter": "python",
   "pygments_lexer": "ipython3",
   "version": "3.12.1"
  }
 },
 "nbformat": 4,
 "nbformat_minor": 2
}
