{
 "cells": [
  {
   "cell_type": "markdown",
   "metadata": {},
   "source": [
    "Jan 04, 2024 \n",
    "Topics:\n",
    "1. While Loop\n",
    "2. For Loop"
   ]
  },
  {
   "cell_type": "markdown",
   "metadata": {},
   "source": [
    "If - Else practice "
   ]
  },
  {
   "cell_type": "code",
   "execution_count": 4,
   "metadata": {},
   "outputs": [
    {
     "name": "stdout",
     "output_type": "stream",
     "text": [
      "palindrome\n"
     ]
    }
   ],
   "source": [
    "# Palindrome\n",
    "n = 1221\n",
    "\n",
    "n0 = n % 10\n",
    "n //= 10\n",
    "\n",
    "n1 = n % 10 \n",
    "n //= 10\n",
    "\n",
    "n2 = n % 10\n",
    "n //= 10\n",
    "\n",
    "n3 = n \n",
    "\n",
    "if( n0 == n3 and n1 == n2):\n",
    "    print(\"palindrome\")\n",
    "else:\n",
    "    print(\"not\")"
   ]
  },
  {
   "cell_type": "code",
   "execution_count": 5,
   "metadata": {},
   "outputs": [
    {
     "name": "stdout",
     "output_type": "stream",
     "text": [
      "1 2 3\n"
     ]
    }
   ],
   "source": [
    "# Reverse an int method 1\n",
    "n = 123\n",
    "\n",
    "n1 = 3 \n",
    "n2 = 2\n",
    "n3 = 1\n",
    "\n",
    "if(n3 == 0):\n",
    "    print(\"Polite rejection\")\n",
    "else:\n",
    "    temp = n3 \n",
    "    n3 = n1\n",
    "    n1 = temp\n",
    "    print(n1,n2,n3)\n",
    "    \n",
    "# Waxman wants us to break the number apart manually"
   ]
  },
  {
   "cell_type": "code",
   "execution_count": 1,
   "metadata": {},
   "outputs": [
    {
     "name": "stdout",
     "output_type": "stream",
     "text": [
      "321\n"
     ]
    }
   ],
   "source": [
    "# Reverse an int method 2\n",
    "\n",
    "n = 123    #int(input(\"Enter a 3 digit number:  \"))\n",
    "\n",
    "n0 = n // 100 # Takes first position\n",
    "n1 = n // 10 % 10 # digit // 10 takes the 2nd two numbers and we mod the last digit \n",
    "n2 = n % 10\n",
    "\n",
    "if n2 == 0:\n",
    "    print(\"Polite rejection\")\n",
    "else:\n",
    "    print(n2*100 + n1*10 + n0)"
   ]
  },
  {
   "cell_type": "markdown",
   "metadata": {},
   "source": [
    "I. While Loop"
   ]
  },
  {
   "cell_type": "code",
   "execution_count": 4,
   "metadata": {},
   "outputs": [
    {
     "name": "stdout",
     "output_type": "stream",
     "text": [
      "2\n",
      "4\n",
      "6\n",
      "8\n",
      "10\n",
      "12\n",
      "14\n",
      "16\n",
      "18\n"
     ]
    }
   ],
   "source": [
    "# Print all even #'s from 1-n\n",
    "\n",
    "n = 18    #int(input(\"Enter a number greater or equal to 2:    \"))\n",
    "i = 1\n",
    "\n",
    "while i <= n:\n",
    "    if i % 2 == 0:\n",
    "        print(i)\n",
    "    i += 1\n",
    "    "
   ]
  },
  {
   "cell_type": "code",
   "execution_count": 5,
   "metadata": {},
   "outputs": [
    {
     "name": "stdout",
     "output_type": "stream",
     "text": [
      "*\n",
      "**\n",
      "***\n",
      "****\n",
      "*****\n"
     ]
    }
   ],
   "source": [
    "n = 5     #int(input(\"Please enter a number from 1 to 10: \"))\n",
    "\n",
    "i = 1\n",
    "\n",
    "while i <= n:\n",
    "    print(i * (\"*\"))\n",
    "    i += 1"
   ]
  },
  {
   "cell_type": "code",
   "execution_count": 6,
   "metadata": {},
   "outputs": [
    {
     "data": {
      "text/plain": [
       "' \\n    \\nprint(f\"The total sum of {n} is {sum}\")\\n\\nn = int(input(\"Enter a positive integer and I will add all the odd numbers:   \"))\\n\\ni = 1\\ntotal = 0\\n\\nwhile i <= n:\\n    if(i % 2 != 0):\\n        total += i\\n    i += 1\\n\\nprint(total)\\n\\n'"
      ]
     },
     "execution_count": 6,
     "metadata": {},
     "output_type": "execute_result"
    }
   ],
   "source": [
    "# Reouccuring sum \n",
    "\n",
    "n = 5 # int(input(\"Enter a number and i will calculate the reoccuring sum:   \"))\n",
    "\n",
    "i = 1\n",
    "sum = 0\n",
    "while i <= n:\n",
    "    sum += i\n",
    "    i += 1\n",
    "\n",
    "''' \n",
    "    \n",
    "print(f\"The total sum of {n} is {sum}\")\n",
    "\n",
    "n = int(input(\"Enter a positive integer and I will add all the odd numbers:   \"))\n",
    "\n",
    "i = 1\n",
    "total = 0\n",
    "\n",
    "while i <= n:\n",
    "    if(i % 2 != 0):\n",
    "        total += i\n",
    "    i += 1\n",
    "\n",
    "print(total)\n",
    "\n",
    "'''"
   ]
  },
  {
   "cell_type": "code",
   "execution_count": null,
   "metadata": {},
   "outputs": [],
   "source": [
    "# Passcode validator \n",
    "\n",
    "pw = int(input(\"Enter a 2 digit password:   \"))\n",
    "n1 = pw // 10\n",
    "n2 = pw % 10 \n",
    "\n",
    "attempts = 3\n",
    "print(\"Password set, please verify, you have 3 attempts:    \")\n",
    "\n",
    "while attempts:\n",
    "    test = int(input(\"What is the 2 digit coode?   \"))\n",
    "    t1 = test // 10\n",
    "    t2 = test % 10\n",
    "    \n",
    "    if(n1 == t1 and n2 == t2):\n",
    "        print(\"Password Verified!\")\n",
    "        break\n",
    "    \n",
    "    if attempts == 0:\n",
    "        print(\"ACCOUNT LOCKED\")\n",
    "    else:\n",
    "        print(\"Incorrect\")\n",
    "        attempts -= 1\n",
    "    "
   ]
  },
  {
   "cell_type": "code",
   "execution_count": 7,
   "metadata": {},
   "outputs": [],
   "source": [
    "# Reverse an arbitrary-sized number,\n",
    "\n",
    "n = int(input(\"Enter a number, I will reverse it:     \"))\n",
    "\n",
    "if n % 10 == 0: \n",
    "    print(\"Invalid input\")\n",
    "    \n",
    "while n:\n",
    "    last_digit = n % 10\n",
    "    print(last_digit, end=\"\")\n",
    "    n = n // 10\n",
    "    "
   ]
  },
  {
   "cell_type": "markdown",
   "metadata": {},
   "source": [
    "II. For Loop\n",
    "\n",
    "Iterable - Something we can iterate through \n",
    "         - anything I can use a for loop on \n",
    "ex:     List, Dictionary, File (txt)\n",
    "\n",
    "Iterator - Creates a dunder function that generates something that allows to move through iterables\n",
    "         - has .next  "
   ]
  },
  {
   "cell_type": "code",
   "execution_count": 2,
   "metadata": {},
   "outputs": [
    {
     "name": "stdout",
     "output_type": "stream",
     "text": [
      "The sum is: 55\n"
     ]
    }
   ],
   "source": [
    "# Print 1 to n with a for loop\n",
    "\n",
    "n =  10 #int(input(\"Enter an integer, i will add all the elements before and including n:    \"))\n",
    "\n",
    "total = 0\n",
    "for i in range(1, n+1):\n",
    "    total += i \n",
    "\n",
    "print(f\"The sum is: {total}\")"
   ]
  },
  {
   "cell_type": "code",
   "execution_count": null,
   "metadata": {},
   "outputs": [],
   "source": [
    "# print all the numbers from 1-1000 that individually add up to 20, ex: 299 = 2 + 9 + 9 = 20\n",
    "for i in range(1, 1001):\n",
    "    a = (i // 1000)\n",
    "    b = (i // 100) % 10 \n",
    "    c = (i // 10) % 10\n",
    "    d = i % 10\n",
    "    \n",
    "    if (a + b + c + d == 20):\n",
    "        print(i)\n",
    "\n"
   ]
  },
  {
   "cell_type": "code",
   "execution_count": 3,
   "metadata": {},
   "outputs": [],
   "source": [
    "# Print all the prime numbers from 1-100\n",
    "for i in range(2, 101):\n",
    "    is_prime = True\n",
    "\n",
    "    for j in range(2, int(i ** 0.5) + 1):\n",
    "        if i % j == 0:\n",
    "            is_prime = False\n",
    "            break\n",
    "\n",
    "    if is_prime:\n",
    "        print(i)\n"
   ]
  },
  {
   "cell_type": "code",
   "execution_count": 5,
   "metadata": {},
   "outputs": [
    {
     "name": "stdout",
     "output_type": "stream",
     "text": [
      "(1,1)(1,2)(1,3)(1,4)\n",
      "(2,1)(2,2)(2,3)(2,4)\n",
      "(3,1)(3,2)(3,3)(3,4)\n",
      "(4,1)(4,2)(4,3)(4,4)\n"
     ]
    }
   ],
   "source": [
    "# Working with nested loops \n",
    "\n",
    "for i in range(1, 5):\n",
    "    for j in range(1,5):\n",
    "        print(f\"({i},{j})\", end=\"\")\n",
    "    print(\"\")"
   ]
  },
  {
   "cell_type": "code",
   "execution_count": 6,
   "metadata": {},
   "outputs": [
    {
     "name": "stdout",
     "output_type": "stream",
     "text": [
      "12345678987654321\n",
      "_234567898765432\n",
      "__3456789876543\n",
      "___45678987654\n",
      "____567898765\n",
      "_____6789876\n",
      "______78987\n",
      "_______898\n",
      "________9\n",
      "_________"
     ]
    }
   ],
   "source": [
    "for i in range(1, 10):\n",
    "    # Prints i - 9\n",
    "    for j in range(i, 10):\n",
    "        print(j, end=\"\")\n",
    "       \n",
    "    # prints 8 - i - 1 (Reverse)  \n",
    "    for j in range(8, i - 1, -1):\n",
    "        print(j, end=\"\")\n",
    "        \n",
    "    # new line && Space      \n",
    "    print(\"\")\n",
    "    print(i * \"_\", end=\"\")\n"
   ]
  }
 ],
 "metadata": {
  "kernelspec": {
   "display_name": "Python 3",
   "language": "python",
   "name": "python3"
  },
  "language_info": {
   "codemirror_mode": {
    "name": "ipython",
    "version": 3
   },
   "file_extension": ".py",
   "mimetype": "text/x-python",
   "name": "python",
   "nbconvert_exporter": "python",
   "pygments_lexer": "ipython3",
   "version": "3.12.1"
  }
 },
 "nbformat": 4,
 "nbformat_minor": 2
}
