{
 "cells": [
  {
   "cell_type": "markdown",
   "metadata": {},
   "source": [
    "## Write a function f with the following behavior:\n",
    "each time f is called it returns the next positive even\n",
    "integer less than 10. So, the first time it is called it returns 2, the next time 4 and so on. "
   ]
  },
  {
   "cell_type": "code",
   "execution_count": 9,
   "metadata": {},
   "outputs": [
    {
     "name": "stdout",
     "output_type": "stream",
     "text": [
      "2\n",
      "4\n",
      "6\n"
     ]
    }
   ],
   "source": [
    "# With Global Variable\n",
    "i = 0\n",
    "\n",
    "def next_even():\n",
    "    global i \n",
    "    i += 2\n",
    "    return i \n",
    "\n",
    "print(next_even())\n",
    "print(next_even())\n",
    "print(next_even())"
   ]
  },
  {
   "cell_type": "code",
   "execution_count": 15,
   "metadata": {},
   "outputs": [
    {
     "name": "stdout",
     "output_type": "stream",
     "text": [
      "<list_iterator object at 0x0000020FCD57D3F0>\n",
      "1\n",
      "2\n",
      "3\n"
     ]
    }
   ],
   "source": [
    "# Manual iterator object\n",
    "'''\n",
    "Iterator -> Can iterate through objects\n",
    "Iterable -> Allows iterable to iterate through it. Or can return each member individually \n",
    "'''\n",
    "\n",
    "my_list = [1, 2, 3]\n",
    "my_iterator = iter(my_list)\n",
    "\n",
    "print(my_iterator)\n",
    "print(next(my_iterator))\n",
    "print(next(my_iterator))\n",
    "print(next(my_iterator))\n"
   ]
  },
  {
   "cell_type": "markdown",
   "metadata": {},
   "source": [
    "## Generators Introduction"
   ]
  },
  {
   "cell_type": "code",
   "execution_count": 38,
   "metadata": {},
   "outputs": [
    {
     "name": "stdout",
     "output_type": "stream",
     "text": [
      "0\n",
      "2\n",
      "4\n",
      "6\n",
      "8\n",
      "10\n",
      "12\n",
      "14\n",
      "16\n",
      "18\n",
      "20\n"
     ]
    },
    {
     "ename": "StopIteration",
     "evalue": "",
     "output_type": "error",
     "traceback": [
      "\u001b[1;31m---------------------------------------------------------------------------\u001b[0m",
      "\u001b[1;31mStopIteration\u001b[0m                             Traceback (most recent call last)",
      "Cell \u001b[1;32mIn[38], line 12\u001b[0m\n\u001b[0;32m      9\u001b[0m \u001b[38;5;28;01mfor\u001b[39;00m num \u001b[38;5;129;01min\u001b[39;00m even_gen:\n\u001b[0;32m     10\u001b[0m     \u001b[38;5;28mprint\u001b[39m(num)\n\u001b[1;32m---> 12\u001b[0m \u001b[38;5;28mprint\u001b[39m(\u001b[38;5;28;43mnext\u001b[39;49m\u001b[43m(\u001b[49m\u001b[43meven_gen\u001b[49m\u001b[43m)\u001b[49m)\n",
      "\u001b[1;31mStopIteration\u001b[0m: "
     ]
    }
   ],
   "source": [
    "def even_numbers(n):\n",
    "    i = 0\n",
    "    while i < n:    \n",
    "        yield i\n",
    "        i += 2 \n",
    "    \n",
    "even_gen = even_numbers(22)\n",
    "\n",
    "for num in even_gen:\n",
    "    print(num)\n",
    "\n",
    "print(next(even_gen)) # Since it's not while True, once it ends the generator has a bound "
   ]
  },
  {
   "cell_type": "code",
   "execution_count": 31,
   "metadata": {},
   "outputs": [
    {
     "name": "stdout",
     "output_type": "stream",
     "text": [
      "2\n",
      "3\n",
      "5\n",
      "7\n",
      "11\n",
      "13\n",
      "17\n",
      "19\n",
      "23\n"
     ]
    }
   ],
   "source": [
    "# Prime number Generator\n",
    "def is_prime(n):\n",
    "    if n <= 1:\n",
    "        return False \n",
    "    \n",
    "    for i in range(2, int(n**0.5) + 1):\n",
    "        if n % i == 0:\n",
    "            return False\n",
    "    return True\n",
    "\n",
    "\n",
    "def prime_gen():\n",
    "    n = 2\n",
    "    while True:\n",
    "        if is_prime(n):\n",
    "            yield n\n",
    "        n += 1\n",
    "\n",
    "\n",
    "primes = prime_gen()\n",
    "\n",
    "for i in range(1, 10):\n",
    "    print(next(primes))\n",
    "\n",
    "\n"
   ]
  },
  {
   "cell_type": "code",
   "execution_count": 36,
   "metadata": {},
   "outputs": [
    {
     "name": "stdout",
     "output_type": "stream",
     "text": [
      "1904\n",
      "1908\n",
      "1912\n",
      "1916\n",
      "1920\n",
      "1924\n",
      "1928\n",
      "1932\n",
      "1936\n",
      "1940\n",
      "1944\n",
      "1948\n",
      "1952\n",
      "1956\n",
      "1960\n",
      "1964\n",
      "1968\n",
      "1972\n",
      "1976\n",
      "1980\n",
      "1984\n",
      "1988\n",
      "1992\n",
      "1996\n"
     ]
    }
   ],
   "source": [
    "# Leap year generator \n",
    "\n",
    "def is_leap_year(year):\n",
    "    if year % 4 == 0:\n",
    "        if year % 100 == 0:\n",
    "            if year % 400 == 0:\n",
    "                return True\n",
    "            else:\n",
    "                return False\n",
    "        else:\n",
    "            return True\n",
    "    else:\n",
    "        return False\n",
    "    \n",
    "def leap_year_generator():\n",
    "    year = 1904 \n",
    "\n",
    "    while True:\n",
    "        if is_leap_year(year):\n",
    "            yield year \n",
    "        year += 1 \n",
    "\n",
    "leap_years = leap_year_generator()\n",
    "\n",
    "for i in range(1, 25):\n",
    "    print(next(leap_years))"
   ]
  },
  {
   "cell_type": "code",
   "execution_count": 37,
   "metadata": {},
   "outputs": [
    {
     "name": "stdout",
     "output_type": "stream",
     "text": [
      "{1: 2, 2: 3, 3: 5, 4: 7, 5: 11, 6: 13, 7: 17, 8: 19, 9: 23, 10: 29}\n"
     ]
    }
   ],
   "source": [
    "# { d[i] : ith prime # } | Dictionary of primes\n",
    "def prime_dict(n):\n",
    "    previous_prime_generator = prime_gen()\n",
    "    return {i : next(previous_prime_generator) for i in range(1, n+1) }\n",
    "\n",
    "print(prime_dict(10))"
   ]
  },
  {
   "cell_type": "code",
   "execution_count": 43,
   "metadata": {},
   "outputs": [
    {
     "name": "stdout",
     "output_type": "stream",
     "text": [
      "0\n",
      "1\n",
      "2\n",
      "3\n",
      "4\n",
      "5\n",
      "6\n",
      "7\n",
      "10\n",
      "11\n",
      "12\n",
      "13\n",
      "14\n",
      "15\n",
      "16\n",
      "17\n",
      "20\n",
      "21\n",
      "22\n",
      "23\n"
     ]
    }
   ],
   "source": [
    "# GET OCTAL NUMBERS \n",
    "\n",
    "def get_oct():\n",
    "    counter = 0 \n",
    "    while True:\n",
    "        yield oct(counter)[2:]\n",
    "        counter += 1\n",
    "\n",
    "octal_nums = get_oct()\n",
    "\n",
    "for i in range(20):\n",
    "    print(next(octal_nums))"
   ]
  },
  {
   "cell_type": "code",
   "execution_count": 45,
   "metadata": {},
   "outputs": [
    {
     "name": "stdout",
     "output_type": "stream",
     "text": [
      "1\n",
      "2\n",
      "3\n",
      "5\n",
      "8\n",
      "13\n",
      "21\n",
      "34\n",
      "55\n",
      "89\n",
      "144\n",
      "233\n",
      "377\n",
      "610\n",
      "987\n",
      "1597\n",
      "2584\n",
      "4181\n",
      "6765\n"
     ]
    }
   ],
   "source": [
    "# Fibonacci Generator \n",
    "def fibonacci_generator():\n",
    "    prev, next = 0, 1\n",
    "    while True:\n",
    "        prev, next = next, next + prev \n",
    "        yield next \n",
    "\n",
    "fibonacci_nums = fibonacci_generator()\n",
    "\n",
    "for i in range(1, 20):\n",
    "    print(next(fibonacci_nums))"
   ]
  },
  {
   "cell_type": "markdown",
   "metadata": {},
   "source": [
    "## State sensor "
   ]
  },
  {
   "cell_type": "code",
   "execution_count": null,
   "metadata": {},
   "outputs": [],
   "source": [
    "def sensor_monitor(states):\n",
    "    current = 0\n",
    "    for state in states:\n",
    "        if state == 1:\n",
    "            yield current\n",
    "            current = 0\n",
    "        else:\n",
    "            current += 1\n",
    "\n",
    "states = [1,1,0,1,1,0,0,0,1,1,1,0,1,0,1,0,0,0,1]\n",
    "gen = sensor_monitor(states)\n",
    "print([res for res in gen])\n"
   ]
  },
  {
   "cell_type": "code",
   "execution_count": null,
   "metadata": {},
   "outputs": [],
   "source": [
    "import random\n",
    "\n",
    "def sensor_monitor():\n",
    "    zero_count = 0\n",
    "    while True:\n",
    "        state = (yield zero_count)  # state is where the generator get the value from the producer\n",
    "        if state == 1:\n",
    "            zero_count = 0\n",
    "        else:\n",
    "            zero_count += 1\n",
    "\n",
    "def main():\n",
    "    monitor = sensor_monitor()  # monitor is the iterator\n",
    "    next(monitor)  # Prime the generator\n",
    "\n",
    "    for _ in range(20):  # Run for 20 iterations\n",
    "        # Producer: Generate a random 0 or 1\n",
    "        produced = random.randint(0, 1)\n",
    "        print(f\"Produced: {produced}\")\n",
    "\n",
    "        # Consumer: Process the produced value\n",
    "        gap = monitor.send(produced)\n",
    "        print(f\"Consumed: {produced}; Gap: {gap}\")\n",
    "\n",
    "main()\n"
   ]
  },
  {
   "cell_type": "markdown",
   "metadata": {},
   "source": [
    "## DECORATORS"
   ]
  },
  {
   "cell_type": "code",
   "execution_count": 53,
   "metadata": {},
   "outputs": [
    {
     "name": "stdout",
     "output_type": "stream",
     "text": [
      "INSIDE THE WRAPPER BEFORE FUNC\n",
      "Whee!\n",
      "AFTER FUNC INSIDE WRAPPER\n"
     ]
    }
   ],
   "source": [
    "def my_decorator(func):\n",
    "    def wrapper():\n",
    "        print(\"INSIDE THE WRAPPER BEFORE FUNC\")\n",
    "        func()\n",
    "        print(\"AFTER FUNC INSIDE WRAPPER\")\n",
    "    return wrapper # Returns a function\n",
    "\n",
    "def say_whee():\n",
    "    print(\"Whee!\")\n",
    "\n",
    "decorated_say_whee = my_decorator(say_whee) # Returns a decorated function\n",
    "decorated_say_whee()                          "
   ]
  },
  {
   "cell_type": "code",
   "execution_count": 54,
   "metadata": {},
   "outputs": [
    {
     "name": "stdout",
     "output_type": "stream",
     "text": [
      "START WRAP\n",
      "WOOF WOOF WOOF!\n",
      "END WRAP\n"
     ]
    }
   ],
   "source": [
    "def decorator_test(func):\n",
    "    def wrapper_test():\n",
    "        print(\"START WRAP\")\n",
    "        func()\n",
    "        print(\"END WRAP\")\n",
    "    return wrapper_test\n",
    "\n",
    "@decorator_test\n",
    "def bark():\n",
    "    print(\"WOOF WOOF WOOF!\")\n",
    "\n",
    "bark()"
   ]
  }
 ],
 "metadata": {
  "kernelspec": {
   "display_name": "Python 3",
   "language": "python",
   "name": "python3"
  },
  "language_info": {
   "codemirror_mode": {
    "name": "ipython",
    "version": 3
   },
   "file_extension": ".py",
   "mimetype": "text/x-python",
   "name": "python",
   "nbconvert_exporter": "python",
   "pygments_lexer": "ipython3",
   "version": "3.12.1"
  }
 },
 "nbformat": 4,
 "nbformat_minor": 2
}
