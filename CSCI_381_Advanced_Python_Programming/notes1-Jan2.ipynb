{
 "cells": [
  {
   "cell_type": "markdown",
   "metadata": {},
   "source": [
    "Jan 02 (Tuesday) - Class Notes Part 1\n",
    "\n",
    "Summary of Topics\n",
    "1. Data Types\n",
    "    - Int, Float, String, Bool, \n",
    "2. Integer expressions/operations\n",
    "    - addition, subtraction, multiplication, modulo\n",
    "    - division : `/` Regular Division returns float. `//` Floor division returns int\n",
    "\n",
    "3. Multiplying strings\n",
    "4. Boolean Operations - and, or, not\n",
    "5. Data Type Conversions : Conversions just call the constructor float(x), int(x), str(x)\n",
    "    - type(x) == type(y) - Type comparators \n",
    "\n"
   ]
  },
  {
   "cell_type": "markdown",
   "metadata": {},
   "source": [
    "- When variables are declared they get popped into the \"run time stack\" as a pointer to the memory location holding the object in the heap\n",
    "- Python has automatic garbage collection, when variables are out of scope they get de-allocated in both run time stack and heap \n",
    "\n",
    "\n",
    "`Run time stack` -> Fixed size (Pointers)\n",
    "`Heap`\t\t      -> Objects\n",
    "\n",
    "\t\n",
    "`Numpy`  Converts everything internally to c++/c that's why computation is fast \n",
    "\n",
    "Computation in python is `simulated` that's why its really slow."
   ]
  },
  {
   "cell_type": "markdown",
   "metadata": {},
   "source": [
    "* Iterator - Something that iterates through a list\n",
    "* Iterable - Something the iterator goes through \n",
    "range(5) is both iterator and iterable\n"
   ]
  },
  {
   "cell_type": "code",
   "execution_count": 1,
   "metadata": {},
   "outputs": [
    {
     "name": "stdout",
     "output_type": "stream",
     "text": [
      "55F to celsius is 13C\n",
      "HELLO\n",
      "HELLO\n",
      "HELLO\n",
      "HELLO\n",
      "HELLO\n"
     ]
    }
   ],
   "source": [
    "## TAKING INPUT \n",
    "temp = 55     #input(\"enter temp in farenheit: \")\n",
    "cel = (int(temp) - 32) * (5/9)\n",
    "print(f\"{temp}F to celsius is {round(cel)}C\")\n",
    "\n",
    "## LOOPS \n",
    "for i in range(5):\n",
    "    print(\"HELLO\")\n"
   ]
  },
  {
   "cell_type": "code",
   "execution_count": null,
   "metadata": {},
   "outputs": [],
   "source": [
    "# DUCK TYPE - Assumes it is a string and just concatenates the two \"strings\" \n",
    "x = input(\"What is X? \")\n",
    "y = input(\"What is Y? \")\n",
    "print(\"The result is \", x+y )\n",
    "# Solution : Cast x, y into an integer using int() \n",
    "#            When you cast, a constructor is ran (constructors run on objects).\n",
    "#             float(), str(), int()"
   ]
  },
  {
   "cell_type": "code",
   "execution_count": 2,
   "metadata": {},
   "outputs": [
    {
     "ename": "Terminator",
     "evalue": "",
     "output_type": "error",
     "traceback": [
      "\u001b[1;31m---------------------------------------------------------------------------\u001b[0m",
      "\u001b[1;31mTerminator\u001b[0m                                Traceback (most recent call last)",
      "Cell \u001b[1;32mIn[2], line 10\u001b[0m\n\u001b[0;32m      8\u001b[0m \u001b[38;5;28;01mfor\u001b[39;00m i \u001b[38;5;129;01min\u001b[39;00m \u001b[38;5;28mrange\u001b[39m(\u001b[38;5;241m100\u001b[39m):\n\u001b[0;32m      9\u001b[0m     forward(\u001b[38;5;241m10\u001b[39m\u001b[38;5;241m+\u001b[39m\u001b[38;5;241m5\u001b[39m\u001b[38;5;241m*\u001b[39mi)\n\u001b[1;32m---> 10\u001b[0m     \u001b[43mright\u001b[49m\u001b[43m(\u001b[49m\u001b[38;5;241;43m120\u001b[39;49m\u001b[43m)\u001b[49m\n\u001b[0;32m     13\u001b[0m screen\u001b[38;5;241m.\u001b[39mexitonclick()\n",
      "File \u001b[1;32m<string>:8\u001b[0m, in \u001b[0;36mright\u001b[1;34m(angle)\u001b[0m\n",
      "File \u001b[1;32mC:\\Program Files\\WindowsApps\\PythonSoftwareFoundation.Python.3.12_3.12.496.0_x64__qbz5n2kfra8p0\\Lib\\turtle.py:1677\u001b[0m, in \u001b[0;36mTNavigator.right\u001b[1;34m(self, angle)\u001b[0m\n\u001b[0;32m   1658\u001b[0m \u001b[38;5;28;01mdef\u001b[39;00m \u001b[38;5;21mright\u001b[39m(\u001b[38;5;28mself\u001b[39m, angle):\n\u001b[0;32m   1659\u001b[0m \u001b[38;5;250m    \u001b[39m\u001b[38;5;124;03m\"\"\"Turn turtle right by angle units.\u001b[39;00m\n\u001b[0;32m   1660\u001b[0m \n\u001b[0;32m   1661\u001b[0m \u001b[38;5;124;03m    Aliases: right | rt\u001b[39;00m\n\u001b[1;32m   (...)\u001b[0m\n\u001b[0;32m   1675\u001b[0m \u001b[38;5;124;03m    337.0\u001b[39;00m\n\u001b[0;32m   1676\u001b[0m \u001b[38;5;124;03m    \"\"\"\u001b[39;00m\n\u001b[1;32m-> 1677\u001b[0m     \u001b[38;5;28;43mself\u001b[39;49m\u001b[38;5;241;43m.\u001b[39;49m\u001b[43m_rotate\u001b[49m\u001b[43m(\u001b[49m\u001b[38;5;241;43m-\u001b[39;49m\u001b[43mangle\u001b[49m\u001b[43m)\u001b[49m\n",
      "File \u001b[1;32mC:\\Program Files\\WindowsApps\\PythonSoftwareFoundation.Python.3.12_3.12.496.0_x64__qbz5n2kfra8p0\\Lib\\turtle.py:3348\u001b[0m, in \u001b[0;36mRawTurtle._rotate\u001b[1;34m(self, angle)\u001b[0m\n\u001b[0;32m   3346\u001b[0m     \u001b[38;5;28;01mfor\u001b[39;00m _ \u001b[38;5;129;01min\u001b[39;00m \u001b[38;5;28mrange\u001b[39m(steps):\n\u001b[0;32m   3347\u001b[0m         \u001b[38;5;28mself\u001b[39m\u001b[38;5;241m.\u001b[39m_orient \u001b[38;5;241m=\u001b[39m \u001b[38;5;28mself\u001b[39m\u001b[38;5;241m.\u001b[39m_orient\u001b[38;5;241m.\u001b[39mrotate(delta)\n\u001b[1;32m-> 3348\u001b[0m         \u001b[38;5;28;43mself\u001b[39;49m\u001b[38;5;241;43m.\u001b[39;49m\u001b[43m_update\u001b[49m\u001b[43m(\u001b[49m\u001b[43m)\u001b[49m\n\u001b[0;32m   3349\u001b[0m \u001b[38;5;28mself\u001b[39m\u001b[38;5;241m.\u001b[39m_orient \u001b[38;5;241m=\u001b[39m neworient\n\u001b[0;32m   3350\u001b[0m \u001b[38;5;28mself\u001b[39m\u001b[38;5;241m.\u001b[39m_update()\n",
      "File \u001b[1;32mC:\\Program Files\\WindowsApps\\PythonSoftwareFoundation.Python.3.12_3.12.496.0_x64__qbz5n2kfra8p0\\Lib\\turtle.py:2668\u001b[0m, in \u001b[0;36mRawTurtle._update\u001b[1;34m(self)\u001b[0m\n\u001b[0;32m   2666\u001b[0m     \u001b[38;5;28;01mreturn\u001b[39;00m\n\u001b[0;32m   2667\u001b[0m \u001b[38;5;28;01melif\u001b[39;00m screen\u001b[38;5;241m.\u001b[39m_tracing \u001b[38;5;241m==\u001b[39m \u001b[38;5;241m1\u001b[39m:\n\u001b[1;32m-> 2668\u001b[0m     \u001b[38;5;28;43mself\u001b[39;49m\u001b[38;5;241;43m.\u001b[39;49m\u001b[43m_update_data\u001b[49m\u001b[43m(\u001b[49m\u001b[43m)\u001b[49m\n\u001b[0;32m   2669\u001b[0m     \u001b[38;5;28mself\u001b[39m\u001b[38;5;241m.\u001b[39m_drawturtle()\n\u001b[0;32m   2670\u001b[0m     screen\u001b[38;5;241m.\u001b[39m_update()                  \u001b[38;5;66;03m# TurtleScreenBase\u001b[39;00m\n",
      "File \u001b[1;32mC:\\Program Files\\WindowsApps\\PythonSoftwareFoundation.Python.3.12_3.12.496.0_x64__qbz5n2kfra8p0\\Lib\\turtle.py:2654\u001b[0m, in \u001b[0;36mRawTurtle._update_data\u001b[1;34m(self)\u001b[0m\n\u001b[0;32m   2653\u001b[0m \u001b[38;5;28;01mdef\u001b[39;00m \u001b[38;5;21m_update_data\u001b[39m(\u001b[38;5;28mself\u001b[39m):\n\u001b[1;32m-> 2654\u001b[0m     \u001b[38;5;28;43mself\u001b[39;49m\u001b[38;5;241;43m.\u001b[39;49m\u001b[43mscreen\u001b[49m\u001b[38;5;241;43m.\u001b[39;49m\u001b[43m_incrementudc\u001b[49m\u001b[43m(\u001b[49m\u001b[43m)\u001b[49m\n\u001b[0;32m   2655\u001b[0m     \u001b[38;5;28;01mif\u001b[39;00m \u001b[38;5;28mself\u001b[39m\u001b[38;5;241m.\u001b[39mscreen\u001b[38;5;241m.\u001b[39m_updatecounter \u001b[38;5;241m!=\u001b[39m \u001b[38;5;241m0\u001b[39m:\n\u001b[0;32m   2656\u001b[0m         \u001b[38;5;28;01mreturn\u001b[39;00m\n",
      "File \u001b[1;32mC:\\Program Files\\WindowsApps\\PythonSoftwareFoundation.Python.3.12_3.12.496.0_x64__qbz5n2kfra8p0\\Lib\\turtle.py:1284\u001b[0m, in \u001b[0;36mTurtleScreen._incrementudc\u001b[1;34m(self)\u001b[0m\n\u001b[0;32m   1282\u001b[0m \u001b[38;5;28;01mif\u001b[39;00m \u001b[38;5;129;01mnot\u001b[39;00m TurtleScreen\u001b[38;5;241m.\u001b[39m_RUNNING:\n\u001b[0;32m   1283\u001b[0m     TurtleScreen\u001b[38;5;241m.\u001b[39m_RUNNING \u001b[38;5;241m=\u001b[39m \u001b[38;5;28;01mTrue\u001b[39;00m\n\u001b[1;32m-> 1284\u001b[0m     \u001b[38;5;28;01mraise\u001b[39;00m Terminator\n\u001b[0;32m   1285\u001b[0m \u001b[38;5;28;01mif\u001b[39;00m \u001b[38;5;28mself\u001b[39m\u001b[38;5;241m.\u001b[39m_tracing \u001b[38;5;241m>\u001b[39m \u001b[38;5;241m0\u001b[39m:\n\u001b[0;32m   1286\u001b[0m     \u001b[38;5;28mself\u001b[39m\u001b[38;5;241m.\u001b[39m_updatecounter \u001b[38;5;241m+\u001b[39m\u001b[38;5;241m=\u001b[39m \u001b[38;5;241m1\u001b[39m\n",
      "\u001b[1;31mTerminator\u001b[0m: "
     ]
    }
   ],
   "source": [
    "# # PYTHON TURTLE \n",
    "from turtle import *\n",
    "\n",
    "screen = Screen()\n",
    "goto(0,0)\n",
    "pendown()\n",
    "\n",
    "for i in range(100):\n",
    "    forward(10+5*i)\n",
    "    right(120)\n",
    "\n",
    "\n",
    "screen.exitonclick()\n"
   ]
  },
  {
   "cell_type": "code",
   "execution_count": 3,
   "metadata": {},
   "outputs": [
    {
     "name": "stdout",
     "output_type": "stream",
     "text": [
      "Welcome to the addition program.\n",
      "\n",
      "You can enter values for X and Y, I wil calculate them\n",
      "5 + 10 = 15\n",
      "\n",
      "Enter 'Done' to quit\n"
     ]
    }
   ],
   "source": [
    "# Input/Output + Conditional statements\n",
    "\n",
    "print(\"Welcome to the addition program.\")\n",
    "print()\n",
    "print(\"You can enter values for X and Y, I wil calculate them\")\n",
    "x = 5    # int(input(\"Please enter a value for X: \"))\n",
    "\n",
    "while x != 'done':\n",
    "    y = 10    # int(input(\"Please enter a value for Y: \"))\n",
    "    print(f\"{x} + {y} = {x + y}\")\n",
    "    print()\n",
    "    print(\"Enter 'Done' to quit\")\n",
    "    x = 5 # int(input(\"Please enter a value for X: \"))"
   ]
  },
  {
   "cell_type": "markdown",
   "metadata": {},
   "source": [
    "- `not` - true if argument is false. Otherwise false. (NEGATES)\n",
    "- `and` - x and y - evaluates x, if x is false it returns. if x is true it evaluates y\n",
    "- `or`  - x or y  - if x is true, true is returned otherwise the evaluation of y is returned"
   ]
  },
  {
   "cell_type": "code",
   "execution_count": 6,
   "metadata": {},
   "outputs": [
    {
     "name": "stdout",
     "output_type": "stream",
     "text": [
      "--- not ---\n",
      "Not True is: False\n",
      "Not False is: True\n",
      "\n",
      "--- and ---\n",
      "True and True returns: True\n",
      "True and False returns: False\n",
      "False and False returns: False\n",
      "False and 6: 6\n",
      "\n",
      "--- or ---\n",
      "True or True: True\n",
      "True or False: True\n",
      "False or True: True\n",
      "False or False: False\n",
      "True or 6: True\n",
      "False or 6: 6\n"
     ]
    }
   ],
   "source": [
    "print(\"--- not ---\")\n",
    "x = True\n",
    "print(f\"Not True is: {not x}\")\n",
    "print(f\"Not False is: {not(not x)}\")\n",
    "\n",
    "print(f\"\")\n",
    "print(\"--- and ---\")\n",
    "print(f\"True and True returns: {True and True}\")\n",
    "print(f\"True and False returns: {True and False}\")\n",
    "print(f\"False and False returns: {False and False}\")\n",
    "print(f\"False and 6: {True and 6}\")\n",
    "\n",
    "print(f\"\")\n",
    "print(f\"--- or ---\")\n",
    "print(f\"True or True: {True or True}\")\n",
    "print(f\"True or False: {True or False}\")\n",
    "print(f\"False or True: {False or True}\")\n",
    "print(f\"False or False: {False or False}\")\n",
    "print(f\"True or 6: {True or 6}\")\n",
    "print(f\"False or 6: {False or 6}\")\n",
    "\n"
   ]
  },
  {
   "cell_type": "code",
   "execution_count": 7,
   "metadata": {},
   "outputs": [
    {
     "name": "stdout",
     "output_type": "stream",
     "text": [
      "hello hello hello \n",
      "(7 > 5) * 6 : 6\n",
      "(7 > 5) * 6 : 0\n"
     ]
    }
   ],
   "source": [
    "# Multiplying strings\n",
    "print(3 * 'hello ')\n",
    "\n",
    "print(f\"(7 > 5) * 6 : {(7 > 5) * 6}\") # 6\n",
    "print(f\"(7 > 5) * 6 : {(7 < 5) * 6}\") # 0 "
   ]
  },
  {
   "cell_type": "code",
   "execution_count": 22,
   "metadata": {},
   "outputs": [
    {
     "name": "stdout",
     "output_type": "stream",
     "text": [
      "sep='' is the seperator\n",
      "1-2-3\n",
      "\n",
      "end='' is what happens at the end of the line\n",
      "1|2\n",
      "3|"
     ]
    }
   ],
   "source": [
    "# SEPARATOR\n",
    "print(\"sep='' is the seperator\")\n",
    "print(1, 2, 3, sep='-')\n",
    "\n",
    "print()\n",
    "\n",
    "#END\n",
    "print(\"end='' is what happens at the end of the line\")\n",
    "print(1, end='|')\n",
    "print(2)\n",
    "print(3, end='|')\n"
   ]
  }
 ],
 "metadata": {
  "kernelspec": {
   "display_name": "Python 3",
   "language": "python",
   "name": "python3"
  },
  "language_info": {
   "codemirror_mode": {
    "name": "ipython",
    "version": 3
   },
   "file_extension": ".py",
   "mimetype": "text/x-python",
   "name": "python",
   "nbconvert_exporter": "python",
   "pygments_lexer": "ipython3",
   "version": "3.12.1"
  }
 },
 "nbformat": 4,
 "nbformat_minor": 2
}
