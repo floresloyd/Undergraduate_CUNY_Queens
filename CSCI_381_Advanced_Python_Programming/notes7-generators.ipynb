{
 "cells": [
  {
   "cell_type": "code",
   "execution_count": 22,
   "metadata": {},
   "outputs": [
    {
     "name": "stdout",
     "output_type": "stream",
     "text": [
      "2\n",
      "4\n",
      "6\n",
      "8\n",
      "2\n",
      "4\n"
     ]
    }
   ],
   "source": [
    "def even_generator():\n",
    "    n = 0\n",
    "    while True:\n",
    "        n += 2\n",
    "        if n >= 10:\n",
    "            n = 2\n",
    "        yield n\n",
    "\n",
    "f = even_generator()\n",
    "\n",
    "def get_next_even():\n",
    "    return next(f)\n",
    "\n",
    "for i in range(6):\n",
    "    print(get_next_even())"
   ]
  },
  {
   "cell_type": "code",
   "execution_count": 27,
   "metadata": {},
   "outputs": [
    {
     "name": "stdout",
     "output_type": "stream",
     "text": [
      "Iterating using built in iterator...\n",
      "1\n",
      "2\n",
      "3\n",
      "\n",
      "Iterating using manual iterator ... \n"
     ]
    },
    {
     "ename": "AttributeError",
     "evalue": "'list_iterator' object has no attribute 'val'",
     "output_type": "error",
     "traceback": [
      "\u001b[1;31m---------------------------------------------------------------------------\u001b[0m",
      "\u001b[1;31mAttributeError\u001b[0m                            Traceback (most recent call last)",
      "Cell \u001b[1;32mIn[27], line 11\u001b[0m\n\u001b[0;32m      9\u001b[0m \u001b[38;5;28mprint\u001b[39m(\u001b[38;5;124m\"\u001b[39m\u001b[38;5;124mIterating using manual iterator ... \u001b[39m\u001b[38;5;124m\"\u001b[39m)\n\u001b[0;32m     10\u001b[0m my_iterator \u001b[38;5;241m=\u001b[39m \u001b[38;5;28miter\u001b[39m(my_list)\n\u001b[1;32m---> 11\u001b[0m \u001b[38;5;28mprint\u001b[39m(\u001b[43mmy_iterator\u001b[49m\u001b[38;5;241;43m.\u001b[39;49m\u001b[43mval\u001b[49m)\n",
      "\u001b[1;31mAttributeError\u001b[0m: 'list_iterator' object has no attribute 'val'"
     ]
    }
   ],
   "source": [
    "my_list = [1, 2, 3]\n",
    "print(\"Iterating using built in iterator...\")\n",
    "\n",
    "for i in my_list:\n",
    "    print(i)\n",
    "\n",
    "print()\n",
    "\n",
    "print(\"Iterating using manual iterator ... \")\n",
    "my_iterator = iter(my_list)\n",
    "\n",
    "try:\n",
    "    while True:\n",
    "        print(i)\n",
    "        i = next(my_iterator)\n",
    "except StopIteration:\n",
    "    print(\"OUT OF BOUNDS\")"
   ]
  },
  {
   "cell_type": "code",
   "execution_count": null,
   "metadata": {},
   "outputs": [],
   "source": []
  }
 ],
 "metadata": {
  "kernelspec": {
   "display_name": "Python 3",
   "language": "python",
   "name": "python3"
  },
  "language_info": {
   "codemirror_mode": {
    "name": "ipython",
    "version": 3
   },
   "file_extension": ".py",
   "mimetype": "text/x-python",
   "name": "python",
   "nbconvert_exporter": "python",
   "pygments_lexer": "ipython3",
   "version": "3.12.1"
  }
 },
 "nbformat": 4,
 "nbformat_minor": 2
}
