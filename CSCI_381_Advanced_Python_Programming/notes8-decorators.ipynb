{
 "cells": [
  {
   "cell_type": "markdown",
   "metadata": {},
   "source": [
    "# DECORATORS "
   ]
  },
  {
   "cell_type": "code",
   "execution_count": 11,
   "metadata": {},
   "outputs": [
    {
     "name": "stdout",
     "output_type": "stream",
     "text": [
      "4\n",
      "9\n"
     ]
    }
   ],
   "source": [
    "# Recall a function that defines a function inside\n",
    "\n",
    "def f1(x):\n",
    "    def f2(z):\n",
    "        return z * z \n",
    "    return f2(x)\n",
    "\n",
    "func = f1(2)\n",
    "print(func)\n",
    "\n",
    "func2 = f1\n",
    "print(func2(3))"
   ]
  },
  {
   "cell_type": "code",
   "execution_count": 12,
   "metadata": {},
   "outputs": [
    {
     "name": "stdout",
     "output_type": "stream",
     "text": [
      "HELLO\n",
      "HELLO\n"
     ]
    }
   ],
   "source": [
    "# Python program to illustrate functions \n",
    "# can be treated as objects \n",
    "def shout(text): \n",
    "\treturn text.upper() \n",
    "\n",
    "print(shout('Hello')) \n",
    "\n",
    "yell = shout \n",
    "\n",
    "print(yell('Hello')) \n"
   ]
  },
  {
   "cell_type": "code",
   "execution_count": 15,
   "metadata": {},
   "outputs": [
    {
     "name": "stdout",
     "output_type": "stream",
     "text": [
      "HI, I AM CREATED BY A FUNCTION PASSED AS AN ARGUMENT.\n"
     ]
    }
   ],
   "source": [
    "# Python program to illustrate functions \n",
    "# can be passed as arguments to other functions \n",
    "def shout(text): \n",
    "\treturn text.upper() \n",
    "\n",
    "def whisper(text): \n",
    "\treturn text.lower() \n",
    "\n",
    "def greet(func): \n",
    "\t# storing the function in a variable \n",
    "\tgreeting = func(\"\"\"Hi, I am created by a function passed as an argument.\"\"\") \n",
    "\tprint (greeting) \n",
    "\n",
    "greet(shout)\n"
   ]
  },
  {
   "cell_type": "code",
   "execution_count": 17,
   "metadata": {},
   "outputs": [
    {
     "name": "stdout",
     "output_type": "stream",
     "text": [
      "10\n"
     ]
    }
   ],
   "source": [
    "# Python program to illustrate functions \n",
    "# Functions can return another function \n",
    "\n",
    "def create_adder(x): \n",
    "\tdef adder(y): \n",
    "\t\treturn x+y \n",
    "\n",
    "\treturn adder \n",
    "\n",
    "# Instantiate the returned function (y = 10) \n",
    "add_10 = create_adder(10)\n",
    "# we pass x=0 to the decorator function +\n",
    "print(add_10(0))\n"
   ]
  },
  {
   "cell_type": "code",
   "execution_count": 20,
   "metadata": {},
   "outputs": [
    {
     "name": "stdout",
     "output_type": "stream",
     "text": [
      "Function is about to be called\n",
      "Doing something important!\n",
      "Function has been called\n"
     ]
    }
   ],
   "source": [
    "def do_something():\n",
    "    print(\"Doing something important!\")\n",
    "\n",
    "def logging_wrapper(func):\n",
    "    def wrapped_function():\n",
    "        print(\"Function is about to be called\")\n",
    "        func()\n",
    "        print(\"Function has been called\")\n",
    "    return wrapped_function\n",
    "\n",
    "do_something = logging_wrapper(do_something)\n",
    "\n",
    "do_something()\n",
    "\n",
    "'''\n",
    "do_something is defined as a function that prints\n",
    "\n",
    "- logging_wrapper wraps and returns wrapped_function()\n",
    "- now we pass do_something() to logging_wrapper()\n",
    "    - here do_something is modified without doing anything to its code\n",
    "- we then store it to a variable \n",
    "''' "
   ]
  },
  {
   "cell_type": "markdown",
   "metadata": {},
   "source": [
    "## FUNCTION LOGGING USING DECORATORS"
   ]
  },
  {
   "cell_type": "code",
   "execution_count": 22,
   "metadata": {},
   "outputs": [
    {
     "name": "stdout",
     "output_type": "stream",
     "text": [
      "3628800\n",
      "Total time taken in :  factorial 2.0008656978607178\n"
     ]
    }
   ],
   "source": [
    "import time\n",
    "import math\n",
    "\n",
    "# Decorator to calculate duration taken by any function.\n",
    "def calculate_time(func):\n",
    "    def inner1(*args, **kwargs):\n",
    "        begin = time.time()\n",
    "        func(*args, **kwargs)\n",
    "        end = time.time()\n",
    "        print(\"Total time taken in : \", func.__name__, end - begin)\n",
    "    return inner1\n",
    "\n",
    "# Function to calculate factorial\n",
    "def factorial(num):\n",
    "    time.sleep(2)  # Sleep for demonstration purposes\n",
    "    print(math.factorial(num))\n",
    "\n",
    "\n",
    "factorial_decorator = calculate_time(factorial)\n",
    "factorial_decorator(10)"
   ]
  },
  {
   "cell_type": "markdown",
   "metadata": {},
   "source": [
    "## DECORATOR WITH RETURN VALUES"
   ]
  },
  {
   "cell_type": "code",
   "execution_count": 26,
   "metadata": {},
   "outputs": [
    {
     "name": "stdout",
     "output_type": "stream",
     "text": [
      "before Execution\n",
      "Inside the function\n",
      "after Execution\n",
      "3\n"
     ]
    }
   ],
   "source": [
    "def hello_decorator(func):\n",
    "    def inner1(*args, **kwargs):\n",
    "        print(\"before Execution\")\n",
    "        returned_value = func(*args, **kwargs)\n",
    "        print(\"after Execution\")\n",
    "        return returned_value\n",
    "    return inner1\n",
    "\n",
    "def sum_two_numbers(a, b):\n",
    "    print(\"Inside the function\")\n",
    "    return a + b\n",
    "\n",
    "\n",
    "sum_two_nums = hello_decorator(sum_two_numbers)\n",
    "print(sum_two_nums(1, 2))"
   ]
  },
  {
   "cell_type": "code",
   "execution_count": 32,
   "metadata": {},
   "outputs": [
    {
     "name": "stdout",
     "output_type": "stream",
     "text": [
      "Calling function add_numbers\n",
      "Finished calling function add_numbers\n",
      "5\n",
      "\n",
      "Calling function add_numbers\n",
      "Finished calling function add_numbers\n",
      "5\n"
     ]
    }
   ],
   "source": [
    "# This is the decorator function\n",
    "def log_function_call(func):\n",
    "    def wrapper(*args, **kwargs):\n",
    "        print(f\"Calling function {func.__name__}\")\n",
    "        result = func(*args, **kwargs)\n",
    "        print(f\"Finished calling function {func.__name__}\")\n",
    "        return result\n",
    "    return wrapper\n",
    "\n",
    "# This says that the log_function_call function will \"decorate\" the add function\n",
    "@log_function_call\n",
    "def add_numbers(x, y):\n",
    "    return x + y\n",
    "\n",
    "# Now you call add_number(2,3)\n",
    "result = add_numbers(2, 3)\n",
    "print(result)\n",
    "\n",
    "print()\n",
    "\n",
    "# This is equivalent to\n",
    "result1 = add_numbers(2, 3)\n",
    "print(result1)"
   ]
  }
 ],
 "metadata": {
  "kernelspec": {
   "display_name": "Python 3",
   "language": "python",
   "name": "python3"
  },
  "language_info": {
   "codemirror_mode": {
    "name": "ipython",
    "version": 3
   },
   "file_extension": ".py",
   "mimetype": "text/x-python",
   "name": "python",
   "nbconvert_exporter": "python",
   "pygments_lexer": "ipython3",
   "version": "3.12.1"
  }
 },
 "nbformat": 4,
 "nbformat_minor": 2
}
